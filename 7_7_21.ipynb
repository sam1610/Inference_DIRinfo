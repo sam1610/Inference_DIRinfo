{
  "nbformat": 4,
  "nbformat_minor": 0,
  "metadata": {
    "colab": {
      "name": "7-7-21.ipynb",
      "provenance": [],
      "collapsed_sections": [
        "DRZ6WkE3n1D1",
        "i0tyT0HXV6Ph",
        "3Rmmb_lSRFqK",
        "A9G8SNC1O-fL",
        "sNsHFqK_QWeV",
        "f5tBct2XZDWe",
        "riEnovF6Zlby",
        "38vV0zLxkgSz",
        "ST9xpUUMoDsv",
        "lT8hkF0GZmi0",
        "-Rk_4Bv9WxWb",
        "mODye3CkyDIh",
        "0CXKXa9h8DwK",
        "m_2fGg7FBXx5",
        "rxJumxSTO7S9",
        "FVvSwD7WnbM9"
      ],
      "include_colab_link": true
    },
    "kernelspec": {
      "display_name": "Python 3",
      "name": "python3"
    },
    "language_info": {
      "name": "python"
    },
    "widgets": {
      "application/vnd.jupyter.widget-state+json": {
        "1c596bd940f1444a89205d5e3d04236b": {
          "model_module": "@jupyter-widgets/controls",
          "model_name": "VBoxModel",
          "state": {
            "_view_name": "VBoxView",
            "_dom_classes": [
              "widget-interact"
            ],
            "_model_name": "VBoxModel",
            "_view_module": "@jupyter-widgets/controls",
            "_model_module_version": "1.5.0",
            "_view_count": null,
            "_view_module_version": "1.5.0",
            "box_style": "",
            "layout": "IPY_MODEL_e61b11e7ff654e87bc719b30d4f1cac7",
            "_model_module": "@jupyter-widgets/controls",
            "children": [
              "IPY_MODEL_3cd036ced45745179ee092a8e6a490cf",
              "IPY_MODEL_15f90eee026c4fd6bdb3c8823a6743d3",
              "IPY_MODEL_c17573774170483384ccadb6d7a71eab",
              "IPY_MODEL_027daf70628b47a1b18788a1015e00d7"
            ]
          }
        },
        "e61b11e7ff654e87bc719b30d4f1cac7": {
          "model_module": "@jupyter-widgets/base",
          "model_name": "LayoutModel",
          "state": {
            "_view_name": "LayoutView",
            "grid_template_rows": null,
            "right": null,
            "justify_content": null,
            "_view_module": "@jupyter-widgets/base",
            "overflow": null,
            "_model_module_version": "1.2.0",
            "_view_count": null,
            "flex_flow": null,
            "width": null,
            "min_width": null,
            "border": null,
            "align_items": null,
            "bottom": null,
            "_model_module": "@jupyter-widgets/base",
            "top": null,
            "grid_column": null,
            "overflow_y": null,
            "overflow_x": null,
            "grid_auto_flow": null,
            "grid_area": null,
            "grid_template_columns": null,
            "flex": null,
            "_model_name": "LayoutModel",
            "justify_items": null,
            "grid_row": null,
            "max_height": null,
            "align_content": null,
            "visibility": null,
            "align_self": null,
            "height": null,
            "min_height": null,
            "padding": null,
            "grid_auto_rows": null,
            "grid_gap": null,
            "max_width": null,
            "order": null,
            "_view_module_version": "1.2.0",
            "grid_template_areas": null,
            "object_position": null,
            "object_fit": null,
            "grid_auto_columns": null,
            "margin": null,
            "display": null,
            "left": null
          }
        },
        "3cd036ced45745179ee092a8e6a490cf": {
          "model_module": "@jupyter-widgets/controls",
          "model_name": "DropdownModel",
          "state": {
            "_options_labels": [
              "070877232S",
              "090595032S",
              "100909663S",
              "090349526S",
              "070270034S"
            ],
            "_view_name": "DropdownView",
            "style": "IPY_MODEL_dc51cbd0f8014e8788323ba942ae3fbb",
            "_dom_classes": [],
            "description": "st",
            "_model_name": "DropdownModel",
            "index": 3,
            "_view_module": "@jupyter-widgets/controls",
            "_model_module_version": "1.5.0",
            "_view_count": null,
            "disabled": false,
            "_view_module_version": "1.5.0",
            "description_tooltip": null,
            "_model_module": "@jupyter-widgets/controls",
            "layout": "IPY_MODEL_51ce886d4f2c4b7c85a50be24bbef749"
          }
        },
        "15f90eee026c4fd6bdb3c8823a6743d3": {
          "model_module": "@jupyter-widgets/controls",
          "model_name": "DropdownModel",
          "state": {
            "_options_labels": [
              "g8_1",
              "g8_3",
              "g8_2"
            ],
            "_view_name": "DropdownView",
            "style": "IPY_MODEL_bf8e12dc66574f8bb0851383c8cc7241",
            "_dom_classes": [],
            "description": "cs",
            "_model_name": "DropdownModel",
            "index": 1,
            "_view_module": "@jupyter-widgets/controls",
            "_model_module_version": "1.5.0",
            "_view_count": null,
            "disabled": false,
            "_view_module_version": "1.5.0",
            "description_tooltip": null,
            "_model_module": "@jupyter-widgets/controls",
            "layout": "IPY_MODEL_3d928f5910dd4f118709d2968c802045"
          }
        },
        "c17573774170483384ccadb6d7a71eab": {
          "model_module": "@jupyter-widgets/controls",
          "model_name": "CheckboxModel",
          "state": {
            "_view_name": "CheckboxView",
            "style": "IPY_MODEL_c040be4b55a048bba04d73d0163f6d61",
            "_dom_classes": [],
            "description": "Quizz/Assignment",
            "_model_name": "CheckboxModel",
            "_view_module": "@jupyter-widgets/controls",
            "_model_module_version": "1.5.0",
            "value": true,
            "_view_count": null,
            "disabled": false,
            "_view_module_version": "1.5.0",
            "indent": true,
            "description_tooltip": null,
            "_model_module": "@jupyter-widgets/controls",
            "layout": "IPY_MODEL_11f483b888a04c1ab8695a173125f1c1"
          }
        },
        "027daf70628b47a1b18788a1015e00d7": {
          "model_module": "@jupyter-widgets/output",
          "model_name": "OutputModel",
          "state": {
            "_view_name": "OutputView",
            "msg_id": "",
            "_dom_classes": [],
            "_model_name": "OutputModel",
            "outputs": [],
            "_view_module": "@jupyter-widgets/output",
            "_model_module_version": "1.0.0",
            "_view_count": null,
            "_view_module_version": "1.0.0",
            "layout": "IPY_MODEL_5d544abaef464c4d88a7bde948ecfb05",
            "_model_module": "@jupyter-widgets/output"
          }
        },
        "dc51cbd0f8014e8788323ba942ae3fbb": {
          "model_module": "@jupyter-widgets/controls",
          "model_name": "DescriptionStyleModel",
          "state": {
            "_view_name": "StyleView",
            "_model_name": "DescriptionStyleModel",
            "description_width": "",
            "_view_module": "@jupyter-widgets/base",
            "_model_module_version": "1.5.0",
            "_view_count": null,
            "_view_module_version": "1.2.0",
            "_model_module": "@jupyter-widgets/controls"
          }
        },
        "51ce886d4f2c4b7c85a50be24bbef749": {
          "model_module": "@jupyter-widgets/base",
          "model_name": "LayoutModel",
          "state": {
            "_view_name": "LayoutView",
            "grid_template_rows": null,
            "right": null,
            "justify_content": null,
            "_view_module": "@jupyter-widgets/base",
            "overflow": null,
            "_model_module_version": "1.2.0",
            "_view_count": null,
            "flex_flow": null,
            "width": null,
            "min_width": null,
            "border": null,
            "align_items": null,
            "bottom": null,
            "_model_module": "@jupyter-widgets/base",
            "top": null,
            "grid_column": null,
            "overflow_y": null,
            "overflow_x": null,
            "grid_auto_flow": null,
            "grid_area": null,
            "grid_template_columns": null,
            "flex": null,
            "_model_name": "LayoutModel",
            "justify_items": null,
            "grid_row": null,
            "max_height": null,
            "align_content": null,
            "visibility": null,
            "align_self": null,
            "height": null,
            "min_height": null,
            "padding": null,
            "grid_auto_rows": null,
            "grid_gap": null,
            "max_width": null,
            "order": null,
            "_view_module_version": "1.2.0",
            "grid_template_areas": null,
            "object_position": null,
            "object_fit": null,
            "grid_auto_columns": null,
            "margin": null,
            "display": null,
            "left": null
          }
        },
        "bf8e12dc66574f8bb0851383c8cc7241": {
          "model_module": "@jupyter-widgets/controls",
          "model_name": "DescriptionStyleModel",
          "state": {
            "_view_name": "StyleView",
            "_model_name": "DescriptionStyleModel",
            "description_width": "",
            "_view_module": "@jupyter-widgets/base",
            "_model_module_version": "1.5.0",
            "_view_count": null,
            "_view_module_version": "1.2.0",
            "_model_module": "@jupyter-widgets/controls"
          }
        },
        "3d928f5910dd4f118709d2968c802045": {
          "model_module": "@jupyter-widgets/base",
          "model_name": "LayoutModel",
          "state": {
            "_view_name": "LayoutView",
            "grid_template_rows": null,
            "right": null,
            "justify_content": null,
            "_view_module": "@jupyter-widgets/base",
            "overflow": null,
            "_model_module_version": "1.2.0",
            "_view_count": null,
            "flex_flow": null,
            "width": null,
            "min_width": null,
            "border": null,
            "align_items": null,
            "bottom": null,
            "_model_module": "@jupyter-widgets/base",
            "top": null,
            "grid_column": null,
            "overflow_y": null,
            "overflow_x": null,
            "grid_auto_flow": null,
            "grid_area": null,
            "grid_template_columns": null,
            "flex": null,
            "_model_name": "LayoutModel",
            "justify_items": null,
            "grid_row": null,
            "max_height": null,
            "align_content": null,
            "visibility": null,
            "align_self": null,
            "height": null,
            "min_height": null,
            "padding": null,
            "grid_auto_rows": null,
            "grid_gap": null,
            "max_width": null,
            "order": null,
            "_view_module_version": "1.2.0",
            "grid_template_areas": null,
            "object_position": null,
            "object_fit": null,
            "grid_auto_columns": null,
            "margin": null,
            "display": null,
            "left": null
          }
        },
        "c040be4b55a048bba04d73d0163f6d61": {
          "model_module": "@jupyter-widgets/controls",
          "model_name": "DescriptionStyleModel",
          "state": {
            "_view_name": "StyleView",
            "_model_name": "DescriptionStyleModel",
            "description_width": "",
            "_view_module": "@jupyter-widgets/base",
            "_model_module_version": "1.5.0",
            "_view_count": null,
            "_view_module_version": "1.2.0",
            "_model_module": "@jupyter-widgets/controls"
          }
        },
        "11f483b888a04c1ab8695a173125f1c1": {
          "model_module": "@jupyter-widgets/base",
          "model_name": "LayoutModel",
          "state": {
            "_view_name": "LayoutView",
            "grid_template_rows": null,
            "right": null,
            "justify_content": null,
            "_view_module": "@jupyter-widgets/base",
            "overflow": null,
            "_model_module_version": "1.2.0",
            "_view_count": null,
            "flex_flow": null,
            "width": null,
            "min_width": null,
            "border": null,
            "align_items": null,
            "bottom": null,
            "_model_module": "@jupyter-widgets/base",
            "top": null,
            "grid_column": null,
            "overflow_y": null,
            "overflow_x": null,
            "grid_auto_flow": null,
            "grid_area": null,
            "grid_template_columns": null,
            "flex": null,
            "_model_name": "LayoutModel",
            "justify_items": null,
            "grid_row": null,
            "max_height": null,
            "align_content": null,
            "visibility": null,
            "align_self": null,
            "height": null,
            "min_height": null,
            "padding": null,
            "grid_auto_rows": null,
            "grid_gap": null,
            "max_width": null,
            "order": null,
            "_view_module_version": "1.2.0",
            "grid_template_areas": null,
            "object_position": null,
            "object_fit": null,
            "grid_auto_columns": null,
            "margin": null,
            "display": null,
            "left": null
          }
        },
        "5d544abaef464c4d88a7bde948ecfb05": {
          "model_module": "@jupyter-widgets/base",
          "model_name": "LayoutModel",
          "state": {
            "_view_name": "LayoutView",
            "grid_template_rows": null,
            "right": null,
            "justify_content": null,
            "_view_module": "@jupyter-widgets/base",
            "overflow": null,
            "_model_module_version": "1.2.0",
            "_view_count": null,
            "flex_flow": null,
            "width": null,
            "min_width": null,
            "border": null,
            "align_items": null,
            "bottom": null,
            "_model_module": "@jupyter-widgets/base",
            "top": null,
            "grid_column": null,
            "overflow_y": null,
            "overflow_x": null,
            "grid_auto_flow": null,
            "grid_area": null,
            "grid_template_columns": null,
            "flex": null,
            "_model_name": "LayoutModel",
            "justify_items": null,
            "grid_row": null,
            "max_height": null,
            "align_content": null,
            "visibility": null,
            "align_self": null,
            "height": null,
            "min_height": null,
            "padding": null,
            "grid_auto_rows": null,
            "grid_gap": null,
            "max_width": null,
            "order": null,
            "_view_module_version": "1.2.0",
            "grid_template_areas": null,
            "object_position": null,
            "object_fit": null,
            "grid_auto_columns": null,
            "margin": null,
            "display": null,
            "left": null
          }
        },
        "b9d4c982badd4d4a81261bd30b251cdb": {
          "model_module": "@jupyter-widgets/controls",
          "model_name": "VBoxModel",
          "state": {
            "_view_name": "VBoxView",
            "_dom_classes": [
              "widget-interact"
            ],
            "_model_name": "VBoxModel",
            "_view_module": "@jupyter-widgets/controls",
            "_model_module_version": "1.5.0",
            "_view_count": null,
            "_view_module_version": "1.5.0",
            "box_style": "",
            "layout": "IPY_MODEL_f2a3a6ead49c4b1eae01403b48097c27",
            "_model_module": "@jupyter-widgets/controls",
            "children": [
              "IPY_MODEL_3cd036ced45745179ee092a8e6a490cf",
              "IPY_MODEL_15f90eee026c4fd6bdb3c8823a6743d3",
              "IPY_MODEL_c17573774170483384ccadb6d7a71eab",
              "IPY_MODEL_b574e0c257934d8e888c0b80f8e97f07"
            ]
          }
        },
        "f2a3a6ead49c4b1eae01403b48097c27": {
          "model_module": "@jupyter-widgets/base",
          "model_name": "LayoutModel",
          "state": {
            "_view_name": "LayoutView",
            "grid_template_rows": null,
            "right": null,
            "justify_content": null,
            "_view_module": "@jupyter-widgets/base",
            "overflow": null,
            "_model_module_version": "1.2.0",
            "_view_count": null,
            "flex_flow": null,
            "width": null,
            "min_width": null,
            "border": null,
            "align_items": null,
            "bottom": null,
            "_model_module": "@jupyter-widgets/base",
            "top": null,
            "grid_column": null,
            "overflow_y": null,
            "overflow_x": null,
            "grid_auto_flow": null,
            "grid_area": null,
            "grid_template_columns": null,
            "flex": null,
            "_model_name": "LayoutModel",
            "justify_items": null,
            "grid_row": null,
            "max_height": null,
            "align_content": null,
            "visibility": null,
            "align_self": null,
            "height": null,
            "min_height": null,
            "padding": null,
            "grid_auto_rows": null,
            "grid_gap": null,
            "max_width": null,
            "order": null,
            "_view_module_version": "1.2.0",
            "grid_template_areas": null,
            "object_position": null,
            "object_fit": null,
            "grid_auto_columns": null,
            "margin": null,
            "display": null,
            "left": null
          }
        },
        "b574e0c257934d8e888c0b80f8e97f07": {
          "model_module": "@jupyter-widgets/output",
          "model_name": "OutputModel",
          "state": {
            "_view_name": "OutputView",
            "msg_id": "",
            "_dom_classes": [],
            "_model_name": "OutputModel",
            "outputs": [
              {
                "output_type": "stream",
                "metadata": {
                  "tags": []
                },
                "text": "1\n",
                "stream": "stdout"
              },
              {
                "output_type": "display_data",
                "metadata": {
                  "tags": [],
                  "needs_background": "light"
                },
                "image/png": "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\n",
                "text/plain": "<Figure size 720x720 with 2 Axes>"
              }
            ],
            "_view_module": "@jupyter-widgets/output",
            "_model_module_version": "1.0.0",
            "_view_count": null,
            "_view_module_version": "1.0.0",
            "layout": "IPY_MODEL_7d5261fdcf944da6add18e655d9e98c0",
            "_model_module": "@jupyter-widgets/output"
          }
        },
        "7d5261fdcf944da6add18e655d9e98c0": {
          "model_module": "@jupyter-widgets/base",
          "model_name": "LayoutModel",
          "state": {
            "_view_name": "LayoutView",
            "grid_template_rows": null,
            "right": null,
            "justify_content": null,
            "_view_module": "@jupyter-widgets/base",
            "overflow": null,
            "_model_module_version": "1.2.0",
            "_view_count": null,
            "flex_flow": null,
            "width": null,
            "min_width": null,
            "border": null,
            "align_items": null,
            "bottom": null,
            "_model_module": "@jupyter-widgets/base",
            "top": null,
            "grid_column": null,
            "overflow_y": null,
            "overflow_x": null,
            "grid_auto_flow": null,
            "grid_area": null,
            "grid_template_columns": null,
            "flex": null,
            "_model_name": "LayoutModel",
            "justify_items": null,
            "grid_row": null,
            "max_height": null,
            "align_content": null,
            "visibility": null,
            "align_self": null,
            "height": null,
            "min_height": null,
            "padding": null,
            "grid_auto_rows": null,
            "grid_gap": null,
            "max_width": null,
            "order": null,
            "_view_module_version": "1.2.0",
            "grid_template_areas": null,
            "object_position": null,
            "object_fit": null,
            "grid_auto_columns": null,
            "margin": null,
            "display": null,
            "left": null
          }
        },
        "de504e2573a44587b649447c3fe2fd9c": {
          "model_module": "@jupyter-widgets/controls",
          "model_name": "VBoxModel",
          "state": {
            "_view_name": "VBoxView",
            "_dom_classes": [
              "widget-interact"
            ],
            "_model_name": "VBoxModel",
            "_view_module": "@jupyter-widgets/controls",
            "_model_module_version": "1.5.0",
            "_view_count": null,
            "_view_module_version": "1.5.0",
            "box_style": "",
            "layout": "IPY_MODEL_854767d776ba4366a0b2035a6bd86f5f",
            "_model_module": "@jupyter-widgets/controls",
            "children": [
              "IPY_MODEL_06fe2152fb1e45fc92f49e124902e23d",
              "IPY_MODEL_6248450ce5354f49b1115eab7f437129"
            ]
          }
        },
        "854767d776ba4366a0b2035a6bd86f5f": {
          "model_module": "@jupyter-widgets/base",
          "model_name": "LayoutModel",
          "state": {
            "_view_name": "LayoutView",
            "grid_template_rows": null,
            "right": null,
            "justify_content": null,
            "_view_module": "@jupyter-widgets/base",
            "overflow": null,
            "_model_module_version": "1.2.0",
            "_view_count": null,
            "flex_flow": null,
            "width": null,
            "min_width": null,
            "border": null,
            "align_items": null,
            "bottom": null,
            "_model_module": "@jupyter-widgets/base",
            "top": null,
            "grid_column": null,
            "overflow_y": null,
            "overflow_x": null,
            "grid_auto_flow": null,
            "grid_area": null,
            "grid_template_columns": null,
            "flex": null,
            "_model_name": "LayoutModel",
            "justify_items": null,
            "grid_row": null,
            "max_height": null,
            "align_content": null,
            "visibility": null,
            "align_self": null,
            "height": null,
            "min_height": null,
            "padding": null,
            "grid_auto_rows": null,
            "grid_gap": null,
            "max_width": null,
            "order": null,
            "_view_module_version": "1.2.0",
            "grid_template_areas": null,
            "object_position": null,
            "object_fit": null,
            "grid_auto_columns": null,
            "margin": null,
            "display": null,
            "left": null
          }
        },
        "06fe2152fb1e45fc92f49e124902e23d": {
          "model_module": "@jupyter-widgets/controls",
          "model_name": "DropdownModel",
          "state": {
            "_options_labels": [
              "g7_3",
              "g5_1",
              "g5_2",
              "g5_3",
              "g6_1",
              "g6_3",
              "g6_2",
              "g9_2",
              "g9_3",
              "g9_1",
              "g7_1",
              "g7_2",
              "g8_3",
              "g8_1",
              "g8_2"
            ],
            "_view_name": "DropdownView",
            "style": "IPY_MODEL_451f26b6fe544223ac3a646514887c83",
            "_dom_classes": [],
            "description": "sbj",
            "_model_name": "DropdownModel",
            "index": 0,
            "_view_module": "@jupyter-widgets/controls",
            "_model_module_version": "1.5.0",
            "_view_count": null,
            "disabled": false,
            "_view_module_version": "1.5.0",
            "description_tooltip": null,
            "_model_module": "@jupyter-widgets/controls",
            "layout": "IPY_MODEL_998973331f76479a9b7d50125fae9c38"
          }
        },
        "6248450ce5354f49b1115eab7f437129": {
          "model_module": "@jupyter-widgets/output",
          "model_name": "OutputModel",
          "state": {
            "_view_name": "OutputView",
            "msg_id": "",
            "_dom_classes": [],
            "_model_name": "OutputModel",
            "outputs": [
              {
                "output_type": "display_data",
                "metadata": {
                  "tags": []
                },
                "text/html": "<html>\n<head><meta charset=\"utf-8\" /></head>\n<body>\n    <div>            <script src=\"https://cdnjs.cloudflare.com/ajax/libs/mathjax/2.7.5/MathJax.js?config=TeX-AMS-MML_SVG\"></script><script type=\"text/javascript\">if (window.MathJax) {MathJax.Hub.Config({SVG: {font: \"STIX-Web\"}});}</script>                <script type=\"text/javascript\">window.PlotlyConfig = {MathJaxConfig: 'local'};</script>\n        <script src=\"https://cdn.plot.ly/plotly-2.2.0.min.js\"></script>                <div id=\"fb60965d-a759-43c4-9108-5fa53db8d76f\" class=\"plotly-graph-div\" style=\"height:600px; width:1200px;\"></div>            <script type=\"text/javascript\">                                    window.PLOTLYENV=window.PLOTLYENV || {};                                    if (document.getElementById(\"fb60965d-a759-43c4-9108-5fa53db8d76f\")) {                    Plotly.newPlot(                        \"fb60965d-a759-43c4-9108-5fa53db8d76f\",                        [{\"mode\":\"lines+markers\",\"name\":\"Quiz\",\"type\":\"scatter\",\"x\":[],\"y\":[]},{\"line\":{\"shape\":\"vhv\"},\"name\":\"Assignment\",\"type\":\"scatter\",\"x\":[],\"y\":[]}],                        {\"autosize\":false,\"height\":600,\"hovermode\":\"x\",\"template\":{\"data\":{\"bar\":[{\"error_x\":{\"color\":\"#2a3f5f\"},\"error_y\":{\"color\":\"#2a3f5f\"},\"marker\":{\"line\":{\"color\":\"#E5ECF6\",\"width\":0.5},\"pattern\":{\"fillmode\":\"overlay\",\"size\":10,\"solidity\":0.2}},\"type\":\"bar\"}],\"barpolar\":[{\"marker\":{\"line\":{\"color\":\"#E5ECF6\",\"width\":0.5},\"pattern\":{\"fillmode\":\"overlay\",\"size\":10,\"solidity\":0.2}},\"type\":\"barpolar\"}],\"carpet\":[{\"aaxis\":{\"endlinecolor\":\"#2a3f5f\",\"gridcolor\":\"white\",\"linecolor\":\"white\",\"minorgridcolor\":\"white\",\"startlinecolor\":\"#2a3f5f\"},\"baxis\":{\"endlinecolor\":\"#2a3f5f\",\"gridcolor\":\"white\",\"linecolor\":\"white\",\"minorgridcolor\":\"white\",\"startlinecolor\":\"#2a3f5f\"},\"type\":\"carpet\"}],\"choropleth\":[{\"colorbar\":{\"outlinewidth\":0,\"ticks\":\"\"},\"type\":\"choropleth\"}],\"contour\":[{\"colorbar\":{\"outlinewidth\":0,\"ticks\":\"\"},\"colorscale\":[[0.0,\"#0d0887\"],[0.1111111111111111,\"#46039f\"],[0.2222222222222222,\"#7201a8\"],[0.3333333333333333,\"#9c179e\"],[0.4444444444444444,\"#bd3786\"],[0.5555555555555556,\"#d8576b\"],[0.6666666666666666,\"#ed7953\"],[0.7777777777777778,\"#fb9f3a\"],[0.8888888888888888,\"#fdca26\"],[1.0,\"#f0f921\"]],\"type\":\"contour\"}],\"contourcarpet\":[{\"colorbar\":{\"outlinewidth\":0,\"ticks\":\"\"},\"type\":\"contourcarpet\"}],\"heatmap\":[{\"colorbar\":{\"outlinewidth\":0,\"ticks\":\"\"},\"colorscale\":[[0.0,\"#0d0887\"],[0.1111111111111111,\"#46039f\"],[0.2222222222222222,\"#7201a8\"],[0.3333333333333333,\"#9c179e\"],[0.4444444444444444,\"#bd3786\"],[0.5555555555555556,\"#d8576b\"],[0.6666666666666666,\"#ed7953\"],[0.7777777777777778,\"#fb9f3a\"],[0.8888888888888888,\"#fdca26\"],[1.0,\"#f0f921\"]],\"type\":\"heatmap\"}],\"heatmapgl\":[{\"colorbar\":{\"outlinewidth\":0,\"ticks\":\"\"},\"colorscale\":[[0.0,\"#0d0887\"],[0.1111111111111111,\"#46039f\"],[0.2222222222222222,\"#7201a8\"],[0.3333333333333333,\"#9c179e\"],[0.4444444444444444,\"#bd3786\"],[0.5555555555555556,\"#d8576b\"],[0.6666666666666666,\"#ed7953\"],[0.7777777777777778,\"#fb9f3a\"],[0.8888888888888888,\"#fdca26\"],[1.0,\"#f0f921\"]],\"type\":\"heatmapgl\"}],\"histogram\":[{\"marker\":{\"pattern\":{\"fillmode\":\"overlay\",\"size\":10,\"solidity\":0.2}},\"type\":\"histogram\"}],\"histogram2d\":[{\"colorbar\":{\"outlinewidth\":0,\"ticks\":\"\"},\"colorscale\":[[0.0,\"#0d0887\"],[0.1111111111111111,\"#46039f\"],[0.2222222222222222,\"#7201a8\"],[0.3333333333333333,\"#9c179e\"],[0.4444444444444444,\"#bd3786\"],[0.5555555555555556,\"#d8576b\"],[0.6666666666666666,\"#ed7953\"],[0.7777777777777778,\"#fb9f3a\"],[0.8888888888888888,\"#fdca26\"],[1.0,\"#f0f921\"]],\"type\":\"histogram2d\"}],\"histogram2dcontour\":[{\"colorbar\":{\"outlinewidth\":0,\"ticks\":\"\"},\"colorscale\":[[0.0,\"#0d0887\"],[0.1111111111111111,\"#46039f\"],[0.2222222222222222,\"#7201a8\"],[0.3333333333333333,\"#9c179e\"],[0.4444444444444444,\"#bd3786\"],[0.5555555555555556,\"#d8576b\"],[0.6666666666666666,\"#ed7953\"],[0.7777777777777778,\"#fb9f3a\"],[0.8888888888888888,\"#fdca26\"],[1.0,\"#f0f921\"]],\"type\":\"histogram2dcontour\"}],\"mesh3d\":[{\"colorbar\":{\"outlinewidth\":0,\"ticks\":\"\"},\"type\":\"mesh3d\"}],\"parcoords\":[{\"line\":{\"colorbar\":{\"outlinewidth\":0,\"ticks\":\"\"}},\"type\":\"parcoords\"}],\"pie\":[{\"automargin\":true,\"type\":\"pie\"}],\"scatter\":[{\"marker\":{\"colorbar\":{\"outlinewidth\":0,\"ticks\":\"\"}},\"type\":\"scatter\"}],\"scatter3d\":[{\"line\":{\"colorbar\":{\"outlinewidth\":0,\"ticks\":\"\"}},\"marker\":{\"colorbar\":{\"outlinewidth\":0,\"ticks\":\"\"}},\"type\":\"scatter3d\"}],\"scattercarpet\":[{\"marker\":{\"colorbar\":{\"outlinewidth\":0,\"ticks\":\"\"}},\"type\":\"scattercarpet\"}],\"scattergeo\":[{\"marker\":{\"colorbar\":{\"outlinewidth\":0,\"ticks\":\"\"}},\"type\":\"scattergeo\"}],\"scattergl\":[{\"marker\":{\"colorbar\":{\"outlinewidth\":0,\"ticks\":\"\"}},\"type\":\"scattergl\"}],\"scattermapbox\":[{\"marker\":{\"colorbar\":{\"outlinewidth\":0,\"ticks\":\"\"}},\"type\":\"scattermapbox\"}],\"scatterpolar\":[{\"marker\":{\"colorbar\":{\"outlinewidth\":0,\"ticks\":\"\"}},\"type\":\"scatterpolar\"}],\"scatterpolargl\":[{\"marker\":{\"colorbar\":{\"outlinewidth\":0,\"ticks\":\"\"}},\"type\":\"scatterpolargl\"}],\"scatterternary\":[{\"marker\":{\"colorbar\":{\"outlinewidth\":0,\"ticks\":\"\"}},\"type\":\"scatterternary\"}],\"surface\":[{\"colorbar\":{\"outlinewidth\":0,\"ticks\":\"\"},\"colorscale\":[[0.0,\"#0d0887\"],[0.1111111111111111,\"#46039f\"],[0.2222222222222222,\"#7201a8\"],[0.3333333333333333,\"#9c179e\"],[0.4444444444444444,\"#bd3786\"],[0.5555555555555556,\"#d8576b\"],[0.6666666666666666,\"#ed7953\"],[0.7777777777777778,\"#fb9f3a\"],[0.8888888888888888,\"#fdca26\"],[1.0,\"#f0f921\"]],\"type\":\"surface\"}],\"table\":[{\"cells\":{\"fill\":{\"color\":\"#EBF0F8\"},\"line\":{\"color\":\"white\"}},\"header\":{\"fill\":{\"color\":\"#C8D4E3\"},\"line\":{\"color\":\"white\"}},\"type\":\"table\"}]},\"layout\":{\"annotationdefaults\":{\"arrowcolor\":\"#2a3f5f\",\"arrowhead\":0,\"arrowwidth\":1},\"autotypenumbers\":\"strict\",\"coloraxis\":{\"colorbar\":{\"outlinewidth\":0,\"ticks\":\"\"}},\"colorscale\":{\"diverging\":[[0,\"#8e0152\"],[0.1,\"#c51b7d\"],[0.2,\"#de77ae\"],[0.3,\"#f1b6da\"],[0.4,\"#fde0ef\"],[0.5,\"#f7f7f7\"],[0.6,\"#e6f5d0\"],[0.7,\"#b8e186\"],[0.8,\"#7fbc41\"],[0.9,\"#4d9221\"],[1,\"#276419\"]],\"sequential\":[[0.0,\"#0d0887\"],[0.1111111111111111,\"#46039f\"],[0.2222222222222222,\"#7201a8\"],[0.3333333333333333,\"#9c179e\"],[0.4444444444444444,\"#bd3786\"],[0.5555555555555556,\"#d8576b\"],[0.6666666666666666,\"#ed7953\"],[0.7777777777777778,\"#fb9f3a\"],[0.8888888888888888,\"#fdca26\"],[1.0,\"#f0f921\"]],\"sequentialminus\":[[0.0,\"#0d0887\"],[0.1111111111111111,\"#46039f\"],[0.2222222222222222,\"#7201a8\"],[0.3333333333333333,\"#9c179e\"],[0.4444444444444444,\"#bd3786\"],[0.5555555555555556,\"#d8576b\"],[0.6666666666666666,\"#ed7953\"],[0.7777777777777778,\"#fb9f3a\"],[0.8888888888888888,\"#fdca26\"],[1.0,\"#f0f921\"]]},\"colorway\":[\"#636efa\",\"#EF553B\",\"#00cc96\",\"#ab63fa\",\"#FFA15A\",\"#19d3f3\",\"#FF6692\",\"#B6E880\",\"#FF97FF\",\"#FECB52\"],\"font\":{\"color\":\"#2a3f5f\"},\"geo\":{\"bgcolor\":\"white\",\"lakecolor\":\"white\",\"landcolor\":\"#E5ECF6\",\"showlakes\":true,\"showland\":true,\"subunitcolor\":\"white\"},\"hoverlabel\":{\"align\":\"left\"},\"hovermode\":\"closest\",\"mapbox\":{\"style\":\"light\"},\"paper_bgcolor\":\"white\",\"plot_bgcolor\":\"#E5ECF6\",\"polar\":{\"angularaxis\":{\"gridcolor\":\"white\",\"linecolor\":\"white\",\"ticks\":\"\"},\"bgcolor\":\"#E5ECF6\",\"radialaxis\":{\"gridcolor\":\"white\",\"linecolor\":\"white\",\"ticks\":\"\"}},\"scene\":{\"xaxis\":{\"backgroundcolor\":\"#E5ECF6\",\"gridcolor\":\"white\",\"gridwidth\":2,\"linecolor\":\"white\",\"showbackground\":true,\"ticks\":\"\",\"zerolinecolor\":\"white\"},\"yaxis\":{\"backgroundcolor\":\"#E5ECF6\",\"gridcolor\":\"white\",\"gridwidth\":2,\"linecolor\":\"white\",\"showbackground\":true,\"ticks\":\"\",\"zerolinecolor\":\"white\"},\"zaxis\":{\"backgroundcolor\":\"#E5ECF6\",\"gridcolor\":\"white\",\"gridwidth\":2,\"linecolor\":\"white\",\"showbackground\":true,\"ticks\":\"\",\"zerolinecolor\":\"white\"}},\"shapedefaults\":{\"line\":{\"color\":\"#2a3f5f\"}},\"ternary\":{\"aaxis\":{\"gridcolor\":\"white\",\"linecolor\":\"white\",\"ticks\":\"\"},\"baxis\":{\"gridcolor\":\"white\",\"linecolor\":\"white\",\"ticks\":\"\"},\"bgcolor\":\"#E5ECF6\",\"caxis\":{\"gridcolor\":\"white\",\"linecolor\":\"white\",\"ticks\":\"\"}},\"title\":{\"x\":0.05},\"xaxis\":{\"automargin\":true,\"gridcolor\":\"white\",\"linecolor\":\"white\",\"ticks\":\"\",\"title\":{\"standoff\":15},\"zerolinecolor\":\"white\",\"zerolinewidth\":2},\"yaxis\":{\"automargin\":true,\"gridcolor\":\"white\",\"linecolor\":\"white\",\"ticks\":\"\",\"title\":{\"standoff\":15},\"zerolinecolor\":\"white\",\"zerolinewidth\":2}}},\"title\":{\"text\":\"\\u0623\\u062f\\u0627\\u0621 \\u062c\\u0645\\u064a\\u0639 \\u0627\\u0644\\u0637\\u0644\\u0628\\u0629 \\u0641\\u064a \\u0645\\u0627\\u062f\\u0629 \\u0645\\u0639\\u064a\\u0646\\u0629\",\"x\":0.5,\"xanchor\":\"center\",\"y\":0.9,\"yanchor\":\"top\"},\"width\":1200,\"xaxis\":{\"title\":{\"text\":\"Submit Time\"}},\"yaxis\":{\"title\":{\"text\":\"Mark\"}}},                        {\"responsive\": true}                    ).then(function(){\n                            \nvar gd = document.getElementById('fb60965d-a759-43c4-9108-5fa53db8d76f');\nvar x = new MutationObserver(function (mutations, observer) {{\n        var display = window.getComputedStyle(gd).display;\n        if (!display || display === 'none') {{\n            console.log([gd, 'removed!']);\n            Plotly.purge(gd);\n            observer.disconnect();\n        }}\n}});\n\n// Listen for the removal of the full notebook cells\nvar notebookContainer = gd.closest('#notebook-container');\nif (notebookContainer) {{\n    x.observe(notebookContainer, {childList: true});\n}}\n\n// Listen for the clearing of the current output cell\nvar outputEl = gd.closest('.output');\nif (outputEl) {{\n    x.observe(outputEl, {childList: true});\n}}\n\n                        })                };                            </script>        </div>\n</body>\n</html>"
              }
            ],
            "_view_module": "@jupyter-widgets/output",
            "_model_module_version": "1.0.0",
            "_view_count": null,
            "_view_module_version": "1.0.0",
            "layout": "IPY_MODEL_b473849cae544c9a84057ce25d1c46f7",
            "_model_module": "@jupyter-widgets/output"
          }
        },
        "451f26b6fe544223ac3a646514887c83": {
          "model_module": "@jupyter-widgets/controls",
          "model_name": "DescriptionStyleModel",
          "state": {
            "_view_name": "StyleView",
            "_model_name": "DescriptionStyleModel",
            "description_width": "",
            "_view_module": "@jupyter-widgets/base",
            "_model_module_version": "1.5.0",
            "_view_count": null,
            "_view_module_version": "1.2.0",
            "_model_module": "@jupyter-widgets/controls"
          }
        },
        "998973331f76479a9b7d50125fae9c38": {
          "model_module": "@jupyter-widgets/base",
          "model_name": "LayoutModel",
          "state": {
            "_view_name": "LayoutView",
            "grid_template_rows": null,
            "right": null,
            "justify_content": null,
            "_view_module": "@jupyter-widgets/base",
            "overflow": null,
            "_model_module_version": "1.2.0",
            "_view_count": null,
            "flex_flow": null,
            "width": null,
            "min_width": null,
            "border": null,
            "align_items": null,
            "bottom": null,
            "_model_module": "@jupyter-widgets/base",
            "top": null,
            "grid_column": null,
            "overflow_y": null,
            "overflow_x": null,
            "grid_auto_flow": null,
            "grid_area": null,
            "grid_template_columns": null,
            "flex": null,
            "_model_name": "LayoutModel",
            "justify_items": null,
            "grid_row": null,
            "max_height": null,
            "align_content": null,
            "visibility": null,
            "align_self": null,
            "height": null,
            "min_height": null,
            "padding": null,
            "grid_auto_rows": null,
            "grid_gap": null,
            "max_width": null,
            "order": null,
            "_view_module_version": "1.2.0",
            "grid_template_areas": null,
            "object_position": null,
            "object_fit": null,
            "grid_auto_columns": null,
            "margin": null,
            "display": null,
            "left": null
          }
        },
        "b473849cae544c9a84057ce25d1c46f7": {
          "model_module": "@jupyter-widgets/base",
          "model_name": "LayoutModel",
          "state": {
            "_view_name": "LayoutView",
            "grid_template_rows": null,
            "right": null,
            "justify_content": null,
            "_view_module": "@jupyter-widgets/base",
            "overflow": null,
            "_model_module_version": "1.2.0",
            "_view_count": null,
            "flex_flow": null,
            "width": null,
            "min_width": null,
            "border": null,
            "align_items": null,
            "bottom": null,
            "_model_module": "@jupyter-widgets/base",
            "top": null,
            "grid_column": null,
            "overflow_y": null,
            "overflow_x": null,
            "grid_auto_flow": null,
            "grid_area": null,
            "grid_template_columns": null,
            "flex": null,
            "_model_name": "LayoutModel",
            "justify_items": null,
            "grid_row": null,
            "max_height": null,
            "align_content": null,
            "visibility": null,
            "align_self": null,
            "height": null,
            "min_height": null,
            "padding": null,
            "grid_auto_rows": null,
            "grid_gap": null,
            "max_width": null,
            "order": null,
            "_view_module_version": "1.2.0",
            "grid_template_areas": null,
            "object_position": null,
            "object_fit": null,
            "grid_auto_columns": null,
            "margin": null,
            "display": null,
            "left": null
          }
        },
        "961d34218fea4e4c96f915637424171a": {
          "model_module": "@jupyter-widgets/controls",
          "model_name": "VBoxModel",
          "state": {
            "_view_name": "VBoxView",
            "_dom_classes": [
              "widget-interact"
            ],
            "_model_name": "VBoxModel",
            "_view_module": "@jupyter-widgets/controls",
            "_model_module_version": "1.5.0",
            "_view_count": null,
            "_view_module_version": "1.5.0",
            "box_style": "",
            "layout": "IPY_MODEL_dc2412769ea64d7983ffb3bd124a2e51",
            "_model_module": "@jupyter-widgets/controls",
            "children": [
              "IPY_MODEL_0eb43518afad4232a7668056dee3ee47",
              "IPY_MODEL_ad0f259cf85c4e0285168aa0ceb557a2",
              "IPY_MODEL_77a3163067954c438e1205c5f235d548"
            ]
          }
        },
        "dc2412769ea64d7983ffb3bd124a2e51": {
          "model_module": "@jupyter-widgets/base",
          "model_name": "LayoutModel",
          "state": {
            "_view_name": "LayoutView",
            "grid_template_rows": null,
            "right": null,
            "justify_content": null,
            "_view_module": "@jupyter-widgets/base",
            "overflow": null,
            "_model_module_version": "1.2.0",
            "_view_count": null,
            "flex_flow": null,
            "width": null,
            "min_width": null,
            "border": null,
            "align_items": null,
            "bottom": null,
            "_model_module": "@jupyter-widgets/base",
            "top": null,
            "grid_column": null,
            "overflow_y": null,
            "overflow_x": null,
            "grid_auto_flow": null,
            "grid_area": null,
            "grid_template_columns": null,
            "flex": null,
            "_model_name": "LayoutModel",
            "justify_items": null,
            "grid_row": null,
            "max_height": null,
            "align_content": null,
            "visibility": null,
            "align_self": null,
            "height": null,
            "min_height": null,
            "padding": null,
            "grid_auto_rows": null,
            "grid_gap": null,
            "max_width": null,
            "order": null,
            "_view_module_version": "1.2.0",
            "grid_template_areas": null,
            "object_position": null,
            "object_fit": null,
            "grid_auto_columns": null,
            "margin": null,
            "display": null,
            "left": null
          }
        },
        "0eb43518afad4232a7668056dee3ee47": {
          "model_module": "@jupyter-widgets/controls",
          "model_name": "DropdownModel",
          "state": {
            "_options_labels": [
              "101235516S",
              "100878040S",
              "060674824S",
              "090888097S",
              "080922088S"
            ],
            "_view_name": "DropdownView",
            "style": "IPY_MODEL_fb013bf5c638461d8e258d3f12381c8f",
            "_dom_classes": [],
            "description": "st",
            "_model_name": "DropdownModel",
            "index": 3,
            "_view_module": "@jupyter-widgets/controls",
            "_model_module_version": "1.5.0",
            "_view_count": null,
            "disabled": false,
            "_view_module_version": "1.5.0",
            "description_tooltip": null,
            "_model_module": "@jupyter-widgets/controls",
            "layout": "IPY_MODEL_154173d00f23408da01d27419255dbfa"
          }
        },
        "ad0f259cf85c4e0285168aa0ceb557a2": {
          "model_module": "@jupyter-widgets/controls",
          "model_name": "DropdownModel",
          "state": {
            "_options_labels": [
              "g8_1",
              "g8_3",
              "g8_2"
            ],
            "_view_name": "DropdownView",
            "style": "IPY_MODEL_65c0a39174b242e78e7525ea6bc6377a",
            "_dom_classes": [],
            "description": "cs",
            "_model_name": "DropdownModel",
            "index": 0,
            "_view_module": "@jupyter-widgets/controls",
            "_model_module_version": "1.5.0",
            "_view_count": null,
            "disabled": false,
            "_view_module_version": "1.5.0",
            "description_tooltip": null,
            "_model_module": "@jupyter-widgets/controls",
            "layout": "IPY_MODEL_30a23ce40ba24093b05b3bb4588c2cc3"
          }
        },
        "77a3163067954c438e1205c5f235d548": {
          "model_module": "@jupyter-widgets/output",
          "model_name": "OutputModel",
          "state": {
            "_view_name": "OutputView",
            "msg_id": "",
            "_dom_classes": [],
            "_model_name": "OutputModel",
            "outputs": [
              {
                "output_type": "stream",
                "metadata": {
                  "tags": []
                },
                "text": "/usr/local/lib/python3.7/dist-packages/numpy/core/_asarray.py:136: VisibleDeprecationWarning:\n\nCreating an ndarray from ragged nested sequences (which is a list-or-tuple of lists-or-tuples-or ndarrays with different lengths or shapes) is deprecated. If you meant to do this, you must specify 'dtype=object' when creating the ndarray\n\n",
                "stream": "stderr"
              },
              {
                "output_type": "display_data",
                "metadata": {
                  "tags": [],
                  "needs_background": "light"
                },
                "image/png": "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\n",
                "text/plain": "<Figure size 2160x1440 with 6 Axes>"
              }
            ],
            "_view_module": "@jupyter-widgets/output",
            "_model_module_version": "1.0.0",
            "_view_count": null,
            "_view_module_version": "1.0.0",
            "layout": "IPY_MODEL_6b11f88ca9494c9cbcb6d2f0ffe58fdd",
            "_model_module": "@jupyter-widgets/output"
          }
        },
        "fb013bf5c638461d8e258d3f12381c8f": {
          "model_module": "@jupyter-widgets/controls",
          "model_name": "DescriptionStyleModel",
          "state": {
            "_view_name": "StyleView",
            "_model_name": "DescriptionStyleModel",
            "description_width": "",
            "_view_module": "@jupyter-widgets/base",
            "_model_module_version": "1.5.0",
            "_view_count": null,
            "_view_module_version": "1.2.0",
            "_model_module": "@jupyter-widgets/controls"
          }
        },
        "154173d00f23408da01d27419255dbfa": {
          "model_module": "@jupyter-widgets/base",
          "model_name": "LayoutModel",
          "state": {
            "_view_name": "LayoutView",
            "grid_template_rows": null,
            "right": null,
            "justify_content": null,
            "_view_module": "@jupyter-widgets/base",
            "overflow": null,
            "_model_module_version": "1.2.0",
            "_view_count": null,
            "flex_flow": null,
            "width": null,
            "min_width": null,
            "border": null,
            "align_items": null,
            "bottom": null,
            "_model_module": "@jupyter-widgets/base",
            "top": null,
            "grid_column": null,
            "overflow_y": null,
            "overflow_x": null,
            "grid_auto_flow": null,
            "grid_area": null,
            "grid_template_columns": null,
            "flex": null,
            "_model_name": "LayoutModel",
            "justify_items": null,
            "grid_row": null,
            "max_height": null,
            "align_content": null,
            "visibility": null,
            "align_self": null,
            "height": null,
            "min_height": null,
            "padding": null,
            "grid_auto_rows": null,
            "grid_gap": null,
            "max_width": null,
            "order": null,
            "_view_module_version": "1.2.0",
            "grid_template_areas": null,
            "object_position": null,
            "object_fit": null,
            "grid_auto_columns": null,
            "margin": null,
            "display": null,
            "left": null
          }
        },
        "65c0a39174b242e78e7525ea6bc6377a": {
          "model_module": "@jupyter-widgets/controls",
          "model_name": "DescriptionStyleModel",
          "state": {
            "_view_name": "StyleView",
            "_model_name": "DescriptionStyleModel",
            "description_width": "",
            "_view_module": "@jupyter-widgets/base",
            "_model_module_version": "1.5.0",
            "_view_count": null,
            "_view_module_version": "1.2.0",
            "_model_module": "@jupyter-widgets/controls"
          }
        },
        "30a23ce40ba24093b05b3bb4588c2cc3": {
          "model_module": "@jupyter-widgets/base",
          "model_name": "LayoutModel",
          "state": {
            "_view_name": "LayoutView",
            "grid_template_rows": null,
            "right": null,
            "justify_content": null,
            "_view_module": "@jupyter-widgets/base",
            "overflow": null,
            "_model_module_version": "1.2.0",
            "_view_count": null,
            "flex_flow": null,
            "width": null,
            "min_width": null,
            "border": null,
            "align_items": null,
            "bottom": null,
            "_model_module": "@jupyter-widgets/base",
            "top": null,
            "grid_column": null,
            "overflow_y": null,
            "overflow_x": null,
            "grid_auto_flow": null,
            "grid_area": null,
            "grid_template_columns": null,
            "flex": null,
            "_model_name": "LayoutModel",
            "justify_items": null,
            "grid_row": null,
            "max_height": null,
            "align_content": null,
            "visibility": null,
            "align_self": null,
            "height": null,
            "min_height": null,
            "padding": null,
            "grid_auto_rows": null,
            "grid_gap": null,
            "max_width": null,
            "order": null,
            "_view_module_version": "1.2.0",
            "grid_template_areas": null,
            "object_position": null,
            "object_fit": null,
            "grid_auto_columns": null,
            "margin": null,
            "display": null,
            "left": null
          }
        },
        "6b11f88ca9494c9cbcb6d2f0ffe58fdd": {
          "model_module": "@jupyter-widgets/base",
          "model_name": "LayoutModel",
          "state": {
            "_view_name": "LayoutView",
            "grid_template_rows": null,
            "right": null,
            "justify_content": null,
            "_view_module": "@jupyter-widgets/base",
            "overflow": null,
            "_model_module_version": "1.2.0",
            "_view_count": null,
            "flex_flow": null,
            "width": null,
            "min_width": null,
            "border": null,
            "align_items": null,
            "bottom": null,
            "_model_module": "@jupyter-widgets/base",
            "top": null,
            "grid_column": null,
            "overflow_y": null,
            "overflow_x": null,
            "grid_auto_flow": null,
            "grid_area": null,
            "grid_template_columns": null,
            "flex": null,
            "_model_name": "LayoutModel",
            "justify_items": null,
            "grid_row": null,
            "max_height": null,
            "align_content": null,
            "visibility": null,
            "align_self": null,
            "height": null,
            "min_height": null,
            "padding": null,
            "grid_auto_rows": null,
            "grid_gap": null,
            "max_width": null,
            "order": null,
            "_view_module_version": "1.2.0",
            "grid_template_areas": null,
            "object_position": null,
            "object_fit": null,
            "grid_auto_columns": null,
            "margin": null,
            "display": null,
            "left": null
          }
        }
      }
    }
  },
  "cells": [
    {
      "cell_type": "markdown",
      "metadata": {
        "id": "view-in-github",
        "colab_type": "text"
      },
      "source": [
        "<a href=\"https://colab.research.google.com/github/sam1610/Inference_DIRinfo/blob/master/7_7_21.ipynb\" target=\"_parent\"><img src=\"https://colab.research.google.com/assets/colab-badge.svg\" alt=\"Open In Colab\"/></a>"
      ]
    },
    {
      "cell_type": "markdown",
      "metadata": {
        "id": "DRZ6WkE3n1D1"
      },
      "source": [
        "## Environment prepartion & libraries installation"
      ]
    },
    {
      "cell_type": "code",
      "metadata": {
        "id": "lxn3DiFRw8c9",
        "colab": {
          "base_uri": "https://localhost:8080/"
        },
        "outputId": "36dfdfa8-9078-4eff-8f88-62582eafe6b7"
      },
      "source": [
        "! pip  install -U   scikit-learn  random_timestamp ipywidgets plotly"
      ],
      "execution_count": 1,
      "outputs": [
        {
          "output_type": "stream",
          "text": [
            "Requirement already satisfied: scikit-learn in /usr/local/lib/python3.7/dist-packages (0.22.2.post1)\n",
            "Collecting scikit-learn\n",
            "  Downloading scikit_learn-0.24.2-cp37-cp37m-manylinux2010_x86_64.whl (22.3 MB)\n",
            "\u001b[K     |████████████████████████████████| 22.3 MB 62.7 MB/s \n",
            "\u001b[?25hCollecting random_timestamp\n",
            "  Downloading random_timestamp-1.1-py3-none-any.whl (15 kB)\n",
            "Requirement already satisfied: ipywidgets in /usr/local/lib/python3.7/dist-packages (7.6.3)\n",
            "Requirement already satisfied: plotly in /usr/local/lib/python3.7/dist-packages (4.4.1)\n",
            "Collecting plotly\n",
            "  Downloading plotly-5.1.0-py2.py3-none-any.whl (20.6 MB)\n",
            "\u001b[K     |████████████████████████████████| 20.6 MB 1.4 MB/s \n",
            "\u001b[?25hRequirement already satisfied: joblib>=0.11 in /usr/local/lib/python3.7/dist-packages (from scikit-learn) (1.0.1)\n",
            "Requirement already satisfied: scipy>=0.19.1 in /usr/local/lib/python3.7/dist-packages (from scikit-learn) (1.4.1)\n",
            "Collecting threadpoolctl>=2.0.0\n",
            "  Downloading threadpoolctl-2.2.0-py3-none-any.whl (12 kB)\n",
            "Requirement already satisfied: numpy>=1.13.3 in /usr/local/lib/python3.7/dist-packages (from scikit-learn) (1.19.5)\n",
            "Requirement already satisfied: widgetsnbextension~=3.5.0 in /usr/local/lib/python3.7/dist-packages (from ipywidgets) (3.5.1)\n",
            "Requirement already satisfied: jupyterlab-widgets>=1.0.0 in /usr/local/lib/python3.7/dist-packages (from ipywidgets) (1.0.0)\n",
            "Requirement already satisfied: traitlets>=4.3.1 in /usr/local/lib/python3.7/dist-packages (from ipywidgets) (5.0.5)\n",
            "Requirement already satisfied: ipython>=4.0.0 in /usr/local/lib/python3.7/dist-packages (from ipywidgets) (5.5.0)\n",
            "Requirement already satisfied: ipykernel>=4.5.1 in /usr/local/lib/python3.7/dist-packages (from ipywidgets) (4.10.1)\n",
            "Requirement already satisfied: nbformat>=4.2.0 in /usr/local/lib/python3.7/dist-packages (from ipywidgets) (5.1.3)\n",
            "Requirement already satisfied: jupyter-client in /usr/local/lib/python3.7/dist-packages (from ipykernel>=4.5.1->ipywidgets) (5.3.5)\n",
            "Requirement already satisfied: tornado>=4.0 in /usr/local/lib/python3.7/dist-packages (from ipykernel>=4.5.1->ipywidgets) (5.1.1)\n",
            "Requirement already satisfied: pygments in /usr/local/lib/python3.7/dist-packages (from ipython>=4.0.0->ipywidgets) (2.6.1)\n",
            "Requirement already satisfied: pickleshare in /usr/local/lib/python3.7/dist-packages (from ipython>=4.0.0->ipywidgets) (0.7.5)\n",
            "Requirement already satisfied: simplegeneric>0.8 in /usr/local/lib/python3.7/dist-packages (from ipython>=4.0.0->ipywidgets) (0.8.1)\n",
            "Requirement already satisfied: prompt-toolkit<2.0.0,>=1.0.4 in /usr/local/lib/python3.7/dist-packages (from ipython>=4.0.0->ipywidgets) (1.0.18)\n",
            "Requirement already satisfied: pexpect in /usr/local/lib/python3.7/dist-packages (from ipython>=4.0.0->ipywidgets) (4.8.0)\n",
            "Requirement already satisfied: setuptools>=18.5 in /usr/local/lib/python3.7/dist-packages (from ipython>=4.0.0->ipywidgets) (57.2.0)\n",
            "Requirement already satisfied: decorator in /usr/local/lib/python3.7/dist-packages (from ipython>=4.0.0->ipywidgets) (4.4.2)\n",
            "Requirement already satisfied: jsonschema!=2.5.0,>=2.4 in /usr/local/lib/python3.7/dist-packages (from nbformat>=4.2.0->ipywidgets) (2.6.0)\n",
            "Requirement already satisfied: jupyter-core in /usr/local/lib/python3.7/dist-packages (from nbformat>=4.2.0->ipywidgets) (4.7.1)\n",
            "Requirement already satisfied: ipython-genutils in /usr/local/lib/python3.7/dist-packages (from nbformat>=4.2.0->ipywidgets) (0.2.0)\n",
            "Requirement already satisfied: wcwidth in /usr/local/lib/python3.7/dist-packages (from prompt-toolkit<2.0.0,>=1.0.4->ipython>=4.0.0->ipywidgets) (0.2.5)\n",
            "Requirement already satisfied: six>=1.9.0 in /usr/local/lib/python3.7/dist-packages (from prompt-toolkit<2.0.0,>=1.0.4->ipython>=4.0.0->ipywidgets) (1.15.0)\n",
            "Requirement already satisfied: notebook>=4.4.1 in /usr/local/lib/python3.7/dist-packages (from widgetsnbextension~=3.5.0->ipywidgets) (5.3.1)\n",
            "Requirement already satisfied: nbconvert in /usr/local/lib/python3.7/dist-packages (from notebook>=4.4.1->widgetsnbextension~=3.5.0->ipywidgets) (5.6.1)\n",
            "Requirement already satisfied: Send2Trash in /usr/local/lib/python3.7/dist-packages (from notebook>=4.4.1->widgetsnbextension~=3.5.0->ipywidgets) (1.7.1)\n",
            "Requirement already satisfied: terminado>=0.8.1 in /usr/local/lib/python3.7/dist-packages (from notebook>=4.4.1->widgetsnbextension~=3.5.0->ipywidgets) (0.10.1)\n",
            "Requirement already satisfied: jinja2 in /usr/local/lib/python3.7/dist-packages (from notebook>=4.4.1->widgetsnbextension~=3.5.0->ipywidgets) (2.11.3)\n",
            "Requirement already satisfied: pyzmq>=13 in /usr/local/lib/python3.7/dist-packages (from jupyter-client->ipykernel>=4.5.1->ipywidgets) (22.1.0)\n",
            "Requirement already satisfied: python-dateutil>=2.1 in /usr/local/lib/python3.7/dist-packages (from jupyter-client->ipykernel>=4.5.1->ipywidgets) (2.8.1)\n",
            "Requirement already satisfied: ptyprocess in /usr/local/lib/python3.7/dist-packages (from terminado>=0.8.1->notebook>=4.4.1->widgetsnbextension~=3.5.0->ipywidgets) (0.7.0)\n",
            "Collecting tenacity>=6.2.0\n",
            "  Downloading tenacity-8.0.1-py3-none-any.whl (24 kB)\n",
            "Requirement already satisfied: MarkupSafe>=0.23 in /usr/local/lib/python3.7/dist-packages (from jinja2->notebook>=4.4.1->widgetsnbextension~=3.5.0->ipywidgets) (2.0.1)\n",
            "Requirement already satisfied: bleach in /usr/local/lib/python3.7/dist-packages (from nbconvert->notebook>=4.4.1->widgetsnbextension~=3.5.0->ipywidgets) (3.3.0)\n",
            "Requirement already satisfied: defusedxml in /usr/local/lib/python3.7/dist-packages (from nbconvert->notebook>=4.4.1->widgetsnbextension~=3.5.0->ipywidgets) (0.7.1)\n",
            "Requirement already satisfied: entrypoints>=0.2.2 in /usr/local/lib/python3.7/dist-packages (from nbconvert->notebook>=4.4.1->widgetsnbextension~=3.5.0->ipywidgets) (0.3)\n",
            "Requirement already satisfied: mistune<2,>=0.8.1 in /usr/local/lib/python3.7/dist-packages (from nbconvert->notebook>=4.4.1->widgetsnbextension~=3.5.0->ipywidgets) (0.8.4)\n",
            "Requirement already satisfied: pandocfilters>=1.4.1 in /usr/local/lib/python3.7/dist-packages (from nbconvert->notebook>=4.4.1->widgetsnbextension~=3.5.0->ipywidgets) (1.4.3)\n",
            "Requirement already satisfied: testpath in /usr/local/lib/python3.7/dist-packages (from nbconvert->notebook>=4.4.1->widgetsnbextension~=3.5.0->ipywidgets) (0.5.0)\n",
            "Requirement already satisfied: webencodings in /usr/local/lib/python3.7/dist-packages (from bleach->nbconvert->notebook>=4.4.1->widgetsnbextension~=3.5.0->ipywidgets) (0.5.1)\n",
            "Requirement already satisfied: packaging in /usr/local/lib/python3.7/dist-packages (from bleach->nbconvert->notebook>=4.4.1->widgetsnbextension~=3.5.0->ipywidgets) (21.0)\n",
            "Requirement already satisfied: pyparsing>=2.0.2 in /usr/local/lib/python3.7/dist-packages (from packaging->bleach->nbconvert->notebook>=4.4.1->widgetsnbextension~=3.5.0->ipywidgets) (2.4.7)\n",
            "Installing collected packages: threadpoolctl, tenacity, scikit-learn, random-timestamp, plotly\n",
            "  Attempting uninstall: scikit-learn\n",
            "    Found existing installation: scikit-learn 0.22.2.post1\n",
            "    Uninstalling scikit-learn-0.22.2.post1:\n",
            "      Successfully uninstalled scikit-learn-0.22.2.post1\n",
            "  Attempting uninstall: plotly\n",
            "    Found existing installation: plotly 4.4.1\n",
            "    Uninstalling plotly-4.4.1:\n",
            "      Successfully uninstalled plotly-4.4.1\n",
            "Successfully installed plotly-5.1.0 random-timestamp-1.1 scikit-learn-0.24.2 tenacity-8.0.1 threadpoolctl-2.2.0\n"
          ],
          "name": "stdout"
        }
      ]
    },
    {
      "cell_type": "code",
      "metadata": {
        "id": "aScKKGTjjFYc"
      },
      "source": [
        "import pandas as pd\n",
        "import numpy as np\n",
        "import random\n",
        "import string\n",
        "from random import randint\n",
        "import matplotlib.pyplot as plt"
      ],
      "execution_count": 2,
      "outputs": []
    },
    {
      "cell_type": "code",
      "metadata": {
        "id": "a3yeM3mZT9cg"
      },
      "source": [
        "import warnings\n",
        "warnings.filterwarnings('ignore')"
      ],
      "execution_count": 3,
      "outputs": []
    },
    {
      "cell_type": "code",
      "metadata": {
        "id": "8AKUPnjLxFB-",
        "colab": {
          "base_uri": "https://localhost:8080/"
        },
        "outputId": "5ac1694f-c7cc-4ed2-af84-bdca40004876"
      },
      "source": [
        "from google.colab import drive\n",
        "drive.mount('/content/drive')"
      ],
      "execution_count": null,
      "outputs": [
        {
          "output_type": "stream",
          "text": [
            "Mounted at /content/drive\n"
          ],
          "name": "stdout"
        }
      ]
    },
    {
      "cell_type": "code",
      "metadata": {
        "colab": {
          "base_uri": "https://localhost:8080/"
        },
        "id": "LCHi1exfxFFX",
        "outputId": "af03ab08-f890-4e76-be1b-1c78e0f7c6cd"
      },
      "source": [
        "!ls  /content/drive/MyDrive/portalAnalysis/"
      ],
      "execution_count": null,
      "outputs": [
        {
          "output_type": "stream",
          "text": [
            "Data  TimeSeriesAnalysisWithPython\n"
          ],
          "name": "stdout"
        }
      ]
    },
    {
      "cell_type": "code",
      "metadata": {
        "colab": {
          "base_uri": "https://localhost:8080/"
        },
        "id": "q6qMX4O9xFI1",
        "outputId": "920588e8-1352-4351-916f-f74589d69f5c"
      },
      "source": [
        "cd /content/drive/MyDrive/portalAnalysis/"
      ],
      "execution_count": null,
      "outputs": [
        {
          "output_type": "stream",
          "text": [
            "/content/drive/.shortcut-targets-by-id/1ZqnixmkqoSThWVJbij6rwHF3MnJGRihq/portalAnalysis\n"
          ],
          "name": "stdout"
        }
      ]
    },
    {
      "cell_type": "markdown",
      "metadata": {
        "id": "U_Iw6VS9P6xk"
      },
      "source": [
        "## Load General-Students-Info.csv   (( df_st ))"
      ]
    },
    {
      "cell_type": "code",
      "metadata": {
        "id": "k95IDTmNP3s7"
      },
      "source": [
        "df_st=pd.read_csv(\"./Data/General-Students-Info.csv\", index_col=0)"
      ],
      "execution_count": null,
      "outputs": []
    },
    {
      "cell_type": "markdown",
      "metadata": {
        "id": "mK4QZcibRmcQ"
      },
      "source": [
        "## Load Student's Portal Achievments (( df_avt ))"
      ]
    },
    {
      "cell_type": "code",
      "metadata": {
        "id": "FonvAlNaR1PT"
      },
      "source": [
        "df_avt=pd.read_csv(\"./Data/Portal-Achiev-Info.csv\", index_col=0)"
      ],
      "execution_count": null,
      "outputs": []
    },
    {
      "cell_type": "markdown",
      "metadata": {
        "id": "i0tyT0HXV6Ph"
      },
      "source": [
        "## Load the dataset that has 5 selected students Info (( dt_st ))"
      ]
    },
    {
      "cell_type": "code",
      "metadata": {
        "id": "wndYEKf-WQtT"
      },
      "source": [
        "dt_st=pd.read_csv(\"./Data/5_students-Info.csv\", index_col=0)"
      ],
      "execution_count": null,
      "outputs": []
    },
    {
      "cell_type": "code",
      "metadata": {
        "id": "2OdTJoF8l5VE"
      },
      "source": [
        "dt_st.set_index(\"Act_submit_Time\", inplace=True)"
      ],
      "execution_count": null,
      "outputs": []
    },
    {
      "cell_type": "code",
      "metadata": {
        "id": "6oBgx45OuBrB"
      },
      "source": [
        "dt_st[\"Act_submit_Time\"]= pd.to_datetime(dt_st.Act_submit_Time)"
      ],
      "execution_count": null,
      "outputs": []
    },
    {
      "cell_type": "code",
      "metadata": {
        "id": "U4_d3jLitwSV"
      },
      "source": [
        "dt_st.set_index(\"Act_submit_Time\", inplace=True)"
      ],
      "execution_count": null,
      "outputs": []
    },
    {
      "cell_type": "code",
      "metadata": {
        "id": "Y6prSnP9NHsQ"
      },
      "source": [
        "dt_st = dt_st.drop(['Unnamed: 0'], axis = 1)"
      ],
      "execution_count": null,
      "outputs": []
    },
    {
      "cell_type": "code",
      "metadata": {
        "colab": {
          "base_uri": "https://localhost:8080/",
          "height": 235
        },
        "id": "sxX_lEMat1w5",
        "outputId": "457a4e86-0d29-4931-a4c9-999164e5dd6e"
      },
      "source": [
        "dt_st.head()"
      ],
      "execution_count": null,
      "outputs": [
        {
          "output_type": "execute_result",
          "data": {
            "text/html": [
              "<div>\n",
              "<style scoped>\n",
              "    .dataframe tbody tr th:only-of-type {\n",
              "        vertical-align: middle;\n",
              "    }\n",
              "\n",
              "    .dataframe tbody tr th {\n",
              "        vertical-align: top;\n",
              "    }\n",
              "\n",
              "    .dataframe thead th {\n",
              "        text-align: right;\n",
              "    }\n",
              "</style>\n",
              "<table border=\"1\" class=\"dataframe\">\n",
              "  <thead>\n",
              "    <tr style=\"text-align: right;\">\n",
              "      <th></th>\n",
              "      <th>student_ID</th>\n",
              "      <th>Course_code</th>\n",
              "      <th>Activity_id</th>\n",
              "      <th>Activity_type</th>\n",
              "      <th>Unit_id</th>\n",
              "      <th>Chapter_id</th>\n",
              "      <th>Lesson_id</th>\n",
              "      <th>Act_diff</th>\n",
              "      <th>Act_cp_count</th>\n",
              "      <th>Act_time</th>\n",
              "      <th>Act_mark</th>\n",
              "    </tr>\n",
              "    <tr>\n",
              "      <th>Act_submit_Time</th>\n",
              "      <th></th>\n",
              "      <th></th>\n",
              "      <th></th>\n",
              "      <th></th>\n",
              "      <th></th>\n",
              "      <th></th>\n",
              "      <th></th>\n",
              "      <th></th>\n",
              "      <th></th>\n",
              "      <th></th>\n",
              "      <th></th>\n",
              "    </tr>\n",
              "  </thead>\n",
              "  <tbody>\n",
              "    <tr>\n",
              "      <th>2020-04-25 14:38:39</th>\n",
              "      <td>080634978S</td>\n",
              "      <td>g7_1</td>\n",
              "      <td>g7_1-Act_6</td>\n",
              "      <td>0</td>\n",
              "      <td>Un_4</td>\n",
              "      <td>Chp_7</td>\n",
              "      <td>Ls_7</td>\n",
              "      <td>4</td>\n",
              "      <td>1</td>\n",
              "      <td>694</td>\n",
              "      <td>6.94</td>\n",
              "    </tr>\n",
              "    <tr>\n",
              "      <th>2020-04-23 16:42:24</th>\n",
              "      <td>080634978S</td>\n",
              "      <td>g7_1</td>\n",
              "      <td>g7_1-Act_10</td>\n",
              "      <td>0</td>\n",
              "      <td>Un_6</td>\n",
              "      <td>Chp_0</td>\n",
              "      <td>Ls_8</td>\n",
              "      <td>3</td>\n",
              "      <td>1</td>\n",
              "      <td>401</td>\n",
              "      <td>7.70</td>\n",
              "    </tr>\n",
              "    <tr>\n",
              "      <th>2020-02-19 23:02:47</th>\n",
              "      <td>080634978S</td>\n",
              "      <td>g7_1</td>\n",
              "      <td>g7_1-Act_5</td>\n",
              "      <td>0</td>\n",
              "      <td>Un_6</td>\n",
              "      <td>Chp_3</td>\n",
              "      <td>Ls_0</td>\n",
              "      <td>4</td>\n",
              "      <td>2</td>\n",
              "      <td>451</td>\n",
              "      <td>2.42</td>\n",
              "    </tr>\n",
              "    <tr>\n",
              "      <th>2020-07-10 13:26:51</th>\n",
              "      <td>080634978S</td>\n",
              "      <td>g7_1</td>\n",
              "      <td>g7_1-Act_5</td>\n",
              "      <td>0</td>\n",
              "      <td>Un_2</td>\n",
              "      <td>Chp_0</td>\n",
              "      <td>Ls_7</td>\n",
              "      <td>1</td>\n",
              "      <td>1</td>\n",
              "      <td>256</td>\n",
              "      <td>7.51</td>\n",
              "    </tr>\n",
              "    <tr>\n",
              "      <th>2020-03-28 11:26:27</th>\n",
              "      <td>080634978S</td>\n",
              "      <td>g7_1</td>\n",
              "      <td>g7_1-Act_6</td>\n",
              "      <td>0</td>\n",
              "      <td>Un_5</td>\n",
              "      <td>Chp_5</td>\n",
              "      <td>Ls_7</td>\n",
              "      <td>2</td>\n",
              "      <td>1</td>\n",
              "      <td>772</td>\n",
              "      <td>7.22</td>\n",
              "    </tr>\n",
              "  </tbody>\n",
              "</table>\n",
              "</div>"
            ],
            "text/plain": [
              "                     student_ID Course_code  ... Act_time  Act_mark\n",
              "Act_submit_Time                              ...                   \n",
              "2020-04-25 14:38:39  080634978S        g7_1  ...      694      6.94\n",
              "2020-04-23 16:42:24  080634978S        g7_1  ...      401      7.70\n",
              "2020-02-19 23:02:47  080634978S        g7_1  ...      451      2.42\n",
              "2020-07-10 13:26:51  080634978S        g7_1  ...      256      7.51\n",
              "2020-03-28 11:26:27  080634978S        g7_1  ...      772      7.22\n",
              "\n",
              "[5 rows x 11 columns]"
            ]
          },
          "metadata": {
            "tags": []
          },
          "execution_count": 51
        }
      ]
    },
    {
      "cell_type": "markdown",
      "metadata": {
        "id": "3Rmmb_lSRFqK"
      },
      "source": [
        "## I) Create Student's General Info. Dataset"
      ]
    },
    {
      "cell_type": "code",
      "metadata": {
        "id": "FC2cVVX7X6Nh"
      },
      "source": [
        "####   تحديد الصف الذي ينتمي اليه مواليد كل سنة\n",
        "\n",
        "grades={\n",
        "    \"06\":\"9\",\"07\":\"8\",\n",
        "    \"08\":\"7\", \"09\":\"6\", \"10\":\"5\", \"11\":\"4\",\n",
        "    \"12\":\"3\", \"13\":\"2\", \"14\":\"1\"\n",
        "}"
      ],
      "execution_count": 4,
      "outputs": []
    },
    {
      "cell_type": "code",
      "metadata": {
        "id": "fQhITeCzpmln"
      },
      "source": [
        "###  الطلبة العينة من 10 مدارس عشوائيًا (500 طالب) ##\n",
        "##### من الصف السادس الى الثالث الاعدادي \n",
        "\n",
        "\n",
        "list_std=[]\n",
        "for i in range(500):\n",
        "  birth_year=random.choice([\"06\", \"07\", \"08\", \"09\",\"10\"]) \n",
        "  student= {\n",
        "  \"student_id\": ''.join(random.choice(string.digits) for _ in range(5)) ,\n",
        "  \"birth_year\": birth_year,\n",
        "  \"birth_month\": random.choice([\"01\", \"02\", \"03\", \"04\", \"05\", \n",
        "                                \"06\", \"07\", \"08\", \"09\",\"10\",\"11\",\"12\"]),\n",
        "  \"school\": random.choice([ \"Sc_\"+str(j) for j in range(10)]),\n",
        "  \"grade\": grades[birth_year],  \n",
        "  \"gender\": random.choice([\"M\", \"F\"]),\n",
        "  \"governorate\": random.choice([\"North\", \"South\", \"Caiptal\", \"Muharraq\"])\n",
        "         } \n",
        "  list_std.append(student)\n",
        "  \n",
        "      \n",
        "df_st=pd.DataFrame(list_std)\n"
      ],
      "execution_count": 5,
      "outputs": []
    },
    {
      "cell_type": "code",
      "metadata": {
        "colab": {
          "base_uri": "https://localhost:8080/"
        },
        "id": "y_ojtT3wxQwX",
        "outputId": "7617effc-ab52-44ae-98c5-3e048e4a0fe5"
      },
      "source": [
        "df_st.info()"
      ],
      "execution_count": 6,
      "outputs": [
        {
          "output_type": "stream",
          "text": [
            "<class 'pandas.core.frame.DataFrame'>\n",
            "RangeIndex: 500 entries, 0 to 499\n",
            "Data columns (total 7 columns):\n",
            " #   Column       Non-Null Count  Dtype \n",
            "---  ------       --------------  ----- \n",
            " 0   student_id   500 non-null    object\n",
            " 1   birth_year   500 non-null    object\n",
            " 2   birth_month  500 non-null    object\n",
            " 3   school       500 non-null    object\n",
            " 4   grade        500 non-null    object\n",
            " 5   gender       500 non-null    object\n",
            " 6   governorate  500 non-null    object\n",
            "dtypes: object(7)\n",
            "memory usage: 27.5+ KB\n"
          ],
          "name": "stdout"
        }
      ]
    },
    {
      "cell_type": "code",
      "metadata": {
        "colab": {
          "base_uri": "https://localhost:8080/",
          "height": 204
        },
        "id": "jgZV1XCSWfmz",
        "outputId": "14dfe02a-c1fd-42f9-87c6-1966b2d8523e"
      },
      "source": [
        "\n",
        "df_st.head()"
      ],
      "execution_count": 7,
      "outputs": [
        {
          "output_type": "execute_result",
          "data": {
            "text/html": [
              "<div>\n",
              "<style scoped>\n",
              "    .dataframe tbody tr th:only-of-type {\n",
              "        vertical-align: middle;\n",
              "    }\n",
              "\n",
              "    .dataframe tbody tr th {\n",
              "        vertical-align: top;\n",
              "    }\n",
              "\n",
              "    .dataframe thead th {\n",
              "        text-align: right;\n",
              "    }\n",
              "</style>\n",
              "<table border=\"1\" class=\"dataframe\">\n",
              "  <thead>\n",
              "    <tr style=\"text-align: right;\">\n",
              "      <th></th>\n",
              "      <th>student_id</th>\n",
              "      <th>birth_year</th>\n",
              "      <th>birth_month</th>\n",
              "      <th>school</th>\n",
              "      <th>grade</th>\n",
              "      <th>gender</th>\n",
              "      <th>governorate</th>\n",
              "    </tr>\n",
              "  </thead>\n",
              "  <tbody>\n",
              "    <tr>\n",
              "      <th>0</th>\n",
              "      <td>77232</td>\n",
              "      <td>07</td>\n",
              "      <td>08</td>\n",
              "      <td>Sc_0</td>\n",
              "      <td>8</td>\n",
              "      <td>F</td>\n",
              "      <td>North</td>\n",
              "    </tr>\n",
              "    <tr>\n",
              "      <th>1</th>\n",
              "      <td>71556</td>\n",
              "      <td>07</td>\n",
              "      <td>09</td>\n",
              "      <td>Sc_2</td>\n",
              "      <td>8</td>\n",
              "      <td>F</td>\n",
              "      <td>Muharraq</td>\n",
              "    </tr>\n",
              "    <tr>\n",
              "      <th>2</th>\n",
              "      <td>95032</td>\n",
              "      <td>09</td>\n",
              "      <td>05</td>\n",
              "      <td>Sc_7</td>\n",
              "      <td>6</td>\n",
              "      <td>M</td>\n",
              "      <td>Caiptal</td>\n",
              "    </tr>\n",
              "    <tr>\n",
              "      <th>3</th>\n",
              "      <td>09663</td>\n",
              "      <td>10</td>\n",
              "      <td>09</td>\n",
              "      <td>Sc_7</td>\n",
              "      <td>5</td>\n",
              "      <td>M</td>\n",
              "      <td>Caiptal</td>\n",
              "    </tr>\n",
              "    <tr>\n",
              "      <th>4</th>\n",
              "      <td>49526</td>\n",
              "      <td>09</td>\n",
              "      <td>03</td>\n",
              "      <td>Sc_4</td>\n",
              "      <td>6</td>\n",
              "      <td>M</td>\n",
              "      <td>South</td>\n",
              "    </tr>\n",
              "  </tbody>\n",
              "</table>\n",
              "</div>"
            ],
            "text/plain": [
              "  student_id birth_year birth_month school grade gender governorate\n",
              "0      77232         07          08   Sc_0     8      F       North\n",
              "1      71556         07          09   Sc_2     8      F    Muharraq\n",
              "2      95032         09          05   Sc_7     6      M     Caiptal\n",
              "3      09663         10          09   Sc_7     5      M     Caiptal\n",
              "4      49526         09          03   Sc_4     6      M       South"
            ]
          },
          "metadata": {
            "tags": []
          },
          "execution_count": 7
        }
      ]
    },
    {
      "cell_type": "code",
      "metadata": {
        "colab": {
          "base_uri": "https://localhost:8080/"
        },
        "id": "f6aLAHinW5-r",
        "outputId": "4a558df2-27d0-4083-91a5-78b25a8155e5"
      },
      "source": [
        "df_st[:-1].values.T"
      ],
      "execution_count": 8,
      "outputs": [
        {
          "output_type": "execute_result",
          "data": {
            "text/plain": [
              "array([['77232', '71556', '95032', ..., '99564', '80151', '97195'],\n",
              "       ['07', '07', '09', ..., '09', '09', '10'],\n",
              "       ['08', '09', '05', ..., '03', '08', '05'],\n",
              "       ...,\n",
              "       ['8', '8', '6', ..., '6', '6', '5'],\n",
              "       ['F', 'F', 'M', ..., 'M', 'M', 'F'],\n",
              "       ['North', 'Muharraq', 'Caiptal', ..., 'Caiptal', 'South',\n",
              "        'Caiptal']], dtype=object)"
            ]
          },
          "metadata": {
            "tags": []
          },
          "execution_count": 8
        }
      ]
    },
    {
      "cell_type": "code",
      "metadata": {
        "id": "nItBTwFfutF9"
      },
      "source": [
        "#####  Merge student_ID with birth year and month month to get a complete CPR\n",
        "\n",
        "df_st.insert(0, 'student_ID', df_st['birth_year'].astype(str) + df_st['birth_month'].astype(str)+df_st.pop('student_id').astype(str))"
      ],
      "execution_count": 9,
      "outputs": []
    },
    {
      "cell_type": "code",
      "metadata": {
        "colab": {
          "base_uri": "https://localhost:8080/",
          "height": 204
        },
        "id": "t1NUnn4H5cti",
        "outputId": "819b2747-4647-4abb-ad43-fc47f8ef5fba"
      },
      "source": [
        "df_st.head()"
      ],
      "execution_count": 10,
      "outputs": [
        {
          "output_type": "execute_result",
          "data": {
            "text/html": [
              "<div>\n",
              "<style scoped>\n",
              "    .dataframe tbody tr th:only-of-type {\n",
              "        vertical-align: middle;\n",
              "    }\n",
              "\n",
              "    .dataframe tbody tr th {\n",
              "        vertical-align: top;\n",
              "    }\n",
              "\n",
              "    .dataframe thead th {\n",
              "        text-align: right;\n",
              "    }\n",
              "</style>\n",
              "<table border=\"1\" class=\"dataframe\">\n",
              "  <thead>\n",
              "    <tr style=\"text-align: right;\">\n",
              "      <th></th>\n",
              "      <th>student_ID</th>\n",
              "      <th>birth_year</th>\n",
              "      <th>birth_month</th>\n",
              "      <th>school</th>\n",
              "      <th>grade</th>\n",
              "      <th>gender</th>\n",
              "      <th>governorate</th>\n",
              "    </tr>\n",
              "  </thead>\n",
              "  <tbody>\n",
              "    <tr>\n",
              "      <th>0</th>\n",
              "      <td>070877232</td>\n",
              "      <td>07</td>\n",
              "      <td>08</td>\n",
              "      <td>Sc_0</td>\n",
              "      <td>8</td>\n",
              "      <td>F</td>\n",
              "      <td>North</td>\n",
              "    </tr>\n",
              "    <tr>\n",
              "      <th>1</th>\n",
              "      <td>070971556</td>\n",
              "      <td>07</td>\n",
              "      <td>09</td>\n",
              "      <td>Sc_2</td>\n",
              "      <td>8</td>\n",
              "      <td>F</td>\n",
              "      <td>Muharraq</td>\n",
              "    </tr>\n",
              "    <tr>\n",
              "      <th>2</th>\n",
              "      <td>090595032</td>\n",
              "      <td>09</td>\n",
              "      <td>05</td>\n",
              "      <td>Sc_7</td>\n",
              "      <td>6</td>\n",
              "      <td>M</td>\n",
              "      <td>Caiptal</td>\n",
              "    </tr>\n",
              "    <tr>\n",
              "      <th>3</th>\n",
              "      <td>100909663</td>\n",
              "      <td>10</td>\n",
              "      <td>09</td>\n",
              "      <td>Sc_7</td>\n",
              "      <td>5</td>\n",
              "      <td>M</td>\n",
              "      <td>Caiptal</td>\n",
              "    </tr>\n",
              "    <tr>\n",
              "      <th>4</th>\n",
              "      <td>090349526</td>\n",
              "      <td>09</td>\n",
              "      <td>03</td>\n",
              "      <td>Sc_4</td>\n",
              "      <td>6</td>\n",
              "      <td>M</td>\n",
              "      <td>South</td>\n",
              "    </tr>\n",
              "  </tbody>\n",
              "</table>\n",
              "</div>"
            ],
            "text/plain": [
              "  student_ID birth_year birth_month school grade gender governorate\n",
              "0  070877232         07          08   Sc_0     8      F       North\n",
              "1  070971556         07          09   Sc_2     8      F    Muharraq\n",
              "2  090595032         09          05   Sc_7     6      M     Caiptal\n",
              "3  100909663         10          09   Sc_7     5      M     Caiptal\n",
              "4  090349526         09          03   Sc_4     6      M       South"
            ]
          },
          "metadata": {
            "tags": []
          },
          "execution_count": 10
        }
      ]
    },
    {
      "cell_type": "code",
      "metadata": {
        "id": "_fbY1BwOT5EB"
      },
      "source": [
        "for col in df_st.keys():\n",
        "  df_st[col]= df_st[col].astype(str)"
      ],
      "execution_count": 11,
      "outputs": []
    },
    {
      "cell_type": "code",
      "metadata": {
        "id": "GL2aCjqCxWMN"
      },
      "source": [
        "df_st.to_csv(\"./Data/General-Students-Info.csv\")"
      ],
      "execution_count": null,
      "outputs": []
    },
    {
      "cell_type": "markdown",
      "metadata": {
        "id": "A9G8SNC1O-fL"
      },
      "source": [
        "## II) Create Students' portal activity Dataset"
      ]
    },
    {
      "cell_type": "code",
      "metadata": {
        "id": "bqY7lMv2eDZJ"
      },
      "source": [
        "from random_timestamp import random_timestamp\n",
        "lst=[]\n",
        "for i, k  in zip(df_st.student_ID, df_st.grade):\n",
        "  for j in range (14, int((20*np.random.rand()+8))):\n",
        "    course_id=random.choice([\"g\"+str(k)+\"_\"+str(l) for l in range(1,4)])\n",
        "    ActType=random.choice([\"1\", \"0\" ])\n",
        "    activities= {\n",
        "        \"student_ID\": i ,\n",
        "        \"Course_code\":course_id,  \n",
        "        \"Activity_id\": f\"{course_id}-Act_{int(20*np.random.rand()+1)}\",\n",
        "        \"Activity_type\":ActType,\n",
        "        # \"Act_count\": course_ref[course_id][ActType] , #np.random.randint(5,30),\n",
        "\n",
        "      \"Unit_id\":  random.choice([ \"Un_\"+str(k) for k in range(10)]),\n",
        "      \"Chapter_id\": random.choice([ \"Chp_\"+str(k) for k in range(10)]), \n",
        "      \"Lesson_id\": random.choice([ \"Ls_\"+str(k) for k in range(10)]),\n",
        "      # \"Competence-id\":  random.choice([ \"Cp_\"+str(k) for k in range(10)]), \n",
        "      \"Act_diff\":  int((4*np.random.rand(1)+1)),\n",
        "      \"Act_cp_count\": int((np.random.rand(1)*2+1)), \n",
        "\n",
        "      \"Act_time\": int((870*np.random.rand()+30)) , ####### from 30 SEC to 15 MIN\n",
        "      \"Act_submit_Time\": random_timestamp( year=2020),\n",
        "      #  add  afeature for  late submission\n",
        "      \"Act_mark\": int((1000*np.random.rand()))/100,\n",
        "    }\n",
        "    lst.append(activities)\n",
        "df_avt=pd.DataFrame(lst)"
      ],
      "execution_count": 12,
      "outputs": []
    },
    {
      "cell_type": "code",
      "metadata": {
        "id": "mDbTm22GIiSG",
        "colab": {
          "base_uri": "https://localhost:8080/",
          "height": 204
        },
        "outputId": "ec4d0371-dd5f-434d-ae91-903175cce318"
      },
      "source": [
        "df_avt.head()"
      ],
      "execution_count": 13,
      "outputs": [
        {
          "output_type": "execute_result",
          "data": {
            "text/html": [
              "<div>\n",
              "<style scoped>\n",
              "    .dataframe tbody tr th:only-of-type {\n",
              "        vertical-align: middle;\n",
              "    }\n",
              "\n",
              "    .dataframe tbody tr th {\n",
              "        vertical-align: top;\n",
              "    }\n",
              "\n",
              "    .dataframe thead th {\n",
              "        text-align: right;\n",
              "    }\n",
              "</style>\n",
              "<table border=\"1\" class=\"dataframe\">\n",
              "  <thead>\n",
              "    <tr style=\"text-align: right;\">\n",
              "      <th></th>\n",
              "      <th>student_ID</th>\n",
              "      <th>Course_code</th>\n",
              "      <th>Activity_id</th>\n",
              "      <th>Activity_type</th>\n",
              "      <th>Unit_id</th>\n",
              "      <th>Chapter_id</th>\n",
              "      <th>Lesson_id</th>\n",
              "      <th>Act_diff</th>\n",
              "      <th>Act_cp_count</th>\n",
              "      <th>Act_time</th>\n",
              "      <th>Act_submit_Time</th>\n",
              "      <th>Act_mark</th>\n",
              "    </tr>\n",
              "  </thead>\n",
              "  <tbody>\n",
              "    <tr>\n",
              "      <th>0</th>\n",
              "      <td>070877232</td>\n",
              "      <td>g8_2</td>\n",
              "      <td>g8_2-Act_7</td>\n",
              "      <td>1</td>\n",
              "      <td>Un_0</td>\n",
              "      <td>Chp_0</td>\n",
              "      <td>Ls_8</td>\n",
              "      <td>1</td>\n",
              "      <td>2</td>\n",
              "      <td>884</td>\n",
              "      <td>2020-05-08 23:04:08</td>\n",
              "      <td>9.03</td>\n",
              "    </tr>\n",
              "    <tr>\n",
              "      <th>1</th>\n",
              "      <td>070877232</td>\n",
              "      <td>g8_1</td>\n",
              "      <td>g8_1-Act_3</td>\n",
              "      <td>0</td>\n",
              "      <td>Un_8</td>\n",
              "      <td>Chp_6</td>\n",
              "      <td>Ls_3</td>\n",
              "      <td>2</td>\n",
              "      <td>2</td>\n",
              "      <td>774</td>\n",
              "      <td>2020-01-25 18:47:49</td>\n",
              "      <td>4.44</td>\n",
              "    </tr>\n",
              "    <tr>\n",
              "      <th>2</th>\n",
              "      <td>070877232</td>\n",
              "      <td>g8_1</td>\n",
              "      <td>g8_1-Act_6</td>\n",
              "      <td>1</td>\n",
              "      <td>Un_1</td>\n",
              "      <td>Chp_2</td>\n",
              "      <td>Ls_3</td>\n",
              "      <td>4</td>\n",
              "      <td>2</td>\n",
              "      <td>264</td>\n",
              "      <td>2020-06-09 17:32:30</td>\n",
              "      <td>9.26</td>\n",
              "    </tr>\n",
              "    <tr>\n",
              "      <th>3</th>\n",
              "      <td>070877232</td>\n",
              "      <td>g8_3</td>\n",
              "      <td>g8_3-Act_16</td>\n",
              "      <td>0</td>\n",
              "      <td>Un_6</td>\n",
              "      <td>Chp_4</td>\n",
              "      <td>Ls_4</td>\n",
              "      <td>3</td>\n",
              "      <td>2</td>\n",
              "      <td>156</td>\n",
              "      <td>2020-07-23 04:50:00</td>\n",
              "      <td>5.86</td>\n",
              "    </tr>\n",
              "    <tr>\n",
              "      <th>4</th>\n",
              "      <td>070877232</td>\n",
              "      <td>g8_3</td>\n",
              "      <td>g8_3-Act_11</td>\n",
              "      <td>0</td>\n",
              "      <td>Un_7</td>\n",
              "      <td>Chp_0</td>\n",
              "      <td>Ls_4</td>\n",
              "      <td>2</td>\n",
              "      <td>1</td>\n",
              "      <td>125</td>\n",
              "      <td>2020-12-08 07:59:27</td>\n",
              "      <td>0.03</td>\n",
              "    </tr>\n",
              "  </tbody>\n",
              "</table>\n",
              "</div>"
            ],
            "text/plain": [
              "  student_ID Course_code  Activity_id  ... Act_time     Act_submit_Time Act_mark\n",
              "0  070877232        g8_2   g8_2-Act_7  ...      884 2020-05-08 23:04:08     9.03\n",
              "1  070877232        g8_1   g8_1-Act_3  ...      774 2020-01-25 18:47:49     4.44\n",
              "2  070877232        g8_1   g8_1-Act_6  ...      264 2020-06-09 17:32:30     9.26\n",
              "3  070877232        g8_3  g8_3-Act_16  ...      156 2020-07-23 04:50:00     5.86\n",
              "4  070877232        g8_3  g8_3-Act_11  ...      125 2020-12-08 07:59:27     0.03\n",
              "\n",
              "[5 rows x 12 columns]"
            ]
          },
          "metadata": {
            "tags": []
          },
          "execution_count": 13
        }
      ]
    },
    {
      "cell_type": "code",
      "metadata": {
        "id": "AqqgQk2HjyM8"
      },
      "source": [
        "#######   Below Trails ONLY"
      ],
      "execution_count": 14,
      "outputs": []
    },
    {
      "cell_type": "code",
      "metadata": {
        "colab": {
          "base_uri": "https://localhost:8080/",
          "height": 49
        },
        "id": "Q3-ZLwNIQbw-",
        "outputId": "41979b39-5fe7-4a7f-8ffe-000ac1598d4a"
      },
      "source": [
        "std=\"100237271\"\n",
        "cs=\"g5_1\"\n",
        "df_avt[\"Act_submit_Time\"]=df_avt[\"Act_submit_Time\"].astype(str)\n",
        "dt_tmp= df_avt.query(f\"student_ID=='{std}' & Course_code=='{cs}' & Activity_type=='0'\")[[\"Act_mark\", \"Activity_id\",\"Act_submit_Time\" ]]\n",
        "dt_tmp[\"Act_submit_Time\"]=pd.to_datetime(dt_tmp.Act_submit_Time, format=\"%Y-%m-%d\")\n",
        "dt_tmp.sort_values(by= \"Act_submit_Time\", inplace=True)\n",
        "# dt_tmp[\"Act_submit_Time\"]= dt_tmp.Act_submit_Time.astype(\"category\")\n",
        "# Actual Student ACtivities\n",
        "dt_tmp"
      ],
      "execution_count": 15,
      "outputs": [
        {
          "output_type": "execute_result",
          "data": {
            "text/html": [
              "<div>\n",
              "<style scoped>\n",
              "    .dataframe tbody tr th:only-of-type {\n",
              "        vertical-align: middle;\n",
              "    }\n",
              "\n",
              "    .dataframe tbody tr th {\n",
              "        vertical-align: top;\n",
              "    }\n",
              "\n",
              "    .dataframe thead th {\n",
              "        text-align: right;\n",
              "    }\n",
              "</style>\n",
              "<table border=\"1\" class=\"dataframe\">\n",
              "  <thead>\n",
              "    <tr style=\"text-align: right;\">\n",
              "      <th></th>\n",
              "      <th>Act_mark</th>\n",
              "      <th>Activity_id</th>\n",
              "      <th>Act_submit_Time</th>\n",
              "    </tr>\n",
              "  </thead>\n",
              "  <tbody>\n",
              "  </tbody>\n",
              "</table>\n",
              "</div>"
            ],
            "text/plain": [
              "Empty DataFrame\n",
              "Columns: [Act_mark, Activity_id, Act_submit_Time]\n",
              "Index: []"
            ]
          },
          "metadata": {
            "tags": []
          },
          "execution_count": 15
        }
      ]
    },
    {
      "cell_type": "code",
      "metadata": {
        "id": "hXOSKxDxU1-m"
      },
      "source": [
        "# All Students having the same Activity as ABove\n",
        "df_stAct=pd.DataFrame()\n",
        "\n",
        "for col, time in zip(\n",
        "    dt_tmp[\"Activity_id\"],\n",
        "    dt_tmp.Act_submit_Time.unique()):\n",
        "  df_bx=pd.DataFrame()\n",
        "  df_bx=df_avt.query(f\"Activity_id== '{col}' & Activity_type=='0'\")[[\"Activity_id\", \"Act_mark\"]]\n",
        "  df_bx[\"Act_submit_Time\"]= pd.to_datetime(time).strftime(\"%Y-%m-%d\")\n",
        "  df_stAct= pd.concat([\n",
        "                       df_stAct, df_bx\n",
        "  ])\n",
        "df_stAct.sort_values(by=\"Act_submit_Time\", inplace=True)\n",
        "df_stAct[\"Act_submit_Time\"]= df_stAct.Act_submit_Time.astype(\"category\")\n",
        "df_stAct"
      ],
      "execution_count": null,
      "outputs": []
    },
    {
      "cell_type": "code",
      "metadata": {
        "id": "650hHQaSFn6b"
      },
      "source": [
        "#Combine Graph\n",
        "import seaborn as sns \n",
        "import matplotlib.pyplot as plt\n",
        "\n",
        "fg, ax= plt.subplots( figsize=(10,7))\n",
        "\n",
        "\n",
        "sns.boxplot(x=\"Activity_id\" ,  y= \"Act_mark\", data=df_stAct , ax=ax )\n",
        "sns.lineplot(\n",
        "    x=\"Activity_id\",\n",
        "    y= \"Act_mark\", \n",
        "    data=dt_tmp  , ax=ax )\n",
        "ax.set_xticklabels(dt_tmp.Act_submit_Time.unique())\n",
        "plt.show()"
      ],
      "execution_count": null,
      "outputs": []
    },
    {
      "cell_type": "code",
      "metadata": {
        "colab": {
          "base_uri": "https://localhost:8080/"
        },
        "id": "acfNtqceY-Ru",
        "outputId": "6168eea6-e8e9-4a9b-b396-5658f1fea4e8"
      },
      "source": [
        "import datetime\n",
        "\n",
        "today = datetime.date.today()\n",
        "print(today.strftime(\"%Y-%m-%d\")) "
      ],
      "execution_count": null,
      "outputs": [
        {
          "output_type": "stream",
          "text": [
            "2021-07-12\n"
          ],
          "name": "stdout"
        }
      ]
    },
    {
      "cell_type": "code",
      "metadata": {
        "colab": {
          "base_uri": "https://localhost:8080/",
          "height": 302
        },
        "id": "G6lXmjWDEE8G",
        "outputId": "55b53716-578a-45f3-be8f-4446e3221508"
      },
      "source": [
        "import numpy as np \n",
        "import random\n",
        "dfx=pd.DataFrame({\"S\": np.random.randint(1,100, 9), \"C\":[\"x\", \"x\", \"y\", \"x\", \"y\", \"y\", \"z\", \"z\", \"z\"]})\n",
        "\n",
        "\n",
        "fig,  ax=  plt.subplots()\n",
        "\n",
        "mx=dfx.groupby(\"C\").S.mean()\n",
        "sns.boxplot(data= dfx, x= \"C\", y=\"S\", ax=ax)\n",
        "sns.lineplot(y=mx.values, x=mx.index, ax=ax)"
      ],
      "execution_count": null,
      "outputs": [
        {
          "output_type": "execute_result",
          "data": {
            "text/plain": [
              "<matplotlib.axes._subplots.AxesSubplot at 0x7f5e41618fd0>"
            ]
          },
          "metadata": {
            "tags": []
          },
          "execution_count": 413
        },
        {
          "output_type": "display_data",
          "data": {
            "image/png": "[encoded data removed]",
            "text/plain": [
              "<Figure size 432x288 with 1 Axes>"
            ]
          },
          "metadata": {
            "tags": []
          }
        }
      ]
    },
    {
      "cell_type": "code",
      "metadata": {
        "id": "WGLN-P-aQeJf"
      },
      "source": [
        ""
      ],
      "execution_count": null,
      "outputs": []
    },
    {
      "cell_type": "code",
      "metadata": {
        "id": "gHOAu5X7QeMo"
      },
      "source": [
        ""
      ],
      "execution_count": null,
      "outputs": []
    },
    {
      "cell_type": "code",
      "metadata": {
        "id": "knamQr5-RLYi"
      },
      "source": [
        "df_avt.to_csv(\"./Data/Portal-Achiev-Info.csv\")"
      ],
      "execution_count": null,
      "outputs": []
    },
    {
      "cell_type": "markdown",
      "metadata": {
        "id": "sNsHFqK_QWeV"
      },
      "source": [
        "## III) Generate 5 selected Students Data to graph  \n"
      ]
    },
    {
      "cell_type": "code",
      "metadata": {
        "id": "Ufci8h0oeqLP"
      },
      "source": [
        "def dataJson(actType, i , c):\n",
        "  return {\n",
        "          \"student_ID\": i ,\n",
        "          \"Course_code\":c,  \n",
        "          \"Activity_id\": f\"{c}-Act_{int(10*np.random.rand()+1)}\",\n",
        "          \"Activity_type\":actType,\n",
        "          \n",
        "\n",
        "        \"Unit_id\":  random.choice([ \"Un_\"+str(k) for k in range(10)]),\n",
        "        \"Chapter_id\": random.choice([ \"Chp_\"+str(k) for k in range(10)]), \n",
        "        \"Lesson_id\": random.choice([ \"Ls_\"+str(k) for k in range(10)]),\n",
        "        \"Act_diff\":  int((4*np.random.rand(1)+1)),\n",
        "        \"Act_cp_count\": int((np.random.rand(1)*2+1)), \n",
        "\n",
        "        \"Act_time\": int((870*np.random.rand()+30)) , ####### from 30 SEC to 15 MIN\n",
        "        \"Act_submit_Time\": random_timestamp( year=2020),\n",
        "        #  add  a feature for  late submission\n",
        "        \"Act_mark\": int((1000*np.random.rand()))/100,\n",
        "      }"
      ],
      "execution_count": 18,
      "outputs": []
    },
    {
      "cell_type": "code",
      "metadata": {
        "id": "5O_-HR8fYAr2"
      },
      "source": [
        "std_course=[['g5_3', 'g5_2', 'g5_1'], ['g9_3', 'g9_1', 'g9_2'],['g6_1', 'g6_3',\n",
        "       'g6_2'], ['g8_1', 'g8_3', 'g8_2'], ['g7_1',  'g7_3', 'g7_2'] ]"
      ],
      "execution_count": 19,
      "outputs": []
    },
    {
      "cell_type": "code",
      "metadata": {
        "id": "pGuNtZ1tQa4_"
      },
      "source": [
        "from random_timestamp import random_timestamp\n",
        "lst=[]\n",
        "std_array= df_avt.student_ID.unique()[:5] +\"S\"\n",
        "for i , course in zip(std_array, std_course):# c in df_avt.Course_code.unique():\n",
        "  for c in course:\n",
        "    for j in range (1, int((2*np.random.rand()+8))):\n",
        "      # course_id= c random.choice([\"g\"+str(k)+\"_\"+str(l) for l in range(1,7)])\n",
        "      lst.append(dataJson(\"0\", i , c))\n",
        "    for j in range (1, int((2*np.random.rand()+4))):\n",
        "      # course_id= c random.choice([\"g\"+str(k)+\"_\"+str(l) for l in range(1,7)])\n",
        "      lst.append(dataJson(\"1\", i , c))\n",
        "     \n",
        "dt_st=pd.DataFrame(lst)"
      ],
      "execution_count": 20,
      "outputs": []
    },
    {
      "cell_type": "code",
      "metadata": {
        "id": "efOtM0NLgcCJ"
      },
      "source": [
        "# for s, c  in  zip(dt_st.student_ID.unique(), std_course[0]):\n",
        "#   count=dt_st.query(f\"student_ID=='{s}' & Course_code=='{c}' & Activity_type=='1'\").shape[0]\n",
        "#   print(f\"Student:  {s}  has: {count}  records\")"
      ],
      "execution_count": 21,
      "outputs": []
    },
    {
      "cell_type": "code",
      "metadata": {
        "colab": {
          "base_uri": "https://localhost:8080/"
        },
        "id": "JYieY5brKS-b",
        "outputId": "f5741464-916b-4ea0-f68f-38653b79da38"
      },
      "source": [
        "dt_st.Course_code.unique()"
      ],
      "execution_count": 22,
      "outputs": [
        {
          "output_type": "execute_result",
          "data": {
            "text/plain": [
              "array(['g5_3', 'g5_2', 'g5_1', 'g9_3', 'g9_1', 'g9_2', 'g6_1', 'g6_3',\n",
              "       'g6_2', 'g8_1', 'g8_3', 'g8_2', 'g7_1', 'g7_3', 'g7_2'],\n",
              "      dtype=object)"
            ]
          },
          "metadata": {
            "tags": []
          },
          "execution_count": 22
        }
      ]
    },
    {
      "cell_type": "code",
      "metadata": {
        "colab": {
          "base_uri": "https://localhost:8080/"
        },
        "id": "kJ6N2qb5cdTZ",
        "outputId": "2acf6272-e088-4f2f-cc6b-14780bf84c37"
      },
      "source": [
        "dt_st.info()"
      ],
      "execution_count": 23,
      "outputs": [
        {
          "output_type": "stream",
          "text": [
            "<class 'pandas.core.frame.DataFrame'>\n",
            "RangeIndex: 162 entries, 0 to 161\n",
            "Data columns (total 12 columns):\n",
            " #   Column           Non-Null Count  Dtype         \n",
            "---  ------           --------------  -----         \n",
            " 0   student_ID       162 non-null    object        \n",
            " 1   Course_code      162 non-null    object        \n",
            " 2   Activity_id      162 non-null    object        \n",
            " 3   Activity_type    162 non-null    object        \n",
            " 4   Unit_id          162 non-null    object        \n",
            " 5   Chapter_id       162 non-null    object        \n",
            " 6   Lesson_id        162 non-null    object        \n",
            " 7   Act_diff         162 non-null    int64         \n",
            " 8   Act_cp_count     162 non-null    int64         \n",
            " 9   Act_time         162 non-null    int64         \n",
            " 10  Act_submit_Time  162 non-null    datetime64[ns]\n",
            " 11  Act_mark         162 non-null    float64       \n",
            "dtypes: datetime64[ns](1), float64(1), int64(3), object(7)\n",
            "memory usage: 15.3+ KB\n"
          ],
          "name": "stdout"
        }
      ]
    },
    {
      "cell_type": "code",
      "metadata": {
        "id": "zf0FgTqKlfq9"
      },
      "source": [
        "dt_st.to_csv(\"./Data/5_students-Info.csv\")"
      ],
      "execution_count": null,
      "outputs": []
    },
    {
      "cell_type": "markdown",
      "metadata": {
        "id": "LmjVvM_3uoFt"
      },
      "source": [
        "## IV) Graph the selected student's Quizzes and Assignmens Marks\n"
      ]
    },
    {
      "cell_type": "code",
      "metadata": {
        "colab": {
          "base_uri": "https://localhost:8080/",
          "height": 204
        },
        "id": "2fdaSQtwhAbZ",
        "outputId": "eb4a168c-bc35-47d0-8696-73af3f408cb3"
      },
      "source": [
        "dt_st.sample(5)"
      ],
      "execution_count": 24,
      "outputs": [
        {
          "output_type": "execute_result",
          "data": {
            "text/html": [
              "<div>\n",
              "<style scoped>\n",
              "    .dataframe tbody tr th:only-of-type {\n",
              "        vertical-align: middle;\n",
              "    }\n",
              "\n",
              "    .dataframe tbody tr th {\n",
              "        vertical-align: top;\n",
              "    }\n",
              "\n",
              "    .dataframe thead th {\n",
              "        text-align: right;\n",
              "    }\n",
              "</style>\n",
              "<table border=\"1\" class=\"dataframe\">\n",
              "  <thead>\n",
              "    <tr style=\"text-align: right;\">\n",
              "      <th></th>\n",
              "      <th>student_ID</th>\n",
              "      <th>Course_code</th>\n",
              "      <th>Activity_id</th>\n",
              "      <th>Activity_type</th>\n",
              "      <th>Unit_id</th>\n",
              "      <th>Chapter_id</th>\n",
              "      <th>Lesson_id</th>\n",
              "      <th>Act_diff</th>\n",
              "      <th>Act_cp_count</th>\n",
              "      <th>Act_time</th>\n",
              "      <th>Act_submit_Time</th>\n",
              "      <th>Act_mark</th>\n",
              "    </tr>\n",
              "  </thead>\n",
              "  <tbody>\n",
              "    <tr>\n",
              "      <th>154</th>\n",
              "      <td>070270034S</td>\n",
              "      <td>g7_2</td>\n",
              "      <td>g7_2-Act_9</td>\n",
              "      <td>0</td>\n",
              "      <td>Un_5</td>\n",
              "      <td>Chp_3</td>\n",
              "      <td>Ls_2</td>\n",
              "      <td>2</td>\n",
              "      <td>1</td>\n",
              "      <td>857</td>\n",
              "      <td>2020-05-03 04:07:33</td>\n",
              "      <td>1.51</td>\n",
              "    </tr>\n",
              "    <tr>\n",
              "      <th>149</th>\n",
              "      <td>070270034S</td>\n",
              "      <td>g7_3</td>\n",
              "      <td>g7_3-Act_4</td>\n",
              "      <td>1</td>\n",
              "      <td>Un_8</td>\n",
              "      <td>Chp_1</td>\n",
              "      <td>Ls_1</td>\n",
              "      <td>3</td>\n",
              "      <td>2</td>\n",
              "      <td>351</td>\n",
              "      <td>2020-01-24 19:40:24</td>\n",
              "      <td>7.68</td>\n",
              "    </tr>\n",
              "    <tr>\n",
              "      <th>45</th>\n",
              "      <td>090595032S</td>\n",
              "      <td>g9_1</td>\n",
              "      <td>g9_1-Act_4</td>\n",
              "      <td>0</td>\n",
              "      <td>Un_0</td>\n",
              "      <td>Chp_7</td>\n",
              "      <td>Ls_7</td>\n",
              "      <td>2</td>\n",
              "      <td>1</td>\n",
              "      <td>301</td>\n",
              "      <td>2020-02-09 12:06:55</td>\n",
              "      <td>2.46</td>\n",
              "    </tr>\n",
              "    <tr>\n",
              "      <th>95</th>\n",
              "      <td>100909663S</td>\n",
              "      <td>g6_2</td>\n",
              "      <td>g6_2-Act_3</td>\n",
              "      <td>1</td>\n",
              "      <td>Un_3</td>\n",
              "      <td>Chp_2</td>\n",
              "      <td>Ls_3</td>\n",
              "      <td>4</td>\n",
              "      <td>1</td>\n",
              "      <td>88</td>\n",
              "      <td>2020-06-06 12:22:53</td>\n",
              "      <td>1.95</td>\n",
              "    </tr>\n",
              "    <tr>\n",
              "      <th>30</th>\n",
              "      <td>070877232S</td>\n",
              "      <td>g5_1</td>\n",
              "      <td>g5_1-Act_7</td>\n",
              "      <td>1</td>\n",
              "      <td>Un_4</td>\n",
              "      <td>Chp_6</td>\n",
              "      <td>Ls_9</td>\n",
              "      <td>2</td>\n",
              "      <td>2</td>\n",
              "      <td>179</td>\n",
              "      <td>2020-08-02 08:23:56</td>\n",
              "      <td>9.33</td>\n",
              "    </tr>\n",
              "  </tbody>\n",
              "</table>\n",
              "</div>"
            ],
            "text/plain": [
              "     student_ID Course_code Activity_id  ... Act_time     Act_submit_Time Act_mark\n",
              "154  070270034S        g7_2  g7_2-Act_9  ...      857 2020-05-03 04:07:33     1.51\n",
              "149  070270034S        g7_3  g7_3-Act_4  ...      351 2020-01-24 19:40:24     7.68\n",
              "45   090595032S        g9_1  g9_1-Act_4  ...      301 2020-02-09 12:06:55     2.46\n",
              "95   100909663S        g6_2  g6_2-Act_3  ...       88 2020-06-06 12:22:53     1.95\n",
              "30   070877232S        g5_1  g5_1-Act_7  ...      179 2020-08-02 08:23:56     9.33\n",
              "\n",
              "[5 rows x 12 columns]"
            ]
          },
          "metadata": {
            "tags": []
          },
          "execution_count": 24
        }
      ]
    },
    {
      "cell_type": "code",
      "metadata": {
        "id": "-1mJxep5fYN6"
      },
      "source": [
        "dup=[\"student_ID\",\"Course_code\", \"Activity_id\", \"Activity_type\"]"
      ],
      "execution_count": 25,
      "outputs": []
    },
    {
      "cell_type": "code",
      "metadata": {
        "id": "25_pz9QN_N4e"
      },
      "source": [
        "import ipywidgets as widgets \n",
        "from ipywidgets import interact\n",
        "from matplotlib.dates import DateFormatter"
      ],
      "execution_count": 26,
      "outputs": []
    },
    {
      "cell_type": "code",
      "metadata": {
        "id": "WCKVnErTndB9"
      },
      "source": [
        "std_d={}\n",
        "for st in  dt_st.student_ID.unique():\n",
        "  std_d[st]=dt_st[dt_st.student_ID==st][\"Course_code\"].unique()"
      ],
      "execution_count": 27,
      "outputs": []
    },
    {
      "cell_type": "code",
      "metadata": {
        "colab": {
          "base_uri": "https://localhost:8080/"
        },
        "id": "hgbU2PpSF24_",
        "outputId": "b590e2c4-8e8b-4d2a-9f8a-51cb916066ed"
      },
      "source": [
        "std_d"
      ],
      "execution_count": 28,
      "outputs": [
        {
          "output_type": "execute_result",
          "data": {
            "text/plain": [
              "{'070270034S': array(['g7_1', 'g7_3', 'g7_2'], dtype=object),\n",
              " '070877232S': array(['g5_3', 'g5_2', 'g5_1'], dtype=object),\n",
              " '090349526S': array(['g8_1', 'g8_3', 'g8_2'], dtype=object),\n",
              " '090595032S': array(['g9_3', 'g9_1', 'g9_2'], dtype=object),\n",
              " '100909663S': array(['g6_1', 'g6_3', 'g6_2'], dtype=object)}"
            ]
          },
          "metadata": {
            "tags": []
          },
          "execution_count": 28
        }
      ]
    },
    {
      "cell_type": "code",
      "metadata": {
        "colab": {
          "base_uri": "https://localhost:8080/",
          "height": 113,
          "referenced_widgets": [
            "1c596bd940f1444a89205d5e3d04236b",
            "e61b11e7ff654e87bc719b30d4f1cac7",
            "3cd036ced45745179ee092a8e6a490cf",
            "15f90eee026c4fd6bdb3c8823a6743d3",
            "c17573774170483384ccadb6d7a71eab",
            "027daf70628b47a1b18788a1015e00d7",
            "dc51cbd0f8014e8788323ba942ae3fbb",
            "51ce886d4f2c4b7c85a50be24bbef749",
            "bf8e12dc66574f8bb0851383c8cc7241",
            "3d928f5910dd4f118709d2968c802045",
            "c040be4b55a048bba04d73d0163f6d61",
            "11f483b888a04c1ab8695a173125f1c1",
            "5d544abaef464c4d88a7bde948ecfb05"
          ]
        },
        "id": "c6P_nYcxAt2B",
        "outputId": "0ff2e4a9-f8bc-42c5-83af-53d241e1ff08"
      },
      "source": [
        "from ipywidgets import interact, Dropdown, Checkbox\n",
        "\n",
        "stID = Dropdown(options = std_d.keys())\n",
        "course = Dropdown(options = std_d[stID.value]) # options = std_d[stID.value] is to remove inital error but not that necessary.\n",
        "box = Checkbox(False, description='Quizz/Assignment')\n",
        "\n",
        "\n",
        "@interact(st = stID, cs = course, chkbx= box)\n",
        "def print_cs(st, cs,chkbx ):\n",
        "    course.options = std_d[st] # Here is the trick, i.e. update course.options based on st, namely stID.value.\n",
        "    # print(st, cs)\n",
        "    dt_st.query(f\"Course_code=='{cs}' & student_ID=='{st}'\")\n",
        "\n"
      ],
      "execution_count": 29,
      "outputs": [
        {
          "output_type": "display_data",
          "data": {
            "application/vnd.jupyter.widget-view+json": {
              "model_id": "1c596bd940f1444a89205d5e3d04236b",
              "version_minor": 0,
              "version_major": 2
            },
            "text/plain": [
              "interactive(children=(Dropdown(description='st', options=('070877232S', '090595032S', '100909663S', '090349526…"
            ]
          },
          "metadata": {
            "tags": []
          }
        }
      ]
    },
    {
      "cell_type": "code",
      "metadata": {
        "id": "9eBVnP2et_Ac"
      },
      "source": [
        "#vrst='070574257S'\n",
        "\n",
        "\n",
        "std_d={}\n",
        "for st in  dt_st.student_ID.unique():\n",
        "  std_d[st]=dt_st[dt_st.student_ID==st][\"Course_code\"].unique()\n",
        "  #vrst=st\n",
        "  # list(df_recommend.query(f\"student_ID=='{st}'\").lobj_id.unique())"
      ],
      "execution_count": 30,
      "outputs": []
    },
    {
      "cell_type": "code",
      "metadata": {
        "id": "8rHw3NId0X0g"
      },
      "source": [
        "from sklearn.feature_extraction.text import CountVectorizer\n",
        "from sklearn.metrics.pairwise import cosine_similarity"
      ],
      "execution_count": 31,
      "outputs": []
    },
    {
      "cell_type": "code",
      "metadata": {
        "id": "uvMYrqPO0idy"
      },
      "source": [
        "#  Json  recommendation Initialization\n",
        "modules=[\n",
        "         {\"unit\":\"Data and statistics\", \n",
        "          \"lessons\":[\n",
        "                    {\"LessName\": \"Dot plots & frequency tables\",\n",
        "                    \"lobs\":[\n",
        "                            {\"lobID\": 1, \"lobName\":\"Representing Data\", \"URL\":, \"URL\": \"https://\" },\n",
        "                            {\"lobID\": 2,\"lobName\":\"Frequency Tables & dot plot\", \"URL\": \"https://\"}\n",
        "                          ]\n",
        "                          \n",
        "                    },\n",
        "                    {\"LessName\": \"Statistical questions\",\n",
        "                    \"lobs\":[\n",
        "                            {\"lobID\": 3, \"lobName\":\"Statistical questions\", \"URL\": \"https://\"}\n",
        "                          ]\n",
        "                    },\n",
        "                    {\"LessName\": \"Histograms\",\n",
        "                    \"lobs\":[\n",
        "                            {\"lobID\": 4, \"lobName\":\"Creating a histogram\", \"URL\": \"https://\"},\n",
        "                            {\"lobID\": 5, \"lobName\":\"Interpreting a histogram\", \"URL\": \"https://\"}\n",
        "                          ]\n",
        "                    },\n",
        "                    {\"LessName\": \"Mean and median\",\n",
        "                    \"lobs\":[\n",
        "                            \n",
        "                                {\"lobID\": 6, \"lobName\":\"Statistics Intro: Mean, Median & Mode\", \"URL\": \"https://\"}, \n",
        "                                {\"lobID\": 7, \"lobName\":\"Mean, Median & Mode example\", \"URL\": \"https://\"},\n",
        "                                {\"lobID\": 8 , \"lobName\":\"Calculating the mean\", \"URL\": \"https://\"}\n",
        "                                \n",
        "                                \n",
        "                          ]\n",
        "                    },\n",
        "                    {\"LessName\": \"Mean and median challenge problems\",\n",
        "                    \"lobs\":[\n",
        "                             {\"lobID\": 9, \"lobName\": \"Missing value given the mean\", \"URL\": \"https://\"},\n",
        "                              {\"lobID\":10 , \"lobName\":\"Mean as the balancing point\"},\n",
        "                              {\"lobID\": 11, \"lobName\":\"Impact on median & mean: Removing an outlier\"},\n",
        "                              {\"lobID\": 12, \"lobName\":\"Impact on median & mean: increasing an outlier\"},\n",
        "                              {\"lobID\": 13, \"lobName\":\"Median & range puzzlers\"}\n",
        "                          ]\n",
        "                    },\n",
        "                    {\"LessName\": \"Interquartile range (IQR)\",\n",
        "                    \"lobs\":[\n",
        "                            {\"lobID\": 14, \"lobName\":\"Interquartile range (IQR)\"}\n",
        "                          ]\n",
        "                    },\n",
        "                    {\"LessName\": \"Box Plots\",\n",
        "                    \"lobs\":[\n",
        "                            {\"lobID\":15  , \"lobName\":\"Reading box plots\"},\n",
        "                             {\"lobID\":16  , \"lobName\":\"Constructing a box plot\"},\n",
        "                             {\"lobID\":17  , \"lobName\":\"Worked example: Creating box plot (odd number of data points)\"},\n",
        "                             {\"lobID\":18  , \"lobName\":\"Worked example: Creating box plot (even number of data points)\"},\n",
        "                             {\"lobID\":19  , \"lobName\":\"Worked example: Interpreting a box plot\"}\n",
        "                          ]\n",
        "                    },\n",
        "\n",
        "                    {\"LessName\": \"Mean absolute deviation (MAD)\",\n",
        "                    \"lobs\":[\n",
        "                            { \"lobID\":20 , \"lobName\":\"Mean absolute deviation (MAD)\"},\n",
        "                              {\"lobID\":21 , \"lobName\":\"Mean absolute deviation example\"}\n",
        "                          ]\n",
        "                    },\n",
        "                    {\"LessName\": \"Comparing Data Display\",\n",
        "                    \"lobs\":[\n",
        "                            {\"lobID\":22 , \"lobName\":\"Comparing dot plots, histograms and box plots\"}\n",
        "                          ]\n",
        "                    },\n",
        "                    {\"LessName\": \"Shape of Data Distribution\",\n",
        "                    \"lobs\":[\n",
        "                            {\"lobID\":23 , \"lobName\":\"Shape of distributions\"},\n",
        "                              {\"lobID\":24 , \"lobName\":\"Clusters, gaps, peaks & outliers\"}\n",
        "                          ]\n",
        "                    },\n",
        "                    \n",
        "\n",
        "                    \n",
        "                    ],\n",
        "           \n",
        "          \n",
        "          }\n",
        "         ]"
      ],
      "execution_count": null,
      "outputs": []
    },
    {
      "cell_type": "code",
      "metadata": {
        "id": "-KO84p1K3Z4t"
      },
      "source": [
        "lst=[]\n",
        "\n",
        "md=modules[0][\"lessons\"]\n",
        "\n",
        "for st in  dt_st.student_ID.unique():\n",
        "  for i   in range(int(30*np.random.rand()+8)):\n",
        "    RndLesson= int(len(md)*np.random.rand()-1)\n",
        "    RndLob= int(len(md[RndLesson][\"lobs\"])*np.random.rand())\n",
        "    activities= {\n",
        "        \"student_ID\": st ,\n",
        "        # \"Course_code\":course_id,  \n",
        "        # \"Unit_des\":  random.choice([ \"Un_\"+str(k) for k in range(10)]),\n",
        "        \"Lesson_des\": md[RndLesson][\"LessName\"],\n",
        "\n",
        "        \"lobj_id\": md[RndLesson][\"lobs\"][RndLob][\"lobID\"], \n",
        "        \"lobj_des\": md[RndLesson][\"lobs\"][RndLob][\"lobName\"],  \n",
        "        # \"Subcps\": [ subcp[s]  for   i in range (1, int((len(subcps)*np.random.rand()+2)))] \n",
        "\n",
        "    }\n",
        "    lst.append(activities)\n",
        "df_recommend=pd.DataFrame(lst)\n"
      ],
      "execution_count": null,
      "outputs": []
    },
    {
      "cell_type": "code",
      "metadata": {
        "id": "x4RDkit9bHjv"
      },
      "source": [
        "def   recommend(st):\n",
        "#  full code for recommendation \n",
        "    \n",
        "\n",
        "# Current Student Actual. learningobjects\n",
        "  df_st_Rec=df_recommend.query(f\"student_ID=='{st}'\").drop_duplicates(subset=[\"lobj_id\"], keep=\"first\")\n",
        "##----Generate Vecrorized DF--------------------\n",
        "  sorted_score=[]\n",
        "  lst_obj=[]\n",
        "  for lobInd in df_st_Rec.index:\n",
        "    df_vectorize= df_recommend[df_recommend.student_ID !=vrst].append(\n",
        "    {\"student_ID\":vrst, \"Lesson_des\":df_st_Rec.loc[lobInd,\"Lesson_des\" ],\"lobj_id\":df_st_Rec.loc[lobInd,\"lobj_id\"],\n",
        "     \"lobj_des\":df_st_Rec.loc[lobInd,\"lobj_des\"],\"LearningObj\":df_st_Rec.loc[lobInd,\"LearningObj\"] }, ignore_index=True)  \n",
        "    cs= cosine_similarity(CountVectorizer().fit_transform(df_vectorize.LearningObj))\n",
        "    sorted_score += sorted(list(enumerate(cs[lobInd])), key=lambda x: x[1], reverse=True)\n",
        "\n",
        "\n",
        "sorted_score.sort( key=lambda x : x[1] , reverse=True)\n",
        "\n",
        "for  rec in sorted_score:\n",
        "  lst_obj.append(df_vectorize.loc[rec[0], \"lobj_des\"])\n",
        "lst_obj=list(dict.fromkeys(lst_obj))\n",
        "# take  first  5 elements\n",
        "lst_obj=[  lob   for  lob in  lst_obj  if lob not in df_st_Rec.lobj_des.unique()]\n",
        "\n",
        "return lst_obj"
      ],
      "execution_count": null,
      "outputs": []
    },
    {
      "cell_type": "code",
      "metadata": {
        "id": "hCUZAHNWEB46"
      },
      "source": [
        ""
      ],
      "execution_count": null,
      "outputs": []
    },
    {
      "cell_type": "code",
      "metadata": {
        "id": "CPn35aQf4WBw"
      },
      "source": [
        "def plot_std_Data(st, cs,chk,  status=False):\n",
        "  course.options = std_d[st]\n",
        "  plt.rcParams.update({'font.size': 25})\n",
        "  \n",
        "\n",
        "  #  subplots   x, y  :  should be related to the number of Activity_type of current student.\n",
        "\n",
        "  # list_objs=recommend( st)\n",
        "\n",
        "\n",
        "  fig, ax=plt.subplots(1, 2, figsize=(10,10) )\n",
        "  plt.subplots_adjust(top = 0.99, bottom=0.01,wspace=0.4, hspace= 0.4)\n",
        "\n",
        "  if status:\n",
        "    ref_q=dt_st.reset_index().query(f\"student_ID=='{st}' & Course_code=='{cs}' & Activity_type=='0' \").Act_submit_Time.max()\n",
        "    xq_point=[ref_q, ref_q+ timedelta(days=7)]\n",
        "    yq_point=[dt_st.loc[ref_q, \"Act_mark\"]       , predict_std.reset_index().query(f\"student_ID=='{st}'  & Course_code=='{cs}' & Activity_type=='0' \").last_mark]\n",
        "    ax[0,1].plot(xq_point , yq_point, linestyle='dashed', marker='o',\n",
        "                 markerfacecolor='blue', markersize=12)\n",
        "    \n",
        "\n",
        "    ref_a=dt_st.reset_index().query(f\"student_ID=='{st}' & Course_code=='{cs}' & Activity_type=='1' \").Act_submit_Time.max()\n",
        "    xa_point=[ref_a, ref_a+ timedelta(days=7)]\n",
        "    ya_point=[dt_st.loc[ref_a, \"Act_mark\"]       , predict_std.reset_index().query(f\"student_ID=='{st}'  & Course_code=='{cs}' & Activity_type=='0' \").last_mark]\n",
        "    ax[0,0].plot(xa_point , ya_point, linestyle='dashed', marker='o',\n",
        "                 markerfacecolor='blue', markersize=12)\n",
        "\n",
        "\n",
        "  dt_st.query(f\"Course_code=='{cs}' & student_ID=='{st}' & Activity_type=='{chk}'\").Act_mark.plot( \n",
        "      subplots=True,marker=\"o\",    ax=ax[0] , color=\"brown\")\n",
        "   \n",
        " \n",
        "  \n",
        "\n",
        "  # dt_st.query(f\"Course_code=='{cs}' & student_ID=='{st}' & Activity_type=='0'\").Act_mark.plot( \n",
        "  #     subplots=True, marker=\"s\",   ax=ax[0,1] , color=\"brown\")\n",
        "\n",
        "  # add time Avg per Activity\n",
        "\n",
        "  # ax4=ax[0].twinx()\n",
        "  dt_st.query(f\"Course_code=='{cs}' & student_ID=='{st}' & Activity_type=='{chk}'\").Act_time.plot( \n",
        "      subplots=True, marker=\"s\",   ax=ax[1] , color=\"green\")\n",
        "\n",
        "\n",
        "\n",
        "  # ax3=ax[1,0].twinx()\n",
        "  # dt_st.query(f\"Course_code=='{cs}' & student_ID=='{st}' & Activity_type=='0'\").Act_time.plot( subplots=True, marker=\"s\",   ax=ax3 , color=\"green\")\n",
        "\n",
        "  Alabel=\"Assignments Mark\"   if chk  else  \"Quizz Mark \"\n",
        "  Atitle= \" Assignement Mark Trend / Month Timeline\"  if chk   else \" Quizz Mark Trend / Month Timeline\"\n",
        "\n",
        "  # ---------------------------------------------------------------------\n",
        "  # Set title and labels for axes\n",
        "  ax[0].set(xlabel=\"Dates\",\n",
        "        ylabel= Alabel,  # \"Assignments Mark\",\n",
        "        title=Atitle ) # Assignement Mark Trend / Month Timeline\")\n",
        "  fig.autofmt_xdate(rotation=45)\n",
        "\n",
        "  ax[0].xaxis.set_major_formatter(DateFormatter(\"%Y-%b\"))\n",
        "  \n",
        "# ----------------------------------------------------------------------\n",
        "  # ax[0,1].set(xlabel=\"Dates\",\n",
        "  #       ylabel=\"Quizzes Marks\",\n",
        "  #       title=\" Quizzes Marks Trend / Month Timeline\")\n",
        "  Qlabel=\"Assignments Time\"   if chk  else  \"Quizz Time \"\n",
        "\n",
        "  ax[1].set(\n",
        "        ylabel=  Qlabel # \"Quizz Mark\"\n",
        "        )\n",
        "  ax[1].grid()\n",
        "  ax[1].legend()\n",
        "  \n",
        "  # ---------------------------------------------------------------------\n",
        "  # ax[1,1].set(ylabel=\"Quizzes Submission time \",\n",
        "  #       title= \"Quizzes Time Submission Trend / Month\")\n",
        "  # # ----------------------------------------------------------------\n",
        "  # ax[1,0].set(xlabel=\"Dates\",\n",
        "  #       ylabel=\"Assignments Subission Time\",\n",
        "  #       title=\"Assignments Time Submission Trend / Month\")\n",
        "\n",
        "  fig.autofmt_xdate(rotation=45)\n",
        "#-----------------------------------------------------------------------\n",
        " \n",
        "  # ax[0].grid()\n",
        "  # ax[0,1].grid()\n",
        "  # ax[1,0].grid()\n",
        "  # ax[1,1].xaxis.set_major_formatter(DateFormatter(\"%Y-%b\"))\n",
        "  ax[0].xaxis.set_major_formatter(DateFormatter(\"%Y-%b\"))\n",
        "\n",
        "  #---------------------------------------\n",
        "  # ax[0].legend()\n",
        "  # ax4.legend()\n",
        "  # ax[0,1].legend()\n",
        "      \n",
        "  plt.show()"
      ],
      "execution_count": 110,
      "outputs": []
    },
    {
      "cell_type": "code",
      "metadata": {
        "id": "IerlcN02TTl-",
        "colab": {
          "base_uri": "https://localhost:8080/",
          "height": 842,
          "referenced_widgets": [
            "b9d4c982badd4d4a81261bd30b251cdb",
            "f2a3a6ead49c4b1eae01403b48097c27",
            "3cd036ced45745179ee092a8e6a490cf",
            "15f90eee026c4fd6bdb3c8823a6743d3",
            "c17573774170483384ccadb6d7a71eab",
            "b574e0c257934d8e888c0b80f8e97f07",
            "dc51cbd0f8014e8788323ba942ae3fbb",
            "51ce886d4f2c4b7c85a50be24bbef749",
            "bf8e12dc66574f8bb0851383c8cc7241",
            "3d928f5910dd4f118709d2968c802045",
            "c040be4b55a048bba04d73d0163f6d61",
            "11f483b888a04c1ab8695a173125f1c1",
            "7d5261fdcf944da6add18e655d9e98c0"
          ]
        },
        "outputId": "d2b7c3ea-9a67-4ca6-a33b-18a7df12a2d1"
      },
      "source": [
        "@interact(st = stID, cs = course, chkbx= box)\n",
        "def plot_data( st, cs, chkbx):\n",
        "  print(((chkbx)+0))\n",
        "  \n",
        "  # print(predict_std.reset_index().query(f\"Course_code=='{cs}' & student_ID=='{st}'\"))\n",
        "  plot_std_Data(st, cs, ((chkbx)+0))"
      ],
      "execution_count": 111,
      "outputs": [
        {
          "output_type": "display_data",
          "data": {
            "application/vnd.jupyter.widget-view+json": {
              "model_id": "b9d4c982badd4d4a81261bd30b251cdb",
              "version_minor": 0,
              "version_major": 2
            },
            "text/plain": [
              "interactive(children=(Dropdown(description='st', options=('070877232S', '090595032S', '100909663S', '090349526…"
            ]
          },
          "metadata": {
            "tags": []
          }
        }
      ]
    },
    {
      "cell_type": "code",
      "metadata": {
        "id": "2xLXkNvmh9pP"
      },
      "source": [
        ""
      ],
      "execution_count": null,
      "outputs": []
    },
    {
      "cell_type": "markdown",
      "metadata": {
        "id": "f5tBct2XZDWe"
      },
      "source": [
        "## Compare the selected student's achievments with his colleagues (( box plot ))"
      ]
    },
    {
      "cell_type": "code",
      "metadata": {
        "id": "8BGUr1VA9PDo"
      },
      "source": [
        "fig, ax=plt.subplots(figsize=(10,10) )\n",
        "ax.plot(\n",
        "    dt_st.reset_index().query(f\"student_ID=='101235516S' & Course_code=='g5_3' & Activity_type=='0' \").Act_submit_Time.max() + timedelta(days=7) , \n",
        "    predict_std.reset_index().query(f\"student_ID=='101235516S'  & Course_code=='g5_3' & Activity_type=='0' \").last_mark\n",
        "       , marker=\"o\" )\n",
        "ax.plot(\n",
        "    dt_st.reset_index().query(f\"student_ID=='101235516S' & Course_code=='g5_3' & Activity_type=='0' \").Act_submit_Time.max() + timedelta(days=14) , \n",
        "    predict_std.reset_index().query(f\"student_ID=='101235516S'  & Course_code=='g5_3' & Activity_type=='0' \").last_mark+1.5\n",
        "       , marker=\"o\" )"
      ],
      "execution_count": null,
      "outputs": []
    },
    {
      "cell_type": "code",
      "metadata": {
        "colab": {
          "base_uri": "https://localhost:8080/"
        },
        "id": "xvnbeMjcGKsT",
        "outputId": "f8ce0afe-2816-4610-e74d-fa5bab582626"
      },
      "source": [
        "ref= dt_st.reset_index().query(f\"student_ID=='101235516S' & Course_code=='g5_3' & Activity_type=='0' \").Act_submit_Time.max()\n",
        "dt_st.loc[ref, \"Act_mark\"]\n"
      ],
      "execution_count": null,
      "outputs": [
        {
          "output_type": "execute_result",
          "data": {
            "text/plain": [
              "4.61"
            ]
          },
          "metadata": {
            "tags": []
          },
          "execution_count": 287
        }
      ]
    },
    {
      "cell_type": "code",
      "metadata": {
        "colab": {
          "base_uri": "https://localhost:8080/",
          "height": 266
        },
        "id": "4ttZK_dLGvxK",
        "outputId": "768347f4-fa90-43df-a8df-20b3eca7f199"
      },
      "source": [
        "dt_st.reset_index().query(f\"student_ID=='101235516S' & Course_code=='g5_3' & Activity_type=='0' \")"
      ],
      "execution_count": null,
      "outputs": [
        {
          "output_type": "execute_result",
          "data": {
            "text/html": [
              "<div>\n",
              "<style scoped>\n",
              "    .dataframe tbody tr th:only-of-type {\n",
              "        vertical-align: middle;\n",
              "    }\n",
              "\n",
              "    .dataframe tbody tr th {\n",
              "        vertical-align: top;\n",
              "    }\n",
              "\n",
              "    .dataframe thead th {\n",
              "        text-align: right;\n",
              "    }\n",
              "</style>\n",
              "<table border=\"1\" class=\"dataframe\">\n",
              "  <thead>\n",
              "    <tr style=\"text-align: right;\">\n",
              "      <th></th>\n",
              "      <th>Act_submit_Time</th>\n",
              "      <th>student_ID</th>\n",
              "      <th>Course_code</th>\n",
              "      <th>Activity_id</th>\n",
              "      <th>Activity_type</th>\n",
              "      <th>Unit_id</th>\n",
              "      <th>Chapter_id</th>\n",
              "      <th>Lesson_id</th>\n",
              "      <th>Act_diff</th>\n",
              "      <th>Act_cp_count</th>\n",
              "      <th>Act_time</th>\n",
              "      <th>Act_mark</th>\n",
              "    </tr>\n",
              "  </thead>\n",
              "  <tbody>\n",
              "    <tr>\n",
              "      <th>0</th>\n",
              "      <td>2020-08-29 05:57:00</td>\n",
              "      <td>101235516S</td>\n",
              "      <td>g5_3</td>\n",
              "      <td>g5_3-Act_2</td>\n",
              "      <td>0</td>\n",
              "      <td>Un_4</td>\n",
              "      <td>Chp_4</td>\n",
              "      <td>Ls_9</td>\n",
              "      <td>1</td>\n",
              "      <td>1</td>\n",
              "      <td>81</td>\n",
              "      <td>9.52</td>\n",
              "    </tr>\n",
              "    <tr>\n",
              "      <th>1</th>\n",
              "      <td>2020-10-03 21:53:30</td>\n",
              "      <td>101235516S</td>\n",
              "      <td>g5_3</td>\n",
              "      <td>g5_3-Act_5</td>\n",
              "      <td>0</td>\n",
              "      <td>Un_7</td>\n",
              "      <td>Chp_5</td>\n",
              "      <td>Ls_4</td>\n",
              "      <td>3</td>\n",
              "      <td>1</td>\n",
              "      <td>573</td>\n",
              "      <td>4.60</td>\n",
              "    </tr>\n",
              "    <tr>\n",
              "      <th>2</th>\n",
              "      <td>2020-11-07 04:07:04</td>\n",
              "      <td>101235516S</td>\n",
              "      <td>g5_3</td>\n",
              "      <td>g5_3-Act_8</td>\n",
              "      <td>0</td>\n",
              "      <td>Un_0</td>\n",
              "      <td>Chp_8</td>\n",
              "      <td>Ls_3</td>\n",
              "      <td>3</td>\n",
              "      <td>1</td>\n",
              "      <td>52</td>\n",
              "      <td>4.61</td>\n",
              "    </tr>\n",
              "    <tr>\n",
              "      <th>3</th>\n",
              "      <td>2020-05-26 15:13:36</td>\n",
              "      <td>101235516S</td>\n",
              "      <td>g5_3</td>\n",
              "      <td>g5_3-Act_6</td>\n",
              "      <td>0</td>\n",
              "      <td>Un_2</td>\n",
              "      <td>Chp_3</td>\n",
              "      <td>Ls_9</td>\n",
              "      <td>4</td>\n",
              "      <td>1</td>\n",
              "      <td>571</td>\n",
              "      <td>0.00</td>\n",
              "    </tr>\n",
              "    <tr>\n",
              "      <th>4</th>\n",
              "      <td>2020-09-12 13:17:30</td>\n",
              "      <td>101235516S</td>\n",
              "      <td>g5_3</td>\n",
              "      <td>g5_3-Act_5</td>\n",
              "      <td>0</td>\n",
              "      <td>Un_6</td>\n",
              "      <td>Chp_7</td>\n",
              "      <td>Ls_6</td>\n",
              "      <td>4</td>\n",
              "      <td>2</td>\n",
              "      <td>66</td>\n",
              "      <td>5.66</td>\n",
              "    </tr>\n",
              "    <tr>\n",
              "      <th>5</th>\n",
              "      <td>2020-02-10 14:56:19</td>\n",
              "      <td>101235516S</td>\n",
              "      <td>g5_3</td>\n",
              "      <td>g5_3-Act_7</td>\n",
              "      <td>0</td>\n",
              "      <td>Un_3</td>\n",
              "      <td>Chp_2</td>\n",
              "      <td>Ls_6</td>\n",
              "      <td>1</td>\n",
              "      <td>1</td>\n",
              "      <td>392</td>\n",
              "      <td>2.41</td>\n",
              "    </tr>\n",
              "    <tr>\n",
              "      <th>6</th>\n",
              "      <td>2020-07-09 04:31:30</td>\n",
              "      <td>101235516S</td>\n",
              "      <td>g5_3</td>\n",
              "      <td>g5_3-Act_8</td>\n",
              "      <td>0</td>\n",
              "      <td>Un_9</td>\n",
              "      <td>Chp_5</td>\n",
              "      <td>Ls_0</td>\n",
              "      <td>3</td>\n",
              "      <td>2</td>\n",
              "      <td>266</td>\n",
              "      <td>2.32</td>\n",
              "    </tr>\n",
              "  </tbody>\n",
              "</table>\n",
              "</div>"
            ],
            "text/plain": [
              "      Act_submit_Time  student_ID Course_code  ... Act_cp_count Act_time Act_mark\n",
              "0 2020-08-29 05:57:00  101235516S        g5_3  ...            1       81     9.52\n",
              "1 2020-10-03 21:53:30  101235516S        g5_3  ...            1      573     4.60\n",
              "2 2020-11-07 04:07:04  101235516S        g5_3  ...            1       52     4.61\n",
              "3 2020-05-26 15:13:36  101235516S        g5_3  ...            1      571     0.00\n",
              "4 2020-09-12 13:17:30  101235516S        g5_3  ...            2       66     5.66\n",
              "5 2020-02-10 14:56:19  101235516S        g5_3  ...            1      392     2.41\n",
              "6 2020-07-09 04:31:30  101235516S        g5_3  ...            2      266     2.32\n",
              "\n",
              "[7 rows x 12 columns]"
            ]
          },
          "metadata": {
            "tags": []
          },
          "execution_count": 286
        }
      ]
    },
    {
      "cell_type": "code",
      "metadata": {
        "colab": {
          "base_uri": "https://localhost:8080/",
          "height": 424
        },
        "id": "KmoeE2qmIuRS",
        "outputId": "087327cd-8f7e-4a08-d960-43b206ad2b13"
      },
      "source": [
        "plt.boxplot(df_avt.query(\"Activity_id=='g5_3-Act_12'\")[\"Act_mark\"])"
      ],
      "execution_count": null,
      "outputs": [
        {
          "output_type": "execute_result",
          "data": {
            "text/plain": [
              "{'boxes': [<matplotlib.lines.Line2D at 0x7f1006d9ad50>],\n",
              " 'caps': [<matplotlib.lines.Line2D at 0x7f10062541d0>,\n",
              "  <matplotlib.lines.Line2D at 0x7f100685f6d0>],\n",
              " 'fliers': [<matplotlib.lines.Line2D at 0x7f1006679710>],\n",
              " 'means': [],\n",
              " 'medians': [<matplotlib.lines.Line2D at 0x7f1006679650>],\n",
              " 'whiskers': [<matplotlib.lines.Line2D at 0x7f100638b4d0>,\n",
              "  <matplotlib.lines.Line2D at 0x7f10071dc190>]}"
            ]
          },
          "metadata": {
            "tags": []
          },
          "execution_count": 383
        },
        {
          "output_type": "display_data",
          "data": {
            "image/png": "[encoded data removed]",
            "text/plain": [
              "<Figure size 432x288 with 1 Axes>"
            ]
          },
          "metadata": {
            "tags": [],
            "needs_background": "light"
          }
        }
      ]
    },
    {
      "cell_type": "code",
      "metadata": {
        "colab": {
          "base_uri": "https://localhost:8080/",
          "height": 415
        },
        "id": "QfCYJyt_cyCA",
        "outputId": "7aad92b6-ea47-4286-ca7e-e45c1da40769"
      },
      "source": [
        "plt.boxplot(df_avt.query(\"student_ID=='090888097S' & Course_code=='g8_1' & Activity_type=='0'\").Act_mark)"
      ],
      "execution_count": null,
      "outputs": [
        {
          "output_type": "execute_result",
          "data": {
            "text/plain": [
              "{'boxes': [<matplotlib.lines.Line2D at 0x7f1006136b50>],\n",
              " 'caps': [<matplotlib.lines.Line2D at 0x7f100605ba50>,\n",
              "  <matplotlib.lines.Line2D at 0x7f100605bf10>],\n",
              " 'fliers': [<matplotlib.lines.Line2D at 0x7f10061a9950>],\n",
              " 'means': [],\n",
              " 'medians': [<matplotlib.lines.Line2D at 0x7f100605b4d0>],\n",
              " 'whiskers': [<matplotlib.lines.Line2D at 0x7f1006168710>,\n",
              "  <matplotlib.lines.Line2D at 0x7f10073ab6d0>]}"
            ]
          },
          "metadata": {
            "tags": []
          },
          "execution_count": 385
        },
        {
          "output_type": "display_data",
          "data": {
            "image/png": "[encoded data removed]",
            "text/plain": [
              "<Figure size 432x288 with 1 Axes>"
            ]
          },
          "metadata": {
            "tags": [],
            "needs_background": "light"
          }
        }
      ]
    },
    {
      "cell_type": "code",
      "metadata": {
        "id": "DfcbUREY2cDU"
      },
      "source": [
        "df_avt.index= df_avt.Act_submit_Time"
      ],
      "execution_count": null,
      "outputs": []
    },
    {
      "cell_type": "markdown",
      "metadata": {
        "id": "riEnovF6Zlby"
      },
      "source": [
        "## Graph all the students achievment in a specific subject"
      ]
    },
    {
      "cell_type": "code",
      "metadata": {
        "colab": {
          "base_uri": "https://localhost:8080/",
          "height": 649,
          "referenced_widgets": [
            "de504e2573a44587b649447c3fe2fd9c",
            "854767d776ba4366a0b2035a6bd86f5f",
            "06fe2152fb1e45fc92f49e124902e23d",
            "6248450ce5354f49b1115eab7f437129",
            "451f26b6fe544223ac3a646514887c83",
            "998973331f76479a9b7d50125fae9c38",
            "b473849cae544c9a84057ce25d1c46f7"
          ]
        },
        "id": "CvhqA2fj799L",
        "outputId": "8c7ddf82-641d-488e-9945-642d6e70ee0b"
      },
      "source": [
        "import plotly.graph_objs as go\n",
        "@interact(sbj=df_avt.Course_code.unique())\n",
        "def plot_subject(sbj):\n",
        "  plt.rcParams.update({'font.size': 25})\n",
        "  x = np.arange(10)\n",
        "  layout = go.Layout(\n",
        "    autosize=False,\n",
        "    width= 1200 , height= 600 )\n",
        "  fig=go.Figure(layout=layout)\n",
        "\n",
        "  fig.add_trace(go.Scatter(      \n",
        "      x=df_avt[(df_avt.Course_code==sbj)&(\n",
        "          df_avt.Activity_type==\"0\")].loc[\"2020-09\":\"2021-09\", \"Act_submit_Time\"].sort_index(), \n",
        "      y=df_avt[(df_avt.Course_code==sbj)&(\n",
        "          df_avt.Activity_type==\"0\")].loc[\"2020-09\":\"2021-09\", \"Act_mark\"].sort_index()\n",
        "      , mode='lines+markers', name=\"Quiz\"))\n",
        "\n",
        "  fig.add_trace(go.Scatter(\n",
        "      x=df_avt[(df_avt.Course_code==sbj)&(\n",
        "          df_avt.Activity_type==\"1\")].loc[\"2020-09\":\"2021-09\", \"Act_submit_Time\"].sort_index(), \n",
        "      y=df_avt[(df_avt.Course_code==sbj)&(\n",
        "          df_avt.Activity_type==\"1\")].loc[\"2020-09\":\"2021-09\", \"Act_mark\"].sort_index()\n",
        "      ,  name=\"Assignment\", line_shape='vhv'))\n",
        "\n",
        "\n",
        "\n",
        "  \n",
        "  fig.update_layout(hovermode=\"x\" , \n",
        "      # title=\"أداء جميع الطلبة في مادة معينة\",\n",
        "    xaxis_title=\"Submit Time\",\n",
        "    yaxis_title=\"Mark\",\n",
        "    # font=dict(\n",
        "    #     family=\"Courier New, monospace\",\n",
        "    #     size=18,\n",
        "    #     color=\"#7f7f7f\")\n",
        "     title={\n",
        "        'text': \"أداء جميع الطلبة في مادة معينة\",\n",
        "        'y':0.9,\n",
        "        'x':0.5,\n",
        "        'xanchor': 'center',\n",
        "        'yanchor': 'top'}) \n",
        "  fig.show()\n"
      ],
      "execution_count": null,
      "outputs": [
        {
          "output_type": "display_data",
          "data": {
            "application/vnd.jupyter.widget-view+json": {
              "model_id": "de504e2573a44587b649447c3fe2fd9c",
              "version_minor": 0,
              "version_major": 2
            },
            "text/plain": [
              "interactive(children=(Dropdown(description='sbj', options=('g7_3', 'g5_1', 'g5_2', 'g5_3', 'g6_1', 'g6_3', 'g6…"
            ]
          },
          "metadata": {
            "tags": []
          }
        }
      ]
    },
    {
      "cell_type": "markdown",
      "metadata": {
        "id": "38vV0zLxkgSz"
      },
      "source": [
        "## Compare the selected student's Quiz and Assignm. with Average of all students"
      ]
    },
    {
      "cell_type": "code",
      "metadata": {
        "id": "HVU60nESl4cH"
      },
      "source": [
        "df_ActAv=pd.pivot_table(df_avt, index=[\"Course_code\", \"Activity_type\", \"Activity_id\"], \n",
        "               values=[\"Act_diff\", \t\"Act_cp_count\", \t\"Act_time\" , \t\"Act_mark\"] , aggfunc=(\"mean\")).rename(\n",
        "   columns={\n",
        "    \"Act_diff\": \"Act_diff_avg\", \t\n",
        "    \"Act_cp_count\": \"Act_cp_avg\", \t\n",
        "    \"Act_time\" : \"Act_time_avg\" , \t\n",
        "    \"Act_mark\" : \"Act_mark_avg\" \n",
        "   } \n",
        ")"
      ],
      "execution_count": null,
      "outputs": []
    },
    {
      "cell_type": "code",
      "metadata": {
        "colab": {
          "base_uri": "https://localhost:8080/",
          "height": 235
        },
        "id": "bPqBYMoZFIHY",
        "outputId": "004bd2a9-7443-49a6-8459-e88634766466"
      },
      "source": [
        "df_ActAv.head()"
      ],
      "execution_count": null,
      "outputs": [
        {
          "output_type": "execute_result",
          "data": {
            "text/html": [
              "<div>\n",
              "<style scoped>\n",
              "    .dataframe tbody tr th:only-of-type {\n",
              "        vertical-align: middle;\n",
              "    }\n",
              "\n",
              "    .dataframe tbody tr th {\n",
              "        vertical-align: top;\n",
              "    }\n",
              "\n",
              "    .dataframe thead th {\n",
              "        text-align: right;\n",
              "    }\n",
              "</style>\n",
              "<table border=\"1\" class=\"dataframe\">\n",
              "  <thead>\n",
              "    <tr style=\"text-align: right;\">\n",
              "      <th></th>\n",
              "      <th></th>\n",
              "      <th></th>\n",
              "      <th>Act_cp_avg</th>\n",
              "      <th>Act_diff_avg</th>\n",
              "      <th>Act_mark_avg</th>\n",
              "      <th>Act_time_avg</th>\n",
              "    </tr>\n",
              "    <tr>\n",
              "      <th>Course_code</th>\n",
              "      <th>Activity_type</th>\n",
              "      <th>Activity_id</th>\n",
              "      <th></th>\n",
              "      <th></th>\n",
              "      <th></th>\n",
              "      <th></th>\n",
              "    </tr>\n",
              "  </thead>\n",
              "  <tbody>\n",
              "    <tr>\n",
              "      <th rowspan=\"5\" valign=\"top\">g5_1</th>\n",
              "      <th rowspan=\"5\" valign=\"top\">0</th>\n",
              "      <th>g5_1-Act_1</th>\n",
              "      <td>1.500000</td>\n",
              "      <td>3.250000</td>\n",
              "      <td>5.177500</td>\n",
              "      <td>329.000000</td>\n",
              "    </tr>\n",
              "    <tr>\n",
              "      <th>g5_1-Act_10</th>\n",
              "      <td>1.000000</td>\n",
              "      <td>3.000000</td>\n",
              "      <td>1.890000</td>\n",
              "      <td>272.000000</td>\n",
              "    </tr>\n",
              "    <tr>\n",
              "      <th>g5_1-Act_11</th>\n",
              "      <td>1.166667</td>\n",
              "      <td>2.333333</td>\n",
              "      <td>3.245000</td>\n",
              "      <td>603.166667</td>\n",
              "    </tr>\n",
              "    <tr>\n",
              "      <th>g5_1-Act_12</th>\n",
              "      <td>1.500000</td>\n",
              "      <td>1.000000</td>\n",
              "      <td>8.540000</td>\n",
              "      <td>289.500000</td>\n",
              "    </tr>\n",
              "    <tr>\n",
              "      <th>g5_1-Act_13</th>\n",
              "      <td>1.333333</td>\n",
              "      <td>1.666667</td>\n",
              "      <td>5.716667</td>\n",
              "      <td>674.666667</td>\n",
              "    </tr>\n",
              "  </tbody>\n",
              "</table>\n",
              "</div>"
            ],
            "text/plain": [
              "                                       Act_cp_avg  ...  Act_time_avg\n",
              "Course_code Activity_type Activity_id              ...              \n",
              "g5_1        0             g5_1-Act_1     1.500000  ...    329.000000\n",
              "                          g5_1-Act_10    1.000000  ...    272.000000\n",
              "                          g5_1-Act_11    1.166667  ...    603.166667\n",
              "                          g5_1-Act_12    1.500000  ...    289.500000\n",
              "                          g5_1-Act_13    1.333333  ...    674.666667\n",
              "\n",
              "[5 rows x 4 columns]"
            ]
          },
          "metadata": {
            "tags": []
          },
          "execution_count": 79
        }
      ]
    },
    {
      "cell_type": "code",
      "metadata": {
        "colab": {
          "base_uri": "https://localhost:8080/"
        },
        "id": "JaQConHkrLZ2",
        "outputId": "826f73f3-d9c8-4d11-d66f-d767ec6396a1"
      },
      "source": [
        "df_ActAv.shape"
      ],
      "execution_count": null,
      "outputs": [
        {
          "output_type": "execute_result",
          "data": {
            "text/plain": [
              "(585, 4)"
            ]
          },
          "metadata": {
            "tags": []
          },
          "execution_count": 80
        }
      ]
    },
    {
      "cell_type": "code",
      "metadata": {
        "id": "rgyE9emkgyDY"
      },
      "source": [
        "df_avt.loc[\"2020-09\"].head()"
      ],
      "execution_count": null,
      "outputs": []
    },
    {
      "cell_type": "code",
      "metadata": {
        "id": "7QUyR3Bj4xp5"
      },
      "source": [
        "df_avt.groupby([\"student_ID\", \"Activity_type\"]).agg(\"count\").max()"
      ],
      "execution_count": null,
      "outputs": []
    },
    {
      "cell_type": "code",
      "metadata": {
        "colab": {
          "base_uri": "https://localhost:8080/",
          "height": 266
        },
        "id": "cnbhHR126cEn",
        "outputId": "84a78cbc-a39a-4200-8896-9e4b2cd231f2"
      },
      "source": [
        "df_avt[df_avt.student_ID==\"060674824\"].loc[\"2020-4\":\"2021-2\" ,[\"Course_code\", \"Activity_type\" , \"Activity_id\", \"Act_diff\", \t\"Act_cp_count\", \t\"Act_time\"\t,\"Act_mark\"]]"
      ],
      "execution_count": null,
      "outputs": [
        {
          "output_type": "execute_result",
          "data": {
            "text/html": [
              "<div>\n",
              "<style scoped>\n",
              "    .dataframe tbody tr th:only-of-type {\n",
              "        vertical-align: middle;\n",
              "    }\n",
              "\n",
              "    .dataframe tbody tr th {\n",
              "        vertical-align: top;\n",
              "    }\n",
              "\n",
              "    .dataframe thead th {\n",
              "        text-align: right;\n",
              "    }\n",
              "</style>\n",
              "<table border=\"1\" class=\"dataframe\">\n",
              "  <thead>\n",
              "    <tr style=\"text-align: right;\">\n",
              "      <th></th>\n",
              "      <th>Course_code</th>\n",
              "      <th>Activity_type</th>\n",
              "      <th>Activity_id</th>\n",
              "      <th>Act_diff</th>\n",
              "      <th>Act_cp_count</th>\n",
              "      <th>Act_time</th>\n",
              "      <th>Act_mark</th>\n",
              "    </tr>\n",
              "    <tr>\n",
              "      <th>Act_submit_Time</th>\n",
              "      <th></th>\n",
              "      <th></th>\n",
              "      <th></th>\n",
              "      <th></th>\n",
              "      <th></th>\n",
              "      <th></th>\n",
              "      <th></th>\n",
              "    </tr>\n",
              "  </thead>\n",
              "  <tbody>\n",
              "    <tr>\n",
              "      <th>2020-09-22 10:07:59</th>\n",
              "      <td>g9_3</td>\n",
              "      <td>1</td>\n",
              "      <td>g9_3-Act_17</td>\n",
              "      <td>2</td>\n",
              "      <td>2</td>\n",
              "      <td>230</td>\n",
              "      <td>8.69</td>\n",
              "    </tr>\n",
              "    <tr>\n",
              "      <th>2020-09-06 15:00:17</th>\n",
              "      <td>g9_3</td>\n",
              "      <td>0</td>\n",
              "      <td>g9_3-Act_7</td>\n",
              "      <td>2</td>\n",
              "      <td>1</td>\n",
              "      <td>861</td>\n",
              "      <td>2.46</td>\n",
              "    </tr>\n",
              "    <tr>\n",
              "      <th>2020-06-01 20:42:27</th>\n",
              "      <td>g9_1</td>\n",
              "      <td>1</td>\n",
              "      <td>g9_1-Act_17</td>\n",
              "      <td>4</td>\n",
              "      <td>2</td>\n",
              "      <td>516</td>\n",
              "      <td>0.20</td>\n",
              "    </tr>\n",
              "    <tr>\n",
              "      <th>2020-07-16 08:26:16</th>\n",
              "      <td>g9_3</td>\n",
              "      <td>0</td>\n",
              "      <td>g9_3-Act_4</td>\n",
              "      <td>3</td>\n",
              "      <td>1</td>\n",
              "      <td>483</td>\n",
              "      <td>7.61</td>\n",
              "    </tr>\n",
              "    <tr>\n",
              "      <th>2020-08-04 16:29:50</th>\n",
              "      <td>g9_2</td>\n",
              "      <td>0</td>\n",
              "      <td>g9_2-Act_16</td>\n",
              "      <td>4</td>\n",
              "      <td>1</td>\n",
              "      <td>877</td>\n",
              "      <td>4.89</td>\n",
              "    </tr>\n",
              "    <tr>\n",
              "      <th>2020-12-11 10:31:42</th>\n",
              "      <td>g9_2</td>\n",
              "      <td>1</td>\n",
              "      <td>g9_2-Act_4</td>\n",
              "      <td>2</td>\n",
              "      <td>2</td>\n",
              "      <td>661</td>\n",
              "      <td>0.38</td>\n",
              "    </tr>\n",
              "  </tbody>\n",
              "</table>\n",
              "</div>"
            ],
            "text/plain": [
              "                    Course_code Activity_type  ... Act_time  Act_mark\n",
              "Act_submit_Time                                ...                   \n",
              "2020-09-22 10:07:59        g9_3             1  ...      230      8.69\n",
              "2020-09-06 15:00:17        g9_3             0  ...      861      2.46\n",
              "2020-06-01 20:42:27        g9_1             1  ...      516      0.20\n",
              "2020-07-16 08:26:16        g9_3             0  ...      483      7.61\n",
              "2020-08-04 16:29:50        g9_2             0  ...      877      4.89\n",
              "2020-12-11 10:31:42        g9_2             1  ...      661      0.38\n",
              "\n",
              "[6 rows x 7 columns]"
            ]
          },
          "metadata": {
            "tags": []
          },
          "execution_count": 94
        }
      ]
    },
    {
      "cell_type": "code",
      "metadata": {
        "id": "1ttA46uHigbZ"
      },
      "source": [
        "df_plt=df_avt[df_avt.student_ID==\"060674824\"].loc[\"2020-4\":\"2021-2\" ,[\"Course_code\", \"Activity_type\" , \"Activity_id\", \"Act_diff\", \t\"Act_cp_count\", \t\"Act_time\"\t,\"Act_mark\"]]"
      ],
      "execution_count": null,
      "outputs": []
    },
    {
      "cell_type": "code",
      "metadata": {
        "colab": {
          "base_uri": "https://localhost:8080/"
        },
        "id": "nw57VIPVYcWg",
        "outputId": "c551506d-940a-4509-ddd2-f98722a230f5"
      },
      "source": [
        "df_plt.groupby(\"Course_code\").Activity_id.agg(\"count\")"
      ],
      "execution_count": null,
      "outputs": [
        {
          "output_type": "execute_result",
          "data": {
            "text/plain": [
              "Course_code\n",
              "g9_1    1\n",
              "g9_2    2\n",
              "g9_3    3\n",
              "Name: Activity_id, dtype: int64"
            ]
          },
          "metadata": {
            "tags": []
          },
          "execution_count": 102
        }
      ]
    },
    {
      "cell_type": "code",
      "metadata": {
        "id": "jWCFQ0JQsVaA"
      },
      "source": [
        "df_plt.reset_index(inplace=True)"
      ],
      "execution_count": null,
      "outputs": []
    },
    {
      "cell_type": "code",
      "metadata": {
        "id": "9N6UkyhfiSdJ"
      },
      "source": [
        "df_plt=df_plt.merge( df_ActAv, on=[\"Activity_type\", \"Activity_id\" ])"
      ],
      "execution_count": null,
      "outputs": []
    },
    {
      "cell_type": "code",
      "metadata": {
        "colab": {
          "base_uri": "https://localhost:8080/"
        },
        "id": "w8_8WpampUuy",
        "outputId": "3d42a056-3a4a-44cc-8873-b7a76601706c"
      },
      "source": [
        "df_plt.keys()"
      ],
      "execution_count": null,
      "outputs": [
        {
          "output_type": "execute_result",
          "data": {
            "text/plain": [
              "Index(['Act_submit_Time', 'Course_code', 'Activity_type', 'Activity_id',\n",
              "       'Act_diff', 'Act_cp_count', 'Act_time', 'Act_mark', 'Act_cp_avg',\n",
              "       'Act_diff_avg', 'Act_mark_avg', 'Act_time_avg'],\n",
              "      dtype='object')"
            ]
          },
          "metadata": {
            "tags": []
          },
          "execution_count": 105
        }
      ]
    },
    {
      "cell_type": "code",
      "metadata": {
        "id": "Vpe522sppPKs"
      },
      "source": [
        "df_plt.set_index(\"Act_submit_Time\", inplace=True)"
      ],
      "execution_count": null,
      "outputs": []
    },
    {
      "cell_type": "code",
      "metadata": {
        "colab": {
          "base_uri": "https://localhost:8080/",
          "height": 320
        },
        "id": "nRUOMSNAr6E0",
        "outputId": "0618625c-f74b-4695-c9c8-4ec909374466"
      },
      "source": [
        "# this is dataset for a particular Student.\n",
        "df_plt.head()"
      ],
      "execution_count": null,
      "outputs": [
        {
          "output_type": "execute_result",
          "data": {
            "text/html": [
              "<div>\n",
              "<style scoped>\n",
              "    .dataframe tbody tr th:only-of-type {\n",
              "        vertical-align: middle;\n",
              "    }\n",
              "\n",
              "    .dataframe tbody tr th {\n",
              "        vertical-align: top;\n",
              "    }\n",
              "\n",
              "    .dataframe thead th {\n",
              "        text-align: right;\n",
              "    }\n",
              "</style>\n",
              "<table border=\"1\" class=\"dataframe\">\n",
              "  <thead>\n",
              "    <tr style=\"text-align: right;\">\n",
              "      <th></th>\n",
              "      <th>Course_code</th>\n",
              "      <th>Activity_type</th>\n",
              "      <th>Activity_id</th>\n",
              "      <th>Act_diff</th>\n",
              "      <th>Act_cp_count</th>\n",
              "      <th>Act_time</th>\n",
              "      <th>Act_mark</th>\n",
              "      <th>Act_cp_avg</th>\n",
              "      <th>Act_diff_avg</th>\n",
              "      <th>Act_mark_avg</th>\n",
              "      <th>Act_time_avg</th>\n",
              "    </tr>\n",
              "    <tr>\n",
              "      <th>Act_submit_Time</th>\n",
              "      <th></th>\n",
              "      <th></th>\n",
              "      <th></th>\n",
              "      <th></th>\n",
              "      <th></th>\n",
              "      <th></th>\n",
              "      <th></th>\n",
              "      <th></th>\n",
              "      <th></th>\n",
              "      <th></th>\n",
              "      <th></th>\n",
              "    </tr>\n",
              "  </thead>\n",
              "  <tbody>\n",
              "    <tr>\n",
              "      <th>2020-09-22 10:07:59</th>\n",
              "      <td>g9_3</td>\n",
              "      <td>1</td>\n",
              "      <td>g9_3-Act_17</td>\n",
              "      <td>2</td>\n",
              "      <td>2</td>\n",
              "      <td>230</td>\n",
              "      <td>8.69</td>\n",
              "      <td>2.000000</td>\n",
              "      <td>3.000000</td>\n",
              "      <td>6.562000</td>\n",
              "      <td>455.600000</td>\n",
              "    </tr>\n",
              "    <tr>\n",
              "      <th>2020-09-06 15:00:17</th>\n",
              "      <td>g9_3</td>\n",
              "      <td>0</td>\n",
              "      <td>g9_3-Act_7</td>\n",
              "      <td>2</td>\n",
              "      <td>1</td>\n",
              "      <td>861</td>\n",
              "      <td>2.46</td>\n",
              "      <td>1.500000</td>\n",
              "      <td>3.000000</td>\n",
              "      <td>4.496667</td>\n",
              "      <td>527.833333</td>\n",
              "    </tr>\n",
              "    <tr>\n",
              "      <th>2020-06-01 20:42:27</th>\n",
              "      <td>g9_1</td>\n",
              "      <td>1</td>\n",
              "      <td>g9_1-Act_17</td>\n",
              "      <td>4</td>\n",
              "      <td>2</td>\n",
              "      <td>516</td>\n",
              "      <td>0.20</td>\n",
              "      <td>1.600000</td>\n",
              "      <td>2.600000</td>\n",
              "      <td>3.028000</td>\n",
              "      <td>561.800000</td>\n",
              "    </tr>\n",
              "    <tr>\n",
              "      <th>2020-07-16 08:26:16</th>\n",
              "      <td>g9_3</td>\n",
              "      <td>0</td>\n",
              "      <td>g9_3-Act_4</td>\n",
              "      <td>3</td>\n",
              "      <td>1</td>\n",
              "      <td>483</td>\n",
              "      <td>7.61</td>\n",
              "      <td>1.666667</td>\n",
              "      <td>3.166667</td>\n",
              "      <td>5.690000</td>\n",
              "      <td>278.833333</td>\n",
              "    </tr>\n",
              "    <tr>\n",
              "      <th>2020-08-04 16:29:50</th>\n",
              "      <td>g9_2</td>\n",
              "      <td>0</td>\n",
              "      <td>g9_2-Act_16</td>\n",
              "      <td>4</td>\n",
              "      <td>1</td>\n",
              "      <td>877</td>\n",
              "      <td>4.89</td>\n",
              "      <td>1.428571</td>\n",
              "      <td>2.571429</td>\n",
              "      <td>5.961429</td>\n",
              "      <td>428.428571</td>\n",
              "    </tr>\n",
              "  </tbody>\n",
              "</table>\n",
              "</div>"
            ],
            "text/plain": [
              "                    Course_code Activity_type  ... Act_mark_avg  Act_time_avg\n",
              "Act_submit_Time                                ...                           \n",
              "2020-09-22 10:07:59        g9_3             1  ...     6.562000    455.600000\n",
              "2020-09-06 15:00:17        g9_3             0  ...     4.496667    527.833333\n",
              "2020-06-01 20:42:27        g9_1             1  ...     3.028000    561.800000\n",
              "2020-07-16 08:26:16        g9_3             0  ...     5.690000    278.833333\n",
              "2020-08-04 16:29:50        g9_2             0  ...     5.961429    428.428571\n",
              "\n",
              "[5 rows x 11 columns]"
            ]
          },
          "metadata": {
            "tags": []
          },
          "execution_count": 107
        }
      ]
    },
    {
      "cell_type": "code",
      "metadata": {
        "id": "MIY4x-CcyJHn"
      },
      "source": [
        "df_plt[\"Activity_type\"]=df_plt.Activity_type.astype(int)  "
      ],
      "execution_count": null,
      "outputs": []
    },
    {
      "cell_type": "code",
      "metadata": {
        "colab": {
          "base_uri": "https://localhost:8080/"
        },
        "id": "uvwt7ut-Husi",
        "outputId": "881b238f-0ffa-4880-ea11-f0e8a1be4cd5"
      },
      "source": [
        "df_plt[df_plt.Activity_type==0][\"Act_mark\"]"
      ],
      "execution_count": null,
      "outputs": [
        {
          "output_type": "execute_result",
          "data": {
            "text/plain": [
              "Act_submit_Time\n",
              "2020-09-06 15:00:17    2.46\n",
              "2020-07-16 08:26:16    7.61\n",
              "2020-08-04 16:29:50    4.89\n",
              "Name: Act_mark, dtype: float64"
            ]
          },
          "metadata": {
            "tags": []
          },
          "execution_count": 110
        }
      ]
    },
    {
      "cell_type": "code",
      "metadata": {
        "colab": {
          "base_uri": "https://localhost:8080/"
        },
        "id": "urTWLsB5ySr9",
        "outputId": "007a09ef-deeb-415e-a377-e59885965d5c"
      },
      "source": [
        "df_plt.info()"
      ],
      "execution_count": null,
      "outputs": [
        {
          "output_type": "stream",
          "text": [
            "<class 'pandas.core.frame.DataFrame'>\n",
            "DatetimeIndex: 6 entries, 2020-09-22 10:07:59 to 2020-12-11 10:31:42\n",
            "Data columns (total 11 columns):\n",
            " #   Column         Non-Null Count  Dtype  \n",
            "---  ------         --------------  -----  \n",
            " 0   Course_code    6 non-null      object \n",
            " 1   Activity_type  6 non-null      int64  \n",
            " 2   Activity_id    6 non-null      object \n",
            " 3   Act_diff       6 non-null      int64  \n",
            " 4   Act_cp_count   6 non-null      int64  \n",
            " 5   Act_time       6 non-null      int64  \n",
            " 6   Act_mark       6 non-null      float64\n",
            " 7   Act_cp_avg     6 non-null      float64\n",
            " 8   Act_diff_avg   6 non-null      float64\n",
            " 9   Act_mark_avg   6 non-null      float64\n",
            " 10  Act_time_avg   6 non-null      float64\n",
            "dtypes: float64(5), int64(4), object(2)\n",
            "memory usage: 576.0+ bytes\n"
          ],
          "name": "stdout"
        }
      ]
    },
    {
      "cell_type": "code",
      "metadata": {
        "colab": {
          "base_uri": "https://localhost:8080/"
        },
        "id": "t4WMII75PQu5",
        "outputId": "f395b569-c65b-4575-b0db-14ccec5691c4"
      },
      "source": [
        "df_plt[df_plt.Activity_type==1][\"Act_mark\"]"
      ],
      "execution_count": null,
      "outputs": [
        {
          "output_type": "execute_result",
          "data": {
            "text/plain": [
              "Act_submit_Time\n",
              "2020-09-22 10:07:59    8.69\n",
              "2020-06-01 20:42:27    0.20\n",
              "2020-12-11 10:31:42    0.38\n",
              "Name: Act_mark, dtype: float64"
            ]
          },
          "metadata": {
            "tags": []
          },
          "execution_count": 113
        }
      ]
    },
    {
      "cell_type": "code",
      "metadata": {
        "id": "yKylbH4JgWHn"
      },
      "source": [
        "import matplotlib.pyplot as plt\n",
        "from matplotlib.dates import DateFormatter\n",
        "import seaborn as sns"
      ],
      "execution_count": null,
      "outputs": []
    },
    {
      "cell_type": "code",
      "metadata": {
        "colab": {
          "base_uri": "https://localhost:8080/",
          "height": 585
        },
        "id": "M-prVAb6VvY9",
        "outputId": "ee0c292f-657e-4ef9-9565-aca4a978400d"
      },
      "source": [
        "plt.rcParams.update({'font.size': 22})\n",
        "fig = plt.figure(figsize=(18,8))\n",
        "ax1 = fig.add_subplot(111)\n",
        "\n",
        "ax1.plot( df_plt[df_plt.Activity_type==0][\"Act_mark\"].sort_index(), marker=\"o\" , color=\"blue\", label=\"Assignements Mark\")\n",
        "ax2=ax1.twinx()\n",
        "ax2.plot( df_plt[df_plt.Activity_type==0][\"Act_mark_avg\"].sort_index(), marker=\"s\" , color=\"green\", label=\"Average Assignement Marks\" )\n",
        "\n",
        "#plt.legend()\n",
        "ax1.legend()\n",
        "ax2.legend(loc=\"lower right\")\n",
        "ax1.grid()\n",
        "ax2.set_ylabel(\"Assign. Avg. Mark\")\n",
        "ax1.set_ylabel(\"Assign. Mark\")\n",
        "\n",
        "\n",
        "\n",
        "\n",
        "ax1.set(xlabel=\"Dates\",\n",
        "        #ylabel=\"Quizzes Marks\",\n",
        "        title=\"Assign. Mark VS Assign. Avg Mark Timeline\"        )\n",
        "fig.autofmt_xdate(rotation=45)"
      ],
      "execution_count": null,
      "outputs": [
        {
          "output_type": "display_data",
          "data": {
            "image/png": "[encoded data removed]",
            "text/plain": [
              "<Figure size 1296x576 with 2 Axes>"
            ]
          },
          "metadata": {
            "tags": [],
            "needs_background": "light"
          }
        }
      ]
    },
    {
      "cell_type": "code",
      "metadata": {
        "colab": {
          "base_uri": "https://localhost:8080/",
          "height": 309
        },
        "id": "PywcBt6tGRZC",
        "outputId": "2df98b9a-13eb-4bbf-8023-de9a7bf659d9"
      },
      "source": [
        "df_plt.reset_index(inplace=True)\n",
        "df_plt.head()"
      ],
      "execution_count": null,
      "outputs": [
        {
          "output_type": "execute_result",
          "data": {
            "text/html": [
              "<div>\n",
              "<style scoped>\n",
              "    .dataframe tbody tr th:only-of-type {\n",
              "        vertical-align: middle;\n",
              "    }\n",
              "\n",
              "    .dataframe tbody tr th {\n",
              "        vertical-align: top;\n",
              "    }\n",
              "\n",
              "    .dataframe thead th {\n",
              "        text-align: right;\n",
              "    }\n",
              "</style>\n",
              "<table border=\"1\" class=\"dataframe\">\n",
              "  <thead>\n",
              "    <tr style=\"text-align: right;\">\n",
              "      <th></th>\n",
              "      <th>Act_submit_Time</th>\n",
              "      <th>Course_code</th>\n",
              "      <th>Activity_type</th>\n",
              "      <th>Activity_id</th>\n",
              "      <th>Act_diff</th>\n",
              "      <th>Act_cp_count</th>\n",
              "      <th>Act_time</th>\n",
              "      <th>Act_mark</th>\n",
              "      <th>Act_cp_avg</th>\n",
              "      <th>Act_diff_avg</th>\n",
              "      <th>Act_mark_avg</th>\n",
              "      <th>Act_time_avg</th>\n",
              "    </tr>\n",
              "  </thead>\n",
              "  <tbody>\n",
              "    <tr>\n",
              "      <th>0</th>\n",
              "      <td>2020-09-22 10:07:59</td>\n",
              "      <td>g9_3</td>\n",
              "      <td>1</td>\n",
              "      <td>g9_3-Act_17</td>\n",
              "      <td>2</td>\n",
              "      <td>2</td>\n",
              "      <td>230</td>\n",
              "      <td>8.69</td>\n",
              "      <td>2.000000</td>\n",
              "      <td>3.000000</td>\n",
              "      <td>6.562000</td>\n",
              "      <td>455.600000</td>\n",
              "    </tr>\n",
              "    <tr>\n",
              "      <th>1</th>\n",
              "      <td>2020-09-06 15:00:17</td>\n",
              "      <td>g9_3</td>\n",
              "      <td>0</td>\n",
              "      <td>g9_3-Act_7</td>\n",
              "      <td>2</td>\n",
              "      <td>1</td>\n",
              "      <td>861</td>\n",
              "      <td>2.46</td>\n",
              "      <td>1.500000</td>\n",
              "      <td>3.000000</td>\n",
              "      <td>4.496667</td>\n",
              "      <td>527.833333</td>\n",
              "    </tr>\n",
              "    <tr>\n",
              "      <th>2</th>\n",
              "      <td>2020-06-01 20:42:27</td>\n",
              "      <td>g9_1</td>\n",
              "      <td>1</td>\n",
              "      <td>g9_1-Act_17</td>\n",
              "      <td>4</td>\n",
              "      <td>2</td>\n",
              "      <td>516</td>\n",
              "      <td>0.20</td>\n",
              "      <td>1.600000</td>\n",
              "      <td>2.600000</td>\n",
              "      <td>3.028000</td>\n",
              "      <td>561.800000</td>\n",
              "    </tr>\n",
              "    <tr>\n",
              "      <th>3</th>\n",
              "      <td>2020-07-16 08:26:16</td>\n",
              "      <td>g9_3</td>\n",
              "      <td>0</td>\n",
              "      <td>g9_3-Act_4</td>\n",
              "      <td>3</td>\n",
              "      <td>1</td>\n",
              "      <td>483</td>\n",
              "      <td>7.61</td>\n",
              "      <td>1.666667</td>\n",
              "      <td>3.166667</td>\n",
              "      <td>5.690000</td>\n",
              "      <td>278.833333</td>\n",
              "    </tr>\n",
              "    <tr>\n",
              "      <th>4</th>\n",
              "      <td>2020-08-04 16:29:50</td>\n",
              "      <td>g9_2</td>\n",
              "      <td>0</td>\n",
              "      <td>g9_2-Act_16</td>\n",
              "      <td>4</td>\n",
              "      <td>1</td>\n",
              "      <td>877</td>\n",
              "      <td>4.89</td>\n",
              "      <td>1.428571</td>\n",
              "      <td>2.571429</td>\n",
              "      <td>5.961429</td>\n",
              "      <td>428.428571</td>\n",
              "    </tr>\n",
              "  </tbody>\n",
              "</table>\n",
              "</div>"
            ],
            "text/plain": [
              "      Act_submit_Time Course_code  ...  Act_mark_avg Act_time_avg\n",
              "0 2020-09-22 10:07:59        g9_3  ...      6.562000   455.600000\n",
              "1 2020-09-06 15:00:17        g9_3  ...      4.496667   527.833333\n",
              "2 2020-06-01 20:42:27        g9_1  ...      3.028000   561.800000\n",
              "3 2020-07-16 08:26:16        g9_3  ...      5.690000   278.833333\n",
              "4 2020-08-04 16:29:50        g9_2  ...      5.961429   428.428571\n",
              "\n",
              "[5 rows x 12 columns]"
            ]
          },
          "metadata": {
            "tags": []
          },
          "execution_count": 121
        }
      ]
    },
    {
      "cell_type": "markdown",
      "metadata": {
        "id": "ST9xpUUMoDsv"
      },
      "source": [
        "##  Data Preparation for prediction"
      ]
    },
    {
      "cell_type": "code",
      "metadata": {
        "id": "3GHLS2GhyZ7d"
      },
      "source": [
        "#  Add  5 selected student used  in the Graph Above\n",
        "\n",
        "df_avt= df_avt.drop(\"Act_submit_Time\", axis=1).reset_index().append( dt_st.reset_index())"
      ],
      "execution_count": null,
      "outputs": []
    },
    {
      "cell_type": "code",
      "metadata": {
        "colab": {
          "base_uri": "https://localhost:8080/",
          "height": 204
        },
        "id": "Y-KSBAvvyZ3I",
        "outputId": "9b73d837-6553-43f5-bc2c-5f81f209dbff"
      },
      "source": [
        "df_avt.tail()"
      ],
      "execution_count": null,
      "outputs": [
        {
          "output_type": "execute_result",
          "data": {
            "text/html": [
              "<div>\n",
              "<style scoped>\n",
              "    .dataframe tbody tr th:only-of-type {\n",
              "        vertical-align: middle;\n",
              "    }\n",
              "\n",
              "    .dataframe tbody tr th {\n",
              "        vertical-align: top;\n",
              "    }\n",
              "\n",
              "    .dataframe thead th {\n",
              "        text-align: right;\n",
              "    }\n",
              "</style>\n",
              "<table border=\"1\" class=\"dataframe\">\n",
              "  <thead>\n",
              "    <tr style=\"text-align: right;\">\n",
              "      <th></th>\n",
              "      <th>Act_submit_Time</th>\n",
              "      <th>student_ID</th>\n",
              "      <th>Course_code</th>\n",
              "      <th>Activity_id</th>\n",
              "      <th>Activity_type</th>\n",
              "      <th>Unit_id</th>\n",
              "      <th>Chapter_id</th>\n",
              "      <th>Lesson_id</th>\n",
              "      <th>Act_diff</th>\n",
              "      <th>Act_cp_count</th>\n",
              "      <th>Act_time</th>\n",
              "      <th>Act_mark</th>\n",
              "    </tr>\n",
              "  </thead>\n",
              "  <tbody>\n",
              "    <tr>\n",
              "      <th>159</th>\n",
              "      <td>2020-01-24 17:08:35</td>\n",
              "      <td>080922088S</td>\n",
              "      <td>g7_2</td>\n",
              "      <td>g7_2-Act_8</td>\n",
              "      <td>0</td>\n",
              "      <td>Un_5</td>\n",
              "      <td>Chp_6</td>\n",
              "      <td>Ls_6</td>\n",
              "      <td>4</td>\n",
              "      <td>1</td>\n",
              "      <td>166</td>\n",
              "      <td>1.47</td>\n",
              "    </tr>\n",
              "    <tr>\n",
              "      <th>160</th>\n",
              "      <td>2020-06-01 03:42:18</td>\n",
              "      <td>080922088S</td>\n",
              "      <td>g7_2</td>\n",
              "      <td>g7_2-Act_8</td>\n",
              "      <td>0</td>\n",
              "      <td>Un_8</td>\n",
              "      <td>Chp_7</td>\n",
              "      <td>Ls_6</td>\n",
              "      <td>4</td>\n",
              "      <td>1</td>\n",
              "      <td>445</td>\n",
              "      <td>9.89</td>\n",
              "    </tr>\n",
              "    <tr>\n",
              "      <th>161</th>\n",
              "      <td>2020-11-29 18:02:43</td>\n",
              "      <td>080922088S</td>\n",
              "      <td>g7_2</td>\n",
              "      <td>g7_2-Act_5</td>\n",
              "      <td>1</td>\n",
              "      <td>Un_8</td>\n",
              "      <td>Chp_6</td>\n",
              "      <td>Ls_2</td>\n",
              "      <td>4</td>\n",
              "      <td>1</td>\n",
              "      <td>873</td>\n",
              "      <td>2.31</td>\n",
              "    </tr>\n",
              "    <tr>\n",
              "      <th>162</th>\n",
              "      <td>2020-03-09 09:20:50</td>\n",
              "      <td>080922088S</td>\n",
              "      <td>g7_2</td>\n",
              "      <td>g7_2-Act_3</td>\n",
              "      <td>1</td>\n",
              "      <td>Un_9</td>\n",
              "      <td>Chp_2</td>\n",
              "      <td>Ls_1</td>\n",
              "      <td>3</td>\n",
              "      <td>1</td>\n",
              "      <td>545</td>\n",
              "      <td>2.12</td>\n",
              "    </tr>\n",
              "    <tr>\n",
              "      <th>163</th>\n",
              "      <td>2020-03-16 23:51:23</td>\n",
              "      <td>080922088S</td>\n",
              "      <td>g7_2</td>\n",
              "      <td>g7_2-Act_8</td>\n",
              "      <td>1</td>\n",
              "      <td>Un_1</td>\n",
              "      <td>Chp_0</td>\n",
              "      <td>Ls_5</td>\n",
              "      <td>2</td>\n",
              "      <td>2</td>\n",
              "      <td>801</td>\n",
              "      <td>9.60</td>\n",
              "    </tr>\n",
              "  </tbody>\n",
              "</table>\n",
              "</div>"
            ],
            "text/plain": [
              "        Act_submit_Time  student_ID  ... Act_time Act_mark\n",
              "159 2020-01-24 17:08:35  080922088S  ...      166     1.47\n",
              "160 2020-06-01 03:42:18  080922088S  ...      445     9.89\n",
              "161 2020-11-29 18:02:43  080922088S  ...      873     2.31\n",
              "162 2020-03-09 09:20:50  080922088S  ...      545     2.12\n",
              "163 2020-03-16 23:51:23  080922088S  ...      801     9.60\n",
              "\n",
              "[5 rows x 12 columns]"
            ]
          },
          "metadata": {
            "tags": []
          },
          "execution_count": 59
        }
      ]
    },
    {
      "cell_type": "code",
      "metadata": {
        "id": "b35Utg1IA38W"
      },
      "source": [
        "df_avt.drop([  \"Unit_id\", \"Chapter_id\", \"Lesson_id\"], inplace=True, axis=1)"
      ],
      "execution_count": null,
      "outputs": []
    },
    {
      "cell_type": "code",
      "metadata": {
        "id": "l-gk-6l41Ctd"
      },
      "source": [
        "df_avt.set_index(\"Act_submit_Time\", inplace=True, drop=True)"
      ],
      "execution_count": null,
      "outputs": []
    },
    {
      "cell_type": "code",
      "metadata": {
        "id": "JKHLt0kh2W9o"
      },
      "source": [
        "# df_avt.index=pd.to_datetime(df_avt.index)"
      ],
      "execution_count": null,
      "outputs": []
    },
    {
      "cell_type": "code",
      "metadata": {
        "colab": {
          "base_uri": "https://localhost:8080/",
          "height": 235
        },
        "id": "I8Pmaf806Use",
        "outputId": "37ee7f61-4b77-4dad-f4a9-c7fe03a94c63"
      },
      "source": [
        "df_avt.tail()"
      ],
      "execution_count": null,
      "outputs": [
        {
          "output_type": "execute_result",
          "data": {
            "text/html": [
              "<div>\n",
              "<style scoped>\n",
              "    .dataframe tbody tr th:only-of-type {\n",
              "        vertical-align: middle;\n",
              "    }\n",
              "\n",
              "    .dataframe tbody tr th {\n",
              "        vertical-align: top;\n",
              "    }\n",
              "\n",
              "    .dataframe thead th {\n",
              "        text-align: right;\n",
              "    }\n",
              "</style>\n",
              "<table border=\"1\" class=\"dataframe\">\n",
              "  <thead>\n",
              "    <tr style=\"text-align: right;\">\n",
              "      <th></th>\n",
              "      <th>student_ID</th>\n",
              "      <th>Course_code</th>\n",
              "      <th>Activity_id</th>\n",
              "      <th>Activity_type</th>\n",
              "      <th>Act_diff</th>\n",
              "      <th>Act_cp_count</th>\n",
              "      <th>Act_time</th>\n",
              "      <th>Act_mark</th>\n",
              "    </tr>\n",
              "    <tr>\n",
              "      <th>Act_submit_Time</th>\n",
              "      <th></th>\n",
              "      <th></th>\n",
              "      <th></th>\n",
              "      <th></th>\n",
              "      <th></th>\n",
              "      <th></th>\n",
              "      <th></th>\n",
              "      <th></th>\n",
              "    </tr>\n",
              "  </thead>\n",
              "  <tbody>\n",
              "    <tr>\n",
              "      <th>2020-01-24 17:08:35</th>\n",
              "      <td>080922088S</td>\n",
              "      <td>g7_2</td>\n",
              "      <td>g7_2-Act_8</td>\n",
              "      <td>0</td>\n",
              "      <td>4</td>\n",
              "      <td>1</td>\n",
              "      <td>166</td>\n",
              "      <td>1.47</td>\n",
              "    </tr>\n",
              "    <tr>\n",
              "      <th>2020-06-01 03:42:18</th>\n",
              "      <td>080922088S</td>\n",
              "      <td>g7_2</td>\n",
              "      <td>g7_2-Act_8</td>\n",
              "      <td>0</td>\n",
              "      <td>4</td>\n",
              "      <td>1</td>\n",
              "      <td>445</td>\n",
              "      <td>9.89</td>\n",
              "    </tr>\n",
              "    <tr>\n",
              "      <th>2020-11-29 18:02:43</th>\n",
              "      <td>080922088S</td>\n",
              "      <td>g7_2</td>\n",
              "      <td>g7_2-Act_5</td>\n",
              "      <td>1</td>\n",
              "      <td>4</td>\n",
              "      <td>1</td>\n",
              "      <td>873</td>\n",
              "      <td>2.31</td>\n",
              "    </tr>\n",
              "    <tr>\n",
              "      <th>2020-03-09 09:20:50</th>\n",
              "      <td>080922088S</td>\n",
              "      <td>g7_2</td>\n",
              "      <td>g7_2-Act_3</td>\n",
              "      <td>1</td>\n",
              "      <td>3</td>\n",
              "      <td>1</td>\n",
              "      <td>545</td>\n",
              "      <td>2.12</td>\n",
              "    </tr>\n",
              "    <tr>\n",
              "      <th>2020-03-16 23:51:23</th>\n",
              "      <td>080922088S</td>\n",
              "      <td>g7_2</td>\n",
              "      <td>g7_2-Act_8</td>\n",
              "      <td>1</td>\n",
              "      <td>2</td>\n",
              "      <td>2</td>\n",
              "      <td>801</td>\n",
              "      <td>9.60</td>\n",
              "    </tr>\n",
              "  </tbody>\n",
              "</table>\n",
              "</div>"
            ],
            "text/plain": [
              "                     student_ID Course_code  ... Act_time Act_mark\n",
              "Act_submit_Time                              ...                  \n",
              "2020-01-24 17:08:35  080922088S        g7_2  ...      166     1.47\n",
              "2020-06-01 03:42:18  080922088S        g7_2  ...      445     9.89\n",
              "2020-11-29 18:02:43  080922088S        g7_2  ...      873     2.31\n",
              "2020-03-09 09:20:50  080922088S        g7_2  ...      545     2.12\n",
              "2020-03-16 23:51:23  080922088S        g7_2  ...      801     9.60\n",
              "\n",
              "[5 rows x 8 columns]"
            ]
          },
          "metadata": {
            "tags": []
          },
          "execution_count": 68
        }
      ]
    },
    {
      "cell_type": "code",
      "metadata": {
        "id": "koC1IzSDNOb_"
      },
      "source": [
        "#  4  dashboard\n",
        "#plt.rcParams.update({'font.size': 12})\n",
        "#df_avt[[\"Act_mark\"]].groupby(pd.Grouper(freq=\"W\")).agg(\"mean\").plot()"
      ],
      "execution_count": null,
      "outputs": []
    },
    {
      "cell_type": "code",
      "metadata": {
        "id": "uV-fWSvauQ5q"
      },
      "source": [
        "df_act_Stat=pd.pivot_table(df_avt, index=[\"Course_code\",\"Activity_type\" ], \n",
        "               values=[\"Act_mark\", \"Act_diff\", \"Act_cp_count\", \"Act_time\" , \"Activity_id\"]   , aggfunc={\n",
        "                   \"Act_mark\":(\"mean\",\"max\", \"count\", \"min\"), \n",
        "                   \"Act_diff\": \"mean\",\n",
        "                   \"Act_cp_count\": \"mean\",\n",
        "                   \"Act_time\": (\"mean\", \"max\", \"min\"),\n",
        "                   \"Activity_id\": lambda x: x.nunique()\n",
        "               }).rename(columns={\n",
        "                   \"Activity_id\" :  \"Activities_Count\"  #  number of activities\n",
        "#                 \"Act_mark\":\"Std_act_m\", \n",
        "#                    \"Act_diff\": \"Std_act_d\",\n",
        "#                    \"Act_cp_count\": \"Std_act_cp\",\n",
        "#                    \"Act_time\": \"Std_act_t\"  \n",
        "\n",
        "               })\n"
      ],
      "execution_count": null,
      "outputs": []
    },
    {
      "cell_type": "code",
      "metadata": {
        "colab": {
          "base_uri": "https://localhost:8080/",
          "height": 266
        },
        "id": "lJWjtGDt-dLF",
        "outputId": "d83bcbd8-9220-49bd-b63e-1b21c8ab4a70"
      },
      "source": [
        "df_act_Stat.sample(5)"
      ],
      "execution_count": null,
      "outputs": [
        {
          "output_type": "execute_result",
          "data": {
            "text/html": [
              "<div>\n",
              "<style scoped>\n",
              "    .dataframe tbody tr th:only-of-type {\n",
              "        vertical-align: middle;\n",
              "    }\n",
              "\n",
              "    .dataframe tbody tr th {\n",
              "        vertical-align: top;\n",
              "    }\n",
              "\n",
              "    .dataframe thead tr th {\n",
              "        text-align: left;\n",
              "    }\n",
              "\n",
              "    .dataframe thead tr:last-of-type th {\n",
              "        text-align: right;\n",
              "    }\n",
              "</style>\n",
              "<table border=\"1\" class=\"dataframe\">\n",
              "  <thead>\n",
              "    <tr>\n",
              "      <th></th>\n",
              "      <th></th>\n",
              "      <th>Act_cp_count</th>\n",
              "      <th>Act_diff</th>\n",
              "      <th colspan=\"4\" halign=\"left\">Act_mark</th>\n",
              "      <th colspan=\"3\" halign=\"left\">Act_time</th>\n",
              "      <th>Activities_Count</th>\n",
              "    </tr>\n",
              "    <tr>\n",
              "      <th></th>\n",
              "      <th></th>\n",
              "      <th>mean</th>\n",
              "      <th>mean</th>\n",
              "      <th>count</th>\n",
              "      <th>max</th>\n",
              "      <th>mean</th>\n",
              "      <th>min</th>\n",
              "      <th>max</th>\n",
              "      <th>mean</th>\n",
              "      <th>min</th>\n",
              "      <th>&lt;lambda&gt;</th>\n",
              "    </tr>\n",
              "    <tr>\n",
              "      <th>Course_code</th>\n",
              "      <th>Activity_type</th>\n",
              "      <th></th>\n",
              "      <th></th>\n",
              "      <th></th>\n",
              "      <th></th>\n",
              "      <th></th>\n",
              "      <th></th>\n",
              "      <th></th>\n",
              "      <th></th>\n",
              "      <th></th>\n",
              "      <th></th>\n",
              "    </tr>\n",
              "  </thead>\n",
              "  <tbody>\n",
              "    <tr>\n",
              "      <th>g8_3</th>\n",
              "      <th>0</th>\n",
              "      <td>1.418919</td>\n",
              "      <td>2.527027</td>\n",
              "      <td>74</td>\n",
              "      <td>9.77</td>\n",
              "      <td>4.772432</td>\n",
              "      <td>0.04</td>\n",
              "      <td>894.0</td>\n",
              "      <td>475.229730</td>\n",
              "      <td>31.0</td>\n",
              "      <td>20</td>\n",
              "    </tr>\n",
              "    <tr>\n",
              "      <th>g7_2</th>\n",
              "      <th>1</th>\n",
              "      <td>1.512195</td>\n",
              "      <td>2.439024</td>\n",
              "      <td>82</td>\n",
              "      <td>9.75</td>\n",
              "      <td>4.952439</td>\n",
              "      <td>0.49</td>\n",
              "      <td>899.0</td>\n",
              "      <td>480.963415</td>\n",
              "      <td>30.0</td>\n",
              "      <td>19</td>\n",
              "    </tr>\n",
              "    <tr>\n",
              "      <th>g9_2</th>\n",
              "      <th>1</th>\n",
              "      <td>1.438356</td>\n",
              "      <td>2.698630</td>\n",
              "      <td>73</td>\n",
              "      <td>9.84</td>\n",
              "      <td>4.883288</td>\n",
              "      <td>0.04</td>\n",
              "      <td>897.0</td>\n",
              "      <td>452.315068</td>\n",
              "      <td>47.0</td>\n",
              "      <td>19</td>\n",
              "    </tr>\n",
              "    <tr>\n",
              "      <th>g5_3</th>\n",
              "      <th>0</th>\n",
              "      <td>1.493333</td>\n",
              "      <td>2.466667</td>\n",
              "      <td>75</td>\n",
              "      <td>9.88</td>\n",
              "      <td>5.071333</td>\n",
              "      <td>0.00</td>\n",
              "      <td>875.0</td>\n",
              "      <td>420.466667</td>\n",
              "      <td>30.0</td>\n",
              "      <td>20</td>\n",
              "    </tr>\n",
              "    <tr>\n",
              "      <th>g8_2</th>\n",
              "      <th>0</th>\n",
              "      <td>1.481013</td>\n",
              "      <td>2.569620</td>\n",
              "      <td>79</td>\n",
              "      <td>9.95</td>\n",
              "      <td>4.976835</td>\n",
              "      <td>0.06</td>\n",
              "      <td>897.0</td>\n",
              "      <td>437.367089</td>\n",
              "      <td>34.0</td>\n",
              "      <td>20</td>\n",
              "    </tr>\n",
              "  </tbody>\n",
              "</table>\n",
              "</div>"
            ],
            "text/plain": [
              "                          Act_cp_count  Act_diff  ... Act_time Activities_Count\n",
              "                                  mean      mean  ...      min         <lambda>\n",
              "Course_code Activity_type                         ...                          \n",
              "g8_3        0                 1.418919  2.527027  ...     31.0               20\n",
              "g7_2        1                 1.512195  2.439024  ...     30.0               19\n",
              "g9_2        1                 1.438356  2.698630  ...     47.0               19\n",
              "g5_3        0                 1.493333  2.466667  ...     30.0               20\n",
              "g8_2        0                 1.481013  2.569620  ...     34.0               20\n",
              "\n",
              "[5 rows x 10 columns]"
            ]
          },
          "metadata": {
            "tags": []
          },
          "execution_count": 70
        }
      ]
    },
    {
      "cell_type": "code",
      "metadata": {
        "id": "jDfjh-7BW5f7"
      },
      "source": [
        "df_act_Stat.columns=[f\"{i}_{j}\" for  i , j in df_act_Stat.columns]"
      ],
      "execution_count": null,
      "outputs": []
    },
    {
      "cell_type": "code",
      "metadata": {
        "colab": {
          "base_uri": "https://localhost:8080/",
          "height": 297
        },
        "id": "kTDEPIsiutvW",
        "outputId": "a5c3de0d-6099-429f-beee-f4568494760e"
      },
      "source": [
        "df_avt[(df_avt.Course_code==\"g5_1\")&(df_avt.Activity_type==\"0\")].describe()"
      ],
      "execution_count": null,
      "outputs": [
        {
          "output_type": "execute_result",
          "data": {
            "text/html": [
              "<div>\n",
              "<style scoped>\n",
              "    .dataframe tbody tr th:only-of-type {\n",
              "        vertical-align: middle;\n",
              "    }\n",
              "\n",
              "    .dataframe tbody tr th {\n",
              "        vertical-align: top;\n",
              "    }\n",
              "\n",
              "    .dataframe thead th {\n",
              "        text-align: right;\n",
              "    }\n",
              "</style>\n",
              "<table border=\"1\" class=\"dataframe\">\n",
              "  <thead>\n",
              "    <tr style=\"text-align: right;\">\n",
              "      <th></th>\n",
              "      <th>Act_diff</th>\n",
              "      <th>Act_cp_count</th>\n",
              "      <th>Act_time</th>\n",
              "      <th>Act_mark</th>\n",
              "    </tr>\n",
              "  </thead>\n",
              "  <tbody>\n",
              "    <tr>\n",
              "      <th>count</th>\n",
              "      <td>86.000000</td>\n",
              "      <td>86.000000</td>\n",
              "      <td>86.000000</td>\n",
              "      <td>86.000000</td>\n",
              "    </tr>\n",
              "    <tr>\n",
              "      <th>mean</th>\n",
              "      <td>2.488372</td>\n",
              "      <td>1.500000</td>\n",
              "      <td>462.290698</td>\n",
              "      <td>4.423023</td>\n",
              "    </tr>\n",
              "    <tr>\n",
              "      <th>std</th>\n",
              "      <td>1.114020</td>\n",
              "      <td>0.502933</td>\n",
              "      <td>267.539414</td>\n",
              "      <td>2.490742</td>\n",
              "    </tr>\n",
              "    <tr>\n",
              "      <th>min</th>\n",
              "      <td>1.000000</td>\n",
              "      <td>1.000000</td>\n",
              "      <td>32.000000</td>\n",
              "      <td>0.090000</td>\n",
              "    </tr>\n",
              "    <tr>\n",
              "      <th>25%</th>\n",
              "      <td>2.000000</td>\n",
              "      <td>1.000000</td>\n",
              "      <td>248.250000</td>\n",
              "      <td>2.375000</td>\n",
              "    </tr>\n",
              "    <tr>\n",
              "      <th>50%</th>\n",
              "      <td>2.000000</td>\n",
              "      <td>1.500000</td>\n",
              "      <td>461.500000</td>\n",
              "      <td>4.180000</td>\n",
              "    </tr>\n",
              "    <tr>\n",
              "      <th>75%</th>\n",
              "      <td>3.000000</td>\n",
              "      <td>2.000000</td>\n",
              "      <td>693.000000</td>\n",
              "      <td>6.157500</td>\n",
              "    </tr>\n",
              "    <tr>\n",
              "      <th>max</th>\n",
              "      <td>4.000000</td>\n",
              "      <td>2.000000</td>\n",
              "      <td>895.000000</td>\n",
              "      <td>9.370000</td>\n",
              "    </tr>\n",
              "  </tbody>\n",
              "</table>\n",
              "</div>"
            ],
            "text/plain": [
              "        Act_diff  Act_cp_count    Act_time   Act_mark\n",
              "count  86.000000     86.000000   86.000000  86.000000\n",
              "mean    2.488372      1.500000  462.290698   4.423023\n",
              "std     1.114020      0.502933  267.539414   2.490742\n",
              "min     1.000000      1.000000   32.000000   0.090000\n",
              "25%     2.000000      1.000000  248.250000   2.375000\n",
              "50%     2.000000      1.500000  461.500000   4.180000\n",
              "75%     3.000000      2.000000  693.000000   6.157500\n",
              "max     4.000000      2.000000  895.000000   9.370000"
            ]
          },
          "metadata": {
            "tags": []
          },
          "execution_count": 72
        }
      ]
    },
    {
      "cell_type": "markdown",
      "metadata": {
        "id": "lT8hkF0GZmi0"
      },
      "source": [
        "## Students' Achievement Statistics (( df_std ))  (( df_mg ))"
      ]
    },
    {
      "cell_type": "code",
      "metadata": {
        "colab": {
          "base_uri": "https://localhost:8080/",
          "height": 266
        },
        "id": "NqbdT3ZicJ6B",
        "outputId": "69368712-19bd-4755-afb7-82ca12616483"
      },
      "source": [
        "df_std_Stat=pd.pivot_table(df_avt, index=[\"student_ID\",\"Course_code\",\"Activity_type\" ], \n",
        "               values=[\"Act_mark\", \"Act_diff\", \"Act_cp_count\", \"Act_time\" ]   , aggfunc={\n",
        "                   \"Act_mark\":(\"mean\",\"max\", \"count\", np.std, \"last\"), \n",
        "                   \"Act_diff\": \"mean\",\n",
        "                   \"Act_cp_count\": \"mean\",\n",
        "                   \"Act_time\": (\"mean\", \"max\", np.std)\n",
        "               },  fill_value=0 ).rename(columns={\n",
        "                \"Act_mark\":\"Std_act_m\", \n",
        "                   \"Act_diff\": \"Std_act_d\",\n",
        "                   \"Act_cp_count\": \"Std_act_cp\",\n",
        "                   \"Act_time\": \"Std_act_t\"   \n",
        "\n",
        "               })\n",
        "df_std_Stat.head()"
      ],
      "execution_count": null,
      "outputs": [
        {
          "output_type": "execute_result",
          "data": {
            "text/html": [
              "<div>\n",
              "<style scoped>\n",
              "    .dataframe tbody tr th:only-of-type {\n",
              "        vertical-align: middle;\n",
              "    }\n",
              "\n",
              "    .dataframe tbody tr th {\n",
              "        vertical-align: top;\n",
              "    }\n",
              "\n",
              "    .dataframe thead tr th {\n",
              "        text-align: left;\n",
              "    }\n",
              "\n",
              "    .dataframe thead tr:last-of-type th {\n",
              "        text-align: right;\n",
              "    }\n",
              "</style>\n",
              "<table border=\"1\" class=\"dataframe\">\n",
              "  <thead>\n",
              "    <tr>\n",
              "      <th></th>\n",
              "      <th></th>\n",
              "      <th></th>\n",
              "      <th>Std_act_cp</th>\n",
              "      <th>Std_act_d</th>\n",
              "      <th colspan=\"5\" halign=\"left\">Std_act_m</th>\n",
              "      <th colspan=\"3\" halign=\"left\">Std_act_t</th>\n",
              "    </tr>\n",
              "    <tr>\n",
              "      <th></th>\n",
              "      <th></th>\n",
              "      <th></th>\n",
              "      <th>mean</th>\n",
              "      <th>mean</th>\n",
              "      <th>count</th>\n",
              "      <th>last</th>\n",
              "      <th>max</th>\n",
              "      <th>mean</th>\n",
              "      <th>std</th>\n",
              "      <th>max</th>\n",
              "      <th>mean</th>\n",
              "      <th>std</th>\n",
              "    </tr>\n",
              "    <tr>\n",
              "      <th>student_ID</th>\n",
              "      <th>Course_code</th>\n",
              "      <th>Activity_type</th>\n",
              "      <th></th>\n",
              "      <th></th>\n",
              "      <th></th>\n",
              "      <th></th>\n",
              "      <th></th>\n",
              "      <th></th>\n",
              "      <th></th>\n",
              "      <th></th>\n",
              "      <th></th>\n",
              "      <th></th>\n",
              "    </tr>\n",
              "  </thead>\n",
              "  <tbody>\n",
              "    <tr>\n",
              "      <th rowspan=\"4\" valign=\"top\">060102740</th>\n",
              "      <th rowspan=\"2\" valign=\"top\">g9_1</th>\n",
              "      <th>0</th>\n",
              "      <td>1.75</td>\n",
              "      <td>2.750000</td>\n",
              "      <td>4</td>\n",
              "      <td>3.38</td>\n",
              "      <td>6.68</td>\n",
              "      <td>4.850000</td>\n",
              "      <td>1.664572</td>\n",
              "      <td>543</td>\n",
              "      <td>326.000000</td>\n",
              "      <td>169.440255</td>\n",
              "    </tr>\n",
              "    <tr>\n",
              "      <th>1</th>\n",
              "      <td>1.00</td>\n",
              "      <td>3.666667</td>\n",
              "      <td>3</td>\n",
              "      <td>2.88</td>\n",
              "      <td>9.39</td>\n",
              "      <td>4.263333</td>\n",
              "      <td>4.593956</td>\n",
              "      <td>481</td>\n",
              "      <td>327.666667</td>\n",
              "      <td>167.443523</td>\n",
              "    </tr>\n",
              "    <tr>\n",
              "      <th>g9_2</th>\n",
              "      <th>1</th>\n",
              "      <td>1.50</td>\n",
              "      <td>3.000000</td>\n",
              "      <td>2</td>\n",
              "      <td>7.63</td>\n",
              "      <td>7.63</td>\n",
              "      <td>5.735000</td>\n",
              "      <td>2.679935</td>\n",
              "      <td>759</td>\n",
              "      <td>561.500000</td>\n",
              "      <td>279.307179</td>\n",
              "    </tr>\n",
              "    <tr>\n",
              "      <th>g9_3</th>\n",
              "      <th>0</th>\n",
              "      <td>2.00</td>\n",
              "      <td>1.000000</td>\n",
              "      <td>1</td>\n",
              "      <td>4.08</td>\n",
              "      <td>4.08</td>\n",
              "      <td>4.080000</td>\n",
              "      <td>0.000000</td>\n",
              "      <td>889</td>\n",
              "      <td>889.000000</td>\n",
              "      <td>0.000000</td>\n",
              "    </tr>\n",
              "    <tr>\n",
              "      <th>060119192</th>\n",
              "      <th>g9_1</th>\n",
              "      <th>0</th>\n",
              "      <td>1.00</td>\n",
              "      <td>3.000000</td>\n",
              "      <td>4</td>\n",
              "      <td>4.76</td>\n",
              "      <td>8.10</td>\n",
              "      <td>5.247500</td>\n",
              "      <td>2.520018</td>\n",
              "      <td>764</td>\n",
              "      <td>478.250000</td>\n",
              "      <td>280.150406</td>\n",
              "    </tr>\n",
              "  </tbody>\n",
              "</table>\n",
              "</div>"
            ],
            "text/plain": [
              "                                     Std_act_cp  ...   Std_act_t\n",
              "                                           mean  ...         std\n",
              "student_ID Course_code Activity_type             ...            \n",
              "060102740  g9_1        0                   1.75  ...  169.440255\n",
              "                       1                   1.00  ...  167.443523\n",
              "           g9_2        1                   1.50  ...  279.307179\n",
              "           g9_3        0                   2.00  ...    0.000000\n",
              "060119192  g9_1        0                   1.00  ...  280.150406\n",
              "\n",
              "[5 rows x 10 columns]"
            ]
          },
          "metadata": {
            "tags": []
          },
          "execution_count": 73
        }
      ]
    },
    {
      "cell_type": "code",
      "metadata": {
        "colab": {
          "base_uri": "https://localhost:8080/",
          "height": 111
        },
        "id": "whp94LKSWfoY",
        "outputId": "23d7d67e-2986-4d0c-898e-3d7914f9e223"
      },
      "source": [
        "df_avt.sample()"
      ],
      "execution_count": null,
      "outputs": [
        {
          "output_type": "execute_result",
          "data": {
            "text/html": [
              "<div>\n",
              "<style scoped>\n",
              "    .dataframe tbody tr th:only-of-type {\n",
              "        vertical-align: middle;\n",
              "    }\n",
              "\n",
              "    .dataframe tbody tr th {\n",
              "        vertical-align: top;\n",
              "    }\n",
              "\n",
              "    .dataframe thead th {\n",
              "        text-align: right;\n",
              "    }\n",
              "</style>\n",
              "<table border=\"1\" class=\"dataframe\">\n",
              "  <thead>\n",
              "    <tr style=\"text-align: right;\">\n",
              "      <th></th>\n",
              "      <th>student_ID</th>\n",
              "      <th>Course_code</th>\n",
              "      <th>Activity_id</th>\n",
              "      <th>Activity_type</th>\n",
              "      <th>Act_diff</th>\n",
              "      <th>Act_cp_count</th>\n",
              "      <th>Act_time</th>\n",
              "      <th>Act_mark</th>\n",
              "    </tr>\n",
              "    <tr>\n",
              "      <th>Act_submit_Time</th>\n",
              "      <th></th>\n",
              "      <th></th>\n",
              "      <th></th>\n",
              "      <th></th>\n",
              "      <th></th>\n",
              "      <th></th>\n",
              "      <th></th>\n",
              "      <th></th>\n",
              "    </tr>\n",
              "  </thead>\n",
              "  <tbody>\n",
              "    <tr>\n",
              "      <th>2020-12-14 02:42:52</th>\n",
              "      <td>101298080</td>\n",
              "      <td>g5_3</td>\n",
              "      <td>g5_3-Act_11</td>\n",
              "      <td>0</td>\n",
              "      <td>3</td>\n",
              "      <td>1</td>\n",
              "      <td>229</td>\n",
              "      <td>5.64</td>\n",
              "    </tr>\n",
              "  </tbody>\n",
              "</table>\n",
              "</div>"
            ],
            "text/plain": [
              "                    student_ID Course_code  ... Act_time Act_mark\n",
              "Act_submit_Time                             ...                  \n",
              "2020-12-14 02:42:52  101298080        g5_3  ...      229     5.64\n",
              "\n",
              "[1 rows x 8 columns]"
            ]
          },
          "metadata": {
            "tags": []
          },
          "execution_count": 74
        }
      ]
    },
    {
      "cell_type": "code",
      "metadata": {
        "colab": {
          "base_uri": "https://localhost:8080/",
          "height": 297
        },
        "id": "0E65b4Z5zJUw",
        "outputId": "452886a2-3ced-452d-9e6b-16d9ea152df9"
      },
      "source": [
        "df_avt[(df_avt.student_ID==\"060102740\")& (df_avt.Course_code==\"g9_1\")]"
      ],
      "execution_count": null,
      "outputs": [
        {
          "output_type": "execute_result",
          "data": {
            "text/html": [
              "<div>\n",
              "<style scoped>\n",
              "    .dataframe tbody tr th:only-of-type {\n",
              "        vertical-align: middle;\n",
              "    }\n",
              "\n",
              "    .dataframe tbody tr th {\n",
              "        vertical-align: top;\n",
              "    }\n",
              "\n",
              "    .dataframe thead th {\n",
              "        text-align: right;\n",
              "    }\n",
              "</style>\n",
              "<table border=\"1\" class=\"dataframe\">\n",
              "  <thead>\n",
              "    <tr style=\"text-align: right;\">\n",
              "      <th></th>\n",
              "      <th>student_ID</th>\n",
              "      <th>Course_code</th>\n",
              "      <th>Activity_id</th>\n",
              "      <th>Activity_type</th>\n",
              "      <th>Act_diff</th>\n",
              "      <th>Act_cp_count</th>\n",
              "      <th>Act_time</th>\n",
              "      <th>Act_mark</th>\n",
              "    </tr>\n",
              "    <tr>\n",
              "      <th>Act_submit_Time</th>\n",
              "      <th></th>\n",
              "      <th></th>\n",
              "      <th></th>\n",
              "      <th></th>\n",
              "      <th></th>\n",
              "      <th></th>\n",
              "      <th></th>\n",
              "      <th></th>\n",
              "    </tr>\n",
              "  </thead>\n",
              "  <tbody>\n",
              "    <tr>\n",
              "      <th>2020-05-27 01:06:31</th>\n",
              "      <td>060102740</td>\n",
              "      <td>g9_1</td>\n",
              "      <td>g9_1-Act_7</td>\n",
              "      <td>1</td>\n",
              "      <td>4</td>\n",
              "      <td>1</td>\n",
              "      <td>481</td>\n",
              "      <td>0.52</td>\n",
              "    </tr>\n",
              "    <tr>\n",
              "      <th>2020-05-25 02:28:51</th>\n",
              "      <td>060102740</td>\n",
              "      <td>g9_1</td>\n",
              "      <td>g9_1-Act_15</td>\n",
              "      <td>0</td>\n",
              "      <td>3</td>\n",
              "      <td>2</td>\n",
              "      <td>222</td>\n",
              "      <td>5.84</td>\n",
              "    </tr>\n",
              "    <tr>\n",
              "      <th>2020-01-14 14:01:02</th>\n",
              "      <td>060102740</td>\n",
              "      <td>g9_1</td>\n",
              "      <td>g9_1-Act_9</td>\n",
              "      <td>0</td>\n",
              "      <td>3</td>\n",
              "      <td>2</td>\n",
              "      <td>165</td>\n",
              "      <td>6.68</td>\n",
              "    </tr>\n",
              "    <tr>\n",
              "      <th>2020-10-05 00:52:17</th>\n",
              "      <td>060102740</td>\n",
              "      <td>g9_1</td>\n",
              "      <td>g9_1-Act_9</td>\n",
              "      <td>1</td>\n",
              "      <td>3</td>\n",
              "      <td>1</td>\n",
              "      <td>149</td>\n",
              "      <td>9.39</td>\n",
              "    </tr>\n",
              "    <tr>\n",
              "      <th>2020-03-15 10:19:07</th>\n",
              "      <td>060102740</td>\n",
              "      <td>g9_1</td>\n",
              "      <td>g9_1-Act_9</td>\n",
              "      <td>0</td>\n",
              "      <td>3</td>\n",
              "      <td>2</td>\n",
              "      <td>374</td>\n",
              "      <td>3.50</td>\n",
              "    </tr>\n",
              "    <tr>\n",
              "      <th>2020-03-16 13:51:19</th>\n",
              "      <td>060102740</td>\n",
              "      <td>g9_1</td>\n",
              "      <td>g9_1-Act_3</td>\n",
              "      <td>1</td>\n",
              "      <td>4</td>\n",
              "      <td>1</td>\n",
              "      <td>353</td>\n",
              "      <td>2.88</td>\n",
              "    </tr>\n",
              "    <tr>\n",
              "      <th>2020-03-13 14:14:29</th>\n",
              "      <td>060102740</td>\n",
              "      <td>g9_1</td>\n",
              "      <td>g9_1-Act_14</td>\n",
              "      <td>0</td>\n",
              "      <td>2</td>\n",
              "      <td>1</td>\n",
              "      <td>543</td>\n",
              "      <td>3.38</td>\n",
              "    </tr>\n",
              "  </tbody>\n",
              "</table>\n",
              "</div>"
            ],
            "text/plain": [
              "                    student_ID Course_code  ... Act_time Act_mark\n",
              "Act_submit_Time                             ...                  \n",
              "2020-05-27 01:06:31  060102740        g9_1  ...      481     0.52\n",
              "2020-05-25 02:28:51  060102740        g9_1  ...      222     5.84\n",
              "2020-01-14 14:01:02  060102740        g9_1  ...      165     6.68\n",
              "2020-10-05 00:52:17  060102740        g9_1  ...      149     9.39\n",
              "2020-03-15 10:19:07  060102740        g9_1  ...      374     3.50\n",
              "2020-03-16 13:51:19  060102740        g9_1  ...      353     2.88\n",
              "2020-03-13 14:14:29  060102740        g9_1  ...      543     3.38\n",
              "\n",
              "[7 rows x 8 columns]"
            ]
          },
          "metadata": {
            "tags": []
          },
          "execution_count": 76
        }
      ]
    },
    {
      "cell_type": "code",
      "metadata": {
        "id": "wsIADVEGjvd0"
      },
      "source": [
        "df_std_Stat.columns=[f\"{i}_{j}\" for  i , j in df_std_Stat.columns]"
      ],
      "execution_count": null,
      "outputs": []
    },
    {
      "cell_type": "code",
      "metadata": {
        "colab": {
          "base_uri": "https://localhost:8080/",
          "height": 255
        },
        "id": "Aex8ie9Kf8ID",
        "outputId": "87ccb227-7d8d-4af8-8037-89eb30fe0324"
      },
      "source": [
        "df_std_Stat.sample(5)"
      ],
      "execution_count": null,
      "outputs": [
        {
          "output_type": "execute_result",
          "data": {
            "text/html": [
              "<div>\n",
              "<style scoped>\n",
              "    .dataframe tbody tr th:only-of-type {\n",
              "        vertical-align: middle;\n",
              "    }\n",
              "\n",
              "    .dataframe tbody tr th {\n",
              "        vertical-align: top;\n",
              "    }\n",
              "\n",
              "    .dataframe thead th {\n",
              "        text-align: right;\n",
              "    }\n",
              "</style>\n",
              "<table border=\"1\" class=\"dataframe\">\n",
              "  <thead>\n",
              "    <tr style=\"text-align: right;\">\n",
              "      <th></th>\n",
              "      <th></th>\n",
              "      <th></th>\n",
              "      <th>Std_act_cp_mean</th>\n",
              "      <th>Std_act_d_mean</th>\n",
              "      <th>Std_act_m_count</th>\n",
              "      <th>Std_act_m_last</th>\n",
              "      <th>Std_act_m_max</th>\n",
              "      <th>Std_act_m_mean</th>\n",
              "      <th>Std_act_m_std</th>\n",
              "      <th>Std_act_t_max</th>\n",
              "      <th>Std_act_t_mean</th>\n",
              "      <th>Std_act_t_std</th>\n",
              "    </tr>\n",
              "    <tr>\n",
              "      <th>student_ID</th>\n",
              "      <th>Course_code</th>\n",
              "      <th>Activity_type</th>\n",
              "      <th></th>\n",
              "      <th></th>\n",
              "      <th></th>\n",
              "      <th></th>\n",
              "      <th></th>\n",
              "      <th></th>\n",
              "      <th></th>\n",
              "      <th></th>\n",
              "      <th></th>\n",
              "      <th></th>\n",
              "    </tr>\n",
              "  </thead>\n",
              "  <tbody>\n",
              "    <tr>\n",
              "      <th>100895602</th>\n",
              "      <th>g5_3</th>\n",
              "      <th>1</th>\n",
              "      <td>1.0</td>\n",
              "      <td>4.0</td>\n",
              "      <td>1</td>\n",
              "      <td>7.77</td>\n",
              "      <td>7.77</td>\n",
              "      <td>7.77</td>\n",
              "      <td>0.000000</td>\n",
              "      <td>259</td>\n",
              "      <td>259.0</td>\n",
              "      <td>0.000000</td>\n",
              "    </tr>\n",
              "    <tr>\n",
              "      <th>071212208</th>\n",
              "      <th>g8_3</th>\n",
              "      <th>1</th>\n",
              "      <td>2.0</td>\n",
              "      <td>4.0</td>\n",
              "      <td>1</td>\n",
              "      <td>5.38</td>\n",
              "      <td>5.38</td>\n",
              "      <td>5.38</td>\n",
              "      <td>0.000000</td>\n",
              "      <td>48</td>\n",
              "      <td>48.0</td>\n",
              "      <td>0.000000</td>\n",
              "    </tr>\n",
              "    <tr>\n",
              "      <th>091143079</th>\n",
              "      <th>g6_3</th>\n",
              "      <th>1</th>\n",
              "      <td>1.0</td>\n",
              "      <td>4.0</td>\n",
              "      <td>1</td>\n",
              "      <td>9.72</td>\n",
              "      <td>9.72</td>\n",
              "      <td>9.72</td>\n",
              "      <td>0.000000</td>\n",
              "      <td>282</td>\n",
              "      <td>282.0</td>\n",
              "      <td>0.000000</td>\n",
              "    </tr>\n",
              "    <tr>\n",
              "      <th>080371981</th>\n",
              "      <th>g7_3</th>\n",
              "      <th>1</th>\n",
              "      <td>2.0</td>\n",
              "      <td>3.5</td>\n",
              "      <td>2</td>\n",
              "      <td>0.89</td>\n",
              "      <td>5.99</td>\n",
              "      <td>3.44</td>\n",
              "      <td>3.606245</td>\n",
              "      <td>450</td>\n",
              "      <td>432.0</td>\n",
              "      <td>25.455844</td>\n",
              "    </tr>\n",
              "    <tr>\n",
              "      <th>071150765</th>\n",
              "      <th>g8_1</th>\n",
              "      <th>0</th>\n",
              "      <td>1.0</td>\n",
              "      <td>3.0</td>\n",
              "      <td>1</td>\n",
              "      <td>7.98</td>\n",
              "      <td>7.98</td>\n",
              "      <td>7.98</td>\n",
              "      <td>0.000000</td>\n",
              "      <td>232</td>\n",
              "      <td>232.0</td>\n",
              "      <td>0.000000</td>\n",
              "    </tr>\n",
              "  </tbody>\n",
              "</table>\n",
              "</div>"
            ],
            "text/plain": [
              "                                      Std_act_cp_mean  ...  Std_act_t_std\n",
              "student_ID Course_code Activity_type                   ...               \n",
              "100895602  g5_3        1                          1.0  ...       0.000000\n",
              "071212208  g8_3        1                          2.0  ...       0.000000\n",
              "091143079  g6_3        1                          1.0  ...       0.000000\n",
              "080371981  g7_3        1                          2.0  ...      25.455844\n",
              "071150765  g8_1        0                          1.0  ...       0.000000\n",
              "\n",
              "[5 rows x 10 columns]"
            ]
          },
          "metadata": {
            "tags": []
          },
          "execution_count": 79
        }
      ]
    },
    {
      "cell_type": "markdown",
      "metadata": {
        "id": "8HZkUeNRaSam"
      },
      "source": [
        "- Ranking\n",
        "\n",
        "$$\\Large score=\\log(\\frac{\\text{Qz_Max_time}}{\\text{Qz_Avg_tim}}+\\text{Qz_avg_diff*Qz_Avg_cp})*\\frac{\\text{Qz_Avg_mark}^2}{\\text{Qz_Max_mark}}$$"
      ]
    },
    {
      "cell_type": "code",
      "metadata": {
        "id": "gjiNBNDYdoDX"
      },
      "source": [
        "df_std_Stat[\"Act_score\"]=np.log1p( \n",
        "    df_std_Stat.Std_act_t_max/df_std_Stat.Std_act_t_mean +df_std_Stat.Std_act_d_mean* df_std_Stat.Std_act_cp_mean\n",
        ")*df_std_Stat[\"Std_act_m_max\"]**2/df_std_Stat.Std_act_m_mean"
      ],
      "execution_count": null,
      "outputs": []
    },
    {
      "cell_type": "code",
      "metadata": {
        "id": "mesFnowLjNjx"
      },
      "source": [
        "# reset index   for  Students    data\n",
        "df_std_Stat.reset_index(inplace=True)\n",
        "# reset index for   activities data\n",
        "df_act_Stat.reset_index(inplace=True)"
      ],
      "execution_count": null,
      "outputs": []
    },
    {
      "cell_type": "code",
      "metadata": {
        "id": "KyatOXQyV93D"
      },
      "source": [
        "# Merge Data\n",
        "df_mg=df_std_Stat.merge(df_act_Stat,  on=[\"Course_code\", \"Activity_type\"])"
      ],
      "execution_count": null,
      "outputs": []
    },
    {
      "cell_type": "code",
      "metadata": {
        "colab": {
          "base_uri": "https://localhost:8080/",
          "height": 224
        },
        "id": "yAxo1JCUV965",
        "outputId": "55f2a44f-fdb5-433d-92dc-2d1fc78a7c9d"
      },
      "source": [
        "df_mg.head()"
      ],
      "execution_count": null,
      "outputs": [
        {
          "output_type": "execute_result",
          "data": {
            "text/html": [
              "<div>\n",
              "<style scoped>\n",
              "    .dataframe tbody tr th:only-of-type {\n",
              "        vertical-align: middle;\n",
              "    }\n",
              "\n",
              "    .dataframe tbody tr th {\n",
              "        vertical-align: top;\n",
              "    }\n",
              "\n",
              "    .dataframe thead th {\n",
              "        text-align: right;\n",
              "    }\n",
              "</style>\n",
              "<table border=\"1\" class=\"dataframe\">\n",
              "  <thead>\n",
              "    <tr style=\"text-align: right;\">\n",
              "      <th></th>\n",
              "      <th>student_ID</th>\n",
              "      <th>Course_code</th>\n",
              "      <th>Activity_type</th>\n",
              "      <th>Std_act_cp_mean</th>\n",
              "      <th>Std_act_d_mean</th>\n",
              "      <th>Std_act_m_count</th>\n",
              "      <th>Std_act_m_last</th>\n",
              "      <th>Std_act_m_max</th>\n",
              "      <th>Std_act_m_mean</th>\n",
              "      <th>Std_act_m_std</th>\n",
              "      <th>Std_act_t_max</th>\n",
              "      <th>Std_act_t_mean</th>\n",
              "      <th>Std_act_t_std</th>\n",
              "      <th>Act_score</th>\n",
              "      <th>Act_cp_count_mean</th>\n",
              "      <th>Act_diff_mean</th>\n",
              "      <th>Act_mark_count</th>\n",
              "      <th>Act_mark_max</th>\n",
              "      <th>Act_mark_mean</th>\n",
              "      <th>Act_mark_min</th>\n",
              "      <th>Act_time_max</th>\n",
              "      <th>Act_time_mean</th>\n",
              "      <th>Act_time_min</th>\n",
              "      <th>Activities_Count_&lt;lambda&gt;</th>\n",
              "    </tr>\n",
              "  </thead>\n",
              "  <tbody>\n",
              "    <tr>\n",
              "      <th>0</th>\n",
              "      <td>060102740</td>\n",
              "      <td>g9_1</td>\n",
              "      <td>0</td>\n",
              "      <td>1.75</td>\n",
              "      <td>2.75</td>\n",
              "      <td>4</td>\n",
              "      <td>3.38</td>\n",
              "      <td>6.68</td>\n",
              "      <td>4.8500</td>\n",
              "      <td>1.664572</td>\n",
              "      <td>543</td>\n",
              "      <td>326.00</td>\n",
              "      <td>169.440255</td>\n",
              "      <td>18.511254</td>\n",
              "      <td>1.569892</td>\n",
              "      <td>2.655914</td>\n",
              "      <td>93</td>\n",
              "      <td>9.91</td>\n",
              "      <td>4.782796</td>\n",
              "      <td>0.07</td>\n",
              "      <td>886.0</td>\n",
              "      <td>470.397849</td>\n",
              "      <td>31.0</td>\n",
              "      <td>20</td>\n",
              "    </tr>\n",
              "    <tr>\n",
              "      <th>1</th>\n",
              "      <td>060119192</td>\n",
              "      <td>g9_1</td>\n",
              "      <td>0</td>\n",
              "      <td>1.00</td>\n",
              "      <td>3.00</td>\n",
              "      <td>4</td>\n",
              "      <td>4.76</td>\n",
              "      <td>8.10</td>\n",
              "      <td>5.2475</td>\n",
              "      <td>2.520018</td>\n",
              "      <td>764</td>\n",
              "      <td>478.25</td>\n",
              "      <td>280.150406</td>\n",
              "      <td>21.534314</td>\n",
              "      <td>1.569892</td>\n",
              "      <td>2.655914</td>\n",
              "      <td>93</td>\n",
              "      <td>9.91</td>\n",
              "      <td>4.782796</td>\n",
              "      <td>0.07</td>\n",
              "      <td>886.0</td>\n",
              "      <td>470.397849</td>\n",
              "      <td>31.0</td>\n",
              "      <td>20</td>\n",
              "    </tr>\n",
              "    <tr>\n",
              "      <th>2</th>\n",
              "      <td>060120769</td>\n",
              "      <td>g9_1</td>\n",
              "      <td>0</td>\n",
              "      <td>2.00</td>\n",
              "      <td>4.00</td>\n",
              "      <td>1</td>\n",
              "      <td>2.42</td>\n",
              "      <td>2.42</td>\n",
              "      <td>2.4200</td>\n",
              "      <td>0.000000</td>\n",
              "      <td>194</td>\n",
              "      <td>194.00</td>\n",
              "      <td>0.000000</td>\n",
              "      <td>5.572256</td>\n",
              "      <td>1.569892</td>\n",
              "      <td>2.655914</td>\n",
              "      <td>93</td>\n",
              "      <td>9.91</td>\n",
              "      <td>4.782796</td>\n",
              "      <td>0.07</td>\n",
              "      <td>886.0</td>\n",
              "      <td>470.397849</td>\n",
              "      <td>31.0</td>\n",
              "      <td>20</td>\n",
              "    </tr>\n",
              "    <tr>\n",
              "      <th>3</th>\n",
              "      <td>060121192</td>\n",
              "      <td>g9_1</td>\n",
              "      <td>0</td>\n",
              "      <td>2.00</td>\n",
              "      <td>3.50</td>\n",
              "      <td>2</td>\n",
              "      <td>6.88</td>\n",
              "      <td>6.88</td>\n",
              "      <td>6.5100</td>\n",
              "      <td>0.523259</td>\n",
              "      <td>856</td>\n",
              "      <td>634.50</td>\n",
              "      <td>313.248304</td>\n",
              "      <td>16.252782</td>\n",
              "      <td>1.569892</td>\n",
              "      <td>2.655914</td>\n",
              "      <td>93</td>\n",
              "      <td>9.91</td>\n",
              "      <td>4.782796</td>\n",
              "      <td>0.07</td>\n",
              "      <td>886.0</td>\n",
              "      <td>470.397849</td>\n",
              "      <td>31.0</td>\n",
              "      <td>20</td>\n",
              "    </tr>\n",
              "    <tr>\n",
              "      <th>4</th>\n",
              "      <td>060163708</td>\n",
              "      <td>g9_1</td>\n",
              "      <td>0</td>\n",
              "      <td>1.00</td>\n",
              "      <td>2.00</td>\n",
              "      <td>2</td>\n",
              "      <td>1.07</td>\n",
              "      <td>5.61</td>\n",
              "      <td>3.3400</td>\n",
              "      <td>3.210265</td>\n",
              "      <td>746</td>\n",
              "      <td>524.00</td>\n",
              "      <td>313.955411</td>\n",
              "      <td>14.011382</td>\n",
              "      <td>1.569892</td>\n",
              "      <td>2.655914</td>\n",
              "      <td>93</td>\n",
              "      <td>9.91</td>\n",
              "      <td>4.782796</td>\n",
              "      <td>0.07</td>\n",
              "      <td>886.0</td>\n",
              "      <td>470.397849</td>\n",
              "      <td>31.0</td>\n",
              "      <td>20</td>\n",
              "    </tr>\n",
              "  </tbody>\n",
              "</table>\n",
              "</div>"
            ],
            "text/plain": [
              "  student_ID Course_code  ... Act_time_min  Activities_Count_<lambda>\n",
              "0  060102740        g9_1  ...         31.0                         20\n",
              "1  060119192        g9_1  ...         31.0                         20\n",
              "2  060120769        g9_1  ...         31.0                         20\n",
              "3  060121192        g9_1  ...         31.0                         20\n",
              "4  060163708        g9_1  ...         31.0                         20\n",
              "\n",
              "[5 rows x 24 columns]"
            ]
          },
          "metadata": {
            "tags": []
          },
          "execution_count": 138
        }
      ]
    },
    {
      "cell_type": "code",
      "metadata": {
        "id": "8jDD_bSkV9-I"
      },
      "source": [
        "df_mg[\"last_mark\"]=df_mg.Std_act_m_last  # put the target at the end of table\n",
        "df_mg.drop(\"Std_act_m_last\", axis=1, inplace=True)  #  drop the last mark feature."
      ],
      "execution_count": null,
      "outputs": []
    },
    {
      "cell_type": "code",
      "metadata": {
        "colab": {
          "base_uri": "https://localhost:8080/",
          "height": 162
        },
        "id": "rCupuFGEV-CF",
        "outputId": "efa99326-af3d-4b74-ad4f-7f61403c8c3c"
      },
      "source": [
        "df_mg.sample(3)"
      ],
      "execution_count": null,
      "outputs": [
        {
          "output_type": "execute_result",
          "data": {
            "text/html": [
              "<div>\n",
              "<style scoped>\n",
              "    .dataframe tbody tr th:only-of-type {\n",
              "        vertical-align: middle;\n",
              "    }\n",
              "\n",
              "    .dataframe tbody tr th {\n",
              "        vertical-align: top;\n",
              "    }\n",
              "\n",
              "    .dataframe thead th {\n",
              "        text-align: right;\n",
              "    }\n",
              "</style>\n",
              "<table border=\"1\" class=\"dataframe\">\n",
              "  <thead>\n",
              "    <tr style=\"text-align: right;\">\n",
              "      <th></th>\n",
              "      <th>student_ID</th>\n",
              "      <th>Course_code</th>\n",
              "      <th>Activity_type</th>\n",
              "      <th>Std_act_cp_mean</th>\n",
              "      <th>Std_act_d_mean</th>\n",
              "      <th>Std_act_m_count</th>\n",
              "      <th>Std_act_m_max</th>\n",
              "      <th>Std_act_m_mean</th>\n",
              "      <th>Std_act_m_std</th>\n",
              "      <th>Std_act_t_max</th>\n",
              "      <th>Std_act_t_mean</th>\n",
              "      <th>Std_act_t_std</th>\n",
              "      <th>Act_score</th>\n",
              "      <th>Act_cp_count_mean</th>\n",
              "      <th>Act_diff_mean</th>\n",
              "      <th>Act_mark_count</th>\n",
              "      <th>Act_mark_max</th>\n",
              "      <th>Act_mark_mean</th>\n",
              "      <th>Act_mark_min</th>\n",
              "      <th>Act_time_max</th>\n",
              "      <th>Act_time_mean</th>\n",
              "      <th>Act_time_min</th>\n",
              "      <th>Activities_Count_&lt;lambda&gt;</th>\n",
              "      <th>last_mark</th>\n",
              "    </tr>\n",
              "  </thead>\n",
              "  <tbody>\n",
              "    <tr>\n",
              "      <th>501</th>\n",
              "      <td>091146072</td>\n",
              "      <td>g6_3</td>\n",
              "      <td>0</td>\n",
              "      <td>1.000000</td>\n",
              "      <td>3.000000</td>\n",
              "      <td>1</td>\n",
              "      <td>0.58</td>\n",
              "      <td>0.580000</td>\n",
              "      <td>0.000000</td>\n",
              "      <td>74</td>\n",
              "      <td>74.000000</td>\n",
              "      <td>0.000000</td>\n",
              "      <td>0.933474</td>\n",
              "      <td>1.516854</td>\n",
              "      <td>2.471910</td>\n",
              "      <td>89</td>\n",
              "      <td>9.83</td>\n",
              "      <td>4.414607</td>\n",
              "      <td>0.23</td>\n",
              "      <td>897.0</td>\n",
              "      <td>429.213483</td>\n",
              "      <td>31.0</td>\n",
              "      <td>20</td>\n",
              "      <td>0.58</td>\n",
              "    </tr>\n",
              "    <tr>\n",
              "      <th>471</th>\n",
              "      <td>090393922</td>\n",
              "      <td>g6_3</td>\n",
              "      <td>0</td>\n",
              "      <td>2.000000</td>\n",
              "      <td>2.000000</td>\n",
              "      <td>1</td>\n",
              "      <td>9.31</td>\n",
              "      <td>9.310000</td>\n",
              "      <td>0.000000</td>\n",
              "      <td>484</td>\n",
              "      <td>484.000000</td>\n",
              "      <td>0.000000</td>\n",
              "      <td>16.681281</td>\n",
              "      <td>1.516854</td>\n",
              "      <td>2.471910</td>\n",
              "      <td>89</td>\n",
              "      <td>9.83</td>\n",
              "      <td>4.414607</td>\n",
              "      <td>0.23</td>\n",
              "      <td>897.0</td>\n",
              "      <td>429.213483</td>\n",
              "      <td>31.0</td>\n",
              "      <td>20</td>\n",
              "      <td>9.31</td>\n",
              "    </tr>\n",
              "    <tr>\n",
              "      <th>1222</th>\n",
              "      <td>100373343</td>\n",
              "      <td>g5_3</td>\n",
              "      <td>0</td>\n",
              "      <td>1.333333</td>\n",
              "      <td>3.333333</td>\n",
              "      <td>3</td>\n",
              "      <td>6.02</td>\n",
              "      <td>2.823333</td>\n",
              "      <td>2.803932</td>\n",
              "      <td>604</td>\n",
              "      <td>473.333333</td>\n",
              "      <td>157.118851</td>\n",
              "      <td>24.454731</td>\n",
              "      <td>1.493333</td>\n",
              "      <td>2.466667</td>\n",
              "      <td>75</td>\n",
              "      <td>9.88</td>\n",
              "      <td>5.071333</td>\n",
              "      <td>0.00</td>\n",
              "      <td>875.0</td>\n",
              "      <td>420.466667</td>\n",
              "      <td>30.0</td>\n",
              "      <td>20</td>\n",
              "      <td>0.78</td>\n",
              "    </tr>\n",
              "  </tbody>\n",
              "</table>\n",
              "</div>"
            ],
            "text/plain": [
              "     student_ID Course_code  ... Activities_Count_<lambda>  last_mark\n",
              "501   091146072        g6_3  ...                        20       0.58\n",
              "471   090393922        g6_3  ...                        20       9.31\n",
              "1222  100373343        g5_3  ...                        20       0.78\n",
              "\n",
              "[3 rows x 24 columns]"
            ]
          },
          "metadata": {
            "tags": []
          },
          "execution_count": 140
        }
      ]
    },
    {
      "cell_type": "code",
      "metadata": {
        "colab": {
          "base_uri": "https://localhost:8080/"
        },
        "id": "nf9rbrTlkdiz",
        "outputId": "1f844769-fdfc-498a-bbbb-8a8a8ae6c2a0"
      },
      "source": [
        "df_mg.info()"
      ],
      "execution_count": null,
      "outputs": [
        {
          "output_type": "stream",
          "text": [
            "<class 'pandas.core.frame.DataFrame'>\n",
            "Int64Index: 1300 entries, 0 to 1299\n",
            "Data columns (total 24 columns):\n",
            " #   Column                     Non-Null Count  Dtype  \n",
            "---  ------                     --------------  -----  \n",
            " 0   student_ID                 1300 non-null   object \n",
            " 1   Course_code                1300 non-null   object \n",
            " 2   Activity_type              1300 non-null   object \n",
            " 3   Std_act_cp_mean            1300 non-null   float64\n",
            " 4   Std_act_d_mean             1300 non-null   float64\n",
            " 5   Std_act_m_count            1300 non-null   int64  \n",
            " 6   Std_act_m_max              1300 non-null   float64\n",
            " 7   Std_act_m_mean             1300 non-null   float64\n",
            " 8   Std_act_m_std              1300 non-null   float64\n",
            " 9   Std_act_t_max              1300 non-null   int64  \n",
            " 10  Std_act_t_mean             1300 non-null   float64\n",
            " 11  Std_act_t_std              1300 non-null   float64\n",
            " 12  Act_score                  1299 non-null   float64\n",
            " 13  Act_cp_count_mean          1300 non-null   float64\n",
            " 14  Act_diff_mean              1300 non-null   float64\n",
            " 15  Act_mark_count             1300 non-null   int64  \n",
            " 16  Act_mark_max               1300 non-null   float64\n",
            " 17  Act_mark_mean              1300 non-null   float64\n",
            " 18  Act_mark_min               1300 non-null   float64\n",
            " 19  Act_time_max               1300 non-null   float64\n",
            " 20  Act_time_mean              1300 non-null   float64\n",
            " 21  Act_time_min               1300 non-null   float64\n",
            " 22  Activities_Count_<lambda>  1300 non-null   int64  \n",
            " 23  last_mark                  1300 non-null   float64\n",
            "dtypes: float64(17), int64(4), object(3)\n",
            "memory usage: 253.9+ KB\n"
          ],
          "name": "stdout"
        }
      ]
    },
    {
      "cell_type": "code",
      "metadata": {
        "id": "gVBQnTyDkdxA"
      },
      "source": [
        "df_mg.to_csv(\"./Data/MarkPrediction.csv\")"
      ],
      "execution_count": null,
      "outputs": []
    },
    {
      "cell_type": "markdown",
      "metadata": {
        "id": "-Rk_4Bv9WxWb"
      },
      "source": [
        "## Load the dataset that has statistics about students achievments (( df_mg ))"
      ]
    },
    {
      "cell_type": "code",
      "metadata": {
        "id": "WzQiXyxwXhqO"
      },
      "source": [
        "df_mg=pd.read_csv(\"./Data/MarkPrediction.csv\", index_col=0)"
      ],
      "execution_count": null,
      "outputs": []
    },
    {
      "cell_type": "markdown",
      "metadata": {
        "id": "mODye3CkyDIh"
      },
      "source": [
        "## Pipeline    SGB Regressor  Mark Prediction \n",
        "![](https://i.ibb.co/xzWVv5H/pipe-Lasso.png)"
      ]
    },
    {
      "cell_type": "code",
      "metadata": {
        "id": "yUDuHE8sWASX"
      },
      "source": [
        "df_mg.set_index(\"student_ID\", inplace=True)"
      ],
      "execution_count": null,
      "outputs": []
    },
    {
      "cell_type": "code",
      "metadata": {
        "id": "JdoiqOidnB7Z"
      },
      "source": [
        "# Split Data\n",
        "\n",
        "X_train=df_mg.drop(dt_st.student_ID.unique(), axis = 0).iloc[:,:-1]\n",
        "y=df_mg.drop(dt_st.student_ID.unique(), axis = 0).iloc[:, -1]"
      ],
      "execution_count": null,
      "outputs": []
    },
    {
      "cell_type": "code",
      "metadata": {
        "id": "3YDFFpVQwrRR"
      },
      "source": [
        "from sklearn.preprocessing import StandardScaler , OneHotEncoder\n",
        "from sklearn.compose import make_column_transformer , make_column_selector  as selector\n",
        "\n",
        "from sklearn.pipeline import make_pipeline\n",
        "  \n",
        "num_pipeline= make_pipeline(\n",
        "     StandardScaler( )    # Rescaling\n",
        ")\n",
        "\n",
        "cat_pipeline= make_pipeline(\n",
        "      \n",
        "     OneHotEncoder(drop=\"if_binary\" , sparse=False ), \n",
        " \n",
        ")"
      ],
      "execution_count": null,
      "outputs": []
    },
    {
      "cell_type": "code",
      "metadata": {
        "id": "upy_I2BowrUj"
      },
      "source": [
        "#  Pipeline structure \n",
        "preprocess= make_column_transformer(\n",
        "     ( num_pipeline,  selector(dtype_include=\"number\") ),  #Numeric feature rescaling\n",
        "     (cat_pipeline, selector(dtype_exclude=\"number\"))  # Categorical features Encoding\n",
        "     )"
      ],
      "execution_count": null,
      "outputs": []
    },
    {
      "cell_type": "code",
      "metadata": {
        "colab": {
          "base_uri": "https://localhost:8080/"
        },
        "id": "66dCtrfm4uw-",
        "outputId": "67b31d89-af9a-49e3-f282-24c678b07d38"
      },
      "source": [
        "preprocess.fit_transform(X_train).shape"
      ],
      "execution_count": null,
      "outputs": [
        {
          "output_type": "execute_result",
          "data": {
            "text/plain": [
              "(1270, 36)"
            ]
          },
          "metadata": {
            "tags": []
          },
          "execution_count": 150
        }
      ]
    },
    {
      "cell_type": "code",
      "metadata": {
        "id": "ITBU0xv45SXd",
        "colab": {
          "base_uri": "https://localhost:8080/"
        },
        "outputId": "88b31d40-9cc1-45dc-ecda-c3bd86b2da4e"
      },
      "source": [
        "preprocess.fit_transform(X_train)[0]"
      ],
      "execution_count": null,
      "outputs": [
        {
          "output_type": "execute_result",
          "data": {
            "text/plain": [
              "array([ 0.56900124,  0.24069093,  2.2926457 ,  0.26329189, -0.02259132,\n",
              "        0.25708879, -0.03347743, -0.63366258,  0.41728188,  0.58217701,\n",
              "        1.22258527,  1.01329121,  1.34219166,  0.23572215, -0.60497761,\n",
              "       -0.56518716, -0.62790767,  0.4883795 , -0.59366689,  0.73831001,\n",
              "        0.        ,  0.        ,  0.        ,  0.        ,  0.        ,\n",
              "        0.        ,  0.        ,  0.        ,  0.        ,  0.        ,\n",
              "        0.        ,  0.        ,  1.        ,  0.        ,  0.        ,\n",
              "        0.        ])"
            ]
          },
          "metadata": {
            "tags": []
          },
          "execution_count": 151
        }
      ]
    },
    {
      "cell_type": "code",
      "metadata": {
        "id": "Wh8MTnh2keHJ"
      },
      "source": [
        "# pipelline Model\n",
        "\n",
        "from xgboost import XGBRegressor\n",
        "pipe_reg= make_pipeline(\n",
        "    preprocess, \n",
        "    XGBRegressor(objective=\"reg:squarederror\")\n",
        "    )"
      ],
      "execution_count": null,
      "outputs": []
    },
    {
      "cell_type": "code",
      "metadata": {
        "id": "90gB0GMjz4vz"
      },
      "source": [
        "pipe_reg.get_params()"
      ],
      "execution_count": null,
      "outputs": []
    },
    {
      "cell_type": "code",
      "metadata": {
        "id": "CYgTJx9zqPLY"
      },
      "source": [
        "# hyper parameters\n",
        "\n",
        "param_grid={\n",
        "    \"xgbregressor__learning_rate\": [0.01, 0.1],\n",
        "    \"xgbregressor__max_depth\" : [3,5,7, 10] ,\n",
        "    \"xgbregressor__min_child_weight\" :[1,3,5],\n",
        "    \"xgbregressor__subsample\": [0.5, 0.7],\n",
        "    \"xgbregressor__colsample_bytree\": [0.5, 0.7],\n",
        "    \"xgbregressor__n_estimators\": [200, 400, 1000]\n",
        "    \n",
        "}"
      ],
      "execution_count": null,
      "outputs": []
    },
    {
      "cell_type": "code",
      "metadata": {
        "id": "qtr9T1Mt1Fjk"
      },
      "source": [
        "from sklearn.model_selection import RandomizedSearchCV, KFold\n",
        "\n",
        "kf= KFold( n_splits=5, shuffle=True )\n",
        "gs= RandomizedSearchCV( pipe_reg, param_distributions=param_grid,  scoring=\"neg_mean_squared_error\", cv=kf,verbose=3)"
      ],
      "execution_count": null,
      "outputs": []
    },
    {
      "cell_type": "code",
      "metadata": {
        "id": "vg3IQj7I1Fmz"
      },
      "source": [
        "gs.fit(X_train, y)"
      ],
      "execution_count": null,
      "outputs": []
    },
    {
      "cell_type": "code",
      "metadata": {
        "id": "OdqbzrEB40Fz"
      },
      "source": [
        "gs.best_estimator_"
      ],
      "execution_count": null,
      "outputs": []
    },
    {
      "cell_type": "code",
      "metadata": {
        "colab": {
          "base_uri": "https://localhost:8080/"
        },
        "id": "P_F9X0bV43D6",
        "outputId": "ecd96dc2-e648-452b-d5b4-6bf480399d95"
      },
      "source": [
        "gs.best_params_"
      ],
      "execution_count": null,
      "outputs": [
        {
          "output_type": "execute_result",
          "data": {
            "text/plain": [
              "{'xgbregressor__colsample_bytree': 0.5,\n",
              " 'xgbregressor__learning_rate': 0.01,\n",
              " 'xgbregressor__max_depth': 3,\n",
              " 'xgbregressor__min_child_weight': 3,\n",
              " 'xgbregressor__n_estimators': 400,\n",
              " 'xgbregressor__subsample': 0.7}"
            ]
          },
          "metadata": {
            "tags": []
          },
          "execution_count": 157
        }
      ]
    },
    {
      "cell_type": "code",
      "metadata": {
        "colab": {
          "base_uri": "https://localhost:8080/",
          "height": 131
        },
        "id": "_AMYoAz7kHRs",
        "outputId": "ef456e02-f9fc-44c3-ad2b-8d626ac6f2df"
      },
      "source": [
        "df_mg.loc[dt_st.student_ID.unique(), :].iloc[:, :-1].sample()"
      ],
      "execution_count": null,
      "outputs": [
        {
          "output_type": "execute_result",
          "data": {
            "text/html": [
              "<div>\n",
              "<style scoped>\n",
              "    .dataframe tbody tr th:only-of-type {\n",
              "        vertical-align: middle;\n",
              "    }\n",
              "\n",
              "    .dataframe tbody tr th {\n",
              "        vertical-align: top;\n",
              "    }\n",
              "\n",
              "    .dataframe thead th {\n",
              "        text-align: right;\n",
              "    }\n",
              "</style>\n",
              "<table border=\"1\" class=\"dataframe\">\n",
              "  <thead>\n",
              "    <tr style=\"text-align: right;\">\n",
              "      <th></th>\n",
              "      <th>Course_code</th>\n",
              "      <th>Activity_type</th>\n",
              "      <th>Std_act_cp_mean</th>\n",
              "      <th>Std_act_d_mean</th>\n",
              "      <th>Std_act_m_count</th>\n",
              "      <th>Std_act_m_max</th>\n",
              "      <th>Std_act_m_mean</th>\n",
              "      <th>Std_act_m_std</th>\n",
              "      <th>Std_act_t_max</th>\n",
              "      <th>Std_act_t_mean</th>\n",
              "      <th>Std_act_t_std</th>\n",
              "      <th>Act_score</th>\n",
              "      <th>Act_cp_count_mean</th>\n",
              "      <th>Act_diff_mean</th>\n",
              "      <th>Act_mark_count</th>\n",
              "      <th>Act_mark_max</th>\n",
              "      <th>Act_mark_mean</th>\n",
              "      <th>Act_mark_min</th>\n",
              "      <th>Act_time_max</th>\n",
              "      <th>Act_time_mean</th>\n",
              "      <th>Act_time_min</th>\n",
              "      <th>Activities_Count_&lt;lambda&gt;</th>\n",
              "    </tr>\n",
              "    <tr>\n",
              "      <th>student_ID</th>\n",
              "      <th></th>\n",
              "      <th></th>\n",
              "      <th></th>\n",
              "      <th></th>\n",
              "      <th></th>\n",
              "      <th></th>\n",
              "      <th></th>\n",
              "      <th></th>\n",
              "      <th></th>\n",
              "      <th></th>\n",
              "      <th></th>\n",
              "      <th></th>\n",
              "      <th></th>\n",
              "      <th></th>\n",
              "      <th></th>\n",
              "      <th></th>\n",
              "      <th></th>\n",
              "      <th></th>\n",
              "      <th></th>\n",
              "      <th></th>\n",
              "      <th></th>\n",
              "      <th></th>\n",
              "    </tr>\n",
              "  </thead>\n",
              "  <tbody>\n",
              "    <tr>\n",
              "      <th>100878040S</th>\n",
              "      <td>g9_3</td>\n",
              "      <td>1</td>\n",
              "      <td>1.0</td>\n",
              "      <td>3.0</td>\n",
              "      <td>3</td>\n",
              "      <td>9.53</td>\n",
              "      <td>6.716667</td>\n",
              "      <td>3.448149</td>\n",
              "      <td>897</td>\n",
              "      <td>490.666667</td>\n",
              "      <td>353.887459</td>\n",
              "      <td>23.834676</td>\n",
              "      <td>1.6125</td>\n",
              "      <td>2.7</td>\n",
              "      <td>80</td>\n",
              "      <td>9.97</td>\n",
              "      <td>4.926</td>\n",
              "      <td>0.01</td>\n",
              "      <td>897.0</td>\n",
              "      <td>396.1375</td>\n",
              "      <td>33.0</td>\n",
              "      <td>19</td>\n",
              "    </tr>\n",
              "  </tbody>\n",
              "</table>\n",
              "</div>"
            ],
            "text/plain": [
              "           Course_code Activity_type  ...  Act_time_min  Activities_Count_<lambda>\n",
              "student_ID                            ...                                         \n",
              "100878040S        g9_3             1  ...          33.0                         19\n",
              "\n",
              "[1 rows x 22 columns]"
            ]
          },
          "metadata": {
            "tags": []
          },
          "execution_count": 166
        }
      ]
    },
    {
      "cell_type": "code",
      "metadata": {
        "id": "qJA7ti_e46dz"
      },
      "source": [
        "y_pred=gs.predict(X_train)"
      ],
      "execution_count": null,
      "outputs": []
    },
    {
      "cell_type": "code",
      "metadata": {
        "colab": {
          "base_uri": "https://localhost:8080/"
        },
        "id": "y2szdzfQ4Nvq",
        "outputId": "65160fc9-7de2-464b-90bd-a26a970cadef"
      },
      "source": [
        "from sklearn import  metrics\n",
        "print(f\"  MAE : { metrics.mean_absolute_error(y, y_pred):.3f}\")\n",
        "print(f\"  MSE : { metrics.mean_squared_error(y, y_pred):.3f}\")\n",
        "print(f\"  RMSE : { np.sqrt(metrics.mean_squared_error(y, y_pred)):.3f}\")\n",
        "print(f\"  R^2 : { metrics.r2_score(y, y_pred):.3f}\")\n",
        "print(f\"  Explained Variance Score : { metrics.mean_absolute_error(y, y_pred):.3f}\")"
      ],
      "execution_count": null,
      "outputs": [
        {
          "output_type": "stream",
          "text": [
            "  MAE : 0.927\n",
            "  MSE : 1.932\n",
            "  RMSE : 1.390\n",
            "  R^2 : 0.773\n",
            "  Explained Variance Score : 0.927\n"
          ],
          "name": "stdout"
        }
      ]
    },
    {
      "cell_type": "code",
      "metadata": {
        "colab": {
          "base_uri": "https://localhost:8080/",
          "height": 304
        },
        "id": "MzIcZBSx4Nyw",
        "outputId": "e219bdb1-e1eb-418d-eeea-de0143823516"
      },
      "source": [
        "# Residual Plot\n",
        "\n",
        "import seaborn as sns\n",
        "_= sns.residplot(x=y, y=y_pred, color=\"green\")"
      ],
      "execution_count": null,
      "outputs": [
        {
          "output_type": "display_data",
          "data": {
            "image/png": "[encoded data removed]",
            "text/plain": [
              "<Figure size 432x288 with 1 Axes>"
            ]
          },
          "metadata": {
            "tags": [],
            "needs_background": "light"
          }
        }
      ]
    },
    {
      "cell_type": "code",
      "metadata": {
        "id": "FNUwbLkp3U2k"
      },
      "source": [
        "predict_std = df_mg.loc[dt_st.student_ID.unique(), :].iloc[:, :-1]"
      ],
      "execution_count": null,
      "outputs": []
    },
    {
      "cell_type": "code",
      "metadata": {
        "colab": {
          "base_uri": "https://localhost:8080/"
        },
        "id": "iEh-K9_3Kuyr",
        "outputId": "f0428f59-84f0-4600-d5ec-4d773748eaa0"
      },
      "source": [
        "gs.predict(predict_std)"
      ],
      "execution_count": null,
      "outputs": [
        {
          "output_type": "execute_result",
          "data": {
            "text/plain": [
              "array([4.782822 , 5.2103243, 6.609596 , 4.309903 , 4.2178974, 2.2365794,\n",
              "       5.659911 , 6.2965355, 4.4546375, 5.304943 , 6.9272265, 5.9009876,\n",
              "       5.3262243, 2.5363755, 6.544488 , 6.305814 , 3.4510658, 6.028008 ,\n",
              "       4.7204905, 4.3917885, 7.199484 , 2.679353 , 2.172234 , 5.7444777,\n",
              "       5.2749553, 6.1614637, 5.115923 , 3.9724207, 4.672065 , 6.9566555],\n",
              "      dtype=float32)"
            ]
          },
          "metadata": {
            "tags": []
          },
          "execution_count": 182
        }
      ]
    },
    {
      "cell_type": "code",
      "metadata": {
        "id": "afM8HMOdsFW8"
      },
      "source": [
        "predict_std[\"last_mark\"]=gs.predict(predict_std)"
      ],
      "execution_count": null,
      "outputs": []
    },
    {
      "cell_type": "code",
      "metadata": {
        "colab": {
          "base_uri": "https://localhost:8080/",
          "height": 193
        },
        "id": "tb4vuiOCzf6A",
        "outputId": "aa64675f-f768-4b36-85b3-23dcfb7286a0"
      },
      "source": [
        "predict_std.query(\"student_ID=='101235516S' & Activity_type=='1'\")"
      ],
      "execution_count": null,
      "outputs": [
        {
          "output_type": "execute_result",
          "data": {
            "text/html": [
              "<div>\n",
              "<style scoped>\n",
              "    .dataframe tbody tr th:only-of-type {\n",
              "        vertical-align: middle;\n",
              "    }\n",
              "\n",
              "    .dataframe tbody tr th {\n",
              "        vertical-align: top;\n",
              "    }\n",
              "\n",
              "    .dataframe thead th {\n",
              "        text-align: right;\n",
              "    }\n",
              "</style>\n",
              "<table border=\"1\" class=\"dataframe\">\n",
              "  <thead>\n",
              "    <tr style=\"text-align: right;\">\n",
              "      <th></th>\n",
              "      <th>Course_code</th>\n",
              "      <th>Activity_type</th>\n",
              "      <th>Std_act_cp_mean</th>\n",
              "      <th>Std_act_d_mean</th>\n",
              "      <th>Std_act_m_count</th>\n",
              "      <th>Std_act_m_max</th>\n",
              "      <th>Std_act_m_mean</th>\n",
              "      <th>Std_act_m_std</th>\n",
              "      <th>Std_act_t_max</th>\n",
              "      <th>Std_act_t_mean</th>\n",
              "      <th>Std_act_t_std</th>\n",
              "      <th>Act_score</th>\n",
              "      <th>Act_cp_count_mean</th>\n",
              "      <th>Act_diff_mean</th>\n",
              "      <th>Act_mark_count</th>\n",
              "      <th>Act_mark_max</th>\n",
              "      <th>Act_mark_mean</th>\n",
              "      <th>Act_mark_min</th>\n",
              "      <th>Act_time_max</th>\n",
              "      <th>Act_time_mean</th>\n",
              "      <th>Act_time_min</th>\n",
              "      <th>Activities_Count_&lt;lambda&gt;</th>\n",
              "      <th>last_mark</th>\n",
              "    </tr>\n",
              "    <tr>\n",
              "      <th>student_ID</th>\n",
              "      <th></th>\n",
              "      <th></th>\n",
              "      <th></th>\n",
              "      <th></th>\n",
              "      <th></th>\n",
              "      <th></th>\n",
              "      <th></th>\n",
              "      <th></th>\n",
              "      <th></th>\n",
              "      <th></th>\n",
              "      <th></th>\n",
              "      <th></th>\n",
              "      <th></th>\n",
              "      <th></th>\n",
              "      <th></th>\n",
              "      <th></th>\n",
              "      <th></th>\n",
              "      <th></th>\n",
              "      <th></th>\n",
              "      <th></th>\n",
              "      <th></th>\n",
              "      <th></th>\n",
              "      <th></th>\n",
              "    </tr>\n",
              "  </thead>\n",
              "  <tbody>\n",
              "    <tr>\n",
              "      <th>101235516S</th>\n",
              "      <td>g5_1</td>\n",
              "      <td>1</td>\n",
              "      <td>1.500000</td>\n",
              "      <td>1.750000</td>\n",
              "      <td>4</td>\n",
              "      <td>9.64</td>\n",
              "      <td>4.857500</td>\n",
              "      <td>3.190009</td>\n",
              "      <td>792</td>\n",
              "      <td>425.000000</td>\n",
              "      <td>288.616239</td>\n",
              "      <td>32.573864</td>\n",
              "      <td>1.505882</td>\n",
              "      <td>2.717647</td>\n",
              "      <td>85</td>\n",
              "      <td>9.99</td>\n",
              "      <td>5.004824</td>\n",
              "      <td>0.16</td>\n",
              "      <td>882.0</td>\n",
              "      <td>450.376471</td>\n",
              "      <td>31.0</td>\n",
              "      <td>20</td>\n",
              "      <td>5.210324</td>\n",
              "    </tr>\n",
              "    <tr>\n",
              "      <th>101235516S</th>\n",
              "      <td>g5_2</td>\n",
              "      <td>1</td>\n",
              "      <td>1.750000</td>\n",
              "      <td>2.750000</td>\n",
              "      <td>4</td>\n",
              "      <td>9.13</td>\n",
              "      <td>3.772500</td>\n",
              "      <td>3.852345</td>\n",
              "      <td>487</td>\n",
              "      <td>182.250000</td>\n",
              "      <td>208.367264</td>\n",
              "      <td>47.246825</td>\n",
              "      <td>1.551020</td>\n",
              "      <td>2.551020</td>\n",
              "      <td>98</td>\n",
              "      <td>9.90</td>\n",
              "      <td>5.351939</td>\n",
              "      <td>0.26</td>\n",
              "      <td>881.0</td>\n",
              "      <td>482.051020</td>\n",
              "      <td>32.0</td>\n",
              "      <td>20</td>\n",
              "      <td>4.309903</td>\n",
              "    </tr>\n",
              "    <tr>\n",
              "      <th>101235516S</th>\n",
              "      <td>g5_3</td>\n",
              "      <td>1</td>\n",
              "      <td>1.666667</td>\n",
              "      <td>2.333333</td>\n",
              "      <td>3</td>\n",
              "      <td>2.37</td>\n",
              "      <td>1.873333</td>\n",
              "      <td>0.515978</td>\n",
              "      <td>874</td>\n",
              "      <td>728.333333</td>\n",
              "      <td>187.340154</td>\n",
              "      <td>5.416408</td>\n",
              "      <td>1.562500</td>\n",
              "      <td>2.350000</td>\n",
              "      <td>80</td>\n",
              "      <td>9.99</td>\n",
              "      <td>5.181000</td>\n",
              "      <td>0.05</td>\n",
              "      <td>889.0</td>\n",
              "      <td>487.187500</td>\n",
              "      <td>54.0</td>\n",
              "      <td>20</td>\n",
              "      <td>2.236579</td>\n",
              "    </tr>\n",
              "  </tbody>\n",
              "</table>\n",
              "</div>"
            ],
            "text/plain": [
              "           Course_code Activity_type  ...  Activities_Count_<lambda>  last_mark\n",
              "student_ID                            ...                                      \n",
              "101235516S        g5_1             1  ...                         20   5.210324\n",
              "101235516S        g5_2             1  ...                         20   4.309903\n",
              "101235516S        g5_3             1  ...                         20   2.236579\n",
              "\n",
              "[3 rows x 23 columns]"
            ]
          },
          "metadata": {
            "tags": []
          },
          "execution_count": 190
        }
      ]
    },
    {
      "cell_type": "code",
      "metadata": {
        "id": "TLpxXfySn1We"
      },
      "source": [
        "df_append= dt_st.query(\"student_ID=='101235516S' & Activity_type=='1'\")"
      ],
      "execution_count": null,
      "outputs": []
    },
    {
      "cell_type": "code",
      "metadata": {
        "colab": {
          "base_uri": "https://localhost:8080/"
        },
        "id": "b1T9AUYFsqma",
        "outputId": "8d4504ea-65a0-47a8-e7ea-efb02fbd34b6"
      },
      "source": [
        "from datetime import  timedelta\n",
        "x_point, y_point= df_append.reset_index().query(\n",
        "    \"student_ID=='101235516S' & Activity_type=='1'\"\n",
        "    )[\"Act_submit_Time\"].max()+ timedelta(days=7), dt_st.query(\"student_ID=='101235516S' & Activity_type=='1'\").Last_mark"
      ],
      "execution_count": null,
      "outputs": [
        {
          "output_type": "execute_result",
          "data": {
            "text/plain": [
              "Timestamp('2020-12-15 09:25:43')"
            ]
          },
          "metadata": {
            "tags": []
          },
          "execution_count": 208
        }
      ]
    },
    {
      "cell_type": "code",
      "metadata": {
        "id": "6l_ekNQ9rU9P"
      },
      "source": [
        "df_append.reset_index().append(\n",
        "    {\n",
        "        \"Act_submit_Time\" :df_append.reset_index().query(\n",
        "    \"student_ID=='101235516S' & Activity_type=='1'\"\n",
        "    )[\"Act_submit_Time\"].max()+ timedelta(days=7),\n",
        "     \"last_mark\": 2.2\n",
        "    }, ignore_index=True\n",
        ")"
      ],
      "execution_count": null,
      "outputs": []
    },
    {
      "cell_type": "markdown",
      "metadata": {
        "id": "0CXKXa9h8DwK"
      },
      "source": [
        "## Graph the predicted mark of a specific student"
      ]
    },
    {
      "cell_type": "code",
      "metadata": {
        "colab": {
          "base_uri": "https://localhost:8080/",
          "height": 421
        },
        "id": "1OofdYRnrUwL",
        "outputId": "57bd6dfa-9763-4598-eda3-e8bb3322ce03"
      },
      "source": [
        "df_append"
      ],
      "execution_count": null,
      "outputs": [
        {
          "output_type": "execute_result",
          "data": {
            "text/html": [
              "<div>\n",
              "<style scoped>\n",
              "    .dataframe tbody tr th:only-of-type {\n",
              "        vertical-align: middle;\n",
              "    }\n",
              "\n",
              "    .dataframe tbody tr th {\n",
              "        vertical-align: top;\n",
              "    }\n",
              "\n",
              "    .dataframe thead th {\n",
              "        text-align: right;\n",
              "    }\n",
              "</style>\n",
              "<table border=\"1\" class=\"dataframe\">\n",
              "  <thead>\n",
              "    <tr style=\"text-align: right;\">\n",
              "      <th></th>\n",
              "      <th>student_ID</th>\n",
              "      <th>Course_code</th>\n",
              "      <th>Activity_id</th>\n",
              "      <th>Activity_type</th>\n",
              "      <th>Unit_id</th>\n",
              "      <th>Chapter_id</th>\n",
              "      <th>Lesson_id</th>\n",
              "      <th>Act_diff</th>\n",
              "      <th>Act_cp_count</th>\n",
              "      <th>Act_time</th>\n",
              "      <th>Act_mark</th>\n",
              "    </tr>\n",
              "    <tr>\n",
              "      <th>Act_submit_Time</th>\n",
              "      <th></th>\n",
              "      <th></th>\n",
              "      <th></th>\n",
              "      <th></th>\n",
              "      <th></th>\n",
              "      <th></th>\n",
              "      <th></th>\n",
              "      <th></th>\n",
              "      <th></th>\n",
              "      <th></th>\n",
              "      <th></th>\n",
              "    </tr>\n",
              "  </thead>\n",
              "  <tbody>\n",
              "    <tr>\n",
              "      <th>2020-03-04 14:00:16</th>\n",
              "      <td>101235516S</td>\n",
              "      <td>g5_3</td>\n",
              "      <td>g5_3-Act_3</td>\n",
              "      <td>1</td>\n",
              "      <td>Un_3</td>\n",
              "      <td>Chp_9</td>\n",
              "      <td>Ls_5</td>\n",
              "      <td>2</td>\n",
              "      <td>2</td>\n",
              "      <td>794</td>\n",
              "      <td>1.91</td>\n",
              "    </tr>\n",
              "    <tr>\n",
              "      <th>2020-05-04 03:59:02</th>\n",
              "      <td>101235516S</td>\n",
              "      <td>g5_3</td>\n",
              "      <td>g5_3-Act_2</td>\n",
              "      <td>1</td>\n",
              "      <td>Un_3</td>\n",
              "      <td>Chp_6</td>\n",
              "      <td>Ls_0</td>\n",
              "      <td>4</td>\n",
              "      <td>2</td>\n",
              "      <td>517</td>\n",
              "      <td>1.34</td>\n",
              "    </tr>\n",
              "    <tr>\n",
              "      <th>2020-11-29 06:41:36</th>\n",
              "      <td>101235516S</td>\n",
              "      <td>g5_3</td>\n",
              "      <td>g5_3-Act_4</td>\n",
              "      <td>1</td>\n",
              "      <td>Un_6</td>\n",
              "      <td>Chp_1</td>\n",
              "      <td>Ls_4</td>\n",
              "      <td>1</td>\n",
              "      <td>1</td>\n",
              "      <td>874</td>\n",
              "      <td>2.37</td>\n",
              "    </tr>\n",
              "    <tr>\n",
              "      <th>2020-01-11 11:36:15</th>\n",
              "      <td>101235516S</td>\n",
              "      <td>g5_2</td>\n",
              "      <td>g5_2-Act_7</td>\n",
              "      <td>1</td>\n",
              "      <td>Un_4</td>\n",
              "      <td>Chp_8</td>\n",
              "      <td>Ls_9</td>\n",
              "      <td>1</td>\n",
              "      <td>2</td>\n",
              "      <td>45</td>\n",
              "      <td>9.13</td>\n",
              "    </tr>\n",
              "    <tr>\n",
              "      <th>2020-04-22 08:42:54</th>\n",
              "      <td>101235516S</td>\n",
              "      <td>g5_2</td>\n",
              "      <td>g5_2-Act_5</td>\n",
              "      <td>1</td>\n",
              "      <td>Un_4</td>\n",
              "      <td>Chp_6</td>\n",
              "      <td>Ls_0</td>\n",
              "      <td>4</td>\n",
              "      <td>2</td>\n",
              "      <td>51</td>\n",
              "      <td>0.74</td>\n",
              "    </tr>\n",
              "    <tr>\n",
              "      <th>2020-08-18 14:13:57</th>\n",
              "      <td>101235516S</td>\n",
              "      <td>g5_2</td>\n",
              "      <td>g5_2-Act_3</td>\n",
              "      <td>1</td>\n",
              "      <td>Un_4</td>\n",
              "      <td>Chp_9</td>\n",
              "      <td>Ls_1</td>\n",
              "      <td>2</td>\n",
              "      <td>2</td>\n",
              "      <td>146</td>\n",
              "      <td>4.01</td>\n",
              "    </tr>\n",
              "    <tr>\n",
              "      <th>2020-01-07 22:29:51</th>\n",
              "      <td>101235516S</td>\n",
              "      <td>g5_2</td>\n",
              "      <td>g5_2-Act_3</td>\n",
              "      <td>1</td>\n",
              "      <td>Un_1</td>\n",
              "      <td>Chp_4</td>\n",
              "      <td>Ls_2</td>\n",
              "      <td>4</td>\n",
              "      <td>1</td>\n",
              "      <td>487</td>\n",
              "      <td>1.21</td>\n",
              "    </tr>\n",
              "    <tr>\n",
              "      <th>2020-02-23 07:04:45</th>\n",
              "      <td>101235516S</td>\n",
              "      <td>g5_1</td>\n",
              "      <td>g5_1-Act_3</td>\n",
              "      <td>1</td>\n",
              "      <td>Un_2</td>\n",
              "      <td>Chp_9</td>\n",
              "      <td>Ls_3</td>\n",
              "      <td>2</td>\n",
              "      <td>2</td>\n",
              "      <td>87</td>\n",
              "      <td>3.36</td>\n",
              "    </tr>\n",
              "    <tr>\n",
              "      <th>2020-12-08 09:25:43</th>\n",
              "      <td>101235516S</td>\n",
              "      <td>g5_1</td>\n",
              "      <td>g5_1-Act_8</td>\n",
              "      <td>1</td>\n",
              "      <td>Un_1</td>\n",
              "      <td>Chp_7</td>\n",
              "      <td>Ls_0</td>\n",
              "      <td>1</td>\n",
              "      <td>1</td>\n",
              "      <td>394</td>\n",
              "      <td>3.31</td>\n",
              "    </tr>\n",
              "    <tr>\n",
              "      <th>2020-01-03 05:25:33</th>\n",
              "      <td>101235516S</td>\n",
              "      <td>g5_1</td>\n",
              "      <td>g5_1-Act_6</td>\n",
              "      <td>1</td>\n",
              "      <td>Un_9</td>\n",
              "      <td>Chp_4</td>\n",
              "      <td>Ls_9</td>\n",
              "      <td>1</td>\n",
              "      <td>1</td>\n",
              "      <td>792</td>\n",
              "      <td>9.64</td>\n",
              "    </tr>\n",
              "    <tr>\n",
              "      <th>2020-04-06 23:46:36</th>\n",
              "      <td>101235516S</td>\n",
              "      <td>g5_1</td>\n",
              "      <td>g5_1-Act_4</td>\n",
              "      <td>1</td>\n",
              "      <td>Un_7</td>\n",
              "      <td>Chp_6</td>\n",
              "      <td>Ls_8</td>\n",
              "      <td>3</td>\n",
              "      <td>2</td>\n",
              "      <td>427</td>\n",
              "      <td>3.12</td>\n",
              "    </tr>\n",
              "  </tbody>\n",
              "</table>\n",
              "</div>"
            ],
            "text/plain": [
              "                     student_ID Course_code  ... Act_time Act_mark\n",
              "Act_submit_Time                              ...                  \n",
              "2020-03-04 14:00:16  101235516S        g5_3  ...      794     1.91\n",
              "2020-05-04 03:59:02  101235516S        g5_3  ...      517     1.34\n",
              "2020-11-29 06:41:36  101235516S        g5_3  ...      874     2.37\n",
              "2020-01-11 11:36:15  101235516S        g5_2  ...       45     9.13\n",
              "2020-04-22 08:42:54  101235516S        g5_2  ...       51     0.74\n",
              "2020-08-18 14:13:57  101235516S        g5_2  ...      146     4.01\n",
              "2020-01-07 22:29:51  101235516S        g5_2  ...      487     1.21\n",
              "2020-02-23 07:04:45  101235516S        g5_1  ...       87     3.36\n",
              "2020-12-08 09:25:43  101235516S        g5_1  ...      394     3.31\n",
              "2020-01-03 05:25:33  101235516S        g5_1  ...      792     9.64\n",
              "2020-04-06 23:46:36  101235516S        g5_1  ...      427     3.12\n",
              "\n",
              "[11 rows x 11 columns]"
            ]
          },
          "metadata": {
            "tags": []
          },
          "execution_count": 211
        }
      ]
    },
    {
      "cell_type": "code",
      "metadata": {
        "colab": {
          "base_uri": "https://localhost:8080/",
          "height": 1000,
          "referenced_widgets": [
            "961d34218fea4e4c96f915637424171a",
            "dc2412769ea64d7983ffb3bd124a2e51",
            "0eb43518afad4232a7668056dee3ee47",
            "ad0f259cf85c4e0285168aa0ceb557a2",
            "77a3163067954c438e1205c5f235d548",
            "fb013bf5c638461d8e258d3f12381c8f",
            "154173d00f23408da01d27419255dbfa",
            "65c0a39174b242e78e7525ea6bc6377a",
            "30a23ce40ba24093b05b3bb4588c2cc3",
            "6b11f88ca9494c9cbcb6d2f0ffe58fdd"
          ]
        },
        "id": "JnDE5heA4N2C",
        "outputId": "964d5737-7e81-4052-cf63-f197a19db9b6"
      },
      "source": [
        "#  NUmber of Assignments is less then Quizzes\n",
        "@interact(st = stID, cs = course)\n",
        "def plot_data( st, cs):\n",
        "  # print(predict_std.reset_index().query(f\"Course_code=='{cs}' & student_ID=='{st}'\"))\n",
        "  \n",
        "  plot_std_Data(st, cs, True )"
      ],
      "execution_count": null,
      "outputs": [
        {
          "output_type": "display_data",
          "data": {
            "application/vnd.jupyter.widget-view+json": {
              "model_id": "961d34218fea4e4c96f915637424171a",
              "version_minor": 0,
              "version_major": 2
            },
            "text/plain": [
              "interactive(children=(Dropdown(description='st', index=3, options=('101235516S', '100878040S', '060674824S', '…"
            ]
          },
          "metadata": {
            "tags": []
          }
        }
      ]
    },
    {
      "cell_type": "markdown",
      "metadata": {
        "id": "m_2fGg7FBXx5"
      },
      "source": [
        "## Check if needed"
      ]
    },
    {
      "cell_type": "code",
      "metadata": {
        "colab": {
          "base_uri": "https://localhost:8080/",
          "height": 266
        },
        "id": "515w2-to4N48",
        "outputId": "11fe1d27-42b5-4a3d-bffa-e7ffdc84b3e7"
      },
      "source": [
        "#  Last Mark Comparaison\n",
        "pd.DataFrame({\"Actual Mark\": y_test, \"Predicted Mark\": y_pred}).sample(6)"
      ],
      "execution_count": null,
      "outputs": [
        {
          "output_type": "execute_result",
          "data": {
            "text/html": [
              "<div>\n",
              "<style scoped>\n",
              "    .dataframe tbody tr th:only-of-type {\n",
              "        vertical-align: middle;\n",
              "    }\n",
              "\n",
              "    .dataframe tbody tr th {\n",
              "        vertical-align: top;\n",
              "    }\n",
              "\n",
              "    .dataframe thead th {\n",
              "        text-align: right;\n",
              "    }\n",
              "</style>\n",
              "<table border=\"1\" class=\"dataframe\">\n",
              "  <thead>\n",
              "    <tr style=\"text-align: right;\">\n",
              "      <th></th>\n",
              "      <th>Actual Mark</th>\n",
              "      <th>Predicted Mark</th>\n",
              "    </tr>\n",
              "    <tr>\n",
              "      <th>student_ID</th>\n",
              "      <th></th>\n",
              "      <th></th>\n",
              "    </tr>\n",
              "  </thead>\n",
              "  <tbody>\n",
              "    <tr>\n",
              "      <th>100813564</th>\n",
              "      <td>9.73</td>\n",
              "      <td>6.034192</td>\n",
              "    </tr>\n",
              "    <tr>\n",
              "      <th>110723380</th>\n",
              "      <td>8.21</td>\n",
              "      <td>8.199186</td>\n",
              "    </tr>\n",
              "    <tr>\n",
              "      <th>130698091</th>\n",
              "      <td>0.45</td>\n",
              "      <td>3.599329</td>\n",
              "    </tr>\n",
              "    <tr>\n",
              "      <th>060844639</th>\n",
              "      <td>3.03</td>\n",
              "      <td>2.991964</td>\n",
              "    </tr>\n",
              "    <tr>\n",
              "      <th>140261662</th>\n",
              "      <td>0.51</td>\n",
              "      <td>0.600607</td>\n",
              "    </tr>\n",
              "    <tr>\n",
              "      <th>110703780</th>\n",
              "      <td>1.45</td>\n",
              "      <td>1.279370</td>\n",
              "    </tr>\n",
              "  </tbody>\n",
              "</table>\n",
              "</div>"
            ],
            "text/plain": [
              "            Actual Mark  Predicted Mark\n",
              "student_ID                             \n",
              "100813564          9.73        6.034192\n",
              "110723380          8.21        8.199186\n",
              "130698091          0.45        3.599329\n",
              "060844639          3.03        2.991964\n",
              "140261662          0.51        0.600607\n",
              "110703780          1.45        1.279370"
            ]
          },
          "metadata": {
            "tags": []
          },
          "execution_count": 133
        }
      ]
    },
    {
      "cell_type": "code",
      "metadata": {
        "colab": {
          "base_uri": "https://localhost:8080/"
        },
        "id": "PDQ2F9sKclYi",
        "outputId": "829a36ca-0904-4916-d197-576e45f21305"
      },
      "source": [
        "X_test[\"predicted_Mark\"]=y_pred"
      ],
      "execution_count": null,
      "outputs": [
        {
          "output_type": "stream",
          "text": [
            "/usr/local/lib/python3.7/dist-packages/ipykernel_launcher.py:1: SettingWithCopyWarning:\n",
            "\n",
            "\n",
            "A value is trying to be set on a copy of a slice from a DataFrame.\n",
            "Try using .loc[row_indexer,col_indexer] = value instead\n",
            "\n",
            "See the caveats in the documentation: https://pandas.pydata.org/pandas-docs/stable/user_guide/indexing.html#returning-a-view-versus-a-copy\n",
            "\n"
          ],
          "name": "stderr"
        }
      ]
    },
    {
      "cell_type": "code",
      "metadata": {
        "id": "KFW3fkDAOixT"
      },
      "source": [
        "X_test=X_test.reindex()"
      ],
      "execution_count": null,
      "outputs": []
    },
    {
      "cell_type": "code",
      "metadata": {
        "colab": {
          "base_uri": "https://localhost:8080/"
        },
        "id": "ewmlQXrzvGWb",
        "outputId": "06c5d5a5-d37b-443f-dbb8-b235f69bb828"
      },
      "source": [
        "X_test.student_ID==\"120405564\""
      ],
      "execution_count": null,
      "outputs": [
        {
          "output_type": "execute_result",
          "data": {
            "text/plain": [
              "student_ID\n",
              "140286938    False\n",
              "120605077    False\n",
              "100115512    False\n",
              "110745570    False\n",
              "110810510    False\n",
              "             ...  \n",
              "070285557    False\n",
              "060860198    False\n",
              "081063216    False\n",
              "070424979    False\n",
              "120594765    False\n",
              "Name: student_ID, Length: 1327, dtype: bool"
            ]
          },
          "metadata": {
            "tags": []
          },
          "execution_count": 146
        }
      ]
    },
    {
      "cell_type": "code",
      "metadata": {
        "colab": {
          "base_uri": "https://localhost:8080/",
          "height": 100
        },
        "id": "C9Q1OTdLtUww",
        "outputId": "8ccbcd3d-67eb-4b00-d082-a0534041b61d"
      },
      "source": [
        "#X_test[\"student_ID\"]=120405564\n",
        "X_test.loc[X_test['student_ID'] ==\"120405564\"]\n"
      ],
      "execution_count": null,
      "outputs": [
        {
          "output_type": "execute_result",
          "data": {
            "text/html": [
              "<div>\n",
              "<style scoped>\n",
              "    .dataframe tbody tr th:only-of-type {\n",
              "        vertical-align: middle;\n",
              "    }\n",
              "\n",
              "    .dataframe tbody tr th {\n",
              "        vertical-align: top;\n",
              "    }\n",
              "\n",
              "    .dataframe thead th {\n",
              "        text-align: right;\n",
              "    }\n",
              "</style>\n",
              "<table border=\"1\" class=\"dataframe\">\n",
              "  <thead>\n",
              "    <tr style=\"text-align: right;\">\n",
              "      <th></th>\n",
              "      <th>Course_code</th>\n",
              "      <th>Activity_type</th>\n",
              "      <th>Std_act_cp_mean</th>\n",
              "      <th>Std_act_d_mean</th>\n",
              "      <th>Std_act_m_count</th>\n",
              "      <th>Std_act_m_max</th>\n",
              "      <th>Std_act_m_mean</th>\n",
              "      <th>Std_act_m_std</th>\n",
              "      <th>Std_act_t_max</th>\n",
              "      <th>Std_act_t_mean</th>\n",
              "      <th>Std_act_t_std</th>\n",
              "      <th>Act_score</th>\n",
              "      <th>Act_cp_mean</th>\n",
              "      <th>Act_diff_mean</th>\n",
              "      <th>Act_mark_count</th>\n",
              "      <th>Act_mark_max</th>\n",
              "      <th>Act_mark_mean</th>\n",
              "      <th>Act_mark_min</th>\n",
              "      <th>Act_time_max</th>\n",
              "      <th>Act_time_mean</th>\n",
              "      <th>Act_time_min</th>\n",
              "      <th>Activities_Count_&lt;lambda&gt;</th>\n",
              "      <th>predicted_Mark</th>\n",
              "      <th>student_ID</th>\n",
              "    </tr>\n",
              "    <tr>\n",
              "      <th>student_ID</th>\n",
              "      <th></th>\n",
              "      <th></th>\n",
              "      <th></th>\n",
              "      <th></th>\n",
              "      <th></th>\n",
              "      <th></th>\n",
              "      <th></th>\n",
              "      <th></th>\n",
              "      <th></th>\n",
              "      <th></th>\n",
              "      <th></th>\n",
              "      <th></th>\n",
              "      <th></th>\n",
              "      <th></th>\n",
              "      <th></th>\n",
              "      <th></th>\n",
              "      <th></th>\n",
              "      <th></th>\n",
              "      <th></th>\n",
              "      <th></th>\n",
              "      <th></th>\n",
              "      <th></th>\n",
              "      <th></th>\n",
              "      <th></th>\n",
              "    </tr>\n",
              "  </thead>\n",
              "  <tbody>\n",
              "  </tbody>\n",
              "</table>\n",
              "</div>"
            ],
            "text/plain": [
              "Empty DataFrame\n",
              "Columns: [Course_code, Activity_type, Std_act_cp_mean, Std_act_d_mean, Std_act_m_count, Std_act_m_max, Std_act_m_mean, Std_act_m_std, Std_act_t_max, Std_act_t_mean, Std_act_t_std, Act_score, Act_cp_mean, Act_diff_mean, Act_mark_count, Act_mark_max, Act_mark_mean, Act_mark_min, Act_time_max, Act_time_mean, Act_time_min, Activities_Count_<lambda>, predicted_Mark, student_ID]\n",
              "Index: []"
            ]
          },
          "metadata": {
            "tags": []
          },
          "execution_count": 151
        }
      ]
    },
    {
      "cell_type": "code",
      "metadata": {
        "colab": {
          "base_uri": "https://localhost:8080/",
          "height": 130
        },
        "id": "sSVPG2Oylidn",
        "outputId": "22697ba9-9081-4fde-838d-9846eafa0e4c"
      },
      "source": [
        "To show the predicted value on the graph\n",
        "\n",
        "\n",
        "import plotly.express as px\n",
        "\n",
        "#df = px.data.gapminder().query(\"continent=='Oceania'\")\n",
        "\n",
        "fig= px.line(df_plt.sort_values(by=\"Act_submit_Time\"), \n",
        "             x=\"Act_submit_Time\", y=\"Act_mark\"  , title=\"Comparision between the student's mark (LINE) and the average of all students marks (BAR)\", \n",
        "             labels ={\"mark\": \"Act_mark\" , \"submit_Time\" :\"Act_submit_Time\" } , \n",
        "             color_discrete_map={\n",
        "                 \"Act_mark\": \"blue\"               \n",
        "             })\n",
        "fig1= px.bar(df_plt.sort_values(by=\"Act_submit_Time\"),  labels= {\"Act_submit_Time\" :\"Time\" },\n",
        "             x=\"Act_submit_Time\", y=\"Act_mark_avg\" , title=\"Comparision between the student's mark and the average of all students marks\" ,      \n",
        "              )\n",
        "fig.add_trace(fig1.data[0])\n",
        "#fig.update_layout(legend_title_text='Trend')\n",
        "\n",
        "\n",
        "\n",
        "fig.update_traces(  hovertemplate=None)\n",
        "fig.update_layout(hovermode=\"x\" )\n",
        "\n",
        "\n",
        "fig['data'][0]['showlegend']=True\n",
        "fig['data'][0]['name']=\"Student's mark\"\n",
        "\n",
        "fig['data'][1]['showlegend']=True\n",
        "fig['data'][1]['name']=\"Average Mark\"\n",
        "\n",
        "fig.show()\n",
        "\n",
        "\n"
      ],
      "execution_count": null,
      "outputs": [
        {
          "output_type": "error",
          "ename": "SyntaxError",
          "evalue": "ignored",
          "traceback": [
            "\u001b[0;36m  File \u001b[0;32m\"<ipython-input-128-74435d21076b>\"\u001b[0;36m, line \u001b[0;32m1\u001b[0m\n\u001b[0;31m    To show the predicted value on the graph\u001b[0m\n\u001b[0m          ^\u001b[0m\n\u001b[0;31mSyntaxError\u001b[0m\u001b[0;31m:\u001b[0m invalid syntax\n"
          ]
        }
      ]
    },
    {
      "cell_type": "markdown",
      "metadata": {
        "id": "rxJumxSTO7S9"
      },
      "source": [
        "## Pipeline    SGB Classsifier  Classification  Prediction \n",
        "![](https://i.ibb.co/xzWVv5H/pipe-Lasso.png)"
      ]
    },
    {
      "cell_type": "code",
      "metadata": {
        "id": "mV9pOkV8O7TD"
      },
      "source": [
        "df_stClass= df_mg.copy()"
      ],
      "execution_count": null,
      "outputs": []
    },
    {
      "cell_type": "code",
      "metadata": {
        "colab": {
          "base_uri": "https://localhost:8080/",
          "height": 255
        },
        "id": "uZhqnK4rO7TE",
        "outputId": "62c5fe26-d29d-4f5d-f610-c06b36d7bcc8"
      },
      "source": [
        "df_stClass.head()"
      ],
      "execution_count": null,
      "outputs": [
        {
          "output_type": "execute_result",
          "data": {
            "text/html": [
              "<div>\n",
              "<style scoped>\n",
              "    .dataframe tbody tr th:only-of-type {\n",
              "        vertical-align: middle;\n",
              "    }\n",
              "\n",
              "    .dataframe tbody tr th {\n",
              "        vertical-align: top;\n",
              "    }\n",
              "\n",
              "    .dataframe thead th {\n",
              "        text-align: right;\n",
              "    }\n",
              "</style>\n",
              "<table border=\"1\" class=\"dataframe\">\n",
              "  <thead>\n",
              "    <tr style=\"text-align: right;\">\n",
              "      <th></th>\n",
              "      <th>Course_code</th>\n",
              "      <th>Activity_type</th>\n",
              "      <th>Std_act_cp_mean</th>\n",
              "      <th>Std_act_d_mean</th>\n",
              "      <th>Std_act_m_count</th>\n",
              "      <th>Std_act_m_max</th>\n",
              "      <th>Std_act_m_mean</th>\n",
              "      <th>Std_act_m_std</th>\n",
              "      <th>Std_act_t_max</th>\n",
              "      <th>Std_act_t_mean</th>\n",
              "      <th>Std_act_t_std</th>\n",
              "      <th>Act_score</th>\n",
              "      <th>Act_cp_count_mean</th>\n",
              "      <th>Act_diff_mean</th>\n",
              "      <th>Act_mark_count</th>\n",
              "      <th>Act_mark_max</th>\n",
              "      <th>Act_mark_mean</th>\n",
              "      <th>Act_mark_min</th>\n",
              "      <th>Act_time_max</th>\n",
              "      <th>Act_time_mean</th>\n",
              "      <th>Act_time_min</th>\n",
              "      <th>Activities_Count_&lt;lambda&gt;</th>\n",
              "      <th>last_mark</th>\n",
              "    </tr>\n",
              "    <tr>\n",
              "      <th>student_ID</th>\n",
              "      <th></th>\n",
              "      <th></th>\n",
              "      <th></th>\n",
              "      <th></th>\n",
              "      <th></th>\n",
              "      <th></th>\n",
              "      <th></th>\n",
              "      <th></th>\n",
              "      <th></th>\n",
              "      <th></th>\n",
              "      <th></th>\n",
              "      <th></th>\n",
              "      <th></th>\n",
              "      <th></th>\n",
              "      <th></th>\n",
              "      <th></th>\n",
              "      <th></th>\n",
              "      <th></th>\n",
              "      <th></th>\n",
              "      <th></th>\n",
              "      <th></th>\n",
              "      <th></th>\n",
              "      <th></th>\n",
              "    </tr>\n",
              "  </thead>\n",
              "  <tbody>\n",
              "    <tr>\n",
              "      <th>060102740</th>\n",
              "      <td>g9_1</td>\n",
              "      <td>0</td>\n",
              "      <td>1.75</td>\n",
              "      <td>2.75</td>\n",
              "      <td>4</td>\n",
              "      <td>6.68</td>\n",
              "      <td>4.8500</td>\n",
              "      <td>1.664572</td>\n",
              "      <td>543</td>\n",
              "      <td>326.00</td>\n",
              "      <td>169.440255</td>\n",
              "      <td>18.511254</td>\n",
              "      <td>1.569892</td>\n",
              "      <td>2.655914</td>\n",
              "      <td>93</td>\n",
              "      <td>9.91</td>\n",
              "      <td>4.782796</td>\n",
              "      <td>0.07</td>\n",
              "      <td>886.0</td>\n",
              "      <td>470.397849</td>\n",
              "      <td>31.0</td>\n",
              "      <td>20</td>\n",
              "      <td>3.38</td>\n",
              "    </tr>\n",
              "    <tr>\n",
              "      <th>060119192</th>\n",
              "      <td>g9_1</td>\n",
              "      <td>0</td>\n",
              "      <td>1.00</td>\n",
              "      <td>3.00</td>\n",
              "      <td>4</td>\n",
              "      <td>8.10</td>\n",
              "      <td>5.2475</td>\n",
              "      <td>2.520018</td>\n",
              "      <td>764</td>\n",
              "      <td>478.25</td>\n",
              "      <td>280.150406</td>\n",
              "      <td>21.534314</td>\n",
              "      <td>1.569892</td>\n",
              "      <td>2.655914</td>\n",
              "      <td>93</td>\n",
              "      <td>9.91</td>\n",
              "      <td>4.782796</td>\n",
              "      <td>0.07</td>\n",
              "      <td>886.0</td>\n",
              "      <td>470.397849</td>\n",
              "      <td>31.0</td>\n",
              "      <td>20</td>\n",
              "      <td>4.76</td>\n",
              "    </tr>\n",
              "    <tr>\n",
              "      <th>060120769</th>\n",
              "      <td>g9_1</td>\n",
              "      <td>0</td>\n",
              "      <td>2.00</td>\n",
              "      <td>4.00</td>\n",
              "      <td>1</td>\n",
              "      <td>2.42</td>\n",
              "      <td>2.4200</td>\n",
              "      <td>0.000000</td>\n",
              "      <td>194</td>\n",
              "      <td>194.00</td>\n",
              "      <td>0.000000</td>\n",
              "      <td>5.572256</td>\n",
              "      <td>1.569892</td>\n",
              "      <td>2.655914</td>\n",
              "      <td>93</td>\n",
              "      <td>9.91</td>\n",
              "      <td>4.782796</td>\n",
              "      <td>0.07</td>\n",
              "      <td>886.0</td>\n",
              "      <td>470.397849</td>\n",
              "      <td>31.0</td>\n",
              "      <td>20</td>\n",
              "      <td>2.42</td>\n",
              "    </tr>\n",
              "    <tr>\n",
              "      <th>060121192</th>\n",
              "      <td>g9_1</td>\n",
              "      <td>0</td>\n",
              "      <td>2.00</td>\n",
              "      <td>3.50</td>\n",
              "      <td>2</td>\n",
              "      <td>6.88</td>\n",
              "      <td>6.5100</td>\n",
              "      <td>0.523259</td>\n",
              "      <td>856</td>\n",
              "      <td>634.50</td>\n",
              "      <td>313.248304</td>\n",
              "      <td>16.252782</td>\n",
              "      <td>1.569892</td>\n",
              "      <td>2.655914</td>\n",
              "      <td>93</td>\n",
              "      <td>9.91</td>\n",
              "      <td>4.782796</td>\n",
              "      <td>0.07</td>\n",
              "      <td>886.0</td>\n",
              "      <td>470.397849</td>\n",
              "      <td>31.0</td>\n",
              "      <td>20</td>\n",
              "      <td>6.88</td>\n",
              "    </tr>\n",
              "    <tr>\n",
              "      <th>060163708</th>\n",
              "      <td>g9_1</td>\n",
              "      <td>0</td>\n",
              "      <td>1.00</td>\n",
              "      <td>2.00</td>\n",
              "      <td>2</td>\n",
              "      <td>5.61</td>\n",
              "      <td>3.3400</td>\n",
              "      <td>3.210265</td>\n",
              "      <td>746</td>\n",
              "      <td>524.00</td>\n",
              "      <td>313.955411</td>\n",
              "      <td>14.011382</td>\n",
              "      <td>1.569892</td>\n",
              "      <td>2.655914</td>\n",
              "      <td>93</td>\n",
              "      <td>9.91</td>\n",
              "      <td>4.782796</td>\n",
              "      <td>0.07</td>\n",
              "      <td>886.0</td>\n",
              "      <td>470.397849</td>\n",
              "      <td>31.0</td>\n",
              "      <td>20</td>\n",
              "      <td>1.07</td>\n",
              "    </tr>\n",
              "  </tbody>\n",
              "</table>\n",
              "</div>"
            ],
            "text/plain": [
              "           Course_code Activity_type  ...  Activities_Count_<lambda>  last_mark\n",
              "student_ID                            ...                                      \n",
              "060102740         g9_1             0  ...                         20       3.38\n",
              "060119192         g9_1             0  ...                         20       4.76\n",
              "060120769         g9_1             0  ...                         20       2.42\n",
              "060121192         g9_1             0  ...                         20       6.88\n",
              "060163708         g9_1             0  ...                         20       1.07\n",
              "\n",
              "[5 rows x 23 columns]"
            ]
          },
          "metadata": {
            "tags": []
          },
          "execution_count": 330
        }
      ]
    },
    {
      "cell_type": "markdown",
      "metadata": {
        "id": "rmi-mtp4FWZg"
      },
      "source": [
        "- Ranking\n",
        "\n",
        "$$\\Large score=\\log(\\frac{\\text{Qz_Max_time}}{\\text{Qz_Avg_tim}}+\\text{Qz_avg_diff*Qz_Avg_cp})*\\frac{\\text{Qz_Avg_mark}^2}{\\text{Qz_Max_mark}}$$"
      ]
    },
    {
      "cell_type": "code",
      "metadata": {
        "colab": {
          "base_uri": "https://localhost:8080/"
        },
        "id": "dpKvikShD_ia",
        "outputId": "e517237e-bc4c-4526-ba33-459acdfd44ab"
      },
      "source": [
        "df_stClass.Act_score.describe().T"
      ],
      "execution_count": null,
      "outputs": [
        {
          "output_type": "execute_result",
          "data": {
            "text/plain": [
              "count    1299.000000\n",
              "mean       13.889829\n",
              "std         8.889857\n",
              "min         0.043944\n",
              "25%         6.887793\n",
              "50%        12.961852\n",
              "75%        19.317732\n",
              "max        60.259700\n",
              "Name: Act_score, dtype: float64"
            ]
          },
          "metadata": {
            "tags": []
          },
          "execution_count": 331
        }
      ]
    },
    {
      "cell_type": "code",
      "metadata": {
        "colab": {
          "base_uri": "https://localhost:8080/"
        },
        "id": "cFs-6fXyGpGB",
        "outputId": "e88db1e6-6253-4904-93fd-d1e796d11e9e"
      },
      "source": [
        "df_stClass.Act_score.quantile(0.25)"
      ],
      "execution_count": null,
      "outputs": [
        {
          "output_type": "execute_result",
          "data": {
            "text/plain": [
              "6.887793441795189"
            ]
          },
          "metadata": {
            "tags": []
          },
          "execution_count": 332
        }
      ]
    },
    {
      "cell_type": "code",
      "metadata": {
        "id": "BXRNBYkvA4c6"
      },
      "source": [
        "#  feature  Engineering\n",
        "\n",
        "bins = [0, \n",
        "        df_stClass.Act_score.quantile(0.25),\n",
        "        df_stClass.Act_score.quantile(0.5),\n",
        "        df_stClass.Act_score.quantile(0.75), \n",
        "        df_stClass.Act_score.quantile(1)]\n",
        "names = ['D', 'C', 'B', 'A']\n",
        "\n",
        "df_stClass['Score_Class'] = pd.cut(df_stClass.Act_score,\n",
        "                           bins, labels=names)"
      ],
      "execution_count": null,
      "outputs": []
    },
    {
      "cell_type": "code",
      "metadata": {
        "colab": {
          "base_uri": "https://localhost:8080/",
          "height": 255
        },
        "id": "DOVyPfF1I62v",
        "outputId": "82ccf324-461e-43d9-b5f3-e3540a1141f7"
      },
      "source": [
        "df_stClass.head()\n",
        "\n",
        "#  It's better to add data related to  timestamp feature:  dat, month, dayofteweek, monthOfTheyear ....."
      ],
      "execution_count": null,
      "outputs": [
        {
          "output_type": "execute_result",
          "data": {
            "text/html": [
              "<div>\n",
              "<style scoped>\n",
              "    .dataframe tbody tr th:only-of-type {\n",
              "        vertical-align: middle;\n",
              "    }\n",
              "\n",
              "    .dataframe tbody tr th {\n",
              "        vertical-align: top;\n",
              "    }\n",
              "\n",
              "    .dataframe thead th {\n",
              "        text-align: right;\n",
              "    }\n",
              "</style>\n",
              "<table border=\"1\" class=\"dataframe\">\n",
              "  <thead>\n",
              "    <tr style=\"text-align: right;\">\n",
              "      <th></th>\n",
              "      <th>Course_code</th>\n",
              "      <th>Activity_type</th>\n",
              "      <th>Std_act_cp_mean</th>\n",
              "      <th>Std_act_d_mean</th>\n",
              "      <th>Std_act_m_count</th>\n",
              "      <th>Std_act_m_max</th>\n",
              "      <th>Std_act_m_mean</th>\n",
              "      <th>Std_act_m_std</th>\n",
              "      <th>Std_act_t_max</th>\n",
              "      <th>Std_act_t_mean</th>\n",
              "      <th>Std_act_t_std</th>\n",
              "      <th>Act_score</th>\n",
              "      <th>Act_cp_count_mean</th>\n",
              "      <th>Act_diff_mean</th>\n",
              "      <th>Act_mark_count</th>\n",
              "      <th>Act_mark_max</th>\n",
              "      <th>Act_mark_mean</th>\n",
              "      <th>Act_mark_min</th>\n",
              "      <th>Act_time_max</th>\n",
              "      <th>Act_time_mean</th>\n",
              "      <th>Act_time_min</th>\n",
              "      <th>Activities_Count_&lt;lambda&gt;</th>\n",
              "      <th>last_mark</th>\n",
              "      <th>Score_Class</th>\n",
              "    </tr>\n",
              "    <tr>\n",
              "      <th>student_ID</th>\n",
              "      <th></th>\n",
              "      <th></th>\n",
              "      <th></th>\n",
              "      <th></th>\n",
              "      <th></th>\n",
              "      <th></th>\n",
              "      <th></th>\n",
              "      <th></th>\n",
              "      <th></th>\n",
              "      <th></th>\n",
              "      <th></th>\n",
              "      <th></th>\n",
              "      <th></th>\n",
              "      <th></th>\n",
              "      <th></th>\n",
              "      <th></th>\n",
              "      <th></th>\n",
              "      <th></th>\n",
              "      <th></th>\n",
              "      <th></th>\n",
              "      <th></th>\n",
              "      <th></th>\n",
              "      <th></th>\n",
              "      <th></th>\n",
              "    </tr>\n",
              "  </thead>\n",
              "  <tbody>\n",
              "    <tr>\n",
              "      <th>060102740</th>\n",
              "      <td>g9_1</td>\n",
              "      <td>0</td>\n",
              "      <td>1.75</td>\n",
              "      <td>2.75</td>\n",
              "      <td>4</td>\n",
              "      <td>6.68</td>\n",
              "      <td>4.8500</td>\n",
              "      <td>1.664572</td>\n",
              "      <td>543</td>\n",
              "      <td>326.00</td>\n",
              "      <td>169.440255</td>\n",
              "      <td>18.511254</td>\n",
              "      <td>1.569892</td>\n",
              "      <td>2.655914</td>\n",
              "      <td>93</td>\n",
              "      <td>9.91</td>\n",
              "      <td>4.782796</td>\n",
              "      <td>0.07</td>\n",
              "      <td>886.0</td>\n",
              "      <td>470.397849</td>\n",
              "      <td>31.0</td>\n",
              "      <td>20</td>\n",
              "      <td>3.38</td>\n",
              "      <td>B</td>\n",
              "    </tr>\n",
              "    <tr>\n",
              "      <th>060119192</th>\n",
              "      <td>g9_1</td>\n",
              "      <td>0</td>\n",
              "      <td>1.00</td>\n",
              "      <td>3.00</td>\n",
              "      <td>4</td>\n",
              "      <td>8.10</td>\n",
              "      <td>5.2475</td>\n",
              "      <td>2.520018</td>\n",
              "      <td>764</td>\n",
              "      <td>478.25</td>\n",
              "      <td>280.150406</td>\n",
              "      <td>21.534314</td>\n",
              "      <td>1.569892</td>\n",
              "      <td>2.655914</td>\n",
              "      <td>93</td>\n",
              "      <td>9.91</td>\n",
              "      <td>4.782796</td>\n",
              "      <td>0.07</td>\n",
              "      <td>886.0</td>\n",
              "      <td>470.397849</td>\n",
              "      <td>31.0</td>\n",
              "      <td>20</td>\n",
              "      <td>4.76</td>\n",
              "      <td>A</td>\n",
              "    </tr>\n",
              "    <tr>\n",
              "      <th>060120769</th>\n",
              "      <td>g9_1</td>\n",
              "      <td>0</td>\n",
              "      <td>2.00</td>\n",
              "      <td>4.00</td>\n",
              "      <td>1</td>\n",
              "      <td>2.42</td>\n",
              "      <td>2.4200</td>\n",
              "      <td>0.000000</td>\n",
              "      <td>194</td>\n",
              "      <td>194.00</td>\n",
              "      <td>0.000000</td>\n",
              "      <td>5.572256</td>\n",
              "      <td>1.569892</td>\n",
              "      <td>2.655914</td>\n",
              "      <td>93</td>\n",
              "      <td>9.91</td>\n",
              "      <td>4.782796</td>\n",
              "      <td>0.07</td>\n",
              "      <td>886.0</td>\n",
              "      <td>470.397849</td>\n",
              "      <td>31.0</td>\n",
              "      <td>20</td>\n",
              "      <td>2.42</td>\n",
              "      <td>D</td>\n",
              "    </tr>\n",
              "    <tr>\n",
              "      <th>060121192</th>\n",
              "      <td>g9_1</td>\n",
              "      <td>0</td>\n",
              "      <td>2.00</td>\n",
              "      <td>3.50</td>\n",
              "      <td>2</td>\n",
              "      <td>6.88</td>\n",
              "      <td>6.5100</td>\n",
              "      <td>0.523259</td>\n",
              "      <td>856</td>\n",
              "      <td>634.50</td>\n",
              "      <td>313.248304</td>\n",
              "      <td>16.252782</td>\n",
              "      <td>1.569892</td>\n",
              "      <td>2.655914</td>\n",
              "      <td>93</td>\n",
              "      <td>9.91</td>\n",
              "      <td>4.782796</td>\n",
              "      <td>0.07</td>\n",
              "      <td>886.0</td>\n",
              "      <td>470.397849</td>\n",
              "      <td>31.0</td>\n",
              "      <td>20</td>\n",
              "      <td>6.88</td>\n",
              "      <td>B</td>\n",
              "    </tr>\n",
              "    <tr>\n",
              "      <th>060163708</th>\n",
              "      <td>g9_1</td>\n",
              "      <td>0</td>\n",
              "      <td>1.00</td>\n",
              "      <td>2.00</td>\n",
              "      <td>2</td>\n",
              "      <td>5.61</td>\n",
              "      <td>3.3400</td>\n",
              "      <td>3.210265</td>\n",
              "      <td>746</td>\n",
              "      <td>524.00</td>\n",
              "      <td>313.955411</td>\n",
              "      <td>14.011382</td>\n",
              "      <td>1.569892</td>\n",
              "      <td>2.655914</td>\n",
              "      <td>93</td>\n",
              "      <td>9.91</td>\n",
              "      <td>4.782796</td>\n",
              "      <td>0.07</td>\n",
              "      <td>886.0</td>\n",
              "      <td>470.397849</td>\n",
              "      <td>31.0</td>\n",
              "      <td>20</td>\n",
              "      <td>1.07</td>\n",
              "      <td>B</td>\n",
              "    </tr>\n",
              "  </tbody>\n",
              "</table>\n",
              "</div>"
            ],
            "text/plain": [
              "           Course_code Activity_type  ...  last_mark  Score_Class\n",
              "student_ID                            ...                        \n",
              "060102740         g9_1             0  ...       3.38            B\n",
              "060119192         g9_1             0  ...       4.76            A\n",
              "060120769         g9_1             0  ...       2.42            D\n",
              "060121192         g9_1             0  ...       6.88            B\n",
              "060163708         g9_1             0  ...       1.07            B\n",
              "\n",
              "[5 rows x 24 columns]"
            ]
          },
          "metadata": {
            "tags": []
          },
          "execution_count": 334
        }
      ]
    },
    {
      "cell_type": "code",
      "metadata": {
        "id": "XJyJk9FnJCvH"
      },
      "source": [
        "df_stClass.drop(\"Act_score\", axis=1, inplace=True)"
      ],
      "execution_count": null,
      "outputs": []
    },
    {
      "cell_type": "code",
      "metadata": {
        "id": "yOJgt_lxO7TF"
      },
      "source": [
        "# Split Data\n",
        "\n",
        "X=df_stClass.iloc[:,:-1]\n",
        "y=df_stClass[\"Score_Class\"]"
      ],
      "execution_count": null,
      "outputs": []
    },
    {
      "cell_type": "code",
      "metadata": {
        "id": "z0HbtSlPO7TG"
      },
      "source": [
        "from sklearn.model_selection import train_test_split\n",
        "\n",
        "X_train, X_test, y_train, y_test=train_test_split(X, y  , test_size=.3,   random_state=42)"
      ],
      "execution_count": null,
      "outputs": []
    },
    {
      "cell_type": "code",
      "metadata": {
        "colab": {
          "base_uri": "https://localhost:8080/"
        },
        "id": "lkqh27GpO7TG",
        "outputId": "dd4b4159-d15b-48a0-bbf8-8e48e4d889b7"
      },
      "source": [
        "X_train.shape, X_test.shape"
      ],
      "execution_count": null,
      "outputs": [
        {
          "output_type": "execute_result",
          "data": {
            "text/plain": [
              "((910, 22), (390, 22))"
            ]
          },
          "metadata": {
            "tags": []
          },
          "execution_count": 338
        }
      ]
    },
    {
      "cell_type": "code",
      "metadata": {
        "id": "uNoAmJ5wO7TH"
      },
      "source": [
        "from sklearn.preprocessing import StandardScaler , OneHotEncoder\n",
        "from sklearn.compose import make_column_transformer , make_column_selector  as selector\n",
        "\n",
        "from sklearn.pipeline import make_pipeline\n",
        "  \n",
        "num_pipeline= make_pipeline(\n",
        "     StandardScaler( )    # Rescaling\n",
        ")\n",
        "\n",
        "cat_pipeline= make_pipeline(\n",
        "      \n",
        "     OneHotEncoder(drop=\"if_binary\" , sparse=False ), \n",
        " \n",
        ")"
      ],
      "execution_count": null,
      "outputs": []
    },
    {
      "cell_type": "code",
      "metadata": {
        "id": "rnWwMgU6O7TH"
      },
      "source": [
        "#  Pipeline structure \n",
        "\n",
        "preprocess= make_column_transformer(\n",
        "     ( num_pipeline,  selector(dtype_include=\"number\") ),  #Numeric feature rescaling\n",
        "     (cat_pipeline, selector(dtype_exclude=\"number\"))  # Categorical features Encoding\n",
        "     )"
      ],
      "execution_count": null,
      "outputs": []
    },
    {
      "cell_type": "code",
      "metadata": {
        "colab": {
          "base_uri": "https://localhost:8080/"
        },
        "id": "6PTkH0fyO7TH",
        "outputId": "d39506b6-a33d-4806-b9f0-9492a6d2236f"
      },
      "source": [
        "preprocess.fit_transform(X_train).shape"
      ],
      "execution_count": null,
      "outputs": [
        {
          "output_type": "execute_result",
          "data": {
            "text/plain": [
              "(910, 36)"
            ]
          },
          "metadata": {
            "tags": []
          },
          "execution_count": 341
        }
      ]
    },
    {
      "cell_type": "code",
      "metadata": {
        "colab": {
          "base_uri": "https://localhost:8080/"
        },
        "id": "62CITadAO7TI",
        "outputId": "80a6434e-378b-43ce-aaec-4854e55188fc"
      },
      "source": [
        "preprocess.fit_transform(X_train)[0]"
      ],
      "execution_count": null,
      "outputs": [
        {
          "output_type": "execute_result",
          "data": {
            "text/plain": [
              "array([ 1.17989508,  1.54523704, -0.77397973,  0.61773412,  1.17657638,\n",
              "       -0.82208701,  0.60340813,  1.17728814, -0.8166143 , -2.06474676,\n",
              "       -0.06480395, -0.91140026, -0.69575924, -0.63515656, -0.81090783,\n",
              "        0.51504652,  0.690965  , -0.58280923,  0.75251223,  0.96956564,\n",
              "        0.        ,  0.        ,  0.        ,  0.        ,  0.        ,\n",
              "        0.        ,  0.        ,  0.        ,  0.        ,  0.        ,\n",
              "        0.        ,  1.        ,  0.        ,  0.        ,  0.        ,\n",
              "        0.        ])"
            ]
          },
          "metadata": {
            "tags": []
          },
          "execution_count": 343
        }
      ]
    },
    {
      "cell_type": "code",
      "metadata": {
        "id": "ygtpwdJSO7TJ"
      },
      "source": [
        "# pipelline Model\n",
        "\n",
        "from xgboost import XGBClassifier\n",
        "pipe_reg= make_pipeline(\n",
        "    preprocess, \n",
        "    XGBClassifier()\n",
        "    )"
      ],
      "execution_count": null,
      "outputs": []
    },
    {
      "cell_type": "code",
      "metadata": {
        "id": "5kqkheEaO7TJ"
      },
      "source": [
        "pipe_reg.get_params()"
      ],
      "execution_count": null,
      "outputs": []
    },
    {
      "cell_type": "code",
      "metadata": {
        "id": "XKjazoy5O7TJ"
      },
      "source": [
        "# hyper parameters\n",
        "\n",
        "param_grid = {\n",
        "    'xgbclassifier__n_estimators': [50, 100, 150, 200],\n",
        "    'xgbclassifier__learning_rate': [0.01, 0.1, 0.2, 0.3],\n",
        "    'xgbclassifier__max_depth': range(3, 5),\n",
        "    'xgbclassifier__colsample_bytree': [i/10.0 for i in range(1, 3)],\n",
        "    'xgbclassifier__gamma': [i/10.0 for i in range(3)],\n",
        "    \n",
        "}"
      ],
      "execution_count": null,
      "outputs": []
    },
    {
      "cell_type": "code",
      "metadata": {
        "id": "LZY_I0agBoED"
      },
      "source": [
        "# AUC and accuracy as score\n",
        "\n",
        "from sklearn.metrics import accuracy_score, make_scorer, f1_score\n",
        "# f1_scorer = make_scorer(f1_score, pos_label=\"yes\", average=\"micro\")"
      ],
      "execution_count": null,
      "outputs": []
    },
    {
      "cell_type": "code",
      "metadata": {
        "id": "yvVUlnXRO7TK"
      },
      "source": [
        "from sklearn.model_selection import RandomizedSearchCV, KFold\n",
        "\n",
        "kf= KFold( n_splits=5, shuffle=True )\n",
        "gs= RandomizedSearchCV( pipe_reg, param_distributions=param_grid,  scoring=make_scorer(f1_score(average='micro')),  cv=kf,verbose=3)"
      ],
      "execution_count": null,
      "outputs": []
    },
    {
      "cell_type": "code",
      "metadata": {
        "id": "9mu58K1nO7TK"
      },
      "source": [
        "gs.fit(X_train, y_train)"
      ],
      "execution_count": null,
      "outputs": []
    },
    {
      "cell_type": "code",
      "metadata": {
        "id": "WCQsQ6frO7TK"
      },
      "source": [
        "gs.best_estimator_"
      ],
      "execution_count": null,
      "outputs": []
    },
    {
      "cell_type": "code",
      "metadata": {
        "id": "52_M4t9mO7TL"
      },
      "source": [
        "gs.best_params_"
      ],
      "execution_count": null,
      "outputs": []
    },
    {
      "cell_type": "code",
      "metadata": {
        "id": "I-4oLnkiO7TL"
      },
      "source": [
        "X_test.sample()"
      ],
      "execution_count": null,
      "outputs": []
    },
    {
      "cell_type": "code",
      "metadata": {
        "id": "L2xALOuEO7TL"
      },
      "source": [
        "std_Pred=X_test.loc[\"120512419\"]"
      ],
      "execution_count": null,
      "outputs": []
    },
    {
      "cell_type": "code",
      "metadata": {
        "id": "k5I5DVSSO7TM"
      },
      "source": [
        "gs.predict(X_test.loc[\"120512419\"])"
      ],
      "execution_count": null,
      "outputs": []
    },
    {
      "cell_type": "code",
      "metadata": {
        "id": "vHKbm3jiO7TM"
      },
      "source": [
        "std_Pred[\"Predicted_mark\"]=gs.predict(X_test.loc[\"120512419\"])"
      ],
      "execution_count": null,
      "outputs": []
    },
    {
      "cell_type": "code",
      "metadata": {
        "id": "bRKsloF7O7TN"
      },
      "source": [
        "std_Pred"
      ],
      "execution_count": null,
      "outputs": []
    },
    {
      "cell_type": "code",
      "metadata": {
        "id": "GNl60l11O7TN"
      },
      "source": [
        "y_pred=gs.predict(X_test)"
      ],
      "execution_count": null,
      "outputs": []
    },
    {
      "cell_type": "code",
      "metadata": {
        "id": "4DPZE8g7O7TN"
      },
      "source": [
        "from sklearn import  metrics\n",
        "print(f\"  MAE : { metrics.mean_absolute_error(y_test, y_pred):.3f}\")\n",
        "print(f\"  MSE : { metrics.mean_squared_error(y_test, y_pred):.3f}\")\n",
        "print(f\"  RMSE : { np.sqrt(metrics.mean_squared_error(y_test, y_pred)):.3f}\")\n",
        "print(f\"  R^2 : { metrics.r2_score(y_test, y_pred):.3f}\")\n",
        "print(f\"  Explained Variance Score : { metrics.mean_absolute_error(y_test, y_pred):.3f}\")"
      ],
      "execution_count": null,
      "outputs": []
    },
    {
      "cell_type": "code",
      "metadata": {
        "id": "thlN8kwyO7TN"
      },
      "source": [
        "# Residual Plot\n",
        "\n",
        "import seaborn as sns\n",
        "_= sns.residplot(x=y_test, y=y_pred, color=\"green\")"
      ],
      "execution_count": null,
      "outputs": []
    },
    {
      "cell_type": "code",
      "metadata": {
        "id": "QBtRKsXSO7TQ"
      },
      "source": [
        "X_test.shape"
      ],
      "execution_count": null,
      "outputs": []
    },
    {
      "cell_type": "code",
      "metadata": {
        "id": "fHRX4KUqO7TR"
      },
      "source": [
        "X_test.sample()"
      ],
      "execution_count": null,
      "outputs": []
    },
    {
      "cell_type": "code",
      "metadata": {
        "id": "zmvS2Hd2O7TS"
      },
      "source": [
        "df_avt.sample()"
      ],
      "execution_count": null,
      "outputs": []
    },
    {
      "cell_type": "code",
      "metadata": {
        "id": "Ayiz4uBpO7TS"
      },
      "source": [
        "df_avt.keys()"
      ],
      "execution_count": null,
      "outputs": []
    },
    {
      "cell_type": "code",
      "metadata": {
        "id": "Zq1LtjhpO7TS"
      },
      "source": [
        "X_test.keys()"
      ],
      "execution_count": null,
      "outputs": []
    },
    {
      "cell_type": "code",
      "metadata": {
        "id": "JGL5XFCMO7TT"
      },
      "source": [
        "#  Last Mark Comparaison\n",
        "\n",
        "pd.DataFrame({\"Actual Mark\": y_test, \"Predicted Mark\": y_pred}).sample(6)"
      ],
      "execution_count": null,
      "outputs": []
    },
    {
      "cell_type": "code",
      "metadata": {
        "id": "jGIG1Z2CO7TT"
      },
      "source": [
        "X_test[\"predicted_Mark\"]=y_pred"
      ],
      "execution_count": null,
      "outputs": []
    },
    {
      "cell_type": "code",
      "metadata": {
        "id": "wPYejHbAO7TT"
      },
      "source": [
        "X_test.head()"
      ],
      "execution_count": null,
      "outputs": []
    },
    {
      "cell_type": "markdown",
      "metadata": {
        "id": "85tpcOGfnqOV"
      },
      "source": [
        "## Recommendation \n",
        "\n"
      ]
    },
    {
      "cell_type": "markdown",
      "metadata": {
        "id": "xGMej6ntJGtf"
      },
      "source": [
        "###  recommendation CountVetorization"
      ]
    },
    {
      "cell_type": "code",
      "metadata": {
        "id": "tTdgMAuqt2T1"
      },
      "source": [
        ""
      ],
      "execution_count": null,
      "outputs": []
    },
    {
      "cell_type": "code",
      "metadata": {
        "id": "v2OVIb6Qt2Iv"
      },
      "source": [
        "#  all program we can encapsulate within a file.py shouls be implemented"
      ],
      "execution_count": null,
      "outputs": []
    },
    {
      "cell_type": "code",
      "metadata": {
        "id": "fVOS5yqLFNwD"
      },
      "source": [
        "modules=[\n",
        "         {\"unit\":\"Data and statistics\", \n",
        "          \"lessons\":[\n",
        "                    {\"LessName\": \"Dot plots & frequency tables\",\n",
        "                    \"lobs\":[\n",
        "                            {\"lobID\": 1, \"lobName\":\"Representing Data\", \"URL\":, \"URL\": \"https://\" },\n",
        "                            {\"lobID\": 2,\"lobName\":\"Frequency Tables & dot plot\", \"URL\": \"https://\"}\n",
        "                          ]\n",
        "                          \n",
        "                    },\n",
        "                    {\"LessName\": \"Statistical questions\",\n",
        "                    \"lobs\":[\n",
        "                            {\"lobID\": 3, \"lobName\":\"Statistical questions\", \"URL\": \"https://\"}\n",
        "                          ]\n",
        "                    },\n",
        "                    {\"LessName\": \"Histograms\",\n",
        "                    \"lobs\":[\n",
        "                            {\"lobID\": 4, \"lobName\":\"Creating a histogram\", \"URL\": \"https://\"},\n",
        "                            {\"lobID\": 5, \"lobName\":\"Interpreting a histogram\", \"URL\": \"https://\"}\n",
        "                          ]\n",
        "                    },\n",
        "                    {\"LessName\": \"Mean and median\",\n",
        "                    \"lobs\":[\n",
        "                            \n",
        "                                {\"lobID\": 6, \"lobName\":\"Statistics Intro: Mean, Median & Mode\", \"URL\": \"https://\"}, \n",
        "                                {\"lobID\": 7, \"lobName\":\"Mean, Median & Mode example\", \"URL\": \"https://\"},\n",
        "                                {\"lobID\": 8 , \"lobName\":\"Calculating the mean\", \"URL\": \"https://\"}\n",
        "                                \n",
        "                                \n",
        "                          ]\n",
        "                    },\n",
        "                    {\"LessName\": \"Mean and median challenge problems\",\n",
        "                    \"lobs\":[\n",
        "                             {\"lobID\": 9, \"lobName\": \"Missing value given the mean\", \"URL\": \"https://\"},\n",
        "                              {\"lobID\":10 , \"lobName\":\"Mean as the balancing point\"},\n",
        "                              {\"lobID\": 11, \"lobName\":\"Impact on median & mean: Removing an outlier\"},\n",
        "                              {\"lobID\": 12, \"lobName\":\"Impact on median & mean: increasing an outlier\"},\n",
        "                              {\"lobID\": 13, \"lobName\":\"Median & range puzzlers\"}\n",
        "                          ]\n",
        "                    },\n",
        "                    {\"LessName\": \"Interquartile range (IQR)\",\n",
        "                    \"lobs\":[\n",
        "                            {\"lobID\": 14, \"lobName\":\"Interquartile range (IQR)\"}\n",
        "                          ]\n",
        "                    },\n",
        "                    {\"LessName\": \"Box Plots\",\n",
        "                    \"lobs\":[\n",
        "                            {\"lobID\":15  , \"lobName\":\"Reading box plots\"},\n",
        "                             {\"lobID\":16  , \"lobName\":\"Constructing a box plot\"},\n",
        "                             {\"lobID\":17  , \"lobName\":\"Worked example: Creating box plot (odd number of data points)\"},\n",
        "                             {\"lobID\":18  , \"lobName\":\"Worked example: Creating box plot (even number of data points)\"},\n",
        "                             {\"lobID\":19  , \"lobName\":\"Worked example: Interpreting a box plot\"}\n",
        "                          ]\n",
        "                    },\n",
        "\n",
        "                    {\"LessName\": \"Mean absolute deviation (MAD)\",\n",
        "                    \"lobs\":[\n",
        "                            { \"lobID\":20 , \"lobName\":\"Mean absolute deviation (MAD)\"},\n",
        "                              {\"lobID\":21 , \"lobName\":\"Mean absolute deviation example\"}\n",
        "                          ]\n",
        "                    },\n",
        "                    {\"LessName\": \"Comparing Data Display\",\n",
        "                    \"lobs\":[\n",
        "                            {\"lobID\":22 , \"lobName\":\"Comparing dot plots, histograms and box plots\"}\n",
        "                          ]\n",
        "                    },\n",
        "                    {\"LessName\": \"Shape of Data Distribution\",\n",
        "                    \"lobs\":[\n",
        "                            {\"lobID\":23 , \"lobName\":\"Shape of distributions\"},\n",
        "                              {\"lobID\":24 , \"lobName\":\"Clusters, gaps, peaks & outliers\"}\n",
        "                          ]\n",
        "                    },\n",
        "                    \n",
        "\n",
        "                    \n",
        "                    ],\n",
        "           \n",
        "          \n",
        "          }\n",
        "         ]"
      ],
      "execution_count": 33,
      "outputs": []
    },
    {
      "cell_type": "code",
      "metadata": {
        "id": "7n7zx-OoJO1G"
      },
      "source": [
        "#### NO NEED TO RUN\n",
        "\n",
        "import random, numpy as np\n",
        "md=modules[0][\"lessons\"]\n",
        "RndLesson= int(len(md)*np.random.rand()-1)\n",
        "lob= md[RndLesson][\"lobs\"]\n",
        "\n",
        "RndLob= int(len(md[RndLesson][\"lobs\"])*np.random.rand())\n",
        "# [0][\"lobID\"]\n",
        "# print(lob, RndLesson)\n",
        "# print(md[RndLesson][\"LessName\"])  \n",
        "# print(md[RndLesson][\"lobs\"][RndLob][\"lobID\"])\n",
        "# print(md[RndLesson][\"lobs\"][RndLob][\"lobName\"])\n",
        "# for item in md:\n",
        "#   print(item)\n",
        "for item  in   md:\n",
        "  # print(item)\n",
        "  for i in item[\"lobs\"]:\n",
        "    print(i[\"lobID\"])"
      ],
      "execution_count": null,
      "outputs": []
    },
    {
      "cell_type": "code",
      "metadata": {
        "colab": {
          "base_uri": "https://localhost:8080/"
        },
        "id": "nG16MpRejmav",
        "outputId": "ac16db84-f8a6-466f-dc2f-1e8134c52507"
      },
      "source": [
        "dt_st.student_ID.unique()"
      ],
      "execution_count": 35,
      "outputs": [
        {
          "output_type": "execute_result",
          "data": {
            "text/plain": [
              "array(['070877232S', '090595032S', '100909663S', '090349526S',\n",
              "       '070270034S'], dtype=object)"
            ]
          },
          "metadata": {
            "tags": []
          },
          "execution_count": 35
        }
      ]
    },
    {
      "cell_type": "code",
      "metadata": {
        "id": "9maxAFEUK0Mf",
        "colab": {
          "base_uri": "https://localhost:8080/"
        },
        "outputId": "87ad939c-1d76-46ef-e48f-889da93190f6"
      },
      "source": [
        "lst=[]\n",
        "\n",
        "md=modules[0][\"lessons\"]\n",
        "\n",
        "for st in  dt_st.student_ID.unique():\n",
        "  for i   in range(int(30*np.random.rand()+8)):\n",
        "    RndLesson= int(len(md)*np.random.rand()-1)\n",
        "    RndLob= int(len(md[RndLesson][\"lobs\"])*np.random.rand())\n",
        "    activities= {\n",
        "        \"student_ID\": st ,\n",
        "        # \"Course_code\":course_id,  \n",
        "        # \"Unit_des\":  random.choice([ \"Un_\"+str(k) for k in range(10)]),\n",
        "        \"Lesson_des\": md[RndLesson][\"LessName\"],\n",
        "\n",
        "        \"lobj_id\": md[RndLesson][\"lobs\"][RndLob][\"lobID\"], \n",
        "        \"lobj_des\": md[RndLesson][\"lobs\"][RndLob][\"lobName\"],  \n",
        "        # \"Subcps\": [ subcp[s]  for   i in range (1, int((len(subcps)*np.random.rand()+2)))] \n",
        "\n",
        "    }\n",
        "    lst.append(activities)\n",
        "df_recommend=pd.DataFrame(lst)\n",
        "df_recommend.shape"
      ],
      "execution_count": 36,
      "outputs": [
        {
          "output_type": "execute_result",
          "data": {
            "text/plain": [
              "(145, 4)"
            ]
          },
          "metadata": {
            "tags": []
          },
          "execution_count": 36
        }
      ]
    },
    {
      "cell_type": "code",
      "metadata": {
        "id": "ckgwxCxuKz1e"
      },
      "source": [
        "df_recommend[\"LearningObj\"]=df_recommend.Lesson_des+ \" \" + df_recommend.lobj_des"
      ],
      "execution_count": 37,
      "outputs": []
    },
    {
      "cell_type": "code",
      "metadata": {
        "colab": {
          "base_uri": "https://localhost:8080/",
          "height": 204
        },
        "id": "LUs6lauog3lu",
        "outputId": "51cef5d1-c9aa-4ca5-cec3-adfcafb1ed75"
      },
      "source": [
        "df_recommend.head()"
      ],
      "execution_count": 112,
      "outputs": [
        {
          "output_type": "execute_result",
          "data": {
            "text/html": [
              "<div>\n",
              "<style scoped>\n",
              "    .dataframe tbody tr th:only-of-type {\n",
              "        vertical-align: middle;\n",
              "    }\n",
              "\n",
              "    .dataframe tbody tr th {\n",
              "        vertical-align: top;\n",
              "    }\n",
              "\n",
              "    .dataframe thead th {\n",
              "        text-align: right;\n",
              "    }\n",
              "</style>\n",
              "<table border=\"1\" class=\"dataframe\">\n",
              "  <thead>\n",
              "    <tr style=\"text-align: right;\">\n",
              "      <th></th>\n",
              "      <th>student_ID</th>\n",
              "      <th>Lesson_des</th>\n",
              "      <th>lobj_id</th>\n",
              "      <th>lobj_des</th>\n",
              "      <th>LearningObj</th>\n",
              "    </tr>\n",
              "  </thead>\n",
              "  <tbody>\n",
              "    <tr>\n",
              "      <th>0</th>\n",
              "      <td>070877232S</td>\n",
              "      <td>Mean and median challenge problems</td>\n",
              "      <td>13</td>\n",
              "      <td>Median &amp; range puzzlers</td>\n",
              "      <td>Mean and median challenge problems Median &amp; ra...</td>\n",
              "    </tr>\n",
              "    <tr>\n",
              "      <th>1</th>\n",
              "      <td>070877232S</td>\n",
              "      <td>Comparing Data Display</td>\n",
              "      <td>22</td>\n",
              "      <td>Comparing dot plots, histograms and box plots</td>\n",
              "      <td>Comparing Data Display Comparing dot plots, hi...</td>\n",
              "    </tr>\n",
              "    <tr>\n",
              "      <th>2</th>\n",
              "      <td>070877232S</td>\n",
              "      <td>Dot plots &amp; frequency tables</td>\n",
              "      <td>2</td>\n",
              "      <td>Frequency Tables &amp; dot plot</td>\n",
              "      <td>Dot plots &amp; frequency tables Frequency Tables ...</td>\n",
              "    </tr>\n",
              "    <tr>\n",
              "      <th>3</th>\n",
              "      <td>070877232S</td>\n",
              "      <td>Comparing Data Display</td>\n",
              "      <td>22</td>\n",
              "      <td>Comparing dot plots, histograms and box plots</td>\n",
              "      <td>Comparing Data Display Comparing dot plots, hi...</td>\n",
              "    </tr>\n",
              "    <tr>\n",
              "      <th>4</th>\n",
              "      <td>070877232S</td>\n",
              "      <td>Statistical questions</td>\n",
              "      <td>3</td>\n",
              "      <td>Statistical questions</td>\n",
              "      <td>Statistical questions Statistical questions</td>\n",
              "    </tr>\n",
              "  </tbody>\n",
              "</table>\n",
              "</div>"
            ],
            "text/plain": [
              "   student_ID  ...                                        LearningObj\n",
              "0  070877232S  ...  Mean and median challenge problems Median & ra...\n",
              "1  070877232S  ...  Comparing Data Display Comparing dot plots, hi...\n",
              "2  070877232S  ...  Dot plots & frequency tables Frequency Tables ...\n",
              "3  070877232S  ...  Comparing Data Display Comparing dot plots, hi...\n",
              "4  070877232S  ...        Statistical questions Statistical questions\n",
              "\n",
              "[5 rows x 5 columns]"
            ]
          },
          "metadata": {
            "tags": []
          },
          "execution_count": 112
        }
      ]
    },
    {
      "cell_type": "code",
      "metadata": {
        "id": "e9orTWL31fEV",
        "outputId": "f8cbab4d-09b4-4b8f-ad49-663c76c22c1e",
        "colab": {
          "base_uri": "https://localhost:8080/"
        }
      },
      "source": [
        "for  url  in  lst_obj:\n",
        "  print(df_recommend.query(f\"lobj_des=='{url}' \").lobj_id.unique())"
      ],
      "execution_count": 122,
      "outputs": [
        {
          "output_type": "stream",
          "text": [
            "[1]\n",
            "[18]\n",
            "[17]\n",
            "[19]\n",
            "[20]\n"
          ],
          "name": "stdout"
        }
      ]
    },
    {
      "cell_type": "code",
      "metadata": {
        "colab": {
          "base_uri": "https://localhost:8080/"
        },
        "id": "ebwT5QSgJDmY",
        "outputId": "c4df751f-0d6e-4553-b80b-8c7662ad0056"
      },
      "source": [
        "vrst='070877232S'\n",
        "list(df_recommend.query(f\"student_ID=='{vrst}'\").lobj_id.unique())"
      ],
      "execution_count": 46,
      "outputs": [
        {
          "output_type": "execute_result",
          "data": {
            "text/plain": [
              "[13, 22, 2, 3, 21, 8, 11, 14, 5, 9, 12, 4, 7, 6, 10, 15]"
            ]
          },
          "metadata": {
            "tags": []
          },
          "execution_count": 46
        }
      ]
    },
    {
      "cell_type": "code",
      "metadata": {
        "colab": {
          "base_uri": "https://localhost:8080/",
          "height": 204
        },
        "id": "Kl6r8dXyIc2j",
        "outputId": "8915dcfa-ac8f-4b16-ae91-867c5137d49a"
      },
      "source": [
        "#  Current student  LOBs\n",
        "df_st_Rec=df_recommend.query(f\"student_ID=='{vrst}'\").drop_duplicates(subset=[\"lobj_id\"], keep=\"first\")\n",
        "df_st_Rec.head()"
      ],
      "execution_count": 47,
      "outputs": [
        {
          "output_type": "execute_result",
          "data": {
            "text/html": [
              "<div>\n",
              "<style scoped>\n",
              "    .dataframe tbody tr th:only-of-type {\n",
              "        vertical-align: middle;\n",
              "    }\n",
              "\n",
              "    .dataframe tbody tr th {\n",
              "        vertical-align: top;\n",
              "    }\n",
              "\n",
              "    .dataframe thead th {\n",
              "        text-align: right;\n",
              "    }\n",
              "</style>\n",
              "<table border=\"1\" class=\"dataframe\">\n",
              "  <thead>\n",
              "    <tr style=\"text-align: right;\">\n",
              "      <th></th>\n",
              "      <th>student_ID</th>\n",
              "      <th>Lesson_des</th>\n",
              "      <th>lobj_id</th>\n",
              "      <th>lobj_des</th>\n",
              "      <th>LearningObj</th>\n",
              "    </tr>\n",
              "  </thead>\n",
              "  <tbody>\n",
              "    <tr>\n",
              "      <th>0</th>\n",
              "      <td>070877232S</td>\n",
              "      <td>Mean and median challenge problems</td>\n",
              "      <td>13</td>\n",
              "      <td>Median &amp; range puzzlers</td>\n",
              "      <td>Mean and median challenge problems Median &amp; ra...</td>\n",
              "    </tr>\n",
              "    <tr>\n",
              "      <th>1</th>\n",
              "      <td>070877232S</td>\n",
              "      <td>Comparing Data Display</td>\n",
              "      <td>22</td>\n",
              "      <td>Comparing dot plots, histograms and box plots</td>\n",
              "      <td>Comparing Data Display Comparing dot plots, hi...</td>\n",
              "    </tr>\n",
              "    <tr>\n",
              "      <th>2</th>\n",
              "      <td>070877232S</td>\n",
              "      <td>Dot plots &amp; frequency tables</td>\n",
              "      <td>2</td>\n",
              "      <td>Frequency Tables &amp; dot plot</td>\n",
              "      <td>Dot plots &amp; frequency tables Frequency Tables ...</td>\n",
              "    </tr>\n",
              "    <tr>\n",
              "      <th>4</th>\n",
              "      <td>070877232S</td>\n",
              "      <td>Statistical questions</td>\n",
              "      <td>3</td>\n",
              "      <td>Statistical questions</td>\n",
              "      <td>Statistical questions Statistical questions</td>\n",
              "    </tr>\n",
              "    <tr>\n",
              "      <th>5</th>\n",
              "      <td>070877232S</td>\n",
              "      <td>Mean absolute deviation (MAD)</td>\n",
              "      <td>21</td>\n",
              "      <td>Mean absolute deviation example</td>\n",
              "      <td>Mean absolute deviation (MAD) Mean absolute de...</td>\n",
              "    </tr>\n",
              "  </tbody>\n",
              "</table>\n",
              "</div>"
            ],
            "text/plain": [
              "   student_ID  ...                                        LearningObj\n",
              "0  070877232S  ...  Mean and median challenge problems Median & ra...\n",
              "1  070877232S  ...  Comparing Data Display Comparing dot plots, hi...\n",
              "2  070877232S  ...  Dot plots & frequency tables Frequency Tables ...\n",
              "4  070877232S  ...        Statistical questions Statistical questions\n",
              "5  070877232S  ...  Mean absolute deviation (MAD) Mean absolute de...\n",
              "\n",
              "[5 rows x 5 columns]"
            ]
          },
          "metadata": {
            "tags": []
          },
          "execution_count": 47
        }
      ]
    },
    {
      "cell_type": "code",
      "metadata": {
        "id": "VB3VWemf6rPS"
      },
      "source": [
        "sorted_score=[]\n",
        "cs=[]"
      ],
      "execution_count": 65,
      "outputs": []
    },
    {
      "cell_type": "code",
      "metadata": {
        "colab": {
          "base_uri": "https://localhost:8080/",
          "height": 80
        },
        "id": "9b2ZLhdEjtUh",
        "outputId": "3d52fd1e-7cb7-40c7-9c39-9669171c1738"
      },
      "source": [
        "df_recommend.sample()"
      ],
      "execution_count": 66,
      "outputs": [
        {
          "output_type": "execute_result",
          "data": {
            "text/html": [
              "<div>\n",
              "<style scoped>\n",
              "    .dataframe tbody tr th:only-of-type {\n",
              "        vertical-align: middle;\n",
              "    }\n",
              "\n",
              "    .dataframe tbody tr th {\n",
              "        vertical-align: top;\n",
              "    }\n",
              "\n",
              "    .dataframe thead th {\n",
              "        text-align: right;\n",
              "    }\n",
              "</style>\n",
              "<table border=\"1\" class=\"dataframe\">\n",
              "  <thead>\n",
              "    <tr style=\"text-align: right;\">\n",
              "      <th></th>\n",
              "      <th>student_ID</th>\n",
              "      <th>Lesson_des</th>\n",
              "      <th>lobj_id</th>\n",
              "      <th>lobj_des</th>\n",
              "      <th>LearningObj</th>\n",
              "    </tr>\n",
              "  </thead>\n",
              "  <tbody>\n",
              "    <tr>\n",
              "      <th>6</th>\n",
              "      <td>070877232S</td>\n",
              "      <td>Mean and median</td>\n",
              "      <td>8</td>\n",
              "      <td>Calculating the mean</td>\n",
              "      <td>Mean and median Calculating the mean</td>\n",
              "    </tr>\n",
              "  </tbody>\n",
              "</table>\n",
              "</div>"
            ],
            "text/plain": [
              "   student_ID  ...                           LearningObj\n",
              "6  070877232S  ...  Mean and median Calculating the mean\n",
              "\n",
              "[1 rows x 5 columns]"
            ]
          },
          "metadata": {
            "tags": []
          },
          "execution_count": 66
        }
      ]
    },
    {
      "cell_type": "code",
      "metadata": {
        "colab": {
          "base_uri": "https://localhost:8080/",
          "height": 204
        },
        "id": "ElOYmCV2nHCk",
        "outputId": "c2ac499d-a65b-4a98-ec33-40283c02a22a"
      },
      "source": [
        "df_vectorize=df_recommend[df_recommend.student_ID !=vrst].append({\"student_ID\":vrst, \"Lesson_des\":df_st_Rec.loc[2,\"Lesson_des\" ],\"lobj_id\":df_st_Rec.loc[2,\"lobj_id\"],\n",
        "     \"lobj_des\":df_st_Rec.loc[2,\"lobj_des\"],\"LearningObj\":df_st_Rec.loc[2,\"LearningObj\"] }, ignore_index=True)\n",
        "\n",
        "df_vectorize.tail()"
      ],
      "execution_count": 77,
      "outputs": [
        {
          "output_type": "execute_result",
          "data": {
            "text/html": [
              "<div>\n",
              "<style scoped>\n",
              "    .dataframe tbody tr th:only-of-type {\n",
              "        vertical-align: middle;\n",
              "    }\n",
              "\n",
              "    .dataframe tbody tr th {\n",
              "        vertical-align: top;\n",
              "    }\n",
              "\n",
              "    .dataframe thead th {\n",
              "        text-align: right;\n",
              "    }\n",
              "</style>\n",
              "<table border=\"1\" class=\"dataframe\">\n",
              "  <thead>\n",
              "    <tr style=\"text-align: right;\">\n",
              "      <th></th>\n",
              "      <th>student_ID</th>\n",
              "      <th>Lesson_des</th>\n",
              "      <th>lobj_id</th>\n",
              "      <th>lobj_des</th>\n",
              "      <th>LearningObj</th>\n",
              "    </tr>\n",
              "  </thead>\n",
              "  <tbody>\n",
              "    <tr>\n",
              "      <th>106</th>\n",
              "      <td>070270034S</td>\n",
              "      <td>Mean and median</td>\n",
              "      <td>6</td>\n",
              "      <td>Statistics Intro: Mean, Median &amp; Mode</td>\n",
              "      <td>Mean and median Statistics Intro: Mean, Median...</td>\n",
              "    </tr>\n",
              "    <tr>\n",
              "      <th>107</th>\n",
              "      <td>070270034S</td>\n",
              "      <td>Dot plots &amp; frequency tables</td>\n",
              "      <td>1</td>\n",
              "      <td>Representing Data</td>\n",
              "      <td>Dot plots &amp; frequency tables Representing Data</td>\n",
              "    </tr>\n",
              "    <tr>\n",
              "      <th>108</th>\n",
              "      <td>070270034S</td>\n",
              "      <td>Dot plots &amp; frequency tables</td>\n",
              "      <td>1</td>\n",
              "      <td>Representing Data</td>\n",
              "      <td>Dot plots &amp; frequency tables Representing Data</td>\n",
              "    </tr>\n",
              "    <tr>\n",
              "      <th>109</th>\n",
              "      <td>070270034S</td>\n",
              "      <td>Dot plots &amp; frequency tables</td>\n",
              "      <td>2</td>\n",
              "      <td>Frequency Tables &amp; dot plot</td>\n",
              "      <td>Dot plots &amp; frequency tables Frequency Tables ...</td>\n",
              "    </tr>\n",
              "    <tr>\n",
              "      <th>110</th>\n",
              "      <td>070877232S</td>\n",
              "      <td>Dot plots &amp; frequency tables</td>\n",
              "      <td>2</td>\n",
              "      <td>Frequency Tables &amp; dot plot</td>\n",
              "      <td>Dot plots &amp; frequency tables Frequency Tables ...</td>\n",
              "    </tr>\n",
              "  </tbody>\n",
              "</table>\n",
              "</div>"
            ],
            "text/plain": [
              "     student_ID  ...                                        LearningObj\n",
              "106  070270034S  ...  Mean and median Statistics Intro: Mean, Median...\n",
              "107  070270034S  ...     Dot plots & frequency tables Representing Data\n",
              "108  070270034S  ...     Dot plots & frequency tables Representing Data\n",
              "109  070270034S  ...  Dot plots & frequency tables Frequency Tables ...\n",
              "110  070877232S  ...  Dot plots & frequency tables Frequency Tables ...\n",
              "\n",
              "[5 rows x 5 columns]"
            ]
          },
          "metadata": {
            "tags": []
          },
          "execution_count": 77
        }
      ]
    },
    {
      "cell_type": "code",
      "metadata": {
        "id": "uuW63N8CJDbI"
      },
      "source": [
        "from sklearn.feature_extraction.text import CountVectorizer\n",
        "cm=  CountVectorizer().fit_transform(df_vectorize.LearningObj)\n"
      ],
      "execution_count": 78,
      "outputs": []
    },
    {
      "cell_type": "code",
      "metadata": {
        "id": "moyFKumDJC4C"
      },
      "source": [
        "from sklearn.metrics.pairwise import cosine_similarity\n",
        "cs=cosine_similarity(cm)\n",
        "cs\n"
      ],
      "execution_count": null,
      "outputs": []
    },
    {
      "cell_type": "code",
      "metadata": {
        "id": "6DogloTpv8em",
        "outputId": "869f7868-06b2-4ae1-f829-3e27addb23d6",
        "colab": {
          "base_uri": "https://localhost:8080/"
        }
      },
      "source": [
        "cs"
      ],
      "execution_count": 96,
      "outputs": [
        {
          "output_type": "execute_result",
          "data": {
            "text/plain": [
              "array([[1.        , 0.07715167, 0.        , ..., 0.43643578, 0.28571429,\n",
              "        0.28571429],\n",
              "       [0.07715167, 1.        , 0.        , ..., 0.        , 0.        ,\n",
              "        0.        ],\n",
              "       [0.        , 0.        , 1.        , ..., 0.        , 0.        ,\n",
              "        0.        ],\n",
              "       ...,\n",
              "       [0.43643578, 0.        , 0.        , ..., 1.        , 0.76376262,\n",
              "        0.76376262],\n",
              "       [0.28571429, 0.        , 0.        , ..., 0.76376262, 1.        ,\n",
              "        1.        ],\n",
              "       [0.28571429, 0.        , 0.        , ..., 0.76376262, 1.        ,\n",
              "        1.        ]])"
            ]
          },
          "metadata": {
            "tags": []
          },
          "execution_count": 96
        }
      ]
    },
    {
      "cell_type": "code",
      "metadata": {
        "id": "xNUJCQreseoI"
      },
      "source": [
        "sorted_score += sorted(list(enumerate(cs[df_vectorize.shape[0]-1])), key=lambda x: x[1], reverse=True)\n"
      ],
      "execution_count": null,
      "outputs": []
    },
    {
      "cell_type": "code",
      "metadata": {
        "id": "_Adj4Kc7pXzc"
      },
      "source": [
        "sorted_score.sort( key=lambda x : x[1] , reverse=True)\n",
        "sorted_score"
      ],
      "execution_count": null,
      "outputs": []
    },
    {
      "cell_type": "code",
      "metadata": {
        "id": "z_7468gMXAI3"
      },
      "source": [
        "# Skip  first recommendation\n",
        "sorted_score"
      ],
      "execution_count": null,
      "outputs": []
    },
    {
      "cell_type": "code",
      "metadata": {
        "id": "aKWHymau-8z5",
        "colab": {
          "base_uri": "https://localhost:8080/"
        },
        "outputId": "50722b0e-5472-4497-f5fb-4f1775ab389a"
      },
      "source": [
        "test_cs=[1.2,3,4.5,8,9.1]\n",
        "test_id=[6,1,4,8,10]\n"
      ],
      "execution_count": 95,
      "outputs": [
        {
          "output_type": "execute_result",
          "data": {
            "text/plain": [
              "[(0, 1.2), (1, 3), (2, 4.5), (3, 8), (4, 9.1)]"
            ]
          },
          "metadata": {
            "tags": []
          },
          "execution_count": 95
        }
      ]
    },
    {
      "cell_type": "code",
      "metadata": {
        "id": "oRO2G3qaV1zN"
      },
      "source": [
        "# Display LobID\n",
        "for  rec in sorted_score:\n",
        "  print(rec[0])"
      ],
      "execution_count": null,
      "outputs": []
    },
    {
      "cell_type": "code",
      "metadata": {
        "id": "0ZbU3WTGszxW",
        "outputId": "cae95d49-e970-4dc2-c738-2c4001fa8ebf",
        "colab": {
          "base_uri": "https://localhost:8080/"
        }
      },
      "source": [
        "\"samir amri\" in  df_st_Rec.lobj_des.unique()"
      ],
      "execution_count": 90,
      "outputs": [
        {
          "output_type": "execute_result",
          "data": {
            "text/plain": [
              "False"
            ]
          },
          "metadata": {
            "tags": []
          },
          "execution_count": 90
        }
      ]
    },
    {
      "cell_type": "code",
      "metadata": {
        "id": "AQnxaJzNV1g8"
      },
      "source": [
        "lst=[]\n",
        "for  rec in sorted_score:\n",
        "  lst.append(df_vectorize.loc[rec[0], \"lobj_des\"])\n",
        "lst"
      ],
      "execution_count": null,
      "outputs": []
    },
    {
      "cell_type": "code",
      "metadata": {
        "id": "cYRG_Uh8XEl2"
      },
      "source": [
        "# List of recommendation for  student st for a single  lob:\n",
        "lst_obj=list(dict.fromkeys(lst))\n",
        "# take  first  5 elements\n",
        "lst_obj=[  lob   for  lob in  lst_obj  if lob not in df_st_Rec.lobj_des.unique()]"
      ],
      "execution_count": 118,
      "outputs": []
    },
    {
      "cell_type": "code",
      "metadata": {
        "id": "4LCnivrpXEsF",
        "colab": {
          "base_uri": "https://localhost:8080/"
        },
        "outputId": "f6c79e10-ed9a-4e51-d405-5add5135d951"
      },
      "source": [
        "df_st_Rec.lobj_des.unique()"
      ],
      "execution_count": 102,
      "outputs": [
        {
          "output_type": "execute_result",
          "data": {
            "text/plain": [
              "array(['Median & range puzzlers',\n",
              "       'Comparing dot plots, histograms and box plots',\n",
              "       'Frequency Tables & dot plot', 'Statistical questions',\n",
              "       'Mean absolute deviation example', 'Calculating the mean',\n",
              "       'Impact on median & mean: Removing an outlier',\n",
              "       'Interquartile range (IQR)', 'Interpreting a histogram',\n",
              "       'Missing value given the mean',\n",
              "       'Impact on median & mean: increasing an outlier',\n",
              "       'Creating a histogram', 'Mean, Median & Mode example',\n",
              "       'Statistics Intro: Mean, Median & Mode',\n",
              "       'Mean as the balancing point', 'Reading box plots'], dtype=object)"
            ]
          },
          "metadata": {
            "tags": []
          },
          "execution_count": 102
        }
      ]
    },
    {
      "cell_type": "code",
      "metadata": {
        "id": "T4gbZSHVXEzL",
        "colab": {
          "base_uri": "https://localhost:8080/",
          "height": 142
        },
        "outputId": "13612e9f-a663-4316-ef4a-4340257014c9"
      },
      "source": [
        "test=pd.DataFrame([{\"Name\": \"samir\", \"location\": 1234},{\"Name\":\"Hamed\"  , \"location\":89},{\"Name\":\"MOMO\"  , \"location\":33}])\n",
        "test"
      ],
      "execution_count": null,
      "outputs": [
        {
          "output_type": "execute_result",
          "data": {
            "text/html": [
              "<div>\n",
              "<style scoped>\n",
              "    .dataframe tbody tr th:only-of-type {\n",
              "        vertical-align: middle;\n",
              "    }\n",
              "\n",
              "    .dataframe tbody tr th {\n",
              "        vertical-align: top;\n",
              "    }\n",
              "\n",
              "    .dataframe thead th {\n",
              "        text-align: right;\n",
              "    }\n",
              "</style>\n",
              "<table border=\"1\" class=\"dataframe\">\n",
              "  <thead>\n",
              "    <tr style=\"text-align: right;\">\n",
              "      <th></th>\n",
              "      <th>Name</th>\n",
              "      <th>location</th>\n",
              "    </tr>\n",
              "  </thead>\n",
              "  <tbody>\n",
              "    <tr>\n",
              "      <th>0</th>\n",
              "      <td>samir</td>\n",
              "      <td>1234</td>\n",
              "    </tr>\n",
              "    <tr>\n",
              "      <th>1</th>\n",
              "      <td>Hamed</td>\n",
              "      <td>89</td>\n",
              "    </tr>\n",
              "    <tr>\n",
              "      <th>2</th>\n",
              "      <td>MOMO</td>\n",
              "      <td>33</td>\n",
              "    </tr>\n",
              "  </tbody>\n",
              "</table>\n",
              "</div>"
            ],
            "text/plain": [
              "    Name  location\n",
              "0  samir      1234\n",
              "1  Hamed        89\n",
              "2   MOMO        33"
            ]
          },
          "metadata": {
            "tags": []
          },
          "execution_count": 76
        }
      ]
    },
    {
      "cell_type": "code",
      "metadata": {
        "colab": {
          "base_uri": "https://localhost:8080/",
          "height": 173
        },
        "id": "pQuIAO0lmuYc",
        "outputId": "7512e46c-1d25-4b97-e407-6b32aa6f3f55"
      },
      "source": [
        "test.append({\"Name\":\"mimi\", \"location\":99}, ignore_index=True)"
      ],
      "execution_count": null,
      "outputs": [
        {
          "output_type": "execute_result",
          "data": {
            "text/html": [
              "<div>\n",
              "<style scoped>\n",
              "    .dataframe tbody tr th:only-of-type {\n",
              "        vertical-align: middle;\n",
              "    }\n",
              "\n",
              "    .dataframe tbody tr th {\n",
              "        vertical-align: top;\n",
              "    }\n",
              "\n",
              "    .dataframe thead th {\n",
              "        text-align: right;\n",
              "    }\n",
              "</style>\n",
              "<table border=\"1\" class=\"dataframe\">\n",
              "  <thead>\n",
              "    <tr style=\"text-align: right;\">\n",
              "      <th></th>\n",
              "      <th>Name</th>\n",
              "      <th>location</th>\n",
              "    </tr>\n",
              "  </thead>\n",
              "  <tbody>\n",
              "    <tr>\n",
              "      <th>0</th>\n",
              "      <td>samir</td>\n",
              "      <td>1234</td>\n",
              "    </tr>\n",
              "    <tr>\n",
              "      <th>1</th>\n",
              "      <td>Hamed</td>\n",
              "      <td>89</td>\n",
              "    </tr>\n",
              "    <tr>\n",
              "      <th>2</th>\n",
              "      <td>MOMO</td>\n",
              "      <td>33</td>\n",
              "    </tr>\n",
              "    <tr>\n",
              "      <th>3</th>\n",
              "      <td>mimi</td>\n",
              "      <td>99</td>\n",
              "    </tr>\n",
              "  </tbody>\n",
              "</table>\n",
              "</div>"
            ],
            "text/plain": [
              "    Name  location\n",
              "0  samir      1234\n",
              "1  Hamed        89\n",
              "2   MOMO        33\n",
              "3   mimi        99"
            ]
          },
          "metadata": {
            "tags": []
          },
          "execution_count": 78
        }
      ]
    },
    {
      "cell_type": "markdown",
      "metadata": {
        "id": "tCRpx5-mcT4T"
      },
      "source": [
        "##  Recommendation"
      ]
    },
    {
      "cell_type": "code",
      "metadata": {
        "id": "ckmy6n3-wtcS"
      },
      "source": [
        "sorted_score"
      ],
      "execution_count": null,
      "outputs": []
    },
    {
      "cell_type": "code",
      "metadata": {
        "id": "4E5ea_sfxPpV"
      },
      "source": [
        "df_avt = df_avt.reset_index()"
      ],
      "execution_count": null,
      "outputs": []
    },
    {
      "cell_type": "code",
      "metadata": {
        "id": "FYApZ4Y-iAXw"
      },
      "source": [
        "df_avt = df_avt.drop(['Act_submit_Time'], axis = 1)"
      ],
      "execution_count": null,
      "outputs": []
    },
    {
      "cell_type": "code",
      "metadata": {
        "id": "Ldxq8iQk4dDp"
      },
      "source": [
        "questions = pd.DataFrame()"
      ],
      "execution_count": null,
      "outputs": []
    },
    {
      "cell_type": "code",
      "metadata": {
        "id": "yFzgyfDKollV"
      },
      "source": [
        "questions[\"Activity_id\"] = df_avt[\"Activity_id\"]\n",
        "questions[\"Activity_type\"] = df_avt[\"Activity_type\"]"
      ],
      "execution_count": null,
      "outputs": []
    },
    {
      "cell_type": "code",
      "metadata": {
        "colab": {
          "base_uri": "https://localhost:8080/",
          "height": 204
        },
        "id": "oMc8ptnrwENV",
        "outputId": "bafb9028-24f4-4d6f-e225-373866df12ce"
      },
      "source": [
        "questions.head()"
      ],
      "execution_count": null,
      "outputs": [
        {
          "output_type": "execute_result",
          "data": {
            "text/html": [
              "<div>\n",
              "<style scoped>\n",
              "    .dataframe tbody tr th:only-of-type {\n",
              "        vertical-align: middle;\n",
              "    }\n",
              "\n",
              "    .dataframe tbody tr th {\n",
              "        vertical-align: top;\n",
              "    }\n",
              "\n",
              "    .dataframe thead th {\n",
              "        text-align: right;\n",
              "    }\n",
              "</style>\n",
              "<table border=\"1\" class=\"dataframe\">\n",
              "  <thead>\n",
              "    <tr style=\"text-align: right;\">\n",
              "      <th></th>\n",
              "      <th>Activity_id</th>\n",
              "      <th>Activity_type</th>\n",
              "    </tr>\n",
              "  </thead>\n",
              "  <tbody>\n",
              "    <tr>\n",
              "      <th>0</th>\n",
              "      <td>g6_3-Act_19</td>\n",
              "      <td>1</td>\n",
              "    </tr>\n",
              "    <tr>\n",
              "      <th>1</th>\n",
              "      <td>g6_1-Act_18</td>\n",
              "      <td>0</td>\n",
              "    </tr>\n",
              "    <tr>\n",
              "      <th>2</th>\n",
              "      <td>g6_3-Act_11</td>\n",
              "      <td>1</td>\n",
              "    </tr>\n",
              "    <tr>\n",
              "      <th>3</th>\n",
              "      <td>g6_2-Act_9</td>\n",
              "      <td>0</td>\n",
              "    </tr>\n",
              "    <tr>\n",
              "      <th>4</th>\n",
              "      <td>g6_1-Act_11</td>\n",
              "      <td>1</td>\n",
              "    </tr>\n",
              "  </tbody>\n",
              "</table>\n",
              "</div>"
            ],
            "text/plain": [
              "   Activity_id Activity_type\n",
              "0  g6_3-Act_19             1\n",
              "1  g6_1-Act_18             0\n",
              "2  g6_3-Act_11             1\n",
              "3   g6_2-Act_9             0\n",
              "4  g6_1-Act_11             1"
            ]
          },
          "metadata": {
            "tags": []
          },
          "execution_count": 19
        }
      ]
    },
    {
      "cell_type": "code",
      "metadata": {
        "id": "x9EOsg1t58Lb"
      },
      "source": [
        "#questions = questions.reset_index()"
      ],
      "execution_count": null,
      "outputs": []
    },
    {
      "cell_type": "code",
      "metadata": {
        "id": "jwtAKjvi6MHo"
      },
      "source": [
        "#questions = questions.drop(['Act_submit_Time'], axis = 1)"
      ],
      "execution_count": null,
      "outputs": []
    },
    {
      "cell_type": "code",
      "metadata": {
        "id": "9fyRmSU5c38Z"
      },
      "source": [
        "#questions.head()"
      ],
      "execution_count": null,
      "outputs": []
    },
    {
      "cell_type": "code",
      "metadata": {
        "id": "usQSDzApTRYE"
      },
      "source": [
        "#### 1 Activity id shold hold ( from 5 to 10 questions)\n",
        "\n",
        "questions['quest_id'] = np.random.randint(1, 1001, questions.shape[0])\n",
        "#questions['quest_id'] =random.choice( [\"q_\"+str(j) for j in range(1,1001)] , questions.shape[0] )"
      ],
      "execution_count": null,
      "outputs": []
    },
    {
      "cell_type": "code",
      "metadata": {
        "colab": {
          "base_uri": "https://localhost:8080/",
          "height": 204
        },
        "id": "Wz1gscWiTRbp",
        "outputId": "3d3d7b39-cbde-4d90-8fe5-3986cfcbb35b"
      },
      "source": [
        "questions.head()"
      ],
      "execution_count": null,
      "outputs": [
        {
          "output_type": "execute_result",
          "data": {
            "text/html": [
              "<div>\n",
              "<style scoped>\n",
              "    .dataframe tbody tr th:only-of-type {\n",
              "        vertical-align: middle;\n",
              "    }\n",
              "\n",
              "    .dataframe tbody tr th {\n",
              "        vertical-align: top;\n",
              "    }\n",
              "\n",
              "    .dataframe thead th {\n",
              "        text-align: right;\n",
              "    }\n",
              "</style>\n",
              "<table border=\"1\" class=\"dataframe\">\n",
              "  <thead>\n",
              "    <tr style=\"text-align: right;\">\n",
              "      <th></th>\n",
              "      <th>Activity_id</th>\n",
              "      <th>Activity_type</th>\n",
              "    </tr>\n",
              "  </thead>\n",
              "  <tbody>\n",
              "    <tr>\n",
              "      <th>0</th>\n",
              "      <td>g6_3-Act_19</td>\n",
              "      <td>1</td>\n",
              "    </tr>\n",
              "    <tr>\n",
              "      <th>1</th>\n",
              "      <td>g6_1-Act_18</td>\n",
              "      <td>0</td>\n",
              "    </tr>\n",
              "    <tr>\n",
              "      <th>2</th>\n",
              "      <td>g6_3-Act_11</td>\n",
              "      <td>1</td>\n",
              "    </tr>\n",
              "    <tr>\n",
              "      <th>3</th>\n",
              "      <td>g6_2-Act_9</td>\n",
              "      <td>0</td>\n",
              "    </tr>\n",
              "    <tr>\n",
              "      <th>4</th>\n",
              "      <td>g6_1-Act_11</td>\n",
              "      <td>1</td>\n",
              "    </tr>\n",
              "  </tbody>\n",
              "</table>\n",
              "</div>"
            ],
            "text/plain": [
              "   Activity_id Activity_type\n",
              "0  g6_3-Act_19             1\n",
              "1  g6_1-Act_18             0\n",
              "2  g6_3-Act_11             1\n",
              "3   g6_2-Act_9             0\n",
              "4  g6_1-Act_11             1"
            ]
          },
          "metadata": {
            "tags": []
          },
          "execution_count": 20
        }
      ]
    },
    {
      "cell_type": "code",
      "metadata": {
        "colab": {
          "base_uri": "https://localhost:8080/"
        },
        "id": "CZPpm6JzTRet",
        "outputId": "3d246d83-1afb-41c8-b6d1-1d028cca2903"
      },
      "source": [
        "questions.shape"
      ],
      "execution_count": null,
      "outputs": [
        {
          "output_type": "execute_result",
          "data": {
            "text/plain": [
              "(2258, 2)"
            ]
          },
          "metadata": {
            "tags": []
          },
          "execution_count": 21
        }
      ]
    },
    {
      "cell_type": "code",
      "metadata": {
        "id": "cohK8tU0TRi2"
      },
      "source": [
        "cp_for_quest = pd.DataFrame()"
      ],
      "execution_count": null,
      "outputs": []
    },
    {
      "cell_type": "code",
      "metadata": {
        "id": "H6GhFrsGTRkf"
      },
      "source": [
        "cp_for_quest[\"quest_id\"] = questions[\"quest_id\"]"
      ],
      "execution_count": null,
      "outputs": []
    },
    {
      "cell_type": "code",
      "metadata": {
        "colab": {
          "base_uri": "https://localhost:8080/",
          "height": 32
        },
        "id": "G8F01hNzWtl-",
        "outputId": "423a4e84-59e7-4afb-f2b7-d6f17ecf8e1f"
      },
      "source": [
        "cp_for_quest.head()"
      ],
      "execution_count": null,
      "outputs": [
        {
          "output_type": "execute_result",
          "data": {
            "text/html": [
              "<div>\n",
              "<style scoped>\n",
              "    .dataframe tbody tr th:only-of-type {\n",
              "        vertical-align: middle;\n",
              "    }\n",
              "\n",
              "    .dataframe tbody tr th {\n",
              "        vertical-align: top;\n",
              "    }\n",
              "\n",
              "    .dataframe thead th {\n",
              "        text-align: right;\n",
              "    }\n",
              "</style>\n",
              "<table border=\"1\" class=\"dataframe\">\n",
              "  <thead>\n",
              "    <tr style=\"text-align: right;\">\n",
              "      <th></th>\n",
              "    </tr>\n",
              "  </thead>\n",
              "  <tbody>\n",
              "  </tbody>\n",
              "</table>\n",
              "</div>"
            ],
            "text/plain": [
              "Empty DataFrame\n",
              "Columns: []\n",
              "Index: []"
            ]
          },
          "metadata": {
            "tags": []
          },
          "execution_count": 24
        }
      ]
    },
    {
      "cell_type": "code",
      "metadata": {
        "id": "TGYUIqoEWto-"
      },
      "source": [
        "####### 1 question id should hold between ( 1 to 3 sub cps)\n",
        "\n",
        "cp_for_quest['sub_cp_id'] = np.random.randint(1, 4501, cp_for_quest.shape[0])  ##### estimated 4500 sub cp in all subjects"
      ],
      "execution_count": null,
      "outputs": []
    },
    {
      "cell_type": "code",
      "metadata": {
        "colab": {
          "base_uri": "https://localhost:8080/",
          "height": 204
        },
        "id": "G0-kijs0WtsA",
        "outputId": "1138c2f1-33cc-4b31-ce2a-7e54f3c26ac3"
      },
      "source": [
        "cp_for_quest.head()"
      ],
      "execution_count": null,
      "outputs": [
        {
          "output_type": "execute_result",
          "data": {
            "text/html": [
              "<div>\n",
              "<style scoped>\n",
              "    .dataframe tbody tr th:only-of-type {\n",
              "        vertical-align: middle;\n",
              "    }\n",
              "\n",
              "    .dataframe tbody tr th {\n",
              "        vertical-align: top;\n",
              "    }\n",
              "\n",
              "    .dataframe thead th {\n",
              "        text-align: right;\n",
              "    }\n",
              "</style>\n",
              "<table border=\"1\" class=\"dataframe\">\n",
              "  <thead>\n",
              "    <tr style=\"text-align: right;\">\n",
              "      <th></th>\n",
              "      <th>quest_id</th>\n",
              "      <th>sub_cp_id</th>\n",
              "    </tr>\n",
              "  </thead>\n",
              "  <tbody>\n",
              "    <tr>\n",
              "      <th>0</th>\n",
              "      <td>847</td>\n",
              "      <td>598</td>\n",
              "    </tr>\n",
              "    <tr>\n",
              "      <th>1</th>\n",
              "      <td>729</td>\n",
              "      <td>4458</td>\n",
              "    </tr>\n",
              "    <tr>\n",
              "      <th>2</th>\n",
              "      <td>168</td>\n",
              "      <td>1118</td>\n",
              "    </tr>\n",
              "    <tr>\n",
              "      <th>3</th>\n",
              "      <td>519</td>\n",
              "      <td>1941</td>\n",
              "    </tr>\n",
              "    <tr>\n",
              "      <th>4</th>\n",
              "      <td>175</td>\n",
              "      <td>1068</td>\n",
              "    </tr>\n",
              "  </tbody>\n",
              "</table>\n",
              "</div>"
            ],
            "text/plain": [
              "   quest_id  sub_cp_id\n",
              "0       847        598\n",
              "1       729       4458\n",
              "2       168       1118\n",
              "3       519       1941\n",
              "4       175       1068"
            ]
          },
          "metadata": {
            "tags": []
          },
          "execution_count": 39
        }
      ]
    },
    {
      "cell_type": "code",
      "metadata": {
        "id": "I4cBc5skWtvM"
      },
      "source": [
        "####  1 cp should hold 1 to 3 sub_cps  ( each sub_cp   should match 1 learning object // doc - video .....)\n",
        "\n",
        "sub_cp = pd.DataFrame()"
      ],
      "execution_count": null,
      "outputs": []
    },
    {
      "cell_type": "code",
      "metadata": {
        "id": "At6y-cTsb7Aq"
      },
      "source": [
        "sub_cp['cp_id'] = np.random.randint(1, 1501, cp_for_quest.shape[0])   ##### estimated 1500 cp in all subjects"
      ],
      "execution_count": null,
      "outputs": []
    },
    {
      "cell_type": "code",
      "metadata": {
        "id": "pjRCyzFiWtxk"
      },
      "source": [
        "sub_cp['sub_cp_id'] = cp_for_quest['sub_cp_id'] "
      ],
      "execution_count": null,
      "outputs": []
    },
    {
      "cell_type": "code",
      "metadata": {
        "id": "RsuaGCzDb7G9"
      },
      "source": [
        "sub_cp['lo_id'] = np.random.randint(1, 5001, cp_for_quest.shape[0])  ##### estimated 5000 learning object in all subjects"
      ],
      "execution_count": null,
      "outputs": []
    },
    {
      "cell_type": "code",
      "metadata": {
        "colab": {
          "base_uri": "https://localhost:8080/",
          "height": 204
        },
        "id": "zYnq9H8zb7Dx",
        "outputId": "2b234668-9dac-4411-8581-24d9152db4b4"
      },
      "source": [
        "sub_cp.head()"
      ],
      "execution_count": null,
      "outputs": [
        {
          "output_type": "execute_result",
          "data": {
            "text/html": [
              "<div>\n",
              "<style scoped>\n",
              "    .dataframe tbody tr th:only-of-type {\n",
              "        vertical-align: middle;\n",
              "    }\n",
              "\n",
              "    .dataframe tbody tr th {\n",
              "        vertical-align: top;\n",
              "    }\n",
              "\n",
              "    .dataframe thead th {\n",
              "        text-align: right;\n",
              "    }\n",
              "</style>\n",
              "<table border=\"1\" class=\"dataframe\">\n",
              "  <thead>\n",
              "    <tr style=\"text-align: right;\">\n",
              "      <th></th>\n",
              "      <th>cp_id</th>\n",
              "      <th>sub_cp_id</th>\n",
              "      <th>lo_id</th>\n",
              "    </tr>\n",
              "  </thead>\n",
              "  <tbody>\n",
              "    <tr>\n",
              "      <th>0</th>\n",
              "      <td>1185</td>\n",
              "      <td>598</td>\n",
              "      <td>4628</td>\n",
              "    </tr>\n",
              "    <tr>\n",
              "      <th>1</th>\n",
              "      <td>99</td>\n",
              "      <td>4458</td>\n",
              "      <td>1500</td>\n",
              "    </tr>\n",
              "    <tr>\n",
              "      <th>2</th>\n",
              "      <td>540</td>\n",
              "      <td>1118</td>\n",
              "      <td>4056</td>\n",
              "    </tr>\n",
              "    <tr>\n",
              "      <th>3</th>\n",
              "      <td>258</td>\n",
              "      <td>1941</td>\n",
              "      <td>3385</td>\n",
              "    </tr>\n",
              "    <tr>\n",
              "      <th>4</th>\n",
              "      <td>597</td>\n",
              "      <td>1068</td>\n",
              "      <td>471</td>\n",
              "    </tr>\n",
              "  </tbody>\n",
              "</table>\n",
              "</div>"
            ],
            "text/plain": [
              "   cp_id  sub_cp_id  lo_id\n",
              "0   1185        598   4628\n",
              "1     99       4458   1500\n",
              "2    540       1118   4056\n",
              "3    258       1941   3385\n",
              "4    597       1068    471"
            ]
          },
          "metadata": {
            "tags": []
          },
          "execution_count": 44
        }
      ]
    },
    {
      "cell_type": "markdown",
      "metadata": {
        "id": "FVvSwD7WnbM9"
      },
      "source": [
        "## Additionnal"
      ]
    },
    {
      "cell_type": "code",
      "metadata": {
        "colab": {
          "base_uri": "https://localhost:8080/",
          "height": 35
        },
        "id": "ZMkHS82eng_U",
        "outputId": "e56e15cf-0ccb-444f-abf3-d7b80ffea380"
      },
      "source": [
        "import sys\n",
        "sys.prefix\n",
        "'/System/Library/Frameworks/Python.framework/Versions/3.5'"
      ],
      "execution_count": null,
      "outputs": [
        {
          "output_type": "execute_result",
          "data": {
            "application/vnd.google.colaboratory.intrinsic+json": {
              "type": "string"
            },
            "text/plain": [
              "'/System/Library/Frameworks/Python.framework/Versions/3.5'"
            ]
          },
          "metadata": {
            "tags": []
          },
          "execution_count": 1
        }
      ]
    },
    {
      "cell_type": "code",
      "metadata": {
        "colab": {
          "base_uri": "https://localhost:8080/"
        },
        "id": "M93wtyO_nkBj",
        "outputId": "8e808de0-ab06-4e09-cdee-4f1f43680ce3"
      },
      "source": [
        "import site\n",
        "site.getsitepackages()\n",
        "[\n",
        "  '/System/Library/Frameworks/Python.framework/Versions/3.5/Extras/lib/python',\n",
        "  '/Library/Python/3.5/site-packages'\n",
        "]"
      ],
      "execution_count": null,
      "outputs": [
        {
          "output_type": "execute_result",
          "data": {
            "text/plain": [
              "['/System/Library/Frameworks/Python.framework/Versions/3.5/Extras/lib/python',\n",
              " '/Library/Python/3.5/site-packages']"
            ]
          },
          "metadata": {
            "tags": []
          },
          "execution_count": 2
        }
      ]
    },
    {
      "cell_type": "code",
      "metadata": {
        "id": "-fX6i_HtnxjA"
      },
      "source": [
        ""
      ],
      "execution_count": null,
      "outputs": []
    },
    {
      "cell_type": "code",
      "metadata": {
        "id": "6_lPYdH1Ntrn"
      },
      "source": [
        ""
      ],
      "execution_count": null,
      "outputs": []
    },
    {
      "cell_type": "markdown",
      "metadata": {
        "id": "fbQKl1j5pHyp"
      },
      "source": [
        "##  test  idnex add"
      ]
    },
    {
      "cell_type": "code",
      "metadata": {
        "colab": {
          "base_uri": "https://localhost:8080/",
          "height": 266
        },
        "id": "iUTZ0F4wpKsS",
        "outputId": "947b8fb6-6237-4c1a-9c22-be71fb1b960b"
      },
      "source": [
        "import pandas as pd\n",
        "# List of Tuples\n",
        "students = [ ('jack', 34, 'Sydeny' , 'Australia') ,\n",
        "             ('Riti', 30, 'Delhi' , 'India' ) ,\n",
        "             ('Vikas', 31, 'Mumbai' , 'India' ) ,\n",
        "             ('Neelu', 32, 'Bangalore' , 'India' ) ,\n",
        "             ('John', 16, 'New York' , 'US') ,\n",
        "             ('Mike', 17, 'las vegas' , 'US')  ]\n",
        "#Create a DataFrame object\n",
        "dd = pd.DataFrame(  students, \n",
        "                    columns = ['Name' , 'Age', 'City' , 'Country']\n",
        "                    ) \n",
        "dd.set_index(\"City\", inplace=True)\n",
        "dd"
      ],
      "execution_count": null,
      "outputs": [
        {
          "output_type": "execute_result",
          "data": {
            "text/html": [
              "<div>\n",
              "<style scoped>\n",
              "    .dataframe tbody tr th:only-of-type {\n",
              "        vertical-align: middle;\n",
              "    }\n",
              "\n",
              "    .dataframe tbody tr th {\n",
              "        vertical-align: top;\n",
              "    }\n",
              "\n",
              "    .dataframe thead th {\n",
              "        text-align: right;\n",
              "    }\n",
              "</style>\n",
              "<table border=\"1\" class=\"dataframe\">\n",
              "  <thead>\n",
              "    <tr style=\"text-align: right;\">\n",
              "      <th></th>\n",
              "      <th>Name</th>\n",
              "      <th>Age</th>\n",
              "      <th>Country</th>\n",
              "    </tr>\n",
              "    <tr>\n",
              "      <th>City</th>\n",
              "      <th></th>\n",
              "      <th></th>\n",
              "      <th></th>\n",
              "    </tr>\n",
              "  </thead>\n",
              "  <tbody>\n",
              "    <tr>\n",
              "      <th>Sydeny</th>\n",
              "      <td>jack</td>\n",
              "      <td>34</td>\n",
              "      <td>Australia</td>\n",
              "    </tr>\n",
              "    <tr>\n",
              "      <th>Delhi</th>\n",
              "      <td>Riti</td>\n",
              "      <td>30</td>\n",
              "      <td>India</td>\n",
              "    </tr>\n",
              "    <tr>\n",
              "      <th>Mumbai</th>\n",
              "      <td>Vikas</td>\n",
              "      <td>31</td>\n",
              "      <td>India</td>\n",
              "    </tr>\n",
              "    <tr>\n",
              "      <th>Bangalore</th>\n",
              "      <td>Neelu</td>\n",
              "      <td>32</td>\n",
              "      <td>India</td>\n",
              "    </tr>\n",
              "    <tr>\n",
              "      <th>New York</th>\n",
              "      <td>John</td>\n",
              "      <td>16</td>\n",
              "      <td>US</td>\n",
              "    </tr>\n",
              "    <tr>\n",
              "      <th>las vegas</th>\n",
              "      <td>Mike</td>\n",
              "      <td>17</td>\n",
              "      <td>US</td>\n",
              "    </tr>\n",
              "  </tbody>\n",
              "</table>\n",
              "</div>"
            ],
            "text/plain": [
              "            Name  Age    Country\n",
              "City                            \n",
              "Sydeny      jack   34  Australia\n",
              "Delhi       Riti   30      India\n",
              "Mumbai     Vikas   31      India\n",
              "Bangalore  Neelu   32      India\n",
              "New York    John   16         US\n",
              "las vegas   Mike   17         US"
            ]
          },
          "metadata": {
            "tags": []
          },
          "execution_count": 25
        }
      ]
    },
    {
      "cell_type": "code",
      "metadata": {
        "id": "3ekE-vyOqgSt"
      },
      "source": [
        "dd.loc[\"Annaba\", \"Name\"] = \"Samir\"    #=[\"Samir\", 57, \"Algeria\"]"
      ],
      "execution_count": null,
      "outputs": []
    },
    {
      "cell_type": "code",
      "metadata": {
        "colab": {
          "base_uri": "https://localhost:8080/",
          "height": 297
        },
        "id": "fIjmdn6ssH0d",
        "outputId": "2fcfb3c0-a02c-4b48-cdce-77a6d2ec619b"
      },
      "source": [
        "dd"
      ],
      "execution_count": null,
      "outputs": [
        {
          "output_type": "execute_result",
          "data": {
            "text/html": [
              "<div>\n",
              "<style scoped>\n",
              "    .dataframe tbody tr th:only-of-type {\n",
              "        vertical-align: middle;\n",
              "    }\n",
              "\n",
              "    .dataframe tbody tr th {\n",
              "        vertical-align: top;\n",
              "    }\n",
              "\n",
              "    .dataframe thead th {\n",
              "        text-align: right;\n",
              "    }\n",
              "</style>\n",
              "<table border=\"1\" class=\"dataframe\">\n",
              "  <thead>\n",
              "    <tr style=\"text-align: right;\">\n",
              "      <th></th>\n",
              "      <th>Name</th>\n",
              "      <th>Age</th>\n",
              "      <th>Country</th>\n",
              "    </tr>\n",
              "    <tr>\n",
              "      <th>City</th>\n",
              "      <th></th>\n",
              "      <th></th>\n",
              "      <th></th>\n",
              "    </tr>\n",
              "  </thead>\n",
              "  <tbody>\n",
              "    <tr>\n",
              "      <th>Sydeny</th>\n",
              "      <td>jack</td>\n",
              "      <td>34.0</td>\n",
              "      <td>Australia</td>\n",
              "    </tr>\n",
              "    <tr>\n",
              "      <th>Delhi</th>\n",
              "      <td>Riti</td>\n",
              "      <td>30.0</td>\n",
              "      <td>India</td>\n",
              "    </tr>\n",
              "    <tr>\n",
              "      <th>Mumbai</th>\n",
              "      <td>Vikas</td>\n",
              "      <td>31.0</td>\n",
              "      <td>India</td>\n",
              "    </tr>\n",
              "    <tr>\n",
              "      <th>Bangalore</th>\n",
              "      <td>Neelu</td>\n",
              "      <td>32.0</td>\n",
              "      <td>India</td>\n",
              "    </tr>\n",
              "    <tr>\n",
              "      <th>New York</th>\n",
              "      <td>John</td>\n",
              "      <td>16.0</td>\n",
              "      <td>US</td>\n",
              "    </tr>\n",
              "    <tr>\n",
              "      <th>las vegas</th>\n",
              "      <td>Mike</td>\n",
              "      <td>17.0</td>\n",
              "      <td>US</td>\n",
              "    </tr>\n",
              "    <tr>\n",
              "      <th>Annaba</th>\n",
              "      <td>Samir</td>\n",
              "      <td>NaN</td>\n",
              "      <td>NaN</td>\n",
              "    </tr>\n",
              "  </tbody>\n",
              "</table>\n",
              "</div>"
            ],
            "text/plain": [
              "            Name   Age    Country\n",
              "City                             \n",
              "Sydeny      jack  34.0  Australia\n",
              "Delhi       Riti  30.0      India\n",
              "Mumbai     Vikas  31.0      India\n",
              "Bangalore  Neelu  32.0      India\n",
              "New York    John  16.0         US\n",
              "las vegas   Mike  17.0         US\n",
              "Annaba     Samir   NaN        NaN"
            ]
          },
          "metadata": {
            "tags": []
          },
          "execution_count": 27
        }
      ]
    },
    {
      "cell_type": "code",
      "metadata": {
        "colab": {
          "base_uri": "https://localhost:8080/",
          "height": 266
        },
        "id": "f8__xZhupPUW",
        "outputId": "a8d93c2f-1e25-4161-e11d-8ebb18a8b421"
      },
      "source": [
        "dd.append({'Name':'samir', 'Age':57, 'City':'Annaba' ,'Country':'Algeria'}, ignore_index=True)"
      ],
      "execution_count": null,
      "outputs": [
        {
          "output_type": "execute_result",
          "data": {
            "text/html": [
              "<div>\n",
              "<style scoped>\n",
              "    .dataframe tbody tr th:only-of-type {\n",
              "        vertical-align: middle;\n",
              "    }\n",
              "\n",
              "    .dataframe tbody tr th {\n",
              "        vertical-align: top;\n",
              "    }\n",
              "\n",
              "    .dataframe thead th {\n",
              "        text-align: right;\n",
              "    }\n",
              "</style>\n",
              "<table border=\"1\" class=\"dataframe\">\n",
              "  <thead>\n",
              "    <tr style=\"text-align: right;\">\n",
              "      <th></th>\n",
              "      <th>Name</th>\n",
              "      <th>Age</th>\n",
              "      <th>Country</th>\n",
              "      <th>City</th>\n",
              "    </tr>\n",
              "  </thead>\n",
              "  <tbody>\n",
              "    <tr>\n",
              "      <th>0</th>\n",
              "      <td>jack</td>\n",
              "      <td>34</td>\n",
              "      <td>Australia</td>\n",
              "      <td>NaN</td>\n",
              "    </tr>\n",
              "    <tr>\n",
              "      <th>1</th>\n",
              "      <td>Riti</td>\n",
              "      <td>30</td>\n",
              "      <td>India</td>\n",
              "      <td>NaN</td>\n",
              "    </tr>\n",
              "    <tr>\n",
              "      <th>2</th>\n",
              "      <td>Vikas</td>\n",
              "      <td>31</td>\n",
              "      <td>India</td>\n",
              "      <td>NaN</td>\n",
              "    </tr>\n",
              "    <tr>\n",
              "      <th>3</th>\n",
              "      <td>Neelu</td>\n",
              "      <td>32</td>\n",
              "      <td>India</td>\n",
              "      <td>NaN</td>\n",
              "    </tr>\n",
              "    <tr>\n",
              "      <th>4</th>\n",
              "      <td>John</td>\n",
              "      <td>16</td>\n",
              "      <td>US</td>\n",
              "      <td>NaN</td>\n",
              "    </tr>\n",
              "    <tr>\n",
              "      <th>5</th>\n",
              "      <td>Mike</td>\n",
              "      <td>17</td>\n",
              "      <td>US</td>\n",
              "      <td>NaN</td>\n",
              "    </tr>\n",
              "    <tr>\n",
              "      <th>6</th>\n",
              "      <td>samir</td>\n",
              "      <td>57</td>\n",
              "      <td>Algeria</td>\n",
              "      <td>Annaba</td>\n",
              "    </tr>\n",
              "  </tbody>\n",
              "</table>\n",
              "</div>"
            ],
            "text/plain": [
              "    Name  Age    Country    City\n",
              "0   jack   34  Australia     NaN\n",
              "1   Riti   30      India     NaN\n",
              "2  Vikas   31      India     NaN\n",
              "3  Neelu   32      India     NaN\n",
              "4   John   16         US     NaN\n",
              "5   Mike   17         US     NaN\n",
              "6  samir   57    Algeria  Annaba"
            ]
          },
          "metadata": {
            "tags": []
          },
          "execution_count": 13
        }
      ]
    },
    {
      "cell_type": "code",
      "metadata": {
        "id": "AlhTNXF0pkHB"
      },
      "source": [
        ""
      ],
      "execution_count": null,
      "outputs": []
    }
  ]
}