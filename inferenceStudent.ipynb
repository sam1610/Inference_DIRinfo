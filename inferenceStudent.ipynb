{
 "cells": [
  {
   "cell_type": "code",
   "execution_count": null,
   "metadata": {},
   "outputs": [],
   "source": [
    "!pip install --user xgboost"
   ]
  },
  {
   "cell_type": "code",
   "execution_count": 1,
   "metadata": {},
   "outputs": [
    {
     "name": "stdout",
     "output_type": "stream",
     "text": [
      "/Users/medamin/_Projets/_DataScience/DirectOfInformaiton_Project\r\n"
     ]
    }
   ],
   "source": [
    "!pwd"
   ]
  },
  {
   "cell_type": "code",
   "execution_count": 1,
   "metadata": {},
   "outputs": [],
   "source": [
    "import pandas as pd\n",
    "import numpy as np\n",
    "from sklearn.preprocessing import LabelEncoder\n",
    "from sklearn.compose import make_column_selector\n",
    "df_infer=pd.read_csv(\"data/GD_Part2_clean.csv\")"
   ]
  },
  {
   "cell_type": "code",
   "execution_count": 2,
   "metadata": {},
   "outputs": [],
   "source": [
    "from sklearn.preprocessing import StandardScaler, OneHotEncoder, LabelEncoder\n",
    "from sklearn.compose import make_column_transformer, ColumnTransformer, TransformedTargetRegressor\n",
    "from sklearn.pipeline import make_pipeline\n",
    "from sklearn.linear_model import SGDClassifier\n",
    "from sklearn.model_selection import GridSearchCV, RandomizedSearchCV\n",
    "from sklearn.feature_extraction.text import CountVectorizer\n",
    "from xgboost import XGBClassifier, XGBRegressor"
   ]
  },
  {
   "cell_type": "code",
   "execution_count": 3,
   "metadata": {},
   "outputs": [
    {
     "data": {
      "text/html": [
       "<div>\n",
       "<style scoped>\n",
       "    .dataframe tbody tr th:only-of-type {\n",
       "        vertical-align: middle;\n",
       "    }\n",
       "\n",
       "    .dataframe tbody tr th {\n",
       "        vertical-align: top;\n",
       "    }\n",
       "\n",
       "    .dataframe thead th {\n",
       "        text-align: right;\n",
       "    }\n",
       "</style>\n",
       "<table border=\"1\" class=\"dataframe\">\n",
       "  <thead>\n",
       "    <tr style=\"text-align: right;\">\n",
       "      <th></th>\n",
       "      <th>Unnamed: 0</th>\n",
       "      <th>CPR_NO</th>\n",
       "      <th>SCH_NM</th>\n",
       "      <th>PROV_NM</th>\n",
       "      <th>SUBM</th>\n",
       "      <th>Teacher_Gender</th>\n",
       "      <th>ACHIEVEMENTS1</th>\n",
       "      <th>ACHIEVEMENTS2</th>\n",
       "      <th>MIDTERM1</th>\n",
       "      <th>MIDTERM2</th>\n",
       "      <th>FINAL1</th>\n",
       "      <th>FINAL2</th>\n",
       "      <th>TOTAL1</th>\n",
       "      <th>TOTAL2</th>\n",
       "      <th>D_MARK</th>\n",
       "      <th>NAT_MARK</th>\n",
       "      <th>GPA</th>\n",
       "    </tr>\n",
       "  </thead>\n",
       "  <tbody>\n",
       "    <tr>\n",
       "      <th>0</th>\n",
       "      <td>0</td>\n",
       "      <td>70913390</td>\n",
       "      <td>المعهد الديني الجعفري</td>\n",
       "      <td>Cap</td>\n",
       "      <td>Science</td>\n",
       "      <td>M</td>\n",
       "      <td>28.0</td>\n",
       "      <td>30.0</td>\n",
       "      <td>17.0</td>\n",
       "      <td>17.0</td>\n",
       "      <td>45.0</td>\n",
       "      <td>33.0</td>\n",
       "      <td>90.0</td>\n",
       "      <td>80</td>\n",
       "      <td>85</td>\n",
       "      <td>53.7</td>\n",
       "      <td>92.9</td>\n",
       "    </tr>\n",
       "    <tr>\n",
       "      <th>1</th>\n",
       "      <td>1</td>\n",
       "      <td>71105956</td>\n",
       "      <td>المعهد الديني الجعفري</td>\n",
       "      <td>Cap</td>\n",
       "      <td>Science</td>\n",
       "      <td>M</td>\n",
       "      <td>27.0</td>\n",
       "      <td>29.0</td>\n",
       "      <td>14.0</td>\n",
       "      <td>16.0</td>\n",
       "      <td>41.5</td>\n",
       "      <td>37.0</td>\n",
       "      <td>83.0</td>\n",
       "      <td>82</td>\n",
       "      <td>83</td>\n",
       "      <td>49.7</td>\n",
       "      <td>89.5</td>\n",
       "    </tr>\n",
       "    <tr>\n",
       "      <th>2</th>\n",
       "      <td>2</td>\n",
       "      <td>70712190</td>\n",
       "      <td>المعهد الديني الجعفري</td>\n",
       "      <td>Cap</td>\n",
       "      <td>Science</td>\n",
       "      <td>M</td>\n",
       "      <td>27.0</td>\n",
       "      <td>27.0</td>\n",
       "      <td>13.0</td>\n",
       "      <td>15.0</td>\n",
       "      <td>27.5</td>\n",
       "      <td>37.0</td>\n",
       "      <td>68.0</td>\n",
       "      <td>79</td>\n",
       "      <td>74</td>\n",
       "      <td>52.1</td>\n",
       "      <td>86.2</td>\n",
       "    </tr>\n",
       "    <tr>\n",
       "      <th>3</th>\n",
       "      <td>3</td>\n",
       "      <td>70207496</td>\n",
       "      <td>المعهد الديني الجعفري</td>\n",
       "      <td>Cap</td>\n",
       "      <td>Science</td>\n",
       "      <td>M</td>\n",
       "      <td>26.0</td>\n",
       "      <td>24.5</td>\n",
       "      <td>15.0</td>\n",
       "      <td>12.0</td>\n",
       "      <td>44.0</td>\n",
       "      <td>32.5</td>\n",
       "      <td>85.0</td>\n",
       "      <td>69</td>\n",
       "      <td>77</td>\n",
       "      <td>52.9</td>\n",
       "      <td>89.9</td>\n",
       "    </tr>\n",
       "    <tr>\n",
       "      <th>4</th>\n",
       "      <td>4</td>\n",
       "      <td>70507953</td>\n",
       "      <td>المعهد الديني الجعفري</td>\n",
       "      <td>Cap</td>\n",
       "      <td>Science</td>\n",
       "      <td>M</td>\n",
       "      <td>25.0</td>\n",
       "      <td>28.0</td>\n",
       "      <td>14.0</td>\n",
       "      <td>15.0</td>\n",
       "      <td>31.5</td>\n",
       "      <td>37.0</td>\n",
       "      <td>71.0</td>\n",
       "      <td>80</td>\n",
       "      <td>76</td>\n",
       "      <td>52.1</td>\n",
       "      <td>86.2</td>\n",
       "    </tr>\n",
       "  </tbody>\n",
       "</table>\n",
       "</div>"
      ],
      "text/plain": [
       "   Unnamed: 0    CPR_NO                 SCH_NM PROV_NM     SUBM  \\\n",
       "0           0  70913390  المعهد الديني الجعفري     Cap  Science   \n",
       "1           1  71105956  المعهد الديني الجعفري     Cap  Science   \n",
       "2           2  70712190  المعهد الديني الجعفري     Cap  Science   \n",
       "3           3  70207496  المعهد الديني الجعفري     Cap  Science   \n",
       "4           4  70507953  المعهد الديني الجعفري     Cap  Science   \n",
       "\n",
       "  Teacher_Gender  ACHIEVEMENTS1  ACHIEVEMENTS2  MIDTERM1  MIDTERM2  FINAL1  \\\n",
       "0              M           28.0           30.0      17.0      17.0    45.0   \n",
       "1              M           27.0           29.0      14.0      16.0    41.5   \n",
       "2              M           27.0           27.0      13.0      15.0    27.5   \n",
       "3              M           26.0           24.5      15.0      12.0    44.0   \n",
       "4              M           25.0           28.0      14.0      15.0    31.5   \n",
       "\n",
       "   FINAL2  TOTAL1  TOTAL2  D_MARK  NAT_MARK   GPA  \n",
       "0    33.0    90.0      80      85      53.7  92.9  \n",
       "1    37.0    83.0      82      83      49.7  89.5  \n",
       "2    37.0    68.0      79      74      52.1  86.2  \n",
       "3    32.5    85.0      69      77      52.9  89.9  \n",
       "4    37.0    71.0      80      76      52.1  86.2  "
      ]
     },
     "execution_count": 3,
     "metadata": {},
     "output_type": "execute_result"
    }
   ],
   "source": [
    "df_infer.head()"
   ]
  },
  {
   "cell_type": "code",
   "execution_count": 4,
   "metadata": {},
   "outputs": [],
   "source": [
    "df_infer.set_index('CPR_NO', inplace=True)\n",
    "# df_infer.index=df.CPR_NO\n",
    "# df_infer.drop([\"Unnamed: 0\" ], axis=1, inplace=True)"
   ]
  },
  {
   "cell_type": "code",
   "execution_count": 5,
   "metadata": {},
   "outputs": [
    {
     "data": {
      "text/plain": [
       "99"
      ]
     },
     "execution_count": 5,
     "metadata": {},
     "output_type": "execute_result"
    }
   ],
   "source": [
    "df_infer.SCH_NM.nunique()"
   ]
  },
  {
   "cell_type": "code",
   "execution_count": 6,
   "metadata": {},
   "outputs": [
    {
     "data": {
      "text/html": [
       "<div>\n",
       "<style scoped>\n",
       "    .dataframe tbody tr th:only-of-type {\n",
       "        vertical-align: middle;\n",
       "    }\n",
       "\n",
       "    .dataframe tbody tr th {\n",
       "        vertical-align: top;\n",
       "    }\n",
       "\n",
       "    .dataframe thead th {\n",
       "        text-align: right;\n",
       "    }\n",
       "</style>\n",
       "<table border=\"1\" class=\"dataframe\">\n",
       "  <thead>\n",
       "    <tr style=\"text-align: right;\">\n",
       "      <th></th>\n",
       "      <th>Unnamed: 0</th>\n",
       "      <th>SCH_NM</th>\n",
       "      <th>PROV_NM</th>\n",
       "      <th>SUBM</th>\n",
       "      <th>Teacher_Gender</th>\n",
       "      <th>ACHIEVEMENTS1</th>\n",
       "      <th>ACHIEVEMENTS2</th>\n",
       "      <th>MIDTERM1</th>\n",
       "      <th>MIDTERM2</th>\n",
       "      <th>FINAL1</th>\n",
       "      <th>FINAL2</th>\n",
       "      <th>TOTAL1</th>\n",
       "      <th>TOTAL2</th>\n",
       "      <th>D_MARK</th>\n",
       "      <th>NAT_MARK</th>\n",
       "      <th>GPA</th>\n",
       "    </tr>\n",
       "    <tr>\n",
       "      <th>CPR_NO</th>\n",
       "      <th></th>\n",
       "      <th></th>\n",
       "      <th></th>\n",
       "      <th></th>\n",
       "      <th></th>\n",
       "      <th></th>\n",
       "      <th></th>\n",
       "      <th></th>\n",
       "      <th></th>\n",
       "      <th></th>\n",
       "      <th></th>\n",
       "      <th></th>\n",
       "      <th></th>\n",
       "      <th></th>\n",
       "      <th></th>\n",
       "      <th></th>\n",
       "    </tr>\n",
       "  </thead>\n",
       "  <tbody>\n",
       "    <tr>\n",
       "      <th>70913390</th>\n",
       "      <td>0</td>\n",
       "      <td>المعهد الديني الجعفري</td>\n",
       "      <td>Cap</td>\n",
       "      <td>Science</td>\n",
       "      <td>M</td>\n",
       "      <td>28.0</td>\n",
       "      <td>30.0</td>\n",
       "      <td>17.0</td>\n",
       "      <td>17.0</td>\n",
       "      <td>45.0</td>\n",
       "      <td>33.0</td>\n",
       "      <td>90.0</td>\n",
       "      <td>80</td>\n",
       "      <td>85</td>\n",
       "      <td>53.7</td>\n",
       "      <td>92.9</td>\n",
       "    </tr>\n",
       "    <tr>\n",
       "      <th>71105956</th>\n",
       "      <td>1</td>\n",
       "      <td>المعهد الديني الجعفري</td>\n",
       "      <td>Cap</td>\n",
       "      <td>Science</td>\n",
       "      <td>M</td>\n",
       "      <td>27.0</td>\n",
       "      <td>29.0</td>\n",
       "      <td>14.0</td>\n",
       "      <td>16.0</td>\n",
       "      <td>41.5</td>\n",
       "      <td>37.0</td>\n",
       "      <td>83.0</td>\n",
       "      <td>82</td>\n",
       "      <td>83</td>\n",
       "      <td>49.7</td>\n",
       "      <td>89.5</td>\n",
       "    </tr>\n",
       "    <tr>\n",
       "      <th>70712190</th>\n",
       "      <td>2</td>\n",
       "      <td>المعهد الديني الجعفري</td>\n",
       "      <td>Cap</td>\n",
       "      <td>Science</td>\n",
       "      <td>M</td>\n",
       "      <td>27.0</td>\n",
       "      <td>27.0</td>\n",
       "      <td>13.0</td>\n",
       "      <td>15.0</td>\n",
       "      <td>27.5</td>\n",
       "      <td>37.0</td>\n",
       "      <td>68.0</td>\n",
       "      <td>79</td>\n",
       "      <td>74</td>\n",
       "      <td>52.1</td>\n",
       "      <td>86.2</td>\n",
       "    </tr>\n",
       "    <tr>\n",
       "      <th>70207496</th>\n",
       "      <td>3</td>\n",
       "      <td>المعهد الديني الجعفري</td>\n",
       "      <td>Cap</td>\n",
       "      <td>Science</td>\n",
       "      <td>M</td>\n",
       "      <td>26.0</td>\n",
       "      <td>24.5</td>\n",
       "      <td>15.0</td>\n",
       "      <td>12.0</td>\n",
       "      <td>44.0</td>\n",
       "      <td>32.5</td>\n",
       "      <td>85.0</td>\n",
       "      <td>69</td>\n",
       "      <td>77</td>\n",
       "      <td>52.9</td>\n",
       "      <td>89.9</td>\n",
       "    </tr>\n",
       "    <tr>\n",
       "      <th>70507953</th>\n",
       "      <td>4</td>\n",
       "      <td>المعهد الديني الجعفري</td>\n",
       "      <td>Cap</td>\n",
       "      <td>Science</td>\n",
       "      <td>M</td>\n",
       "      <td>25.0</td>\n",
       "      <td>28.0</td>\n",
       "      <td>14.0</td>\n",
       "      <td>15.0</td>\n",
       "      <td>31.5</td>\n",
       "      <td>37.0</td>\n",
       "      <td>71.0</td>\n",
       "      <td>80</td>\n",
       "      <td>76</td>\n",
       "      <td>52.1</td>\n",
       "      <td>86.2</td>\n",
       "    </tr>\n",
       "  </tbody>\n",
       "</table>\n",
       "</div>"
      ],
      "text/plain": [
       "          Unnamed: 0                 SCH_NM PROV_NM     SUBM Teacher_Gender  \\\n",
       "CPR_NO                                                                        \n",
       "70913390           0  المعهد الديني الجعفري     Cap  Science              M   \n",
       "71105956           1  المعهد الديني الجعفري     Cap  Science              M   \n",
       "70712190           2  المعهد الديني الجعفري     Cap  Science              M   \n",
       "70207496           3  المعهد الديني الجعفري     Cap  Science              M   \n",
       "70507953           4  المعهد الديني الجعفري     Cap  Science              M   \n",
       "\n",
       "          ACHIEVEMENTS1  ACHIEVEMENTS2  MIDTERM1  MIDTERM2  FINAL1  FINAL2  \\\n",
       "CPR_NO                                                                       \n",
       "70913390           28.0           30.0      17.0      17.0    45.0    33.0   \n",
       "71105956           27.0           29.0      14.0      16.0    41.5    37.0   \n",
       "70712190           27.0           27.0      13.0      15.0    27.5    37.0   \n",
       "70207496           26.0           24.5      15.0      12.0    44.0    32.5   \n",
       "70507953           25.0           28.0      14.0      15.0    31.5    37.0   \n",
       "\n",
       "          TOTAL1  TOTAL2  D_MARK  NAT_MARK   GPA  \n",
       "CPR_NO                                            \n",
       "70913390    90.0      80      85      53.7  92.9  \n",
       "71105956    83.0      82      83      49.7  89.5  \n",
       "70712190    68.0      79      74      52.1  86.2  \n",
       "70207496    85.0      69      77      52.9  89.9  \n",
       "70507953    71.0      80      76      52.1  86.2  "
      ]
     },
     "execution_count": 6,
     "metadata": {},
     "output_type": "execute_result"
    }
   ],
   "source": [
    "df_infer.head()"
   ]
  },
  {
   "cell_type": "code",
   "execution_count": 7,
   "metadata": {},
   "outputs": [],
   "source": [
    "df_infer.drop(['TOTAL1','ACHIEVEMENTS2','MIDTERM2', 'FINAL2', 'TOTAL2', 'D_MARK', 'Unnamed: 0', \"GPA\"], axis=1, inplace=True)\n",
    "# y=df_infer['NAT_class']"
   ]
  },
  {
   "cell_type": "code",
   "execution_count": 8,
   "metadata": {},
   "outputs": [
    {
     "data": {
      "text/plain": [
       "Index(['SCH_NM', 'PROV_NM', 'SUBM', 'Teacher_Gender', 'ACHIEVEMENTS1',\n",
       "       'MIDTERM1', 'FINAL1', 'NAT_MARK'],\n",
       "      dtype='object')"
      ]
     },
     "execution_count": 8,
     "metadata": {},
     "output_type": "execute_result"
    }
   ],
   "source": [
    "df_infer.keys()"
   ]
  },
  {
   "cell_type": "code",
   "execution_count": 22,
   "metadata": {},
   "outputs": [
    {
     "data": {
      "text/html": [
       "<div>\n",
       "<style scoped>\n",
       "    .dataframe tbody tr th:only-of-type {\n",
       "        vertical-align: middle;\n",
       "    }\n",
       "\n",
       "    .dataframe tbody tr th {\n",
       "        vertical-align: top;\n",
       "    }\n",
       "\n",
       "    .dataframe thead th {\n",
       "        text-align: right;\n",
       "    }\n",
       "</style>\n",
       "<table border=\"1\" class=\"dataframe\">\n",
       "  <thead>\n",
       "    <tr style=\"text-align: right;\">\n",
       "      <th></th>\n",
       "      <th>NAT_MARK</th>\n",
       "      <th>SCH_NM</th>\n",
       "      <th>PROV_NM</th>\n",
       "      <th>SUBM</th>\n",
       "      <th>Teacher_Gender</th>\n",
       "      <th>ACHIEVEMENTS1</th>\n",
       "      <th>MIDTERM1</th>\n",
       "      <th>FINAL1</th>\n",
       "    </tr>\n",
       "    <tr>\n",
       "      <th>CPR_NO</th>\n",
       "      <th></th>\n",
       "      <th></th>\n",
       "      <th></th>\n",
       "      <th></th>\n",
       "      <th></th>\n",
       "      <th></th>\n",
       "      <th></th>\n",
       "      <th></th>\n",
       "    </tr>\n",
       "  </thead>\n",
       "  <tbody>\n",
       "  </tbody>\n",
       "</table>\n",
       "</div>"
      ],
      "text/plain": [
       "Empty DataFrame\n",
       "Columns: [NAT_MARK, SCH_NM, PROV_NM, SUBM, Teacher_Gender, ACHIEVEMENTS1, MIDTERM1, FINAL1]\n",
       "Index: []"
      ]
     },
     "execution_count": 22,
     "metadata": {},
     "output_type": "execute_result"
    }
   ],
   "source": [
    "df_infer[df_infer.isna().any(axis=1)]"
   ]
  },
  {
   "cell_type": "code",
   "execution_count": null,
   "metadata": {},
   "outputs": [],
   "source": []
  },
  {
   "cell_type": "code",
   "execution_count": 10,
   "metadata": {},
   "outputs": [],
   "source": [
    "df_infer.dropna(inplace=True)"
   ]
  },
  {
   "cell_type": "code",
   "execution_count": 11,
   "metadata": {},
   "outputs": [],
   "source": [
    "\n",
    "label_encoder = LabelEncoder()\n",
    "\n",
    "for i in ['SCH_NM', \"PROV_NM\"]:\n",
    "\n",
    "    df_infer[i] = label_encoder.fit_transform(df_infer[i])"
   ]
  },
  {
   "cell_type": "code",
   "execution_count": 12,
   "metadata": {},
   "outputs": [],
   "source": [
    "df_infer.Teacher_Gender=((df_infer.Teacher_Gender==\"M\")+0)\n",
    "df_infer.SUBM=((df_infer.SUBM==\"Math\")+0)"
   ]
  },
  {
   "cell_type": "code",
   "execution_count": 13,
   "metadata": {},
   "outputs": [
    {
     "data": {
      "text/html": [
       "<div>\n",
       "<style scoped>\n",
       "    .dataframe tbody tr th:only-of-type {\n",
       "        vertical-align: middle;\n",
       "    }\n",
       "\n",
       "    .dataframe tbody tr th {\n",
       "        vertical-align: top;\n",
       "    }\n",
       "\n",
       "    .dataframe thead th {\n",
       "        text-align: right;\n",
       "    }\n",
       "</style>\n",
       "<table border=\"1\" class=\"dataframe\">\n",
       "  <thead>\n",
       "    <tr style=\"text-align: right;\">\n",
       "      <th></th>\n",
       "      <th>SCH_NM</th>\n",
       "      <th>PROV_NM</th>\n",
       "      <th>SUBM</th>\n",
       "      <th>Teacher_Gender</th>\n",
       "      <th>ACHIEVEMENTS1</th>\n",
       "      <th>MIDTERM1</th>\n",
       "      <th>FINAL1</th>\n",
       "      <th>NAT_MARK</th>\n",
       "    </tr>\n",
       "    <tr>\n",
       "      <th>CPR_NO</th>\n",
       "      <th></th>\n",
       "      <th></th>\n",
       "      <th></th>\n",
       "      <th></th>\n",
       "      <th></th>\n",
       "      <th></th>\n",
       "      <th></th>\n",
       "      <th></th>\n",
       "    </tr>\n",
       "  </thead>\n",
       "  <tbody>\n",
       "    <tr>\n",
       "      <th>70913390</th>\n",
       "      <td>0</td>\n",
       "      <td>0</td>\n",
       "      <td>0</td>\n",
       "      <td>1</td>\n",
       "      <td>28.0</td>\n",
       "      <td>17.0</td>\n",
       "      <td>45.0</td>\n",
       "      <td>53.7</td>\n",
       "    </tr>\n",
       "    <tr>\n",
       "      <th>71105956</th>\n",
       "      <td>0</td>\n",
       "      <td>0</td>\n",
       "      <td>0</td>\n",
       "      <td>1</td>\n",
       "      <td>27.0</td>\n",
       "      <td>14.0</td>\n",
       "      <td>41.5</td>\n",
       "      <td>49.7</td>\n",
       "    </tr>\n",
       "    <tr>\n",
       "      <th>70712190</th>\n",
       "      <td>0</td>\n",
       "      <td>0</td>\n",
       "      <td>0</td>\n",
       "      <td>1</td>\n",
       "      <td>27.0</td>\n",
       "      <td>13.0</td>\n",
       "      <td>27.5</td>\n",
       "      <td>52.1</td>\n",
       "    </tr>\n",
       "    <tr>\n",
       "      <th>70207496</th>\n",
       "      <td>0</td>\n",
       "      <td>0</td>\n",
       "      <td>0</td>\n",
       "      <td>1</td>\n",
       "      <td>26.0</td>\n",
       "      <td>15.0</td>\n",
       "      <td>44.0</td>\n",
       "      <td>52.9</td>\n",
       "    </tr>\n",
       "    <tr>\n",
       "      <th>70507953</th>\n",
       "      <td>0</td>\n",
       "      <td>0</td>\n",
       "      <td>0</td>\n",
       "      <td>1</td>\n",
       "      <td>25.0</td>\n",
       "      <td>14.0</td>\n",
       "      <td>31.5</td>\n",
       "      <td>52.1</td>\n",
       "    </tr>\n",
       "  </tbody>\n",
       "</table>\n",
       "</div>"
      ],
      "text/plain": [
       "          SCH_NM  PROV_NM  SUBM  Teacher_Gender  ACHIEVEMENTS1  MIDTERM1  \\\n",
       "CPR_NO                                                                     \n",
       "70913390       0        0     0               1           28.0      17.0   \n",
       "71105956       0        0     0               1           27.0      14.0   \n",
       "70712190       0        0     0               1           27.0      13.0   \n",
       "70207496       0        0     0               1           26.0      15.0   \n",
       "70507953       0        0     0               1           25.0      14.0   \n",
       "\n",
       "          FINAL1  NAT_MARK  \n",
       "CPR_NO                      \n",
       "70913390    45.0      53.7  \n",
       "71105956    41.5      49.7  \n",
       "70712190    27.5      52.1  \n",
       "70207496    44.0      52.9  \n",
       "70507953    31.5      52.1  "
      ]
     },
     "execution_count": 13,
     "metadata": {},
     "output_type": "execute_result"
    }
   ],
   "source": [
    "df_infer.head()"
   ]
  },
  {
   "cell_type": "code",
   "execution_count": 14,
   "metadata": {},
   "outputs": [],
   "source": [
    "from sklearn.preprocessing import LabelEncoder, OneHotEncoder, StandardScaler\n",
    "from sklearn.model_selection import cross_val_score, StratifiedKFold, train_test_split\n",
    "from sklearn.decomposition import PCA\n",
    "from  scipy import stats\n",
    "from sklearn.svm import SVC\n",
    "from sklearn.metrics import mean_absolute_error, mean_squared_error\n",
    "from sklearn.linear_model import LinearRegression"
   ]
  },
  {
   "cell_type": "code",
   "execution_count": 15,
   "metadata": {},
   "outputs": [],
   "source": [
    "bins = [0, 60, 70, 80, 90, 100]\n",
    "names = ['0-60', '60-70', '70-80', '80-90', '90-100']\n",
    "\n",
    "df_infer['NAT_MARK'] = pd.cut(df_infer['NAT_MARK'], bins, labels=names)"
   ]
  },
  {
   "cell_type": "code",
   "execution_count": 16,
   "metadata": {},
   "outputs": [
    {
     "data": {
      "text/plain": [
       "0-60      19242\n",
       "60-70      4023\n",
       "70-80       692\n",
       "80-90        33\n",
       "90-100        0\n",
       "Name: NAT_MARK, dtype: int64"
      ]
     },
     "execution_count": 16,
     "metadata": {},
     "output_type": "execute_result"
    }
   ],
   "source": [
    "df_infer[\"NAT_MARK\"].value_counts()"
   ]
  },
  {
   "cell_type": "code",
   "execution_count": 17,
   "metadata": {},
   "outputs": [],
   "source": [
    "df_infer.dropna(inplace=True)"
   ]
  },
  {
   "cell_type": "code",
   "execution_count": 19,
   "metadata": {},
   "outputs": [],
   "source": [
    "df_infer=df_infer[[ 'NAT_MARK','SCH_NM', 'PROV_NM', 'SUBM', 'Teacher_Gender', 'ACHIEVEMENTS1',\n",
    "       'MIDTERM1', 'FINAL1']]"
   ]
  },
  {
   "cell_type": "code",
   "execution_count": 73,
   "metadata": {},
   "outputs": [
    {
     "data": {
      "text/html": [
       "<div>\n",
       "<style scoped>\n",
       "    .dataframe tbody tr th:only-of-type {\n",
       "        vertical-align: middle;\n",
       "    }\n",
       "\n",
       "    .dataframe tbody tr th {\n",
       "        vertical-align: top;\n",
       "    }\n",
       "\n",
       "    .dataframe thead th {\n",
       "        text-align: right;\n",
       "    }\n",
       "</style>\n",
       "<table border=\"1\" class=\"dataframe\">\n",
       "  <thead>\n",
       "    <tr style=\"text-align: right;\">\n",
       "      <th></th>\n",
       "      <th>NAT_MARK</th>\n",
       "      <th>SCH_NM</th>\n",
       "      <th>PROV_NM</th>\n",
       "      <th>SUBM</th>\n",
       "      <th>Teacher_Gender</th>\n",
       "      <th>ACHIEVEMENTS1</th>\n",
       "      <th>MIDTERM1</th>\n",
       "      <th>FINAL1</th>\n",
       "    </tr>\n",
       "    <tr>\n",
       "      <th>CPR_NO</th>\n",
       "      <th></th>\n",
       "      <th></th>\n",
       "      <th></th>\n",
       "      <th></th>\n",
       "      <th></th>\n",
       "      <th></th>\n",
       "      <th></th>\n",
       "      <th></th>\n",
       "    </tr>\n",
       "  </thead>\n",
       "  <tbody>\n",
       "    <tr>\n",
       "      <th>70913390</th>\n",
       "      <td>0-60</td>\n",
       "      <td>0</td>\n",
       "      <td>0</td>\n",
       "      <td>0</td>\n",
       "      <td>1</td>\n",
       "      <td>28.0</td>\n",
       "      <td>17.0</td>\n",
       "      <td>45.0</td>\n",
       "    </tr>\n",
       "    <tr>\n",
       "      <th>71105956</th>\n",
       "      <td>0-60</td>\n",
       "      <td>0</td>\n",
       "      <td>0</td>\n",
       "      <td>0</td>\n",
       "      <td>1</td>\n",
       "      <td>27.0</td>\n",
       "      <td>14.0</td>\n",
       "      <td>41.5</td>\n",
       "    </tr>\n",
       "    <tr>\n",
       "      <th>70712190</th>\n",
       "      <td>0-60</td>\n",
       "      <td>0</td>\n",
       "      <td>0</td>\n",
       "      <td>0</td>\n",
       "      <td>1</td>\n",
       "      <td>27.0</td>\n",
       "      <td>13.0</td>\n",
       "      <td>27.5</td>\n",
       "    </tr>\n",
       "    <tr>\n",
       "      <th>70207496</th>\n",
       "      <td>0-60</td>\n",
       "      <td>0</td>\n",
       "      <td>0</td>\n",
       "      <td>0</td>\n",
       "      <td>1</td>\n",
       "      <td>26.0</td>\n",
       "      <td>15.0</td>\n",
       "      <td>44.0</td>\n",
       "    </tr>\n",
       "    <tr>\n",
       "      <th>70507953</th>\n",
       "      <td>0-60</td>\n",
       "      <td>0</td>\n",
       "      <td>0</td>\n",
       "      <td>0</td>\n",
       "      <td>1</td>\n",
       "      <td>25.0</td>\n",
       "      <td>14.0</td>\n",
       "      <td>31.5</td>\n",
       "    </tr>\n",
       "  </tbody>\n",
       "</table>\n",
       "</div>"
      ],
      "text/plain": [
       "         NAT_MARK  SCH_NM  PROV_NM  SUBM  Teacher_Gender  ACHIEVEMENTS1  \\\n",
       "CPR_NO                                                                    \n",
       "70913390     0-60       0        0     0               1           28.0   \n",
       "71105956     0-60       0        0     0               1           27.0   \n",
       "70712190     0-60       0        0     0               1           27.0   \n",
       "70207496     0-60       0        0     0               1           26.0   \n",
       "70507953     0-60       0        0     0               1           25.0   \n",
       "\n",
       "          MIDTERM1  FINAL1  \n",
       "CPR_NO                      \n",
       "70913390      17.0    45.0  \n",
       "71105956      14.0    41.5  \n",
       "70712190      13.0    27.5  \n",
       "70207496      15.0    44.0  \n",
       "70507953      14.0    31.5  "
      ]
     },
     "execution_count": 73,
     "metadata": {},
     "output_type": "execute_result"
    }
   ],
   "source": [
    "df_infer.head()"
   ]
  },
  {
   "cell_type": "code",
   "execution_count": 20,
   "metadata": {},
   "outputs": [],
   "source": [
    "df_infer.to_csv(\"data/inference_std.csv\" , index=False)"
   ]
  },
  {
   "cell_type": "code",
   "execution_count": 21,
   "metadata": {},
   "outputs": [
    {
     "name": "stdout",
     "output_type": "stream",
     "text": [
      "/Users/medamin/_Projets/_DataScience/DirectOfInformaiton_Project\r\n"
     ]
    }
   ],
   "source": [
    "! pwd"
   ]
  },
  {
   "cell_type": "code",
   "execution_count": 74,
   "metadata": {},
   "outputs": [],
   "source": [
    "y=df_infer[\"NAT_MARK\"]\n",
    "X=df_infer.drop(['NAT_MARK'], axis=1)"
   ]
  },
  {
   "cell_type": "code",
   "execution_count": 75,
   "metadata": {},
   "outputs": [],
   "source": [
    "column_trans=make_column_transformer(\n",
    "(StandardScaler(), ['ACHIEVEMENTS1', 'MIDTERM1' , 'FINAL1']),\n",
    "(OneHotEncoder(), ['PROV_NM', 'SCH_NM']),\n",
    "   #PCA(n_components=.95, svd_solver=\"full\"),\n",
    " remainder=\"passthrough\")\n",
    "\n"
   ]
  },
  {
   "cell_type": "code",
   "execution_count": 76,
   "metadata": {},
   "outputs": [],
   "source": [
    "pipe=make_pipeline( column_trans, \n",
    "                   #SVC()\n",
    "XGBClassifier( objective=\"multi:softmax\", seed=42, silent=True,nthread=-1)\n",
    "                  )"
   ]
  },
  {
   "cell_type": "code",
   "execution_count": 77,
   "metadata": {},
   "outputs": [],
   "source": [
    "pipe=make_pipeline( column_trans, \n",
    "                   #SVC()\n",
    "                   \n",
    "                  \n",
    "                  XGBClassifier( objective=\"multi:softmax\", seed=42, silent=True,nthread=-1)\n",
    "                  )\n",
    "                   "
   ]
  },
  {
   "cell_type": "code",
   "execution_count": 78,
   "metadata": {},
   "outputs": [
    {
     "data": {
      "text/plain": [
       "array([ 1, 21, 41, 61, 81])"
      ]
     },
     "execution_count": 78,
     "metadata": {},
     "output_type": "execute_result"
    }
   ],
   "source": [
    "np.arange(1,100, 20)"
   ]
  },
  {
   "cell_type": "code",
   "execution_count": 79,
   "metadata": {},
   "outputs": [],
   "source": [
    "from scipy import stats as st\n",
    "\n",
    "param_1={\n",
    "    \"svc__C\":stats.expon(scale=100), \n",
    "    \"svc__gamma\":stats.expon(scale=.1),\n",
    "    \"svc__class_weight\":[\"balanced\", \"None\"]\n",
    "    \n",
    "    \n",
    " }\n",
    "# A parameter grid for XGBoost\n",
    "param_2 = {\n",
    "    'xgbclassifier__n_estimators' :st.randint(100, 1000),\n",
    "    'xgbclassifier__learning_rate' : st.uniform(0.01, 0.6), \n",
    "    'xgbclassifier__colsample_bytree': st.uniform(0.01, 0.9), \n",
    "    'xgbclassifier__max_depth': np.arange(3,8),\n",
    "    'xgbclassifier__min_child_weight':[1,2,3,4],\n",
    "    'xgbclassifier__max_depth':np.arange(3,8),\n",
    "    \"xgbclassifier__scale_pos_weight\" :np.arange(1, 200, 20)\n",
    "    \n",
    "        }"
   ]
  },
  {
   "cell_type": "code",
   "execution_count": 80,
   "metadata": {},
   "outputs": [],
   "source": [
    "\n",
    "X_train,X_test,y_train, y_test=train_test_split(X,y , test_size=0.3,random_state=42,stratify = y, shuffle=True)\n",
    "X_valid,X_test,y_valid, y_test=train_test_split(X_test,y_test , test_size=0.5,random_state=123)"
   ]
  },
  {
   "cell_type": "code",
   "execution_count": 81,
   "metadata": {},
   "outputs": [
    {
     "name": "stdout",
     "output_type": "stream",
     "text": [
      "Fitting 10 folds for each of 10 candidates, totalling 100 fits\n"
     ]
    },
    {
     "name": "stderr",
     "output_type": "stream",
     "text": [
      "[Parallel(n_jobs=-1)]: Using backend LokyBackend with 4 concurrent workers.\n",
      "[Parallel(n_jobs=-1)]: Done  24 tasks      | elapsed:  3.1min\n",
      "[Parallel(n_jobs=-1)]: Done 100 out of 100 | elapsed: 11.4min finished\n"
     ]
    },
    {
     "data": {
      "text/plain": [
       "RandomizedSearchCV(cv=<generator object _BaseKFold.split at 0x11a250f20>,\n",
       "                   error_score=nan,\n",
       "                   estimator=Pipeline(memory=None,\n",
       "                                      steps=[('columntransformer',\n",
       "                                              ColumnTransformer(n_jobs=None,\n",
       "                                                                remainder='passthrough',\n",
       "                                                                sparse_threshold=0.3,\n",
       "                                                                transformer_weights=None,\n",
       "                                                                transformers=[('standardscaler',\n",
       "                                                                               StandardScaler(copy=True,\n",
       "                                                                                              with_mean=True,\n",
       "                                                                                              with_std=True),\n",
       "                                                                               ['ACHIEVEMENTS1',\n",
       "                                                                                'M...\n",
       "                                        'xgbclassifier__max_depth': array([3, 4, 5, 6, 7]),\n",
       "                                        'xgbclassifier__min_child_weight': [1,\n",
       "                                                                            2,\n",
       "                                                                            3,\n",
       "                                                                            4],\n",
       "                                        'xgbclassifier__n_estimators': <scipy.stats._distn_infrastructure.rv_frozen object at 0x119036a00>,\n",
       "                                        'xgbclassifier__scale_pos_weight': array([  1,  21,  41,  61,  81, 101, 121, 141, 161, 181])},\n",
       "                   pre_dispatch='2*n_jobs', random_state=42, refit=True,\n",
       "                   return_train_score=False, scoring='f1_macro', verbose=3)"
      ]
     },
     "execution_count": 81,
     "metadata": {},
     "output_type": "execute_result"
    }
   ],
   "source": [
    "\n",
    "skf = StratifiedKFold(n_splits=10 ,shuffle = True, random_state = 42)\n",
    "\n",
    "random_search = RandomizedSearchCV(pipe, param_distributions=param_2, scoring='f1_macro', n_jobs=-1, \n",
    "                                   cv=skf.split(X_train,y_train), verbose=3, random_state=42 )\n",
    "\n",
    "# Here we go\n",
    "#start_time = timer(None) # timing starts from this point for \"start_time\" variable\n",
    "random_search.fit(X_train, y_train)\n",
    "#timer(start_time) # timing ends here for \"start_time\" variable"
   ]
  },
  {
   "cell_type": "code",
   "execution_count": 83,
   "metadata": {},
   "outputs": [
    {
     "name": "stdout",
     "output_type": "stream",
     "text": [
      "/Users/medamin/_Projets/_DataScience/DirectOfInformaiton_Project\r\n"
     ]
    }
   ],
   "source": [
    "!pwd"
   ]
  },
  {
   "cell_type": "code",
   "execution_count": 84,
   "metadata": {},
   "outputs": [
    {
     "name": "stdout",
     "output_type": "stream",
     "text": [
      "\n",
      " All results:\n",
      "{'mean_fit_time': array([46.2775182 ,  9.66182859, 40.9301249 , 16.26372902, 23.5452347 ,\n",
      "       30.64657857, 10.18846092, 23.29540377, 45.01230369, 21.08651047]), 'std_fit_time': array([2.08240344, 0.12284015, 2.04022305, 1.29827625, 0.57919248,\n",
      "       0.73090403, 0.61519321, 1.69096344, 6.62240084, 3.88344316]), 'mean_score_time': array([0.89818721, 0.17996764, 0.61485815, 0.15708163, 0.19141493,\n",
      "       0.43907557, 0.16955287, 0.49898746, 0.84638846, 0.27932413]), 'std_score_time': array([0.17533103, 0.01941955, 0.08016395, 0.02021853, 0.02936606,\n",
      "       0.03018909, 0.05981671, 0.27735749, 0.40313204, 0.14613219]), 'param_xgbclassifier__colsample_bytree': masked_array(data=[0.34708610696262626, 0.15041677639819287,\n",
      "                   0.551003510568888, 0.010700889256912895,\n",
      "                   0.016359674697745664, 0.05199909689225389,\n",
      "                   0.5431731119758383, 0.06854643368675156,\n",
      "                   0.2841523922560336, 0.5589969920043588],\n",
      "             mask=[False, False, False, False, False, False, False, False,\n",
      "                   False, False],\n",
      "       fill_value='?',\n",
      "            dtype=object), 'param_xgbclassifier__learning_rate': masked_array(data=[0.5804285838459496, 0.10359671220172158,\n",
      "                   0.4348435466776273, 0.6053269355747305,\n",
      "                   0.023837455024849456, 0.5942533113048755,\n",
      "                   0.03787024763199864, 0.5793313223519999,\n",
      "                   0.06860326840383031, 0.5099169470416985],\n",
      "             mask=[False, False, False, False, False, False, False, False,\n",
      "                   False, False],\n",
      "       fill_value='?',\n",
      "            dtype=object), 'param_xgbclassifier__max_depth': masked_array(data=[5, 5, 7, 3, 5, 5, 5, 6, 6, 5],\n",
      "             mask=[False, False, False, False, False, False, False, False,\n",
      "                   False, False],\n",
      "       fill_value='?',\n",
      "            dtype=object), 'param_xgbclassifier__min_child_weight': masked_array(data=[4, 3, 2, 4, 3, 4, 3, 2, 4, 2],\n",
      "             mask=[False, False, False, False, False, False, False, False,\n",
      "                   False, False],\n",
      "       fill_value='?',\n",
      "            dtype=object), 'param_xgbclassifier__n_estimators': masked_array(data=[800, 187, 443, 413, 610, 666, 120, 341, 466, 180],\n",
      "             mask=[False, False, False, False, False, False, False, False,\n",
      "                   False, False],\n",
      "       fill_value='?',\n",
      "            dtype=object), 'param_xgbclassifier__scale_pos_weight': masked_array(data=[81, 81, 101, 101, 181, 61, 161, 181, 121, 61],\n",
      "             mask=[False, False, False, False, False, False, False, False,\n",
      "                   False, False],\n",
      "       fill_value='?',\n",
      "            dtype=object), 'params': [{'xgbclassifier__colsample_bytree': 0.34708610696262626, 'xgbclassifier__learning_rate': 0.5804285838459496, 'xgbclassifier__max_depth': 5, 'xgbclassifier__min_child_weight': 4, 'xgbclassifier__n_estimators': 800, 'xgbclassifier__scale_pos_weight': 81}, {'xgbclassifier__colsample_bytree': 0.15041677639819287, 'xgbclassifier__learning_rate': 0.10359671220172158, 'xgbclassifier__max_depth': 5, 'xgbclassifier__min_child_weight': 3, 'xgbclassifier__n_estimators': 187, 'xgbclassifier__scale_pos_weight': 81}, {'xgbclassifier__colsample_bytree': 0.551003510568888, 'xgbclassifier__learning_rate': 0.4348435466776273, 'xgbclassifier__max_depth': 7, 'xgbclassifier__min_child_weight': 2, 'xgbclassifier__n_estimators': 443, 'xgbclassifier__scale_pos_weight': 101}, {'xgbclassifier__colsample_bytree': 0.010700889256912895, 'xgbclassifier__learning_rate': 0.6053269355747305, 'xgbclassifier__max_depth': 3, 'xgbclassifier__min_child_weight': 4, 'xgbclassifier__n_estimators': 413, 'xgbclassifier__scale_pos_weight': 101}, {'xgbclassifier__colsample_bytree': 0.016359674697745664, 'xgbclassifier__learning_rate': 0.023837455024849456, 'xgbclassifier__max_depth': 5, 'xgbclassifier__min_child_weight': 3, 'xgbclassifier__n_estimators': 610, 'xgbclassifier__scale_pos_weight': 181}, {'xgbclassifier__colsample_bytree': 0.05199909689225389, 'xgbclassifier__learning_rate': 0.5942533113048755, 'xgbclassifier__max_depth': 5, 'xgbclassifier__min_child_weight': 4, 'xgbclassifier__n_estimators': 666, 'xgbclassifier__scale_pos_weight': 61}, {'xgbclassifier__colsample_bytree': 0.5431731119758383, 'xgbclassifier__learning_rate': 0.03787024763199864, 'xgbclassifier__max_depth': 5, 'xgbclassifier__min_child_weight': 3, 'xgbclassifier__n_estimators': 120, 'xgbclassifier__scale_pos_weight': 161}, {'xgbclassifier__colsample_bytree': 0.06854643368675156, 'xgbclassifier__learning_rate': 0.5793313223519999, 'xgbclassifier__max_depth': 6, 'xgbclassifier__min_child_weight': 2, 'xgbclassifier__n_estimators': 341, 'xgbclassifier__scale_pos_weight': 181}, {'xgbclassifier__colsample_bytree': 0.2841523922560336, 'xgbclassifier__learning_rate': 0.06860326840383031, 'xgbclassifier__max_depth': 6, 'xgbclassifier__min_child_weight': 4, 'xgbclassifier__n_estimators': 466, 'xgbclassifier__scale_pos_weight': 121}, {'xgbclassifier__colsample_bytree': 0.5589969920043588, 'xgbclassifier__learning_rate': 0.5099169470416985, 'xgbclassifier__max_depth': 5, 'xgbclassifier__min_child_weight': 2, 'xgbclassifier__n_estimators': 180, 'xgbclassifier__scale_pos_weight': 61}], 'split0_test_score': array([0.45922863, 0.39252124, 0.45160169, 0.3809777 , 0.22249752,\n",
      "       0.43816074, 0.37617735, 0.4392086 , 0.41635597, 0.46067504]), 'split1_test_score': array([0.46402902, 0.41692853, 0.46633203, 0.39066189, 0.22249752,\n",
      "       0.468011  , 0.38912097, 0.46524845, 0.46974098, 0.47280493]), 'split2_test_score': array([0.45937551, 0.41695265, 0.46858429, 0.41480261, 0.22249752,\n",
      "       0.44606483, 0.36985452, 0.44578547, 0.45133563, 0.46602079]), 'split3_test_score': array([0.39997796, 0.39690126, 0.39131257, 0.39519745, 0.22257105,\n",
      "       0.41561758, 0.38548634, 0.41396636, 0.41037058, 0.41040582]), 'split4_test_score': array([0.4588805 , 0.41065814, 0.44832449, 0.39267138, 0.22257105,\n",
      "       0.44498927, 0.37001628, 0.4562282 , 0.43469497, 0.45373414]), 'split5_test_score': array([0.43728694, 0.38031706, 0.43572928, 0.38455871, 0.22257105,\n",
      "       0.42923666, 0.36331591, 0.41711596, 0.41692595, 0.42945233]), 'split6_test_score': array([0.44419074, 0.37905256, 0.4496218 , 0.37703661, 0.22257105,\n",
      "       0.43121606, 0.36513994, 0.44138775, 0.43200644, 0.45152622]), 'split7_test_score': array([0.46129076, 0.39424234, 0.432247  , 0.38848604, 0.22257105,\n",
      "       0.42493937, 0.37143376, 0.43802945, 0.42370303, 0.44786136]), 'split8_test_score': array([0.41822966, 0.4062525 , 0.43650143, 0.40564782, 0.22257105,\n",
      "       0.41781869, 0.38984845, 0.42596521, 0.42881647, 0.43398032]), 'split9_test_score': array([0.45452612, 0.40421214, 0.45845133, 0.39528631, 0.22247934,\n",
      "       0.44070183, 0.37815692, 0.46694835, 0.45170649, 0.4489791 ]), 'mean_test_score': array([0.44570158, 0.39980384, 0.44387059, 0.39253265, 0.22253982,\n",
      "       0.4356756 , 0.37585504, 0.44098838, 0.43356565, 0.447544  ]), 'std_test_score': array([2.02950149e-02, 1.29186405e-02, 2.11154064e-02, 1.06759759e-02,\n",
      "       3.85713217e-05, 1.47292391e-02, 9.11950310e-03, 1.74802612e-02,\n",
      "       1.78552882e-02, 1.76033892e-02]), 'rank_test_score': array([ 2,  7,  3,  8, 10,  5,  9,  4,  6,  1], dtype=int32)}\n",
      "\n",
      " Best estimator:\n",
      "Pipeline(memory=None,\n",
      "         steps=[('columntransformer',\n",
      "                 ColumnTransformer(n_jobs=None, remainder='passthrough',\n",
      "                                   sparse_threshold=0.3,\n",
      "                                   transformer_weights=None,\n",
      "                                   transformers=[('standardscaler',\n",
      "                                                  StandardScaler(copy=True,\n",
      "                                                                 with_mean=True,\n",
      "                                                                 with_std=True),\n",
      "                                                  ['ACHIEVEMENTS1', 'MIDTERM1',\n",
      "                                                   'FINAL1']),\n",
      "                                                 ('onehotencoder',\n",
      "                                                  OneHotEncoder(categories='auto',\n",
      "                                                                drop=None,\n",
      "                                                                dtype=<class 'num...\n",
      "                               colsample_bylevel=1, colsample_bynode=1,\n",
      "                               colsample_bytree=0.5589969920043588, gamma=0,\n",
      "                               learning_rate=0.5099169470416985,\n",
      "                               max_delta_step=0, max_depth=5,\n",
      "                               min_child_weight=2, missing=None,\n",
      "                               n_estimators=180, n_jobs=1, nthread=-1,\n",
      "                               objective='multi:softprob', random_state=0,\n",
      "                               reg_alpha=0, reg_lambda=1, scale_pos_weight=61,\n",
      "                               seed=42, silent=True, subsample=1,\n",
      "                               verbosity=1))],\n",
      "         verbose=False)\n",
      "\n",
      " Best normalized gini score for 3-fold search with 5 parameter combinations:\n",
      "-0.10491199359453685\n",
      "\n",
      " Best hyperparameters:\n",
      "{'xgbclassifier__colsample_bytree': 0.5589969920043588, 'xgbclassifier__learning_rate': 0.5099169470416985, 'xgbclassifier__max_depth': 5, 'xgbclassifier__min_child_weight': 2, 'xgbclassifier__n_estimators': 180, 'xgbclassifier__scale_pos_weight': 61}\n"
     ]
    }
   ],
   "source": [
    "print('\\n All results:')\n",
    "print(random_search.cv_results_)\n",
    "print('\\n Best estimator:')\n",
    "print(random_search.best_estimator_)\n",
    "print('\\n Best normalized gini score for %d-fold search with %d parameter combinations:' % (3, 5))\n",
    "print(random_search.best_score_ * 2 - 1)\n",
    "print('\\n Best hyperparameters:')\n",
    "print(random_search.best_params_)\n",
    "results = pd.DataFrame(random_search.cv_results_)\n",
    "results.to_csv('xgb-random-grid-search-results-01.csv', index=False)"
   ]
  },
  {
   "cell_type": "code",
   "execution_count": 89,
   "metadata": {},
   "outputs": [
    {
     "data": {
      "text/plain": [
       "CPR_NO\n",
       "70315329    0-60\n",
       "71011617    0-60\n",
       "70616426    0-60\n",
       "70213348    0-60\n",
       "70508437    0-60\n",
       "Name: NAT_MARK, dtype: category\n",
       "Categories (5, object): [0-60 < 60-70 < 70-80 < 80-90 < 90-100]"
      ]
     },
     "execution_count": 89,
     "metadata": {},
     "output_type": "execute_result"
    }
   ],
   "source": [
    "y_train.head()"
   ]
  },
  {
   "cell_type": "markdown",
   "metadata": {},
   "source": [
    "# Learning curve"
   ]
  },
  {
   "cell_type": "code",
   "execution_count": 90,
   "metadata": {},
   "outputs": [
    {
     "ename": "KeyboardInterrupt",
     "evalue": "",
     "output_type": "error",
     "traceback": [
      "\u001b[0;31m---------------------------------------------------------------------------\u001b[0m",
      "\u001b[0;31mKeyboardInterrupt\u001b[0m                         Traceback (most recent call last)",
      "\u001b[0;32m<ipython-input-90-e90ce375fed3>\u001b[0m in \u001b[0;36m<module>\u001b[0;34m\u001b[0m\n\u001b[1;32m      1\u001b[0m \u001b[0;32mfrom\u001b[0m \u001b[0msklearn\u001b[0m\u001b[0;34m.\u001b[0m\u001b[0mmodel_selection\u001b[0m \u001b[0;32mimport\u001b[0m \u001b[0mlearning_curve\u001b[0m\u001b[0;34m\u001b[0m\u001b[0;34m\u001b[0m\u001b[0m\n\u001b[1;32m      2\u001b[0m \u001b[0;34m\u001b[0m\u001b[0m\n\u001b[0;32m----> 3\u001b[0;31m train_size, train_score, test_score =learning_curve(estimator=pipe, \n\u001b[0m\u001b[1;32m      4\u001b[0m                                                     \u001b[0mX\u001b[0m\u001b[0;34m=\u001b[0m\u001b[0mX_train\u001b[0m\u001b[0;34m,\u001b[0m\u001b[0;34m\u001b[0m\u001b[0;34m\u001b[0m\u001b[0m\n\u001b[1;32m      5\u001b[0m                                                     \u001b[0my\u001b[0m\u001b[0;34m=\u001b[0m\u001b[0my_train\u001b[0m\u001b[0;34m,\u001b[0m\u001b[0;34m\u001b[0m\u001b[0;34m\u001b[0m\u001b[0m\n",
      "\u001b[0;32m~/Library/Python/3.8/lib/python/site-packages/sklearn/model_selection/_validation.py\u001b[0m in \u001b[0;36mlearning_curve\u001b[0;34m(estimator, X, y, groups, train_sizes, cv, scoring, exploit_incremental_learning, n_jobs, pre_dispatch, verbose, shuffle, random_state, error_score, return_times)\u001b[0m\n\u001b[1;32m   1250\u001b[0m                 \u001b[0mtrain_test_proportions\u001b[0m\u001b[0;34m.\u001b[0m\u001b[0mappend\u001b[0m\u001b[0;34m(\u001b[0m\u001b[0;34m(\u001b[0m\u001b[0mtrain\u001b[0m\u001b[0;34m[\u001b[0m\u001b[0;34m:\u001b[0m\u001b[0mn_train_samples\u001b[0m\u001b[0;34m]\u001b[0m\u001b[0;34m,\u001b[0m \u001b[0mtest\u001b[0m\u001b[0;34m)\u001b[0m\u001b[0;34m)\u001b[0m\u001b[0;34m\u001b[0m\u001b[0;34m\u001b[0m\u001b[0m\n\u001b[1;32m   1251\u001b[0m \u001b[0;34m\u001b[0m\u001b[0m\n\u001b[0;32m-> 1252\u001b[0;31m         out = parallel(delayed(_fit_and_score)(\n\u001b[0m\u001b[1;32m   1253\u001b[0m             \u001b[0mclone\u001b[0m\u001b[0;34m(\u001b[0m\u001b[0mestimator\u001b[0m\u001b[0;34m)\u001b[0m\u001b[0;34m,\u001b[0m \u001b[0mX\u001b[0m\u001b[0;34m,\u001b[0m \u001b[0my\u001b[0m\u001b[0;34m,\u001b[0m \u001b[0mscorer\u001b[0m\u001b[0;34m,\u001b[0m \u001b[0mtrain\u001b[0m\u001b[0;34m,\u001b[0m \u001b[0mtest\u001b[0m\u001b[0;34m,\u001b[0m \u001b[0mverbose\u001b[0m\u001b[0;34m,\u001b[0m\u001b[0;34m\u001b[0m\u001b[0;34m\u001b[0m\u001b[0m\n\u001b[1;32m   1254\u001b[0m             \u001b[0mparameters\u001b[0m\u001b[0;34m=\u001b[0m\u001b[0;32mNone\u001b[0m\u001b[0;34m,\u001b[0m \u001b[0mfit_params\u001b[0m\u001b[0;34m=\u001b[0m\u001b[0;32mNone\u001b[0m\u001b[0;34m,\u001b[0m \u001b[0mreturn_train_score\u001b[0m\u001b[0;34m=\u001b[0m\u001b[0;32mTrue\u001b[0m\u001b[0;34m,\u001b[0m\u001b[0;34m\u001b[0m\u001b[0;34m\u001b[0m\u001b[0m\n",
      "\u001b[0;32m~/Library/Python/3.8/lib/python/site-packages/joblib/parallel.py\u001b[0m in \u001b[0;36m__call__\u001b[0;34m(self, iterable)\u001b[0m\n\u001b[1;32m   1005\u001b[0m                 \u001b[0mself\u001b[0m\u001b[0;34m.\u001b[0m\u001b[0m_iterating\u001b[0m \u001b[0;34m=\u001b[0m \u001b[0mself\u001b[0m\u001b[0;34m.\u001b[0m\u001b[0m_original_iterator\u001b[0m \u001b[0;32mis\u001b[0m \u001b[0;32mnot\u001b[0m \u001b[0;32mNone\u001b[0m\u001b[0;34m\u001b[0m\u001b[0;34m\u001b[0m\u001b[0m\n\u001b[1;32m   1006\u001b[0m \u001b[0;34m\u001b[0m\u001b[0m\n\u001b[0;32m-> 1007\u001b[0;31m             \u001b[0;32mwhile\u001b[0m \u001b[0mself\u001b[0m\u001b[0;34m.\u001b[0m\u001b[0mdispatch_one_batch\u001b[0m\u001b[0;34m(\u001b[0m\u001b[0miterator\u001b[0m\u001b[0;34m)\u001b[0m\u001b[0;34m:\u001b[0m\u001b[0;34m\u001b[0m\u001b[0;34m\u001b[0m\u001b[0m\n\u001b[0m\u001b[1;32m   1008\u001b[0m                 \u001b[0;32mpass\u001b[0m\u001b[0;34m\u001b[0m\u001b[0;34m\u001b[0m\u001b[0m\n\u001b[1;32m   1009\u001b[0m \u001b[0;34m\u001b[0m\u001b[0m\n",
      "\u001b[0;32m~/Library/Python/3.8/lib/python/site-packages/joblib/parallel.py\u001b[0m in \u001b[0;36mdispatch_one_batch\u001b[0;34m(self, iterator)\u001b[0m\n\u001b[1;32m    833\u001b[0m                 \u001b[0;32mreturn\u001b[0m \u001b[0;32mFalse\u001b[0m\u001b[0;34m\u001b[0m\u001b[0;34m\u001b[0m\u001b[0m\n\u001b[1;32m    834\u001b[0m             \u001b[0;32melse\u001b[0m\u001b[0;34m:\u001b[0m\u001b[0;34m\u001b[0m\u001b[0;34m\u001b[0m\u001b[0m\n\u001b[0;32m--> 835\u001b[0;31m                 \u001b[0mself\u001b[0m\u001b[0;34m.\u001b[0m\u001b[0m_dispatch\u001b[0m\u001b[0;34m(\u001b[0m\u001b[0mtasks\u001b[0m\u001b[0;34m)\u001b[0m\u001b[0;34m\u001b[0m\u001b[0;34m\u001b[0m\u001b[0m\n\u001b[0m\u001b[1;32m    836\u001b[0m                 \u001b[0;32mreturn\u001b[0m \u001b[0;32mTrue\u001b[0m\u001b[0;34m\u001b[0m\u001b[0;34m\u001b[0m\u001b[0m\n\u001b[1;32m    837\u001b[0m \u001b[0;34m\u001b[0m\u001b[0m\n",
      "\u001b[0;32m~/Library/Python/3.8/lib/python/site-packages/joblib/parallel.py\u001b[0m in \u001b[0;36m_dispatch\u001b[0;34m(self, batch)\u001b[0m\n\u001b[1;32m    752\u001b[0m         \u001b[0;32mwith\u001b[0m \u001b[0mself\u001b[0m\u001b[0;34m.\u001b[0m\u001b[0m_lock\u001b[0m\u001b[0;34m:\u001b[0m\u001b[0;34m\u001b[0m\u001b[0;34m\u001b[0m\u001b[0m\n\u001b[1;32m    753\u001b[0m             \u001b[0mjob_idx\u001b[0m \u001b[0;34m=\u001b[0m \u001b[0mlen\u001b[0m\u001b[0;34m(\u001b[0m\u001b[0mself\u001b[0m\u001b[0;34m.\u001b[0m\u001b[0m_jobs\u001b[0m\u001b[0;34m)\u001b[0m\u001b[0;34m\u001b[0m\u001b[0;34m\u001b[0m\u001b[0m\n\u001b[0;32m--> 754\u001b[0;31m             \u001b[0mjob\u001b[0m \u001b[0;34m=\u001b[0m \u001b[0mself\u001b[0m\u001b[0;34m.\u001b[0m\u001b[0m_backend\u001b[0m\u001b[0;34m.\u001b[0m\u001b[0mapply_async\u001b[0m\u001b[0;34m(\u001b[0m\u001b[0mbatch\u001b[0m\u001b[0;34m,\u001b[0m \u001b[0mcallback\u001b[0m\u001b[0;34m=\u001b[0m\u001b[0mcb\u001b[0m\u001b[0;34m)\u001b[0m\u001b[0;34m\u001b[0m\u001b[0;34m\u001b[0m\u001b[0m\n\u001b[0m\u001b[1;32m    755\u001b[0m             \u001b[0;31m# A job can complete so quickly than its callback is\u001b[0m\u001b[0;34m\u001b[0m\u001b[0;34m\u001b[0m\u001b[0;34m\u001b[0m\u001b[0m\n\u001b[1;32m    756\u001b[0m             \u001b[0;31m# called before we get here, causing self._jobs to\u001b[0m\u001b[0;34m\u001b[0m\u001b[0;34m\u001b[0m\u001b[0;34m\u001b[0m\u001b[0m\n",
      "\u001b[0;32m~/Library/Python/3.8/lib/python/site-packages/joblib/_parallel_backends.py\u001b[0m in \u001b[0;36mapply_async\u001b[0;34m(self, func, callback)\u001b[0m\n\u001b[1;32m    207\u001b[0m     \u001b[0;32mdef\u001b[0m \u001b[0mapply_async\u001b[0m\u001b[0;34m(\u001b[0m\u001b[0mself\u001b[0m\u001b[0;34m,\u001b[0m \u001b[0mfunc\u001b[0m\u001b[0;34m,\u001b[0m \u001b[0mcallback\u001b[0m\u001b[0;34m=\u001b[0m\u001b[0;32mNone\u001b[0m\u001b[0;34m)\u001b[0m\u001b[0;34m:\u001b[0m\u001b[0;34m\u001b[0m\u001b[0;34m\u001b[0m\u001b[0m\n\u001b[1;32m    208\u001b[0m         \u001b[0;34m\"\"\"Schedule a func to be run\"\"\"\u001b[0m\u001b[0;34m\u001b[0m\u001b[0;34m\u001b[0m\u001b[0m\n\u001b[0;32m--> 209\u001b[0;31m         \u001b[0mresult\u001b[0m \u001b[0;34m=\u001b[0m \u001b[0mImmediateResult\u001b[0m\u001b[0;34m(\u001b[0m\u001b[0mfunc\u001b[0m\u001b[0;34m)\u001b[0m\u001b[0;34m\u001b[0m\u001b[0;34m\u001b[0m\u001b[0m\n\u001b[0m\u001b[1;32m    210\u001b[0m         \u001b[0;32mif\u001b[0m \u001b[0mcallback\u001b[0m\u001b[0;34m:\u001b[0m\u001b[0;34m\u001b[0m\u001b[0;34m\u001b[0m\u001b[0m\n\u001b[1;32m    211\u001b[0m             \u001b[0mcallback\u001b[0m\u001b[0;34m(\u001b[0m\u001b[0mresult\u001b[0m\u001b[0;34m)\u001b[0m\u001b[0;34m\u001b[0m\u001b[0;34m\u001b[0m\u001b[0m\n",
      "\u001b[0;32m~/Library/Python/3.8/lib/python/site-packages/joblib/_parallel_backends.py\u001b[0m in \u001b[0;36m__init__\u001b[0;34m(self, batch)\u001b[0m\n\u001b[1;32m    588\u001b[0m         \u001b[0;31m# Don't delay the application, to avoid keeping the input\u001b[0m\u001b[0;34m\u001b[0m\u001b[0;34m\u001b[0m\u001b[0;34m\u001b[0m\u001b[0m\n\u001b[1;32m    589\u001b[0m         \u001b[0;31m# arguments in memory\u001b[0m\u001b[0;34m\u001b[0m\u001b[0;34m\u001b[0m\u001b[0;34m\u001b[0m\u001b[0m\n\u001b[0;32m--> 590\u001b[0;31m         \u001b[0mself\u001b[0m\u001b[0;34m.\u001b[0m\u001b[0mresults\u001b[0m \u001b[0;34m=\u001b[0m \u001b[0mbatch\u001b[0m\u001b[0;34m(\u001b[0m\u001b[0;34m)\u001b[0m\u001b[0;34m\u001b[0m\u001b[0;34m\u001b[0m\u001b[0m\n\u001b[0m\u001b[1;32m    591\u001b[0m \u001b[0;34m\u001b[0m\u001b[0m\n\u001b[1;32m    592\u001b[0m     \u001b[0;32mdef\u001b[0m \u001b[0mget\u001b[0m\u001b[0;34m(\u001b[0m\u001b[0mself\u001b[0m\u001b[0;34m)\u001b[0m\u001b[0;34m:\u001b[0m\u001b[0;34m\u001b[0m\u001b[0;34m\u001b[0m\u001b[0m\n",
      "\u001b[0;32m~/Library/Python/3.8/lib/python/site-packages/joblib/parallel.py\u001b[0m in \u001b[0;36m__call__\u001b[0;34m(self)\u001b[0m\n\u001b[1;32m    253\u001b[0m         \u001b[0;31m# change the default number of processes to -1\u001b[0m\u001b[0;34m\u001b[0m\u001b[0;34m\u001b[0m\u001b[0;34m\u001b[0m\u001b[0m\n\u001b[1;32m    254\u001b[0m         \u001b[0;32mwith\u001b[0m \u001b[0mparallel_backend\u001b[0m\u001b[0;34m(\u001b[0m\u001b[0mself\u001b[0m\u001b[0;34m.\u001b[0m\u001b[0m_backend\u001b[0m\u001b[0;34m,\u001b[0m \u001b[0mn_jobs\u001b[0m\u001b[0;34m=\u001b[0m\u001b[0mself\u001b[0m\u001b[0;34m.\u001b[0m\u001b[0m_n_jobs\u001b[0m\u001b[0;34m)\u001b[0m\u001b[0;34m:\u001b[0m\u001b[0;34m\u001b[0m\u001b[0;34m\u001b[0m\u001b[0m\n\u001b[0;32m--> 255\u001b[0;31m             return [func(*args, **kwargs)\n\u001b[0m\u001b[1;32m    256\u001b[0m                     for func, args, kwargs in self.items]\n\u001b[1;32m    257\u001b[0m \u001b[0;34m\u001b[0m\u001b[0m\n",
      "\u001b[0;32m~/Library/Python/3.8/lib/python/site-packages/joblib/parallel.py\u001b[0m in \u001b[0;36m<listcomp>\u001b[0;34m(.0)\u001b[0m\n\u001b[1;32m    253\u001b[0m         \u001b[0;31m# change the default number of processes to -1\u001b[0m\u001b[0;34m\u001b[0m\u001b[0;34m\u001b[0m\u001b[0;34m\u001b[0m\u001b[0m\n\u001b[1;32m    254\u001b[0m         \u001b[0;32mwith\u001b[0m \u001b[0mparallel_backend\u001b[0m\u001b[0;34m(\u001b[0m\u001b[0mself\u001b[0m\u001b[0;34m.\u001b[0m\u001b[0m_backend\u001b[0m\u001b[0;34m,\u001b[0m \u001b[0mn_jobs\u001b[0m\u001b[0;34m=\u001b[0m\u001b[0mself\u001b[0m\u001b[0;34m.\u001b[0m\u001b[0m_n_jobs\u001b[0m\u001b[0;34m)\u001b[0m\u001b[0;34m:\u001b[0m\u001b[0;34m\u001b[0m\u001b[0;34m\u001b[0m\u001b[0m\n\u001b[0;32m--> 255\u001b[0;31m             return [func(*args, **kwargs)\n\u001b[0m\u001b[1;32m    256\u001b[0m                     for func, args, kwargs in self.items]\n\u001b[1;32m    257\u001b[0m \u001b[0;34m\u001b[0m\u001b[0m\n",
      "\u001b[0;32m~/Library/Python/3.8/lib/python/site-packages/sklearn/model_selection/_validation.py\u001b[0m in \u001b[0;36m_fit_and_score\u001b[0;34m(estimator, X, y, scorer, train, test, verbose, parameters, fit_params, return_train_score, return_parameters, return_n_test_samples, return_times, return_estimator, error_score)\u001b[0m\n\u001b[1;32m    513\u001b[0m             \u001b[0mestimator\u001b[0m\u001b[0;34m.\u001b[0m\u001b[0mfit\u001b[0m\u001b[0;34m(\u001b[0m\u001b[0mX_train\u001b[0m\u001b[0;34m,\u001b[0m \u001b[0;34m**\u001b[0m\u001b[0mfit_params\u001b[0m\u001b[0;34m)\u001b[0m\u001b[0;34m\u001b[0m\u001b[0;34m\u001b[0m\u001b[0m\n\u001b[1;32m    514\u001b[0m         \u001b[0;32melse\u001b[0m\u001b[0;34m:\u001b[0m\u001b[0;34m\u001b[0m\u001b[0;34m\u001b[0m\u001b[0m\n\u001b[0;32m--> 515\u001b[0;31m             \u001b[0mestimator\u001b[0m\u001b[0;34m.\u001b[0m\u001b[0mfit\u001b[0m\u001b[0;34m(\u001b[0m\u001b[0mX_train\u001b[0m\u001b[0;34m,\u001b[0m \u001b[0my_train\u001b[0m\u001b[0;34m,\u001b[0m \u001b[0;34m**\u001b[0m\u001b[0mfit_params\u001b[0m\u001b[0;34m)\u001b[0m\u001b[0;34m\u001b[0m\u001b[0;34m\u001b[0m\u001b[0m\n\u001b[0m\u001b[1;32m    516\u001b[0m \u001b[0;34m\u001b[0m\u001b[0m\n\u001b[1;32m    517\u001b[0m     \u001b[0;32mexcept\u001b[0m \u001b[0mException\u001b[0m \u001b[0;32mas\u001b[0m \u001b[0me\u001b[0m\u001b[0;34m:\u001b[0m\u001b[0;34m\u001b[0m\u001b[0;34m\u001b[0m\u001b[0m\n",
      "\u001b[0;32m~/Library/Python/3.8/lib/python/site-packages/sklearn/pipeline.py\u001b[0m in \u001b[0;36mfit\u001b[0;34m(self, X, y, **fit_params)\u001b[0m\n\u001b[1;32m    352\u001b[0m                                  self._log_message(len(self.steps) - 1)):\n\u001b[1;32m    353\u001b[0m             \u001b[0;32mif\u001b[0m \u001b[0mself\u001b[0m\u001b[0;34m.\u001b[0m\u001b[0m_final_estimator\u001b[0m \u001b[0;34m!=\u001b[0m \u001b[0;34m'passthrough'\u001b[0m\u001b[0;34m:\u001b[0m\u001b[0;34m\u001b[0m\u001b[0;34m\u001b[0m\u001b[0m\n\u001b[0;32m--> 354\u001b[0;31m                 \u001b[0mself\u001b[0m\u001b[0;34m.\u001b[0m\u001b[0m_final_estimator\u001b[0m\u001b[0;34m.\u001b[0m\u001b[0mfit\u001b[0m\u001b[0;34m(\u001b[0m\u001b[0mXt\u001b[0m\u001b[0;34m,\u001b[0m \u001b[0my\u001b[0m\u001b[0;34m,\u001b[0m \u001b[0;34m**\u001b[0m\u001b[0mfit_params\u001b[0m\u001b[0;34m)\u001b[0m\u001b[0;34m\u001b[0m\u001b[0;34m\u001b[0m\u001b[0m\n\u001b[0m\u001b[1;32m    355\u001b[0m         \u001b[0;32mreturn\u001b[0m \u001b[0mself\u001b[0m\u001b[0;34m\u001b[0m\u001b[0;34m\u001b[0m\u001b[0m\n\u001b[1;32m    356\u001b[0m \u001b[0;34m\u001b[0m\u001b[0m\n",
      "\u001b[0;32m/Library/Frameworks/Python.framework/Versions/3.8/lib/python3.8/site-packages/xgboost-0.90-py3.8.egg/xgboost/sklearn.py\u001b[0m in \u001b[0;36mfit\u001b[0;34m(self, X, y, sample_weight, eval_set, eval_metric, early_stopping_rounds, verbose, xgb_model, sample_weight_eval_set, callbacks)\u001b[0m\n\u001b[1;32m    726\u001b[0m                                     missing=self.missing, nthread=self.n_jobs)\n\u001b[1;32m    727\u001b[0m \u001b[0;34m\u001b[0m\u001b[0m\n\u001b[0;32m--> 728\u001b[0;31m         self._Booster = train(xgb_options, train_dmatrix, self.get_num_boosting_rounds(),\n\u001b[0m\u001b[1;32m    729\u001b[0m                               \u001b[0mevals\u001b[0m\u001b[0;34m=\u001b[0m\u001b[0mevals\u001b[0m\u001b[0;34m,\u001b[0m \u001b[0mearly_stopping_rounds\u001b[0m\u001b[0;34m=\u001b[0m\u001b[0mearly_stopping_rounds\u001b[0m\u001b[0;34m,\u001b[0m\u001b[0;34m\u001b[0m\u001b[0;34m\u001b[0m\u001b[0m\n\u001b[1;32m    730\u001b[0m                               \u001b[0mevals_result\u001b[0m\u001b[0;34m=\u001b[0m\u001b[0mevals_result\u001b[0m\u001b[0;34m,\u001b[0m \u001b[0mobj\u001b[0m\u001b[0;34m=\u001b[0m\u001b[0mobj\u001b[0m\u001b[0;34m,\u001b[0m \u001b[0mfeval\u001b[0m\u001b[0;34m=\u001b[0m\u001b[0mfeval\u001b[0m\u001b[0;34m,\u001b[0m\u001b[0;34m\u001b[0m\u001b[0;34m\u001b[0m\u001b[0m\n",
      "\u001b[0;32m/Library/Frameworks/Python.framework/Versions/3.8/lib/python3.8/site-packages/xgboost-0.90-py3.8.egg/xgboost/training.py\u001b[0m in \u001b[0;36mtrain\u001b[0;34m(params, dtrain, num_boost_round, evals, obj, feval, maximize, early_stopping_rounds, evals_result, verbose_eval, xgb_model, callbacks, learning_rates)\u001b[0m\n\u001b[1;32m    210\u001b[0m         \u001b[0mcallbacks\u001b[0m\u001b[0;34m.\u001b[0m\u001b[0mappend\u001b[0m\u001b[0;34m(\u001b[0m\u001b[0mcallback\u001b[0m\u001b[0;34m.\u001b[0m\u001b[0mreset_learning_rate\u001b[0m\u001b[0;34m(\u001b[0m\u001b[0mlearning_rates\u001b[0m\u001b[0;34m)\u001b[0m\u001b[0;34m)\u001b[0m\u001b[0;34m\u001b[0m\u001b[0;34m\u001b[0m\u001b[0m\n\u001b[1;32m    211\u001b[0m \u001b[0;34m\u001b[0m\u001b[0m\n\u001b[0;32m--> 212\u001b[0;31m     return _train_internal(params, dtrain,\n\u001b[0m\u001b[1;32m    213\u001b[0m                            \u001b[0mnum_boost_round\u001b[0m\u001b[0;34m=\u001b[0m\u001b[0mnum_boost_round\u001b[0m\u001b[0;34m,\u001b[0m\u001b[0;34m\u001b[0m\u001b[0;34m\u001b[0m\u001b[0m\n\u001b[1;32m    214\u001b[0m                            \u001b[0mevals\u001b[0m\u001b[0;34m=\u001b[0m\u001b[0mevals\u001b[0m\u001b[0;34m,\u001b[0m\u001b[0;34m\u001b[0m\u001b[0;34m\u001b[0m\u001b[0m\n",
      "\u001b[0;32m/Library/Frameworks/Python.framework/Versions/3.8/lib/python3.8/site-packages/xgboost-0.90-py3.8.egg/xgboost/training.py\u001b[0m in \u001b[0;36m_train_internal\u001b[0;34m(params, dtrain, num_boost_round, evals, obj, feval, xgb_model, callbacks)\u001b[0m\n\u001b[1;32m     72\u001b[0m         \u001b[0;31m# Skip the first update if it is a recovery step.\u001b[0m\u001b[0;34m\u001b[0m\u001b[0;34m\u001b[0m\u001b[0;34m\u001b[0m\u001b[0m\n\u001b[1;32m     73\u001b[0m         \u001b[0;32mif\u001b[0m \u001b[0mversion\u001b[0m \u001b[0;34m%\u001b[0m \u001b[0;36m2\u001b[0m \u001b[0;34m==\u001b[0m \u001b[0;36m0\u001b[0m\u001b[0;34m:\u001b[0m\u001b[0;34m\u001b[0m\u001b[0;34m\u001b[0m\u001b[0m\n\u001b[0;32m---> 74\u001b[0;31m             \u001b[0mbst\u001b[0m\u001b[0;34m.\u001b[0m\u001b[0mupdate\u001b[0m\u001b[0;34m(\u001b[0m\u001b[0mdtrain\u001b[0m\u001b[0;34m,\u001b[0m \u001b[0mi\u001b[0m\u001b[0;34m,\u001b[0m \u001b[0mobj\u001b[0m\u001b[0;34m)\u001b[0m\u001b[0;34m\u001b[0m\u001b[0;34m\u001b[0m\u001b[0m\n\u001b[0m\u001b[1;32m     75\u001b[0m             \u001b[0mbst\u001b[0m\u001b[0;34m.\u001b[0m\u001b[0msave_rabit_checkpoint\u001b[0m\u001b[0;34m(\u001b[0m\u001b[0;34m)\u001b[0m\u001b[0;34m\u001b[0m\u001b[0;34m\u001b[0m\u001b[0m\n\u001b[1;32m     76\u001b[0m             \u001b[0mversion\u001b[0m \u001b[0;34m+=\u001b[0m \u001b[0;36m1\u001b[0m\u001b[0;34m\u001b[0m\u001b[0;34m\u001b[0m\u001b[0m\n",
      "\u001b[0;32m/Library/Frameworks/Python.framework/Versions/3.8/lib/python3.8/site-packages/xgboost-0.90-py3.8.egg/xgboost/core.py\u001b[0m in \u001b[0;36mupdate\u001b[0;34m(self, dtrain, iteration, fobj)\u001b[0m\n\u001b[1;32m   1106\u001b[0m \u001b[0;34m\u001b[0m\u001b[0m\n\u001b[1;32m   1107\u001b[0m         \u001b[0;32mif\u001b[0m \u001b[0mfobj\u001b[0m \u001b[0;32mis\u001b[0m \u001b[0;32mNone\u001b[0m\u001b[0;34m:\u001b[0m\u001b[0;34m\u001b[0m\u001b[0;34m\u001b[0m\u001b[0m\n\u001b[0;32m-> 1108\u001b[0;31m             _check_call(_LIB.XGBoosterUpdateOneIter(self.handle, ctypes.c_int(iteration),\n\u001b[0m\u001b[1;32m   1109\u001b[0m                                                     dtrain.handle))\n\u001b[1;32m   1110\u001b[0m         \u001b[0;32melse\u001b[0m\u001b[0;34m:\u001b[0m\u001b[0;34m\u001b[0m\u001b[0;34m\u001b[0m\u001b[0m\n",
      "\u001b[0;31mKeyboardInterrupt\u001b[0m: "
     ]
    }
   ],
   "source": [
    "from sklearn.model_selection import learning_curve\n",
    "\n",
    "train_size, train_score, test_score =learning_curve(estimator=pipe, \n",
    "                                                    X=X_train, \n",
    "                                                    y=y_train,\n",
    "                                                    train_sizes=np.linspace(0.1, 1, 10 ), scoring='f1_weighted',\n",
    "                                                    \n",
    "                                                    cv=10 , n_jobs=1)"
   ]
  },
  {
   "cell_type": "code",
   "execution_count": 87,
   "metadata": {},
   "outputs": [],
   "source": [
    "train_mean=np.mean(train_score, axis=1)\n",
    "train_std= np.std (train_score, axis=1)\n",
    "test_mean= np.mean(test_score,  axis=1)\n",
    "test_std=  np.std (test_score,  axis=1)"
   ]
  },
  {
   "cell_type": "code",
   "execution_count": null,
   "metadata": {},
   "outputs": [],
   "source": [
    "import matplotlib.pyplot as plt\n",
    "plt.figure(figsize=(12, 7))\n",
    "plotGraph(train_size, train_mean, test_mean, \n",
    "          train_std, test_std,\"linear\", \"Number of Training Example\")"
   ]
  },
  {
   "cell_type": "markdown",
   "metadata": {},
   "source": [
    "# validation curves"
   ]
  },
  {
   "cell_type": "code",
   "execution_count": 52,
   "metadata": {},
   "outputs": [
    {
     "data": {
      "image/png": "[encoded data removed]",
      "text/plain": [
       "<Figure size 432x288 with 1 Axes>"
      ]
     },
     "metadata": {
      "needs_background": "light"
     },
     "output_type": "display_data"
    }
   ],
   "source": [
    "from sklearn.model_selection import validation_curve\n",
    "param_range = [1, 10 , 20 , 30, 40 , 50, 60]\n",
    "train_score, test_score =validation_curve(\n",
    "    estimator=pipe, X=X_train, y=y_train, \n",
    "    param_name=\"xgbclassifier__scale_pos_weight\", param_range=param_range, \n",
    "    cv=10,\n",
    "    n_jobs=-1\n",
    "\n",
    ")\n",
    "train_mean=np.mean(train_score, axis=1)\n",
    "train_std= np.std (train_score, axis=1)\n",
    "test_mean= np.mean(test_score,  axis=1)\n",
    "test_std=  np.std (test_score,  axis=1)\n",
    "\n",
    "# plt.plot(param_range, train_mean, \n",
    "#         color=\"blue\", \n",
    "#          marker=\"o\",\n",
    "#          markersize=5, \n",
    "#          label=\"Training Accuracy \"\n",
    "#         )\n",
    "plotGraph(param_range, train_mean, test_mean, train_std, test_std, \"log\", \"Parameter C\")"
   ]
  },
  {
   "cell_type": "code",
   "execution_count": null,
   "metadata": {},
   "outputs": [],
   "source": []
  },
  {
   "cell_type": "code",
   "execution_count": null,
   "metadata": {},
   "outputs": [],
   "source": []
  },
  {
   "cell_type": "code",
   "execution_count": null,
   "metadata": {},
   "outputs": [],
   "source": []
  },
  {
   "cell_type": "code",
   "execution_count": 128,
   "metadata": {},
   "outputs": [
    {
     "data": {
      "text/plain": [
       "{'xgbclassifier__colsample_bytree': 0.5589969920043588,\n",
       " 'xgbclassifier__learning_rate': 0.5099169470416985,\n",
       " 'xgbclassifier__max_depth': 5,\n",
       " 'xgbclassifier__min_child_weight': 2,\n",
       " 'xgbclassifier__n_estimators': 180,\n",
       " 'xgbclassifier__scale_weight': 61}"
      ]
     },
     "execution_count": 128,
     "metadata": {},
     "output_type": "execute_result"
    }
   ],
   "source": [
    "random_search.best_params_"
   ]
  },
  {
   "cell_type": "code",
   "execution_count": 127,
   "metadata": {},
   "outputs": [],
   "source": [
    "clf=random_search.best_estimator_"
   ]
  },
  {
   "cell_type": "code",
   "execution_count": 19,
   "metadata": {},
   "outputs": [],
   "source": [
    "pipe=make_pipeline( column_trans, \n",
    "XGBClassifier(colsample_bytree=0.31033775002511965,\n",
    " learning_rate= 0.09572009075316446,\n",
    " max_depth= 5,\n",
    " min_child_weight= 2,\n",
    " n_estimators= 408))"
   ]
  },
  {
   "cell_type": "code",
   "execution_count": 138,
   "metadata": {},
   "outputs": [],
   "source": [
    "xg_classifier=XGBClassifier(colsample_bytree=0.5589969920043588,\n",
    " learning_rate= 0.5099169470416985,\n",
    " max_depth= 5,\n",
    " min_child_weight= 2,\n",
    " n_estimators= 180, scale_weight= 61)"
   ]
  },
  {
   "cell_type": "code",
   "execution_count": 139,
   "metadata": {},
   "outputs": [
    {
     "name": "stdout",
     "output_type": "stream",
     "text": [
      "[0]\tvalidation_0-merror:0.155422\tvalidation_1-merror:0.158143\n",
      "[1]\tvalidation_0-merror:0.159828\tvalidation_1-merror:0.161757\n",
      "[2]\tvalidation_0-merror:0.158161\tvalidation_1-merror:0.161201\n",
      "[3]\tvalidation_0-merror:0.154171\tvalidation_1-merror:0.15731\n",
      "[4]\tvalidation_0-merror:0.14905\tvalidation_1-merror:0.152029\n",
      "[5]\tvalidation_0-merror:0.147681\tvalidation_1-merror:0.148972\n",
      "[6]\tvalidation_0-merror:0.144703\tvalidation_1-merror:0.14786\n",
      "[7]\tvalidation_0-merror:0.143691\tvalidation_1-merror:0.14647\n",
      "[8]\tvalidation_0-merror:0.142559\tvalidation_1-merror:0.145914\n",
      "[9]\tvalidation_0-merror:0.142202\tvalidation_1-merror:0.144525\n",
      "[10]\tvalidation_0-merror:0.13982\tvalidation_1-merror:0.144247\n",
      "[11]\tvalidation_0-merror:0.139642\tvalidation_1-merror:0.144247\n",
      "[12]\tvalidation_0-merror:0.139522\tvalidation_1-merror:0.143691\n",
      "[13]\tvalidation_0-merror:0.137617\tvalidation_1-merror:0.142301\n",
      "[14]\tvalidation_0-merror:0.13726\tvalidation_1-merror:0.14119\n",
      "[15]\tvalidation_0-merror:0.137438\tvalidation_1-merror:0.142301\n",
      "[16]\tvalidation_0-merror:0.13714\tvalidation_1-merror:0.141745\n",
      "[17]\tvalidation_0-merror:0.1372\tvalidation_1-merror:0.142301\n",
      "[18]\tvalidation_0-merror:0.136069\tvalidation_1-merror:0.140634\n",
      "[19]\tvalidation_0-merror:0.13595\tvalidation_1-merror:0.14119\n",
      "[20]\tvalidation_0-merror:0.135294\tvalidation_1-merror:0.140912\n",
      "[21]\tvalidation_0-merror:0.134818\tvalidation_1-merror:0.140356\n",
      "[22]\tvalidation_0-merror:0.135235\tvalidation_1-merror:0.140356\n",
      "[23]\tvalidation_0-merror:0.134937\tvalidation_1-merror:0.140078\n",
      "[24]\tvalidation_0-merror:0.134937\tvalidation_1-merror:0.140356\n",
      "[25]\tvalidation_0-merror:0.135235\tvalidation_1-merror:0.14119\n",
      "[26]\tvalidation_0-merror:0.134699\tvalidation_1-merror:0.140356\n",
      "[27]\tvalidation_0-merror:0.134401\tvalidation_1-merror:0.140078\n",
      "[28]\tvalidation_0-merror:0.133925\tvalidation_1-merror:0.1398\n",
      "[29]\tvalidation_0-merror:0.13458\tvalidation_1-merror:0.140078\n",
      "[30]\tvalidation_0-merror:0.134044\tvalidation_1-merror:0.140078\n",
      "[31]\tvalidation_0-merror:0.133389\tvalidation_1-merror:0.140078\n",
      "[32]\tvalidation_0-merror:0.133091\tvalidation_1-merror:0.140078\n",
      "[33]\tvalidation_0-merror:0.132793\tvalidation_1-merror:0.140078\n",
      "[34]\tvalidation_0-merror:0.132138\tvalidation_1-merror:0.140078\n",
      "[35]\tvalidation_0-merror:0.131781\tvalidation_1-merror:0.140078\n",
      "[36]\tvalidation_0-merror:0.131543\tvalidation_1-merror:0.139522\n",
      "[37]\tvalidation_0-merror:0.131067\tvalidation_1-merror:0.138688\n",
      "[38]\tvalidation_0-merror:0.130173\tvalidation_1-merror:0.137576\n",
      "[39]\tvalidation_0-merror:0.130173\tvalidation_1-merror:0.137576\n",
      "[40]\tvalidation_0-merror:0.129161\tvalidation_1-merror:0.138688\n",
      "[41]\tvalidation_0-merror:0.129756\tvalidation_1-merror:0.138688\n",
      "[42]\tvalidation_0-merror:0.12934\tvalidation_1-merror:0.138688\n",
      "[43]\tvalidation_0-merror:0.129221\tvalidation_1-merror:0.13841\n",
      "[44]\tvalidation_0-merror:0.128923\tvalidation_1-merror:0.138966\n",
      "[45]\tvalidation_0-merror:0.128923\tvalidation_1-merror:0.13841\n",
      "[46]\tvalidation_0-merror:0.128923\tvalidation_1-merror:0.139244\n",
      "[47]\tvalidation_0-merror:0.128923\tvalidation_1-merror:0.138966\n",
      "[48]\tvalidation_0-merror:0.128506\tvalidation_1-merror:0.137576\n",
      "[49]\tvalidation_0-merror:0.12791\tvalidation_1-merror:0.137298\n",
      "[50]\tvalidation_0-merror:0.12803\tvalidation_1-merror:0.137576\n",
      "[51]\tvalidation_0-merror:0.127851\tvalidation_1-merror:0.137298\n",
      "[52]\tvalidation_0-merror:0.12803\tvalidation_1-merror:0.137021\n",
      "[53]\tvalidation_0-merror:0.127255\tvalidation_1-merror:0.137298\n",
      "[54]\tvalidation_0-merror:0.126898\tvalidation_1-merror:0.137298\n",
      "[55]\tvalidation_0-merror:0.126541\tvalidation_1-merror:0.137854\n",
      "[56]\tvalidation_0-merror:0.126541\tvalidation_1-merror:0.137854\n",
      "[57]\tvalidation_0-merror:0.126184\tvalidation_1-merror:0.137576\n",
      "[58]\tvalidation_0-merror:0.126124\tvalidation_1-merror:0.13841\n",
      "[59]\tvalidation_0-merror:0.126064\tvalidation_1-merror:0.138132\n",
      "[60]\tvalidation_0-merror:0.125588\tvalidation_1-merror:0.138688\n",
      "[61]\tvalidation_0-merror:0.125648\tvalidation_1-merror:0.137854\n",
      "[62]\tvalidation_0-merror:0.125409\tvalidation_1-merror:0.137854\n",
      "[63]\tvalidation_0-merror:0.12529\tvalidation_1-merror:0.137854\n",
      "[64]\tvalidation_0-merror:0.125171\tvalidation_1-merror:0.138132\n",
      "[65]\tvalidation_0-merror:0.124873\tvalidation_1-merror:0.13841\n",
      "[66]\tvalidation_0-merror:0.124516\tvalidation_1-merror:0.13841\n",
      "[67]\tvalidation_0-merror:0.124159\tvalidation_1-merror:0.138966\n",
      "[68]\tvalidation_0-merror:0.124099\tvalidation_1-merror:0.139522\n",
      "[69]\tvalidation_0-merror:0.123921\tvalidation_1-merror:0.140356\n",
      "[70]\tvalidation_0-merror:0.123147\tvalidation_1-merror:0.140078\n",
      "[71]\tvalidation_0-merror:0.123266\tvalidation_1-merror:0.1398\n",
      "[72]\tvalidation_0-merror:0.123325\tvalidation_1-merror:0.1398\n",
      "[73]\tvalidation_0-merror:0.12273\tvalidation_1-merror:0.139522\n",
      "[74]\tvalidation_0-merror:0.123087\tvalidation_1-merror:0.140078\n",
      "[75]\tvalidation_0-merror:0.122908\tvalidation_1-merror:0.1398\n",
      "[76]\tvalidation_0-merror:0.122253\tvalidation_1-merror:0.140356\n",
      "[77]\tvalidation_0-merror:0.122432\tvalidation_1-merror:0.140078\n",
      "[78]\tvalidation_0-merror:0.122372\tvalidation_1-merror:0.139244\n",
      "[79]\tvalidation_0-merror:0.121658\tvalidation_1-merror:0.13841\n",
      "[80]\tvalidation_0-merror:0.121598\tvalidation_1-merror:0.138132\n",
      "[81]\tvalidation_0-merror:0.121598\tvalidation_1-merror:0.138966\n",
      "[82]\tvalidation_0-merror:0.121122\tvalidation_1-merror:0.138966\n",
      "[83]\tvalidation_0-merror:0.120943\tvalidation_1-merror:0.138132\n",
      "[84]\tvalidation_0-merror:0.120467\tvalidation_1-merror:0.13841\n",
      "[85]\tvalidation_0-merror:0.120229\tvalidation_1-merror:0.138132\n",
      "[86]\tvalidation_0-merror:0.120169\tvalidation_1-merror:0.137854\n",
      "[87]\tvalidation_0-merror:0.120288\tvalidation_1-merror:0.13841\n",
      "[88]\tvalidation_0-merror:0.120229\tvalidation_1-merror:0.138966\n",
      "[89]\tvalidation_0-merror:0.120229\tvalidation_1-merror:0.140912\n",
      "[90]\tvalidation_0-merror:0.120169\tvalidation_1-merror:0.140356\n",
      "[91]\tvalidation_0-merror:0.11999\tvalidation_1-merror:0.140356\n",
      "[92]\tvalidation_0-merror:0.119633\tvalidation_1-merror:0.140634\n",
      "[93]\tvalidation_0-merror:0.119871\tvalidation_1-merror:0.140634\n",
      "[94]\tvalidation_0-merror:0.120169\tvalidation_1-merror:0.140634\n",
      "[95]\tvalidation_0-merror:0.119574\tvalidation_1-merror:0.141467\n",
      "[96]\tvalidation_0-merror:0.119633\tvalidation_1-merror:0.140912\n",
      "[97]\tvalidation_0-merror:0.119752\tvalidation_1-merror:0.140912\n",
      "[98]\tvalidation_0-merror:0.119574\tvalidation_1-merror:0.141745\n",
      "[99]\tvalidation_0-merror:0.119395\tvalidation_1-merror:0.141467\n",
      "[100]\tvalidation_0-merror:0.11874\tvalidation_1-merror:0.140912\n",
      "[101]\tvalidation_0-merror:0.118919\tvalidation_1-merror:0.14119\n",
      "[102]\tvalidation_0-merror:0.118978\tvalidation_1-merror:0.140634\n",
      "[103]\tvalidation_0-merror:0.118978\tvalidation_1-merror:0.14119\n",
      "[104]\tvalidation_0-merror:0.118859\tvalidation_1-merror:0.141467\n",
      "[105]\tvalidation_0-merror:0.11868\tvalidation_1-merror:0.14119\n",
      "[106]\tvalidation_0-merror:0.11868\tvalidation_1-merror:0.14119\n",
      "[107]\tvalidation_0-merror:0.1188\tvalidation_1-merror:0.141467\n",
      "[108]\tvalidation_0-merror:0.118323\tvalidation_1-merror:0.140356\n",
      "[109]\tvalidation_0-merror:0.118085\tvalidation_1-merror:0.140356\n",
      "[110]\tvalidation_0-merror:0.117847\tvalidation_1-merror:0.1398\n",
      "[111]\tvalidation_0-merror:0.118085\tvalidation_1-merror:0.1398\n",
      "[112]\tvalidation_0-merror:0.117728\tvalidation_1-merror:0.1398\n",
      "[113]\tvalidation_0-merror:0.117609\tvalidation_1-merror:0.140078\n",
      "[114]\tvalidation_0-merror:0.117311\tvalidation_1-merror:0.140634\n",
      "[115]\tvalidation_0-merror:0.117311\tvalidation_1-merror:0.140912\n",
      "[116]\tvalidation_0-merror:0.117489\tvalidation_1-merror:0.141467\n",
      "[117]\tvalidation_0-merror:0.117609\tvalidation_1-merror:0.14119\n",
      "[118]\tvalidation_0-merror:0.117251\tvalidation_1-merror:0.140634\n",
      "[119]\tvalidation_0-merror:0.116656\tvalidation_1-merror:0.141467\n",
      "[120]\tvalidation_0-merror:0.116953\tvalidation_1-merror:0.141467\n",
      "[121]\tvalidation_0-merror:0.117013\tvalidation_1-merror:0.141467\n",
      "[122]\tvalidation_0-merror:0.116537\tvalidation_1-merror:0.14119\n",
      "[123]\tvalidation_0-merror:0.116298\tvalidation_1-merror:0.142301\n",
      "[124]\tvalidation_0-merror:0.116358\tvalidation_1-merror:0.141745\n",
      "[125]\tvalidation_0-merror:0.116358\tvalidation_1-merror:0.142023\n",
      "[126]\tvalidation_0-merror:0.116477\tvalidation_1-merror:0.14119\n",
      "[127]\tvalidation_0-merror:0.116477\tvalidation_1-merror:0.141745\n",
      "[128]\tvalidation_0-merror:0.116418\tvalidation_1-merror:0.142301\n",
      "[129]\tvalidation_0-merror:0.116298\tvalidation_1-merror:0.142023\n",
      "[130]\tvalidation_0-merror:0.115882\tvalidation_1-merror:0.142023\n"
     ]
    },
    {
     "name": "stdout",
     "output_type": "stream",
     "text": [
      "[131]\tvalidation_0-merror:0.115524\tvalidation_1-merror:0.14119\n",
      "[132]\tvalidation_0-merror:0.115763\tvalidation_1-merror:0.141745\n",
      "[133]\tvalidation_0-merror:0.115882\tvalidation_1-merror:0.140912\n",
      "[134]\tvalidation_0-merror:0.115882\tvalidation_1-merror:0.142023\n",
      "[135]\tvalidation_0-merror:0.115822\tvalidation_1-merror:0.142023\n",
      "[136]\tvalidation_0-merror:0.115941\tvalidation_1-merror:0.142301\n",
      "[137]\tvalidation_0-merror:0.116001\tvalidation_1-merror:0.141467\n",
      "[138]\tvalidation_0-merror:0.115882\tvalidation_1-merror:0.141745\n",
      "[139]\tvalidation_0-merror:0.115643\tvalidation_1-merror:0.141467\n",
      "[140]\tvalidation_0-merror:0.115524\tvalidation_1-merror:0.141745\n",
      "[141]\tvalidation_0-merror:0.114929\tvalidation_1-merror:0.14119\n",
      "[142]\tvalidation_0-merror:0.114929\tvalidation_1-merror:0.141467\n",
      "[143]\tvalidation_0-merror:0.115167\tvalidation_1-merror:0.142023\n",
      "[144]\tvalidation_0-merror:0.114988\tvalidation_1-merror:0.142023\n",
      "[145]\tvalidation_0-merror:0.114572\tvalidation_1-merror:0.142023\n",
      "[146]\tvalidation_0-merror:0.114572\tvalidation_1-merror:0.142023\n",
      "[147]\tvalidation_0-merror:0.114274\tvalidation_1-merror:0.141745\n",
      "[148]\tvalidation_0-merror:0.114333\tvalidation_1-merror:0.142301\n",
      "[149]\tvalidation_0-merror:0.113976\tvalidation_1-merror:0.142301\n",
      "[150]\tvalidation_0-merror:0.114333\tvalidation_1-merror:0.142023\n",
      "[151]\tvalidation_0-merror:0.114036\tvalidation_1-merror:0.142579\n",
      "[152]\tvalidation_0-merror:0.113857\tvalidation_1-merror:0.142857\n",
      "[153]\tvalidation_0-merror:0.114095\tvalidation_1-merror:0.143413\n",
      "[154]\tvalidation_0-merror:0.114036\tvalidation_1-merror:0.143135\n",
      "[155]\tvalidation_0-merror:0.113857\tvalidation_1-merror:0.142301\n",
      "[156]\tvalidation_0-merror:0.113619\tvalidation_1-merror:0.142301\n",
      "[157]\tvalidation_0-merror:0.113738\tvalidation_1-merror:0.143413\n",
      "[158]\tvalidation_0-merror:0.113142\tvalidation_1-merror:0.143691\n",
      "[159]\tvalidation_0-merror:0.113321\tvalidation_1-merror:0.143969\n",
      "[160]\tvalidation_0-merror:0.113202\tvalidation_1-merror:0.143691\n",
      "[161]\tvalidation_0-merror:0.112964\tvalidation_1-merror:0.143691\n",
      "[162]\tvalidation_0-merror:0.112726\tvalidation_1-merror:0.143691\n",
      "[163]\tvalidation_0-merror:0.112606\tvalidation_1-merror:0.142023\n",
      "[164]\tvalidation_0-merror:0.112368\tvalidation_1-merror:0.142301\n",
      "[165]\tvalidation_0-merror:0.112071\tvalidation_1-merror:0.142301\n",
      "[166]\tvalidation_0-merror:0.112071\tvalidation_1-merror:0.142301\n",
      "[167]\tvalidation_0-merror:0.111951\tvalidation_1-merror:0.142301\n",
      "[168]\tvalidation_0-merror:0.111951\tvalidation_1-merror:0.141467\n",
      "[169]\tvalidation_0-merror:0.11213\tvalidation_1-merror:0.14119\n",
      "[170]\tvalidation_0-merror:0.111951\tvalidation_1-merror:0.141467\n",
      "[171]\tvalidation_0-merror:0.111892\tvalidation_1-merror:0.142579\n",
      "[172]\tvalidation_0-merror:0.111713\tvalidation_1-merror:0.142579\n",
      "[173]\tvalidation_0-merror:0.11076\tvalidation_1-merror:0.142023\n",
      "[174]\tvalidation_0-merror:0.110999\tvalidation_1-merror:0.142023\n",
      "[175]\tvalidation_0-merror:0.110999\tvalidation_1-merror:0.142023\n",
      "[176]\tvalidation_0-merror:0.110999\tvalidation_1-merror:0.141745\n",
      "[177]\tvalidation_0-merror:0.11088\tvalidation_1-merror:0.142023\n",
      "[178]\tvalidation_0-merror:0.110403\tvalidation_1-merror:0.142301\n",
      "[179]\tvalidation_0-merror:0.110403\tvalidation_1-merror:0.142301\n"
     ]
    },
    {
     "data": {
      "text/plain": [
       "XGBClassifier(base_score=0.5, booster='gbtree', colsample_bylevel=1,\n",
       "              colsample_bynode=1, colsample_bytree=0.5589969920043588, gamma=0,\n",
       "              learning_rate=0.5099169470416985, max_delta_step=0, max_depth=5,\n",
       "              min_child_weight=2, missing=None, n_estimators=180, n_jobs=1,\n",
       "              nthread=None, objective='multi:softprob', random_state=0,\n",
       "              reg_alpha=0, reg_lambda=1, scale_pos_weight=1, scale_weight=61,\n",
       "              seed=None, silent=None, subsample=1, verbosity=1)"
      ]
     },
     "execution_count": 139,
     "metadata": {},
     "output_type": "execute_result"
    }
   ],
   "source": [
    "xg_classifier.fit(X_train,y_train, eval_set=[(X_train,y_train), (X_valid,y_valid)]) "
   ]
  },
  {
   "cell_type": "code",
   "execution_count": 143,
   "metadata": {},
   "outputs": [],
   "source": [
    "eval_result=xg_calssifier.evals_result()"
   ]
  },
  {
   "cell_type": "code",
   "execution_count": 144,
   "metadata": {},
   "outputs": [],
   "source": [
    "t_round=range(len(eval_result[\"validation_0\"][\"merror\"]))"
   ]
  },
  {
   "cell_type": "code",
   "execution_count": 145,
   "metadata": {},
   "outputs": [],
   "source": [
    "import matplotlib.pyplot as plt\n",
    "%matplotlib inline"
   ]
  },
  {
   "cell_type": "code",
   "execution_count": 147,
   "metadata": {},
   "outputs": [
    {
     "data": {
      "image/png": "[encoded data removed]",
      "text/plain": [
       "<Figure size 432x288 with 1 Axes>"
      ]
     },
     "metadata": {
      "needs_background": "light"
     },
     "output_type": "display_data"
    }
   ],
   "source": [
    "plt.scatter(t_round, eval_result[\"validation_0\"][\"merror\"], label=\" Training Error\")\n",
    "plt.scatter(t_round, eval_result[\"validation_1\"][\"merror\"], label=\" Validation Error\")\n",
    "plt.grid()\n",
    "plt.xlabel(\"Iteration\")\n",
    "plt.ylabel(\"merror\")\n",
    "plt.title(\" XGBoost Taining vs Validation Error\")\n",
    "plt.legend()\n",
    "plt.show()\n",
    "\n"
   ]
  },
  {
   "cell_type": "code",
   "execution_count": 150,
   "metadata": {},
   "outputs": [],
   "source": [
    "import xgboost as xgb"
   ]
  },
  {
   "cell_type": "code",
   "execution_count": 152,
   "metadata": {},
   "outputs": [
    {
     "data": {
      "text/plain": [
       "<matplotlib.axes._subplots.AxesSubplot at 0x124087a30>"
      ]
     },
     "execution_count": 152,
     "metadata": {},
     "output_type": "execute_result"
    },
    {
     "data": {
      "image/png": "[encoded data removed]",
      "text/plain": [
       "<Figure size 432x288 with 1 Axes>"
      ]
     },
     "metadata": {
      "needs_background": "light"
     },
     "output_type": "display_data"
    }
   ],
   "source": [
    "xgb.plot_importance(xg_classifier)"
   ]
  },
  {
   "cell_type": "code",
   "execution_count": null,
   "metadata": {},
   "outputs": [],
   "source": []
  },
  {
   "cell_type": "code",
   "execution_count": null,
   "metadata": {},
   "outputs": [],
   "source": []
  },
  {
   "cell_type": "code",
   "execution_count": 153,
   "metadata": {},
   "outputs": [
    {
     "data": {
      "text/plain": [
       "0.855515420950264"
      ]
     },
     "execution_count": 153,
     "metadata": {},
     "output_type": "execute_result"
    }
   ],
   "source": [
    "clf.score(X_test, y_test)"
   ]
  },
  {
   "cell_type": "code",
   "execution_count": 154,
   "metadata": {},
   "outputs": [
    {
     "data": {
      "text/html": [
       "<div>\n",
       "<style scoped>\n",
       "    .dataframe tbody tr th:only-of-type {\n",
       "        vertical-align: middle;\n",
       "    }\n",
       "\n",
       "    .dataframe tbody tr th {\n",
       "        vertical-align: top;\n",
       "    }\n",
       "\n",
       "    .dataframe thead th {\n",
       "        text-align: right;\n",
       "    }\n",
       "</style>\n",
       "<table border=\"1\" class=\"dataframe\">\n",
       "  <thead>\n",
       "    <tr style=\"text-align: right;\">\n",
       "      <th>col_0</th>\n",
       "      <th>0-60</th>\n",
       "      <th>60-70</th>\n",
       "      <th>70-80</th>\n",
       "    </tr>\n",
       "    <tr>\n",
       "      <th>NAT_MARK</th>\n",
       "      <th></th>\n",
       "      <th></th>\n",
       "      <th></th>\n",
       "    </tr>\n",
       "  </thead>\n",
       "  <tbody>\n",
       "    <tr>\n",
       "      <th>0-60</th>\n",
       "      <td>2716</td>\n",
       "      <td>155</td>\n",
       "      <td>3</td>\n",
       "    </tr>\n",
       "    <tr>\n",
       "      <th>60-70</th>\n",
       "      <td>260</td>\n",
       "      <td>341</td>\n",
       "      <td>21</td>\n",
       "    </tr>\n",
       "    <tr>\n",
       "      <th>70-80</th>\n",
       "      <td>8</td>\n",
       "      <td>67</td>\n",
       "      <td>22</td>\n",
       "    </tr>\n",
       "    <tr>\n",
       "      <th>80-90</th>\n",
       "      <td>1</td>\n",
       "      <td>2</td>\n",
       "      <td>3</td>\n",
       "    </tr>\n",
       "  </tbody>\n",
       "</table>\n",
       "</div>"
      ],
      "text/plain": [
       "col_0     0-60  60-70  70-80\n",
       "NAT_MARK                    \n",
       "0-60      2716    155      3\n",
       "60-70      260    341     21\n",
       "70-80        8     67     22\n",
       "80-90        1      2      3"
      ]
     },
     "execution_count": 154,
     "metadata": {},
     "output_type": "execute_result"
    }
   ],
   "source": [
    "pd.crosstab(y_test, clf.predict(X_test))"
   ]
  },
  {
   "cell_type": "code",
   "execution_count": 162,
   "metadata": {},
   "outputs": [],
   "source": [
    "scores=cross_val_score( clf, X, y,cv=5,  scoring=\"recall_macro\")"
   ]
  },
  {
   "cell_type": "code",
   "execution_count": 163,
   "metadata": {},
   "outputs": [
    {
     "name": "stdout",
     "output_type": "stream",
     "text": [
      "CV Accuracy   0.606 +/-  0.053107044623640326\n"
     ]
    }
   ],
   "source": [
    "print(f'CV Accuracy   {np.mean(scores):.3f} +/-  {np.std(scores)}')"
   ]
  },
  {
   "cell_type": "code",
   "execution_count": 155,
   "metadata": {},
   "outputs": [
    {
     "data": {
      "text/plain": [
       "Pipeline(memory=None,\n",
       "         steps=[('columntransformer',\n",
       "                 ColumnTransformer(n_jobs=None, remainder='passthrough',\n",
       "                                   sparse_threshold=0.3,\n",
       "                                   transformer_weights=None,\n",
       "                                   transformers=[('standardscaler',\n",
       "                                                  StandardScaler(copy=True,\n",
       "                                                                 with_mean=True,\n",
       "                                                                 with_std=True),\n",
       "                                                  ['ACHIEVEMENTS1', 'MIDTERM1',\n",
       "                                                   'FINAL1']),\n",
       "                                                 ('onehotencoder',\n",
       "                                                  OneHotEncoder(categories='auto',\n",
       "                                                                drop=None,\n",
       "                                                                dtype=<class 'num...\n",
       "                               colsample_bylevel=1, colsample_bynode=1,\n",
       "                               colsample_bytree=0.5589969920043588, gamma=0,\n",
       "                               learning_rate=0.5099169470416985,\n",
       "                               max_delta_step=0, max_depth=5,\n",
       "                               min_child_weight=2, missing=None,\n",
       "                               n_estimators=180, n_jobs=1, nthread=-1,\n",
       "                               objective='multi:softprob', random_state=0,\n",
       "                               reg_alpha=0, reg_lambda=1, scale_pos_weight=1,\n",
       "                               scale_weight=61, seed=42, silent=True,\n",
       "                               subsample=1, verbosity=1))],\n",
       "         verbose=False)"
      ]
     },
     "execution_count": 155,
     "metadata": {},
     "output_type": "execute_result"
    }
   ],
   "source": [
    "X_new=X.sample(5, random_state=42)\n",
    "clf.fit(X, y )"
   ]
  },
  {
   "cell_type": "code",
   "execution_count": 163,
   "metadata": {},
   "outputs": [
    {
     "data": {
      "text/plain": [
       "array(['0-60', '0-60', '0-60', ..., '0-60', '60-70', '0-60'], dtype=object)"
      ]
     },
     "execution_count": 163,
     "metadata": {},
     "output_type": "execute_result"
    }
   ],
   "source": [
    "y_pred=clf.predict(X_test)\n",
    "y_pred"
   ]
  },
  {
   "cell_type": "code",
   "execution_count": null,
   "metadata": {},
   "outputs": [],
   "source": [
    "cl=[\"0-60\",\"60-70\" \"70-80\", \"80-90\",\"90-100\"]\n",
    "np.array([ cl[x] for x in y_pred])"
   ]
  },
  {
   "cell_type": "code",
   "execution_count": 164,
   "metadata": {},
   "outputs": [],
   "source": [
    "from sklearn.metrics import confusion_matrix\n",
    "cfm= pd.DataFrame(confusion_matrix(y_test, y_pred))\n",
    "cfm.index.name=\"Actual\"\n",
    "cfm.columns.name=\"Predicted\""
   ]
  },
  {
   "cell_type": "code",
   "execution_count": 165,
   "metadata": {
    "scrolled": true
   },
   "outputs": [
    {
     "data": {
      "text/plain": [
       "<matplotlib.axes._subplots.AxesSubplot at 0x124073790>"
      ]
     },
     "execution_count": 165,
     "metadata": {},
     "output_type": "execute_result"
    },
    {
     "data": {
      "image/png": "[encoded data removed]",
      "text/plain": [
       "<Figure size 720x504 with 2 Axes>"
      ]
     },
     "metadata": {
      "needs_background": "light"
     },
     "output_type": "display_data"
    }
   ],
   "source": [
    "import seaborn  as sns\n",
    "import matplotlib.pyplot as plt\n",
    "%matplotlib  inline\n",
    "plt.figure(figsize=(10,7))\n",
    "sns.heatmap(cfm , cmap=\"Blues\", annot=True, annot_kws={\"size\":16}, fmt=\"g\")"
   ]
  },
  {
   "cell_type": "code",
   "execution_count": 164,
   "metadata": {},
   "outputs": [],
   "source": [
    "from sklearn.model_selection import learning_curve"
   ]
  },
  {
   "cell_type": "code",
   "execution_count": 165,
   "metadata": {},
   "outputs": [],
   "source": [
    "train_sizes, train_scores, test_scores= learning_curve(pipe, X_train, y_train, train_sizes=np.linspace(0.1, 1, 10), \n",
    "                                                      cv=10, n_jobs=-1)"
   ]
  },
  {
   "cell_type": "code",
   "execution_count": null,
   "metadata": {},
   "outputs": [],
   "source": [
    "plt.plot(train_sizes, np.mean(train_scores, axis=1), color=\"blue\", marker='o', markersize=5, label='Training accuracy')\n",
    "plt.fill_between(train_sizes, np.mean(train_scores, axis=1) +np.std(train_scores, axis=1),np.mean(train_scores, axis=1)-  np.std(train_scores,axis=1), alpha=0.15, color=\"green\")\n",
    "\n",
    "\n",
    "plt.plot(train_sizes, np.mean(test_scores, axis=1), color=\"green\", marker=\"s\", linestyle=\"--\", markersize=5, label='Validation accuracy')\n",
    "plt.fill_between(train_sizes, np.mean(test_scores, axis=1) +np.std(test_scores, axis=1),np.mean(test_scores, axis=1)-  np.std(test_scores,axis=1), alpha=.15, color=\"green\")\n",
    "\n",
    "plt.grid()\n",
    "plt.xlabel('Number of training examples')\n",
    "plt.ylabel(\"Accuracy\")\n",
    "plt.legend(loc=\"best\")\n",
    "# plt.ylim([0.8, 1.03])\n",
    "plt.show()"
   ]
  },
  {
   "cell_type": "code",
   "execution_count": null,
   "metadata": {},
   "outputs": [],
   "source": [
    "from sklearn.model_selection import validation_curve\n",
    "from sklearn.linear_model import LogisticRegression\n",
    "param_range=[0.001, 0.01, 0.1,0.2, 0.6, 0.8,  1]\n",
    "train_scores, test_scores= validation_curve(pipe, X_train, y_train, param_name='xgbclassifier__learning_rate',\n",
    "                                            param_range=param_range, cv=10)\n",
    "                                                   \n",
    "\n",
    "plt.plot(param_range, np.mean(train_scores, axis=1), color=\"blue\", marker='o', markersize=5, label='Training accuracy')\n",
    "plt.fill_between(param_range, np.mean(train_scores, axis=1) +np.std(train_scores, axis=1),np.mean(train_scores, axis=1)-  np.std(train_scores,axis=1), alpha=0.15, color=\"green\")\n",
    "\n",
    "\n",
    "plt.plot(param_range, np.mean(test_scores, axis=1), color=\"green\", marker=\"s\", linestyle=\"--\", markersize=5, label='Validation accuracy')\n",
    "plt.fill_between(param_range, np.mean(test_scores, axis=1) +np.std(test_scores, axis=1),np.mean(test_scores, axis=1)-  np.std(test_scores,axis=1), alpha=.15, color=\"green\")\n",
    "\n",
    "plt.grid()\n",
    "plt.xscale('log')\n",
    "plt.ylimit=([0.8, 1])\n",
    "plt.show()"
   ]
  },
  {
   "cell_type": "code",
   "execution_count": 178,
   "metadata": {},
   "outputs": [],
   "source": [
    "x = np.linspace(0, 10, 20)\n",
    "y=x**3"
   ]
  },
  {
   "cell_type": "code",
   "execution_count": 198,
   "metadata": {},
   "outputs": [
    {
     "data": {
      "text/plain": [
       "<matplotlib.legend.Legend at 0x12f69a940>"
      ]
     },
     "execution_count": 198,
     "metadata": {},
     "output_type": "execute_result"
    },
    {
     "data": {
      "image/png": "[encoded data removed]",
      "text/plain": [
       "<Figure size 576x576 with 1 Axes>"
      ]
     },
     "metadata": {
      "needs_background": "light"
     },
     "output_type": "display_data"
    }
   ],
   "source": [
    "plt.figure(figsize=(8,8))\n",
    "plt.plot(x,y, \"--r\", label=\"Cubed\")\n",
    "plt.plot(x, x**2, \"D-k\", label=\"squared\")\n",
    "plt.legend()"
   ]
  },
  {
   "cell_type": "code",
   "execution_count": 201,
   "metadata": {},
   "outputs": [
    {
     "data": {
      "text/plain": [
       "<BarContainer object of 4 artists>"
      ]
     },
     "execution_count": 201,
     "metadata": {},
     "output_type": "execute_result"
    },
    {
     "data": {
      "image/png": "[encoded data removed]",
      "text/plain": [
       "<Figure size 432x288 with 1 Axes>"
      ]
     },
     "metadata": {
      "needs_background": "light"
     },
     "output_type": "display_data"
    }
   ],
   "source": [
    "x = ['Shirts', 'Pants','Shorts','Shoes']\n",
    "y = [1000, 1200, 800, 1800]\n",
    "plt.title('Sales Revenue by Item Type')\n",
    "plt.xlabel('Item Type')\n",
    "plt.ylabel('Sales Revenue ($)')\n",
    "plt.bar(x, y)"
   ]
  },
  {
   "cell_type": "code",
   "execution_count": 219,
   "metadata": {},
   "outputs": [
    {
     "data": {
      "image/png": "[encoded data removed]",
      "text/plain": [
       "<Figure size 432x288 with 1 Axes>"
      ]
     },
     "metadata": {
      "needs_background": "light"
     },
     "output_type": "display_data"
    }
   ],
   "source": [
    "y = np.random.normal(loc=0, scale=0.1, size=100)\n",
    "plt.boxplot(y)\n",
    "plt.show()"
   ]
  },
  {
   "cell_type": "code",
   "execution_count": 222,
   "metadata": {},
   "outputs": [
    {
     "data": {
      "text/plain": [
       "(0.9883351922035217, 0.5332409739494324)"
      ]
     },
     "execution_count": 222,
     "metadata": {},
     "output_type": "execute_result"
    }
   ],
   "source": [
    "from scipy.stats import shapiro\n",
    "shap_w, shap_p = shapiro(y)\n",
    "shap_w, shap_p"
   ]
  },
  {
   "cell_type": "code",
   "execution_count": 224,
   "metadata": {},
   "outputs": [
    {
     "data": {
      "text/plain": [
       "array([ 1.84985278,  0.59857334, -0.3655068 , -0.32830673, -0.45625589,\n",
       "       -1.46301811, -2.06804379,  1.10111998,  0.53067051,  0.65337857,\n",
       "        1.58216738, -0.67925651, -0.84107592,  0.88786471, -0.30885621,\n",
       "       -1.59341962,  0.82134266, -2.38422976,  0.64571851,  0.55556519,\n",
       "        0.57766206, -0.56996236, -0.00597515,  1.16435065, -0.26369217,\n",
       "        0.4725421 ,  0.54416465,  0.32287113,  0.47121129, -0.54455489,\n",
       "        0.31115413,  0.16904268, -0.27476562, -0.51786687, -0.61808481,\n",
       "       -1.29094958,  1.05440174, -1.07983034,  0.57014901,  0.17254821,\n",
       "       -0.53248268,  0.13444334,  0.9065548 ,  0.18005671,  0.33855   ,\n",
       "       -2.60010946, -0.20293402,  0.79380344, -0.78623995, -0.50492544,\n",
       "        0.68956566,  1.87391332, -1.02743568, -1.73285002, -0.89180849,\n",
       "        0.08293444, -0.73717548,  0.42153779,  0.23147935,  0.37277941,\n",
       "        0.02773516, -1.29767419, -0.01605787, -0.19999461, -0.10620994,\n",
       "       -0.626005  ,  0.6500764 ,  0.46909196,  2.36890505,  0.16215782,\n",
       "        0.46267272, -0.77403499,  2.97297097,  2.36135134, -0.22497676,\n",
       "       -0.443803  ,  1.7306093 , -0.902396  ,  0.00334951, -0.52949901,\n",
       "        0.65863919, -1.64278274, -0.58207153,  1.09087721, -0.98675825,\n",
       "       -0.56016863,  0.89812215,  0.21467379, -1.66733245, -1.45101413,\n",
       "       -0.50963542,  1.68807286, -1.03150807,  0.29363815,  0.35305576,\n",
       "        0.96929384, -0.32227905, -0.00413531, -0.4273141 ,  0.51800065])"
      ]
     },
     "execution_count": 224,
     "metadata": {},
     "output_type": "execute_result"
    }
   ],
   "source": [
    "from scipy.stats import zscore\n",
    "y_z_scores = zscore(y)\n",
    "y_z_scores"
   ]
  },
  {
   "cell_type": "code",
   "execution_count": null,
   "metadata": {},
   "outputs": [],
   "source": []
  },
  {
   "cell_type": "code",
   "execution_count": null,
   "metadata": {},
   "outputs": [],
   "source": []
  },
  {
   "cell_type": "code",
   "execution_count": 45,
   "metadata": {},
   "outputs": [],
   "source": [
    "def plotGraph(x, y1, y2, y1std, y2std, scl, lbl):    \n",
    "    plt.plot(x, \n",
    "             y1, \n",
    "                     color=\"blue\", marker=\"o\", markersize=5, label=\"Training Accuracy\")\n",
    "    plt.fill_between(\n",
    "        x, \n",
    "        y1 +y1std, \n",
    "        y1-y1std, \n",
    "                        color=\"blue\", alpha=0.15)\n",
    "\n",
    "    plt.plot(x, \n",
    "             y2, \n",
    "                     color=\"green\", marker=\"s\",linestyle=\"--\", markersize=5, label=\"Validation Accuracy\")\n",
    "    plt.fill_between(\n",
    "                    x, \n",
    "                    y2 +y2std, \n",
    "                    y2-y2std, \n",
    "                        color=\"green\", alpha=0.15)\n",
    "\n",
    "    plt.grid()\n",
    "    plt.xlabel(lbl) #\" Number of Training Example\")\n",
    "    plt.xscale(scl)\n",
    "    plt.ylabel(\"Accuracy \")\n",
    "    plt.legend(loc=\"lower right\")\n",
    "    plt.ylim([0.8, 1.01])\n",
    "    plt.show()"
   ]
  },
  {
   "cell_type": "code",
   "execution_count": null,
   "metadata": {},
   "outputs": [],
   "source": []
  }
 ],
 "metadata": {
  "kernelspec": {
   "display_name": "Python 3",
   "language": "python",
   "name": "python3"
  },
  "language_info": {
   "codemirror_mode": {
    "name": "ipython",
    "version": 3
   },
   "file_extension": ".py",
   "mimetype": "text/x-python",
   "name": "python",
   "nbconvert_exporter": "python",
   "pygments_lexer": "ipython3",
   "version": "3.8.2"
  }
 },
 "nbformat": 4,
 "nbformat_minor": 2
}
