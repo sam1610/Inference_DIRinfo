{
  "nbformat": 4,
  "nbformat_minor": 0,
  "metadata": {
    "colab": {
      "name": "30-7-21.ipynb",
      "provenance": [],
      "collapsed_sections": [
        "5OqT2GQ7API0",
        "RdbXWVTgJQTf",
        "1ybef0cqDkUV",
        "3Rmmb_lSRFqK",
        "A9G8SNC1O-fL",
        "sNsHFqK_QWeV",
        "6lOSMFYyxO43",
        "ST9xpUUMoDsv",
        "lT8hkF0GZmi0",
        "xlXC8vTMCYkX",
        "mODye3CkyDIh",
        "rxJumxSTO7S9",
        "Z9gewdIt7G0R",
        "QGo9gyGnQ2n1",
        "riEnovF6Zlby",
        "38vV0zLxkgSz",
        "jBzyAOXftLVP"
      ],
      "include_colab_link": true
    },
    "kernelspec": {
      "display_name": "Python 3",
      "name": "python3"
    },
    "language_info": {
      "name": "python"
    },
    "widgets": {
      "application/vnd.jupyter.widget-state+json": {
        "64c628d7709b4243808c580ac9213999": {
          "model_module": "@jupyter-widgets/controls",
          "model_name": "VBoxModel",
          "state": {
            "_view_name": "VBoxView",
            "_dom_classes": [
              "widget-interact"
            ],
            "_model_name": "VBoxModel",
            "_view_module": "@jupyter-widgets/controls",
            "_model_module_version": "1.5.0",
            "_view_count": null,
            "_view_module_version": "1.5.0",
            "box_style": "",
            "layout": "IPY_MODEL_71dc8b7dbf644efe81d23fd9fc43eee2",
            "_model_module": "@jupyter-widgets/controls",
            "children": [
              "IPY_MODEL_0e6cbc8713f543dba4ad0fdc2e314f90",
              "IPY_MODEL_adfff109229e44299b017d45aa15a992",
              "IPY_MODEL_99c23e4a65264a7b9adfa70569f1bc49",
              "IPY_MODEL_454e6dba24c14d3c82c553abe08aa27f",
              "IPY_MODEL_18093ab8f8264f80a2d7115444262f75"
            ]
          }
        },
        "71dc8b7dbf644efe81d23fd9fc43eee2": {
          "model_module": "@jupyter-widgets/base",
          "model_name": "LayoutModel",
          "state": {
            "_view_name": "LayoutView",
            "grid_template_rows": null,
            "right": null,
            "justify_content": null,
            "_view_module": "@jupyter-widgets/base",
            "overflow": null,
            "_model_module_version": "1.2.0",
            "_view_count": null,
            "flex_flow": null,
            "width": null,
            "min_width": null,
            "border": null,
            "align_items": null,
            "bottom": null,
            "_model_module": "@jupyter-widgets/base",
            "top": null,
            "grid_column": null,
            "overflow_y": null,
            "overflow_x": null,
            "grid_auto_flow": null,
            "grid_area": null,
            "grid_template_columns": null,
            "flex": null,
            "_model_name": "LayoutModel",
            "justify_items": null,
            "grid_row": null,
            "max_height": null,
            "align_content": null,
            "visibility": null,
            "align_self": null,
            "height": null,
            "min_height": null,
            "padding": null,
            "grid_auto_rows": null,
            "grid_gap": null,
            "max_width": null,
            "order": null,
            "_view_module_version": "1.2.0",
            "grid_template_areas": null,
            "object_position": null,
            "object_fit": null,
            "grid_auto_columns": null,
            "margin": null,
            "display": null,
            "left": null
          }
        },
        "0e6cbc8713f543dba4ad0fdc2e314f90": {
          "model_module": "@jupyter-widgets/controls",
          "model_name": "DropdownModel",
          "state": {
            "_options_labels": [
              "080748524S",
              "090904691S",
              "060991839S",
              "071059051S",
              "071223506S"
            ],
            "_view_name": "DropdownView",
            "style": "IPY_MODEL_79be753b9d0346bb8dd015993f9210de",
            "_dom_classes": [],
            "description": "st",
            "_model_name": "DropdownModel",
            "index": 0,
            "_view_module": "@jupyter-widgets/controls",
            "_model_module_version": "1.5.0",
            "_view_count": null,
            "disabled": false,
            "_view_module_version": "1.5.0",
            "description_tooltip": null,
            "_model_module": "@jupyter-widgets/controls",
            "layout": "IPY_MODEL_124ae2c70d734c5eb49e05000aa8a0fa"
          }
        },
        "adfff109229e44299b017d45aa15a992": {
          "model_module": "@jupyter-widgets/controls",
          "model_name": "DropdownModel",
          "state": {
            "_options_labels": [
              "g5_3",
              "g5_2",
              "g5_1"
            ],
            "_view_name": "DropdownView",
            "style": "IPY_MODEL_a1687ed670b74caba457c51780893a56",
            "_dom_classes": [],
            "description": "cs",
            "_model_name": "DropdownModel",
            "index": 0,
            "_view_module": "@jupyter-widgets/controls",
            "_model_module_version": "1.5.0",
            "_view_count": null,
            "disabled": false,
            "_view_module_version": "1.5.0",
            "description_tooltip": null,
            "_model_module": "@jupyter-widgets/controls",
            "layout": "IPY_MODEL_92faab5f6b1041699cc19172c18581a7"
          }
        },
        "99c23e4a65264a7b9adfa70569f1bc49": {
          "model_module": "@jupyter-widgets/controls",
          "model_name": "DatePickerModel",
          "state": {
            "_view_name": "DatePickerView",
            "style": "IPY_MODEL_4d6b3d9d24eb439cbc28ab8a67f5e1a7",
            "_dom_classes": [],
            "description": "ابتداءًا من تاريخ",
            "_model_name": "DatePickerModel",
            "_view_module": "@jupyter-widgets/controls",
            "_model_module_version": "1.5.0",
            "value": {
              "date": 1,
              "month": 0,
              "year": 2020
            },
            "_view_count": null,
            "disabled": false,
            "_view_module_version": "1.5.0",
            "description_tooltip": null,
            "_model_module": "@jupyter-widgets/controls",
            "layout": "IPY_MODEL_ec9d4178e191437c8c7ef879b9a6a25f"
          }
        },
        "454e6dba24c14d3c82c553abe08aa27f": {
          "model_module": "@jupyter-widgets/controls",
          "model_name": "CheckboxModel",
          "state": {
            "_view_name": "CheckboxView",
            "style": "IPY_MODEL_2530eca8814944c4817d68c1ae50181d",
            "_dom_classes": [],
            "description": "Quizz",
            "_model_name": "CheckboxModel",
            "_view_module": "@jupyter-widgets/controls",
            "_model_module_version": "1.5.0",
            "value": false,
            "_view_count": null,
            "disabled": false,
            "_view_module_version": "1.5.0",
            "indent": true,
            "description_tooltip": null,
            "_model_module": "@jupyter-widgets/controls",
            "layout": "IPY_MODEL_b083d22bf62c4cdc8ad75f1518df381a"
          }
        },
        "18093ab8f8264f80a2d7115444262f75": {
          "model_module": "@jupyter-widgets/output",
          "model_name": "OutputModel",
          "state": {
            "_view_name": "OutputView",
            "msg_id": "",
            "_dom_classes": [],
            "_model_name": "OutputModel",
            "outputs": [
              {
                "output_type": "stream",
                "metadata": {
                  "tags": []
                },
                "text": "A\n",
                "stream": "stdout"
              },
              {
                "output_type": "display_data",
                "metadata": {
                  "tags": [],
                  "needs_background": "light"
                },
                "image/png": "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\n",
                "text/plain": "<Figure size 1440x720 with 2 Axes>"
              },
              {
                "output_type": "display_data",
                "metadata": {
                  "tags": []
                },
                "text/html": "<a href=https://www.khanacademy.org/math/cc-sixth-grade-math/cc-6th-data-statistics/cc-6th-box-whisker-plots/v/constructing-a-box-and-whisker-plot?modal=1 target='_blank' style='font-size:1.3em'>Constructing a box plot</a>",
                "text/plain": "<IPython.core.display.HTML object>"
              },
              {
                "output_type": "display_data",
                "metadata": {
                  "tags": []
                },
                "text/html": "<a href=https://www.khanacademy.org/math/cc-sixth-grade-math/cc-6th-data-statistics/cc-6th-mean-median-challenge/a/mean-as-the-balancing-point?modal=1 target='_blank' style='font-size:1.3em'>Mean as the balancing point</a>",
                "text/plain": "<IPython.core.display.HTML object>"
              },
              {
                "output_type": "display_data",
                "metadata": {
                  "tags": []
                },
                "text/html": "<a href=https://www.khanacademy.org/math/cc-sixth-grade-math/cc-6th-data-statistics/cc-6th-mean-median-challenge/v/using-mean-to-find-missing-value?modal=1 target='_blank' style='font-size:1.3em'>Missing value given the mean</a>",
                "text/plain": "<IPython.core.display.HTML object>"
              },
              {
                "output_type": "display_data",
                "metadata": {
                  "tags": []
                },
                "text/html": "<a href=https://www.khanacademy.org/math/cc-sixth-grade-math/cc-6th-data-statistics/cc-6th-box-whisker-plots/v/interpreting-box-plots?modal=1 target='_blank' style='font-size:1.3em'>Worked example: Interpreting a box plot</a>",
                "text/plain": "<IPython.core.display.HTML object>"
              },
              {
                "output_type": "display_data",
                "metadata": {
                  "tags": []
                },
                "text/html": "<a href=https://www.khanacademy.org/math/cc-sixth-grade-math/cc-6th-data-statistics/cc-6th-box-whisker-plots/v/constructing-a-box-and-whisker-plot?modal=1 target='_blank' style='font-size:1.3em'>Worked example: Creating box plot (even number of data points)</a>",
                "text/plain": "<IPython.core.display.HTML object>"
              },
              {
                "output_type": "display_data",
                "metadata": {
                  "tags": []
                },
                "text/html": "<a href=https://www.khanacademy.org/math/cc-sixth-grade-math/cc-6th-data-statistics/cc-6th-box-whisker-plots/v/box-and-whisker-plot-exercise-example?modal=1 target='_blank' style='font-size:1.3em'>Worked example: Creating box plot (odd number of data points)</a>",
                "text/plain": "<IPython.core.display.HTML object>"
              },
              {
                "output_type": "display_data",
                "metadata": {
                  "tags": []
                },
                "text/html": "<a href=https://www.khanacademy.org/math/cc-sixth-grade-math/cc-6th-data-statistics/histograms/v/interpreting-histograms?modal=1 target='_blank' style='font-size:1.3em'>Interpreting a histogram</a>",
                "text/plain": "<IPython.core.display.HTML object>"
              },
              {
                "output_type": "display_data",
                "metadata": {
                  "tags": []
                },
                "text/html": "<a href=https://www.khanacademy.org/math/cc-sixth-grade-math/cc-6th-data-statistics/histograms/v/histograms-intro?modal=1 target='_blank' style='font-size:1.3em'>Creating a histogram</a>",
                "text/plain": "<IPython.core.display.HTML object>"
              },
              {
                "output_type": "display_data",
                "metadata": {
                  "tags": []
                },
                "text/html": "<a href=https://www.khanacademy.org/math/cc-sixth-grade-math/cc-6th-data-statistics/cc-6-statistical-questions/v/understanding-statistical-questions?modal=1 target='_blank' style='font-size:1.3em'>Statistical questions</a>",
                "text/plain": "<IPython.core.display.HTML object>"
              }
            ],
            "_view_module": "@jupyter-widgets/output",
            "_model_module_version": "1.0.0",
            "_view_count": null,
            "_view_module_version": "1.0.0",
            "layout": "IPY_MODEL_34741c62e8984e6a88810fa030a4bd13",
            "_model_module": "@jupyter-widgets/output"
          }
        },
        "79be753b9d0346bb8dd015993f9210de": {
          "model_module": "@jupyter-widgets/controls",
          "model_name": "DescriptionStyleModel",
          "state": {
            "_view_name": "StyleView",
            "_model_name": "DescriptionStyleModel",
            "description_width": "",
            "_view_module": "@jupyter-widgets/base",
            "_model_module_version": "1.5.0",
            "_view_count": null,
            "_view_module_version": "1.2.0",
            "_model_module": "@jupyter-widgets/controls"
          }
        },
        "124ae2c70d734c5eb49e05000aa8a0fa": {
          "model_module": "@jupyter-widgets/base",
          "model_name": "LayoutModel",
          "state": {
            "_view_name": "LayoutView",
            "grid_template_rows": null,
            "right": null,
            "justify_content": null,
            "_view_module": "@jupyter-widgets/base",
            "overflow": null,
            "_model_module_version": "1.2.0",
            "_view_count": null,
            "flex_flow": null,
            "width": null,
            "min_width": null,
            "border": null,
            "align_items": null,
            "bottom": null,
            "_model_module": "@jupyter-widgets/base",
            "top": null,
            "grid_column": null,
            "overflow_y": null,
            "overflow_x": null,
            "grid_auto_flow": null,
            "grid_area": null,
            "grid_template_columns": null,
            "flex": null,
            "_model_name": "LayoutModel",
            "justify_items": null,
            "grid_row": null,
            "max_height": null,
            "align_content": null,
            "visibility": null,
            "align_self": null,
            "height": null,
            "min_height": null,
            "padding": null,
            "grid_auto_rows": null,
            "grid_gap": null,
            "max_width": null,
            "order": null,
            "_view_module_version": "1.2.0",
            "grid_template_areas": null,
            "object_position": null,
            "object_fit": null,
            "grid_auto_columns": null,
            "margin": null,
            "display": null,
            "left": null
          }
        },
        "a1687ed670b74caba457c51780893a56": {
          "model_module": "@jupyter-widgets/controls",
          "model_name": "DescriptionStyleModel",
          "state": {
            "_view_name": "StyleView",
            "_model_name": "DescriptionStyleModel",
            "description_width": "",
            "_view_module": "@jupyter-widgets/base",
            "_model_module_version": "1.5.0",
            "_view_count": null,
            "_view_module_version": "1.2.0",
            "_model_module": "@jupyter-widgets/controls"
          }
        },
        "92faab5f6b1041699cc19172c18581a7": {
          "model_module": "@jupyter-widgets/base",
          "model_name": "LayoutModel",
          "state": {
            "_view_name": "LayoutView",
            "grid_template_rows": null,
            "right": null,
            "justify_content": null,
            "_view_module": "@jupyter-widgets/base",
            "overflow": null,
            "_model_module_version": "1.2.0",
            "_view_count": null,
            "flex_flow": null,
            "width": null,
            "min_width": null,
            "border": null,
            "align_items": null,
            "bottom": null,
            "_model_module": "@jupyter-widgets/base",
            "top": null,
            "grid_column": null,
            "overflow_y": null,
            "overflow_x": null,
            "grid_auto_flow": null,
            "grid_area": null,
            "grid_template_columns": null,
            "flex": null,
            "_model_name": "LayoutModel",
            "justify_items": null,
            "grid_row": null,
            "max_height": null,
            "align_content": null,
            "visibility": null,
            "align_self": null,
            "height": null,
            "min_height": null,
            "padding": null,
            "grid_auto_rows": null,
            "grid_gap": null,
            "max_width": null,
            "order": null,
            "_view_module_version": "1.2.0",
            "grid_template_areas": null,
            "object_position": null,
            "object_fit": null,
            "grid_auto_columns": null,
            "margin": null,
            "display": null,
            "left": null
          }
        },
        "4d6b3d9d24eb439cbc28ab8a67f5e1a7": {
          "model_module": "@jupyter-widgets/controls",
          "model_name": "DescriptionStyleModel",
          "state": {
            "_view_name": "StyleView",
            "_model_name": "DescriptionStyleModel",
            "description_width": "",
            "_view_module": "@jupyter-widgets/base",
            "_model_module_version": "1.5.0",
            "_view_count": null,
            "_view_module_version": "1.2.0",
            "_model_module": "@jupyter-widgets/controls"
          }
        },
        "ec9d4178e191437c8c7ef879b9a6a25f": {
          "model_module": "@jupyter-widgets/base",
          "model_name": "LayoutModel",
          "state": {
            "_view_name": "LayoutView",
            "grid_template_rows": null,
            "right": null,
            "justify_content": null,
            "_view_module": "@jupyter-widgets/base",
            "overflow": null,
            "_model_module_version": "1.2.0",
            "_view_count": null,
            "flex_flow": null,
            "width": null,
            "min_width": null,
            "border": null,
            "align_items": null,
            "bottom": null,
            "_model_module": "@jupyter-widgets/base",
            "top": null,
            "grid_column": null,
            "overflow_y": null,
            "overflow_x": null,
            "grid_auto_flow": null,
            "grid_area": null,
            "grid_template_columns": null,
            "flex": null,
            "_model_name": "LayoutModel",
            "justify_items": null,
            "grid_row": null,
            "max_height": null,
            "align_content": null,
            "visibility": null,
            "align_self": null,
            "height": null,
            "min_height": null,
            "padding": null,
            "grid_auto_rows": null,
            "grid_gap": null,
            "max_width": null,
            "order": null,
            "_view_module_version": "1.2.0",
            "grid_template_areas": null,
            "object_position": null,
            "object_fit": null,
            "grid_auto_columns": null,
            "margin": null,
            "display": null,
            "left": null
          }
        },
        "2530eca8814944c4817d68c1ae50181d": {
          "model_module": "@jupyter-widgets/controls",
          "model_name": "DescriptionStyleModel",
          "state": {
            "_view_name": "StyleView",
            "_model_name": "DescriptionStyleModel",
            "description_width": "",
            "_view_module": "@jupyter-widgets/base",
            "_model_module_version": "1.5.0",
            "_view_count": null,
            "_view_module_version": "1.2.0",
            "_model_module": "@jupyter-widgets/controls"
          }
        },
        "b083d22bf62c4cdc8ad75f1518df381a": {
          "model_module": "@jupyter-widgets/base",
          "model_name": "LayoutModel",
          "state": {
            "_view_name": "LayoutView",
            "grid_template_rows": null,
            "right": null,
            "justify_content": null,
            "_view_module": "@jupyter-widgets/base",
            "overflow": null,
            "_model_module_version": "1.2.0",
            "_view_count": null,
            "flex_flow": null,
            "width": null,
            "min_width": null,
            "border": null,
            "align_items": null,
            "bottom": null,
            "_model_module": "@jupyter-widgets/base",
            "top": null,
            "grid_column": null,
            "overflow_y": null,
            "overflow_x": null,
            "grid_auto_flow": null,
            "grid_area": null,
            "grid_template_columns": null,
            "flex": null,
            "_model_name": "LayoutModel",
            "justify_items": null,
            "grid_row": null,
            "max_height": null,
            "align_content": null,
            "visibility": null,
            "align_self": null,
            "height": null,
            "min_height": null,
            "padding": null,
            "grid_auto_rows": null,
            "grid_gap": null,
            "max_width": null,
            "order": null,
            "_view_module_version": "1.2.0",
            "grid_template_areas": null,
            "object_position": null,
            "object_fit": null,
            "grid_auto_columns": null,
            "margin": null,
            "display": null,
            "left": null
          }
        },
        "34741c62e8984e6a88810fa030a4bd13": {
          "model_module": "@jupyter-widgets/base",
          "model_name": "LayoutModel",
          "state": {
            "_view_name": "LayoutView",
            "grid_template_rows": null,
            "right": null,
            "justify_content": null,
            "_view_module": "@jupyter-widgets/base",
            "overflow": null,
            "_model_module_version": "1.2.0",
            "_view_count": null,
            "flex_flow": null,
            "width": null,
            "min_width": null,
            "border": null,
            "align_items": null,
            "bottom": null,
            "_model_module": "@jupyter-widgets/base",
            "top": null,
            "grid_column": null,
            "overflow_y": null,
            "overflow_x": null,
            "grid_auto_flow": null,
            "grid_area": null,
            "grid_template_columns": null,
            "flex": null,
            "_model_name": "LayoutModel",
            "justify_items": null,
            "grid_row": null,
            "max_height": null,
            "align_content": null,
            "visibility": null,
            "align_self": null,
            "height": null,
            "min_height": null,
            "padding": null,
            "grid_auto_rows": null,
            "grid_gap": null,
            "max_width": null,
            "order": null,
            "_view_module_version": "1.2.0",
            "grid_template_areas": null,
            "object_position": null,
            "object_fit": null,
            "grid_auto_columns": null,
            "margin": null,
            "display": null,
            "left": null
          }
        },
        "0a39b2fab0834dd5b20efffdc0ec3257": {
          "model_module": "@jupyter-widgets/controls",
          "model_name": "VBoxModel",
          "state": {
            "_view_name": "VBoxView",
            "_dom_classes": [
              "widget-interact"
            ],
            "_model_name": "VBoxModel",
            "_view_module": "@jupyter-widgets/controls",
            "_model_module_version": "1.5.0",
            "_view_count": null,
            "_view_module_version": "1.5.0",
            "box_style": "",
            "layout": "IPY_MODEL_b89e31f18dda4eb78740beb432e1ad78",
            "_model_module": "@jupyter-widgets/controls",
            "children": [
              "IPY_MODEL_4de015f77fac4d61a8306583e6012227",
              "IPY_MODEL_90295b2acb524864a947daa8228fb415",
              "IPY_MODEL_09f3afbe5e5d42a092859bb4115df7ba",
              "IPY_MODEL_218fcca95b614b5db4a252776d36caae"
            ]
          }
        },
        "b89e31f18dda4eb78740beb432e1ad78": {
          "model_module": "@jupyter-widgets/base",
          "model_name": "LayoutModel",
          "state": {
            "_view_name": "LayoutView",
            "grid_template_rows": null,
            "right": null,
            "justify_content": null,
            "_view_module": "@jupyter-widgets/base",
            "overflow": null,
            "_model_module_version": "1.2.0",
            "_view_count": null,
            "flex_flow": null,
            "width": null,
            "min_width": null,
            "border": null,
            "align_items": null,
            "bottom": null,
            "_model_module": "@jupyter-widgets/base",
            "top": null,
            "grid_column": null,
            "overflow_y": null,
            "overflow_x": null,
            "grid_auto_flow": null,
            "grid_area": null,
            "grid_template_columns": null,
            "flex": null,
            "_model_name": "LayoutModel",
            "justify_items": null,
            "grid_row": null,
            "max_height": null,
            "align_content": null,
            "visibility": null,
            "align_self": null,
            "height": null,
            "min_height": null,
            "padding": null,
            "grid_auto_rows": null,
            "grid_gap": null,
            "max_width": null,
            "order": null,
            "_view_module_version": "1.2.0",
            "grid_template_areas": null,
            "object_position": null,
            "object_fit": null,
            "grid_auto_columns": null,
            "margin": null,
            "display": null,
            "left": null
          }
        },
        "4de015f77fac4d61a8306583e6012227": {
          "model_module": "@jupyter-widgets/controls",
          "model_name": "DropdownModel",
          "state": {
            "_options_labels": [
              "080748524S",
              "090904691S",
              "060991839S",
              "071059051S",
              "071223506S"
            ],
            "_view_name": "DropdownView",
            "style": "IPY_MODEL_c424004a7f6945eb981b3582000fc9e6",
            "_dom_classes": [],
            "description": "st",
            "_model_name": "DropdownModel",
            "index": 0,
            "_view_module": "@jupyter-widgets/controls",
            "_model_module_version": "1.5.0",
            "_view_count": null,
            "disabled": false,
            "_view_module_version": "1.5.0",
            "description_tooltip": null,
            "_model_module": "@jupyter-widgets/controls",
            "layout": "IPY_MODEL_8cdd95b25a964b90ade4185230a1f283"
          }
        },
        "90295b2acb524864a947daa8228fb415": {
          "model_module": "@jupyter-widgets/controls",
          "model_name": "DropdownModel",
          "state": {
            "_options_labels": [
              "g5_3",
              "g5_2",
              "g5_1"
            ],
            "_view_name": "DropdownView",
            "style": "IPY_MODEL_2d8cd33d2b4549d4b733e6f2dcb6bdf1",
            "_dom_classes": [],
            "description": "cs",
            "_model_name": "DropdownModel",
            "index": 0,
            "_view_module": "@jupyter-widgets/controls",
            "_model_module_version": "1.5.0",
            "_view_count": null,
            "disabled": false,
            "_view_module_version": "1.5.0",
            "description_tooltip": null,
            "_model_module": "@jupyter-widgets/controls",
            "layout": "IPY_MODEL_395034341fa34a11adea19a9d1531941"
          }
        },
        "09f3afbe5e5d42a092859bb4115df7ba": {
          "model_module": "@jupyter-widgets/controls",
          "model_name": "DatePickerModel",
          "state": {
            "_view_name": "DatePickerView",
            "style": "IPY_MODEL_3b7b4a5886124338bd14b19399cf5feb",
            "_dom_classes": [],
            "description": "Starting date",
            "_model_name": "DatePickerModel",
            "_view_module": "@jupyter-widgets/controls",
            "_model_module_version": "1.5.0",
            "value": {
              "date": 1,
              "month": 0,
              "year": 2020
            },
            "_view_count": null,
            "disabled": false,
            "_view_module_version": "1.5.0",
            "description_tooltip": null,
            "_model_module": "@jupyter-widgets/controls",
            "layout": "IPY_MODEL_de3220b6efe74b2d924f475e7dffc3f4"
          }
        },
        "218fcca95b614b5db4a252776d36caae": {
          "model_module": "@jupyter-widgets/output",
          "model_name": "OutputModel",
          "state": {
            "_view_name": "OutputView",
            "msg_id": "",
            "_dom_classes": [],
            "_model_name": "OutputModel",
            "outputs": [
              {
                "output_type": "display_data",
                "metadata": {
                  "tags": [],
                  "needs_background": "light"
                },
                "image/png": "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\n",
                "text/plain": "<Figure size 1440x576 with 1 Axes>"
              },
              {
                "output_type": "display_data",
                "metadata": {
                  "tags": []
                },
                "text/html": "<a href=https://www.khanacademy.org/math/cc-sixth-grade-math/cc-6th-data-statistics/mean-and-median/v/statistics-intro-mean-median-and-mode?modal=1 target='_blank' style='font-size:1.3em'>Statistics Intro: Mean, Median & Mode</a>",
                "text/plain": "<IPython.core.display.HTML object>"
              },
              {
                "output_type": "display_data",
                "metadata": {
                  "tags": []
                },
                "text/html": "<a href=https://www.khanacademy.org/math/cc-sixth-grade-math/cc-6th-data-statistics/cc-6th-mean-median-challenge/a/mean-as-the-balancing-point?modal=1 target='_blank' style='font-size:1.3em'>Mean as the balancing point</a>",
                "text/plain": "<IPython.core.display.HTML object>"
              },
              {
                "output_type": "display_data",
                "metadata": {
                  "tags": []
                },
                "text/html": "<a href=https://www.khanacademy.org/math/cc-sixth-grade-math/cc-6th-data-statistics/cc-6th-box-whisker-plots/v/constructing-a-box-and-whisker-plot?modal=1 target='_blank' style='font-size:1.3em'>Constructing a box plot</a>",
                "text/plain": "<IPython.core.display.HTML object>"
              },
              {
                "output_type": "display_data",
                "metadata": {
                  "tags": []
                },
                "text/html": "<a href=https://www.khanacademy.org/math/cc-sixth-grade-math/cc-6th-data-statistics/cc-6th-box-whisker-plots/v/constructing-a-box-and-whisker-plot?modal=1 target='_blank' style='font-size:1.3em'>Worked example: Creating box plot (even number of data points)</a>",
                "text/plain": "<IPython.core.display.HTML object>"
              },
              {
                "output_type": "display_data",
                "metadata": {
                  "tags": []
                },
                "text/html": "<a href=https://www.khanacademy.org/math/cc-sixth-grade-math/cc-6th-data-statistics/cc-6-shape-of-data/v/shapes-of-distributions?modal=1 target='_blank' style='font-size:1.3em'>Shape of distributions</a>",
                "text/plain": "<IPython.core.display.HTML object>"
              }
            ],
            "_view_module": "@jupyter-widgets/output",
            "_model_module_version": "1.0.0",
            "_view_count": null,
            "_view_module_version": "1.0.0",
            "layout": "IPY_MODEL_ee51749647b64c10ba4e634ec81636cb",
            "_model_module": "@jupyter-widgets/output"
          }
        },
        "c424004a7f6945eb981b3582000fc9e6": {
          "model_module": "@jupyter-widgets/controls",
          "model_name": "DescriptionStyleModel",
          "state": {
            "_view_name": "StyleView",
            "_model_name": "DescriptionStyleModel",
            "description_width": "",
            "_view_module": "@jupyter-widgets/base",
            "_model_module_version": "1.5.0",
            "_view_count": null,
            "_view_module_version": "1.2.0",
            "_model_module": "@jupyter-widgets/controls"
          }
        },
        "8cdd95b25a964b90ade4185230a1f283": {
          "model_module": "@jupyter-widgets/base",
          "model_name": "LayoutModel",
          "state": {
            "_view_name": "LayoutView",
            "grid_template_rows": null,
            "right": null,
            "justify_content": null,
            "_view_module": "@jupyter-widgets/base",
            "overflow": null,
            "_model_module_version": "1.2.0",
            "_view_count": null,
            "flex_flow": null,
            "width": null,
            "min_width": null,
            "border": null,
            "align_items": null,
            "bottom": null,
            "_model_module": "@jupyter-widgets/base",
            "top": null,
            "grid_column": null,
            "overflow_y": null,
            "overflow_x": null,
            "grid_auto_flow": null,
            "grid_area": null,
            "grid_template_columns": null,
            "flex": null,
            "_model_name": "LayoutModel",
            "justify_items": null,
            "grid_row": null,
            "max_height": null,
            "align_content": null,
            "visibility": null,
            "align_self": null,
            "height": null,
            "min_height": null,
            "padding": null,
            "grid_auto_rows": null,
            "grid_gap": null,
            "max_width": null,
            "order": null,
            "_view_module_version": "1.2.0",
            "grid_template_areas": null,
            "object_position": null,
            "object_fit": null,
            "grid_auto_columns": null,
            "margin": null,
            "display": null,
            "left": null
          }
        },
        "2d8cd33d2b4549d4b733e6f2dcb6bdf1": {
          "model_module": "@jupyter-widgets/controls",
          "model_name": "DescriptionStyleModel",
          "state": {
            "_view_name": "StyleView",
            "_model_name": "DescriptionStyleModel",
            "description_width": "",
            "_view_module": "@jupyter-widgets/base",
            "_model_module_version": "1.5.0",
            "_view_count": null,
            "_view_module_version": "1.2.0",
            "_model_module": "@jupyter-widgets/controls"
          }
        },
        "395034341fa34a11adea19a9d1531941": {
          "model_module": "@jupyter-widgets/base",
          "model_name": "LayoutModel",
          "state": {
            "_view_name": "LayoutView",
            "grid_template_rows": null,
            "right": null,
            "justify_content": null,
            "_view_module": "@jupyter-widgets/base",
            "overflow": null,
            "_model_module_version": "1.2.0",
            "_view_count": null,
            "flex_flow": null,
            "width": null,
            "min_width": null,
            "border": null,
            "align_items": null,
            "bottom": null,
            "_model_module": "@jupyter-widgets/base",
            "top": null,
            "grid_column": null,
            "overflow_y": null,
            "overflow_x": null,
            "grid_auto_flow": null,
            "grid_area": null,
            "grid_template_columns": null,
            "flex": null,
            "_model_name": "LayoutModel",
            "justify_items": null,
            "grid_row": null,
            "max_height": null,
            "align_content": null,
            "visibility": null,
            "align_self": null,
            "height": null,
            "min_height": null,
            "padding": null,
            "grid_auto_rows": null,
            "grid_gap": null,
            "max_width": null,
            "order": null,
            "_view_module_version": "1.2.0",
            "grid_template_areas": null,
            "object_position": null,
            "object_fit": null,
            "grid_auto_columns": null,
            "margin": null,
            "display": null,
            "left": null
          }
        },
        "3b7b4a5886124338bd14b19399cf5feb": {
          "model_module": "@jupyter-widgets/controls",
          "model_name": "DescriptionStyleModel",
          "state": {
            "_view_name": "StyleView",
            "_model_name": "DescriptionStyleModel",
            "description_width": "",
            "_view_module": "@jupyter-widgets/base",
            "_model_module_version": "1.5.0",
            "_view_count": null,
            "_view_module_version": "1.2.0",
            "_model_module": "@jupyter-widgets/controls"
          }
        },
        "de3220b6efe74b2d924f475e7dffc3f4": {
          "model_module": "@jupyter-widgets/base",
          "model_name": "LayoutModel",
          "state": {
            "_view_name": "LayoutView",
            "grid_template_rows": null,
            "right": null,
            "justify_content": null,
            "_view_module": "@jupyter-widgets/base",
            "overflow": null,
            "_model_module_version": "1.2.0",
            "_view_count": null,
            "flex_flow": null,
            "width": null,
            "min_width": null,
            "border": null,
            "align_items": null,
            "bottom": null,
            "_model_module": "@jupyter-widgets/base",
            "top": null,
            "grid_column": null,
            "overflow_y": null,
            "overflow_x": null,
            "grid_auto_flow": null,
            "grid_area": null,
            "grid_template_columns": null,
            "flex": null,
            "_model_name": "LayoutModel",
            "justify_items": null,
            "grid_row": null,
            "max_height": null,
            "align_content": null,
            "visibility": null,
            "align_self": null,
            "height": null,
            "min_height": null,
            "padding": null,
            "grid_auto_rows": null,
            "grid_gap": null,
            "max_width": null,
            "order": null,
            "_view_module_version": "1.2.0",
            "grid_template_areas": null,
            "object_position": null,
            "object_fit": null,
            "grid_auto_columns": null,
            "margin": null,
            "display": null,
            "left": null
          }
        },
        "ee51749647b64c10ba4e634ec81636cb": {
          "model_module": "@jupyter-widgets/base",
          "model_name": "LayoutModel",
          "state": {
            "_view_name": "LayoutView",
            "grid_template_rows": null,
            "right": null,
            "justify_content": null,
            "_view_module": "@jupyter-widgets/base",
            "overflow": null,
            "_model_module_version": "1.2.0",
            "_view_count": null,
            "flex_flow": null,
            "width": null,
            "min_width": null,
            "border": null,
            "align_items": null,
            "bottom": null,
            "_model_module": "@jupyter-widgets/base",
            "top": null,
            "grid_column": null,
            "overflow_y": null,
            "overflow_x": null,
            "grid_auto_flow": null,
            "grid_area": null,
            "grid_template_columns": null,
            "flex": null,
            "_model_name": "LayoutModel",
            "justify_items": null,
            "grid_row": null,
            "max_height": null,
            "align_content": null,
            "visibility": null,
            "align_self": null,
            "height": null,
            "min_height": null,
            "padding": null,
            "grid_auto_rows": null,
            "grid_gap": null,
            "max_width": null,
            "order": null,
            "_view_module_version": "1.2.0",
            "grid_template_areas": null,
            "object_position": null,
            "object_fit": null,
            "grid_auto_columns": null,
            "margin": null,
            "display": null,
            "left": null
          }
        },
        "637a1d3d0b2047b2b642fb2f062c1066": {
          "model_module": "@jupyter-widgets/controls",
          "model_name": "VBoxModel",
          "state": {
            "_view_name": "VBoxView",
            "_dom_classes": [
              "widget-interact"
            ],
            "_model_name": "VBoxModel",
            "_view_module": "@jupyter-widgets/controls",
            "_model_module_version": "1.5.0",
            "_view_count": null,
            "_view_module_version": "1.5.0",
            "box_style": "",
            "layout": "IPY_MODEL_9f0b770a40d04f499d09d2e65c7f0a9e",
            "_model_module": "@jupyter-widgets/controls",
            "children": [
              "IPY_MODEL_c40e057f2d4047be9d00a857911e4b1e",
              "IPY_MODEL_1350c780eb26438dbd8830382b092d74",
              "IPY_MODEL_6057bf42593344cd8f96a31e3790e094",
              "IPY_MODEL_1d24e6fcf25643ca9944a72ca52f134c"
            ]
          }
        },
        "9f0b770a40d04f499d09d2e65c7f0a9e": {
          "model_module": "@jupyter-widgets/base",
          "model_name": "LayoutModel",
          "state": {
            "_view_name": "LayoutView",
            "grid_template_rows": null,
            "right": null,
            "justify_content": null,
            "_view_module": "@jupyter-widgets/base",
            "overflow": null,
            "_model_module_version": "1.2.0",
            "_view_count": null,
            "flex_flow": null,
            "width": null,
            "min_width": null,
            "border": null,
            "align_items": null,
            "bottom": null,
            "_model_module": "@jupyter-widgets/base",
            "top": null,
            "grid_column": null,
            "overflow_y": null,
            "overflow_x": null,
            "grid_auto_flow": null,
            "grid_area": null,
            "grid_template_columns": null,
            "flex": null,
            "_model_name": "LayoutModel",
            "justify_items": null,
            "grid_row": null,
            "max_height": null,
            "align_content": null,
            "visibility": null,
            "align_self": null,
            "height": null,
            "min_height": null,
            "padding": null,
            "grid_auto_rows": null,
            "grid_gap": null,
            "max_width": null,
            "order": null,
            "_view_module_version": "1.2.0",
            "grid_template_areas": null,
            "object_position": null,
            "object_fit": null,
            "grid_auto_columns": null,
            "margin": null,
            "display": null,
            "left": null
          }
        },
        "c40e057f2d4047be9d00a857911e4b1e": {
          "model_module": "@jupyter-widgets/controls",
          "model_name": "DropdownModel",
          "state": {
            "_options_labels": [
              "080748524S",
              "090904691S",
              "060991839S",
              "071059051S",
              "071223506S"
            ],
            "_view_name": "DropdownView",
            "style": "IPY_MODEL_e67a9b2f28024d7f806b97a1f5f18909",
            "_dom_classes": [],
            "description": "st",
            "_model_name": "DropdownModel",
            "index": 0,
            "_view_module": "@jupyter-widgets/controls",
            "_model_module_version": "1.5.0",
            "_view_count": null,
            "disabled": false,
            "_view_module_version": "1.5.0",
            "description_tooltip": null,
            "_model_module": "@jupyter-widgets/controls",
            "layout": "IPY_MODEL_006150c4174e4dc0b0f656d9cd10db26"
          }
        },
        "1350c780eb26438dbd8830382b092d74": {
          "model_module": "@jupyter-widgets/controls",
          "model_name": "DropdownModel",
          "state": {
            "_options_labels": [
              "g5_3",
              "g5_2",
              "g5_1"
            ],
            "_view_name": "DropdownView",
            "style": "IPY_MODEL_f03ca5ec1a7e44399e9273a001e694db",
            "_dom_classes": [],
            "description": "cs",
            "_model_name": "DropdownModel",
            "index": 0,
            "_view_module": "@jupyter-widgets/controls",
            "_model_module_version": "1.5.0",
            "_view_count": null,
            "disabled": false,
            "_view_module_version": "1.5.0",
            "description_tooltip": null,
            "_model_module": "@jupyter-widgets/controls",
            "layout": "IPY_MODEL_51680b44427c4c1d92848beae84259e4"
          }
        },
        "6057bf42593344cd8f96a31e3790e094": {
          "model_module": "@jupyter-widgets/controls",
          "model_name": "DatePickerModel",
          "state": {
            "_view_name": "DatePickerView",
            "style": "IPY_MODEL_304b04281147468ca7c31a8c3eb06ad2",
            "_dom_classes": [],
            "description": "ابتداءًا من تاريخ",
            "_model_name": "DatePickerModel",
            "_view_module": "@jupyter-widgets/controls",
            "_model_module_version": "1.5.0",
            "value": {
              "date": 1,
              "month": 0,
              "year": 2020
            },
            "_view_count": null,
            "disabled": false,
            "_view_module_version": "1.5.0",
            "description_tooltip": null,
            "_model_module": "@jupyter-widgets/controls",
            "layout": "IPY_MODEL_4285cde3d7b648579d81fe8ae3909f54"
          }
        },
        "1d24e6fcf25643ca9944a72ca52f134c": {
          "model_module": "@jupyter-widgets/output",
          "model_name": "OutputModel",
          "state": {
            "_view_name": "OutputView",
            "msg_id": "",
            "_dom_classes": [],
            "_model_name": "OutputModel",
            "outputs": [
              {
                "output_type": "display_data",
                "metadata": {
                  "tags": []
                },
                "text/html": "<a href=https://www.khanacademy.org/math/cc-sixth-grade-math/cc-6th-data-statistics/mean-and-median/v/statistics-intro-mean-median-and-mode?modal=1 target='_blank' style='font-size:1.3em'>Statistics Intro: Mean, Median & Mode</a>",
                "text/plain": "<IPython.core.display.HTML object>"
              },
              {
                "output_type": "display_data",
                "metadata": {
                  "tags": []
                },
                "text/html": "<a href=https://www.khanacademy.org/math/cc-sixth-grade-math/cc-6th-data-statistics/cc-6th-mean-median-challenge/a/mean-as-the-balancing-point?modal=1 target='_blank' style='font-size:1.3em'>Mean as the balancing point</a>",
                "text/plain": "<IPython.core.display.HTML object>"
              },
              {
                "output_type": "display_data",
                "metadata": {
                  "tags": []
                },
                "text/html": "<a href=https://www.khanacademy.org/math/cc-sixth-grade-math/cc-6th-data-statistics/cc-6th-box-whisker-plots/v/constructing-a-box-and-whisker-plot?modal=1 target='_blank' style='font-size:1.3em'>Constructing a box plot</a>",
                "text/plain": "<IPython.core.display.HTML object>"
              },
              {
                "output_type": "display_data",
                "metadata": {
                  "tags": []
                },
                "text/html": "<a href=https://www.khanacademy.org/math/cc-sixth-grade-math/cc-6th-data-statistics/cc-6th-box-whisker-plots/v/constructing-a-box-and-whisker-plot?modal=1 target='_blank' style='font-size:1.3em'>Worked example: Creating box plot (even number of data points)</a>",
                "text/plain": "<IPython.core.display.HTML object>"
              },
              {
                "output_type": "display_data",
                "metadata": {
                  "tags": []
                },
                "text/html": "<a href=https://www.khanacademy.org/math/cc-sixth-grade-math/cc-6th-data-statistics/cc-6-shape-of-data/v/shapes-of-distributions?modal=1 target='_blank' style='font-size:1.3em'>Shape of distributions</a>",
                "text/plain": "<IPython.core.display.HTML object>"
              },
              {
                "output_type": "display_data",
                "metadata": {
                  "tags": []
                },
                "text/html": "<a href=https://www.khanacademy.org/math/cc-sixth-grade-math/cc-6th-data-statistics/mean-and-median/v/statistics-intro-mean-median-and-mode?modal=1 target='_blank' style='font-size:1.3em'>Statistics Intro: Mean, Median & Mode</a>",
                "text/plain": "<IPython.core.display.HTML object>"
              },
              {
                "output_type": "display_data",
                "metadata": {
                  "tags": []
                },
                "text/html": "<a href=https://www.khanacademy.org/math/cc-sixth-grade-math/cc-6th-data-statistics/cc-6th-mean-median-challenge/a/mean-as-the-balancing-point?modal=1 target='_blank' style='font-size:1.3em'>Mean as the balancing point</a>",
                "text/plain": "<IPython.core.display.HTML object>"
              },
              {
                "output_type": "display_data",
                "metadata": {
                  "tags": []
                },
                "text/html": "<a href=https://www.khanacademy.org/math/cc-sixth-grade-math/cc-6th-data-statistics/cc-6th-box-whisker-plots/v/constructing-a-box-and-whisker-plot?modal=1 target='_blank' style='font-size:1.3em'>Constructing a box plot</a>",
                "text/plain": "<IPython.core.display.HTML object>"
              },
              {
                "output_type": "display_data",
                "metadata": {
                  "tags": []
                },
                "text/html": "<a href=https://www.khanacademy.org/math/cc-sixth-grade-math/cc-6th-data-statistics/cc-6th-box-whisker-plots/v/constructing-a-box-and-whisker-plot?modal=1 target='_blank' style='font-size:1.3em'>Worked example: Creating box plot (even number of data points)</a>",
                "text/plain": "<IPython.core.display.HTML object>"
              },
              {
                "output_type": "display_data",
                "metadata": {
                  "tags": []
                },
                "text/html": "<a href=https://www.khanacademy.org/math/cc-sixth-grade-math/cc-6th-data-statistics/cc-6-shape-of-data/v/shapes-of-distributions?modal=1 target='_blank' style='font-size:1.3em'>Shape of distributions</a>",
                "text/plain": "<IPython.core.display.HTML object>"
              },
              {
                "output_type": "display_data",
                "metadata": {
                  "tags": []
                },
                "text/html": "<html>\n<head><meta charset=\"utf-8\" /></head>\n<body>\n    <div>            <script src=\"https://cdnjs.cloudflare.com/ajax/libs/mathjax/2.7.5/MathJax.js?config=TeX-AMS-MML_SVG\"></script><script type=\"text/javascript\">if (window.MathJax) {MathJax.Hub.Config({SVG: {font: \"STIX-Web\"}});}</script>                <script type=\"text/javascript\">window.PlotlyConfig = {MathJaxConfig: 'local'};</script>\n        <script src=\"https://cdn.plot.ly/plotly-2.2.0.min.js\"></script>                <div id=\"317db96a-e19d-48e5-bc09-a842f72d2963\" class=\"plotly-graph-div\" style=\"height:525px; width:100%;\"></div>            <script type=\"text/javascript\">                                    window.PLOTLYENV=window.PLOTLYENV || {};                                    if (document.getElementById(\"317db96a-e19d-48e5-bc09-a842f72d2963\")) {                    Plotly.newPlot(                        \"317db96a-e19d-48e5-bc09-a842f72d2963\",                        [{\"alignmentgroup\":\"True\",\"hovertemplate\":\"Q_id=%{x}<br>Q_mark=%{y}<br>PF=%{marker.color}<extra></extra>\",\"legendgroup\":\"\",\"marker\":{\"color\":[1,0,1,1,1,0,1,1,1],\"coloraxis\":\"coloraxis\",\"pattern\":{\"shape\":\"\"}},\"name\":\"\",\"offsetgroup\":\"\",\"orientation\":\"v\",\"showlegend\":false,\"textposition\":\"auto\",\"type\":\"bar\",\"x\":[\"Qg5_3-Act_4_0\",\"Qg5_3-Act_4_1\",\"Qg5_3-Act_4_2\",\"Qg5_3-Act_4_3\",\"Qg5_3-Act_4_4\",\"Qg5_3-Act_4_5\",\"Qg5_3-Act_4_6\",\"Qg5_3-Act_4_7\",\"Qg5_3-Act_4_8\"],\"xaxis\":\"x\",\"y\":[1,3,2,2,1,2,2,3,1],\"yaxis\":\"y\"}],                        {\"barmode\":\"relative\",\"coloraxis\":{\"colorbar\":{\"title\":{\"text\":\"PF\"}},\"colorscale\":[[0.0,\"#0d0887\"],[0.1111111111111111,\"#46039f\"],[0.2222222222222222,\"#7201a8\"],[0.3333333333333333,\"#9c179e\"],[0.4444444444444444,\"#bd3786\"],[0.5555555555555556,\"#d8576b\"],[0.6666666666666666,\"#ed7953\"],[0.7777777777777778,\"#fb9f3a\"],[0.8888888888888888,\"#fdca26\"],[1.0,\"#f0f921\"]]},\"legend\":{\"tracegroupgap\":0},\"margin\":{\"t\":60},\"template\":{\"data\":{\"bar\":[{\"error_x\":{\"color\":\"#2a3f5f\"},\"error_y\":{\"color\":\"#2a3f5f\"},\"marker\":{\"line\":{\"color\":\"#E5ECF6\",\"width\":0.5},\"pattern\":{\"fillmode\":\"overlay\",\"size\":10,\"solidity\":0.2}},\"type\":\"bar\"}],\"barpolar\":[{\"marker\":{\"line\":{\"color\":\"#E5ECF6\",\"width\":0.5},\"pattern\":{\"fillmode\":\"overlay\",\"size\":10,\"solidity\":0.2}},\"type\":\"barpolar\"}],\"carpet\":[{\"aaxis\":{\"endlinecolor\":\"#2a3f5f\",\"gridcolor\":\"white\",\"linecolor\":\"white\",\"minorgridcolor\":\"white\",\"startlinecolor\":\"#2a3f5f\"},\"baxis\":{\"endlinecolor\":\"#2a3f5f\",\"gridcolor\":\"white\",\"linecolor\":\"white\",\"minorgridcolor\":\"white\",\"startlinecolor\":\"#2a3f5f\"},\"type\":\"carpet\"}],\"choropleth\":[{\"colorbar\":{\"outlinewidth\":0,\"ticks\":\"\"},\"type\":\"choropleth\"}],\"contour\":[{\"colorbar\":{\"outlinewidth\":0,\"ticks\":\"\"},\"colorscale\":[[0.0,\"#0d0887\"],[0.1111111111111111,\"#46039f\"],[0.2222222222222222,\"#7201a8\"],[0.3333333333333333,\"#9c179e\"],[0.4444444444444444,\"#bd3786\"],[0.5555555555555556,\"#d8576b\"],[0.6666666666666666,\"#ed7953\"],[0.7777777777777778,\"#fb9f3a\"],[0.8888888888888888,\"#fdca26\"],[1.0,\"#f0f921\"]],\"type\":\"contour\"}],\"contourcarpet\":[{\"colorbar\":{\"outlinewidth\":0,\"ticks\":\"\"},\"type\":\"contourcarpet\"}],\"heatmap\":[{\"colorbar\":{\"outlinewidth\":0,\"ticks\":\"\"},\"colorscale\":[[0.0,\"#0d0887\"],[0.1111111111111111,\"#46039f\"],[0.2222222222222222,\"#7201a8\"],[0.3333333333333333,\"#9c179e\"],[0.4444444444444444,\"#bd3786\"],[0.5555555555555556,\"#d8576b\"],[0.6666666666666666,\"#ed7953\"],[0.7777777777777778,\"#fb9f3a\"],[0.8888888888888888,\"#fdca26\"],[1.0,\"#f0f921\"]],\"type\":\"heatmap\"}],\"heatmapgl\":[{\"colorbar\":{\"outlinewidth\":0,\"ticks\":\"\"},\"colorscale\":[[0.0,\"#0d0887\"],[0.1111111111111111,\"#46039f\"],[0.2222222222222222,\"#7201a8\"],[0.3333333333333333,\"#9c179e\"],[0.4444444444444444,\"#bd3786\"],[0.5555555555555556,\"#d8576b\"],[0.6666666666666666,\"#ed7953\"],[0.7777777777777778,\"#fb9f3a\"],[0.8888888888888888,\"#fdca26\"],[1.0,\"#f0f921\"]],\"type\":\"heatmapgl\"}],\"histogram\":[{\"marker\":{\"pattern\":{\"fillmode\":\"overlay\",\"size\":10,\"solidity\":0.2}},\"type\":\"histogram\"}],\"histogram2d\":[{\"colorbar\":{\"outlinewidth\":0,\"ticks\":\"\"},\"colorscale\":[[0.0,\"#0d0887\"],[0.1111111111111111,\"#46039f\"],[0.2222222222222222,\"#7201a8\"],[0.3333333333333333,\"#9c179e\"],[0.4444444444444444,\"#bd3786\"],[0.5555555555555556,\"#d8576b\"],[0.6666666666666666,\"#ed7953\"],[0.7777777777777778,\"#fb9f3a\"],[0.8888888888888888,\"#fdca26\"],[1.0,\"#f0f921\"]],\"type\":\"histogram2d\"}],\"histogram2dcontour\":[{\"colorbar\":{\"outlinewidth\":0,\"ticks\":\"\"},\"colorscale\":[[0.0,\"#0d0887\"],[0.1111111111111111,\"#46039f\"],[0.2222222222222222,\"#7201a8\"],[0.3333333333333333,\"#9c179e\"],[0.4444444444444444,\"#bd3786\"],[0.5555555555555556,\"#d8576b\"],[0.6666666666666666,\"#ed7953\"],[0.7777777777777778,\"#fb9f3a\"],[0.8888888888888888,\"#fdca26\"],[1.0,\"#f0f921\"]],\"type\":\"histogram2dcontour\"}],\"mesh3d\":[{\"colorbar\":{\"outlinewidth\":0,\"ticks\":\"\"},\"type\":\"mesh3d\"}],\"parcoords\":[{\"line\":{\"colorbar\":{\"outlinewidth\":0,\"ticks\":\"\"}},\"type\":\"parcoords\"}],\"pie\":[{\"automargin\":true,\"type\":\"pie\"}],\"scatter\":[{\"marker\":{\"colorbar\":{\"outlinewidth\":0,\"ticks\":\"\"}},\"type\":\"scatter\"}],\"scatter3d\":[{\"line\":{\"colorbar\":{\"outlinewidth\":0,\"ticks\":\"\"}},\"marker\":{\"colorbar\":{\"outlinewidth\":0,\"ticks\":\"\"}},\"type\":\"scatter3d\"}],\"scattercarpet\":[{\"marker\":{\"colorbar\":{\"outlinewidth\":0,\"ticks\":\"\"}},\"type\":\"scattercarpet\"}],\"scattergeo\":[{\"marker\":{\"colorbar\":{\"outlinewidth\":0,\"ticks\":\"\"}},\"type\":\"scattergeo\"}],\"scattergl\":[{\"marker\":{\"colorbar\":{\"outlinewidth\":0,\"ticks\":\"\"}},\"type\":\"scattergl\"}],\"scattermapbox\":[{\"marker\":{\"colorbar\":{\"outlinewidth\":0,\"ticks\":\"\"}},\"type\":\"scattermapbox\"}],\"scatterpolar\":[{\"marker\":{\"colorbar\":{\"outlinewidth\":0,\"ticks\":\"\"}},\"type\":\"scatterpolar\"}],\"scatterpolargl\":[{\"marker\":{\"colorbar\":{\"outlinewidth\":0,\"ticks\":\"\"}},\"type\":\"scatterpolargl\"}],\"scatterternary\":[{\"marker\":{\"colorbar\":{\"outlinewidth\":0,\"ticks\":\"\"}},\"type\":\"scatterternary\"}],\"surface\":[{\"colorbar\":{\"outlinewidth\":0,\"ticks\":\"\"},\"colorscale\":[[0.0,\"#0d0887\"],[0.1111111111111111,\"#46039f\"],[0.2222222222222222,\"#7201a8\"],[0.3333333333333333,\"#9c179e\"],[0.4444444444444444,\"#bd3786\"],[0.5555555555555556,\"#d8576b\"],[0.6666666666666666,\"#ed7953\"],[0.7777777777777778,\"#fb9f3a\"],[0.8888888888888888,\"#fdca26\"],[1.0,\"#f0f921\"]],\"type\":\"surface\"}],\"table\":[{\"cells\":{\"fill\":{\"color\":\"#EBF0F8\"},\"line\":{\"color\":\"white\"}},\"header\":{\"fill\":{\"color\":\"#C8D4E3\"},\"line\":{\"color\":\"white\"}},\"type\":\"table\"}]},\"layout\":{\"annotationdefaults\":{\"arrowcolor\":\"#2a3f5f\",\"arrowhead\":0,\"arrowwidth\":1},\"autotypenumbers\":\"strict\",\"coloraxis\":{\"colorbar\":{\"outlinewidth\":0,\"ticks\":\"\"}},\"colorscale\":{\"diverging\":[[0,\"#8e0152\"],[0.1,\"#c51b7d\"],[0.2,\"#de77ae\"],[0.3,\"#f1b6da\"],[0.4,\"#fde0ef\"],[0.5,\"#f7f7f7\"],[0.6,\"#e6f5d0\"],[0.7,\"#b8e186\"],[0.8,\"#7fbc41\"],[0.9,\"#4d9221\"],[1,\"#276419\"]],\"sequential\":[[0.0,\"#0d0887\"],[0.1111111111111111,\"#46039f\"],[0.2222222222222222,\"#7201a8\"],[0.3333333333333333,\"#9c179e\"],[0.4444444444444444,\"#bd3786\"],[0.5555555555555556,\"#d8576b\"],[0.6666666666666666,\"#ed7953\"],[0.7777777777777778,\"#fb9f3a\"],[0.8888888888888888,\"#fdca26\"],[1.0,\"#f0f921\"]],\"sequentialminus\":[[0.0,\"#0d0887\"],[0.1111111111111111,\"#46039f\"],[0.2222222222222222,\"#7201a8\"],[0.3333333333333333,\"#9c179e\"],[0.4444444444444444,\"#bd3786\"],[0.5555555555555556,\"#d8576b\"],[0.6666666666666666,\"#ed7953\"],[0.7777777777777778,\"#fb9f3a\"],[0.8888888888888888,\"#fdca26\"],[1.0,\"#f0f921\"]]},\"colorway\":[\"#636efa\",\"#EF553B\",\"#00cc96\",\"#ab63fa\",\"#FFA15A\",\"#19d3f3\",\"#FF6692\",\"#B6E880\",\"#FF97FF\",\"#FECB52\"],\"font\":{\"color\":\"#2a3f5f\"},\"geo\":{\"bgcolor\":\"white\",\"lakecolor\":\"white\",\"landcolor\":\"#E5ECF6\",\"showlakes\":true,\"showland\":true,\"subunitcolor\":\"white\"},\"hoverlabel\":{\"align\":\"left\"},\"hovermode\":\"closest\",\"mapbox\":{\"style\":\"light\"},\"paper_bgcolor\":\"white\",\"plot_bgcolor\":\"#E5ECF6\",\"polar\":{\"angularaxis\":{\"gridcolor\":\"white\",\"linecolor\":\"white\",\"ticks\":\"\"},\"bgcolor\":\"#E5ECF6\",\"radialaxis\":{\"gridcolor\":\"white\",\"linecolor\":\"white\",\"ticks\":\"\"}},\"scene\":{\"xaxis\":{\"backgroundcolor\":\"#E5ECF6\",\"gridcolor\":\"white\",\"gridwidth\":2,\"linecolor\":\"white\",\"showbackground\":true,\"ticks\":\"\",\"zerolinecolor\":\"white\"},\"yaxis\":{\"backgroundcolor\":\"#E5ECF6\",\"gridcolor\":\"white\",\"gridwidth\":2,\"linecolor\":\"white\",\"showbackground\":true,\"ticks\":\"\",\"zerolinecolor\":\"white\"},\"zaxis\":{\"backgroundcolor\":\"#E5ECF6\",\"gridcolor\":\"white\",\"gridwidth\":2,\"linecolor\":\"white\",\"showbackground\":true,\"ticks\":\"\",\"zerolinecolor\":\"white\"}},\"shapedefaults\":{\"line\":{\"color\":\"#2a3f5f\"}},\"ternary\":{\"aaxis\":{\"gridcolor\":\"white\",\"linecolor\":\"white\",\"ticks\":\"\"},\"baxis\":{\"gridcolor\":\"white\",\"linecolor\":\"white\",\"ticks\":\"\"},\"bgcolor\":\"#E5ECF6\",\"caxis\":{\"gridcolor\":\"white\",\"linecolor\":\"white\",\"ticks\":\"\"}},\"title\":{\"x\":0.05},\"xaxis\":{\"automargin\":true,\"gridcolor\":\"white\",\"linecolor\":\"white\",\"ticks\":\"\",\"title\":{\"standoff\":15},\"zerolinecolor\":\"white\",\"zerolinewidth\":2},\"yaxis\":{\"automargin\":true,\"gridcolor\":\"white\",\"linecolor\":\"white\",\"ticks\":\"\",\"title\":{\"standoff\":15},\"zerolinecolor\":\"white\",\"zerolinewidth\":2}}},\"xaxis\":{\"anchor\":\"y\",\"domain\":[0.0,1.0],\"title\":{\"text\":\"Q_id\"}},\"yaxis\":{\"anchor\":\"x\",\"domain\":[0.0,1.0],\"title\":{\"text\":\"Q_mark\"}}},                        {\"responsive\": true}                    ).then(function(){\n                            \nvar gd = document.getElementById('317db96a-e19d-48e5-bc09-a842f72d2963');\nvar x = new MutationObserver(function (mutations, observer) {{\n        var display = window.getComputedStyle(gd).display;\n        if (!display || display === 'none') {{\n            console.log([gd, 'removed!']);\n            Plotly.purge(gd);\n            observer.disconnect();\n        }}\n}});\n\n// Listen for the removal of the full notebook cells\nvar notebookContainer = gd.closest('#notebook-container');\nif (notebookContainer) {{\n    x.observe(notebookContainer, {childList: true});\n}}\n\n// Listen for the clearing of the current output cell\nvar outputEl = gd.closest('.output');\nif (outputEl) {{\n    x.observe(outputEl, {childList: true});\n}}\n\n                        })                };                            </script>        </div>\n</body>\n</html>"
              }
            ],
            "_view_module": "@jupyter-widgets/output",
            "_model_module_version": "1.0.0",
            "_view_count": null,
            "_view_module_version": "1.0.0",
            "layout": "IPY_MODEL_6e4d48bdfd024edc9eec69b6a8035492",
            "_model_module": "@jupyter-widgets/output"
          }
        },
        "e67a9b2f28024d7f806b97a1f5f18909": {
          "model_module": "@jupyter-widgets/controls",
          "model_name": "DescriptionStyleModel",
          "state": {
            "_view_name": "StyleView",
            "_model_name": "DescriptionStyleModel",
            "description_width": "",
            "_view_module": "@jupyter-widgets/base",
            "_model_module_version": "1.5.0",
            "_view_count": null,
            "_view_module_version": "1.2.0",
            "_model_module": "@jupyter-widgets/controls"
          }
        },
        "006150c4174e4dc0b0f656d9cd10db26": {
          "model_module": "@jupyter-widgets/base",
          "model_name": "LayoutModel",
          "state": {
            "_view_name": "LayoutView",
            "grid_template_rows": null,
            "right": null,
            "justify_content": null,
            "_view_module": "@jupyter-widgets/base",
            "overflow": null,
            "_model_module_version": "1.2.0",
            "_view_count": null,
            "flex_flow": null,
            "width": null,
            "min_width": null,
            "border": null,
            "align_items": null,
            "bottom": null,
            "_model_module": "@jupyter-widgets/base",
            "top": null,
            "grid_column": null,
            "overflow_y": null,
            "overflow_x": null,
            "grid_auto_flow": null,
            "grid_area": null,
            "grid_template_columns": null,
            "flex": null,
            "_model_name": "LayoutModel",
            "justify_items": null,
            "grid_row": null,
            "max_height": null,
            "align_content": null,
            "visibility": null,
            "align_self": null,
            "height": null,
            "min_height": null,
            "padding": null,
            "grid_auto_rows": null,
            "grid_gap": null,
            "max_width": null,
            "order": null,
            "_view_module_version": "1.2.0",
            "grid_template_areas": null,
            "object_position": null,
            "object_fit": null,
            "grid_auto_columns": null,
            "margin": null,
            "display": null,
            "left": null
          }
        },
        "f03ca5ec1a7e44399e9273a001e694db": {
          "model_module": "@jupyter-widgets/controls",
          "model_name": "DescriptionStyleModel",
          "state": {
            "_view_name": "StyleView",
            "_model_name": "DescriptionStyleModel",
            "description_width": "",
            "_view_module": "@jupyter-widgets/base",
            "_model_module_version": "1.5.0",
            "_view_count": null,
            "_view_module_version": "1.2.0",
            "_model_module": "@jupyter-widgets/controls"
          }
        },
        "51680b44427c4c1d92848beae84259e4": {
          "model_module": "@jupyter-widgets/base",
          "model_name": "LayoutModel",
          "state": {
            "_view_name": "LayoutView",
            "grid_template_rows": null,
            "right": null,
            "justify_content": null,
            "_view_module": "@jupyter-widgets/base",
            "overflow": null,
            "_model_module_version": "1.2.0",
            "_view_count": null,
            "flex_flow": null,
            "width": null,
            "min_width": null,
            "border": null,
            "align_items": null,
            "bottom": null,
            "_model_module": "@jupyter-widgets/base",
            "top": null,
            "grid_column": null,
            "overflow_y": null,
            "overflow_x": null,
            "grid_auto_flow": null,
            "grid_area": null,
            "grid_template_columns": null,
            "flex": null,
            "_model_name": "LayoutModel",
            "justify_items": null,
            "grid_row": null,
            "max_height": null,
            "align_content": null,
            "visibility": null,
            "align_self": null,
            "height": null,
            "min_height": null,
            "padding": null,
            "grid_auto_rows": null,
            "grid_gap": null,
            "max_width": null,
            "order": null,
            "_view_module_version": "1.2.0",
            "grid_template_areas": null,
            "object_position": null,
            "object_fit": null,
            "grid_auto_columns": null,
            "margin": null,
            "display": null,
            "left": null
          }
        },
        "304b04281147468ca7c31a8c3eb06ad2": {
          "model_module": "@jupyter-widgets/controls",
          "model_name": "DescriptionStyleModel",
          "state": {
            "_view_name": "StyleView",
            "_model_name": "DescriptionStyleModel",
            "description_width": "",
            "_view_module": "@jupyter-widgets/base",
            "_model_module_version": "1.5.0",
            "_view_count": null,
            "_view_module_version": "1.2.0",
            "_model_module": "@jupyter-widgets/controls"
          }
        },
        "4285cde3d7b648579d81fe8ae3909f54": {
          "model_module": "@jupyter-widgets/base",
          "model_name": "LayoutModel",
          "state": {
            "_view_name": "LayoutView",
            "grid_template_rows": null,
            "right": null,
            "justify_content": null,
            "_view_module": "@jupyter-widgets/base",
            "overflow": null,
            "_model_module_version": "1.2.0",
            "_view_count": null,
            "flex_flow": null,
            "width": null,
            "min_width": null,
            "border": null,
            "align_items": null,
            "bottom": null,
            "_model_module": "@jupyter-widgets/base",
            "top": null,
            "grid_column": null,
            "overflow_y": null,
            "overflow_x": null,
            "grid_auto_flow": null,
            "grid_area": null,
            "grid_template_columns": null,
            "flex": null,
            "_model_name": "LayoutModel",
            "justify_items": null,
            "grid_row": null,
            "max_height": null,
            "align_content": null,
            "visibility": null,
            "align_self": null,
            "height": null,
            "min_height": null,
            "padding": null,
            "grid_auto_rows": null,
            "grid_gap": null,
            "max_width": null,
            "order": null,
            "_view_module_version": "1.2.0",
            "grid_template_areas": null,
            "object_position": null,
            "object_fit": null,
            "grid_auto_columns": null,
            "margin": null,
            "display": null,
            "left": null
          }
        },
        "6e4d48bdfd024edc9eec69b6a8035492": {
          "model_module": "@jupyter-widgets/base",
          "model_name": "LayoutModel",
          "state": {
            "_view_name": "LayoutView",
            "grid_template_rows": null,
            "right": null,
            "justify_content": null,
            "_view_module": "@jupyter-widgets/base",
            "overflow": null,
            "_model_module_version": "1.2.0",
            "_view_count": null,
            "flex_flow": null,
            "width": null,
            "min_width": null,
            "border": null,
            "align_items": null,
            "bottom": null,
            "_model_module": "@jupyter-widgets/base",
            "top": null,
            "grid_column": null,
            "overflow_y": null,
            "overflow_x": null,
            "grid_auto_flow": null,
            "grid_area": null,
            "grid_template_columns": null,
            "flex": null,
            "_model_name": "LayoutModel",
            "justify_items": null,
            "grid_row": null,
            "max_height": null,
            "align_content": null,
            "visibility": null,
            "align_self": null,
            "height": null,
            "min_height": null,
            "padding": null,
            "grid_auto_rows": null,
            "grid_gap": null,
            "max_width": null,
            "order": null,
            "_view_module_version": "1.2.0",
            "grid_template_areas": null,
            "object_position": null,
            "object_fit": null,
            "grid_auto_columns": null,
            "margin": null,
            "display": null,
            "left": null
          }
        },
        "b2ffb4dcf75749b1a9902debfe832c05": {
          "model_module": "@jupyter-widgets/controls",
          "model_name": "VBoxModel",
          "state": {
            "_view_name": "VBoxView",
            "_dom_classes": [
              "widget-interact"
            ],
            "_model_name": "VBoxModel",
            "_view_module": "@jupyter-widgets/controls",
            "_model_module_version": "1.5.0",
            "_view_count": null,
            "_view_module_version": "1.5.0",
            "box_style": "",
            "layout": "IPY_MODEL_8608ea426cc7476dbe78ff057c699798",
            "_model_module": "@jupyter-widgets/controls",
            "children": [
              "IPY_MODEL_569d8969f9934490bf87689aa1d302c4",
              "IPY_MODEL_bb96ffb7ed1b48a4b367b1a2368e97bf",
              "IPY_MODEL_cf80646720eb40d3a5bf31bdd330cea1",
              "IPY_MODEL_a3042aa8440b4e4cb3278d363ac3dc64",
              "IPY_MODEL_7232b3f708da438c83b9e8db3e410222"
            ]
          }
        },
        "8608ea426cc7476dbe78ff057c699798": {
          "model_module": "@jupyter-widgets/base",
          "model_name": "LayoutModel",
          "state": {
            "_view_name": "LayoutView",
            "grid_template_rows": null,
            "right": null,
            "justify_content": null,
            "_view_module": "@jupyter-widgets/base",
            "overflow": null,
            "_model_module_version": "1.2.0",
            "_view_count": null,
            "flex_flow": null,
            "width": null,
            "min_width": null,
            "border": null,
            "align_items": null,
            "bottom": null,
            "_model_module": "@jupyter-widgets/base",
            "top": null,
            "grid_column": null,
            "overflow_y": null,
            "overflow_x": null,
            "grid_auto_flow": null,
            "grid_area": null,
            "grid_template_columns": null,
            "flex": null,
            "_model_name": "LayoutModel",
            "justify_items": null,
            "grid_row": null,
            "max_height": null,
            "align_content": null,
            "visibility": null,
            "align_self": null,
            "height": null,
            "min_height": null,
            "padding": null,
            "grid_auto_rows": null,
            "grid_gap": null,
            "max_width": null,
            "order": null,
            "_view_module_version": "1.2.0",
            "grid_template_areas": null,
            "object_position": null,
            "object_fit": null,
            "grid_auto_columns": null,
            "margin": null,
            "display": null,
            "left": null
          }
        },
        "569d8969f9934490bf87689aa1d302c4": {
          "model_module": "@jupyter-widgets/controls",
          "model_name": "DropdownModel",
          "state": {
            "_options_labels": [
              "080748524S",
              "090904691S",
              "060991839S",
              "071059051S",
              "071223506S"
            ],
            "_view_name": "DropdownView",
            "style": "IPY_MODEL_fc8d1b5c42ee4a2c9b4ebc4f3d8520ef",
            "_dom_classes": [],
            "description": "st",
            "_model_name": "DropdownModel",
            "index": 0,
            "_view_module": "@jupyter-widgets/controls",
            "_model_module_version": "1.5.0",
            "_view_count": null,
            "disabled": false,
            "_view_module_version": "1.5.0",
            "description_tooltip": null,
            "_model_module": "@jupyter-widgets/controls",
            "layout": "IPY_MODEL_2bb1185b82c842ffb388863cef336c62"
          }
        },
        "bb96ffb7ed1b48a4b367b1a2368e97bf": {
          "model_module": "@jupyter-widgets/controls",
          "model_name": "DropdownModel",
          "state": {
            "_options_labels": [
              "g5_3",
              "g5_2",
              "g5_1"
            ],
            "_view_name": "DropdownView",
            "style": "IPY_MODEL_0d9f50dc1c2d425da8c397edcdfa77de",
            "_dom_classes": [],
            "description": "cs",
            "_model_name": "DropdownModel",
            "index": 0,
            "_view_module": "@jupyter-widgets/controls",
            "_model_module_version": "1.5.0",
            "_view_count": null,
            "disabled": false,
            "_view_module_version": "1.5.0",
            "description_tooltip": null,
            "_model_module": "@jupyter-widgets/controls",
            "layout": "IPY_MODEL_dd06b87efd8145e5aa76d3e96364c334"
          }
        },
        "cf80646720eb40d3a5bf31bdd330cea1": {
          "model_module": "@jupyter-widgets/controls",
          "model_name": "DatePickerModel",
          "state": {
            "_view_name": "DatePickerView",
            "style": "IPY_MODEL_3577f2ff5b95416b9d29e5e87df4f2fb",
            "_dom_classes": [],
            "description": "ابتداءًا من تاريخ",
            "_model_name": "DatePickerModel",
            "_view_module": "@jupyter-widgets/controls",
            "_model_module_version": "1.5.0",
            "value": {
              "date": 1,
              "month": 0,
              "year": 2020
            },
            "_view_count": null,
            "disabled": false,
            "_view_module_version": "1.5.0",
            "description_tooltip": null,
            "_model_module": "@jupyter-widgets/controls",
            "layout": "IPY_MODEL_c6a6a2a3cf974d04a2285ef0026290cf"
          }
        },
        "a3042aa8440b4e4cb3278d363ac3dc64": {
          "model_module": "@jupyter-widgets/controls",
          "model_name": "CheckboxModel",
          "state": {
            "_view_name": "CheckboxView",
            "style": "IPY_MODEL_291a8f7622004486939c1d9ed450dcf7",
            "_dom_classes": [],
            "description": "Quizz",
            "_model_name": "CheckboxModel",
            "_view_module": "@jupyter-widgets/controls",
            "_model_module_version": "1.5.0",
            "value": false,
            "_view_count": null,
            "disabled": false,
            "_view_module_version": "1.5.0",
            "indent": true,
            "description_tooltip": null,
            "_model_module": "@jupyter-widgets/controls",
            "layout": "IPY_MODEL_56dfcd5407fc4a42810e0c16fc122cab"
          }
        },
        "7232b3f708da438c83b9e8db3e410222": {
          "model_module": "@jupyter-widgets/output",
          "model_name": "OutputModel",
          "state": {
            "_view_name": "OutputView",
            "msg_id": "",
            "_dom_classes": [],
            "_model_name": "OutputModel",
            "outputs": [
              {
                "output_type": "stream",
                "metadata": {
                  "tags": []
                },
                "text": "  Predicted Mark: 4.991331\n",
                "stream": "stdout"
              },
              {
                "output_type": "display_data",
                "metadata": {
                  "tags": [],
                  "needs_background": "light"
                },
                "image/png": "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\n",
                "text/plain": "<Figure size 1440x576 with 1 Axes>"
              }
            ],
            "_view_module": "@jupyter-widgets/output",
            "_model_module_version": "1.0.0",
            "_view_count": null,
            "_view_module_version": "1.0.0",
            "layout": "IPY_MODEL_2e202f35227f41e1b782db19d251525d",
            "_model_module": "@jupyter-widgets/output"
          }
        },
        "fc8d1b5c42ee4a2c9b4ebc4f3d8520ef": {
          "model_module": "@jupyter-widgets/controls",
          "model_name": "DescriptionStyleModel",
          "state": {
            "_view_name": "StyleView",
            "_model_name": "DescriptionStyleModel",
            "description_width": "",
            "_view_module": "@jupyter-widgets/base",
            "_model_module_version": "1.5.0",
            "_view_count": null,
            "_view_module_version": "1.2.0",
            "_model_module": "@jupyter-widgets/controls"
          }
        },
        "2bb1185b82c842ffb388863cef336c62": {
          "model_module": "@jupyter-widgets/base",
          "model_name": "LayoutModel",
          "state": {
            "_view_name": "LayoutView",
            "grid_template_rows": null,
            "right": null,
            "justify_content": null,
            "_view_module": "@jupyter-widgets/base",
            "overflow": null,
            "_model_module_version": "1.2.0",
            "_view_count": null,
            "flex_flow": null,
            "width": null,
            "min_width": null,
            "border": null,
            "align_items": null,
            "bottom": null,
            "_model_module": "@jupyter-widgets/base",
            "top": null,
            "grid_column": null,
            "overflow_y": null,
            "overflow_x": null,
            "grid_auto_flow": null,
            "grid_area": null,
            "grid_template_columns": null,
            "flex": null,
            "_model_name": "LayoutModel",
            "justify_items": null,
            "grid_row": null,
            "max_height": null,
            "align_content": null,
            "visibility": null,
            "align_self": null,
            "height": null,
            "min_height": null,
            "padding": null,
            "grid_auto_rows": null,
            "grid_gap": null,
            "max_width": null,
            "order": null,
            "_view_module_version": "1.2.0",
            "grid_template_areas": null,
            "object_position": null,
            "object_fit": null,
            "grid_auto_columns": null,
            "margin": null,
            "display": null,
            "left": null
          }
        },
        "0d9f50dc1c2d425da8c397edcdfa77de": {
          "model_module": "@jupyter-widgets/controls",
          "model_name": "DescriptionStyleModel",
          "state": {
            "_view_name": "StyleView",
            "_model_name": "DescriptionStyleModel",
            "description_width": "",
            "_view_module": "@jupyter-widgets/base",
            "_model_module_version": "1.5.0",
            "_view_count": null,
            "_view_module_version": "1.2.0",
            "_model_module": "@jupyter-widgets/controls"
          }
        },
        "dd06b87efd8145e5aa76d3e96364c334": {
          "model_module": "@jupyter-widgets/base",
          "model_name": "LayoutModel",
          "state": {
            "_view_name": "LayoutView",
            "grid_template_rows": null,
            "right": null,
            "justify_content": null,
            "_view_module": "@jupyter-widgets/base",
            "overflow": null,
            "_model_module_version": "1.2.0",
            "_view_count": null,
            "flex_flow": null,
            "width": null,
            "min_width": null,
            "border": null,
            "align_items": null,
            "bottom": null,
            "_model_module": "@jupyter-widgets/base",
            "top": null,
            "grid_column": null,
            "overflow_y": null,
            "overflow_x": null,
            "grid_auto_flow": null,
            "grid_area": null,
            "grid_template_columns": null,
            "flex": null,
            "_model_name": "LayoutModel",
            "justify_items": null,
            "grid_row": null,
            "max_height": null,
            "align_content": null,
            "visibility": null,
            "align_self": null,
            "height": null,
            "min_height": null,
            "padding": null,
            "grid_auto_rows": null,
            "grid_gap": null,
            "max_width": null,
            "order": null,
            "_view_module_version": "1.2.0",
            "grid_template_areas": null,
            "object_position": null,
            "object_fit": null,
            "grid_auto_columns": null,
            "margin": null,
            "display": null,
            "left": null
          }
        },
        "3577f2ff5b95416b9d29e5e87df4f2fb": {
          "model_module": "@jupyter-widgets/controls",
          "model_name": "DescriptionStyleModel",
          "state": {
            "_view_name": "StyleView",
            "_model_name": "DescriptionStyleModel",
            "description_width": "",
            "_view_module": "@jupyter-widgets/base",
            "_model_module_version": "1.5.0",
            "_view_count": null,
            "_view_module_version": "1.2.0",
            "_model_module": "@jupyter-widgets/controls"
          }
        },
        "c6a6a2a3cf974d04a2285ef0026290cf": {
          "model_module": "@jupyter-widgets/base",
          "model_name": "LayoutModel",
          "state": {
            "_view_name": "LayoutView",
            "grid_template_rows": null,
            "right": null,
            "justify_content": null,
            "_view_module": "@jupyter-widgets/base",
            "overflow": null,
            "_model_module_version": "1.2.0",
            "_view_count": null,
            "flex_flow": null,
            "width": null,
            "min_width": null,
            "border": null,
            "align_items": null,
            "bottom": null,
            "_model_module": "@jupyter-widgets/base",
            "top": null,
            "grid_column": null,
            "overflow_y": null,
            "overflow_x": null,
            "grid_auto_flow": null,
            "grid_area": null,
            "grid_template_columns": null,
            "flex": null,
            "_model_name": "LayoutModel",
            "justify_items": null,
            "grid_row": null,
            "max_height": null,
            "align_content": null,
            "visibility": null,
            "align_self": null,
            "height": null,
            "min_height": null,
            "padding": null,
            "grid_auto_rows": null,
            "grid_gap": null,
            "max_width": null,
            "order": null,
            "_view_module_version": "1.2.0",
            "grid_template_areas": null,
            "object_position": null,
            "object_fit": null,
            "grid_auto_columns": null,
            "margin": null,
            "display": null,
            "left": null
          }
        },
        "291a8f7622004486939c1d9ed450dcf7": {
          "model_module": "@jupyter-widgets/controls",
          "model_name": "DescriptionStyleModel",
          "state": {
            "_view_name": "StyleView",
            "_model_name": "DescriptionStyleModel",
            "description_width": "",
            "_view_module": "@jupyter-widgets/base",
            "_model_module_version": "1.5.0",
            "_view_count": null,
            "_view_module_version": "1.2.0",
            "_model_module": "@jupyter-widgets/controls"
          }
        },
        "56dfcd5407fc4a42810e0c16fc122cab": {
          "model_module": "@jupyter-widgets/base",
          "model_name": "LayoutModel",
          "state": {
            "_view_name": "LayoutView",
            "grid_template_rows": null,
            "right": null,
            "justify_content": null,
            "_view_module": "@jupyter-widgets/base",
            "overflow": null,
            "_model_module_version": "1.2.0",
            "_view_count": null,
            "flex_flow": null,
            "width": null,
            "min_width": null,
            "border": null,
            "align_items": null,
            "bottom": null,
            "_model_module": "@jupyter-widgets/base",
            "top": null,
            "grid_column": null,
            "overflow_y": null,
            "overflow_x": null,
            "grid_auto_flow": null,
            "grid_area": null,
            "grid_template_columns": null,
            "flex": null,
            "_model_name": "LayoutModel",
            "justify_items": null,
            "grid_row": null,
            "max_height": null,
            "align_content": null,
            "visibility": null,
            "align_self": null,
            "height": null,
            "min_height": null,
            "padding": null,
            "grid_auto_rows": null,
            "grid_gap": null,
            "max_width": null,
            "order": null,
            "_view_module_version": "1.2.0",
            "grid_template_areas": null,
            "object_position": null,
            "object_fit": null,
            "grid_auto_columns": null,
            "margin": null,
            "display": null,
            "left": null
          }
        },
        "2e202f35227f41e1b782db19d251525d": {
          "model_module": "@jupyter-widgets/base",
          "model_name": "LayoutModel",
          "state": {
            "_view_name": "LayoutView",
            "grid_template_rows": null,
            "right": null,
            "justify_content": null,
            "_view_module": "@jupyter-widgets/base",
            "overflow": null,
            "_model_module_version": "1.2.0",
            "_view_count": null,
            "flex_flow": null,
            "width": null,
            "min_width": null,
            "border": null,
            "align_items": null,
            "bottom": null,
            "_model_module": "@jupyter-widgets/base",
            "top": null,
            "grid_column": null,
            "overflow_y": null,
            "overflow_x": null,
            "grid_auto_flow": null,
            "grid_area": null,
            "grid_template_columns": null,
            "flex": null,
            "_model_name": "LayoutModel",
            "justify_items": null,
            "grid_row": null,
            "max_height": null,
            "align_content": null,
            "visibility": null,
            "align_self": null,
            "height": null,
            "min_height": null,
            "padding": null,
            "grid_auto_rows": null,
            "grid_gap": null,
            "max_width": null,
            "order": null,
            "_view_module_version": "1.2.0",
            "grid_template_areas": null,
            "object_position": null,
            "object_fit": null,
            "grid_auto_columns": null,
            "margin": null,
            "display": null,
            "left": null
          }
        },
        "f6d17b525e13448f9d767c4fd65fe075": {
          "model_module": "@jupyter-widgets/controls",
          "model_name": "VBoxModel",
          "state": {
            "_view_name": "VBoxView",
            "_dom_classes": [
              "widget-interact"
            ],
            "_model_name": "VBoxModel",
            "_view_module": "@jupyter-widgets/controls",
            "_model_module_version": "1.5.0",
            "_view_count": null,
            "_view_module_version": "1.5.0",
            "box_style": "",
            "layout": "IPY_MODEL_c6c50616b6224d23a1f6de774f3eeb8f",
            "_model_module": "@jupyter-widgets/controls",
            "children": [
              "IPY_MODEL_0f87087f88b74f77806bc59c2472e0c7",
              "IPY_MODEL_39d99bf6769e4b5b8b2bed023319a2ca",
              "IPY_MODEL_13ab81e69c53478cbcc4f706695553ce",
              "IPY_MODEL_4d948ab5d9014e3f87d8a03d6219fcf7",
              "IPY_MODEL_683d3e8e670141ea9b81f73a410b073f"
            ]
          }
        },
        "c6c50616b6224d23a1f6de774f3eeb8f": {
          "model_module": "@jupyter-widgets/base",
          "model_name": "LayoutModel",
          "state": {
            "_view_name": "LayoutView",
            "grid_template_rows": null,
            "right": null,
            "justify_content": null,
            "_view_module": "@jupyter-widgets/base",
            "overflow": null,
            "_model_module_version": "1.2.0",
            "_view_count": null,
            "flex_flow": null,
            "width": null,
            "min_width": null,
            "border": null,
            "align_items": null,
            "bottom": null,
            "_model_module": "@jupyter-widgets/base",
            "top": null,
            "grid_column": null,
            "overflow_y": null,
            "overflow_x": null,
            "grid_auto_flow": null,
            "grid_area": null,
            "grid_template_columns": null,
            "flex": null,
            "_model_name": "LayoutModel",
            "justify_items": null,
            "grid_row": null,
            "max_height": null,
            "align_content": null,
            "visibility": null,
            "align_self": null,
            "height": null,
            "min_height": null,
            "padding": null,
            "grid_auto_rows": null,
            "grid_gap": null,
            "max_width": null,
            "order": null,
            "_view_module_version": "1.2.0",
            "grid_template_areas": null,
            "object_position": null,
            "object_fit": null,
            "grid_auto_columns": null,
            "margin": null,
            "display": null,
            "left": null
          }
        },
        "0f87087f88b74f77806bc59c2472e0c7": {
          "model_module": "@jupyter-widgets/controls",
          "model_name": "DropdownModel",
          "state": {
            "_options_labels": [
              "080748524S",
              "090904691S",
              "060991839S",
              "071059051S",
              "071223506S"
            ],
            "_view_name": "DropdownView",
            "style": "IPY_MODEL_1073d7f41e7f4cd0869f13522512c94c",
            "_dom_classes": [],
            "description": "st",
            "_model_name": "DropdownModel",
            "index": 0,
            "_view_module": "@jupyter-widgets/controls",
            "_model_module_version": "1.5.0",
            "_view_count": null,
            "disabled": false,
            "_view_module_version": "1.5.0",
            "description_tooltip": null,
            "_model_module": "@jupyter-widgets/controls",
            "layout": "IPY_MODEL_76f1279c13bd41eebb922a3ebd9045c2"
          }
        },
        "39d99bf6769e4b5b8b2bed023319a2ca": {
          "model_module": "@jupyter-widgets/controls",
          "model_name": "DropdownModel",
          "state": {
            "_options_labels": [
              "g5_3",
              "g5_2",
              "g5_1"
            ],
            "_view_name": "DropdownView",
            "style": "IPY_MODEL_4ce95935d7b340c3880934750e136fb0",
            "_dom_classes": [],
            "description": "cs",
            "_model_name": "DropdownModel",
            "index": 0,
            "_view_module": "@jupyter-widgets/controls",
            "_model_module_version": "1.5.0",
            "_view_count": null,
            "disabled": false,
            "_view_module_version": "1.5.0",
            "description_tooltip": null,
            "_model_module": "@jupyter-widgets/controls",
            "layout": "IPY_MODEL_464fe9f9cd584860b0218e3fc33574a8"
          }
        },
        "13ab81e69c53478cbcc4f706695553ce": {
          "model_module": "@jupyter-widgets/controls",
          "model_name": "DatePickerModel",
          "state": {
            "_view_name": "DatePickerView",
            "style": "IPY_MODEL_26fb560740974e48a384732896560007",
            "_dom_classes": [],
            "description": "ابتداءًا من تاريخ",
            "_model_name": "DatePickerModel",
            "_view_module": "@jupyter-widgets/controls",
            "_model_module_version": "1.5.0",
            "value": {
              "date": 1,
              "month": 0,
              "year": 2020
            },
            "_view_count": null,
            "disabled": false,
            "_view_module_version": "1.5.0",
            "description_tooltip": null,
            "_model_module": "@jupyter-widgets/controls",
            "layout": "IPY_MODEL_f8414dd4b11c4a878aff4f4bb49dc77c"
          }
        },
        "4d948ab5d9014e3f87d8a03d6219fcf7": {
          "model_module": "@jupyter-widgets/controls",
          "model_name": "CheckboxModel",
          "state": {
            "_view_name": "CheckboxView",
            "style": "IPY_MODEL_72151c4a5bc949f2916b0ed023001ddf",
            "_dom_classes": [],
            "description": "عرض الاختبارات",
            "_model_name": "CheckboxModel",
            "_view_module": "@jupyter-widgets/controls",
            "_model_module_version": "1.5.0",
            "value": false,
            "_view_count": null,
            "disabled": false,
            "_view_module_version": "1.5.0",
            "indent": true,
            "description_tooltip": null,
            "_model_module": "@jupyter-widgets/controls",
            "layout": "IPY_MODEL_1e0b229365ea405da76458ac256947dd"
          }
        },
        "683d3e8e670141ea9b81f73a410b073f": {
          "model_module": "@jupyter-widgets/output",
          "model_name": "OutputModel",
          "state": {
            "_view_name": "OutputView",
            "msg_id": "",
            "_dom_classes": [],
            "_model_name": "OutputModel",
            "outputs": [
              {
                "output_type": "display_data",
                "metadata": {
                  "tags": []
                },
                "text/html": "<html>\n<head><meta charset=\"utf-8\" /></head>\n<body>\n    <div>            <script src=\"https://cdnjs.cloudflare.com/ajax/libs/mathjax/2.7.5/MathJax.js?config=TeX-AMS-MML_SVG\"></script><script type=\"text/javascript\">if (window.MathJax) {MathJax.Hub.Config({SVG: {font: \"STIX-Web\"}});}</script>                <script type=\"text/javascript\">window.PlotlyConfig = {MathJaxConfig: 'local'};</script>\n        <script src=\"https://cdn.plot.ly/plotly-2.2.0.min.js\"></script>                <div id=\"a60f1051-82ed-467a-a3ad-55313f69dbeb\" class=\"plotly-graph-div\" style=\"height:600px; width:1200px;\"></div>            <script type=\"text/javascript\">                                    window.PLOTLYENV=window.PLOTLYENV || {};                                    if (document.getElementById(\"a60f1051-82ed-467a-a3ad-55313f69dbeb\")) {                    Plotly.newPlot(                        \"a60f1051-82ed-467a-a3ad-55313f69dbeb\",                        [{\"marker\":{\"color\":\"red\"},\"mode\":\"lines+markers\",\"name\":\"\\u062f\\u0631\\u062c\\u0629 \\u0627\\u0644\\u0637\\u0627\\u0644\\u0628\",\"type\":\"scatter\",\"x\":[\"g5_3-Act_14\",\"g5_3-Act_12\",\"g5_3-Act_16\",\"g5_3-Act_15\",\"g5_3-Act_13\",\"g5_3-Act_11\",\"g5_3-Act_18\",\"g5_3-Act_10\",\"g5_3-Act_17\"],\"y\":[2.31,0.61,1.64,4.2,7.25,9.73,5.37,4.88,3.79]},{\"line\":{\"dash\":\"dot\",\"width\":4},\"marker\":{\"color\":\"blue\",\"size\":12},\"mode\":\"lines+markers\",\"name\":\"\\u0627\\u0644\\u062f\\u0631\\u062c\\u0629 \\u0627\\u0644\\u0645\\u062a\\u0648\\u0642\\u0639\\u0629\",\"type\":\"scatter\",\"x\":[\"g5_3-Act_17\",\"_\"],\"y\":[3.79,4.99]},{\"marker\":{\"color\":\"green\"},\"name\":\"\\u062a\\u0648\\u0632\\u064a\\u0639 \\u062f\\u0631\\u062c\\u0627\\u062a \\u0627\\u0644\\u0637\\u0644\\u0627\\u0628\",\"type\":\"box\",\"width\":0.2,\"x\":[\"g5_3-Act_14\",\"g5_3-Act_14\",\"g5_3-Act_14\",\"g5_3-Act_14\",\"g5_3-Act_14\",\"g5_3-Act_14\",\"g5_3-Act_12\",\"g5_3-Act_12\",\"g5_3-Act_12\",\"g5_3-Act_12\",\"g5_3-Act_12\",\"g5_3-Act_12\",\"g5_3-Act_16\",\"g5_3-Act_16\",\"g5_3-Act_16\",\"g5_3-Act_16\",\"g5_3-Act_16\",\"g5_3-Act_16\",\"g5_3-Act_15\",\"g5_3-Act_15\",\"g5_3-Act_15\",\"g5_3-Act_15\",\"g5_3-Act_13\",\"g5_3-Act_13\",\"g5_3-Act_11\",\"g5_3-Act_11\",\"g5_3-Act_11\",\"g5_3-Act_11\",\"g5_3-Act_11\",\"g5_3-Act_11\",\"g5_3-Act_11\",\"g5_3-Act_11\",\"g5_3-Act_11\",\"g5_3-Act_18\",\"g5_3-Act_18\",\"g5_3-Act_10\",\"g5_3-Act_10\",\"g5_3-Act_17\",\"g5_3-Act_17\"],\"y\":[4.42,4.19,6.87,6.7,8.48,5.63,0.19,4.9,4.34,6.49,2.66,2.0,8.77,0.65,1.73,8.61,9.14,8.49,7.48,0.28,1.02,3.07,2.96,2.89,0.83,0.55,9.49,4.3,2.18,4.36,0.1,0.09,4.83,7.0,4.23,5.72,4.73,0.43,6.25]}],                        {\"autosize\":false,\"font\":{\"color\":\"RebeccaPurple\",\"family\":\"Times New Roman, monospace\",\"size\":18},\"height\":600,\"hovermode\":\"x\",\"template\":{\"data\":{\"bar\":[{\"error_x\":{\"color\":\"#2a3f5f\"},\"error_y\":{\"color\":\"#2a3f5f\"},\"marker\":{\"line\":{\"color\":\"#E5ECF6\",\"width\":0.5},\"pattern\":{\"fillmode\":\"overlay\",\"size\":10,\"solidity\":0.2}},\"type\":\"bar\"}],\"barpolar\":[{\"marker\":{\"line\":{\"color\":\"#E5ECF6\",\"width\":0.5},\"pattern\":{\"fillmode\":\"overlay\",\"size\":10,\"solidity\":0.2}},\"type\":\"barpolar\"}],\"carpet\":[{\"aaxis\":{\"endlinecolor\":\"#2a3f5f\",\"gridcolor\":\"white\",\"linecolor\":\"white\",\"minorgridcolor\":\"white\",\"startlinecolor\":\"#2a3f5f\"},\"baxis\":{\"endlinecolor\":\"#2a3f5f\",\"gridcolor\":\"white\",\"linecolor\":\"white\",\"minorgridcolor\":\"white\",\"startlinecolor\":\"#2a3f5f\"},\"type\":\"carpet\"}],\"choropleth\":[{\"colorbar\":{\"outlinewidth\":0,\"ticks\":\"\"},\"type\":\"choropleth\"}],\"contour\":[{\"colorbar\":{\"outlinewidth\":0,\"ticks\":\"\"},\"colorscale\":[[0.0,\"#0d0887\"],[0.1111111111111111,\"#46039f\"],[0.2222222222222222,\"#7201a8\"],[0.3333333333333333,\"#9c179e\"],[0.4444444444444444,\"#bd3786\"],[0.5555555555555556,\"#d8576b\"],[0.6666666666666666,\"#ed7953\"],[0.7777777777777778,\"#fb9f3a\"],[0.8888888888888888,\"#fdca26\"],[1.0,\"#f0f921\"]],\"type\":\"contour\"}],\"contourcarpet\":[{\"colorbar\":{\"outlinewidth\":0,\"ticks\":\"\"},\"type\":\"contourcarpet\"}],\"heatmap\":[{\"colorbar\":{\"outlinewidth\":0,\"ticks\":\"\"},\"colorscale\":[[0.0,\"#0d0887\"],[0.1111111111111111,\"#46039f\"],[0.2222222222222222,\"#7201a8\"],[0.3333333333333333,\"#9c179e\"],[0.4444444444444444,\"#bd3786\"],[0.5555555555555556,\"#d8576b\"],[0.6666666666666666,\"#ed7953\"],[0.7777777777777778,\"#fb9f3a\"],[0.8888888888888888,\"#fdca26\"],[1.0,\"#f0f921\"]],\"type\":\"heatmap\"}],\"heatmapgl\":[{\"colorbar\":{\"outlinewidth\":0,\"ticks\":\"\"},\"colorscale\":[[0.0,\"#0d0887\"],[0.1111111111111111,\"#46039f\"],[0.2222222222222222,\"#7201a8\"],[0.3333333333333333,\"#9c179e\"],[0.4444444444444444,\"#bd3786\"],[0.5555555555555556,\"#d8576b\"],[0.6666666666666666,\"#ed7953\"],[0.7777777777777778,\"#fb9f3a\"],[0.8888888888888888,\"#fdca26\"],[1.0,\"#f0f921\"]],\"type\":\"heatmapgl\"}],\"histogram\":[{\"marker\":{\"pattern\":{\"fillmode\":\"overlay\",\"size\":10,\"solidity\":0.2}},\"type\":\"histogram\"}],\"histogram2d\":[{\"colorbar\":{\"outlinewidth\":0,\"ticks\":\"\"},\"colorscale\":[[0.0,\"#0d0887\"],[0.1111111111111111,\"#46039f\"],[0.2222222222222222,\"#7201a8\"],[0.3333333333333333,\"#9c179e\"],[0.4444444444444444,\"#bd3786\"],[0.5555555555555556,\"#d8576b\"],[0.6666666666666666,\"#ed7953\"],[0.7777777777777778,\"#fb9f3a\"],[0.8888888888888888,\"#fdca26\"],[1.0,\"#f0f921\"]],\"type\":\"histogram2d\"}],\"histogram2dcontour\":[{\"colorbar\":{\"outlinewidth\":0,\"ticks\":\"\"},\"colorscale\":[[0.0,\"#0d0887\"],[0.1111111111111111,\"#46039f\"],[0.2222222222222222,\"#7201a8\"],[0.3333333333333333,\"#9c179e\"],[0.4444444444444444,\"#bd3786\"],[0.5555555555555556,\"#d8576b\"],[0.6666666666666666,\"#ed7953\"],[0.7777777777777778,\"#fb9f3a\"],[0.8888888888888888,\"#fdca26\"],[1.0,\"#f0f921\"]],\"type\":\"histogram2dcontour\"}],\"mesh3d\":[{\"colorbar\":{\"outlinewidth\":0,\"ticks\":\"\"},\"type\":\"mesh3d\"}],\"parcoords\":[{\"line\":{\"colorbar\":{\"outlinewidth\":0,\"ticks\":\"\"}},\"type\":\"parcoords\"}],\"pie\":[{\"automargin\":true,\"type\":\"pie\"}],\"scatter\":[{\"marker\":{\"colorbar\":{\"outlinewidth\":0,\"ticks\":\"\"}},\"type\":\"scatter\"}],\"scatter3d\":[{\"line\":{\"colorbar\":{\"outlinewidth\":0,\"ticks\":\"\"}},\"marker\":{\"colorbar\":{\"outlinewidth\":0,\"ticks\":\"\"}},\"type\":\"scatter3d\"}],\"scattercarpet\":[{\"marker\":{\"colorbar\":{\"outlinewidth\":0,\"ticks\":\"\"}},\"type\":\"scattercarpet\"}],\"scattergeo\":[{\"marker\":{\"colorbar\":{\"outlinewidth\":0,\"ticks\":\"\"}},\"type\":\"scattergeo\"}],\"scattergl\":[{\"marker\":{\"colorbar\":{\"outlinewidth\":0,\"ticks\":\"\"}},\"type\":\"scattergl\"}],\"scattermapbox\":[{\"marker\":{\"colorbar\":{\"outlinewidth\":0,\"ticks\":\"\"}},\"type\":\"scattermapbox\"}],\"scatterpolar\":[{\"marker\":{\"colorbar\":{\"outlinewidth\":0,\"ticks\":\"\"}},\"type\":\"scatterpolar\"}],\"scatterpolargl\":[{\"marker\":{\"colorbar\":{\"outlinewidth\":0,\"ticks\":\"\"}},\"type\":\"scatterpolargl\"}],\"scatterternary\":[{\"marker\":{\"colorbar\":{\"outlinewidth\":0,\"ticks\":\"\"}},\"type\":\"scatterternary\"}],\"surface\":[{\"colorbar\":{\"outlinewidth\":0,\"ticks\":\"\"},\"colorscale\":[[0.0,\"#0d0887\"],[0.1111111111111111,\"#46039f\"],[0.2222222222222222,\"#7201a8\"],[0.3333333333333333,\"#9c179e\"],[0.4444444444444444,\"#bd3786\"],[0.5555555555555556,\"#d8576b\"],[0.6666666666666666,\"#ed7953\"],[0.7777777777777778,\"#fb9f3a\"],[0.8888888888888888,\"#fdca26\"],[1.0,\"#f0f921\"]],\"type\":\"surface\"}],\"table\":[{\"cells\":{\"fill\":{\"color\":\"#EBF0F8\"},\"line\":{\"color\":\"white\"}},\"header\":{\"fill\":{\"color\":\"#C8D4E3\"},\"line\":{\"color\":\"white\"}},\"type\":\"table\"}]},\"layout\":{\"annotationdefaults\":{\"arrowcolor\":\"#2a3f5f\",\"arrowhead\":0,\"arrowwidth\":1},\"autotypenumbers\":\"strict\",\"coloraxis\":{\"colorbar\":{\"outlinewidth\":0,\"ticks\":\"\"}},\"colorscale\":{\"diverging\":[[0,\"#8e0152\"],[0.1,\"#c51b7d\"],[0.2,\"#de77ae\"],[0.3,\"#f1b6da\"],[0.4,\"#fde0ef\"],[0.5,\"#f7f7f7\"],[0.6,\"#e6f5d0\"],[0.7,\"#b8e186\"],[0.8,\"#7fbc41\"],[0.9,\"#4d9221\"],[1,\"#276419\"]],\"sequential\":[[0.0,\"#0d0887\"],[0.1111111111111111,\"#46039f\"],[0.2222222222222222,\"#7201a8\"],[0.3333333333333333,\"#9c179e\"],[0.4444444444444444,\"#bd3786\"],[0.5555555555555556,\"#d8576b\"],[0.6666666666666666,\"#ed7953\"],[0.7777777777777778,\"#fb9f3a\"],[0.8888888888888888,\"#fdca26\"],[1.0,\"#f0f921\"]],\"sequentialminus\":[[0.0,\"#0d0887\"],[0.1111111111111111,\"#46039f\"],[0.2222222222222222,\"#7201a8\"],[0.3333333333333333,\"#9c179e\"],[0.4444444444444444,\"#bd3786\"],[0.5555555555555556,\"#d8576b\"],[0.6666666666666666,\"#ed7953\"],[0.7777777777777778,\"#fb9f3a\"],[0.8888888888888888,\"#fdca26\"],[1.0,\"#f0f921\"]]},\"colorway\":[\"#636efa\",\"#EF553B\",\"#00cc96\",\"#ab63fa\",\"#FFA15A\",\"#19d3f3\",\"#FF6692\",\"#B6E880\",\"#FF97FF\",\"#FECB52\"],\"font\":{\"color\":\"#2a3f5f\"},\"geo\":{\"bgcolor\":\"white\",\"lakecolor\":\"white\",\"landcolor\":\"#E5ECF6\",\"showlakes\":true,\"showland\":true,\"subunitcolor\":\"white\"},\"hoverlabel\":{\"align\":\"left\"},\"hovermode\":\"closest\",\"mapbox\":{\"style\":\"light\"},\"paper_bgcolor\":\"white\",\"plot_bgcolor\":\"#E5ECF6\",\"polar\":{\"angularaxis\":{\"gridcolor\":\"white\",\"linecolor\":\"white\",\"ticks\":\"\"},\"bgcolor\":\"#E5ECF6\",\"radialaxis\":{\"gridcolor\":\"white\",\"linecolor\":\"white\",\"ticks\":\"\"}},\"scene\":{\"xaxis\":{\"backgroundcolor\":\"#E5ECF6\",\"gridcolor\":\"white\",\"gridwidth\":2,\"linecolor\":\"white\",\"showbackground\":true,\"ticks\":\"\",\"zerolinecolor\":\"white\"},\"yaxis\":{\"backgroundcolor\":\"#E5ECF6\",\"gridcolor\":\"white\",\"gridwidth\":2,\"linecolor\":\"white\",\"showbackground\":true,\"ticks\":\"\",\"zerolinecolor\":\"white\"},\"zaxis\":{\"backgroundcolor\":\"#E5ECF6\",\"gridcolor\":\"white\",\"gridwidth\":2,\"linecolor\":\"white\",\"showbackground\":true,\"ticks\":\"\",\"zerolinecolor\":\"white\"}},\"shapedefaults\":{\"line\":{\"color\":\"#2a3f5f\"}},\"ternary\":{\"aaxis\":{\"gridcolor\":\"white\",\"linecolor\":\"white\",\"ticks\":\"\"},\"baxis\":{\"gridcolor\":\"white\",\"linecolor\":\"white\",\"ticks\":\"\"},\"bgcolor\":\"#E5ECF6\",\"caxis\":{\"gridcolor\":\"white\",\"linecolor\":\"white\",\"ticks\":\"\"}},\"title\":{\"x\":0.05},\"xaxis\":{\"automargin\":true,\"gridcolor\":\"white\",\"linecolor\":\"white\",\"ticks\":\"\",\"title\":{\"standoff\":15},\"zerolinecolor\":\"white\",\"zerolinewidth\":2},\"yaxis\":{\"automargin\":true,\"gridcolor\":\"white\",\"linecolor\":\"white\",\"ticks\":\"\",\"title\":{\"standoff\":15},\"zerolinecolor\":\"white\",\"zerolinewidth\":2}}},\"title\":{\"text\":\"(\\u0645\\u0642\\u0627\\u0631\\u0646\\u0629 \\u062f\\u0631\\u062c\\u0627\\u062a \\u0627\\u0644\\u0637\\u0627\\u0644\\u0628 (\\u062e\\u0637\\u064e\\u064a) \\u0645\\u0639 \\u062f\\u0631\\u062c\\u0627\\u062a \\u0632\\u0645\\u0644\\u0627\\u0621\\u0647 (\\u0645\\u062e\\u0637\\u0637 \\u0627\\u0644\\u0635\\u0646\\u062f\\u0648\\u0642 \",\"x\":0.5,\"xanchor\":\"center\",\"y\":0.9,\"yanchor\":\"top\"},\"width\":1200,\"xaxis\":{\"tickangle\":45,\"ticktext\":[\"31-03-2020\",\"01-04-2020\",\"26-06-2020\",\"03-08-2020\",\"17-08-2020\",\"23-08-2020\",\"06-09-2020\",\"07-10-2020\",\"02-12-2020\"],\"tickvals\":[0,1,2,3,4,5,6,7,8],\"title\":{\"text\":\"Submit Time\"}},\"yaxis\":{\"title\":{\"text\":\"Mark\"}}},                        {\"responsive\": true}                    ).then(function(){\n                            \nvar gd = document.getElementById('a60f1051-82ed-467a-a3ad-55313f69dbeb');\nvar x = new MutationObserver(function (mutations, observer) {{\n        var display = window.getComputedStyle(gd).display;\n        if (!display || display === 'none') {{\n            console.log([gd, 'removed!']);\n            Plotly.purge(gd);\n            observer.disconnect();\n        }}\n}});\n\n// Listen for the removal of the full notebook cells\nvar notebookContainer = gd.closest('#notebook-container');\nif (notebookContainer) {{\n    x.observe(notebookContainer, {childList: true});\n}}\n\n// Listen for the clearing of the current output cell\nvar outputEl = gd.closest('.output');\nif (outputEl) {{\n    x.observe(outputEl, {childList: true});\n}}\n\n                        })                };                            </script>        </div>\n</body>\n</html>"
              },
              {
                "output_type": "pyerr",
                "metadata": {
                  "tags": []
                },
                "ename": "ValueError",
                "evalue": "ignored",
                "traceback": [
                  "\u001b[0;31m---------------------------------------------------------------------------\u001b[0m",
                  "\u001b[0;31mValueError\u001b[0m                                Traceback (most recent call last)",
                  "\u001b[0;32m/usr/local/lib/python3.7/dist-packages/ipywidgets/widgets/interaction.py\u001b[0m in \u001b[0;36mupdate\u001b[0;34m(self, *args)\u001b[0m\n\u001b[1;32m    254\u001b[0m                     \u001b[0mvalue\u001b[0m \u001b[0;34m=\u001b[0m \u001b[0mwidget\u001b[0m\u001b[0;34m.\u001b[0m\u001b[0mget_interact_value\u001b[0m\u001b[0;34m(\u001b[0m\u001b[0;34m)\u001b[0m\u001b[0;34m\u001b[0m\u001b[0;34m\u001b[0m\u001b[0m\n\u001b[1;32m    255\u001b[0m                     \u001b[0mself\u001b[0m\u001b[0;34m.\u001b[0m\u001b[0mkwargs\u001b[0m\u001b[0;34m[\u001b[0m\u001b[0mwidget\u001b[0m\u001b[0;34m.\u001b[0m\u001b[0m_kwarg\u001b[0m\u001b[0;34m]\u001b[0m \u001b[0;34m=\u001b[0m \u001b[0mvalue\u001b[0m\u001b[0;34m\u001b[0m\u001b[0;34m\u001b[0m\u001b[0m\n\u001b[0;32m--> 256\u001b[0;31m                 \u001b[0mself\u001b[0m\u001b[0;34m.\u001b[0m\u001b[0mresult\u001b[0m \u001b[0;34m=\u001b[0m \u001b[0mself\u001b[0m\u001b[0;34m.\u001b[0m\u001b[0mf\u001b[0m\u001b[0;34m(\u001b[0m\u001b[0;34m**\u001b[0m\u001b[0mself\u001b[0m\u001b[0;34m.\u001b[0m\u001b[0mkwargs\u001b[0m\u001b[0;34m)\u001b[0m\u001b[0;34m\u001b[0m\u001b[0;34m\u001b[0m\u001b[0m\n\u001b[0m\u001b[1;32m    257\u001b[0m                 \u001b[0mshow_inline_matplotlib_plots\u001b[0m\u001b[0;34m(\u001b[0m\u001b[0;34m)\u001b[0m\u001b[0;34m\u001b[0m\u001b[0;34m\u001b[0m\u001b[0m\n\u001b[1;32m    258\u001b[0m                 \u001b[0;32mif\u001b[0m \u001b[0mself\u001b[0m\u001b[0;34m.\u001b[0m\u001b[0mauto_display\u001b[0m \u001b[0;32mand\u001b[0m \u001b[0mself\u001b[0m\u001b[0;34m.\u001b[0m\u001b[0mresult\u001b[0m \u001b[0;32mis\u001b[0m \u001b[0;32mnot\u001b[0m \u001b[0;32mNone\u001b[0m\u001b[0;34m:\u001b[0m\u001b[0;34m\u001b[0m\u001b[0;34m\u001b[0m\u001b[0m\n",
                  "\u001b[0;32m<ipython-input-62-bd40882efa47>\u001b[0m in \u001b[0;36mplot_data3\u001b[0;34m(st, cs, dt, chkbx)\u001b[0m\n\u001b[1;32m      5\u001b[0m \u001b[0;34m\u001b[0m\u001b[0m\n\u001b[1;32m      6\u001b[0m   \u001b[0;31m# print(predict_std.reset_index().query(f\"Course_code=='{cs}' & student_ID=='{st}'\"))\u001b[0m\u001b[0;34m\u001b[0m\u001b[0;34m\u001b[0m\u001b[0;34m\u001b[0m\u001b[0m\n\u001b[0;32m----> 7\u001b[0;31m   \u001b[0mplot_dt\u001b[0m\u001b[0;34m(\u001b[0m\u001b[0mst\u001b[0m\u001b[0;34m,\u001b[0m \u001b[0mcs\u001b[0m\u001b[0;34m,\u001b[0m \u001b[0mdt\u001b[0m\u001b[0;34m,\u001b[0m  \u001b[0;34m(\u001b[0m\u001b[0;34m(\u001b[0m\u001b[0mchkbx\u001b[0m\u001b[0;34m)\u001b[0m\u001b[0;34m+\u001b[0m\u001b[0;36m0\u001b[0m\u001b[0;34m)\u001b[0m\u001b[0;34m)\u001b[0m\u001b[0;34m\u001b[0m\u001b[0;34m\u001b[0m\u001b[0m\n\u001b[0m",
                  "\u001b[0;32m<ipython-input-61-1f604c604e5b>\u001b[0m in \u001b[0;36mplot_dt\u001b[0;34m(st, cs, dt, chk)\u001b[0m\n\u001b[1;32m      1\u001b[0m \u001b[0;32mdef\u001b[0m   \u001b[0mplot_dt\u001b[0m\u001b[0;34m(\u001b[0m\u001b[0mst\u001b[0m\u001b[0;34m,\u001b[0m \u001b[0mcs\u001b[0m\u001b[0;34m,\u001b[0m \u001b[0mdt\u001b[0m\u001b[0;34m,\u001b[0m \u001b[0mchk\u001b[0m\u001b[0;34m)\u001b[0m\u001b[0;34m:\u001b[0m\u001b[0;34m\u001b[0m\u001b[0;34m\u001b[0m\u001b[0m\n\u001b[0;32m----> 2\u001b[0;31m   \u001b[0mdt_tmp\u001b[0m\u001b[0;34m,\u001b[0m \u001b[0mdt_plot\u001b[0m\u001b[0;34m,\u001b[0m \u001b[0mdf_stAct\u001b[0m\u001b[0;34m=\u001b[0m \u001b[0mplot_std_Data3\u001b[0m\u001b[0;34m(\u001b[0m\u001b[0mst\u001b[0m\u001b[0;34m,\u001b[0m \u001b[0mcs\u001b[0m\u001b[0;34m,\u001b[0m \u001b[0mdt\u001b[0m\u001b[0;34m,\u001b[0m \u001b[0mchk\u001b[0m\u001b[0;34m)\u001b[0m\u001b[0;34m\u001b[0m\u001b[0;34m\u001b[0m\u001b[0m\n\u001b[0m\u001b[1;32m      3\u001b[0m   \u001b[0mfig\u001b[0m \u001b[0;34m=\u001b[0m \u001b[0mgo\u001b[0m\u001b[0;34m.\u001b[0m\u001b[0mFigure\u001b[0m\u001b[0;34m(\u001b[0m\u001b[0;34m)\u001b[0m\u001b[0;34m\u001b[0m\u001b[0;34m\u001b[0m\u001b[0m\n\u001b[1;32m      4\u001b[0m \u001b[0;34m\u001b[0m\u001b[0m\n\u001b[1;32m      5\u001b[0m   fig.add_trace(\n",
                  "\u001b[0;31mValueError\u001b[0m: too many values to unpack (expected 3)"
                ]
              }
            ],
            "_view_module": "@jupyter-widgets/output",
            "_model_module_version": "1.0.0",
            "_view_count": null,
            "_view_module_version": "1.0.0",
            "layout": "IPY_MODEL_bbfbd4b5bcdd4e1da2a2d2b6364b4c03",
            "_model_module": "@jupyter-widgets/output"
          }
        },
        "1073d7f41e7f4cd0869f13522512c94c": {
          "model_module": "@jupyter-widgets/controls",
          "model_name": "DescriptionStyleModel",
          "state": {
            "_view_name": "StyleView",
            "_model_name": "DescriptionStyleModel",
            "description_width": "",
            "_view_module": "@jupyter-widgets/base",
            "_model_module_version": "1.5.0",
            "_view_count": null,
            "_view_module_version": "1.2.0",
            "_model_module": "@jupyter-widgets/controls"
          }
        },
        "76f1279c13bd41eebb922a3ebd9045c2": {
          "model_module": "@jupyter-widgets/base",
          "model_name": "LayoutModel",
          "state": {
            "_view_name": "LayoutView",
            "grid_template_rows": null,
            "right": null,
            "justify_content": null,
            "_view_module": "@jupyter-widgets/base",
            "overflow": null,
            "_model_module_version": "1.2.0",
            "_view_count": null,
            "flex_flow": null,
            "width": null,
            "min_width": null,
            "border": null,
            "align_items": null,
            "bottom": null,
            "_model_module": "@jupyter-widgets/base",
            "top": null,
            "grid_column": null,
            "overflow_y": null,
            "overflow_x": null,
            "grid_auto_flow": null,
            "grid_area": null,
            "grid_template_columns": null,
            "flex": null,
            "_model_name": "LayoutModel",
            "justify_items": null,
            "grid_row": null,
            "max_height": null,
            "align_content": null,
            "visibility": null,
            "align_self": null,
            "height": null,
            "min_height": null,
            "padding": null,
            "grid_auto_rows": null,
            "grid_gap": null,
            "max_width": null,
            "order": null,
            "_view_module_version": "1.2.0",
            "grid_template_areas": null,
            "object_position": null,
            "object_fit": null,
            "grid_auto_columns": null,
            "margin": null,
            "display": null,
            "left": null
          }
        },
        "4ce95935d7b340c3880934750e136fb0": {
          "model_module": "@jupyter-widgets/controls",
          "model_name": "DescriptionStyleModel",
          "state": {
            "_view_name": "StyleView",
            "_model_name": "DescriptionStyleModel",
            "description_width": "",
            "_view_module": "@jupyter-widgets/base",
            "_model_module_version": "1.5.0",
            "_view_count": null,
            "_view_module_version": "1.2.0",
            "_model_module": "@jupyter-widgets/controls"
          }
        },
        "464fe9f9cd584860b0218e3fc33574a8": {
          "model_module": "@jupyter-widgets/base",
          "model_name": "LayoutModel",
          "state": {
            "_view_name": "LayoutView",
            "grid_template_rows": null,
            "right": null,
            "justify_content": null,
            "_view_module": "@jupyter-widgets/base",
            "overflow": null,
            "_model_module_version": "1.2.0",
            "_view_count": null,
            "flex_flow": null,
            "width": null,
            "min_width": null,
            "border": null,
            "align_items": null,
            "bottom": null,
            "_model_module": "@jupyter-widgets/base",
            "top": null,
            "grid_column": null,
            "overflow_y": null,
            "overflow_x": null,
            "grid_auto_flow": null,
            "grid_area": null,
            "grid_template_columns": null,
            "flex": null,
            "_model_name": "LayoutModel",
            "justify_items": null,
            "grid_row": null,
            "max_height": null,
            "align_content": null,
            "visibility": null,
            "align_self": null,
            "height": null,
            "min_height": null,
            "padding": null,
            "grid_auto_rows": null,
            "grid_gap": null,
            "max_width": null,
            "order": null,
            "_view_module_version": "1.2.0",
            "grid_template_areas": null,
            "object_position": null,
            "object_fit": null,
            "grid_auto_columns": null,
            "margin": null,
            "display": null,
            "left": null
          }
        },
        "26fb560740974e48a384732896560007": {
          "model_module": "@jupyter-widgets/controls",
          "model_name": "DescriptionStyleModel",
          "state": {
            "_view_name": "StyleView",
            "_model_name": "DescriptionStyleModel",
            "description_width": "",
            "_view_module": "@jupyter-widgets/base",
            "_model_module_version": "1.5.0",
            "_view_count": null,
            "_view_module_version": "1.2.0",
            "_model_module": "@jupyter-widgets/controls"
          }
        },
        "f8414dd4b11c4a878aff4f4bb49dc77c": {
          "model_module": "@jupyter-widgets/base",
          "model_name": "LayoutModel",
          "state": {
            "_view_name": "LayoutView",
            "grid_template_rows": null,
            "right": null,
            "justify_content": null,
            "_view_module": "@jupyter-widgets/base",
            "overflow": null,
            "_model_module_version": "1.2.0",
            "_view_count": null,
            "flex_flow": null,
            "width": null,
            "min_width": null,
            "border": null,
            "align_items": null,
            "bottom": null,
            "_model_module": "@jupyter-widgets/base",
            "top": null,
            "grid_column": null,
            "overflow_y": null,
            "overflow_x": null,
            "grid_auto_flow": null,
            "grid_area": null,
            "grid_template_columns": null,
            "flex": null,
            "_model_name": "LayoutModel",
            "justify_items": null,
            "grid_row": null,
            "max_height": null,
            "align_content": null,
            "visibility": null,
            "align_self": null,
            "height": null,
            "min_height": null,
            "padding": null,
            "grid_auto_rows": null,
            "grid_gap": null,
            "max_width": null,
            "order": null,
            "_view_module_version": "1.2.0",
            "grid_template_areas": null,
            "object_position": null,
            "object_fit": null,
            "grid_auto_columns": null,
            "margin": null,
            "display": null,
            "left": null
          }
        },
        "72151c4a5bc949f2916b0ed023001ddf": {
          "model_module": "@jupyter-widgets/controls",
          "model_name": "DescriptionStyleModel",
          "state": {
            "_view_name": "StyleView",
            "_model_name": "DescriptionStyleModel",
            "description_width": "",
            "_view_module": "@jupyter-widgets/base",
            "_model_module_version": "1.5.0",
            "_view_count": null,
            "_view_module_version": "1.2.0",
            "_model_module": "@jupyter-widgets/controls"
          }
        },
        "1e0b229365ea405da76458ac256947dd": {
          "model_module": "@jupyter-widgets/base",
          "model_name": "LayoutModel",
          "state": {
            "_view_name": "LayoutView",
            "grid_template_rows": null,
            "right": null,
            "justify_content": null,
            "_view_module": "@jupyter-widgets/base",
            "overflow": null,
            "_model_module_version": "1.2.0",
            "_view_count": null,
            "flex_flow": null,
            "width": null,
            "min_width": null,
            "border": null,
            "align_items": null,
            "bottom": null,
            "_model_module": "@jupyter-widgets/base",
            "top": null,
            "grid_column": null,
            "overflow_y": null,
            "overflow_x": null,
            "grid_auto_flow": null,
            "grid_area": null,
            "grid_template_columns": null,
            "flex": null,
            "_model_name": "LayoutModel",
            "justify_items": null,
            "grid_row": null,
            "max_height": null,
            "align_content": null,
            "visibility": null,
            "align_self": null,
            "height": null,
            "min_height": null,
            "padding": null,
            "grid_auto_rows": null,
            "grid_gap": null,
            "max_width": null,
            "order": null,
            "_view_module_version": "1.2.0",
            "grid_template_areas": null,
            "object_position": null,
            "object_fit": null,
            "grid_auto_columns": null,
            "margin": null,
            "display": null,
            "left": null
          }
        },
        "bbfbd4b5bcdd4e1da2a2d2b6364b4c03": {
          "model_module": "@jupyter-widgets/base",
          "model_name": "LayoutModel",
          "state": {
            "_view_name": "LayoutView",
            "grid_template_rows": null,
            "right": null,
            "justify_content": null,
            "_view_module": "@jupyter-widgets/base",
            "overflow": null,
            "_model_module_version": "1.2.0",
            "_view_count": null,
            "flex_flow": null,
            "width": null,
            "min_width": null,
            "border": null,
            "align_items": null,
            "bottom": null,
            "_model_module": "@jupyter-widgets/base",
            "top": null,
            "grid_column": null,
            "overflow_y": null,
            "overflow_x": null,
            "grid_auto_flow": null,
            "grid_area": null,
            "grid_template_columns": null,
            "flex": null,
            "_model_name": "LayoutModel",
            "justify_items": null,
            "grid_row": null,
            "max_height": null,
            "align_content": null,
            "visibility": null,
            "align_self": null,
            "height": null,
            "min_height": null,
            "padding": null,
            "grid_auto_rows": null,
            "grid_gap": null,
            "max_width": null,
            "order": null,
            "_view_module_version": "1.2.0",
            "grid_template_areas": null,
            "object_position": null,
            "object_fit": null,
            "grid_auto_columns": null,
            "margin": null,
            "display": null,
            "left": null
          }
        },
        "fe92292e99e649ab96bf00ae210f0548": {
          "model_module": "@jupyter-widgets/controls",
          "model_name": "VBoxModel",
          "state": {
            "_view_name": "VBoxView",
            "_dom_classes": [
              "widget-interact"
            ],
            "_model_name": "VBoxModel",
            "_view_module": "@jupyter-widgets/controls",
            "_model_module_version": "1.5.0",
            "_view_count": null,
            "_view_module_version": "1.5.0",
            "box_style": "",
            "layout": "IPY_MODEL_11b9fe2370f54289b89d75404bf0962e",
            "_model_module": "@jupyter-widgets/controls",
            "children": [
              "IPY_MODEL_f74ce13631e34607967dee1c959d52d2",
              "IPY_MODEL_16d24c4936be434d98a800f4203680f9",
              "IPY_MODEL_8e70e776f27749bfb5db27a38ab2db03",
              "IPY_MODEL_c8a16adb9d8347208bbb44c1beca4286",
              "IPY_MODEL_753054d2e2a04225a9ee258ca60893b9"
            ]
          }
        },
        "11b9fe2370f54289b89d75404bf0962e": {
          "model_module": "@jupyter-widgets/base",
          "model_name": "LayoutModel",
          "state": {
            "_view_name": "LayoutView",
            "grid_template_rows": null,
            "right": null,
            "justify_content": null,
            "_view_module": "@jupyter-widgets/base",
            "overflow": null,
            "_model_module_version": "1.2.0",
            "_view_count": null,
            "flex_flow": null,
            "width": null,
            "min_width": null,
            "border": null,
            "align_items": null,
            "bottom": null,
            "_model_module": "@jupyter-widgets/base",
            "top": null,
            "grid_column": null,
            "overflow_y": null,
            "overflow_x": null,
            "grid_auto_flow": null,
            "grid_area": null,
            "grid_template_columns": null,
            "flex": null,
            "_model_name": "LayoutModel",
            "justify_items": null,
            "grid_row": null,
            "max_height": null,
            "align_content": null,
            "visibility": null,
            "align_self": null,
            "height": null,
            "min_height": null,
            "padding": null,
            "grid_auto_rows": null,
            "grid_gap": null,
            "max_width": null,
            "order": null,
            "_view_module_version": "1.2.0",
            "grid_template_areas": null,
            "object_position": null,
            "object_fit": null,
            "grid_auto_columns": null,
            "margin": null,
            "display": null,
            "left": null
          }
        },
        "f74ce13631e34607967dee1c959d52d2": {
          "model_module": "@jupyter-widgets/controls",
          "model_name": "DropdownModel",
          "state": {
            "_options_labels": [
              "080748524S",
              "090904691S",
              "060991839S",
              "071059051S",
              "071223506S"
            ],
            "_view_name": "DropdownView",
            "style": "IPY_MODEL_f205e2dafd0f460d9490c89ec26be2ea",
            "_dom_classes": [],
            "description": "st",
            "_model_name": "DropdownModel",
            "index": 4,
            "_view_module": "@jupyter-widgets/controls",
            "_model_module_version": "1.5.0",
            "_view_count": null,
            "disabled": false,
            "_view_module_version": "1.5.0",
            "description_tooltip": null,
            "_model_module": "@jupyter-widgets/controls",
            "layout": "IPY_MODEL_1cbd39f56c6844b794100c1db50503ff"
          }
        },
        "16d24c4936be434d98a800f4203680f9": {
          "model_module": "@jupyter-widgets/controls",
          "model_name": "DropdownModel",
          "state": {
            "_options_labels": [
              "g7_1",
              "g7_3",
              "g7_2"
            ],
            "_view_name": "DropdownView",
            "style": "IPY_MODEL_f5c840ec53ca4a06839a580c4e46e5b4",
            "_dom_classes": [],
            "description": "cs",
            "_model_name": "DropdownModel",
            "index": 0,
            "_view_module": "@jupyter-widgets/controls",
            "_model_module_version": "1.5.0",
            "_view_count": null,
            "disabled": false,
            "_view_module_version": "1.5.0",
            "description_tooltip": null,
            "_model_module": "@jupyter-widgets/controls",
            "layout": "IPY_MODEL_4c3c6e96a1924fc3a516ee459b65aeeb"
          }
        },
        "8e70e776f27749bfb5db27a38ab2db03": {
          "model_module": "@jupyter-widgets/controls",
          "model_name": "DatePickerModel",
          "state": {
            "_view_name": "DatePickerView",
            "style": "IPY_MODEL_6f4052b871e84d6ba02307e202dd6c6e",
            "_dom_classes": [],
            "description": "ابتداءًا من تاريخ",
            "_model_name": "DatePickerModel",
            "_view_module": "@jupyter-widgets/controls",
            "_model_module_version": "1.5.0",
            "value": {
              "year": 2020,
              "month": 6,
              "date": 5
            },
            "_view_count": null,
            "disabled": false,
            "_view_module_version": "1.5.0",
            "description_tooltip": null,
            "_model_module": "@jupyter-widgets/controls",
            "layout": "IPY_MODEL_b63807a602d54b5e85da362af0cab738"
          }
        },
        "c8a16adb9d8347208bbb44c1beca4286": {
          "model_module": "@jupyter-widgets/controls",
          "model_name": "CheckboxModel",
          "state": {
            "_view_name": "CheckboxView",
            "style": "IPY_MODEL_7df08cc91ceb4fff8e5992fee126c4f0",
            "_dom_classes": [],
            "description": "عرض الاختبارات",
            "_model_name": "CheckboxModel",
            "_view_module": "@jupyter-widgets/controls",
            "_model_module_version": "1.5.0",
            "value": false,
            "_view_count": null,
            "disabled": false,
            "_view_module_version": "1.5.0",
            "indent": true,
            "description_tooltip": null,
            "_model_module": "@jupyter-widgets/controls",
            "layout": "IPY_MODEL_1dfb04e298c343b1af9e386c9e90360e"
          }
        },
        "753054d2e2a04225a9ee258ca60893b9": {
          "model_module": "@jupyter-widgets/output",
          "model_name": "OutputModel",
          "state": {
            "_view_name": "OutputView",
            "msg_id": "",
            "_dom_classes": [],
            "_model_name": "OutputModel",
            "outputs": [
              {
                "output_type": "display_data",
                "metadata": {
                  "tags": []
                },
                "text/html": "<html>\n<head><meta charset=\"utf-8\" /></head>\n<body>\n    <div>            <script src=\"https://cdnjs.cloudflare.com/ajax/libs/mathjax/2.7.5/MathJax.js?config=TeX-AMS-MML_SVG\"></script><script type=\"text/javascript\">if (window.MathJax) {MathJax.Hub.Config({SVG: {font: \"STIX-Web\"}});}</script>                <script type=\"text/javascript\">window.PlotlyConfig = {MathJaxConfig: 'local'};</script>\n        <script src=\"https://cdn.plot.ly/plotly-2.2.0.min.js\"></script>                <div id=\"adcc7b4f-b88f-4604-9e10-e6d37a1c429f\" class=\"plotly-graph-div\" style=\"height:600px; width:1200px;\"></div>            <script type=\"text/javascript\">                                    window.PLOTLYENV=window.PLOTLYENV || {};                                    if (document.getElementById(\"adcc7b4f-b88f-4604-9e10-e6d37a1c429f\")) {                    Plotly.newPlot(                        \"adcc7b4f-b88f-4604-9e10-e6d37a1c429f\",                        [{\"name\":\"\\u0627\\u0644\\u062f\\u0631\\u062c\\u0629\",\"type\":\"scatter\",\"x\":[\"2020-08-08T01:59:37\",\"2020-08-14T22:04:41\",\"2020-10-13T03:22:58\",\"2020-11-16T20:44:23\",\"2020-11-25T17:01:31\",\"2020-12-06T14:43:39\",\"2020-12-30T22:02:14\"],\"xaxis\":\"x\",\"y\":[1.27,3.19,1.15,8.56,0.98,5.08,5.68],\"yaxis\":\"y\"},{\"name\":\"\\u0645\\u062f\\u0629 \\u0627\\u0644\\u062a\\u0633\\u0644\\u064a\\u0645\",\"type\":\"scatter\",\"x\":[\"2020-08-08T01:59:37\",\"2020-08-14T22:04:41\",\"2020-10-13T03:22:58\",\"2020-11-16T20:44:23\",\"2020-11-25T17:01:31\",\"2020-12-06T14:43:39\",\"2020-12-30T22:02:14\"],\"xaxis\":\"x\",\"y\":[11,8,6,8,10,7,2],\"yaxis\":\"y2\"},{\"line\":{\"dash\":\"dot\",\"width\":4},\"marker\":{\"size\":12},\"name\":\"\\u0627\\u0644\\u062f\\u0631\\u062c\\u0629 \\u0627\\u0644\\u0645\\u062a\\u0648\\u0642\\u0639\\u0629\",\"type\":\"scatter\",\"x\":[\"2020-12-30T22:02:14\",\"2021-01-13T22:02:14\"],\"xaxis\":\"x\",\"y\":[5.68,\"1.76\"],\"yaxis\":\"y\"},{\"marker\":{\"color\":\"red\"},\"mode\":\"lines+markers\",\"name\":\"\\u062f\\u0631\\u062c\\u0629 \\u0627\\u0644\\u0637\\u0627\\u0644\\u0628\",\"type\":\"scatter\",\"x\":[\"g7_1-Act_12\",\"g7_1-Act_18\",\"g7_1-Act_17\",\"g7_1-Act_10\",\"g7_1-Act_16\",\"g7_1-Act_15\",\"g7_1-Act_11\"],\"xaxis\":\"x2\",\"y\":[1.27,3.19,1.15,8.56,0.98,5.08,5.68],\"yaxis\":\"y3\"},{\"line\":{\"dash\":\"dot\",\"width\":4},\"marker\":{\"color\":\"blue\",\"size\":12},\"mode\":\"lines+markers\",\"name\":\"\\u0627\\u0644\\u062f\\u0631\\u062c\\u0629 \\u0627\\u0644\\u0645\\u062a\\u0648\\u0642\\u0639\\u0629\",\"type\":\"scatter\",\"x\":[\"g7_1-Act_11\",\"_\"],\"xaxis\":\"x2\",\"y\":[5.68,1.76],\"yaxis\":\"y3\"},{\"marker\":{\"color\":\"green\"},\"name\":\"\\u062a\\u0648\\u0632\\u064a\\u0639 \\u062f\\u0631\\u062c\\u0627\\u062a \\u0627\\u0644\\u0637\\u0644\\u0627\\u0628\",\"type\":\"box\",\"width\":0.2,\"x\":[\"g7_1-Act_12\",\"g7_1-Act_12\",\"g7_1-Act_12\",\"g7_1-Act_12\",\"g7_1-Act_18\",\"g7_1-Act_18\",\"g7_1-Act_18\",\"g7_1-Act_18\",\"g7_1-Act_18\",\"g7_1-Act_17\",\"g7_1-Act_17\",\"g7_1-Act_17\",\"g7_1-Act_17\",\"g7_1-Act_10\",\"g7_1-Act_10\",\"g7_1-Act_10\",\"g7_1-Act_10\",\"g7_1-Act_10\",\"g7_1-Act_16\",\"g7_1-Act_16\",\"g7_1-Act_16\",\"g7_1-Act_16\",\"g7_1-Act_16\",\"g7_1-Act_16\",\"g7_1-Act_16\",\"g7_1-Act_16\",\"g7_1-Act_16\",\"g7_1-Act_15\",\"g7_1-Act_15\",\"g7_1-Act_11\",\"g7_1-Act_11\",\"g7_1-Act_11\",\"g7_1-Act_11\",\"g7_1-Act_11\",\"g7_1-Act_11\"],\"xaxis\":\"x2\",\"y\":[3.51,1.78,9.71,3.03,7.67,5.03,9.17,8.69,6.17,7.69,7.43,4.65,4.01,3.22,9.69,5.17,2.73,1.45,3.41,9.75,8.71,4.07,5.41,1.92,1.88,7.58,1.95,6.33,9.19,1.0,2.9,6.75,7.24,7.64,4.72],\"yaxis\":\"y3\"}],                        {\"annotations\":[{\"bgcolor\":\"white\",\"bordercolor\":\"purple\",\"borderpad\":7,\"borderwidth\":3,\"font\":{\"color\":\"black\",\"size\":18},\"showarrow\":false,\"text\":\"\\u0642\\u062f \\u062a\\u0631\\u063a\\u0628 \\u0641\\u064a \\u0645\\u062a\\u0627\\u0628\\u0639\\u0629 \\u0627\\u0644\\u062a\\u0648\\u0635\\u064a\\u0627\\u062a \\u0627\\u0644\\u062a\\u0627\\u0644\\u064a\\u0629\",\"textangle\":0,\"x\":-0.07,\"xanchor\":\"left\",\"xref\":\"paper\",\"y\":-0.45,\"yref\":\"paper\"},{\"bgcolor\":\"white\",\"bordercolor\":\"purple\",\"borderpad\":4,\"borderwidth\":3,\"font\":{\"color\":\"black\",\"size\":15},\"showarrow\":false,\"text\":\"\\u0627\\u0644\\u062f\\u0631\\u062c\\u0629 \\u0627\\u0644\\u0645\\u062a\\u0648\\u0642\\u0639\\u0629\",\"textangle\":0,\"x\":0.88,\"xanchor\":\"center\",\"xref\":\"paper\",\"y\":1.3,\"yref\":\"paper\"},{\"bgcolor\":\"white\",\"bordercolor\":\"purple\",\"borderpad\":4,\"borderwidth\":3,\"font\":{\"color\":\"black\",\"size\":15},\"showarrow\":false,\"text\":\"1.76\",\"textangle\":0,\"x\":0.788,\"xanchor\":\"center\",\"xref\":\"paper\",\"y\":1.3,\"yref\":\"paper\"},{\"bgcolor\":\"white\",\"bordercolor\":\"purple\",\"borderpad\":4,\"borderwidth\":3,\"font\":{\"color\":\"black\",\"size\":15},\"showarrow\":false,\"text\":\"\\u0627\\u0644\\u062a\\u0635\\u0646\\u064a\\u0641 \\u0627\\u0644\\u0645\\u062a\\u0648\\u0642\\u0639\",\"textangle\":0,\"x\":0.88,\"xanchor\":\"center\",\"xref\":\"paper\",\"y\":1.15,\"yref\":\"paper\"},{\"bgcolor\":\"white\",\"bordercolor\":\"purple\",\"borderpad\":4,\"borderwidth\":3,\"font\":{\"color\":\"black\",\"size\":15},\"showarrow\":false,\"text\":\"A\",\"textangle\":0,\"x\":0.8,\"xanchor\":\"center\",\"xref\":\"paper\",\"y\":1.15,\"yref\":\"paper\"}],\"autosize\":false,\"font\":{\"color\":\"black\",\"family\":\"Times New Roman, monospace\",\"size\":18},\"height\":600,\"hovermode\":\"x\",\"template\":{\"data\":{\"bar\":[{\"error_x\":{\"color\":\"#2a3f5f\"},\"error_y\":{\"color\":\"#2a3f5f\"},\"marker\":{\"line\":{\"color\":\"#E5ECF6\",\"width\":0.5},\"pattern\":{\"fillmode\":\"overlay\",\"size\":10,\"solidity\":0.2}},\"type\":\"bar\"}],\"barpolar\":[{\"marker\":{\"line\":{\"color\":\"#E5ECF6\",\"width\":0.5},\"pattern\":{\"fillmode\":\"overlay\",\"size\":10,\"solidity\":0.2}},\"type\":\"barpolar\"}],\"carpet\":[{\"aaxis\":{\"endlinecolor\":\"#2a3f5f\",\"gridcolor\":\"white\",\"linecolor\":\"white\",\"minorgridcolor\":\"white\",\"startlinecolor\":\"#2a3f5f\"},\"baxis\":{\"endlinecolor\":\"#2a3f5f\",\"gridcolor\":\"white\",\"linecolor\":\"white\",\"minorgridcolor\":\"white\",\"startlinecolor\":\"#2a3f5f\"},\"type\":\"carpet\"}],\"choropleth\":[{\"colorbar\":{\"outlinewidth\":0,\"ticks\":\"\"},\"type\":\"choropleth\"}],\"contour\":[{\"colorbar\":{\"outlinewidth\":0,\"ticks\":\"\"},\"colorscale\":[[0.0,\"#0d0887\"],[0.1111111111111111,\"#46039f\"],[0.2222222222222222,\"#7201a8\"],[0.3333333333333333,\"#9c179e\"],[0.4444444444444444,\"#bd3786\"],[0.5555555555555556,\"#d8576b\"],[0.6666666666666666,\"#ed7953\"],[0.7777777777777778,\"#fb9f3a\"],[0.8888888888888888,\"#fdca26\"],[1.0,\"#f0f921\"]],\"type\":\"contour\"}],\"contourcarpet\":[{\"colorbar\":{\"outlinewidth\":0,\"ticks\":\"\"},\"type\":\"contourcarpet\"}],\"heatmap\":[{\"colorbar\":{\"outlinewidth\":0,\"ticks\":\"\"},\"colorscale\":[[0.0,\"#0d0887\"],[0.1111111111111111,\"#46039f\"],[0.2222222222222222,\"#7201a8\"],[0.3333333333333333,\"#9c179e\"],[0.4444444444444444,\"#bd3786\"],[0.5555555555555556,\"#d8576b\"],[0.6666666666666666,\"#ed7953\"],[0.7777777777777778,\"#fb9f3a\"],[0.8888888888888888,\"#fdca26\"],[1.0,\"#f0f921\"]],\"type\":\"heatmap\"}],\"heatmapgl\":[{\"colorbar\":{\"outlinewidth\":0,\"ticks\":\"\"},\"colorscale\":[[0.0,\"#0d0887\"],[0.1111111111111111,\"#46039f\"],[0.2222222222222222,\"#7201a8\"],[0.3333333333333333,\"#9c179e\"],[0.4444444444444444,\"#bd3786\"],[0.5555555555555556,\"#d8576b\"],[0.6666666666666666,\"#ed7953\"],[0.7777777777777778,\"#fb9f3a\"],[0.8888888888888888,\"#fdca26\"],[1.0,\"#f0f921\"]],\"type\":\"heatmapgl\"}],\"histogram\":[{\"marker\":{\"pattern\":{\"fillmode\":\"overlay\",\"size\":10,\"solidity\":0.2}},\"type\":\"histogram\"}],\"histogram2d\":[{\"colorbar\":{\"outlinewidth\":0,\"ticks\":\"\"},\"colorscale\":[[0.0,\"#0d0887\"],[0.1111111111111111,\"#46039f\"],[0.2222222222222222,\"#7201a8\"],[0.3333333333333333,\"#9c179e\"],[0.4444444444444444,\"#bd3786\"],[0.5555555555555556,\"#d8576b\"],[0.6666666666666666,\"#ed7953\"],[0.7777777777777778,\"#fb9f3a\"],[0.8888888888888888,\"#fdca26\"],[1.0,\"#f0f921\"]],\"type\":\"histogram2d\"}],\"histogram2dcontour\":[{\"colorbar\":{\"outlinewidth\":0,\"ticks\":\"\"},\"colorscale\":[[0.0,\"#0d0887\"],[0.1111111111111111,\"#46039f\"],[0.2222222222222222,\"#7201a8\"],[0.3333333333333333,\"#9c179e\"],[0.4444444444444444,\"#bd3786\"],[0.5555555555555556,\"#d8576b\"],[0.6666666666666666,\"#ed7953\"],[0.7777777777777778,\"#fb9f3a\"],[0.8888888888888888,\"#fdca26\"],[1.0,\"#f0f921\"]],\"type\":\"histogram2dcontour\"}],\"mesh3d\":[{\"colorbar\":{\"outlinewidth\":0,\"ticks\":\"\"},\"type\":\"mesh3d\"}],\"parcoords\":[{\"line\":{\"colorbar\":{\"outlinewidth\":0,\"ticks\":\"\"}},\"type\":\"parcoords\"}],\"pie\":[{\"automargin\":true,\"type\":\"pie\"}],\"scatter\":[{\"marker\":{\"colorbar\":{\"outlinewidth\":0,\"ticks\":\"\"}},\"type\":\"scatter\"}],\"scatter3d\":[{\"line\":{\"colorbar\":{\"outlinewidth\":0,\"ticks\":\"\"}},\"marker\":{\"colorbar\":{\"outlinewidth\":0,\"ticks\":\"\"}},\"type\":\"scatter3d\"}],\"scattercarpet\":[{\"marker\":{\"colorbar\":{\"outlinewidth\":0,\"ticks\":\"\"}},\"type\":\"scattercarpet\"}],\"scattergeo\":[{\"marker\":{\"colorbar\":{\"outlinewidth\":0,\"ticks\":\"\"}},\"type\":\"scattergeo\"}],\"scattergl\":[{\"marker\":{\"colorbar\":{\"outlinewidth\":0,\"ticks\":\"\"}},\"type\":\"scattergl\"}],\"scattermapbox\":[{\"marker\":{\"colorbar\":{\"outlinewidth\":0,\"ticks\":\"\"}},\"type\":\"scattermapbox\"}],\"scatterpolar\":[{\"marker\":{\"colorbar\":{\"outlinewidth\":0,\"ticks\":\"\"}},\"type\":\"scatterpolar\"}],\"scatterpolargl\":[{\"marker\":{\"colorbar\":{\"outlinewidth\":0,\"ticks\":\"\"}},\"type\":\"scatterpolargl\"}],\"scatterternary\":[{\"marker\":{\"colorbar\":{\"outlinewidth\":0,\"ticks\":\"\"}},\"type\":\"scatterternary\"}],\"surface\":[{\"colorbar\":{\"outlinewidth\":0,\"ticks\":\"\"},\"colorscale\":[[0.0,\"#0d0887\"],[0.1111111111111111,\"#46039f\"],[0.2222222222222222,\"#7201a8\"],[0.3333333333333333,\"#9c179e\"],[0.4444444444444444,\"#bd3786\"],[0.5555555555555556,\"#d8576b\"],[0.6666666666666666,\"#ed7953\"],[0.7777777777777778,\"#fb9f3a\"],[0.8888888888888888,\"#fdca26\"],[1.0,\"#f0f921\"]],\"type\":\"surface\"}],\"table\":[{\"cells\":{\"fill\":{\"color\":\"#EBF0F8\"},\"line\":{\"color\":\"white\"}},\"header\":{\"fill\":{\"color\":\"#C8D4E3\"},\"line\":{\"color\":\"white\"}},\"type\":\"table\"}]},\"layout\":{\"annotationdefaults\":{\"arrowcolor\":\"#2a3f5f\",\"arrowhead\":0,\"arrowwidth\":1},\"autotypenumbers\":\"strict\",\"coloraxis\":{\"colorbar\":{\"outlinewidth\":0,\"ticks\":\"\"}},\"colorscale\":{\"diverging\":[[0,\"#8e0152\"],[0.1,\"#c51b7d\"],[0.2,\"#de77ae\"],[0.3,\"#f1b6da\"],[0.4,\"#fde0ef\"],[0.5,\"#f7f7f7\"],[0.6,\"#e6f5d0\"],[0.7,\"#b8e186\"],[0.8,\"#7fbc41\"],[0.9,\"#4d9221\"],[1,\"#276419\"]],\"sequential\":[[0.0,\"#0d0887\"],[0.1111111111111111,\"#46039f\"],[0.2222222222222222,\"#7201a8\"],[0.3333333333333333,\"#9c179e\"],[0.4444444444444444,\"#bd3786\"],[0.5555555555555556,\"#d8576b\"],[0.6666666666666666,\"#ed7953\"],[0.7777777777777778,\"#fb9f3a\"],[0.8888888888888888,\"#fdca26\"],[1.0,\"#f0f921\"]],\"sequentialminus\":[[0.0,\"#0d0887\"],[0.1111111111111111,\"#46039f\"],[0.2222222222222222,\"#7201a8\"],[0.3333333333333333,\"#9c179e\"],[0.4444444444444444,\"#bd3786\"],[0.5555555555555556,\"#d8576b\"],[0.6666666666666666,\"#ed7953\"],[0.7777777777777778,\"#fb9f3a\"],[0.8888888888888888,\"#fdca26\"],[1.0,\"#f0f921\"]]},\"colorway\":[\"#636efa\",\"#EF553B\",\"#00cc96\",\"#ab63fa\",\"#FFA15A\",\"#19d3f3\",\"#FF6692\",\"#B6E880\",\"#FF97FF\",\"#FECB52\"],\"font\":{\"color\":\"#2a3f5f\"},\"geo\":{\"bgcolor\":\"white\",\"lakecolor\":\"white\",\"landcolor\":\"#E5ECF6\",\"showlakes\":true,\"showland\":true,\"subunitcolor\":\"white\"},\"hoverlabel\":{\"align\":\"left\"},\"hovermode\":\"closest\",\"mapbox\":{\"style\":\"light\"},\"paper_bgcolor\":\"white\",\"plot_bgcolor\":\"#E5ECF6\",\"polar\":{\"angularaxis\":{\"gridcolor\":\"white\",\"linecolor\":\"white\",\"ticks\":\"\"},\"bgcolor\":\"#E5ECF6\",\"radialaxis\":{\"gridcolor\":\"white\",\"linecolor\":\"white\",\"ticks\":\"\"}},\"scene\":{\"xaxis\":{\"backgroundcolor\":\"#E5ECF6\",\"gridcolor\":\"white\",\"gridwidth\":2,\"linecolor\":\"white\",\"showbackground\":true,\"ticks\":\"\",\"zerolinecolor\":\"white\"},\"yaxis\":{\"backgroundcolor\":\"#E5ECF6\",\"gridcolor\":\"white\",\"gridwidth\":2,\"linecolor\":\"white\",\"showbackground\":true,\"ticks\":\"\",\"zerolinecolor\":\"white\"},\"zaxis\":{\"backgroundcolor\":\"#E5ECF6\",\"gridcolor\":\"white\",\"gridwidth\":2,\"linecolor\":\"white\",\"showbackground\":true,\"ticks\":\"\",\"zerolinecolor\":\"white\"}},\"shapedefaults\":{\"line\":{\"color\":\"#2a3f5f\"}},\"ternary\":{\"aaxis\":{\"gridcolor\":\"white\",\"linecolor\":\"white\",\"ticks\":\"\"},\"baxis\":{\"gridcolor\":\"white\",\"linecolor\":\"white\",\"ticks\":\"\"},\"bgcolor\":\"#E5ECF6\",\"caxis\":{\"gridcolor\":\"white\",\"linecolor\":\"white\",\"ticks\":\"\"}},\"title\":{\"x\":0.05},\"xaxis\":{\"automargin\":true,\"gridcolor\":\"white\",\"linecolor\":\"white\",\"ticks\":\"\",\"title\":{\"standoff\":15},\"zerolinecolor\":\"white\",\"zerolinewidth\":2},\"yaxis\":{\"automargin\":true,\"gridcolor\":\"white\",\"linecolor\":\"white\",\"ticks\":\"\",\"title\":{\"standoff\":15},\"zerolinecolor\":\"white\",\"zerolinewidth\":2}}},\"title\":{\"text\":\"\\u0645\\u0642\\u0627\\u0631\\u0646\\u0629 \\u062f\\u0631\\u062c\\u0627\\u062a \\u0627\\u0644\\u0637\\u0627\\u0644\\u0628 \\u0645\\u0639 \\u0645\\u062f\\u0629 \\u062a\\u0633\\u0644\\u064a\\u0645 \\u0627\\u0644\\u062a\\u0642\\u064a\\u064a\\u0645\",\"x\":0.4,\"xanchor\":\"center\",\"y\":0.9,\"yanchor\":\"top\"},\"width\":1200,\"xaxis\":{\"anchor\":\"y\",\"domain\":[0.0,0.94],\"tickangle\":45,\"ticktext\":[\"08-08-2020\",\"14-08-2020\",\"13-10-2020\",\"16-11-2020\",\"25-11-2020\",\"06-12-2020\",\"30-12-2020\"],\"tickvals\":[0,1,2,3,4,5,6],\"title\":{\"text\":\"Submit Time\"}},\"xaxis2\":{\"anchor\":\"y3\",\"domain\":[0.0,0.94]},\"yaxis\":{\"anchor\":\"x\",\"domain\":[0.575,1.0],\"showgrid\":true,\"title\":{\"text\":\"Mark\"}},\"yaxis2\":{\"anchor\":\"x\",\"overlaying\":\"y\",\"showgrid\":false,\"side\":\"right\",\"title\":{\"font\":{\"size\":20},\"text\":\"\\u0645\\u062f\\u0629 \\u062a\\u0633\\u0644\\u064a\\u0645 \\u0627\\u0644\\u062a\\u0642\\u064a\\u064a\\u0645 / \\u0628\\u0627\\u0644\\u062f\\u0642\\u0627\\u0626\\u0642\"}},\"yaxis3\":{\"anchor\":\"x2\",\"domain\":[0.0,0.425]},\"yaxis4\":{\"anchor\":\"x2\",\"overlaying\":\"y3\",\"side\":\"right\"}},                        {\"responsive\": true}                    ).then(function(){\n                            \nvar gd = document.getElementById('adcc7b4f-b88f-4604-9e10-e6d37a1c429f');\nvar x = new MutationObserver(function (mutations, observer) {{\n        var display = window.getComputedStyle(gd).display;\n        if (!display || display === 'none') {{\n            console.log([gd, 'removed!']);\n            Plotly.purge(gd);\n            observer.disconnect();\n        }}\n}});\n\n// Listen for the removal of the full notebook cells\nvar notebookContainer = gd.closest('#notebook-container');\nif (notebookContainer) {{\n    x.observe(notebookContainer, {childList: true});\n}}\n\n// Listen for the clearing of the current output cell\nvar outputEl = gd.closest('.output');\nif (outputEl) {{\n    x.observe(outputEl, {childList: true});\n}}\n\n                        })                };                            </script>        </div>\n</body>\n</html>"
              },
              {
                "output_type": "display_data",
                "metadata": {
                  "tags": []
                },
                "text/html": "<a href=https://www.khanacademy.org/math/cc-sixth-grade-math/cc-6th-data-statistics/cc-6-mad/v/mean-absolute-deviation-example?modal=1 target='_blank' style='font-size:1.3em'>Mean absolute deviation example</a>",
                "text/plain": "<IPython.core.display.HTML object>"
              },
              {
                "output_type": "display_data",
                "metadata": {
                  "tags": []
                },
                "text/html": "<a href=https://www.khanacademy.org/math/cc-sixth-grade-math/cc-6th-data-statistics/dot-plot/v/frequency-tables-and-dot-plots?modal=1 target='_blank' style='font-size:1.3em'>Frequency Tables & dot plot</a>",
                "text/plain": "<IPython.core.display.HTML object>"
              },
              {
                "output_type": "display_data",
                "metadata": {
                  "tags": []
                },
                "text/html": "<a href=https://www.khanacademy.org/math/cc-sixth-grade-math/cc-6th-data-statistics/cc-6th-box-whisker-plots/v/reading-box-and-whisker-plots?modal=1 target='_blank' style='font-size:1.3em'>Reading box plots</a>",
                "text/plain": "<IPython.core.display.HTML object>"
              },
              {
                "output_type": "display_data",
                "metadata": {
                  "tags": []
                },
                "text/html": "<a href=https://www.khanacademy.org/math/cc-sixth-grade-math/cc-6th-data-statistics/cc-6th-box-whisker-plots/v/interpreting-box-plots?modal=1 target='_blank' style='font-size:1.3em'>Worked example: Interpreting a box plot</a>",
                "text/plain": "<IPython.core.display.HTML object>"
              },
              {
                "output_type": "display_data",
                "metadata": {
                  "tags": []
                },
                "text/html": "<a href=https://www.khanacademy.org/math/cc-sixth-grade-math/cc-6th-data-statistics/cc-6th-mean-median-challenge/v/using-mean-to-find-missing-value?modal=1 target='_blank' style='font-size:1.3em'>Missing value given the mean</a>",
                "text/plain": "<IPython.core.display.HTML object>"
              },
              {
                "output_type": "display_data",
                "metadata": {
                  "tags": []
                },
                "text/html": "<a href=https://www.khanacademy.org/math/cc-sixth-grade-math/cc-6th-data-statistics/mean-and-median/a/calculating-the-mean?modal=1 target='_blank' style='font-size:1.3em'>Calculating the mean</a>",
                "text/plain": "<IPython.core.display.HTML object>"
              },
              {
                "output_type": "display_data",
                "metadata": {
                  "tags": []
                },
                "text/html": "<a href=https://www.khanacademy.org/math/cc-sixth-grade-math/cc-6th-data-statistics/cc-6th-mean-median-challenge/v/impact-on-median-and-mean-when-increasing-highest-value?modal=1 target='_blank' style='font-size:1.3em'>Impact on median & mean: increasing an outlier</a>",
                "text/plain": "<IPython.core.display.HTML object>"
              },
              {
                "output_type": "display_data",
                "metadata": {
                  "tags": []
                },
                "text/html": "<a href=https://www.khanacademy.org/math/cc-sixth-grade-math/cc-6th-data-statistics/cc-6th-mean-median-challenge/v/median-and-range-puzzle?modal=1 target='_blank' style='font-size:1.3em'>Median & range puzzlers</a>",
                "text/plain": "<IPython.core.display.HTML object>"
              },
              {
                "output_type": "display_data",
                "metadata": {
                  "tags": []
                },
                "text/html": "<a href=https://www.khanacademy.org/math/cc-sixth-grade-math/cc-6th-data-statistics/histograms/v/interpreting-histograms?modal=1 target='_blank' style='font-size:1.3em'>Interpreting a histogram</a>",
                "text/plain": "<IPython.core.display.HTML object>"
              },
              {
                "output_type": "display_data",
                "metadata": {
                  "tags": []
                },
                "text/html": "<a href=https://www.khanacademy.org/math/cc-sixth-grade-math/cc-6th-data-statistics/cc-6th-box-whisker-plots/v/constructing-a-box-and-whisker-plot?modal=1 target='_blank' style='font-size:1.3em'>Worked example: Creating box plot (even number of data points)</a>",
                "text/plain": "<IPython.core.display.HTML object>"
              },
              {
                "output_type": "display_data",
                "metadata": {
                  "tags": []
                },
                "text/html": "<a href=https://www.khanacademy.org/math/cc-sixth-grade-math/cc-6th-data-statistics/cc-6th-box-whisker-plots/v/box-and-whisker-plot-exercise-example?modal=1 target='_blank' style='font-size:1.3em'>Worked example: Creating box plot (odd number of data points)</a>",
                "text/plain": "<IPython.core.display.HTML object>"
              },
              {
                "output_type": "display_data",
                "metadata": {
                  "tags": []
                },
                "text/html": "<a href=https://www.khanacademy.org/math/cc-sixth-grade-math/cc-6th-data-statistics/cc-7th-compare-data-displays/v/comparing-dot-plots-histograms-and-box-plots?modal=1 target='_blank' style='font-size:1.3em'>Comparing dot plots, histograms and box plots</a>",
                "text/plain": "<IPython.core.display.HTML object>"
              },
              {
                "output_type": "display_data",
                "metadata": {
                  "tags": [],
                  "needs_background": "light"
                },
                "image/png": "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\n",
                "text/plain": "<Figure size 1440x576 with 1 Axes>"
              },
              {
                "output_type": "display_data",
                "metadata": {
                  "tags": []
                },
                "text/html": "<a href=https://www.khanacademy.org/math/cc-sixth-grade-math/cc-6th-data-statistics/mean-and-median/a/calculating-the-mean?modal=1 target='_blank' style='font-size:1.3em'>Calculating the mean</a>",
                "text/plain": "<IPython.core.display.HTML object>"
              },
              {
                "output_type": "display_data",
                "metadata": {
                  "tags": []
                },
                "text/html": "<a href=https://www.khanacademy.org/math/cc-sixth-grade-math/cc-6th-data-statistics/cc-6th-mean-median-challenge/v/using-mean-to-find-missing-value?modal=1 target='_blank' style='font-size:1.3em'>Missing value given the mean</a>",
                "text/plain": "<IPython.core.display.HTML object>"
              },
              {
                "output_type": "display_data",
                "metadata": {
                  "tags": []
                },
                "text/html": "<a href=https://www.khanacademy.org/math/cc-sixth-grade-math/cc-6th-data-statistics/cc-6th-box-whisker-plots/v/constructing-a-box-and-whisker-plot?modal=1 target='_blank' style='font-size:1.3em'>Constructing a box plot</a>",
                "text/plain": "<IPython.core.display.HTML object>"
              },
              {
                "output_type": "display_data",
                "metadata": {
                  "tags": []
                },
                "text/html": "<a href=https://www.khanacademy.org/math/cc-sixth-grade-math/cc-6th-data-statistics/cc-6-shape-of-data/v/shapes-of-distributions?modal=1 target='_blank' style='font-size:1.3em'>Shape of distributions</a>",
                "text/plain": "<IPython.core.display.HTML object>"
              }
            ],
            "_view_module": "@jupyter-widgets/output",
            "_model_module_version": "1.0.0",
            "_view_count": null,
            "_view_module_version": "1.0.0",
            "layout": "IPY_MODEL_0c0c89da1cd546f49c2fe6ad34e89380",
            "_model_module": "@jupyter-widgets/output"
          }
        },
        "f205e2dafd0f460d9490c89ec26be2ea": {
          "model_module": "@jupyter-widgets/controls",
          "model_name": "DescriptionStyleModel",
          "state": {
            "_view_name": "StyleView",
            "_model_name": "DescriptionStyleModel",
            "description_width": "",
            "_view_module": "@jupyter-widgets/base",
            "_model_module_version": "1.5.0",
            "_view_count": null,
            "_view_module_version": "1.2.0",
            "_model_module": "@jupyter-widgets/controls"
          }
        },
        "1cbd39f56c6844b794100c1db50503ff": {
          "model_module": "@jupyter-widgets/base",
          "model_name": "LayoutModel",
          "state": {
            "_view_name": "LayoutView",
            "grid_template_rows": null,
            "right": null,
            "justify_content": null,
            "_view_module": "@jupyter-widgets/base",
            "overflow": null,
            "_model_module_version": "1.2.0",
            "_view_count": null,
            "flex_flow": null,
            "width": null,
            "min_width": null,
            "border": null,
            "align_items": null,
            "bottom": null,
            "_model_module": "@jupyter-widgets/base",
            "top": null,
            "grid_column": null,
            "overflow_y": null,
            "overflow_x": null,
            "grid_auto_flow": null,
            "grid_area": null,
            "grid_template_columns": null,
            "flex": null,
            "_model_name": "LayoutModel",
            "justify_items": null,
            "grid_row": null,
            "max_height": null,
            "align_content": null,
            "visibility": null,
            "align_self": null,
            "height": null,
            "min_height": null,
            "padding": null,
            "grid_auto_rows": null,
            "grid_gap": null,
            "max_width": null,
            "order": null,
            "_view_module_version": "1.2.0",
            "grid_template_areas": null,
            "object_position": null,
            "object_fit": null,
            "grid_auto_columns": null,
            "margin": null,
            "display": null,
            "left": null
          }
        },
        "f5c840ec53ca4a06839a580c4e46e5b4": {
          "model_module": "@jupyter-widgets/controls",
          "model_name": "DescriptionStyleModel",
          "state": {
            "_view_name": "StyleView",
            "_model_name": "DescriptionStyleModel",
            "description_width": "",
            "_view_module": "@jupyter-widgets/base",
            "_model_module_version": "1.5.0",
            "_view_count": null,
            "_view_module_version": "1.2.0",
            "_model_module": "@jupyter-widgets/controls"
          }
        },
        "4c3c6e96a1924fc3a516ee459b65aeeb": {
          "model_module": "@jupyter-widgets/base",
          "model_name": "LayoutModel",
          "state": {
            "_view_name": "LayoutView",
            "grid_template_rows": null,
            "right": null,
            "justify_content": null,
            "_view_module": "@jupyter-widgets/base",
            "overflow": null,
            "_model_module_version": "1.2.0",
            "_view_count": null,
            "flex_flow": null,
            "width": null,
            "min_width": null,
            "border": null,
            "align_items": null,
            "bottom": null,
            "_model_module": "@jupyter-widgets/base",
            "top": null,
            "grid_column": null,
            "overflow_y": null,
            "overflow_x": null,
            "grid_auto_flow": null,
            "grid_area": null,
            "grid_template_columns": null,
            "flex": null,
            "_model_name": "LayoutModel",
            "justify_items": null,
            "grid_row": null,
            "max_height": null,
            "align_content": null,
            "visibility": null,
            "align_self": null,
            "height": null,
            "min_height": null,
            "padding": null,
            "grid_auto_rows": null,
            "grid_gap": null,
            "max_width": null,
            "order": null,
            "_view_module_version": "1.2.0",
            "grid_template_areas": null,
            "object_position": null,
            "object_fit": null,
            "grid_auto_columns": null,
            "margin": null,
            "display": null,
            "left": null
          }
        },
        "6f4052b871e84d6ba02307e202dd6c6e": {
          "model_module": "@jupyter-widgets/controls",
          "model_name": "DescriptionStyleModel",
          "state": {
            "_view_name": "StyleView",
            "_model_name": "DescriptionStyleModel",
            "description_width": "",
            "_view_module": "@jupyter-widgets/base",
            "_model_module_version": "1.5.0",
            "_view_count": null,
            "_view_module_version": "1.2.0",
            "_model_module": "@jupyter-widgets/controls"
          }
        },
        "b63807a602d54b5e85da362af0cab738": {
          "model_module": "@jupyter-widgets/base",
          "model_name": "LayoutModel",
          "state": {
            "_view_name": "LayoutView",
            "grid_template_rows": null,
            "right": null,
            "justify_content": null,
            "_view_module": "@jupyter-widgets/base",
            "overflow": null,
            "_model_module_version": "1.2.0",
            "_view_count": null,
            "flex_flow": null,
            "width": null,
            "min_width": null,
            "border": null,
            "align_items": null,
            "bottom": null,
            "_model_module": "@jupyter-widgets/base",
            "top": null,
            "grid_column": null,
            "overflow_y": null,
            "overflow_x": null,
            "grid_auto_flow": null,
            "grid_area": null,
            "grid_template_columns": null,
            "flex": null,
            "_model_name": "LayoutModel",
            "justify_items": null,
            "grid_row": null,
            "max_height": null,
            "align_content": null,
            "visibility": null,
            "align_self": null,
            "height": null,
            "min_height": null,
            "padding": null,
            "grid_auto_rows": null,
            "grid_gap": null,
            "max_width": null,
            "order": null,
            "_view_module_version": "1.2.0",
            "grid_template_areas": null,
            "object_position": null,
            "object_fit": null,
            "grid_auto_columns": null,
            "margin": null,
            "display": null,
            "left": null
          }
        },
        "7df08cc91ceb4fff8e5992fee126c4f0": {
          "model_module": "@jupyter-widgets/controls",
          "model_name": "DescriptionStyleModel",
          "state": {
            "_view_name": "StyleView",
            "_model_name": "DescriptionStyleModel",
            "description_width": "",
            "_view_module": "@jupyter-widgets/base",
            "_model_module_version": "1.5.0",
            "_view_count": null,
            "_view_module_version": "1.2.0",
            "_model_module": "@jupyter-widgets/controls"
          }
        },
        "1dfb04e298c343b1af9e386c9e90360e": {
          "model_module": "@jupyter-widgets/base",
          "model_name": "LayoutModel",
          "state": {
            "_view_name": "LayoutView",
            "grid_template_rows": null,
            "right": null,
            "justify_content": null,
            "_view_module": "@jupyter-widgets/base",
            "overflow": null,
            "_model_module_version": "1.2.0",
            "_view_count": null,
            "flex_flow": null,
            "width": null,
            "min_width": null,
            "border": null,
            "align_items": null,
            "bottom": null,
            "_model_module": "@jupyter-widgets/base",
            "top": null,
            "grid_column": null,
            "overflow_y": null,
            "overflow_x": null,
            "grid_auto_flow": null,
            "grid_area": null,
            "grid_template_columns": null,
            "flex": null,
            "_model_name": "LayoutModel",
            "justify_items": null,
            "grid_row": null,
            "max_height": null,
            "align_content": null,
            "visibility": null,
            "align_self": null,
            "height": null,
            "min_height": null,
            "padding": null,
            "grid_auto_rows": null,
            "grid_gap": null,
            "max_width": null,
            "order": null,
            "_view_module_version": "1.2.0",
            "grid_template_areas": null,
            "object_position": null,
            "object_fit": null,
            "grid_auto_columns": null,
            "margin": null,
            "display": null,
            "left": null
          }
        },
        "0c0c89da1cd546f49c2fe6ad34e89380": {
          "model_module": "@jupyter-widgets/base",
          "model_name": "LayoutModel",
          "state": {
            "_view_name": "LayoutView",
            "grid_template_rows": null,
            "right": null,
            "justify_content": null,
            "_view_module": "@jupyter-widgets/base",
            "overflow": null,
            "_model_module_version": "1.2.0",
            "_view_count": null,
            "flex_flow": null,
            "width": null,
            "min_width": null,
            "border": null,
            "align_items": null,
            "bottom": null,
            "_model_module": "@jupyter-widgets/base",
            "top": null,
            "grid_column": null,
            "overflow_y": null,
            "overflow_x": null,
            "grid_auto_flow": null,
            "grid_area": null,
            "grid_template_columns": null,
            "flex": null,
            "_model_name": "LayoutModel",
            "justify_items": null,
            "grid_row": null,
            "max_height": null,
            "align_content": null,
            "visibility": null,
            "align_self": null,
            "height": null,
            "min_height": null,
            "padding": null,
            "grid_auto_rows": null,
            "grid_gap": null,
            "max_width": null,
            "order": null,
            "_view_module_version": "1.2.0",
            "grid_template_areas": null,
            "object_position": null,
            "object_fit": null,
            "grid_auto_columns": null,
            "margin": null,
            "display": null,
            "left": null
          }
        }
      }
    }
  },
  "cells": [
    {
      "cell_type": "markdown",
      "metadata": {
        "id": "view-in-github",
        "colab_type": "text"
      },
      "source": [
        "<a href=\"https://colab.research.google.com/github/sam1610/Inference_DIRinfo/blob/master/30_7_21.ipynb\" target=\"_parent\"><img src=\"https://colab.research.google.com/assets/colab-badge.svg\" alt=\"Open In Colab\"/></a>"
      ]
    },
    {
      "cell_type": "markdown",
      "metadata": {
        "id": "DRZ6WkE3n1D1"
      },
      "source": [
        "## Environment prepartion & libraries installation"
      ]
    },
    {
      "cell_type": "markdown",
      "metadata": {
        "id": "nENWLZC9DUVb"
      },
      "source": [
        " Links\n",
        "\n",
        "- https://dash.plotly.com/basic-callbacks\n",
        "- https://beta.packtpub.com/book/data/9781800568532/6/ch06lvl1sec27/controlling-seasonality-with-fourier-order\n",
        "\n",
        "- https://github.com/sam1610/Inference_DIRinfo"
      ]
    },
    {
      "cell_type": "code",
      "metadata": {
        "id": "lxn3DiFRw8c9",
        "colab": {
          "base_uri": "https://localhost:8080/"
        },
        "outputId": "a8cf85b7-cf2d-41d0-e0de-1138449494f3"
      },
      "source": [
        "! pip  install -U   scikit-learn  random_timestamp ipywidgets plotly"
      ],
      "execution_count": 1,
      "outputs": [
        {
          "output_type": "stream",
          "text": [
            "Requirement already satisfied: scikit-learn in /usr/local/lib/python3.7/dist-packages (0.24.2)\n",
            "Requirement already satisfied: random_timestamp in /usr/local/lib/python3.7/dist-packages (1.1)\n",
            "Requirement already satisfied: ipywidgets in /usr/local/lib/python3.7/dist-packages (7.6.3)\n",
            "Requirement already satisfied: plotly in /usr/local/lib/python3.7/dist-packages (5.1.0)\n",
            "Requirement already satisfied: scipy>=0.19.1 in /usr/local/lib/python3.7/dist-packages (from scikit-learn) (1.4.1)\n",
            "Requirement already satisfied: numpy>=1.13.3 in /usr/local/lib/python3.7/dist-packages (from scikit-learn) (1.19.5)\n",
            "Requirement already satisfied: threadpoolctl>=2.0.0 in /usr/local/lib/python3.7/dist-packages (from scikit-learn) (2.2.0)\n",
            "Requirement already satisfied: joblib>=0.11 in /usr/local/lib/python3.7/dist-packages (from scikit-learn) (1.0.1)\n",
            "Requirement already satisfied: ipython>=4.0.0 in /usr/local/lib/python3.7/dist-packages (from ipywidgets) (5.5.0)\n",
            "Requirement already satisfied: traitlets>=4.3.1 in /usr/local/lib/python3.7/dist-packages (from ipywidgets) (5.0.5)\n",
            "Requirement already satisfied: ipykernel>=4.5.1 in /usr/local/lib/python3.7/dist-packages (from ipywidgets) (4.10.1)\n",
            "Requirement already satisfied: jupyterlab-widgets>=1.0.0 in /usr/local/lib/python3.7/dist-packages (from ipywidgets) (1.0.0)\n",
            "Requirement already satisfied: nbformat>=4.2.0 in /usr/local/lib/python3.7/dist-packages (from ipywidgets) (5.1.3)\n",
            "Requirement already satisfied: widgetsnbextension~=3.5.0 in /usr/local/lib/python3.7/dist-packages (from ipywidgets) (3.5.1)\n",
            "Requirement already satisfied: tornado>=4.0 in /usr/local/lib/python3.7/dist-packages (from ipykernel>=4.5.1->ipywidgets) (5.1.1)\n",
            "Requirement already satisfied: jupyter-client in /usr/local/lib/python3.7/dist-packages (from ipykernel>=4.5.1->ipywidgets) (5.3.5)\n",
            "Requirement already satisfied: pexpect in /usr/local/lib/python3.7/dist-packages (from ipython>=4.0.0->ipywidgets) (4.8.0)\n",
            "Requirement already satisfied: pickleshare in /usr/local/lib/python3.7/dist-packages (from ipython>=4.0.0->ipywidgets) (0.7.5)\n",
            "Requirement already satisfied: setuptools>=18.5 in /usr/local/lib/python3.7/dist-packages (from ipython>=4.0.0->ipywidgets) (57.2.0)\n",
            "Requirement already satisfied: pygments in /usr/local/lib/python3.7/dist-packages (from ipython>=4.0.0->ipywidgets) (2.6.1)\n",
            "Requirement already satisfied: prompt-toolkit<2.0.0,>=1.0.4 in /usr/local/lib/python3.7/dist-packages (from ipython>=4.0.0->ipywidgets) (1.0.18)\n",
            "Requirement already satisfied: simplegeneric>0.8 in /usr/local/lib/python3.7/dist-packages (from ipython>=4.0.0->ipywidgets) (0.8.1)\n",
            "Requirement already satisfied: decorator in /usr/local/lib/python3.7/dist-packages (from ipython>=4.0.0->ipywidgets) (4.4.2)\n",
            "Requirement already satisfied: ipython-genutils in /usr/local/lib/python3.7/dist-packages (from nbformat>=4.2.0->ipywidgets) (0.2.0)\n",
            "Requirement already satisfied: jupyter-core in /usr/local/lib/python3.7/dist-packages (from nbformat>=4.2.0->ipywidgets) (4.7.1)\n",
            "Requirement already satisfied: jsonschema!=2.5.0,>=2.4 in /usr/local/lib/python3.7/dist-packages (from nbformat>=4.2.0->ipywidgets) (2.6.0)\n",
            "Requirement already satisfied: six>=1.9.0 in /usr/local/lib/python3.7/dist-packages (from prompt-toolkit<2.0.0,>=1.0.4->ipython>=4.0.0->ipywidgets) (1.15.0)\n",
            "Requirement already satisfied: wcwidth in /usr/local/lib/python3.7/dist-packages (from prompt-toolkit<2.0.0,>=1.0.4->ipython>=4.0.0->ipywidgets) (0.2.5)\n",
            "Requirement already satisfied: notebook>=4.4.1 in /usr/local/lib/python3.7/dist-packages (from widgetsnbextension~=3.5.0->ipywidgets) (5.3.1)\n",
            "Requirement already satisfied: Send2Trash in /usr/local/lib/python3.7/dist-packages (from notebook>=4.4.1->widgetsnbextension~=3.5.0->ipywidgets) (1.7.1)\n",
            "Requirement already satisfied: jinja2 in /usr/local/lib/python3.7/dist-packages (from notebook>=4.4.1->widgetsnbextension~=3.5.0->ipywidgets) (2.11.3)\n",
            "Requirement already satisfied: terminado>=0.8.1 in /usr/local/lib/python3.7/dist-packages (from notebook>=4.4.1->widgetsnbextension~=3.5.0->ipywidgets) (0.10.1)\n",
            "Requirement already satisfied: nbconvert in /usr/local/lib/python3.7/dist-packages (from notebook>=4.4.1->widgetsnbextension~=3.5.0->ipywidgets) (5.6.1)\n",
            "Requirement already satisfied: pyzmq>=13 in /usr/local/lib/python3.7/dist-packages (from jupyter-client->ipykernel>=4.5.1->ipywidgets) (22.1.0)\n",
            "Requirement already satisfied: python-dateutil>=2.1 in /usr/local/lib/python3.7/dist-packages (from jupyter-client->ipykernel>=4.5.1->ipywidgets) (2.8.1)\n",
            "Requirement already satisfied: ptyprocess in /usr/local/lib/python3.7/dist-packages (from terminado>=0.8.1->notebook>=4.4.1->widgetsnbextension~=3.5.0->ipywidgets) (0.7.0)\n",
            "Requirement already satisfied: tenacity>=6.2.0 in /usr/local/lib/python3.7/dist-packages (from plotly) (8.0.1)\n",
            "Requirement already satisfied: MarkupSafe>=0.23 in /usr/local/lib/python3.7/dist-packages (from jinja2->notebook>=4.4.1->widgetsnbextension~=3.5.0->ipywidgets) (2.0.1)\n",
            "Requirement already satisfied: mistune<2,>=0.8.1 in /usr/local/lib/python3.7/dist-packages (from nbconvert->notebook>=4.4.1->widgetsnbextension~=3.5.0->ipywidgets) (0.8.4)\n",
            "Requirement already satisfied: entrypoints>=0.2.2 in /usr/local/lib/python3.7/dist-packages (from nbconvert->notebook>=4.4.1->widgetsnbextension~=3.5.0->ipywidgets) (0.3)\n",
            "Requirement already satisfied: bleach in /usr/local/lib/python3.7/dist-packages (from nbconvert->notebook>=4.4.1->widgetsnbextension~=3.5.0->ipywidgets) (3.3.0)\n",
            "Requirement already satisfied: defusedxml in /usr/local/lib/python3.7/dist-packages (from nbconvert->notebook>=4.4.1->widgetsnbextension~=3.5.0->ipywidgets) (0.7.1)\n",
            "Requirement already satisfied: testpath in /usr/local/lib/python3.7/dist-packages (from nbconvert->notebook>=4.4.1->widgetsnbextension~=3.5.0->ipywidgets) (0.5.0)\n",
            "Requirement already satisfied: pandocfilters>=1.4.1 in /usr/local/lib/python3.7/dist-packages (from nbconvert->notebook>=4.4.1->widgetsnbextension~=3.5.0->ipywidgets) (1.4.3)\n",
            "Requirement already satisfied: webencodings in /usr/local/lib/python3.7/dist-packages (from bleach->nbconvert->notebook>=4.4.1->widgetsnbextension~=3.5.0->ipywidgets) (0.5.1)\n",
            "Requirement already satisfied: packaging in /usr/local/lib/python3.7/dist-packages (from bleach->nbconvert->notebook>=4.4.1->widgetsnbextension~=3.5.0->ipywidgets) (21.0)\n",
            "Requirement already satisfied: pyparsing>=2.0.2 in /usr/local/lib/python3.7/dist-packages (from packaging->bleach->nbconvert->notebook>=4.4.1->widgetsnbextension~=3.5.0->ipywidgets) (2.4.7)\n"
          ],
          "name": "stdout"
        }
      ]
    },
    {
      "cell_type": "code",
      "metadata": {
        "id": "aScKKGTjjFYc"
      },
      "source": [
        "import pandas as pd  \n",
        "import numpy as np\n",
        "import random\n",
        "import string\n",
        "from random import randint\n",
        "import matplotlib.pyplot as plt\n",
        "from datetime import timedelta\n",
        "import seaborn as sns\n",
        "import plotly.graph_objects as go"
      ],
      "execution_count": 2,
      "outputs": []
    },
    {
      "cell_type": "code",
      "metadata": {
        "id": "3Re3LKpQ_d4U"
      },
      "source": [
        "import ipywidgets as widgets \n",
        "from ipywidgets import interact\n",
        "from matplotlib.dates import DateFormatter\n",
        "from datetime import timedelta\n",
        "from datetime import datetime\n",
        "from ipywidgets import interact, Dropdown , Layout , Box , Button\n",
        "from ipywidgets import Checkbox\n",
        "from plotly.subplots import make_subplots"
      ],
      "execution_count": 3,
      "outputs": []
    },
    {
      "cell_type": "code",
      "metadata": {
        "id": "a3yeM3mZT9cg"
      },
      "source": [
        "import warnings\n",
        "warnings.filterwarnings('ignore')"
      ],
      "execution_count": 4,
      "outputs": []
    },
    {
      "cell_type": "code",
      "metadata": {
        "id": "8AKUPnjLxFB-",
        "colab": {
          "base_uri": "https://localhost:8080/"
        },
        "outputId": "628e6931-04d1-48cf-f026-f310586abf9b"
      },
      "source": [
        "from google.colab import drive\n",
        "drive.mount('/content/drive')"
      ],
      "execution_count": 5,
      "outputs": [
        {
          "output_type": "stream",
          "text": [
            "Drive already mounted at /content/drive; to attempt to forcibly remount, call drive.mount(\"/content/drive\", force_remount=True).\n"
          ],
          "name": "stdout"
        }
      ]
    },
    {
      "cell_type": "code",
      "metadata": {
        "id": "LCHi1exfxFFX",
        "colab": {
          "base_uri": "https://localhost:8080/"
        },
        "outputId": "31c8464d-b094-4d3d-bbbd-ed8fdcbe4151"
      },
      "source": [
        "!ls  /content/drive/MyDrive/portalAnalysis/"
      ],
      "execution_count": 6,
      "outputs": [
        {
          "output_type": "stream",
          "text": [
            " Data\t     output_filename.html\t   'سؤال خاطئ3.pdf'\n",
            " dist\t     positives.html\t\t   'سؤال صحيح1.pdf'\n",
            " link.html   TimeSeriesAnalysisWithPython\n",
            " mwe.pdf    'سؤال خاطئ2.pdf'\n"
          ],
          "name": "stdout"
        }
      ]
    },
    {
      "cell_type": "code",
      "metadata": {
        "id": "q6qMX4O9xFI1",
        "colab": {
          "base_uri": "https://localhost:8080/"
        },
        "outputId": "28d000fd-738c-4db5-9c8e-0fcd2b8ccbc8"
      },
      "source": [
        "cd /content/drive/MyDrive/portalAnalysis/"
      ],
      "execution_count": 7,
      "outputs": [
        {
          "output_type": "stream",
          "text": [
            "/content/drive/MyDrive/portalAnalysis\n"
          ],
          "name": "stdout"
        }
      ]
    },
    {
      "cell_type": "markdown",
      "metadata": {
        "id": "a5JYq_glD1YY"
      },
      "source": [
        "#Loading data sets"
      ]
    },
    {
      "cell_type": "markdown",
      "metadata": {
        "id": "2NFA4GM1xd_p"
      },
      "source": [
        "## Student's report dataset"
      ]
    },
    {
      "cell_type": "code",
      "metadata": {
        "id": "dy7qwKEwm9bq"
      },
      "source": [
        "dd=pd.read_csv(\"./Data/student_report.csv\", index_col=0)"
      ],
      "execution_count": 8,
      "outputs": []
    },
    {
      "cell_type": "code",
      "metadata": {
        "id": "heF_4cCanLp9"
      },
      "source": [
        "dd[\"Activity ID\"].replace({\"Act_14\": \"اختبار_14\", \"Act_12\": \"اختبار_12\",\"Act_2\":\"نشاط_2\" , \"Act_4\":\"نشاط_4\" ,\n",
        "                           \"Act_16\":\"اختبار_16\",\"Act_3\":\"نشاط_3\" ,\"Act_15\":\"اختبار_15\" ,\"Act_13\":\"اختبار_13\" ,\"Act_11\":\"اختبار_11\" ,\n",
        "                           \"Act_18\":\"اختبار_18\",\"Act_10\":\"اختبار_10\" ,\"Act_1\":\"نشاط_1\" ,\"Act_17\":\"اختبار_17\"}, inplace=True)"
      ],
      "execution_count": 9,
      "outputs": []
    },
    {
      "cell_type": "code",
      "metadata": {
        "id": "a4UVAle4sOqT"
      },
      "source": [
        "dd=dd.reset_index()"
      ],
      "execution_count": 10,
      "outputs": []
    },
    {
      "cell_type": "code",
      "metadata": {
        "id": "hbCU5mvPtWro"
      },
      "source": [
        "dd=dd.drop(['Activity Type'], axis = 1)"
      ],
      "execution_count": 11,
      "outputs": []
    },
    {
      "cell_type": "code",
      "metadata": {
        "id": "bgIkvjcouUxN",
        "colab": {
          "base_uri": "https://localhost:8080/",
          "height": 452
        },
        "outputId": "6304e74b-df36-451d-9127-413174fdee5d"
      },
      "source": [
        "dd"
      ],
      "execution_count": 12,
      "outputs": [
        {
          "output_type": "execute_result",
          "data": {
            "text/html": [
              "<div>\n",
              "<style scoped>\n",
              "    .dataframe tbody tr th:only-of-type {\n",
              "        vertical-align: middle;\n",
              "    }\n",
              "\n",
              "    .dataframe tbody tr th {\n",
              "        vertical-align: top;\n",
              "    }\n",
              "\n",
              "    .dataframe thead th {\n",
              "        text-align: right;\n",
              "    }\n",
              "</style>\n",
              "<table border=\"1\" class=\"dataframe\">\n",
              "  <thead>\n",
              "    <tr style=\"text-align: right;\">\n",
              "      <th></th>\n",
              "      <th>Submit_Date</th>\n",
              "      <th>Activity ID</th>\n",
              "      <th>Mark</th>\n",
              "    </tr>\n",
              "  </thead>\n",
              "  <tbody>\n",
              "    <tr>\n",
              "      <th>0</th>\n",
              "      <td>31-03-2020</td>\n",
              "      <td>اختبار_14</td>\n",
              "      <td>2.31</td>\n",
              "    </tr>\n",
              "    <tr>\n",
              "      <th>1</th>\n",
              "      <td>01-04-2020</td>\n",
              "      <td>اختبار_12</td>\n",
              "      <td>0.61</td>\n",
              "    </tr>\n",
              "    <tr>\n",
              "      <th>2</th>\n",
              "      <td>07-05-2020</td>\n",
              "      <td>نشاط_2</td>\n",
              "      <td>0.80</td>\n",
              "    </tr>\n",
              "    <tr>\n",
              "      <th>3</th>\n",
              "      <td>10-05-2020</td>\n",
              "      <td>نشاط_4</td>\n",
              "      <td>2.23</td>\n",
              "    </tr>\n",
              "    <tr>\n",
              "      <th>4</th>\n",
              "      <td>26-06-2020</td>\n",
              "      <td>اختبار_16</td>\n",
              "      <td>1.64</td>\n",
              "    </tr>\n",
              "    <tr>\n",
              "      <th>5</th>\n",
              "      <td>07-07-2020</td>\n",
              "      <td>نشاط_3</td>\n",
              "      <td>2.12</td>\n",
              "    </tr>\n",
              "    <tr>\n",
              "      <th>6</th>\n",
              "      <td>03-08-2020</td>\n",
              "      <td>اختبار_15</td>\n",
              "      <td>4.20</td>\n",
              "    </tr>\n",
              "    <tr>\n",
              "      <th>7</th>\n",
              "      <td>17-08-2020</td>\n",
              "      <td>اختبار_13</td>\n",
              "      <td>7.25</td>\n",
              "    </tr>\n",
              "    <tr>\n",
              "      <th>8</th>\n",
              "      <td>23-08-2020</td>\n",
              "      <td>اختبار_11</td>\n",
              "      <td>9.73</td>\n",
              "    </tr>\n",
              "    <tr>\n",
              "      <th>9</th>\n",
              "      <td>06-09-2020</td>\n",
              "      <td>اختبار_18</td>\n",
              "      <td>5.37</td>\n",
              "    </tr>\n",
              "    <tr>\n",
              "      <th>10</th>\n",
              "      <td>07-10-2020</td>\n",
              "      <td>اختبار_10</td>\n",
              "      <td>4.88</td>\n",
              "    </tr>\n",
              "    <tr>\n",
              "      <th>11</th>\n",
              "      <td>19-11-2020</td>\n",
              "      <td>نشاط_1</td>\n",
              "      <td>5.27</td>\n",
              "    </tr>\n",
              "    <tr>\n",
              "      <th>12</th>\n",
              "      <td>02-12-2020</td>\n",
              "      <td>اختبار_17</td>\n",
              "      <td>3.79</td>\n",
              "    </tr>\n",
              "  </tbody>\n",
              "</table>\n",
              "</div>"
            ],
            "text/plain": [
              "   Submit_Date Activity ID  Mark\n",
              "0   31-03-2020   اختبار_14  2.31\n",
              "1   01-04-2020   اختبار_12  0.61\n",
              "2   07-05-2020      نشاط_2  0.80\n",
              "3   10-05-2020      نشاط_4  2.23\n",
              "4   26-06-2020   اختبار_16  1.64\n",
              "5   07-07-2020      نشاط_3  2.12\n",
              "6   03-08-2020   اختبار_15  4.20\n",
              "7   17-08-2020   اختبار_13  7.25\n",
              "8   23-08-2020   اختبار_11  9.73\n",
              "9   06-09-2020   اختبار_18  5.37\n",
              "10  07-10-2020   اختبار_10  4.88\n",
              "11  19-11-2020      نشاط_1  5.27\n",
              "12  02-12-2020   اختبار_17  3.79"
            ]
          },
          "metadata": {
            "tags": []
          },
          "execution_count": 12
        }
      ]
    },
    {
      "cell_type": "code",
      "metadata": {
        "id": "ZAzdtGWBuOFi"
      },
      "source": [
        "dd.columns = ['تاريخ التسليم', 'اسم التقييم',\"الدرجة\"]"
      ],
      "execution_count": 13,
      "outputs": []
    },
    {
      "cell_type": "markdown",
      "metadata": {
        "id": "U_Iw6VS9P6xk"
      },
      "source": [
        "## Load General-Students-Info.csv   (( df_st ))"
      ]
    },
    {
      "cell_type": "code",
      "metadata": {
        "id": "k95IDTmNP3s7"
      },
      "source": [
        "df_st=pd.read_csv(\"./Data/General_students_info.csv\", index_col=0,converters={'student_ID': lambda x: str(x) , # lambda used to keep zeros to the left of no.s\n",
        "                                                                              'birth_year': lambda x: str(x) ,\n",
        "                                                                            'birth_month': lambda x: str(x)})"
      ],
      "execution_count": 14,
      "outputs": []
    },
    {
      "cell_type": "code",
      "metadata": {
        "id": "cd7t_6F-hzhB",
        "colab": {
          "base_uri": "https://localhost:8080/",
          "height": 204
        },
        "outputId": "53801e07-c035-40d2-d452-e4488165d500"
      },
      "source": [
        "df_st.head()"
      ],
      "execution_count": 15,
      "outputs": [
        {
          "output_type": "execute_result",
          "data": {
            "text/html": [
              "<div>\n",
              "<style scoped>\n",
              "    .dataframe tbody tr th:only-of-type {\n",
              "        vertical-align: middle;\n",
              "    }\n",
              "\n",
              "    .dataframe tbody tr th {\n",
              "        vertical-align: top;\n",
              "    }\n",
              "\n",
              "    .dataframe thead th {\n",
              "        text-align: right;\n",
              "    }\n",
              "</style>\n",
              "<table border=\"1\" class=\"dataframe\">\n",
              "  <thead>\n",
              "    <tr style=\"text-align: right;\">\n",
              "      <th></th>\n",
              "      <th>student_ID</th>\n",
              "      <th>birth_year</th>\n",
              "      <th>birth_month</th>\n",
              "      <th>school</th>\n",
              "      <th>grade</th>\n",
              "      <th>gender</th>\n",
              "      <th>governorate</th>\n",
              "    </tr>\n",
              "  </thead>\n",
              "  <tbody>\n",
              "    <tr>\n",
              "      <th>0</th>\n",
              "      <td>100315215</td>\n",
              "      <td>10</td>\n",
              "      <td>03</td>\n",
              "      <td>Sc_6</td>\n",
              "      <td>5</td>\n",
              "      <td>M</td>\n",
              "      <td>Caiptal</td>\n",
              "    </tr>\n",
              "    <tr>\n",
              "      <th>1</th>\n",
              "      <td>070403058</td>\n",
              "      <td>07</td>\n",
              "      <td>04</td>\n",
              "      <td>Sc_8</td>\n",
              "      <td>8</td>\n",
              "      <td>F</td>\n",
              "      <td>North</td>\n",
              "    </tr>\n",
              "    <tr>\n",
              "      <th>2</th>\n",
              "      <td>080748524</td>\n",
              "      <td>08</td>\n",
              "      <td>07</td>\n",
              "      <td>Sc_4</td>\n",
              "      <td>7</td>\n",
              "      <td>M</td>\n",
              "      <td>Muharraq</td>\n",
              "    </tr>\n",
              "    <tr>\n",
              "      <th>3</th>\n",
              "      <td>071090450</td>\n",
              "      <td>07</td>\n",
              "      <td>10</td>\n",
              "      <td>Sc_9</td>\n",
              "      <td>8</td>\n",
              "      <td>F</td>\n",
              "      <td>Caiptal</td>\n",
              "    </tr>\n",
              "    <tr>\n",
              "      <th>4</th>\n",
              "      <td>090636469</td>\n",
              "      <td>09</td>\n",
              "      <td>06</td>\n",
              "      <td>Sc_6</td>\n",
              "      <td>6</td>\n",
              "      <td>M</td>\n",
              "      <td>Caiptal</td>\n",
              "    </tr>\n",
              "  </tbody>\n",
              "</table>\n",
              "</div>"
            ],
            "text/plain": [
              "  student_ID birth_year birth_month school  grade gender governorate\n",
              "0  100315215         10          03   Sc_6      5      M     Caiptal\n",
              "1  070403058         07          04   Sc_8      8      F       North\n",
              "2  080748524         08          07   Sc_4      7      M    Muharraq\n",
              "3  071090450         07          10   Sc_9      8      F     Caiptal\n",
              "4  090636469         09          06   Sc_6      6      M     Caiptal"
            ]
          },
          "metadata": {
            "tags": []
          },
          "execution_count": 15
        }
      ]
    },
    {
      "cell_type": "markdown",
      "metadata": {
        "id": "mK4QZcibRmcQ"
      },
      "source": [
        "## Load Student's Portal Achievments (( df_avt ))"
      ]
    },
    {
      "cell_type": "code",
      "metadata": {
        "id": "xvB0BP_iluGw"
      },
      "source": [
        "df_avt=pd.read_csv(\"./Data/Portal-Achiev-Info.csv\", index_col=0,converters={'student_ID': lambda x: str(x)})"
      ],
      "execution_count": 16,
      "outputs": []
    },
    {
      "cell_type": "code",
      "metadata": {
        "id": "qyNDz7bonpL0",
        "colab": {
          "base_uri": "https://localhost:8080/",
          "height": 204
        },
        "outputId": "6d736f3a-6a50-4190-875c-8dc461568491"
      },
      "source": [
        "df_avt.head()"
      ],
      "execution_count": 17,
      "outputs": [
        {
          "output_type": "execute_result",
          "data": {
            "text/html": [
              "<div>\n",
              "<style scoped>\n",
              "    .dataframe tbody tr th:only-of-type {\n",
              "        vertical-align: middle;\n",
              "    }\n",
              "\n",
              "    .dataframe tbody tr th {\n",
              "        vertical-align: top;\n",
              "    }\n",
              "\n",
              "    .dataframe thead th {\n",
              "        text-align: right;\n",
              "    }\n",
              "</style>\n",
              "<table border=\"1\" class=\"dataframe\">\n",
              "  <thead>\n",
              "    <tr style=\"text-align: right;\">\n",
              "      <th></th>\n",
              "      <th>student_ID</th>\n",
              "      <th>Course_code</th>\n",
              "      <th>Activity_id</th>\n",
              "      <th>Activity_type</th>\n",
              "      <th>Unit_id</th>\n",
              "      <th>Chapter_id</th>\n",
              "      <th>Lesson_id</th>\n",
              "      <th>Act_diff</th>\n",
              "      <th>Act_cp_count</th>\n",
              "      <th>Act_time</th>\n",
              "      <th>Act_submit_Time</th>\n",
              "      <th>Act_mark</th>\n",
              "    </tr>\n",
              "  </thead>\n",
              "  <tbody>\n",
              "    <tr>\n",
              "      <th>0</th>\n",
              "      <td>080748524</td>\n",
              "      <td>g7_1</td>\n",
              "      <td>g7_1-Act_12</td>\n",
              "      <td>1</td>\n",
              "      <td>Un_6</td>\n",
              "      <td>Chp_7</td>\n",
              "      <td>Ls_1</td>\n",
              "      <td>1</td>\n",
              "      <td>2</td>\n",
              "      <td>884</td>\n",
              "      <td>2020-06-06 08:07:04</td>\n",
              "      <td>5.74</td>\n",
              "    </tr>\n",
              "    <tr>\n",
              "      <th>1</th>\n",
              "      <td>080748524</td>\n",
              "      <td>g7_2</td>\n",
              "      <td>g7_2-Act_1</td>\n",
              "      <td>1</td>\n",
              "      <td>Un_4</td>\n",
              "      <td>Chp_9</td>\n",
              "      <td>Ls_0</td>\n",
              "      <td>3</td>\n",
              "      <td>1</td>\n",
              "      <td>3098</td>\n",
              "      <td>2020-01-09 10:09:03</td>\n",
              "      <td>7.02</td>\n",
              "    </tr>\n",
              "    <tr>\n",
              "      <th>2</th>\n",
              "      <td>080748524</td>\n",
              "      <td>g7_1</td>\n",
              "      <td>g7_1-Act_18</td>\n",
              "      <td>0</td>\n",
              "      <td>Un_4</td>\n",
              "      <td>Chp_2</td>\n",
              "      <td>Ls_5</td>\n",
              "      <td>4</td>\n",
              "      <td>2</td>\n",
              "      <td>15</td>\n",
              "      <td>2020-12-20 17:35:27</td>\n",
              "      <td>7.67</td>\n",
              "    </tr>\n",
              "    <tr>\n",
              "      <th>3</th>\n",
              "      <td>080748524</td>\n",
              "      <td>g7_1</td>\n",
              "      <td>g7_1-Act_15</td>\n",
              "      <td>1</td>\n",
              "      <td>Un_1</td>\n",
              "      <td>Chp_0</td>\n",
              "      <td>Ls_2</td>\n",
              "      <td>4</td>\n",
              "      <td>2</td>\n",
              "      <td>1458</td>\n",
              "      <td>2020-12-21 15:11:32</td>\n",
              "      <td>6.22</td>\n",
              "    </tr>\n",
              "    <tr>\n",
              "      <th>4</th>\n",
              "      <td>080748524</td>\n",
              "      <td>g7_2</td>\n",
              "      <td>g7_2-Act_14</td>\n",
              "      <td>0</td>\n",
              "      <td>Un_5</td>\n",
              "      <td>Chp_2</td>\n",
              "      <td>Ls_7</td>\n",
              "      <td>4</td>\n",
              "      <td>2</td>\n",
              "      <td>14</td>\n",
              "      <td>2020-04-27 22:10:18</td>\n",
              "      <td>8.96</td>\n",
              "    </tr>\n",
              "  </tbody>\n",
              "</table>\n",
              "</div>"
            ],
            "text/plain": [
              "  student_ID Course_code  Activity_id  ...  Act_time      Act_submit_Time Act_mark\n",
              "0  080748524        g7_1  g7_1-Act_12  ...       884  2020-06-06 08:07:04     5.74\n",
              "1  080748524        g7_2   g7_2-Act_1  ...      3098  2020-01-09 10:09:03     7.02\n",
              "2  080748524        g7_1  g7_1-Act_18  ...        15  2020-12-20 17:35:27     7.67\n",
              "3  080748524        g7_1  g7_1-Act_15  ...      1458  2020-12-21 15:11:32     6.22\n",
              "4  080748524        g7_2  g7_2-Act_14  ...        14  2020-04-27 22:10:18     8.96\n",
              "\n",
              "[5 rows x 12 columns]"
            ]
          },
          "metadata": {
            "tags": []
          },
          "execution_count": 17
        }
      ]
    },
    {
      "cell_type": "markdown",
      "metadata": {
        "id": "i0tyT0HXV6Ph"
      },
      "source": [
        "## Load the dataset that has 5 selected students Info (( dt_st ))"
      ]
    },
    {
      "cell_type": "code",
      "metadata": {
        "id": "wndYEKf-WQtT"
      },
      "source": [
        "dt_st =pd.read_csv(\"./Data/5_selected_students.csv\", converters={'student_ID': lambda x: str(x)})"
      ],
      "execution_count": 18,
      "outputs": []
    },
    {
      "cell_type": "code",
      "metadata": {
        "id": "6oBgx45OuBrB"
      },
      "source": [
        "dt_st[\"Act_submit_Time\"]= pd.to_datetime(dt_st.Act_submit_Time)"
      ],
      "execution_count": 19,
      "outputs": []
    },
    {
      "cell_type": "code",
      "metadata": {
        "id": "D7EYONfq_XZF"
      },
      "source": [
        "dt_st[dt_st.Activity_type=='0'][\"Act_time\"]=dt_st.query(\"Activity_type=='0'\").Act_time/60"
      ],
      "execution_count": 20,
      "outputs": []
    },
    {
      "cell_type": "code",
      "metadata": {
        "id": "2OdTJoF8l5VE"
      },
      "source": [
        "dt_st.set_index(\"Act_submit_Time\", inplace=True)"
      ],
      "execution_count": 21,
      "outputs": []
    },
    {
      "cell_type": "code",
      "metadata": {
        "id": "bmyyhLirBhQC",
        "colab": {
          "base_uri": "https://localhost:8080/"
        },
        "outputId": "836814a6-e18f-475a-bea6-5f7e25c35537"
      },
      "source": [
        "dt_st.info()"
      ],
      "execution_count": 22,
      "outputs": [
        {
          "output_type": "stream",
          "text": [
            "<class 'pandas.core.frame.DataFrame'>\n",
            "DatetimeIndex: 195 entries, 2020-10-07 20:44:56 to 2020-04-01 04:25:24\n",
            "Data columns (total 11 columns):\n",
            " #   Column         Non-Null Count  Dtype  \n",
            "---  ------         --------------  -----  \n",
            " 0   student_ID     195 non-null    object \n",
            " 1   Course_code    195 non-null    object \n",
            " 2   Activity_id    195 non-null    object \n",
            " 3   Activity_type  195 non-null    int64  \n",
            " 4   Unit_id        195 non-null    object \n",
            " 5   Chapter_id     195 non-null    object \n",
            " 6   Lesson_id      195 non-null    object \n",
            " 7   Act_diff       195 non-null    int64  \n",
            " 8   Act_cp_count   195 non-null    int64  \n",
            " 9   Act_time       195 non-null    int64  \n",
            " 10  Act_mark       195 non-null    float64\n",
            "dtypes: float64(1), int64(4), object(6)\n",
            "memory usage: 18.3+ KB\n"
          ],
          "name": "stdout"
        }
      ]
    },
    {
      "cell_type": "markdown",
      "metadata": {
        "id": "-Rk_4Bv9WxWb"
      },
      "source": [
        "## Load the dataset that has statistics about students achievments (( df_mg ))"
      ]
    },
    {
      "cell_type": "code",
      "metadata": {
        "id": "WzQiXyxwXhqO"
      },
      "source": [
        "df_mg=pd.read_csv(\"./Data/student_statistics.csv\", index_col=0,converters={'student_ID': lambda x: str(x)})"
      ],
      "execution_count": 23,
      "outputs": []
    },
    {
      "cell_type": "code",
      "metadata": {
        "colab": {
          "base_uri": "https://localhost:8080/",
          "height": 224
        },
        "id": "mRiyRSiRSnzr",
        "outputId": "2004226a-2d32-497f-ad24-6e8f2fcff2c9"
      },
      "source": [
        "df_mg.head()"
      ],
      "execution_count": 24,
      "outputs": [
        {
          "output_type": "execute_result",
          "data": {
            "text/html": [
              "<div>\n",
              "<style scoped>\n",
              "    .dataframe tbody tr th:only-of-type {\n",
              "        vertical-align: middle;\n",
              "    }\n",
              "\n",
              "    .dataframe tbody tr th {\n",
              "        vertical-align: top;\n",
              "    }\n",
              "\n",
              "    .dataframe thead th {\n",
              "        text-align: right;\n",
              "    }\n",
              "</style>\n",
              "<table border=\"1\" class=\"dataframe\">\n",
              "  <thead>\n",
              "    <tr style=\"text-align: right;\">\n",
              "      <th></th>\n",
              "      <th>student_ID</th>\n",
              "      <th>Course_code</th>\n",
              "      <th>Activity_type</th>\n",
              "      <th>Std_act_cp_mean</th>\n",
              "      <th>Std_act_d_mean</th>\n",
              "      <th>Std_act_m_count</th>\n",
              "      <th>Std_act_m_max</th>\n",
              "      <th>Std_act_m_mean</th>\n",
              "      <th>Std_act_m_std</th>\n",
              "      <th>Std_act_t_max</th>\n",
              "      <th>Std_act_t_mean</th>\n",
              "      <th>Std_act_t_std</th>\n",
              "      <th>Act_score</th>\n",
              "      <th>Act_cp_count_mean</th>\n",
              "      <th>Act_diff_mean</th>\n",
              "      <th>Act_mark_count</th>\n",
              "      <th>Act_mark_max</th>\n",
              "      <th>Act_mark_mean</th>\n",
              "      <th>Act_mark_min</th>\n",
              "      <th>Act_time_max</th>\n",
              "      <th>Act_time_mean</th>\n",
              "      <th>Act_time_min</th>\n",
              "      <th>Activities_Count_&lt;lambda&gt;</th>\n",
              "      <th>last_mark</th>\n",
              "    </tr>\n",
              "  </thead>\n",
              "  <tbody>\n",
              "    <tr>\n",
              "      <th>0</th>\n",
              "      <td>060130518</td>\n",
              "      <td>g9_1</td>\n",
              "      <td>0</td>\n",
              "      <td>2.000000</td>\n",
              "      <td>2.0</td>\n",
              "      <td>1</td>\n",
              "      <td>3.57</td>\n",
              "      <td>3.570000</td>\n",
              "      <td>0.000000</td>\n",
              "      <td>15</td>\n",
              "      <td>15.000000</td>\n",
              "      <td>0.000000</td>\n",
              "      <td>4.996892</td>\n",
              "      <td>1.4125</td>\n",
              "      <td>2.4375</td>\n",
              "      <td>80</td>\n",
              "      <td>9.82</td>\n",
              "      <td>5.3555</td>\n",
              "      <td>0.02</td>\n",
              "      <td>16.0</td>\n",
              "      <td>9.35</td>\n",
              "      <td>2.0</td>\n",
              "      <td>20</td>\n",
              "      <td>3.57</td>\n",
              "    </tr>\n",
              "    <tr>\n",
              "      <th>1</th>\n",
              "      <td>060131582</td>\n",
              "      <td>g9_1</td>\n",
              "      <td>0</td>\n",
              "      <td>1.000000</td>\n",
              "      <td>2.0</td>\n",
              "      <td>2</td>\n",
              "      <td>9.82</td>\n",
              "      <td>5.705000</td>\n",
              "      <td>5.819489</td>\n",
              "      <td>7</td>\n",
              "      <td>6.000000</td>\n",
              "      <td>1.414214</td>\n",
              "      <td>20.525019</td>\n",
              "      <td>1.4125</td>\n",
              "      <td>2.4375</td>\n",
              "      <td>80</td>\n",
              "      <td>9.82</td>\n",
              "      <td>5.3555</td>\n",
              "      <td>0.02</td>\n",
              "      <td>16.0</td>\n",
              "      <td>9.35</td>\n",
              "      <td>2.0</td>\n",
              "      <td>20</td>\n",
              "      <td>9.82</td>\n",
              "    </tr>\n",
              "    <tr>\n",
              "      <th>2</th>\n",
              "      <td>060149111</td>\n",
              "      <td>g9_1</td>\n",
              "      <td>0</td>\n",
              "      <td>1.000000</td>\n",
              "      <td>4.0</td>\n",
              "      <td>1</td>\n",
              "      <td>8.52</td>\n",
              "      <td>8.520000</td>\n",
              "      <td>0.000000</td>\n",
              "      <td>13</td>\n",
              "      <td>13.000000</td>\n",
              "      <td>0.000000</td>\n",
              "      <td>13.662241</td>\n",
              "      <td>1.4125</td>\n",
              "      <td>2.4375</td>\n",
              "      <td>80</td>\n",
              "      <td>9.82</td>\n",
              "      <td>5.3555</td>\n",
              "      <td>0.02</td>\n",
              "      <td>16.0</td>\n",
              "      <td>9.35</td>\n",
              "      <td>2.0</td>\n",
              "      <td>20</td>\n",
              "      <td>8.52</td>\n",
              "    </tr>\n",
              "    <tr>\n",
              "      <th>3</th>\n",
              "      <td>060155495</td>\n",
              "      <td>g9_1</td>\n",
              "      <td>0</td>\n",
              "      <td>1.000000</td>\n",
              "      <td>3.5</td>\n",
              "      <td>2</td>\n",
              "      <td>5.90</td>\n",
              "      <td>4.755000</td>\n",
              "      <td>1.619275</td>\n",
              "      <td>8</td>\n",
              "      <td>7.500000</td>\n",
              "      <td>0.707107</td>\n",
              "      <td>10.384306</td>\n",
              "      <td>1.4125</td>\n",
              "      <td>2.4375</td>\n",
              "      <td>80</td>\n",
              "      <td>9.82</td>\n",
              "      <td>5.3555</td>\n",
              "      <td>0.02</td>\n",
              "      <td>16.0</td>\n",
              "      <td>9.35</td>\n",
              "      <td>2.0</td>\n",
              "      <td>20</td>\n",
              "      <td>3.61</td>\n",
              "    </tr>\n",
              "    <tr>\n",
              "      <th>4</th>\n",
              "      <td>060161018</td>\n",
              "      <td>g9_1</td>\n",
              "      <td>0</td>\n",
              "      <td>1.666667</td>\n",
              "      <td>1.0</td>\n",
              "      <td>3</td>\n",
              "      <td>7.94</td>\n",
              "      <td>5.103333</td>\n",
              "      <td>3.090410</td>\n",
              "      <td>8</td>\n",
              "      <td>5.666667</td>\n",
              "      <td>2.081666</td>\n",
              "      <td>14.520127</td>\n",
              "      <td>1.4125</td>\n",
              "      <td>2.4375</td>\n",
              "      <td>80</td>\n",
              "      <td>9.82</td>\n",
              "      <td>5.3555</td>\n",
              "      <td>0.02</td>\n",
              "      <td>16.0</td>\n",
              "      <td>9.35</td>\n",
              "      <td>2.0</td>\n",
              "      <td>20</td>\n",
              "      <td>5.56</td>\n",
              "    </tr>\n",
              "  </tbody>\n",
              "</table>\n",
              "</div>"
            ],
            "text/plain": [
              "  student_ID Course_code  ...  Activities_Count_<lambda>  last_mark\n",
              "0  060130518        g9_1  ...                         20       3.57\n",
              "1  060131582        g9_1  ...                         20       9.82\n",
              "2  060149111        g9_1  ...                         20       8.52\n",
              "3  060155495        g9_1  ...                         20       3.61\n",
              "4  060161018        g9_1  ...                         20       5.56\n",
              "\n",
              "[5 rows x 24 columns]"
            ]
          },
          "metadata": {
            "tags": []
          },
          "execution_count": 24
        }
      ]
    },
    {
      "cell_type": "markdown",
      "metadata": {
        "id": "e7Z2eOaNgxMZ"
      },
      "source": [
        "## Load  Student Classification dataset "
      ]
    },
    {
      "cell_type": "code",
      "metadata": {
        "colab": {
          "base_uri": "https://localhost:8080/",
          "height": 235
        },
        "id": "2qwpVyF6g0T7",
        "outputId": "b95f35b3-9c82-49f3-a31a-7db9c562f0ac"
      },
      "source": [
        "std_classPred=pd.read_csv(\"./Data/std_classPred.csv\", index_col=[0, 1,2],converters={'student_ID': lambda x: str(x)})\n",
        "std_classPred.head()"
      ],
      "execution_count": 25,
      "outputs": [
        {
          "output_type": "execute_result",
          "data": {
            "text/html": [
              "<div>\n",
              "<style scoped>\n",
              "    .dataframe tbody tr th:only-of-type {\n",
              "        vertical-align: middle;\n",
              "    }\n",
              "\n",
              "    .dataframe tbody tr th {\n",
              "        vertical-align: top;\n",
              "    }\n",
              "\n",
              "    .dataframe thead th {\n",
              "        text-align: right;\n",
              "    }\n",
              "</style>\n",
              "<table border=\"1\" class=\"dataframe\">\n",
              "  <thead>\n",
              "    <tr style=\"text-align: right;\">\n",
              "      <th></th>\n",
              "      <th></th>\n",
              "      <th></th>\n",
              "      <th>Predicted_class</th>\n",
              "    </tr>\n",
              "    <tr>\n",
              "      <th>student_ID</th>\n",
              "      <th>Course_code</th>\n",
              "      <th>Activity_type</th>\n",
              "      <th></th>\n",
              "    </tr>\n",
              "  </thead>\n",
              "  <tbody>\n",
              "    <tr>\n",
              "      <th rowspan=\"5\" valign=\"top\">080748524S</th>\n",
              "      <th rowspan=\"2\" valign=\"top\">g5_1</th>\n",
              "      <th>0</th>\n",
              "      <td>A</td>\n",
              "    </tr>\n",
              "    <tr>\n",
              "      <th>1</th>\n",
              "      <td>A</td>\n",
              "    </tr>\n",
              "    <tr>\n",
              "      <th rowspan=\"2\" valign=\"top\">g5_2</th>\n",
              "      <th>0</th>\n",
              "      <td>A</td>\n",
              "    </tr>\n",
              "    <tr>\n",
              "      <th>1</th>\n",
              "      <td>C</td>\n",
              "    </tr>\n",
              "    <tr>\n",
              "      <th>g5_3</th>\n",
              "      <th>0</th>\n",
              "      <td>A</td>\n",
              "    </tr>\n",
              "  </tbody>\n",
              "</table>\n",
              "</div>"
            ],
            "text/plain": [
              "                                     Predicted_class\n",
              "student_ID Course_code Activity_type                \n",
              "080748524S g5_1        0                           A\n",
              "                       1                           A\n",
              "           g5_2        0                           A\n",
              "                       1                           C\n",
              "           g5_3        0                           A"
            ]
          },
          "metadata": {
            "tags": []
          },
          "execution_count": 25
        }
      ]
    },
    {
      "cell_type": "markdown",
      "metadata": {
        "id": "lhXUPyLdvHjb"
      },
      "source": [
        "## Load the predicted data set (( predict_std ))"
      ]
    },
    {
      "cell_type": "code",
      "metadata": {
        "id": "0GET7cGVvTlr"
      },
      "source": [
        "predict_std=pd.read_csv(\"./Data/predicted_data.csv\", index_col=0,converters={'student_ID': lambda x: str(x)})"
      ],
      "execution_count": 26,
      "outputs": []
    },
    {
      "cell_type": "code",
      "metadata": {
        "id": "viJ_3Ym5vsu8",
        "colab": {
          "base_uri": "https://localhost:8080/",
          "height": 255
        },
        "outputId": "82192da3-e498-42c6-dd31-8f41052f5734"
      },
      "source": [
        "predict_std.head()"
      ],
      "execution_count": 27,
      "outputs": [
        {
          "output_type": "execute_result",
          "data": {
            "text/html": [
              "<div>\n",
              "<style scoped>\n",
              "    .dataframe tbody tr th:only-of-type {\n",
              "        vertical-align: middle;\n",
              "    }\n",
              "\n",
              "    .dataframe tbody tr th {\n",
              "        vertical-align: top;\n",
              "    }\n",
              "\n",
              "    .dataframe thead th {\n",
              "        text-align: right;\n",
              "    }\n",
              "</style>\n",
              "<table border=\"1\" class=\"dataframe\">\n",
              "  <thead>\n",
              "    <tr style=\"text-align: right;\">\n",
              "      <th></th>\n",
              "      <th>Course_code</th>\n",
              "      <th>Activity_type</th>\n",
              "      <th>Std_act_cp_mean</th>\n",
              "      <th>Std_act_d_mean</th>\n",
              "      <th>Std_act_m_count</th>\n",
              "      <th>Std_act_m_max</th>\n",
              "      <th>Std_act_m_mean</th>\n",
              "      <th>Std_act_m_std</th>\n",
              "      <th>Std_act_t_max</th>\n",
              "      <th>Std_act_t_mean</th>\n",
              "      <th>Std_act_t_std</th>\n",
              "      <th>Act_score</th>\n",
              "      <th>Act_cp_count_mean</th>\n",
              "      <th>Act_diff_mean</th>\n",
              "      <th>Act_mark_count</th>\n",
              "      <th>Act_mark_max</th>\n",
              "      <th>Act_mark_mean</th>\n",
              "      <th>Act_mark_min</th>\n",
              "      <th>Act_time_max</th>\n",
              "      <th>Act_time_mean</th>\n",
              "      <th>Act_time_min</th>\n",
              "      <th>Activities_Count_&lt;lambda&gt;</th>\n",
              "      <th>last_mark</th>\n",
              "    </tr>\n",
              "    <tr>\n",
              "      <th>student_ID</th>\n",
              "      <th></th>\n",
              "      <th></th>\n",
              "      <th></th>\n",
              "      <th></th>\n",
              "      <th></th>\n",
              "      <th></th>\n",
              "      <th></th>\n",
              "      <th></th>\n",
              "      <th></th>\n",
              "      <th></th>\n",
              "      <th></th>\n",
              "      <th></th>\n",
              "      <th></th>\n",
              "      <th></th>\n",
              "      <th></th>\n",
              "      <th></th>\n",
              "      <th></th>\n",
              "      <th></th>\n",
              "      <th></th>\n",
              "      <th></th>\n",
              "      <th></th>\n",
              "      <th></th>\n",
              "      <th></th>\n",
              "    </tr>\n",
              "  </thead>\n",
              "  <tbody>\n",
              "    <tr>\n",
              "      <th>080748524S</th>\n",
              "      <td>g5_1</td>\n",
              "      <td>0</td>\n",
              "      <td>1.777778</td>\n",
              "      <td>2.333333</td>\n",
              "      <td>9</td>\n",
              "      <td>9.35</td>\n",
              "      <td>4.958889</td>\n",
              "      <td>3.068291</td>\n",
              "      <td>16</td>\n",
              "      <td>8.888889</td>\n",
              "      <td>3.480102</td>\n",
              "      <td>34.174257</td>\n",
              "      <td>1.474747</td>\n",
              "      <td>2.616162</td>\n",
              "      <td>99</td>\n",
              "      <td>9.85</td>\n",
              "      <td>4.810000</td>\n",
              "      <td>0.01</td>\n",
              "      <td>16.0</td>\n",
              "      <td>8.797980</td>\n",
              "      <td>2.0</td>\n",
              "      <td>20</td>\n",
              "      <td>5.083149</td>\n",
              "    </tr>\n",
              "    <tr>\n",
              "      <th>080748524S</th>\n",
              "      <td>g5_1</td>\n",
              "      <td>1</td>\n",
              "      <td>1.750000</td>\n",
              "      <td>3.750000</td>\n",
              "      <td>4</td>\n",
              "      <td>9.46</td>\n",
              "      <td>8.155000</td>\n",
              "      <td>1.558001</td>\n",
              "      <td>4285</td>\n",
              "      <td>2741.750000</td>\n",
              "      <td>1564.793570</td>\n",
              "      <td>24.263784</td>\n",
              "      <td>1.494845</td>\n",
              "      <td>2.567010</td>\n",
              "      <td>97</td>\n",
              "      <td>9.83</td>\n",
              "      <td>5.157732</td>\n",
              "      <td>0.06</td>\n",
              "      <td>4356.0</td>\n",
              "      <td>2179.505155</td>\n",
              "      <td>91.0</td>\n",
              "      <td>20</td>\n",
              "      <td>7.524903</td>\n",
              "    </tr>\n",
              "    <tr>\n",
              "      <th>080748524S</th>\n",
              "      <td>g5_2</td>\n",
              "      <td>0</td>\n",
              "      <td>1.222222</td>\n",
              "      <td>2.777778</td>\n",
              "      <td>9</td>\n",
              "      <td>9.30</td>\n",
              "      <td>4.138889</td>\n",
              "      <td>3.379750</td>\n",
              "      <td>16</td>\n",
              "      <td>10.444444</td>\n",
              "      <td>5.270463</td>\n",
              "      <td>37.186354</td>\n",
              "      <td>1.456790</td>\n",
              "      <td>2.407407</td>\n",
              "      <td>81</td>\n",
              "      <td>9.83</td>\n",
              "      <td>5.190864</td>\n",
              "      <td>0.00</td>\n",
              "      <td>16.0</td>\n",
              "      <td>8.703704</td>\n",
              "      <td>2.0</td>\n",
              "      <td>19</td>\n",
              "      <td>4.476848</td>\n",
              "    </tr>\n",
              "    <tr>\n",
              "      <th>080748524S</th>\n",
              "      <td>g5_2</td>\n",
              "      <td>1</td>\n",
              "      <td>1.500000</td>\n",
              "      <td>3.000000</td>\n",
              "      <td>4</td>\n",
              "      <td>5.66</td>\n",
              "      <td>4.780000</td>\n",
              "      <td>0.914440</td>\n",
              "      <td>4130</td>\n",
              "      <td>2854.750000</td>\n",
              "      <td>1300.834444</td>\n",
              "      <td>12.990291</td>\n",
              "      <td>1.445545</td>\n",
              "      <td>2.445545</td>\n",
              "      <td>101</td>\n",
              "      <td>9.70</td>\n",
              "      <td>5.100099</td>\n",
              "      <td>0.08</td>\n",
              "      <td>4373.0</td>\n",
              "      <td>2444.118812</td>\n",
              "      <td>102.0</td>\n",
              "      <td>20</td>\n",
              "      <td>4.802190</td>\n",
              "    </tr>\n",
              "    <tr>\n",
              "      <th>080748524S</th>\n",
              "      <td>g5_3</td>\n",
              "      <td>0</td>\n",
              "      <td>1.555556</td>\n",
              "      <td>2.555556</td>\n",
              "      <td>9</td>\n",
              "      <td>9.73</td>\n",
              "      <td>4.420000</td>\n",
              "      <td>2.838596</td>\n",
              "      <td>16</td>\n",
              "      <td>9.666667</td>\n",
              "      <td>4.609772</td>\n",
              "      <td>40.518231</td>\n",
              "      <td>1.449438</td>\n",
              "      <td>2.359551</td>\n",
              "      <td>89</td>\n",
              "      <td>9.99</td>\n",
              "      <td>4.815506</td>\n",
              "      <td>0.04</td>\n",
              "      <td>16.0</td>\n",
              "      <td>8.842697</td>\n",
              "      <td>2.0</td>\n",
              "      <td>20</td>\n",
              "      <td>4.991331</td>\n",
              "    </tr>\n",
              "  </tbody>\n",
              "</table>\n",
              "</div>"
            ],
            "text/plain": [
              "           Course_code  Activity_type  ...  Activities_Count_<lambda>  last_mark\n",
              "student_ID                             ...                                      \n",
              "080748524S        g5_1              0  ...                         20   5.083149\n",
              "080748524S        g5_1              1  ...                         20   7.524903\n",
              "080748524S        g5_2              0  ...                         19   4.476848\n",
              "080748524S        g5_2              1  ...                         20   4.802190\n",
              "080748524S        g5_3              0  ...                         20   4.991331\n",
              "\n",
              "[5 rows x 23 columns]"
            ]
          },
          "metadata": {
            "tags": []
          },
          "execution_count": 27
        }
      ]
    },
    {
      "cell_type": "markdown",
      "metadata": {
        "id": "S-FamGMRwWdX"
      },
      "source": [
        "## Load Recommend data set (( df_recommend ))"
      ]
    },
    {
      "cell_type": "code",
      "metadata": {
        "id": "8XkG-bV_wjGu"
      },
      "source": [
        "df_recommend=pd.read_csv(\"./Data/recommend.csv\", index_col=0,converters={'student_ID': lambda x: str(x)})"
      ],
      "execution_count": 30,
      "outputs": []
    },
    {
      "cell_type": "code",
      "metadata": {
        "id": "EB9kykNmw13h",
        "colab": {
          "base_uri": "https://localhost:8080/",
          "height": 204
        },
        "outputId": "7a7c2310-b29c-4f28-c1eb-a68b353df8f0"
      },
      "source": [
        "df_recommend.head()"
      ],
      "execution_count": 31,
      "outputs": [
        {
          "output_type": "execute_result",
          "data": {
            "text/html": [
              "<div>\n",
              "<style scoped>\n",
              "    .dataframe tbody tr th:only-of-type {\n",
              "        vertical-align: middle;\n",
              "    }\n",
              "\n",
              "    .dataframe tbody tr th {\n",
              "        vertical-align: top;\n",
              "    }\n",
              "\n",
              "    .dataframe thead th {\n",
              "        text-align: right;\n",
              "    }\n",
              "</style>\n",
              "<table border=\"1\" class=\"dataframe\">\n",
              "  <thead>\n",
              "    <tr style=\"text-align: right;\">\n",
              "      <th></th>\n",
              "      <th>student_ID</th>\n",
              "      <th>Lesson_des</th>\n",
              "      <th>lobj_id</th>\n",
              "      <th>lobj_des</th>\n",
              "      <th>LearningObj</th>\n",
              "    </tr>\n",
              "  </thead>\n",
              "  <tbody>\n",
              "    <tr>\n",
              "      <th>0</th>\n",
              "      <td>080748524S</td>\n",
              "      <td>Mean and median</td>\n",
              "      <td>7</td>\n",
              "      <td>Mean, Median &amp; Mode example</td>\n",
              "      <td>Mean and median Mean, Median &amp; Mode example</td>\n",
              "    </tr>\n",
              "    <tr>\n",
              "      <th>1</th>\n",
              "      <td>080748524S</td>\n",
              "      <td>Dot plots &amp; frequency tables</td>\n",
              "      <td>1</td>\n",
              "      <td>Representing Data</td>\n",
              "      <td>Dot plots &amp; frequency tables Representing Data</td>\n",
              "    </tr>\n",
              "    <tr>\n",
              "      <th>2</th>\n",
              "      <td>080748524S</td>\n",
              "      <td>Interquartile range (IQR)</td>\n",
              "      <td>14</td>\n",
              "      <td>Interquartile range (IQR)</td>\n",
              "      <td>Interquartile range (IQR) Interquartile range ...</td>\n",
              "    </tr>\n",
              "    <tr>\n",
              "      <th>3</th>\n",
              "      <td>080748524S</td>\n",
              "      <td>Dot plots &amp; frequency tables</td>\n",
              "      <td>2</td>\n",
              "      <td>Frequency Tables &amp; dot plot</td>\n",
              "      <td>Dot plots &amp; frequency tables Frequency Tables ...</td>\n",
              "    </tr>\n",
              "    <tr>\n",
              "      <th>4</th>\n",
              "      <td>080748524S</td>\n",
              "      <td>Mean absolute deviation (MAD)</td>\n",
              "      <td>21</td>\n",
              "      <td>Mean absolute deviation example</td>\n",
              "      <td>Mean absolute deviation (MAD) Mean absolute de...</td>\n",
              "    </tr>\n",
              "  </tbody>\n",
              "</table>\n",
              "</div>"
            ],
            "text/plain": [
              "   student_ID  ...                                        LearningObj\n",
              "0  080748524S  ...        Mean and median Mean, Median & Mode example\n",
              "1  080748524S  ...     Dot plots & frequency tables Representing Data\n",
              "2  080748524S  ...  Interquartile range (IQR) Interquartile range ...\n",
              "3  080748524S  ...  Dot plots & frequency tables Frequency Tables ...\n",
              "4  080748524S  ...  Mean absolute deviation (MAD) Mean absolute de...\n",
              "\n",
              "[5 rows x 5 columns]"
            ]
          },
          "metadata": {
            "tags": []
          },
          "execution_count": 31
        }
      ]
    },
    {
      "cell_type": "code",
      "metadata": {
        "id": "SDIr4qMr_TFu"
      },
      "source": [
        "#  Json  recommendation Initialization\n",
        "modules=[\n",
        "         {\"unit\":\"Data and statistics\", \n",
        "          \"lessons\":[\n",
        "                    {\"LessName\": \"Dot plots & frequency tables\",\n",
        "                    \"lobs\":[\n",
        "                            {\"lobID\": 1, \"lobName\":\"Representing Data\", \"URL\": \"https://www.khanacademy.org/math/cc-sixth-grade-math/cc-6th-data-statistics/dot-plot/v/ways-to-represent-data?modal=1\" },\n",
        "                            {\"lobID\": 2,\"lobName\":\"Frequency Tables & dot plot\", \"URL\": \"https://www.khanacademy.org/math/cc-sixth-grade-math/cc-6th-data-statistics/dot-plot/v/frequency-tables-and-dot-plots?modal=1\"}\n",
        "                          ]\n",
        "                          \n",
        "                    },\n",
        "                    {\"LessName\": \"Statistical questions\",\n",
        "                    \"lobs\":[\n",
        "                            {\"lobID\": 3, \"lobName\":\"Statistical questions\", \"URL\": \"https://www.khanacademy.org/math/cc-sixth-grade-math/cc-6th-data-statistics/cc-6-statistical-questions/v/understanding-statistical-questions?modal=1\"}\n",
        "                          ]\n",
        "                    },\n",
        "                    {\"LessName\": \"Histograms\",\n",
        "                    \"lobs\":[\n",
        "                            {\"lobID\": 4, \"lobName\":\"Creating a histogram\", \"URL\": \"https://www.khanacademy.org/math/cc-sixth-grade-math/cc-6th-data-statistics/histograms/v/histograms-intro?modal=1\"},\n",
        "                            {\"lobID\": 5, \"lobName\":\"Interpreting a histogram\", \"URL\": \"https://www.khanacademy.org/math/cc-sixth-grade-math/cc-6th-data-statistics/histograms/v/interpreting-histograms?modal=1\"}\n",
        "                          ]\n",
        "                    },\n",
        "                    {\"LessName\": \"Mean and median\",\n",
        "                    \"lobs\":[\n",
        "                            \n",
        "                                {\"lobID\": 6, \"lobName\":\"Statistics Intro: Mean, Median & Mode\", \"URL\": \"https://www.khanacademy.org/math/cc-sixth-grade-math/cc-6th-data-statistics/mean-and-median/v/statistics-intro-mean-median-and-mode?modal=1\"}, \n",
        "                                {\"lobID\": 7, \"lobName\":\"Mean, Median & Mode example\", \"URL\": \"https://www.khanacademy.org/math/cc-sixth-grade-math/cc-6th-data-statistics/mean-and-median/v/mean-median-and-mode?modal=1\"},\n",
        "                                {\"lobID\": 8 , \"lobName\":\"Calculating the mean\", \"URL\": \"https://www.khanacademy.org/math/cc-sixth-grade-math/cc-6th-data-statistics/mean-and-median/a/calculating-the-mean?modal=1\"}\n",
        "                                \n",
        "                                \n",
        "                          ]\n",
        "                    },\n",
        "                    {\"LessName\": \"Mean and median challenge problems\",\n",
        "                    \"lobs\":[\n",
        "                             {\"lobID\": 9, \"lobName\": \"Missing value given the mean\", \"URL\": \"https://www.khanacademy.org/math/cc-sixth-grade-math/cc-6th-data-statistics/cc-6th-mean-median-challenge/v/using-mean-to-find-missing-value?modal=1\"},\n",
        "                              {\"lobID\":10 , \"lobName\":\"Mean as the balancing point\" , \"URL\" : \"https://www.khanacademy.org/math/cc-sixth-grade-math/cc-6th-data-statistics/cc-6th-mean-median-challenge/a/mean-as-the-balancing-point?modal=1\"},\n",
        "                              {\"lobID\": 11, \"lobName\":\"Impact on median & mean: Removing an outlier\" , \"URL\" : \"https://www.khanacademy.org/math/cc-sixth-grade-math/cc-6th-data-statistics/cc-6th-mean-median-challenge/v/impact-on-median-and-mean-when-removing-lowest-value-example?modal=1\"},\n",
        "                              {\"lobID\": 12, \"lobName\":\"Impact on median & mean: increasing an outlier\" , \"URL\" : \"https://www.khanacademy.org/math/cc-sixth-grade-math/cc-6th-data-statistics/cc-6th-mean-median-challenge/v/impact-on-median-and-mean-when-increasing-highest-value?modal=1\"},\n",
        "                              {\"lobID\": 13, \"lobName\":\"Median & range puzzlers\" , \"URL\" : \"https://www.khanacademy.org/math/cc-sixth-grade-math/cc-6th-data-statistics/cc-6th-mean-median-challenge/v/median-and-range-puzzle?modal=1\"}\n",
        "                          ]\n",
        "                    },\n",
        "                    {\"LessName\": \"Interquartile range (IQR)\",\n",
        "                    \"lobs\":[\n",
        "                            {\"lobID\": 14, \"lobName\":\"Interquartile range (IQR)\", \"URL\" : \"https://www.khanacademy.org/math/cc-sixth-grade-math/cc-6th-data-statistics/cc-6th/v/calculating-interquartile-range-iqr?modal=1\"}\n",
        "                          ]\n",
        "                    },\n",
        "                    {\"LessName\": \"Box Plots\",\n",
        "                    \"lobs\":[\n",
        "                            {\"lobID\":15  , \"lobName\":\"Reading box plots\", \"URL\" : \"https://www.khanacademy.org/math/cc-sixth-grade-math/cc-6th-data-statistics/cc-6th-box-whisker-plots/v/reading-box-and-whisker-plots?modal=1\"},\n",
        "                             {\"lobID\":16  , \"lobName\":\"Constructing a box plot\", \"URL\" : \"https://www.khanacademy.org/math/cc-sixth-grade-math/cc-6th-data-statistics/cc-6th-box-whisker-plots/v/constructing-a-box-and-whisker-plot?modal=1\"},\n",
        "                             {\"lobID\":17  , \"lobName\":\"Worked example: Creating box plot (odd number of data points)\", \"URL\" : \"https://www.khanacademy.org/math/cc-sixth-grade-math/cc-6th-data-statistics/cc-6th-box-whisker-plots/v/box-and-whisker-plot-exercise-example?modal=1\"},\n",
        "                             {\"lobID\":18  , \"lobName\":\"Worked example: Creating box plot (even number of data points)\", \"URL\" : \"https://www.khanacademy.org/math/cc-sixth-grade-math/cc-6th-data-statistics/cc-6th-box-whisker-plots/v/constructing-a-box-and-whisker-plot?modal=1\"},\n",
        "                             {\"lobID\":19  , \"lobName\":\"Worked example: Interpreting a box plot\", \"URL\" : \"https://www.khanacademy.org/math/cc-sixth-grade-math/cc-6th-data-statistics/cc-6th-box-whisker-plots/v/interpreting-box-plots?modal=1\"}\n",
        "                          ]\n",
        "                    },\n",
        "\n",
        "                    {\"LessName\": \"Mean absolute deviation (MAD)\",\n",
        "                    \"lobs\":[\n",
        "                            { \"lobID\":20 , \"lobName\":\"Mean absolute deviation (MAD)\", \"URL\" : \"https://www.khanacademy.org/math/cc-sixth-grade-math/cc-6th-data-statistics/cc-6-mad/v/mean-absolute-deviation?modal=1\"},\n",
        "                              {\"lobID\":21 , \"lobName\":\"Mean absolute deviation example\", \"URL\" : \"https://www.khanacademy.org/math/cc-sixth-grade-math/cc-6th-data-statistics/cc-6-mad/v/mean-absolute-deviation-example?modal=1\"}\n",
        "                          ]\n",
        "                    },\n",
        "                    {\"LessName\": \"Comparing Data Display\",\n",
        "                    \"lobs\":[\n",
        "                            {\"lobID\":22 , \"lobName\":\"Comparing dot plots, histograms and box plots\", \"URL\" : \"https://www.khanacademy.org/math/cc-sixth-grade-math/cc-6th-data-statistics/cc-7th-compare-data-displays/v/comparing-dot-plots-histograms-and-box-plots?modal=1\"}\n",
        "                          ]\n",
        "                    },\n",
        "                    {\"LessName\": \"Shape of Data Distribution\",\n",
        "                    \"lobs\":[\n",
        "                            {\"lobID\":23 , \"lobName\":\"Shape of distributions\", \"URL\" : \"https://www.khanacademy.org/math/cc-sixth-grade-math/cc-6th-data-statistics/cc-6-shape-of-data/v/shapes-of-distributions?modal=1\"},\n",
        "                              {\"lobID\":24 , \"lobName\":\"Clusters, gaps, peaks & outliers\", \"URL\" : \"https://www.khanacademy.org/math/cc-sixth-grade-math/cc-6th-data-statistics/cc-6-shape-of-data/v/examples-analyzing-clusters-gaps-peaks-and-outliers-for-distributions?modal=1\"}\n",
        "                          ]\n",
        "                    },\n",
        "                    \n",
        "\n",
        "                    \n",
        "                    ],\n",
        "           \n",
        "          \n",
        "          }\n",
        "         ]"
      ],
      "execution_count": 32,
      "outputs": []
    },
    {
      "cell_type": "markdown",
      "metadata": {
        "id": "LmjVvM_3uoFt"
      },
      "source": [
        "# Graph the selected student's marks , predictions and recommendations\n"
      ]
    },
    {
      "cell_type": "code",
      "metadata": {
        "id": "25_pz9QN_N4e"
      },
      "source": [
        "import ipywidgets as widgets \n",
        "from ipywidgets import interact\n",
        "from matplotlib.dates import DateFormatter\n",
        "from datetime import timedelta"
      ],
      "execution_count": 33,
      "outputs": []
    },
    {
      "cell_type": "code",
      "metadata": {
        "id": "Ocx6AF716wv7"
      },
      "source": [
        "from sklearn.feature_extraction.text import CountVectorizer\n",
        "from sklearn.metrics.pairwise import cosine_similarity"
      ],
      "execution_count": 34,
      "outputs": []
    },
    {
      "cell_type": "code",
      "metadata": {
        "id": "WCKVnErTndB9"
      },
      "source": [
        "std_d={}\n",
        "for st in  dt_st.student_ID.unique():\n",
        "  std_d[st]=dt_st[dt_st.student_ID==st][\"Course_code\"].unique()"
      ],
      "execution_count": 35,
      "outputs": []
    },
    {
      "cell_type": "code",
      "metadata": {
        "id": "c6P_nYcxAt2B"
      },
      "source": [
        "from ipywidgets import interact, Dropdown, Checkbox, DatePicker\n",
        "from IPython.core.display import display, HTML\n",
        "from datetime import date\n",
        "\n",
        "\n",
        "stID1 = Dropdown(options = std_d.keys())\n",
        "stID2 = Dropdown(options = std_d.keys())\n",
        "stID3 = Dropdown(options = std_d.keys())\n",
        "stID4 = Dropdown(options = std_d.keys())\n",
        "stID5 = Dropdown(options = std_d.keys())\n",
        "stID6 = Dropdown(options = std_d.keys())\n",
        "\n",
        "\n",
        "\n",
        "course1 = Dropdown(options = std_d[stID1.value]) # options = std_d[stID.value] is to remove inital error but not that necessary.\n",
        "course2 = Dropdown(options = std_d[stID2.value]) # options = std_d[stID.value] is to remove inital error but not that necessary.\n",
        "course3 = Dropdown(options = std_d[stID3.value]) # options = std_d[stID.value] is to remove inital error but not that necessary.\n",
        "course4 = Dropdown(options = std_d[stID4.value]) # options = std_d[stID.value] is to remove inital error but not that necessary.\n",
        "course5 = Dropdown(options = std_d[stID5.value]) # options = std_d[stID.value] is to remove inital error but not that necessary.\n",
        "course6 = Dropdown(options = std_d[stID6.value]) # options = std_d[stID.value] is to remove inital error but not that necessary.\n",
        "\n",
        "\n",
        "\n",
        "\n",
        "D1=DatePicker(\n",
        "    description='ابتداءًا من تاريخ')\n",
        "D2=DatePicker(\n",
        "    description='ابتداءًا من تاريخ')\n",
        "D3=DatePicker(\n",
        "    description='ابتداءًا من تاريخ')\n",
        "D4=DatePicker(\n",
        "    description='ابتداءًا من تاريخ')    \n",
        "D5=DatePicker(\n",
        "    description='ابتداءًا من تاريخ')\n",
        "D6=DatePicker(\n",
        "    description='ابتداءًا من تاريخ')\n",
        "\n",
        "\n",
        "\n",
        "D1.value=pd.to_datetime(\"2020-01-01\")\n",
        "D2.value=pd.to_datetime(\"2020-01-01\")\n",
        "D3.value=pd.to_datetime(\"2020-01-01\")\n",
        "D4.value=pd.to_datetime(\"2020-01-01\")\n",
        "D5.value=pd.to_datetime(\"2020-01-01\")\n",
        "D6.value=pd.to_datetime(\"2020-01-01\")\n",
        "\n",
        "\n",
        "box1 = Checkbox(False, description='عرض الأنشطة')\n",
        "box2 = Checkbox(False, description='عرض الأنشطة')\n",
        "box3 = Checkbox(False, description='عرض الأنشطة')\n",
        "box4 = Checkbox(False, description='عرض الأنشطة')\n",
        "box5 = Checkbox(False, description='عرض الأنشطة')\n",
        "box6 = Checkbox(False, description='عرض الأنشطة')\n",
        "\n",
        "\n",
        "\n",
        "# @interact(st = stID1, cs = course1, dt=D1, chkbx= box1)\n",
        "# def print_cs(st, cs, dt, chkbx ):\n",
        "#     course1.options = std_d[st] # Here is the trick, i.e. update course.options based on st, namely stID.value.\n",
        "#     # print(st, cs)\n",
        "#     box1.description = \" Assignement\"   if chkbx   else \"Quizz\"\n",
        "\n"
      ],
      "execution_count": 36,
      "outputs": []
    },
    {
      "cell_type": "code",
      "metadata": {
        "id": "5_r-Ky1AMDDq"
      },
      "source": [
        "def  recommend(st):\n",
        "#  full code for recommendation \n",
        "    \n",
        "\n",
        "# Current Student Actual. learningobjects\n",
        "  df_st_Rec=df_recommend.query(f\"student_ID=='{st}'\").drop_duplicates(subset=[\"lobj_id\"], keep=\"first\")\n",
        "##----Generate Vecrorized DF--------------------\n",
        "  sorted_score=[]\n",
        "  lst_obj=[]\n",
        "\n",
        "  \n",
        "  for lobInd in list(df_st_Rec.index):\n",
        "    df_vectorize= df_recommend[df_recommend.student_ID !=st].append(\n",
        "    {\"student_ID\":st, \"Lesson_des\":df_st_Rec.loc[lobInd,\"Lesson_des\" ],\"lobj_id\":df_st_Rec.loc[lobInd,\"lobj_id\"],\n",
        "     \"lobj_des\":df_st_Rec.loc[lobInd,\"lobj_des\"],\"LearningObj\":df_st_Rec.loc[lobInd,\"LearningObj\"] }, ignore_index=True)  \n",
        "    cs= cosine_similarity(CountVectorizer().fit_transform(df_vectorize.LearningObj))\n",
        "    sorted_score += sorted(list(enumerate(cs[df_vectorize.shape[0]-1])), key=lambda x: x[1], reverse=True)\n",
        "    sorted_score.sort( key=lambda x : x[1] , reverse=True)\n",
        "\n",
        "  for  rec in sorted_score:\n",
        "    lst_obj.append(df_vectorize.loc[rec[0], \"lobj_des\"])\n",
        "    lst_obj=list(dict.fromkeys(lst_obj))\n",
        "        # take  first  5 elements\n",
        "    lst_obj=[  lob   for  lob in  lst_obj  if lob not in df_st_Rec.lobj_des.unique()]\n",
        "\n",
        "  return lst_obj\n",
        "  #return recommend"
      ],
      "execution_count": 37,
      "outputs": []
    },
    {
      "cell_type": "code",
      "metadata": {
        "id": "0TQx3FD4n61l",
        "colab": {
          "base_uri": "https://localhost:8080/"
        },
        "outputId": "22fb6495-1b36-464b-8c61-dcb2ce916e61"
      },
      "source": [
        "recommend(\"080748524S\")"
      ],
      "execution_count": 38,
      "outputs": [
        {
          "output_type": "execute_result",
          "data": {
            "text/plain": [
              "['Constructing a box plot',\n",
              " 'Mean as the balancing point',\n",
              " 'Missing value given the mean',\n",
              " 'Worked example: Interpreting a box plot',\n",
              " 'Worked example: Creating box plot (even number of data points)',\n",
              " 'Worked example: Creating box plot (odd number of data points)',\n",
              " 'Interpreting a histogram',\n",
              " 'Creating a histogram',\n",
              " 'Statistical questions']"
            ]
          },
          "metadata": {
            "tags": []
          },
          "execution_count": 38
        }
      ]
    },
    {
      "cell_type": "code",
      "metadata": {
        "id": "Uz7rTY91u2nA"
      },
      "source": [
        "def url_lobj(lob):\n",
        "  \n",
        "  for i in modules:\n",
        "    for j in i[\"lessons\"]:\n",
        "      for k in j[\"lobs\"]:\n",
        "        if k[\"lobName\"]==lob:\n",
        "          return  k[\"URL\"]\n"
      ],
      "execution_count": 39,
      "outputs": []
    },
    {
      "cell_type": "code",
      "metadata": {
        "id": "7IZNuCi1Oa66"
      },
      "source": [
        "def plot_std_Data1(st, cs, dt, chk):\n",
        "  #fig,ax=plt.subplots( figsize=(20,10) )\n",
        "\n",
        "  dt_plot=dt_st.reset_index().query(f\"Course_code=='{cs}' & student_ID=='{st}' & Activity_type=='{chk}' & Act_submit_Time>='{dt}' \")\n",
        "  if (dt_plot.shape[0]>0):\n",
        "    dt_plot.set_index(\"Act_submit_Time\", inplace=True, drop=True)\n",
        "    fig,ax=plt.subplots( figsize=(20,10) )\n",
        "\n",
        "    course1.options = std_d[st]\n",
        "    plt.rcParams.update({'font.size': 25})\n",
        "    \n",
        "    print(list(std_classPred.reset_index().query(f\"Course_code=='{cs}' & student_ID=='{st}' & Activity_type=='{chk}' \").Predicted_class)[0])\n",
        "    ax1=ax.twinx()\n",
        "\n",
        "    lst_lobj=recommend(st)\n",
        "    plt.subplots_adjust(top = 0.99, bottom=0.01,hspace=0.4)\n",
        "\n",
        "       \n",
        "    ind_xticks=dt_st.query(f\"student_ID=='{st}' & Course_code=='{cs}' & Activity_type=='{chk}' \").index\n",
        "\n",
        "    ref_q=dt_st.reset_index().query(f\"student_ID=='{st}' & Course_code=='{cs}' & Activity_type=='{chk}' \").Act_submit_Time.max()\n",
        "    x_point=[ref_q, ref_q+ timedelta(days=7)]\n",
        "    y_point=[dt_st.loc[ref_q, \"Act_mark\"], predict_std.reset_index().query(f\"student_ID=='{st}'  & Course_code=='{cs}' & Activity_type=='{chk}' \").last_mark]\n",
        "    ax.plot(x_point , y_point, linestyle='dashed', marker='o',\n",
        "                  markerfacecolor='blue', markersize=12)\n",
        "        \n",
        "\n",
        "    #------- ADD TEXT TO THE GRAPH ------------------\n",
        "           \n",
        "    fig.text(0.45,-0.6, \"You may like to watch these recommendations:\", size=22, ha=\"center\", color=\"purple\",horizontalalignment='right',\n",
        "            bbox=dict(facecolor='none', edgecolor='black', boxstyle='round,pad=1'),\n",
        "            transform=ax1.transAxes)\n",
        "    fig.text(0.5,-0.33,\" \" ) #### space below the above sentence\n",
        "\n",
        "  \n",
        "  \n",
        "    ### (so) is the value of predicted mark \n",
        "    so=str(\"{:.2f}\".format(list(y_point[1])[0]))\n",
        "    fig.text(0.32,1.2, \"Your predicted Mark:\", size=25, ha=\"center\", color=\"blue\",horizontalalignment='left',\n",
        "            bbox=dict(facecolor='none', edgecolor='black', boxstyle='round,pad=1'),transform=ax1.transAxes)\n",
        "    fig.text(0.6,  1.15 ,  so ,color=\"blue\" , size=25 ,bbox=dict(facecolor='none', edgecolor='black', boxstyle='round,pad=1'))### predicted mark\n",
        "    fig.text(0.65,1.21,\" \" )#### space above the above sentence\n",
        "      #-----------------------------------------------------------\n",
        "    dt_plot.Act_mark.plot( \n",
        "        subplots=True,marker=\"o\",    ax=ax , color=\"brown\")\n",
        "    \n",
        "    dt_plot.Act_time.plot( \n",
        "        subplots=True, marker=\"s\",   ax=ax1 , color=\"green\")\n",
        "\n",
        "    Alabel=\"Assignment marks\"   if chk  else  \"Quizzes marks\"\n",
        "    Atitle= \"Assignmenrs marks / month\"  if chk   else \"Quizzes marks / month\"\n",
        "\n",
        "    # ---------------------------------------------------------------------\n",
        "    ax.set(ylabel= Alabel , xlabel = \"Dates\") \n",
        "    \n",
        "    L=ax.legend(bbox_to_anchor=(1.05, 1), loc='upper left',)\n",
        "    L.get_texts()[0].set_text('Activity marks')\n",
        "\n",
        "    Qlabel=\"Assignment submit time / minutes\"   if chk  else  \"Quizzes submit time / minutes\"\n",
        "    T_title= \"Assignments marks compared to submit time\"  if chk   else \"Quizzes marks compared to submit time\"\n",
        "\n",
        "    ax1.set(\n",
        "          ylabel= Qlabel, \n",
        "          title=T_title\n",
        "          )\n",
        "    ax1.grid()\n",
        "    B=ax1.legend(bbox_to_anchor=(1.05, 1), loc='lower left')\n",
        "    B.get_texts()[0].set_text('Submit time')\n",
        "    fig.autofmt_xdate(rotation=75)\n",
        "    plt.show()\n",
        "\n",
        "\n",
        "    #### printing URLs for recommendatios \n",
        "\n",
        "    for item in recommend(st):\n",
        "      display(HTML(f\"<a href={url_lobj(item)} target='_blank' style='font-size:1.3em'>{item}</a>\"))\n",
        "    \n",
        "  else:\n",
        "    print(\" No records Available\")\n",
        "      # for item in recommend(st):\n",
        "    "
      ],
      "execution_count": 40,
      "outputs": []
    },
    {
      "cell_type": "code",
      "metadata": {
        "id": "oZ0_MGPw9ldd",
        "colab": {
          "base_uri": "https://localhost:8080/",
          "height": 1000,
          "referenced_widgets": [
            "64c628d7709b4243808c580ac9213999",
            "71dc8b7dbf644efe81d23fd9fc43eee2",
            "0e6cbc8713f543dba4ad0fdc2e314f90",
            "adfff109229e44299b017d45aa15a992",
            "99c23e4a65264a7b9adfa70569f1bc49",
            "454e6dba24c14d3c82c553abe08aa27f",
            "18093ab8f8264f80a2d7115444262f75",
            "79be753b9d0346bb8dd015993f9210de",
            "124ae2c70d734c5eb49e05000aa8a0fa",
            "a1687ed670b74caba457c51780893a56",
            "92faab5f6b1041699cc19172c18581a7",
            "4d6b3d9d24eb439cbc28ab8a67f5e1a7",
            "ec9d4178e191437c8c7ef879b9a6a25f",
            "2530eca8814944c4817d68c1ae50181d",
            "b083d22bf62c4cdc8ad75f1518df381a",
            "34741c62e8984e6a88810fa030a4bd13"
          ]
        },
        "outputId": "7290c4b5-1983-4613-91f0-5b8d0a84350d"
      },
      "source": [
        "@interact(st = stID1, cs = course1, dt = D1, chkbx = box1)\n",
        "def plot_data( st, cs, dt , chkbx):\n",
        "  #print(((chkbx)+0))\n",
        "  box1.description = \" Assignement\"   if chkbx   else \"Quizz\"\n",
        "  course1.options = std_d[st]\n",
        "\n",
        "  # print(predict_std.reset_index().query(f\"Course_code=='{cs}' & student_ID=='{st}'\"))\n",
        "  plot_std_Data1(st, cs, dt , ((chkbx)+0))\n",
        "\n"
      ],
      "execution_count": 41,
      "outputs": [
        {
          "output_type": "display_data",
          "data": {
            "application/vnd.jupyter.widget-view+json": {
              "model_id": "64c628d7709b4243808c580ac9213999",
              "version_minor": 0,
              "version_major": 2
            },
            "text/plain": [
              "interactive(children=(Dropdown(description='st', options=('080748524S', '090904691S', '060991839S', '071059051…"
            ]
          },
          "metadata": {
            "tags": []
          }
        }
      ]
    },
    {
      "cell_type": "markdown",
      "metadata": {
        "id": "85tpcOGfnqOV"
      },
      "source": [
        "## Necessary Recommendations\n",
        "\n"
      ]
    },
    {
      "cell_type": "code",
      "metadata": {
        "id": "z1pAKy7UwE1q"
      },
      "source": [
        "target_st = dt_st[[\"student_ID\",\t\"Course_code\",\t\"Activity_id\"]]"
      ],
      "execution_count": 42,
      "outputs": []
    },
    {
      "cell_type": "code",
      "metadata": {
        "id": "ILchXJZR0NCs"
      },
      "source": [
        "target_st.drop_duplicates(subset=[\"Course_code\"], keep=\"last\", inplace=True)"
      ],
      "execution_count": 43,
      "outputs": []
    },
    {
      "cell_type": "code",
      "metadata": {
        "colab": {
          "base_uri": "https://localhost:8080/",
          "height": 390
        },
        "id": "WUn5udBrpE6b",
        "outputId": "017d209a-5d08-471d-c818-7b9027c870b8"
      },
      "source": [
        "target_st.sample(10)"
      ],
      "execution_count": 44,
      "outputs": [
        {
          "output_type": "execute_result",
          "data": {
            "text/html": [
              "<div>\n",
              "<style scoped>\n",
              "    .dataframe tbody tr th:only-of-type {\n",
              "        vertical-align: middle;\n",
              "    }\n",
              "\n",
              "    .dataframe tbody tr th {\n",
              "        vertical-align: top;\n",
              "    }\n",
              "\n",
              "    .dataframe thead th {\n",
              "        text-align: right;\n",
              "    }\n",
              "</style>\n",
              "<table border=\"1\" class=\"dataframe\">\n",
              "  <thead>\n",
              "    <tr style=\"text-align: right;\">\n",
              "      <th></th>\n",
              "      <th>student_ID</th>\n",
              "      <th>Course_code</th>\n",
              "      <th>Activity_id</th>\n",
              "    </tr>\n",
              "    <tr>\n",
              "      <th>Act_submit_Time</th>\n",
              "      <th></th>\n",
              "      <th></th>\n",
              "      <th></th>\n",
              "    </tr>\n",
              "  </thead>\n",
              "  <tbody>\n",
              "    <tr>\n",
              "      <th>2020-10-20 09:53:42</th>\n",
              "      <td>060991839S</td>\n",
              "      <td>g6_1</td>\n",
              "      <td>g6_1-Act_4</td>\n",
              "    </tr>\n",
              "    <tr>\n",
              "      <th>2020-10-07 23:17:23</th>\n",
              "      <td>090904691S</td>\n",
              "      <td>g9_2</td>\n",
              "      <td>g9_2-Act_4</td>\n",
              "    </tr>\n",
              "    <tr>\n",
              "      <th>2020-10-19 19:50:48</th>\n",
              "      <td>060991839S</td>\n",
              "      <td>g6_2</td>\n",
              "      <td>g6_2-Act_4</td>\n",
              "    </tr>\n",
              "    <tr>\n",
              "      <th>2020-12-20 20:41:44</th>\n",
              "      <td>071223506S</td>\n",
              "      <td>g7_1</td>\n",
              "      <td>g7_1-Act_4</td>\n",
              "    </tr>\n",
              "    <tr>\n",
              "      <th>2020-09-21 11:23:53</th>\n",
              "      <td>071223506S</td>\n",
              "      <td>g7_3</td>\n",
              "      <td>g7_3-Act_4</td>\n",
              "    </tr>\n",
              "    <tr>\n",
              "      <th>2020-02-26 22:15:50</th>\n",
              "      <td>080748524S</td>\n",
              "      <td>g5_2</td>\n",
              "      <td>g5_2-Act_4</td>\n",
              "    </tr>\n",
              "    <tr>\n",
              "      <th>2020-10-11 22:14:50</th>\n",
              "      <td>071059051S</td>\n",
              "      <td>g8_3</td>\n",
              "      <td>g8_3-Act_4</td>\n",
              "    </tr>\n",
              "    <tr>\n",
              "      <th>2020-04-01 04:25:24</th>\n",
              "      <td>071223506S</td>\n",
              "      <td>g7_2</td>\n",
              "      <td>g7_2-Act_4</td>\n",
              "    </tr>\n",
              "    <tr>\n",
              "      <th>2020-11-22 03:18:07</th>\n",
              "      <td>060991839S</td>\n",
              "      <td>g6_3</td>\n",
              "      <td>g6_3-Act_4</td>\n",
              "    </tr>\n",
              "    <tr>\n",
              "      <th>2020-02-28 04:14:03</th>\n",
              "      <td>090904691S</td>\n",
              "      <td>g9_3</td>\n",
              "      <td>g9_3-Act_4</td>\n",
              "    </tr>\n",
              "  </tbody>\n",
              "</table>\n",
              "</div>"
            ],
            "text/plain": [
              "                     student_ID Course_code Activity_id\n",
              "Act_submit_Time                                        \n",
              "2020-10-20 09:53:42  060991839S        g6_1  g6_1-Act_4\n",
              "2020-10-07 23:17:23  090904691S        g9_2  g9_2-Act_4\n",
              "2020-10-19 19:50:48  060991839S        g6_2  g6_2-Act_4\n",
              "2020-12-20 20:41:44  071223506S        g7_1  g7_1-Act_4\n",
              "2020-09-21 11:23:53  071223506S        g7_3  g7_3-Act_4\n",
              "2020-02-26 22:15:50  080748524S        g5_2  g5_2-Act_4\n",
              "2020-10-11 22:14:50  071059051S        g8_3  g8_3-Act_4\n",
              "2020-04-01 04:25:24  071223506S        g7_2  g7_2-Act_4\n",
              "2020-11-22 03:18:07  060991839S        g6_3  g6_3-Act_4\n",
              "2020-02-28 04:14:03  090904691S        g9_3  g9_3-Act_4"
            ]
          },
          "metadata": {
            "tags": []
          },
          "execution_count": 44
        }
      ]
    },
    {
      "cell_type": "code",
      "metadata": {
        "id": "vjwueRKb-XV2"
      },
      "source": [
        "def rec_repo( s,t, c, a, q):\n",
        "  return {\n",
        "          \"student_ID\": s,\n",
        "          \"Act_submit_Time\": t ,\n",
        "          \"Course_code\":c,  \n",
        "          \"Activity_id\": a,\n",
        "          \"Q_id\": q,\n",
        "          \"Q_mark\":random.choices( np.arange(1, 4), weights=[30,60,40])[0], \n",
        "          \"PF\": random.choices([1, 0], weights=(60, 40))[0]\n",
        "      }"
      ],
      "execution_count": 45,
      "outputs": []
    },
    {
      "cell_type": "code",
      "metadata": {
        "id": "dDPKoBMyicop"
      },
      "source": [
        "def Q_repo( q, lob):\n",
        "  return {\n",
        "          \"Q_id\": q,\n",
        "          \"lob_id\":lob \n",
        "      }"
      ],
      "execution_count": 46,
      "outputs": []
    },
    {
      "cell_type": "code",
      "metadata": {
        "id": "JwyE52PUlGV7"
      },
      "source": [
        "def  std_recd( lst):\n",
        "  lstUrl=[]\n",
        "  for i in modules:\n",
        "    for j in i[\"lessons\"]:\n",
        "      for k in j[\"lobs\"]:\n",
        "        if k[\"lobID\"] in lst:\n",
        "          lstUrl.append((k[\"URL\"], k[\"lobName\"]))\n",
        "  return lstUrl\n"
      ],
      "execution_count": 47,
      "outputs": []
    },
    {
      "cell_type": "code",
      "metadata": {
        "id": "il2SetkBYz6Y"
      },
      "source": [
        "lst_rec=[]\n",
        "lst_Q=[]\n",
        "#std_array= dt_st.student_ID\n",
        "#std_course= dt_st.query(\"student_ID=='080748524S'\").Course_code.unique()\n",
        "#std_act= dt_st.query(\"student_ID=='080748524S'\").Activity_id.unique()\n",
        "\n",
        "for  s,t, course , act in zip(target_st.student_ID,target_st.index, target_st.Course_code , target_st.Activity_id):\n",
        "  for Q in [f\"Q{act}_{rd}\" for rd in range(int(9*np.random.rand()+2))]:\n",
        "    lst_rec.append(rec_repo(s,t, course, act, Q))\n",
        "    for lob  in random.choices(np.arange(24), k=int(6*np.random.rand()+4)):\n",
        "      lst_Q.append(Q_repo(Q, lob))\n",
        "               \n",
        "df_Rrepo=pd.DataFrame(lst_rec)\n",
        "df_Qrepo=pd.DataFrame(lst_Q)\n"
      ],
      "execution_count": 48,
      "outputs": []
    },
    {
      "cell_type": "code",
      "metadata": {
        "colab": {
          "base_uri": "https://localhost:8080/",
          "height": 114
        },
        "id": "2owt7qItXDpe",
        "outputId": "955e8975-9c30-4be4-b4cb-c1b4617c69ef"
      },
      "source": [
        "%%time\n",
        "df_Rrepo.sample(1)"
      ],
      "execution_count": 49,
      "outputs": [
        {
          "output_type": "stream",
          "text": [
            "CPU times: user 533 µs, sys: 57 µs, total: 590 µs\n",
            "Wall time: 599 µs\n"
          ],
          "name": "stdout"
        },
        {
          "output_type": "execute_result",
          "data": {
            "text/html": [
              "<div>\n",
              "<style scoped>\n",
              "    .dataframe tbody tr th:only-of-type {\n",
              "        vertical-align: middle;\n",
              "    }\n",
              "\n",
              "    .dataframe tbody tr th {\n",
              "        vertical-align: top;\n",
              "    }\n",
              "\n",
              "    .dataframe thead th {\n",
              "        text-align: right;\n",
              "    }\n",
              "</style>\n",
              "<table border=\"1\" class=\"dataframe\">\n",
              "  <thead>\n",
              "    <tr style=\"text-align: right;\">\n",
              "      <th></th>\n",
              "      <th>student_ID</th>\n",
              "      <th>Act_submit_Time</th>\n",
              "      <th>Course_code</th>\n",
              "      <th>Activity_id</th>\n",
              "      <th>Q_id</th>\n",
              "      <th>Q_mark</th>\n",
              "      <th>PF</th>\n",
              "    </tr>\n",
              "  </thead>\n",
              "  <tbody>\n",
              "    <tr>\n",
              "      <th>25</th>\n",
              "      <td>090904691S</td>\n",
              "      <td>2020-02-28 04:14:03</td>\n",
              "      <td>g9_3</td>\n",
              "      <td>g9_3-Act_4</td>\n",
              "      <td>Qg9_3-Act_4_4</td>\n",
              "      <td>2</td>\n",
              "      <td>0</td>\n",
              "    </tr>\n",
              "  </tbody>\n",
              "</table>\n",
              "</div>"
            ],
            "text/plain": [
              "    student_ID     Act_submit_Time Course_code  ...           Q_id Q_mark  PF\n",
              "25  090904691S 2020-02-28 04:14:03        g9_3  ...  Qg9_3-Act_4_4      2   0\n",
              "\n",
              "[1 rows x 7 columns]"
            ]
          },
          "metadata": {
            "tags": []
          },
          "execution_count": 49
        }
      ]
    },
    {
      "cell_type": "code",
      "metadata": {
        "id": "IJy7EqqV0Hz1"
      },
      "source": [
        "std_new={}\n",
        "for st in  target_st.student_ID.unique():\n",
        "  std_new[st]=target_st[target_st.student_ID==st][\"Course_code\"].unique()"
      ],
      "execution_count": 50,
      "outputs": []
    },
    {
      "cell_type": "code",
      "metadata": {
        "id": "TB2V1q1N7wU8"
      },
      "source": [
        "stID7 = Dropdown(options = std_new.keys())\n",
        "course7 = Dropdown(options = std_new[stID7.value])\n",
        "\n",
        "\n",
        "##################\n",
        "#course4 = Dropdown(options = std_d[\"080748524S\"]) # options = std_d[stID.value] is to remove inital error but not that necessary.\n",
        "D7=DatePicker(\n",
        "    description='Starting date')\n",
        "D7.value=pd.to_datetime(\"2020-01-01\")"
      ],
      "execution_count": 51,
      "outputs": []
    },
    {
      "cell_type": "code",
      "metadata": {
        "id": "jgipE_S22piz"
      },
      "source": [
        "def  plot_strec( st,cs,dt ):\n",
        "  lstrec=[]\n",
        "  \n",
        "  _df_Rrepo= df_Rrepo.query(f\"student_ID=='{st}' & Course_code=='{cs}' & Act_submit_Time>='{dt}'\")\n",
        "  \n",
        "  if _df_Rrepo.shape[0]>0:\n",
        "    \n",
        "    fig_dims = (20, 8)\n",
        "    fig, ax = plt.subplots(figsize=fig_dims)\n",
        "    plt.rcParams.update({'font.size': 25})\n",
        "\n",
        "\n",
        "    g=sns.barplot( \n",
        "        x=\"Q_id\" ,y= \"Q_mark\", \n",
        "        hue=\"PF\", data=_df_Rrepo, ci=None, palette=[\"C3\", \"C0\" ], ax=ax )\n",
        "    g.set_xticklabels([f\"Q_{m+1}\"  for m in range(_df_Rrepo.shape[0])])\n",
        "\n",
        "\n",
        "        ######## graph formatting #######\n",
        "\n",
        "    ax.set_title('Passed / Failed answers in the selected activity')\n",
        "    ax.set(xlabel='Question number', ylabel='Points per question')\n",
        "    N=plt.legend(bbox_to_anchor=(1.05, 1), loc=2, borderaxespad=0.)\n",
        "    N.get_texts()[0].set_text('Wrong Answers')\n",
        "    if len(N.get_texts())>1:\n",
        "      N.get_texts()[1].set_text('Correct Answers')\n",
        "\n",
        "        ###### Text below the graph ######\n",
        "\n",
        "    fig.text(0.43,-0.6, \"Watch these recommendations to learn more:\", size=22, ha=\"center\", color=\"purple\",horizontalalignment='right',\n",
        "            bbox=dict(facecolor='none', edgecolor='black', boxstyle='round,pad=1'),\n",
        "            transform=ax.transAxes)\n",
        "    fig.text(0.5,-0.4,\" \" ) #### space below the above sentence\n",
        "    fig.text(0.65,1.1,\" \" )#### space above the above sentence\n",
        "\n",
        "        # plt.show()\n",
        "      ###########\n",
        "\n",
        "    for q in _df_Rrepo.query(f\"PF=='0'\").Q_id.unique():\n",
        "      lstrec +=list(df_Qrepo.query(f\"Q_id=='{q}'\").lob_id)\n",
        "    lstrec=list(dict.fromkeys(lstrec))\n",
        "    # print(list(dict.fromkeys(lstrec)))\n",
        "    plt.show()\n",
        "    \n",
        "    for item in std_recd(lstrec[:5]):\n",
        "      display(HTML(f\"<a href={item[0] } target='_blank' style='font-size:1.3em'>{item[1]}</a>\"))\n",
        "    \n",
        "    \n",
        "\n",
        "  else:\n",
        "    print(\" No Records Available\")\n"
      ],
      "execution_count": 52,
      "outputs": []
    },
    {
      "cell_type": "code",
      "metadata": {
        "id": "DsMCN0fjfejG",
        "colab": {
          "base_uri": "https://localhost:8080/",
          "height": 951,
          "referenced_widgets": [
            "0a39b2fab0834dd5b20efffdc0ec3257",
            "b89e31f18dda4eb78740beb432e1ad78",
            "4de015f77fac4d61a8306583e6012227",
            "90295b2acb524864a947daa8228fb415",
            "09f3afbe5e5d42a092859bb4115df7ba",
            "218fcca95b614b5db4a252776d36caae",
            "c424004a7f6945eb981b3582000fc9e6",
            "8cdd95b25a964b90ade4185230a1f283",
            "2d8cd33d2b4549d4b733e6f2dcb6bdf1",
            "395034341fa34a11adea19a9d1531941",
            "3b7b4a5886124338bd14b19399cf5feb",
            "de3220b6efe74b2d924f475e7dffc3f4",
            "ee51749647b64c10ba4e634ec81636cb"
          ]
        },
        "outputId": "62a888ee-50f3-4e9d-cddb-2eeb56f794a3"
      },
      "source": [
        "%%time\n",
        "@interact(st=stID7, cs = course7 , dt=D7)\n",
        "def plot_rec(st, cs, dt):\n",
        "  course7.options = std_new[st]\n",
        "  plot_strec( st,cs,  dt)\n",
        "  "
      ],
      "execution_count": 53,
      "outputs": [
        {
          "output_type": "display_data",
          "data": {
            "application/vnd.jupyter.widget-view+json": {
              "model_id": "0a39b2fab0834dd5b20efffdc0ec3257",
              "version_minor": 0,
              "version_major": 2
            },
            "text/plain": [
              "interactive(children=(Dropdown(description='st', options=('080748524S', '090904691S', '060991839S', '071059051…"
            ]
          },
          "metadata": {
            "tags": []
          }
        },
        {
          "output_type": "stream",
          "text": [
            "CPU times: user 516 ms, sys: 38.1 ms, total: 554 ms\n",
            "Wall time: 553 ms\n"
          ],
          "name": "stdout"
        }
      ]
    },
    {
      "cell_type": "code",
      "metadata": {
        "id": "bf59NigLAqCI"
      },
      "source": [
        ""
      ],
      "execution_count": 53,
      "outputs": []
    },
    {
      "cell_type": "code",
      "metadata": {
        "id": "c0Zvhl8cdw6B"
      },
      "source": [
        "import plotly.express as px\n"
      ],
      "execution_count": 54,
      "outputs": []
    },
    {
      "cell_type": "code",
      "metadata": {
        "id": "FVLGIVp8dxa_"
      },
      "source": [
        "def plot_Q( st,cs,dt ):\n",
        " \n",
        "  lrec=[]\n",
        "  \n",
        "  _df_Rrepo= df_Rrepo.query(f\"student_ID=='{st}' & Course_code=='{cs}' & Act_submit_Time>='{dt}' \")\n",
        "  \n",
        "  if _df_Rrepo.shape[0]>0:\n",
        "    \n",
        "    course2.options = std_new[st]\n",
        "\n",
        "    \n",
        "\n",
        "  ####   1\n",
        "    # fig = go.Figure(go.Bar(\n",
        "    #             x=_df_Rrepo.Q_id,\n",
        "    #             y=_df_Rrepo.Q_mark,\n",
        "    #             width=0.2,\n",
        "    #             marker=dict(color=np.where(_df_Rrepo[\"PF\"]==0, 'red', 'green'))\n",
        "    #              ))\n",
        "\n",
        "\n",
        "  ####     2  \n",
        "    # fig = go.Figure()\n",
        "    # fig.add_trace(go.Bar(x=_df_Rrepo.Q_id,y=_df_Rrepo.Q_mark,width=0.2,showlegend=True,marker=dict(color=np.where(_df_Rrepo[\"PF\"]==0, 'red', 'green'))\n",
        "    # ))\n",
        "\n",
        "\n",
        "    ####    3\n",
        "\n",
        "    fig = px.bar(_df_Rrepo, x=_df_Rrepo.Q_id, y=_df_Rrepo.Q_mark,\n",
        "                        color=_df_Rrepo.PF,\n",
        "                        color_discrete_map={'0': 'red','1': 'green'},)\n",
        "        \n",
        "    \n",
        "    \n",
        "    \n",
        "    \n",
        "    # var = _df_Rrepo[\"PF\"].unique()\n",
        "    # fig = go.Figure()\n",
        "    # for v in var:\n",
        "    #   fig.add_trace(go.Bar(x=_df_Rrepo.Q_id,\n",
        "    #                        y=_df_Rrepo.Q_mark,\n",
        "    #                        width=0.2,\n",
        "    #                        showlegend=True,\n",
        "    #                        marker=dict(color=v)\n",
        "    #                           )\n",
        "    #              )\n",
        "               \n",
        "    \n",
        "    \n",
        "\n",
        "    # for idx in range(len(fig.data)):\n",
        "    #  fig.data[idx].x = [f\"Q_{m+1}\"  for m in range(_df_Rrepo.shape[0])]\n",
        "\n",
        "\n",
        "    # fig.update_layout(\n",
        "    # title_text=\"Questions from all activities submitted\" )\n",
        "    # fig.update_xaxes(title_text=\"Questions\")\n",
        "    # fig.update_yaxes(title_text=\"Point per qustion\")\n",
        "    # fig.update_layout(hovermode=\"x\")\n",
        "    \n",
        "    ################ PRINT RECOMM.\n",
        "\n",
        "    for q in _df_Rrepo.query(f\"PF=='0'\").Q_id.unique():\n",
        "      lrec +=list(df_Qrepo.query(f\"Q_id=='{q}'\").lob_id)\n",
        "      lrec=list(dict.fromkeys(lrec))\n",
        "      # print(list(dict.fromkeys(lrec)))\n",
        "      #fig.show()\n",
        "      for item in std_recd(lrec[:5]):\n",
        "        display(HTML(f\"<a href={item[0] } target='_blank' style='font-size:1.3em'>{item[1]}</a>\"))\n",
        "        \n",
        "    fig.show()    \n",
        "  else:\n",
        "    print(\" No records Available\")\n",
        "      "
      ],
      "execution_count": 55,
      "outputs": []
    },
    {
      "cell_type": "code",
      "metadata": {
        "id": "LrMsbPaDhJMv",
        "colab": {
          "base_uri": "https://localhost:8080/",
          "height": 858,
          "referenced_widgets": [
            "637a1d3d0b2047b2b642fb2f062c1066",
            "9f0b770a40d04f499d09d2e65c7f0a9e",
            "c40e057f2d4047be9d00a857911e4b1e",
            "1350c780eb26438dbd8830382b092d74",
            "6057bf42593344cd8f96a31e3790e094",
            "1d24e6fcf25643ca9944a72ca52f134c",
            "e67a9b2f28024d7f806b97a1f5f18909",
            "006150c4174e4dc0b0f656d9cd10db26",
            "f03ca5ec1a7e44399e9273a001e694db",
            "51680b44427c4c1d92848beae84259e4",
            "304b04281147468ca7c31a8c3eb06ad2",
            "4285cde3d7b648579d81fe8ae3909f54",
            "6e4d48bdfd024edc9eec69b6a8035492"
          ]
        },
        "outputId": "4ec3a8a1-94ae-4431-9ef8-051b4abd433c"
      },
      "source": [
        "@interact(st=stID2, cs = course2 , dt=D2)\n",
        "def plot_QQ(st, cs, dt):\n",
        "  course2.options = std_new[st]\n",
        "  plot_Q( st,cs,  dt)"
      ],
      "execution_count": 56,
      "outputs": [
        {
          "output_type": "display_data",
          "data": {
            "application/vnd.jupyter.widget-view+json": {
              "model_id": "637a1d3d0b2047b2b642fb2f062c1066",
              "version_minor": 0,
              "version_major": 2
            },
            "text/plain": [
              "interactive(children=(Dropdown(description='st', options=('080748524S', '090904691S', '060991839S', '071059051…"
            ]
          },
          "metadata": {
            "tags": []
          }
        }
      ]
    },
    {
      "cell_type": "code",
      "metadata": {
        "id": "WmBbhl02O4zh"
      },
      "source": [
        ""
      ],
      "execution_count": 56,
      "outputs": []
    },
    {
      "cell_type": "code",
      "metadata": {
        "id": "4AX3igEcO4v7"
      },
      "source": [
        ""
      ],
      "execution_count": 56,
      "outputs": []
    },
    {
      "cell_type": "code",
      "metadata": {
        "id": "YSVtW5bKO4s5"
      },
      "source": [
        ""
      ],
      "execution_count": 56,
      "outputs": []
    },
    {
      "cell_type": "markdown",
      "metadata": {
        "id": "BFOwH4RLDbdP"
      },
      "source": [
        "# Graph using Box plot"
      ]
    },
    {
      "cell_type": "markdown",
      "metadata": {
        "id": "lCHcvXhY_xRl"
      },
      "source": [
        "## Plot mark VS submit_time ( with box plot )"
      ]
    },
    {
      "cell_type": "code",
      "metadata": {
        "id": "650hHQaSFn6b"
      },
      "source": [
        "#Combine Graph\n",
        "\n",
        "def plot_std_Data2(st, cs, dt ,chk):\n",
        "  import seaborn as sns \n",
        "  import matplotlib.pyplot as plt\n",
        "\n",
        "\n",
        "  dt_tmp= dt_st.query(\n",
        "      f\"student_ID=='{st}' & Course_code=='{cs}' & Activity_type=='{chk}'\"\n",
        "      )[[\"Act_mark\", \"Activity_id\" ]]\n",
        "  dt_tmp.sort_index( inplace=True )\n",
        "  pd.to_datetime(dt_tmp.index).strftime('%d-%m-%Y')\n",
        " \n",
        " \n",
        "  if (dt_tmp.reset_index().query(f\"Act_submit_Time>='{dt}'\").shape[0]>0):\n",
        "\n",
        "\n",
        "    fg, ax= plt.subplots( figsize=(20,8))\n",
        "    course3.options = std_d[st]\n",
        "\n",
        "\n",
        "  ######### USED TO PICK DATE FROM CALENDER  #########\n",
        "    # dt_tmp= dt_st.query(\n",
        "    #     f\"student_ID=='{st}' & Course_code=='{cs}'& Activity_type=='{chk}'\")[[\"Act_mark\", \"Activity_id\" ]]\n",
        "    # dt_tmp=dt_tmp.query(f\"Act_submit_Time >= '{dt}'\")\n",
        "    # if dt_tmp.shape[0]>0:\n",
        "    #   course.options = std_d[st]\n",
        "\n",
        "\n",
        "    \n",
        "  ######## Predicted value  ###########\n",
        "    #   we suppose that  predict_std is already available\n",
        "    ref_q=dt_st.sort_index().query(\n",
        "        f\"student_ID=='{st}' & Course_code=='{cs}' & Activity_type=='{chk}'\"\n",
        "        ).tail(1).index+timedelta(days=7)\n",
        "    \n",
        "    yq_point=[dt_st.sort_index().query(\n",
        "        f\"student_ID=='{st}' & Course_code=='{cs}' & Activity_type=='{chk}' \"\n",
        "        ).Act_mark.tail(1) \n",
        "    , predict_std.reset_index().query(\n",
        "        f\"student_ID=='{st}'  & Course_code=='{cs}' & Activity_type=='{chk}' \"\n",
        "        ).last_mark]\n",
        "    #print(yq_point)\n",
        "    print(f\"  Predicted Mark: {list(yq_point[1])[0]}\")\n",
        "\n",
        "  ##########################################\n",
        "    df_stAct=pd.DataFrame()\n",
        "\n",
        "    for col, time in zip(\n",
        "        dt_tmp[\"Activity_id\"],dt_tmp.reset_index().Act_submit_Time.unique()\n",
        "        ):\n",
        "      df_bx=pd.DataFrame()\n",
        "      df_bx=df_avt.query(\n",
        "          f\"Activity_id== '{col}' & Activity_type=='{chk}'\"\n",
        "          )[[\"Activity_id\", \"Act_mark\"]]\n",
        "      df_bx[\"Act_submit_Time\"]= pd.to_datetime(time).strftime('%d-%m-%Y')\n",
        "      df_stAct= pd.concat([df_stAct, df_bx ])\n",
        "\n",
        "    sns.boxplot(x=\"Activity_id\" ,  \n",
        "                y= \"Act_mark\", data=df_stAct , ax=ax ,width= 0.3)\n",
        "    \n",
        "    dt_tmp.reset_index().append({\n",
        "        \"Act_submit_Time\":ref_q.strftime('%d-%m-%Y'),\n",
        "        \"Act_mark\":list(yq_point[1])[0]\n",
        "    }, ignore_index=True).Act_mark.plot(ax=ax, color=\"k\", marker='o', linewidth=2, markersize=9) \n",
        "\n",
        "\n",
        "    dt_tmp.reset_index().append({\n",
        "        \"Act_submit_Time\":ref_q.strftime('%d-%m-%Y'),\n",
        "        \"Act_mark\":list(yq_point[1])[0]\n",
        "    }, ignore_index=True).tail(2).Act_mark.plot(ax=ax, color=\"r\",  marker='o',linestyle='dashed' ,linewidth=5, markersize=14 ) \n",
        "    \n",
        "\n",
        "    graphTitle= \"Student's Assignement mark compared to other students\" if chk  else \" Student's quiz mark compared to other students\" \n",
        "    plt.title(graphTitle , fontsize=20)\n",
        "    plt.xlabel(\"Date\" , fontsize=20)\n",
        "    plt.ylabel(\"Mark\" , fontsize=20)\n",
        "    plt.xticks(rotation=70)\n",
        "    ax.set_xticklabels(dt_tmp.index.strftime('%d-%m-%Y'))\n",
        "    L=plt.legend()\n",
        "    L.get_texts()[0].set_text('Actual marks')\n",
        "    L.get_texts()[1].set_text('Predicted mark')\n",
        "\n",
        "    plt.grid()\n",
        "    plt.show()\n",
        "  else:\n",
        "    print(\"  No records Available\")"
      ],
      "execution_count": 57,
      "outputs": []
    },
    {
      "cell_type": "code",
      "metadata": {
        "id": "1rKm1eO7dJ8a",
        "colab": {
          "base_uri": "https://localhost:8080/",
          "height": 807,
          "referenced_widgets": [
            "b2ffb4dcf75749b1a9902debfe832c05",
            "8608ea426cc7476dbe78ff057c699798",
            "569d8969f9934490bf87689aa1d302c4",
            "bb96ffb7ed1b48a4b367b1a2368e97bf",
            "cf80646720eb40d3a5bf31bdd330cea1",
            "a3042aa8440b4e4cb3278d363ac3dc64",
            "7232b3f708da438c83b9e8db3e410222",
            "fc8d1b5c42ee4a2c9b4ebc4f3d8520ef",
            "2bb1185b82c842ffb388863cef336c62",
            "0d9f50dc1c2d425da8c397edcdfa77de",
            "dd06b87efd8145e5aa76d3e96364c334",
            "3577f2ff5b95416b9d29e5e87df4f2fb",
            "c6a6a2a3cf974d04a2285ef0026290cf",
            "291a8f7622004486939c1d9ed450dcf7",
            "56dfcd5407fc4a42810e0c16fc122cab",
            "2e202f35227f41e1b782db19d251525d"
          ]
        },
        "outputId": "4ef8b82b-c9d5-4f3c-90aa-ae27412a8a1b"
      },
      "source": [
        "@interact(st = stID3, cs = course3, dt = D3, chkbx = box3)\n",
        "def plot_data2( st, cs, dt , chkbx):\n",
        "  #print(((chkbx)+0))\n",
        "  course3.options = std_d[st]\n",
        "  box3.description = \" Assignement\"   if chkbx   else \"Quizz\"\n",
        "  # print(predict_std.reset_index().query(f\"Course_code=='{cs}' & student_ID=='{st}'\"))\n",
        "  plot_std_Data2(st, cs, dt , ((chkbx)+0))"
      ],
      "execution_count": 58,
      "outputs": [
        {
          "output_type": "display_data",
          "data": {
            "application/vnd.jupyter.widget-view+json": {
              "model_id": "b2ffb4dcf75749b1a9902debfe832c05",
              "version_minor": 0,
              "version_major": 2
            },
            "text/plain": [
              "interactive(children=(Dropdown(description='st', options=('080748524S', '090904691S', '060991839S', '071059051…"
            ]
          },
          "metadata": {
            "tags": []
          }
        }
      ]
    },
    {
      "cell_type": "code",
      "metadata": {
        "id": "_RkmNNuo52pw"
      },
      "source": [
        "######  TRY PLOTLY (2)\n",
        "import plotly\n",
        "import plotly.graph_objects as go\n",
        "from plotly.subplots import make_subplots\n",
        "\n",
        "import datetime "
      ],
      "execution_count": 59,
      "outputs": []
    },
    {
      "cell_type": "code",
      "metadata": {
        "id": "SWUxMQNqvScT"
      },
      "source": [
        "def plot_std_Data3(st, cs,dt, chk):\n",
        "\n",
        "########## DATA HERE -----------------------\n",
        "  dt_tmp= dt_st.query(\n",
        "      f\"student_ID=='{st}' & Course_code=='{cs}'& Activity_type=='{chk}'\")[[\"Act_mark\", \"Activity_id\" ]]\n",
        "  dt_tmp=dt_tmp.query(f\"Act_submit_Time >= '{dt}'\")\n",
        "  cmap = plt.cm.get_cmap('GnBu') # green to blue color way\n",
        "  if dt_tmp.shape[0]>0:\n",
        "    course4.options = std_d[st]\n",
        "    \n",
        "    dt_tmp.sort_index( inplace=True )\n",
        "    dt_tmp.reset_index(inplace=True)\n",
        "  #  Query only  records  done after  selected Date\n",
        "    \n",
        "  \n",
        "    ref_t= dt_tmp.loc[dt_tmp.shape[0]-1, \"Act_submit_Time\"] + timedelta(days=7)\n",
        "    dt_tmp['Act_submit_Time'] = dt_tmp.Act_submit_Time.apply(lambda x: x.strftime('%d-%m-%Y'))\n",
        "  # dt_tmp[\"Act_submit_Time\"]= dt_tmp.Act_submit_Time.astype(str).str[:-9]\n",
        "  \n",
        "######## Predicted value  ###########\n",
        "  #   we suppose that  predict_std is already available\n",
        "  \n",
        "    yq_point=[dt_st.sort_index().query(\n",
        "      f\"student_ID=='{st}' & Course_code=='{cs}' & Activity_type=='{chk}' \"\n",
        "      ).Act_mark.tail(1) \n",
        "    , predict_std.reset_index().query(\n",
        "       f\"student_ID=='{st}'  & Course_code=='{cs}' & Activity_type=='{chk}' \"\n",
        "       ).last_mark]\n",
        "     \n",
        " \n",
        "########################################## \n",
        "    df_stAct=pd.DataFrame()\n",
        "  \n",
        "\n",
        "    for col, time in zip( dt_tmp[\"Activity_id\"],dt_tmp.Act_submit_Time.unique()):\n",
        "      df_bx=pd.DataFrame()\n",
        "      df_bx=df_avt.query(\n",
        "          f\"Activity_id== '{col}' & Activity_type=='{chk}'\"\n",
        "          )[[\"Activity_id\", \"Act_mark\"]]\n",
        "      df_bx[\"Act_submit_Time\"]= pd.to_datetime(time).strftime('%d-%m-%Y')\n",
        "      df_stAct= pd.concat([df_stAct, df_bx ])\n",
        "    \n",
        "  #--------------New Predicted values------------------------------\n",
        "    dt_plot=dt_tmp.tail(1)\n",
        "    dt_plot= dt_plot.append({\n",
        "        # \"Act_submit_Time\":pd.to_datetime(ref_t).strftime('%d-%m-%Y') , #.astype(str).str[:-9],\n",
        "        \"Activity_id\": \"_\",\n",
        "        \"Act_mark\":list(yq_point[1])[0]\n",
        "    }, ignore_index=True)\n",
        "\n",
        "    return dt_tmp, dt_plot , df_stAct \n",
        "  #_______________________PLOTLY___________________\n",
        " \n",
        "  else:\n",
        "    return \" No records Available\"\n"
      ],
      "execution_count": 60,
      "outputs": []
    },
    {
      "cell_type": "code",
      "metadata": {
        "id": "iLNUL8UlsRPT"
      },
      "source": [
        "def   plot_dt(st, cs, dt, chk):\n",
        "  dt_tmp, dt_plot, df_stAct= plot_std_Data3(st, cs, dt, chk)\n",
        "  fig = go.Figure()\n",
        "    \n",
        "  fig.add_trace(\n",
        "        go.Scatter(x=dt_tmp.Activity_id ,  y=dt_tmp.Act_mark,  \n",
        "                  mode='lines+markers', name=\"درجة الطالب\", marker_color=\"red\"))\n",
        "    \n",
        "\n",
        "  dt_plot.Act_mark = round(dt_plot.Act_mark, 2)\n",
        "\n",
        "  fig.add_trace(\n",
        "        go.Scatter(x=dt_plot.Activity_id ,  y=dt_plot.Act_mark, line=dict(width=4, dash='dot'), marker=dict(size=12), \n",
        "                  mode='lines+markers', name=\"الدرجة المتوقعة\", marker_color=\"blue\"))\n",
        "    \n",
        "\n",
        "  fig.add_trace(\n",
        "        go.Box(\n",
        "            x=df_stAct.Activity_id ,  \n",
        "            y= df_stAct.Act_mark,  name=\"توزيع درجات الطلاب\", marker_color = \"green\", width =0.2, \n",
        "            # fillcolor=   'rgb' + str(cmap(norm(median))[0:3]) # normalize  \n",
        "            ))\n",
        "\n",
        "\n",
        "  fig.update_layout(\n",
        "        autosize=False,\n",
        "        width= 1200 , height= 600,\n",
        "        \n",
        "        hovermode=\"x\" , \n",
        "        # title=\"أداء جميع الطلبة في مادة معينة\",\n",
        "      xaxis_title=\"Submit Time\",\n",
        "      yaxis_title=\"Mark\",\n",
        "      font=dict(\n",
        "        family=\"Times New Roman, monospace\",\n",
        "        size=18,\n",
        "        color=\"RebeccaPurple\"),\n",
        "    \n",
        "      xaxis = dict(\n",
        "          # tickmode = 'array',\n",
        "          tickvals = np.arange(dt_tmp.shape[0]),\n",
        "          ticktext = dt_tmp.Act_submit_Time,\n",
        "           tickangle = 45\n",
        "      ),\n",
        "\n",
        "\n",
        "      title={\n",
        "          'text': \"(مقارنة درجات الطالب (خطَي) مع درجات زملاءه (مخطط الصندوق \",\n",
        "          'y':0.9,\n",
        "          'x':0.5,\n",
        "          'xanchor': 'center',\n",
        "          'yanchor': 'top',\n",
        "          }) \n",
        "  fig.show()\n"
      ],
      "execution_count": 61,
      "outputs": []
    },
    {
      "cell_type": "code",
      "metadata": {
        "id": "EEsu3dfG4igQ",
        "colab": {
          "base_uri": "https://localhost:8080/",
          "height": 762,
          "referenced_widgets": [
            "f6d17b525e13448f9d767c4fd65fe075",
            "c6c50616b6224d23a1f6de774f3eeb8f",
            "0f87087f88b74f77806bc59c2472e0c7",
            "39d99bf6769e4b5b8b2bed023319a2ca",
            "13ab81e69c53478cbcc4f706695553ce",
            "4d948ab5d9014e3f87d8a03d6219fcf7",
            "683d3e8e670141ea9b81f73a410b073f",
            "1073d7f41e7f4cd0869f13522512c94c",
            "76f1279c13bd41eebb922a3ebd9045c2",
            "4ce95935d7b340c3880934750e136fb0",
            "464fe9f9cd584860b0218e3fc33574a8",
            "26fb560740974e48a384732896560007",
            "f8414dd4b11c4a878aff4f4bb49dc77c",
            "72151c4a5bc949f2916b0ed023001ddf",
            "1e0b229365ea405da76458ac256947dd",
            "bbfbd4b5bcdd4e1da2a2d2b6364b4c03"
          ]
        },
        "outputId": "fb31ceea-b988-40d0-b252-43ef4893c957"
      },
      "source": [
        "@interact(st = stID4, cs = course4, dt=D4, chkbx = box4)\n",
        "def plot_data3( st, cs, dt, chkbx):\n",
        "  box4.description = \" عرض الأنشطة\"   if chkbx   else \"عرض الاختبارات\"\n",
        "  course4.options = std_d[st]\n",
        "\n",
        "  # print(predict_std.reset_index().query(f\"Course_code=='{cs}' & student_ID=='{st}'\"))\n",
        "  plot_dt(st, cs, dt,  ((chkbx)+0))"
      ],
      "execution_count": 62,
      "outputs": [
        {
          "output_type": "display_data",
          "data": {
            "application/vnd.jupyter.widget-view+json": {
              "model_id": "f6d17b525e13448f9d767c4fd65fe075",
              "version_minor": 0,
              "version_major": 2
            },
            "text/plain": [
              "interactive(children=(Dropdown(description='st', options=('080748524S', '090904691S', '060991839S', '071059051…"
            ]
          },
          "metadata": {
            "tags": []
          }
        }
      ]
    },
    {
      "cell_type": "code",
      "metadata": {
        "colab": {
          "base_uri": "https://localhost:8080/",
          "height": 359
        },
        "id": "N54KxDii-IIR",
        "outputId": "50a1c69f-6968-4bb7-ba7f-79b6dd8c7485"
      },
      "source": [
        "# dt_st.loc[\"02-12-2020\", \"Act_mark\"]\n",
        "dt_st.query(f\"Course_code=='g5_3' & student_ID=='080748524S' & Activity_type=='0' \")"
      ],
      "execution_count": 63,
      "outputs": [
        {
          "output_type": "execute_result",
          "data": {
            "text/html": [
              "<div>\n",
              "<style scoped>\n",
              "    .dataframe tbody tr th:only-of-type {\n",
              "        vertical-align: middle;\n",
              "    }\n",
              "\n",
              "    .dataframe tbody tr th {\n",
              "        vertical-align: top;\n",
              "    }\n",
              "\n",
              "    .dataframe thead th {\n",
              "        text-align: right;\n",
              "    }\n",
              "</style>\n",
              "<table border=\"1\" class=\"dataframe\">\n",
              "  <thead>\n",
              "    <tr style=\"text-align: right;\">\n",
              "      <th></th>\n",
              "      <th>student_ID</th>\n",
              "      <th>Course_code</th>\n",
              "      <th>Activity_id</th>\n",
              "      <th>Activity_type</th>\n",
              "      <th>Unit_id</th>\n",
              "      <th>Chapter_id</th>\n",
              "      <th>Lesson_id</th>\n",
              "      <th>Act_diff</th>\n",
              "      <th>Act_cp_count</th>\n",
              "      <th>Act_time</th>\n",
              "      <th>Act_mark</th>\n",
              "    </tr>\n",
              "    <tr>\n",
              "      <th>Act_submit_Time</th>\n",
              "      <th></th>\n",
              "      <th></th>\n",
              "      <th></th>\n",
              "      <th></th>\n",
              "      <th></th>\n",
              "      <th></th>\n",
              "      <th></th>\n",
              "      <th></th>\n",
              "      <th></th>\n",
              "      <th></th>\n",
              "      <th></th>\n",
              "    </tr>\n",
              "  </thead>\n",
              "  <tbody>\n",
              "    <tr>\n",
              "      <th>2020-10-07 20:44:56</th>\n",
              "      <td>080748524S</td>\n",
              "      <td>g5_3</td>\n",
              "      <td>g5_3-Act_10</td>\n",
              "      <td>0</td>\n",
              "      <td>Un_5</td>\n",
              "      <td>Chp_0</td>\n",
              "      <td>Ls_1</td>\n",
              "      <td>3</td>\n",
              "      <td>2</td>\n",
              "      <td>12</td>\n",
              "      <td>4.88</td>\n",
              "    </tr>\n",
              "    <tr>\n",
              "      <th>2020-08-23 02:38:25</th>\n",
              "      <td>080748524S</td>\n",
              "      <td>g5_3</td>\n",
              "      <td>g5_3-Act_11</td>\n",
              "      <td>0</td>\n",
              "      <td>Un_7</td>\n",
              "      <td>Chp_4</td>\n",
              "      <td>Ls_9</td>\n",
              "      <td>2</td>\n",
              "      <td>2</td>\n",
              "      <td>16</td>\n",
              "      <td>9.73</td>\n",
              "    </tr>\n",
              "    <tr>\n",
              "      <th>2020-04-01 23:24:48</th>\n",
              "      <td>080748524S</td>\n",
              "      <td>g5_3</td>\n",
              "      <td>g5_3-Act_12</td>\n",
              "      <td>0</td>\n",
              "      <td>Un_3</td>\n",
              "      <td>Chp_7</td>\n",
              "      <td>Ls_3</td>\n",
              "      <td>3</td>\n",
              "      <td>1</td>\n",
              "      <td>4</td>\n",
              "      <td>0.61</td>\n",
              "    </tr>\n",
              "    <tr>\n",
              "      <th>2020-08-17 20:57:43</th>\n",
              "      <td>080748524S</td>\n",
              "      <td>g5_3</td>\n",
              "      <td>g5_3-Act_13</td>\n",
              "      <td>0</td>\n",
              "      <td>Un_6</td>\n",
              "      <td>Chp_0</td>\n",
              "      <td>Ls_0</td>\n",
              "      <td>3</td>\n",
              "      <td>1</td>\n",
              "      <td>13</td>\n",
              "      <td>7.25</td>\n",
              "    </tr>\n",
              "    <tr>\n",
              "      <th>2020-03-31 07:43:05</th>\n",
              "      <td>080748524S</td>\n",
              "      <td>g5_3</td>\n",
              "      <td>g5_3-Act_14</td>\n",
              "      <td>0</td>\n",
              "      <td>Un_2</td>\n",
              "      <td>Chp_1</td>\n",
              "      <td>Ls_3</td>\n",
              "      <td>4</td>\n",
              "      <td>2</td>\n",
              "      <td>11</td>\n",
              "      <td>2.31</td>\n",
              "    </tr>\n",
              "    <tr>\n",
              "      <th>2020-08-03 18:45:48</th>\n",
              "      <td>080748524S</td>\n",
              "      <td>g5_3</td>\n",
              "      <td>g5_3-Act_15</td>\n",
              "      <td>0</td>\n",
              "      <td>Un_0</td>\n",
              "      <td>Chp_2</td>\n",
              "      <td>Ls_1</td>\n",
              "      <td>4</td>\n",
              "      <td>2</td>\n",
              "      <td>8</td>\n",
              "      <td>4.20</td>\n",
              "    </tr>\n",
              "    <tr>\n",
              "      <th>2020-06-26 16:24:03</th>\n",
              "      <td>080748524S</td>\n",
              "      <td>g5_3</td>\n",
              "      <td>g5_3-Act_16</td>\n",
              "      <td>0</td>\n",
              "      <td>Un_7</td>\n",
              "      <td>Chp_5</td>\n",
              "      <td>Ls_6</td>\n",
              "      <td>1</td>\n",
              "      <td>2</td>\n",
              "      <td>3</td>\n",
              "      <td>1.64</td>\n",
              "    </tr>\n",
              "    <tr>\n",
              "      <th>2020-12-02 17:25:58</th>\n",
              "      <td>080748524S</td>\n",
              "      <td>g5_3</td>\n",
              "      <td>g5_3-Act_17</td>\n",
              "      <td>0</td>\n",
              "      <td>Un_5</td>\n",
              "      <td>Chp_2</td>\n",
              "      <td>Ls_0</td>\n",
              "      <td>2</td>\n",
              "      <td>1</td>\n",
              "      <td>14</td>\n",
              "      <td>3.79</td>\n",
              "    </tr>\n",
              "    <tr>\n",
              "      <th>2020-09-06 01:57:19</th>\n",
              "      <td>080748524S</td>\n",
              "      <td>g5_3</td>\n",
              "      <td>g5_3-Act_18</td>\n",
              "      <td>0</td>\n",
              "      <td>Un_4</td>\n",
              "      <td>Chp_1</td>\n",
              "      <td>Ls_1</td>\n",
              "      <td>1</td>\n",
              "      <td>1</td>\n",
              "      <td>6</td>\n",
              "      <td>5.37</td>\n",
              "    </tr>\n",
              "  </tbody>\n",
              "</table>\n",
              "</div>"
            ],
            "text/plain": [
              "                     student_ID Course_code  ... Act_time  Act_mark\n",
              "Act_submit_Time                              ...                   \n",
              "2020-10-07 20:44:56  080748524S        g5_3  ...       12      4.88\n",
              "2020-08-23 02:38:25  080748524S        g5_3  ...       16      9.73\n",
              "2020-04-01 23:24:48  080748524S        g5_3  ...        4      0.61\n",
              "2020-08-17 20:57:43  080748524S        g5_3  ...       13      7.25\n",
              "2020-03-31 07:43:05  080748524S        g5_3  ...       11      2.31\n",
              "2020-08-03 18:45:48  080748524S        g5_3  ...        8      4.20\n",
              "2020-06-26 16:24:03  080748524S        g5_3  ...        3      1.64\n",
              "2020-12-02 17:25:58  080748524S        g5_3  ...       14      3.79\n",
              "2020-09-06 01:57:19  080748524S        g5_3  ...        6      5.37\n",
              "\n",
              "[9 rows x 11 columns]"
            ]
          },
          "metadata": {
            "tags": []
          },
          "execution_count": 63
        }
      ]
    },
    {
      "cell_type": "code",
      "metadata": {
        "id": "D8VgZ5DwJGS7"
      },
      "source": [
        "def plt_mark_time(st, cs, dt, chk):\n",
        " \n",
        "  dt_plot=dt_st.sort_index().reset_index().query(f\"Course_code=='{cs}' & student_ID=='{st}' & Activity_type=='{chk}' & Act_submit_Time>='{dt}' \")\n",
        "  if (dt_plot.shape[0]>0):\n",
        "    # dt_plot['Act_submit_Time'] = dt_plot.Act_submit_Time.apply(lambda x: x.strftime('%d-%m-%Y'))\n",
        "    dt_plot.set_index(\"Act_submit_Time\", inplace=True, drop=True)\n",
        "    \n",
        " \n",
        "    course5.options = std_d[st]\n",
        "    \n",
        "    #print(list(std_classPred.reset_index().query(f\"Course_code=='{cs}' & student_ID=='{st}' & Activity_type=='{chk}' \").Predicted_class)[0])\n",
        "    cc= list(std_classPred.reset_index().query(f\"Course_code=='{cs}' & student_ID=='{st}' & Activity_type=='{chk}' \").Predicted_class)[0]\n",
        "    \n",
        "\n",
        "    fig = make_subplots(rows=2 , cols=1 , specs=[[{\"secondary_y\": True}],[{\"secondary_y\": True}]])\n",
        "\n",
        "    \n",
        "    ref_q=dt_st.reset_index().query(f\"student_ID=='{st}' & Course_code=='{cs}' & Activity_type=='{chk}' \").Act_submit_Time.max()\n",
        "    new_date = ref_q + timedelta(14)\n",
        "\n",
        "    # ref_q=datetime.datetime.strftime(ref_q, '%d-%m-%Y')\n",
        "\n",
        "    # new_date=datetime.datetime.strftime(new_date, '%d-%m-%Y')\n",
        "\n",
        "\n",
        "\n",
        "    x_point=[ref_q, new_date]\n",
        "\n",
        "    y_point2= list(predict_std.reset_index().query(f\"student_ID=='{st}'  & Course_code=='{cs}' & Activity_type=='{chk}' \")[\"last_mark\"])[0]\n",
        "    y_point2 = str(round(y_point2, 2))\n",
        "\n",
        "    y_point=[dt_st.loc[ref_q, \"Act_mark\"], y_point2]\n",
        " \n",
        "     \n",
        "    #----------- Graph formatting  ---------------------------------\n",
        "\n",
        "    fig.add_trace(\n",
        "    go.Scatter(x=dt_plot.index, y=dt_plot.Act_mark, name=\"الدرجة\"),\n",
        "    secondary_y=False, row=1, col=1)\n",
        "\n",
        "    fig.add_trace(\n",
        "    go.Scatter(x=dt_plot.index, y=dt_plot.Act_time, name=\"مدة التسليم\"),\n",
        "    secondary_y=True, row=1, col=1 )\n",
        "\n",
        "    fig.add_trace(\n",
        "    go.Scatter(x=x_point, y=y_point, name=\"الدرجة المتوقعة\",line=dict(width=4, dash='dot'),\n",
        "               marker=dict(size=12)), row=1, col=1)\n",
        "\n",
        "\n",
        "\n",
        "    fig.update_layout(hovermode=\"x\")\n",
        "\n",
        "    fig.update_yaxes(row=1, col=1   ,   showgrid=True,title_text=\"الدرجة\",title_font_size=20, secondary_y=False)\n",
        "    fig.update_yaxes(row=1, col=1, showgrid=False,title_text=\"مدة تسليم التقييم / بالدقائق\",title_font_size=20, \n",
        "                     secondary_y=True)\n",
        "    \n",
        "    fig.add_annotation(dict(font=dict(color='black',size=18),\n",
        "                                        x=-0.07,\n",
        "                                        y=-0.45,\n",
        "                                        showarrow=False,\n",
        "                                        text=\"قد ترغب في متابعة التوصيات التالية\",\n",
        "                                        textangle=0,\n",
        "                                        xanchor='left',\n",
        "                                        xref=\"paper\",\n",
        "                                        yref=\"paper\",\n",
        "                                        bgcolor='white',\n",
        "                                        bordercolor=\"purple\",\n",
        "                                        borderwidth=3,borderpad=7))\n",
        "    \n",
        "    fig.add_annotation(dict(font=dict(color='black',size=15),\n",
        "                                        x=0.88,\n",
        "                                        y=1.3,\n",
        "                                        showarrow=False,\n",
        "                                        text=\"الدرجة المتوقعة\",\n",
        "                                        textangle=0,\n",
        "                                        xanchor='center',\n",
        "                                        xref=\"paper\",\n",
        "                                        yref=\"paper\",\n",
        "                                        bgcolor='white',\n",
        "                                        bordercolor=\"purple\",\n",
        "                                        borderwidth=3, borderpad=4))\n",
        "    \n",
        "    fig.add_annotation(dict(font=dict(color='black',size=15),\n",
        "                                        x=0.788,\n",
        "                                        y=1.3,\n",
        "                                        showarrow=False,\n",
        "                                        text=y_point2,\n",
        "                                        textangle=0,\n",
        "                                        xanchor='center',\n",
        "                                        xref=\"paper\",\n",
        "                                        yref=\"paper\",\n",
        "                                        bgcolor='white',\n",
        "                                        bordercolor=\"purple\",\n",
        "                                        borderwidth=3,\n",
        "                                        borderpad=4\n",
        "                                        ))\n",
        "    \n",
        "    fig.add_annotation(dict(font=dict(color='black',size=15),\n",
        "                                        x=0.88,\n",
        "                                        y=1.15,\n",
        "                                        showarrow=False,\n",
        "                                        text=\"التصنيف المتوقع\",\n",
        "                                        textangle=0,\n",
        "                                        xanchor='center',\n",
        "                                        xref=\"paper\",\n",
        "                                        yref=\"paper\",\n",
        "                                        bgcolor='white',\n",
        "                                        bordercolor=\"purple\",\n",
        "                                        borderwidth=3,\n",
        "                                        borderpad=4))\n",
        "    \n",
        "    fig.add_annotation(dict(font=dict(color='black',size=15),\n",
        "                                        x=0.8,\n",
        "                                        y=1.15,\n",
        "                                        showarrow=False,\n",
        "                                        text=cc,\n",
        "                                        textangle=0,\n",
        "                                        xanchor='center',\n",
        "                                        xref=\"paper\",\n",
        "                                        yref=\"paper\",\n",
        "                                        bgcolor='white',\n",
        "                                        bordercolor=\"purple\",\n",
        "                                        borderwidth=3,\n",
        "                                        borderpad=4\n",
        "                                                                               \n",
        "                                        ))\n",
        "    \n",
        "    \n",
        "  #________________________  Graph2_________________\n",
        "    if not isinstance(plot_std_Data3(st, cs, dt, chk), str):\n",
        "      dt_tmp, dt_plot, df_stAct= plot_std_Data3(st, cs, dt, chk)\n",
        "      # fig = go.Figure()\n",
        "    \n",
        "      fig.add_trace(\n",
        "        go.Scatter(x=dt_tmp.Activity_id ,  y=dt_tmp.Act_mark,  \n",
        "                  mode='lines+markers', name=\"درجة الطالب\", marker_color=\"red\"), row=2, col=1)\n",
        "    \n",
        "\n",
        "      dt_plot.Act_mark = round(dt_plot.Act_mark, 2)\n",
        "\n",
        "      fig.add_trace(\n",
        "        go.Scatter(x=dt_plot.Activity_id ,  y=dt_plot.Act_mark, line=dict(width=4, dash='dot'), marker=dict(size=12), \n",
        "                  mode='lines+markers', name=\"الدرجة المتوقعة\", marker_color=\"blue\"), row=2, col=1)\n",
        "    \n",
        "\n",
        "      fig.add_trace(\n",
        "        go.Box(\n",
        "            x=df_stAct.Activity_id ,  \n",
        "            y= df_stAct.Act_mark,  name=\"توزيع درجات الطلاب\", marker_color = \"green\", width =0.2, \n",
        "            # fillcolor=   'rgb' + str(cmap(norm(median))[0:3]) # normalize  \n",
        "            ), row=2, col=1)\n",
        "\n",
        "\n",
        "      fig.update_layout(\n",
        "        autosize=False,\n",
        "        width= 1200 , height= 600,\n",
        "        \n",
        "        hovermode=\"x\" , \n",
        "        # title=\"أداء جميع الطلبة في مادة معينة\",\n",
        "      xaxis_title=\"Submit Time\",\n",
        "      yaxis_title=\"Mark\",\n",
        "      font=dict(\n",
        "        family=\"Times New Roman, monospace\",\n",
        "        size=18,\n",
        "        color=\"RebeccaPurple\"),\n",
        "    \n",
        "      xaxis = dict(\n",
        "          # tickmode = 'array',\n",
        "          tickvals = np.arange(dt_tmp.shape[0]),\n",
        "          ticktext = dt_tmp.Act_submit_Time,\n",
        "           tickangle = 45\n",
        "      ),\n",
        "\n",
        "\n",
        "      title={\n",
        "          'text': \"(مقارنة درجات الطالب (خطَي) مع درجات زملاءه (مخطط الصندوق \",\n",
        "          'y':0.9,\n",
        "          'x':0.5,\n",
        "          'xanchor': 'center',\n",
        "          'yanchor': 'top',\n",
        "          }) \n",
        "\n",
        "  #______________________________end Graph2\n",
        "\n",
        "    \n",
        "      fig.update_layout(\n",
        "        autosize=False,\n",
        "        width= 1200 , height= 600,\n",
        "      title={\n",
        "        'text': \"مقارنة درجات الطالب مع مدة تسليم التقييم\",\n",
        "        'y':0.9,\n",
        "        'x':0.4,\n",
        "        'xanchor': 'center',\n",
        "        'yanchor': 'top'},\n",
        "        font=dict(color='black',size=18),\n",
        "      xaxis = dict(\n",
        "       \n",
        "           tickangle = 45\n",
        "      ))\n",
        "    \n",
        "\n",
        "    \n",
        "      fig.show()\n",
        "    else:\n",
        "      print(\" No records Available\")\n",
        "\n",
        "#### printing URLs for recommendatios \n",
        "\n",
        "    for item in recommend(st):\n",
        "      display(HTML(f\"<a href={url_lobj(item)} target='_blank' style='font-size:1.3em'>{item}</a>\"))\n",
        "    \n",
        "  else:\n",
        "    print(\" No records Available\")\n",
        "    "
      ],
      "execution_count": 101,
      "outputs": []
    },
    {
      "cell_type": "code",
      "metadata": {
        "colab": {
          "base_uri": "https://localhost:8080/"
        },
        "id": "I7E2zRyJG8XB",
        "outputId": "d4321749-f8f2-4498-8942-103219b6321d"
      },
      "source": [
        "ref_q=dt_st.reset_index().query(f\"student_ID=='080748524S' & Course_code=='g5_3' & Activity_type=='0' \").Act_submit_Time.max()\n",
        "dt_st.loc[ref_q, \"Act_mark\"]"
      ],
      "execution_count": 102,
      "outputs": [
        {
          "output_type": "execute_result",
          "data": {
            "text/plain": [
              "3.79"
            ]
          },
          "metadata": {
            "tags": []
          },
          "execution_count": 102
        }
      ]
    },
    {
      "cell_type": "code",
      "metadata": {
        "colab": {
          "base_uri": "https://localhost:8080/"
        },
        "id": "wBj8oKh0JSQC",
        "outputId": "8ba7c621-cf47-40e1-f388-6938944b9903"
      },
      "source": [
        "not isinstance(\"samir\", str)\n"
      ],
      "execution_count": 103,
      "outputs": [
        {
          "output_type": "execute_result",
          "data": {
            "text/plain": [
              "False"
            ]
          },
          "metadata": {
            "tags": []
          },
          "execution_count": 103
        }
      ]
    },
    {
      "cell_type": "code",
      "metadata": {
        "colab": {
          "base_uri": "https://localhost:8080/",
          "height": 1000,
          "referenced_widgets": [
            "fe92292e99e649ab96bf00ae210f0548",
            "11b9fe2370f54289b89d75404bf0962e",
            "f74ce13631e34607967dee1c959d52d2",
            "16d24c4936be434d98a800f4203680f9",
            "8e70e776f27749bfb5db27a38ab2db03",
            "c8a16adb9d8347208bbb44c1beca4286",
            "753054d2e2a04225a9ee258ca60893b9",
            "f205e2dafd0f460d9490c89ec26be2ea",
            "1cbd39f56c6844b794100c1db50503ff",
            "f5c840ec53ca4a06839a580c4e46e5b4",
            "4c3c6e96a1924fc3a516ee459b65aeeb",
            "6f4052b871e84d6ba02307e202dd6c6e",
            "b63807a602d54b5e85da362af0cab738",
            "7df08cc91ceb4fff8e5992fee126c4f0",
            "1dfb04e298c343b1af9e386c9e90360e",
            "0c0c89da1cd546f49c2fe6ad34e89380"
          ]
        },
        "id": "VEPnaMb8JN00",
        "outputId": "418db4b4-41c8-4fa1-d6c4-9e025a82ffb6"
      },
      "source": [
        "@interact(st = stID5, cs = course5, dt = D5, chkbx = box5)\n",
        "def plotly_data( st, cs, dt , chkbx):\n",
        "  #print(((chkbx)+0))\n",
        "\n",
        "  course5.options = std_d[st]\n",
        "  box5.description = \" عرض الأنشطة\"   if chkbx   else \"عرض الاختبارات\"\n",
        "\n",
        "  # print(predict_std.reset_index().query(f\"Course_code=='{cs}' & student_ID=='{st}'\"))\n",
        "  plt_mark_time(st, cs, dt , ((chkbx)+0))\n",
        "  # plot_std_Data3(st, cs,dt,  ((chkbx)+0) )\n",
        "  plot_strec( st,cs,  dt)"
      ],
      "execution_count": 104,
      "outputs": [
        {
          "output_type": "display_data",
          "data": {
            "application/vnd.jupyter.widget-view+json": {
              "model_id": "fe92292e99e649ab96bf00ae210f0548",
              "version_minor": 0,
              "version_major": 2
            },
            "text/plain": [
              "interactive(children=(Dropdown(description='st', index=2, options=('080748524S', '090904691S', '060991839S', '…"
            ]
          },
          "metadata": {
            "tags": []
          }
        }
      ]
    },
    {
      "cell_type": "code",
      "metadata": {
        "id": "DdZWz-pgmpaD"
      },
      "source": [
        ""
      ],
      "execution_count": 196,
      "outputs": []
    },
    {
      "cell_type": "code",
      "metadata": {
        "id": "lglAZz5nmpef"
      },
      "source": [
        ""
      ],
      "execution_count": null,
      "outputs": []
    },
    {
      "cell_type": "markdown",
      "metadata": {
        "id": "5OqT2GQ7API0"
      },
      "source": [
        "## Plot submit time Vs other student submitions ( with box plot )"
      ]
    },
    {
      "cell_type": "code",
      "metadata": {
        "id": "dIF1zYWwDQOL"
      },
      "source": [
        ""
      ],
      "execution_count": 68,
      "outputs": []
    },
    {
      "cell_type": "markdown",
      "metadata": {
        "id": "RdbXWVTgJQTf"
      },
      "source": [
        "## Exporting to HTML"
      ]
    },
    {
      "cell_type": "code",
      "metadata": {
        "id": "cfObGdupAbTr"
      },
      "source": [
        "###### TRY EXPORTING TO HTML\n",
        "#### Look for the example below\n",
        "\n",
        "#https://medium.com/analytics-vidhya/how-to-export-a-plotly-chart-as-html-3b5df568df4a"
      ],
      "execution_count": 70,
      "outputs": []
    },
    {
      "cell_type": "code",
      "metadata": {
        "id": "AMSoV_URih55"
      },
      "source": [
        "import plotly.express as px\n",
        "sepal_plot = px.scatter(data_frame=df, x=df.sepal_length, y=df.sepal_width, color='species', title=\"Iris_sepal\")"
      ],
      "execution_count": null,
      "outputs": []
    },
    {
      "cell_type": "code",
      "metadata": {
        "id": "t1VFT8SfiitC"
      },
      "source": [
        "sepal_plot"
      ],
      "execution_count": null,
      "outputs": []
    },
    {
      "cell_type": "code",
      "metadata": {
        "id": "Ee-UGg9Fiio3"
      },
      "source": [
        "petal_plot = px.scatter(data_frame=df, x=df.petal_length, y=df.petal_width, color='species', title=\"Iris_petal\")"
      ],
      "execution_count": null,
      "outputs": []
    },
    {
      "cell_type": "code",
      "metadata": {
        "id": "kEZuQplgiiih"
      },
      "source": [
        "petal_plot"
      ],
      "execution_count": null,
      "outputs": []
    },
    {
      "cell_type": "code",
      "metadata": {
        "id": "j_H8mtuorxAQ"
      },
      "source": [
        "plotly.offline.plot(petal_plot, filename='Data/pettal.html')"
      ],
      "execution_count": null,
      "outputs": []
    },
    {
      "cell_type": "code",
      "metadata": {
        "id": "5eTGI1w1rw9o"
      },
      "source": [
        ""
      ],
      "execution_count": null,
      "outputs": []
    },
    {
      "cell_type": "code",
      "metadata": {
        "id": "5QUphE8Ht_TT"
      },
      "source": [
        ""
      ],
      "execution_count": null,
      "outputs": []
    },
    {
      "cell_type": "code",
      "metadata": {
        "id": "JesdltZTt_P-"
      },
      "source": [
        ""
      ],
      "execution_count": null,
      "outputs": []
    },
    {
      "cell_type": "code",
      "metadata": {
        "id": "XeS9gEaMt_Ly"
      },
      "source": [
        ""
      ],
      "execution_count": null,
      "outputs": []
    },
    {
      "cell_type": "code",
      "metadata": {
        "id": "Kv9IQCHujj6n"
      },
      "source": [
        "button = widgets.Button(description='My Button')\n"
      ],
      "execution_count": null,
      "outputs": []
    },
    {
      "cell_type": "code",
      "metadata": {
        "id": "lQPV7UvTjj1v"
      },
      "source": [
        "button"
      ],
      "execution_count": null,
      "outputs": []
    },
    {
      "cell_type": "code",
      "metadata": {
        "id": "6Gt8E8uJxSS3"
      },
      "source": [
        "button = widgets.Button(description='My Button' )\n",
        "out = widgets.Output()\n",
        "def on_button_clicked(_):\n",
        "      # \"linking function with output\"\n",
        "      with out:\n",
        "          # what happens when we press the button\n",
        "          #clear_output()\n",
        "       \n",
        "          print('Something happens!')\n",
        "# linking button and function together using a button's method\n",
        "button.on_click(on_button_clicked)\n",
        "# displaying button and its output together\n",
        "widgets.VBox([button,out])"
      ],
      "execution_count": null,
      "outputs": []
    },
    {
      "cell_type": "code",
      "metadata": {
        "id": "o5ZnsrhmuAR-"
      },
      "source": [
        ""
      ],
      "execution_count": null,
      "outputs": []
    },
    {
      "cell_type": "code",
      "metadata": {
        "id": "AVR0mrxLIoW-"
      },
      "source": [
        ""
      ],
      "execution_count": null,
      "outputs": []
    },
    {
      "cell_type": "code",
      "metadata": {
        "id": "-c9ipf2lIoTX"
      },
      "source": [
        ""
      ],
      "execution_count": null,
      "outputs": []
    },
    {
      "cell_type": "code",
      "metadata": {
        "id": "QWM_3SD2IoPj"
      },
      "source": [
        ""
      ],
      "execution_count": null,
      "outputs": []
    },
    {
      "cell_type": "code",
      "metadata": {
        "id": "V0gME6yauACH"
      },
      "source": [
        "#testing adding button and textbox\n",
        "from ipywidgets import widgets as wd\n",
        "from ipywidgets import Layout, Box\n",
        "from IPython.display import display\n",
        "\n",
        "btnLayout = Layout(flex='1 1 auto', width='auto')\n",
        "\n",
        "btns= [\n",
        "    wd.Button(description=\"Add Route\"),\n",
        "    wd.Button(description=\"234\"),\n",
        "    wd.Button(description=\"411\")\n",
        "]\n",
        "\n",
        "box_layout = Layout(display='flex',\n",
        "                    flex_flow='row',\n",
        "                    align_items='stretch')\n",
        "\n",
        "box = Box(children=btns, layout=box_layout)\n",
        "\n",
        "display(box)\n",
        "box.children[1].layout.visibility = 'hidden'\n",
        "box.children[2].layout.visibility = 'hidden'\n",
        "\n",
        "txtArea = wd.Textarea()\n",
        "display(txtArea)\n",
        "\n",
        "def show(b):\n",
        "    box.children[1].layout.visibility = 'visible'\n",
        "    box.children[2].layout.visibility = 'visible'\n",
        "\n",
        "#function intended to append button value/description to textArea\n",
        "def add_text(b):\n",
        "    txtArea.value = b.description + txtArea.value\n",
        "\n",
        "box.children[0].on_click(show)\n",
        "box.children[1].on_click(add_text)\n",
        "box.children[2].on_click(add_text)"
      ],
      "execution_count": null,
      "outputs": []
    },
    {
      "cell_type": "code",
      "metadata": {
        "id": "9B3a5bTXt_98"
      },
      "source": [
        ""
      ],
      "execution_count": null,
      "outputs": []
    },
    {
      "cell_type": "code",
      "metadata": {
        "id": "7bMRlfsWt_5t"
      },
      "source": [
        ""
      ],
      "execution_count": null,
      "outputs": []
    },
    {
      "cell_type": "code",
      "metadata": {
        "id": "4NWT_XGcxSNI"
      },
      "source": [
        "# imports\n",
        "import plotly\n",
        "import plotly.express as px\n",
        "\n",
        "# data\n",
        "df = px.data.gapminder().query(\"continent=='Oceania'\")\n",
        "\n",
        "# plotly express bar chart\n",
        "fig = px.line(df, x=\"year\", y=\"lifeExp\", color='country')\n",
        "\n",
        "# html file\n",
        "plotly.offline.plot(fig, filename='Data/lifeExp.html')"
      ],
      "execution_count": null,
      "outputs": []
    },
    {
      "cell_type": "markdown",
      "metadata": {
        "id": "1ybef0cqDkUV"
      },
      "source": [
        "# Data sets creation"
      ]
    },
    {
      "cell_type": "markdown",
      "metadata": {
        "id": "3Rmmb_lSRFqK"
      },
      "source": [
        "## 1 ) Create Student's General Info. Dataset"
      ]
    },
    {
      "cell_type": "code",
      "metadata": {
        "id": "FC2cVVX7X6Nh"
      },
      "source": [
        "grades={\n",
        "    \"06\":\"9\",\"07\":\"8\",\n",
        "    \"08\":\"7\", \"09\":\"6\", \"10\":\"5\", \"11\":\"4\",\n",
        "    \"12\":\"3\", \"13\":\"2\", \"14\":\"1\"\n",
        "}"
      ],
      "execution_count": null,
      "outputs": []
    },
    {
      "cell_type": "code",
      "metadata": {
        "id": "fQhITeCzpmln"
      },
      "source": [
        "###  الطلبة العينة من 10 مدارس عشوائيًا (500 طالب) ##\n",
        "##### من الصف السادس الى الثالث الاعدادي \n",
        "\n",
        "\n",
        "list_std=[]\n",
        "for i in range(500):\n",
        "  birth_year=random.choice([\"06\", \"07\", \"08\", \"09\",\"10\"]) \n",
        "  student= {\n",
        "  \"student_id\": ''.join(random.choice(string.digits) for _ in range(5)) ,\n",
        "  \"birth_year\": birth_year,\n",
        "  \"birth_month\": random.choice([\"01\", \"02\", \"03\", \"04\", \"05\", \n",
        "                                \"06\", \"07\", \"08\", \"09\",\"10\",\"11\",\"12\"]),\n",
        "  \"school\": random.choice([ \"Sc_\"+str(j) for j in range(10)]),\n",
        "  \"grade\": grades[birth_year],  \n",
        "  \"gender\": random.choice([\"M\", \"F\"]),\n",
        "  \"governorate\": random.choice([\"North\", \"South\", \"Caiptal\", \"Muharraq\"])\n",
        "         } \n",
        "  list_std.append(student)     \n",
        "df_st=pd.DataFrame(list_std)\n"
      ],
      "execution_count": null,
      "outputs": []
    },
    {
      "cell_type": "code",
      "metadata": {
        "id": "nItBTwFfutF9"
      },
      "source": [
        "#####  Merge student_ID with birth year and month month to get a complete CPR\n",
        "\n",
        "df_st.insert(0, 'student_ID', df_st['birth_year'].astype(str) + df_st['birth_month'].astype(str)+df_st.pop('student_id').astype(str))"
      ],
      "execution_count": null,
      "outputs": []
    },
    {
      "cell_type": "code",
      "metadata": {
        "id": "t1NUnn4H5cti"
      },
      "source": [
        "df_st.head()"
      ],
      "execution_count": null,
      "outputs": []
    },
    {
      "cell_type": "code",
      "metadata": {
        "id": "_fbY1BwOT5EB"
      },
      "source": [
        "for col in df_st.keys():\n",
        "  df_st[col]= df_st[col].astype(str)"
      ],
      "execution_count": null,
      "outputs": []
    },
    {
      "cell_type": "code",
      "metadata": {
        "id": "ZzRCQGjHUhHr"
      },
      "source": [
        "df_st.info()"
      ],
      "execution_count": null,
      "outputs": []
    },
    {
      "cell_type": "code",
      "metadata": {
        "id": "GL2aCjqCxWMN"
      },
      "source": [
        "df_st.to_csv(\"./Data/General_students_info.csv\")"
      ],
      "execution_count": null,
      "outputs": []
    },
    {
      "cell_type": "markdown",
      "metadata": {
        "id": "A9G8SNC1O-fL"
      },
      "source": [
        "## 2 ) Create Students' portal activity Dataset / df_avt"
      ]
    },
    {
      "cell_type": "code",
      "metadata": {
        "id": "bqY7lMv2eDZJ"
      },
      "source": [
        "from random_timestamp import random_timestamp\n",
        "lst=[]\n",
        "for i, k  in zip(df_st.student_ID, df_st.grade):\n",
        "  for j in range (14, int((20*np.random.rand()+8))):\n",
        "    course_id=random.choice([\"g\"+str(k)+\"_\"+str(l) for l in range(1,4)])\n",
        "    ActType=random.choice([\"1\", \"0\" ])\n",
        "    Act_time= [15, 2]  if ActType=='0'  else [4320, 60]\n",
        "    activities= {\n",
        "        \"student_ID\": i ,\n",
        "        \"Course_code\":course_id,  \n",
        "        \"Activity_id\": f\"{course_id}-Act_{int(20*np.random.rand()+1)}\",\n",
        "        \"Activity_type\":ActType,\n",
        "        # \"Act_count\": course_ref[course_id][ActType] , #np.random.randint(5,30),\n",
        "\n",
        "      \"Unit_id\":  random.choice([ \"Un_\"+str(k) for k in range(10)]),\n",
        "      \"Chapter_id\": random.choice([ \"Chp_\"+str(k) for k in range(10)]), \n",
        "      \"Lesson_id\": random.choice([ \"Ls_\"+str(k) for k in range(10)]),\n",
        "      # \"Competence-id\":  random.choice([ \"Cp_\"+str(k) for k in range(10)]), \n",
        "      \"Act_diff\":  int((4*np.random.rand(1)+1)),\n",
        "      \"Act_cp_count\": int((np.random.rand(1)*2+1)), \n",
        "\n",
        "      \"Act_time\": int((Act_time[0]*np.random.rand()+Act_time[1])) , ####### Quizzes from 2 mins to 15 mins // Assign. from 1 hr to 3 days\n",
        "      \"Act_submit_Time\": random_timestamp( year=2020),\n",
        "      #  add  afeature for  late submission\n",
        "      \"Act_mark\": int((1000*np.random.rand()))/100,\n",
        "    }\n",
        "    lst.append(activities)\n",
        "df_avt=pd.DataFrame(lst)"
      ],
      "execution_count": null,
      "outputs": []
    },
    {
      "cell_type": "code",
      "metadata": {
        "id": "vpzA1xt_8PT2"
      },
      "source": [
        "df_avt.drop_duplicates(subset=[\"student_ID\"\t, \t\"Activity_id\"\t, \"Activity_type\"] , keep=\"last\", inplace=True)"
      ],
      "execution_count": null,
      "outputs": []
    },
    {
      "cell_type": "code",
      "metadata": {
        "id": "RNLG8WGlpBjJ"
      },
      "source": [
        "df_avt.sample(10)"
      ],
      "execution_count": null,
      "outputs": []
    },
    {
      "cell_type": "code",
      "metadata": {
        "id": "aVUyJ9MHpx88"
      },
      "source": [
        "df_avt.info()"
      ],
      "execution_count": null,
      "outputs": []
    },
    {
      "cell_type": "code",
      "metadata": {
        "id": "knamQr5-RLYi"
      },
      "source": [
        "df_avt.to_csv(\"./Data/Portal-Achiev-Info.csv\")"
      ],
      "execution_count": null,
      "outputs": []
    },
    {
      "cell_type": "markdown",
      "metadata": {
        "id": "sNsHFqK_QWeV"
      },
      "source": [
        "## 3 ) Generate 5 selected Students Data to graph  / dt_st\n"
      ]
    },
    {
      "cell_type": "code",
      "metadata": {
        "id": "Ufci8h0oeqLP"
      },
      "source": [
        "def dataJson(actType, i , c, act):\n",
        "  Act_time= [15, 2]  if actType=='0'  else [4320, 60]\n",
        "  return {\n",
        "      \n",
        "        \"student_ID\": i ,\n",
        "        \"Course_code\":c,  \n",
        "        \"Activity_id\": act,\n",
        "        \"Activity_type\":actType,\n",
        "          \n",
        "\n",
        "        \"Unit_id\":  random.choice([ \"Un_\"+str(k) for k in range(10)]),\n",
        "        \"Chapter_id\": random.choice([ \"Chp_\"+str(k) for k in range(10)]), \n",
        "        \"Lesson_id\": random.choice([ \"Ls_\"+str(k) for k in range(10)]),\n",
        "        \"Act_diff\":  int((4*np.random.rand(1)+1)),\n",
        "        \"Act_cp_count\": int((np.random.rand(1)*2+1)), \n",
        "\n",
        "        \"Act_time\": int((Act_time[0]*np.random.rand()+Act_time[1])) , ####### from 30 SEC to 15 MIN\n",
        "        \"Act_submit_Time\":random_timestamp( year=2020),  \n",
        "        #  add  a feature for  late submission\n",
        "        \"Act_mark\": int((1000*np.random.rand()))/100,  #  this should be  float32  : 10*np.random.rand()\n",
        "      }"
      ],
      "execution_count": null,
      "outputs": []
    },
    {
      "cell_type": "code",
      "metadata": {
        "id": "5O_-HR8fYAr2"
      },
      "source": [
        "std_course=[['g5_3', 'g5_2', 'g5_1'], ['g9_3', 'g9_1', 'g9_2'],['g6_1', 'g6_3',\n",
        "       'g6_2'], ['g8_1', 'g8_3', 'g8_2'], ['g7_1',  'g7_3', 'g7_2'] ]"
      ],
      "execution_count": null,
      "outputs": []
    },
    {
      "cell_type": "code",
      "metadata": {
        "id": "pGuNtZ1tQa4_"
      },
      "source": [
        "from random_timestamp import random_timestamp\n",
        "lst=[]\n",
        "std_array= df_avt.student_ID.unique()[:5] +\"S\"\n",
        "for i , course in zip(std_array, std_course):# c in df_avt.Course_code.unique():\n",
        "  for c in course:\n",
        "    for j in [f\"{c}-Act_{act}\"  for act in range(10,19)]: #range (1, int((2*np.random.rand()+8))):\n",
        "      lst.append(dataJson(\"0\", i , c, j ))\n",
        "    for j in [f\"{c}-Act_{act}\"  for act in range(1,5)]:\n",
        "      lst.append(dataJson(\"1\", i , c, j ))\n",
        "     \n",
        "dt_st=pd.DataFrame(lst)"
      ],
      "execution_count": null,
      "outputs": []
    },
    {
      "cell_type": "code",
      "metadata": {
        "id": "efOtM0NLgcCJ"
      },
      "source": [
        "for s, c  in  zip(dt_st.student_ID.unique(), std_course[0]):\n",
        "  count=dt_st.query(f\"student_ID=='{s}' & Course_code=='{c}' & Activity_type=='1'\").shape[0]\n",
        "  print(f\"Student:  {s}  has: {count}  records\")"
      ],
      "execution_count": null,
      "outputs": []
    },
    {
      "cell_type": "code",
      "metadata": {
        "id": "d8lYggepqis4"
      },
      "source": [
        "dt_st.sample(5)"
      ],
      "execution_count": null,
      "outputs": []
    },
    {
      "cell_type": "code",
      "metadata": {
        "id": "K0ngg-M_W4QB"
      },
      "source": [
        "dt_st.to_csv(\"./Data/5_selected_students.csv\")  "
      ],
      "execution_count": null,
      "outputs": []
    },
    {
      "cell_type": "markdown",
      "metadata": {
        "id": "6lOSMFYyxO43"
      },
      "source": [
        "## Create Recommendation data set"
      ]
    },
    {
      "cell_type": "code",
      "metadata": {
        "id": "ggVa-ojBogk0"
      },
      "source": [
        "def url_lobj(lob):\n",
        "  \n",
        "  for i in modules:\n",
        "    for j in i[\"lessons\"]:\n",
        "      for k in j[\"lobs\"]:\n",
        "        if k[\"lobName\"]==lob:\n",
        "          return  k[\"URL\"]\n"
      ],
      "execution_count": null,
      "outputs": []
    },
    {
      "cell_type": "code",
      "metadata": {
        "id": "U6yi3DJ-uJmL"
      },
      "source": [
        "url_lobj('Representing Data')"
      ],
      "execution_count": null,
      "outputs": []
    },
    {
      "cell_type": "code",
      "metadata": {
        "id": "DMZORE0FFbff"
      },
      "source": [
        "#  Json  recommendation Initialization\n",
        "modules=[\n",
        "         {\"unit\":\"Data and statistics\", \n",
        "          \"lessons\":[\n",
        "                    {\"LessName\": \"Dot plots & frequency tables\",\n",
        "                    \"lobs\":[\n",
        "                            {\"lobID\": 1, \"lobName\":\"Representing Data\", \"URL\": \"https://www.khanacademy.org/math/cc-sixth-grade-math/cc-6th-data-statistics/dot-plot/v/ways-to-represent-data?modal=1\" },\n",
        "                            {\"lobID\": 2,\"lobName\":\"Frequency Tables & dot plot\", \"URL\": \"https://www.khanacademy.org/math/cc-sixth-grade-math/cc-6th-data-statistics/dot-plot/v/frequency-tables-and-dot-plots?modal=1\"}\n",
        "                          ]\n",
        "                          \n",
        "                    },\n",
        "                    {\"LessName\": \"Statistical questions\",\n",
        "                    \"lobs\":[\n",
        "                            {\"lobID\": 3, \"lobName\":\"Statistical questions\", \"URL\": \"https://www.khanacademy.org/math/cc-sixth-grade-math/cc-6th-data-statistics/cc-6-statistical-questions/v/understanding-statistical-questions?modal=1\"}\n",
        "                          ]\n",
        "                    },\n",
        "                    {\"LessName\": \"Histograms\",\n",
        "                    \"lobs\":[\n",
        "                            {\"lobID\": 4, \"lobName\":\"Creating a histogram\", \"URL\": \"https://www.khanacademy.org/math/cc-sixth-grade-math/cc-6th-data-statistics/histograms/v/histograms-intro?modal=1\"},\n",
        "                            {\"lobID\": 5, \"lobName\":\"Interpreting a histogram\", \"URL\": \"https://www.khanacademy.org/math/cc-sixth-grade-math/cc-6th-data-statistics/histograms/v/interpreting-histograms?modal=1\"}\n",
        "                          ]\n",
        "                    },\n",
        "                    {\"LessName\": \"Mean and median\",\n",
        "                    \"lobs\":[\n",
        "                            \n",
        "                                {\"lobID\": 6, \"lobName\":\"Statistics Intro: Mean, Median & Mode\", \"URL\": \"https://www.khanacademy.org/math/cc-sixth-grade-math/cc-6th-data-statistics/mean-and-median/v/statistics-intro-mean-median-and-mode?modal=1\"}, \n",
        "                                {\"lobID\": 7, \"lobName\":\"Mean, Median & Mode example\", \"URL\": \"https://www.khanacademy.org/math/cc-sixth-grade-math/cc-6th-data-statistics/mean-and-median/v/mean-median-and-mode?modal=1\"},\n",
        "                                {\"lobID\": 8 , \"lobName\":\"Calculating the mean\", \"URL\": \"https://www.khanacademy.org/math/cc-sixth-grade-math/cc-6th-data-statistics/mean-and-median/a/calculating-the-mean?modal=1\"}\n",
        "                                \n",
        "                                \n",
        "                          ]\n",
        "                    },\n",
        "                    {\"LessName\": \"Mean and median challenge problems\",\n",
        "                    \"lobs\":[\n",
        "                             {\"lobID\": 9, \"lobName\": \"Missing value given the mean\", \"URL\": \"https://www.khanacademy.org/math/cc-sixth-grade-math/cc-6th-data-statistics/cc-6th-mean-median-challenge/v/using-mean-to-find-missing-value?modal=1\"},\n",
        "                              {\"lobID\":10 , \"lobName\":\"Mean as the balancing point\" , \"URL\" : \"https://www.khanacademy.org/math/cc-sixth-grade-math/cc-6th-data-statistics/cc-6th-mean-median-challenge/a/mean-as-the-balancing-point?modal=1\"},\n",
        "                              {\"lobID\": 11, \"lobName\":\"Impact on median & mean: Removing an outlier\" , \"URL\" : \"https://www.khanacademy.org/math/cc-sixth-grade-math/cc-6th-data-statistics/cc-6th-mean-median-challenge/v/impact-on-median-and-mean-when-removing-lowest-value-example?modal=1\"},\n",
        "                              {\"lobID\": 12, \"lobName\":\"Impact on median & mean: increasing an outlier\" , \"URL\" : \"https://www.khanacademy.org/math/cc-sixth-grade-math/cc-6th-data-statistics/cc-6th-mean-median-challenge/v/impact-on-median-and-mean-when-increasing-highest-value?modal=1\"},\n",
        "                              {\"lobID\": 13, \"lobName\":\"Median & range puzzlers\" , \"URL\" : \"https://www.khanacademy.org/math/cc-sixth-grade-math/cc-6th-data-statistics/cc-6th-mean-median-challenge/v/median-and-range-puzzle?modal=1\"}\n",
        "                          ]\n",
        "                    },\n",
        "                    {\"LessName\": \"Interquartile range (IQR)\",\n",
        "                    \"lobs\":[\n",
        "                            {\"lobID\": 14, \"lobName\":\"Interquartile range (IQR)\", \"URL\" : \"https://www.khanacademy.org/math/cc-sixth-grade-math/cc-6th-data-statistics/cc-6th/v/calculating-interquartile-range-iqr?modal=1\"}\n",
        "                          ]\n",
        "                    },\n",
        "                    {\"LessName\": \"Box Plots\",\n",
        "                    \"lobs\":[\n",
        "                            {\"lobID\":15  , \"lobName\":\"Reading box plots\", \"URL\" : \"https://www.khanacademy.org/math/cc-sixth-grade-math/cc-6th-data-statistics/cc-6th-box-whisker-plots/v/reading-box-and-whisker-plots?modal=1\"},\n",
        "                             {\"lobID\":16  , \"lobName\":\"Constructing a box plot\", \"URL\" : \"https://www.khanacademy.org/math/cc-sixth-grade-math/cc-6th-data-statistics/cc-6th-box-whisker-plots/v/constructing-a-box-and-whisker-plot?modal=1\"},\n",
        "                             {\"lobID\":17  , \"lobName\":\"Worked example: Creating box plot (odd number of data points)\", \"URL\" : \"https://www.khanacademy.org/math/cc-sixth-grade-math/cc-6th-data-statistics/cc-6th-box-whisker-plots/v/box-and-whisker-plot-exercise-example?modal=1\"},\n",
        "                             {\"lobID\":18  , \"lobName\":\"Worked example: Creating box plot (even number of data points)\", \"URL\" : \"https://www.khanacademy.org/math/cc-sixth-grade-math/cc-6th-data-statistics/cc-6th-box-whisker-plots/v/constructing-a-box-and-whisker-plot?modal=1\"},\n",
        "                             {\"lobID\":19  , \"lobName\":\"Worked example: Interpreting a box plot\", \"URL\" : \"https://www.khanacademy.org/math/cc-sixth-grade-math/cc-6th-data-statistics/cc-6th-box-whisker-plots/v/interpreting-box-plots?modal=1\"}\n",
        "                          ]\n",
        "                    },\n",
        "\n",
        "                    {\"LessName\": \"Mean absolute deviation (MAD)\",\n",
        "                    \"lobs\":[\n",
        "                            { \"lobID\":20 , \"lobName\":\"Mean absolute deviation (MAD)\", \"URL\" : \"https://www.khanacademy.org/math/cc-sixth-grade-math/cc-6th-data-statistics/cc-6-mad/v/mean-absolute-deviation?modal=1\"},\n",
        "                              {\"lobID\":21 , \"lobName\":\"Mean absolute deviation example\", \"URL\" : \"https://www.khanacademy.org/math/cc-sixth-grade-math/cc-6th-data-statistics/cc-6-mad/v/mean-absolute-deviation-example?modal=1\"}\n",
        "                          ]\n",
        "                    },\n",
        "                    {\"LessName\": \"Comparing Data Display\",\n",
        "                    \"lobs\":[\n",
        "                            {\"lobID\":22 , \"lobName\":\"Comparing dot plots, histograms and box plots\", \"URL\" : \"https://www.khanacademy.org/math/cc-sixth-grade-math/cc-6th-data-statistics/cc-7th-compare-data-displays/v/comparing-dot-plots-histograms-and-box-plots?modal=1\"}\n",
        "                          ]\n",
        "                    },\n",
        "                    {\"LessName\": \"Shape of Data Distribution\",\n",
        "                    \"lobs\":[\n",
        "                            {\"lobID\":23 , \"lobName\":\"Shape of distributions\", \"URL\" : \"https://www.khanacademy.org/math/cc-sixth-grade-math/cc-6th-data-statistics/cc-6-shape-of-data/v/shapes-of-distributions?modal=1\"},\n",
        "                              {\"lobID\":24 , \"lobName\":\"Clusters, gaps, peaks & outliers\", \"URL\" : \"https://www.khanacademy.org/math/cc-sixth-grade-math/cc-6th-data-statistics/cc-6-shape-of-data/v/examples-analyzing-clusters-gaps-peaks-and-outliers-for-distributions?modal=1\"}\n",
        "                          ]\n",
        "                    },\n",
        "                 ],        \n",
        "          }\n",
        "         ]"
      ],
      "execution_count": null,
      "outputs": []
    },
    {
      "cell_type": "code",
      "metadata": {
        "id": "cSh9vfs8L_Cy"
      },
      "source": [
        "lst=[]\n",
        "md=modules[0][\"lessons\"]\n",
        "\n",
        "for st in  dt_st.student_ID.unique():\n",
        "  for i   in range(int(30*np.random.rand()+8)):\n",
        "    RndLesson= int(len(md)*np.random.rand()-1)\n",
        "    RndLob= int(len(md[RndLesson][\"lobs\"])*np.random.rand())\n",
        "    activities= {\n",
        "        \"student_ID\": st ,\n",
        "        # \"Course_code\":course_id,  \n",
        "        # \"Unit_des\":  random.choice([ \"Un_\"+str(k) for k in range(10)]),\n",
        "        \"Lesson_des\": md[RndLesson][\"LessName\"],\n",
        "\n",
        "        \"lobj_id\": md[RndLesson][\"lobs\"][RndLob][\"lobID\"], \n",
        "        \"lobj_des\": md[RndLesson][\"lobs\"][RndLob][\"lobName\"],  \n",
        "        # \"Subcps\": [ subcp[s]  for   i in range (1, int((len(subcps)*np.random.rand()+2)))] \n",
        "\n",
        "    }\n",
        "    lst.append(activities)\n",
        "df_recommend=pd.DataFrame(lst)"
      ],
      "execution_count": null,
      "outputs": []
    },
    {
      "cell_type": "code",
      "metadata": {
        "id": "efDZXLf3DZnB"
      },
      "source": [
        "df_recommend[\"LearningObj\"]=df_recommend.Lesson_des+\" \"+ df_recommend.lobj_des"
      ],
      "execution_count": null,
      "outputs": []
    },
    {
      "cell_type": "code",
      "metadata": {
        "id": "-UhFWZvjFLc3"
      },
      "source": [
        "df_recommend.to_csv(\"./Data/recommend.csv\")"
      ],
      "execution_count": null,
      "outputs": []
    },
    {
      "cell_type": "markdown",
      "metadata": {
        "id": "ST9xpUUMoDsv"
      },
      "source": [
        "## Data Preparation for prediction"
      ]
    },
    {
      "cell_type": "code",
      "metadata": {
        "id": "Y-KSBAvvyZ3I"
      },
      "source": [
        "df_avt.tail()"
      ],
      "execution_count": null,
      "outputs": []
    },
    {
      "cell_type": "code",
      "metadata": {
        "id": "FB3lAVvqYzhE"
      },
      "source": [
        "dt_st.tail()"
      ],
      "execution_count": null,
      "outputs": []
    },
    {
      "cell_type": "code",
      "metadata": {
        "id": "3GHLS2GhyZ7d"
      },
      "source": [
        "#  Add  5 selected student used  in the Graph Above\n",
        "\n",
        "#df_avt= df_avt.drop(\"Act_submit_Time\", axis=1).reset_index().append( dt_st.reset_index())\n",
        "\n",
        "\n",
        "df_avt= df_avt.append(dt_st.reset_index())"
      ],
      "execution_count": null,
      "outputs": []
    },
    {
      "cell_type": "code",
      "metadata": {
        "id": "b35Utg1IA38W"
      },
      "source": [
        "df_avt.drop([  \"Unit_id\", \"Chapter_id\", \"Lesson_id\"], inplace=True, axis=1)"
      ],
      "execution_count": null,
      "outputs": []
    },
    {
      "cell_type": "code",
      "metadata": {
        "id": "I8Pmaf806Use"
      },
      "source": [
        "df_avt.tail()"
      ],
      "execution_count": null,
      "outputs": []
    },
    {
      "cell_type": "code",
      "metadata": {
        "id": "koC1IzSDNOb_"
      },
      "source": [
        "#  4  dashboard\n",
        "#plt.rcParams.update({'font.size': 12})\n",
        "#df_avt[[\"Act_mark\"]].groupby(pd.Grouper(freq=\"W\")).agg(\"mean\").plot()"
      ],
      "execution_count": null,
      "outputs": []
    },
    {
      "cell_type": "code",
      "metadata": {
        "id": "uV-fWSvauQ5q"
      },
      "source": [
        "df_act_Stat=pd.pivot_table(df_avt, index=[\"Course_code\",\"Activity_type\" ], \n",
        "               values=[\"Act_mark\", \"Act_diff\", \"Act_cp_count\", \"Act_time\" , \"Activity_id\"]   , aggfunc={\n",
        "                   \"Act_mark\":(\"mean\",\"max\", \"count\", \"min\"), \n",
        "                   \"Act_diff\": \"mean\",\n",
        "                   \"Act_cp_count\": \"mean\",\n",
        "                   \"Act_time\": (\"mean\", \"max\", \"min\"),\n",
        "                   \"Activity_id\": lambda x: x.nunique()\n",
        "               }).rename(columns={\n",
        "                   \"Activity_id\" :  \"Activities_Count\"  #  number of activities\n",
        "#                 \"Act_mark\":\"Std_act_m\", \n",
        "#                    \"Act_diff\": \"Std_act_d\",\n",
        "#                    \"Act_cp_count\": \"Std_act_cp\",\n",
        "#                    \"Act_time\": \"Std_act_t\"  \n",
        "\n",
        "               })\n"
      ],
      "execution_count": null,
      "outputs": []
    },
    {
      "cell_type": "code",
      "metadata": {
        "id": "GbrvhAOF8fjo"
      },
      "source": [
        "df_avt.head(10)"
      ],
      "execution_count": null,
      "outputs": []
    },
    {
      "cell_type": "code",
      "metadata": {
        "id": "yejIGY9-9AqA"
      },
      "source": [
        "df_avt.query(f\"student_ID=='090904691'\").groupby([\"Course_code\", \"Activity_type\"]).student_ID.agg(\"count\")"
      ],
      "execution_count": null,
      "outputs": []
    },
    {
      "cell_type": "code",
      "metadata": {
        "id": "Asw9HgSl-p0k"
      },
      "source": [
        "df_avt.groupby([\"Course_code\", \"Activity_type\"]).student_ID.agg(\"count\")"
      ],
      "execution_count": null,
      "outputs": []
    },
    {
      "cell_type": "code",
      "metadata": {
        "id": "SRtfu_aR7YoJ"
      },
      "source": [
        "df_avt[df_avt.Course_code=='g8_1'].groupby(\"Activity_type\").student_ID.agg(\"count\")"
      ],
      "execution_count": null,
      "outputs": []
    },
    {
      "cell_type": "code",
      "metadata": {
        "id": "lJWjtGDt-dLF"
      },
      "source": [
        "df_act_Stat.sample(5)"
      ],
      "execution_count": null,
      "outputs": []
    },
    {
      "cell_type": "code",
      "metadata": {
        "id": "jDfjh-7BW5f7"
      },
      "source": [
        "df_act_Stat.columns=[f\"{i}_{j}\" for  i , j in df_act_Stat.columns]"
      ],
      "execution_count": null,
      "outputs": []
    },
    {
      "cell_type": "code",
      "metadata": {
        "id": "kTDEPIsiutvW"
      },
      "source": [
        "df_avt[(df_avt.Course_code==\"g6_1\")&(df_avt.Activity_type==\"0\")].describe()"
      ],
      "execution_count": null,
      "outputs": []
    },
    {
      "cell_type": "markdown",
      "metadata": {
        "id": "lT8hkF0GZmi0"
      },
      "source": [
        "## Students' Achievement Statistics (( df_std ))  (( df_mg ))"
      ]
    },
    {
      "cell_type": "code",
      "metadata": {
        "id": "NqbdT3ZicJ6B"
      },
      "source": [
        "df_std_Stat=pd.pivot_table(df_avt, index=[\"student_ID\",\"Course_code\",\"Activity_type\" ], \n",
        "               values=[\"Act_mark\", \"Act_diff\", \"Act_cp_count\", \"Act_time\" ]   , aggfunc={\n",
        "                   \"Act_mark\":(\"mean\",\"max\", \"count\", np.std, \"last\"), \n",
        "                   \"Act_diff\": \"mean\",\n",
        "                   \"Act_cp_count\": \"mean\",\n",
        "                   \"Act_time\": (\"mean\", \"max\", np.std)\n",
        "               },  fill_value=0 ).rename(columns={\n",
        "                \"Act_mark\":\"Std_act_m\", \n",
        "                   \"Act_diff\": \"Std_act_d\",\n",
        "                   \"Act_cp_count\": \"Std_act_cp\",\n",
        "                   \"Act_time\": \"Std_act_t\"   \n",
        "\n",
        "               })\n",
        "df_std_Stat.head()"
      ],
      "execution_count": null,
      "outputs": []
    },
    {
      "cell_type": "code",
      "metadata": {
        "id": "whp94LKSWfoY"
      },
      "source": [
        "df_avt.sample()"
      ],
      "execution_count": null,
      "outputs": []
    },
    {
      "cell_type": "code",
      "metadata": {
        "id": "0E65b4Z5zJUw"
      },
      "source": [
        "df_avt[(df_avt.student_ID==\"080607421\")& (df_avt.Course_code==\"g7_3\")]"
      ],
      "execution_count": null,
      "outputs": []
    },
    {
      "cell_type": "code",
      "metadata": {
        "id": "wsIADVEGjvd0"
      },
      "source": [
        "df_std_Stat.columns=[f\"{i}_{j}\" for  i , j in df_std_Stat.columns]"
      ],
      "execution_count": null,
      "outputs": []
    },
    {
      "cell_type": "code",
      "metadata": {
        "id": "Aex8ie9Kf8ID"
      },
      "source": [
        "df_std_Stat.sample(5)"
      ],
      "execution_count": null,
      "outputs": []
    },
    {
      "cell_type": "markdown",
      "metadata": {
        "id": "8HZkUeNRaSam"
      },
      "source": [
        "- Ranking\n",
        "\n",
        "$$\\Large score=\\log(\\frac{\\text{Qz_Max_time}}{\\text{Qz_Avg_tim}}+\\text{Qz_avg_diff*Qz_Avg_cp})*\\frac{\\text{Qz_Avg_mark}^2}{\\text{Qz_Max_mark}}$$"
      ]
    },
    {
      "cell_type": "code",
      "metadata": {
        "id": "gjiNBNDYdoDX"
      },
      "source": [
        "df_std_Stat[\"Act_score\"]=np.log1p( \n",
        "    df_std_Stat.Std_act_t_max/df_std_Stat.Std_act_t_mean +df_std_Stat.Std_act_d_mean* df_std_Stat.Std_act_cp_mean\n",
        ")*df_std_Stat[\"Std_act_m_max\"]**2/df_std_Stat.Std_act_m_mean"
      ],
      "execution_count": null,
      "outputs": []
    },
    {
      "cell_type": "code",
      "metadata": {
        "id": "mesFnowLjNjx"
      },
      "source": [
        "# reset index   for  Students    data\n",
        "df_std_Stat.reset_index(inplace=True)\n",
        "# reset index for   activities data\n",
        "df_act_Stat.reset_index(inplace=True)"
      ],
      "execution_count": null,
      "outputs": []
    },
    {
      "cell_type": "code",
      "metadata": {
        "id": "KyatOXQyV93D"
      },
      "source": [
        "# Merge Data\n",
        "df_mg=df_std_Stat.merge(df_act_Stat,  on=[\"Course_code\", \"Activity_type\"])"
      ],
      "execution_count": null,
      "outputs": []
    },
    {
      "cell_type": "code",
      "metadata": {
        "id": "yAxo1JCUV965"
      },
      "source": [
        "df_mg.query(f\"student_ID=='080554476'\")"
      ],
      "execution_count": null,
      "outputs": []
    },
    {
      "cell_type": "code",
      "metadata": {
        "id": "8jDD_bSkV9-I"
      },
      "source": [
        "df_mg[\"last_mark\"]=df_mg.Std_act_m_last  # put the target at the end of table\n",
        "df_mg.drop(\"Std_act_m_last\", axis=1, inplace=True)  #  drop the last mark feature."
      ],
      "execution_count": null,
      "outputs": []
    },
    {
      "cell_type": "code",
      "metadata": {
        "id": "rCupuFGEV-CF"
      },
      "source": [
        "df_mg.sample(3)"
      ],
      "execution_count": null,
      "outputs": []
    },
    {
      "cell_type": "code",
      "metadata": {
        "id": "nf9rbrTlkdiz"
      },
      "source": [
        "df_mg.info()"
      ],
      "execution_count": null,
      "outputs": []
    },
    {
      "cell_type": "code",
      "metadata": {
        "id": "gVBQnTyDkdxA"
      },
      "source": [
        "df_mg.to_csv(\"./Data/student_statistics.csv\")"
      ],
      "execution_count": null,
      "outputs": []
    },
    {
      "cell_type": "markdown",
      "metadata": {
        "id": "xlXC8vTMCYkX"
      },
      "source": [
        "# Linear Regression & Classification"
      ]
    },
    {
      "cell_type": "markdown",
      "metadata": {
        "id": "mODye3CkyDIh"
      },
      "source": [
        "## Pipeline    SGB Regressor  Mark Prediction \n",
        "![](https://i.ibb.co/xzWVv5H/pipe-Lasso.png)"
      ]
    },
    {
      "cell_type": "code",
      "metadata": {
        "id": "yUDuHE8sWASX"
      },
      "source": [
        "df_mg.set_index(\"student_ID\", inplace=True)"
      ],
      "execution_count": null,
      "outputs": []
    },
    {
      "cell_type": "code",
      "metadata": {
        "id": "JdoiqOidnB7Z"
      },
      "source": [
        "# Split Data\n",
        "\n",
        "X_train=df_mg.drop(dt_st.student_ID.unique(), axis = 0).iloc[:,:-1]\n",
        "y=df_mg.drop(dt_st.student_ID.unique(), axis = 0).iloc[:, -1]"
      ],
      "execution_count": null,
      "outputs": []
    },
    {
      "cell_type": "code",
      "metadata": {
        "id": "3YDFFpVQwrRR"
      },
      "source": [
        "from sklearn.preprocessing import StandardScaler , OneHotEncoder\n",
        "from sklearn.compose import make_column_transformer , make_column_selector  as selector\n",
        "\n",
        "from sklearn.pipeline import make_pipeline\n",
        "  \n",
        "num_pipeline= make_pipeline(\n",
        "     StandardScaler( )    # Rescaling\n",
        ")\n",
        "\n",
        "cat_pipeline= make_pipeline(\n",
        "      \n",
        "     OneHotEncoder(drop=\"if_binary\" , sparse=False ), \n",
        " \n",
        ")"
      ],
      "execution_count": null,
      "outputs": []
    },
    {
      "cell_type": "code",
      "metadata": {
        "id": "upy_I2BowrUj"
      },
      "source": [
        "#  Pipeline structure \n",
        "preprocess= make_column_transformer(\n",
        "     ( num_pipeline,  selector(dtype_include=\"number\") ),  #Numeric feature rescaling\n",
        "     (cat_pipeline, selector(dtype_exclude=\"number\"))  # Categorical features Encoding\n",
        "     )"
      ],
      "execution_count": null,
      "outputs": []
    },
    {
      "cell_type": "code",
      "metadata": {
        "id": "66dCtrfm4uw-"
      },
      "source": [
        "preprocess.fit_transform(X_train).shape"
      ],
      "execution_count": null,
      "outputs": []
    },
    {
      "cell_type": "code",
      "metadata": {
        "id": "ITBU0xv45SXd"
      },
      "source": [
        "preprocess.fit_transform(X_train)[0]"
      ],
      "execution_count": null,
      "outputs": []
    },
    {
      "cell_type": "code",
      "metadata": {
        "id": "Wh8MTnh2keHJ"
      },
      "source": [
        "# pipelline Model\n",
        "\n",
        "from xgboost import XGBRegressor\n",
        "pipe_reg= make_pipeline(\n",
        "    preprocess, \n",
        "    XGBRegressor(objective=\"reg:squarederror\")\n",
        "    )"
      ],
      "execution_count": null,
      "outputs": []
    },
    {
      "cell_type": "code",
      "metadata": {
        "id": "90gB0GMjz4vz"
      },
      "source": [
        "pipe_reg.get_params()"
      ],
      "execution_count": null,
      "outputs": []
    },
    {
      "cell_type": "code",
      "metadata": {
        "id": "CYgTJx9zqPLY"
      },
      "source": [
        "# hyper parameters\n",
        "\n",
        "param_grid={\n",
        "    \"xgbregressor__learning_rate\": [0.01, 0.1],\n",
        "    \"xgbregressor__max_depth\" : [3,5,7, 10] ,\n",
        "    \"xgbregressor__min_child_weight\" :[1,3,5],\n",
        "    \"xgbregressor__subsample\": [0.5, 0.7],\n",
        "    \"xgbregressor__colsample_bytree\": [0.5, 0.7],\n",
        "    \"xgbregressor__n_estimators\": [200, 400, 1000]\n",
        "    \n",
        "}"
      ],
      "execution_count": null,
      "outputs": []
    },
    {
      "cell_type": "code",
      "metadata": {
        "id": "qtr9T1Mt1Fjk"
      },
      "source": [
        "from sklearn.model_selection import RandomizedSearchCV, KFold\n",
        "\n",
        "kf= KFold( n_splits=5, shuffle=True )\n",
        "gs= RandomizedSearchCV( pipe_reg, param_distributions=param_grid,  scoring=\"neg_mean_squared_error\", cv=kf,verbose=3)"
      ],
      "execution_count": null,
      "outputs": []
    },
    {
      "cell_type": "code",
      "metadata": {
        "id": "vg3IQj7I1Fmz"
      },
      "source": [
        "gs.fit(X_train, y)"
      ],
      "execution_count": null,
      "outputs": []
    },
    {
      "cell_type": "code",
      "metadata": {
        "id": "OdqbzrEB40Fz"
      },
      "source": [
        "gs.best_estimator_"
      ],
      "execution_count": null,
      "outputs": []
    },
    {
      "cell_type": "code",
      "metadata": {
        "id": "P_F9X0bV43D6"
      },
      "source": [
        "gs.best_params_"
      ],
      "execution_count": null,
      "outputs": []
    },
    {
      "cell_type": "code",
      "metadata": {
        "id": "_AMYoAz7kHRs"
      },
      "source": [
        "df_mg.loc[dt_st.student_ID.unique(), :].iloc[:, :-1].sample()"
      ],
      "execution_count": null,
      "outputs": []
    },
    {
      "cell_type": "code",
      "metadata": {
        "id": "qJA7ti_e46dz"
      },
      "source": [
        "y_pred=gs.predict(X_train)"
      ],
      "execution_count": null,
      "outputs": []
    },
    {
      "cell_type": "code",
      "metadata": {
        "id": "y2szdzfQ4Nvq"
      },
      "source": [
        "from sklearn import  metrics\n",
        "print(f\"  MAE : { metrics.mean_absolute_error(y, y_pred):.3f}\")\n",
        "print(f\"  MSE : { metrics.mean_squared_error(y, y_pred):.3f}\")\n",
        "print(f\"  RMSE : { np.sqrt(metrics.mean_squared_error(y, y_pred)):.3f}\")\n",
        "print(f\"  R^2 : { metrics.r2_score(y, y_pred):.3f}\")\n",
        "print(f\"  Explained Variance Score : { metrics.mean_absolute_error(y, y_pred):.3f}\")"
      ],
      "execution_count": null,
      "outputs": []
    },
    {
      "cell_type": "code",
      "metadata": {
        "id": "MzIcZBSx4Nyw"
      },
      "source": [
        "# Residual Plot\n",
        "\n",
        "import seaborn as sns\n",
        "_= sns.residplot(x=y, y=y_pred, color=\"green\")"
      ],
      "execution_count": null,
      "outputs": []
    },
    {
      "cell_type": "code",
      "metadata": {
        "id": "FNUwbLkp3U2k"
      },
      "source": [
        "predict_std = df_mg.loc[dt_st.student_ID.unique(), :].iloc[:, :-1]"
      ],
      "execution_count": null,
      "outputs": []
    },
    {
      "cell_type": "code",
      "metadata": {
        "id": "iEh-K9_3Kuyr"
      },
      "source": [
        "gs.predict(predict_std)"
      ],
      "execution_count": null,
      "outputs": []
    },
    {
      "cell_type": "code",
      "metadata": {
        "id": "afM8HMOdsFW8"
      },
      "source": [
        "predict_std[\"last_mark\"]=gs.predict(predict_std)"
      ],
      "execution_count": null,
      "outputs": []
    },
    {
      "cell_type": "code",
      "metadata": {
        "id": "iLkkuL9yCsiQ"
      },
      "source": [
        "predict_std.head()"
      ],
      "execution_count": null,
      "outputs": []
    },
    {
      "cell_type": "code",
      "metadata": {
        "id": "bA6yGCkApkeM"
      },
      "source": [
        "predict_std.to_csv(\"./Data/predicted_data.csv\")"
      ],
      "execution_count": null,
      "outputs": []
    },
    {
      "cell_type": "markdown",
      "metadata": {
        "id": "rxJumxSTO7S9"
      },
      "source": [
        "## Pipeline    SGB Classsifier  Classification  Prediction   ((( ERROR ))\n",
        "![](https://i.ibb.co/xzWVv5H/pipe-Lasso.png)"
      ]
    },
    {
      "cell_type": "code",
      "metadata": {
        "colab": {
          "base_uri": "https://localhost:8080/",
          "height": 100
        },
        "id": "_tMc0aWnRc0G",
        "outputId": "abd43ffe-7dcd-4d46-d889-79c33544f08d"
      },
      "source": [
        "df_mg.sample()"
      ],
      "execution_count": null,
      "outputs": [
        {
          "output_type": "execute_result",
          "data": {
            "text/html": [
              "<div>\n",
              "<style scoped>\n",
              "    .dataframe tbody tr th:only-of-type {\n",
              "        vertical-align: middle;\n",
              "    }\n",
              "\n",
              "    .dataframe tbody tr th {\n",
              "        vertical-align: top;\n",
              "    }\n",
              "\n",
              "    .dataframe thead th {\n",
              "        text-align: right;\n",
              "    }\n",
              "</style>\n",
              "<table border=\"1\" class=\"dataframe\">\n",
              "  <thead>\n",
              "    <tr style=\"text-align: right;\">\n",
              "      <th></th>\n",
              "      <th>student_ID</th>\n",
              "      <th>Course_code</th>\n",
              "      <th>Activity_type</th>\n",
              "      <th>Std_act_cp_mean</th>\n",
              "      <th>Std_act_d_mean</th>\n",
              "      <th>Std_act_m_count</th>\n",
              "      <th>Std_act_m_max</th>\n",
              "      <th>Std_act_m_mean</th>\n",
              "      <th>Std_act_m_std</th>\n",
              "      <th>Std_act_t_max</th>\n",
              "      <th>Std_act_t_mean</th>\n",
              "      <th>Std_act_t_std</th>\n",
              "      <th>Act_score</th>\n",
              "      <th>Act_cp_count_mean</th>\n",
              "      <th>Act_diff_mean</th>\n",
              "      <th>Act_mark_count</th>\n",
              "      <th>Act_mark_max</th>\n",
              "      <th>Act_mark_mean</th>\n",
              "      <th>Act_mark_min</th>\n",
              "      <th>Act_time_max</th>\n",
              "      <th>Act_time_mean</th>\n",
              "      <th>Act_time_min</th>\n",
              "      <th>Activities_Count_&lt;lambda&gt;</th>\n",
              "      <th>last_mark</th>\n",
              "    </tr>\n",
              "  </thead>\n",
              "  <tbody>\n",
              "    <tr>\n",
              "      <th>633</th>\n",
              "      <td>070415152</td>\n",
              "      <td>g8_2</td>\n",
              "      <td>1</td>\n",
              "      <td>1.25</td>\n",
              "      <td>2.75</td>\n",
              "      <td>4</td>\n",
              "      <td>6.19</td>\n",
              "      <td>3.955</td>\n",
              "      <td>2.717603</td>\n",
              "      <td>3907</td>\n",
              "      <td>2253.25</td>\n",
              "      <td>1614.54955</td>\n",
              "      <td>14.073199</td>\n",
              "      <td>1.578125</td>\n",
              "      <td>2.734375</td>\n",
              "      <td>64</td>\n",
              "      <td>9.81</td>\n",
              "      <td>5.080781</td>\n",
              "      <td>0.38</td>\n",
              "      <td>4116.0</td>\n",
              "      <td>2171.1875</td>\n",
              "      <td>71.0</td>\n",
              "      <td>20</td>\n",
              "      <td>6.16</td>\n",
              "    </tr>\n",
              "  </tbody>\n",
              "</table>\n",
              "</div>"
            ],
            "text/plain": [
              "    student_ID Course_code  ...  Activities_Count_<lambda>  last_mark\n",
              "633  070415152        g8_2  ...                         20       6.16\n",
              "\n",
              "[1 rows x 24 columns]"
            ]
          },
          "metadata": {
            "tags": []
          },
          "execution_count": 465
        }
      ]
    },
    {
      "cell_type": "code",
      "metadata": {
        "id": "mV9pOkV8O7TD"
      },
      "source": [
        "df_stClass= df_mg.copy()\n",
        "df_stClass.set_index(\"student_ID\", inplace=True, drop=True)\n"
      ],
      "execution_count": null,
      "outputs": []
    },
    {
      "cell_type": "code",
      "metadata": {
        "id": "6LFsh_82bXHj"
      },
      "source": [
        "df_stClass.drop(std_d, axis=0, inplace=True)"
      ],
      "execution_count": null,
      "outputs": []
    },
    {
      "cell_type": "markdown",
      "metadata": {
        "id": "rmi-mtp4FWZg"
      },
      "source": [
        "- Ranking\n",
        "\n",
        "$$\\Large score=\\log(\\frac{\\text{Qz_Max_time}}{\\text{Qz_Avg_tim}}+\\text{Qz_avg_diff*Qz_Avg_cp})*\\frac{\\text{Qz_Avg_mark}^2}{\\text{Qz_Max_mark}}$$"
      ]
    },
    {
      "cell_type": "code",
      "metadata": {
        "id": "uZhqnK4rO7TE"
      },
      "source": [
        "df_stClass[\"Activity_type\"]=df_stClass.Activity_type.astype(\"category\")"
      ],
      "execution_count": null,
      "outputs": []
    },
    {
      "cell_type": "code",
      "metadata": {
        "id": "BXRNBYkvA4c6"
      },
      "source": [
        "#  feature  Engineering\n",
        "\n",
        "bins = [0, \n",
        "        df_stClass.Act_score.quantile(0.25),\n",
        "        df_stClass.Act_score.quantile(0.5),\n",
        "        df_stClass.Act_score.quantile(0.75), \n",
        "        df_stClass.Act_score.quantile(1)]\n",
        "names = ['D', 'C', 'B', 'A']\n",
        "\n",
        "df_stClass['Score_Class'] = pd.cut(df_stClass.Act_score,\n",
        "                           bins, labels=names, include_lowest=True)"
      ],
      "execution_count": null,
      "outputs": []
    },
    {
      "cell_type": "code",
      "metadata": {
        "id": "3kgox5iscHbm"
      },
      "source": [
        "df_stClass.drop([\"Act_score\"], axis=1, inplace=True)"
      ],
      "execution_count": null,
      "outputs": []
    },
    {
      "cell_type": "code",
      "metadata": {
        "id": "DOVyPfF1I62v",
        "colab": {
          "base_uri": "https://localhost:8080/"
        },
        "outputId": "da1b95e9-ea42-4665-b918-b7c6dc8796d8"
      },
      "source": [
        "df_stClass.Score_Class.unique()\n",
        "#  It's better to add data related to  timestamp feature:  dat, month, dayofteweek, monthOfTheyear ....."
      ],
      "execution_count": null,
      "outputs": [
        {
          "output_type": "execute_result",
          "data": {
            "text/plain": [
              "['D', 'A', 'B', 'C']\n",
              "Categories (4, object): ['D' < 'C' < 'B' < 'A']"
            ]
          },
          "metadata": {
            "tags": []
          },
          "execution_count": 514
        }
      ]
    },
    {
      "cell_type": "code",
      "metadata": {
        "id": "yOJgt_lxO7TF"
      },
      "source": [
        "# Split Data\n",
        "\n",
        "X=df_stClass.iloc[:,:-1]\n",
        "y=df_stClass[\"Score_Class\"]"
      ],
      "execution_count": null,
      "outputs": []
    },
    {
      "cell_type": "code",
      "metadata": {
        "id": "z0HbtSlPO7TG"
      },
      "source": [
        "from sklearn.model_selection import train_test_split\n",
        "\n",
        "X_train, X_test, y_train, y_test=train_test_split(X, y  , test_size=.3,   random_state=42)"
      ],
      "execution_count": null,
      "outputs": []
    },
    {
      "cell_type": "code",
      "metadata": {
        "colab": {
          "base_uri": "https://localhost:8080/",
          "height": 255
        },
        "id": "YODFPGYyawyH",
        "outputId": "d6fa37cf-81b8-4541-d681-874b208fa991"
      },
      "source": [
        "X_test.head()"
      ],
      "execution_count": null,
      "outputs": [
        {
          "output_type": "execute_result",
          "data": {
            "text/html": [
              "<div>\n",
              "<style scoped>\n",
              "    .dataframe tbody tr th:only-of-type {\n",
              "        vertical-align: middle;\n",
              "    }\n",
              "\n",
              "    .dataframe tbody tr th {\n",
              "        vertical-align: top;\n",
              "    }\n",
              "\n",
              "    .dataframe thead th {\n",
              "        text-align: right;\n",
              "    }\n",
              "</style>\n",
              "<table border=\"1\" class=\"dataframe\">\n",
              "  <thead>\n",
              "    <tr style=\"text-align: right;\">\n",
              "      <th></th>\n",
              "      <th>Course_code</th>\n",
              "      <th>Activity_type</th>\n",
              "      <th>Std_act_cp_mean</th>\n",
              "      <th>Std_act_d_mean</th>\n",
              "      <th>Std_act_m_count</th>\n",
              "      <th>Std_act_m_max</th>\n",
              "      <th>Std_act_m_mean</th>\n",
              "      <th>Std_act_m_std</th>\n",
              "      <th>Std_act_t_max</th>\n",
              "      <th>Std_act_t_mean</th>\n",
              "      <th>Std_act_t_std</th>\n",
              "      <th>Act_cp_count_mean</th>\n",
              "      <th>Act_diff_mean</th>\n",
              "      <th>Act_mark_count</th>\n",
              "      <th>Act_mark_max</th>\n",
              "      <th>Act_mark_mean</th>\n",
              "      <th>Act_mark_min</th>\n",
              "      <th>Act_time_max</th>\n",
              "      <th>Act_time_mean</th>\n",
              "      <th>Act_time_min</th>\n",
              "      <th>Activities_Count_&lt;lambda&gt;</th>\n",
              "      <th>last_mark</th>\n",
              "    </tr>\n",
              "    <tr>\n",
              "      <th>student_ID</th>\n",
              "      <th></th>\n",
              "      <th></th>\n",
              "      <th></th>\n",
              "      <th></th>\n",
              "      <th></th>\n",
              "      <th></th>\n",
              "      <th></th>\n",
              "      <th></th>\n",
              "      <th></th>\n",
              "      <th></th>\n",
              "      <th></th>\n",
              "      <th></th>\n",
              "      <th></th>\n",
              "      <th></th>\n",
              "      <th></th>\n",
              "      <th></th>\n",
              "      <th></th>\n",
              "      <th></th>\n",
              "      <th></th>\n",
              "      <th></th>\n",
              "      <th></th>\n",
              "      <th></th>\n",
              "    </tr>\n",
              "  </thead>\n",
              "  <tbody>\n",
              "    <tr>\n",
              "      <th>091095641</th>\n",
              "      <td>g6_3</td>\n",
              "      <td>0</td>\n",
              "      <td>1.000000</td>\n",
              "      <td>1.500000</td>\n",
              "      <td>2</td>\n",
              "      <td>5.10</td>\n",
              "      <td>2.575</td>\n",
              "      <td>3.570889</td>\n",
              "      <td>7</td>\n",
              "      <td>4.500000</td>\n",
              "      <td>3.535534</td>\n",
              "      <td>1.506024</td>\n",
              "      <td>2.578313</td>\n",
              "      <td>83</td>\n",
              "      <td>9.80</td>\n",
              "      <td>4.910602</td>\n",
              "      <td>0.00</td>\n",
              "      <td>16.0</td>\n",
              "      <td>8.530120</td>\n",
              "      <td>2.0</td>\n",
              "      <td>20</td>\n",
              "      <td>5.10</td>\n",
              "    </tr>\n",
              "    <tr>\n",
              "      <th>070468879</th>\n",
              "      <td>g8_2</td>\n",
              "      <td>0</td>\n",
              "      <td>1.666667</td>\n",
              "      <td>2.666667</td>\n",
              "      <td>3</td>\n",
              "      <td>8.84</td>\n",
              "      <td>6.020</td>\n",
              "      <td>2.582615</td>\n",
              "      <td>5</td>\n",
              "      <td>3.666667</td>\n",
              "      <td>1.527525</td>\n",
              "      <td>1.500000</td>\n",
              "      <td>2.573529</td>\n",
              "      <td>68</td>\n",
              "      <td>9.88</td>\n",
              "      <td>4.988971</td>\n",
              "      <td>0.02</td>\n",
              "      <td>16.0</td>\n",
              "      <td>8.411765</td>\n",
              "      <td>2.0</td>\n",
              "      <td>19</td>\n",
              "      <td>3.77</td>\n",
              "    </tr>\n",
              "    <tr>\n",
              "      <th>090361770</th>\n",
              "      <td>g6_1</td>\n",
              "      <td>1</td>\n",
              "      <td>2.000000</td>\n",
              "      <td>2.000000</td>\n",
              "      <td>1</td>\n",
              "      <td>5.95</td>\n",
              "      <td>5.950</td>\n",
              "      <td>0.000000</td>\n",
              "      <td>3386</td>\n",
              "      <td>3386.000000</td>\n",
              "      <td>0.000000</td>\n",
              "      <td>1.493506</td>\n",
              "      <td>2.493506</td>\n",
              "      <td>77</td>\n",
              "      <td>9.59</td>\n",
              "      <td>4.792857</td>\n",
              "      <td>0.08</td>\n",
              "      <td>4257.0</td>\n",
              "      <td>1978.792208</td>\n",
              "      <td>164.0</td>\n",
              "      <td>20</td>\n",
              "      <td>5.95</td>\n",
              "    </tr>\n",
              "    <tr>\n",
              "      <th>070645247</th>\n",
              "      <td>g8_3</td>\n",
              "      <td>0</td>\n",
              "      <td>2.000000</td>\n",
              "      <td>4.000000</td>\n",
              "      <td>1</td>\n",
              "      <td>4.79</td>\n",
              "      <td>4.790</td>\n",
              "      <td>0.000000</td>\n",
              "      <td>12</td>\n",
              "      <td>12.000000</td>\n",
              "      <td>0.000000</td>\n",
              "      <td>1.492308</td>\n",
              "      <td>2.600000</td>\n",
              "      <td>65</td>\n",
              "      <td>9.92</td>\n",
              "      <td>4.850308</td>\n",
              "      <td>0.18</td>\n",
              "      <td>16.0</td>\n",
              "      <td>9.723077</td>\n",
              "      <td>2.0</td>\n",
              "      <td>20</td>\n",
              "      <td>4.79</td>\n",
              "    </tr>\n",
              "    <tr>\n",
              "      <th>081011467</th>\n",
              "      <td>g7_1</td>\n",
              "      <td>1</td>\n",
              "      <td>2.000000</td>\n",
              "      <td>4.000000</td>\n",
              "      <td>1</td>\n",
              "      <td>8.28</td>\n",
              "      <td>8.280</td>\n",
              "      <td>0.000000</td>\n",
              "      <td>3599</td>\n",
              "      <td>3599.000000</td>\n",
              "      <td>0.000000</td>\n",
              "      <td>1.534091</td>\n",
              "      <td>2.386364</td>\n",
              "      <td>88</td>\n",
              "      <td>9.91</td>\n",
              "      <td>5.433182</td>\n",
              "      <td>0.04</td>\n",
              "      <td>4341.0</td>\n",
              "      <td>2159.340909</td>\n",
              "      <td>140.0</td>\n",
              "      <td>20</td>\n",
              "      <td>8.28</td>\n",
              "    </tr>\n",
              "  </tbody>\n",
              "</table>\n",
              "</div>"
            ],
            "text/plain": [
              "           Course_code Activity_type  ...  Activities_Count_<lambda>  last_mark\n",
              "student_ID                            ...                                      \n",
              "091095641         g6_3             0  ...                         20       5.10\n",
              "070468879         g8_2             0  ...                         19       3.77\n",
              "090361770         g6_1             1  ...                         20       5.95\n",
              "070645247         g8_3             0  ...                         20       4.79\n",
              "081011467         g7_1             1  ...                         20       8.28\n",
              "\n",
              "[5 rows x 22 columns]"
            ]
          },
          "metadata": {
            "tags": []
          },
          "execution_count": 517
        }
      ]
    },
    {
      "cell_type": "code",
      "metadata": {
        "id": "uNoAmJ5wO7TH"
      },
      "source": [
        "from sklearn.preprocessing import StandardScaler , OneHotEncoder\n",
        "from sklearn.compose import make_column_transformer , make_column_selector  as selector\n",
        "\n",
        "from sklearn.pipeline import make_pipeline\n",
        "  \n",
        "num_pipeline= make_pipeline(\n",
        "     StandardScaler( )    # Rescaling\n",
        ")\n",
        "\n",
        "cat_pipeline= make_pipeline(\n",
        "      \n",
        "     OneHotEncoder(drop=\"if_binary\" , sparse=False ), \n",
        " \n",
        ")"
      ],
      "execution_count": null,
      "outputs": []
    },
    {
      "cell_type": "code",
      "metadata": {
        "id": "rnWwMgU6O7TH"
      },
      "source": [
        "#  Pipeline structure \n",
        "\n",
        "preprocess= make_column_transformer(\n",
        "     ( num_pipeline,  selector(dtype_include=\"number\") ),  #Numeric feature rescaling\n",
        "     (cat_pipeline, selector(dtype_exclude=\"number\"))  # Categorical features Encoding\n",
        "     )"
      ],
      "execution_count": null,
      "outputs": []
    },
    {
      "cell_type": "code",
      "metadata": {
        "id": "6PTkH0fyO7TH",
        "colab": {
          "base_uri": "https://localhost:8080/"
        },
        "outputId": "0c7e6f28-268a-4b84-ed23-5d5b27426326"
      },
      "source": [
        "preprocess.fit_transform(X_train).shape"
      ],
      "execution_count": null,
      "outputs": [
        {
          "output_type": "execute_result",
          "data": {
            "text/plain": [
              "(910, 36)"
            ]
          },
          "metadata": {
            "tags": []
          },
          "execution_count": 520
        }
      ]
    },
    {
      "cell_type": "code",
      "metadata": {
        "id": "62CITadAO7TI",
        "colab": {
          "base_uri": "https://localhost:8080/"
        },
        "outputId": "8347cebe-5730-4ab6-da7f-b52c5232b3c1"
      },
      "source": [
        "preprocess.fit_transform(X_train)[0]"
      ],
      "execution_count": null,
      "outputs": [
        {
          "output_type": "execute_result",
          "data": {
            "text/plain": [
              "array([-1.21442672, -0.55172367, -0.79989355, -0.95457584, -0.6513625 ,\n",
              "       -0.75980405, -0.84435533, -0.83376001, -0.47616855, -1.06327502,\n",
              "       -0.89395344,  0.95934381,  0.88321657, -0.16262916, -0.49749329,\n",
              "       -1.01531287, -1.0126153 , -0.89800358, -1.41491831, -0.55880438,\n",
              "        0.        ,  0.        ,  0.        ,  0.        ,  0.        ,\n",
              "        0.        ,  1.        ,  0.        ,  0.        ,  0.        ,\n",
              "        0.        ,  0.        ,  0.        ,  0.        ,  0.        ,\n",
              "        0.        ])"
            ]
          },
          "metadata": {
            "tags": []
          },
          "execution_count": 521
        }
      ]
    },
    {
      "cell_type": "code",
      "metadata": {
        "id": "ygtpwdJSO7TJ"
      },
      "source": [
        "# pipelline Model\n",
        "\n",
        "from xgboost import XGBClassifier\n",
        "pipe_reg= make_pipeline(\n",
        "    preprocess, \n",
        "    XGBClassifier()\n",
        "    )"
      ],
      "execution_count": null,
      "outputs": []
    },
    {
      "cell_type": "code",
      "metadata": {
        "id": "5kqkheEaO7TJ",
        "colab": {
          "base_uri": "https://localhost:8080/"
        },
        "outputId": "6d0ead5e-fced-450c-b1f7-3cfe156eafc6"
      },
      "source": [
        "pipe_reg.get_params()"
      ],
      "execution_count": null,
      "outputs": [
        {
          "output_type": "execute_result",
          "data": {
            "text/plain": [
              "{'columntransformer': ColumnTransformer(transformers=[('pipeline-1',\n",
              "                                  Pipeline(steps=[('standardscaler',\n",
              "                                                   StandardScaler())]),\n",
              "                                  <sklearn.compose._column_transformer.make_column_selector object at 0x7f08562def10>),\n",
              "                                 ('pipeline-2',\n",
              "                                  Pipeline(steps=[('onehotencoder',\n",
              "                                                   OneHotEncoder(drop='if_binary',\n",
              "                                                                 sparse=False))]),\n",
              "                                  <sklearn.compose._column_transformer.make_column_selector object at 0x7f08562dee10>)]),\n",
              " 'columntransformer__n_jobs': None,\n",
              " 'columntransformer__pipeline-1': Pipeline(steps=[('standardscaler', StandardScaler())]),\n",
              " 'columntransformer__pipeline-1__memory': None,\n",
              " 'columntransformer__pipeline-1__standardscaler': StandardScaler(),\n",
              " 'columntransformer__pipeline-1__standardscaler__copy': True,\n",
              " 'columntransformer__pipeline-1__standardscaler__with_mean': True,\n",
              " 'columntransformer__pipeline-1__standardscaler__with_std': True,\n",
              " 'columntransformer__pipeline-1__steps': [('standardscaler',\n",
              "   StandardScaler())],\n",
              " 'columntransformer__pipeline-1__verbose': False,\n",
              " 'columntransformer__pipeline-2': Pipeline(steps=[('onehotencoder',\n",
              "                  OneHotEncoder(drop='if_binary', sparse=False))]),\n",
              " 'columntransformer__pipeline-2__memory': None,\n",
              " 'columntransformer__pipeline-2__onehotencoder': OneHotEncoder(drop='if_binary', sparse=False),\n",
              " 'columntransformer__pipeline-2__onehotencoder__categories': 'auto',\n",
              " 'columntransformer__pipeline-2__onehotencoder__drop': 'if_binary',\n",
              " 'columntransformer__pipeline-2__onehotencoder__dtype': numpy.float64,\n",
              " 'columntransformer__pipeline-2__onehotencoder__handle_unknown': 'error',\n",
              " 'columntransformer__pipeline-2__onehotencoder__sparse': False,\n",
              " 'columntransformer__pipeline-2__steps': [('onehotencoder',\n",
              "   OneHotEncoder(drop='if_binary', sparse=False))],\n",
              " 'columntransformer__pipeline-2__verbose': False,\n",
              " 'columntransformer__remainder': 'drop',\n",
              " 'columntransformer__sparse_threshold': 0.3,\n",
              " 'columntransformer__transformer_weights': None,\n",
              " 'columntransformer__transformers': [('pipeline-1',\n",
              "   Pipeline(steps=[('standardscaler', StandardScaler())]),\n",
              "   <sklearn.compose._column_transformer.make_column_selector at 0x7f08562def10>),\n",
              "  ('pipeline-2', Pipeline(steps=[('onehotencoder',\n",
              "                    OneHotEncoder(drop='if_binary', sparse=False))]), <sklearn.compose._column_transformer.make_column_selector at 0x7f08562dee10>)],\n",
              " 'columntransformer__verbose': False,\n",
              " 'memory': None,\n",
              " 'steps': [('columntransformer', ColumnTransformer(transformers=[('pipeline-1',\n",
              "                                    Pipeline(steps=[('standardscaler',\n",
              "                                                     StandardScaler())]),\n",
              "                                    <sklearn.compose._column_transformer.make_column_selector object at 0x7f08562def10>),\n",
              "                                   ('pipeline-2',\n",
              "                                    Pipeline(steps=[('onehotencoder',\n",
              "                                                     OneHotEncoder(drop='if_binary',\n",
              "                                                                   sparse=False))]),\n",
              "                                    <sklearn.compose._column_transformer.make_column_selector object at 0x7f08562dee10>)])),\n",
              "  ('xgbclassifier', XGBClassifier())],\n",
              " 'verbose': False,\n",
              " 'xgbclassifier': XGBClassifier(),\n",
              " 'xgbclassifier__base_score': 0.5,\n",
              " 'xgbclassifier__booster': 'gbtree',\n",
              " 'xgbclassifier__colsample_bylevel': 1,\n",
              " 'xgbclassifier__colsample_bynode': 1,\n",
              " 'xgbclassifier__colsample_bytree': 1,\n",
              " 'xgbclassifier__gamma': 0,\n",
              " 'xgbclassifier__learning_rate': 0.1,\n",
              " 'xgbclassifier__max_delta_step': 0,\n",
              " 'xgbclassifier__max_depth': 3,\n",
              " 'xgbclassifier__min_child_weight': 1,\n",
              " 'xgbclassifier__missing': None,\n",
              " 'xgbclassifier__n_estimators': 100,\n",
              " 'xgbclassifier__n_jobs': 1,\n",
              " 'xgbclassifier__nthread': None,\n",
              " 'xgbclassifier__objective': 'binary:logistic',\n",
              " 'xgbclassifier__random_state': 0,\n",
              " 'xgbclassifier__reg_alpha': 0,\n",
              " 'xgbclassifier__reg_lambda': 1,\n",
              " 'xgbclassifier__scale_pos_weight': 1,\n",
              " 'xgbclassifier__seed': None,\n",
              " 'xgbclassifier__silent': None,\n",
              " 'xgbclassifier__subsample': 1,\n",
              " 'xgbclassifier__verbosity': 1}"
            ]
          },
          "metadata": {
            "tags": []
          },
          "execution_count": 523
        }
      ]
    },
    {
      "cell_type": "code",
      "metadata": {
        "id": "XKjazoy5O7TJ"
      },
      "source": [
        "# hyper parameters\n",
        "\n",
        "param_grid = {\n",
        "    'xgbclassifier__n_estimators': [50, 100, 150, 200],\n",
        "    'xgbclassifier__learning_rate': [0.01, 0.1, 0.2, 0.3],\n",
        "    'xgbclassifier__max_depth': range(3, 5),\n",
        "    'xgbclassifier__colsample_bytree': [i/10.0 for i in range(1, 3)],\n",
        "    'xgbclassifier__gamma': [i/10.0 for i in range(3)],\n",
        "    \n",
        "}"
      ],
      "execution_count": null,
      "outputs": []
    },
    {
      "cell_type": "code",
      "metadata": {
        "id": "LZY_I0agBoED"
      },
      "source": [
        "# AUC and accuracy as score\n",
        "\n",
        "from sklearn.metrics import accuracy_score, make_scorer, f1_score\n",
        "scorer = make_scorer(f1_score, pos_label=\"yes\", average=\"micro\")"
      ],
      "execution_count": null,
      "outputs": []
    },
    {
      "cell_type": "code",
      "metadata": {
        "id": "yvVUlnXRO7TK"
      },
      "source": [
        "from sklearn.model_selection import RandomizedSearchCV, KFold\n",
        "\n",
        "kf= KFold( n_splits=5, shuffle=True )\n",
        "gs= RandomizedSearchCV( pipe_reg, param_distributions=param_grid,  scoring=scorer,  cv=kf,verbose=3)"
      ],
      "execution_count": null,
      "outputs": []
    },
    {
      "cell_type": "code",
      "metadata": {
        "id": "9mu58K1nO7TK",
        "colab": {
          "base_uri": "https://localhost:8080/"
        },
        "outputId": "0d3f84bc-6fe3-445c-8b57-68c924e3b601"
      },
      "source": [
        "gs.fit(X_train, y_train)"
      ],
      "execution_count": null,
      "outputs": [
        {
          "output_type": "stream",
          "text": [
            "Fitting 5 folds for each of 10 candidates, totalling 50 fits\n",
            "[CV 1/5] END xgbclassifier__colsample_bytree=0.1, xgbclassifier__gamma=0.1, xgbclassifier__learning_rate=0.01, xgbclassifier__max_depth=4, xgbclassifier__n_estimators=100;, score=0.676 total time=   0.2s\n",
            "[CV 2/5] END xgbclassifier__colsample_bytree=0.1, xgbclassifier__gamma=0.1, xgbclassifier__learning_rate=0.01, xgbclassifier__max_depth=4, xgbclassifier__n_estimators=100;, score=0.687 total time=   0.2s\n",
            "[CV 3/5] END xgbclassifier__colsample_bytree=0.1, xgbclassifier__gamma=0.1, xgbclassifier__learning_rate=0.01, xgbclassifier__max_depth=4, xgbclassifier__n_estimators=100;, score=0.681 total time=   0.2s\n",
            "[CV 4/5] END xgbclassifier__colsample_bytree=0.1, xgbclassifier__gamma=0.1, xgbclassifier__learning_rate=0.01, xgbclassifier__max_depth=4, xgbclassifier__n_estimators=100;, score=0.714 total time=   0.2s\n",
            "[CV 5/5] END xgbclassifier__colsample_bytree=0.1, xgbclassifier__gamma=0.1, xgbclassifier__learning_rate=0.01, xgbclassifier__max_depth=4, xgbclassifier__n_estimators=100;, score=0.758 total time=   0.2s\n",
            "[CV 1/5] END xgbclassifier__colsample_bytree=0.2, xgbclassifier__gamma=0.2, xgbclassifier__learning_rate=0.2, xgbclassifier__max_depth=4, xgbclassifier__n_estimators=100;, score=0.835 total time=   0.2s\n",
            "[CV 2/5] END xgbclassifier__colsample_bytree=0.2, xgbclassifier__gamma=0.2, xgbclassifier__learning_rate=0.2, xgbclassifier__max_depth=4, xgbclassifier__n_estimators=100;, score=0.852 total time=   0.2s\n",
            "[CV 3/5] END xgbclassifier__colsample_bytree=0.2, xgbclassifier__gamma=0.2, xgbclassifier__learning_rate=0.2, xgbclassifier__max_depth=4, xgbclassifier__n_estimators=100;, score=0.835 total time=   0.2s\n",
            "[CV 4/5] END xgbclassifier__colsample_bytree=0.2, xgbclassifier__gamma=0.2, xgbclassifier__learning_rate=0.2, xgbclassifier__max_depth=4, xgbclassifier__n_estimators=100;, score=0.863 total time=   0.3s\n",
            "[CV 5/5] END xgbclassifier__colsample_bytree=0.2, xgbclassifier__gamma=0.2, xgbclassifier__learning_rate=0.2, xgbclassifier__max_depth=4, xgbclassifier__n_estimators=100;, score=0.857 total time=   0.2s\n",
            "[CV 1/5] END xgbclassifier__colsample_bytree=0.2, xgbclassifier__gamma=0.2, xgbclassifier__learning_rate=0.2, xgbclassifier__max_depth=3, xgbclassifier__n_estimators=200;, score=0.846 total time=   0.4s\n",
            "[CV 2/5] END xgbclassifier__colsample_bytree=0.2, xgbclassifier__gamma=0.2, xgbclassifier__learning_rate=0.2, xgbclassifier__max_depth=3, xgbclassifier__n_estimators=200;, score=0.841 total time=   0.4s\n",
            "[CV 3/5] END xgbclassifier__colsample_bytree=0.2, xgbclassifier__gamma=0.2, xgbclassifier__learning_rate=0.2, xgbclassifier__max_depth=3, xgbclassifier__n_estimators=200;, score=0.879 total time=   0.4s\n",
            "[CV 4/5] END xgbclassifier__colsample_bytree=0.2, xgbclassifier__gamma=0.2, xgbclassifier__learning_rate=0.2, xgbclassifier__max_depth=3, xgbclassifier__n_estimators=200;, score=0.901 total time=   0.4s\n",
            "[CV 5/5] END xgbclassifier__colsample_bytree=0.2, xgbclassifier__gamma=0.2, xgbclassifier__learning_rate=0.2, xgbclassifier__max_depth=3, xgbclassifier__n_estimators=200;, score=0.901 total time=   0.4s\n",
            "[CV 1/5] END xgbclassifier__colsample_bytree=0.2, xgbclassifier__gamma=0.1, xgbclassifier__learning_rate=0.1, xgbclassifier__max_depth=4, xgbclassifier__n_estimators=200;, score=0.824 total time=   0.5s\n",
            "[CV 2/5] END xgbclassifier__colsample_bytree=0.2, xgbclassifier__gamma=0.1, xgbclassifier__learning_rate=0.1, xgbclassifier__max_depth=4, xgbclassifier__n_estimators=200;, score=0.852 total time=   0.5s\n",
            "[CV 3/5] END xgbclassifier__colsample_bytree=0.2, xgbclassifier__gamma=0.1, xgbclassifier__learning_rate=0.1, xgbclassifier__max_depth=4, xgbclassifier__n_estimators=200;, score=0.841 total time=   0.5s\n",
            "[CV 4/5] END xgbclassifier__colsample_bytree=0.2, xgbclassifier__gamma=0.1, xgbclassifier__learning_rate=0.1, xgbclassifier__max_depth=4, xgbclassifier__n_estimators=200;, score=0.852 total time=   0.4s\n",
            "[CV 5/5] END xgbclassifier__colsample_bytree=0.2, xgbclassifier__gamma=0.1, xgbclassifier__learning_rate=0.1, xgbclassifier__max_depth=4, xgbclassifier__n_estimators=200;, score=0.874 total time=   0.4s\n",
            "[CV 1/5] END xgbclassifier__colsample_bytree=0.1, xgbclassifier__gamma=0.1, xgbclassifier__learning_rate=0.3, xgbclassifier__max_depth=3, xgbclassifier__n_estimators=150;, score=0.802 total time=   0.3s\n",
            "[CV 2/5] END xgbclassifier__colsample_bytree=0.1, xgbclassifier__gamma=0.1, xgbclassifier__learning_rate=0.3, xgbclassifier__max_depth=3, xgbclassifier__n_estimators=150;, score=0.813 total time=   0.2s\n",
            "[CV 3/5] END xgbclassifier__colsample_bytree=0.1, xgbclassifier__gamma=0.1, xgbclassifier__learning_rate=0.3, xgbclassifier__max_depth=3, xgbclassifier__n_estimators=150;, score=0.802 total time=   0.3s\n",
            "[CV 4/5] END xgbclassifier__colsample_bytree=0.1, xgbclassifier__gamma=0.1, xgbclassifier__learning_rate=0.3, xgbclassifier__max_depth=3, xgbclassifier__n_estimators=150;, score=0.841 total time=   0.2s\n",
            "[CV 5/5] END xgbclassifier__colsample_bytree=0.1, xgbclassifier__gamma=0.1, xgbclassifier__learning_rate=0.3, xgbclassifier__max_depth=3, xgbclassifier__n_estimators=150;, score=0.797 total time=   0.2s\n",
            "[CV 1/5] END xgbclassifier__colsample_bytree=0.2, xgbclassifier__gamma=0.0, xgbclassifier__learning_rate=0.3, xgbclassifier__max_depth=3, xgbclassifier__n_estimators=100;, score=0.841 total time=   0.2s\n",
            "[CV 2/5] END xgbclassifier__colsample_bytree=0.2, xgbclassifier__gamma=0.0, xgbclassifier__learning_rate=0.3, xgbclassifier__max_depth=3, xgbclassifier__n_estimators=100;, score=0.846 total time=   0.2s\n",
            "[CV 3/5] END xgbclassifier__colsample_bytree=0.2, xgbclassifier__gamma=0.0, xgbclassifier__learning_rate=0.3, xgbclassifier__max_depth=3, xgbclassifier__n_estimators=100;, score=0.874 total time=   0.2s\n",
            "[CV 4/5] END xgbclassifier__colsample_bytree=0.2, xgbclassifier__gamma=0.0, xgbclassifier__learning_rate=0.3, xgbclassifier__max_depth=3, xgbclassifier__n_estimators=100;, score=0.885 total time=   0.2s\n",
            "[CV 5/5] END xgbclassifier__colsample_bytree=0.2, xgbclassifier__gamma=0.0, xgbclassifier__learning_rate=0.3, xgbclassifier__max_depth=3, xgbclassifier__n_estimators=100;, score=0.863 total time=   0.2s\n",
            "[CV 1/5] END xgbclassifier__colsample_bytree=0.2, xgbclassifier__gamma=0.1, xgbclassifier__learning_rate=0.01, xgbclassifier__max_depth=4, xgbclassifier__n_estimators=50;, score=0.731 total time=   0.1s\n",
            "[CV 2/5] END xgbclassifier__colsample_bytree=0.2, xgbclassifier__gamma=0.1, xgbclassifier__learning_rate=0.01, xgbclassifier__max_depth=4, xgbclassifier__n_estimators=50;, score=0.764 total time=   0.1s\n",
            "[CV 3/5] END xgbclassifier__colsample_bytree=0.2, xgbclassifier__gamma=0.1, xgbclassifier__learning_rate=0.01, xgbclassifier__max_depth=4, xgbclassifier__n_estimators=50;, score=0.764 total time=   0.1s\n",
            "[CV 4/5] END xgbclassifier__colsample_bytree=0.2, xgbclassifier__gamma=0.1, xgbclassifier__learning_rate=0.01, xgbclassifier__max_depth=4, xgbclassifier__n_estimators=50;, score=0.786 total time=   0.1s\n",
            "[CV 5/5] END xgbclassifier__colsample_bytree=0.2, xgbclassifier__gamma=0.1, xgbclassifier__learning_rate=0.01, xgbclassifier__max_depth=4, xgbclassifier__n_estimators=50;, score=0.813 total time=   0.1s\n",
            "[CV 1/5] END xgbclassifier__colsample_bytree=0.1, xgbclassifier__gamma=0.1, xgbclassifier__learning_rate=0.1, xgbclassifier__max_depth=4, xgbclassifier__n_estimators=100;, score=0.709 total time=   0.2s\n",
            "[CV 2/5] END xgbclassifier__colsample_bytree=0.1, xgbclassifier__gamma=0.1, xgbclassifier__learning_rate=0.1, xgbclassifier__max_depth=4, xgbclassifier__n_estimators=100;, score=0.703 total time=   0.2s\n",
            "[CV 3/5] END xgbclassifier__colsample_bytree=0.1, xgbclassifier__gamma=0.1, xgbclassifier__learning_rate=0.1, xgbclassifier__max_depth=4, xgbclassifier__n_estimators=100;, score=0.764 total time=   0.2s\n",
            "[CV 4/5] END xgbclassifier__colsample_bytree=0.1, xgbclassifier__gamma=0.1, xgbclassifier__learning_rate=0.1, xgbclassifier__max_depth=4, xgbclassifier__n_estimators=100;, score=0.775 total time=   0.2s\n",
            "[CV 5/5] END xgbclassifier__colsample_bytree=0.1, xgbclassifier__gamma=0.1, xgbclassifier__learning_rate=0.1, xgbclassifier__max_depth=4, xgbclassifier__n_estimators=100;, score=0.758 total time=   0.2s\n",
            "[CV 1/5] END xgbclassifier__colsample_bytree=0.2, xgbclassifier__gamma=0.2, xgbclassifier__learning_rate=0.01, xgbclassifier__max_depth=4, xgbclassifier__n_estimators=50;, score=0.731 total time=   0.1s\n",
            "[CV 2/5] END xgbclassifier__colsample_bytree=0.2, xgbclassifier__gamma=0.2, xgbclassifier__learning_rate=0.01, xgbclassifier__max_depth=4, xgbclassifier__n_estimators=50;, score=0.764 total time=   0.2s\n",
            "[CV 3/5] END xgbclassifier__colsample_bytree=0.2, xgbclassifier__gamma=0.2, xgbclassifier__learning_rate=0.01, xgbclassifier__max_depth=4, xgbclassifier__n_estimators=50;, score=0.764 total time=   0.2s\n",
            "[CV 4/5] END xgbclassifier__colsample_bytree=0.2, xgbclassifier__gamma=0.2, xgbclassifier__learning_rate=0.01, xgbclassifier__max_depth=4, xgbclassifier__n_estimators=50;, score=0.786 total time=   0.1s\n",
            "[CV 5/5] END xgbclassifier__colsample_bytree=0.2, xgbclassifier__gamma=0.2, xgbclassifier__learning_rate=0.01, xgbclassifier__max_depth=4, xgbclassifier__n_estimators=50;, score=0.813 total time=   0.1s\n",
            "[CV 1/5] END xgbclassifier__colsample_bytree=0.2, xgbclassifier__gamma=0.1, xgbclassifier__learning_rate=0.1, xgbclassifier__max_depth=4, xgbclassifier__n_estimators=150;, score=0.830 total time=   0.3s\n",
            "[CV 2/5] END xgbclassifier__colsample_bytree=0.2, xgbclassifier__gamma=0.1, xgbclassifier__learning_rate=0.1, xgbclassifier__max_depth=4, xgbclassifier__n_estimators=150;, score=0.830 total time=   0.4s\n",
            "[CV 3/5] END xgbclassifier__colsample_bytree=0.2, xgbclassifier__gamma=0.1, xgbclassifier__learning_rate=0.1, xgbclassifier__max_depth=4, xgbclassifier__n_estimators=150;, score=0.830 total time=   0.3s\n",
            "[CV 4/5] END xgbclassifier__colsample_bytree=0.2, xgbclassifier__gamma=0.1, xgbclassifier__learning_rate=0.1, xgbclassifier__max_depth=4, xgbclassifier__n_estimators=150;, score=0.857 total time=   0.3s\n",
            "[CV 5/5] END xgbclassifier__colsample_bytree=0.2, xgbclassifier__gamma=0.1, xgbclassifier__learning_rate=0.1, xgbclassifier__max_depth=4, xgbclassifier__n_estimators=150;, score=0.852 total time=   0.4s\n"
          ],
          "name": "stdout"
        },
        {
          "output_type": "execute_result",
          "data": {
            "text/plain": [
              "RandomizedSearchCV(cv=KFold(n_splits=5, random_state=None, shuffle=True),\n",
              "                   estimator=Pipeline(steps=[('columntransformer',\n",
              "                                              ColumnTransformer(transformers=[('pipeline-1',\n",
              "                                                                               Pipeline(steps=[('standardscaler',\n",
              "                                                                                                StandardScaler())]),\n",
              "                                                                               <sklearn.compose._column_transformer.make_column_selector object at 0x7f08562def10>),\n",
              "                                                                              ('pipeline-2',\n",
              "                                                                               Pipeline(steps=[('onehotencoder',\n",
              "                                                                                                One...\n",
              "                                                                               <sklearn.compose._column_transformer.make_column_selector object at 0x7f08562dee10>)])),\n",
              "                                             ('xgbclassifier',\n",
              "                                              XGBClassifier())]),\n",
              "                   param_distributions={'xgbclassifier__colsample_bytree': [0.1,\n",
              "                                                                            0.2],\n",
              "                                        'xgbclassifier__gamma': [0.0, 0.1, 0.2],\n",
              "                                        'xgbclassifier__learning_rate': [0.01,\n",
              "                                                                         0.1,\n",
              "                                                                         0.2,\n",
              "                                                                         0.3],\n",
              "                                        'xgbclassifier__max_depth': range(3, 5),\n",
              "                                        'xgbclassifier__n_estimators': [50, 100,\n",
              "                                                                        150,\n",
              "                                                                        200]},\n",
              "                   scoring=make_scorer(f1_score, pos_label=yes, average=micro),\n",
              "                   verbose=3)"
            ]
          },
          "metadata": {
            "tags": []
          },
          "execution_count": 527
        }
      ]
    },
    {
      "cell_type": "code",
      "metadata": {
        "id": "WCQsQ6frO7TK",
        "colab": {
          "base_uri": "https://localhost:8080/"
        },
        "outputId": "774e7aa4-1cbc-468e-cb9f-9d6b1b0068f2"
      },
      "source": [
        "gs.best_estimator_"
      ],
      "execution_count": null,
      "outputs": [
        {
          "output_type": "execute_result",
          "data": {
            "text/plain": [
              "Pipeline(steps=[('columntransformer',\n",
              "                 ColumnTransformer(transformers=[('pipeline-1',\n",
              "                                                  Pipeline(steps=[('standardscaler',\n",
              "                                                                   StandardScaler())]),\n",
              "                                                  <sklearn.compose._column_transformer.make_column_selector object at 0x7f085678e190>),\n",
              "                                                 ('pipeline-2',\n",
              "                                                  Pipeline(steps=[('onehotencoder',\n",
              "                                                                   OneHotEncoder(drop='if_binary',\n",
              "                                                                                 sparse=False))]),\n",
              "                                                  <sklearn.compose._column_transformer.make_column_selector object at 0x7f085678e990>)])),\n",
              "                ('xgbclassifier',\n",
              "                 XGBClassifier(colsample_bytree=0.2, gamma=0.2,\n",
              "                               learning_rate=0.2, n_estimators=200,\n",
              "                               objective='multi:softprob'))])"
            ]
          },
          "metadata": {
            "tags": []
          },
          "execution_count": 528
        }
      ]
    },
    {
      "cell_type": "code",
      "metadata": {
        "id": "52_M4t9mO7TL",
        "colab": {
          "base_uri": "https://localhost:8080/"
        },
        "outputId": "b45a5836-75fa-49ca-9230-9863de380f6e"
      },
      "source": [
        "gs.best_params_"
      ],
      "execution_count": null,
      "outputs": [
        {
          "output_type": "execute_result",
          "data": {
            "text/plain": [
              "{'xgbclassifier__colsample_bytree': 0.2,\n",
              " 'xgbclassifier__gamma': 0.2,\n",
              " 'xgbclassifier__learning_rate': 0.2,\n",
              " 'xgbclassifier__max_depth': 3,\n",
              " 'xgbclassifier__n_estimators': 200}"
            ]
          },
          "metadata": {
            "tags": []
          },
          "execution_count": 529
        }
      ]
    },
    {
      "cell_type": "code",
      "metadata": {
        "id": "eAMItTJEdebh"
      },
      "source": [
        "std_classPred=df_mg.set_index(\"student_ID\").loc[std_d, :].drop(\"Act_score\", axis=1)"
      ],
      "execution_count": null,
      "outputs": []
    },
    {
      "cell_type": "code",
      "metadata": {
        "id": "k5I5DVSSO7TM"
      },
      "source": [
        "# gs.predict(X_test.loc[\"061108800\"])\n",
        "std_classPred[\"Predicted_class\"]= gs.predict(std_classPred)"
      ],
      "execution_count": null,
      "outputs": []
    },
    {
      "cell_type": "code",
      "metadata": {
        "id": "bRKsloF7O7TN"
      },
      "source": [
        "std_classPred=std_classPred[[\"Course_code\"\t, \"Activity_type\", \"Predicted_class\" ]]"
      ],
      "execution_count": null,
      "outputs": []
    },
    {
      "cell_type": "code",
      "metadata": {
        "id": "GNl60l11O7TN"
      },
      "source": [
        "std_classPred.to_csv(\"./Data/std_classPred.csv\" )"
      ],
      "execution_count": null,
      "outputs": []
    },
    {
      "cell_type": "code",
      "metadata": {
        "id": "jGIG1Z2CO7TT"
      },
      "source": [
        "X_test[\"predicted_Mark\"]=y_pred"
      ],
      "execution_count": null,
      "outputs": []
    },
    {
      "cell_type": "markdown",
      "metadata": {
        "id": "Z9gewdIt7G0R"
      },
      "source": [
        "# Old stuff"
      ]
    },
    {
      "cell_type": "markdown",
      "metadata": {
        "id": "QGo9gyGnQ2n1"
      },
      "source": [
        "## Export_graph_to_HTML"
      ]
    },
    {
      "cell_type": "code",
      "metadata": {
        "id": "Xvd5JyHumRPS"
      },
      "source": [
        "import plotly\n",
        "import plotly.graph_objs as go\n",
        "import pandas as pd\n",
        "df = pd.read_csv('https://raw.githubusercontent.com/pcm-dpc/COVID-19/master/dati-andamento-nazionale/dpc-covid19-ita-andamento-nazionale.csv')\n",
        "# Create a trace\n",
        "data = [go.Scatter(\n",
        "    x = df['data'],\n",
        "    y = df['totale_positivi'],\n",
        ")]\n",
        "layout = go.Layout(\n",
        "        xaxis=dict(\n",
        "            title='Data',    \n",
        "        ),\n",
        "        yaxis=dict(\n",
        "            title='Totale positivi',  \n",
        "        )\n",
        "    )\n",
        "fig = go.Figure(data=data, layout=layout)"
      ],
      "execution_count": null,
      "outputs": []
    },
    {
      "cell_type": "code",
      "metadata": {
        "id": "BRU-c4dnmSJ3"
      },
      "source": [
        "fig.show()"
      ],
      "execution_count": null,
      "outputs": []
    },
    {
      "cell_type": "code",
      "metadata": {
        "id": "lq2l3LmmqcuO"
      },
      "source": [
        "plotly.offline.plot(fig,filename='positives.html',config={'displayModeBar': False},auto_open = True)"
      ],
      "execution_count": null,
      "outputs": []
    },
    {
      "cell_type": "code",
      "metadata": {
        "id": "55nt3Bv7qzoF"
      },
      "source": [
        "#webbrowser.open('file://' + os.path.realpath(positives.html))\n",
        "\n",
        "with open('positives.html', 'r') as f:\n",
        "    html_string = f.read()"
      ],
      "execution_count": null,
      "outputs": []
    },
    {
      "cell_type": "markdown",
      "metadata": {
        "id": "qx_b8Wv5RClI"
      },
      "source": [
        "End of Try 1"
      ]
    },
    {
      "cell_type": "code",
      "metadata": {
        "id": "h-qTJ6bsuLiq"
      },
      "source": [
        ""
      ],
      "execution_count": null,
      "outputs": []
    },
    {
      "cell_type": "code",
      "metadata": {
        "id": "SRx6yYX6yNcK"
      },
      "source": [
        ""
      ],
      "execution_count": null,
      "outputs": []
    },
    {
      "cell_type": "code",
      "metadata": {
        "id": "xw2rIroDyNZE"
      },
      "source": [
        ""
      ],
      "execution_count": null,
      "outputs": []
    },
    {
      "cell_type": "code",
      "metadata": {
        "id": "mnidPTrMyNVM"
      },
      "source": [
        ""
      ],
      "execution_count": null,
      "outputs": []
    },
    {
      "cell_type": "markdown",
      "metadata": {
        "id": "77IZ4SCuRH_K"
      },
      "source": [
        "Try 2"
      ]
    },
    {
      "cell_type": "code",
      "metadata": {
        "id": "DQlJS59iyNSB"
      },
      "source": [
        "!pip install plotly\n",
        "!pip install chart_studio"
      ],
      "execution_count": null,
      "outputs": []
    },
    {
      "cell_type": "code",
      "metadata": {
        "id": "CtBmJ-uvyYpt"
      },
      "source": [
        "import plotly.express as px\n",
        "import chart_studio"
      ],
      "execution_count": null,
      "outputs": []
    },
    {
      "cell_type": "code",
      "metadata": {
        "id": "qjl5tgx-2NQd"
      },
      "source": [
        "gapminder = px.data.gapminder()\n",
        "gapminder"
      ],
      "execution_count": null,
      "outputs": []
    },
    {
      "cell_type": "code",
      "metadata": {
        "id": "ComkHHFVyNOI"
      },
      "source": [
        "gapminder = px.data.gapminder()\n",
        "fig = px.scatter(gapminder.query(\"year==2007\"), x=\"gdpPercap\", y=\"lifeExp\", size=\"pop\", color=\"continent\",\n",
        "           hover_name=\"country\", log_x=True, size_max=60)\n",
        "fig.show()"
      ],
      "execution_count": null,
      "outputs": []
    },
    {
      "cell_type": "code",
      "metadata": {
        "id": "arN111bmyO4x"
      },
      "source": [
        "username = 'Eng.aldoseri' # your username\n",
        "api_key = '7MU0wS3Gp1VOF6IqRFiw' # your api key - go to profile > settings > regenerate key\n",
        "chart_studio.tools.set_credentials_file(username=username, api_key=api_key)"
      ],
      "execution_count": null,
      "outputs": []
    },
    {
      "cell_type": "code",
      "metadata": {
        "id": "hmO9sGVD1hTO"
      },
      "source": [
        "import chart_studio.plotly as py\n",
        "py.plot(fig, filename = 'gdp_per_cap', auto_open=True)"
      ],
      "execution_count": null,
      "outputs": []
    },
    {
      "cell_type": "code",
      "metadata": {
        "id": "F5mDlrwl1l-S"
      },
      "source": [
        ""
      ],
      "execution_count": null,
      "outputs": []
    },
    {
      "cell_type": "code",
      "metadata": {
        "id": "gH7510n-2MQD"
      },
      "source": [
        ""
      ],
      "execution_count": null,
      "outputs": []
    },
    {
      "cell_type": "code",
      "metadata": {
        "id": "B61NBljf2NY0"
      },
      "source": [
        "####### implemented to our dataset"
      ],
      "execution_count": null,
      "outputs": []
    },
    {
      "cell_type": "code",
      "metadata": {
        "id": "FdtZdsbg2N5u"
      },
      "source": [
        "#gapminder = px.data.gapminder()\n",
        "fig = px.scatter(dt_st.query(\"student_ID=='080102434S'\"), x=\"Act_submit_Time\", y=\"Act_mark\",  color=\"Course_code\",size=\"Act_mark\",\n",
        "           hover_name=\"Act_mark\")\n",
        "fig.show()"
      ],
      "execution_count": null,
      "outputs": []
    },
    {
      "cell_type": "code",
      "metadata": {
        "id": "fC8TD9oSRxna"
      },
      "source": [
        "username = 'Eng.aldoseri' # your username\n",
        "api_key = '7MU0wS3Gp1VOF6IqRFiw' # your api key - go to profile > settings > regenerate key\n",
        "chart_studio.tools.set_credentials_file(username=username, api_key=api_key)"
      ],
      "execution_count": null,
      "outputs": []
    },
    {
      "cell_type": "code",
      "metadata": {
        "id": "PE6PKJ7hR01y"
      },
      "source": [
        "import chart_studio.plotly as py\n",
        "py.plot(fig, filename = 'gdp_per_cap', auto_open=True)"
      ],
      "execution_count": null,
      "outputs": []
    },
    {
      "cell_type": "markdown",
      "metadata": {
        "id": "qXE7hPBHR2ai"
      },
      "source": [
        "End of Try 2"
      ]
    },
    {
      "cell_type": "code",
      "metadata": {
        "id": "92lp5ijFEejo"
      },
      "source": [
        ""
      ],
      "execution_count": null,
      "outputs": []
    },
    {
      "cell_type": "code",
      "metadata": {
        "id": "MQm0vpXsTKp_"
      },
      "source": [
        ""
      ],
      "execution_count": null,
      "outputs": []
    },
    {
      "cell_type": "code",
      "metadata": {
        "id": "-jTRHdUCTKh0"
      },
      "source": [
        ""
      ],
      "execution_count": null,
      "outputs": []
    },
    {
      "cell_type": "code",
      "metadata": {
        "id": "TgxMNuzFTKdz"
      },
      "source": [
        ""
      ],
      "execution_count": null,
      "outputs": []
    },
    {
      "cell_type": "markdown",
      "metadata": {
        "id": "_8Fy_c-1TLTU"
      },
      "source": [
        "Try 3"
      ]
    },
    {
      "cell_type": "code",
      "metadata": {
        "id": "_9k-UqL_TN7N"
      },
      "source": [
        "import plotly.graph_objs as go\n",
        "import plotly as plotly\n",
        "import plotly.express as px"
      ],
      "execution_count": null,
      "outputs": []
    },
    {
      "cell_type": "code",
      "metadata": {
        "id": "j4Bt7GzdTOrG"
      },
      "source": [
        "data = px.data.gapminder()\n",
        "\n",
        "data_canada = data[data.country == 'Canada']\n",
        "fig = px.bar(data_canada, x='year', y='pop',\n",
        "             hover_data=['lifeExp', 'gdpPercap'], color='lifeExp',\n",
        "             labels={'pop':'population of Canada'}, height=400)"
      ],
      "execution_count": null,
      "outputs": []
    },
    {
      "cell_type": "code",
      "metadata": {
        "id": "vOuth41MTRpT"
      },
      "source": [
        "plotly.offline.plot(fig, filename= \"output_filename\" + \".html\")\n"
      ],
      "execution_count": null,
      "outputs": []
    },
    {
      "cell_type": "code",
      "metadata": {
        "id": "18JuJYa6TU4D"
      },
      "source": [
        ""
      ],
      "execution_count": null,
      "outputs": []
    },
    {
      "cell_type": "code",
      "metadata": {
        "id": "9EfW4DLcYDo7"
      },
      "source": [
        ""
      ],
      "execution_count": null,
      "outputs": []
    },
    {
      "cell_type": "code",
      "metadata": {
        "id": "K1bKOoahYDiW"
      },
      "source": [
        ""
      ],
      "execution_count": null,
      "outputs": []
    },
    {
      "cell_type": "code",
      "metadata": {
        "id": "Sva2QHKIYEvD"
      },
      "source": [
        ""
      ],
      "execution_count": null,
      "outputs": []
    },
    {
      "cell_type": "markdown",
      "metadata": {
        "id": "riEnovF6Zlby"
      },
      "source": [
        "## Graph all the students achievment in a specific subject"
      ]
    },
    {
      "cell_type": "code",
      "metadata": {
        "id": "sb-TQNS9zFAc"
      },
      "source": [
        "#  Create  the index\n",
        "# df_avt[\"Act_submit_Time\"]= pd.to_datetime(df_avt.Act_submit_Time)\n",
        "df_avt.index=df_avt[\"Act_submit_Time\"]\n",
        "df_avt.sample()"
      ],
      "execution_count": null,
      "outputs": []
    },
    {
      "cell_type": "code",
      "metadata": {
        "id": "CvhqA2fj799L"
      },
      "source": [
        "import plotly.graph_objs as go\n",
        "\n",
        "@interact(sbj=df_avt.Course_code.unique())\n",
        "def plot_subject(sbj):\n",
        "  plt.rcParams.update({'font.size': 25})\n",
        "  x = np.arange(10)\n",
        "  layout = go.Layout(\n",
        "    autosize=False,\n",
        "    width= 1200 , height= 600 )\n",
        "  fig=go.Figure(layout=layout)\n",
        "\n",
        "  fig.add_trace(go.Scatter(      \n",
        "      x=df_avt[(df_avt.Course_code==sbj)&(\n",
        "          df_avt.Activity_type==\"0\")].loc[\"2020-09\":\"2021-09\", \"Act_submit_Time\"].sort_index(), \n",
        "      y=df_avt[(df_avt.Course_code==sbj)&(\n",
        "          df_avt.Activity_type==\"0\")].loc[\"2020-09\":\"2021-09\", \"Act_mark\"].sort_index()\n",
        "      , mode='lines+markers', name=\"Quiz\"))\n",
        "\n",
        "  fig.add_trace(go.Scatter(\n",
        "      x=df_avt[(df_avt.Course_code==sbj)&(\n",
        "          df_avt.Activity_type==\"1\")].loc[\"2020-09\":\"2021-09\", \"Act_submit_Time\"].sort_index(), \n",
        "      y=df_avt[(df_avt.Course_code==sbj)&(\n",
        "          df_avt.Activity_type==\"1\")].loc[\"2020-09\":\"2021-09\", \"Act_mark\"].sort_index()\n",
        "     , mode='lines+markers' ,  name=\"Assignment\"))\n",
        "\n",
        "\n",
        "\n",
        "  \n",
        "  fig.update_layout(hovermode=\"x\" , \n",
        "      # title=\"أداء جميع الطلبة في مادة معينة\",\n",
        "    xaxis_title=\"Submit Time\",\n",
        "    yaxis_title=\"Mark\",\n",
        "    # font=dict(import plotly.graph_objs as go\n",
        "\n",
        "    #     family=\"Courier New, monospace\",\n",
        "    #     size=18,\n",
        "    #     color=\"#7f7f7f\")\n",
        "     title={\n",
        "        'text': \"أداء جميع الطلبة في مادة معينة\",\n",
        "        'y':0.9,\n",
        "        'x':0.5,\n",
        "        'xanchor': 'center',\n",
        "        'yanchor': 'top'}) \n",
        "  fig.show()\n"
      ],
      "execution_count": null,
      "outputs": []
    },
    {
      "cell_type": "markdown",
      "metadata": {
        "id": "38vV0zLxkgSz"
      },
      "source": [
        "## Compare the selected student's Quiz and Assignm. with Average of all students"
      ]
    },
    {
      "cell_type": "code",
      "metadata": {
        "id": "HVU60nESl4cH"
      },
      "source": [
        "df_ActAv=pd.pivot_table(df_avt, index=[\"Course_code\", \"Activity_type\", \"Activity_id\"], \n",
        "               values=[\"Act_diff\", \t\"Act_cp_count\", \t\"Act_time\" , \t\"Act_mark\"] , aggfunc=(\"mean\")).rename(\n",
        "   columns={\n",
        "    \"Act_diff\": \"Act_diff_avg\", \t\n",
        "    \"Act_cp_count\": \"Act_cp_avg\", \t\n",
        "    \"Act_time\" : \"Act_time_avg\" , \t\n",
        "    \"Act_mark\" : \"Act_mark_avg\" \n",
        "   } \n",
        ")"
      ],
      "execution_count": null,
      "outputs": []
    },
    {
      "cell_type": "code",
      "metadata": {
        "id": "bPqBYMoZFIHY"
      },
      "source": [
        "df_ActAv.head()"
      ],
      "execution_count": null,
      "outputs": []
    },
    {
      "cell_type": "code",
      "metadata": {
        "id": "JaQConHkrLZ2"
      },
      "source": [
        "df_ActAv.shape"
      ],
      "execution_count": null,
      "outputs": []
    },
    {
      "cell_type": "code",
      "metadata": {
        "id": "rgyE9emkgyDY"
      },
      "source": [
        "df_avt.loc[\"2020-09\"].head()"
      ],
      "execution_count": null,
      "outputs": []
    },
    {
      "cell_type": "code",
      "metadata": {
        "id": "7QUyR3Bj4xp5"
      },
      "source": [
        "df_avt.groupby([\"student_ID\", \"Activity_type\"]).agg(\"count\").max()"
      ],
      "execution_count": null,
      "outputs": []
    },
    {
      "cell_type": "code",
      "metadata": {
        "id": "cnbhHR126cEn"
      },
      "source": [
        "df_avt[df_avt.student_ID==\"080237875\"].loc[: ,[\"Course_code\", \"Activity_type\" , \"Activity_id\", \"Act_diff\", \t\"Act_cp_count\", \t\"Act_time\"\t,\"Act_mark\"]]"
      ],
      "execution_count": null,
      "outputs": []
    },
    {
      "cell_type": "code",
      "metadata": {
        "id": "1ttA46uHigbZ"
      },
      "source": [
        "df_plt=df_avt[df_avt.student_ID==\"100611764\"].loc[\"2020-4\":\"2021-2\" ,[\"Course_code\", \"Activity_type\" , \"Activity_id\", \"Act_diff\", \t\"Act_cp_count\", \t\"Act_time\"\t,\"Act_mark\"]]"
      ],
      "execution_count": null,
      "outputs": []
    },
    {
      "cell_type": "code",
      "metadata": {
        "id": "nw57VIPVYcWg"
      },
      "source": [
        "df_plt.groupby(\"Course_code\").Activity_id.agg(\"count\")"
      ],
      "execution_count": null,
      "outputs": []
    },
    {
      "cell_type": "code",
      "metadata": {
        "id": "jWCFQ0JQsVaA"
      },
      "source": [
        "df_plt.reset_index(inplace=True)"
      ],
      "execution_count": null,
      "outputs": []
    },
    {
      "cell_type": "code",
      "metadata": {
        "id": "9N6UkyhfiSdJ"
      },
      "source": [
        "df_plt=df_plt.merge( df_ActAv, on=[\"Activity_type\", \"Activity_id\" ])"
      ],
      "execution_count": null,
      "outputs": []
    },
    {
      "cell_type": "code",
      "metadata": {
        "id": "w8_8WpampUuy"
      },
      "source": [
        "df_plt.keys()"
      ],
      "execution_count": null,
      "outputs": []
    },
    {
      "cell_type": "code",
      "metadata": {
        "id": "Vpe522sppPKs"
      },
      "source": [
        "df_plt.set_index(\"Act_submit_Time\", inplace=True)"
      ],
      "execution_count": null,
      "outputs": []
    },
    {
      "cell_type": "code",
      "metadata": {
        "id": "nRUOMSNAr6E0"
      },
      "source": [
        "# this is dataset for a particular Student.\n",
        "df_plt.head()"
      ],
      "execution_count": null,
      "outputs": []
    },
    {
      "cell_type": "code",
      "metadata": {
        "id": "MIY4x-CcyJHn"
      },
      "source": [
        "df_plt[\"Activity_type\"]=df_plt.Activity_type.astype(int)  "
      ],
      "execution_count": null,
      "outputs": []
    },
    {
      "cell_type": "code",
      "metadata": {
        "id": "uvwt7ut-Husi"
      },
      "source": [
        "df_plt[df_plt.Activity_type==0][\"Act_mark\"]"
      ],
      "execution_count": null,
      "outputs": []
    },
    {
      "cell_type": "code",
      "metadata": {
        "id": "urTWLsB5ySr9"
      },
      "source": [
        "df_plt.info()"
      ],
      "execution_count": null,
      "outputs": []
    },
    {
      "cell_type": "code",
      "metadata": {
        "id": "t4WMII75PQu5"
      },
      "source": [
        "df_plt[df_plt.Activity_type==1][\"Act_mark\"]"
      ],
      "execution_count": null,
      "outputs": []
    },
    {
      "cell_type": "code",
      "metadata": {
        "id": "yKylbH4JgWHn"
      },
      "source": [
        "import matplotlib.pyplot as plt\n",
        "from matplotlib.dates import DateFormatter\n",
        "import seaborn as sns"
      ],
      "execution_count": null,
      "outputs": []
    },
    {
      "cell_type": "code",
      "metadata": {
        "id": "M-prVAb6VvY9"
      },
      "source": [
        "plt.rcParams.update({'font.size': 22})\n",
        "fig = plt.figure(figsize=(18,8))\n",
        "ax1 = fig.add_subplot(111)\n",
        "\n",
        "df_plt[df_plt.Activity_type==0][\"Act_mark\"].sort_index().plot( marker=\"o\" , color=\"blue\", label=\"Assignements Mark\", ax=ax1)\n",
        "ax2=ax1.twinx()\n",
        "df_plt[df_plt.Activity_type==0][\"Act_mark_avg\"].sort_index().plot( ax=ax2, marker=\"s\" , color=\"green\", label=\"Average Assignement Marks\" )\n",
        "\n",
        "#plt.legend()\n",
        "ax1.legend()\n",
        "ax2.legend(loc=\"lower right\")\n",
        "ax1.grid()\n",
        "ax2.set_ylabel(\"Assign. Avg. Mark\")\n",
        "ax1.set_ylabel(\"Assign. Mark\")\n",
        "\n",
        "\n",
        "\n",
        "\n",
        "ax1.set(xlabel=\"Dates\",\n",
        "        #ylabel=\"Quizzes Marks\",\n",
        "        title=\"Assign. Mark VS Assign. Avg Mark Timeline\"        )\n",
        "fig.autofmt_xdate(rotation=45)"
      ],
      "execution_count": null,
      "outputs": []
    },
    {
      "cell_type": "code",
      "metadata": {
        "id": "Yd1bmUf1HPwx"
      },
      "source": [
        "#####  TRY TO PLOT IT IN ATRACTIVE WAY"
      ],
      "execution_count": null,
      "outputs": []
    },
    {
      "cell_type": "code",
      "metadata": {
        "id": "OgYDu4wlHQM2"
      },
      "source": [
        "import plotly.graph_objs as go\n",
        "@interact(sbj=df_avt.Course_code.unique())\n",
        "def plot_subject(sbj):\n",
        "  plt.rcParams.update({'font.size': 25})\n",
        "  x = np.arange(10)\n",
        "  layout = go.Layout(\n",
        "    autosize=False,\n",
        "    width= 1200 , height= 600 )\n",
        "  fig=go.Figure(layout=layout)\n",
        "\n",
        "  fig.add_trace(go.Scatter(      \n",
        "      x=df_plt[(df_plt.Course_code==sbj)&(\n",
        "          df_plt.Activity_type==\"0\")].loc[\"2020-09\":\"2021-09\", \"Act_time\"].sort_index(), \n",
        "      y=df_plt[(df_plt.Course_code==sbj)&(\n",
        "          df_plt.Activity_type==\"0\")].loc[\"2020-09\":\"2021-09\", \"Act_mark\"].sort_index()\n",
        "      , mode='lines+markers', name=\"Quiz\"))\n",
        "\n",
        "\n",
        "\n",
        "  # fig.add_trace(go.Scatter(      \n",
        "  #     x=df_plt[(df_plt.Course_code==sbj)&(\n",
        "  #         df_plt.Activity_type==\"1\")].loc[\"2020-09\":\"2021-09\", \"Act_submit_Time\"].sort_index(), \n",
        "  #     y=df_plt[(df_plt.Course_code==sbj)&(\n",
        "  #         df_plt.Activity_type==\"1\")].loc[\"2020-09\":\"2021-09\", \"Act_mark\"].sort_index()\n",
        "  #     , mode='lines+markers', name=\"Assignment\"))\n",
        "\n",
        "\n",
        "\n",
        "\n",
        "  \n",
        "  fig.update_layout(hovermode=\"x\" , \n",
        "      # title=\"أداء جميع الطلبة في مادة معينة\",\n",
        "    xaxis_title=\"Submit Time\",\n",
        "    yaxis_title=\"Mark\",\n",
        "    # font=dict(\n",
        "    #     family=\"Courier New, monospace\",\n",
        "    #     size=18,\n",
        "    #     color=\"#7f7f7f\")\n",
        "     title={\n",
        "        'text': \"أداء جميع الطلبة في مادة معينة\",\n",
        "        'y':0.9,\n",
        "        'x':0.5,\n",
        "        'xanchor': 'center',\n",
        "        'yanchor': 'top'}) \n",
        "  fig.show()\n"
      ],
      "execution_count": null,
      "outputs": []
    },
    {
      "cell_type": "markdown",
      "metadata": {
        "id": "jBzyAOXftLVP"
      },
      "source": [
        "## Add radio button to the graph"
      ]
    },
    {
      "cell_type": "code",
      "metadata": {
        "id": "oDzn_7lYDYk9"
      },
      "source": [
        "###### try to add radio button"
      ],
      "execution_count": null,
      "outputs": []
    },
    {
      "cell_type": "code",
      "metadata": {
        "id": "XiS4qPzBklRi"
      },
      "source": [
        "std_d={}\n",
        "for st in  dt_st.student_ID.unique():\n",
        "  std_d[st]=dt_st[dt_st.student_ID==st][\"Course_code\"].unique()"
      ],
      "execution_count": null,
      "outputs": []
    },
    {
      "cell_type": "code",
      "metadata": {
        "id": "cj882ALHkYoo"
      },
      "source": [
        "from ipywidgets import interact, Dropdown, Checkbox\n",
        "\n",
        "stID = Dropdown(options = std_d.keys())\n",
        "course = Dropdown(options = std_d[stID.value]) # options = std_d[stID.value] is to remove inital error but not that necessary.\n",
        "box = Checkbox(False, description='Quizz/Assignment')\n",
        "\n",
        "\n",
        "@interact(st = stID, cs = course, chkbx= box)\n",
        "def print_cs(st, cs,chkbx ):\n",
        "    course.options = std_d[st] # Here is the trick, i.e. update course.options based on st, namely stID.value.\n",
        "    # print(st, cs)\n",
        "    dt_st.query(f\"Course_code=='{cs}' & student_ID=='{st}'\")"
      ],
      "execution_count": null,
      "outputs": []
    },
    {
      "cell_type": "code",
      "metadata": {
        "id": "55w1moH-PNAl"
      },
      "source": [
        "std=\"070327176S\"\n",
        "cs=\"g5_2\"\n",
        "st_type_0= dt_st.query(f\"student_ID=='{std}' & Course_code=='{cs}' & Activity_type=='0'\")\n",
        "st_type_1= dt_st.query(f\"student_ID=='{std}' & Course_code=='{cs}' & Activity_type=='1'\")\n",
        "\n",
        "\n",
        "\n",
        "\n",
        "#### to add radio button\n",
        "\n",
        "\n",
        "def f(actype):\n",
        "    control = actype\n",
        "    if control == 'Quiz': \n",
        "        data=st_type_0\n",
        "        #data.plot()\n",
        "        #plt.show()\n",
        "\n",
        "    elif control== 'Assignment':\n",
        "        data=st_type_1\n",
        "        #data.plot()\n",
        "        #plt.show() \n",
        "    return actype\n",
        "\n",
        "\n",
        "interact(f, actype = widgets.RadioButtons(\n",
        "options=['Quiz', 'Assignment'],\n",
        "description='Choose:',\n",
        "disabled=False))\n",
        "\n",
        "\n",
        "\n",
        "\n",
        "\n",
        "############ end of radio button \n",
        "\n",
        "dt_st.loc[\"Act_submit_Time\"]=dt_st[\"Act_submit_Time\"].astype(str)\n",
        "dt_tmp= dt_st.query(f\"student_ID=='{std}' & Course_code=='{cs}' \")[[\"Act_mark\", \"Activity_id\",\"Act_submit_Time\" ]]\n",
        "dt_tmp[\"Act_submit_Time\"]=pd.to_datetime(dt_tmp.Act_submit_Time, format=\"%Y-%m-%d\")\n",
        "dt_tmp.sort_values(by= \"Act_submit_Time\", inplace=True)\n",
        "# dt_tmp[\"Act_submit_Time\"]= dt_tmp.Act_submit_Time.astype(\"category\")\n",
        "\n",
        "\n",
        "# selected student activities\n",
        "dt_tmp"
      ],
      "execution_count": null,
      "outputs": []
    },
    {
      "cell_type": "code",
      "metadata": {
        "id": "qUHg3bxSPSej"
      },
      "source": [
        "# All Students having the same Activity as ABove\n",
        "df_stAct=pd.DataFrame()\n",
        "\n",
        "avt_type_0= df_avt.query(f\" Activity_id=='{std}' & Activity_type=='0'\")\n",
        "avt_type_1= df_avt.query(f\"Activity_id=='{std}' & Activity_type=='1'\")\n",
        "\n",
        "\n",
        "\n",
        "Mark_type= avt_type_1   if chk  else  avt_type_0\n",
        "Time_type= avt_type_1  if chk   else avt_type_0\n",
        "\n",
        "\n",
        "for col, time in zip(\n",
        "    dt_tmp[\"Activity_id\"],\n",
        "    dt_tmp.Act_submit_Time.unique()):\n",
        "  df_bx=pd.DataFrame()\n",
        "  df_bx=df_avt.query(f\"Activity_id== '{col}' ###### TYPE\")[[\"Activity_id\", \"Act_mark\"]]\n",
        "  df_bx[\"Act_submit_Time\"]= pd.to_datetime(time).strftime(\"%Y-%m-%d\")\n",
        "  df_stAct= pd.concat([\n",
        "                       df_stAct, df_bx\n",
        "  ])\n",
        "df_stAct.sort_values(by=\"Act_submit_Time\", inplace=True)\n",
        "df_stAct[\"Act_submit_Time\"]= df_stAct.Act_submit_Time.astype(\"category\")\n",
        "df_stAct"
      ],
      "execution_count": null,
      "outputs": []
    },
    {
      "cell_type": "code",
      "metadata": {
        "id": "e-9EDlAVPYDH"
      },
      "source": [
        "#Combine Graph\n",
        "import seaborn as sns \n",
        "import matplotlib.pyplot as plt\n",
        "\n",
        "fg, ax= plt.subplots( figsize=(20,8))\n",
        "\n",
        "\n",
        "sns.boxplot(x=\"Activity_id\" ,  y= \"Act_mark\", data=df_stAct , ax=ax ,width= 0.3)\n",
        "sns.lineplot(\n",
        "    x=\"Activity_id\",\n",
        "    y= \"Act_mark\", marker='o',\n",
        "    data=dt_tmp  , ax=ax )\n",
        "ax.set_xticklabels(dt_tmp.Act_submit_Time.unique())\n",
        "plt.title(\"Student's mark compared to other students\" , fontsize=20)\n",
        "plt.xlabel(\"Date\" , fontsize=20)\n",
        "plt.ylabel(\"Mark\" , fontsize=20)\n",
        "plt.xticks(rotation=45)\n",
        "plt.grid()\n",
        "plt.show()\n",
        "\n"
      ],
      "execution_count": null,
      "outputs": []
    }
  ]
}