{
 "cells": [
  {
   "cell_type": "code",
   "execution_count": null,
   "metadata": {},
   "outputs": [
    {
     "name": "stdout",
     "output_type": "stream",
     "text": [
      "Collecting pandas\n",
      "\u001b[?25l  Downloading https://files.pythonhosted.org/packages/e9/97/63740ed74af57e00f07fab6a9c6baa4a592d28d254c0f9877901ccb12d3d/pandas-1.0.3-cp38-cp38-macosx_10_9_x86_64.whl (10.2MB)\n",
      "\u001b[K     |████████████████████████████████| 10.2MB 3.7MB/s eta 0:00:01\n",
      "\u001b[?25hRequirement already satisfied: python-dateutil>=2.6.1 in /usr/local/Cellar/ipython/7.8.0/libexec/vendor/lib/python3.7/site-packages (from pandas) (2.8.0)\n",
      "Requirement already satisfied: numpy>=1.13.3 in /Users/medamin/Library/Python/3.8/lib/python/site-packages (from pandas) (1.18.2)\n",
      "Collecting pytz>=2017.2 (from pandas)\n"
     ]
    }
   ],
   "source": [
    "! pip3 install pandas \n"
   ]
  },
  {
   "cell_type": "code",
   "execution_count": 1,
   "metadata": {},
   "outputs": [
    {
     "ename": "ModuleNotFoundError",
     "evalue": "No module named 'pandas'",
     "output_type": "error",
     "traceback": [
      "\u001b[0;31m---------------------------------------------------------------------------\u001b[0m",
      "\u001b[0;31mModuleNotFoundError\u001b[0m                       Traceback (most recent call last)",
      "\u001b[0;32m<ipython-input-1-6bc7661f3e97>\u001b[0m in \u001b[0;36m<module>\u001b[0;34m\u001b[0m\n\u001b[0;32m----> 1\u001b[0;31m \u001b[0;32mimport\u001b[0m \u001b[0mpandas\u001b[0m \u001b[0;32mas\u001b[0m \u001b[0mpd\u001b[0m\u001b[0;34m\u001b[0m\u001b[0;34m\u001b[0m\u001b[0m\n\u001b[0m\u001b[1;32m      2\u001b[0m \u001b[0;32mimport\u001b[0m \u001b[0mnumpy\u001b[0m \u001b[0;32mas\u001b[0m \u001b[0mnp\u001b[0m\u001b[0;34m\u001b[0m\u001b[0;34m\u001b[0m\u001b[0m\n\u001b[1;32m      3\u001b[0m \u001b[0;32mfrom\u001b[0m \u001b[0msklearn\u001b[0m\u001b[0;34m.\u001b[0m\u001b[0mpreprocessing\u001b[0m \u001b[0;32mimport\u001b[0m \u001b[0mStandardScaler\u001b[0m\u001b[0;34m,\u001b[0m \u001b[0mOneHotEncoder\u001b[0m\u001b[0;34m,\u001b[0m \u001b[0mLabelEncoder\u001b[0m\u001b[0;34m\u001b[0m\u001b[0;34m\u001b[0m\u001b[0m\n",
      "\u001b[0;31mModuleNotFoundError\u001b[0m: No module named 'pandas'"
     ]
    }
   ],
   "source": [
    "import pandas as pd\n",
    "import numpy as np\n",
    "from sklearn.preprocessing import StandardScaler, OneHotEncoder, LabelEncoder"
   ]
  },
  {
   "cell_type": "code",
   "execution_count": 10,
   "metadata": {},
   "outputs": [],
   "source": [
    "df=pd.read_csv(\"data/GD_Part2_clean.csv\")"
   ]
  },
  {
   "cell_type": "code",
   "execution_count": 11,
   "metadata": {},
   "outputs": [],
   "source": [
    "# I will keep them both here\n",
    "# df=df[df.SUBM==\"Math\"] "
   ]
  },
  {
   "cell_type": "code",
   "execution_count": 12,
   "metadata": {},
   "outputs": [
    {
     "data": {
      "text/plain": [
       "Index(['Unnamed: 0', 'CPR_NO', 'SCH_NM', 'PROV_NM', 'SUBM', 'Teacher_Gender',\n",
       "       'ACHIEVEMENTS1', 'ACHIEVEMENTS2', 'MIDTERM1', 'MIDTERM2', 'FINAL1',\n",
       "       'FINAL2', 'TOTAL1', 'TOTAL2', 'D_MARK', 'NAT_MARK', 'GPA'],\n",
       "      dtype='object')"
      ]
     },
     "execution_count": 12,
     "metadata": {},
     "output_type": "execute_result"
    }
   ],
   "source": [
    "df.keys()"
   ]
  },
  {
   "cell_type": "code",
   "execution_count": 13,
   "metadata": {},
   "outputs": [],
   "source": [
    "df.drop(['TOTAL1','ACHIEVEMENTS2','MIDTERM2', 'FINAL2', 'TOTAL2', 'D_MARK', 'Unnamed: 0'], axis=1, inplace=True)"
   ]
  },
  {
   "cell_type": "code",
   "execution_count": 14,
   "metadata": {},
   "outputs": [],
   "source": [
    "df.set_index(\"CPR_NO\", inplace=True)"
   ]
  },
  {
   "cell_type": "code",
   "execution_count": 15,
   "metadata": {},
   "outputs": [],
   "source": [
    "df=df[[ 'NAT_MARK', 'GPA','SCH_NM', 'PROV_NM', 'SUBM', 'Teacher_Gender', 'ACHIEVEMENTS1',\n",
    "       'MIDTERM1', 'FINAL1']]"
   ]
  },
  {
   "cell_type": "code",
   "execution_count": 17,
   "metadata": {},
   "outputs": [],
   "source": [
    "label_encoder = LabelEncoder()\n",
    "\n",
    "for i in ['SCH_NM',  \"SUBM\"]:\n",
    "\n",
    "    df[i] = label_encoder.fit_transform(df[i])"
   ]
  },
  {
   "cell_type": "code",
   "execution_count": 19,
   "metadata": {},
   "outputs": [],
   "source": [
    "df.Teacher_Gender=((df.Teacher_Gender==\"M\")+0)"
   ]
  },
  {
   "cell_type": "code",
   "execution_count": 21,
   "metadata": {},
   "outputs": [
    {
     "data": {
      "text/plain": [
       "array([1, 0])"
      ]
     },
     "execution_count": 21,
     "metadata": {},
     "output_type": "execute_result"
    }
   ],
   "source": [
    "df.SUBM.unique()"
   ]
  },
  {
   "cell_type": "code",
   "execution_count": 22,
   "metadata": {},
   "outputs": [],
   "source": [
    "df= pd.get_dummies(df, columns=[\"SCH_NM\", \"PROV_NM\"])"
   ]
  },
  {
   "cell_type": "code",
   "execution_count": 23,
   "metadata": {},
   "outputs": [
    {
     "data": {
      "text/html": [
       "<div>\n",
       "<style scoped>\n",
       "    .dataframe tbody tr th:only-of-type {\n",
       "        vertical-align: middle;\n",
       "    }\n",
       "\n",
       "    .dataframe tbody tr th {\n",
       "        vertical-align: top;\n",
       "    }\n",
       "\n",
       "    .dataframe thead th {\n",
       "        text-align: right;\n",
       "    }\n",
       "</style>\n",
       "<table border=\"1\" class=\"dataframe\">\n",
       "  <thead>\n",
       "    <tr style=\"text-align: right;\">\n",
       "      <th></th>\n",
       "      <th>NAT_MARK</th>\n",
       "      <th>GPA</th>\n",
       "      <th>SUBM</th>\n",
       "      <th>Teacher_Gender</th>\n",
       "      <th>ACHIEVEMENTS1</th>\n",
       "      <th>MIDTERM1</th>\n",
       "      <th>FINAL1</th>\n",
       "      <th>SCH_NM_0</th>\n",
       "      <th>SCH_NM_1</th>\n",
       "      <th>SCH_NM_2</th>\n",
       "      <th>...</th>\n",
       "      <th>SCH_NM_93</th>\n",
       "      <th>SCH_NM_94</th>\n",
       "      <th>SCH_NM_95</th>\n",
       "      <th>SCH_NM_96</th>\n",
       "      <th>SCH_NM_97</th>\n",
       "      <th>SCH_NM_98</th>\n",
       "      <th>PROV_NM_Cap</th>\n",
       "      <th>PROV_NM_Muharaq</th>\n",
       "      <th>PROV_NM_North</th>\n",
       "      <th>PROV_NM_South</th>\n",
       "    </tr>\n",
       "    <tr>\n",
       "      <th>CPR_NO</th>\n",
       "      <th></th>\n",
       "      <th></th>\n",
       "      <th></th>\n",
       "      <th></th>\n",
       "      <th></th>\n",
       "      <th></th>\n",
       "      <th></th>\n",
       "      <th></th>\n",
       "      <th></th>\n",
       "      <th></th>\n",
       "      <th></th>\n",
       "      <th></th>\n",
       "      <th></th>\n",
       "      <th></th>\n",
       "      <th></th>\n",
       "      <th></th>\n",
       "      <th></th>\n",
       "      <th></th>\n",
       "      <th></th>\n",
       "      <th></th>\n",
       "      <th></th>\n",
       "    </tr>\n",
       "  </thead>\n",
       "  <tbody>\n",
       "    <tr>\n",
       "      <th>70913390</th>\n",
       "      <td>53.7</td>\n",
       "      <td>92.9</td>\n",
       "      <td>1</td>\n",
       "      <td>1</td>\n",
       "      <td>28.0</td>\n",
       "      <td>17.0</td>\n",
       "      <td>45.0</td>\n",
       "      <td>1</td>\n",
       "      <td>0</td>\n",
       "      <td>0</td>\n",
       "      <td>...</td>\n",
       "      <td>0</td>\n",
       "      <td>0</td>\n",
       "      <td>0</td>\n",
       "      <td>0</td>\n",
       "      <td>0</td>\n",
       "      <td>0</td>\n",
       "      <td>1</td>\n",
       "      <td>0</td>\n",
       "      <td>0</td>\n",
       "      <td>0</td>\n",
       "    </tr>\n",
       "    <tr>\n",
       "      <th>71105956</th>\n",
       "      <td>49.7</td>\n",
       "      <td>89.5</td>\n",
       "      <td>1</td>\n",
       "      <td>1</td>\n",
       "      <td>27.0</td>\n",
       "      <td>14.0</td>\n",
       "      <td>41.5</td>\n",
       "      <td>1</td>\n",
       "      <td>0</td>\n",
       "      <td>0</td>\n",
       "      <td>...</td>\n",
       "      <td>0</td>\n",
       "      <td>0</td>\n",
       "      <td>0</td>\n",
       "      <td>0</td>\n",
       "      <td>0</td>\n",
       "      <td>0</td>\n",
       "      <td>1</td>\n",
       "      <td>0</td>\n",
       "      <td>0</td>\n",
       "      <td>0</td>\n",
       "    </tr>\n",
       "    <tr>\n",
       "      <th>70712190</th>\n",
       "      <td>52.1</td>\n",
       "      <td>86.2</td>\n",
       "      <td>1</td>\n",
       "      <td>1</td>\n",
       "      <td>27.0</td>\n",
       "      <td>13.0</td>\n",
       "      <td>27.5</td>\n",
       "      <td>1</td>\n",
       "      <td>0</td>\n",
       "      <td>0</td>\n",
       "      <td>...</td>\n",
       "      <td>0</td>\n",
       "      <td>0</td>\n",
       "      <td>0</td>\n",
       "      <td>0</td>\n",
       "      <td>0</td>\n",
       "      <td>0</td>\n",
       "      <td>1</td>\n",
       "      <td>0</td>\n",
       "      <td>0</td>\n",
       "      <td>0</td>\n",
       "    </tr>\n",
       "    <tr>\n",
       "      <th>70207496</th>\n",
       "      <td>52.9</td>\n",
       "      <td>89.9</td>\n",
       "      <td>1</td>\n",
       "      <td>1</td>\n",
       "      <td>26.0</td>\n",
       "      <td>15.0</td>\n",
       "      <td>44.0</td>\n",
       "      <td>1</td>\n",
       "      <td>0</td>\n",
       "      <td>0</td>\n",
       "      <td>...</td>\n",
       "      <td>0</td>\n",
       "      <td>0</td>\n",
       "      <td>0</td>\n",
       "      <td>0</td>\n",
       "      <td>0</td>\n",
       "      <td>0</td>\n",
       "      <td>1</td>\n",
       "      <td>0</td>\n",
       "      <td>0</td>\n",
       "      <td>0</td>\n",
       "    </tr>\n",
       "    <tr>\n",
       "      <th>70507953</th>\n",
       "      <td>52.1</td>\n",
       "      <td>86.2</td>\n",
       "      <td>1</td>\n",
       "      <td>1</td>\n",
       "      <td>25.0</td>\n",
       "      <td>14.0</td>\n",
       "      <td>31.5</td>\n",
       "      <td>1</td>\n",
       "      <td>0</td>\n",
       "      <td>0</td>\n",
       "      <td>...</td>\n",
       "      <td>0</td>\n",
       "      <td>0</td>\n",
       "      <td>0</td>\n",
       "      <td>0</td>\n",
       "      <td>0</td>\n",
       "      <td>0</td>\n",
       "      <td>1</td>\n",
       "      <td>0</td>\n",
       "      <td>0</td>\n",
       "      <td>0</td>\n",
       "    </tr>\n",
       "  </tbody>\n",
       "</table>\n",
       "<p>5 rows × 110 columns</p>\n",
       "</div>"
      ],
      "text/plain": [
       "          NAT_MARK   GPA  SUBM  Teacher_Gender  ACHIEVEMENTS1  MIDTERM1  \\\n",
       "CPR_NO                                                                    \n",
       "70913390      53.7  92.9     1               1           28.0      17.0   \n",
       "71105956      49.7  89.5     1               1           27.0      14.0   \n",
       "70712190      52.1  86.2     1               1           27.0      13.0   \n",
       "70207496      52.9  89.9     1               1           26.0      15.0   \n",
       "70507953      52.1  86.2     1               1           25.0      14.0   \n",
       "\n",
       "          FINAL1  SCH_NM_0  SCH_NM_1  SCH_NM_2  ...  SCH_NM_93  SCH_NM_94  \\\n",
       "CPR_NO                                          ...                         \n",
       "70913390    45.0         1         0         0  ...          0          0   \n",
       "71105956    41.5         1         0         0  ...          0          0   \n",
       "70712190    27.5         1         0         0  ...          0          0   \n",
       "70207496    44.0         1         0         0  ...          0          0   \n",
       "70507953    31.5         1         0         0  ...          0          0   \n",
       "\n",
       "          SCH_NM_95  SCH_NM_96  SCH_NM_97  SCH_NM_98  PROV_NM_Cap  \\\n",
       "CPR_NO                                                              \n",
       "70913390          0          0          0          0            1   \n",
       "71105956          0          0          0          0            1   \n",
       "70712190          0          0          0          0            1   \n",
       "70207496          0          0          0          0            1   \n",
       "70507953          0          0          0          0            1   \n",
       "\n",
       "          PROV_NM_Muharaq  PROV_NM_North  PROV_NM_South  \n",
       "CPR_NO                                                   \n",
       "70913390                0              0              0  \n",
       "71105956                0              0              0  \n",
       "70712190                0              0              0  \n",
       "70207496                0              0              0  \n",
       "70507953                0              0              0  \n",
       "\n",
       "[5 rows x 110 columns]"
      ]
     },
     "execution_count": 23,
     "metadata": {},
     "output_type": "execute_result"
    }
   ],
   "source": [
    "# Already Done Above \n",
    "#df.insert(0, \"Nat_Class\" , df.pop(\"NAT_class\") )\n",
    "df.head()"
   ]
  },
  {
   "cell_type": "code",
   "execution_count": 24,
   "metadata": {},
   "outputs": [],
   "source": [
    "df.to_csv(\"data/aws_data_regression.csv\", header=False, index=False)"
   ]
  },
  {
   "cell_type": "code",
   "execution_count": 43,
   "metadata": {},
   "outputs": [
    {
     "name": "stdout",
     "output_type": "stream",
     "text": [
      "2020-02-17 10:50:29          0 cleaned-data/\r\n",
      "2020-02-23 12:16:37     134842 cleaned-data/bstdata.csv\r\n",
      "2020-02-17 10:51:48      78154 cleaned-data/df.csv\r\n",
      "2020-02-19 14:03:33     860430 cleaned-data/df_merged.csv\r\n",
      "2020-03-10 13:48:40    1063026 cleaned-data/encoded2016-10Mars.csv\r\n",
      "2020-02-18 10:05:40     112487 cleaned-data/gpa_df.csv\r\n",
      "2020-03-11 13:49:35      31976 cleaned-data/rawtest/test.csv\r\n",
      "2020-03-11 13:49:35     224762 cleaned-data/rawtrain/train.csv\r\n",
      "2020-03-11 13:49:35      64951 cleaned-data/rawvalidation/validation.csv\r\n",
      "2020-02-18 09:06:55       4018 sagemaker/DEMO-linear-mnist/output/linear-learner-2020-02-18-06-02-01-753/output/model.tar.gz\r\n",
      "2020-02-18 09:01:45  159200000 sagemaker/DEMO-linear-mnist/train/recordio-pb-data\r\n",
      "2020-04-15 09:17:33    5901140 sam1610\r\n",
      "2020-02-18 14:05:08          0 sam1610/\r\n",
      "2020-04-14 14:28:35    2742565 sam1610/aws_data.csv\r\n",
      "2020-02-18 17:29:22      17752 sam1610/model/xgboost-Students-v1-2020-02-18-14-25-40-858/output/model.tar.gz\r\n",
      "2020-03-09 21:19:13      17753 sam1610/model/xgboost-Students-v1-2020-03-09-18-16-13-213/output/model.tar.gz\r\n",
      "2020-04-13 13:02:30       3625 sam1610/output/linear-learner-2020-04-13-09-58-30-398/output/model.tar.gz\r\n",
      "2020-03-09 21:13:56      31346 sam1610/train.csv\r\n",
      "2020-04-13 11:45:52    4026960 sam1610/train/linear_train.data\r\n",
      "2020-03-09 21:13:56       3929 sam1610/validation.csv\r\n",
      "2020-04-13 11:45:53    1150492 sam1610/validation/linear_val.data\r\n",
      "2020-02-17 13:09:06          0 train/\r\n",
      "2020-02-18 11:05:15      31346 train/train.csv\r\n",
      "2020-02-17 13:04:03          0 validation/\r\n",
      "2020-02-18 11:05:15       3929 validation/validation.csv\r\n"
     ]
    }
   ],
   "source": [
    "! aws s3 ls s3://sec-students2016  --recursive"
   ]
  },
  {
   "cell_type": "code",
   "execution_count": 42,
   "metadata": {},
   "outputs": [
    {
     "name": "stdout",
     "output_type": "stream",
     "text": [
      "upload: data/aws_data_regression.csv to s3://sec-students2016/sam1610\n"
     ]
    }
   ],
   "source": [
    "! aws  s3  cp \"data/aws_data_regression.csv\"  s3://sec-students2016/sam1610"
   ]
  },
  {
   "cell_type": "code",
   "execution_count": 143,
   "metadata": {},
   "outputs": [],
   "source": [
    "# matrix=pd.read_csv(\"data/aws_data.csv\", dtype='float32').values"
   ]
  },
  {
   "cell_type": "code",
   "execution_count": null,
   "metadata": {},
   "outputs": [],
   "source": []
  },
  {
   "cell_type": "code",
   "execution_count": null,
   "metadata": {},
   "outputs": [],
   "source": []
  }
 ],
 "metadata": {
  "kernelspec": {
   "display_name": "Python 3",
   "language": "python",
   "name": "python3"
  },
  "language_info": {
   "codemirror_mode": {
    "name": "ipython",
    "version": 3
   },
   "file_extension": ".py",
   "mimetype": "text/x-python",
   "name": "python",
   "nbconvert_exporter": "python",
   "pygments_lexer": "ipython3",
   "version": "3.8.2"
  }
 },
 "nbformat": 4,
 "nbformat_minor": 2
}
