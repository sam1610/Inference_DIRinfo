{
  "nbformat": 4,
  "nbformat_minor": 0,
  "metadata": {
    "colab": {
      "name": "Copy of 7-7-21.ipynb",
      "provenance": [],
      "collapsed_sections": [
        "lT8hkF0GZmi0",
        "mODye3CkyDIh",
        "rxJumxSTO7S9",
        "f5tBct2XZDWe",
        "riEnovF6Zlby",
        "38vV0zLxkgSz",
        "0CXKXa9h8DwK",
        "QGo9gyGnQ2n1",
        "jBzyAOXftLVP",
        "MKZz_LpKteBw"
      ],
      "include_colab_link": true
    },
    "kernelspec": {
      "display_name": "Python 3",
      "name": "python3"
    },
    "language_info": {
      "name": "python"
    },
    "widgets": {
      "application/vnd.jupyter.widget-state+json": {
        "45ddacff80064ff5b44d73bc59533b58": {
          "model_module": "@jupyter-widgets/controls",
          "model_name": "VBoxModel",
          "state": {
            "_view_name": "VBoxView",
            "_dom_classes": [
              "widget-interact"
            ],
            "_model_name": "VBoxModel",
            "_view_module": "@jupyter-widgets/controls",
            "_model_module_version": "1.5.0",
            "_view_count": null,
            "_view_module_version": "1.5.0",
            "box_style": "",
            "layout": "IPY_MODEL_0c0b90620d044521a5c656b31bd15589",
            "_model_module": "@jupyter-widgets/controls",
            "children": [
              "IPY_MODEL_2c5ba70cbd7c4cc48919bcffd4cce8ca",
              "IPY_MODEL_04d3161c0fe84152a4f98ca4dd6e32e3",
              "IPY_MODEL_53185c3897ca483290b328ab63e72cce",
              "IPY_MODEL_31a46baaf9124352804e8e61d24d55c8",
              "IPY_MODEL_d8a6a246d07c4dc1857e941ae00be472"
            ]
          }
        },
        "0c0b90620d044521a5c656b31bd15589": {
          "model_module": "@jupyter-widgets/base",
          "model_name": "LayoutModel",
          "state": {
            "_view_name": "LayoutView",
            "grid_template_rows": null,
            "right": null,
            "justify_content": null,
            "_view_module": "@jupyter-widgets/base",
            "overflow": null,
            "_model_module_version": "1.2.0",
            "_view_count": null,
            "flex_flow": null,
            "width": null,
            "min_width": null,
            "border": null,
            "align_items": null,
            "bottom": null,
            "_model_module": "@jupyter-widgets/base",
            "top": null,
            "grid_column": null,
            "overflow_y": null,
            "overflow_x": null,
            "grid_auto_flow": null,
            "grid_area": null,
            "grid_template_columns": null,
            "flex": null,
            "_model_name": "LayoutModel",
            "justify_items": null,
            "grid_row": null,
            "max_height": null,
            "align_content": null,
            "visibility": null,
            "align_self": null,
            "height": null,
            "min_height": null,
            "padding": null,
            "grid_auto_rows": null,
            "grid_gap": null,
            "max_width": null,
            "order": null,
            "_view_module_version": "1.2.0",
            "grid_template_areas": null,
            "object_position": null,
            "object_fit": null,
            "grid_auto_columns": null,
            "margin": null,
            "display": null,
            "left": null
          }
        },
        "2c5ba70cbd7c4cc48919bcffd4cce8ca": {
          "model_module": "@jupyter-widgets/controls",
          "model_name": "DropdownModel",
          "state": {
            "_options_labels": [
              "080748524S",
              "090904691S",
              "060991839S",
              "071059051S",
              "071223506S"
            ],
            "_view_name": "DropdownView",
            "style": "IPY_MODEL_6eac060268644e1cb4ad9488dd698c32",
            "_dom_classes": [],
            "description": "st",
            "_model_name": "DropdownModel",
            "index": 0,
            "_view_module": "@jupyter-widgets/controls",
            "_model_module_version": "1.5.0",
            "_view_count": null,
            "disabled": false,
            "_view_module_version": "1.5.0",
            "description_tooltip": null,
            "_model_module": "@jupyter-widgets/controls",
            "layout": "IPY_MODEL_2f0a625b66694e6d9662ffa1543f4eeb"
          }
        },
        "04d3161c0fe84152a4f98ca4dd6e32e3": {
          "model_module": "@jupyter-widgets/controls",
          "model_name": "DropdownModel",
          "state": {
            "_options_labels": [
              "g5_3",
              "g5_2",
              "g5_1"
            ],
            "_view_name": "DropdownView",
            "style": "IPY_MODEL_6992d928534c42c59b81901696e5c603",
            "_dom_classes": [],
            "description": "cs",
            "_model_name": "DropdownModel",
            "index": 0,
            "_view_module": "@jupyter-widgets/controls",
            "_model_module_version": "1.5.0",
            "_view_count": null,
            "disabled": false,
            "_view_module_version": "1.5.0",
            "description_tooltip": null,
            "_model_module": "@jupyter-widgets/controls",
            "layout": "IPY_MODEL_ddeec05aedaa4769b2944c2653b3f5d3"
          }
        },
        "53185c3897ca483290b328ab63e72cce": {
          "model_module": "@jupyter-widgets/controls",
          "model_name": "DatePickerModel",
          "state": {
            "_view_name": "DatePickerView",
            "style": "IPY_MODEL_7e82e221e9fa4374971045d46fd5d0ef",
            "_dom_classes": [],
            "description": "Pick a start date",
            "_model_name": "DatePickerModel",
            "_view_module": "@jupyter-widgets/controls",
            "_model_module_version": "1.5.0",
            "value": {
              "date": 8,
              "month": 7,
              "year": 2021
            },
            "_view_count": null,
            "disabled": false,
            "_view_module_version": "1.5.0",
            "description_tooltip": null,
            "_model_module": "@jupyter-widgets/controls",
            "layout": "IPY_MODEL_051e7d62896943e2926a0110336a4a5b"
          }
        },
        "31a46baaf9124352804e8e61d24d55c8": {
          "model_module": "@jupyter-widgets/controls",
          "model_name": "CheckboxModel",
          "state": {
            "_view_name": "CheckboxView",
            "style": "IPY_MODEL_846c075983ce4d40ae2d1dc4517153e4",
            "_dom_classes": [],
            "description": "Quizz",
            "_model_name": "CheckboxModel",
            "_view_module": "@jupyter-widgets/controls",
            "_model_module_version": "1.5.0",
            "value": false,
            "_view_count": null,
            "disabled": false,
            "_view_module_version": "1.5.0",
            "indent": true,
            "description_tooltip": null,
            "_model_module": "@jupyter-widgets/controls",
            "layout": "IPY_MODEL_3a4fb7a869d3411ab98bab3fd4edfac4"
          }
        },
        "d8a6a246d07c4dc1857e941ae00be472": {
          "model_module": "@jupyter-widgets/output",
          "model_name": "OutputModel",
          "state": {
            "_view_name": "OutputView",
            "msg_id": "",
            "_dom_classes": [],
            "_model_name": "OutputModel",
            "outputs": [],
            "_view_module": "@jupyter-widgets/output",
            "_model_module_version": "1.0.0",
            "_view_count": null,
            "_view_module_version": "1.0.0",
            "layout": "IPY_MODEL_f1cbc0b4e76945f3906d20de263afb66",
            "_model_module": "@jupyter-widgets/output"
          }
        },
        "6eac060268644e1cb4ad9488dd698c32": {
          "model_module": "@jupyter-widgets/controls",
          "model_name": "DescriptionStyleModel",
          "state": {
            "_view_name": "StyleView",
            "_model_name": "DescriptionStyleModel",
            "description_width": "",
            "_view_module": "@jupyter-widgets/base",
            "_model_module_version": "1.5.0",
            "_view_count": null,
            "_view_module_version": "1.2.0",
            "_model_module": "@jupyter-widgets/controls"
          }
        },
        "2f0a625b66694e6d9662ffa1543f4eeb": {
          "model_module": "@jupyter-widgets/base",
          "model_name": "LayoutModel",
          "state": {
            "_view_name": "LayoutView",
            "grid_template_rows": null,
            "right": null,
            "justify_content": null,
            "_view_module": "@jupyter-widgets/base",
            "overflow": null,
            "_model_module_version": "1.2.0",
            "_view_count": null,
            "flex_flow": null,
            "width": null,
            "min_width": null,
            "border": null,
            "align_items": null,
            "bottom": null,
            "_model_module": "@jupyter-widgets/base",
            "top": null,
            "grid_column": null,
            "overflow_y": null,
            "overflow_x": null,
            "grid_auto_flow": null,
            "grid_area": null,
            "grid_template_columns": null,
            "flex": null,
            "_model_name": "LayoutModel",
            "justify_items": null,
            "grid_row": null,
            "max_height": null,
            "align_content": null,
            "visibility": null,
            "align_self": null,
            "height": null,
            "min_height": null,
            "padding": null,
            "grid_auto_rows": null,
            "grid_gap": null,
            "max_width": null,
            "order": null,
            "_view_module_version": "1.2.0",
            "grid_template_areas": null,
            "object_position": null,
            "object_fit": null,
            "grid_auto_columns": null,
            "margin": null,
            "display": null,
            "left": null
          }
        },
        "6992d928534c42c59b81901696e5c603": {
          "model_module": "@jupyter-widgets/controls",
          "model_name": "DescriptionStyleModel",
          "state": {
            "_view_name": "StyleView",
            "_model_name": "DescriptionStyleModel",
            "description_width": "",
            "_view_module": "@jupyter-widgets/base",
            "_model_module_version": "1.5.0",
            "_view_count": null,
            "_view_module_version": "1.2.0",
            "_model_module": "@jupyter-widgets/controls"
          }
        },
        "ddeec05aedaa4769b2944c2653b3f5d3": {
          "model_module": "@jupyter-widgets/base",
          "model_name": "LayoutModel",
          "state": {
            "_view_name": "LayoutView",
            "grid_template_rows": null,
            "right": null,
            "justify_content": null,
            "_view_module": "@jupyter-widgets/base",
            "overflow": null,
            "_model_module_version": "1.2.0",
            "_view_count": null,
            "flex_flow": null,
            "width": null,
            "min_width": null,
            "border": null,
            "align_items": null,
            "bottom": null,
            "_model_module": "@jupyter-widgets/base",
            "top": null,
            "grid_column": null,
            "overflow_y": null,
            "overflow_x": null,
            "grid_auto_flow": null,
            "grid_area": null,
            "grid_template_columns": null,
            "flex": null,
            "_model_name": "LayoutModel",
            "justify_items": null,
            "grid_row": null,
            "max_height": null,
            "align_content": null,
            "visibility": null,
            "align_self": null,
            "height": null,
            "min_height": null,
            "padding": null,
            "grid_auto_rows": null,
            "grid_gap": null,
            "max_width": null,
            "order": null,
            "_view_module_version": "1.2.0",
            "grid_template_areas": null,
            "object_position": null,
            "object_fit": null,
            "grid_auto_columns": null,
            "margin": null,
            "display": null,
            "left": null
          }
        },
        "7e82e221e9fa4374971045d46fd5d0ef": {
          "model_module": "@jupyter-widgets/controls",
          "model_name": "DescriptionStyleModel",
          "state": {
            "_view_name": "StyleView",
            "_model_name": "DescriptionStyleModel",
            "description_width": "",
            "_view_module": "@jupyter-widgets/base",
            "_model_module_version": "1.5.0",
            "_view_count": null,
            "_view_module_version": "1.2.0",
            "_model_module": "@jupyter-widgets/controls"
          }
        },
        "051e7d62896943e2926a0110336a4a5b": {
          "model_module": "@jupyter-widgets/base",
          "model_name": "LayoutModel",
          "state": {
            "_view_name": "LayoutView",
            "grid_template_rows": null,
            "right": null,
            "justify_content": null,
            "_view_module": "@jupyter-widgets/base",
            "overflow": null,
            "_model_module_version": "1.2.0",
            "_view_count": null,
            "flex_flow": null,
            "width": null,
            "min_width": null,
            "border": null,
            "align_items": null,
            "bottom": null,
            "_model_module": "@jupyter-widgets/base",
            "top": null,
            "grid_column": null,
            "overflow_y": null,
            "overflow_x": null,
            "grid_auto_flow": null,
            "grid_area": null,
            "grid_template_columns": null,
            "flex": null,
            "_model_name": "LayoutModel",
            "justify_items": null,
            "grid_row": null,
            "max_height": null,
            "align_content": null,
            "visibility": null,
            "align_self": null,
            "height": null,
            "min_height": null,
            "padding": null,
            "grid_auto_rows": null,
            "grid_gap": null,
            "max_width": null,
            "order": null,
            "_view_module_version": "1.2.0",
            "grid_template_areas": null,
            "object_position": null,
            "object_fit": null,
            "grid_auto_columns": null,
            "margin": null,
            "display": null,
            "left": null
          }
        },
        "846c075983ce4d40ae2d1dc4517153e4": {
          "model_module": "@jupyter-widgets/controls",
          "model_name": "DescriptionStyleModel",
          "state": {
            "_view_name": "StyleView",
            "_model_name": "DescriptionStyleModel",
            "description_width": "",
            "_view_module": "@jupyter-widgets/base",
            "_model_module_version": "1.5.0",
            "_view_count": null,
            "_view_module_version": "1.2.0",
            "_model_module": "@jupyter-widgets/controls"
          }
        },
        "3a4fb7a869d3411ab98bab3fd4edfac4": {
          "model_module": "@jupyter-widgets/base",
          "model_name": "LayoutModel",
          "state": {
            "_view_name": "LayoutView",
            "grid_template_rows": null,
            "right": null,
            "justify_content": null,
            "_view_module": "@jupyter-widgets/base",
            "overflow": null,
            "_model_module_version": "1.2.0",
            "_view_count": null,
            "flex_flow": null,
            "width": null,
            "min_width": null,
            "border": null,
            "align_items": null,
            "bottom": null,
            "_model_module": "@jupyter-widgets/base",
            "top": null,
            "grid_column": null,
            "overflow_y": null,
            "overflow_x": null,
            "grid_auto_flow": null,
            "grid_area": null,
            "grid_template_columns": null,
            "flex": null,
            "_model_name": "LayoutModel",
            "justify_items": null,
            "grid_row": null,
            "max_height": null,
            "align_content": null,
            "visibility": null,
            "align_self": null,
            "height": null,
            "min_height": null,
            "padding": null,
            "grid_auto_rows": null,
            "grid_gap": null,
            "max_width": null,
            "order": null,
            "_view_module_version": "1.2.0",
            "grid_template_areas": null,
            "object_position": null,
            "object_fit": null,
            "grid_auto_columns": null,
            "margin": null,
            "display": null,
            "left": null
          }
        },
        "f1cbc0b4e76945f3906d20de263afb66": {
          "model_module": "@jupyter-widgets/base",
          "model_name": "LayoutModel",
          "state": {
            "_view_name": "LayoutView",
            "grid_template_rows": null,
            "right": null,
            "justify_content": null,
            "_view_module": "@jupyter-widgets/base",
            "overflow": null,
            "_model_module_version": "1.2.0",
            "_view_count": null,
            "flex_flow": null,
            "width": null,
            "min_width": null,
            "border": null,
            "align_items": null,
            "bottom": null,
            "_model_module": "@jupyter-widgets/base",
            "top": null,
            "grid_column": null,
            "overflow_y": null,
            "overflow_x": null,
            "grid_auto_flow": null,
            "grid_area": null,
            "grid_template_columns": null,
            "flex": null,
            "_model_name": "LayoutModel",
            "justify_items": null,
            "grid_row": null,
            "max_height": null,
            "align_content": null,
            "visibility": null,
            "align_self": null,
            "height": null,
            "min_height": null,
            "padding": null,
            "grid_auto_rows": null,
            "grid_gap": null,
            "max_width": null,
            "order": null,
            "_view_module_version": "1.2.0",
            "grid_template_areas": null,
            "object_position": null,
            "object_fit": null,
            "grid_auto_columns": null,
            "margin": null,
            "display": null,
            "left": null
          }
        },
        "46380afafd184bd1bdb6c546e13122ed": {
          "model_module": "@jupyter-widgets/controls",
          "model_name": "VBoxModel",
          "state": {
            "_view_name": "VBoxView",
            "_dom_classes": [
              "widget-interact"
            ],
            "_model_name": "VBoxModel",
            "_view_module": "@jupyter-widgets/controls",
            "_model_module_version": "1.5.0",
            "_view_count": null,
            "_view_module_version": "1.5.0",
            "box_style": "",
            "layout": "IPY_MODEL_3beee7f1545248f885c5765cec29dbf9",
            "_model_module": "@jupyter-widgets/controls",
            "children": [
              "IPY_MODEL_2da8bd9d048c4d31b0be6057c169ff9a",
              "IPY_MODEL_8c1f47ab11bc42eab34316dc35e7d65a",
              "IPY_MODEL_89ce8e0bd53645f7b3018b6a237b3530",
              "IPY_MODEL_f61a3cd6be7345d9b184f571877d6269",
              "IPY_MODEL_e6160230c15b477da8e9e9bb58bee5ea"
            ]
          }
        },
        "3beee7f1545248f885c5765cec29dbf9": {
          "model_module": "@jupyter-widgets/base",
          "model_name": "LayoutModel",
          "state": {
            "_view_name": "LayoutView",
            "grid_template_rows": null,
            "right": null,
            "justify_content": null,
            "_view_module": "@jupyter-widgets/base",
            "overflow": null,
            "_model_module_version": "1.2.0",
            "_view_count": null,
            "flex_flow": null,
            "width": null,
            "min_width": null,
            "border": null,
            "align_items": null,
            "bottom": null,
            "_model_module": "@jupyter-widgets/base",
            "top": null,
            "grid_column": null,
            "overflow_y": null,
            "overflow_x": null,
            "grid_auto_flow": null,
            "grid_area": null,
            "grid_template_columns": null,
            "flex": null,
            "_model_name": "LayoutModel",
            "justify_items": null,
            "grid_row": null,
            "max_height": null,
            "align_content": null,
            "visibility": null,
            "align_self": null,
            "height": null,
            "min_height": null,
            "padding": null,
            "grid_auto_rows": null,
            "grid_gap": null,
            "max_width": null,
            "order": null,
            "_view_module_version": "1.2.0",
            "grid_template_areas": null,
            "object_position": null,
            "object_fit": null,
            "grid_auto_columns": null,
            "margin": null,
            "display": null,
            "left": null
          }
        },
        "8c1f47ab11bc42eab34316dc35e7d65a": {
          "model_module": "@jupyter-widgets/controls",
          "model_name": "TextModel",
          "state": {
            "_view_name": "TextView",
            "style": "IPY_MODEL_92766aa4d5a642bd93acd69a91d16a7f",
            "_dom_classes": [],
            "description": "cs",
            "_model_name": "TextModel",
            "placeholder": "​",
            "_view_module": "@jupyter-widgets/controls",
            "_model_module_version": "1.5.0",
            "value": "g5_1",
            "_view_count": null,
            "disabled": false,
            "_view_module_version": "1.5.0",
            "continuous_update": true,
            "description_tooltip": null,
            "_model_module": "@jupyter-widgets/controls",
            "layout": "IPY_MODEL_31d7986966b841ffab2dc8f69aba3994"
          }
        },
        "e6160230c15b477da8e9e9bb58bee5ea": {
          "model_module": "@jupyter-widgets/output",
          "model_name": "OutputModel",
          "state": {
            "_view_name": "OutputView",
            "msg_id": "",
            "_dom_classes": [],
            "_model_name": "OutputModel",
            "outputs": [
              {
                "output_type": "stream",
                "metadata": {
                  "tags": []
                },
                "text": " No records Available\n",
                "stream": "stdout"
              }
            ],
            "_view_module": "@jupyter-widgets/output",
            "_model_module_version": "1.0.0",
            "_view_count": null,
            "_view_module_version": "1.0.0",
            "layout": "IPY_MODEL_5ef4d1d7aa7b4070a0873d43d3af7694",
            "_model_module": "@jupyter-widgets/output"
          }
        },
        "92766aa4d5a642bd93acd69a91d16a7f": {
          "model_module": "@jupyter-widgets/controls",
          "model_name": "DescriptionStyleModel",
          "state": {
            "_view_name": "StyleView",
            "_model_name": "DescriptionStyleModel",
            "description_width": "",
            "_view_module": "@jupyter-widgets/base",
            "_model_module_version": "1.5.0",
            "_view_count": null,
            "_view_module_version": "1.2.0",
            "_model_module": "@jupyter-widgets/controls"
          }
        },
        "31d7986966b841ffab2dc8f69aba3994": {
          "model_module": "@jupyter-widgets/base",
          "model_name": "LayoutModel",
          "state": {
            "_view_name": "LayoutView",
            "grid_template_rows": null,
            "right": null,
            "justify_content": null,
            "_view_module": "@jupyter-widgets/base",
            "overflow": null,
            "_model_module_version": "1.2.0",
            "_view_count": null,
            "flex_flow": null,
            "width": null,
            "min_width": null,
            "border": null,
            "align_items": null,
            "bottom": null,
            "_model_module": "@jupyter-widgets/base",
            "top": null,
            "grid_column": null,
            "overflow_y": null,
            "overflow_x": null,
            "grid_auto_flow": null,
            "grid_area": null,
            "grid_template_columns": null,
            "flex": null,
            "_model_name": "LayoutModel",
            "justify_items": null,
            "grid_row": null,
            "max_height": null,
            "align_content": null,
            "visibility": null,
            "align_self": null,
            "height": null,
            "min_height": null,
            "padding": null,
            "grid_auto_rows": null,
            "grid_gap": null,
            "max_width": null,
            "order": null,
            "_view_module_version": "1.2.0",
            "grid_template_areas": null,
            "object_position": null,
            "object_fit": null,
            "grid_auto_columns": null,
            "margin": null,
            "display": null,
            "left": null
          }
        },
        "82c97f59b00d4824be8c779587fde0d0": {
          "model_module": "@jupyter-widgets/controls",
          "model_name": "VBoxModel",
          "state": {
            "_view_name": "VBoxView",
            "_dom_classes": [
              "widget-interact"
            ],
            "_model_name": "VBoxModel",
            "_view_module": "@jupyter-widgets/controls",
            "_model_module_version": "1.5.0",
            "_view_count": null,
            "_view_module_version": "1.5.0",
            "box_style": "",
            "layout": "IPY_MODEL_3e1655981ddc4b3bab5f724646ee689c",
            "_model_module": "@jupyter-widgets/controls",
            "children": [
              "IPY_MODEL_2c5ba70cbd7c4cc48919bcffd4cce8ca",
              "IPY_MODEL_04d3161c0fe84152a4f98ca4dd6e32e3",
              "IPY_MODEL_1af83d0088b442709e6511122f813849",
              "IPY_MODEL_31a46baaf9124352804e8e61d24d55c8",
              "IPY_MODEL_7fa7a26079bf46e8a5e6b16d8bcd7e96"
            ]
          }
        },
        "3e1655981ddc4b3bab5f724646ee689c": {
          "model_module": "@jupyter-widgets/base",
          "model_name": "LayoutModel",
          "state": {
            "_view_name": "LayoutView",
            "grid_template_rows": null,
            "right": null,
            "justify_content": null,
            "_view_module": "@jupyter-widgets/base",
            "overflow": null,
            "_model_module_version": "1.2.0",
            "_view_count": null,
            "flex_flow": null,
            "width": null,
            "min_width": null,
            "border": null,
            "align_items": null,
            "bottom": null,
            "_model_module": "@jupyter-widgets/base",
            "top": null,
            "grid_column": null,
            "overflow_y": null,
            "overflow_x": null,
            "grid_auto_flow": null,
            "grid_area": null,
            "grid_template_columns": null,
            "flex": null,
            "_model_name": "LayoutModel",
            "justify_items": null,
            "grid_row": null,
            "max_height": null,
            "align_content": null,
            "visibility": null,
            "align_self": null,
            "height": null,
            "min_height": null,
            "padding": null,
            "grid_auto_rows": null,
            "grid_gap": null,
            "max_width": null,
            "order": null,
            "_view_module_version": "1.2.0",
            "grid_template_areas": null,
            "object_position": null,
            "object_fit": null,
            "grid_auto_columns": null,
            "margin": null,
            "display": null,
            "left": null
          }
        },
        "1af83d0088b442709e6511122f813849": {
          "model_module": "@jupyter-widgets/controls",
          "model_name": "DatePickerModel",
          "state": {
            "_view_name": "DatePickerView",
            "style": "IPY_MODEL_85427d7c04d54d9a8a5bca7af0d30232",
            "_dom_classes": [],
            "description": "Pick a start date",
            "_model_name": "DatePickerModel",
            "_view_module": "@jupyter-widgets/controls",
            "_model_module_version": "1.5.0",
            "value": {
              "date": 27,
              "month": 6,
              "year": 2021
            },
            "_view_count": null,
            "disabled": false,
            "_view_module_version": "1.5.0",
            "description_tooltip": null,
            "_model_module": "@jupyter-widgets/controls",
            "layout": "IPY_MODEL_bcf5d7298950457cb44094473e818c48"
          }
        },
        "7fa7a26079bf46e8a5e6b16d8bcd7e96": {
          "model_module": "@jupyter-widgets/output",
          "model_name": "OutputModel",
          "state": {
            "_view_name": "OutputView",
            "msg_id": "",
            "_dom_classes": [],
            "_model_name": "OutputModel",
            "outputs": [
              {
                "output_type": "stream",
                "metadata": {
                  "tags": []
                },
                "text": "  No records Available\n",
                "stream": "stdout"
              }
            ],
            "_view_module": "@jupyter-widgets/output",
            "_model_module_version": "1.0.0",
            "_view_count": null,
            "_view_module_version": "1.0.0",
            "layout": "IPY_MODEL_a4abe84d58114bfbbe0bc86357eeb68d",
            "_model_module": "@jupyter-widgets/output"
          }
        },
        "85427d7c04d54d9a8a5bca7af0d30232": {
          "model_module": "@jupyter-widgets/controls",
          "model_name": "DescriptionStyleModel",
          "state": {
            "_view_name": "StyleView",
            "_model_name": "DescriptionStyleModel",
            "description_width": "",
            "_view_module": "@jupyter-widgets/base",
            "_model_module_version": "1.5.0",
            "_view_count": null,
            "_view_module_version": "1.2.0",
            "_model_module": "@jupyter-widgets/controls"
          }
        },
        "bcf5d7298950457cb44094473e818c48": {
          "model_module": "@jupyter-widgets/base",
          "model_name": "LayoutModel",
          "state": {
            "_view_name": "LayoutView",
            "grid_template_rows": null,
            "right": null,
            "justify_content": null,
            "_view_module": "@jupyter-widgets/base",
            "overflow": null,
            "_model_module_version": "1.2.0",
            "_view_count": null,
            "flex_flow": null,
            "width": null,
            "min_width": null,
            "border": null,
            "align_items": null,
            "bottom": null,
            "_model_module": "@jupyter-widgets/base",
            "top": null,
            "grid_column": null,
            "overflow_y": null,
            "overflow_x": null,
            "grid_auto_flow": null,
            "grid_area": null,
            "grid_template_columns": null,
            "flex": null,
            "_model_name": "LayoutModel",
            "justify_items": null,
            "grid_row": null,
            "max_height": null,
            "align_content": null,
            "visibility": null,
            "align_self": null,
            "height": null,
            "min_height": null,
            "padding": null,
            "grid_auto_rows": null,
            "grid_gap": null,
            "max_width": null,
            "order": null,
            "_view_module_version": "1.2.0",
            "grid_template_areas": null,
            "object_position": null,
            "object_fit": null,
            "grid_auto_columns": null,
            "margin": null,
            "display": null,
            "left": null
          }
        },
        "a4abe84d58114bfbbe0bc86357eeb68d": {
          "model_module": "@jupyter-widgets/base",
          "model_name": "LayoutModel",
          "state": {
            "_view_name": "LayoutView",
            "grid_template_rows": null,
            "right": null,
            "justify_content": null,
            "_view_module": "@jupyter-widgets/base",
            "overflow": null,
            "_model_module_version": "1.2.0",
            "_view_count": null,
            "flex_flow": null,
            "width": null,
            "min_width": null,
            "border": null,
            "align_items": null,
            "bottom": null,
            "_model_module": "@jupyter-widgets/base",
            "top": null,
            "grid_column": null,
            "overflow_y": null,
            "overflow_x": null,
            "grid_auto_flow": null,
            "grid_area": null,
            "grid_template_columns": null,
            "flex": null,
            "_model_name": "LayoutModel",
            "justify_items": null,
            "grid_row": null,
            "max_height": null,
            "align_content": null,
            "visibility": null,
            "align_self": null,
            "height": null,
            "min_height": null,
            "padding": null,
            "grid_auto_rows": null,
            "grid_gap": null,
            "max_width": null,
            "order": null,
            "_view_module_version": "1.2.0",
            "grid_template_areas": null,
            "object_position": null,
            "object_fit": null,
            "grid_auto_columns": null,
            "margin": null,
            "display": null,
            "left": null
          }
        },
        "71ee17313fc645cba0534ad72a9b8942": {
          "model_module": "@jupyter-widgets/controls",
          "model_name": "VBoxModel",
          "state": {
            "_view_name": "VBoxView",
            "_dom_classes": [
              "widget-interact"
            ],
            "_model_name": "VBoxModel",
            "_view_module": "@jupyter-widgets/controls",
            "_model_module_version": "1.5.0",
            "_view_count": null,
            "_view_module_version": "1.5.0",
            "box_style": "",
            "layout": "IPY_MODEL_782a357705ff443f9a3efcd27dd15a60",
            "_model_module": "@jupyter-widgets/controls",
            "children": [
              "IPY_MODEL_f4352dea0e344a7eaec5396335ea8d4a",
              "IPY_MODEL_7a6b20f85dfe4c589729650c6942aebe",
              "IPY_MODEL_c5f541e441d142678a56dd3b632d8b8a"
            ]
          }
        },
        "782a357705ff443f9a3efcd27dd15a60": {
          "model_module": "@jupyter-widgets/base",
          "model_name": "LayoutModel",
          "state": {
            "_view_name": "LayoutView",
            "grid_template_rows": null,
            "right": null,
            "justify_content": null,
            "_view_module": "@jupyter-widgets/base",
            "overflow": null,
            "_model_module_version": "1.2.0",
            "_view_count": null,
            "flex_flow": null,
            "width": null,
            "min_width": null,
            "border": null,
            "align_items": null,
            "bottom": null,
            "_model_module": "@jupyter-widgets/base",
            "top": null,
            "grid_column": null,
            "overflow_y": null,
            "overflow_x": null,
            "grid_auto_flow": null,
            "grid_area": null,
            "grid_template_columns": null,
            "flex": null,
            "_model_name": "LayoutModel",
            "justify_items": null,
            "grid_row": null,
            "max_height": null,
            "align_content": null,
            "visibility": null,
            "align_self": null,
            "height": null,
            "min_height": null,
            "padding": null,
            "grid_auto_rows": null,
            "grid_gap": null,
            "max_width": null,
            "order": null,
            "_view_module_version": "1.2.0",
            "grid_template_areas": null,
            "object_position": null,
            "object_fit": null,
            "grid_auto_columns": null,
            "margin": null,
            "display": null,
            "left": null
          }
        },
        "f4352dea0e344a7eaec5396335ea8d4a": {
          "model_module": "@jupyter-widgets/controls",
          "model_name": "DropdownModel",
          "state": {
            "_options_labels": [
              "g5_3",
              "g5_2",
              "g5_1"
            ],
            "_view_name": "DropdownView",
            "style": "IPY_MODEL_2513586333ca4ff8b14f7e1ed9b7107c",
            "_dom_classes": [],
            "description": "cs",
            "_model_name": "DropdownModel",
            "index": 2,
            "_view_module": "@jupyter-widgets/controls",
            "_model_module_version": "1.5.0",
            "_view_count": null,
            "disabled": false,
            "_view_module_version": "1.5.0",
            "description_tooltip": null,
            "_model_module": "@jupyter-widgets/controls",
            "layout": "IPY_MODEL_f81fdd614d9e46a8ab86b8a4fc786d56"
          }
        },
        "7a6b20f85dfe4c589729650c6942aebe": {
          "model_module": "@jupyter-widgets/controls",
          "model_name": "DatePickerModel",
          "state": {
            "_view_name": "DatePickerView",
            "style": "IPY_MODEL_1c53c66a0a824df48edfcb91630e2f13",
            "_dom_classes": [],
            "description": "Pick a start date",
            "_model_name": "DatePickerModel",
            "_view_module": "@jupyter-widgets/controls",
            "_model_module_version": "1.5.0",
            "value": {
              "year": 2020,
              "month": 0,
              "date": 1
            },
            "_view_count": null,
            "disabled": false,
            "_view_module_version": "1.5.0",
            "description_tooltip": null,
            "_model_module": "@jupyter-widgets/controls",
            "layout": "IPY_MODEL_c05faae8b0644fc9af20c977d3863103"
          }
        },
        "c5f541e441d142678a56dd3b632d8b8a": {
          "model_module": "@jupyter-widgets/output",
          "model_name": "OutputModel",
          "state": {
            "_view_name": "OutputView",
            "msg_id": "",
            "_dom_classes": [],
            "_model_name": "OutputModel",
            "outputs": [
              {
                "output_type": "display_data",
                "metadata": {
                  "tags": []
                },
                "text/html": "<a href=https://www.khanacademy.org/math/cc-sixth-grade-math/cc-6th-data-statistics/dot-plot/v/frequency-tables-and-dot-plots?modal=1 target='_blank'>Frequency Tables & dot plot</a>",
                "text/plain": "<IPython.core.display.HTML object>"
              },
              {
                "output_type": "display_data",
                "metadata": {
                  "tags": []
                },
                "text/html": "<a href=https://www.khanacademy.org/math/cc-sixth-grade-math/cc-6th-data-statistics/cc-6th-mean-median-challenge/v/median-and-range-puzzle?modal=1 target='_blank'>Median & range puzzlers</a>",
                "text/plain": "<IPython.core.display.HTML object>"
              },
              {
                "output_type": "display_data",
                "metadata": {
                  "tags": []
                },
                "text/html": "<a href=https://www.khanacademy.org/math/cc-sixth-grade-math/cc-6th-data-statistics/cc-6th/v/calculating-interquartile-range-iqr?modal=1 target='_blank'>Interquartile range (IQR)</a>",
                "text/plain": "<IPython.core.display.HTML object>"
              },
              {
                "output_type": "display_data",
                "metadata": {
                  "tags": []
                },
                "text/html": "<a href=https://www.khanacademy.org/math/cc-sixth-grade-math/cc-6th-data-statistics/cc-6th-box-whisker-plots/v/constructing-a-box-and-whisker-plot?modal=1 target='_blank'>Worked example: Creating box plot (even number of data points)</a>",
                "text/plain": "<IPython.core.display.HTML object>"
              },
              {
                "output_type": "display_data",
                "metadata": {
                  "tags": []
                },
                "text/html": "<a href=https://www.khanacademy.org/math/cc-sixth-grade-math/cc-6th-data-statistics/cc-6th-box-whisker-plots/v/interpreting-box-plots?modal=1 target='_blank'>Worked example: Interpreting a box plot</a>",
                "text/plain": "<IPython.core.display.HTML object>"
              },
              {
                "output_type": "display_data",
                "metadata": {
                  "tags": [],
                  "needs_background": "light"
                },
                "image/png": "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\n",
                "text/plain": "<Figure size 432x288 with 1 Axes>"
              }
            ],
            "_view_module": "@jupyter-widgets/output",
            "_model_module_version": "1.0.0",
            "_view_count": null,
            "_view_module_version": "1.0.0",
            "layout": "IPY_MODEL_89b527e366df48e49203d0d595c1cb32",
            "_model_module": "@jupyter-widgets/output"
          }
        },
        "2513586333ca4ff8b14f7e1ed9b7107c": {
          "model_module": "@jupyter-widgets/controls",
          "model_name": "DescriptionStyleModel",
          "state": {
            "_view_name": "StyleView",
            "_model_name": "DescriptionStyleModel",
            "description_width": "",
            "_view_module": "@jupyter-widgets/base",
            "_model_module_version": "1.5.0",
            "_view_count": null,
            "_view_module_version": "1.2.0",
            "_model_module": "@jupyter-widgets/controls"
          }
        },
        "f81fdd614d9e46a8ab86b8a4fc786d56": {
          "model_module": "@jupyter-widgets/base",
          "model_name": "LayoutModel",
          "state": {
            "_view_name": "LayoutView",
            "grid_template_rows": null,
            "right": null,
            "justify_content": null,
            "_view_module": "@jupyter-widgets/base",
            "overflow": null,
            "_model_module_version": "1.2.0",
            "_view_count": null,
            "flex_flow": null,
            "width": null,
            "min_width": null,
            "border": null,
            "align_items": null,
            "bottom": null,
            "_model_module": "@jupyter-widgets/base",
            "top": null,
            "grid_column": null,
            "overflow_y": null,
            "overflow_x": null,
            "grid_auto_flow": null,
            "grid_area": null,
            "grid_template_columns": null,
            "flex": null,
            "_model_name": "LayoutModel",
            "justify_items": null,
            "grid_row": null,
            "max_height": null,
            "align_content": null,
            "visibility": null,
            "align_self": null,
            "height": null,
            "min_height": null,
            "padding": null,
            "grid_auto_rows": null,
            "grid_gap": null,
            "max_width": null,
            "order": null,
            "_view_module_version": "1.2.0",
            "grid_template_areas": null,
            "object_position": null,
            "object_fit": null,
            "grid_auto_columns": null,
            "margin": null,
            "display": null,
            "left": null
          }
        },
        "1c53c66a0a824df48edfcb91630e2f13": {
          "model_module": "@jupyter-widgets/controls",
          "model_name": "DescriptionStyleModel",
          "state": {
            "_view_name": "StyleView",
            "_model_name": "DescriptionStyleModel",
            "description_width": "",
            "_view_module": "@jupyter-widgets/base",
            "_model_module_version": "1.5.0",
            "_view_count": null,
            "_view_module_version": "1.2.0",
            "_model_module": "@jupyter-widgets/controls"
          }
        },
        "c05faae8b0644fc9af20c977d3863103": {
          "model_module": "@jupyter-widgets/base",
          "model_name": "LayoutModel",
          "state": {
            "_view_name": "LayoutView",
            "grid_template_rows": null,
            "right": null,
            "justify_content": null,
            "_view_module": "@jupyter-widgets/base",
            "overflow": null,
            "_model_module_version": "1.2.0",
            "_view_count": null,
            "flex_flow": null,
            "width": null,
            "min_width": null,
            "border": null,
            "align_items": null,
            "bottom": null,
            "_model_module": "@jupyter-widgets/base",
            "top": null,
            "grid_column": null,
            "overflow_y": null,
            "overflow_x": null,
            "grid_auto_flow": null,
            "grid_area": null,
            "grid_template_columns": null,
            "flex": null,
            "_model_name": "LayoutModel",
            "justify_items": null,
            "grid_row": null,
            "max_height": null,
            "align_content": null,
            "visibility": null,
            "align_self": null,
            "height": null,
            "min_height": null,
            "padding": null,
            "grid_auto_rows": null,
            "grid_gap": null,
            "max_width": null,
            "order": null,
            "_view_module_version": "1.2.0",
            "grid_template_areas": null,
            "object_position": null,
            "object_fit": null,
            "grid_auto_columns": null,
            "margin": null,
            "display": null,
            "left": null
          }
        },
        "89b527e366df48e49203d0d595c1cb32": {
          "model_module": "@jupyter-widgets/base",
          "model_name": "LayoutModel",
          "state": {
            "_view_name": "LayoutView",
            "grid_template_rows": null,
            "right": null,
            "justify_content": null,
            "_view_module": "@jupyter-widgets/base",
            "overflow": null,
            "_model_module_version": "1.2.0",
            "_view_count": null,
            "flex_flow": null,
            "width": null,
            "min_width": null,
            "border": null,
            "align_items": null,
            "bottom": null,
            "_model_module": "@jupyter-widgets/base",
            "top": null,
            "grid_column": null,
            "overflow_y": null,
            "overflow_x": null,
            "grid_auto_flow": null,
            "grid_area": null,
            "grid_template_columns": null,
            "flex": null,
            "_model_name": "LayoutModel",
            "justify_items": null,
            "grid_row": null,
            "max_height": null,
            "align_content": null,
            "visibility": null,
            "align_self": null,
            "height": null,
            "min_height": null,
            "padding": null,
            "grid_auto_rows": null,
            "grid_gap": null,
            "max_width": null,
            "order": null,
            "_view_module_version": "1.2.0",
            "grid_template_areas": null,
            "object_position": null,
            "object_fit": null,
            "grid_auto_columns": null,
            "margin": null,
            "display": null,
            "left": null
          }
        }
      }
    }
  },
  "cells": [
    {
      "cell_type": "markdown",
      "metadata": {
        "id": "view-in-github",
        "colab_type": "text"
      },
      "source": [
        "<a href=\"https://colab.research.google.com/github/sam1610/Inference_DIRinfo/blob/grannular_recommendation/27-07-2021.ipynb\" target=\"_parent\"><img src=\"https://colab.research.google.com/assets/colab-badge.svg\" alt=\"Open In Colab\"/></a>"
      ]
    },
    {
      "cell_type": "markdown",
      "metadata": {
        "id": "DRZ6WkE3n1D1"
      },
      "source": [
        "## Environment prepartion & libraries installation"
      ]
    },
    {
      "cell_type": "markdown",
      "metadata": {
        "id": "nENWLZC9DUVb"
      },
      "source": [
        "- Links\n",
        "https://dash.plotly.com/basic-callbacks\n",
        "https://beta.packtpub.com/book/data/9781800568532/6/ch06lvl1sec27/controlling-seasonality-with-fourier-order"
      ]
    },
    {
      "cell_type": "code",
      "metadata": {
        "id": "lxn3DiFRw8c9",
        "colab": {
          "base_uri": "https://localhost:8080/"
        },
        "outputId": "25bafd5f-8732-4252-fe3b-2444ac554780"
      },
      "source": [
        "! pip  install -U   scikit-learn  random_timestamp ipywidgets plotly"
      ],
      "execution_count": null,
      "outputs": [
        {
          "output_type": "stream",
          "text": [
            "Requirement already satisfied: scikit-learn in /usr/local/lib/python3.7/dist-packages (0.24.2)\n",
            "Requirement already satisfied: random_timestamp in /usr/local/lib/python3.7/dist-packages (1.1)\n",
            "Requirement already satisfied: ipywidgets in /usr/local/lib/python3.7/dist-packages (7.6.3)\n",
            "Requirement already satisfied: plotly in /usr/local/lib/python3.7/dist-packages (5.1.0)\n",
            "Requirement already satisfied: joblib>=0.11 in /usr/local/lib/python3.7/dist-packages (from scikit-learn) (1.0.1)\n",
            "Requirement already satisfied: threadpoolctl>=2.0.0 in /usr/local/lib/python3.7/dist-packages (from scikit-learn) (2.2.0)\n",
            "Requirement already satisfied: scipy>=0.19.1 in /usr/local/lib/python3.7/dist-packages (from scikit-learn) (1.4.1)\n",
            "Requirement already satisfied: numpy>=1.13.3 in /usr/local/lib/python3.7/dist-packages (from scikit-learn) (1.19.5)\n",
            "Requirement already satisfied: ipykernel>=4.5.1 in /usr/local/lib/python3.7/dist-packages (from ipywidgets) (4.10.1)\n",
            "Requirement already satisfied: nbformat>=4.2.0 in /usr/local/lib/python3.7/dist-packages (from ipywidgets) (5.1.3)\n",
            "Requirement already satisfied: widgetsnbextension~=3.5.0 in /usr/local/lib/python3.7/dist-packages (from ipywidgets) (3.5.1)\n",
            "Requirement already satisfied: ipython>=4.0.0 in /usr/local/lib/python3.7/dist-packages (from ipywidgets) (5.5.0)\n",
            "Requirement already satisfied: jupyterlab-widgets>=1.0.0 in /usr/local/lib/python3.7/dist-packages (from ipywidgets) (1.0.0)\n",
            "Requirement already satisfied: traitlets>=4.3.1 in /usr/local/lib/python3.7/dist-packages (from ipywidgets) (5.0.5)\n",
            "Requirement already satisfied: jupyter-client in /usr/local/lib/python3.7/dist-packages (from ipykernel>=4.5.1->ipywidgets) (5.3.5)\n",
            "Requirement already satisfied: tornado>=4.0 in /usr/local/lib/python3.7/dist-packages (from ipykernel>=4.5.1->ipywidgets) (5.1.1)\n",
            "Requirement already satisfied: setuptools>=18.5 in /usr/local/lib/python3.7/dist-packages (from ipython>=4.0.0->ipywidgets) (57.2.0)\n",
            "Requirement already satisfied: simplegeneric>0.8 in /usr/local/lib/python3.7/dist-packages (from ipython>=4.0.0->ipywidgets) (0.8.1)\n",
            "Requirement already satisfied: pexpect in /usr/local/lib/python3.7/dist-packages (from ipython>=4.0.0->ipywidgets) (4.8.0)\n",
            "Requirement already satisfied: prompt-toolkit<2.0.0,>=1.0.4 in /usr/local/lib/python3.7/dist-packages (from ipython>=4.0.0->ipywidgets) (1.0.18)\n",
            "Requirement already satisfied: pickleshare in /usr/local/lib/python3.7/dist-packages (from ipython>=4.0.0->ipywidgets) (0.7.5)\n",
            "Requirement already satisfied: pygments in /usr/local/lib/python3.7/dist-packages (from ipython>=4.0.0->ipywidgets) (2.6.1)\n",
            "Requirement already satisfied: decorator in /usr/local/lib/python3.7/dist-packages (from ipython>=4.0.0->ipywidgets) (4.4.2)\n",
            "Requirement already satisfied: jsonschema!=2.5.0,>=2.4 in /usr/local/lib/python3.7/dist-packages (from nbformat>=4.2.0->ipywidgets) (2.6.0)\n",
            "Requirement already satisfied: ipython-genutils in /usr/local/lib/python3.7/dist-packages (from nbformat>=4.2.0->ipywidgets) (0.2.0)\n",
            "Requirement already satisfied: jupyter-core in /usr/local/lib/python3.7/dist-packages (from nbformat>=4.2.0->ipywidgets) (4.7.1)\n",
            "Requirement already satisfied: six>=1.9.0 in /usr/local/lib/python3.7/dist-packages (from prompt-toolkit<2.0.0,>=1.0.4->ipython>=4.0.0->ipywidgets) (1.15.0)\n",
            "Requirement already satisfied: wcwidth in /usr/local/lib/python3.7/dist-packages (from prompt-toolkit<2.0.0,>=1.0.4->ipython>=4.0.0->ipywidgets) (0.2.5)\n",
            "Requirement already satisfied: notebook>=4.4.1 in /usr/local/lib/python3.7/dist-packages (from widgetsnbextension~=3.5.0->ipywidgets) (5.3.1)\n",
            "Requirement already satisfied: jinja2 in /usr/local/lib/python3.7/dist-packages (from notebook>=4.4.1->widgetsnbextension~=3.5.0->ipywidgets) (2.11.3)\n",
            "Requirement already satisfied: nbconvert in /usr/local/lib/python3.7/dist-packages (from notebook>=4.4.1->widgetsnbextension~=3.5.0->ipywidgets) (5.6.1)\n",
            "Requirement already satisfied: terminado>=0.8.1 in /usr/local/lib/python3.7/dist-packages (from notebook>=4.4.1->widgetsnbextension~=3.5.0->ipywidgets) (0.10.1)\n",
            "Requirement already satisfied: Send2Trash in /usr/local/lib/python3.7/dist-packages (from notebook>=4.4.1->widgetsnbextension~=3.5.0->ipywidgets) (1.7.1)\n",
            "Requirement already satisfied: pyzmq>=13 in /usr/local/lib/python3.7/dist-packages (from jupyter-client->ipykernel>=4.5.1->ipywidgets) (22.1.0)\n",
            "Requirement already satisfied: python-dateutil>=2.1 in /usr/local/lib/python3.7/dist-packages (from jupyter-client->ipykernel>=4.5.1->ipywidgets) (2.8.1)\n",
            "Requirement already satisfied: ptyprocess in /usr/local/lib/python3.7/dist-packages (from terminado>=0.8.1->notebook>=4.4.1->widgetsnbextension~=3.5.0->ipywidgets) (0.7.0)\n",
            "Requirement already satisfied: tenacity>=6.2.0 in /usr/local/lib/python3.7/dist-packages (from plotly) (8.0.1)\n",
            "Requirement already satisfied: MarkupSafe>=0.23 in /usr/local/lib/python3.7/dist-packages (from jinja2->notebook>=4.4.1->widgetsnbextension~=3.5.0->ipywidgets) (2.0.1)\n",
            "Requirement already satisfied: defusedxml in /usr/local/lib/python3.7/dist-packages (from nbconvert->notebook>=4.4.1->widgetsnbextension~=3.5.0->ipywidgets) (0.7.1)\n",
            "Requirement already satisfied: entrypoints>=0.2.2 in /usr/local/lib/python3.7/dist-packages (from nbconvert->notebook>=4.4.1->widgetsnbextension~=3.5.0->ipywidgets) (0.3)\n",
            "Requirement already satisfied: testpath in /usr/local/lib/python3.7/dist-packages (from nbconvert->notebook>=4.4.1->widgetsnbextension~=3.5.0->ipywidgets) (0.5.0)\n",
            "Requirement already satisfied: mistune<2,>=0.8.1 in /usr/local/lib/python3.7/dist-packages (from nbconvert->notebook>=4.4.1->widgetsnbextension~=3.5.0->ipywidgets) (0.8.4)\n",
            "Requirement already satisfied: pandocfilters>=1.4.1 in /usr/local/lib/python3.7/dist-packages (from nbconvert->notebook>=4.4.1->widgetsnbextension~=3.5.0->ipywidgets) (1.4.3)\n",
            "Requirement already satisfied: bleach in /usr/local/lib/python3.7/dist-packages (from nbconvert->notebook>=4.4.1->widgetsnbextension~=3.5.0->ipywidgets) (3.3.0)\n",
            "Requirement already satisfied: webencodings in /usr/local/lib/python3.7/dist-packages (from bleach->nbconvert->notebook>=4.4.1->widgetsnbextension~=3.5.0->ipywidgets) (0.5.1)\n",
            "Requirement already satisfied: packaging in /usr/local/lib/python3.7/dist-packages (from bleach->nbconvert->notebook>=4.4.1->widgetsnbextension~=3.5.0->ipywidgets) (21.0)\n",
            "Requirement already satisfied: pyparsing>=2.0.2 in /usr/local/lib/python3.7/dist-packages (from packaging->bleach->nbconvert->notebook>=4.4.1->widgetsnbextension~=3.5.0->ipywidgets) (2.4.7)\n"
          ],
          "name": "stdout"
        }
      ]
    },
    {
      "cell_type": "code",
      "metadata": {
        "id": "aScKKGTjjFYc"
      },
      "source": [
        "import pandas as pd  \n",
        "import numpy as np\n",
        "import random\n",
        "import string\n",
        "from random import randint\n",
        "import matplotlib.pyplot as plt\n",
        "from datetime import timedelta"
      ],
      "execution_count": null,
      "outputs": []
    },
    {
      "cell_type": "code",
      "metadata": {
        "id": "3Re3LKpQ_d4U"
      },
      "source": [
        "import ipywidgets as widgets \n",
        "from ipywidgets import interact\n",
        "from matplotlib.dates import DateFormatter\n",
        "from datetime import timedelta\n",
        "from datetime import datetime\n",
        "from ipywidgets import interact, Dropdown , Layout , Box , Button\n",
        "from ipywidgets import Checkbox"
      ],
      "execution_count": null,
      "outputs": []
    },
    {
      "cell_type": "code",
      "metadata": {
        "id": "a3yeM3mZT9cg"
      },
      "source": [
        "import warnings\n",
        "warnings.filterwarnings('ignore')"
      ],
      "execution_count": null,
      "outputs": []
    },
    {
      "cell_type": "code",
      "metadata": {
        "id": "8AKUPnjLxFB-",
        "colab": {
          "base_uri": "https://localhost:8080/"
        },
        "outputId": "3e44fb01-0976-4793-c258-0f632fd6c4af"
      },
      "source": [
        "from google.colab import drive\n",
        "drive.mount('/content/drive')"
      ],
      "execution_count": null,
      "outputs": [
        {
          "output_type": "stream",
          "text": [
            "Drive already mounted at /content/drive; to attempt to forcibly remount, call drive.mount(\"/content/drive\", force_remount=True).\n"
          ],
          "name": "stdout"
        }
      ]
    },
    {
      "cell_type": "code",
      "metadata": {
        "id": "LCHi1exfxFFX",
        "colab": {
          "base_uri": "https://localhost:8080/"
        },
        "outputId": "4c96f81b-371c-480d-9688-0e9fe41dfba3"
      },
      "source": [
        "!ls  /content/drive/MyDrive/portalAnalysis/"
      ],
      "execution_count": null,
      "outputs": [
        {
          "output_type": "stream",
          "text": [
            "Data  link.html\t\t    positives.html\n",
            "dist  output_filename.html  TimeSeriesAnalysisWithPython\n"
          ],
          "name": "stdout"
        }
      ]
    },
    {
      "cell_type": "code",
      "metadata": {
        "id": "q6qMX4O9xFI1",
        "colab": {
          "base_uri": "https://localhost:8080/"
        },
        "outputId": "29e021e5-a40a-40a0-f282-19da1c7ba9e5"
      },
      "source": [
        "cd /content/drive/MyDrive/portalAnalysis/"
      ],
      "execution_count": null,
      "outputs": [
        {
          "output_type": "stream",
          "text": [
            "/content/drive/.shortcut-targets-by-id/1ZqnixmkqoSThWVJbij6rwHF3MnJGRihq/portalAnalysis\n"
          ],
          "name": "stdout"
        }
      ]
    },
    {
      "cell_type": "markdown",
      "metadata": {
        "id": "a5JYq_glD1YY"
      },
      "source": [
        "#Loading data sets"
      ]
    },
    {
      "cell_type": "markdown",
      "metadata": {
        "id": "2NFA4GM1xd_p"
      },
      "source": [
        "## Student's report dataset"
      ]
    },
    {
      "cell_type": "code",
      "metadata": {
        "id": "dy7qwKEwm9bq"
      },
      "source": [
        "dd=pd.read_csv(\"./Data/student_report.csv\", index_col=0)"
      ],
      "execution_count": null,
      "outputs": []
    },
    {
      "cell_type": "code",
      "metadata": {
        "id": "heF_4cCanLp9"
      },
      "source": [
        "dd[\"Activity ID\"].replace({\"Act_14\": \"اختبار_14\", \"Act_12\": \"اختبار_12\",\"Act_2\":\"نشاط_2\" , \"Act_4\":\"نشاط_4\" ,\n",
        "                           \"Act_16\":\"اختبار_16\",\"Act_3\":\"نشاط_3\" ,\"Act_15\":\"اختبار_15\" ,\"Act_13\":\"اختبار_13\" ,\"Act_11\":\"اختبار_11\" ,\n",
        "                           \"Act_18\":\"اختبار_18\",\"Act_10\":\"اختبار_10\" ,\"Act_1\":\"نشاط_1\" ,\"Act_17\":\"اختبار_17\"}, inplace=True)"
      ],
      "execution_count": null,
      "outputs": []
    },
    {
      "cell_type": "code",
      "metadata": {
        "id": "a4UVAle4sOqT"
      },
      "source": [
        "dd=dd.reset_index()"
      ],
      "execution_count": null,
      "outputs": []
    },
    {
      "cell_type": "code",
      "metadata": {
        "id": "hbCU5mvPtWro"
      },
      "source": [
        "dd=dd.drop(['Activity Type'], axis = 1)"
      ],
      "execution_count": null,
      "outputs": []
    },
    {
      "cell_type": "code",
      "metadata": {
        "colab": {
          "base_uri": "https://localhost:8080/",
          "height": 432
        },
        "id": "bgIkvjcouUxN",
        "outputId": "e75d87ab-2682-4338-9089-1492affbd747"
      },
      "source": [
        "dd"
      ],
      "execution_count": null,
      "outputs": [
        {
          "output_type": "execute_result",
          "data": {
            "text/html": [
              "<div>\n",
              "<style scoped>\n",
              "    .dataframe tbody tr th:only-of-type {\n",
              "        vertical-align: middle;\n",
              "    }\n",
              "\n",
              "    .dataframe tbody tr th {\n",
              "        vertical-align: top;\n",
              "    }\n",
              "\n",
              "    .dataframe thead th {\n",
              "        text-align: right;\n",
              "    }\n",
              "</style>\n",
              "<table border=\"1\" class=\"dataframe\">\n",
              "  <thead>\n",
              "    <tr style=\"text-align: right;\">\n",
              "      <th></th>\n",
              "      <th>Submit_Date</th>\n",
              "      <th>Activity ID</th>\n",
              "      <th>Mark</th>\n",
              "    </tr>\n",
              "  </thead>\n",
              "  <tbody>\n",
              "    <tr>\n",
              "      <th>0</th>\n",
              "      <td>31-03-2020</td>\n",
              "      <td>اختبار_14</td>\n",
              "      <td>2.31</td>\n",
              "    </tr>\n",
              "    <tr>\n",
              "      <th>1</th>\n",
              "      <td>01-04-2020</td>\n",
              "      <td>اختبار_12</td>\n",
              "      <td>0.61</td>\n",
              "    </tr>\n",
              "    <tr>\n",
              "      <th>2</th>\n",
              "      <td>07-05-2020</td>\n",
              "      <td>نشاط_2</td>\n",
              "      <td>0.80</td>\n",
              "    </tr>\n",
              "    <tr>\n",
              "      <th>3</th>\n",
              "      <td>10-05-2020</td>\n",
              "      <td>نشاط_4</td>\n",
              "      <td>2.23</td>\n",
              "    </tr>\n",
              "    <tr>\n",
              "      <th>4</th>\n",
              "      <td>26-06-2020</td>\n",
              "      <td>اختبار_16</td>\n",
              "      <td>1.64</td>\n",
              "    </tr>\n",
              "    <tr>\n",
              "      <th>5</th>\n",
              "      <td>07-07-2020</td>\n",
              "      <td>نشاط_3</td>\n",
              "      <td>2.12</td>\n",
              "    </tr>\n",
              "    <tr>\n",
              "      <th>6</th>\n",
              "      <td>03-08-2020</td>\n",
              "      <td>اختبار_15</td>\n",
              "      <td>4.20</td>\n",
              "    </tr>\n",
              "    <tr>\n",
              "      <th>7</th>\n",
              "      <td>17-08-2020</td>\n",
              "      <td>اختبار_13</td>\n",
              "      <td>7.25</td>\n",
              "    </tr>\n",
              "    <tr>\n",
              "      <th>8</th>\n",
              "      <td>23-08-2020</td>\n",
              "      <td>اختبار_11</td>\n",
              "      <td>9.73</td>\n",
              "    </tr>\n",
              "    <tr>\n",
              "      <th>9</th>\n",
              "      <td>06-09-2020</td>\n",
              "      <td>اختبار_18</td>\n",
              "      <td>5.37</td>\n",
              "    </tr>\n",
              "    <tr>\n",
              "      <th>10</th>\n",
              "      <td>07-10-2020</td>\n",
              "      <td>اختبار_10</td>\n",
              "      <td>4.88</td>\n",
              "    </tr>\n",
              "    <tr>\n",
              "      <th>11</th>\n",
              "      <td>19-11-2020</td>\n",
              "      <td>نشاط_1</td>\n",
              "      <td>5.27</td>\n",
              "    </tr>\n",
              "    <tr>\n",
              "      <th>12</th>\n",
              "      <td>02-12-2020</td>\n",
              "      <td>اختبار_17</td>\n",
              "      <td>3.79</td>\n",
              "    </tr>\n",
              "  </tbody>\n",
              "</table>\n",
              "</div>"
            ],
            "text/plain": [
              "   Submit_Date Activity ID  Mark\n",
              "0   31-03-2020   اختبار_14  2.31\n",
              "1   01-04-2020   اختبار_12  0.61\n",
              "2   07-05-2020      نشاط_2  0.80\n",
              "3   10-05-2020      نشاط_4  2.23\n",
              "4   26-06-2020   اختبار_16  1.64\n",
              "5   07-07-2020      نشاط_3  2.12\n",
              "6   03-08-2020   اختبار_15  4.20\n",
              "7   17-08-2020   اختبار_13  7.25\n",
              "8   23-08-2020   اختبار_11  9.73\n",
              "9   06-09-2020   اختبار_18  5.37\n",
              "10  07-10-2020   اختبار_10  4.88\n",
              "11  19-11-2020      نشاط_1  5.27\n",
              "12  02-12-2020   اختبار_17  3.79"
            ]
          },
          "metadata": {
            "tags": []
          },
          "execution_count": 12
        }
      ]
    },
    {
      "cell_type": "code",
      "metadata": {
        "id": "ZAzdtGWBuOFi"
      },
      "source": [
        "dd.columns = ['تاريخ التسليم', 'اسم التقييم',\"الدرجة\"]"
      ],
      "execution_count": null,
      "outputs": []
    },
    {
      "cell_type": "code",
      "metadata": {
        "colab": {
          "base_uri": "https://localhost:8080/",
          "height": 432
        },
        "id": "spnONxd1uvuA",
        "outputId": "ba29a7ed-16dd-4570-9b2c-163d82f0da7f"
      },
      "source": [
        "dd"
      ],
      "execution_count": null,
      "outputs": [
        {
          "output_type": "execute_result",
          "data": {
            "text/html": [
              "<div>\n",
              "<style scoped>\n",
              "    .dataframe tbody tr th:only-of-type {\n",
              "        vertical-align: middle;\n",
              "    }\n",
              "\n",
              "    .dataframe tbody tr th {\n",
              "        vertical-align: top;\n",
              "    }\n",
              "\n",
              "    .dataframe thead th {\n",
              "        text-align: right;\n",
              "    }\n",
              "</style>\n",
              "<table border=\"1\" class=\"dataframe\">\n",
              "  <thead>\n",
              "    <tr style=\"text-align: right;\">\n",
              "      <th></th>\n",
              "      <th>تاريخ التسليم</th>\n",
              "      <th>اسم التقييم</th>\n",
              "      <th>الدرجة</th>\n",
              "    </tr>\n",
              "  </thead>\n",
              "  <tbody>\n",
              "    <tr>\n",
              "      <th>0</th>\n",
              "      <td>31-03-2020</td>\n",
              "      <td>اختبار_14</td>\n",
              "      <td>2.31</td>\n",
              "    </tr>\n",
              "    <tr>\n",
              "      <th>1</th>\n",
              "      <td>01-04-2020</td>\n",
              "      <td>اختبار_12</td>\n",
              "      <td>0.61</td>\n",
              "    </tr>\n",
              "    <tr>\n",
              "      <th>2</th>\n",
              "      <td>07-05-2020</td>\n",
              "      <td>نشاط_2</td>\n",
              "      <td>0.80</td>\n",
              "    </tr>\n",
              "    <tr>\n",
              "      <th>3</th>\n",
              "      <td>10-05-2020</td>\n",
              "      <td>نشاط_4</td>\n",
              "      <td>2.23</td>\n",
              "    </tr>\n",
              "    <tr>\n",
              "      <th>4</th>\n",
              "      <td>26-06-2020</td>\n",
              "      <td>اختبار_16</td>\n",
              "      <td>1.64</td>\n",
              "    </tr>\n",
              "    <tr>\n",
              "      <th>5</th>\n",
              "      <td>07-07-2020</td>\n",
              "      <td>نشاط_3</td>\n",
              "      <td>2.12</td>\n",
              "    </tr>\n",
              "    <tr>\n",
              "      <th>6</th>\n",
              "      <td>03-08-2020</td>\n",
              "      <td>اختبار_15</td>\n",
              "      <td>4.20</td>\n",
              "    </tr>\n",
              "    <tr>\n",
              "      <th>7</th>\n",
              "      <td>17-08-2020</td>\n",
              "      <td>اختبار_13</td>\n",
              "      <td>7.25</td>\n",
              "    </tr>\n",
              "    <tr>\n",
              "      <th>8</th>\n",
              "      <td>23-08-2020</td>\n",
              "      <td>اختبار_11</td>\n",
              "      <td>9.73</td>\n",
              "    </tr>\n",
              "    <tr>\n",
              "      <th>9</th>\n",
              "      <td>06-09-2020</td>\n",
              "      <td>اختبار_18</td>\n",
              "      <td>5.37</td>\n",
              "    </tr>\n",
              "    <tr>\n",
              "      <th>10</th>\n",
              "      <td>07-10-2020</td>\n",
              "      <td>اختبار_10</td>\n",
              "      <td>4.88</td>\n",
              "    </tr>\n",
              "    <tr>\n",
              "      <th>11</th>\n",
              "      <td>19-11-2020</td>\n",
              "      <td>نشاط_1</td>\n",
              "      <td>5.27</td>\n",
              "    </tr>\n",
              "    <tr>\n",
              "      <th>12</th>\n",
              "      <td>02-12-2020</td>\n",
              "      <td>اختبار_17</td>\n",
              "      <td>3.79</td>\n",
              "    </tr>\n",
              "  </tbody>\n",
              "</table>\n",
              "</div>"
            ],
            "text/plain": [
              "   تاريخ التسليم اسم التقييم  الدرجة\n",
              "0     31-03-2020   اختبار_14    2.31\n",
              "1     01-04-2020   اختبار_12    0.61\n",
              "2     07-05-2020      نشاط_2    0.80\n",
              "3     10-05-2020      نشاط_4    2.23\n",
              "4     26-06-2020   اختبار_16    1.64\n",
              "5     07-07-2020      نشاط_3    2.12\n",
              "6     03-08-2020   اختبار_15    4.20\n",
              "7     17-08-2020   اختبار_13    7.25\n",
              "8     23-08-2020   اختبار_11    9.73\n",
              "9     06-09-2020   اختبار_18    5.37\n",
              "10    07-10-2020   اختبار_10    4.88\n",
              "11    19-11-2020      نشاط_1    5.27\n",
              "12    02-12-2020   اختبار_17    3.79"
            ]
          },
          "metadata": {
            "tags": []
          },
          "execution_count": 14
        }
      ]
    },
    {
      "cell_type": "markdown",
      "metadata": {
        "id": "U_Iw6VS9P6xk"
      },
      "source": [
        "## Load General-Students-Info.csv   (( df_st ))"
      ]
    },
    {
      "cell_type": "code",
      "metadata": {
        "id": "k95IDTmNP3s7"
      },
      "source": [
        "df_st=pd.read_csv(\"./Data/General_students_info.csv\", index_col=0,converters={'student_ID': lambda x: str(x) , # lambda used to keep zeros to the left of no.s\n",
        "                                                                              'birth_year': lambda x: str(x) ,\n",
        "                                                                            'birth_month': lambda x: str(x)})"
      ],
      "execution_count": null,
      "outputs": []
    },
    {
      "cell_type": "code",
      "metadata": {
        "id": "cd7t_6F-hzhB",
        "colab": {
          "base_uri": "https://localhost:8080/",
          "height": 204
        },
        "outputId": "d9e276c5-6f47-463f-9a2e-91efc79d372d"
      },
      "source": [
        "df_st.head()"
      ],
      "execution_count": null,
      "outputs": [
        {
          "output_type": "execute_result",
          "data": {
            "text/html": [
              "<div>\n",
              "<style scoped>\n",
              "    .dataframe tbody tr th:only-of-type {\n",
              "        vertical-align: middle;\n",
              "    }\n",
              "\n",
              "    .dataframe tbody tr th {\n",
              "        vertical-align: top;\n",
              "    }\n",
              "\n",
              "    .dataframe thead th {\n",
              "        text-align: right;\n",
              "    }\n",
              "</style>\n",
              "<table border=\"1\" class=\"dataframe\">\n",
              "  <thead>\n",
              "    <tr style=\"text-align: right;\">\n",
              "      <th></th>\n",
              "      <th>student_ID</th>\n",
              "      <th>birth_year</th>\n",
              "      <th>birth_month</th>\n",
              "      <th>school</th>\n",
              "      <th>grade</th>\n",
              "      <th>gender</th>\n",
              "      <th>governorate</th>\n",
              "    </tr>\n",
              "  </thead>\n",
              "  <tbody>\n",
              "    <tr>\n",
              "      <th>0</th>\n",
              "      <td>100315215</td>\n",
              "      <td>10</td>\n",
              "      <td>03</td>\n",
              "      <td>Sc_6</td>\n",
              "      <td>5</td>\n",
              "      <td>M</td>\n",
              "      <td>Caiptal</td>\n",
              "    </tr>\n",
              "    <tr>\n",
              "      <th>1</th>\n",
              "      <td>070403058</td>\n",
              "      <td>07</td>\n",
              "      <td>04</td>\n",
              "      <td>Sc_8</td>\n",
              "      <td>8</td>\n",
              "      <td>F</td>\n",
              "      <td>North</td>\n",
              "    </tr>\n",
              "    <tr>\n",
              "      <th>2</th>\n",
              "      <td>080748524</td>\n",
              "      <td>08</td>\n",
              "      <td>07</td>\n",
              "      <td>Sc_4</td>\n",
              "      <td>7</td>\n",
              "      <td>M</td>\n",
              "      <td>Muharraq</td>\n",
              "    </tr>\n",
              "    <tr>\n",
              "      <th>3</th>\n",
              "      <td>071090450</td>\n",
              "      <td>07</td>\n",
              "      <td>10</td>\n",
              "      <td>Sc_9</td>\n",
              "      <td>8</td>\n",
              "      <td>F</td>\n",
              "      <td>Caiptal</td>\n",
              "    </tr>\n",
              "    <tr>\n",
              "      <th>4</th>\n",
              "      <td>090636469</td>\n",
              "      <td>09</td>\n",
              "      <td>06</td>\n",
              "      <td>Sc_6</td>\n",
              "      <td>6</td>\n",
              "      <td>M</td>\n",
              "      <td>Caiptal</td>\n",
              "    </tr>\n",
              "  </tbody>\n",
              "</table>\n",
              "</div>"
            ],
            "text/plain": [
              "  student_ID birth_year birth_month school  grade gender governorate\n",
              "0  100315215         10          03   Sc_6      5      M     Caiptal\n",
              "1  070403058         07          04   Sc_8      8      F       North\n",
              "2  080748524         08          07   Sc_4      7      M    Muharraq\n",
              "3  071090450         07          10   Sc_9      8      F     Caiptal\n",
              "4  090636469         09          06   Sc_6      6      M     Caiptal"
            ]
          },
          "metadata": {
            "tags": []
          },
          "execution_count": 77
        }
      ]
    },
    {
      "cell_type": "markdown",
      "metadata": {
        "id": "mK4QZcibRmcQ"
      },
      "source": [
        "## Load Student's Portal Achievments (( df_avt ))"
      ]
    },
    {
      "cell_type": "code",
      "metadata": {
        "id": "xvB0BP_iluGw"
      },
      "source": [
        "df_avt=pd.read_csv(\"./Data/Portal-Achiev-Info.csv\", index_col=0,converters={'student_ID': lambda x: str(x)})"
      ],
      "execution_count": null,
      "outputs": []
    },
    {
      "cell_type": "code",
      "metadata": {
        "id": "qyNDz7bonpL0",
        "colab": {
          "base_uri": "https://localhost:8080/",
          "height": 204
        },
        "outputId": "3564b170-87bc-4e2f-b995-6bf22974fe06"
      },
      "source": [
        "df_avt.head()"
      ],
      "execution_count": null,
      "outputs": [
        {
          "output_type": "execute_result",
          "data": {
            "text/html": [
              "<div>\n",
              "<style scoped>\n",
              "    .dataframe tbody tr th:only-of-type {\n",
              "        vertical-align: middle;\n",
              "    }\n",
              "\n",
              "    .dataframe tbody tr th {\n",
              "        vertical-align: top;\n",
              "    }\n",
              "\n",
              "    .dataframe thead th {\n",
              "        text-align: right;\n",
              "    }\n",
              "</style>\n",
              "<table border=\"1\" class=\"dataframe\">\n",
              "  <thead>\n",
              "    <tr style=\"text-align: right;\">\n",
              "      <th></th>\n",
              "      <th>student_ID</th>\n",
              "      <th>Course_code</th>\n",
              "      <th>Activity_id</th>\n",
              "      <th>Activity_type</th>\n",
              "      <th>Unit_id</th>\n",
              "      <th>Chapter_id</th>\n",
              "      <th>Lesson_id</th>\n",
              "      <th>Act_diff</th>\n",
              "      <th>Act_cp_count</th>\n",
              "      <th>Act_time</th>\n",
              "      <th>Act_submit_Time</th>\n",
              "      <th>Act_mark</th>\n",
              "    </tr>\n",
              "  </thead>\n",
              "  <tbody>\n",
              "    <tr>\n",
              "      <th>0</th>\n",
              "      <td>080748524</td>\n",
              "      <td>g7_1</td>\n",
              "      <td>g7_1-Act_12</td>\n",
              "      <td>1</td>\n",
              "      <td>Un_6</td>\n",
              "      <td>Chp_7</td>\n",
              "      <td>Ls_1</td>\n",
              "      <td>1</td>\n",
              "      <td>2</td>\n",
              "      <td>884</td>\n",
              "      <td>2020-06-06 08:07:04</td>\n",
              "      <td>5.74</td>\n",
              "    </tr>\n",
              "    <tr>\n",
              "      <th>1</th>\n",
              "      <td>080748524</td>\n",
              "      <td>g7_2</td>\n",
              "      <td>g7_2-Act_1</td>\n",
              "      <td>1</td>\n",
              "      <td>Un_4</td>\n",
              "      <td>Chp_9</td>\n",
              "      <td>Ls_0</td>\n",
              "      <td>3</td>\n",
              "      <td>1</td>\n",
              "      <td>3098</td>\n",
              "      <td>2020-01-09 10:09:03</td>\n",
              "      <td>7.02</td>\n",
              "    </tr>\n",
              "    <tr>\n",
              "      <th>2</th>\n",
              "      <td>080748524</td>\n",
              "      <td>g7_1</td>\n",
              "      <td>g7_1-Act_18</td>\n",
              "      <td>0</td>\n",
              "      <td>Un_4</td>\n",
              "      <td>Chp_2</td>\n",
              "      <td>Ls_5</td>\n",
              "      <td>4</td>\n",
              "      <td>2</td>\n",
              "      <td>15</td>\n",
              "      <td>2020-12-20 17:35:27</td>\n",
              "      <td>7.67</td>\n",
              "    </tr>\n",
              "    <tr>\n",
              "      <th>3</th>\n",
              "      <td>080748524</td>\n",
              "      <td>g7_1</td>\n",
              "      <td>g7_1-Act_15</td>\n",
              "      <td>1</td>\n",
              "      <td>Un_1</td>\n",
              "      <td>Chp_0</td>\n",
              "      <td>Ls_2</td>\n",
              "      <td>4</td>\n",
              "      <td>2</td>\n",
              "      <td>1458</td>\n",
              "      <td>2020-12-21 15:11:32</td>\n",
              "      <td>6.22</td>\n",
              "    </tr>\n",
              "    <tr>\n",
              "      <th>4</th>\n",
              "      <td>080748524</td>\n",
              "      <td>g7_2</td>\n",
              "      <td>g7_2-Act_14</td>\n",
              "      <td>0</td>\n",
              "      <td>Un_5</td>\n",
              "      <td>Chp_2</td>\n",
              "      <td>Ls_7</td>\n",
              "      <td>4</td>\n",
              "      <td>2</td>\n",
              "      <td>14</td>\n",
              "      <td>2020-04-27 22:10:18</td>\n",
              "      <td>8.96</td>\n",
              "    </tr>\n",
              "  </tbody>\n",
              "</table>\n",
              "</div>"
            ],
            "text/plain": [
              "  student_ID Course_code  Activity_id  ...  Act_time      Act_submit_Time Act_mark\n",
              "0  080748524        g7_1  g7_1-Act_12  ...       884  2020-06-06 08:07:04     5.74\n",
              "1  080748524        g7_2   g7_2-Act_1  ...      3098  2020-01-09 10:09:03     7.02\n",
              "2  080748524        g7_1  g7_1-Act_18  ...        15  2020-12-20 17:35:27     7.67\n",
              "3  080748524        g7_1  g7_1-Act_15  ...      1458  2020-12-21 15:11:32     6.22\n",
              "4  080748524        g7_2  g7_2-Act_14  ...        14  2020-04-27 22:10:18     8.96\n",
              "\n",
              "[5 rows x 12 columns]"
            ]
          },
          "metadata": {
            "tags": []
          },
          "execution_count": 79
        }
      ]
    },
    {
      "cell_type": "markdown",
      "metadata": {
        "id": "i0tyT0HXV6Ph"
      },
      "source": [
        "## Load the dataset that has 5 selected students Info (( dt_st ))"
      ]
    },
    {
      "cell_type": "code",
      "metadata": {
        "id": "wndYEKf-WQtT"
      },
      "source": [
        "dt_st=pd.read_csv(\"./Data/5_selected_students.csv\", index_col=0,converters={'student_ID': lambda x: str(x)})"
      ],
      "execution_count": null,
      "outputs": []
    },
    {
      "cell_type": "code",
      "metadata": {
        "id": "6oBgx45OuBrB"
      },
      "source": [
        "dt_st[\"Act_submit_Time\"]= pd.to_datetime(dt_st.Act_submit_Time)"
      ],
      "execution_count": null,
      "outputs": []
    },
    {
      "cell_type": "code",
      "metadata": {
        "id": "D7EYONfq_XZF"
      },
      "source": [
        "dt_st[dt_st.Activity_type=='0'][\"Act_time\"]=dt_st.query(\"Activity_type=='0'\").Act_time/60"
      ],
      "execution_count": null,
      "outputs": []
    },
    {
      "cell_type": "code",
      "metadata": {
        "id": "bmyyhLirBhQC",
        "colab": {
          "base_uri": "https://localhost:8080/",
          "height": 359
        },
        "outputId": "5c7e21bb-9c28-437c-ccd6-5f901b8de1ab"
      },
      "source": [
        "dt_st.sample(10)"
      ],
      "execution_count": null,
      "outputs": [
        {
          "output_type": "execute_result",
          "data": {
            "text/html": [
              "<div>\n",
              "<style scoped>\n",
              "    .dataframe tbody tr th:only-of-type {\n",
              "        vertical-align: middle;\n",
              "    }\n",
              "\n",
              "    .dataframe tbody tr th {\n",
              "        vertical-align: top;\n",
              "    }\n",
              "\n",
              "    .dataframe thead th {\n",
              "        text-align: right;\n",
              "    }\n",
              "</style>\n",
              "<table border=\"1\" class=\"dataframe\">\n",
              "  <thead>\n",
              "    <tr style=\"text-align: right;\">\n",
              "      <th></th>\n",
              "      <th>student_ID</th>\n",
              "      <th>Course_code</th>\n",
              "      <th>Activity_id</th>\n",
              "      <th>Activity_type</th>\n",
              "      <th>Unit_id</th>\n",
              "      <th>Chapter_id</th>\n",
              "      <th>Lesson_id</th>\n",
              "      <th>Act_diff</th>\n",
              "      <th>Act_cp_count</th>\n",
              "      <th>Act_time</th>\n",
              "      <th>Act_submit_Time</th>\n",
              "      <th>Act_mark</th>\n",
              "    </tr>\n",
              "  </thead>\n",
              "  <tbody>\n",
              "    <tr>\n",
              "      <th>15</th>\n",
              "      <td>080748524S</td>\n",
              "      <td>g5_2</td>\n",
              "      <td>g5_2-Act_12</td>\n",
              "      <td>0</td>\n",
              "      <td>Un_2</td>\n",
              "      <td>Chp_6</td>\n",
              "      <td>Ls_8</td>\n",
              "      <td>2</td>\n",
              "      <td>1</td>\n",
              "      <td>10</td>\n",
              "      <td>2020-11-14 01:49:01</td>\n",
              "      <td>7.09</td>\n",
              "    </tr>\n",
              "    <tr>\n",
              "      <th>173</th>\n",
              "      <td>071223506S</td>\n",
              "      <td>g7_3</td>\n",
              "      <td>g7_3-Act_14</td>\n",
              "      <td>0</td>\n",
              "      <td>Un_1</td>\n",
              "      <td>Chp_1</td>\n",
              "      <td>Ls_2</td>\n",
              "      <td>4</td>\n",
              "      <td>1</td>\n",
              "      <td>3</td>\n",
              "      <td>2020-05-30 06:27:21</td>\n",
              "      <td>4.10</td>\n",
              "    </tr>\n",
              "    <tr>\n",
              "      <th>71</th>\n",
              "      <td>090904691S</td>\n",
              "      <td>g9_2</td>\n",
              "      <td>g9_2-Act_16</td>\n",
              "      <td>0</td>\n",
              "      <td>Un_1</td>\n",
              "      <td>Chp_1</td>\n",
              "      <td>Ls_4</td>\n",
              "      <td>3</td>\n",
              "      <td>2</td>\n",
              "      <td>9</td>\n",
              "      <td>2020-01-23 16:54:00</td>\n",
              "      <td>4.22</td>\n",
              "    </tr>\n",
              "    <tr>\n",
              "      <th>94</th>\n",
              "      <td>060991839S</td>\n",
              "      <td>g6_3</td>\n",
              "      <td>g6_3-Act_13</td>\n",
              "      <td>0</td>\n",
              "      <td>Un_3</td>\n",
              "      <td>Chp_9</td>\n",
              "      <td>Ls_7</td>\n",
              "      <td>3</td>\n",
              "      <td>2</td>\n",
              "      <td>8</td>\n",
              "      <td>2020-01-05 01:40:59</td>\n",
              "      <td>0.22</td>\n",
              "    </tr>\n",
              "    <tr>\n",
              "      <th>90</th>\n",
              "      <td>060991839S</td>\n",
              "      <td>g6_1</td>\n",
              "      <td>g6_1-Act_4</td>\n",
              "      <td>1</td>\n",
              "      <td>Un_3</td>\n",
              "      <td>Chp_7</td>\n",
              "      <td>Ls_8</td>\n",
              "      <td>4</td>\n",
              "      <td>2</td>\n",
              "      <td>784</td>\n",
              "      <td>2020-10-20 09:53:42</td>\n",
              "      <td>2.13</td>\n",
              "    </tr>\n",
              "    <tr>\n",
              "      <th>160</th>\n",
              "      <td>071223506S</td>\n",
              "      <td>g7_1</td>\n",
              "      <td>g7_1-Act_14</td>\n",
              "      <td>0</td>\n",
              "      <td>Un_4</td>\n",
              "      <td>Chp_9</td>\n",
              "      <td>Ls_8</td>\n",
              "      <td>1</td>\n",
              "      <td>1</td>\n",
              "      <td>7</td>\n",
              "      <td>2020-05-11 07:02:47</td>\n",
              "      <td>0.40</td>\n",
              "    </tr>\n",
              "    <tr>\n",
              "      <th>184</th>\n",
              "      <td>071223506S</td>\n",
              "      <td>g7_2</td>\n",
              "      <td>g7_2-Act_12</td>\n",
              "      <td>0</td>\n",
              "      <td>Un_8</td>\n",
              "      <td>Chp_9</td>\n",
              "      <td>Ls_1</td>\n",
              "      <td>2</td>\n",
              "      <td>2</td>\n",
              "      <td>5</td>\n",
              "      <td>2020-06-23 15:14:57</td>\n",
              "      <td>4.96</td>\n",
              "    </tr>\n",
              "    <tr>\n",
              "      <th>66</th>\n",
              "      <td>090904691S</td>\n",
              "      <td>g9_2</td>\n",
              "      <td>g9_2-Act_11</td>\n",
              "      <td>0</td>\n",
              "      <td>Un_6</td>\n",
              "      <td>Chp_7</td>\n",
              "      <td>Ls_1</td>\n",
              "      <td>4</td>\n",
              "      <td>1</td>\n",
              "      <td>12</td>\n",
              "      <td>2020-07-16 17:42:00</td>\n",
              "      <td>2.45</td>\n",
              "    </tr>\n",
              "    <tr>\n",
              "      <th>156</th>\n",
              "      <td>071223506S</td>\n",
              "      <td>g7_1</td>\n",
              "      <td>g7_1-Act_10</td>\n",
              "      <td>0</td>\n",
              "      <td>Un_0</td>\n",
              "      <td>Chp_4</td>\n",
              "      <td>Ls_8</td>\n",
              "      <td>3</td>\n",
              "      <td>1</td>\n",
              "      <td>8</td>\n",
              "      <td>2020-11-16 20:44:23</td>\n",
              "      <td>8.56</td>\n",
              "    </tr>\n",
              "    <tr>\n",
              "      <th>78</th>\n",
              "      <td>060991839S</td>\n",
              "      <td>g6_1</td>\n",
              "      <td>g6_1-Act_10</td>\n",
              "      <td>0</td>\n",
              "      <td>Un_0</td>\n",
              "      <td>Chp_8</td>\n",
              "      <td>Ls_7</td>\n",
              "      <td>4</td>\n",
              "      <td>2</td>\n",
              "      <td>8</td>\n",
              "      <td>2020-03-27 05:22:09</td>\n",
              "      <td>9.32</td>\n",
              "    </tr>\n",
              "  </tbody>\n",
              "</table>\n",
              "</div>"
            ],
            "text/plain": [
              "     student_ID Course_code  ...     Act_submit_Time  Act_mark\n",
              "15   080748524S        g5_2  ... 2020-11-14 01:49:01      7.09\n",
              "173  071223506S        g7_3  ... 2020-05-30 06:27:21      4.10\n",
              "71   090904691S        g9_2  ... 2020-01-23 16:54:00      4.22\n",
              "94   060991839S        g6_3  ... 2020-01-05 01:40:59      0.22\n",
              "90   060991839S        g6_1  ... 2020-10-20 09:53:42      2.13\n",
              "160  071223506S        g7_1  ... 2020-05-11 07:02:47      0.40\n",
              "184  071223506S        g7_2  ... 2020-06-23 15:14:57      4.96\n",
              "66   090904691S        g9_2  ... 2020-07-16 17:42:00      2.45\n",
              "156  071223506S        g7_1  ... 2020-11-16 20:44:23      8.56\n",
              "78   060991839S        g6_1  ... 2020-03-27 05:22:09      9.32\n",
              "\n",
              "[10 rows x 12 columns]"
            ]
          },
          "metadata": {
            "tags": []
          },
          "execution_count": 83
        }
      ]
    },
    {
      "cell_type": "code",
      "metadata": {
        "id": "2OdTJoF8l5VE"
      },
      "source": [
        "dt_st.set_index(\"Act_submit_Time\", inplace=True)"
      ],
      "execution_count": null,
      "outputs": []
    },
    {
      "cell_type": "markdown",
      "metadata": {
        "id": "-Rk_4Bv9WxWb"
      },
      "source": [
        "## Load the dataset that has statistics about students achievments (( df_mg ))"
      ]
    },
    {
      "cell_type": "code",
      "metadata": {
        "id": "WzQiXyxwXhqO"
      },
      "source": [
        "df_mg=pd.read_csv(\"./Data/student_statistics.csv\", index_col=0,converters={'student_ID': lambda x: str(x)})"
      ],
      "execution_count": null,
      "outputs": []
    },
    {
      "cell_type": "code",
      "metadata": {
        "id": "UmnryCkuuRPW",
        "colab": {
          "base_uri": "https://localhost:8080/",
          "height": 224
        },
        "outputId": "57e592ab-5d60-4f2c-9711-e261f7c2119b"
      },
      "source": [
        "df_mg.head()"
      ],
      "execution_count": null,
      "outputs": [
        {
          "output_type": "execute_result",
          "data": {
            "text/html": [
              "<div>\n",
              "<style scoped>\n",
              "    .dataframe tbody tr th:only-of-type {\n",
              "        vertical-align: middle;\n",
              "    }\n",
              "\n",
              "    .dataframe tbody tr th {\n",
              "        vertical-align: top;\n",
              "    }\n",
              "\n",
              "    .dataframe thead th {\n",
              "        text-align: right;\n",
              "    }\n",
              "</style>\n",
              "<table border=\"1\" class=\"dataframe\">\n",
              "  <thead>\n",
              "    <tr style=\"text-align: right;\">\n",
              "      <th></th>\n",
              "      <th>student_ID</th>\n",
              "      <th>Course_code</th>\n",
              "      <th>Activity_type</th>\n",
              "      <th>Std_act_cp_mean</th>\n",
              "      <th>Std_act_d_mean</th>\n",
              "      <th>Std_act_m_count</th>\n",
              "      <th>Std_act_m_max</th>\n",
              "      <th>Std_act_m_mean</th>\n",
              "      <th>Std_act_m_std</th>\n",
              "      <th>Std_act_t_max</th>\n",
              "      <th>Std_act_t_mean</th>\n",
              "      <th>Std_act_t_std</th>\n",
              "      <th>Act_score</th>\n",
              "      <th>Act_cp_count_mean</th>\n",
              "      <th>Act_diff_mean</th>\n",
              "      <th>Act_mark_count</th>\n",
              "      <th>Act_mark_max</th>\n",
              "      <th>Act_mark_mean</th>\n",
              "      <th>Act_mark_min</th>\n",
              "      <th>Act_time_max</th>\n",
              "      <th>Act_time_mean</th>\n",
              "      <th>Act_time_min</th>\n",
              "      <th>Activities_Count_&lt;lambda&gt;</th>\n",
              "      <th>last_mark</th>\n",
              "    </tr>\n",
              "  </thead>\n",
              "  <tbody>\n",
              "    <tr>\n",
              "      <th>0</th>\n",
              "      <td>060130518</td>\n",
              "      <td>g9_1</td>\n",
              "      <td>0</td>\n",
              "      <td>2.000000</td>\n",
              "      <td>2.0</td>\n",
              "      <td>1</td>\n",
              "      <td>3.57</td>\n",
              "      <td>3.570000</td>\n",
              "      <td>0.000000</td>\n",
              "      <td>15</td>\n",
              "      <td>15.000000</td>\n",
              "      <td>0.000000</td>\n",
              "      <td>6.396581</td>\n",
              "      <td>1.4125</td>\n",
              "      <td>2.4375</td>\n",
              "      <td>80</td>\n",
              "      <td>9.82</td>\n",
              "      <td>5.3555</td>\n",
              "      <td>0.02</td>\n",
              "      <td>16.0</td>\n",
              "      <td>9.35</td>\n",
              "      <td>2.0</td>\n",
              "      <td>20</td>\n",
              "      <td>3.57</td>\n",
              "    </tr>\n",
              "    <tr>\n",
              "      <th>1</th>\n",
              "      <td>060131582</td>\n",
              "      <td>g9_1</td>\n",
              "      <td>0</td>\n",
              "      <td>1.000000</td>\n",
              "      <td>2.0</td>\n",
              "      <td>2</td>\n",
              "      <td>9.82</td>\n",
              "      <td>5.705000</td>\n",
              "      <td>5.819489</td>\n",
              "      <td>7</td>\n",
              "      <td>6.000000</td>\n",
              "      <td>1.414214</td>\n",
              "      <td>24.122744</td>\n",
              "      <td>1.4125</td>\n",
              "      <td>2.4375</td>\n",
              "      <td>80</td>\n",
              "      <td>9.82</td>\n",
              "      <td>5.3555</td>\n",
              "      <td>0.02</td>\n",
              "      <td>16.0</td>\n",
              "      <td>9.35</td>\n",
              "      <td>2.0</td>\n",
              "      <td>20</td>\n",
              "      <td>9.82</td>\n",
              "    </tr>\n",
              "    <tr>\n",
              "      <th>2</th>\n",
              "      <td>060149111</td>\n",
              "      <td>g9_1</td>\n",
              "      <td>0</td>\n",
              "      <td>1.000000</td>\n",
              "      <td>4.0</td>\n",
              "      <td>1</td>\n",
              "      <td>8.52</td>\n",
              "      <td>8.520000</td>\n",
              "      <td>0.000000</td>\n",
              "      <td>13</td>\n",
              "      <td>13.000000</td>\n",
              "      <td>0.000000</td>\n",
              "      <td>15.265791</td>\n",
              "      <td>1.4125</td>\n",
              "      <td>2.4375</td>\n",
              "      <td>80</td>\n",
              "      <td>9.82</td>\n",
              "      <td>5.3555</td>\n",
              "      <td>0.02</td>\n",
              "      <td>16.0</td>\n",
              "      <td>9.35</td>\n",
              "      <td>2.0</td>\n",
              "      <td>20</td>\n",
              "      <td>8.52</td>\n",
              "    </tr>\n",
              "    <tr>\n",
              "      <th>3</th>\n",
              "      <td>060155495</td>\n",
              "      <td>g9_1</td>\n",
              "      <td>0</td>\n",
              "      <td>1.000000</td>\n",
              "      <td>3.5</td>\n",
              "      <td>2</td>\n",
              "      <td>5.90</td>\n",
              "      <td>4.755000</td>\n",
              "      <td>1.619275</td>\n",
              "      <td>8</td>\n",
              "      <td>7.500000</td>\n",
              "      <td>0.707107</td>\n",
              "      <td>12.568177</td>\n",
              "      <td>1.4125</td>\n",
              "      <td>2.4375</td>\n",
              "      <td>80</td>\n",
              "      <td>9.82</td>\n",
              "      <td>5.3555</td>\n",
              "      <td>0.02</td>\n",
              "      <td>16.0</td>\n",
              "      <td>9.35</td>\n",
              "      <td>2.0</td>\n",
              "      <td>20</td>\n",
              "      <td>3.61</td>\n",
              "    </tr>\n",
              "    <tr>\n",
              "      <th>4</th>\n",
              "      <td>060161018</td>\n",
              "      <td>g9_1</td>\n",
              "      <td>0</td>\n",
              "      <td>1.666667</td>\n",
              "      <td>1.0</td>\n",
              "      <td>3</td>\n",
              "      <td>7.94</td>\n",
              "      <td>5.103333</td>\n",
              "      <td>3.090410</td>\n",
              "      <td>8</td>\n",
              "      <td>5.666667</td>\n",
              "      <td>2.081666</td>\n",
              "      <td>17.365351</td>\n",
              "      <td>1.4125</td>\n",
              "      <td>2.4375</td>\n",
              "      <td>80</td>\n",
              "      <td>9.82</td>\n",
              "      <td>5.3555</td>\n",
              "      <td>0.02</td>\n",
              "      <td>16.0</td>\n",
              "      <td>9.35</td>\n",
              "      <td>2.0</td>\n",
              "      <td>20</td>\n",
              "      <td>5.56</td>\n",
              "    </tr>\n",
              "  </tbody>\n",
              "</table>\n",
              "</div>"
            ],
            "text/plain": [
              "  student_ID Course_code  ...  Activities_Count_<lambda>  last_mark\n",
              "0  060130518        g9_1  ...                         20       3.57\n",
              "1  060131582        g9_1  ...                         20       9.82\n",
              "2  060149111        g9_1  ...                         20       8.52\n",
              "3  060155495        g9_1  ...                         20       3.61\n",
              "4  060161018        g9_1  ...                         20       5.56\n",
              "\n",
              "[5 rows x 24 columns]"
            ]
          },
          "metadata": {
            "tags": []
          },
          "execution_count": 86
        }
      ]
    },
    {
      "cell_type": "markdown",
      "metadata": {
        "id": "lhXUPyLdvHjb"
      },
      "source": [
        "## Load the predicted data set (( predict_std ))"
      ]
    },
    {
      "cell_type": "code",
      "metadata": {
        "id": "0GET7cGVvTlr"
      },
      "source": [
        "predict_std=pd.read_csv(\"./Data/predicted_data.csv\", index_col=0,converters={'student_ID': lambda x: str(x)})"
      ],
      "execution_count": null,
      "outputs": []
    },
    {
      "cell_type": "code",
      "metadata": {
        "id": "viJ_3Ym5vsu8",
        "colab": {
          "base_uri": "https://localhost:8080/",
          "height": 255
        },
        "outputId": "fbe6ba57-134c-4588-d994-c6d07b278b4c"
      },
      "source": [
        "predict_std.head()"
      ],
      "execution_count": null,
      "outputs": [
        {
          "output_type": "execute_result",
          "data": {
            "text/html": [
              "<div>\n",
              "<style scoped>\n",
              "    .dataframe tbody tr th:only-of-type {\n",
              "        vertical-align: middle;\n",
              "    }\n",
              "\n",
              "    .dataframe tbody tr th {\n",
              "        vertical-align: top;\n",
              "    }\n",
              "\n",
              "    .dataframe thead th {\n",
              "        text-align: right;\n",
              "    }\n",
              "</style>\n",
              "<table border=\"1\" class=\"dataframe\">\n",
              "  <thead>\n",
              "    <tr style=\"text-align: right;\">\n",
              "      <th></th>\n",
              "      <th>Course_code</th>\n",
              "      <th>Activity_type</th>\n",
              "      <th>Std_act_cp_mean</th>\n",
              "      <th>Std_act_d_mean</th>\n",
              "      <th>Std_act_m_count</th>\n",
              "      <th>Std_act_m_max</th>\n",
              "      <th>Std_act_m_mean</th>\n",
              "      <th>Std_act_m_std</th>\n",
              "      <th>Std_act_t_max</th>\n",
              "      <th>Std_act_t_mean</th>\n",
              "      <th>Std_act_t_std</th>\n",
              "      <th>Act_score</th>\n",
              "      <th>Act_cp_count_mean</th>\n",
              "      <th>Act_diff_mean</th>\n",
              "      <th>Act_mark_count</th>\n",
              "      <th>Act_mark_max</th>\n",
              "      <th>Act_mark_mean</th>\n",
              "      <th>Act_mark_min</th>\n",
              "      <th>Act_time_max</th>\n",
              "      <th>Act_time_mean</th>\n",
              "      <th>Act_time_min</th>\n",
              "      <th>Activities_Count_&lt;lambda&gt;</th>\n",
              "      <th>last_mark</th>\n",
              "    </tr>\n",
              "    <tr>\n",
              "      <th>student_ID</th>\n",
              "      <th></th>\n",
              "      <th></th>\n",
              "      <th></th>\n",
              "      <th></th>\n",
              "      <th></th>\n",
              "      <th></th>\n",
              "      <th></th>\n",
              "      <th></th>\n",
              "      <th></th>\n",
              "      <th></th>\n",
              "      <th></th>\n",
              "      <th></th>\n",
              "      <th></th>\n",
              "      <th></th>\n",
              "      <th></th>\n",
              "      <th></th>\n",
              "      <th></th>\n",
              "      <th></th>\n",
              "      <th></th>\n",
              "      <th></th>\n",
              "      <th></th>\n",
              "      <th></th>\n",
              "      <th></th>\n",
              "    </tr>\n",
              "  </thead>\n",
              "  <tbody>\n",
              "    <tr>\n",
              "      <th>080748524S</th>\n",
              "      <td>g5_1</td>\n",
              "      <td>0</td>\n",
              "      <td>1.777778</td>\n",
              "      <td>2.333333</td>\n",
              "      <td>9</td>\n",
              "      <td>9.35</td>\n",
              "      <td>4.958889</td>\n",
              "      <td>3.068291</td>\n",
              "      <td>16</td>\n",
              "      <td>8.888889</td>\n",
              "      <td>3.480102</td>\n",
              "      <td>34.174257</td>\n",
              "      <td>1.474747</td>\n",
              "      <td>2.616162</td>\n",
              "      <td>99</td>\n",
              "      <td>9.85</td>\n",
              "      <td>4.810000</td>\n",
              "      <td>0.01</td>\n",
              "      <td>16.0</td>\n",
              "      <td>8.797980</td>\n",
              "      <td>2.0</td>\n",
              "      <td>20</td>\n",
              "      <td>5.083149</td>\n",
              "    </tr>\n",
              "    <tr>\n",
              "      <th>080748524S</th>\n",
              "      <td>g5_1</td>\n",
              "      <td>1</td>\n",
              "      <td>1.750000</td>\n",
              "      <td>3.750000</td>\n",
              "      <td>4</td>\n",
              "      <td>9.46</td>\n",
              "      <td>8.155000</td>\n",
              "      <td>1.558001</td>\n",
              "      <td>4285</td>\n",
              "      <td>2741.750000</td>\n",
              "      <td>1564.793570</td>\n",
              "      <td>24.263784</td>\n",
              "      <td>1.494845</td>\n",
              "      <td>2.567010</td>\n",
              "      <td>97</td>\n",
              "      <td>9.83</td>\n",
              "      <td>5.157732</td>\n",
              "      <td>0.06</td>\n",
              "      <td>4356.0</td>\n",
              "      <td>2179.505155</td>\n",
              "      <td>91.0</td>\n",
              "      <td>20</td>\n",
              "      <td>7.524903</td>\n",
              "    </tr>\n",
              "    <tr>\n",
              "      <th>080748524S</th>\n",
              "      <td>g5_2</td>\n",
              "      <td>0</td>\n",
              "      <td>1.222222</td>\n",
              "      <td>2.777778</td>\n",
              "      <td>9</td>\n",
              "      <td>9.30</td>\n",
              "      <td>4.138889</td>\n",
              "      <td>3.379750</td>\n",
              "      <td>16</td>\n",
              "      <td>10.444444</td>\n",
              "      <td>5.270463</td>\n",
              "      <td>37.186354</td>\n",
              "      <td>1.456790</td>\n",
              "      <td>2.407407</td>\n",
              "      <td>81</td>\n",
              "      <td>9.83</td>\n",
              "      <td>5.190864</td>\n",
              "      <td>0.00</td>\n",
              "      <td>16.0</td>\n",
              "      <td>8.703704</td>\n",
              "      <td>2.0</td>\n",
              "      <td>19</td>\n",
              "      <td>4.476848</td>\n",
              "    </tr>\n",
              "    <tr>\n",
              "      <th>080748524S</th>\n",
              "      <td>g5_2</td>\n",
              "      <td>1</td>\n",
              "      <td>1.500000</td>\n",
              "      <td>3.000000</td>\n",
              "      <td>4</td>\n",
              "      <td>5.66</td>\n",
              "      <td>4.780000</td>\n",
              "      <td>0.914440</td>\n",
              "      <td>4130</td>\n",
              "      <td>2854.750000</td>\n",
              "      <td>1300.834444</td>\n",
              "      <td>12.990291</td>\n",
              "      <td>1.445545</td>\n",
              "      <td>2.445545</td>\n",
              "      <td>101</td>\n",
              "      <td>9.70</td>\n",
              "      <td>5.100099</td>\n",
              "      <td>0.08</td>\n",
              "      <td>4373.0</td>\n",
              "      <td>2444.118812</td>\n",
              "      <td>102.0</td>\n",
              "      <td>20</td>\n",
              "      <td>4.802190</td>\n",
              "    </tr>\n",
              "    <tr>\n",
              "      <th>080748524S</th>\n",
              "      <td>g5_3</td>\n",
              "      <td>0</td>\n",
              "      <td>1.555556</td>\n",
              "      <td>2.555556</td>\n",
              "      <td>9</td>\n",
              "      <td>9.73</td>\n",
              "      <td>4.420000</td>\n",
              "      <td>2.838596</td>\n",
              "      <td>16</td>\n",
              "      <td>9.666667</td>\n",
              "      <td>4.609772</td>\n",
              "      <td>40.518231</td>\n",
              "      <td>1.449438</td>\n",
              "      <td>2.359551</td>\n",
              "      <td>89</td>\n",
              "      <td>9.99</td>\n",
              "      <td>4.815506</td>\n",
              "      <td>0.04</td>\n",
              "      <td>16.0</td>\n",
              "      <td>8.842697</td>\n",
              "      <td>2.0</td>\n",
              "      <td>20</td>\n",
              "      <td>4.991331</td>\n",
              "    </tr>\n",
              "  </tbody>\n",
              "</table>\n",
              "</div>"
            ],
            "text/plain": [
              "           Course_code  Activity_type  ...  Activities_Count_<lambda>  last_mark\n",
              "student_ID                             ...                                      \n",
              "080748524S        g5_1              0  ...                         20   5.083149\n",
              "080748524S        g5_1              1  ...                         20   7.524903\n",
              "080748524S        g5_2              0  ...                         19   4.476848\n",
              "080748524S        g5_2              1  ...                         20   4.802190\n",
              "080748524S        g5_3              0  ...                         20   4.991331\n",
              "\n",
              "[5 rows x 23 columns]"
            ]
          },
          "metadata": {
            "tags": []
          },
          "execution_count": 88
        }
      ]
    },
    {
      "cell_type": "markdown",
      "metadata": {
        "id": "S-FamGMRwWdX"
      },
      "source": [
        "## Load Recommend data set (( df_recommend ))"
      ]
    },
    {
      "cell_type": "code",
      "metadata": {
        "id": "8XkG-bV_wjGu"
      },
      "source": [
        "df_recommend=pd.read_csv(\"./Data/recommend.csv\", index_col=0,converters={'student_ID': lambda x: str(x)})"
      ],
      "execution_count": null,
      "outputs": []
    },
    {
      "cell_type": "code",
      "metadata": {
        "id": "EB9kykNmw13h",
        "colab": {
          "base_uri": "https://localhost:8080/",
          "height": 204
        },
        "outputId": "5f038ff1-d098-49f9-bf5e-75b477a638cf"
      },
      "source": [
        "df_recommend.head()"
      ],
      "execution_count": null,
      "outputs": [
        {
          "output_type": "execute_result",
          "data": {
            "text/html": [
              "<div>\n",
              "<style scoped>\n",
              "    .dataframe tbody tr th:only-of-type {\n",
              "        vertical-align: middle;\n",
              "    }\n",
              "\n",
              "    .dataframe tbody tr th {\n",
              "        vertical-align: top;\n",
              "    }\n",
              "\n",
              "    .dataframe thead th {\n",
              "        text-align: right;\n",
              "    }\n",
              "</style>\n",
              "<table border=\"1\" class=\"dataframe\">\n",
              "  <thead>\n",
              "    <tr style=\"text-align: right;\">\n",
              "      <th></th>\n",
              "      <th>student_ID</th>\n",
              "      <th>Lesson_des</th>\n",
              "      <th>lobj_id</th>\n",
              "      <th>lobj_des</th>\n",
              "      <th>LearningObj</th>\n",
              "    </tr>\n",
              "  </thead>\n",
              "  <tbody>\n",
              "    <tr>\n",
              "      <th>0</th>\n",
              "      <td>080748524S</td>\n",
              "      <td>Mean and median</td>\n",
              "      <td>7</td>\n",
              "      <td>Mean, Median &amp; Mode example</td>\n",
              "      <td>Mean and median Mean, Median &amp; Mode example</td>\n",
              "    </tr>\n",
              "    <tr>\n",
              "      <th>1</th>\n",
              "      <td>080748524S</td>\n",
              "      <td>Dot plots &amp; frequency tables</td>\n",
              "      <td>1</td>\n",
              "      <td>Representing Data</td>\n",
              "      <td>Dot plots &amp; frequency tables Representing Data</td>\n",
              "    </tr>\n",
              "    <tr>\n",
              "      <th>2</th>\n",
              "      <td>080748524S</td>\n",
              "      <td>Interquartile range (IQR)</td>\n",
              "      <td>14</td>\n",
              "      <td>Interquartile range (IQR)</td>\n",
              "      <td>Interquartile range (IQR) Interquartile range ...</td>\n",
              "    </tr>\n",
              "    <tr>\n",
              "      <th>3</th>\n",
              "      <td>080748524S</td>\n",
              "      <td>Dot plots &amp; frequency tables</td>\n",
              "      <td>2</td>\n",
              "      <td>Frequency Tables &amp; dot plot</td>\n",
              "      <td>Dot plots &amp; frequency tables Frequency Tables ...</td>\n",
              "    </tr>\n",
              "    <tr>\n",
              "      <th>4</th>\n",
              "      <td>080748524S</td>\n",
              "      <td>Mean absolute deviation (MAD)</td>\n",
              "      <td>21</td>\n",
              "      <td>Mean absolute deviation example</td>\n",
              "      <td>Mean absolute deviation (MAD) Mean absolute de...</td>\n",
              "    </tr>\n",
              "  </tbody>\n",
              "</table>\n",
              "</div>"
            ],
            "text/plain": [
              "   student_ID  ...                                        LearningObj\n",
              "0  080748524S  ...        Mean and median Mean, Median & Mode example\n",
              "1  080748524S  ...     Dot plots & frequency tables Representing Data\n",
              "2  080748524S  ...  Interquartile range (IQR) Interquartile range ...\n",
              "3  080748524S  ...  Dot plots & frequency tables Frequency Tables ...\n",
              "4  080748524S  ...  Mean absolute deviation (MAD) Mean absolute de...\n",
              "\n",
              "[5 rows x 5 columns]"
            ]
          },
          "metadata": {
            "tags": []
          },
          "execution_count": 90
        }
      ]
    },
    {
      "cell_type": "code",
      "metadata": {
        "id": "SDIr4qMr_TFu"
      },
      "source": [
        "#  Json  recommendation Initialization\n",
        "modules=[\n",
        "         {\"unit\":\"Data and statistics\", \n",
        "          \"lessons\":[\n",
        "                    {\"LessName\": \"Dot plots & frequency tables\",\n",
        "                    \"lobs\":[\n",
        "                            {\"lobID\": 1, \"lobName\":\"Representing Data\", \"URL\": \"https://www.khanacademy.org/math/cc-sixth-grade-math/cc-6th-data-statistics/dot-plot/v/ways-to-represent-data?modal=1\" },\n",
        "                            {\"lobID\": 2,\"lobName\":\"Frequency Tables & dot plot\", \"URL\": \"https://www.khanacademy.org/math/cc-sixth-grade-math/cc-6th-data-statistics/dot-plot/v/frequency-tables-and-dot-plots?modal=1\"}\n",
        "                          ]\n",
        "                          \n",
        "                    },\n",
        "                    {\"LessName\": \"Statistical questions\",\n",
        "                    \"lobs\":[\n",
        "                            {\"lobID\": 3, \"lobName\":\"Statistical questions\", \"URL\": \"https://www.khanacademy.org/math/cc-sixth-grade-math/cc-6th-data-statistics/cc-6-statistical-questions/v/understanding-statistical-questions?modal=1\"}\n",
        "                          ]\n",
        "                    },\n",
        "                    {\"LessName\": \"Histograms\",\n",
        "                    \"lobs\":[\n",
        "                            {\"lobID\": 4, \"lobName\":\"Creating a histogram\", \"URL\": \"https://www.khanacademy.org/math/cc-sixth-grade-math/cc-6th-data-statistics/histograms/v/histograms-intro?modal=1\"},\n",
        "                            {\"lobID\": 5, \"lobName\":\"Interpreting a histogram\", \"URL\": \"https://www.khanacademy.org/math/cc-sixth-grade-math/cc-6th-data-statistics/histograms/v/interpreting-histograms?modal=1\"}\n",
        "                          ]\n",
        "                    },\n",
        "                    {\"LessName\": \"Mean and median\",\n",
        "                    \"lobs\":[\n",
        "                            \n",
        "                                {\"lobID\": 6, \"lobName\":\"Statistics Intro: Mean, Median & Mode\", \"URL\": \"https://www.khanacademy.org/math/cc-sixth-grade-math/cc-6th-data-statistics/mean-and-median/v/statistics-intro-mean-median-and-mode?modal=1\"}, \n",
        "                                {\"lobID\": 7, \"lobName\":\"Mean, Median & Mode example\", \"URL\": \"https://www.khanacademy.org/math/cc-sixth-grade-math/cc-6th-data-statistics/mean-and-median/v/mean-median-and-mode?modal=1\"},\n",
        "                                {\"lobID\": 8 , \"lobName\":\"Calculating the mean\", \"URL\": \"https://www.khanacademy.org/math/cc-sixth-grade-math/cc-6th-data-statistics/mean-and-median/a/calculating-the-mean?modal=1\"}\n",
        "                                \n",
        "                                \n",
        "                          ]\n",
        "                    },\n",
        "                    {\"LessName\": \"Mean and median challenge problems\",\n",
        "                    \"lobs\":[\n",
        "                             {\"lobID\": 9, \"lobName\": \"Missing value given the mean\", \"URL\": \"https://www.khanacademy.org/math/cc-sixth-grade-math/cc-6th-data-statistics/cc-6th-mean-median-challenge/v/using-mean-to-find-missing-value?modal=1\"},\n",
        "                              {\"lobID\":10 , \"lobName\":\"Mean as the balancing point\" , \"URL\" : \"https://www.khanacademy.org/math/cc-sixth-grade-math/cc-6th-data-statistics/cc-6th-mean-median-challenge/a/mean-as-the-balancing-point?modal=1\"},\n",
        "                              {\"lobID\": 11, \"lobName\":\"Impact on median & mean: Removing an outlier\" , \"URL\" : \"https://www.khanacademy.org/math/cc-sixth-grade-math/cc-6th-data-statistics/cc-6th-mean-median-challenge/v/impact-on-median-and-mean-when-removing-lowest-value-example?modal=1\"},\n",
        "                              {\"lobID\": 12, \"lobName\":\"Impact on median & mean: increasing an outlier\" , \"URL\" : \"https://www.khanacademy.org/math/cc-sixth-grade-math/cc-6th-data-statistics/cc-6th-mean-median-challenge/v/impact-on-median-and-mean-when-increasing-highest-value?modal=1\"},\n",
        "                              {\"lobID\": 13, \"lobName\":\"Median & range puzzlers\" , \"URL\" : \"https://www.khanacademy.org/math/cc-sixth-grade-math/cc-6th-data-statistics/cc-6th-mean-median-challenge/v/median-and-range-puzzle?modal=1\"}\n",
        "                          ]\n",
        "                    },\n",
        "                    {\"LessName\": \"Interquartile range (IQR)\",\n",
        "                    \"lobs\":[\n",
        "                            {\"lobID\": 14, \"lobName\":\"Interquartile range (IQR)\", \"URL\" : \"https://www.khanacademy.org/math/cc-sixth-grade-math/cc-6th-data-statistics/cc-6th/v/calculating-interquartile-range-iqr?modal=1\"}\n",
        "                          ]\n",
        "                    },\n",
        "                    {\"LessName\": \"Box Plots\",\n",
        "                    \"lobs\":[\n",
        "                            {\"lobID\":15  , \"lobName\":\"Reading box plots\", \"URL\" : \"https://www.khanacademy.org/math/cc-sixth-grade-math/cc-6th-data-statistics/cc-6th-box-whisker-plots/v/reading-box-and-whisker-plots?modal=1\"},\n",
        "                             {\"lobID\":16  , \"lobName\":\"Constructing a box plot\", \"URL\" : \"https://www.khanacademy.org/math/cc-sixth-grade-math/cc-6th-data-statistics/cc-6th-box-whisker-plots/v/constructing-a-box-and-whisker-plot?modal=1\"},\n",
        "                             {\"lobID\":17  , \"lobName\":\"Worked example: Creating box plot (odd number of data points)\", \"URL\" : \"https://www.khanacademy.org/math/cc-sixth-grade-math/cc-6th-data-statistics/cc-6th-box-whisker-plots/v/box-and-whisker-plot-exercise-example?modal=1\"},\n",
        "                             {\"lobID\":18  , \"lobName\":\"Worked example: Creating box plot (even number of data points)\", \"URL\" : \"https://www.khanacademy.org/math/cc-sixth-grade-math/cc-6th-data-statistics/cc-6th-box-whisker-plots/v/constructing-a-box-and-whisker-plot?modal=1\"},\n",
        "                             {\"lobID\":19  , \"lobName\":\"Worked example: Interpreting a box plot\", \"URL\" : \"https://www.khanacademy.org/math/cc-sixth-grade-math/cc-6th-data-statistics/cc-6th-box-whisker-plots/v/interpreting-box-plots?modal=1\"}\n",
        "                          ]\n",
        "                    },\n",
        "\n",
        "                    {\"LessName\": \"Mean absolute deviation (MAD)\",\n",
        "                    \"lobs\":[\n",
        "                            { \"lobID\":20 , \"lobName\":\"Mean absolute deviation (MAD)\", \"URL\" : \"https://www.khanacademy.org/math/cc-sixth-grade-math/cc-6th-data-statistics/cc-6-mad/v/mean-absolute-deviation?modal=1\"},\n",
        "                              {\"lobID\":21 , \"lobName\":\"Mean absolute deviation example\", \"URL\" : \"https://www.khanacademy.org/math/cc-sixth-grade-math/cc-6th-data-statistics/cc-6-mad/v/mean-absolute-deviation-example?modal=1\"}\n",
        "                          ]\n",
        "                    },\n",
        "                    {\"LessName\": \"Comparing Data Display\",\n",
        "                    \"lobs\":[\n",
        "                            {\"lobID\":22 , \"lobName\":\"Comparing dot plots, histograms and box plots\", \"URL\" : \"https://www.khanacademy.org/math/cc-sixth-grade-math/cc-6th-data-statistics/cc-7th-compare-data-displays/v/comparing-dot-plots-histograms-and-box-plots?modal=1\"}\n",
        "                          ]\n",
        "                    },\n",
        "                    {\"LessName\": \"Shape of Data Distribution\",\n",
        "                    \"lobs\":[\n",
        "                            {\"lobID\":23 , \"lobName\":\"Shape of distributions\", \"URL\" : \"https://www.khanacademy.org/math/cc-sixth-grade-math/cc-6th-data-statistics/cc-6-shape-of-data/v/shapes-of-distributions?modal=1\"},\n",
        "                              {\"lobID\":24 , \"lobName\":\"Clusters, gaps, peaks & outliers\", \"URL\" : \"https://www.khanacademy.org/math/cc-sixth-grade-math/cc-6th-data-statistics/cc-6-shape-of-data/v/examples-analyzing-clusters-gaps-peaks-and-outliers-for-distributions?modal=1\"}\n",
        "                          ]\n",
        "                    },\n",
        "                    \n",
        "\n",
        "                    \n",
        "                    ],\n",
        "           \n",
        "          \n",
        "          }\n",
        "         ]"
      ],
      "execution_count": null,
      "outputs": []
    },
    {
      "cell_type": "markdown",
      "metadata": {
        "id": "nXRvlYwYEChJ"
      },
      "source": [
        "# Regular sub plots"
      ]
    },
    {
      "cell_type": "markdown",
      "metadata": {
        "id": "LmjVvM_3uoFt"
      },
      "source": [
        "## Graph the selected student's marks , prediction and recommendations\n"
      ]
    },
    {
      "cell_type": "code",
      "metadata": {
        "id": "25_pz9QN_N4e"
      },
      "source": [
        "import ipywidgets as widgets \n",
        "from ipywidgets import interact\n",
        "from matplotlib.dates import DateFormatter\n",
        "from datetime import timedelta"
      ],
      "execution_count": null,
      "outputs": []
    },
    {
      "cell_type": "code",
      "metadata": {
        "id": "Ocx6AF716wv7"
      },
      "source": [
        "from sklearn.feature_extraction.text import CountVectorizer\n",
        "from sklearn.metrics.pairwise import cosine_similarity"
      ],
      "execution_count": null,
      "outputs": []
    },
    {
      "cell_type": "code",
      "metadata": {
        "id": "WCKVnErTndB9"
      },
      "source": [
        "std_d={}\n",
        "for st in  dt_st.student_ID.unique():\n",
        "  std_d[st]=dt_st[dt_st.student_ID==st][\"Course_code\"].unique()"
      ],
      "execution_count": null,
      "outputs": []
    },
    {
      "cell_type": "code",
      "metadata": {
        "id": "c6P_nYcxAt2B",
        "colab": {
          "base_uri": "https://localhost:8080/",
          "height": 145,
          "referenced_widgets": [
            "45ddacff80064ff5b44d73bc59533b58",
            "0c0b90620d044521a5c656b31bd15589",
            "2c5ba70cbd7c4cc48919bcffd4cce8ca",
            "04d3161c0fe84152a4f98ca4dd6e32e3",
            "53185c3897ca483290b328ab63e72cce",
            "31a46baaf9124352804e8e61d24d55c8",
            "d8a6a246d07c4dc1857e941ae00be472",
            "6eac060268644e1cb4ad9488dd698c32",
            "2f0a625b66694e6d9662ffa1543f4eeb",
            "6992d928534c42c59b81901696e5c603",
            "ddeec05aedaa4769b2944c2653b3f5d3",
            "7e82e221e9fa4374971045d46fd5d0ef",
            "051e7d62896943e2926a0110336a4a5b",
            "846c075983ce4d40ae2d1dc4517153e4",
            "3a4fb7a869d3411ab98bab3fd4edfac4",
            "f1cbc0b4e76945f3906d20de263afb66"
          ]
        },
        "outputId": "f8faced0-0443-4260-a889-1b1485c19d6b"
      },
      "source": [
        "from ipywidgets import interact, Dropdown, Checkbox, DatePicker\n",
        "from IPython.core.display import display, HTML\n",
        "from datetime import date\n",
        "\n",
        "\n",
        "stID = Dropdown(options = std_d.keys())\n",
        "course = Dropdown(options = std_d[stID.value]) # options = std_d[stID.value] is to remove inital error but not that necessary.\n",
        "D1=DatePicker(\n",
        "    description='Pick a start date')\n",
        "D2=DatePicker(\n",
        "    description='Pick a start date')\n",
        "D3=DatePicker(\n",
        "    description='Pick a start date')\n",
        "box = Checkbox(False, description='View Assignments')\n",
        "\n",
        "D1.value=pd.to_datetime(\"2021-08-08\")\n",
        "D2.value=date.today()\n",
        "D3.value=date.today()\n",
        "@interact(st = stID, cs = course, dt=D1, chkbx= box)\n",
        "def print_cs(st, cs, dt, chkbx ):\n",
        "    course.options = std_d[st] # Here is the trick, i.e. update course.options based on st, namely stID.value.\n",
        "    # print(st, cs)\n",
        "    box.description = \" Assignement\"   if chkbx   else \"Quizz\"\n",
        "\n"
      ],
      "execution_count": null,
      "outputs": [
        {
          "output_type": "display_data",
          "data": {
            "application/vnd.jupyter.widget-view+json": {
              "model_id": "45ddacff80064ff5b44d73bc59533b58",
              "version_minor": 0,
              "version_major": 2
            },
            "text/plain": [
              "interactive(children=(Dropdown(description='st', options=('080748524S', '090904691S', '060991839S', '071059051…"
            ]
          },
          "metadata": {
            "tags": []
          }
        }
      ]
    },
    {
      "cell_type": "code",
      "metadata": {
        "id": "5_r-Ky1AMDDq"
      },
      "source": [
        "def  recommend(st):\n",
        "#  full code for recommendation \n",
        "    \n",
        "\n",
        "# Current Student Actual. learningobjects\n",
        "  df_st_Rec=df_recommend.query(f\"student_ID=='{st}'\").drop_duplicates(subset=[\"lobj_id\"], keep=\"first\")\n",
        "##----Generate Vecrorized DF--------------------\n",
        "  sorted_score=[]\n",
        "  lst_obj=[]\n",
        "\n",
        "  \n",
        "  for lobInd in list(df_st_Rec.index):\n",
        "    df_vectorize= df_recommend[df_recommend.student_ID !=st].append(\n",
        "    {\"student_ID\":st, \"Lesson_des\":df_st_Rec.loc[lobInd,\"Lesson_des\" ],\"lobj_id\":df_st_Rec.loc[lobInd,\"lobj_id\"],\n",
        "     \"lobj_des\":df_st_Rec.loc[lobInd,\"lobj_des\"],\"LearningObj\":df_st_Rec.loc[lobInd,\"LearningObj\"] }, ignore_index=True)  \n",
        "    cs= cosine_similarity(CountVectorizer().fit_transform(df_vectorize.LearningObj))\n",
        "    sorted_score += sorted(list(enumerate(cs[df_vectorize.shape[0]-1])), key=lambda x: x[1], reverse=True)\n",
        "    sorted_score.sort( key=lambda x : x[1] , reverse=True)\n",
        "\n",
        "  for  rec in sorted_score:\n",
        "    lst_obj.append(df_vectorize.loc[rec[0], \"lobj_des\"])\n",
        "    lst_obj=list(dict.fromkeys(lst_obj))\n",
        "        # take  first  5 elements\n",
        "    lst_obj=[  lob   for  lob in  lst_obj  if lob not in df_st_Rec.lobj_des.unique()]\n",
        "\n",
        "  return lst_obj\n",
        "  #return recommend"
      ],
      "execution_count": 456,
      "outputs": []
    },
    {
      "cell_type": "code",
      "metadata": {
        "id": "0TQx3FD4n61l",
        "colab": {
          "base_uri": "https://localhost:8080/"
        },
        "outputId": "c3805559-bb78-4e7b-cc54-6df2f083ebb9"
      },
      "source": [
        "recommend(\"080748524S\")"
      ],
      "execution_count": 457,
      "outputs": [
        {
          "output_type": "execute_result",
          "data": {
            "text/plain": [
              "['Constructing a box plot',\n",
              " 'Mean as the balancing point',\n",
              " 'Missing value given the mean',\n",
              " 'Worked example: Interpreting a box plot',\n",
              " 'Worked example: Creating box plot (even number of data points)',\n",
              " 'Worked example: Creating box plot (odd number of data points)',\n",
              " 'Interpreting a histogram',\n",
              " 'Creating a histogram',\n",
              " 'Statistical questions']"
            ]
          },
          "metadata": {
            "tags": []
          },
          "execution_count": 457
        }
      ]
    },
    {
      "cell_type": "code",
      "metadata": {
        "id": "2p9uGUPh1lP1"
      },
      "source": [
        "# t=dt_st.reset_index().query(\"student_ID=='080748524S'\")[[\"Act_time\",\"Act_mark\"]]\n",
        "# sorted([tuple(e) for e in t.to_numpy()], key=lambda x: x[1], reverse=True)\n"
      ],
      "execution_count": null,
      "outputs": []
    },
    {
      "cell_type": "code",
      "metadata": {
        "id": "Uz7rTY91u2nA"
      },
      "source": [
        "def url_lobj(lob):\n",
        "  \n",
        "  for i in modules:\n",
        "    for j in i[\"lessons\"]:\n",
        "      for k in j[\"lobs\"]:\n",
        "        if k[\"lobName\"]==lob:\n",
        "          return  k[\"URL\"]\n"
      ],
      "execution_count": null,
      "outputs": []
    },
    {
      "cell_type": "code",
      "metadata": {
        "id": "3v1lbFYV3vaf"
      },
      "source": [
        "#!pip install arabic_reshaper"
      ],
      "execution_count": null,
      "outputs": []
    },
    {
      "cell_type": "code",
      "metadata": {
        "id": "CSpIrI3r33f2"
      },
      "source": [
        "#import arabic_reshaper"
      ],
      "execution_count": null,
      "outputs": []
    },
    {
      "cell_type": "code",
      "metadata": {
        "id": "7IZNuCi1Oa66"
      },
      "source": [
        "def plot_std_Data11(st, cs, dt, chk):\n",
        "  \n",
        "  dt_plot=dt_st.query(f\"Course_code=='{cs}' & student_ID=='{st}' & Activity_type=='{chk}'\")\n",
        "  # dt_plt=dt_plot.reset_index().query(f\"Act_submit_Time>='{dt}'\")\n",
        "  if (dt_plot.reset_index().query(f\"Act_submit_Time>='{dt}'\").shape[0]>0):\n",
        "\n",
        "    for item in recommend(st):\n",
        "      display(HTML(f\"<a href={url_lobj(item)} target='_blank'>{item}</a>\"))\n",
        "    course.options = std_d[st]\n",
        "    plt.rcParams.update({'font.size': 20})\n",
        "    \n",
        "    \n",
        "    fig,ax=plt.subplots( figsize=(22,10) )\n",
        "    \n",
        "\n",
        "    #  subplots   x, y  :  should be related to the number of Activity_type of current student.\n",
        "    ax1=ax.twinx()\n",
        "\n",
        "    lst_lobj=recommend(st)\n",
        "    plt.subplots_adjust(top = 0.99, bottom=0.01,hspace=0.4)\n",
        "\n",
        "  ######### USED TO PICK DATE FROM CALENDER  #########\n",
        "    # dt_tmp= dt_st.query(\n",
        "    #     f\"student_ID=='{st}' & Course_code=='{cs}'& Activity_type=='{chk}'\")[[\"Act_mark\", \"Activity_id\" ]]\n",
        "    # dt_tmp=dt_tmp.query(f\"Act_submit_Time >= '{dt}'\")\n",
        "    # if dt_tmp.shape[0]>0:\n",
        "    #   course.options = std_d[st]\n",
        "\n",
        "\n",
        "     \n",
        "    ind_xticks=dt_st.query(f\"student_ID=='{st}' & Course_code=='{cs}' & Activity_type=='{chk}' \").index\n",
        "\n",
        "    \n",
        "    ref_q=dt_st.reset_index().query(f\"student_ID=='{st}' & Course_code=='{cs}' & Activity_type=='{chk}' \").Act_submit_Time.max()\n",
        "    x_point=[ref_q, ref_q+ timedelta(days=7)]\n",
        "    y_point=[dt_st.loc[ref_q, \"Act_mark\"], predict_std.reset_index().query(f\"student_ID=='{st}'  & Course_code=='{cs}' & Activity_type=='{chk}' \").last_mark]\n",
        "    ax.plot(x_point , y_point, linestyle='dashed', marker='o',\n",
        "                  markerfacecolor='blue', markersize=12)\n",
        "      \n",
        "\n",
        "    dt_plot.Act_mark.plot( \n",
        "        subplots=True,marker=\"o\",    ax=ax , color=\"brown\")\n",
        "    \n",
        "  \n",
        "    # ax4=ax1.twinx()\n",
        "    dt_plot.Act_time.plot( \n",
        "        subplots=True, marker=\"s\",   ax=ax1 , color=\"green\")\n",
        "\n",
        "    Alabel=\"درجات الأنشطة\"   if chk  else  \"درجات الاختبارات\"\n",
        "    #Alabel = get_display( arabic_reshaper.reshape(']v[hj hgHka'm'.decode('utf8')))\n",
        "\n",
        "\n",
        "\n",
        "\n",
        "    Atitle= \" درجات الأنشطة / لكل شهر \"  if chk   else \" درجات الاختبارات / لكل شهر \"\n",
        "\n",
        "    # ---------------------------------------------------------------------\n",
        "    # Set title and labels for axes\n",
        "    ax.set(ylabel= Alabel) \n",
        "    \n",
        "    ax.legend(bbox_to_anchor=(1.05, 1), loc='upper left')\n",
        "    #plt.legend(handles=[p1, p2], title='title', bbox_to_anchor=(1.05, 1), loc='upper left', prop=fontP)\n",
        "\n",
        "\n",
        "    Qlabel=\"عدد الدقائق لحل النشاط\"   if chk  else  \"عدد الدقائق لحل الاختبار\"\n",
        "    T_title= \" درجات الأنشطة بالمقارنة مع المدة الزمنية للتسليم  \"  if chk   else \" درجات الاختبارات بالمقارنة مع المدة الزمنية للتسليم \"\n",
        "\n",
        "    ax1.set(\n",
        "          ylabel=  Qlabel, \n",
        "          title=T_title\n",
        "          )\n",
        "    ax1.grid()\n",
        "    ax1.legend(bbox_to_anchor=(1.05, 1), loc='lower left')\n",
        "    fig.autofmt_xdate(rotation=90)\n",
        "    plt.show()\n",
        "    \n",
        "  else:\n",
        "    print(\" No records Available\")\n",
        "      # for item in recommend(st):\n",
        "    "
      ],
      "execution_count": 452,
      "outputs": []
    },
    {
      "cell_type": "code",
      "metadata": {
        "id": "oZ0_MGPw9ldd",
        "colab": {
          "base_uri": "https://localhost:8080/",
          "height": 17,
          "referenced_widgets": [
            "46380afafd184bd1bdb6c546e13122ed",
            "3beee7f1545248f885c5765cec29dbf9",
            "2da8bd9d048c4d31b0be6057c169ff9a",
            "8c1f47ab11bc42eab34316dc35e7d65a",
            "89ce8e0bd53645f7b3018b6a237b3530",
            "f61a3cd6be7345d9b184f571877d6269",
            "e6160230c15b477da8e9e9bb58bee5ea",
            "92766aa4d5a642bd93acd69a91d16a7f",
            "31d7986966b841ffab2dc8f69aba3994"
          ]
        },
        "outputId": "9c2a1438-5ae9-42f3-bc91-e99c666b038a"
      },
      "source": [
        "@interact(st = stID, cs = course, dt = D1, chkbx = box)\n",
        "def plot_data( st, cs, dt , chkbx):\n",
        "  #print(((chkbx)+0))\n",
        "  box.description = \" Assignement\"   if chkbx   else \"Quizz\"\n",
        "  # print(predict_std.reset_index().query(f\"Course_code=='{cs}' & student_ID=='{st}'\"))\n",
        "  plot_std_Data11(st, cs, dt , ((chkbx)+0))"
      ],
      "execution_count": 454,
      "outputs": [
        {
          "output_type": "display_data",
          "data": {
            "application/vnd.jupyter.widget-view+json": {
              "model_id": "46380afafd184bd1bdb6c546e13122ed",
              "version_minor": 0,
              "version_major": 2
            },
            "text/plain": [
              "interactive(children=(Dropdown(description='st', options=('080748524S', '090904691S', '060991839S', '071059051…"
            ]
          },
          "metadata": {
            "tags": []
          }
        }
      ]
    },
    {
      "cell_type": "markdown",
      "metadata": {
        "id": "BFOwH4RLDbdP"
      },
      "source": [
        "# Graph using Box plot"
      ]
    },
    {
      "cell_type": "markdown",
      "metadata": {
        "id": "lCHcvXhY_xRl"
      },
      "source": [
        "## Plot mark VS submit_time ( with box plot )"
      ]
    },
    {
      "cell_type": "code",
      "metadata": {
        "id": "650hHQaSFn6b"
      },
      "source": [
        "#Combine Graph\n",
        "\n",
        "def plot_std_Data2(st, cs, dt ,chk):\n",
        "  import seaborn as sns \n",
        "  import matplotlib.pyplot as plt\n",
        "\n",
        "\n",
        "  dt_tmp= dt_st.query(\n",
        "      f\"student_ID=='{st}' & Course_code=='{cs}' & Activity_type=='{chk}'\"\n",
        "      )[[\"Act_mark\", \"Activity_id\" ]]\n",
        "  dt_tmp.sort_index( inplace=True )\n",
        "  pd.to_datetime(dt_tmp.index).strftime('%d-%m-%Y')\n",
        " \n",
        " \n",
        "  if (dt_tmp.reset_index().query(f\"Act_submit_Time>='{dt}'\").shape[0]>0):\n",
        "\n",
        "\n",
        "    fg, ax= plt.subplots( figsize=(20,8))\n",
        "    course.options = std_d[st]\n",
        "\n",
        "\n",
        "  ######### USED TO PICK DATE FROM CALENDER  #########\n",
        "    # dt_tmp= dt_st.query(\n",
        "    #     f\"student_ID=='{st}' & Course_code=='{cs}'& Activity_type=='{chk}'\")[[\"Act_mark\", \"Activity_id\" ]]\n",
        "    # dt_tmp=dt_tmp.query(f\"Act_submit_Time >= '{dt}'\")\n",
        "    # if dt_tmp.shape[0]>0:\n",
        "    #   course.options = std_d[st]\n",
        "\n",
        "\n",
        "    \n",
        "  ######## Predicted value  ###########\n",
        "    #   we suppose that  predict_std is already available\n",
        "    ref_q=dt_st.sort_index().query(\n",
        "        f\"student_ID=='{st}' & Course_code=='{cs}' & Activity_type=='{chk}'\"\n",
        "        ).tail(1).index+timedelta(days=7)\n",
        "    \n",
        "    yq_point=[dt_st.sort_index().query(\n",
        "        f\"student_ID=='{st}' & Course_code=='{cs}' & Activity_type=='{chk}' \"\n",
        "        ).Act_mark.tail(1) \n",
        "    , predict_std.reset_index().query(\n",
        "        f\"student_ID=='{st}'  & Course_code=='{cs}' & Activity_type=='{chk}' \"\n",
        "        ).last_mark]\n",
        "    #print(yq_point)\n",
        "    print(f\"  Predicted Mark: {list(yq_point[1])[0]}\")\n",
        "\n",
        "  ##########################################\n",
        "    df_stAct=pd.DataFrame()\n",
        "\n",
        "    for col, time in zip(\n",
        "        dt_tmp[\"Activity_id\"],dt_tmp.reset_index().Act_submit_Time.unique()\n",
        "        ):\n",
        "      df_bx=pd.DataFrame()\n",
        "      df_bx=df_avt.query(\n",
        "          f\"Activity_id== '{col}' & Activity_type=='{chk}'\"\n",
        "          )[[\"Activity_id\", \"Act_mark\"]]\n",
        "      df_bx[\"Act_submit_Time\"]= pd.to_datetime(time).strftime('%d-%m-%Y')\n",
        "      df_stAct= pd.concat([df_stAct, df_bx ])\n",
        "\n",
        "    sns.boxplot(x=\"Activity_id\" ,  \n",
        "                y= \"Act_mark\", data=df_stAct , ax=ax ,width= 0.3)\n",
        "    \n",
        "    dt_tmp.reset_index().append({\n",
        "        \"Act_submit_Time\":ref_q.strftime('%d-%m-%Y'),\n",
        "        \"Act_mark\":list(yq_point[1])[0]\n",
        "    }, ignore_index=True).Act_mark.plot(ax=ax, color=\"k\", marker='o', linewidth=2, markersize=9) \n",
        "\n",
        "\n",
        "    dt_tmp.reset_index().append({\n",
        "        \"Act_submit_Time\":ref_q.strftime('%d-%m-%Y'),\n",
        "        \"Act_mark\":list(yq_point[1])[0]\n",
        "    }, ignore_index=True).tail(2).Act_mark.plot(ax=ax, color=\"r\",  marker='o',linestyle='dashed' ,linewidth=5, markersize=14 ) \n",
        "    \n",
        "\n",
        "    graphTitle= \"Student's Assignement mark compared to other students\" if chk  else \" Student's quiz mark compared to other students\" \n",
        "    plt.title(graphTitle , fontsize=20)\n",
        "    plt.xlabel(\"Date\" , fontsize=20)\n",
        "    plt.ylabel(\"Mark\" , fontsize=20)\n",
        "    plt.xticks(rotation=70)\n",
        "    ax.set_xticklabels(dt_tmp.index.strftime('%d-%m-%Y'))\n",
        "    L=plt.legend()\n",
        "    L.get_texts()[0].set_text('Actual marks')\n",
        "    L.get_texts()[1].set_text('Predicted mark')\n",
        "\n",
        "    plt.grid()\n",
        "    plt.show()\n",
        "  else:\n",
        "    print(\"  No records Available\")"
      ],
      "execution_count": null,
      "outputs": []
    },
    {
      "cell_type": "code",
      "metadata": {
        "id": "1rKm1eO7dJ8a",
        "colab": {
          "base_uri": "https://localhost:8080/",
          "height": 162,
          "referenced_widgets": [
            "82c97f59b00d4824be8c779587fde0d0",
            "3e1655981ddc4b3bab5f724646ee689c",
            "2c5ba70cbd7c4cc48919bcffd4cce8ca",
            "04d3161c0fe84152a4f98ca4dd6e32e3",
            "1af83d0088b442709e6511122f813849",
            "31a46baaf9124352804e8e61d24d55c8",
            "7fa7a26079bf46e8a5e6b16d8bcd7e96",
            "6eac060268644e1cb4ad9488dd698c32",
            "2f0a625b66694e6d9662ffa1543f4eeb",
            "6992d928534c42c59b81901696e5c603",
            "ddeec05aedaa4769b2944c2653b3f5d3",
            "85427d7c04d54d9a8a5bca7af0d30232",
            "bcf5d7298950457cb44094473e818c48",
            "846c075983ce4d40ae2d1dc4517153e4",
            "3a4fb7a869d3411ab98bab3fd4edfac4",
            "a4abe84d58114bfbbe0bc86357eeb68d"
          ]
        },
        "outputId": "2b436d57-652d-48c4-ce2d-9c1e511bbaf7"
      },
      "source": [
        "@interact(st = stID, cs = course, dt = D2, chkbx = box)\n",
        "def plot_data2( st, cs, dt , chkbx):\n",
        "  #print(((chkbx)+0))\n",
        "  box.description = \" Assignement\"   if chkbx   else \"Quizz\"\n",
        "  # print(predict_std.reset_index().query(f\"Course_code=='{cs}' & student_ID=='{st}'\"))\n",
        "  plot_std_Data2(st, cs, dt , ((chkbx)+0))"
      ],
      "execution_count": null,
      "outputs": [
        {
          "output_type": "display_data",
          "data": {
            "application/vnd.jupyter.widget-view+json": {
              "model_id": "82c97f59b00d4824be8c779587fde0d0",
              "version_minor": 0,
              "version_major": 2
            },
            "text/plain": [
              "interactive(children=(Dropdown(description='st', options=('080748524S', '090904691S', '060991839S', '071059051…"
            ]
          },
          "metadata": {
            "tags": []
          }
        }
      ]
    },
    {
      "cell_type": "code",
      "metadata": {
        "id": "_RkmNNuo52pw"
      },
      "source": [
        "######  TRY PLOTLY (2)\n",
        "import plotly\n",
        "import plotly.graph_objects as go\n",
        "from plotly.subplots import make_subplots\n",
        "import datetime "
      ],
      "execution_count": null,
      "outputs": []
    },
    {
      "cell_type": "code",
      "metadata": {
        "id": "SWUxMQNqvScT"
      },
      "source": [
        "def plot_std_Data3(st, cs,chk, dt):\n",
        "\n",
        "########## DATA HERE -----------------------\n",
        "  dt_tmp= dt_st.query(\n",
        "      f\"student_ID=='{st}' & Course_code=='{cs}'& Activity_type=='{chk}'\")[[\"Act_mark\", \"Activity_id\" ]]\n",
        "  dt_tmp=dt_tmp.query(f\"Act_submit_Time >= '{dt}'\")\n",
        "  if dt_tmp.shape[0]>0:\n",
        "    course.options = std_d[st]\n",
        "    \n",
        "    dt_tmp.sort_index( inplace=True )\n",
        "    dt_tmp.reset_index(inplace=True)\n",
        "  #  Query only  records  done after  selected Date\n",
        "    \n",
        "  \n",
        "    ref_t= dt_tmp.loc[dt_tmp.shape[0]-1, \"Act_submit_Time\"] + timedelta(days=7)\n",
        "    dt_tmp['Act_submit_Time'] = dt_tmp.Act_submit_Time.apply(lambda x: x.strftime('%d-%m-%Y'))\n",
        "  # dt_tmp[\"Act_submit_Time\"]= dt_tmp.Act_submit_Time.astype(str).str[:-9]\n",
        "  \n",
        "######## Predicted value  ###########\n",
        "  #   we suppose that  predict_std is already available\n",
        "  \n",
        "    yq_point=[dt_st.sort_index().query(\n",
        "      f\"student_ID=='{st}' & Course_code=='{cs}' & Activity_type=='{chk}' \"\n",
        "      ).Act_mark.tail(1) \n",
        "    , predict_std.reset_index().query(\n",
        "       f\"student_ID=='{st}'  & Course_code=='{cs}' & Activity_type=='{chk}' \"\n",
        "       ).last_mark]\n",
        " \n",
        "########################################## \n",
        "    df_stAct=pd.DataFrame()\n",
        "  \n",
        "\n",
        "    for col, time in zip( dt_tmp[\"Activity_id\"],dt_tmp.Act_submit_Time.unique()):\n",
        "      df_bx=pd.DataFrame()\n",
        "      df_bx=df_avt.query(\n",
        "          f\"Activity_id== '{col}' & Activity_type=='{chk}'\"\n",
        "          )[[\"Activity_id\", \"Act_mark\"]]\n",
        "      df_bx[\"Act_submit_Time\"]= pd.to_datetime(time).strftime('%d-%m-%Y')\n",
        "      df_stAct= pd.concat([df_stAct, df_bx ])\n",
        "    \n",
        "  #--------------------------------------------\n",
        "    dt_plot= dt_tmp.append({\n",
        "        # \"Act_submit_Time\":pd.to_datetime(ref_t).strftime('%d-%m-%Y') , #.astype(str).str[:-9],\n",
        "        \"Activity_id\": \"_\",\n",
        "        \"Act_mark\":list(yq_point[1])[0]\n",
        "    }, ignore_index=True)\n",
        "\n",
        "    # print(dt_tmp.Act_submit_Time)\n",
        "    # print(df_stAct)\n",
        "  # dt_plot.set_index(\"Act_submit_Time\", inplace=True, drop=True)\n",
        "    \n",
        "  #_______________________PLOTLY___________________\n",
        "    layout = go.Layout(\n",
        "      autosize=False,\n",
        "      width= 1200 , height= 600 )\n",
        "    fig=go.Figure(layout=layout)\n",
        "\n",
        "    # df_stAct=df_stAct[[\"Act_submit_Time\", \"Act_mark\", \"Activity_id\"]]\n",
        "    fig = go.Figure()\n",
        "    fig.add_trace(\n",
        "        go.Scatter(x=dt_plot.Activity_id ,  y=dt_plot.Act_mark,  \n",
        "                  mode='lines+markers', name=\"درجة الطالب\", marker_color=\"red\"))\n",
        "    fig.add_trace(\n",
        "        go.Box(\n",
        "            x=df_stAct.Activity_id ,  \n",
        "            y= df_stAct.Act_mark,  name=\"توزيع درجات الطلاب\", marker_color = \"green\", width =0.2 ))\n",
        "\n",
        "    fig.update_layout(hovermode=\"x\" , \n",
        "        # title=\"أداء جميع الطلبة في مادة معينة\",\n",
        "      xaxis_title=\"Submit Time\",\n",
        "      yaxis_title=\"Mark\",\n",
        "      font=dict(\n",
        "        family=\"Times New Roman, monospace\",\n",
        "        size=18,\n",
        "        color=\"RebeccaPurple\"),\n",
        "    \n",
        "      xaxis = dict(\n",
        "          # tickmode = 'array',\n",
        "          tickvals = np.arange(dt_tmp.shape[0]),\n",
        "          ticktext = dt_tmp.Act_submit_Time\n",
        "      ),\n",
        "\n",
        "\n",
        "      title={\n",
        "          'text': \"(مقارنة درجات الطالب (خطَي) مع درجات زملاءه (مخطط الصندوق \",\n",
        "          'y':0.9,\n",
        "          'x':0.5,\n",
        "          'xanchor': 'center',\n",
        "          'yanchor': 'top',\n",
        "          }) \n",
        "    fig.show()\n",
        "  else:\n",
        "    print(\" No records Available\")\n",
        "  plotly.offline.plot(fig, filename='C:/lifeExp.html')\n"
      ],
      "execution_count": null,
      "outputs": []
    },
    {
      "cell_type": "code",
      "metadata": {
        "id": "EEsu3dfG4igQ"
      },
      "source": [
        "\n",
        "@interact(st = stID, cs = course, dt=D3, chkbx = box)\n",
        "def plot_data3( st, cs, dt, chkbx):\n",
        "  box.description = \" Assignement\"   if chkbx   else \"Quizz\"\n",
        "\n",
        "  # print(predict_std.reset_index().query(f\"Course_code=='{cs}' & student_ID=='{st}'\"))\n",
        "  plot_std_Data3(st, cs, ((chkbx)+0), dt)"
      ],
      "execution_count": null,
      "outputs": []
    },
    {
      "cell_type": "code",
      "metadata": {
        "id": "cfObGdupAbTr"
      },
      "source": [
        "###### TRY EXPORTING TO HTML\n",
        "#### Look for the example below\n",
        "\n",
        "https://medium.com/analytics-vidhya/how-to-export-a-plotly-chart-as-html-3b5df568df4a"
      ],
      "execution_count": null,
      "outputs": []
    },
    {
      "cell_type": "code",
      "metadata": {
        "id": "qPmJPQ4YiUer"
      },
      "source": [
        "! pip install plotly\n",
        "df = px.data.iris()"
      ],
      "execution_count": null,
      "outputs": []
    },
    {
      "cell_type": "code",
      "metadata": {
        "id": "ElH31xJRi0Jp"
      },
      "source": [
        "df.head()"
      ],
      "execution_count": null,
      "outputs": []
    },
    {
      "cell_type": "code",
      "metadata": {
        "id": "AMSoV_URih55"
      },
      "source": [
        "import plotly.express as px\n",
        "sepal_plot = px.scatter(data_frame=df, x=df.sepal_length, y=df.sepal_width, color='species', title=\"Iris_sepal\")"
      ],
      "execution_count": null,
      "outputs": []
    },
    {
      "cell_type": "code",
      "metadata": {
        "id": "t1VFT8SfiitC"
      },
      "source": [
        "sepal_plot"
      ],
      "execution_count": null,
      "outputs": []
    },
    {
      "cell_type": "code",
      "metadata": {
        "id": "Ee-UGg9Fiio3"
      },
      "source": [
        "petal_plot = px.scatter(data_frame=df, x=df.petal_length, y=df.petal_width, color='species', title=\"Iris_petal\")"
      ],
      "execution_count": null,
      "outputs": []
    },
    {
      "cell_type": "code",
      "metadata": {
        "id": "kEZuQplgiiih"
      },
      "source": [
        "petal_plot"
      ],
      "execution_count": null,
      "outputs": []
    },
    {
      "cell_type": "code",
      "metadata": {
        "id": "j_H8mtuorxAQ"
      },
      "source": [
        "plotly.offline.plot(petal_plot, filename='Data/pettal.html')"
      ],
      "execution_count": null,
      "outputs": []
    },
    {
      "cell_type": "code",
      "metadata": {
        "id": "5eTGI1w1rw9o"
      },
      "source": [
        ""
      ],
      "execution_count": null,
      "outputs": []
    },
    {
      "cell_type": "code",
      "metadata": {
        "id": "5QUphE8Ht_TT"
      },
      "source": [
        ""
      ],
      "execution_count": null,
      "outputs": []
    },
    {
      "cell_type": "code",
      "metadata": {
        "id": "JesdltZTt_P-"
      },
      "source": [
        ""
      ],
      "execution_count": null,
      "outputs": []
    },
    {
      "cell_type": "code",
      "metadata": {
        "id": "XeS9gEaMt_Ly"
      },
      "source": [
        ""
      ],
      "execution_count": null,
      "outputs": []
    },
    {
      "cell_type": "code",
      "metadata": {
        "id": "Kv9IQCHujj6n"
      },
      "source": [
        "button = widgets.Button(description='My Button')\n"
      ],
      "execution_count": null,
      "outputs": []
    },
    {
      "cell_type": "code",
      "metadata": {
        "id": "lQPV7UvTjj1v"
      },
      "source": [
        "button"
      ],
      "execution_count": null,
      "outputs": []
    },
    {
      "cell_type": "code",
      "metadata": {
        "id": "6Gt8E8uJxSS3"
      },
      "source": [
        "button = widgets.Button(description='My Button' )\n",
        "out = widgets.Output()\n",
        "def on_button_clicked(_):\n",
        "      # \"linking function with output\"\n",
        "      with out:\n",
        "          # what happens when we press the button\n",
        "          #clear_output()\n",
        "       \n",
        "          print('Something happens!')\n",
        "# linking button and function together using a button's method\n",
        "button.on_click(on_button_clicked)\n",
        "# displaying button and its output together\n",
        "widgets.VBox([button,out])"
      ],
      "execution_count": null,
      "outputs": []
    },
    {
      "cell_type": "code",
      "metadata": {
        "id": "o5ZnsrhmuAR-"
      },
      "source": [
        ""
      ],
      "execution_count": null,
      "outputs": []
    },
    {
      "cell_type": "code",
      "metadata": {
        "id": "AVR0mrxLIoW-"
      },
      "source": [
        ""
      ],
      "execution_count": null,
      "outputs": []
    },
    {
      "cell_type": "code",
      "metadata": {
        "id": "-c9ipf2lIoTX"
      },
      "source": [
        ""
      ],
      "execution_count": null,
      "outputs": []
    },
    {
      "cell_type": "code",
      "metadata": {
        "id": "QWM_3SD2IoPj"
      },
      "source": [
        ""
      ],
      "execution_count": null,
      "outputs": []
    },
    {
      "cell_type": "code",
      "metadata": {
        "id": "V0gME6yauACH"
      },
      "source": [
        "#testing adding button and textbox\n",
        "from ipywidgets import widgets as wd\n",
        "from ipywidgets import Layout, Box\n",
        "from IPython.display import display\n",
        "\n",
        "btnLayout = Layout(flex='1 1 auto', width='auto')\n",
        "\n",
        "btns= [\n",
        "    wd.Button(description=\"Add Route\"),\n",
        "    wd.Button(description=\"234\"),\n",
        "    wd.Button(description=\"411\")\n",
        "]\n",
        "\n",
        "box_layout = Layout(display='flex',\n",
        "                    flex_flow='row',\n",
        "                    align_items='stretch')\n",
        "\n",
        "box = Box(children=btns, layout=box_layout)\n",
        "\n",
        "display(box)\n",
        "box.children[1].layout.visibility = 'hidden'\n",
        "box.children[2].layout.visibility = 'hidden'\n",
        "\n",
        "txtArea = wd.Textarea()\n",
        "display(txtArea)\n",
        "\n",
        "def show(b):\n",
        "    box.children[1].layout.visibility = 'visible'\n",
        "    box.children[2].layout.visibility = 'visible'\n",
        "\n",
        "#function intended to append button value/description to textArea\n",
        "def add_text(b):\n",
        "    txtArea.value = b.description + txtArea.value\n",
        "\n",
        "box.children[0].on_click(show)\n",
        "box.children[1].on_click(add_text)\n",
        "box.children[2].on_click(add_text)"
      ],
      "execution_count": null,
      "outputs": []
    },
    {
      "cell_type": "code",
      "metadata": {
        "id": "9B3a5bTXt_98"
      },
      "source": [
        ""
      ],
      "execution_count": null,
      "outputs": []
    },
    {
      "cell_type": "code",
      "metadata": {
        "id": "7bMRlfsWt_5t"
      },
      "source": [
        ""
      ],
      "execution_count": null,
      "outputs": []
    },
    {
      "cell_type": "code",
      "metadata": {
        "id": "4NWT_XGcxSNI"
      },
      "source": [
        "# imports\n",
        "import plotly\n",
        "import plotly.express as px\n",
        "\n",
        "# data\n",
        "df = px.data.gapminder().query(\"continent=='Oceania'\")\n",
        "\n",
        "# plotly express bar chart\n",
        "fig = px.line(df, x=\"year\", y=\"lifeExp\", color='country')\n",
        "\n",
        "# html file\n",
        "plotly.offline.plot(fig, filename='Data/lifeExp.html')"
      ],
      "execution_count": null,
      "outputs": []
    },
    {
      "cell_type": "markdown",
      "metadata": {
        "id": "5OqT2GQ7API0"
      },
      "source": [
        "## Plot submit time Vs other student submitions ( with box plot )"
      ]
    },
    {
      "cell_type": "code",
      "metadata": {
        "id": "dIF1zYWwDQOL"
      },
      "source": [
        ""
      ],
      "execution_count": null,
      "outputs": []
    },
    {
      "cell_type": "markdown",
      "metadata": {
        "id": "1ybef0cqDkUV"
      },
      "source": [
        "## Old stuff"
      ]
    },
    {
      "cell_type": "code",
      "metadata": {
        "id": "pbkHaMOu73xw"
      },
      "source": [
        "##### BELOW ARE TRAILS ONLY #####"
      ],
      "execution_count": null,
      "outputs": []
    },
    {
      "cell_type": "code",
      "metadata": {
        "id": "p-S7D18wWuZt"
      },
      "source": [
        "dt_st.head()"
      ],
      "execution_count": null,
      "outputs": []
    },
    {
      "cell_type": "code",
      "metadata": {
        "id": "2BWzkIMVa99I"
      },
      "source": [
        "df_avt.query(\" student_ID=='090538316S'\").sample()"
      ],
      "execution_count": null,
      "outputs": []
    },
    {
      "cell_type": "code",
      "metadata": {
        "id": "df917lt_viRK"
      },
      "source": [
        "#dt_st=dt_st[\"Act_submit_Time\"]= pd.to_datetime(dt_st.Act_submit_Time)\n",
        "#dt_st.set_index(\"Act_submit_Time\", drop=True, inplace=True)\n",
        "#df_avt.set_index(\"Act_submit_Time\", drop=True, inplace=True)\n",
        "\n",
        "#dt_st.reset_index(inplace=True)"
      ],
      "execution_count": null,
      "outputs": []
    },
    {
      "cell_type": "code",
      "metadata": {
        "id": "Jf84PdOfdN6a"
      },
      "source": [
        "#df_avt.reset_index(inplace=True)"
      ],
      "execution_count": null,
      "outputs": []
    },
    {
      "cell_type": "code",
      "metadata": {
        "id": "S0ml7PM1JOkN"
      },
      "source": [
        "std_d={}\n",
        "for st in  dt_st.student_ID.unique():\n",
        "  std_d[st]=dt_st[dt_st.student_ID==st][\"Course_code\"].unique()"
      ],
      "execution_count": null,
      "outputs": []
    },
    {
      "cell_type": "code",
      "metadata": {
        "id": "naSdZZ1rXWII"
      },
      "source": [
        "stID = Dropdown(options = std_d.keys())\n",
        "course = Dropdown(options = std_d[stID.value])\n",
        "\n",
        "box = Checkbox(False, description= ' View Assignments')"
      ],
      "execution_count": null,
      "outputs": []
    },
    {
      "cell_type": "code",
      "metadata": {
        "id": "B-pL7mUqk-Fw"
      },
      "source": [
        "dt_st.sort_index().query(f\"student_ID=='090538316S' & Course_code=='g5_1' & Activity_type=='0' \")[\"Act_mark\"].tail(1)"
      ],
      "execution_count": null,
      "outputs": []
    },
    {
      "cell_type": "code",
      "metadata": {
        "id": "BSEPpTF2oUeE"
      },
      "source": [
        "predict_std.reset_index().query(f\"student_ID=='090538316S'  & Course_code=='g5_1' & Activity_type=='0' \").last_mark"
      ],
      "execution_count": null,
      "outputs": []
    },
    {
      "cell_type": "code",
      "metadata": {
        "id": "NYPxuM4ao6BB"
      },
      "source": [
        "predict_std.head()"
      ],
      "execution_count": null,
      "outputs": []
    },
    {
      "cell_type": "code",
      "metadata": {
        "id": "303D7mvjkS29"
      },
      "source": [
        "#dt_st.sort_index().query(f\"student_ID=='080860982S' & Course_code=='g5_1' & Activity_type=='0' \").tail(1).index+ timedelta(days=7)\n",
        "a=dt_st.sort_index().query(f\"student_ID=='091123896S' & Course_code=='g5_1' & Activity_type=='0'\").tail(1).index\n",
        "a=pd.to_datetime(a.strftime('%d/%m/%Y'))\n",
        "#a\n",
        "#a+ timedelta(days=7)\n",
        "xq_point=[a, a+ timedelta(days=7)]\n",
        "xq_point\n",
        "#.dt.strftime(\"%d/%m/%y\")"
      ],
      "execution_count": null,
      "outputs": []
    },
    {
      "cell_type": "code",
      "metadata": {
        "id": "k7ivhVI3KuLC"
      },
      "source": [
        "dt_st.sort_index().query(f\"student_ID=='091123896S' & Course_code=='g5_1' & Activity_type=='0' \").Act_mark.tail(1) "
      ],
      "execution_count": null,
      "outputs": []
    },
    {
      "cell_type": "code",
      "metadata": {
        "id": "QpAtY6farfSs"
      },
      "source": [
        "df_avt.info()"
      ],
      "execution_count": null,
      "outputs": []
    },
    {
      "cell_type": "code",
      "metadata": {
        "id": "wehe38L2prQv"
      },
      "source": [
        "\n",
        "fg, ax= plt.subplots( figsize=(10,5))\n",
        "ref_q=dt_st.sort_index().query(f\"student_ID=='091123896S' & Course_code=='g5_1' & Activity_type=='0' \").tail(1).index\n",
        "ref_q=pd.to_datetime(ref_q.strftime('%d-%m-%Y'))\n",
        "xq_point=[ref_q, ref_q+ timedelta(days=7)]\n",
        "yq_point=[dt_st.sort_index().query(f\"student_ID=='091123896S' & Course_code=='g5_1' & Activity_type=='0' \").Act_mark.tail(1) \n",
        " , predict_std.reset_index().query(f\"student_ID=='091123896S'& Course_code=='g5_1' & Activity_type=='0' \").last_mark]\n",
        "ax.plot(xq_point , yq_point, linestyle='dashed', marker='o',markerfacecolor='blue', markersize=12)\n",
        "print(ref_q)"
      ],
      "execution_count": null,
      "outputs": []
    },
    {
      "cell_type": "code",
      "metadata": {
        "id": "ybSlaONsdeSn"
      },
      "source": [
        "predict_std.info()"
      ],
      "execution_count": null,
      "outputs": []
    },
    {
      "cell_type": "code",
      "metadata": {
        "id": "DQ-iWRr4ebah"
      },
      "source": [
        "pd.to_datetime('2020-10-31').strftime('%d-%m-%Y')"
      ],
      "execution_count": null,
      "outputs": []
    },
    {
      "cell_type": "code",
      "metadata": {
        "id": "DzXuL958GUNu"
      },
      "source": [
        "df_avt.head()"
      ],
      "execution_count": null,
      "outputs": []
    },
    {
      "cell_type": "code",
      "metadata": {
        "id": "Fo3yavQTJaos"
      },
      "source": [
        "# dt_st.sort_index().query(\n",
        "#       f\"student_ID=='091123896S' & Course_code=='g5_3' & Activity_type=='0'\"\n",
        "#       ).tail(1).index+timedelta(days=7)\n",
        "dt_tmp= dt_st.query(\n",
        "      f\"student_ID=='091123896S' & Course_code=='g5_3' & Activity_type=='0'\"\n",
        "      )[[\"Act_mark\", \"Activity_id\" ]]\n",
        "dt_tmp.Activity_id.unique()"
      ],
      "execution_count": null,
      "outputs": []
    },
    {
      "cell_type": "code",
      "metadata": {
        "id": "uuNks1fUMRGo"
      },
      "source": [
        "df_avt.query(\n",
        "        f\"Activity_id== 'g5_3-Act_10' & Activity_type=='0'\"\n",
        "        )[[\"Activity_id\", \"Act_mark\"]].info()"
      ],
      "execution_count": null,
      "outputs": []
    },
    {
      "cell_type": "code",
      "metadata": {
        "id": "QPF-a2l9O5ux"
      },
      "source": [
        "dt_tmp.head(20)"
      ],
      "execution_count": null,
      "outputs": []
    },
    {
      "cell_type": "code",
      "metadata": {
        "id": "FeCL0QnOLRCR"
      },
      "source": [
        "    dt_tmp.reset_index().append({\n",
        "      \"Act_submit_Time\":'020-04-01 16:16:39',\n",
        "      \"Act_mark\":3.4\n",
        "  }, ignore_index=True)"
      ],
      "execution_count": null,
      "outputs": []
    },
    {
      "cell_type": "code",
      "metadata": {
        "id": "_nvi39ETOmrk"
      },
      "source": [
        "###### view this link\n",
        "###  https://stackoverflow.com/questions/59214406/plotly-how-to-make-an-unbounded-vertical-line-in-a-subplot"
      ],
      "execution_count": null,
      "outputs": []
    },
    {
      "cell_type": "code",
      "metadata": {
        "id": "L0paPC3uOmou"
      },
      "source": [
        ""
      ],
      "execution_count": null,
      "outputs": []
    },
    {
      "cell_type": "code",
      "metadata": {
        "id": "wqLrYmVkOmlq"
      },
      "source": [
        "! pip install Pillow"
      ],
      "execution_count": null,
      "outputs": []
    },
    {
      "cell_type": "code",
      "metadata": {
        "id": "yOR5cD1eoVqm"
      },
      "source": [
        "from PIL import Image"
      ],
      "execution_count": null,
      "outputs": []
    },
    {
      "cell_type": "code",
      "metadata": {
        "id": "B2qZN_r8I-ZB"
      },
      "source": [
        "#### try 2"
      ],
      "execution_count": null,
      "outputs": []
    },
    {
      "cell_type": "code",
      "metadata": {
        "id": "gBk1KnM-Qj8m"
      },
      "source": [
        "#Combine Graph\n",
        "def plot_std_Data(st, cs, chk):\n",
        "  import seaborn as sns \n",
        "  import matplotlib.pyplot as plt\n",
        "  import plotly.express as px\n",
        "  import plotly.graph_objects as go\n",
        "\n",
        "  fig, ax= plt.subplots( figsize=(20,8))\n",
        "  course.options = std_d[st]\n",
        "  dt_tmp= dt_st.query(f\"student_ID=='{st}' & Course_code=='{cs}' & Activity_type=='{chk}'\")[[\"Act_mark\", \"Activity_id\" ]]\n",
        "  dt_tmp.sort_index( inplace=True )\n",
        "  pd.to_datetime(dt_tmp.index).strftime('%d-%m-%Y')\n",
        "  \n",
        "\n",
        "\n",
        "\n",
        "######## Predicted value  ###########\n",
        "  #   we suppose that  predict_std is already available\n",
        "  ref_q=dt_st.sort_index().query(f\"student_ID=='{st}' & Course_code=='{cs}' & Activity_type=='{chk}'\").tail(1).index+timedelta(days=7)\n",
        "  \n",
        "  yq_point=[dt_st.sort_index().query(f\"student_ID=='{st}' & Course_code=='{cs}' & Activity_type=='{chk}' \").Act_mark.tail(1) \n",
        "   , predict_std.reset_index().query(f\"student_ID=='{st}'  & Course_code=='{cs}' & Activity_type=='{chk}' \").last_mark]\n",
        "    \n",
        "  print(f\"  Predicted Mark: {list(yq_point[1])[0]}\")\n",
        " \n",
        "#############\n",
        "\n",
        "  df_stAct=pd.DataFrame()\n",
        "\n",
        "  for col, time in zip(dt_tmp[\"Activity_id\"],dt_tmp.reset_index().Act_submit_Time.unique()):\n",
        "    df_bx=pd.DataFrame()\n",
        "    df_bx=df_avt.reset_index().query(f\"Activity_id== '{col}' & Activity_type=='{chk}'\")[[\"Activity_id\", \"Act_mark\"]]\n",
        "    df_bx[\"Act_submit_Time\"]= pd.to_datetime(time).strftime('%d-%m-%Y')\n",
        "    df_stAct= pd.concat([df_stAct, df_bx ])\n",
        "\n",
        "  sns.boxplot(x=\"Act_submit_Time\" ,  y= \"Act_mark\", data=df_stAct , ax=ax ,width= 0.3)\n",
        "  \n",
        "  dt_tmp=dt_tmp.reset_index().append({\n",
        "      \"Act_submit_Time\":ref_q,\n",
        "      \"Act_mark\":list(yq_point[1])[0]\n",
        "  }, ignore_index=True)\n",
        "  \n",
        "  #dt_tmp.Act_mark.plot(ax=ax, color=\"k\",  marker='o', linewidth=2, markersize=9) \n",
        "  dt_tmp.Act_mark.plot(ax=ax, color=\"k\",  marker='o', linewidth=2, markersize=9) \n",
        "\n",
        "\n",
        "# ######## Add image  #########\n",
        "#   im = Image.open('https://drive.google.com/file/d/1ywuuXOM_Qf1BXGPndYZWt-zBwM16W0FG/view?usp=sharing')\n",
        "#   height = im.size[1]\n",
        "\n",
        "#   # We need a float array between 0-1, rather than\n",
        "#   # a uint8 array between 0-255\n",
        "#   im = np.array(im).astype(np.float) / 255\n",
        "\n",
        "#   fig = plt.figure()\n",
        "\n",
        "#   plt.plot(np.arange(10), 4 * np.arange(10))\n",
        "\n",
        "#   # With newer (1.0) versions of matplotlib, you can \n",
        "#   # use the \"zorder\" kwarg to make the image overlay\n",
        "#   # the plot, rather than hide behind it... (e.g. zorder=10)\n",
        "#   fig.figimage(im, 0, fig.bbox.ymax - height)\n",
        "\n",
        "#   # (Saving with the same dpi as the screen default to\n",
        "#   #  avoid displacing the logo image)\n",
        "#   fig.savefig('https://drive.google.com/file/d/1ywuuXOM_Qf1BXGPndYZWt-zBwM16W0FG/view?usp=sharing', dpi=80)\n",
        "\n",
        "#   plt.show()\n",
        "\n",
        "#################   \n",
        "\n",
        "  graphTitle= \"Student's Assignement mark compared to other students\" if chk  else \" Student's quiz mark compared to other students\" \n",
        "  plt.title(graphTitle , fontsize=20)\n",
        "  plt.xlabel(\"Date\" , fontsize=20)\n",
        "  plt.ylabel(\"Mark\" , fontsize=20)\n",
        "  plt.xticks(rotation=45)\n",
        "  plt.grid()\n",
        "  #plt.show()\n",
        "\n"
      ],
      "execution_count": null,
      "outputs": []
    },
    {
      "cell_type": "code",
      "metadata": {
        "id": "gr8Q06XiRBId"
      },
      "source": [
        "@interact(st = stID, cs = course, chkbx = box)\n",
        "def plot_data( st, cs, chkbx):\n",
        "  #print(((chkbx)+0))\n",
        "  \n",
        "  # print(predict_std.reset_index().query(f\"Course_code=='{cs}' & student_ID=='{st}'\"))\n",
        "  plot_std_Data(st, cs, ((chkbx)+0))"
      ],
      "execution_count": null,
      "outputs": []
    },
    {
      "cell_type": "code",
      "metadata": {
        "id": "gr1cQB79uUg-"
      },
      "source": [
        ""
      ],
      "execution_count": null,
      "outputs": []
    },
    {
      "cell_type": "code",
      "metadata": {
        "id": "LZ4SQ-GwuUd2"
      },
      "source": [
        ""
      ],
      "execution_count": null,
      "outputs": []
    },
    {
      "cell_type": "code",
      "metadata": {
        "id": "jTFAdFXXuUXX"
      },
      "source": [
        ""
      ],
      "execution_count": null,
      "outputs": []
    },
    {
      "cell_type": "code",
      "metadata": {
        "id": "SP_Ycxj-MPi7"
      },
      "source": [
        ""
      ],
      "execution_count": null,
      "outputs": []
    },
    {
      "cell_type": "markdown",
      "metadata": {
        "id": "TJezCjScysRv"
      },
      "source": [
        "# Data sets creation    "
      ]
    },
    {
      "cell_type": "markdown",
      "metadata": {
        "id": "3Rmmb_lSRFqK"
      },
      "source": [
        "## 1 ) Create Student's General Info. Dataset"
      ]
    },
    {
      "cell_type": "code",
      "metadata": {
        "id": "FC2cVVX7X6Nh"
      },
      "source": [
        "grades={\n",
        "    \"06\":\"9\",\"07\":\"8\",\n",
        "    \"08\":\"7\", \"09\":\"6\", \"10\":\"5\", \"11\":\"4\",\n",
        "    \"12\":\"3\", \"13\":\"2\", \"14\":\"1\"\n",
        "}"
      ],
      "execution_count": null,
      "outputs": []
    },
    {
      "cell_type": "code",
      "metadata": {
        "id": "fQhITeCzpmln"
      },
      "source": [
        "###  الطلبة العينة من 10 مدارس عشوائيًا (500 طالب) ##\n",
        "##### من الصف السادس الى الثالث الاعدادي \n",
        "\n",
        "\n",
        "list_std=[]\n",
        "for i in range(500):\n",
        "  birth_year=random.choice([\"06\", \"07\", \"08\", \"09\",\"10\"]) \n",
        "  student= {\n",
        "  \"student_id\": ''.join(random.choice(string.digits) for _ in range(5)) ,\n",
        "  \"birth_year\": birth_year,\n",
        "  \"birth_month\": random.choice([\"01\", \"02\", \"03\", \"04\", \"05\", \n",
        "                                \"06\", \"07\", \"08\", \"09\",\"10\",\"11\",\"12\"]),\n",
        "  \"school\": random.choice([ \"Sc_\"+str(j) for j in range(10)]),\n",
        "  \"grade\": grades[birth_year],  \n",
        "  \"gender\": random.choice([\"M\", \"F\"]),\n",
        "  \"governorate\": random.choice([\"North\", \"South\", \"Caiptal\", \"Muharraq\"])\n",
        "         } \n",
        "  list_std.append(student)     \n",
        "df_st=pd.DataFrame(list_std)\n"
      ],
      "execution_count": null,
      "outputs": []
    },
    {
      "cell_type": "code",
      "metadata": {
        "id": "nItBTwFfutF9"
      },
      "source": [
        "#####  Merge student_ID with birth year and month month to get a complete CPR\n",
        "\n",
        "df_st.insert(0, 'student_ID', df_st['birth_year'].astype(str) + df_st['birth_month'].astype(str)+df_st.pop('student_id').astype(str))"
      ],
      "execution_count": null,
      "outputs": []
    },
    {
      "cell_type": "code",
      "metadata": {
        "id": "t1NUnn4H5cti"
      },
      "source": [
        "df_st.head()"
      ],
      "execution_count": null,
      "outputs": []
    },
    {
      "cell_type": "code",
      "metadata": {
        "id": "_fbY1BwOT5EB"
      },
      "source": [
        "for col in df_st.keys():\n",
        "  df_st[col]= df_st[col].astype(str)"
      ],
      "execution_count": null,
      "outputs": []
    },
    {
      "cell_type": "code",
      "metadata": {
        "id": "ZzRCQGjHUhHr"
      },
      "source": [
        "df_st.info()"
      ],
      "execution_count": null,
      "outputs": []
    },
    {
      "cell_type": "code",
      "metadata": {
        "id": "GL2aCjqCxWMN"
      },
      "source": [
        "df_st.to_csv(\"./Data/General_students_info.csv\")"
      ],
      "execution_count": null,
      "outputs": []
    },
    {
      "cell_type": "markdown",
      "metadata": {
        "id": "A9G8SNC1O-fL"
      },
      "source": [
        "## 2 ) Create Students' portal activity Dataset / df_avt"
      ]
    },
    {
      "cell_type": "code",
      "metadata": {
        "id": "bqY7lMv2eDZJ"
      },
      "source": [
        "from random_timestamp import random_timestamp\n",
        "lst=[]\n",
        "for i, k  in zip(df_st.student_ID, df_st.grade):\n",
        "  for j in range (14, int((20*np.random.rand()+8))):\n",
        "    course_id=random.choice([\"g\"+str(k)+\"_\"+str(l) for l in range(1,4)])\n",
        "    ActType=random.choice([\"1\", \"0\" ])\n",
        "    Act_time= [15, 2]  if ActType=='0'  else [4320, 60]\n",
        "    activities= {\n",
        "        \"student_ID\": i ,\n",
        "        \"Course_code\":course_id,  \n",
        "        \"Activity_id\": f\"{course_id}-Act_{int(20*np.random.rand()+1)}\",\n",
        "        \"Activity_type\":ActType,\n",
        "        # \"Act_count\": course_ref[course_id][ActType] , #np.random.randint(5,30),\n",
        "\n",
        "      \"Unit_id\":  random.choice([ \"Un_\"+str(k) for k in range(10)]),\n",
        "      \"Chapter_id\": random.choice([ \"Chp_\"+str(k) for k in range(10)]), \n",
        "      \"Lesson_id\": random.choice([ \"Ls_\"+str(k) for k in range(10)]),\n",
        "      # \"Competence-id\":  random.choice([ \"Cp_\"+str(k) for k in range(10)]), \n",
        "      \"Act_diff\":  int((4*np.random.rand(1)+1)),\n",
        "      \"Act_cp_count\": int((np.random.rand(1)*2+1)), \n",
        "\n",
        "      \"Act_time\": int((Act_time[0]*np.random.rand()+Act_time[1])) , ####### Quizzes from 2 mins to 15 mins // Assign. from 1 hr to 3 days\n",
        "      \"Act_submit_Time\": random_timestamp( year=2020),\n",
        "      #  add  afeature for  late submission\n",
        "      \"Act_mark\": int((1000*np.random.rand()))/100,\n",
        "    }\n",
        "    lst.append(activities)\n",
        "df_avt=pd.DataFrame(lst)"
      ],
      "execution_count": null,
      "outputs": []
    },
    {
      "cell_type": "code",
      "metadata": {
        "id": "vpzA1xt_8PT2"
      },
      "source": [
        "df_avt.drop_duplicates(subset=[\"student_ID\"\t, \t\"Activity_id\"\t, \"Activity_type\"] , keep=\"last\", inplace=True)"
      ],
      "execution_count": null,
      "outputs": []
    },
    {
      "cell_type": "code",
      "metadata": {
        "id": "RNLG8WGlpBjJ"
      },
      "source": [
        "df_avt.sample(10)"
      ],
      "execution_count": null,
      "outputs": []
    },
    {
      "cell_type": "code",
      "metadata": {
        "id": "aVUyJ9MHpx88"
      },
      "source": [
        "df_avt.info()"
      ],
      "execution_count": null,
      "outputs": []
    },
    {
      "cell_type": "code",
      "metadata": {
        "id": "knamQr5-RLYi"
      },
      "source": [
        "df_avt.to_csv(\"./Data/Portal-Achiev-Info.csv\")"
      ],
      "execution_count": null,
      "outputs": []
    },
    {
      "cell_type": "markdown",
      "metadata": {
        "id": "sNsHFqK_QWeV"
      },
      "source": [
        "## 3 ) Generate 5 selected Students Data to graph  / dt_st\n"
      ]
    },
    {
      "cell_type": "code",
      "metadata": {
        "id": "Ufci8h0oeqLP"
      },
      "source": [
        "def dataJson(actType, i , c, act):\n",
        "  Act_time= [15, 2]  if actType=='0'  else [4320, 60]\n",
        "  return {\n",
        "      \n",
        "        \"student_ID\": i ,\n",
        "        \"Course_code\":c,  \n",
        "        \"Activity_id\": act,\n",
        "        \"Activity_type\":actType,\n",
        "          \n",
        "\n",
        "        \"Unit_id\":  random.choice([ \"Un_\"+str(k) for k in range(10)]),\n",
        "        \"Chapter_id\": random.choice([ \"Chp_\"+str(k) for k in range(10)]), \n",
        "        \"Lesson_id\": random.choice([ \"Ls_\"+str(k) for k in range(10)]),\n",
        "        \"Act_diff\":  int((4*np.random.rand(1)+1)),\n",
        "        \"Act_cp_count\": int((np.random.rand(1)*2+1)), \n",
        "\n",
        "        \"Act_time\": int((Act_time[0]*np.random.rand()+Act_time[1])) , ####### from 30 SEC to 15 MIN\n",
        "        \"Act_submit_Time\":random_timestamp( year=2020),  \n",
        "        #  add  a feature for  late submission\n",
        "        \"Act_mark\": int((1000*np.random.rand()))/100,  #  this should be  float32  : 10*np.random.rand()\n",
        "      }"
      ],
      "execution_count": null,
      "outputs": []
    },
    {
      "cell_type": "code",
      "metadata": {
        "id": "5O_-HR8fYAr2"
      },
      "source": [
        "std_course=[['g5_3', 'g5_2', 'g5_1'], ['g9_3', 'g9_1', 'g9_2'],['g6_1', 'g6_3',\n",
        "       'g6_2'], ['g8_1', 'g8_3', 'g8_2'], ['g7_1',  'g7_3', 'g7_2'] ]"
      ],
      "execution_count": null,
      "outputs": []
    },
    {
      "cell_type": "code",
      "metadata": {
        "id": "pGuNtZ1tQa4_"
      },
      "source": [
        "from random_timestamp import random_timestamp\n",
        "lst=[]\n",
        "std_array= df_avt.student_ID.unique()[:5] +\"S\"\n",
        "for i , course in zip(std_array, std_course):# c in df_avt.Course_code.unique():\n",
        "  for c in course:\n",
        "    for j in [f\"{c}-Act_{act}\"  for act in range(10,19)]: #range (1, int((2*np.random.rand()+8))):\n",
        "      lst.append(dataJson(\"0\", i , c, j ))\n",
        "    for j in [f\"{c}-Act_{act}\"  for act in range(1,5)]:\n",
        "      lst.append(dataJson(\"1\", i , c, j ))\n",
        "     \n",
        "dt_st=pd.DataFrame(lst)"
      ],
      "execution_count": null,
      "outputs": []
    },
    {
      "cell_type": "code",
      "metadata": {
        "id": "efOtM0NLgcCJ"
      },
      "source": [
        "for s, c  in  zip(dt_st.student_ID.unique(), std_course[0]):\n",
        "  count=dt_st.query(f\"student_ID=='{s}' & Course_code=='{c}' & Activity_type=='1'\").shape[0]\n",
        "  print(f\"Student:  {s}  has: {count}  records\")"
      ],
      "execution_count": null,
      "outputs": []
    },
    {
      "cell_type": "code",
      "metadata": {
        "id": "d8lYggepqis4"
      },
      "source": [
        "dt_st.sample(5)"
      ],
      "execution_count": null,
      "outputs": []
    },
    {
      "cell_type": "code",
      "metadata": {
        "id": "K0ngg-M_W4QB"
      },
      "source": [
        "dt_st.to_csv(\"./Data/5_selected_students.csv\")  "
      ],
      "execution_count": null,
      "outputs": []
    },
    {
      "cell_type": "markdown",
      "metadata": {
        "id": "6lOSMFYyxO43"
      },
      "source": [
        "## Create Recommendation data set"
      ]
    },
    {
      "cell_type": "code",
      "metadata": {
        "id": "ggVa-ojBogk0"
      },
      "source": [
        "def url_lobj(lob):\n",
        "  \n",
        "  for i in modules:\n",
        "    for j in i[\"lessons\"]:\n",
        "      for k in j[\"lobs\"]:\n",
        "        if k[\"lobName\"]==lob:\n",
        "          return  k[\"URL\"]\n"
      ],
      "execution_count": null,
      "outputs": []
    },
    {
      "cell_type": "code",
      "metadata": {
        "id": "U6yi3DJ-uJmL"
      },
      "source": [
        "url_lobj('Representing Data')"
      ],
      "execution_count": null,
      "outputs": []
    },
    {
      "cell_type": "code",
      "metadata": {
        "id": "DMZORE0FFbff"
      },
      "source": [
        "#  Json  recommendation Initialization\n",
        "modules=[\n",
        "         {\"unit\":\"Data and statistics\", \n",
        "          \"lessons\":[\n",
        "                    {\"LessName\": \"Dot plots & frequency tables\",\n",
        "                    \"lobs\":[\n",
        "                            {\"lobID\": 1, \"lobName\":\"Representing Data\", \"URL\": \"https://www.khanacademy.org/math/cc-sixth-grade-math/cc-6th-data-statistics/dot-plot/v/ways-to-represent-data?modal=1\" },\n",
        "                            {\"lobID\": 2,\"lobName\":\"Frequency Tables & dot plot\", \"URL\": \"https://www.khanacademy.org/math/cc-sixth-grade-math/cc-6th-data-statistics/dot-plot/v/frequency-tables-and-dot-plots?modal=1\"}\n",
        "                          ]\n",
        "                          \n",
        "                    },\n",
        "                    {\"LessName\": \"Statistical questions\",\n",
        "                    \"lobs\":[\n",
        "                            {\"lobID\": 3, \"lobName\":\"Statistical questions\", \"URL\": \"https://www.khanacademy.org/math/cc-sixth-grade-math/cc-6th-data-statistics/cc-6-statistical-questions/v/understanding-statistical-questions?modal=1\"}\n",
        "                          ]\n",
        "                    },\n",
        "                    {\"LessName\": \"Histograms\",\n",
        "                    \"lobs\":[\n",
        "                            {\"lobID\": 4, \"lobName\":\"Creating a histogram\", \"URL\": \"https://www.khanacademy.org/math/cc-sixth-grade-math/cc-6th-data-statistics/histograms/v/histograms-intro?modal=1\"},\n",
        "                            {\"lobID\": 5, \"lobName\":\"Interpreting a histogram\", \"URL\": \"https://www.khanacademy.org/math/cc-sixth-grade-math/cc-6th-data-statistics/histograms/v/interpreting-histograms?modal=1\"}\n",
        "                          ]\n",
        "                    },\n",
        "                    {\"LessName\": \"Mean and median\",\n",
        "                    \"lobs\":[\n",
        "                            \n",
        "                                {\"lobID\": 6, \"lobName\":\"Statistics Intro: Mean, Median & Mode\", \"URL\": \"https://www.khanacademy.org/math/cc-sixth-grade-math/cc-6th-data-statistics/mean-and-median/v/statistics-intro-mean-median-and-mode?modal=1\"}, \n",
        "                                {\"lobID\": 7, \"lobName\":\"Mean, Median & Mode example\", \"URL\": \"https://www.khanacademy.org/math/cc-sixth-grade-math/cc-6th-data-statistics/mean-and-median/v/mean-median-and-mode?modal=1\"},\n",
        "                                {\"lobID\": 8 , \"lobName\":\"Calculating the mean\", \"URL\": \"https://www.khanacademy.org/math/cc-sixth-grade-math/cc-6th-data-statistics/mean-and-median/a/calculating-the-mean?modal=1\"}\n",
        "                                \n",
        "                                \n",
        "                          ]\n",
        "                    },\n",
        "                    {\"LessName\": \"Mean and median challenge problems\",\n",
        "                    \"lobs\":[\n",
        "                             {\"lobID\": 9, \"lobName\": \"Missing value given the mean\", \"URL\": \"https://www.khanacademy.org/math/cc-sixth-grade-math/cc-6th-data-statistics/cc-6th-mean-median-challenge/v/using-mean-to-find-missing-value?modal=1\"},\n",
        "                              {\"lobID\":10 , \"lobName\":\"Mean as the balancing point\" , \"URL\" : \"https://www.khanacademy.org/math/cc-sixth-grade-math/cc-6th-data-statistics/cc-6th-mean-median-challenge/a/mean-as-the-balancing-point?modal=1\"},\n",
        "                              {\"lobID\": 11, \"lobName\":\"Impact on median & mean: Removing an outlier\" , \"URL\" : \"https://www.khanacademy.org/math/cc-sixth-grade-math/cc-6th-data-statistics/cc-6th-mean-median-challenge/v/impact-on-median-and-mean-when-removing-lowest-value-example?modal=1\"},\n",
        "                              {\"lobID\": 12, \"lobName\":\"Impact on median & mean: increasing an outlier\" , \"URL\" : \"https://www.khanacademy.org/math/cc-sixth-grade-math/cc-6th-data-statistics/cc-6th-mean-median-challenge/v/impact-on-median-and-mean-when-increasing-highest-value?modal=1\"},\n",
        "                              {\"lobID\": 13, \"lobName\":\"Median & range puzzlers\" , \"URL\" : \"https://www.khanacademy.org/math/cc-sixth-grade-math/cc-6th-data-statistics/cc-6th-mean-median-challenge/v/median-and-range-puzzle?modal=1\"}\n",
        "                          ]\n",
        "                    },\n",
        "                    {\"LessName\": \"Interquartile range (IQR)\",\n",
        "                    \"lobs\":[\n",
        "                            {\"lobID\": 14, \"lobName\":\"Interquartile range (IQR)\", \"URL\" : \"https://www.khanacademy.org/math/cc-sixth-grade-math/cc-6th-data-statistics/cc-6th/v/calculating-interquartile-range-iqr?modal=1\"}\n",
        "                          ]\n",
        "                    },\n",
        "                    {\"LessName\": \"Box Plots\",\n",
        "                    \"lobs\":[\n",
        "                            {\"lobID\":15  , \"lobName\":\"Reading box plots\", \"URL\" : \"https://www.khanacademy.org/math/cc-sixth-grade-math/cc-6th-data-statistics/cc-6th-box-whisker-plots/v/reading-box-and-whisker-plots?modal=1\"},\n",
        "                             {\"lobID\":16  , \"lobName\":\"Constructing a box plot\", \"URL\" : \"https://www.khanacademy.org/math/cc-sixth-grade-math/cc-6th-data-statistics/cc-6th-box-whisker-plots/v/constructing-a-box-and-whisker-plot?modal=1\"},\n",
        "                             {\"lobID\":17  , \"lobName\":\"Worked example: Creating box plot (odd number of data points)\", \"URL\" : \"https://www.khanacademy.org/math/cc-sixth-grade-math/cc-6th-data-statistics/cc-6th-box-whisker-plots/v/box-and-whisker-plot-exercise-example?modal=1\"},\n",
        "                             {\"lobID\":18  , \"lobName\":\"Worked example: Creating box plot (even number of data points)\", \"URL\" : \"https://www.khanacademy.org/math/cc-sixth-grade-math/cc-6th-data-statistics/cc-6th-box-whisker-plots/v/constructing-a-box-and-whisker-plot?modal=1\"},\n",
        "                             {\"lobID\":19  , \"lobName\":\"Worked example: Interpreting a box plot\", \"URL\" : \"https://www.khanacademy.org/math/cc-sixth-grade-math/cc-6th-data-statistics/cc-6th-box-whisker-plots/v/interpreting-box-plots?modal=1\"}\n",
        "                          ]\n",
        "                    },\n",
        "\n",
        "                    {\"LessName\": \"Mean absolute deviation (MAD)\",\n",
        "                    \"lobs\":[\n",
        "                            { \"lobID\":20 , \"lobName\":\"Mean absolute deviation (MAD)\", \"URL\" : \"https://www.khanacademy.org/math/cc-sixth-grade-math/cc-6th-data-statistics/cc-6-mad/v/mean-absolute-deviation?modal=1\"},\n",
        "                              {\"lobID\":21 , \"lobName\":\"Mean absolute deviation example\", \"URL\" : \"https://www.khanacademy.org/math/cc-sixth-grade-math/cc-6th-data-statistics/cc-6-mad/v/mean-absolute-deviation-example?modal=1\"}\n",
        "                          ]\n",
        "                    },\n",
        "                    {\"LessName\": \"Comparing Data Display\",\n",
        "                    \"lobs\":[\n",
        "                            {\"lobID\":22 , \"lobName\":\"Comparing dot plots, histograms and box plots\", \"URL\" : \"https://www.khanacademy.org/math/cc-sixth-grade-math/cc-6th-data-statistics/cc-7th-compare-data-displays/v/comparing-dot-plots-histograms-and-box-plots?modal=1\"}\n",
        "                          ]\n",
        "                    },\n",
        "                    {\"LessName\": \"Shape of Data Distribution\",\n",
        "                    \"lobs\":[\n",
        "                            {\"lobID\":23 , \"lobName\":\"Shape of distributions\", \"URL\" : \"https://www.khanacademy.org/math/cc-sixth-grade-math/cc-6th-data-statistics/cc-6-shape-of-data/v/shapes-of-distributions?modal=1\"},\n",
        "                              {\"lobID\":24 , \"lobName\":\"Clusters, gaps, peaks & outliers\", \"URL\" : \"https://www.khanacademy.org/math/cc-sixth-grade-math/cc-6th-data-statistics/cc-6-shape-of-data/v/examples-analyzing-clusters-gaps-peaks-and-outliers-for-distributions?modal=1\"}\n",
        "                          ]\n",
        "                    },\n",
        "                 ],        \n",
        "          }\n",
        "         ]"
      ],
      "execution_count": null,
      "outputs": []
    },
    {
      "cell_type": "code",
      "metadata": {
        "id": "cSh9vfs8L_Cy"
      },
      "source": [
        "lst=[]\n",
        "md=modules[0][\"lessons\"]\n",
        "\n",
        "for st in  dt_st.student_ID.unique():\n",
        "  for i   in range(int(30*np.random.rand()+8)):\n",
        "    RndLesson= int(len(md)*np.random.rand()-1)\n",
        "    RndLob= int(len(md[RndLesson][\"lobs\"])*np.random.rand())\n",
        "    activities= {\n",
        "        \"student_ID\": st ,\n",
        "        # \"Course_code\":course_id,  \n",
        "        # \"Unit_des\":  random.choice([ \"Un_\"+str(k) for k in range(10)]),\n",
        "        \"Lesson_des\": md[RndLesson][\"LessName\"],\n",
        "\n",
        "        \"lobj_id\": md[RndLesson][\"lobs\"][RndLob][\"lobID\"], \n",
        "        \"lobj_des\": md[RndLesson][\"lobs\"][RndLob][\"lobName\"],  \n",
        "        # \"Subcps\": [ subcp[s]  for   i in range (1, int((len(subcps)*np.random.rand()+2)))] \n",
        "\n",
        "    }\n",
        "    lst.append(activities)\n",
        "df_recommend=pd.DataFrame(lst)"
      ],
      "execution_count": null,
      "outputs": []
    },
    {
      "cell_type": "code",
      "metadata": {
        "id": "efDZXLf3DZnB"
      },
      "source": [
        "df_recommend[\"LearningObj\"]=df_recommend.Lesson_des+\" \"+ df_recommend.lobj_des"
      ],
      "execution_count": null,
      "outputs": []
    },
    {
      "cell_type": "code",
      "metadata": {
        "id": "-UhFWZvjFLc3"
      },
      "source": [
        "df_recommend.to_csv(\"./Data/recommend.csv\")"
      ],
      "execution_count": null,
      "outputs": []
    },
    {
      "cell_type": "markdown",
      "metadata": {
        "id": "ST9xpUUMoDsv"
      },
      "source": [
        "## Data Preparation for prediction"
      ]
    },
    {
      "cell_type": "code",
      "metadata": {
        "id": "Y-KSBAvvyZ3I"
      },
      "source": [
        "df_avt.tail()"
      ],
      "execution_count": null,
      "outputs": []
    },
    {
      "cell_type": "code",
      "metadata": {
        "id": "FB3lAVvqYzhE"
      },
      "source": [
        "dt_st.tail()"
      ],
      "execution_count": null,
      "outputs": []
    },
    {
      "cell_type": "code",
      "metadata": {
        "id": "3GHLS2GhyZ7d"
      },
      "source": [
        "#  Add  5 selected student used  in the Graph Above\n",
        "\n",
        "#df_avt= df_avt.drop(\"Act_submit_Time\", axis=1).reset_index().append( dt_st.reset_index())\n",
        "\n",
        "\n",
        "df_avt= df_avt.append(dt_st.reset_index())"
      ],
      "execution_count": null,
      "outputs": []
    },
    {
      "cell_type": "code",
      "metadata": {
        "id": "b35Utg1IA38W"
      },
      "source": [
        "df_avt.drop([  \"Unit_id\", \"Chapter_id\", \"Lesson_id\"], inplace=True, axis=1)"
      ],
      "execution_count": null,
      "outputs": []
    },
    {
      "cell_type": "code",
      "metadata": {
        "id": "I8Pmaf806Use"
      },
      "source": [
        "df_avt.tail()"
      ],
      "execution_count": null,
      "outputs": []
    },
    {
      "cell_type": "code",
      "metadata": {
        "id": "koC1IzSDNOb_"
      },
      "source": [
        "#  4  dashboard\n",
        "#plt.rcParams.update({'font.size': 12})\n",
        "#df_avt[[\"Act_mark\"]].groupby(pd.Grouper(freq=\"W\")).agg(\"mean\").plot()"
      ],
      "execution_count": null,
      "outputs": []
    },
    {
      "cell_type": "code",
      "metadata": {
        "id": "uV-fWSvauQ5q"
      },
      "source": [
        "df_act_Stat=pd.pivot_table(df_avt, index=[\"Course_code\",\"Activity_type\" ], \n",
        "               values=[\"Act_mark\", \"Act_diff\", \"Act_cp_count\", \"Act_time\" , \"Activity_id\"]   , aggfunc={\n",
        "                   \"Act_mark\":(\"mean\",\"max\", \"count\", \"min\"), \n",
        "                   \"Act_diff\": \"mean\",\n",
        "                   \"Act_cp_count\": \"mean\",\n",
        "                   \"Act_time\": (\"mean\", \"max\", \"min\"),\n",
        "                   \"Activity_id\": lambda x: x.nunique()\n",
        "               }).rename(columns={\n",
        "                   \"Activity_id\" :  \"Activities_Count\"  #  number of activities\n",
        "#                 \"Act_mark\":\"Std_act_m\", \n",
        "#                    \"Act_diff\": \"Std_act_d\",\n",
        "#                    \"Act_cp_count\": \"Std_act_cp\",\n",
        "#                    \"Act_time\": \"Std_act_t\"  \n",
        "\n",
        "               })\n"
      ],
      "execution_count": null,
      "outputs": []
    },
    {
      "cell_type": "code",
      "metadata": {
        "id": "GbrvhAOF8fjo"
      },
      "source": [
        "df_avt.head(10)"
      ],
      "execution_count": null,
      "outputs": []
    },
    {
      "cell_type": "code",
      "metadata": {
        "id": "yejIGY9-9AqA"
      },
      "source": [
        "df_avt.query(f\"student_ID=='090904691'\").groupby([\"Course_code\", \"Activity_type\"]).student_ID.agg(\"count\")"
      ],
      "execution_count": null,
      "outputs": []
    },
    {
      "cell_type": "code",
      "metadata": {
        "id": "Asw9HgSl-p0k"
      },
      "source": [
        "df_avt.groupby([\"Course_code\", \"Activity_type\"]).student_ID.agg(\"count\")"
      ],
      "execution_count": null,
      "outputs": []
    },
    {
      "cell_type": "code",
      "metadata": {
        "id": "SRtfu_aR7YoJ"
      },
      "source": [
        "df_avt[df_avt.Course_code=='g8_1'].groupby(\"Activity_type\").student_ID.agg(\"count\")"
      ],
      "execution_count": null,
      "outputs": []
    },
    {
      "cell_type": "code",
      "metadata": {
        "id": "lJWjtGDt-dLF"
      },
      "source": [
        "df_act_Stat.sample(5)"
      ],
      "execution_count": null,
      "outputs": []
    },
    {
      "cell_type": "code",
      "metadata": {
        "id": "jDfjh-7BW5f7"
      },
      "source": [
        "df_act_Stat.columns=[f\"{i}_{j}\" for  i , j in df_act_Stat.columns]"
      ],
      "execution_count": null,
      "outputs": []
    },
    {
      "cell_type": "code",
      "metadata": {
        "id": "kTDEPIsiutvW"
      },
      "source": [
        "df_avt[(df_avt.Course_code==\"g6_1\")&(df_avt.Activity_type==\"0\")].describe()"
      ],
      "execution_count": null,
      "outputs": []
    },
    {
      "cell_type": "markdown",
      "metadata": {
        "id": "lT8hkF0GZmi0"
      },
      "source": [
        "## Students' Achievement Statistics (( df_std ))  (( df_mg ))"
      ]
    },
    {
      "cell_type": "code",
      "metadata": {
        "id": "NqbdT3ZicJ6B"
      },
      "source": [
        "df_std_Stat=pd.pivot_table(df_avt, index=[\"student_ID\",\"Course_code\",\"Activity_type\" ], \n",
        "               values=[\"Act_mark\", \"Act_diff\", \"Act_cp_count\", \"Act_time\" ]   , aggfunc={\n",
        "                   \"Act_mark\":(\"mean\",\"max\", \"count\", np.std, \"last\"), \n",
        "                   \"Act_diff\": \"mean\",\n",
        "                   \"Act_cp_count\": \"mean\",\n",
        "                   \"Act_time\": (\"mean\", \"max\", np.std)\n",
        "               },  fill_value=0 ).rename(columns={\n",
        "                \"Act_mark\":\"Std_act_m\", \n",
        "                   \"Act_diff\": \"Std_act_d\",\n",
        "                   \"Act_cp_count\": \"Std_act_cp\",\n",
        "                   \"Act_time\": \"Std_act_t\"   \n",
        "\n",
        "               })\n",
        "df_std_Stat.head()"
      ],
      "execution_count": null,
      "outputs": []
    },
    {
      "cell_type": "code",
      "metadata": {
        "id": "whp94LKSWfoY"
      },
      "source": [
        "df_avt.sample()"
      ],
      "execution_count": null,
      "outputs": []
    },
    {
      "cell_type": "code",
      "metadata": {
        "id": "0E65b4Z5zJUw"
      },
      "source": [
        "df_avt[(df_avt.student_ID==\"080607421\")& (df_avt.Course_code==\"g7_3\")]"
      ],
      "execution_count": null,
      "outputs": []
    },
    {
      "cell_type": "code",
      "metadata": {
        "id": "wsIADVEGjvd0"
      },
      "source": [
        "df_std_Stat.columns=[f\"{i}_{j}\" for  i , j in df_std_Stat.columns]"
      ],
      "execution_count": null,
      "outputs": []
    },
    {
      "cell_type": "code",
      "metadata": {
        "id": "Aex8ie9Kf8ID"
      },
      "source": [
        "df_std_Stat.sample(5)"
      ],
      "execution_count": null,
      "outputs": []
    },
    {
      "cell_type": "markdown",
      "metadata": {
        "id": "8HZkUeNRaSam"
      },
      "source": [
        "- Ranking\n",
        "\n",
        "$$\\Large score=\\log(\\frac{\\text{Qz_Max_time}}{\\text{Qz_Avg_tim}}+\\text{Qz_avg_diff*Qz_Avg_cp})*\\frac{\\text{Qz_Avg_mark}^2}{\\text{Qz_Max_mark}}$$"
      ]
    },
    {
      "cell_type": "code",
      "metadata": {
        "id": "gjiNBNDYdoDX"
      },
      "source": [
        "df_std_Stat[\"Act_score\"]=np.log1p( \n",
        "    df_std_Stat.Std_act_t_max/df_std_Stat.Std_act_t_mean +df_std_Stat.Std_act_d_mean* df_std_Stat.Std_act_cp_mean\n",
        ")*df_std_Stat[\"Std_act_m_max\"]**2/df_std_Stat.Std_act_m_mean"
      ],
      "execution_count": null,
      "outputs": []
    },
    {
      "cell_type": "code",
      "metadata": {
        "id": "mesFnowLjNjx"
      },
      "source": [
        "# reset index   for  Students    data\n",
        "df_std_Stat.reset_index(inplace=True)\n",
        "# reset index for   activities data\n",
        "df_act_Stat.reset_index(inplace=True)"
      ],
      "execution_count": null,
      "outputs": []
    },
    {
      "cell_type": "code",
      "metadata": {
        "id": "KyatOXQyV93D"
      },
      "source": [
        "# Merge Data\n",
        "df_mg=df_std_Stat.merge(df_act_Stat,  on=[\"Course_code\", \"Activity_type\"])"
      ],
      "execution_count": null,
      "outputs": []
    },
    {
      "cell_type": "code",
      "metadata": {
        "id": "yAxo1JCUV965"
      },
      "source": [
        "df_mg.query(f\"student_ID=='080554476'\")"
      ],
      "execution_count": null,
      "outputs": []
    },
    {
      "cell_type": "code",
      "metadata": {
        "id": "8jDD_bSkV9-I"
      },
      "source": [
        "df_mg[\"last_mark\"]=df_mg.Std_act_m_last  # put the target at the end of table\n",
        "df_mg.drop(\"Std_act_m_last\", axis=1, inplace=True)  #  drop the last mark feature."
      ],
      "execution_count": null,
      "outputs": []
    },
    {
      "cell_type": "code",
      "metadata": {
        "id": "rCupuFGEV-CF"
      },
      "source": [
        "df_mg.sample(3)"
      ],
      "execution_count": null,
      "outputs": []
    },
    {
      "cell_type": "code",
      "metadata": {
        "id": "nf9rbrTlkdiz"
      },
      "source": [
        "df_mg.info()"
      ],
      "execution_count": null,
      "outputs": []
    },
    {
      "cell_type": "code",
      "metadata": {
        "id": "gVBQnTyDkdxA"
      },
      "source": [
        "df_mg.to_csv(\"./Data/student_statistics.csv\")"
      ],
      "execution_count": null,
      "outputs": []
    },
    {
      "cell_type": "markdown",
      "metadata": {
        "id": "xlXC8vTMCYkX"
      },
      "source": [
        "# Linear Regression & Classification"
      ]
    },
    {
      "cell_type": "markdown",
      "metadata": {
        "id": "mODye3CkyDIh"
      },
      "source": [
        "## Pipeline    SGB Regressor  Mark Prediction \n",
        "![](https://i.ibb.co/xzWVv5H/pipe-Lasso.png)"
      ]
    },
    {
      "cell_type": "code",
      "metadata": {
        "id": "yUDuHE8sWASX"
      },
      "source": [
        "df_mg.set_index(\"student_ID\", inplace=True)"
      ],
      "execution_count": null,
      "outputs": []
    },
    {
      "cell_type": "code",
      "metadata": {
        "id": "JdoiqOidnB7Z"
      },
      "source": [
        "# Split Data\n",
        "\n",
        "X_train=df_mg.drop(dt_st.student_ID.unique(), axis = 0).iloc[:,:-1]\n",
        "y=df_mg.drop(dt_st.student_ID.unique(), axis = 0).iloc[:, -1]"
      ],
      "execution_count": null,
      "outputs": []
    },
    {
      "cell_type": "code",
      "metadata": {
        "id": "3YDFFpVQwrRR"
      },
      "source": [
        "from sklearn.preprocessing import StandardScaler , OneHotEncoder\n",
        "from sklearn.compose import make_column_transformer , make_column_selector  as selector\n",
        "\n",
        "from sklearn.pipeline import make_pipeline\n",
        "  \n",
        "num_pipeline= make_pipeline(\n",
        "     StandardScaler( )    # Rescaling\n",
        ")\n",
        "\n",
        "cat_pipeline= make_pipeline(\n",
        "      \n",
        "     OneHotEncoder(drop=\"if_binary\" , sparse=False ), \n",
        " \n",
        ")"
      ],
      "execution_count": null,
      "outputs": []
    },
    {
      "cell_type": "code",
      "metadata": {
        "id": "upy_I2BowrUj"
      },
      "source": [
        "#  Pipeline structure \n",
        "preprocess= make_column_transformer(\n",
        "     ( num_pipeline,  selector(dtype_include=\"number\") ),  #Numeric feature rescaling\n",
        "     (cat_pipeline, selector(dtype_exclude=\"number\"))  # Categorical features Encoding\n",
        "     )"
      ],
      "execution_count": null,
      "outputs": []
    },
    {
      "cell_type": "code",
      "metadata": {
        "id": "66dCtrfm4uw-"
      },
      "source": [
        "preprocess.fit_transform(X_train).shape"
      ],
      "execution_count": null,
      "outputs": []
    },
    {
      "cell_type": "code",
      "metadata": {
        "id": "ITBU0xv45SXd"
      },
      "source": [
        "preprocess.fit_transform(X_train)[0]"
      ],
      "execution_count": null,
      "outputs": []
    },
    {
      "cell_type": "code",
      "metadata": {
        "id": "Wh8MTnh2keHJ"
      },
      "source": [
        "# pipelline Model\n",
        "\n",
        "from xgboost import XGBRegressor\n",
        "pipe_reg= make_pipeline(\n",
        "    preprocess, \n",
        "    XGBRegressor(objective=\"reg:squarederror\")\n",
        "    )"
      ],
      "execution_count": null,
      "outputs": []
    },
    {
      "cell_type": "code",
      "metadata": {
        "id": "90gB0GMjz4vz"
      },
      "source": [
        "pipe_reg.get_params()"
      ],
      "execution_count": null,
      "outputs": []
    },
    {
      "cell_type": "code",
      "metadata": {
        "id": "CYgTJx9zqPLY"
      },
      "source": [
        "# hyper parameters\n",
        "\n",
        "param_grid={\n",
        "    \"xgbregressor__learning_rate\": [0.01, 0.1],\n",
        "    \"xgbregressor__max_depth\" : [3,5,7, 10] ,\n",
        "    \"xgbregressor__min_child_weight\" :[1,3,5],\n",
        "    \"xgbregressor__subsample\": [0.5, 0.7],\n",
        "    \"xgbregressor__colsample_bytree\": [0.5, 0.7],\n",
        "    \"xgbregressor__n_estimators\": [200, 400, 1000]\n",
        "    \n",
        "}"
      ],
      "execution_count": null,
      "outputs": []
    },
    {
      "cell_type": "code",
      "metadata": {
        "id": "qtr9T1Mt1Fjk"
      },
      "source": [
        "from sklearn.model_selection import RandomizedSearchCV, KFold\n",
        "\n",
        "kf= KFold( n_splits=5, shuffle=True )\n",
        "gs= RandomizedSearchCV( pipe_reg, param_distributions=param_grid,  scoring=\"neg_mean_squared_error\", cv=kf,verbose=3)"
      ],
      "execution_count": null,
      "outputs": []
    },
    {
      "cell_type": "code",
      "metadata": {
        "id": "vg3IQj7I1Fmz"
      },
      "source": [
        "gs.fit(X_train, y)"
      ],
      "execution_count": null,
      "outputs": []
    },
    {
      "cell_type": "code",
      "metadata": {
        "id": "OdqbzrEB40Fz"
      },
      "source": [
        "gs.best_estimator_"
      ],
      "execution_count": null,
      "outputs": []
    },
    {
      "cell_type": "code",
      "metadata": {
        "id": "P_F9X0bV43D6"
      },
      "source": [
        "gs.best_params_"
      ],
      "execution_count": null,
      "outputs": []
    },
    {
      "cell_type": "code",
      "metadata": {
        "id": "_AMYoAz7kHRs"
      },
      "source": [
        "df_mg.loc[dt_st.student_ID.unique(), :].iloc[:, :-1].sample()"
      ],
      "execution_count": null,
      "outputs": []
    },
    {
      "cell_type": "code",
      "metadata": {
        "id": "qJA7ti_e46dz"
      },
      "source": [
        "y_pred=gs.predict(X_train)"
      ],
      "execution_count": null,
      "outputs": []
    },
    {
      "cell_type": "code",
      "metadata": {
        "id": "y2szdzfQ4Nvq"
      },
      "source": [
        "from sklearn import  metrics\n",
        "print(f\"  MAE : { metrics.mean_absolute_error(y, y_pred):.3f}\")\n",
        "print(f\"  MSE : { metrics.mean_squared_error(y, y_pred):.3f}\")\n",
        "print(f\"  RMSE : { np.sqrt(metrics.mean_squared_error(y, y_pred)):.3f}\")\n",
        "print(f\"  R^2 : { metrics.r2_score(y, y_pred):.3f}\")\n",
        "print(f\"  Explained Variance Score : { metrics.mean_absolute_error(y, y_pred):.3f}\")"
      ],
      "execution_count": null,
      "outputs": []
    },
    {
      "cell_type": "code",
      "metadata": {
        "id": "MzIcZBSx4Nyw"
      },
      "source": [
        "# Residual Plot\n",
        "\n",
        "import seaborn as sns\n",
        "_= sns.residplot(x=y, y=y_pred, color=\"green\")"
      ],
      "execution_count": null,
      "outputs": []
    },
    {
      "cell_type": "code",
      "metadata": {
        "id": "FNUwbLkp3U2k"
      },
      "source": [
        "predict_std = df_mg.loc[dt_st.student_ID.unique(), :].iloc[:, :-1]"
      ],
      "execution_count": null,
      "outputs": []
    },
    {
      "cell_type": "code",
      "metadata": {
        "id": "iEh-K9_3Kuyr"
      },
      "source": [
        "gs.predict(predict_std)"
      ],
      "execution_count": null,
      "outputs": []
    },
    {
      "cell_type": "code",
      "metadata": {
        "id": "afM8HMOdsFW8"
      },
      "source": [
        "predict_std[\"last_mark\"]=gs.predict(predict_std)"
      ],
      "execution_count": null,
      "outputs": []
    },
    {
      "cell_type": "code",
      "metadata": {
        "id": "iLkkuL9yCsiQ"
      },
      "source": [
        "predict_std.head()"
      ],
      "execution_count": null,
      "outputs": []
    },
    {
      "cell_type": "code",
      "metadata": {
        "id": "bA6yGCkApkeM"
      },
      "source": [
        "predict_std.to_csv(\"./Data/predicted_data.csv\")"
      ],
      "execution_count": null,
      "outputs": []
    },
    {
      "cell_type": "markdown",
      "metadata": {
        "id": "rxJumxSTO7S9"
      },
      "source": [
        "## Pipeline    SGB Classsifier  Classification  Prediction   ((( ERROR ))\n",
        "![](https://i.ibb.co/xzWVv5H/pipe-Lasso.png)"
      ]
    },
    {
      "cell_type": "code",
      "metadata": {
        "id": "mV9pOkV8O7TD"
      },
      "source": [
        "df_stClass= df_mg.copy()"
      ],
      "execution_count": null,
      "outputs": []
    },
    {
      "cell_type": "code",
      "metadata": {
        "id": "uZhqnK4rO7TE"
      },
      "source": [
        "df_stClass.head()"
      ],
      "execution_count": null,
      "outputs": []
    },
    {
      "cell_type": "markdown",
      "metadata": {
        "id": "rmi-mtp4FWZg"
      },
      "source": [
        "- Ranking\n",
        "\n",
        "$$\\Large score=\\log(\\frac{\\text{Qz_Max_time}}{\\text{Qz_Avg_tim}}+\\text{Qz_avg_diff*Qz_Avg_cp})*\\frac{\\text{Qz_Avg_mark}^2}{\\text{Qz_Max_mark}}$$"
      ]
    },
    {
      "cell_type": "code",
      "metadata": {
        "id": "dpKvikShD_ia"
      },
      "source": [
        "df_stClass.Act_score.describe().T"
      ],
      "execution_count": null,
      "outputs": []
    },
    {
      "cell_type": "code",
      "metadata": {
        "id": "cFs-6fXyGpGB"
      },
      "source": [
        "df_stClass.Act_score.quantile(0.25)"
      ],
      "execution_count": null,
      "outputs": []
    },
    {
      "cell_type": "code",
      "metadata": {
        "id": "BXRNBYkvA4c6"
      },
      "source": [
        "#  feature  Engineering\n",
        "\n",
        "bins = [0, \n",
        "        df_stClass.Act_score.quantile(0.25),\n",
        "        df_stClass.Act_score.quantile(0.5),\n",
        "        df_stClass.Act_score.quantile(0.75), \n",
        "        df_stClass.Act_score.quantile(1)]\n",
        "names = ['D', 'C', 'B', 'A']\n",
        "\n",
        "df_stClass['Score_Class'] = pd.cut(df_stClass.Act_score,\n",
        "                           bins, labels=names)"
      ],
      "execution_count": null,
      "outputs": []
    },
    {
      "cell_type": "code",
      "metadata": {
        "id": "DOVyPfF1I62v"
      },
      "source": [
        "df_stClass.head()\n",
        "\n",
        "#  It's better to add data related to  timestamp feature:  dat, month, dayofteweek, monthOfTheyear ....."
      ],
      "execution_count": null,
      "outputs": []
    },
    {
      "cell_type": "code",
      "metadata": {
        "id": "XJyJk9FnJCvH"
      },
      "source": [
        "df_stClass.drop(\"Act_score\", axis=1, inplace=True)"
      ],
      "execution_count": null,
      "outputs": []
    },
    {
      "cell_type": "code",
      "metadata": {
        "id": "yOJgt_lxO7TF"
      },
      "source": [
        "# Split Data\n",
        "\n",
        "X=df_stClass.iloc[:,:-1]\n",
        "y=df_stClass[\"Score_Class\"]"
      ],
      "execution_count": null,
      "outputs": []
    },
    {
      "cell_type": "code",
      "metadata": {
        "id": "z0HbtSlPO7TG"
      },
      "source": [
        "from sklearn.model_selection import train_test_split\n",
        "\n",
        "X_train, X_test, y_train, y_test=train_test_split(X, y  , test_size=.3,   random_state=42)"
      ],
      "execution_count": null,
      "outputs": []
    },
    {
      "cell_type": "code",
      "metadata": {
        "id": "lkqh27GpO7TG"
      },
      "source": [
        "X_train.shape, X_test.shape"
      ],
      "execution_count": null,
      "outputs": []
    },
    {
      "cell_type": "code",
      "metadata": {
        "id": "uNoAmJ5wO7TH"
      },
      "source": [
        "from sklearn.preprocessing import StandardScaler , OneHotEncoder\n",
        "from sklearn.compose import make_column_transformer , make_column_selector  as selector\n",
        "\n",
        "from sklearn.pipeline import make_pipeline\n",
        "  \n",
        "num_pipeline= make_pipeline(\n",
        "     StandardScaler( )    # Rescaling\n",
        ")\n",
        "\n",
        "cat_pipeline= make_pipeline(\n",
        "      \n",
        "     OneHotEncoder(drop=\"if_binary\" , sparse=False ), \n",
        " \n",
        ")"
      ],
      "execution_count": null,
      "outputs": []
    },
    {
      "cell_type": "code",
      "metadata": {
        "id": "rnWwMgU6O7TH"
      },
      "source": [
        "#  Pipeline structure \n",
        "\n",
        "preprocess= make_column_transformer(\n",
        "     ( num_pipeline,  selector(dtype_include=\"number\") ),  #Numeric feature rescaling\n",
        "     (cat_pipeline, selector(dtype_exclude=\"number\"))  # Categorical features Encoding\n",
        "     )"
      ],
      "execution_count": null,
      "outputs": []
    },
    {
      "cell_type": "code",
      "metadata": {
        "id": "6PTkH0fyO7TH"
      },
      "source": [
        "preprocess.fit_transform(X_train).shape"
      ],
      "execution_count": null,
      "outputs": []
    },
    {
      "cell_type": "code",
      "metadata": {
        "id": "62CITadAO7TI"
      },
      "source": [
        "preprocess.fit_transform(X_train)[0]"
      ],
      "execution_count": null,
      "outputs": []
    },
    {
      "cell_type": "code",
      "metadata": {
        "id": "ygtpwdJSO7TJ"
      },
      "source": [
        "# pipelline Model\n",
        "\n",
        "from xgboost import XGBClassifier\n",
        "pipe_reg= make_pipeline(\n",
        "    preprocess, \n",
        "    XGBClassifier()\n",
        "    )"
      ],
      "execution_count": null,
      "outputs": []
    },
    {
      "cell_type": "code",
      "metadata": {
        "id": "5kqkheEaO7TJ"
      },
      "source": [
        "pipe_reg.get_params()"
      ],
      "execution_count": null,
      "outputs": []
    },
    {
      "cell_type": "code",
      "metadata": {
        "id": "XKjazoy5O7TJ"
      },
      "source": [
        "# hyper parameters\n",
        "\n",
        "param_grid = {\n",
        "    'xgbclassifier__n_estimators': [50, 100, 150, 200],\n",
        "    'xgbclassifier__learning_rate': [0.01, 0.1, 0.2, 0.3],\n",
        "    'xgbclassifier__max_depth': range(3, 5),\n",
        "    'xgbclassifier__colsample_bytree': [i/10.0 for i in range(1, 3)],\n",
        "    'xgbclassifier__gamma': [i/10.0 for i in range(3)],\n",
        "    \n",
        "}"
      ],
      "execution_count": null,
      "outputs": []
    },
    {
      "cell_type": "code",
      "metadata": {
        "id": "LZY_I0agBoED"
      },
      "source": [
        "# AUC and accuracy as score\n",
        "\n",
        "from sklearn.metrics import accuracy_score, make_scorer, f1_score\n",
        "scorer = make_scorer(f1_score, pos_label=\"yes\", average=\"micro\")"
      ],
      "execution_count": null,
      "outputs": []
    },
    {
      "cell_type": "code",
      "metadata": {
        "id": "yvVUlnXRO7TK"
      },
      "source": [
        "from sklearn.model_selection import RandomizedSearchCV, KFold\n",
        "\n",
        "kf= KFold( n_splits=5, shuffle=True )\n",
        "gs= RandomizedSearchCV( pipe_reg, param_distributions=param_grid,  scoring=scorer,  cv=kf,verbose=3)"
      ],
      "execution_count": null,
      "outputs": []
    },
    {
      "cell_type": "code",
      "metadata": {
        "id": "9mu58K1nO7TK"
      },
      "source": [
        "gs.fit(X_train, y_train)"
      ],
      "execution_count": null,
      "outputs": []
    },
    {
      "cell_type": "code",
      "metadata": {
        "id": "WCQsQ6frO7TK"
      },
      "source": [
        "gs.best_estimator_"
      ],
      "execution_count": null,
      "outputs": []
    },
    {
      "cell_type": "code",
      "metadata": {
        "id": "52_M4t9mO7TL"
      },
      "source": [
        "gs.best_params_"
      ],
      "execution_count": null,
      "outputs": []
    },
    {
      "cell_type": "code",
      "metadata": {
        "id": "I-4oLnkiO7TL"
      },
      "source": [
        "X_test.sample()"
      ],
      "execution_count": null,
      "outputs": []
    },
    {
      "cell_type": "code",
      "metadata": {
        "id": "L2xALOuEO7TL"
      },
      "source": [
        "std_Pred=X_test.loc[\"061108800\"]"
      ],
      "execution_count": null,
      "outputs": []
    },
    {
      "cell_type": "code",
      "metadata": {
        "id": "k5I5DVSSO7TM"
      },
      "source": [
        "gs.predict(X_test.loc[\"061108800\"])"
      ],
      "execution_count": null,
      "outputs": []
    },
    {
      "cell_type": "code",
      "metadata": {
        "id": "vHKbm3jiO7TM"
      },
      "source": [
        "std_Pred[\"Predicted_mark\"]=gs.predict(X_test.loc[\"070229174S\"])"
      ],
      "execution_count": null,
      "outputs": []
    },
    {
      "cell_type": "code",
      "metadata": {
        "id": "bRKsloF7O7TN"
      },
      "source": [
        "std_Pred"
      ],
      "execution_count": null,
      "outputs": []
    },
    {
      "cell_type": "code",
      "metadata": {
        "id": "GNl60l11O7TN"
      },
      "source": [
        "y_pred=gs.predict(X_test)"
      ],
      "execution_count": null,
      "outputs": []
    },
    {
      "cell_type": "code",
      "metadata": {
        "id": "JGL5XFCMO7TT"
      },
      "source": [
        "#  Last Mark Comparaison\n",
        "\n",
        "pd.DataFrame({\"Actual Mark\": y_test, \"Predicted Mark\": y_pred}).sample(6)"
      ],
      "execution_count": null,
      "outputs": []
    },
    {
      "cell_type": "code",
      "metadata": {
        "id": "jGIG1Z2CO7TT"
      },
      "source": [
        "X_test[\"predicted_Mark\"]=y_pred"
      ],
      "execution_count": null,
      "outputs": []
    },
    {
      "cell_type": "markdown",
      "metadata": {
        "id": "Z9gewdIt7G0R"
      },
      "source": [
        "# Old stuff"
      ]
    },
    {
      "cell_type": "code",
      "metadata": {
        "id": "fsKai4Co69B4"
      },
      "source": [
        "def plot_std_Data(st, cs,chk,  status=False):\n",
        "  course.options = std_d[st]\n",
        "  plt.rcParams.update({'font.size': 25})\n",
        "  \n",
        "\n",
        "  #  subplots   x, y  :  should be related to the number of Activity_type of current student.\n",
        "\n",
        "  list_rec=recommend( st)\n",
        "\n",
        "\n",
        "  fig, ax=plt.subplots(1, 2, figsize=(10,10) )\n",
        "  plt.subplots_adjust(top = 0.99, bottom=0.01,wspace=0.4, hspace= 0.4)\n",
        "\n",
        "  if status:\n",
        "    ref_q=dt_st.reset_index().query(f\"student_ID=='{st}' & Course_code=='{cs}' & Activity_type=='0' \").Act_submit_Time.max()\n",
        "    xq_point=[ref_q, ref_q+ timedelta(days=7)]\n",
        "    yq_point=[dt_st.loc[ref_q, \"Act_mark\"]       , predict_std.reset_index().query(f\"student_ID=='{st}'  & Course_code=='{cs}' & Activity_type=='0' \").last_mark]\n",
        "    ax[0,1].plot(xq_point , yq_point, linestyle='dashed', marker='o',\n",
        "                 markerfacecolor='blue', markersize=12)\n",
        "    \n",
        "\n",
        "    ref_a=dt_st.reset_index().query(f\"student_ID=='{st}' & Course_code=='{cs}' & Activity_type=='1' \").Act_submit_Time.max()\n",
        "    xa_point=[ref_a, ref_a+ timedelta(days=7)]\n",
        "    ya_point=[dt_st.loc[ref_a, \"Act_mark\"]       , predict_std.reset_index().query(f\"student_ID=='{st}'  & Course_code=='{cs}' & Activity_type=='0' \").last_mark]\n",
        "    ax[0,0].plot(xa_point , ya_point, linestyle='dashed', marker='o',\n",
        "                 markerfacecolor='blue', markersize=12)\n",
        "\n",
        "\n",
        "  dt_st.query(f\"Course_code=='{cs}' & student_ID=='{st}' & Activity_type=='{chk}'\").Act_mark.plot( \n",
        "      subplots=True,marker=\"o\",    ax=ax[0] , color=\"brown\")\n",
        "   \n",
        " \n",
        "  \n",
        "\n",
        "  # dt_st.query(f\"Course_code=='{cs}' & student_ID=='{st}' & Activity_type=='0'\").Act_mark.plot( \n",
        "  #     subplots=True, marker=\"s\",   ax=ax[0,1] , color=\"brown\")\n",
        "\n",
        "  # add time Avg per Activity\n",
        "\n",
        "  # ax4=ax[0].twinx()\n",
        "  dt_st.query(f\"Course_code=='{cs}' & student_ID=='{st}' & Activity_type=='{chk}'\").Act_time.plot( \n",
        "      subplots=True, marker=\"s\",   ax=ax[1] , color=\"green\")\n",
        "\n",
        "\n",
        "\n",
        "  # ax3=ax[1,0].twinx()\n",
        "  # dt_st.query(f\"Course_code=='{cs}' & student_ID=='{st}' & Activity_type=='0'\").Act_time.plot( subplots=True, marker=\"s\",   ax=ax3 , color=\"green\")\n",
        "\n",
        "  Alabel=\"Assignments Mark\"   if chk  else  \"Quizz Mark \"\n",
        "  Atitle= \" Assignement Mark Trend / Month Timeline\"  if chk   else \" Quizz Mark Trend / Month Timeline\"\n",
        "\n",
        "  # ---------------------------------------------------------------------\n",
        "  # Set title and labels for axes\n",
        "  ax[0].set(xlabel=\"Dates\",\n",
        "        ylabel= Alabel,  # \"Assignments Mark\",\n",
        "        title=Atitle ) # Assignement Mark Trend / Month Timeline\")\n",
        "  fig.autofmt_xdate(rotation=45)\n",
        "\n",
        "  ax[0].xaxis.set_major_formatter(DateFormatter(\"%Y-%b\"))\n",
        "  \n",
        "# ----------------------------------------------------------------------\n",
        "  # ax[0,1].set(xlabel=\"Dates\",\n",
        "  #       ylabel=\"Quizzes Marks\",\n",
        "  #       title=\" Quizzes Marks Trend / Month Timeline\")\n",
        "  Qlabel=\"Assignments Time\"   if chk  else  \"Quizz Time \"\n",
        "\n",
        "  ax[1].set(\n",
        "        ylabel=  Qlabel # \"Quizz Mark\"\n",
        "        )\n",
        "  ax[1].grid()\n",
        "  ax[1].legend()\n",
        "  \n",
        "  # ---------------------------------------------------------------------\n",
        "  # ax[1,1].set(ylabel=\"Quizzes Submission time \",\n",
        "  #       title= \"Quizzes Time Submission Trend / Month\")\n",
        "  # # ----------------------------------------------------------------\n",
        "  # ax[1,0].set(xlabel=\"Dates\",\n",
        "  #       ylabel=\"Assignments Subission Time\",\n",
        "  #       title=\"Assignments Time Submission Trend / Month\")\n",
        "\n",
        "  fig.autofmt_xdate(rotation=45)\n",
        "#-----------------------------------------------------------------------\n",
        " \n",
        "  # ax[0].grid()\n",
        "  # ax[0,1].grid()\n",
        "  # ax[1,0].grid()\n",
        "  # ax[1,1].xaxis.set_major_formatter(DateFormatter(\"%Y-%b\"))\n",
        "  ax[0].xaxis.set_major_formatter(DateFormatter(\"%Y-%b\"))\n",
        "\n",
        "  #---------------------------------------\n",
        "  # ax[0].legend()\n",
        "  # ax4.legend()\n",
        "  # ax[0,1].legend()\n",
        "      \n",
        "  plt.show()"
      ],
      "execution_count": null,
      "outputs": []
    },
    {
      "cell_type": "code",
      "metadata": {
        "id": "CPn35aQf4WBw"
      },
      "source": [
        "def plot_std_Data(st, cs, status=False):\n",
        "  course.options = std_d[st]\n",
        "  plt.rcParams.update({'font.size': 25})\n",
        "  \n",
        "\n",
        "  #  subplots   x, y  :  should be related to the number of Activity_type of current student.\n",
        "\n",
        "\n",
        "  fig, ax=plt.subplots(2, 2, figsize=(30,20) )\n",
        "  plt.subplots_adjust(top = 0.99, bottom=0.01,wspace=0.4, hspace= 0.3)\n",
        "\n",
        "  if status:\n",
        "    ref_q=dt_st.reset_index().query(f\"student_ID=='{st}' & Course_code=='{cs}' & Activity_type=='0' \").Act_submit_Time.max()\n",
        "    xq_point=[ref_q, ref_q+ timedelta(days=7)]\n",
        "    yq_point=[dt_st.loc[ref_q, \"Act_mark\"]       , predict_std.reset_index().query(f\"student_ID=='{st}'  & Course_code=='{cs}' & Activity_type=='0' \").last_mark]\n",
        "    ax[1,1].plot(xq_point , yq_point, linestyle='dashed', marker='o',\n",
        "                 markerfacecolor='blue', markersize=12)\n",
        "    # ax[1,1].axvline(x=xq_point, c='red', lw=2, alpha=0.5, ls='--')\n",
        "    \n",
        "\n",
        "    ref_a=dt_st.reset_index().query(f\"student_ID=='{st}' & Course_code=='{cs}' & Activity_type=='1' \").Act_submit_Time.max()\n",
        "    xa_point=[ref_a, ref_a+ timedelta(days=7)]\n",
        "    ya_point=[dt_st.loc[ref_a, \"Act_mark\"]       , predict_std.reset_index().query(f\"student_ID=='{st}'  & Course_code=='{cs}' & Activity_type=='0' \").last_mark]\n",
        "    ax[1,0].plot(xa_point , ya_point, linestyle='dashed', marker='o',\n",
        "                 markerfacecolor='blue', markersize=12)\n",
        "    # ax[1,0].axvline(x=xa_point, c='red', lw=2, alpha=0.5, ls='--')\n",
        "\n",
        "\n",
        "  dt_st.query(f\"Course_code=='{cs}' & student_ID=='{st}' & Activity_type=='1'\").Act_mark.plot( \n",
        "      subplots=True,marker=\"o\",    ax=ax[1,0] , color=\"brown\")\n",
        "   \n",
        "  # dt_st.query(f\"Course_code=='{cs}' & Activity_type=='1'\").Act_mark.plot( \n",
        "  #     subplots=True,marker=\"o\",    ax=ax[0, 0] , color=\"brown\")\n",
        "  \n",
        "  \n",
        "\n",
        "  dt_st.query(f\"Course_code=='{cs}' & student_ID=='{st}' & Activity_type=='0'\").Act_mark.plot( \n",
        "      subplots=True, marker=\"s\",   ax=ax[1,1] , color=\"brown\")\n",
        "\n",
        "  # add time Avg per Activity\n",
        "\n",
        "  ax4=ax[0,1].twinx()\n",
        "  dt_st.query(f\"Course_code=='{cs}' & student_ID=='{st}' & Activity_type=='1'\").Act_time.plot( \n",
        "      subplots=True, marker=\"s\",   ax=ax4 , color=\"green\")\n",
        "\n",
        "\n",
        "\n",
        "  ax3=ax[0,0].twinx()\n",
        "  dt_st.query(f\"Course_code=='{cs}' & student_ID=='{st}' & Activity_type=='0'\").Act_time.plot( subplots=True, marker=\"s\",   ax=ax3 , color=\"green\")\n",
        "\n",
        "  \n",
        "  # ---------------------------------------------------------------------\n",
        "  # Set title and labels for axes\n",
        "  ax[1,0].set(xlabel=\"Dates\",\n",
        "        ylabel=\"Assignments Mark\",\n",
        "        title=\" Assignement Mark Trend / Month Timeline\")\n",
        "  fig.autofmt_xdate(rotation=45)\n",
        "\n",
        "  ax[1,0].xaxis.set_major_formatter(DateFormatter(\"%Y-%b\"))\n",
        "  \n",
        "# ----------------------------------------------------------------------\n",
        "  ax[1,1].set(xlabel=\"Dates\",\n",
        "        ylabel=\"Quizzes Marks\",\n",
        "        title=\" Quizzes Marks Trend / Month Timeline\")\n",
        "  ax4.set(\n",
        "        ylabel=\"Quizz Mark\"\n",
        "        )\n",
        "  ax4.grid()\n",
        "  ax4.legend()\n",
        "  \n",
        "  # ---------------------------------------------------------------------\n",
        "  ax[0,1].set(ylabel=\"Quizzes Submission time \",\n",
        "        title= \"Quizzes Time Submission Trend / Month\")\n",
        "  # ----------------------------------------------------------------\n",
        "  ax[0,0].set(xlabel=\"Dates\",\n",
        "        ylabel=\"Assignments Subission Time\",\n",
        "        title=\"Assignments Time Submission Trend / Month\")\n",
        "\n",
        "  fig.autofmt_xdate(rotation=45)\n",
        "#-----------------------------------------------------------------------\n",
        "  ax[1,0].grid()\n",
        "  ax[1,1].grid()\n",
        "  ax[0,0].grid()\n",
        "  ax[0,1].xaxis.set_major_formatter(DateFormatter(\"%Y-%b\"))\n",
        "  ax[0,0].xaxis.set_major_formatter(DateFormatter(\"%Y-%b\"))\n",
        "\n",
        "  #---------------------------------------\n",
        "  ax[1,0].legend()\n",
        "  ax3.legend()\n",
        "  ax[1,1].legend()\n",
        "      \n",
        "  plt.show()\n",
        "  "
      ],
      "execution_count": null,
      "outputs": []
    },
    {
      "cell_type": "code",
      "metadata": {
        "id": "cIuiybpVJ7Oh"
      },
      "source": [
        "@interact(st = stID, cs = course, chkbx= box)\n",
        "def plot_data( st, cs, chkbx):\n",
        "  print(((chkbx)+0))\n",
        "  \n",
        "  # print(predict_std.reset_index().query(f\"Course_code=='{cs}' & student_ID=='{st}'\"))\n",
        "  plot_std_Data(st, cs, ((chkbx)+0))"
      ],
      "execution_count": null,
      "outputs": []
    },
    {
      "cell_type": "code",
      "metadata": {
        "id": "IerlcN02TTl-"
      },
      "source": [
        "# xs@interact(st = stID, cs = course)\n",
        "# def plot_data( st, cs):xs\n",
        "#   plot_std_Data(st, cs)"
      ],
      "execution_count": null,
      "outputs": []
    },
    {
      "cell_type": "code",
      "metadata": {
        "id": "NxnVyBEQq3uK"
      },
      "source": [
        "@interact(st = stID, cs = course)\n",
        "def plot_data( st, cs):\n",
        "  # print(predict_std.reset_index().query(f\"Course_code=='{cs}' & student_ID=='{st}'\"))\n",
        "  plot_std_Data(st, cs)"
      ],
      "execution_count": null,
      "outputs": []
    },
    {
      "cell_type": "markdown",
      "metadata": {
        "id": "f5tBct2XZDWe"
      },
      "source": [
        "## Compare the selected student's achievments with his colleagues (( box plot ))"
      ]
    },
    {
      "cell_type": "code",
      "metadata": {
        "id": "ambNA7NTw21l"
      },
      "source": [
        "# For the Boxplot plt.boxplot(df_avt.query(\"Activity_id=='g5_3-Act_10'\").Act_mark)"
      ],
      "execution_count": null,
      "outputs": []
    },
    {
      "cell_type": "code",
      "metadata": {
        "id": "d864KxliDd7i"
      },
      "source": [
        "dt_st.sample()"
      ],
      "execution_count": null,
      "outputs": []
    },
    {
      "cell_type": "code",
      "metadata": {
        "id": "8BGUr1VA9PDo"
      },
      "source": [
        "fig, ax=plt.subplots(figsize=(10,10) )\n",
        "ax.plot(\n",
        "    dt_st.reset_index().query(f\"student_ID=='080646195S' & Course_code=='g8_1' & Activity_type=='0' \").Act_submit_Time.max() + timedelta(days=7) , \n",
        "    predict_std.reset_index().query(f\"student_ID=='080646195S'  & Course_code=='g8_1' & Activity_type=='0' \").last_mark\n",
        "       , marker=\"o\" )\n",
        "ax.plot(\n",
        "    dt_st.reset_index().query(f\"student_ID=='080646195S' & Course_code=='g8_1' & Activity_type=='0' \").Act_submit_Time.max() + timedelta(days=14) , \n",
        "    predict_std.reset_index().query(f\"student_ID=='080646195S'  & Course_code=='g8_1' & Activity_type=='0' \").last_mark+1.5\n",
        "       , marker=\"o\" )"
      ],
      "execution_count": null,
      "outputs": []
    },
    {
      "cell_type": "code",
      "metadata": {
        "id": "xvnbeMjcGKsT"
      },
      "source": [
        "ref= dt_st.reset_index().query(f\"student_ID=='101235516S' & Course_code=='g5_3' & Activity_type=='0' \").Act_submit_Time.max()\n",
        "dt_st.loc[ref, \"Act_mark\"]\n"
      ],
      "execution_count": null,
      "outputs": []
    },
    {
      "cell_type": "code",
      "metadata": {
        "id": "4ttZK_dLGvxK"
      },
      "source": [
        "dt_st.reset_index().query(f\"student_ID=='101235516S' & Course_code=='g5_3' & Activity_type=='0' \")"
      ],
      "execution_count": null,
      "outputs": []
    },
    {
      "cell_type": "code",
      "metadata": {
        "id": "KmoeE2qmIuRS"
      },
      "source": [
        "plt.boxplot(df_avt.query(\"Activity_id=='g5_3-Act_12'\")[\"Act_mark\"])"
      ],
      "execution_count": null,
      "outputs": []
    },
    {
      "cell_type": "code",
      "metadata": {
        "id": "QfCYJyt_cyCA"
      },
      "source": [
        "plt.boxplot(df_avt.query(\"student_ID=='090888097S' & Course_code=='g8_1' & Activity_type=='0'\").Act_mark)"
      ],
      "execution_count": null,
      "outputs": []
    },
    {
      "cell_type": "code",
      "metadata": {
        "id": "DfcbUREY2cDU"
      },
      "source": [
        "df_avt.index= df_avt.Act_submit_Time"
      ],
      "execution_count": null,
      "outputs": []
    },
    {
      "cell_type": "markdown",
      "metadata": {
        "id": "riEnovF6Zlby"
      },
      "source": [
        "## Graph all the students achievment in a specific subject"
      ]
    },
    {
      "cell_type": "code",
      "metadata": {
        "id": "sb-TQNS9zFAc"
      },
      "source": [
        "#  Create  the index\n",
        "# df_avt[\"Act_submit_Time\"]= pd.to_datetime(df_avt.Act_submit_Time)\n",
        "df_avt.index=df_avt[\"Act_submit_Time\"]\n",
        "df_avt.sample()"
      ],
      "execution_count": null,
      "outputs": []
    },
    {
      "cell_type": "code",
      "metadata": {
        "id": "CvhqA2fj799L"
      },
      "source": [
        "import plotly.graph_objs as go\n",
        "\n",
        "@interact(sbj=df_avt.Course_code.unique())\n",
        "def plot_subject(sbj):\n",
        "  plt.rcParams.update({'font.size': 25})\n",
        "  x = np.arange(10)\n",
        "  layout = go.Layout(\n",
        "    autosize=False,\n",
        "    width= 1200 , height= 600 )\n",
        "  fig=go.Figure(layout=layout)\n",
        "\n",
        "  fig.add_trace(go.Scatter(      \n",
        "      x=df_avt[(df_avt.Course_code==sbj)&(\n",
        "          df_avt.Activity_type==\"0\")].loc[\"2020-09\":\"2021-09\", \"Act_submit_Time\"].sort_index(), \n",
        "      y=df_avt[(df_avt.Course_code==sbj)&(\n",
        "          df_avt.Activity_type==\"0\")].loc[\"2020-09\":\"2021-09\", \"Act_mark\"].sort_index()\n",
        "      , mode='lines+markers', name=\"Quiz\"))\n",
        "\n",
        "  fig.add_trace(go.Scatter(\n",
        "      x=df_avt[(df_avt.Course_code==sbj)&(\n",
        "          df_avt.Activity_type==\"1\")].loc[\"2020-09\":\"2021-09\", \"Act_submit_Time\"].sort_index(), \n",
        "      y=df_avt[(df_avt.Course_code==sbj)&(\n",
        "          df_avt.Activity_type==\"1\")].loc[\"2020-09\":\"2021-09\", \"Act_mark\"].sort_index()\n",
        "     , mode='lines+markers' ,  name=\"Assignment\"))\n",
        "\n",
        "\n",
        "\n",
        "  \n",
        "  fig.update_layout(hovermode=\"x\" , \n",
        "      # title=\"أداء جميع الطلبة في مادة معينة\",\n",
        "    xaxis_title=\"Submit Time\",\n",
        "    yaxis_title=\"Mark\",\n",
        "    # font=dict(import plotly.graph_objs as go\n",
        "\n",
        "    #     family=\"Courier New, monospace\",\n",
        "    #     size=18,\n",
        "    #     color=\"#7f7f7f\")\n",
        "     title={\n",
        "        'text': \"أداء جميع الطلبة في مادة معينة\",\n",
        "        'y':0.9,\n",
        "        'x':0.5,\n",
        "        'xanchor': 'center',\n",
        "        'yanchor': 'top'}) \n",
        "  fig.show()\n"
      ],
      "execution_count": null,
      "outputs": []
    },
    {
      "cell_type": "markdown",
      "metadata": {
        "id": "38vV0zLxkgSz"
      },
      "source": [
        "## Compare the selected student's Quiz and Assignm. with Average of all students"
      ]
    },
    {
      "cell_type": "code",
      "metadata": {
        "id": "HVU60nESl4cH"
      },
      "source": [
        "df_ActAv=pd.pivot_table(df_avt, index=[\"Course_code\", \"Activity_type\", \"Activity_id\"], \n",
        "               values=[\"Act_diff\", \t\"Act_cp_count\", \t\"Act_time\" , \t\"Act_mark\"] , aggfunc=(\"mean\")).rename(\n",
        "   columns={\n",
        "    \"Act_diff\": \"Act_diff_avg\", \t\n",
        "    \"Act_cp_count\": \"Act_cp_avg\", \t\n",
        "    \"Act_time\" : \"Act_time_avg\" , \t\n",
        "    \"Act_mark\" : \"Act_mark_avg\" \n",
        "   } \n",
        ")"
      ],
      "execution_count": null,
      "outputs": []
    },
    {
      "cell_type": "code",
      "metadata": {
        "id": "bPqBYMoZFIHY"
      },
      "source": [
        "df_ActAv.head()"
      ],
      "execution_count": null,
      "outputs": []
    },
    {
      "cell_type": "code",
      "metadata": {
        "id": "JaQConHkrLZ2"
      },
      "source": [
        "df_ActAv.shape"
      ],
      "execution_count": null,
      "outputs": []
    },
    {
      "cell_type": "code",
      "metadata": {
        "id": "rgyE9emkgyDY"
      },
      "source": [
        "df_avt.loc[\"2020-09\"].head()"
      ],
      "execution_count": null,
      "outputs": []
    },
    {
      "cell_type": "code",
      "metadata": {
        "id": "7QUyR3Bj4xp5"
      },
      "source": [
        "df_avt.groupby([\"student_ID\", \"Activity_type\"]).agg(\"count\").max()"
      ],
      "execution_count": null,
      "outputs": []
    },
    {
      "cell_type": "code",
      "metadata": {
        "id": "cnbhHR126cEn"
      },
      "source": [
        "df_avt[df_avt.student_ID==\"080237875\"].loc[: ,[\"Course_code\", \"Activity_type\" , \"Activity_id\", \"Act_diff\", \t\"Act_cp_count\", \t\"Act_time\"\t,\"Act_mark\"]]"
      ],
      "execution_count": null,
      "outputs": []
    },
    {
      "cell_type": "code",
      "metadata": {
        "id": "1ttA46uHigbZ"
      },
      "source": [
        "df_plt=df_avt[df_avt.student_ID==\"100611764\"].loc[\"2020-4\":\"2021-2\" ,[\"Course_code\", \"Activity_type\" , \"Activity_id\", \"Act_diff\", \t\"Act_cp_count\", \t\"Act_time\"\t,\"Act_mark\"]]"
      ],
      "execution_count": null,
      "outputs": []
    },
    {
      "cell_type": "code",
      "metadata": {
        "id": "nw57VIPVYcWg"
      },
      "source": [
        "df_plt.groupby(\"Course_code\").Activity_id.agg(\"count\")"
      ],
      "execution_count": null,
      "outputs": []
    },
    {
      "cell_type": "code",
      "metadata": {
        "id": "jWCFQ0JQsVaA"
      },
      "source": [
        "df_plt.reset_index(inplace=True)"
      ],
      "execution_count": null,
      "outputs": []
    },
    {
      "cell_type": "code",
      "metadata": {
        "id": "9N6UkyhfiSdJ"
      },
      "source": [
        "df_plt=df_plt.merge( df_ActAv, on=[\"Activity_type\", \"Activity_id\" ])"
      ],
      "execution_count": null,
      "outputs": []
    },
    {
      "cell_type": "code",
      "metadata": {
        "id": "w8_8WpampUuy"
      },
      "source": [
        "df_plt.keys()"
      ],
      "execution_count": null,
      "outputs": []
    },
    {
      "cell_type": "code",
      "metadata": {
        "id": "Vpe522sppPKs"
      },
      "source": [
        "df_plt.set_index(\"Act_submit_Time\", inplace=True)"
      ],
      "execution_count": null,
      "outputs": []
    },
    {
      "cell_type": "code",
      "metadata": {
        "id": "nRUOMSNAr6E0"
      },
      "source": [
        "# this is dataset for a particular Student.\n",
        "df_plt.head()"
      ],
      "execution_count": null,
      "outputs": []
    },
    {
      "cell_type": "code",
      "metadata": {
        "id": "MIY4x-CcyJHn"
      },
      "source": [
        "df_plt[\"Activity_type\"]=df_plt.Activity_type.astype(int)  "
      ],
      "execution_count": null,
      "outputs": []
    },
    {
      "cell_type": "code",
      "metadata": {
        "id": "uvwt7ut-Husi"
      },
      "source": [
        "df_plt[df_plt.Activity_type==0][\"Act_mark\"]"
      ],
      "execution_count": null,
      "outputs": []
    },
    {
      "cell_type": "code",
      "metadata": {
        "id": "urTWLsB5ySr9"
      },
      "source": [
        "df_plt.info()"
      ],
      "execution_count": null,
      "outputs": []
    },
    {
      "cell_type": "code",
      "metadata": {
        "id": "t4WMII75PQu5"
      },
      "source": [
        "df_plt[df_plt.Activity_type==1][\"Act_mark\"]"
      ],
      "execution_count": null,
      "outputs": []
    },
    {
      "cell_type": "code",
      "metadata": {
        "id": "yKylbH4JgWHn"
      },
      "source": [
        "import matplotlib.pyplot as plt\n",
        "from matplotlib.dates import DateFormatter\n",
        "import seaborn as sns"
      ],
      "execution_count": null,
      "outputs": []
    },
    {
      "cell_type": "code",
      "metadata": {
        "id": "M-prVAb6VvY9"
      },
      "source": [
        "plt.rcParams.update({'font.size': 22})\n",
        "fig = plt.figure(figsize=(18,8))\n",
        "ax1 = fig.add_subplot(111)\n",
        "\n",
        "df_plt[df_plt.Activity_type==0][\"Act_mark\"].sort_index().plot( marker=\"o\" , color=\"blue\", label=\"Assignements Mark\", ax=ax1)\n",
        "ax2=ax1.twinx()\n",
        "df_plt[df_plt.Activity_type==0][\"Act_mark_avg\"].sort_index().plot( ax=ax2, marker=\"s\" , color=\"green\", label=\"Average Assignement Marks\" )\n",
        "\n",
        "#plt.legend()\n",
        "ax1.legend()\n",
        "ax2.legend(loc=\"lower right\")\n",
        "ax1.grid()\n",
        "ax2.set_ylabel(\"Assign. Avg. Mark\")\n",
        "ax1.set_ylabel(\"Assign. Mark\")\n",
        "\n",
        "\n",
        "\n",
        "\n",
        "ax1.set(xlabel=\"Dates\",\n",
        "        #ylabel=\"Quizzes Marks\",\n",
        "        title=\"Assign. Mark VS Assign. Avg Mark Timeline\"        )\n",
        "fig.autofmt_xdate(rotation=45)"
      ],
      "execution_count": null,
      "outputs": []
    },
    {
      "cell_type": "code",
      "metadata": {
        "id": "Yd1bmUf1HPwx"
      },
      "source": [
        "#####  TRY TO PLOT IT IN ATRACTIVE WAY"
      ],
      "execution_count": null,
      "outputs": []
    },
    {
      "cell_type": "code",
      "metadata": {
        "id": "OgYDu4wlHQM2"
      },
      "source": [
        "import plotly.graph_objs as go\n",
        "@interact(sbj=df_avt.Course_code.unique())\n",
        "def plot_subject(sbj):\n",
        "  plt.rcParams.update({'font.size': 25})\n",
        "  x = np.arange(10)\n",
        "  layout = go.Layout(\n",
        "    autosize=False,\n",
        "    width= 1200 , height= 600 )\n",
        "  fig=go.Figure(layout=layout)\n",
        "\n",
        "  fig.add_trace(go.Scatter(      \n",
        "      x=df_plt[(df_plt.Course_code==sbj)&(\n",
        "          df_plt.Activity_type==\"0\")].loc[\"2020-09\":\"2021-09\", \"Act_time\"].sort_index(), \n",
        "      y=df_plt[(df_plt.Course_code==sbj)&(\n",
        "          df_plt.Activity_type==\"0\")].loc[\"2020-09\":\"2021-09\", \"Act_mark\"].sort_index()\n",
        "      , mode='lines+markers', name=\"Quiz\"))\n",
        "\n",
        "\n",
        "\n",
        "  # fig.add_trace(go.Scatter(      \n",
        "  #     x=df_plt[(df_plt.Course_code==sbj)&(\n",
        "  #         df_plt.Activity_type==\"1\")].loc[\"2020-09\":\"2021-09\", \"Act_submit_Time\"].sort_index(), \n",
        "  #     y=df_plt[(df_plt.Course_code==sbj)&(\n",
        "  #         df_plt.Activity_type==\"1\")].loc[\"2020-09\":\"2021-09\", \"Act_mark\"].sort_index()\n",
        "  #     , mode='lines+markers', name=\"Assignment\"))\n",
        "\n",
        "\n",
        "\n",
        "\n",
        "  \n",
        "  fig.update_layout(hovermode=\"x\" , \n",
        "      # title=\"أداء جميع الطلبة في مادة معينة\",\n",
        "    xaxis_title=\"Submit Time\",\n",
        "    yaxis_title=\"Mark\",\n",
        "    # font=dict(\n",
        "    #     family=\"Courier New, monospace\",\n",
        "    #     size=18,\n",
        "    #     color=\"#7f7f7f\")\n",
        "     title={\n",
        "        'text': \"أداء جميع الطلبة في مادة معينة\",\n",
        "        'y':0.9,\n",
        "        'x':0.5,\n",
        "        'xanchor': 'center',\n",
        "        'yanchor': 'top'}) \n",
        "  fig.show()\n"
      ],
      "execution_count": null,
      "outputs": []
    },
    {
      "cell_type": "markdown",
      "metadata": {
        "id": "0CXKXa9h8DwK"
      },
      "source": [
        "## Graph the predicted mark of a specific student"
      ]
    },
    {
      "cell_type": "code",
      "metadata": {
        "id": "JnDE5heA4N2C"
      },
      "source": [
        "#  NUmber of Assignments is less then Quizzes\n",
        "@interact(st = stID, cs = course)\n",
        "def plot_data( st, cs):\n",
        "  # print(predict_std.reset_index().query(f\"Course_code=='{cs}' & student_ID=='{st}'\"))\n",
        "  \n",
        "  plot_std_Data(st, cs, True )"
      ],
      "execution_count": null,
      "outputs": []
    },
    {
      "cell_type": "code",
      "metadata": {
        "id": "vY5INdj4pbvr"
      },
      "source": [
        ""
      ],
      "execution_count": null,
      "outputs": []
    },
    {
      "cell_type": "code",
      "metadata": {
        "id": "ofcSDJQn91m3"
      },
      "source": [
        ""
      ],
      "execution_count": null,
      "outputs": []
    },
    {
      "cell_type": "code",
      "metadata": {
        "id": "K4e0DOLC91uw"
      },
      "source": [
        "a=df_avt.Activity_id.unique()"
      ],
      "execution_count": null,
      "outputs": []
    },
    {
      "cell_type": "code",
      "metadata": {
        "id": "FpDUGaPI91yh"
      },
      "source": [
        "b= dt_st[dt_st.student_ID==\"070368745S\"][\"Activity_id\"].unique()"
      ],
      "execution_count": null,
      "outputs": []
    },
    {
      "cell_type": "code",
      "metadata": {
        "id": "IJ64Qb5iG36a"
      },
      "source": [
        "b"
      ],
      "execution_count": null,
      "outputs": []
    },
    {
      "cell_type": "code",
      "metadata": {
        "id": "PNySYt23KKcj"
      },
      "source": [
        "c=df_avt.loc[df_avt['Activity_id'] == b]"
      ],
      "execution_count": null,
      "outputs": []
    },
    {
      "cell_type": "code",
      "metadata": {
        "id": "S9lKyzFM912A"
      },
      "source": [
        "import pandas as pd\n",
        "import numpy as np\n",
        "import matplotlib.pyplot as plt\n",
        "import seaborn as sns\n",
        "\n",
        "dfx=pd.DataFrame({'S':np.random.randint(10,100,9)*10,'C': \n",
        "['X','X','X','Y','Y','Y','Z','Z','Z']})\n",
        "\n",
        "fig,ax=plt.subplots()\n",
        "mx=dfx.groupby('C')['S'].median()\n",
        "sns.boxplot(y='S',x='C',data=dfx,ax=ax)\n",
        "sns.lineplot(y=mx.values,x=mx.index,ax=ax)\n",
        "plt.show()"
      ],
      "execution_count": null,
      "outputs": []
    },
    {
      "cell_type": "code",
      "metadata": {
        "id": "BinehQBV915M"
      },
      "source": [
        ""
      ],
      "execution_count": null,
      "outputs": []
    },
    {
      "cell_type": "code",
      "metadata": {
        "id": "9ftRaEsD918a"
      },
      "source": [
        ""
      ],
      "execution_count": null,
      "outputs": []
    },
    {
      "cell_type": "code",
      "metadata": {
        "id": "6oAvpPkA91_Y"
      },
      "source": [
        ""
      ],
      "execution_count": null,
      "outputs": []
    },
    {
      "cell_type": "markdown",
      "metadata": {
        "id": "85tpcOGfnqOV"
      },
      "source": [
        "## Recommendation \n",
        "\n"
      ]
    },
    {
      "cell_type": "code",
      "metadata": {
        "id": "z1pAKy7UwE1q"
      },
      "source": [
        "target_st = dt_st[[\"student_ID\",\t\"Course_code\",\t\"Activity_id\"]].query(\"student_ID=='080748524S' \")"
      ],
      "execution_count": null,
      "outputs": []
    },
    {
      "cell_type": "code",
      "metadata": {
        "id": "ILchXJZR0NCs"
      },
      "source": [
        "target_st.drop_duplicates(subset=[\"Course_code\"], keep=\"last\", inplace=True)"
      ],
      "execution_count": null,
      "outputs": []
    },
    {
      "cell_type": "code",
      "metadata": {
        "colab": {
          "base_uri": "https://localhost:8080/",
          "height": 166
        },
        "id": "9jp8fBi4po8N",
        "outputId": "51f7b4aa-a1fb-4224-81ef-2c6982fd6bad"
      },
      "source": [
        "a"
      ],
      "execution_count": null,
      "outputs": [
        {
          "output_type": "execute_result",
          "data": {
            "text/html": [
              "<div>\n",
              "<style scoped>\n",
              "    .dataframe tbody tr th:only-of-type {\n",
              "        vertical-align: middle;\n",
              "    }\n",
              "\n",
              "    .dataframe tbody tr th {\n",
              "        vertical-align: top;\n",
              "    }\n",
              "\n",
              "    .dataframe thead th {\n",
              "        text-align: right;\n",
              "    }\n",
              "</style>\n",
              "<table border=\"1\" class=\"dataframe\">\n",
              "  <thead>\n",
              "    <tr style=\"text-align: right;\">\n",
              "      <th></th>\n",
              "      <th>student_ID</th>\n",
              "      <th>Course_code</th>\n",
              "      <th>Activity_id</th>\n",
              "    </tr>\n",
              "    <tr>\n",
              "      <th>Act_submit_Time</th>\n",
              "      <th></th>\n",
              "      <th></th>\n",
              "      <th></th>\n",
              "    </tr>\n",
              "  </thead>\n",
              "  <tbody>\n",
              "    <tr>\n",
              "      <th>2020-05-10 04:16:47</th>\n",
              "      <td>080748524S</td>\n",
              "      <td>g5_3</td>\n",
              "      <td>g5_3-Act_4</td>\n",
              "    </tr>\n",
              "    <tr>\n",
              "      <th>2020-02-26 22:15:50</th>\n",
              "      <td>080748524S</td>\n",
              "      <td>g5_2</td>\n",
              "      <td>g5_2-Act_4</td>\n",
              "    </tr>\n",
              "    <tr>\n",
              "      <th>2020-06-19 02:06:02</th>\n",
              "      <td>080748524S</td>\n",
              "      <td>g5_1</td>\n",
              "      <td>g5_1-Act_4</td>\n",
              "    </tr>\n",
              "  </tbody>\n",
              "</table>\n",
              "</div>"
            ],
            "text/plain": [
              "                     student_ID Course_code Activity_id\n",
              "Act_submit_Time                                        \n",
              "2020-05-10 04:16:47  080748524S        g5_3  g5_3-Act_4\n",
              "2020-02-26 22:15:50  080748524S        g5_2  g5_2-Act_4\n",
              "2020-06-19 02:06:02  080748524S        g5_1  g5_1-Act_4"
            ]
          },
          "metadata": {
            "tags": []
          },
          "execution_count": 144
        }
      ]
    },
    {
      "cell_type": "code",
      "metadata": {
        "id": "vjwueRKb-XV2"
      },
      "source": [
        "\n",
        "def rec_repo( t, c, a, q):\n",
        "  return {\n",
        "          \"Act_submit_Time\": t ,\n",
        "          \"Course_code\":c,  \n",
        "          \"Activity_id\": a,\n",
        "          \"Q_id\": q,\n",
        "          \"Q_mark\":random.choices( np.arange(1, 4), weights=[30,60,40])[0], \n",
        "          \"PF\": random.choices([1, 0], weights=(60, 40))[0]\n",
        "      }"
      ],
      "execution_count": 378,
      "outputs": []
    },
    {
      "cell_type": "code",
      "metadata": {
        "id": "dDPKoBMyicop"
      },
      "source": [
        "def Q_repo( q, lob):\n",
        "  return {\n",
        "          \"Q_id\": q,\n",
        "          \"lob_id\":lob \n",
        "      }"
      ],
      "execution_count": 379,
      "outputs": []
    },
    {
      "cell_type": "code",
      "metadata": {
        "id": "JwyE52PUlGV7"
      },
      "source": [
        "def  std_recd( lst):\n",
        "  lstUrl=[]\n",
        "  for i in modules:\n",
        "    for j in i[\"lessons\"]:\n",
        "      for k in j[\"lobs\"]:\n",
        "        if k[\"lobID\"] in lst:\n",
        "          lstUrl.append((k[\"URL\"], k[\"lobName\"]))\n",
        "  return lstUrl\n"
      ],
      "execution_count": 481,
      "outputs": []
    },
    {
      "cell_type": "code",
      "metadata": {
        "id": "il2SetkBYz6Y"
      },
      "source": [
        "lst_rec=[]\n",
        "lst_Q=[]\n",
        "#std_array= dt_st.student_ID\n",
        "std_course= dt_st.query(\"student_ID=='080748524S'\").Course_code.unique()\n",
        "std_act= dt_st.query(\"student_ID=='080748524S'\").Activity_id.unique()\n",
        "\n",
        "for  t, course , act in zip(target_st.index, target_st.Course_code , target_st.Activity_id):# c in df_avt.Course_code.unique():\n",
        "  for Q in [f\"Q{act}_{rd}\" for rd in range(int(4*np.random.rand()+2))]:\n",
        "    lst_rec.append(rec_repo(t, course, act, Q))\n",
        "    for lob  in random.choices(np.arange(24), k=int(6*np.random.rand()+4)):\n",
        "      lst_Q.append(Q_repo(Q, lob))\n",
        "               \n",
        "df_Rrepo=pd.DataFrame(lst_rec)\n",
        "df_Qrepo=pd.DataFrame(lst_Q)\n"
      ],
      "execution_count": 467,
      "outputs": []
    },
    {
      "cell_type": "code",
      "metadata": {
        "id": "TB2V1q1N7wU8"
      },
      "source": [
        "course4 = Dropdown(options = std_d[\"080748524S\"]) # options = std_d[stID.value] is to remove inital error but not that necessary.\n",
        "D4=DatePicker(\n",
        "    description='Pick a start date')\n",
        "D4.value=date.today()"
      ],
      "execution_count": 469,
      "outputs": []
    },
    {
      "cell_type": "code",
      "metadata": {
        "id": "SSaxYr1uMmJT"
      },
      "source": [
        "import seaborn as sns\n",
        "import numpy as np\n"
      ],
      "execution_count": 470,
      "outputs": []
    },
    {
      "cell_type": "code",
      "metadata": {
        "id": "jgipE_S22piz"
      },
      "source": [
        "def  plot_strec( cs,dt ):\n",
        "  lstrec=[]\n",
        "  _df_Rrepo= df_Rrepo.query(f\"Course_code=='{cs}' & Act_submit_Time>='{dt}'\")\n",
        "   \n",
        "  if _df_Rrepo.shape[0]>0:\n",
        "    g=sns.barplot( \n",
        "        x=\"Q_id\" ,y= \"Q_mark\", \n",
        "        hue=\"PF\", data=_df_Rrepo, ci=None, palette=[\"C3\", \"C0\" ] )\n",
        "    g.set_xticklabels([f\"Q_{m}\"  for m in range(_df_Rrepo.shape[0])])\n",
        " \n",
        "    for q in _df_Rrepo.query(f\"PF=='0'\").Q_id.unique():\n",
        "      lstrec +=list(df_Qrepo.query(f\"Q_id=='{q}'\").lob_id)\n",
        "    lstrec=list(dict.fromkeys(lstrec))\n",
        "    # print(list(dict.fromkeys(lstrec)))\n",
        "    for item in std_recd(lstrec[:5]):\n",
        "      display(HTML(f\"<a href={item[0] } target='_blank'>{item[1]}</a>\"))\n",
        "\n",
        "  else:\n",
        "    print(\" No Records Available\")\n"
      ],
      "execution_count": 488,
      "outputs": []
    },
    {
      "cell_type": "code",
      "metadata": {
        "id": "DsMCN0fjfejG",
        "colab": {
          "base_uri": "https://localhost:8080/",
          "height": 429,
          "referenced_widgets": [
            "71ee17313fc645cba0534ad72a9b8942",
            "782a357705ff443f9a3efcd27dd15a60",
            "f4352dea0e344a7eaec5396335ea8d4a",
            "7a6b20f85dfe4c589729650c6942aebe",
            "c5f541e441d142678a56dd3b632d8b8a",
            "2513586333ca4ff8b14f7e1ed9b7107c",
            "f81fdd614d9e46a8ab86b8a4fc786d56",
            "1c53c66a0a824df48edfcb91630e2f13",
            "c05faae8b0644fc9af20c977d3863103",
            "89b527e366df48e49203d0d595c1cb32"
          ]
        },
        "outputId": "6698ca2d-af88-4975-dce7-6e5325590b5b"
      },
      "source": [
        "@interact(cs = course4 , dt=D4)\n",
        "def plot_rec( cs, dt):\n",
        "  plot_strec( cs,  dt)"
      ],
      "execution_count": 489,
      "outputs": [
        {
          "output_type": "display_data",
          "data": {
            "application/vnd.jupyter.widget-view+json": {
              "model_id": "71ee17313fc645cba0534ad72a9b8942",
              "version_minor": 0,
              "version_major": 2
            },
            "text/plain": [
              "interactive(children=(Dropdown(description='cs', index=2, options=('g5_3', 'g5_2', 'g5_1'), value='g5_1'), Dat…"
            ]
          },
          "metadata": {
            "tags": []
          }
        }
      ]
    },
    {
      "cell_type": "code",
      "metadata": {
        "id": "-xziun4AffJ5"
      },
      "source": [
        "def dataJson(c, act):\n",
        "  return {\n",
        "          \"Course_code\":c,  \n",
        "          \"Activity_id\": act,\n",
        "          \n",
        "          \n",
        "\n",
        "        # \"subcp_id\": random.choice([ \"sub_\"+str(k) for k in range(1,4)]), \n",
        "        # \"lob_id\": random.choice([ \"lob_\"+str(k) for k in range(1,50)]),\n",
        "        # \"cp_id\":  random.choice([ \"cp_\"+str(k) for k in range(1,9)])\n",
        "      }"
      ],
      "execution_count": null,
      "outputs": []
    },
    {
      "cell_type": "code",
      "metadata": {
        "id": "akZg9nshfegp"
      },
      "source": [
        ""
      ],
      "execution_count": null,
      "outputs": []
    },
    {
      "cell_type": "code",
      "metadata": {
        "id": "vntvjozRfiLl"
      },
      "source": [
        "from random_timestamp import random_timestamp\n",
        "lst=[]\n",
        "std_course= dt_st.Course_code\n",
        "std_act= dt_st.Activity_id\n",
        "\n",
        "for  course, i in zip(std_course , std_act):# c in df_avt.Course_code.unique():\n",
        "  for n in i:\n",
        "    for j in [f\"q_{act}\"  for act in range(10,19)]: #range (1, int((2*np.random.rand()+8))):\n",
        "      lst.append( course , n)\n",
        "    \n",
        "     \n",
        "n=pd.DataFrame(lst)"
      ],
      "execution_count": null,
      "outputs": []
    },
    {
      "cell_type": "code",
      "metadata": {
        "id": "yANmXAOvwD1u"
      },
      "source": [
        "###########    OLD VERSION     #############"
      ],
      "execution_count": null,
      "outputs": []
    },
    {
      "cell_type": "code",
      "metadata": {
        "id": "tNyaEbhixHpP"
      },
      "source": [
        "df_avt.head()"
      ],
      "execution_count": null,
      "outputs": []
    },
    {
      "cell_type": "code",
      "metadata": {
        "id": "4E5ea_sfxPpV"
      },
      "source": [
        "df_avt = df_avt.reset_index()"
      ],
      "execution_count": null,
      "outputs": []
    },
    {
      "cell_type": "code",
      "metadata": {
        "id": "FYApZ4Y-iAXw"
      },
      "source": [
        "df_avt = df_avt.drop(['Act_submit_Time'], axis = 1)"
      ],
      "execution_count": null,
      "outputs": []
    },
    {
      "cell_type": "code",
      "metadata": {
        "id": "Ldxq8iQk4dDp"
      },
      "source": [
        "questions = pd.DataFrame()"
      ],
      "execution_count": null,
      "outputs": []
    },
    {
      "cell_type": "code",
      "metadata": {
        "id": "yFzgyfDKollV"
      },
      "source": [
        "questions[\"Activity_id\"] = df_avt[\"Activity_id\"]\n",
        "questions[\"Activity_type\"] = df_avt[\"Activity_type\"]"
      ],
      "execution_count": null,
      "outputs": []
    },
    {
      "cell_type": "code",
      "metadata": {
        "id": "oMc8ptnrwENV"
      },
      "source": [
        "questions.head()"
      ],
      "execution_count": null,
      "outputs": []
    },
    {
      "cell_type": "code",
      "metadata": {
        "id": "x9EOsg1t58Lb"
      },
      "source": [
        "#questions = questions.reset_index()"
      ],
      "execution_count": null,
      "outputs": []
    },
    {
      "cell_type": "code",
      "metadata": {
        "id": "jwtAKjvi6MHo"
      },
      "source": [
        "#questions = questions.drop(['Act_submit_Time'], axis = 1)"
      ],
      "execution_count": null,
      "outputs": []
    },
    {
      "cell_type": "code",
      "metadata": {
        "id": "9fyRmSU5c38Z"
      },
      "source": [
        "#questions.head()"
      ],
      "execution_count": null,
      "outputs": []
    },
    {
      "cell_type": "code",
      "metadata": {
        "id": "usQSDzApTRYE"
      },
      "source": [
        "#### 1 Activity id shold hold ( from 5 to 10 questions)\n",
        "\n",
        "questions['quest_id'] = np.random.randint(1, 1001, questions.shape[0])\n",
        "#questions['quest_id'] =random.choice( [\"q_\"+str(j) for j in range(1,1001)] , questions.shape[0] )"
      ],
      "execution_count": null,
      "outputs": []
    },
    {
      "cell_type": "code",
      "metadata": {
        "id": "Wz1gscWiTRbp"
      },
      "source": [
        "questions.head()"
      ],
      "execution_count": null,
      "outputs": []
    },
    {
      "cell_type": "code",
      "metadata": {
        "id": "CZPpm6JzTRet"
      },
      "source": [
        "questions.shape"
      ],
      "execution_count": null,
      "outputs": []
    },
    {
      "cell_type": "code",
      "metadata": {
        "id": "cohK8tU0TRi2"
      },
      "source": [
        "cp_for_quest = pd.DataFrame()"
      ],
      "execution_count": null,
      "outputs": []
    },
    {
      "cell_type": "code",
      "metadata": {
        "id": "H6GhFrsGTRkf"
      },
      "source": [
        "cp_for_quest[\"quest_id\"] = questions[\"quest_id\"]"
      ],
      "execution_count": null,
      "outputs": []
    },
    {
      "cell_type": "code",
      "metadata": {
        "id": "G8F01hNzWtl-"
      },
      "source": [
        "cp_for_quest.head()"
      ],
      "execution_count": null,
      "outputs": []
    },
    {
      "cell_type": "code",
      "metadata": {
        "id": "TGYUIqoEWto-"
      },
      "source": [
        "####### 1 question id should hold between ( 1 to 3 sub cps)\n",
        "\n",
        "cp_for_quest['sub_cp_id'] = np.random.randint(1, 4501, cp_for_quest.shape[0])  ##### estimated 4500 sub cp in all subjects"
      ],
      "execution_count": null,
      "outputs": []
    },
    {
      "cell_type": "code",
      "metadata": {
        "id": "G0-kijs0WtsA"
      },
      "source": [
        "cp_for_quest.head()"
      ],
      "execution_count": null,
      "outputs": []
    },
    {
      "cell_type": "code",
      "metadata": {
        "id": "I4cBc5skWtvM"
      },
      "source": [
        "####  1 cp should hold 1 to 3 sub_cps  ( each sub_cp   should match 1 learning object // doc - video .....)\n",
        "\n",
        "sub_cp = pd.DataFrame()"
      ],
      "execution_count": null,
      "outputs": []
    },
    {
      "cell_type": "code",
      "metadata": {
        "id": "At6y-cTsb7Aq"
      },
      "source": [
        "sub_cp['cp_id'] = np.random.randint(1, 1501, cp_for_quest.shape[0])   ##### estimated 1500 cp in all subjects"
      ],
      "execution_count": null,
      "outputs": []
    },
    {
      "cell_type": "code",
      "metadata": {
        "id": "pjRCyzFiWtxk"
      },
      "source": [
        "sub_cp['sub_cp_id'] = cp_for_quest['sub_cp_id'] "
      ],
      "execution_count": null,
      "outputs": []
    },
    {
      "cell_type": "code",
      "metadata": {
        "id": "RsuaGCzDb7G9"
      },
      "source": [
        "sub_cp['lo_id'] = np.random.randint(1, 5001, cp_for_quest.shape[0])  ##### estimated 5000 learning object in all subjects"
      ],
      "execution_count": null,
      "outputs": []
    },
    {
      "cell_type": "code",
      "metadata": {
        "id": "zYnq9H8zb7Dx"
      },
      "source": [
        "sub_cp.head()"
      ],
      "execution_count": null,
      "outputs": []
    },
    {
      "cell_type": "code",
      "metadata": {
        "id": "Y1ujF1wD0IRK"
      },
      "source": [
        ""
      ],
      "execution_count": null,
      "outputs": []
    },
    {
      "cell_type": "markdown",
      "metadata": {
        "id": "XSERu6kPmNk6"
      },
      "source": [
        "### Export to HTML"
      ]
    },
    {
      "cell_type": "markdown",
      "metadata": {
        "id": "QGo9gyGnQ2n1"
      },
      "source": [
        "## Export_graph_to_HTML"
      ]
    },
    {
      "cell_type": "code",
      "metadata": {
        "id": "Xvd5JyHumRPS"
      },
      "source": [
        "import plotly\n",
        "import plotly.graph_objs as go\n",
        "import pandas as pd\n",
        "df = pd.read_csv('https://raw.githubusercontent.com/pcm-dpc/COVID-19/master/dati-andamento-nazionale/dpc-covid19-ita-andamento-nazionale.csv')\n",
        "# Create a trace\n",
        "data = [go.Scatter(\n",
        "    x = df['data'],\n",
        "    y = df['totale_positivi'],\n",
        ")]\n",
        "layout = go.Layout(\n",
        "        xaxis=dict(\n",
        "            title='Data',    \n",
        "        ),\n",
        "        yaxis=dict(\n",
        "            title='Totale positivi',  \n",
        "        )\n",
        "    )\n",
        "fig = go.Figure(data=data, layout=layout)"
      ],
      "execution_count": null,
      "outputs": []
    },
    {
      "cell_type": "code",
      "metadata": {
        "id": "BRU-c4dnmSJ3"
      },
      "source": [
        "fig.show()"
      ],
      "execution_count": null,
      "outputs": []
    },
    {
      "cell_type": "code",
      "metadata": {
        "id": "lq2l3LmmqcuO"
      },
      "source": [
        "plotly.offline.plot(fig,filename='positives.html',config={'displayModeBar': False},auto_open = True)"
      ],
      "execution_count": null,
      "outputs": []
    },
    {
      "cell_type": "code",
      "metadata": {
        "id": "55nt3Bv7qzoF"
      },
      "source": [
        "#webbrowser.open('file://' + os.path.realpath(positives.html))\n",
        "\n",
        "with open('positives.html', 'r') as f:\n",
        "    html_string = f.read()"
      ],
      "execution_count": null,
      "outputs": []
    },
    {
      "cell_type": "markdown",
      "metadata": {
        "id": "qx_b8Wv5RClI"
      },
      "source": [
        "End of Try 1"
      ]
    },
    {
      "cell_type": "code",
      "metadata": {
        "id": "h-qTJ6bsuLiq"
      },
      "source": [
        ""
      ],
      "execution_count": null,
      "outputs": []
    },
    {
      "cell_type": "code",
      "metadata": {
        "id": "SRx6yYX6yNcK"
      },
      "source": [
        ""
      ],
      "execution_count": null,
      "outputs": []
    },
    {
      "cell_type": "code",
      "metadata": {
        "id": "xw2rIroDyNZE"
      },
      "source": [
        ""
      ],
      "execution_count": null,
      "outputs": []
    },
    {
      "cell_type": "code",
      "metadata": {
        "id": "mnidPTrMyNVM"
      },
      "source": [
        ""
      ],
      "execution_count": null,
      "outputs": []
    },
    {
      "cell_type": "markdown",
      "metadata": {
        "id": "77IZ4SCuRH_K"
      },
      "source": [
        "Try 2"
      ]
    },
    {
      "cell_type": "code",
      "metadata": {
        "id": "DQlJS59iyNSB"
      },
      "source": [
        "!pip install plotly\n",
        "!pip install chart_studio"
      ],
      "execution_count": null,
      "outputs": []
    },
    {
      "cell_type": "code",
      "metadata": {
        "id": "CtBmJ-uvyYpt"
      },
      "source": [
        "import plotly.express as px\n",
        "import chart_studio"
      ],
      "execution_count": null,
      "outputs": []
    },
    {
      "cell_type": "code",
      "metadata": {
        "id": "qjl5tgx-2NQd"
      },
      "source": [
        "gapminder = px.data.gapminder()\n",
        "gapminder"
      ],
      "execution_count": null,
      "outputs": []
    },
    {
      "cell_type": "code",
      "metadata": {
        "id": "ComkHHFVyNOI"
      },
      "source": [
        "gapminder = px.data.gapminder()\n",
        "fig = px.scatter(gapminder.query(\"year==2007\"), x=\"gdpPercap\", y=\"lifeExp\", size=\"pop\", color=\"continent\",\n",
        "           hover_name=\"country\", log_x=True, size_max=60)\n",
        "fig.show()"
      ],
      "execution_count": null,
      "outputs": []
    },
    {
      "cell_type": "code",
      "metadata": {
        "id": "arN111bmyO4x"
      },
      "source": [
        "username = 'Eng.aldoseri' # your username\n",
        "api_key = '7MU0wS3Gp1VOF6IqRFiw' # your api key - go to profile > settings > regenerate key\n",
        "chart_studio.tools.set_credentials_file(username=username, api_key=api_key)"
      ],
      "execution_count": null,
      "outputs": []
    },
    {
      "cell_type": "code",
      "metadata": {
        "id": "hmO9sGVD1hTO"
      },
      "source": [
        "import chart_studio.plotly as py\n",
        "py.plot(fig, filename = 'gdp_per_cap', auto_open=True)"
      ],
      "execution_count": null,
      "outputs": []
    },
    {
      "cell_type": "code",
      "metadata": {
        "id": "F5mDlrwl1l-S"
      },
      "source": [
        ""
      ],
      "execution_count": null,
      "outputs": []
    },
    {
      "cell_type": "code",
      "metadata": {
        "id": "gH7510n-2MQD"
      },
      "source": [
        ""
      ],
      "execution_count": null,
      "outputs": []
    },
    {
      "cell_type": "code",
      "metadata": {
        "id": "B61NBljf2NY0"
      },
      "source": [
        "####### implemented to our dataset"
      ],
      "execution_count": null,
      "outputs": []
    },
    {
      "cell_type": "code",
      "metadata": {
        "id": "FdtZdsbg2N5u"
      },
      "source": [
        "#gapminder = px.data.gapminder()\n",
        "fig = px.scatter(dt_st.query(\"student_ID=='080102434S'\"), x=\"Act_submit_Time\", y=\"Act_mark\",  color=\"Course_code\",size=\"Act_mark\",\n",
        "           hover_name=\"Act_mark\")\n",
        "fig.show()"
      ],
      "execution_count": null,
      "outputs": []
    },
    {
      "cell_type": "code",
      "metadata": {
        "id": "fC8TD9oSRxna"
      },
      "source": [
        "username = 'Eng.aldoseri' # your username\n",
        "api_key = '7MU0wS3Gp1VOF6IqRFiw' # your api key - go to profile > settings > regenerate key\n",
        "chart_studio.tools.set_credentials_file(username=username, api_key=api_key)"
      ],
      "execution_count": null,
      "outputs": []
    },
    {
      "cell_type": "code",
      "metadata": {
        "id": "PE6PKJ7hR01y"
      },
      "source": [
        "import chart_studio.plotly as py\n",
        "py.plot(fig, filename = 'gdp_per_cap', auto_open=True)"
      ],
      "execution_count": null,
      "outputs": []
    },
    {
      "cell_type": "markdown",
      "metadata": {
        "id": "qXE7hPBHR2ai"
      },
      "source": [
        "End of Try 2"
      ]
    },
    {
      "cell_type": "code",
      "metadata": {
        "id": "92lp5ijFEejo"
      },
      "source": [
        ""
      ],
      "execution_count": null,
      "outputs": []
    },
    {
      "cell_type": "code",
      "metadata": {
        "id": "MQm0vpXsTKp_"
      },
      "source": [
        ""
      ],
      "execution_count": null,
      "outputs": []
    },
    {
      "cell_type": "code",
      "metadata": {
        "id": "-jTRHdUCTKh0"
      },
      "source": [
        ""
      ],
      "execution_count": null,
      "outputs": []
    },
    {
      "cell_type": "code",
      "metadata": {
        "id": "TgxMNuzFTKdz"
      },
      "source": [
        ""
      ],
      "execution_count": null,
      "outputs": []
    },
    {
      "cell_type": "markdown",
      "metadata": {
        "id": "_8Fy_c-1TLTU"
      },
      "source": [
        "Try 3"
      ]
    },
    {
      "cell_type": "code",
      "metadata": {
        "id": "_9k-UqL_TN7N"
      },
      "source": [
        "import plotly.graph_objs as go\n",
        "import plotly as plotly\n",
        "import plotly.express as px"
      ],
      "execution_count": null,
      "outputs": []
    },
    {
      "cell_type": "code",
      "metadata": {
        "id": "j4Bt7GzdTOrG"
      },
      "source": [
        "data = px.data.gapminder()\n",
        "\n",
        "data_canada = data[data.country == 'Canada']\n",
        "fig = px.bar(data_canada, x='year', y='pop',\n",
        "             hover_data=['lifeExp', 'gdpPercap'], color='lifeExp',\n",
        "             labels={'pop':'population of Canada'}, height=400)"
      ],
      "execution_count": null,
      "outputs": []
    },
    {
      "cell_type": "code",
      "metadata": {
        "id": "vOuth41MTRpT"
      },
      "source": [
        "plotly.offline.plot(fig, filename= \"output_filename\" + \".html\")\n"
      ],
      "execution_count": null,
      "outputs": []
    },
    {
      "cell_type": "code",
      "metadata": {
        "id": "18JuJYa6TU4D"
      },
      "source": [
        ""
      ],
      "execution_count": null,
      "outputs": []
    },
    {
      "cell_type": "code",
      "metadata": {
        "id": "9EfW4DLcYDo7"
      },
      "source": [
        ""
      ],
      "execution_count": null,
      "outputs": []
    },
    {
      "cell_type": "code",
      "metadata": {
        "id": "K1bKOoahYDiW"
      },
      "source": [
        ""
      ],
      "execution_count": null,
      "outputs": []
    },
    {
      "cell_type": "code",
      "metadata": {
        "id": "Sva2QHKIYEvD"
      },
      "source": [
        ""
      ],
      "execution_count": null,
      "outputs": []
    },
    {
      "cell_type": "markdown",
      "metadata": {
        "id": "IW3PsJerS57i"
      },
      "source": [
        "## Dashboard Graph"
      ]
    },
    {
      "cell_type": "markdown",
      "metadata": {
        "id": "jBzyAOXftLVP"
      },
      "source": [
        "## Add radio button to the graph"
      ]
    },
    {
      "cell_type": "code",
      "metadata": {
        "id": "oDzn_7lYDYk9"
      },
      "source": [
        "###### try to add radio button"
      ],
      "execution_count": null,
      "outputs": []
    },
    {
      "cell_type": "code",
      "metadata": {
        "id": "XiS4qPzBklRi"
      },
      "source": [
        "std_d={}\n",
        "for st in  dt_st.student_ID.unique():\n",
        "  std_d[st]=dt_st[dt_st.student_ID==st][\"Course_code\"].unique()"
      ],
      "execution_count": null,
      "outputs": []
    },
    {
      "cell_type": "code",
      "metadata": {
        "id": "cj882ALHkYoo"
      },
      "source": [
        "from ipywidgets import interact, Dropdown, Checkbox\n",
        "\n",
        "stID = Dropdown(options = std_d.keys())\n",
        "course = Dropdown(options = std_d[stID.value]) # options = std_d[stID.value] is to remove inital error but not that necessary.\n",
        "box = Checkbox(False, description='Quizz/Assignment')\n",
        "\n",
        "\n",
        "@interact(st = stID, cs = course, chkbx= box)\n",
        "def print_cs(st, cs,chkbx ):\n",
        "    course.options = std_d[st] # Here is the trick, i.e. update course.options based on st, namely stID.value.\n",
        "    # print(st, cs)\n",
        "    dt_st.query(f\"Course_code=='{cs}' & student_ID=='{st}'\")"
      ],
      "execution_count": null,
      "outputs": []
    },
    {
      "cell_type": "code",
      "metadata": {
        "id": "55w1moH-PNAl"
      },
      "source": [
        "std=\"070327176S\"\n",
        "cs=\"g5_2\"\n",
        "st_type_0= dt_st.query(f\"student_ID=='{std}' & Course_code=='{cs}' & Activity_type=='0'\")\n",
        "st_type_1= dt_st.query(f\"student_ID=='{std}' & Course_code=='{cs}' & Activity_type=='1'\")\n",
        "\n",
        "\n",
        "\n",
        "\n",
        "#### to add radio button\n",
        "\n",
        "\n",
        "def f(actype):\n",
        "    control = actype\n",
        "    if control == 'Quiz': \n",
        "        data=st_type_0\n",
        "        #data.plot()\n",
        "        #plt.show()\n",
        "\n",
        "    elif control== 'Assignment':\n",
        "        data=st_type_1\n",
        "        #data.plot()\n",
        "        #plt.show() \n",
        "    return actype\n",
        "\n",
        "\n",
        "interact(f, actype = widgets.RadioButtons(\n",
        "options=['Quiz', 'Assignment'],\n",
        "description='Choose:',\n",
        "disabled=False))\n",
        "\n",
        "\n",
        "\n",
        "\n",
        "\n",
        "############ end of radio button \n",
        "\n",
        "dt_st.loc[\"Act_submit_Time\"]=dt_st[\"Act_submit_Time\"].astype(str)\n",
        "dt_tmp= dt_st.query(f\"student_ID=='{std}' & Course_code=='{cs}' \")[[\"Act_mark\", \"Activity_id\",\"Act_submit_Time\" ]]\n",
        "dt_tmp[\"Act_submit_Time\"]=pd.to_datetime(dt_tmp.Act_submit_Time, format=\"%Y-%m-%d\")\n",
        "dt_tmp.sort_values(by= \"Act_submit_Time\", inplace=True)\n",
        "# dt_tmp[\"Act_submit_Time\"]= dt_tmp.Act_submit_Time.astype(\"category\")\n",
        "\n",
        "\n",
        "# selected student activities\n",
        "dt_tmp"
      ],
      "execution_count": null,
      "outputs": []
    },
    {
      "cell_type": "code",
      "metadata": {
        "id": "qUHg3bxSPSej"
      },
      "source": [
        "# All Students having the same Activity as ABove\n",
        "df_stAct=pd.DataFrame()\n",
        "\n",
        "avt_type_0= df_avt.query(f\" Activity_id=='{std}' & Activity_type=='0'\")\n",
        "avt_type_1= df_avt.query(f\"Activity_id=='{std}' & Activity_type=='1'\")\n",
        "\n",
        "\n",
        "\n",
        "Mark_type= avt_type_1   if chk  else  avt_type_0\n",
        "Time_type= avt_type_1  if chk   else avt_type_0\n",
        "\n",
        "\n",
        "for col, time in zip(\n",
        "    dt_tmp[\"Activity_id\"],\n",
        "    dt_tmp.Act_submit_Time.unique()):\n",
        "  df_bx=pd.DataFrame()\n",
        "  df_bx=df_avt.query(f\"Activity_id== '{col}' ###### TYPE\")[[\"Activity_id\", \"Act_mark\"]]\n",
        "  df_bx[\"Act_submit_Time\"]= pd.to_datetime(time).strftime(\"%Y-%m-%d\")\n",
        "  df_stAct= pd.concat([\n",
        "                       df_stAct, df_bx\n",
        "  ])\n",
        "df_stAct.sort_values(by=\"Act_submit_Time\", inplace=True)\n",
        "df_stAct[\"Act_submit_Time\"]= df_stAct.Act_submit_Time.astype(\"category\")\n",
        "df_stAct"
      ],
      "execution_count": null,
      "outputs": []
    },
    {
      "cell_type": "code",
      "metadata": {
        "id": "e-9EDlAVPYDH"
      },
      "source": [
        "#Combine Graph\n",
        "import seaborn as sns \n",
        "import matplotlib.pyplot as plt\n",
        "\n",
        "fg, ax= plt.subplots( figsize=(20,8))\n",
        "\n",
        "\n",
        "sns.boxplot(x=\"Activity_id\" ,  y= \"Act_mark\", data=df_stAct , ax=ax ,width= 0.3)\n",
        "sns.lineplot(\n",
        "    x=\"Activity_id\",\n",
        "    y= \"Act_mark\", marker='o',\n",
        "    data=dt_tmp  , ax=ax )\n",
        "ax.set_xticklabels(dt_tmp.Act_submit_Time.unique())\n",
        "plt.title(\"Student's mark compared to other students\" , fontsize=20)\n",
        "plt.xlabel(\"Date\" , fontsize=20)\n",
        "plt.ylabel(\"Mark\" , fontsize=20)\n",
        "plt.xticks(rotation=45)\n",
        "plt.grid()\n",
        "plt.show()\n",
        "\n"
      ],
      "execution_count": null,
      "outputs": []
    },
    {
      "cell_type": "markdown",
      "metadata": {
        "id": "MKZz_LpKteBw"
      },
      "source": [
        "## Add check box to old graph"
      ]
    },
    {
      "cell_type": "code",
      "metadata": {
        "id": "Z3P-9RPygpcg"
      },
      "source": [
        "####  edit old graph "
      ],
      "execution_count": null,
      "outputs": []
    },
    {
      "cell_type": "code",
      "metadata": {
        "id": "LRf5sZgngvRM"
      },
      "source": [
        "import ipywidgets as widgets \n",
        "from ipywidgets import interact\n",
        "from matplotlib.dates import DateFormatter"
      ],
      "execution_count": null,
      "outputs": []
    },
    {
      "cell_type": "code",
      "metadata": {
        "id": "roNc2i6ju8OF"
      },
      "source": [
        "dt_st.info()"
      ],
      "execution_count": null,
      "outputs": []
    },
    {
      "cell_type": "code",
      "metadata": {
        "id": "H4YNpwJJgv4E"
      },
      "source": [
        "std_d={}\n",
        "for st  in (dt_st.student_ID.unique() ):\n",
        "  std_d[st]=dt_st[dt_st.student_ID==st][\"Course_code\"].unique()\n",
        "\n",
        "\n",
        "\n",
        "# dt_tmp= dt_st.query(f\"student_ID=='{std}' & Course_code=='{cs}' & Activity_type=='0'\")[[\"Act_mark\", \"Activity_id\",\"Act_submit_Time\" ]]\n",
        "# dt_tmp[\"Act_submit_Time\"]=pd.to_datetime(dt_tmp.Act_submit_Time, format=\"%Y-%m-%d\")\n",
        "# dt_tmp.sort_values(by= \"Act_submit_Time\", inplace=True)"
      ],
      "execution_count": null,
      "outputs": []
    },
    {
      "cell_type": "code",
      "metadata": {
        "id": "iRbBx9dfusSX"
      },
      "source": [
        "from ipywidgets import interact, Dropdown, Checkbox\n",
        "\n",
        "stID = Dropdown(options = std_d.keys())\n",
        "course = Dropdown(options = std_d[stID.value]) # options = std_d[stID.value] is to remove inital error but not that necessary.\n",
        "box = Checkbox(False, description='View Assignments')\n",
        "\n",
        "\n",
        "@interact(st = stID, cs = course, chkbx= box )\n",
        "def print_cs(st, cs,chkbx ):\n",
        "    course.options = std_d[st] # Here is the trick, i.e. update course.options based on st, namely stID.value.\n",
        "    # print(st, cs)\n",
        "    dt_st.query(f\"Course_code=='{cs}' & student_ID=='{st}'\")\n",
        "\n"
      ],
      "execution_count": null,
      "outputs": []
    },
    {
      "cell_type": "code",
      "metadata": {
        "id": "HFZamQFxuvr5"
      },
      "source": [
        "def plot_std_Data(st, cs, chk ,time_sec , status=False):\n",
        "  course.options = std_d[st]\n",
        "  plt.rcParams.update({'font.size': 25})\n",
        "  \n",
        "\n",
        "  #  subplots   x, y  :  should be related to the number of Activity_type of current student.\n",
        "\n",
        "\n",
        "  fig, ax=plt.subplots(1, 2, figsize=(30,7) )\n",
        "  plt.subplots_adjust(top = 0.99, bottom=0.01,wspace=0.4)\n",
        "\n",
        "\n",
        "\n",
        "##########----------------------------   FOR PREDICTON PURPOSE  ---------------------------------------------------##########\n",
        "  if status:\n",
        "    ref_q=dt_st.reset_index().query(f\"student_ID=='{st}' & Course_code=='{cs}' & Activity_type=='0' \").Act_submit_Time.max()\n",
        "    xq_point=[ref_q, ref_q+ timedelta(days=7)]\n",
        "    yq_point=[dt_st.loc[ref_q, \"Act_mark\"]       , predict_std.reset_index().query(f\"student_ID=='{st}'  & Course_code=='{cs}' & Activity_type=='0' \").last_mark]\n",
        "    ax[0,1].plot(xq_point , yq_point, linestyle='dashed', marker='o',\n",
        "                 markerfacecolor='blue', markersize=12)\n",
        "    \n",
        "\n",
        "    ref_a=dt_st.reset_index().query(f\"student_ID=='{st}' & Course_code=='{cs}' & Activity_type=='1' \").Act_submit_Time.max()\n",
        "    xa_point=[ref_a, ref_a+ timedelta(days=7)]\n",
        "    ya_point=[dt_st.loc[ref_a, \"Act_mark\"]       , predict_std.reset_index().query(f\"student_ID=='{st}'  & Course_code=='{cs}' & Activity_type=='0' \").last_mark]\n",
        "    ax[0,0].plot(xa_point , ya_point, linestyle='dashed', marker='o',\n",
        "                 markerfacecolor='blue', markersize=12)\n",
        "\n",
        "###########-----------------------------------------------------------------------------------------------------##########\n",
        "\n",
        "\n",
        "\n",
        "  dt_st.query(f\"Course_code=='{cs}' & student_ID=='{st}' & Activity_type=='{chk}' & Act_submit_Time=='{time_sec}'\").Act_mark.plot( \n",
        "      subplots=True,marker=\"o\",    ax=ax[0] , color=\"brown\")\n",
        "   \n",
        " \n",
        "  dt_st.query(f\"Course_code=='{cs}' & student_ID=='{st}' & Activity_type=='{chk}' & Act_submit_Time=='{time_sec}'\").Act_time.plot( \n",
        "      subplots=True, marker=\"s\",   ax=ax[1] , color=\"green\")\n",
        "\n",
        "\n",
        "    # ---------------------------------------------------------------------\n",
        "  # Set title and labels for left graph\n",
        "  \n",
        "  left_label=\"Assignments Mark\"   if chk  else  \"Quizz Mark \"\n",
        "  left_title= \" Assignement Mark / Month Timeline\"  if chk   else \" Quiz Mark / Month Timeline\"\n",
        "  \n",
        "\n",
        "  #ax[0].set_xticklabels(dt_st.Act_submit_Time.unique())\n",
        "\n",
        "\n",
        "  ax[0].set(xlabel=time_sec,\n",
        "        ylabel= left_label,  \n",
        "        title=left_title ) \n",
        "  fig.autofmt_xdate(rotation=45)\n",
        "\n",
        "  ax[0].xaxis.set_major_formatter(DateFormatter(\"%Y-%b\"))\n",
        "  ax[0].grid()\n",
        "  ax[0].legend()\n",
        "  ax[0].xaxis.set_major_formatter(DateFormatter(\"%Y-%b\"))\n",
        "\n",
        "\n",
        "# ----------------------------------------------------------------------\n",
        "\n",
        "  # Set title and labels for right graph\n",
        "\n",
        "  right_label=\"Assignments Time\"   if chk  else  \"Quizz Time \"\n",
        "  right_title= \" Assignement Submition Time / Month Timeline\"  if chk   else \" Quiz Submition Time / Month Timeline\"\n",
        " \n",
        "\n",
        "  ax[1].set(\n",
        "        ylabel=  right_label, # \"Quizz Mark\"\n",
        "        title=right_title )\n",
        "  ax[1].grid()\n",
        "  ax[1].legend()\n",
        "  \n",
        "  fig.autofmt_xdate(rotation=45)\n",
        "#-----------------------------------------------------------------------\n",
        "  ax[1].xaxis.set_major_formatter(DateFormatter(\"%Y-%b\"))\n",
        "      \n",
        "  plt.show()"
      ],
      "execution_count": null,
      "outputs": []
    },
    {
      "cell_type": "code",
      "metadata": {
        "id": "4-mwk5l8uzjz"
      },
      "source": [
        "@interact(st = stID, cs = course, chkbx= box)\n",
        "def plot_data( st, cs, chkbx ):\n",
        "  #print(((chkbx)+0))\n",
        "  \n",
        "  # print(predict_std.reset_index().query(f\"Course_code=='{cs}' & student_ID=='{st}'\"))\n",
        "  plot_std_Data(st, cs, ((chkbx)+0))"
      ],
      "execution_count": null,
      "outputs": []
    },
    {
      "cell_type": "code",
      "metadata": {
        "id": "REQTjNV1uns0"
      },
      "source": [
        ""
      ],
      "execution_count": null,
      "outputs": []
    },
    {
      "cell_type": "code",
      "metadata": {
        "id": "4dXsby4HunpQ"
      },
      "source": [
        ""
      ],
      "execution_count": null,
      "outputs": []
    },
    {
      "cell_type": "code",
      "metadata": {
        "id": "8B9MZfj4unlv"
      },
      "source": [
        ""
      ],
      "execution_count": null,
      "outputs": []
    },
    {
      "cell_type": "code",
      "metadata": {
        "id": "yWgd0VTOunhn"
      },
      "source": [
        ""
      ],
      "execution_count": null,
      "outputs": []
    },
    {
      "cell_type": "code",
      "metadata": {
        "id": "KGnBaIUUuna9"
      },
      "source": [
        ""
      ],
      "execution_count": null,
      "outputs": []
    },
    {
      "cell_type": "code",
      "metadata": {
        "id": "Wk4wPOKVuitm"
      },
      "source": [
        "##### TRY 2 CHECK BOXES"
      ],
      "execution_count": null,
      "outputs": []
    },
    {
      "cell_type": "code",
      "metadata": {
        "id": "lyL64zdwhAGw"
      },
      "source": [
        "from ipywidgets import interact, Dropdown, Checkbox\n",
        "\n",
        "stID = Dropdown(options = std_d.keys())\n",
        "course = Dropdown(options = std_d[stID.value]) # options = std_d[stID.value] is to remove inital error but not that necessary.\n",
        "box1 = Checkbox(False, description='Quiz')\n",
        "box2 = Checkbox(False, description='Assignment')\n",
        "\n",
        "\n",
        "@interact(st = stID, cs = course, chkbx1= box1 , chkbx2= box2)\n",
        "def print_cs(st, cs,chkbx1 , chkbx2):\n",
        "    course.options = std_d[st] # Here is the trick, i.e. update course.options based on st, namely stID.value.\n",
        "    # print(st, cs)\n",
        "    dt_st.query(f\"Course_code=='{cs}' & student_ID=='{st}'\")\n",
        "\n"
      ],
      "execution_count": null,
      "outputs": []
    },
    {
      "cell_type": "code",
      "metadata": {
        "id": "Kx_TzlWks7hX"
      },
      "source": [
        ""
      ],
      "execution_count": null,
      "outputs": []
    },
    {
      "cell_type": "code",
      "metadata": {
        "id": "Vx2Ref_6tDON"
      },
      "source": [
        ""
      ],
      "execution_count": null,
      "outputs": []
    },
    {
      "cell_type": "markdown",
      "metadata": {
        "id": "IQCABplLtVG8"
      },
      "source": [
        "## Try examples section"
      ]
    },
    {
      "cell_type": "code",
      "metadata": {
        "id": "se33SJ5oP7Q5"
      },
      "source": [
        "#### Try examples here"
      ],
      "execution_count": null,
      "outputs": []
    },
    {
      "cell_type": "code",
      "metadata": {
        "id": "0txo7YQXP7N0"
      },
      "source": [
        "from ipywidgets import interact\n",
        "import ipywidgets as widgets\n",
        "import numpy as np\n",
        "import pandas as pd\n",
        "import matplotlib.pyplot as plt\n",
        "from IPython.display import display\n",
        "import scipy as sci\n",
        "\n",
        "# I create two dataset\n",
        "x = np.linspace(0, 2*np.pi, 2000)\n",
        "y1=np.sin(2*x)\n",
        "y2=np.sin(4*x)\n",
        "y3=np.sin(8*x)\n",
        "\n",
        "f1=np.exp(-x**2)\n",
        "f2=np.exp(-2*x**2)\n",
        "f3=np.exp(-3*x**2)\n",
        "\n",
        "ms=[y1,y2,y3]\n",
        "mt=[f1,f2,f3]\n",
        "ms=np.transpose(ms)\n",
        "mt=np.transpose(mt)\n",
        "dataset_1=pd.DataFrame(ms)\n",
        "dataset_2=pd.DataFrame(mt)\n",
        "\n",
        "\n",
        "def f(Dataset):\n",
        "    control = Dataset\n",
        "    if control == 'dataset 1': \n",
        "        data=dataset_1\n",
        "        data.plot()\n",
        "        plt.show()\n",
        "\n",
        "    elif control== 'dataset 2':\n",
        "        data=dataset_2\n",
        "        data.plot()\n",
        "        plt.show() \n",
        "    return Dataset\n",
        "\n",
        "\n",
        "interact(f, Dataset = widgets.RadioButtons(\n",
        "options=['dataset 1', 'dataset 2'],\n",
        "description='Switching:',\n",
        "disabled=False))"
      ],
      "execution_count": null,
      "outputs": []
    },
    {
      "cell_type": "code",
      "metadata": {
        "id": "cInAJNP7P8LH"
      },
      "source": [
        ""
      ],
      "execution_count": null,
      "outputs": []
    },
    {
      "cell_type": "code",
      "metadata": {
        "id": "_g-S2-RmgpgN"
      },
      "source": [
        ""
      ],
      "execution_count": null,
      "outputs": []
    },
    {
      "cell_type": "code",
      "metadata": {
        "id": "erYS1ZFTqlMo"
      },
      "source": [
        "from ipywidgets import Layout, Button, Box\n",
        "\n",
        "items_layout = Layout( width='auto')     # override the default width of the button to 'auto' to let the button grow\n",
        "\n",
        "box_layout = Layout(display='flex',\n",
        "                    flex_flow='column',\n",
        "                    align_items='stretch',\n",
        "                    border='solid',\n",
        "                    width='50%')\n",
        "\n",
        "words = ['correct', 'horse', 'battery', 'staple']\n",
        "items = [Button(description=word, layout=items_layout, button_style='danger') for word in words]\n",
        "box = Box(children=items, layout=box_layout)\n",
        "box"
      ],
      "execution_count": null,
      "outputs": []
    },
    {
      "cell_type": "markdown",
      "metadata": {
        "id": "e8cBr36_OXhc"
      },
      "source": [
        ""
      ]
    },
    {
      "cell_type": "code",
      "metadata": {
        "id": "xdZS0k1pqlCj"
      },
      "source": [
        "from IPython.display import IFrame\n",
        "\n",
        "IFrame(src='https://youtu.be/vX8hmygN_v0', width=700, height=600 )"
      ],
      "execution_count": null,
      "outputs": []
    },
    {
      "cell_type": "code",
      "metadata": {
        "id": "_Xr8AWHJqk-J"
      },
      "source": [
        "from IPython.display import YouTubeVideo\n",
        "\n",
        "YouTubeVideo('WSbgixdC9g8', width=800, height=300)"
      ],
      "execution_count": null,
      "outputs": []
    },
    {
      "cell_type": "code",
      "metadata": {
        "id": "-ELKgGchqk60"
      },
      "source": [
        ""
      ],
      "execution_count": null,
      "outputs": []
    }
  ]
}