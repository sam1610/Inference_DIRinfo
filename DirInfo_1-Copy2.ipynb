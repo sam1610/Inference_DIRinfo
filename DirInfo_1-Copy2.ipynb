{
 "cells": [
  {
   "cell_type": "markdown",
   "metadata": {},
   "source": [
    "- Data processing are  presented on Jupyter to better intrercat wiht. "
   ]
  },
  {
   "cell_type": "code",
   "execution_count": 121,
   "metadata": {},
   "outputs": [],
   "source": [
    "import numpy as np\n",
    "import pandas as pd\n",
    "import matplotlib.pyplot as plt\n",
    "from sklearn import preprocessing\n",
    "from sklearn.preprocessing import StandardScaler\n",
    "import seaborn as sns"
   ]
  },
  {
   "cell_type": "code",
   "execution_count": 122,
   "metadata": {},
   "outputs": [],
   "source": [
    "\n",
    "pd.options.display.max_rows =10\n",
    "pd.options.display.max_columns = 500\n",
    "pd.set_option.display_width=1000\n",
    "\n",
    "df=pd.read_excel('data/GD6.xlsx', index_col=None, header=0)"
   ]
  },
  {
   "cell_type": "code",
   "execution_count": 123,
   "metadata": {},
   "outputs": [
    {
     "data": {
      "text/html": [
       "<div>\n",
       "<style scoped>\n",
       "    .dataframe tbody tr th:only-of-type {\n",
       "        vertical-align: middle;\n",
       "    }\n",
       "\n",
       "    .dataframe tbody tr th {\n",
       "        vertical-align: top;\n",
       "    }\n",
       "\n",
       "    .dataframe thead th {\n",
       "        text-align: right;\n",
       "    }\n",
       "</style>\n",
       "<table border=\"1\" class=\"dataframe\">\n",
       "  <thead>\n",
       "    <tr style=\"text-align: right;\">\n",
       "      <th></th>\n",
       "      <th>CPR_NO</th>\n",
       "      <th>NAME</th>\n",
       "      <th>ENAME</th>\n",
       "      <th>SCH_NM</th>\n",
       "      <th>PROV_NM</th>\n",
       "      <th>SUBM</th>\n",
       "      <th>STUFF_SEX</th>\n",
       "      <th>ACHIEVEMENTS1</th>\n",
       "      <th>ACHIEVEMENTS2</th>\n",
       "      <th>MIDTERM1</th>\n",
       "      <th>MIDTERM2</th>\n",
       "      <th>FINAL1</th>\n",
       "      <th>FINAL2</th>\n",
       "      <th>TOTAL1</th>\n",
       "      <th>TOTAL2</th>\n",
       "      <th>D_MARK</th>\n",
       "      <th>NAT_MARK</th>\n",
       "      <th>GPA</th>\n",
       "    </tr>\n",
       "  </thead>\n",
       "  <tbody>\n",
       "    <tr>\n",
       "      <th>24185</th>\n",
       "      <td>70304602</td>\n",
       "      <td>هزاع أحمد يوسف الكعبي</td>\n",
       "      <td>HAZZA AHMED YUSUF ALKAABI</td>\n",
       "      <td>مدرسة وادي السيل الابتدائية الاعدادية للبنين</td>\n",
       "      <td>المحافظة الجنوبية</td>\n",
       "      <td>الرياضيات</td>\n",
       "      <td>مدرسين</td>\n",
       "      <td>30.0</td>\n",
       "      <td>28.0</td>\n",
       "      <td>20.0</td>\n",
       "      <td>18.0</td>\n",
       "      <td>47.0</td>\n",
       "      <td>42.0</td>\n",
       "      <td>97.0</td>\n",
       "      <td>88</td>\n",
       "      <td>93</td>\n",
       "      <td>61.9</td>\n",
       "      <td>94.636364</td>\n",
       "    </tr>\n",
       "    <tr>\n",
       "      <th>24186</th>\n",
       "      <td>71007423</td>\n",
       "      <td>يوسف سعيد عمير السليمان</td>\n",
       "      <td>YOUSIF SAEED OMAIR ALSULAIMAN</td>\n",
       "      <td>مدرسة وادي السيل الابتدائية الاعدادية للبنين</td>\n",
       "      <td>المحافظة الجنوبية</td>\n",
       "      <td>الرياضيات</td>\n",
       "      <td>مدرسين</td>\n",
       "      <td>30.0</td>\n",
       "      <td>25.0</td>\n",
       "      <td>17.0</td>\n",
       "      <td>15.0</td>\n",
       "      <td>17.0</td>\n",
       "      <td>14.5</td>\n",
       "      <td>64.0</td>\n",
       "      <td>55</td>\n",
       "      <td>60</td>\n",
       "      <td>44.5</td>\n",
       "      <td>85.181818</td>\n",
       "    </tr>\n",
       "    <tr>\n",
       "      <th>24187</th>\n",
       "      <td>70402183</td>\n",
       "      <td>يوسف عبدالمنعم علي حسين</td>\n",
       "      <td>YOUSIF ABDULMUNEM ALI HUSAIN</td>\n",
       "      <td>مدرسة وادي السيل الابتدائية الاعدادية للبنين</td>\n",
       "      <td>المحافظة الجنوبية</td>\n",
       "      <td>الرياضيات</td>\n",
       "      <td>مدرسين</td>\n",
       "      <td>26.0</td>\n",
       "      <td>27.0</td>\n",
       "      <td>12.0</td>\n",
       "      <td>17.0</td>\n",
       "      <td>24.0</td>\n",
       "      <td>22.0</td>\n",
       "      <td>62.0</td>\n",
       "      <td>66</td>\n",
       "      <td>64</td>\n",
       "      <td>44.5</td>\n",
       "      <td>82.727273</td>\n",
       "    </tr>\n",
       "    <tr>\n",
       "      <th>24188</th>\n",
       "      <td>70803196</td>\n",
       "      <td>يوسف محمد عبدالله المناعي</td>\n",
       "      <td>YOUSIF MOHAMED ABDULLA ALMANNAEI</td>\n",
       "      <td>مدرسة وادي السيل الابتدائية الاعدادية للبنين</td>\n",
       "      <td>المحافظة الجنوبية</td>\n",
       "      <td>الرياضيات</td>\n",
       "      <td>مدرسين</td>\n",
       "      <td>28.0</td>\n",
       "      <td>28.0</td>\n",
       "      <td>18.0</td>\n",
       "      <td>18.0</td>\n",
       "      <td>37.0</td>\n",
       "      <td>23.5</td>\n",
       "      <td>83.0</td>\n",
       "      <td>70</td>\n",
       "      <td>77</td>\n",
       "      <td>46.3</td>\n",
       "      <td>89.181818</td>\n",
       "    </tr>\n",
       "    <tr>\n",
       "      <th>24189</th>\n",
       "      <td>70211361</td>\n",
       "      <td>يوسف مصطفى محمد عبدالله</td>\n",
       "      <td>YOUSIF MUSTAFA MOHAMMED ABDULLA</td>\n",
       "      <td>مدرسة وادي السيل الابتدائية الاعدادية للبنين</td>\n",
       "      <td>المحافظة الجنوبية</td>\n",
       "      <td>الرياضيات</td>\n",
       "      <td>مدرسين</td>\n",
       "      <td>29.0</td>\n",
       "      <td>27.0</td>\n",
       "      <td>14.0</td>\n",
       "      <td>16.0</td>\n",
       "      <td>16.0</td>\n",
       "      <td>19.5</td>\n",
       "      <td>59.0</td>\n",
       "      <td>63</td>\n",
       "      <td>61</td>\n",
       "      <td>39.0</td>\n",
       "      <td>81.818182</td>\n",
       "    </tr>\n",
       "  </tbody>\n",
       "</table>\n",
       "</div>"
      ],
      "text/plain": [
       "         CPR_NO                        NAME  \\\n",
       "24185  70304602       هزاع أحمد يوسف الكعبي   \n",
       "24186  71007423     يوسف سعيد عمير السليمان   \n",
       "24187  70402183     يوسف عبدالمنعم علي حسين   \n",
       "24188  70803196   يوسف محمد عبدالله المناعي   \n",
       "24189  70211361     يوسف مصطفى محمد عبدالله   \n",
       "\n",
       "                                   ENAME  \\\n",
       "24185          HAZZA AHMED YUSUF ALKAABI   \n",
       "24186      YOUSIF SAEED OMAIR ALSULAIMAN   \n",
       "24187       YOUSIF ABDULMUNEM ALI HUSAIN   \n",
       "24188   YOUSIF MOHAMED ABDULLA ALMANNAEI   \n",
       "24189    YOUSIF MUSTAFA MOHAMMED ABDULLA   \n",
       "\n",
       "                                             SCH_NM            PROV_NM  \\\n",
       "24185  مدرسة وادي السيل الابتدائية الاعدادية للبنين  المحافظة الجنوبية   \n",
       "24186  مدرسة وادي السيل الابتدائية الاعدادية للبنين  المحافظة الجنوبية   \n",
       "24187  مدرسة وادي السيل الابتدائية الاعدادية للبنين  المحافظة الجنوبية   \n",
       "24188  مدرسة وادي السيل الابتدائية الاعدادية للبنين  المحافظة الجنوبية   \n",
       "24189  مدرسة وادي السيل الابتدائية الاعدادية للبنين  المحافظة الجنوبية   \n",
       "\n",
       "            SUBM STUFF_SEX  ACHIEVEMENTS1  ACHIEVEMENTS2  MIDTERM1  MIDTERM2  \\\n",
       "24185  الرياضيات    مدرسين           30.0           28.0      20.0      18.0   \n",
       "24186  الرياضيات    مدرسين           30.0           25.0      17.0      15.0   \n",
       "24187  الرياضيات    مدرسين           26.0           27.0      12.0      17.0   \n",
       "24188  الرياضيات    مدرسين           28.0           28.0      18.0      18.0   \n",
       "24189  الرياضيات    مدرسين           29.0           27.0      14.0      16.0   \n",
       "\n",
       "       FINAL1  FINAL2  TOTAL1  TOTAL2  D_MARK  NAT_MARK        GPA  \n",
       "24185    47.0    42.0    97.0      88      93      61.9  94.636364  \n",
       "24186    17.0    14.5    64.0      55      60      44.5  85.181818  \n",
       "24187    24.0    22.0    62.0      66      64      44.5  82.727273  \n",
       "24188    37.0    23.5    83.0      70      77      46.3  89.181818  \n",
       "24189    16.0    19.5    59.0      63      61      39.0  81.818182  "
      ]
     },
     "execution_count": 123,
     "metadata": {},
     "output_type": "execute_result"
    }
   ],
   "source": [
    "df.tail()"
   ]
  },
  {
   "cell_type": "code",
   "execution_count": 124,
   "metadata": {},
   "outputs": [
    {
     "name": "stdout",
     "output_type": "stream",
     "text": [
      "<class 'pandas.core.frame.DataFrame'>\n",
      "RangeIndex: 24190 entries, 0 to 24189\n",
      "Data columns (total 18 columns):\n",
      "CPR_NO           24190 non-null int64\n",
      "NAME             24190 non-null object\n",
      "ENAME            24190 non-null object\n",
      "SCH_NM           24190 non-null object\n",
      "PROV_NM          24190 non-null object\n",
      "SUBM             24190 non-null object\n",
      "STUFF_SEX        24190 non-null object\n",
      "ACHIEVEMENTS1    24172 non-null float64\n",
      "ACHIEVEMENTS2    24190 non-null float64\n",
      "MIDTERM1         24172 non-null float64\n",
      "MIDTERM2         24190 non-null float64\n",
      "FINAL1           24174 non-null float64\n",
      "FINAL2           24190 non-null float64\n",
      "TOTAL1           24174 non-null float64\n",
      "TOTAL2           24190 non-null int64\n",
      "D_MARK           24190 non-null int64\n",
      "NAT_MARK         24190 non-null float64\n",
      "GPA              24190 non-null float64\n",
      "dtypes: float64(9), int64(3), object(6)\n",
      "memory usage: 3.3+ MB\n"
     ]
    }
   ],
   "source": [
    "df.info()"
   ]
  },
  {
   "cell_type": "code",
   "execution_count": 125,
   "metadata": {},
   "outputs": [
    {
     "data": {
      "text/plain": [
       "Index(['CPR_NO', 'NAME', 'ENAME', 'SCH_NM', 'PROV_NM', 'SUBM', 'STUFF_SEX',\n",
       "       'ACHIEVEMENTS1', 'ACHIEVEMENTS2', 'MIDTERM1', 'MIDTERM2', 'FINAL1',\n",
       "       'FINAL2', 'TOTAL1', 'TOTAL2', 'D_MARK', 'NAT_MARK', 'GPA'],\n",
       "      dtype='object')"
      ]
     },
     "execution_count": 125,
     "metadata": {},
     "output_type": "execute_result"
    }
   ],
   "source": [
    "df.keys()"
   ]
  },
  {
   "cell_type": "code",
   "execution_count": 126,
   "metadata": {},
   "outputs": [
    {
     "data": {
      "text/plain": [
       "(24190, 18)"
      ]
     },
     "execution_count": 126,
     "metadata": {},
     "output_type": "execute_result"
    }
   ],
   "source": [
    "df.shape"
   ]
  },
  {
   "cell_type": "code",
   "execution_count": 127,
   "metadata": {},
   "outputs": [],
   "source": [
    "df=df.drop(['NAME', 'ENAME'], axis=1)"
   ]
  },
  {
   "cell_type": "code",
   "execution_count": 128,
   "metadata": {},
   "outputs": [
    {
     "data": {
      "text/html": [
       "<div>\n",
       "<style scoped>\n",
       "    .dataframe tbody tr th:only-of-type {\n",
       "        vertical-align: middle;\n",
       "    }\n",
       "\n",
       "    .dataframe tbody tr th {\n",
       "        vertical-align: top;\n",
       "    }\n",
       "\n",
       "    .dataframe thead th {\n",
       "        text-align: right;\n",
       "    }\n",
       "</style>\n",
       "<table border=\"1\" class=\"dataframe\">\n",
       "  <thead>\n",
       "    <tr style=\"text-align: right;\">\n",
       "      <th></th>\n",
       "      <th>CPR_NO</th>\n",
       "      <th>SCH_NM</th>\n",
       "      <th>PROV_NM</th>\n",
       "      <th>SUBM</th>\n",
       "      <th>STUFF_SEX</th>\n",
       "      <th>ACHIEVEMENTS1</th>\n",
       "      <th>ACHIEVEMENTS2</th>\n",
       "      <th>MIDTERM1</th>\n",
       "      <th>MIDTERM2</th>\n",
       "      <th>FINAL1</th>\n",
       "      <th>FINAL2</th>\n",
       "      <th>TOTAL1</th>\n",
       "      <th>TOTAL2</th>\n",
       "      <th>D_MARK</th>\n",
       "      <th>NAT_MARK</th>\n",
       "      <th>GPA</th>\n",
       "    </tr>\n",
       "  </thead>\n",
       "  <tbody>\n",
       "    <tr>\n",
       "      <th>0</th>\n",
       "      <td>70913390</td>\n",
       "      <td>المعهد الديني الجعفري</td>\n",
       "      <td>محافظة العاصمة</td>\n",
       "      <td>العلوم</td>\n",
       "      <td>مدرسين</td>\n",
       "      <td>28.0</td>\n",
       "      <td>30.0</td>\n",
       "      <td>17.0</td>\n",
       "      <td>17.0</td>\n",
       "      <td>45.0</td>\n",
       "      <td>33.0</td>\n",
       "      <td>90.0</td>\n",
       "      <td>80</td>\n",
       "      <td>85</td>\n",
       "      <td>53.7</td>\n",
       "      <td>92.9</td>\n",
       "    </tr>\n",
       "    <tr>\n",
       "      <th>1</th>\n",
       "      <td>71105956</td>\n",
       "      <td>المعهد الديني الجعفري</td>\n",
       "      <td>محافظة العاصمة</td>\n",
       "      <td>العلوم</td>\n",
       "      <td>مدرسين</td>\n",
       "      <td>27.0</td>\n",
       "      <td>29.0</td>\n",
       "      <td>14.0</td>\n",
       "      <td>16.0</td>\n",
       "      <td>41.5</td>\n",
       "      <td>37.0</td>\n",
       "      <td>83.0</td>\n",
       "      <td>82</td>\n",
       "      <td>83</td>\n",
       "      <td>49.7</td>\n",
       "      <td>89.5</td>\n",
       "    </tr>\n",
       "    <tr>\n",
       "      <th>2</th>\n",
       "      <td>70712190</td>\n",
       "      <td>المعهد الديني الجعفري</td>\n",
       "      <td>محافظة العاصمة</td>\n",
       "      <td>العلوم</td>\n",
       "      <td>مدرسين</td>\n",
       "      <td>27.0</td>\n",
       "      <td>27.0</td>\n",
       "      <td>13.0</td>\n",
       "      <td>15.0</td>\n",
       "      <td>27.5</td>\n",
       "      <td>37.0</td>\n",
       "      <td>68.0</td>\n",
       "      <td>79</td>\n",
       "      <td>74</td>\n",
       "      <td>52.1</td>\n",
       "      <td>86.2</td>\n",
       "    </tr>\n",
       "    <tr>\n",
       "      <th>3</th>\n",
       "      <td>70207496</td>\n",
       "      <td>المعهد الديني الجعفري</td>\n",
       "      <td>محافظة العاصمة</td>\n",
       "      <td>العلوم</td>\n",
       "      <td>مدرسين</td>\n",
       "      <td>26.0</td>\n",
       "      <td>24.5</td>\n",
       "      <td>15.0</td>\n",
       "      <td>12.0</td>\n",
       "      <td>44.0</td>\n",
       "      <td>32.5</td>\n",
       "      <td>85.0</td>\n",
       "      <td>69</td>\n",
       "      <td>77</td>\n",
       "      <td>52.9</td>\n",
       "      <td>89.9</td>\n",
       "    </tr>\n",
       "    <tr>\n",
       "      <th>4</th>\n",
       "      <td>70507953</td>\n",
       "      <td>المعهد الديني الجعفري</td>\n",
       "      <td>محافظة العاصمة</td>\n",
       "      <td>العلوم</td>\n",
       "      <td>مدرسين</td>\n",
       "      <td>25.0</td>\n",
       "      <td>28.0</td>\n",
       "      <td>14.0</td>\n",
       "      <td>15.0</td>\n",
       "      <td>31.5</td>\n",
       "      <td>37.0</td>\n",
       "      <td>71.0</td>\n",
       "      <td>80</td>\n",
       "      <td>76</td>\n",
       "      <td>52.1</td>\n",
       "      <td>86.2</td>\n",
       "    </tr>\n",
       "  </tbody>\n",
       "</table>\n",
       "</div>"
      ],
      "text/plain": [
       "     CPR_NO                 SCH_NM         PROV_NM    SUBM STUFF_SEX  \\\n",
       "0  70913390  المعهد الديني الجعفري  محافظة العاصمة  العلوم    مدرسين   \n",
       "1  71105956  المعهد الديني الجعفري  محافظة العاصمة  العلوم    مدرسين   \n",
       "2  70712190  المعهد الديني الجعفري  محافظة العاصمة  العلوم    مدرسين   \n",
       "3  70207496  المعهد الديني الجعفري  محافظة العاصمة  العلوم    مدرسين   \n",
       "4  70507953  المعهد الديني الجعفري  محافظة العاصمة  العلوم    مدرسين   \n",
       "\n",
       "   ACHIEVEMENTS1  ACHIEVEMENTS2  MIDTERM1  MIDTERM2  FINAL1  FINAL2  TOTAL1  \\\n",
       "0           28.0           30.0      17.0      17.0    45.0    33.0    90.0   \n",
       "1           27.0           29.0      14.0      16.0    41.5    37.0    83.0   \n",
       "2           27.0           27.0      13.0      15.0    27.5    37.0    68.0   \n",
       "3           26.0           24.5      15.0      12.0    44.0    32.5    85.0   \n",
       "4           25.0           28.0      14.0      15.0    31.5    37.0    71.0   \n",
       "\n",
       "   TOTAL2  D_MARK  NAT_MARK   GPA  \n",
       "0      80      85      53.7  92.9  \n",
       "1      82      83      49.7  89.5  \n",
       "2      79      74      52.1  86.2  \n",
       "3      69      77      52.9  89.9  \n",
       "4      80      76      52.1  86.2  "
      ]
     },
     "execution_count": 128,
     "metadata": {},
     "output_type": "execute_result"
    }
   ],
   "source": [
    "df.head()"
   ]
  },
  {
   "cell_type": "code",
   "execution_count": 129,
   "metadata": {},
   "outputs": [
    {
     "data": {
      "text/plain": [
       "CPR_NO         int64\n",
       "SCH_NM        object\n",
       "PROV_NM       object\n",
       "SUBM          object\n",
       "STUFF_SEX     object\n",
       "              ...   \n",
       "TOTAL1       float64\n",
       "TOTAL2         int64\n",
       "D_MARK         int64\n",
       "NAT_MARK     float64\n",
       "GPA          float64\n",
       "Length: 16, dtype: object"
      ]
     },
     "execution_count": 129,
     "metadata": {},
     "output_type": "execute_result"
    }
   ],
   "source": [
    "df.dtypes"
   ]
  },
  {
   "cell_type": "code",
   "execution_count": 130,
   "metadata": {},
   "outputs": [
    {
     "data": {
      "text/html": [
       "<div>\n",
       "<style scoped>\n",
       "    .dataframe tbody tr th:only-of-type {\n",
       "        vertical-align: middle;\n",
       "    }\n",
       "\n",
       "    .dataframe tbody tr th {\n",
       "        vertical-align: top;\n",
       "    }\n",
       "\n",
       "    .dataframe thead th {\n",
       "        text-align: right;\n",
       "    }\n",
       "</style>\n",
       "<table border=\"1\" class=\"dataframe\">\n",
       "  <thead>\n",
       "    <tr style=\"text-align: right;\">\n",
       "      <th></th>\n",
       "      <th>CPR_NO</th>\n",
       "      <th>SCH_NM</th>\n",
       "      <th>PROV_NM</th>\n",
       "      <th>SUBM</th>\n",
       "      <th>STUFF_SEX</th>\n",
       "      <th>ACHIEVEMENTS1</th>\n",
       "      <th>ACHIEVEMENTS2</th>\n",
       "      <th>MIDTERM1</th>\n",
       "      <th>MIDTERM2</th>\n",
       "      <th>FINAL1</th>\n",
       "      <th>FINAL2</th>\n",
       "      <th>TOTAL1</th>\n",
       "      <th>TOTAL2</th>\n",
       "      <th>D_MARK</th>\n",
       "      <th>NAT_MARK</th>\n",
       "      <th>GPA</th>\n",
       "    </tr>\n",
       "  </thead>\n",
       "  <tbody>\n",
       "    <tr>\n",
       "      <th>0</th>\n",
       "      <td>70913390</td>\n",
       "      <td>المعهد الديني الجعفري</td>\n",
       "      <td>محافظة العاصمة</td>\n",
       "      <td>العلوم</td>\n",
       "      <td>مدرسين</td>\n",
       "      <td>28.0</td>\n",
       "      <td>30.0</td>\n",
       "      <td>17.0</td>\n",
       "      <td>17.0</td>\n",
       "      <td>45.0</td>\n",
       "      <td>33.0</td>\n",
       "      <td>90.0</td>\n",
       "      <td>80</td>\n",
       "      <td>85</td>\n",
       "      <td>53.7</td>\n",
       "      <td>92.9</td>\n",
       "    </tr>\n",
       "    <tr>\n",
       "      <th>1</th>\n",
       "      <td>71105956</td>\n",
       "      <td>المعهد الديني الجعفري</td>\n",
       "      <td>محافظة العاصمة</td>\n",
       "      <td>العلوم</td>\n",
       "      <td>مدرسين</td>\n",
       "      <td>27.0</td>\n",
       "      <td>29.0</td>\n",
       "      <td>14.0</td>\n",
       "      <td>16.0</td>\n",
       "      <td>41.5</td>\n",
       "      <td>37.0</td>\n",
       "      <td>83.0</td>\n",
       "      <td>82</td>\n",
       "      <td>83</td>\n",
       "      <td>49.7</td>\n",
       "      <td>89.5</td>\n",
       "    </tr>\n",
       "    <tr>\n",
       "      <th>2</th>\n",
       "      <td>70712190</td>\n",
       "      <td>المعهد الديني الجعفري</td>\n",
       "      <td>محافظة العاصمة</td>\n",
       "      <td>العلوم</td>\n",
       "      <td>مدرسين</td>\n",
       "      <td>27.0</td>\n",
       "      <td>27.0</td>\n",
       "      <td>13.0</td>\n",
       "      <td>15.0</td>\n",
       "      <td>27.5</td>\n",
       "      <td>37.0</td>\n",
       "      <td>68.0</td>\n",
       "      <td>79</td>\n",
       "      <td>74</td>\n",
       "      <td>52.1</td>\n",
       "      <td>86.2</td>\n",
       "    </tr>\n",
       "    <tr>\n",
       "      <th>3</th>\n",
       "      <td>70207496</td>\n",
       "      <td>المعهد الديني الجعفري</td>\n",
       "      <td>محافظة العاصمة</td>\n",
       "      <td>العلوم</td>\n",
       "      <td>مدرسين</td>\n",
       "      <td>26.0</td>\n",
       "      <td>24.5</td>\n",
       "      <td>15.0</td>\n",
       "      <td>12.0</td>\n",
       "      <td>44.0</td>\n",
       "      <td>32.5</td>\n",
       "      <td>85.0</td>\n",
       "      <td>69</td>\n",
       "      <td>77</td>\n",
       "      <td>52.9</td>\n",
       "      <td>89.9</td>\n",
       "    </tr>\n",
       "    <tr>\n",
       "      <th>4</th>\n",
       "      <td>70507953</td>\n",
       "      <td>المعهد الديني الجعفري</td>\n",
       "      <td>محافظة العاصمة</td>\n",
       "      <td>العلوم</td>\n",
       "      <td>مدرسين</td>\n",
       "      <td>25.0</td>\n",
       "      <td>28.0</td>\n",
       "      <td>14.0</td>\n",
       "      <td>15.0</td>\n",
       "      <td>31.5</td>\n",
       "      <td>37.0</td>\n",
       "      <td>71.0</td>\n",
       "      <td>80</td>\n",
       "      <td>76</td>\n",
       "      <td>52.1</td>\n",
       "      <td>86.2</td>\n",
       "    </tr>\n",
       "  </tbody>\n",
       "</table>\n",
       "</div>"
      ],
      "text/plain": [
       "     CPR_NO                 SCH_NM         PROV_NM    SUBM STUFF_SEX  \\\n",
       "0  70913390  المعهد الديني الجعفري  محافظة العاصمة  العلوم    مدرسين   \n",
       "1  71105956  المعهد الديني الجعفري  محافظة العاصمة  العلوم    مدرسين   \n",
       "2  70712190  المعهد الديني الجعفري  محافظة العاصمة  العلوم    مدرسين   \n",
       "3  70207496  المعهد الديني الجعفري  محافظة العاصمة  العلوم    مدرسين   \n",
       "4  70507953  المعهد الديني الجعفري  محافظة العاصمة  العلوم    مدرسين   \n",
       "\n",
       "   ACHIEVEMENTS1  ACHIEVEMENTS2  MIDTERM1  MIDTERM2  FINAL1  FINAL2  TOTAL1  \\\n",
       "0           28.0           30.0      17.0      17.0    45.0    33.0    90.0   \n",
       "1           27.0           29.0      14.0      16.0    41.5    37.0    83.0   \n",
       "2           27.0           27.0      13.0      15.0    27.5    37.0    68.0   \n",
       "3           26.0           24.5      15.0      12.0    44.0    32.5    85.0   \n",
       "4           25.0           28.0      14.0      15.0    31.5    37.0    71.0   \n",
       "\n",
       "   TOTAL2  D_MARK  NAT_MARK   GPA  \n",
       "0      80      85      53.7  92.9  \n",
       "1      82      83      49.7  89.5  \n",
       "2      79      74      52.1  86.2  \n",
       "3      69      77      52.9  89.9  \n",
       "4      80      76      52.1  86.2  "
      ]
     },
     "execution_count": 130,
     "metadata": {},
     "output_type": "execute_result"
    }
   ],
   "source": [
    "subj=[\"العلوم\",\"الرياضيات\"]\n",
    "df[df.SUBM.isin(subj)].head()"
   ]
  },
  {
   "cell_type": "code",
   "execution_count": 131,
   "metadata": {},
   "outputs": [
    {
     "data": {
      "text/plain": [
       "array(['العلوم', 'الرياضيات'], dtype=object)"
      ]
     },
     "execution_count": 131,
     "metadata": {},
     "output_type": "execute_result"
    }
   ],
   "source": [
    "df.SUBM.unique()"
   ]
  },
  {
   "cell_type": "code",
   "execution_count": 132,
   "metadata": {},
   "outputs": [
    {
     "data": {
      "text/plain": [
       "(24190, 16)"
      ]
     },
     "execution_count": 132,
     "metadata": {},
     "output_type": "execute_result"
    }
   ],
   "source": [
    "df.shape"
   ]
  },
  {
   "cell_type": "code",
   "execution_count": 133,
   "metadata": {},
   "outputs": [],
   "source": [
    "data_column_category = df.select_dtypes(exclude=[np.number]).columns"
   ]
  },
  {
   "cell_type": "code",
   "execution_count": 134,
   "metadata": {},
   "outputs": [
    {
     "data": {
      "text/plain": [
       "Index(['SCH_NM', 'PROV_NM', 'SUBM', 'STUFF_SEX'], dtype='object')"
      ]
     },
     "execution_count": 134,
     "metadata": {},
     "output_type": "execute_result"
    }
   ],
   "source": [
    "data_column_category"
   ]
  },
  {
   "cell_type": "code",
   "execution_count": 135,
   "metadata": {},
   "outputs": [],
   "source": [
    "# from sklearn.preprocessing import LabelEncoder\n",
    "\n",
    "# label_encoder = LabelEncoder()\n",
    "\n",
    "# for i in data_column_category:\n",
    "\n",
    "#     df[i] = label_encoder.fit_transform(df[i])\n",
    "\n",
    "# print(\"Label Encoded Data: \")\n",
    "\n",
    "# df.head()"
   ]
  },
  {
   "cell_type": "code",
   "execution_count": 136,
   "metadata": {},
   "outputs": [
    {
     "data": {
      "text/html": [
       "<div>\n",
       "<style scoped>\n",
       "    .dataframe tbody tr th:only-of-type {\n",
       "        vertical-align: middle;\n",
       "    }\n",
       "\n",
       "    .dataframe tbody tr th {\n",
       "        vertical-align: top;\n",
       "    }\n",
       "\n",
       "    .dataframe thead th {\n",
       "        text-align: right;\n",
       "    }\n",
       "</style>\n",
       "<table border=\"1\" class=\"dataframe\">\n",
       "  <thead>\n",
       "    <tr style=\"text-align: right;\">\n",
       "      <th></th>\n",
       "      <th>ACHIEVEMENTS1</th>\n",
       "      <th>ACHIEVEMENTS2</th>\n",
       "      <th>MIDTERM1</th>\n",
       "      <th>MIDTERM2</th>\n",
       "      <th>FINAL1</th>\n",
       "      <th>FINAL2</th>\n",
       "      <th>TOTAL1</th>\n",
       "      <th>TOTAL2</th>\n",
       "      <th>D_MARK</th>\n",
       "      <th>NAT_MARK</th>\n",
       "      <th>GPA</th>\n",
       "    </tr>\n",
       "  </thead>\n",
       "  <tbody>\n",
       "    <tr>\n",
       "      <th>count</th>\n",
       "      <td>24172.000000</td>\n",
       "      <td>24190.000000</td>\n",
       "      <td>24172.000000</td>\n",
       "      <td>24190.000000</td>\n",
       "      <td>24174.00000</td>\n",
       "      <td>24190.000000</td>\n",
       "      <td>24174.000000</td>\n",
       "      <td>24190.000000</td>\n",
       "      <td>24190.000000</td>\n",
       "      <td>24190.000000</td>\n",
       "      <td>24190.000000</td>\n",
       "    </tr>\n",
       "    <tr>\n",
       "      <th>mean</th>\n",
       "      <td>28.013205</td>\n",
       "      <td>28.226147</td>\n",
       "      <td>16.396359</td>\n",
       "      <td>16.233038</td>\n",
       "      <td>37.58565</td>\n",
       "      <td>35.387970</td>\n",
       "      <td>82.145321</td>\n",
       "      <td>80.090492</td>\n",
       "      <td>81.366226</td>\n",
       "      <td>51.163878</td>\n",
       "      <td>89.781241</td>\n",
       "    </tr>\n",
       "    <tr>\n",
       "      <th>std</th>\n",
       "      <td>2.516684</td>\n",
       "      <td>2.404484</td>\n",
       "      <td>3.691991</td>\n",
       "      <td>3.738233</td>\n",
       "      <td>10.61787</td>\n",
       "      <td>8.338934</td>\n",
       "      <td>15.120198</td>\n",
       "      <td>12.775070</td>\n",
       "      <td>13.360015</td>\n",
       "      <td>10.752687</td>\n",
       "      <td>6.986924</td>\n",
       "    </tr>\n",
       "    <tr>\n",
       "      <th>min</th>\n",
       "      <td>0.000000</td>\n",
       "      <td>0.000000</td>\n",
       "      <td>0.000000</td>\n",
       "      <td>0.000000</td>\n",
       "      <td>0.00000</td>\n",
       "      <td>0.000000</td>\n",
       "      <td>0.000000</td>\n",
       "      <td>0.000000</td>\n",
       "      <td>0.000000</td>\n",
       "      <td>0.000000</td>\n",
       "      <td>0.000000</td>\n",
       "    </tr>\n",
       "    <tr>\n",
       "      <th>25%</th>\n",
       "      <td>27.000000</td>\n",
       "      <td>27.000000</td>\n",
       "      <td>14.500000</td>\n",
       "      <td>14.000000</td>\n",
       "      <td>31.00000</td>\n",
       "      <td>30.500000</td>\n",
       "      <td>73.000000</td>\n",
       "      <td>72.000000</td>\n",
       "      <td>73.000000</td>\n",
       "      <td>44.200000</td>\n",
       "      <td>86.090909</td>\n",
       "    </tr>\n",
       "    <tr>\n",
       "      <th>50%</th>\n",
       "      <td>29.000000</td>\n",
       "      <td>29.000000</td>\n",
       "      <td>17.500000</td>\n",
       "      <td>17.000000</td>\n",
       "      <td>40.00000</td>\n",
       "      <td>37.000000</td>\n",
       "      <td>86.000000</td>\n",
       "      <td>83.000000</td>\n",
       "      <td>84.000000</td>\n",
       "      <td>51.300000</td>\n",
       "      <td>91.090909</td>\n",
       "    </tr>\n",
       "    <tr>\n",
       "      <th>75%</th>\n",
       "      <td>30.000000</td>\n",
       "      <td>30.000000</td>\n",
       "      <td>19.000000</td>\n",
       "      <td>19.000000</td>\n",
       "      <td>46.00000</td>\n",
       "      <td>42.000000</td>\n",
       "      <td>94.000000</td>\n",
       "      <td>90.000000</td>\n",
       "      <td>92.000000</td>\n",
       "      <td>58.300000</td>\n",
       "      <td>95.000000</td>\n",
       "    </tr>\n",
       "    <tr>\n",
       "      <th>max</th>\n",
       "      <td>30.000000</td>\n",
       "      <td>30.000000</td>\n",
       "      <td>20.000000</td>\n",
       "      <td>20.000000</td>\n",
       "      <td>94.00000</td>\n",
       "      <td>94.000000</td>\n",
       "      <td>100.000000</td>\n",
       "      <td>100.000000</td>\n",
       "      <td>100.000000</td>\n",
       "      <td>90.000000</td>\n",
       "      <td>99.818182</td>\n",
       "    </tr>\n",
       "  </tbody>\n",
       "</table>\n",
       "</div>"
      ],
      "text/plain": [
       "       ACHIEVEMENTS1  ACHIEVEMENTS2      MIDTERM1      MIDTERM2       FINAL1  \\\n",
       "count   24172.000000   24190.000000  24172.000000  24190.000000  24174.00000   \n",
       "mean       28.013205      28.226147     16.396359     16.233038     37.58565   \n",
       "std         2.516684       2.404484      3.691991      3.738233     10.61787   \n",
       "min         0.000000       0.000000      0.000000      0.000000      0.00000   \n",
       "25%        27.000000      27.000000     14.500000     14.000000     31.00000   \n",
       "50%        29.000000      29.000000     17.500000     17.000000     40.00000   \n",
       "75%        30.000000      30.000000     19.000000     19.000000     46.00000   \n",
       "max        30.000000      30.000000     20.000000     20.000000     94.00000   \n",
       "\n",
       "             FINAL2        TOTAL1        TOTAL2        D_MARK      NAT_MARK  \\\n",
       "count  24190.000000  24174.000000  24190.000000  24190.000000  24190.000000   \n",
       "mean      35.387970     82.145321     80.090492     81.366226     51.163878   \n",
       "std        8.338934     15.120198     12.775070     13.360015     10.752687   \n",
       "min        0.000000      0.000000      0.000000      0.000000      0.000000   \n",
       "25%       30.500000     73.000000     72.000000     73.000000     44.200000   \n",
       "50%       37.000000     86.000000     83.000000     84.000000     51.300000   \n",
       "75%       42.000000     94.000000     90.000000     92.000000     58.300000   \n",
       "max       94.000000    100.000000    100.000000    100.000000     90.000000   \n",
       "\n",
       "                GPA  \n",
       "count  24190.000000  \n",
       "mean      89.781241  \n",
       "std        6.986924  \n",
       "min        0.000000  \n",
       "25%       86.090909  \n",
       "50%       91.090909  \n",
       "75%       95.000000  \n",
       "max       99.818182  "
      ]
     },
     "execution_count": 136,
     "metadata": {},
     "output_type": "execute_result"
    }
   ],
   "source": [
    "df.iloc[:,1:].describe()"
   ]
  },
  {
   "cell_type": "code",
   "execution_count": 137,
   "metadata": {},
   "outputs": [
    {
     "data": {
      "text/plain": [
       "Index(['CPR_NO', 'SCH_NM', 'PROV_NM', 'SUBM', 'STUFF_SEX', 'ACHIEVEMENTS1',\n",
       "       'ACHIEVEMENTS2', 'MIDTERM1', 'MIDTERM2', 'FINAL1', 'FINAL2', 'TOTAL1',\n",
       "       'TOTAL2', 'D_MARK', 'NAT_MARK', 'GPA'],\n",
       "      dtype='object')"
      ]
     },
     "execution_count": 137,
     "metadata": {},
     "output_type": "execute_result"
    }
   ],
   "source": [
    "df.keys()"
   ]
  },
  {
   "cell_type": "code",
   "execution_count": 138,
   "metadata": {},
   "outputs": [],
   "source": [
    "#sns.pairplot(df,hue = 'PROV_NM',diag_kind = \"kde\",kind = \"scatter\",palette = \"husl\")\n"
   ]
  },
  {
   "cell_type": "code",
   "execution_count": 139,
   "metadata": {},
   "outputs": [
    {
     "data": {
      "text/plain": [
       "المحافظة الشمالية    8246\n",
       "المحافظة الجنوبية    5936\n",
       "محافظة المحرق        5046\n",
       "محافظة العاصمة       4962\n",
       "Name: PROV_NM, dtype: int64"
      ]
     },
     "execution_count": 139,
     "metadata": {},
     "output_type": "execute_result"
    }
   ],
   "source": [
    "df[\"PROV_NM\"].value_counts()"
   ]
  },
  {
   "cell_type": "code",
   "execution_count": 140,
   "metadata": {},
   "outputs": [
    {
     "data": {
      "text/plain": [
       "(array([0, 1, 2, 3]), <a list of 4 Text xticklabel objects>)"
      ]
     },
     "execution_count": 140,
     "metadata": {},
     "output_type": "execute_result"
    },
    {
     "data": {
      "image/png": "[encoded data removed]",
      "text/plain": [
       "<Figure size 720x360 with 1 Axes>"
      ]
     },
     "metadata": {
      "needs_background": "light"
     },
     "output_type": "display_data"
    }
   ],
   "source": [
    "plt.figure(figsize=(10,5))\n",
    "a= sns.stripplot(y = \"GPA\", x = \"PROV_NM\", data = df)\n",
    "plt.xticks(\n",
    "    rotation=45, \n",
    "    horizontalalignment='left',\n",
    "    fontweight='light',\n",
    "    fontsize='x-large'  \n",
    ")"
   ]
  },
  {
   "cell_type": "markdown",
   "metadata": {},
   "source": [
    "## for i in df.PROV_NM.unique():\n",
    "sns.distplot(df.D_MARK[df.PROV_NM==i],\n",
    "                 kde=1,label='{}'.format(i))\n",
    "\n",
    "plt.legend()"
   ]
  },
  {
   "cell_type": "code",
   "execution_count": 141,
   "metadata": {},
   "outputs": [
    {
     "data": {
      "text/plain": [
       "<matplotlib.legend.Legend at 0x127338da0>"
      ]
     },
     "execution_count": 141,
     "metadata": {},
     "output_type": "execute_result"
    },
    {
     "data": {
      "image/png": "[encoded data removed]",
      "text/plain": [
       "<Figure size 720x720 with 1 Axes>"
      ]
     },
     "metadata": {
      "needs_background": "light"
     },
     "output_type": "display_data"
    }
   ],
   "source": [
    "plt.figure(figsize=(10,10))\n",
    "for i in df.PROV_NM.unique():\n",
    "    sns.distplot(df.GPA[df.PROV_NM==i],\n",
    "                 kde=1,label='{}'.format(i))\n",
    "\n",
    "plt.legend()"
   ]
  },
  {
   "cell_type": "code",
   "execution_count": 141,
   "metadata": {},
   "outputs": [
    {
     "data": {
      "text/plain": [
       "<matplotlib.legend.Legend at 0x127338da0>"
      ]
     },
     "execution_count": 141,
     "metadata": {},
     "output_type": "execute_result"
    },
    {
     "data": {
      "image/png": "[encoded data removed]",
      "text/plain": [
       "<Figure size 720x720 with 1 Axes>"
      ]
     },
     "metadata": {
      "needs_background": "light"
     },
     "output_type": "display_data"
    }
   ],
   "source": [
    "df_exp= df.apply(np.log)\n",
    "plt.figure(figsize=(10,10))\n",
    "for i in df.PROV_NM.unique():\n",
    "    sns.distplot(df.GPA[df.PROV_NM==i],\n",
    "                 kde=1,label='{}'.format(i))\n",
    "\n",
    "plt.legend()"
   ]
  },
  {
   "cell_type": "markdown",
   "metadata": {},
   "source": [
    " plot 4. grpahs, each for A province.   draw average and the mean adn The mode .   observe their order and look if the mean is far less or more than the average.  \n",
    " if data was for a prduct to sale, we could say that those item are over or under priced\n",
    " "
   ]
  },
  {
   "cell_type": "code",
   "execution_count": 142,
   "metadata": {},
   "outputs": [
    {
     "name": "stderr",
     "output_type": "stream",
     "text": [
      "/Users/anaconda3/lib/python3.7/site-packages/scipy/stats/morestats.py:1660: UserWarning: p-value may not be accurate for N > 5000.\n",
      "  warnings.warn(\"p-value may not be accurate for N > 5000.\")\n",
      "/Users/anaconda3/lib/python3.7/site-packages/sklearn/preprocessing/data.py:625: DataConversionWarning: Data with input dtype int64, float64 were all converted to float64 by StandardScaler.\n",
      "  return self.partial_fit(X, y)\n",
      "/Users/anaconda3/lib/python3.7/site-packages/sklearn/base.py:462: DataConversionWarning: Data with input dtype int64, float64 were all converted to float64 by StandardScaler.\n",
      "  return self.fit(X, **fit_params).transform(X)\n"
     ]
    },
    {
     "ename": "ValueError",
     "evalue": "Shape of passed values is (24190, 11), indices imply (24190, 16)",
     "output_type": "error",
     "traceback": [
      "\u001b[0;31m---------------------------------------------------------------------------\u001b[0m",
      "\u001b[0;31mValueError\u001b[0m                                Traceback (most recent call last)",
      "\u001b[0;32m/Users/anaconda3/lib/python3.7/site-packages/pandas/core/internals/managers.py\u001b[0m in \u001b[0;36mcreate_block_manager_from_blocks\u001b[0;34m(blocks, axes)\u001b[0m\n\u001b[1;32m   1677\u001b[0m                 blocks = [\n\u001b[0;32m-> 1678\u001b[0;31m                     \u001b[0mmake_block\u001b[0m\u001b[0;34m(\u001b[0m\u001b[0mvalues\u001b[0m\u001b[0;34m=\u001b[0m\u001b[0mblocks\u001b[0m\u001b[0;34m[\u001b[0m\u001b[0;36m0\u001b[0m\u001b[0;34m]\u001b[0m\u001b[0;34m,\u001b[0m \u001b[0mplacement\u001b[0m\u001b[0;34m=\u001b[0m\u001b[0mslice\u001b[0m\u001b[0;34m(\u001b[0m\u001b[0;36m0\u001b[0m\u001b[0;34m,\u001b[0m \u001b[0mlen\u001b[0m\u001b[0;34m(\u001b[0m\u001b[0maxes\u001b[0m\u001b[0;34m[\u001b[0m\u001b[0;36m0\u001b[0m\u001b[0;34m]\u001b[0m\u001b[0;34m)\u001b[0m\u001b[0;34m)\u001b[0m\u001b[0;34m)\u001b[0m\u001b[0;34m\u001b[0m\u001b[0;34m\u001b[0m\u001b[0m\n\u001b[0m\u001b[1;32m   1679\u001b[0m                 ]\n",
      "\u001b[0;32m/Users/anaconda3/lib/python3.7/site-packages/pandas/core/internals/blocks.py\u001b[0m in \u001b[0;36mmake_block\u001b[0;34m(values, placement, klass, ndim, dtype, fastpath)\u001b[0m\n\u001b[1;32m   3283\u001b[0m \u001b[0;34m\u001b[0m\u001b[0m\n\u001b[0;32m-> 3284\u001b[0;31m     \u001b[0;32mreturn\u001b[0m \u001b[0mklass\u001b[0m\u001b[0;34m(\u001b[0m\u001b[0mvalues\u001b[0m\u001b[0;34m,\u001b[0m \u001b[0mndim\u001b[0m\u001b[0;34m=\u001b[0m\u001b[0mndim\u001b[0m\u001b[0;34m,\u001b[0m \u001b[0mplacement\u001b[0m\u001b[0;34m=\u001b[0m\u001b[0mplacement\u001b[0m\u001b[0;34m)\u001b[0m\u001b[0;34m\u001b[0m\u001b[0;34m\u001b[0m\u001b[0m\n\u001b[0m\u001b[1;32m   3285\u001b[0m \u001b[0;34m\u001b[0m\u001b[0m\n",
      "\u001b[0;32m/Users/anaconda3/lib/python3.7/site-packages/pandas/core/internals/blocks.py\u001b[0m in \u001b[0;36m__init__\u001b[0;34m(self, values, placement, ndim)\u001b[0m\n\u001b[1;32m    127\u001b[0m                 \u001b[0;34m\"Wrong number of items passed {val}, placement implies \"\u001b[0m\u001b[0;34m\u001b[0m\u001b[0;34m\u001b[0m\u001b[0m\n\u001b[0;32m--> 128\u001b[0;31m                 \u001b[0;34m\"{mgr}\"\u001b[0m\u001b[0;34m.\u001b[0m\u001b[0mformat\u001b[0m\u001b[0;34m(\u001b[0m\u001b[0mval\u001b[0m\u001b[0;34m=\u001b[0m\u001b[0mlen\u001b[0m\u001b[0;34m(\u001b[0m\u001b[0mself\u001b[0m\u001b[0;34m.\u001b[0m\u001b[0mvalues\u001b[0m\u001b[0;34m)\u001b[0m\u001b[0;34m,\u001b[0m \u001b[0mmgr\u001b[0m\u001b[0;34m=\u001b[0m\u001b[0mlen\u001b[0m\u001b[0;34m(\u001b[0m\u001b[0mself\u001b[0m\u001b[0;34m.\u001b[0m\u001b[0mmgr_locs\u001b[0m\u001b[0;34m)\u001b[0m\u001b[0;34m)\u001b[0m\u001b[0;34m\u001b[0m\u001b[0;34m\u001b[0m\u001b[0m\n\u001b[0m\u001b[1;32m    129\u001b[0m             )\n",
      "\u001b[0;31mValueError\u001b[0m: Wrong number of items passed 11, placement implies 16",
      "\nDuring handling of the above exception, another exception occurred:\n",
      "\u001b[0;31mValueError\u001b[0m                                Traceback (most recent call last)",
      "\u001b[0;32m<ipython-input-142-f1b6a8a92523>\u001b[0m in \u001b[0;36m<module>\u001b[0;34m\u001b[0m\n\u001b[1;32m      8\u001b[0m \u001b[0mscaled_Arry\u001b[0m\u001b[0;34m=\u001b[0m\u001b[0mstd_scaler\u001b[0m\u001b[0;34m.\u001b[0m\u001b[0mfit_transform\u001b[0m\u001b[0;34m(\u001b[0m\u001b[0mdf\u001b[0m\u001b[0;34m.\u001b[0m\u001b[0miloc\u001b[0m\u001b[0;34m[\u001b[0m\u001b[0;34m:\u001b[0m\u001b[0;34m,\u001b[0m\u001b[0;36m5\u001b[0m\u001b[0;34m:\u001b[0m\u001b[0;34m]\u001b[0m\u001b[0;34m)\u001b[0m\u001b[0;34m\u001b[0m\u001b[0;34m\u001b[0m\u001b[0m\n\u001b[1;32m      9\u001b[0m \u001b[0;34m\u001b[0m\u001b[0m\n\u001b[0;32m---> 10\u001b[0;31m \u001b[0mscaled_df\u001b[0m\u001b[0;34m=\u001b[0m\u001b[0mpd\u001b[0m\u001b[0;34m.\u001b[0m\u001b[0mDataFrame\u001b[0m\u001b[0;34m(\u001b[0m\u001b[0mscaled_Arry\u001b[0m\u001b[0;34m,\u001b[0m \u001b[0mcolumns\u001b[0m\u001b[0;34m=\u001b[0m\u001b[0mdf\u001b[0m\u001b[0;34m.\u001b[0m\u001b[0mcolumns\u001b[0m\u001b[0;34m)\u001b[0m\u001b[0;34m\u001b[0m\u001b[0;34m\u001b[0m\u001b[0m\n\u001b[0m\u001b[1;32m     11\u001b[0m \u001b[0;34m\u001b[0m\u001b[0m\n\u001b[1;32m     12\u001b[0m \u001b[0mscaled_df\u001b[0m\u001b[0;34m.\u001b[0m\u001b[0mhead\u001b[0m\u001b[0;34m(\u001b[0m\u001b[0;34m)\u001b[0m\u001b[0;34m\u001b[0m\u001b[0;34m\u001b[0m\u001b[0m\n",
      "\u001b[0;32m/Users/anaconda3/lib/python3.7/site-packages/pandas/core/frame.py\u001b[0m in \u001b[0;36m__init__\u001b[0;34m(self, data, index, columns, dtype, copy)\u001b[0m\n\u001b[1;32m    438\u001b[0m                 \u001b[0mmgr\u001b[0m \u001b[0;34m=\u001b[0m \u001b[0minit_dict\u001b[0m\u001b[0;34m(\u001b[0m\u001b[0;34m{\u001b[0m\u001b[0mdata\u001b[0m\u001b[0;34m.\u001b[0m\u001b[0mname\u001b[0m\u001b[0;34m:\u001b[0m \u001b[0mdata\u001b[0m\u001b[0;34m}\u001b[0m\u001b[0;34m,\u001b[0m \u001b[0mindex\u001b[0m\u001b[0;34m,\u001b[0m \u001b[0mcolumns\u001b[0m\u001b[0;34m,\u001b[0m \u001b[0mdtype\u001b[0m\u001b[0;34m=\u001b[0m\u001b[0mdtype\u001b[0m\u001b[0;34m)\u001b[0m\u001b[0;34m\u001b[0m\u001b[0;34m\u001b[0m\u001b[0m\n\u001b[1;32m    439\u001b[0m             \u001b[0;32melse\u001b[0m\u001b[0;34m:\u001b[0m\u001b[0;34m\u001b[0m\u001b[0;34m\u001b[0m\u001b[0m\n\u001b[0;32m--> 440\u001b[0;31m                 \u001b[0mmgr\u001b[0m \u001b[0;34m=\u001b[0m \u001b[0minit_ndarray\u001b[0m\u001b[0;34m(\u001b[0m\u001b[0mdata\u001b[0m\u001b[0;34m,\u001b[0m \u001b[0mindex\u001b[0m\u001b[0;34m,\u001b[0m \u001b[0mcolumns\u001b[0m\u001b[0;34m,\u001b[0m \u001b[0mdtype\u001b[0m\u001b[0;34m=\u001b[0m\u001b[0mdtype\u001b[0m\u001b[0;34m,\u001b[0m \u001b[0mcopy\u001b[0m\u001b[0;34m=\u001b[0m\u001b[0mcopy\u001b[0m\u001b[0;34m)\u001b[0m\u001b[0;34m\u001b[0m\u001b[0;34m\u001b[0m\u001b[0m\n\u001b[0m\u001b[1;32m    441\u001b[0m \u001b[0;34m\u001b[0m\u001b[0m\n\u001b[1;32m    442\u001b[0m         \u001b[0;31m# For data is list-like, or Iterable (will consume into list)\u001b[0m\u001b[0;34m\u001b[0m\u001b[0;34m\u001b[0m\u001b[0;34m\u001b[0m\u001b[0m\n",
      "\u001b[0;32m/Users/anaconda3/lib/python3.7/site-packages/pandas/core/internals/construction.py\u001b[0m in \u001b[0;36minit_ndarray\u001b[0;34m(values, index, columns, dtype, copy)\u001b[0m\n\u001b[1;32m    211\u001b[0m         \u001b[0mblock_values\u001b[0m \u001b[0;34m=\u001b[0m \u001b[0;34m[\u001b[0m\u001b[0mvalues\u001b[0m\u001b[0;34m]\u001b[0m\u001b[0;34m\u001b[0m\u001b[0;34m\u001b[0m\u001b[0m\n\u001b[1;32m    212\u001b[0m \u001b[0;34m\u001b[0m\u001b[0m\n\u001b[0;32m--> 213\u001b[0;31m     \u001b[0;32mreturn\u001b[0m \u001b[0mcreate_block_manager_from_blocks\u001b[0m\u001b[0;34m(\u001b[0m\u001b[0mblock_values\u001b[0m\u001b[0;34m,\u001b[0m \u001b[0;34m[\u001b[0m\u001b[0mcolumns\u001b[0m\u001b[0;34m,\u001b[0m \u001b[0mindex\u001b[0m\u001b[0;34m]\u001b[0m\u001b[0;34m)\u001b[0m\u001b[0;34m\u001b[0m\u001b[0;34m\u001b[0m\u001b[0m\n\u001b[0m\u001b[1;32m    214\u001b[0m \u001b[0;34m\u001b[0m\u001b[0m\n\u001b[1;32m    215\u001b[0m \u001b[0;34m\u001b[0m\u001b[0m\n",
      "\u001b[0;32m/Users/anaconda3/lib/python3.7/site-packages/pandas/core/internals/managers.py\u001b[0m in \u001b[0;36mcreate_block_manager_from_blocks\u001b[0;34m(blocks, axes)\u001b[0m\n\u001b[1;32m   1686\u001b[0m         \u001b[0mblocks\u001b[0m \u001b[0;34m=\u001b[0m \u001b[0;34m[\u001b[0m\u001b[0mgetattr\u001b[0m\u001b[0;34m(\u001b[0m\u001b[0mb\u001b[0m\u001b[0;34m,\u001b[0m \u001b[0;34m\"values\"\u001b[0m\u001b[0;34m,\u001b[0m \u001b[0mb\u001b[0m\u001b[0;34m)\u001b[0m \u001b[0;32mfor\u001b[0m \u001b[0mb\u001b[0m \u001b[0;32min\u001b[0m \u001b[0mblocks\u001b[0m\u001b[0;34m]\u001b[0m\u001b[0;34m\u001b[0m\u001b[0;34m\u001b[0m\u001b[0m\n\u001b[1;32m   1687\u001b[0m         \u001b[0mtot_items\u001b[0m \u001b[0;34m=\u001b[0m \u001b[0msum\u001b[0m\u001b[0;34m(\u001b[0m\u001b[0mb\u001b[0m\u001b[0;34m.\u001b[0m\u001b[0mshape\u001b[0m\u001b[0;34m[\u001b[0m\u001b[0;36m0\u001b[0m\u001b[0;34m]\u001b[0m \u001b[0;32mfor\u001b[0m \u001b[0mb\u001b[0m \u001b[0;32min\u001b[0m \u001b[0mblocks\u001b[0m\u001b[0;34m)\u001b[0m\u001b[0;34m\u001b[0m\u001b[0;34m\u001b[0m\u001b[0m\n\u001b[0;32m-> 1688\u001b[0;31m         \u001b[0mconstruction_error\u001b[0m\u001b[0;34m(\u001b[0m\u001b[0mtot_items\u001b[0m\u001b[0;34m,\u001b[0m \u001b[0mblocks\u001b[0m\u001b[0;34m[\u001b[0m\u001b[0;36m0\u001b[0m\u001b[0;34m]\u001b[0m\u001b[0;34m.\u001b[0m\u001b[0mshape\u001b[0m\u001b[0;34m[\u001b[0m\u001b[0;36m1\u001b[0m\u001b[0;34m:\u001b[0m\u001b[0;34m]\u001b[0m\u001b[0;34m,\u001b[0m \u001b[0maxes\u001b[0m\u001b[0;34m,\u001b[0m \u001b[0me\u001b[0m\u001b[0;34m)\u001b[0m\u001b[0;34m\u001b[0m\u001b[0;34m\u001b[0m\u001b[0m\n\u001b[0m\u001b[1;32m   1689\u001b[0m \u001b[0;34m\u001b[0m\u001b[0m\n\u001b[1;32m   1690\u001b[0m \u001b[0;34m\u001b[0m\u001b[0m\n",
      "\u001b[0;32m/Users/anaconda3/lib/python3.7/site-packages/pandas/core/internals/managers.py\u001b[0m in \u001b[0;36mconstruction_error\u001b[0;34m(tot_items, block_shape, axes, e)\u001b[0m\n\u001b[1;32m   1717\u001b[0m         \u001b[0;32mraise\u001b[0m \u001b[0mValueError\u001b[0m\u001b[0;34m(\u001b[0m\u001b[0;34m\"Empty data passed with indices specified.\"\u001b[0m\u001b[0;34m)\u001b[0m\u001b[0;34m\u001b[0m\u001b[0;34m\u001b[0m\u001b[0m\n\u001b[1;32m   1718\u001b[0m     raise ValueError(\n\u001b[0;32m-> 1719\u001b[0;31m         \u001b[0;34m\"Shape of passed values is {0}, indices imply {1}\"\u001b[0m\u001b[0;34m.\u001b[0m\u001b[0mformat\u001b[0m\u001b[0;34m(\u001b[0m\u001b[0mpassed\u001b[0m\u001b[0;34m,\u001b[0m \u001b[0mimplied\u001b[0m\u001b[0;34m)\u001b[0m\u001b[0;34m\u001b[0m\u001b[0;34m\u001b[0m\u001b[0m\n\u001b[0m\u001b[1;32m   1720\u001b[0m     )\n\u001b[1;32m   1721\u001b[0m \u001b[0;34m\u001b[0m\u001b[0m\n",
      "\u001b[0;31mValueError\u001b[0m: Shape of passed values is (24190, 11), indices imply (24190, 16)"
     ]
    }
   ],
   "source": [
    "from scipy.stats import shapiro\n",
    "\n",
    "shap_w, shap_p = shapiro(df['GPA'])\n",
    "shap_p\n",
    "\n",
    "std_scaler=StandardScaler(copy=True, with_mean=True, with_std=True)\n",
    "\n",
    "scaled_Arry=std_scaler.fit_transform(df.iloc[:,5:])\n",
    "\n",
    "scaled_df=pd.DataFrame(scaled_Arry, columns=df.columns)\n",
    "\n",
    "scaled_df.head()"
   ]
  },
  {
   "cell_type": "code",
   "execution_count": 143,
   "metadata": {},
   "outputs": [
    {
     "ename": "NameError",
     "evalue": "name 'scaled_df' is not defined",
     "output_type": "error",
     "traceback": [
      "\u001b[0;31m---------------------------------------------------------------------------\u001b[0m",
      "\u001b[0;31mNameError\u001b[0m                                 Traceback (most recent call last)",
      "\u001b[0;32m<ipython-input-143-a98346ba9022>\u001b[0m in \u001b[0;36m<module>\u001b[0;34m\u001b[0m\n\u001b[0;32m----> 1\u001b[0;31m \u001b[0mscaled_df\u001b[0m\u001b[0;34m.\u001b[0m\u001b[0mhead\u001b[0m\u001b[0;34m(\u001b[0m\u001b[0;34m)\u001b[0m\u001b[0;34m\u001b[0m\u001b[0;34m\u001b[0m\u001b[0m\n\u001b[0m",
      "\u001b[0;31mNameError\u001b[0m: name 'scaled_df' is not defined"
     ]
    }
   ],
   "source": [
    "scaled_df.head()"
   ]
  },
  {
   "cell_type": "code",
   "execution_count": 145,
   "metadata": {},
   "outputs": [
    {
     "data": {
      "text/plain": [
       "<matplotlib.axes._subplots.AxesSubplot at 0x12a778dd8>"
      ]
     },
     "execution_count": 145,
     "metadata": {},
     "output_type": "execute_result"
    },
    {
     "data": {
      "image/png": "[encoded data removed]",
      "text/plain": [
       "<Figure size 720x576 with 1 Axes>"
      ]
     },
     "metadata": {
      "needs_background": "light"
     },
     "output_type": "display_data"
    }
   ],
   "source": [
    "fig, ax=plt.subplots(figsize=(10,8))\n",
    "sns.boxplot(df[\"GPA\"], df.SUBM, data=df)"
   ]
  },
  {
   "cell_type": "code",
   "execution_count": 146,
   "metadata": {},
   "outputs": [
    {
     "data": {
      "image/png": "[encoded data removed]",
      "text/plain": [
       "<Figure size 501.375x360 with 1 Axes>"
      ]
     },
     "metadata": {
      "needs_background": "light"
     },
     "output_type": "display_data"
    }
   ],
   "source": [
    "sns.relplot(x=\"ACHIEVEMENTS1\", y=\"ACHIEVEMENTS2\", data=df, hue=\"PROV_NM\")\n",
    "plt.show()"
   ]
  },
  {
   "cell_type": "code",
   "execution_count": null,
   "metadata": {},
   "outputs": [],
   "source": []
  },
  {
   "cell_type": "code",
   "execution_count": null,
   "metadata": {},
   "outputs": [],
   "source": []
  },
  {
   "cell_type": "code",
   "execution_count": 116,
   "metadata": {},
   "outputs": [
    {
     "data": {
      "text/plain": [
       "<seaborn.axisgrid.FacetGrid at 0x126f82c88>"
      ]
     },
     "execution_count": 116,
     "metadata": {},
     "output_type": "execute_result"
    },
    {
     "data": {
      "image/png": "[encoded data removed]",
      "text/plain": [
       "<Figure size 360x360 with 1 Axes>"
      ]
     },
     "metadata": {
      "needs_background": "light"
     },
     "output_type": "display_data"
    }
   ],
   "source": [
    "# tracking correlatin between both Achievements\n",
    "sns.relplot(x=\"ACHIEVEMENTS1\", y=\"ACHIEVEMENTS2\", data=df)"
   ]
  },
  {
   "cell_type": "code",
   "execution_count": 67,
   "metadata": {},
   "outputs": [
    {
     "data": {
      "text/plain": [
       "<seaborn.axisgrid.FacetGrid at 0x124c0bef0>"
      ]
     },
     "execution_count": 67,
     "metadata": {},
     "output_type": "execute_result"
    },
    {
     "data": {
      "image/png": "[encoded data removed]",
      "text/plain": [
       "<Figure size 451.5x360 with 1 Axes>"
      ]
     },
     "metadata": {
      "needs_background": "light"
     },
     "output_type": "display_data"
    }
   ],
   "source": [
    "sns.relplot(x=\"ACHIEVEMENTS1\", y=\"ACHIEVEMENTS2\", data=df, hue=\"STUFF_SEX\")"
   ]
  },
  {
   "cell_type": "code",
   "execution_count": 76,
   "metadata": {},
   "outputs": [
    {
     "data": {
      "text/plain": [
       "18"
      ]
     },
     "execution_count": 76,
     "metadata": {},
     "output_type": "execute_result"
    }
   ],
   "source": [
    "df[\"ACHIEVEMENTS1\"].isnull().sum()"
   ]
  },
  {
   "cell_type": "code",
   "execution_count": 74,
   "metadata": {},
   "outputs": [
    {
     "data": {
      "text/plain": [
       "CPR_NO        0\n",
       "SCH_NM        0\n",
       "PROV_NM       0\n",
       "SUBM          0\n",
       "STUFF_SEX     0\n",
       "             ..\n",
       "TOTAL1       16\n",
       "TOTAL2        0\n",
       "D_MARK        0\n",
       "NAT_MARK      0\n",
       "GPA           0\n",
       "Length: 16, dtype: int64"
      ]
     },
     "execution_count": 74,
     "metadata": {},
     "output_type": "execute_result"
    }
   ],
   "source": [
    "df.isnull().sum()"
   ]
  },
  {
   "cell_type": "code",
   "execution_count": 68,
   "metadata": {},
   "outputs": [],
   "source": [
    "# df = pd.DataFrame({\"name\": ['Alfred', 'Batman', 'Catwoman'],\n",
    "#                    \"toy\": [np.nan, 'Batmobile', 'Bullwhip'],\n",
    "#                    \"born\": [pd.NaT, pd.Timestamp(\"1940-04-25\"),\n",
    "#                             pd.NaT]})\n",
    "# print(df)\n",
    "# df.dropna()"
   ]
  },
  {
   "cell_type": "code",
   "execution_count": null,
   "metadata": {},
   "outputs": [],
   "source": []
  },
  {
   "cell_type": "code",
   "execution_count": 33,
   "metadata": {},
   "outputs": [],
   "source": [
    "\n",
    "for i in df:\n",
    "    sum(pd.isnull(df[i]))"
   ]
  },
  {
   "cell_type": "code",
   "execution_count": 34,
   "metadata": {},
   "outputs": [
    {
     "name": "stdout",
     "output_type": "stream",
     "text": [
      "5.73 ms ± 797 µs per loop (mean ± std. dev. of 7 runs, 100 loops each)\n"
     ]
    }
   ],
   "source": [
    " %%timeit\n",
    " df.isnull().any().any()"
   ]
  },
  {
   "cell_type": "code",
   "execution_count": 69,
   "metadata": {},
   "outputs": [
    {
     "data": {
      "text/plain": [
       "(24190, 16)"
      ]
     },
     "execution_count": 69,
     "metadata": {},
     "output_type": "execute_result"
    }
   ],
   "source": [
    "df.shape"
   ]
  },
  {
   "cell_type": "code",
   "execution_count": 70,
   "metadata": {},
   "outputs": [
    {
     "data": {
      "text/html": [
       "<div>\n",
       "<style scoped>\n",
       "    .dataframe tbody tr th:only-of-type {\n",
       "        vertical-align: middle;\n",
       "    }\n",
       "\n",
       "    .dataframe tbody tr th {\n",
       "        vertical-align: top;\n",
       "    }\n",
       "\n",
       "    .dataframe thead th {\n",
       "        text-align: right;\n",
       "    }\n",
       "</style>\n",
       "<table border=\"1\" class=\"dataframe\">\n",
       "  <thead>\n",
       "    <tr style=\"text-align: right;\">\n",
       "      <th></th>\n",
       "      <th>CPR_NO</th>\n",
       "      <th>SCH_NM</th>\n",
       "      <th>PROV_NM</th>\n",
       "      <th>SUBM</th>\n",
       "      <th>STUFF_SEX</th>\n",
       "      <th>ACHIEVEMENTS1</th>\n",
       "      <th>ACHIEVEMENTS2</th>\n",
       "      <th>MIDTERM1</th>\n",
       "      <th>MIDTERM2</th>\n",
       "      <th>FINAL1</th>\n",
       "      <th>FINAL2</th>\n",
       "      <th>TOTAL1</th>\n",
       "      <th>TOTAL2</th>\n",
       "      <th>D_MARK</th>\n",
       "      <th>NAT_MARK</th>\n",
       "      <th>GPA</th>\n",
       "    </tr>\n",
       "  </thead>\n",
       "  <tbody>\n",
       "    <tr>\n",
       "      <th>0</th>\n",
       "      <td>70913390</td>\n",
       "      <td>المعهد الديني الجعفري</td>\n",
       "      <td>محافظة العاصمة</td>\n",
       "      <td>العلوم</td>\n",
       "      <td>مدرسين</td>\n",
       "      <td>28.0</td>\n",
       "      <td>30.0</td>\n",
       "      <td>17.0</td>\n",
       "      <td>17.0</td>\n",
       "      <td>45.0</td>\n",
       "      <td>33.0</td>\n",
       "      <td>90.0</td>\n",
       "      <td>80</td>\n",
       "      <td>85</td>\n",
       "      <td>53.7</td>\n",
       "      <td>92.900000</td>\n",
       "    </tr>\n",
       "    <tr>\n",
       "      <th>1</th>\n",
       "      <td>71105956</td>\n",
       "      <td>المعهد الديني الجعفري</td>\n",
       "      <td>محافظة العاصمة</td>\n",
       "      <td>العلوم</td>\n",
       "      <td>مدرسين</td>\n",
       "      <td>27.0</td>\n",
       "      <td>29.0</td>\n",
       "      <td>14.0</td>\n",
       "      <td>16.0</td>\n",
       "      <td>41.5</td>\n",
       "      <td>37.0</td>\n",
       "      <td>83.0</td>\n",
       "      <td>82</td>\n",
       "      <td>83</td>\n",
       "      <td>49.7</td>\n",
       "      <td>89.500000</td>\n",
       "    </tr>\n",
       "    <tr>\n",
       "      <th>2</th>\n",
       "      <td>70712190</td>\n",
       "      <td>المعهد الديني الجعفري</td>\n",
       "      <td>محافظة العاصمة</td>\n",
       "      <td>العلوم</td>\n",
       "      <td>مدرسين</td>\n",
       "      <td>27.0</td>\n",
       "      <td>27.0</td>\n",
       "      <td>13.0</td>\n",
       "      <td>15.0</td>\n",
       "      <td>27.5</td>\n",
       "      <td>37.0</td>\n",
       "      <td>68.0</td>\n",
       "      <td>79</td>\n",
       "      <td>74</td>\n",
       "      <td>52.1</td>\n",
       "      <td>86.200000</td>\n",
       "    </tr>\n",
       "    <tr>\n",
       "      <th>3</th>\n",
       "      <td>70207496</td>\n",
       "      <td>المعهد الديني الجعفري</td>\n",
       "      <td>محافظة العاصمة</td>\n",
       "      <td>العلوم</td>\n",
       "      <td>مدرسين</td>\n",
       "      <td>26.0</td>\n",
       "      <td>24.5</td>\n",
       "      <td>15.0</td>\n",
       "      <td>12.0</td>\n",
       "      <td>44.0</td>\n",
       "      <td>32.5</td>\n",
       "      <td>85.0</td>\n",
       "      <td>69</td>\n",
       "      <td>77</td>\n",
       "      <td>52.9</td>\n",
       "      <td>89.900000</td>\n",
       "    </tr>\n",
       "    <tr>\n",
       "      <th>4</th>\n",
       "      <td>70507953</td>\n",
       "      <td>المعهد الديني الجعفري</td>\n",
       "      <td>محافظة العاصمة</td>\n",
       "      <td>العلوم</td>\n",
       "      <td>مدرسين</td>\n",
       "      <td>25.0</td>\n",
       "      <td>28.0</td>\n",
       "      <td>14.0</td>\n",
       "      <td>15.0</td>\n",
       "      <td>31.5</td>\n",
       "      <td>37.0</td>\n",
       "      <td>71.0</td>\n",
       "      <td>80</td>\n",
       "      <td>76</td>\n",
       "      <td>52.1</td>\n",
       "      <td>86.200000</td>\n",
       "    </tr>\n",
       "    <tr>\n",
       "      <th>...</th>\n",
       "      <td>...</td>\n",
       "      <td>...</td>\n",
       "      <td>...</td>\n",
       "      <td>...</td>\n",
       "      <td>...</td>\n",
       "      <td>...</td>\n",
       "      <td>...</td>\n",
       "      <td>...</td>\n",
       "      <td>...</td>\n",
       "      <td>...</td>\n",
       "      <td>...</td>\n",
       "      <td>...</td>\n",
       "      <td>...</td>\n",
       "      <td>...</td>\n",
       "      <td>...</td>\n",
       "      <td>...</td>\n",
       "    </tr>\n",
       "    <tr>\n",
       "      <th>24185</th>\n",
       "      <td>70304602</td>\n",
       "      <td>مدرسة وادي السيل الابتدائية الاعدادية للبنين</td>\n",
       "      <td>المحافظة الجنوبية</td>\n",
       "      <td>الرياضيات</td>\n",
       "      <td>مدرسين</td>\n",
       "      <td>30.0</td>\n",
       "      <td>28.0</td>\n",
       "      <td>20.0</td>\n",
       "      <td>18.0</td>\n",
       "      <td>47.0</td>\n",
       "      <td>42.0</td>\n",
       "      <td>97.0</td>\n",
       "      <td>88</td>\n",
       "      <td>93</td>\n",
       "      <td>61.9</td>\n",
       "      <td>94.636364</td>\n",
       "    </tr>\n",
       "    <tr>\n",
       "      <th>24186</th>\n",
       "      <td>71007423</td>\n",
       "      <td>مدرسة وادي السيل الابتدائية الاعدادية للبنين</td>\n",
       "      <td>المحافظة الجنوبية</td>\n",
       "      <td>الرياضيات</td>\n",
       "      <td>مدرسين</td>\n",
       "      <td>30.0</td>\n",
       "      <td>25.0</td>\n",
       "      <td>17.0</td>\n",
       "      <td>15.0</td>\n",
       "      <td>17.0</td>\n",
       "      <td>14.5</td>\n",
       "      <td>64.0</td>\n",
       "      <td>55</td>\n",
       "      <td>60</td>\n",
       "      <td>44.5</td>\n",
       "      <td>85.181818</td>\n",
       "    </tr>\n",
       "    <tr>\n",
       "      <th>24187</th>\n",
       "      <td>70402183</td>\n",
       "      <td>مدرسة وادي السيل الابتدائية الاعدادية للبنين</td>\n",
       "      <td>المحافظة الجنوبية</td>\n",
       "      <td>الرياضيات</td>\n",
       "      <td>مدرسين</td>\n",
       "      <td>26.0</td>\n",
       "      <td>27.0</td>\n",
       "      <td>12.0</td>\n",
       "      <td>17.0</td>\n",
       "      <td>24.0</td>\n",
       "      <td>22.0</td>\n",
       "      <td>62.0</td>\n",
       "      <td>66</td>\n",
       "      <td>64</td>\n",
       "      <td>44.5</td>\n",
       "      <td>82.727273</td>\n",
       "    </tr>\n",
       "    <tr>\n",
       "      <th>24188</th>\n",
       "      <td>70803196</td>\n",
       "      <td>مدرسة وادي السيل الابتدائية الاعدادية للبنين</td>\n",
       "      <td>المحافظة الجنوبية</td>\n",
       "      <td>الرياضيات</td>\n",
       "      <td>مدرسين</td>\n",
       "      <td>28.0</td>\n",
       "      <td>28.0</td>\n",
       "      <td>18.0</td>\n",
       "      <td>18.0</td>\n",
       "      <td>37.0</td>\n",
       "      <td>23.5</td>\n",
       "      <td>83.0</td>\n",
       "      <td>70</td>\n",
       "      <td>77</td>\n",
       "      <td>46.3</td>\n",
       "      <td>89.181818</td>\n",
       "    </tr>\n",
       "    <tr>\n",
       "      <th>24189</th>\n",
       "      <td>70211361</td>\n",
       "      <td>مدرسة وادي السيل الابتدائية الاعدادية للبنين</td>\n",
       "      <td>المحافظة الجنوبية</td>\n",
       "      <td>الرياضيات</td>\n",
       "      <td>مدرسين</td>\n",
       "      <td>29.0</td>\n",
       "      <td>27.0</td>\n",
       "      <td>14.0</td>\n",
       "      <td>16.0</td>\n",
       "      <td>16.0</td>\n",
       "      <td>19.5</td>\n",
       "      <td>59.0</td>\n",
       "      <td>63</td>\n",
       "      <td>61</td>\n",
       "      <td>39.0</td>\n",
       "      <td>81.818182</td>\n",
       "    </tr>\n",
       "  </tbody>\n",
       "</table>\n",
       "<p>24172 rows × 16 columns</p>\n",
       "</div>"
      ],
      "text/plain": [
       "         CPR_NO                                        SCH_NM  \\\n",
       "0      70913390                         المعهد الديني الجعفري   \n",
       "1      71105956                         المعهد الديني الجعفري   \n",
       "2      70712190                         المعهد الديني الجعفري   \n",
       "3      70207496                         المعهد الديني الجعفري   \n",
       "4      70507953                         المعهد الديني الجعفري   \n",
       "...         ...                                           ...   \n",
       "24185  70304602  مدرسة وادي السيل الابتدائية الاعدادية للبنين   \n",
       "24186  71007423  مدرسة وادي السيل الابتدائية الاعدادية للبنين   \n",
       "24187  70402183  مدرسة وادي السيل الابتدائية الاعدادية للبنين   \n",
       "24188  70803196  مدرسة وادي السيل الابتدائية الاعدادية للبنين   \n",
       "24189  70211361  مدرسة وادي السيل الابتدائية الاعدادية للبنين   \n",
       "\n",
       "                 PROV_NM       SUBM STUFF_SEX  ACHIEVEMENTS1  ACHIEVEMENTS2  \\\n",
       "0         محافظة العاصمة     العلوم    مدرسين           28.0           30.0   \n",
       "1         محافظة العاصمة     العلوم    مدرسين           27.0           29.0   \n",
       "2         محافظة العاصمة     العلوم    مدرسين           27.0           27.0   \n",
       "3         محافظة العاصمة     العلوم    مدرسين           26.0           24.5   \n",
       "4         محافظة العاصمة     العلوم    مدرسين           25.0           28.0   \n",
       "...                  ...        ...       ...            ...            ...   \n",
       "24185  المحافظة الجنوبية  الرياضيات    مدرسين           30.0           28.0   \n",
       "24186  المحافظة الجنوبية  الرياضيات    مدرسين           30.0           25.0   \n",
       "24187  المحافظة الجنوبية  الرياضيات    مدرسين           26.0           27.0   \n",
       "24188  المحافظة الجنوبية  الرياضيات    مدرسين           28.0           28.0   \n",
       "24189  المحافظة الجنوبية  الرياضيات    مدرسين           29.0           27.0   \n",
       "\n",
       "       MIDTERM1  MIDTERM2  FINAL1  FINAL2  TOTAL1  TOTAL2  D_MARK  NAT_MARK  \\\n",
       "0          17.0      17.0    45.0    33.0    90.0      80      85      53.7   \n",
       "1          14.0      16.0    41.5    37.0    83.0      82      83      49.7   \n",
       "2          13.0      15.0    27.5    37.0    68.0      79      74      52.1   \n",
       "3          15.0      12.0    44.0    32.5    85.0      69      77      52.9   \n",
       "4          14.0      15.0    31.5    37.0    71.0      80      76      52.1   \n",
       "...         ...       ...     ...     ...     ...     ...     ...       ...   \n",
       "24185      20.0      18.0    47.0    42.0    97.0      88      93      61.9   \n",
       "24186      17.0      15.0    17.0    14.5    64.0      55      60      44.5   \n",
       "24187      12.0      17.0    24.0    22.0    62.0      66      64      44.5   \n",
       "24188      18.0      18.0    37.0    23.5    83.0      70      77      46.3   \n",
       "24189      14.0      16.0    16.0    19.5    59.0      63      61      39.0   \n",
       "\n",
       "             GPA  \n",
       "0      92.900000  \n",
       "1      89.500000  \n",
       "2      86.200000  \n",
       "3      89.900000  \n",
       "4      86.200000  \n",
       "...          ...  \n",
       "24185  94.636364  \n",
       "24186  85.181818  \n",
       "24187  82.727273  \n",
       "24188  89.181818  \n",
       "24189  81.818182  \n",
       "\n",
       "[24172 rows x 16 columns]"
      ]
     },
     "execution_count": 70,
     "metadata": {},
     "output_type": "execute_result"
    }
   ],
   "source": [
    "df.dropna()"
   ]
  },
  {
   "cell_type": "code",
   "execution_count": 72,
   "metadata": {},
   "outputs": [
    {
     "data": {
      "text/plain": [
       "(24190, 16)"
      ]
     },
     "execution_count": 72,
     "metadata": {},
     "output_type": "execute_result"
    }
   ],
   "source": [
    "df.shape"
   ]
  },
  {
   "cell_type": "code",
   "execution_count": 100,
   "metadata": {},
   "outputs": [
    {
     "data": {
      "text/plain": [
       "0"
      ]
     },
     "execution_count": 100,
     "metadata": {},
     "output_type": "execute_result"
    }
   ],
   "source": [
    "df=df.dropna()\n",
    "\n",
    "df[df.isnull().any(axis=1)]\n",
    "\n",
    "df.isnull().sum(axis=0)\n",
    "\n",
    "df.ACHIEVEMENTS1.isnull().sum()"
   ]
  },
  {
   "cell_type": "code",
   "execution_count": 102,
   "metadata": {},
   "outputs": [
    {
     "data": {
      "image/png": "[encoded data removed]",
      "text/plain": [
       "<Figure size 432x288 with 1 Axes>"
      ]
     },
     "metadata": {
      "needs_background": "light"
     },
     "output_type": "display_data"
    }
   ],
   "source": [
    "\n",
    "sns.distplot(df[\"ACHIEVEMENTS1\"], kde=False, bins=50)\n",
    "sns.distplot(df[\"ACHIEVEMENTS2\"], kde=False, bins=50)\n",
    "\n",
    "plt.show()\n",
    "# it looks like a copy and Paste game. \n",
    "# change bins from 20 to 50 to even more and lok at the trend which is wierdrly copied"
   ]
  },
  {
   "cell_type": "code",
   "execution_count": 165,
   "metadata": {},
   "outputs": [
    {
     "data": {
      "text/plain": [
       "24190"
      ]
     },
     "execution_count": 165,
     "metadata": {},
     "output_type": "execute_result"
    }
   ],
   "source": [
    "df.SUBM.count()"
   ]
  },
  {
   "cell_type": "code",
   "execution_count": 170,
   "metadata": {},
   "outputs": [
    {
     "data": {
      "text/plain": [
       "SUBM\n",
       "الرياضيات    12095\n",
       "العلوم       12095\n",
       "dtype: int64"
      ]
     },
     "execution_count": 170,
     "metadata": {},
     "output_type": "execute_result"
    }
   ],
   "source": [
    "df.groupby('SUBM').size()"
   ]
  },
  {
   "cell_type": "code",
   "execution_count": 175,
   "metadata": {},
   "outputs": [
    {
     "data": {
      "text/plain": [
       "SUBM       STUFF_SEX\n",
       "الرياضيات  مدرسات       6136\n",
       "           مدرسين       5959\n",
       "العلوم     مدرسات       6136\n",
       "           مدرسين       5959\n",
       "dtype: int64"
      ]
     },
     "execution_count": 175,
     "metadata": {},
     "output_type": "execute_result"
    }
   ],
   "source": [
    "df.groupby([\"SUBM\", \"STUFF_SEX\"]).size()"
   ]
  },
  {
   "cell_type": "code",
   "execution_count": null,
   "metadata": {},
   "outputs": [],
   "source": []
  },
  {
   "cell_type": "code",
   "execution_count": 158,
   "metadata": {},
   "outputs": [
    {
     "data": {
      "image/png": "[encoded data removed]",
      "text/plain": [
       "<Figure size 432x288 with 1 Axes>"
      ]
     },
     "metadata": {
      "needs_background": "light"
     },
     "output_type": "display_data"
    }
   ],
   "source": [
    "#fig, ax = plt.subplots(1,2)\n",
    "sns.distplot(df[df.SUBM==\"الرياضيات\"], \"ACHIEVEMENTS1\"]], kde=False, bins=50)\n",
    "#sns.distplot(df[\"ACHIEVEMENTS2\"], kde=False, bins=50)\n",
    "plt.show()\n",
    "# it looks like a copy and Paste game. \n",
    "# change bins from 20 to 50 to even more and lok at the trend which is wierdrly copied"
   ]
  },
  {
   "cell_type": "markdown",
   "metadata": {},
   "source": [
    "## let look how many student got the same Marks in both Achievement test 1 and 2 \n",
    "\n",
    "## look at the variation of both tests for each student  and plot the graph \n",
    "  - graph by different Provinces, teachers_gender, student gender maybe \n",
    "\n",
    "## determine the Std for both previous tests and graph \n",
    "\n",
    "\n",
    "\n"
   ]
  },
  {
   "cell_type": "code",
   "execution_count": null,
   "metadata": {},
   "outputs": [],
   "source": []
  },
  {
   "cell_type": "code",
   "execution_count": null,
   "metadata": {},
   "outputs": [],
   "source": []
  },
  {
   "cell_type": "code",
   "execution_count": null,
   "metadata": {},
   "outputs": [],
   "source": []
  },
  {
   "cell_type": "code",
   "execution_count": null,
   "metadata": {},
   "outputs": [],
   "source": []
  },
  {
   "cell_type": "code",
   "execution_count": null,
   "metadata": {},
   "outputs": [],
   "source": []
  },
  {
   "cell_type": "code",
   "execution_count": null,
   "metadata": {},
   "outputs": [],
   "source": []
  },
  {
   "cell_type": "code",
   "execution_count": null,
   "metadata": {},
   "outputs": [],
   "source": []
  },
  {
   "cell_type": "code",
   "execution_count": null,
   "metadata": {},
   "outputs": [],
   "source": []
  },
  {
   "cell_type": "code",
   "execution_count": null,
   "metadata": {},
   "outputs": [],
   "source": []
  },
  {
   "cell_type": "code",
   "execution_count": null,
   "metadata": {},
   "outputs": [],
   "source": []
  },
  {
   "cell_type": "code",
   "execution_count": 15,
   "metadata": {},
   "outputs": [
    {
     "data": {
      "text/plain": [
       "0    1.0\n",
       "1    2.0\n",
       "2    3.0\n",
       "3    NaN\n",
       "4    5.0\n",
       "dtype: float64"
      ]
     },
     "execution_count": 15,
     "metadata": {},
     "output_type": "execute_result"
    }
   ],
   "source": [
    "s = pd.Series([1,2,3, np.nan, 5])\n",
    "s"
   ]
  },
  {
   "cell_type": "code",
   "execution_count": 16,
   "metadata": {},
   "outputs": [
    {
     "data": {
      "text/plain": [
       "(5.0    1\n",
       " 3.0    1\n",
       " 2.0    1\n",
       " 1.0    1\n",
       " dtype: int64, 5.0    1\n",
       " NaN    1\n",
       " 3.0    1\n",
       " 2.0    1\n",
       " 1.0    1\n",
       " dtype: int64)"
      ]
     },
     "execution_count": 16,
     "metadata": {},
     "output_type": "execute_result"
    }
   ],
   "source": [
    "\n",
    "s.value_counts(), s.value_counts(dropna = False)"
   ]
  },
  {
   "cell_type": "code",
   "execution_count": 26,
   "metadata": {},
   "outputs": [
    {
     "data": {
      "text/plain": [
       "30.0    7491\n",
       "29.0    3602\n",
       "28.0    2910\n",
       "27.0    2163\n",
       "29.5    1542\n",
       "        ... \n",
       "9.6        1\n",
       "21.8       1\n",
       "20.6       1\n",
       "15.2       1\n",
       "15.9       1\n",
       "Name: ACHIEVEMENTS1, Length: 129, dtype: int64"
      ]
     },
     "execution_count": 26,
     "metadata": {},
     "output_type": "execute_result"
    }
   ],
   "source": [
    "df['ACHIEVEMENTS1'].value_counts(dropna=False)"
   ]
  },
  {
   "cell_type": "code",
   "execution_count": 30,
   "metadata": {},
   "outputs": [
    {
     "data": {
      "text/plain": [
       "(24.0, 30.0]     22457\n",
       "(18.0, 24.0]      1553\n",
       "(12.0, 18.0]       117\n",
       "(-0.031, 6.0]       32\n",
       "(6.0, 12.0]         13\n",
       "Name: ACHIEVEMENTS1, dtype: int64"
      ]
     },
     "execution_count": 30,
     "metadata": {},
     "output_type": "execute_result"
    }
   ],
   "source": [
    "df['ACHIEVEMENTS1'].value_counts(dropna=False, bins=5)"
   ]
  },
  {
   "cell_type": "code",
   "execution_count": 18,
   "metadata": {},
   "outputs": [
    {
     "data": {
      "text/plain": [
       "50.0    1652\n",
       "49.0    1077\n",
       "48.0     934\n",
       "40.0     885\n",
       "47.0     863\n",
       "Name: FINAL1, dtype: int64"
      ]
     },
     "execution_count": 18,
     "metadata": {},
     "output_type": "execute_result"
    }
   ],
   "source": [
    "df.FINAL1.value_counts(dropna=False).head()"
   ]
  },
  {
   "cell_type": "code",
   "execution_count": 22,
   "metadata": {},
   "outputs": [
    {
     "data": {
      "text/plain": [
       "CPR_NO        0\n",
       "SCH_NM        0\n",
       "PROV_NM       0\n",
       "SUBM          0\n",
       "STUFF_SEX     0\n",
       "             ..\n",
       "TOTAL1       16\n",
       "TOTAL2        0\n",
       "D_MARK        0\n",
       "NAT_MARK      0\n",
       "GPA           0\n",
       "Length: 16, dtype: int64"
      ]
     },
     "execution_count": 22,
     "metadata": {},
     "output_type": "execute_result"
    }
   ],
   "source": [
    "df.isnull().sum()"
   ]
  },
  {
   "cell_type": "code",
   "execution_count": 25,
   "metadata": {},
   "outputs": [
    {
     "data": {
      "text/plain": [
       "30.0    0.309904\n",
       "29.0    0.149015\n",
       "28.0    0.120387\n",
       "27.0    0.089484\n",
       "29.5    0.063793\n",
       "          ...   \n",
       "14.3    0.000041\n",
       "9.6     0.000041\n",
       "20.6    0.000041\n",
       "23.2    0.000041\n",
       "15.9    0.000041\n",
       "Name: ACHIEVEMENTS1, Length: 128, dtype: float64"
      ]
     },
     "execution_count": 25,
     "metadata": {},
     "output_type": "execute_result"
    }
   ],
   "source": [
    "df.ACHIEVEMENTS1.value_counts(normalize=True)"
   ]
  },
  {
   "cell_type": "code",
   "execution_count": null,
   "metadata": {},
   "outputs": [],
   "source": []
  },
  {
   "cell_type": "code",
   "execution_count": 51,
   "metadata": {},
   "outputs": [
    {
     "data": {
      "text/html": [
       "<div>\n",
       "<style scoped>\n",
       "    .dataframe tbody tr th:only-of-type {\n",
       "        vertical-align: middle;\n",
       "    }\n",
       "\n",
       "    .dataframe tbody tr th {\n",
       "        vertical-align: top;\n",
       "    }\n",
       "\n",
       "    .dataframe thead th {\n",
       "        text-align: right;\n",
       "    }\n",
       "</style>\n",
       "<table border=\"1\" class=\"dataframe\">\n",
       "  <thead>\n",
       "    <tr style=\"text-align: right;\">\n",
       "      <th></th>\n",
       "      <th>SCH_NM</th>\n",
       "      <th>PROV_NM</th>\n",
       "      <th>SUBM</th>\n",
       "      <th>STUFF_SEX</th>\n",
       "    </tr>\n",
       "  </thead>\n",
       "  <tbody>\n",
       "    <tr>\n",
       "      <th>0</th>\n",
       "      <td>المعهد الديني الجعفري</td>\n",
       "      <td>محافظة العاصمة</td>\n",
       "      <td>العلوم</td>\n",
       "      <td>مدرسين</td>\n",
       "    </tr>\n",
       "    <tr>\n",
       "      <th>1</th>\n",
       "      <td>المعهد الديني الجعفري</td>\n",
       "      <td>محافظة العاصمة</td>\n",
       "      <td>العلوم</td>\n",
       "      <td>مدرسين</td>\n",
       "    </tr>\n",
       "    <tr>\n",
       "      <th>2</th>\n",
       "      <td>المعهد الديني الجعفري</td>\n",
       "      <td>محافظة العاصمة</td>\n",
       "      <td>العلوم</td>\n",
       "      <td>مدرسين</td>\n",
       "    </tr>\n",
       "    <tr>\n",
       "      <th>3</th>\n",
       "      <td>المعهد الديني الجعفري</td>\n",
       "      <td>محافظة العاصمة</td>\n",
       "      <td>العلوم</td>\n",
       "      <td>مدرسين</td>\n",
       "    </tr>\n",
       "    <tr>\n",
       "      <th>4</th>\n",
       "      <td>المعهد الديني الجعفري</td>\n",
       "      <td>محافظة العاصمة</td>\n",
       "      <td>العلوم</td>\n",
       "      <td>مدرسين</td>\n",
       "    </tr>\n",
       "  </tbody>\n",
       "</table>\n",
       "</div>"
      ],
      "text/plain": [
       "                  SCH_NM         PROV_NM    SUBM STUFF_SEX\n",
       "0  المعهد الديني الجعفري  محافظة العاصمة  العلوم    مدرسين\n",
       "1  المعهد الديني الجعفري  محافظة العاصمة  العلوم    مدرسين\n",
       "2  المعهد الديني الجعفري  محافظة العاصمة  العلوم    مدرسين\n",
       "3  المعهد الديني الجعفري  محافظة العاصمة  العلوم    مدرسين\n",
       "4  المعهد الديني الجعفري  محافظة العاصمة  العلوم    مدرسين"
      ]
     },
     "execution_count": 51,
     "metadata": {},
     "output_type": "execute_result"
    }
   ],
   "source": [
    "# dataframe containing only the object columns.\n",
    "obj_df = df.select_dtypes(include=['object'])  #.copy()\n",
    "obj_df.head()"
   ]
  },
  {
   "cell_type": "code",
   "execution_count": 90,
   "metadata": {},
   "outputs": [
    {
     "data": {
      "text/html": [
       "<div>\n",
       "<style scoped>\n",
       "    .dataframe tbody tr th:only-of-type {\n",
       "        vertical-align: middle;\n",
       "    }\n",
       "\n",
       "    .dataframe tbody tr th {\n",
       "        vertical-align: top;\n",
       "    }\n",
       "\n",
       "    .dataframe thead th {\n",
       "        text-align: right;\n",
       "    }\n",
       "</style>\n",
       "<table border=\"1\" class=\"dataframe\">\n",
       "  <thead>\n",
       "    <tr style=\"text-align: right;\">\n",
       "      <th></th>\n",
       "      <th>CPR_NO</th>\n",
       "      <th>SCH_NM</th>\n",
       "      <th>PROV_NM</th>\n",
       "      <th>SUBM</th>\n",
       "      <th>STUFF_SEX</th>\n",
       "      <th>ACHIEVEMENTS1</th>\n",
       "      <th>ACHIEVEMENTS2</th>\n",
       "      <th>MIDTERM1</th>\n",
       "      <th>MIDTERM2</th>\n",
       "      <th>FINAL1</th>\n",
       "      <th>FINAL2</th>\n",
       "      <th>TOTAL1</th>\n",
       "      <th>TOTAL2</th>\n",
       "      <th>D_MARK</th>\n",
       "      <th>NAT_MARK</th>\n",
       "      <th>GPA</th>\n",
       "    </tr>\n",
       "  </thead>\n",
       "  <tbody>\n",
       "    <tr>\n",
       "      <th>901</th>\n",
       "      <td>70711321</td>\n",
       "      <td>مدرسة أحمد الفاتح الابتدائية الاعدادية للبنين</td>\n",
       "      <td>المحافظة الجنوبية</td>\n",
       "      <td>العلوم</td>\n",
       "      <td>مدرسين</td>\n",
       "      <td>NaN</td>\n",
       "      <td>28.0</td>\n",
       "      <td>NaN</td>\n",
       "      <td>13.0</td>\n",
       "      <td>NaN</td>\n",
       "      <td>26.0</td>\n",
       "      <td>NaN</td>\n",
       "      <td>67</td>\n",
       "      <td>67</td>\n",
       "      <td>45.2</td>\n",
       "      <td>79.222222</td>\n",
       "    </tr>\n",
       "    <tr>\n",
       "      <th>4168</th>\n",
       "      <td>60820420</td>\n",
       "      <td>مدرسة الرفاع الشرقي الابتدائية للبنات</td>\n",
       "      <td>المحافظة الجنوبية</td>\n",
       "      <td>العلوم</td>\n",
       "      <td>مدرسات</td>\n",
       "      <td>NaN</td>\n",
       "      <td>29.0</td>\n",
       "      <td>NaN</td>\n",
       "      <td>12.5</td>\n",
       "      <td>NaN</td>\n",
       "      <td>25.0</td>\n",
       "      <td>NaN</td>\n",
       "      <td>67</td>\n",
       "      <td>67</td>\n",
       "      <td>41.1</td>\n",
       "      <td>84.800000</td>\n",
       "    </tr>\n",
       "    <tr>\n",
       "      <th>4187</th>\n",
       "      <td>70613516</td>\n",
       "      <td>مدرسة الرفاع الشرقي الابتدائية للبنات</td>\n",
       "      <td>المحافظة الجنوبية</td>\n",
       "      <td>العلوم</td>\n",
       "      <td>مدرسات</td>\n",
       "      <td>NaN</td>\n",
       "      <td>26.5</td>\n",
       "      <td>NaN</td>\n",
       "      <td>6.0</td>\n",
       "      <td>NaN</td>\n",
       "      <td>25.0</td>\n",
       "      <td>NaN</td>\n",
       "      <td>58</td>\n",
       "      <td>58</td>\n",
       "      <td>37.7</td>\n",
       "      <td>74.300000</td>\n",
       "    </tr>\n",
       "    <tr>\n",
       "      <th>4234</th>\n",
       "      <td>60820438</td>\n",
       "      <td>مدرسة الرفاع الشرقي الابتدائية للبنات</td>\n",
       "      <td>المحافظة الجنوبية</td>\n",
       "      <td>العلوم</td>\n",
       "      <td>مدرسات</td>\n",
       "      <td>NaN</td>\n",
       "      <td>30.0</td>\n",
       "      <td>NaN</td>\n",
       "      <td>17.0</td>\n",
       "      <td>NaN</td>\n",
       "      <td>43.5</td>\n",
       "      <td>NaN</td>\n",
       "      <td>91</td>\n",
       "      <td>91</td>\n",
       "      <td>59.8</td>\n",
       "      <td>96.000000</td>\n",
       "    </tr>\n",
       "    <tr>\n",
       "      <th>5686</th>\n",
       "      <td>70800898</td>\n",
       "      <td>مدرسة الفارابي الإعدادية للبنين</td>\n",
       "      <td>المحافظة الشمالية</td>\n",
       "      <td>العلوم</td>\n",
       "      <td>مدرسين</td>\n",
       "      <td>NaN</td>\n",
       "      <td>0.0</td>\n",
       "      <td>NaN</td>\n",
       "      <td>0.0</td>\n",
       "      <td>82.0</td>\n",
       "      <td>58.0</td>\n",
       "      <td>82.0</td>\n",
       "      <td>58</td>\n",
       "      <td>70</td>\n",
       "      <td>36.5</td>\n",
       "      <td>82.181818</td>\n",
       "    </tr>\n",
       "    <tr>\n",
       "      <th>...</th>\n",
       "      <td>...</td>\n",
       "      <td>...</td>\n",
       "      <td>...</td>\n",
       "      <td>...</td>\n",
       "      <td>...</td>\n",
       "      <td>...</td>\n",
       "      <td>...</td>\n",
       "      <td>...</td>\n",
       "      <td>...</td>\n",
       "      <td>...</td>\n",
       "      <td>...</td>\n",
       "      <td>...</td>\n",
       "      <td>...</td>\n",
       "      <td>...</td>\n",
       "      <td>...</td>\n",
       "      <td>...</td>\n",
       "    </tr>\n",
       "    <tr>\n",
       "      <th>17781</th>\n",
       "      <td>70800898</td>\n",
       "      <td>مدرسة الفارابي الإعدادية للبنين</td>\n",
       "      <td>المحافظة الشمالية</td>\n",
       "      <td>الرياضيات</td>\n",
       "      <td>مدرسين</td>\n",
       "      <td>NaN</td>\n",
       "      <td>0.0</td>\n",
       "      <td>NaN</td>\n",
       "      <td>0.0</td>\n",
       "      <td>64.0</td>\n",
       "      <td>49.5</td>\n",
       "      <td>64.0</td>\n",
       "      <td>50</td>\n",
       "      <td>57</td>\n",
       "      <td>28.8</td>\n",
       "      <td>82.181818</td>\n",
       "    </tr>\n",
       "    <tr>\n",
       "      <th>18375</th>\n",
       "      <td>70116075</td>\n",
       "      <td>مدرسة المستقبل الابتدائية للبنات</td>\n",
       "      <td>المحافظة الجنوبية</td>\n",
       "      <td>الرياضيات</td>\n",
       "      <td>مدرسات</td>\n",
       "      <td>NaN</td>\n",
       "      <td>29.5</td>\n",
       "      <td>NaN</td>\n",
       "      <td>15.5</td>\n",
       "      <td>NaN</td>\n",
       "      <td>37.0</td>\n",
       "      <td>NaN</td>\n",
       "      <td>82</td>\n",
       "      <td>82</td>\n",
       "      <td>46.3</td>\n",
       "      <td>84.222222</td>\n",
       "    </tr>\n",
       "    <tr>\n",
       "      <th>20339</th>\n",
       "      <td>71001093</td>\n",
       "      <td>مدرسة رقية الابتدائية للبنات</td>\n",
       "      <td>محافظة المحرق</td>\n",
       "      <td>الرياضيات</td>\n",
       "      <td>مدرسات</td>\n",
       "      <td>NaN</td>\n",
       "      <td>29.0</td>\n",
       "      <td>NaN</td>\n",
       "      <td>20.0</td>\n",
       "      <td>NaN</td>\n",
       "      <td>42.0</td>\n",
       "      <td>NaN</td>\n",
       "      <td>91</td>\n",
       "      <td>91</td>\n",
       "      <td>59.3</td>\n",
       "      <td>95.555556</td>\n",
       "    </tr>\n",
       "    <tr>\n",
       "      <th>21378</th>\n",
       "      <td>70922870</td>\n",
       "      <td>مدرسة سمية الابتدائية للبنات</td>\n",
       "      <td>محافظة العاصمة</td>\n",
       "      <td>الرياضيات</td>\n",
       "      <td>مدرسات</td>\n",
       "      <td>NaN</td>\n",
       "      <td>25.0</td>\n",
       "      <td>NaN</td>\n",
       "      <td>14.0</td>\n",
       "      <td>NaN</td>\n",
       "      <td>28.5</td>\n",
       "      <td>NaN</td>\n",
       "      <td>68</td>\n",
       "      <td>68</td>\n",
       "      <td>41.6</td>\n",
       "      <td>81.000000</td>\n",
       "    </tr>\n",
       "    <tr>\n",
       "      <th>21952</th>\n",
       "      <td>70405786</td>\n",
       "      <td>مدرسة عراد الابتدائية الإعدادية للبنين</td>\n",
       "      <td>محافظة المحرق</td>\n",
       "      <td>الرياضيات</td>\n",
       "      <td>مدرسين</td>\n",
       "      <td>NaN</td>\n",
       "      <td>0.0</td>\n",
       "      <td>NaN</td>\n",
       "      <td>0.0</td>\n",
       "      <td>NaN</td>\n",
       "      <td>94.0</td>\n",
       "      <td>NaN</td>\n",
       "      <td>94</td>\n",
       "      <td>94</td>\n",
       "      <td>0.0</td>\n",
       "      <td>90.500000</td>\n",
       "    </tr>\n",
       "  </tbody>\n",
       "</table>\n",
       "<p>18 rows × 16 columns</p>\n",
       "</div>"
      ],
      "text/plain": [
       "         CPR_NO                                         SCH_NM  \\\n",
       "901    70711321  مدرسة أحمد الفاتح الابتدائية الاعدادية للبنين   \n",
       "4168   60820420          مدرسة الرفاع الشرقي الابتدائية للبنات   \n",
       "4187   70613516          مدرسة الرفاع الشرقي الابتدائية للبنات   \n",
       "4234   60820438          مدرسة الرفاع الشرقي الابتدائية للبنات   \n",
       "5686   70800898                مدرسة الفارابي الإعدادية للبنين   \n",
       "...         ...                                            ...   \n",
       "17781  70800898                مدرسة الفارابي الإعدادية للبنين   \n",
       "18375  70116075               مدرسة المستقبل الابتدائية للبنات   \n",
       "20339  71001093                   مدرسة رقية الابتدائية للبنات   \n",
       "21378  70922870                   مدرسة سمية الابتدائية للبنات   \n",
       "21952  70405786         مدرسة عراد الابتدائية الإعدادية للبنين   \n",
       "\n",
       "                 PROV_NM       SUBM STUFF_SEX  ACHIEVEMENTS1  ACHIEVEMENTS2  \\\n",
       "901    المحافظة الجنوبية     العلوم    مدرسين            NaN           28.0   \n",
       "4168   المحافظة الجنوبية     العلوم    مدرسات            NaN           29.0   \n",
       "4187   المحافظة الجنوبية     العلوم    مدرسات            NaN           26.5   \n",
       "4234   المحافظة الجنوبية     العلوم    مدرسات            NaN           30.0   \n",
       "5686   المحافظة الشمالية     العلوم    مدرسين            NaN            0.0   \n",
       "...                  ...        ...       ...            ...            ...   \n",
       "17781  المحافظة الشمالية  الرياضيات    مدرسين            NaN            0.0   \n",
       "18375  المحافظة الجنوبية  الرياضيات    مدرسات            NaN           29.5   \n",
       "20339      محافظة المحرق  الرياضيات    مدرسات            NaN           29.0   \n",
       "21378     محافظة العاصمة  الرياضيات    مدرسات            NaN           25.0   \n",
       "21952      محافظة المحرق  الرياضيات    مدرسين            NaN            0.0   \n",
       "\n",
       "       MIDTERM1  MIDTERM2  FINAL1  FINAL2  TOTAL1  TOTAL2  D_MARK  NAT_MARK  \\\n",
       "901         NaN      13.0     NaN    26.0     NaN      67      67      45.2   \n",
       "4168        NaN      12.5     NaN    25.0     NaN      67      67      41.1   \n",
       "4187        NaN       6.0     NaN    25.0     NaN      58      58      37.7   \n",
       "4234        NaN      17.0     NaN    43.5     NaN      91      91      59.8   \n",
       "5686        NaN       0.0    82.0    58.0    82.0      58      70      36.5   \n",
       "...         ...       ...     ...     ...     ...     ...     ...       ...   \n",
       "17781       NaN       0.0    64.0    49.5    64.0      50      57      28.8   \n",
       "18375       NaN      15.5     NaN    37.0     NaN      82      82      46.3   \n",
       "20339       NaN      20.0     NaN    42.0     NaN      91      91      59.3   \n",
       "21378       NaN      14.0     NaN    28.5     NaN      68      68      41.6   \n",
       "21952       NaN       0.0     NaN    94.0     NaN      94      94       0.0   \n",
       "\n",
       "             GPA  \n",
       "901    79.222222  \n",
       "4168   84.800000  \n",
       "4187   74.300000  \n",
       "4234   96.000000  \n",
       "5686   82.181818  \n",
       "...          ...  \n",
       "17781  82.181818  \n",
       "18375  84.222222  \n",
       "20339  95.555556  \n",
       "21378  81.000000  \n",
       "21952  90.500000  \n",
       "\n",
       "[18 rows x 16 columns]"
      ]
     },
     "execution_count": 90,
     "metadata": {},
     "output_type": "execute_result"
    }
   ],
   "source": [
    "#clean up  NULL value\n",
    "df[df.isnull().any(axis=1)]"
   ]
  },
  {
   "cell_type": "code",
   "execution_count": 91,
   "metadata": {},
   "outputs": [],
   "source": []
  },
  {
   "cell_type": "code",
   "execution_count": null,
   "metadata": {},
   "outputs": [],
   "source": []
  },
  {
   "cell_type": "code",
   "execution_count": null,
   "metadata": {},
   "outputs": [],
   "source": []
  },
  {
   "cell_type": "code",
   "execution_count": null,
   "metadata": {},
   "outputs": [],
   "source": []
  },
  {
   "cell_type": "code",
   "execution_count": null,
   "metadata": {},
   "outputs": [],
   "source": []
  },
  {
   "cell_type": "code",
   "execution_count": null,
   "metadata": {},
   "outputs": [],
   "source": []
  },
  {
   "cell_type": "code",
   "execution_count": null,
   "metadata": {},
   "outputs": [],
   "source": []
  },
  {
   "cell_type": "code",
   "execution_count": null,
   "metadata": {},
   "outputs": [],
   "source": []
  },
  {
   "cell_type": "code",
   "execution_count": null,
   "metadata": {},
   "outputs": [],
   "source": []
  },
  {
   "cell_type": "code",
   "execution_count": 94,
   "metadata": {},
   "outputs": [
    {
     "ename": "NameError",
     "evalue": "name 'obj_df' is not defined",
     "output_type": "error",
     "traceback": [
      "\u001b[0;31m---------------------------------------------------------------------------\u001b[0m",
      "\u001b[0;31mNameError\u001b[0m                                 Traceback (most recent call last)",
      "\u001b[0;32m<ipython-input-94-364285d7faae>\u001b[0m in \u001b[0;36m<module>\u001b[0;34m\u001b[0m\n\u001b[0;32m----> 1\u001b[0;31m \u001b[0mnp\u001b[0m\u001b[0;34m.\u001b[0m\u001b[0mcount_nonzero\u001b[0m\u001b[0;34m(\u001b[0m\u001b[0mobj_df\u001b[0m\u001b[0;34m.\u001b[0m\u001b[0misnull\u001b[0m\u001b[0;34m(\u001b[0m\u001b[0;34m)\u001b[0m\u001b[0;34m)\u001b[0m\u001b[0;34m\u001b[0m\u001b[0;34m\u001b[0m\u001b[0m\n\u001b[0m",
      "\u001b[0;31mNameError\u001b[0m: name 'obj_df' is not defined"
     ]
    }
   ],
   "source": [
    "np.count_nonzero(obj_df.isnull())"
   ]
  },
  {
   "cell_type": "code",
   "execution_count": 65,
   "metadata": {},
   "outputs": [
    {
     "data": {
      "text/plain": [
       "0        1\n",
       "1        1\n",
       "2        1\n",
       "3        1\n",
       "4        1\n",
       "        ..\n",
       "24185    1\n",
       "24186    1\n",
       "24187    1\n",
       "24188    1\n",
       "24189    1\n",
       "Length: 24190, dtype: int64"
      ]
     },
     "execution_count": 65,
     "metadata": {},
     "output_type": "execute_result"
    }
   ],
   "source": [
    "obj_df.apply(lambda x: sum(x.isnull().values), axis = 1) # For rows"
   ]
  },
  {
   "cell_type": "code",
   "execution_count": 11,
   "metadata": {},
   "outputs": [
    {
     "data": {
      "text/html": [
       "<div>\n",
       "<style scoped>\n",
       "    .dataframe tbody tr th:only-of-type {\n",
       "        vertical-align: middle;\n",
       "    }\n",
       "\n",
       "    .dataframe tbody tr th {\n",
       "        vertical-align: top;\n",
       "    }\n",
       "\n",
       "    .dataframe thead th {\n",
       "        text-align: right;\n",
       "    }\n",
       "</style>\n",
       "<table border=\"1\" class=\"dataframe\">\n",
       "  <thead>\n",
       "    <tr style=\"text-align: right;\">\n",
       "      <th></th>\n",
       "      <th>SCH_NM</th>\n",
       "      <th>PROV_NM</th>\n",
       "      <th>SUBM</th>\n",
       "      <th>STUFF_SEX</th>\n",
       "    </tr>\n",
       "  </thead>\n",
       "  <tbody>\n",
       "  </tbody>\n",
       "</table>\n",
       "</div>"
      ],
      "text/plain": [
       "Empty DataFrame\n",
       "Columns: [SCH_NM, PROV_NM, SUBM, STUFF_SEX]\n",
       "Index: []"
      ]
     },
     "execution_count": 11,
     "metadata": {},
     "output_type": "execute_result"
    }
   ],
   "source": [
    "#clean up  NULL value\n",
    "obj_df[obj_df.isnull().any(axis=1)]"
   ]
  },
  {
   "cell_type": "code",
   "execution_count": null,
   "metadata": {},
   "outputs": [],
   "source": []
  },
  {
   "cell_type": "code",
   "execution_count": 12,
   "metadata": {},
   "outputs": [
    {
     "data": {
      "text/plain": [
       "مدرسة الامام الطبرى الابتدائية للبنين            864\n",
       "مدرسة ابن سينا الابتدائية للبنين                 826\n",
       "مدرسة مالك بن انس الابتدائية للبنين              804\n",
       "مدرسة البسيتين الابتدائية للبنين                 626\n",
       "مدرسة أحمد الفاتح الابتدائية الاعدادية للبنين    524\n",
       "                                                ... \n",
       "مدرسة الجسرة الابتدائية للبنين                    66\n",
       "مدرسة جو الابتدائية الاعدادية للبنات              66\n",
       "مدرسة عين جالوت الابتدائية للبنات                 52\n",
       "مدرسة سكينة بنت الحسين الابتدائية للبنات          36\n",
       "مدرسة عائشة ام المؤمنين الاعدادية للبنات          34\n",
       "Name: SCH_NM, Length: 99, dtype: int64"
      ]
     },
     "execution_count": 12,
     "metadata": {},
     "output_type": "execute_result"
    }
   ],
   "source": [
    "obj_df[\"SCH_NM\"].value_counts()"
   ]
  },
  {
   "cell_type": "code",
   "execution_count": 13,
   "metadata": {},
   "outputs": [],
   "source": [
    "# obj_df = obj_df.fillna({\"num_doors\": \"four\"})\n",
    "# En cas où on veut replacer une valeur par une autre"
   ]
  },
  {
   "cell_type": "code",
   "execution_count": 14,
   "metadata": {},
   "outputs": [],
   "source": [
    "df_copy=df"
   ]
  },
  {
   "cell_type": "code",
   "execution_count": 15,
   "metadata": {},
   "outputs": [],
   "source": [
    "from sklearn.preprocessing import LabelEncoder\n",
    "\n",
    "lb_make = LabelEncoder()"
   ]
  },
  {
   "cell_type": "code",
   "execution_count": 16,
   "metadata": {},
   "outputs": [],
   "source": [
    "df_copy['SCH__NM'] = lb_make.fit_transform(df_copy['SCH_NM'])"
   ]
  },
  {
   "cell_type": "code",
   "execution_count": 141,
   "metadata": {},
   "outputs": [
    {
     "data": {
      "text/html": [
       "<div>\n",
       "<style scoped>\n",
       "    .dataframe tbody tr th:only-of-type {\n",
       "        vertical-align: middle;\n",
       "    }\n",
       "\n",
       "    .dataframe tbody tr th {\n",
       "        vertical-align: top;\n",
       "    }\n",
       "\n",
       "    .dataframe thead th {\n",
       "        text-align: right;\n",
       "    }\n",
       "</style>\n",
       "<table border=\"1\" class=\"dataframe\">\n",
       "  <thead>\n",
       "    <tr style=\"text-align: right;\">\n",
       "      <th></th>\n",
       "      <th>CPR_NO</th>\n",
       "      <th>SCH_NM</th>\n",
       "      <th>PROV_NM</th>\n",
       "      <th>SUBM</th>\n",
       "      <th>STUFF_SEX</th>\n",
       "      <th>ACHIEVEMENTS1</th>\n",
       "      <th>ACHIEVEMENTS2</th>\n",
       "      <th>MIDTERM1</th>\n",
       "      <th>MIDTERM2</th>\n",
       "      <th>FINAL1</th>\n",
       "      <th>FINAL2</th>\n",
       "      <th>TOTAL1</th>\n",
       "      <th>TOTAL2</th>\n",
       "      <th>D_MARK</th>\n",
       "      <th>NAT_MARK</th>\n",
       "      <th>GPA</th>\n",
       "      <th>SCH__NM</th>\n",
       "    </tr>\n",
       "  </thead>\n",
       "  <tbody>\n",
       "    <tr>\n",
       "      <th>0</th>\n",
       "      <td>70913390</td>\n",
       "      <td>المعهد الديني الجعفري</td>\n",
       "      <td>محافظة العاصمة</td>\n",
       "      <td>العلوم</td>\n",
       "      <td>مدرسين</td>\n",
       "      <td>28.0</td>\n",
       "      <td>30.0</td>\n",
       "      <td>17.0</td>\n",
       "      <td>17.0</td>\n",
       "      <td>45.0</td>\n",
       "      <td>33.0</td>\n",
       "      <td>90.0</td>\n",
       "      <td>80</td>\n",
       "      <td>85</td>\n",
       "      <td>53.7</td>\n",
       "      <td>92.9</td>\n",
       "      <td>0</td>\n",
       "    </tr>\n",
       "    <tr>\n",
       "      <th>1</th>\n",
       "      <td>71105956</td>\n",
       "      <td>المعهد الديني الجعفري</td>\n",
       "      <td>محافظة العاصمة</td>\n",
       "      <td>العلوم</td>\n",
       "      <td>مدرسين</td>\n",
       "      <td>27.0</td>\n",
       "      <td>29.0</td>\n",
       "      <td>14.0</td>\n",
       "      <td>16.0</td>\n",
       "      <td>41.5</td>\n",
       "      <td>37.0</td>\n",
       "      <td>83.0</td>\n",
       "      <td>82</td>\n",
       "      <td>83</td>\n",
       "      <td>49.7</td>\n",
       "      <td>89.5</td>\n",
       "      <td>0</td>\n",
       "    </tr>\n",
       "    <tr>\n",
       "      <th>2</th>\n",
       "      <td>70712190</td>\n",
       "      <td>المعهد الديني الجعفري</td>\n",
       "      <td>محافظة العاصمة</td>\n",
       "      <td>العلوم</td>\n",
       "      <td>مدرسين</td>\n",
       "      <td>27.0</td>\n",
       "      <td>27.0</td>\n",
       "      <td>13.0</td>\n",
       "      <td>15.0</td>\n",
       "      <td>27.5</td>\n",
       "      <td>37.0</td>\n",
       "      <td>68.0</td>\n",
       "      <td>79</td>\n",
       "      <td>74</td>\n",
       "      <td>52.1</td>\n",
       "      <td>86.2</td>\n",
       "      <td>0</td>\n",
       "    </tr>\n",
       "    <tr>\n",
       "      <th>3</th>\n",
       "      <td>70207496</td>\n",
       "      <td>المعهد الديني الجعفري</td>\n",
       "      <td>محافظة العاصمة</td>\n",
       "      <td>العلوم</td>\n",
       "      <td>مدرسين</td>\n",
       "      <td>26.0</td>\n",
       "      <td>24.5</td>\n",
       "      <td>15.0</td>\n",
       "      <td>12.0</td>\n",
       "      <td>44.0</td>\n",
       "      <td>32.5</td>\n",
       "      <td>85.0</td>\n",
       "      <td>69</td>\n",
       "      <td>77</td>\n",
       "      <td>52.9</td>\n",
       "      <td>89.9</td>\n",
       "      <td>0</td>\n",
       "    </tr>\n",
       "    <tr>\n",
       "      <th>4</th>\n",
       "      <td>70507953</td>\n",
       "      <td>المعهد الديني الجعفري</td>\n",
       "      <td>محافظة العاصمة</td>\n",
       "      <td>العلوم</td>\n",
       "      <td>مدرسين</td>\n",
       "      <td>25.0</td>\n",
       "      <td>28.0</td>\n",
       "      <td>14.0</td>\n",
       "      <td>15.0</td>\n",
       "      <td>31.5</td>\n",
       "      <td>37.0</td>\n",
       "      <td>71.0</td>\n",
       "      <td>80</td>\n",
       "      <td>76</td>\n",
       "      <td>52.1</td>\n",
       "      <td>86.2</td>\n",
       "      <td>0</td>\n",
       "    </tr>\n",
       "  </tbody>\n",
       "</table>\n",
       "</div>"
      ],
      "text/plain": [
       "     CPR_NO                 SCH_NM         PROV_NM    SUBM STUFF_SEX  ACHIEVEMENTS1  ACHIEVEMENTS2  MIDTERM1  MIDTERM2  FINAL1  FINAL2  TOTAL1  TOTAL2  D_MARK  NAT_MARK   GPA  SCH__NM\n",
       "0  70913390  المعهد الديني الجعفري  محافظة العاصمة  العلوم    مدرسين           28.0           30.0      17.0      17.0    45.0    33.0    90.0      80      85      53.7  92.9        0\n",
       "1  71105956  المعهد الديني الجعفري  محافظة العاصمة  العلوم    مدرسين           27.0           29.0      14.0      16.0    41.5    37.0    83.0      82      83      49.7  89.5        0\n",
       "2  70712190  المعهد الديني الجعفري  محافظة العاصمة  العلوم    مدرسين           27.0           27.0      13.0      15.0    27.5    37.0    68.0      79      74      52.1  86.2        0\n",
       "3  70207496  المعهد الديني الجعفري  محافظة العاصمة  العلوم    مدرسين           26.0           24.5      15.0      12.0    44.0    32.5    85.0      69      77      52.9  89.9        0\n",
       "4  70507953  المعهد الديني الجعفري  محافظة العاصمة  العلوم    مدرسين           25.0           28.0      14.0      15.0    31.5    37.0    71.0      80      76      52.1  86.2        0"
      ]
     },
     "execution_count": 141,
     "metadata": {},
     "output_type": "execute_result"
    }
   ],
   "source": [
    "df_copy.head()"
   ]
  },
  {
   "cell_type": "code",
   "execution_count": 17,
   "metadata": {},
   "outputs": [],
   "source": [
    "from collections import defaultdict\n",
    "d = defaultdict(preprocessing.LabelEncoder)"
   ]
  },
  {
   "cell_type": "code",
   "execution_count": 18,
   "metadata": {},
   "outputs": [],
   "source": [
    "#df_Encoded = df[df.columns.difference(['B', 'D'])]"
   ]
  },
  {
   "cell_type": "code",
   "execution_count": 19,
   "metadata": {},
   "outputs": [],
   "source": [
    "\n",
    "# Encoding the variable\n",
    "obj_df =obj_df.apply(lambda x: d[x.name].fit_transform(x))"
   ]
  },
  {
   "cell_type": "code",
   "execution_count": 20,
   "metadata": {},
   "outputs": [
    {
     "data": {
      "text/html": [
       "<div>\n",
       "<style scoped>\n",
       "    .dataframe tbody tr th:only-of-type {\n",
       "        vertical-align: middle;\n",
       "    }\n",
       "\n",
       "    .dataframe tbody tr th {\n",
       "        vertical-align: top;\n",
       "    }\n",
       "\n",
       "    .dataframe thead th {\n",
       "        text-align: right;\n",
       "    }\n",
       "</style>\n",
       "<table border=\"1\" class=\"dataframe\">\n",
       "  <thead>\n",
       "    <tr style=\"text-align: right;\">\n",
       "      <th></th>\n",
       "      <th>SCH_NM</th>\n",
       "      <th>PROV_NM</th>\n",
       "      <th>SUBM</th>\n",
       "      <th>STUFF_SEX</th>\n",
       "    </tr>\n",
       "  </thead>\n",
       "  <tbody>\n",
       "    <tr>\n",
       "      <th>24185</th>\n",
       "      <td>98</td>\n",
       "      <td>0</td>\n",
       "      <td>0</td>\n",
       "      <td>1</td>\n",
       "    </tr>\n",
       "    <tr>\n",
       "      <th>24186</th>\n",
       "      <td>98</td>\n",
       "      <td>0</td>\n",
       "      <td>0</td>\n",
       "      <td>1</td>\n",
       "    </tr>\n",
       "    <tr>\n",
       "      <th>24187</th>\n",
       "      <td>98</td>\n",
       "      <td>0</td>\n",
       "      <td>0</td>\n",
       "      <td>1</td>\n",
       "    </tr>\n",
       "    <tr>\n",
       "      <th>24188</th>\n",
       "      <td>98</td>\n",
       "      <td>0</td>\n",
       "      <td>0</td>\n",
       "      <td>1</td>\n",
       "    </tr>\n",
       "    <tr>\n",
       "      <th>24189</th>\n",
       "      <td>98</td>\n",
       "      <td>0</td>\n",
       "      <td>0</td>\n",
       "      <td>1</td>\n",
       "    </tr>\n",
       "  </tbody>\n",
       "</table>\n",
       "</div>"
      ],
      "text/plain": [
       "       SCH_NM  PROV_NM  SUBM  STUFF_SEX\n",
       "24185      98        0     0          1\n",
       "24186      98        0     0          1\n",
       "24187      98        0     0          1\n",
       "24188      98        0     0          1\n",
       "24189      98        0     0          1"
      ]
     },
     "execution_count": 20,
     "metadata": {},
     "output_type": "execute_result"
    }
   ],
   "source": [
    "obj_df.tail()"
   ]
  },
  {
   "cell_type": "code",
   "execution_count": 21,
   "metadata": {},
   "outputs": [
    {
     "data": {
      "text/html": [
       "<div>\n",
       "<style scoped>\n",
       "    .dataframe tbody tr th:only-of-type {\n",
       "        vertical-align: middle;\n",
       "    }\n",
       "\n",
       "    .dataframe tbody tr th {\n",
       "        vertical-align: top;\n",
       "    }\n",
       "\n",
       "    .dataframe thead th {\n",
       "        text-align: right;\n",
       "    }\n",
       "</style>\n",
       "<table border=\"1\" class=\"dataframe\">\n",
       "  <thead>\n",
       "    <tr style=\"text-align: right;\">\n",
       "      <th></th>\n",
       "      <th>CPR_NO</th>\n",
       "      <th>ACHIEVEMENTS1</th>\n",
       "      <th>ACHIEVEMENTS2</th>\n",
       "      <th>MIDTERM1</th>\n",
       "      <th>MIDTERM2</th>\n",
       "      <th>FINAL1</th>\n",
       "      <th>FINAL2</th>\n",
       "      <th>TOTAL1</th>\n",
       "      <th>TOTAL2</th>\n",
       "      <th>D_MARK</th>\n",
       "      <th>NAT_MARK</th>\n",
       "      <th>GPA</th>\n",
       "      <th>SCH__NM</th>\n",
       "    </tr>\n",
       "  </thead>\n",
       "  <tbody>\n",
       "    <tr>\n",
       "      <th>0</th>\n",
       "      <td>70913390</td>\n",
       "      <td>28.0</td>\n",
       "      <td>30.0</td>\n",
       "      <td>17.0</td>\n",
       "      <td>17.0</td>\n",
       "      <td>45.0</td>\n",
       "      <td>33.0</td>\n",
       "      <td>90.0</td>\n",
       "      <td>80</td>\n",
       "      <td>85</td>\n",
       "      <td>53.7</td>\n",
       "      <td>92.900000</td>\n",
       "      <td>0</td>\n",
       "    </tr>\n",
       "    <tr>\n",
       "      <th>1</th>\n",
       "      <td>71105956</td>\n",
       "      <td>27.0</td>\n",
       "      <td>29.0</td>\n",
       "      <td>14.0</td>\n",
       "      <td>16.0</td>\n",
       "      <td>41.5</td>\n",
       "      <td>37.0</td>\n",
       "      <td>83.0</td>\n",
       "      <td>82</td>\n",
       "      <td>83</td>\n",
       "      <td>49.7</td>\n",
       "      <td>89.500000</td>\n",
       "      <td>0</td>\n",
       "    </tr>\n",
       "    <tr>\n",
       "      <th>2</th>\n",
       "      <td>70712190</td>\n",
       "      <td>27.0</td>\n",
       "      <td>27.0</td>\n",
       "      <td>13.0</td>\n",
       "      <td>15.0</td>\n",
       "      <td>27.5</td>\n",
       "      <td>37.0</td>\n",
       "      <td>68.0</td>\n",
       "      <td>79</td>\n",
       "      <td>74</td>\n",
       "      <td>52.1</td>\n",
       "      <td>86.200000</td>\n",
       "      <td>0</td>\n",
       "    </tr>\n",
       "    <tr>\n",
       "      <th>3</th>\n",
       "      <td>70207496</td>\n",
       "      <td>26.0</td>\n",
       "      <td>24.5</td>\n",
       "      <td>15.0</td>\n",
       "      <td>12.0</td>\n",
       "      <td>44.0</td>\n",
       "      <td>32.5</td>\n",
       "      <td>85.0</td>\n",
       "      <td>69</td>\n",
       "      <td>77</td>\n",
       "      <td>52.9</td>\n",
       "      <td>89.900000</td>\n",
       "      <td>0</td>\n",
       "    </tr>\n",
       "    <tr>\n",
       "      <th>4</th>\n",
       "      <td>70507953</td>\n",
       "      <td>25.0</td>\n",
       "      <td>28.0</td>\n",
       "      <td>14.0</td>\n",
       "      <td>15.0</td>\n",
       "      <td>31.5</td>\n",
       "      <td>37.0</td>\n",
       "      <td>71.0</td>\n",
       "      <td>80</td>\n",
       "      <td>76</td>\n",
       "      <td>52.1</td>\n",
       "      <td>86.200000</td>\n",
       "      <td>0</td>\n",
       "    </tr>\n",
       "    <tr>\n",
       "      <th>...</th>\n",
       "      <td>...</td>\n",
       "      <td>...</td>\n",
       "      <td>...</td>\n",
       "      <td>...</td>\n",
       "      <td>...</td>\n",
       "      <td>...</td>\n",
       "      <td>...</td>\n",
       "      <td>...</td>\n",
       "      <td>...</td>\n",
       "      <td>...</td>\n",
       "      <td>...</td>\n",
       "      <td>...</td>\n",
       "      <td>...</td>\n",
       "    </tr>\n",
       "    <tr>\n",
       "      <th>24185</th>\n",
       "      <td>70304602</td>\n",
       "      <td>30.0</td>\n",
       "      <td>28.0</td>\n",
       "      <td>20.0</td>\n",
       "      <td>18.0</td>\n",
       "      <td>47.0</td>\n",
       "      <td>42.0</td>\n",
       "      <td>97.0</td>\n",
       "      <td>88</td>\n",
       "      <td>93</td>\n",
       "      <td>61.9</td>\n",
       "      <td>94.636364</td>\n",
       "      <td>98</td>\n",
       "    </tr>\n",
       "    <tr>\n",
       "      <th>24186</th>\n",
       "      <td>71007423</td>\n",
       "      <td>30.0</td>\n",
       "      <td>25.0</td>\n",
       "      <td>17.0</td>\n",
       "      <td>15.0</td>\n",
       "      <td>17.0</td>\n",
       "      <td>14.5</td>\n",
       "      <td>64.0</td>\n",
       "      <td>55</td>\n",
       "      <td>60</td>\n",
       "      <td>44.5</td>\n",
       "      <td>85.181818</td>\n",
       "      <td>98</td>\n",
       "    </tr>\n",
       "    <tr>\n",
       "      <th>24187</th>\n",
       "      <td>70402183</td>\n",
       "      <td>26.0</td>\n",
       "      <td>27.0</td>\n",
       "      <td>12.0</td>\n",
       "      <td>17.0</td>\n",
       "      <td>24.0</td>\n",
       "      <td>22.0</td>\n",
       "      <td>62.0</td>\n",
       "      <td>66</td>\n",
       "      <td>64</td>\n",
       "      <td>44.5</td>\n",
       "      <td>82.727273</td>\n",
       "      <td>98</td>\n",
       "    </tr>\n",
       "    <tr>\n",
       "      <th>24188</th>\n",
       "      <td>70803196</td>\n",
       "      <td>28.0</td>\n",
       "      <td>28.0</td>\n",
       "      <td>18.0</td>\n",
       "      <td>18.0</td>\n",
       "      <td>37.0</td>\n",
       "      <td>23.5</td>\n",
       "      <td>83.0</td>\n",
       "      <td>70</td>\n",
       "      <td>77</td>\n",
       "      <td>46.3</td>\n",
       "      <td>89.181818</td>\n",
       "      <td>98</td>\n",
       "    </tr>\n",
       "    <tr>\n",
       "      <th>24189</th>\n",
       "      <td>70211361</td>\n",
       "      <td>29.0</td>\n",
       "      <td>27.0</td>\n",
       "      <td>14.0</td>\n",
       "      <td>16.0</td>\n",
       "      <td>16.0</td>\n",
       "      <td>19.5</td>\n",
       "      <td>59.0</td>\n",
       "      <td>63</td>\n",
       "      <td>61</td>\n",
       "      <td>39.0</td>\n",
       "      <td>81.818182</td>\n",
       "      <td>98</td>\n",
       "    </tr>\n",
       "  </tbody>\n",
       "</table>\n",
       "<p>24190 rows × 13 columns</p>\n",
       "</div>"
      ],
      "text/plain": [
       "         CPR_NO  ACHIEVEMENTS1  ACHIEVEMENTS2  MIDTERM1  MIDTERM2  FINAL1  \\\n",
       "0      70913390           28.0           30.0      17.0      17.0    45.0   \n",
       "1      71105956           27.0           29.0      14.0      16.0    41.5   \n",
       "2      70712190           27.0           27.0      13.0      15.0    27.5   \n",
       "3      70207496           26.0           24.5      15.0      12.0    44.0   \n",
       "4      70507953           25.0           28.0      14.0      15.0    31.5   \n",
       "...         ...            ...            ...       ...       ...     ...   \n",
       "24185  70304602           30.0           28.0      20.0      18.0    47.0   \n",
       "24186  71007423           30.0           25.0      17.0      15.0    17.0   \n",
       "24187  70402183           26.0           27.0      12.0      17.0    24.0   \n",
       "24188  70803196           28.0           28.0      18.0      18.0    37.0   \n",
       "24189  70211361           29.0           27.0      14.0      16.0    16.0   \n",
       "\n",
       "       FINAL2  TOTAL1  TOTAL2  D_MARK  NAT_MARK        GPA  SCH__NM  \n",
       "0        33.0    90.0      80      85      53.7  92.900000        0  \n",
       "1        37.0    83.0      82      83      49.7  89.500000        0  \n",
       "2        37.0    68.0      79      74      52.1  86.200000        0  \n",
       "3        32.5    85.0      69      77      52.9  89.900000        0  \n",
       "4        37.0    71.0      80      76      52.1  86.200000        0  \n",
       "...       ...     ...     ...     ...       ...        ...      ...  \n",
       "24185    42.0    97.0      88      93      61.9  94.636364       98  \n",
       "24186    14.5    64.0      55      60      44.5  85.181818       98  \n",
       "24187    22.0    62.0      66      64      44.5  82.727273       98  \n",
       "24188    23.5    83.0      70      77      46.3  89.181818       98  \n",
       "24189    19.5    59.0      63      61      39.0  81.818182       98  \n",
       "\n",
       "[24190 rows x 13 columns]"
      ]
     },
     "execution_count": 21,
     "metadata": {},
     "output_type": "execute_result"
    }
   ],
   "source": [
    "df.drop(['SCH_NM','PROV_NM','SUBM', 'STUFF_SEX'], axis=1)"
   ]
  },
  {
   "cell_type": "code",
   "execution_count": 22,
   "metadata": {},
   "outputs": [
    {
     "name": "stderr",
     "output_type": "stream",
     "text": [
      "/Users/anaconda3/lib/python3.7/site-packages/ipykernel_launcher.py:1: FutureWarning: Sorting because non-concatenation axis is not aligned. A future version\n",
      "of pandas will change to not sort by default.\n",
      "\n",
      "To accept the future behavior, pass 'sort=False'.\n",
      "\n",
      "To retain the current behavior and silence the warning, pass 'sort=True'.\n",
      "\n",
      "  \"\"\"Entry point for launching an IPython kernel.\n"
     ]
    },
    {
     "data": {
      "text/html": [
       "<div>\n",
       "<style scoped>\n",
       "    .dataframe tbody tr th:only-of-type {\n",
       "        vertical-align: middle;\n",
       "    }\n",
       "\n",
       "    .dataframe tbody tr th {\n",
       "        vertical-align: top;\n",
       "    }\n",
       "\n",
       "    .dataframe thead th {\n",
       "        text-align: right;\n",
       "    }\n",
       "</style>\n",
       "<table border=\"1\" class=\"dataframe\">\n",
       "  <thead>\n",
       "    <tr style=\"text-align: right;\">\n",
       "      <th></th>\n",
       "      <th>ACHIEVEMENTS1</th>\n",
       "      <th>ACHIEVEMENTS2</th>\n",
       "      <th>CPR_NO</th>\n",
       "      <th>D_MARK</th>\n",
       "      <th>FINAL1</th>\n",
       "      <th>FINAL2</th>\n",
       "      <th>GPA</th>\n",
       "      <th>MIDTERM1</th>\n",
       "      <th>MIDTERM2</th>\n",
       "      <th>NAT_MARK</th>\n",
       "      <th>PROV_NM</th>\n",
       "      <th>SCH_NM</th>\n",
       "      <th>SCH__NM</th>\n",
       "      <th>STUFF_SEX</th>\n",
       "      <th>SUBM</th>\n",
       "      <th>TOTAL1</th>\n",
       "      <th>TOTAL2</th>\n",
       "    </tr>\n",
       "  </thead>\n",
       "  <tbody>\n",
       "    <tr>\n",
       "      <th>0</th>\n",
       "      <td>28.0</td>\n",
       "      <td>30.0</td>\n",
       "      <td>70913390.0</td>\n",
       "      <td>85.0</td>\n",
       "      <td>45.0</td>\n",
       "      <td>33.0</td>\n",
       "      <td>92.9</td>\n",
       "      <td>17.0</td>\n",
       "      <td>17.0</td>\n",
       "      <td>53.7</td>\n",
       "      <td>محافظة العاصمة</td>\n",
       "      <td>المعهد الديني الجعفري</td>\n",
       "      <td>0.0</td>\n",
       "      <td>مدرسين</td>\n",
       "      <td>العلوم</td>\n",
       "      <td>90.0</td>\n",
       "      <td>80.0</td>\n",
       "    </tr>\n",
       "    <tr>\n",
       "      <th>1</th>\n",
       "      <td>27.0</td>\n",
       "      <td>29.0</td>\n",
       "      <td>71105956.0</td>\n",
       "      <td>83.0</td>\n",
       "      <td>41.5</td>\n",
       "      <td>37.0</td>\n",
       "      <td>89.5</td>\n",
       "      <td>14.0</td>\n",
       "      <td>16.0</td>\n",
       "      <td>49.7</td>\n",
       "      <td>محافظة العاصمة</td>\n",
       "      <td>المعهد الديني الجعفري</td>\n",
       "      <td>0.0</td>\n",
       "      <td>مدرسين</td>\n",
       "      <td>العلوم</td>\n",
       "      <td>83.0</td>\n",
       "      <td>82.0</td>\n",
       "    </tr>\n",
       "    <tr>\n",
       "      <th>2</th>\n",
       "      <td>27.0</td>\n",
       "      <td>27.0</td>\n",
       "      <td>70712190.0</td>\n",
       "      <td>74.0</td>\n",
       "      <td>27.5</td>\n",
       "      <td>37.0</td>\n",
       "      <td>86.2</td>\n",
       "      <td>13.0</td>\n",
       "      <td>15.0</td>\n",
       "      <td>52.1</td>\n",
       "      <td>محافظة العاصمة</td>\n",
       "      <td>المعهد الديني الجعفري</td>\n",
       "      <td>0.0</td>\n",
       "      <td>مدرسين</td>\n",
       "      <td>العلوم</td>\n",
       "      <td>68.0</td>\n",
       "      <td>79.0</td>\n",
       "    </tr>\n",
       "    <tr>\n",
       "      <th>3</th>\n",
       "      <td>26.0</td>\n",
       "      <td>24.5</td>\n",
       "      <td>70207496.0</td>\n",
       "      <td>77.0</td>\n",
       "      <td>44.0</td>\n",
       "      <td>32.5</td>\n",
       "      <td>89.9</td>\n",
       "      <td>15.0</td>\n",
       "      <td>12.0</td>\n",
       "      <td>52.9</td>\n",
       "      <td>محافظة العاصمة</td>\n",
       "      <td>المعهد الديني الجعفري</td>\n",
       "      <td>0.0</td>\n",
       "      <td>مدرسين</td>\n",
       "      <td>العلوم</td>\n",
       "      <td>85.0</td>\n",
       "      <td>69.0</td>\n",
       "    </tr>\n",
       "    <tr>\n",
       "      <th>4</th>\n",
       "      <td>25.0</td>\n",
       "      <td>28.0</td>\n",
       "      <td>70507953.0</td>\n",
       "      <td>76.0</td>\n",
       "      <td>31.5</td>\n",
       "      <td>37.0</td>\n",
       "      <td>86.2</td>\n",
       "      <td>14.0</td>\n",
       "      <td>15.0</td>\n",
       "      <td>52.1</td>\n",
       "      <td>محافظة العاصمة</td>\n",
       "      <td>المعهد الديني الجعفري</td>\n",
       "      <td>0.0</td>\n",
       "      <td>مدرسين</td>\n",
       "      <td>العلوم</td>\n",
       "      <td>71.0</td>\n",
       "      <td>80.0</td>\n",
       "    </tr>\n",
       "    <tr>\n",
       "      <th>...</th>\n",
       "      <td>...</td>\n",
       "      <td>...</td>\n",
       "      <td>...</td>\n",
       "      <td>...</td>\n",
       "      <td>...</td>\n",
       "      <td>...</td>\n",
       "      <td>...</td>\n",
       "      <td>...</td>\n",
       "      <td>...</td>\n",
       "      <td>...</td>\n",
       "      <td>...</td>\n",
       "      <td>...</td>\n",
       "      <td>...</td>\n",
       "      <td>...</td>\n",
       "      <td>...</td>\n",
       "      <td>...</td>\n",
       "      <td>...</td>\n",
       "    </tr>\n",
       "    <tr>\n",
       "      <th>24185</th>\n",
       "      <td>NaN</td>\n",
       "      <td>NaN</td>\n",
       "      <td>NaN</td>\n",
       "      <td>NaN</td>\n",
       "      <td>NaN</td>\n",
       "      <td>NaN</td>\n",
       "      <td>NaN</td>\n",
       "      <td>NaN</td>\n",
       "      <td>NaN</td>\n",
       "      <td>NaN</td>\n",
       "      <td>0</td>\n",
       "      <td>98</td>\n",
       "      <td>NaN</td>\n",
       "      <td>1</td>\n",
       "      <td>0</td>\n",
       "      <td>NaN</td>\n",
       "      <td>NaN</td>\n",
       "    </tr>\n",
       "    <tr>\n",
       "      <th>24186</th>\n",
       "      <td>NaN</td>\n",
       "      <td>NaN</td>\n",
       "      <td>NaN</td>\n",
       "      <td>NaN</td>\n",
       "      <td>NaN</td>\n",
       "      <td>NaN</td>\n",
       "      <td>NaN</td>\n",
       "      <td>NaN</td>\n",
       "      <td>NaN</td>\n",
       "      <td>NaN</td>\n",
       "      <td>0</td>\n",
       "      <td>98</td>\n",
       "      <td>NaN</td>\n",
       "      <td>1</td>\n",
       "      <td>0</td>\n",
       "      <td>NaN</td>\n",
       "      <td>NaN</td>\n",
       "    </tr>\n",
       "    <tr>\n",
       "      <th>24187</th>\n",
       "      <td>NaN</td>\n",
       "      <td>NaN</td>\n",
       "      <td>NaN</td>\n",
       "      <td>NaN</td>\n",
       "      <td>NaN</td>\n",
       "      <td>NaN</td>\n",
       "      <td>NaN</td>\n",
       "      <td>NaN</td>\n",
       "      <td>NaN</td>\n",
       "      <td>NaN</td>\n",
       "      <td>0</td>\n",
       "      <td>98</td>\n",
       "      <td>NaN</td>\n",
       "      <td>1</td>\n",
       "      <td>0</td>\n",
       "      <td>NaN</td>\n",
       "      <td>NaN</td>\n",
       "    </tr>\n",
       "    <tr>\n",
       "      <th>24188</th>\n",
       "      <td>NaN</td>\n",
       "      <td>NaN</td>\n",
       "      <td>NaN</td>\n",
       "      <td>NaN</td>\n",
       "      <td>NaN</td>\n",
       "      <td>NaN</td>\n",
       "      <td>NaN</td>\n",
       "      <td>NaN</td>\n",
       "      <td>NaN</td>\n",
       "      <td>NaN</td>\n",
       "      <td>0</td>\n",
       "      <td>98</td>\n",
       "      <td>NaN</td>\n",
       "      <td>1</td>\n",
       "      <td>0</td>\n",
       "      <td>NaN</td>\n",
       "      <td>NaN</td>\n",
       "    </tr>\n",
       "    <tr>\n",
       "      <th>24189</th>\n",
       "      <td>NaN</td>\n",
       "      <td>NaN</td>\n",
       "      <td>NaN</td>\n",
       "      <td>NaN</td>\n",
       "      <td>NaN</td>\n",
       "      <td>NaN</td>\n",
       "      <td>NaN</td>\n",
       "      <td>NaN</td>\n",
       "      <td>NaN</td>\n",
       "      <td>NaN</td>\n",
       "      <td>0</td>\n",
       "      <td>98</td>\n",
       "      <td>NaN</td>\n",
       "      <td>1</td>\n",
       "      <td>0</td>\n",
       "      <td>NaN</td>\n",
       "      <td>NaN</td>\n",
       "    </tr>\n",
       "  </tbody>\n",
       "</table>\n",
       "<p>48380 rows × 17 columns</p>\n",
       "</div>"
      ],
      "text/plain": [
       "       ACHIEVEMENTS1  ACHIEVEMENTS2      CPR_NO  D_MARK  FINAL1  FINAL2   GPA  \\\n",
       "0               28.0           30.0  70913390.0    85.0    45.0    33.0  92.9   \n",
       "1               27.0           29.0  71105956.0    83.0    41.5    37.0  89.5   \n",
       "2               27.0           27.0  70712190.0    74.0    27.5    37.0  86.2   \n",
       "3               26.0           24.5  70207496.0    77.0    44.0    32.5  89.9   \n",
       "4               25.0           28.0  70507953.0    76.0    31.5    37.0  86.2   \n",
       "...              ...            ...         ...     ...     ...     ...   ...   \n",
       "24185            NaN            NaN         NaN     NaN     NaN     NaN   NaN   \n",
       "24186            NaN            NaN         NaN     NaN     NaN     NaN   NaN   \n",
       "24187            NaN            NaN         NaN     NaN     NaN     NaN   NaN   \n",
       "24188            NaN            NaN         NaN     NaN     NaN     NaN   NaN   \n",
       "24189            NaN            NaN         NaN     NaN     NaN     NaN   NaN   \n",
       "\n",
       "       MIDTERM1  MIDTERM2  NAT_MARK         PROV_NM                 SCH_NM  \\\n",
       "0          17.0      17.0      53.7  محافظة العاصمة  المعهد الديني الجعفري   \n",
       "1          14.0      16.0      49.7  محافظة العاصمة  المعهد الديني الجعفري   \n",
       "2          13.0      15.0      52.1  محافظة العاصمة  المعهد الديني الجعفري   \n",
       "3          15.0      12.0      52.9  محافظة العاصمة  المعهد الديني الجعفري   \n",
       "4          14.0      15.0      52.1  محافظة العاصمة  المعهد الديني الجعفري   \n",
       "...         ...       ...       ...             ...                    ...   \n",
       "24185       NaN       NaN       NaN               0                     98   \n",
       "24186       NaN       NaN       NaN               0                     98   \n",
       "24187       NaN       NaN       NaN               0                     98   \n",
       "24188       NaN       NaN       NaN               0                     98   \n",
       "24189       NaN       NaN       NaN               0                     98   \n",
       "\n",
       "       SCH__NM STUFF_SEX    SUBM  TOTAL1  TOTAL2  \n",
       "0          0.0    مدرسين  العلوم    90.0    80.0  \n",
       "1          0.0    مدرسين  العلوم    83.0    82.0  \n",
       "2          0.0    مدرسين  العلوم    68.0    79.0  \n",
       "3          0.0    مدرسين  العلوم    85.0    69.0  \n",
       "4          0.0    مدرسين  العلوم    71.0    80.0  \n",
       "...        ...       ...     ...     ...     ...  \n",
       "24185      NaN         1       0     NaN     NaN  \n",
       "24186      NaN         1       0     NaN     NaN  \n",
       "24187      NaN         1       0     NaN     NaN  \n",
       "24188      NaN         1       0     NaN     NaN  \n",
       "24189      NaN         1       0     NaN     NaN  \n",
       "\n",
       "[48380 rows x 17 columns]"
      ]
     },
     "execution_count": 22,
     "metadata": {},
     "output_type": "execute_result"
    }
   ],
   "source": [
    "pd.concat([df, obj_df])"
   ]
  },
  {
   "cell_type": "code",
   "execution_count": 23,
   "metadata": {},
   "outputs": [
    {
     "data": {
      "text/html": [
       "<div>\n",
       "<style scoped>\n",
       "    .dataframe tbody tr th:only-of-type {\n",
       "        vertical-align: middle;\n",
       "    }\n",
       "\n",
       "    .dataframe tbody tr th {\n",
       "        vertical-align: top;\n",
       "    }\n",
       "\n",
       "    .dataframe thead th {\n",
       "        text-align: right;\n",
       "    }\n",
       "</style>\n",
       "<table border=\"1\" class=\"dataframe\">\n",
       "  <thead>\n",
       "    <tr style=\"text-align: right;\">\n",
       "      <th></th>\n",
       "      <th>CPR_NO</th>\n",
       "      <th>SCH_NM</th>\n",
       "      <th>PROV_NM</th>\n",
       "      <th>SUBM</th>\n",
       "      <th>STUFF_SEX</th>\n",
       "      <th>ACHIEVEMENTS1</th>\n",
       "      <th>ACHIEVEMENTS2</th>\n",
       "      <th>MIDTERM1</th>\n",
       "      <th>MIDTERM2</th>\n",
       "      <th>FINAL1</th>\n",
       "      <th>FINAL2</th>\n",
       "      <th>TOTAL1</th>\n",
       "      <th>TOTAL2</th>\n",
       "      <th>D_MARK</th>\n",
       "      <th>NAT_MARK</th>\n",
       "      <th>GPA</th>\n",
       "      <th>SCH__NM</th>\n",
       "    </tr>\n",
       "  </thead>\n",
       "  <tbody>\n",
       "    <tr>\n",
       "      <th>0</th>\n",
       "      <td>70913390</td>\n",
       "      <td>المعهد الديني الجعفري</td>\n",
       "      <td>محافظة العاصمة</td>\n",
       "      <td>العلوم</td>\n",
       "      <td>مدرسين</td>\n",
       "      <td>28.0</td>\n",
       "      <td>30.0</td>\n",
       "      <td>17.0</td>\n",
       "      <td>17.0</td>\n",
       "      <td>45.0</td>\n",
       "      <td>33.0</td>\n",
       "      <td>90.0</td>\n",
       "      <td>80</td>\n",
       "      <td>85</td>\n",
       "      <td>53.7</td>\n",
       "      <td>92.9</td>\n",
       "      <td>0</td>\n",
       "    </tr>\n",
       "    <tr>\n",
       "      <th>1</th>\n",
       "      <td>71105956</td>\n",
       "      <td>المعهد الديني الجعفري</td>\n",
       "      <td>محافظة العاصمة</td>\n",
       "      <td>العلوم</td>\n",
       "      <td>مدرسين</td>\n",
       "      <td>27.0</td>\n",
       "      <td>29.0</td>\n",
       "      <td>14.0</td>\n",
       "      <td>16.0</td>\n",
       "      <td>41.5</td>\n",
       "      <td>37.0</td>\n",
       "      <td>83.0</td>\n",
       "      <td>82</td>\n",
       "      <td>83</td>\n",
       "      <td>49.7</td>\n",
       "      <td>89.5</td>\n",
       "      <td>0</td>\n",
       "    </tr>\n",
       "    <tr>\n",
       "      <th>2</th>\n",
       "      <td>70712190</td>\n",
       "      <td>المعهد الديني الجعفري</td>\n",
       "      <td>محافظة العاصمة</td>\n",
       "      <td>العلوم</td>\n",
       "      <td>مدرسين</td>\n",
       "      <td>27.0</td>\n",
       "      <td>27.0</td>\n",
       "      <td>13.0</td>\n",
       "      <td>15.0</td>\n",
       "      <td>27.5</td>\n",
       "      <td>37.0</td>\n",
       "      <td>68.0</td>\n",
       "      <td>79</td>\n",
       "      <td>74</td>\n",
       "      <td>52.1</td>\n",
       "      <td>86.2</td>\n",
       "      <td>0</td>\n",
       "    </tr>\n",
       "    <tr>\n",
       "      <th>3</th>\n",
       "      <td>70207496</td>\n",
       "      <td>المعهد الديني الجعفري</td>\n",
       "      <td>محافظة العاصمة</td>\n",
       "      <td>العلوم</td>\n",
       "      <td>مدرسين</td>\n",
       "      <td>26.0</td>\n",
       "      <td>24.5</td>\n",
       "      <td>15.0</td>\n",
       "      <td>12.0</td>\n",
       "      <td>44.0</td>\n",
       "      <td>32.5</td>\n",
       "      <td>85.0</td>\n",
       "      <td>69</td>\n",
       "      <td>77</td>\n",
       "      <td>52.9</td>\n",
       "      <td>89.9</td>\n",
       "      <td>0</td>\n",
       "    </tr>\n",
       "    <tr>\n",
       "      <th>4</th>\n",
       "      <td>70507953</td>\n",
       "      <td>المعهد الديني الجعفري</td>\n",
       "      <td>محافظة العاصمة</td>\n",
       "      <td>العلوم</td>\n",
       "      <td>مدرسين</td>\n",
       "      <td>25.0</td>\n",
       "      <td>28.0</td>\n",
       "      <td>14.0</td>\n",
       "      <td>15.0</td>\n",
       "      <td>31.5</td>\n",
       "      <td>37.0</td>\n",
       "      <td>71.0</td>\n",
       "      <td>80</td>\n",
       "      <td>76</td>\n",
       "      <td>52.1</td>\n",
       "      <td>86.2</td>\n",
       "      <td>0</td>\n",
       "    </tr>\n",
       "  </tbody>\n",
       "</table>\n",
       "</div>"
      ],
      "text/plain": [
       "     CPR_NO                 SCH_NM         PROV_NM    SUBM STUFF_SEX  \\\n",
       "0  70913390  المعهد الديني الجعفري  محافظة العاصمة  العلوم    مدرسين   \n",
       "1  71105956  المعهد الديني الجعفري  محافظة العاصمة  العلوم    مدرسين   \n",
       "2  70712190  المعهد الديني الجعفري  محافظة العاصمة  العلوم    مدرسين   \n",
       "3  70207496  المعهد الديني الجعفري  محافظة العاصمة  العلوم    مدرسين   \n",
       "4  70507953  المعهد الديني الجعفري  محافظة العاصمة  العلوم    مدرسين   \n",
       "\n",
       "   ACHIEVEMENTS1  ACHIEVEMENTS2  MIDTERM1  MIDTERM2  FINAL1  FINAL2  TOTAL1  \\\n",
       "0           28.0           30.0      17.0      17.0    45.0    33.0    90.0   \n",
       "1           27.0           29.0      14.0      16.0    41.5    37.0    83.0   \n",
       "2           27.0           27.0      13.0      15.0    27.5    37.0    68.0   \n",
       "3           26.0           24.5      15.0      12.0    44.0    32.5    85.0   \n",
       "4           25.0           28.0      14.0      15.0    31.5    37.0    71.0   \n",
       "\n",
       "   TOTAL2  D_MARK  NAT_MARK   GPA  SCH__NM  \n",
       "0      80      85      53.7  92.9        0  \n",
       "1      82      83      49.7  89.5        0  \n",
       "2      79      74      52.1  86.2        0  \n",
       "3      69      77      52.9  89.9        0  \n",
       "4      80      76      52.1  86.2        0  "
      ]
     },
     "execution_count": 23,
     "metadata": {},
     "output_type": "execute_result"
    }
   ],
   "source": [
    "df.head()"
   ]
  },
  {
   "cell_type": "code",
   "execution_count": null,
   "metadata": {},
   "outputs": [],
   "source": []
  },
  {
   "cell_type": "code",
   "execution_count": null,
   "metadata": {},
   "outputs": [],
   "source": []
  },
  {
   "cell_type": "code",
   "execution_count": null,
   "metadata": {},
   "outputs": [],
   "source": []
  },
  {
   "cell_type": "code",
   "execution_count": null,
   "metadata": {},
   "outputs": [],
   "source": []
  },
  {
   "cell_type": "markdown",
   "metadata": {},
   "source": [
    "- eta: It is also known as the learning rate or the shrinkage factor. It actually shrinks the feature weights to make the boosting process more conservative. The range is 0 to 1. Low eta value means the model is more robust to overfitting.\n",
    "\n",
    "- gamma: The range is 0 to ∞. Larger the gamma more conservative the algorithm is.\n",
    "- max_depth: We can specify maximum depth of a tree using this parameter.\n",
    "- subsample: It is the proportion of rows that the model will randomly select to grow trees.\n",
    "- colsample_bytree: It is the ratio of variables randomly chosen to build each tree in the model."
   ]
  },
  {
   "cell_type": "markdown",
   "metadata": {},
   "source": [
    "# Skewness\n",
    "\n",
    "*skewness = 0 : normally distributed.\n",
    "\n",
    "*skewness > 0 : more weight in the left tail of the distribution.\n",
    "\n",
    "*skewness < 0 : more weight in the right tail of the distribution"
   ]
  },
  {
   "cell_type": "code",
   "execution_count": 190,
   "metadata": {},
   "outputs": [
    {
     "data": {
      "text/plain": [
       "CPR_NO          -0.171293\n",
       "ACHIEVEMENTS1    0.218046\n",
       "ACHIEVEMENTS2   -1.385865\n",
       "MIDTERM1        -0.358600\n",
       "MIDTERM2        -0.935082\n",
       "                   ...   \n",
       "TOTAL1           0.077588\n",
       "TOTAL2          -1.227232\n",
       "D_MARK          -0.558691\n",
       "NAT_MARK        -0.171779\n",
       "GPA             -1.128624\n",
       "Length: 12, dtype: float64"
      ]
     },
     "execution_count": 190,
     "metadata": {},
     "output_type": "execute_result"
    }
   ],
   "source": [
    "df.iloc[6:16].skew()"
   ]
  },
  {
   "cell_type": "markdown",
   "metadata": {},
   "source": [
    "Let us take a very common example of house prices. Suppose we have house values ranging from $100k to $1,000,000 with the average being $500,000.\n",
    "If the peak of the distribution was left of the average value, portraying a positive skewness in the distribution. It would mean that many houses were being sold for less than the average value, i.e. $500k. This could be for many reasons, but we are not going to interpret those reasons here.\n",
    "If the peak of the distributed data was right of the average value, that would mean a negative skew. This would mean that the houses were being sold for more than the average value.\n",
    "\n"
   ]
  },
  {
   "cell_type": "markdown",
   "metadata": {},
   "source": [
    "# Kurtosis\n",
    "\n",
    "- Mesokurtic: This distribution has kurtosis statistic similar to that of the normal distribution. It means that the extreme values of the distribution are similar to that of a normal distribution characteristic. This definition is used so that the standard normal distribution has a kurtosis of three.\n",
    "- Leptokurtic (Kurtosis > 3): Distribution is longer, tails are fatter. Peak is higher and sharper than Mesokurtic, which means that data are heavy-tailed or profusion of outliers. \n",
    "Outliers stretch the horizontal axis of the histogram graph, which makes the bulk of the data appear in a narrow (“skinny”) vertical range, thereby giving the “skinniness” of a leptokurtic distribution.\n",
    "- Platykurtic: (Kurtosis < 3): Distribution is shorter, tails are thinner than the normal distribution. The peak is lower and broader than Mesokurtic, which means that data are light-tailed or lack of outliers.\n",
    "The reason for this is because the extreme values are less than that of the normal distribution."
   ]
  },
  {
   "cell_type": "code",
   "execution_count": null,
   "metadata": {},
   "outputs": [],
   "source": []
  },
  {
   "cell_type": "code",
   "execution_count": null,
   "metadata": {},
   "outputs": [],
   "source": []
  },
  {
   "cell_type": "code",
   "execution_count": 176,
   "metadata": {},
   "outputs": [
    {
     "data": {
      "text/html": [
       "<div>\n",
       "<style scoped>\n",
       "    .dataframe tbody tr th:only-of-type {\n",
       "        vertical-align: middle;\n",
       "    }\n",
       "\n",
       "    .dataframe tbody tr th {\n",
       "        vertical-align: top;\n",
       "    }\n",
       "\n",
       "    .dataframe thead th {\n",
       "        text-align: right;\n",
       "    }\n",
       "</style>\n",
       "<table border=\"1\" class=\"dataframe\">\n",
       "  <thead>\n",
       "    <tr style=\"text-align: right;\">\n",
       "      <th></th>\n",
       "      <th>CPR_NO</th>\n",
       "      <th>SCH_NM</th>\n",
       "      <th>PROV_NM</th>\n",
       "      <th>SUBM</th>\n",
       "      <th>STUFF_SEX</th>\n",
       "      <th>ACHIEVEMENTS1</th>\n",
       "      <th>ACHIEVEMENTS2</th>\n",
       "      <th>MIDTERM1</th>\n",
       "      <th>MIDTERM2</th>\n",
       "      <th>FINAL1</th>\n",
       "      <th>FINAL2</th>\n",
       "      <th>TOTAL1</th>\n",
       "      <th>TOTAL2</th>\n",
       "      <th>D_MARK</th>\n",
       "      <th>NAT_MARK</th>\n",
       "      <th>GPA</th>\n",
       "    </tr>\n",
       "  </thead>\n",
       "  <tbody>\n",
       "    <tr>\n",
       "      <th>0</th>\n",
       "      <td>70913390</td>\n",
       "      <td>المعهد الديني الجعفري</td>\n",
       "      <td>محافظة العاصمة</td>\n",
       "      <td>العلوم</td>\n",
       "      <td>مدرسين</td>\n",
       "      <td>28.0</td>\n",
       "      <td>30.0</td>\n",
       "      <td>17.0</td>\n",
       "      <td>17.0</td>\n",
       "      <td>45.0</td>\n",
       "      <td>33.0</td>\n",
       "      <td>90.0</td>\n",
       "      <td>80</td>\n",
       "      <td>85</td>\n",
       "      <td>53.7</td>\n",
       "      <td>92.9</td>\n",
       "    </tr>\n",
       "    <tr>\n",
       "      <th>1</th>\n",
       "      <td>71105956</td>\n",
       "      <td>المعهد الديني الجعفري</td>\n",
       "      <td>محافظة العاصمة</td>\n",
       "      <td>العلوم</td>\n",
       "      <td>مدرسين</td>\n",
       "      <td>27.0</td>\n",
       "      <td>29.0</td>\n",
       "      <td>14.0</td>\n",
       "      <td>16.0</td>\n",
       "      <td>41.5</td>\n",
       "      <td>37.0</td>\n",
       "      <td>83.0</td>\n",
       "      <td>82</td>\n",
       "      <td>83</td>\n",
       "      <td>49.7</td>\n",
       "      <td>89.5</td>\n",
       "    </tr>\n",
       "    <tr>\n",
       "      <th>2</th>\n",
       "      <td>70712190</td>\n",
       "      <td>المعهد الديني الجعفري</td>\n",
       "      <td>محافظة العاصمة</td>\n",
       "      <td>العلوم</td>\n",
       "      <td>مدرسين</td>\n",
       "      <td>27.0</td>\n",
       "      <td>27.0</td>\n",
       "      <td>13.0</td>\n",
       "      <td>15.0</td>\n",
       "      <td>27.5</td>\n",
       "      <td>37.0</td>\n",
       "      <td>68.0</td>\n",
       "      <td>79</td>\n",
       "      <td>74</td>\n",
       "      <td>52.1</td>\n",
       "      <td>86.2</td>\n",
       "    </tr>\n",
       "    <tr>\n",
       "      <th>3</th>\n",
       "      <td>70207496</td>\n",
       "      <td>المعهد الديني الجعفري</td>\n",
       "      <td>محافظة العاصمة</td>\n",
       "      <td>العلوم</td>\n",
       "      <td>مدرسين</td>\n",
       "      <td>26.0</td>\n",
       "      <td>24.5</td>\n",
       "      <td>15.0</td>\n",
       "      <td>12.0</td>\n",
       "      <td>44.0</td>\n",
       "      <td>32.5</td>\n",
       "      <td>85.0</td>\n",
       "      <td>69</td>\n",
       "      <td>77</td>\n",
       "      <td>52.9</td>\n",
       "      <td>89.9</td>\n",
       "    </tr>\n",
       "    <tr>\n",
       "      <th>4</th>\n",
       "      <td>70507953</td>\n",
       "      <td>المعهد الديني الجعفري</td>\n",
       "      <td>محافظة العاصمة</td>\n",
       "      <td>العلوم</td>\n",
       "      <td>مدرسين</td>\n",
       "      <td>25.0</td>\n",
       "      <td>28.0</td>\n",
       "      <td>14.0</td>\n",
       "      <td>15.0</td>\n",
       "      <td>31.5</td>\n",
       "      <td>37.0</td>\n",
       "      <td>71.0</td>\n",
       "      <td>80</td>\n",
       "      <td>76</td>\n",
       "      <td>52.1</td>\n",
       "      <td>86.2</td>\n",
       "    </tr>\n",
       "  </tbody>\n",
       "</table>\n",
       "</div>"
      ],
      "text/plain": [
       "     CPR_NO                 SCH_NM         PROV_NM    SUBM STUFF_SEX  \\\n",
       "0  70913390  المعهد الديني الجعفري  محافظة العاصمة  العلوم    مدرسين   \n",
       "1  71105956  المعهد الديني الجعفري  محافظة العاصمة  العلوم    مدرسين   \n",
       "2  70712190  المعهد الديني الجعفري  محافظة العاصمة  العلوم    مدرسين   \n",
       "3  70207496  المعهد الديني الجعفري  محافظة العاصمة  العلوم    مدرسين   \n",
       "4  70507953  المعهد الديني الجعفري  محافظة العاصمة  العلوم    مدرسين   \n",
       "\n",
       "   ACHIEVEMENTS1  ACHIEVEMENTS2  MIDTERM1  MIDTERM2  FINAL1  FINAL2  TOTAL1  \\\n",
       "0           28.0           30.0      17.0      17.0    45.0    33.0    90.0   \n",
       "1           27.0           29.0      14.0      16.0    41.5    37.0    83.0   \n",
       "2           27.0           27.0      13.0      15.0    27.5    37.0    68.0   \n",
       "3           26.0           24.5      15.0      12.0    44.0    32.5    85.0   \n",
       "4           25.0           28.0      14.0      15.0    31.5    37.0    71.0   \n",
       "\n",
       "   TOTAL2  D_MARK  NAT_MARK   GPA  \n",
       "0      80      85      53.7  92.9  \n",
       "1      82      83      49.7  89.5  \n",
       "2      79      74      52.1  86.2  \n",
       "3      69      77      52.9  89.9  \n",
       "4      80      76      52.1  86.2  "
      ]
     },
     "execution_count": 176,
     "metadata": {},
     "output_type": "execute_result"
    }
   ],
   "source": [
    "df.head()"
   ]
  },
  {
   "cell_type": "markdown",
   "metadata": {},
   "source": [
    "# XGBoost"
   ]
  },
  {
   "cell_type": "code",
   "execution_count": null,
   "metadata": {},
   "outputs": [],
   "source": [
    "xtrain, xtest, ytrain, ytest=train_test_split(x, y, test_size=0.3)"
   ]
  }
 ],
 "metadata": {
  "kernelspec": {
   "display_name": "Python 3",
   "language": "python",
   "name": "python3"
  },
  "language_info": {
   "codemirror_mode": {
    "name": "ipython",
    "version": 3
   },
   "file_extension": ".py",
   "mimetype": "text/x-python",
   "name": "python",
   "nbconvert_exporter": "python",
   "pygments_lexer": "ipython3",
   "version": "3.7.1"
  }
 },
 "nbformat": 4,
 "nbformat_minor": 2
}
