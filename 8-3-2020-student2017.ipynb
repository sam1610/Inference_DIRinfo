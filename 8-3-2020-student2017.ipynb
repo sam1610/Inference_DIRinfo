{
 "cells": [
  {
   "cell_type": "code",
   "execution_count": 1,
   "metadata": {},
   "outputs": [],
   "source": [
    "import pandas as pd\n",
    "import xgboost as xgb\n",
    "import numpy as np\n",
    "from sklearn.model_selection import GridSearchCV\n",
    "from sklearn.model_selection import train_test_split\n",
    "from sklearn.ensemble import RandomForestClassifier\n"
   ]
  },
  {
   "cell_type": "code",
   "execution_count": 2,
   "metadata": {},
   "outputs": [],
   "source": [
    "from sklearn.preprocessing import StandardScaler\n",
    "from sklearn.pipeline import Pipeline\n",
    "from sklearn.model_selection import cross_val_score\n",
    "from xgboost import XGBClassifier\n",
    "import  seaborn   as sns\n",
    "from sklearn import metrics\n",
    "from sklearn.metrics import f1_score , make_scorer"
   ]
  },
  {
   "cell_type": "code",
   "execution_count": 3,
   "metadata": {},
   "outputs": [],
   "source": [
    "import matplotlib.pyplot as plt\n",
    "import numpy as np\n",
    "import pandas as pd\n",
    "import seaborn as sns\n",
    "import warnings\n",
    "#from imblearn.over_sampling import SMOTE\n",
    "#from imblearn.pipeline import make_pipeline\n",
    "#from pylab import rcParams\n",
    "from sklearn.metrics import accuracy_score\n",
    "from sklearn.metrics import precision_score, recall_score, confusion_matrix\n",
    "from sklearn.metrics import f1_score, roc_auc_score, roc_curve\n",
    "from sklearn.model_selection import train_test_split\n",
    "from sklearn.model_selection import GridSearchCV"
   ]
  },
  {
   "cell_type": "code",
   "execution_count": 89,
   "metadata": {},
   "outputs": [],
   "source": [
    "####  read the data\n",
    "\n",
    "df = pd.read_csv('Desktop/sec_students/complete2017.csv')"
   ]
  },
  {
   "cell_type": "code",
   "execution_count": 90,
   "metadata": {},
   "outputs": [
    {
     "data": {
      "text/html": [
       "<div>\n",
       "<style scoped>\n",
       "    .dataframe tbody tr th:only-of-type {\n",
       "        vertical-align: middle;\n",
       "    }\n",
       "\n",
       "    .dataframe tbody tr th {\n",
       "        vertical-align: top;\n",
       "    }\n",
       "\n",
       "    .dataframe thead th {\n",
       "        text-align: right;\n",
       "    }\n",
       "</style>\n",
       "<table border=\"1\" class=\"dataframe\">\n",
       "  <thead>\n",
       "    <tr style=\"text-align: right;\">\n",
       "      <th></th>\n",
       "      <th>student_no</th>\n",
       "      <th>school</th>\n",
       "      <th>gender</th>\n",
       "      <th>governorate</th>\n",
       "      <th>track</th>\n",
       "      <th>sub_track</th>\n",
       "      <th>term</th>\n",
       "      <th>gpa</th>\n",
       "      <th>year</th>\n",
       "      <th>st_code</th>\n",
       "    </tr>\n",
       "  </thead>\n",
       "  <tbody>\n",
       "    <tr>\n",
       "      <th>0</th>\n",
       "      <td>120172</td>\n",
       "      <td>1</td>\n",
       "      <td>1</td>\n",
       "      <td>3</td>\n",
       "      <td>0</td>\n",
       "      <td>0</td>\n",
       "      <td>1</td>\n",
       "      <td>92.7</td>\n",
       "      <td>2017</td>\n",
       "      <td>2</td>\n",
       "    </tr>\n",
       "    <tr>\n",
       "      <th>1</th>\n",
       "      <td>120172</td>\n",
       "      <td>1</td>\n",
       "      <td>1</td>\n",
       "      <td>3</td>\n",
       "      <td>0</td>\n",
       "      <td>0</td>\n",
       "      <td>2</td>\n",
       "      <td>90.7</td>\n",
       "      <td>2017</td>\n",
       "      <td>2</td>\n",
       "    </tr>\n",
       "    <tr>\n",
       "      <th>2</th>\n",
       "      <td>120172</td>\n",
       "      <td>1</td>\n",
       "      <td>1</td>\n",
       "      <td>3</td>\n",
       "      <td>1</td>\n",
       "      <td>1</td>\n",
       "      <td>3</td>\n",
       "      <td>89.2</td>\n",
       "      <td>2017</td>\n",
       "      <td>2</td>\n",
       "    </tr>\n",
       "    <tr>\n",
       "      <th>3</th>\n",
       "      <td>120172</td>\n",
       "      <td>1</td>\n",
       "      <td>1</td>\n",
       "      <td>3</td>\n",
       "      <td>1</td>\n",
       "      <td>1</td>\n",
       "      <td>4</td>\n",
       "      <td>91.8</td>\n",
       "      <td>2017</td>\n",
       "      <td>2</td>\n",
       "    </tr>\n",
       "    <tr>\n",
       "      <th>4</th>\n",
       "      <td>120172</td>\n",
       "      <td>1</td>\n",
       "      <td>1</td>\n",
       "      <td>3</td>\n",
       "      <td>1</td>\n",
       "      <td>1</td>\n",
       "      <td>5</td>\n",
       "      <td>92.3</td>\n",
       "      <td>2017</td>\n",
       "      <td>2</td>\n",
       "    </tr>\n",
       "  </tbody>\n",
       "</table>\n",
       "</div>"
      ],
      "text/plain": [
       "   student_no  school  gender  governorate  track  sub_track  term   gpa  \\\n",
       "0      120172       1       1            3      0          0     1  92.7   \n",
       "1      120172       1       1            3      0          0     2  90.7   \n",
       "2      120172       1       1            3      1          1     3  89.2   \n",
       "3      120172       1       1            3      1          1     4  91.8   \n",
       "4      120172       1       1            3      1          1     5  92.3   \n",
       "\n",
       "   year  st_code  \n",
       "0  2017        2  \n",
       "1  2017        2  \n",
       "2  2017        2  \n",
       "3  2017        2  \n",
       "4  2017        2  "
      ]
     },
     "execution_count": 90,
     "metadata": {},
     "output_type": "execute_result"
    }
   ],
   "source": [
    "df.head()"
   ]
  },
  {
   "cell_type": "code",
   "execution_count": 91,
   "metadata": {},
   "outputs": [
    {
     "data": {
      "text/plain": [
       "student_no     0\n",
       "school         0\n",
       "gender         0\n",
       "governorate    0\n",
       "track          0\n",
       "sub_track      0\n",
       "term           0\n",
       "gpa            0\n",
       "year           0\n",
       "st_code        0\n",
       "dtype: int64"
      ]
     },
     "execution_count": 91,
     "metadata": {},
     "output_type": "execute_result"
    }
   ],
   "source": [
    "df.isnull().sum()"
   ]
  },
  {
   "cell_type": "code",
   "execution_count": 92,
   "metadata": {},
   "outputs": [],
   "source": [
    "df=  df.drop(\"year\", axis=1)\n",
    "df=  df.drop(\"st_code\", axis=1)"
   ]
  },
  {
   "cell_type": "code",
   "execution_count": 93,
   "metadata": {},
   "outputs": [
    {
     "data": {
      "text/html": [
       "<div>\n",
       "<style scoped>\n",
       "    .dataframe tbody tr th:only-of-type {\n",
       "        vertical-align: middle;\n",
       "    }\n",
       "\n",
       "    .dataframe tbody tr th {\n",
       "        vertical-align: top;\n",
       "    }\n",
       "\n",
       "    .dataframe thead th {\n",
       "        text-align: right;\n",
       "    }\n",
       "</style>\n",
       "<table border=\"1\" class=\"dataframe\">\n",
       "  <thead>\n",
       "    <tr style=\"text-align: right;\">\n",
       "      <th></th>\n",
       "      <th>student_no</th>\n",
       "      <th>school</th>\n",
       "      <th>gender</th>\n",
       "      <th>governorate</th>\n",
       "      <th>track</th>\n",
       "      <th>sub_track</th>\n",
       "      <th>term</th>\n",
       "      <th>gpa</th>\n",
       "    </tr>\n",
       "  </thead>\n",
       "  <tbody>\n",
       "    <tr>\n",
       "      <th>0</th>\n",
       "      <td>120172</td>\n",
       "      <td>1</td>\n",
       "      <td>1</td>\n",
       "      <td>3</td>\n",
       "      <td>0</td>\n",
       "      <td>0</td>\n",
       "      <td>1</td>\n",
       "      <td>92.7</td>\n",
       "    </tr>\n",
       "    <tr>\n",
       "      <th>1</th>\n",
       "      <td>120172</td>\n",
       "      <td>1</td>\n",
       "      <td>1</td>\n",
       "      <td>3</td>\n",
       "      <td>0</td>\n",
       "      <td>0</td>\n",
       "      <td>2</td>\n",
       "      <td>90.7</td>\n",
       "    </tr>\n",
       "    <tr>\n",
       "      <th>2</th>\n",
       "      <td>120172</td>\n",
       "      <td>1</td>\n",
       "      <td>1</td>\n",
       "      <td>3</td>\n",
       "      <td>1</td>\n",
       "      <td>1</td>\n",
       "      <td>3</td>\n",
       "      <td>89.2</td>\n",
       "    </tr>\n",
       "    <tr>\n",
       "      <th>3</th>\n",
       "      <td>120172</td>\n",
       "      <td>1</td>\n",
       "      <td>1</td>\n",
       "      <td>3</td>\n",
       "      <td>1</td>\n",
       "      <td>1</td>\n",
       "      <td>4</td>\n",
       "      <td>91.8</td>\n",
       "    </tr>\n",
       "    <tr>\n",
       "      <th>4</th>\n",
       "      <td>120172</td>\n",
       "      <td>1</td>\n",
       "      <td>1</td>\n",
       "      <td>3</td>\n",
       "      <td>1</td>\n",
       "      <td>1</td>\n",
       "      <td>5</td>\n",
       "      <td>92.3</td>\n",
       "    </tr>\n",
       "  </tbody>\n",
       "</table>\n",
       "</div>"
      ],
      "text/plain": [
       "   student_no  school  gender  governorate  track  sub_track  term   gpa\n",
       "0      120172       1       1            3      0          0     1  92.7\n",
       "1      120172       1       1            3      0          0     2  90.7\n",
       "2      120172       1       1            3      1          1     3  89.2\n",
       "3      120172       1       1            3      1          1     4  91.8\n",
       "4      120172       1       1            3      1          1     5  92.3"
      ]
     },
     "execution_count": 93,
     "metadata": {},
     "output_type": "execute_result"
    }
   ],
   "source": [
    "df.head()"
   ]
  },
  {
   "cell_type": "code",
   "execution_count": null,
   "metadata": {},
   "outputs": [],
   "source": []
  },
  {
   "cell_type": "code",
   "execution_count": null,
   "metadata": {},
   "outputs": [],
   "source": []
  },
  {
   "cell_type": "code",
   "execution_count": 19,
   "metadata": {},
   "outputs": [
    {
     "data": {
      "text/plain": [
       "Index(['school', 'st_code', ' gpa', 'gender', 'governorate'], dtype='object')"
      ]
     },
     "execution_count": 19,
     "metadata": {},
     "output_type": "execute_result"
    }
   ],
   "source": [
    "df.keys()"
   ]
  },
  {
   "cell_type": "code",
   "execution_count": 137,
   "metadata": {},
   "outputs": [],
   "source": [
    "df_encoded=df.pivot_table(index =['student_no', \"school\", \"gender\", \"governorate\"],\n",
    "                         columns =['term'], values =['gpa']) "
   ]
  },
  {
   "cell_type": "code",
   "execution_count": 138,
   "metadata": {},
   "outputs": [
    {
     "data": {
      "text/html": [
       "<div>\n",
       "<style scoped>\n",
       "    .dataframe tbody tr th:only-of-type {\n",
       "        vertical-align: middle;\n",
       "    }\n",
       "\n",
       "    .dataframe tbody tr th {\n",
       "        vertical-align: top;\n",
       "    }\n",
       "\n",
       "    .dataframe thead tr th {\n",
       "        text-align: left;\n",
       "    }\n",
       "\n",
       "    .dataframe thead tr:last-of-type th {\n",
       "        text-align: right;\n",
       "    }\n",
       "</style>\n",
       "<table border=\"1\" class=\"dataframe\">\n",
       "  <thead>\n",
       "    <tr>\n",
       "      <th></th>\n",
       "      <th></th>\n",
       "      <th></th>\n",
       "      <th></th>\n",
       "      <th colspan=\"5\" halign=\"left\">gpa</th>\n",
       "    </tr>\n",
       "    <tr>\n",
       "      <th></th>\n",
       "      <th></th>\n",
       "      <th></th>\n",
       "      <th>term</th>\n",
       "      <th>1</th>\n",
       "      <th>2</th>\n",
       "      <th>3</th>\n",
       "      <th>4</th>\n",
       "      <th>5</th>\n",
       "    </tr>\n",
       "    <tr>\n",
       "      <th>student_no</th>\n",
       "      <th>school</th>\n",
       "      <th>gender</th>\n",
       "      <th>governorate</th>\n",
       "      <th></th>\n",
       "      <th></th>\n",
       "      <th></th>\n",
       "      <th></th>\n",
       "      <th></th>\n",
       "    </tr>\n",
       "  </thead>\n",
       "  <tbody>\n",
       "    <tr>\n",
       "      <th>120172</th>\n",
       "      <th>1</th>\n",
       "      <th>1</th>\n",
       "      <th>3</th>\n",
       "      <td>92.7</td>\n",
       "      <td>90.7</td>\n",
       "      <td>89.2</td>\n",
       "      <td>91.8</td>\n",
       "      <td>92.3</td>\n",
       "    </tr>\n",
       "    <tr>\n",
       "      <th>120173</th>\n",
       "      <th>1</th>\n",
       "      <th>1</th>\n",
       "      <th>3</th>\n",
       "      <td>78.1</td>\n",
       "      <td>82.4</td>\n",
       "      <td>88.2</td>\n",
       "      <td>89.4</td>\n",
       "      <td>92.0</td>\n",
       "    </tr>\n",
       "    <tr>\n",
       "      <th>120174</th>\n",
       "      <th>1</th>\n",
       "      <th>1</th>\n",
       "      <th>3</th>\n",
       "      <td>83.8</td>\n",
       "      <td>87.0</td>\n",
       "      <td>89.1</td>\n",
       "      <td>86.8</td>\n",
       "      <td>89.2</td>\n",
       "    </tr>\n",
       "    <tr>\n",
       "      <th>120175</th>\n",
       "      <th>1</th>\n",
       "      <th>1</th>\n",
       "      <th>3</th>\n",
       "      <td>84.7</td>\n",
       "      <td>85.7</td>\n",
       "      <td>83.1</td>\n",
       "      <td>88.7</td>\n",
       "      <td>83.3</td>\n",
       "    </tr>\n",
       "    <tr>\n",
       "      <th>120177</th>\n",
       "      <th>1</th>\n",
       "      <th>1</th>\n",
       "      <th>3</th>\n",
       "      <td>71.6</td>\n",
       "      <td>80.0</td>\n",
       "      <td>83.1</td>\n",
       "      <td>86.1</td>\n",
       "      <td>88.3</td>\n",
       "    </tr>\n",
       "  </tbody>\n",
       "</table>\n",
       "</div>"
      ],
      "text/plain": [
       "                                       gpa                        \n",
       "term                                     1     2     3     4     5\n",
       "student_no school gender governorate                              \n",
       "120172     1      1      3            92.7  90.7  89.2  91.8  92.3\n",
       "120173     1      1      3            78.1  82.4  88.2  89.4  92.0\n",
       "120174     1      1      3            83.8  87.0  89.1  86.8  89.2\n",
       "120175     1      1      3            84.7  85.7  83.1  88.7  83.3\n",
       "120177     1      1      3            71.6  80.0  83.1  86.1  88.3"
      ]
     },
     "execution_count": 138,
     "metadata": {},
     "output_type": "execute_result"
    }
   ],
   "source": [
    "df_encoded.head()"
   ]
  },
  {
   "cell_type": "code",
   "execution_count": 139,
   "metadata": {},
   "outputs": [],
   "source": [
    "df_encoded = df_encoded.reset_index(level=[1,2,3])"
   ]
  },
  {
   "cell_type": "code",
   "execution_count": 140,
   "metadata": {},
   "outputs": [
    {
     "data": {
      "text/html": [
       "<div>\n",
       "<style scoped>\n",
       "    .dataframe tbody tr th:only-of-type {\n",
       "        vertical-align: middle;\n",
       "    }\n",
       "\n",
       "    .dataframe tbody tr th {\n",
       "        vertical-align: top;\n",
       "    }\n",
       "\n",
       "    .dataframe thead tr th {\n",
       "        text-align: left;\n",
       "    }\n",
       "\n",
       "    .dataframe thead tr:last-of-type th {\n",
       "        text-align: right;\n",
       "    }\n",
       "</style>\n",
       "<table border=\"1\" class=\"dataframe\">\n",
       "  <thead>\n",
       "    <tr>\n",
       "      <th></th>\n",
       "      <th>school</th>\n",
       "      <th>gender</th>\n",
       "      <th>governorate</th>\n",
       "      <th colspan=\"5\" halign=\"left\">gpa</th>\n",
       "    </tr>\n",
       "    <tr>\n",
       "      <th>term</th>\n",
       "      <th></th>\n",
       "      <th></th>\n",
       "      <th></th>\n",
       "      <th>1</th>\n",
       "      <th>2</th>\n",
       "      <th>3</th>\n",
       "      <th>4</th>\n",
       "      <th>5</th>\n",
       "    </tr>\n",
       "    <tr>\n",
       "      <th>student_no</th>\n",
       "      <th></th>\n",
       "      <th></th>\n",
       "      <th></th>\n",
       "      <th></th>\n",
       "      <th></th>\n",
       "      <th></th>\n",
       "      <th></th>\n",
       "      <th></th>\n",
       "    </tr>\n",
       "  </thead>\n",
       "  <tbody>\n",
       "    <tr>\n",
       "      <th>120172</th>\n",
       "      <td>1</td>\n",
       "      <td>1</td>\n",
       "      <td>3</td>\n",
       "      <td>92.7</td>\n",
       "      <td>90.7</td>\n",
       "      <td>89.2</td>\n",
       "      <td>91.8</td>\n",
       "      <td>92.3</td>\n",
       "    </tr>\n",
       "    <tr>\n",
       "      <th>120173</th>\n",
       "      <td>1</td>\n",
       "      <td>1</td>\n",
       "      <td>3</td>\n",
       "      <td>78.1</td>\n",
       "      <td>82.4</td>\n",
       "      <td>88.2</td>\n",
       "      <td>89.4</td>\n",
       "      <td>92.0</td>\n",
       "    </tr>\n",
       "    <tr>\n",
       "      <th>120174</th>\n",
       "      <td>1</td>\n",
       "      <td>1</td>\n",
       "      <td>3</td>\n",
       "      <td>83.8</td>\n",
       "      <td>87.0</td>\n",
       "      <td>89.1</td>\n",
       "      <td>86.8</td>\n",
       "      <td>89.2</td>\n",
       "    </tr>\n",
       "    <tr>\n",
       "      <th>120175</th>\n",
       "      <td>1</td>\n",
       "      <td>1</td>\n",
       "      <td>3</td>\n",
       "      <td>84.7</td>\n",
       "      <td>85.7</td>\n",
       "      <td>83.1</td>\n",
       "      <td>88.7</td>\n",
       "      <td>83.3</td>\n",
       "    </tr>\n",
       "    <tr>\n",
       "      <th>120177</th>\n",
       "      <td>1</td>\n",
       "      <td>1</td>\n",
       "      <td>3</td>\n",
       "      <td>71.6</td>\n",
       "      <td>80.0</td>\n",
       "      <td>83.1</td>\n",
       "      <td>86.1</td>\n",
       "      <td>88.3</td>\n",
       "    </tr>\n",
       "  </tbody>\n",
       "</table>\n",
       "</div>"
      ],
      "text/plain": [
       "           school gender governorate   gpa                        \n",
       "term                                     1     2     3     4     5\n",
       "student_no                                                        \n",
       "120172          1      1           3  92.7  90.7  89.2  91.8  92.3\n",
       "120173          1      1           3  78.1  82.4  88.2  89.4  92.0\n",
       "120174          1      1           3  83.8  87.0  89.1  86.8  89.2\n",
       "120175          1      1           3  84.7  85.7  83.1  88.7  83.3\n",
       "120177          1      1           3  71.6  80.0  83.1  86.1  88.3"
      ]
     },
     "execution_count": 140,
     "metadata": {},
     "output_type": "execute_result"
    }
   ],
   "source": [
    "df_encoded.head()"
   ]
  },
  {
   "cell_type": "code",
   "execution_count": 141,
   "metadata": {},
   "outputs": [],
   "source": [
    "df_encoded.columns = df_encoded.columns.get_level_values(0)\n"
   ]
  },
  {
   "cell_type": "code",
   "execution_count": 142,
   "metadata": {},
   "outputs": [
    {
     "data": {
      "text/html": [
       "<div>\n",
       "<style scoped>\n",
       "    .dataframe tbody tr th:only-of-type {\n",
       "        vertical-align: middle;\n",
       "    }\n",
       "\n",
       "    .dataframe tbody tr th {\n",
       "        vertical-align: top;\n",
       "    }\n",
       "\n",
       "    .dataframe thead th {\n",
       "        text-align: right;\n",
       "    }\n",
       "</style>\n",
       "<table border=\"1\" class=\"dataframe\">\n",
       "  <thead>\n",
       "    <tr style=\"text-align: right;\">\n",
       "      <th></th>\n",
       "      <th>school</th>\n",
       "      <th>gender</th>\n",
       "      <th>governorate</th>\n",
       "      <th>gpa</th>\n",
       "      <th>gpa</th>\n",
       "      <th>gpa</th>\n",
       "      <th>gpa</th>\n",
       "      <th>gpa</th>\n",
       "    </tr>\n",
       "    <tr>\n",
       "      <th>student_no</th>\n",
       "      <th></th>\n",
       "      <th></th>\n",
       "      <th></th>\n",
       "      <th></th>\n",
       "      <th></th>\n",
       "      <th></th>\n",
       "      <th></th>\n",
       "      <th></th>\n",
       "    </tr>\n",
       "  </thead>\n",
       "  <tbody>\n",
       "    <tr>\n",
       "      <th>120172</th>\n",
       "      <td>1</td>\n",
       "      <td>1</td>\n",
       "      <td>3</td>\n",
       "      <td>92.7</td>\n",
       "      <td>90.7</td>\n",
       "      <td>89.2</td>\n",
       "      <td>91.8</td>\n",
       "      <td>92.3</td>\n",
       "    </tr>\n",
       "    <tr>\n",
       "      <th>120173</th>\n",
       "      <td>1</td>\n",
       "      <td>1</td>\n",
       "      <td>3</td>\n",
       "      <td>78.1</td>\n",
       "      <td>82.4</td>\n",
       "      <td>88.2</td>\n",
       "      <td>89.4</td>\n",
       "      <td>92.0</td>\n",
       "    </tr>\n",
       "    <tr>\n",
       "      <th>120174</th>\n",
       "      <td>1</td>\n",
       "      <td>1</td>\n",
       "      <td>3</td>\n",
       "      <td>83.8</td>\n",
       "      <td>87.0</td>\n",
       "      <td>89.1</td>\n",
       "      <td>86.8</td>\n",
       "      <td>89.2</td>\n",
       "    </tr>\n",
       "    <tr>\n",
       "      <th>120175</th>\n",
       "      <td>1</td>\n",
       "      <td>1</td>\n",
       "      <td>3</td>\n",
       "      <td>84.7</td>\n",
       "      <td>85.7</td>\n",
       "      <td>83.1</td>\n",
       "      <td>88.7</td>\n",
       "      <td>83.3</td>\n",
       "    </tr>\n",
       "    <tr>\n",
       "      <th>120177</th>\n",
       "      <td>1</td>\n",
       "      <td>1</td>\n",
       "      <td>3</td>\n",
       "      <td>71.6</td>\n",
       "      <td>80.0</td>\n",
       "      <td>83.1</td>\n",
       "      <td>86.1</td>\n",
       "      <td>88.3</td>\n",
       "    </tr>\n",
       "  </tbody>\n",
       "</table>\n",
       "</div>"
      ],
      "text/plain": [
       "            school  gender  governorate   gpa   gpa   gpa   gpa   gpa\n",
       "student_no                                                           \n",
       "120172           1       1            3  92.7  90.7  89.2  91.8  92.3\n",
       "120173           1       1            3  78.1  82.4  88.2  89.4  92.0\n",
       "120174           1       1            3  83.8  87.0  89.1  86.8  89.2\n",
       "120175           1       1            3  84.7  85.7  83.1  88.7  83.3\n",
       "120177           1       1            3  71.6  80.0  83.1  86.1  88.3"
      ]
     },
     "execution_count": 142,
     "metadata": {},
     "output_type": "execute_result"
    }
   ],
   "source": [
    "df_encoded.head()"
   ]
  },
  {
   "cell_type": "code",
   "execution_count": 150,
   "metadata": {},
   "outputs": [],
   "source": [
    "df_encoded.columns.values[3] = \"gpa1\"\n",
    "df_encoded.columns.values[4] = \"gpa2\"\n",
    "df_encoded.columns.values[5] = \"gpa3\"\n",
    "df_encoded.columns.values[6] = \"gpa4\"\n",
    "df_encoded.columns.values[7] = \"gpa5\"\n"
   ]
  },
  {
   "cell_type": "code",
   "execution_count": 152,
   "metadata": {},
   "outputs": [
    {
     "data": {
      "text/html": [
       "<div>\n",
       "<style scoped>\n",
       "    .dataframe tbody tr th:only-of-type {\n",
       "        vertical-align: middle;\n",
       "    }\n",
       "\n",
       "    .dataframe tbody tr th {\n",
       "        vertical-align: top;\n",
       "    }\n",
       "\n",
       "    .dataframe thead th {\n",
       "        text-align: right;\n",
       "    }\n",
       "</style>\n",
       "<table border=\"1\" class=\"dataframe\">\n",
       "  <thead>\n",
       "    <tr style=\"text-align: right;\">\n",
       "      <th></th>\n",
       "      <th>school</th>\n",
       "      <th>gender</th>\n",
       "      <th>governorate</th>\n",
       "      <th>gpa1</th>\n",
       "      <th>gpa2</th>\n",
       "      <th>gpa3</th>\n",
       "      <th>gpa4</th>\n",
       "      <th>gpa5</th>\n",
       "    </tr>\n",
       "    <tr>\n",
       "      <th>student_no</th>\n",
       "      <th></th>\n",
       "      <th></th>\n",
       "      <th></th>\n",
       "      <th></th>\n",
       "      <th></th>\n",
       "      <th></th>\n",
       "      <th></th>\n",
       "      <th></th>\n",
       "    </tr>\n",
       "  </thead>\n",
       "  <tbody>\n",
       "    <tr>\n",
       "      <th>120172</th>\n",
       "      <td>1</td>\n",
       "      <td>1</td>\n",
       "      <td>3</td>\n",
       "      <td>92.7</td>\n",
       "      <td>90.7</td>\n",
       "      <td>89.2</td>\n",
       "      <td>91.8</td>\n",
       "      <td>92.3</td>\n",
       "    </tr>\n",
       "    <tr>\n",
       "      <th>120173</th>\n",
       "      <td>1</td>\n",
       "      <td>1</td>\n",
       "      <td>3</td>\n",
       "      <td>78.1</td>\n",
       "      <td>82.4</td>\n",
       "      <td>88.2</td>\n",
       "      <td>89.4</td>\n",
       "      <td>92.0</td>\n",
       "    </tr>\n",
       "    <tr>\n",
       "      <th>120174</th>\n",
       "      <td>1</td>\n",
       "      <td>1</td>\n",
       "      <td>3</td>\n",
       "      <td>83.8</td>\n",
       "      <td>87.0</td>\n",
       "      <td>89.1</td>\n",
       "      <td>86.8</td>\n",
       "      <td>89.2</td>\n",
       "    </tr>\n",
       "    <tr>\n",
       "      <th>120175</th>\n",
       "      <td>1</td>\n",
       "      <td>1</td>\n",
       "      <td>3</td>\n",
       "      <td>84.7</td>\n",
       "      <td>85.7</td>\n",
       "      <td>83.1</td>\n",
       "      <td>88.7</td>\n",
       "      <td>83.3</td>\n",
       "    </tr>\n",
       "    <tr>\n",
       "      <th>120177</th>\n",
       "      <td>1</td>\n",
       "      <td>1</td>\n",
       "      <td>3</td>\n",
       "      <td>71.6</td>\n",
       "      <td>80.0</td>\n",
       "      <td>83.1</td>\n",
       "      <td>86.1</td>\n",
       "      <td>88.3</td>\n",
       "    </tr>\n",
       "  </tbody>\n",
       "</table>\n",
       "</div>"
      ],
      "text/plain": [
       "            school  gender  governorate  gpa1  gpa2  gpa3  gpa4  gpa5\n",
       "student_no                                                           \n",
       "120172           1       1            3  92.7  90.7  89.2  91.8  92.3\n",
       "120173           1       1            3  78.1  82.4  88.2  89.4  92.0\n",
       "120174           1       1            3  83.8  87.0  89.1  86.8  89.2\n",
       "120175           1       1            3  84.7  85.7  83.1  88.7  83.3\n",
       "120177           1       1            3  71.6  80.0  83.1  86.1  88.3"
      ]
     },
     "execution_count": 152,
     "metadata": {},
     "output_type": "execute_result"
    }
   ],
   "source": [
    "df_encoded.head()"
   ]
  },
  {
   "cell_type": "code",
   "execution_count": null,
   "metadata": {},
   "outputs": [],
   "source": []
  },
  {
   "cell_type": "code",
   "execution_count": null,
   "metadata": {},
   "outputs": [],
   "source": []
  },
  {
   "cell_type": "code",
   "execution_count": null,
   "metadata": {},
   "outputs": [],
   "source": []
  },
  {
   "cell_type": "code",
   "execution_count": null,
   "metadata": {},
   "outputs": [],
   "source": []
  },
  {
   "cell_type": "code",
   "execution_count": 153,
   "metadata": {},
   "outputs": [],
   "source": [
    "###### STANDARD SCALER \n",
    "\n",
    "\n",
    "sc=StandardScaler()\n",
    "\n",
    "df_encoded[['gpa1', 'gpa2','gpa3','gpa4','gpa5']] = sc.fit_transform(df_encoded[['gpa1', 'gpa2','gpa3','gpa4','gpa5']])"
   ]
  },
  {
   "cell_type": "code",
   "execution_count": 154,
   "metadata": {},
   "outputs": [],
   "source": [
    "########  Label encoding for tetarget GPA1\n",
    "\n",
    "#bins = [0, 60, 70, 80, 90, 95,100]\n",
    "#labels = [ 'F', 'D', 'C', 'B', 'A','A+']"
   ]
  },
  {
   "cell_type": "code",
   "execution_count": 151,
   "metadata": {},
   "outputs": [],
   "source": [
    "#df_encoded['GPA1'] = pd.cut(df_encoded['GPA1'], bins=bins, labels=labels , right = False)"
   ]
  },
  {
   "cell_type": "code",
   "execution_count": 155,
   "metadata": {},
   "outputs": [],
   "source": [
    "#df.head()"
   ]
  },
  {
   "cell_type": "code",
   "execution_count": 156,
   "metadata": {},
   "outputs": [],
   "source": [
    "#df.GPA1.unique()"
   ]
  },
  {
   "cell_type": "code",
   "execution_count": 157,
   "metadata": {},
   "outputs": [],
   "source": [
    "#df[\"school\"] -=1"
   ]
  },
  {
   "cell_type": "code",
   "execution_count": 157,
   "metadata": {},
   "outputs": [],
   "source": [
    "#######   ONE HOT ENCODING \n",
    "\n",
    "from sklearn.preprocessing import OneHotEncoder\n",
    "\n",
    "\n",
    "enc=pd.get_dummies(df_encoded[\"governorate\"], prefix='gov')\n",
    "db=pd.concat([df_encoded.drop(\"governorate\" , axis=1), enc],  axis=1)\n",
    "\n",
    "\n",
    "enc=pd.get_dummies(db[\"school\"], prefix=\"sch\")\n",
    "db=pd.concat([db.drop(\"school\" , axis=1), enc],  axis=1)"
   ]
  },
  {
   "cell_type": "code",
   "execution_count": 158,
   "metadata": {},
   "outputs": [
    {
     "data": {
      "text/plain": [
       "Index(['gender', 'gpa1', 'gpa2', 'gpa3', 'gpa4', 'gpa5', 'gov_0', 'gov_1',\n",
       "       'gov_2', 'gov_3', 'sch_1', 'sch_2', 'sch_3', 'sch_5', 'sch_6', 'sch_7',\n",
       "       'sch_8', 'sch_9', 'sch_13', 'sch_14', 'sch_15', 'sch_16', 'sch_17',\n",
       "       'sch_18', 'sch_20', 'sch_21', 'sch_22', 'sch_23', 'sch_24', 'sch_25',\n",
       "       'sch_26', 'sch_27', 'sch_28', 'sch_29', 'sch_31', 'sch_32'],\n",
       "      dtype='object')"
      ]
     },
     "execution_count": 158,
     "metadata": {},
     "output_type": "execute_result"
    }
   ],
   "source": [
    "db.keys()"
   ]
  },
  {
   "cell_type": "code",
   "execution_count": 159,
   "metadata": {},
   "outputs": [
    {
     "data": {
      "text/html": [
       "<div>\n",
       "<style scoped>\n",
       "    .dataframe tbody tr th:only-of-type {\n",
       "        vertical-align: middle;\n",
       "    }\n",
       "\n",
       "    .dataframe tbody tr th {\n",
       "        vertical-align: top;\n",
       "    }\n",
       "\n",
       "    .dataframe thead th {\n",
       "        text-align: right;\n",
       "    }\n",
       "</style>\n",
       "<table border=\"1\" class=\"dataframe\">\n",
       "  <thead>\n",
       "    <tr style=\"text-align: right;\">\n",
       "      <th></th>\n",
       "      <th>gender</th>\n",
       "      <th>gpa1</th>\n",
       "      <th>gpa2</th>\n",
       "      <th>gpa3</th>\n",
       "      <th>gpa4</th>\n",
       "      <th>gpa5</th>\n",
       "      <th>gov_0</th>\n",
       "      <th>gov_1</th>\n",
       "      <th>gov_2</th>\n",
       "      <th>gov_3</th>\n",
       "      <th>...</th>\n",
       "      <th>sch_22</th>\n",
       "      <th>sch_23</th>\n",
       "      <th>sch_24</th>\n",
       "      <th>sch_25</th>\n",
       "      <th>sch_26</th>\n",
       "      <th>sch_27</th>\n",
       "      <th>sch_28</th>\n",
       "      <th>sch_29</th>\n",
       "      <th>sch_31</th>\n",
       "      <th>sch_32</th>\n",
       "    </tr>\n",
       "    <tr>\n",
       "      <th>student_no</th>\n",
       "      <th></th>\n",
       "      <th></th>\n",
       "      <th></th>\n",
       "      <th></th>\n",
       "      <th></th>\n",
       "      <th></th>\n",
       "      <th></th>\n",
       "      <th></th>\n",
       "      <th></th>\n",
       "      <th></th>\n",
       "      <th></th>\n",
       "      <th></th>\n",
       "      <th></th>\n",
       "      <th></th>\n",
       "      <th></th>\n",
       "      <th></th>\n",
       "      <th></th>\n",
       "      <th></th>\n",
       "      <th></th>\n",
       "      <th></th>\n",
       "      <th></th>\n",
       "    </tr>\n",
       "  </thead>\n",
       "  <tbody>\n",
       "    <tr>\n",
       "      <th>120172</th>\n",
       "      <td>1</td>\n",
       "      <td>1.132585</td>\n",
       "      <td>0.981089</td>\n",
       "      <td>0.652316</td>\n",
       "      <td>0.866627</td>\n",
       "      <td>0.852339</td>\n",
       "      <td>0</td>\n",
       "      <td>0</td>\n",
       "      <td>0</td>\n",
       "      <td>1</td>\n",
       "      <td>...</td>\n",
       "      <td>0</td>\n",
       "      <td>0</td>\n",
       "      <td>0</td>\n",
       "      <td>0</td>\n",
       "      <td>0</td>\n",
       "      <td>0</td>\n",
       "      <td>0</td>\n",
       "      <td>0</td>\n",
       "      <td>0</td>\n",
       "      <td>0</td>\n",
       "    </tr>\n",
       "    <tr>\n",
       "      <th>120173</th>\n",
       "      <td>1</td>\n",
       "      <td>-0.213424</td>\n",
       "      <td>0.211154</td>\n",
       "      <td>0.547748</td>\n",
       "      <td>0.620259</td>\n",
       "      <td>0.817677</td>\n",
       "      <td>0</td>\n",
       "      <td>0</td>\n",
       "      <td>0</td>\n",
       "      <td>1</td>\n",
       "      <td>...</td>\n",
       "      <td>0</td>\n",
       "      <td>0</td>\n",
       "      <td>0</td>\n",
       "      <td>0</td>\n",
       "      <td>0</td>\n",
       "      <td>0</td>\n",
       "      <td>0</td>\n",
       "      <td>0</td>\n",
       "      <td>0</td>\n",
       "      <td>0</td>\n",
       "    </tr>\n",
       "    <tr>\n",
       "      <th>120174</th>\n",
       "      <td>1</td>\n",
       "      <td>0.312072</td>\n",
       "      <td>0.637865</td>\n",
       "      <td>0.641859</td>\n",
       "      <td>0.353361</td>\n",
       "      <td>0.494168</td>\n",
       "      <td>0</td>\n",
       "      <td>0</td>\n",
       "      <td>0</td>\n",
       "      <td>1</td>\n",
       "      <td>...</td>\n",
       "      <td>0</td>\n",
       "      <td>0</td>\n",
       "      <td>0</td>\n",
       "      <td>0</td>\n",
       "      <td>0</td>\n",
       "      <td>0</td>\n",
       "      <td>0</td>\n",
       "      <td>0</td>\n",
       "      <td>0</td>\n",
       "      <td>0</td>\n",
       "    </tr>\n",
       "    <tr>\n",
       "      <th>120175</th>\n",
       "      <td>1</td>\n",
       "      <td>0.395046</td>\n",
       "      <td>0.517273</td>\n",
       "      <td>0.014452</td>\n",
       "      <td>0.548402</td>\n",
       "      <td>-0.187512</td>\n",
       "      <td>0</td>\n",
       "      <td>0</td>\n",
       "      <td>0</td>\n",
       "      <td>1</td>\n",
       "      <td>...</td>\n",
       "      <td>0</td>\n",
       "      <td>0</td>\n",
       "      <td>0</td>\n",
       "      <td>0</td>\n",
       "      <td>0</td>\n",
       "      <td>0</td>\n",
       "      <td>0</td>\n",
       "      <td>0</td>\n",
       "      <td>0</td>\n",
       "      <td>0</td>\n",
       "    </tr>\n",
       "    <tr>\n",
       "      <th>120177</th>\n",
       "      <td>1</td>\n",
       "      <td>-0.812675</td>\n",
       "      <td>-0.011478</td>\n",
       "      <td>0.014452</td>\n",
       "      <td>0.281504</td>\n",
       "      <td>0.390183</td>\n",
       "      <td>0</td>\n",
       "      <td>0</td>\n",
       "      <td>0</td>\n",
       "      <td>1</td>\n",
       "      <td>...</td>\n",
       "      <td>0</td>\n",
       "      <td>0</td>\n",
       "      <td>0</td>\n",
       "      <td>0</td>\n",
       "      <td>0</td>\n",
       "      <td>0</td>\n",
       "      <td>0</td>\n",
       "      <td>0</td>\n",
       "      <td>0</td>\n",
       "      <td>0</td>\n",
       "    </tr>\n",
       "  </tbody>\n",
       "</table>\n",
       "<p>5 rows × 36 columns</p>\n",
       "</div>"
      ],
      "text/plain": [
       "            gender      gpa1      gpa2      gpa3      gpa4      gpa5  gov_0  \\\n",
       "student_no                                                                    \n",
       "120172           1  1.132585  0.981089  0.652316  0.866627  0.852339      0   \n",
       "120173           1 -0.213424  0.211154  0.547748  0.620259  0.817677      0   \n",
       "120174           1  0.312072  0.637865  0.641859  0.353361  0.494168      0   \n",
       "120175           1  0.395046  0.517273  0.014452  0.548402 -0.187512      0   \n",
       "120177           1 -0.812675 -0.011478  0.014452  0.281504  0.390183      0   \n",
       "\n",
       "            gov_1  gov_2  gov_3  ...  sch_22  sch_23  sch_24  sch_25  sch_26  \\\n",
       "student_no                       ...                                           \n",
       "120172          0      0      1  ...       0       0       0       0       0   \n",
       "120173          0      0      1  ...       0       0       0       0       0   \n",
       "120174          0      0      1  ...       0       0       0       0       0   \n",
       "120175          0      0      1  ...       0       0       0       0       0   \n",
       "120177          0      0      1  ...       0       0       0       0       0   \n",
       "\n",
       "            sch_27  sch_28  sch_29  sch_31  sch_32  \n",
       "student_no                                          \n",
       "120172           0       0       0       0       0  \n",
       "120173           0       0       0       0       0  \n",
       "120174           0       0       0       0       0  \n",
       "120175           0       0       0       0       0  \n",
       "120177           0       0       0       0       0  \n",
       "\n",
       "[5 rows x 36 columns]"
      ]
     },
     "execution_count": 159,
     "metadata": {},
     "output_type": "execute_result"
    }
   ],
   "source": [
    "db.head()"
   ]
  },
  {
   "cell_type": "code",
   "execution_count": 160,
   "metadata": {},
   "outputs": [
    {
     "data": {
      "text/plain": [
       "(4117, 36)"
      ]
     },
     "execution_count": 160,
     "metadata": {},
     "output_type": "execute_result"
    }
   ],
   "source": [
    "db.shape"
   ]
  },
  {
   "cell_type": "code",
   "execution_count": 163,
   "metadata": {},
   "outputs": [],
   "source": [
    "######   converting type of GPA1 to classes from 0 to f\n",
    "\n",
    "\n",
    "\n",
    "#df_encoded['GPA1'] = df_encoded['GPA1'].astype('category')\n",
    "\n",
    "\n",
    "# Assigning numerical values and storing in another column\n",
    "#df_encoded['GPA1'] = df_encoded['GPA1'].cat.codes"
   ]
  },
  {
   "cell_type": "code",
   "execution_count": 161,
   "metadata": {},
   "outputs": [],
   "source": [
    "#df_encoded.head()"
   ]
  },
  {
   "cell_type": "code",
   "execution_count": 167,
   "metadata": {},
   "outputs": [
    {
     "data": {
      "text/plain": [
       "array([3, 4, 5, 2, 1], dtype=int64)"
      ]
     },
     "execution_count": 167,
     "metadata": {},
     "output_type": "execute_result"
    }
   ],
   "source": [
    "#df_encoded.GPA1.unique()"
   ]
  },
  {
   "cell_type": "code",
   "execution_count": 162,
   "metadata": {},
   "outputs": [],
   "source": [
    "#### write the new data as CSV\n",
    "\n",
    "db.to_csv(\"encodedData2017-9MARS.csv\", index=True)"
   ]
  },
  {
   "cell_type": "code",
   "execution_count": null,
   "metadata": {},
   "outputs": [],
   "source": []
  },
  {
   "cell_type": "code",
   "execution_count": null,
   "metadata": {},
   "outputs": [],
   "source": []
  },
  {
   "cell_type": "code",
   "execution_count": null,
   "metadata": {},
   "outputs": [],
   "source": []
  },
  {
   "cell_type": "code",
   "execution_count": null,
   "metadata": {},
   "outputs": [],
   "source": []
  },
  {
   "cell_type": "code",
   "execution_count": 164,
   "metadata": {},
   "outputs": [],
   "source": [
    "######## START FROM HERE      -------    LOADING THE ENCODED DATA\n",
    "\n",
    "\n",
    "data = pd.read_csv('encodedData2017-9MARS.csv')"
   ]
  },
  {
   "cell_type": "code",
   "execution_count": null,
   "metadata": {},
   "outputs": [],
   "source": []
  },
  {
   "cell_type": "code",
   "execution_count": 165,
   "metadata": {},
   "outputs": [
    {
     "data": {
      "text/html": [
       "<div>\n",
       "<style scoped>\n",
       "    .dataframe tbody tr th:only-of-type {\n",
       "        vertical-align: middle;\n",
       "    }\n",
       "\n",
       "    .dataframe tbody tr th {\n",
       "        vertical-align: top;\n",
       "    }\n",
       "\n",
       "    .dataframe thead th {\n",
       "        text-align: right;\n",
       "    }\n",
       "</style>\n",
       "<table border=\"1\" class=\"dataframe\">\n",
       "  <thead>\n",
       "    <tr style=\"text-align: right;\">\n",
       "      <th></th>\n",
       "      <th>student_no</th>\n",
       "      <th>gender</th>\n",
       "      <th>gpa1</th>\n",
       "      <th>gpa2</th>\n",
       "      <th>gpa3</th>\n",
       "      <th>gpa4</th>\n",
       "      <th>gpa5</th>\n",
       "      <th>gov_0</th>\n",
       "      <th>gov_1</th>\n",
       "      <th>gov_2</th>\n",
       "      <th>...</th>\n",
       "      <th>sch_22</th>\n",
       "      <th>sch_23</th>\n",
       "      <th>sch_24</th>\n",
       "      <th>sch_25</th>\n",
       "      <th>sch_26</th>\n",
       "      <th>sch_27</th>\n",
       "      <th>sch_28</th>\n",
       "      <th>sch_29</th>\n",
       "      <th>sch_31</th>\n",
       "      <th>sch_32</th>\n",
       "    </tr>\n",
       "  </thead>\n",
       "  <tbody>\n",
       "    <tr>\n",
       "      <th>0</th>\n",
       "      <td>120172</td>\n",
       "      <td>1</td>\n",
       "      <td>1.132585</td>\n",
       "      <td>0.981089</td>\n",
       "      <td>0.652316</td>\n",
       "      <td>0.866627</td>\n",
       "      <td>0.852339</td>\n",
       "      <td>0</td>\n",
       "      <td>0</td>\n",
       "      <td>0</td>\n",
       "      <td>...</td>\n",
       "      <td>0</td>\n",
       "      <td>0</td>\n",
       "      <td>0</td>\n",
       "      <td>0</td>\n",
       "      <td>0</td>\n",
       "      <td>0</td>\n",
       "      <td>0</td>\n",
       "      <td>0</td>\n",
       "      <td>0</td>\n",
       "      <td>0</td>\n",
       "    </tr>\n",
       "    <tr>\n",
       "      <th>1</th>\n",
       "      <td>120173</td>\n",
       "      <td>1</td>\n",
       "      <td>-0.213424</td>\n",
       "      <td>0.211154</td>\n",
       "      <td>0.547748</td>\n",
       "      <td>0.620259</td>\n",
       "      <td>0.817677</td>\n",
       "      <td>0</td>\n",
       "      <td>0</td>\n",
       "      <td>0</td>\n",
       "      <td>...</td>\n",
       "      <td>0</td>\n",
       "      <td>0</td>\n",
       "      <td>0</td>\n",
       "      <td>0</td>\n",
       "      <td>0</td>\n",
       "      <td>0</td>\n",
       "      <td>0</td>\n",
       "      <td>0</td>\n",
       "      <td>0</td>\n",
       "      <td>0</td>\n",
       "    </tr>\n",
       "    <tr>\n",
       "      <th>2</th>\n",
       "      <td>120174</td>\n",
       "      <td>1</td>\n",
       "      <td>0.312072</td>\n",
       "      <td>0.637865</td>\n",
       "      <td>0.641859</td>\n",
       "      <td>0.353361</td>\n",
       "      <td>0.494168</td>\n",
       "      <td>0</td>\n",
       "      <td>0</td>\n",
       "      <td>0</td>\n",
       "      <td>...</td>\n",
       "      <td>0</td>\n",
       "      <td>0</td>\n",
       "      <td>0</td>\n",
       "      <td>0</td>\n",
       "      <td>0</td>\n",
       "      <td>0</td>\n",
       "      <td>0</td>\n",
       "      <td>0</td>\n",
       "      <td>0</td>\n",
       "      <td>0</td>\n",
       "    </tr>\n",
       "    <tr>\n",
       "      <th>3</th>\n",
       "      <td>120175</td>\n",
       "      <td>1</td>\n",
       "      <td>0.395046</td>\n",
       "      <td>0.517273</td>\n",
       "      <td>0.014452</td>\n",
       "      <td>0.548402</td>\n",
       "      <td>-0.187512</td>\n",
       "      <td>0</td>\n",
       "      <td>0</td>\n",
       "      <td>0</td>\n",
       "      <td>...</td>\n",
       "      <td>0</td>\n",
       "      <td>0</td>\n",
       "      <td>0</td>\n",
       "      <td>0</td>\n",
       "      <td>0</td>\n",
       "      <td>0</td>\n",
       "      <td>0</td>\n",
       "      <td>0</td>\n",
       "      <td>0</td>\n",
       "      <td>0</td>\n",
       "    </tr>\n",
       "    <tr>\n",
       "      <th>4</th>\n",
       "      <td>120177</td>\n",
       "      <td>1</td>\n",
       "      <td>-0.812675</td>\n",
       "      <td>-0.011478</td>\n",
       "      <td>0.014452</td>\n",
       "      <td>0.281504</td>\n",
       "      <td>0.390183</td>\n",
       "      <td>0</td>\n",
       "      <td>0</td>\n",
       "      <td>0</td>\n",
       "      <td>...</td>\n",
       "      <td>0</td>\n",
       "      <td>0</td>\n",
       "      <td>0</td>\n",
       "      <td>0</td>\n",
       "      <td>0</td>\n",
       "      <td>0</td>\n",
       "      <td>0</td>\n",
       "      <td>0</td>\n",
       "      <td>0</td>\n",
       "      <td>0</td>\n",
       "    </tr>\n",
       "  </tbody>\n",
       "</table>\n",
       "<p>5 rows × 37 columns</p>\n",
       "</div>"
      ],
      "text/plain": [
       "   student_no  gender      gpa1      gpa2      gpa3      gpa4      gpa5  \\\n",
       "0      120172       1  1.132585  0.981089  0.652316  0.866627  0.852339   \n",
       "1      120173       1 -0.213424  0.211154  0.547748  0.620259  0.817677   \n",
       "2      120174       1  0.312072  0.637865  0.641859  0.353361  0.494168   \n",
       "3      120175       1  0.395046  0.517273  0.014452  0.548402 -0.187512   \n",
       "4      120177       1 -0.812675 -0.011478  0.014452  0.281504  0.390183   \n",
       "\n",
       "   gov_0  gov_1  gov_2  ...  sch_22  sch_23  sch_24  sch_25  sch_26  sch_27  \\\n",
       "0      0      0      0  ...       0       0       0       0       0       0   \n",
       "1      0      0      0  ...       0       0       0       0       0       0   \n",
       "2      0      0      0  ...       0       0       0       0       0       0   \n",
       "3      0      0      0  ...       0       0       0       0       0       0   \n",
       "4      0      0      0  ...       0       0       0       0       0       0   \n",
       "\n",
       "   sch_28  sch_29  sch_31  sch_32  \n",
       "0       0       0       0       0  \n",
       "1       0       0       0       0  \n",
       "2       0       0       0       0  \n",
       "3       0       0       0       0  \n",
       "4       0       0       0       0  \n",
       "\n",
       "[5 rows x 37 columns]"
      ]
     },
     "execution_count": 165,
     "metadata": {},
     "output_type": "execute_result"
    }
   ],
   "source": [
    "data.head()"
   ]
  },
  {
   "cell_type": "code",
   "execution_count": 166,
   "metadata": {},
   "outputs": [],
   "source": [
    "data.set_index('student_no' ,inplace= True)"
   ]
  },
  {
   "cell_type": "code",
   "execution_count": 176,
   "metadata": {},
   "outputs": [
    {
     "data": {
      "text/html": [
       "<div>\n",
       "<style scoped>\n",
       "    .dataframe tbody tr th:only-of-type {\n",
       "        vertical-align: middle;\n",
       "    }\n",
       "\n",
       "    .dataframe tbody tr th {\n",
       "        vertical-align: top;\n",
       "    }\n",
       "\n",
       "    .dataframe thead th {\n",
       "        text-align: right;\n",
       "    }\n",
       "</style>\n",
       "<table border=\"1\" class=\"dataframe\">\n",
       "  <thead>\n",
       "    <tr style=\"text-align: right;\">\n",
       "      <th></th>\n",
       "      <th>gender</th>\n",
       "      <th>gpa1</th>\n",
       "      <th>gpa2</th>\n",
       "      <th>gpa3</th>\n",
       "      <th>gpa4</th>\n",
       "      <th>gpa5</th>\n",
       "      <th>gov_0</th>\n",
       "      <th>gov_1</th>\n",
       "      <th>gov_2</th>\n",
       "      <th>gov_3</th>\n",
       "      <th>...</th>\n",
       "      <th>sch_22</th>\n",
       "      <th>sch_23</th>\n",
       "      <th>sch_24</th>\n",
       "      <th>sch_25</th>\n",
       "      <th>sch_26</th>\n",
       "      <th>sch_27</th>\n",
       "      <th>sch_28</th>\n",
       "      <th>sch_29</th>\n",
       "      <th>sch_31</th>\n",
       "      <th>sch_32</th>\n",
       "    </tr>\n",
       "    <tr>\n",
       "      <th>student_no</th>\n",
       "      <th></th>\n",
       "      <th></th>\n",
       "      <th></th>\n",
       "      <th></th>\n",
       "      <th></th>\n",
       "      <th></th>\n",
       "      <th></th>\n",
       "      <th></th>\n",
       "      <th></th>\n",
       "      <th></th>\n",
       "      <th></th>\n",
       "      <th></th>\n",
       "      <th></th>\n",
       "      <th></th>\n",
       "      <th></th>\n",
       "      <th></th>\n",
       "      <th></th>\n",
       "      <th></th>\n",
       "      <th></th>\n",
       "      <th></th>\n",
       "      <th></th>\n",
       "    </tr>\n",
       "  </thead>\n",
       "  <tbody>\n",
       "    <tr>\n",
       "      <th>120172</th>\n",
       "      <td>1</td>\n",
       "      <td>1.132585</td>\n",
       "      <td>0.981089</td>\n",
       "      <td>0.652316</td>\n",
       "      <td>0.866627</td>\n",
       "      <td>0.852339</td>\n",
       "      <td>0</td>\n",
       "      <td>0</td>\n",
       "      <td>0</td>\n",
       "      <td>1</td>\n",
       "      <td>...</td>\n",
       "      <td>0</td>\n",
       "      <td>0</td>\n",
       "      <td>0</td>\n",
       "      <td>0</td>\n",
       "      <td>0</td>\n",
       "      <td>0</td>\n",
       "      <td>0</td>\n",
       "      <td>0</td>\n",
       "      <td>0</td>\n",
       "      <td>0</td>\n",
       "    </tr>\n",
       "    <tr>\n",
       "      <th>120173</th>\n",
       "      <td>1</td>\n",
       "      <td>-0.213424</td>\n",
       "      <td>0.211154</td>\n",
       "      <td>0.547748</td>\n",
       "      <td>0.620259</td>\n",
       "      <td>0.817677</td>\n",
       "      <td>0</td>\n",
       "      <td>0</td>\n",
       "      <td>0</td>\n",
       "      <td>1</td>\n",
       "      <td>...</td>\n",
       "      <td>0</td>\n",
       "      <td>0</td>\n",
       "      <td>0</td>\n",
       "      <td>0</td>\n",
       "      <td>0</td>\n",
       "      <td>0</td>\n",
       "      <td>0</td>\n",
       "      <td>0</td>\n",
       "      <td>0</td>\n",
       "      <td>0</td>\n",
       "    </tr>\n",
       "    <tr>\n",
       "      <th>120174</th>\n",
       "      <td>1</td>\n",
       "      <td>0.312072</td>\n",
       "      <td>0.637865</td>\n",
       "      <td>0.641859</td>\n",
       "      <td>0.353361</td>\n",
       "      <td>0.494168</td>\n",
       "      <td>0</td>\n",
       "      <td>0</td>\n",
       "      <td>0</td>\n",
       "      <td>1</td>\n",
       "      <td>...</td>\n",
       "      <td>0</td>\n",
       "      <td>0</td>\n",
       "      <td>0</td>\n",
       "      <td>0</td>\n",
       "      <td>0</td>\n",
       "      <td>0</td>\n",
       "      <td>0</td>\n",
       "      <td>0</td>\n",
       "      <td>0</td>\n",
       "      <td>0</td>\n",
       "    </tr>\n",
       "    <tr>\n",
       "      <th>120175</th>\n",
       "      <td>1</td>\n",
       "      <td>0.395046</td>\n",
       "      <td>0.517273</td>\n",
       "      <td>0.014452</td>\n",
       "      <td>0.548402</td>\n",
       "      <td>-0.187512</td>\n",
       "      <td>0</td>\n",
       "      <td>0</td>\n",
       "      <td>0</td>\n",
       "      <td>1</td>\n",
       "      <td>...</td>\n",
       "      <td>0</td>\n",
       "      <td>0</td>\n",
       "      <td>0</td>\n",
       "      <td>0</td>\n",
       "      <td>0</td>\n",
       "      <td>0</td>\n",
       "      <td>0</td>\n",
       "      <td>0</td>\n",
       "      <td>0</td>\n",
       "      <td>0</td>\n",
       "    </tr>\n",
       "    <tr>\n",
       "      <th>120177</th>\n",
       "      <td>1</td>\n",
       "      <td>-0.812675</td>\n",
       "      <td>-0.011478</td>\n",
       "      <td>0.014452</td>\n",
       "      <td>0.281504</td>\n",
       "      <td>0.390183</td>\n",
       "      <td>0</td>\n",
       "      <td>0</td>\n",
       "      <td>0</td>\n",
       "      <td>1</td>\n",
       "      <td>...</td>\n",
       "      <td>0</td>\n",
       "      <td>0</td>\n",
       "      <td>0</td>\n",
       "      <td>0</td>\n",
       "      <td>0</td>\n",
       "      <td>0</td>\n",
       "      <td>0</td>\n",
       "      <td>0</td>\n",
       "      <td>0</td>\n",
       "      <td>0</td>\n",
       "    </tr>\n",
       "  </tbody>\n",
       "</table>\n",
       "<p>5 rows × 36 columns</p>\n",
       "</div>"
      ],
      "text/plain": [
       "            gender      gpa1      gpa2      gpa3      gpa4      gpa5  gov_0  \\\n",
       "student_no                                                                    \n",
       "120172           1  1.132585  0.981089  0.652316  0.866627  0.852339      0   \n",
       "120173           1 -0.213424  0.211154  0.547748  0.620259  0.817677      0   \n",
       "120174           1  0.312072  0.637865  0.641859  0.353361  0.494168      0   \n",
       "120175           1  0.395046  0.517273  0.014452  0.548402 -0.187512      0   \n",
       "120177           1 -0.812675 -0.011478  0.014452  0.281504  0.390183      0   \n",
       "\n",
       "            gov_1  gov_2  gov_3  ...  sch_22  sch_23  sch_24  sch_25  sch_26  \\\n",
       "student_no                       ...                                           \n",
       "120172          0      0      1  ...       0       0       0       0       0   \n",
       "120173          0      0      1  ...       0       0       0       0       0   \n",
       "120174          0      0      1  ...       0       0       0       0       0   \n",
       "120175          0      0      1  ...       0       0       0       0       0   \n",
       "120177          0      0      1  ...       0       0       0       0       0   \n",
       "\n",
       "            sch_27  sch_28  sch_29  sch_31  sch_32  \n",
       "student_no                                          \n",
       "120172           0       0       0       0       0  \n",
       "120173           0       0       0       0       0  \n",
       "120174           0       0       0       0       0  \n",
       "120175           0       0       0       0       0  \n",
       "120177           0       0       0       0       0  \n",
       "\n",
       "[5 rows x 36 columns]"
      ]
     },
     "execution_count": 176,
     "metadata": {},
     "output_type": "execute_result"
    }
   ],
   "source": [
    "data.head()"
   ]
  },
  {
   "cell_type": "code",
   "execution_count": 171,
   "metadata": {},
   "outputs": [],
   "source": [
    "import joblib"
   ]
  },
  {
   "cell_type": "code",
   "execution_count": 172,
   "metadata": {},
   "outputs": [],
   "source": [
    "loaded_model = joblib.load('finalized_model.sav')"
   ]
  },
  {
   "cell_type": "code",
   "execution_count": 1,
   "metadata": {},
   "outputs": [],
   "source": [
    "prediction =  loaded_model.predict(data.iloc[:10,:])"
   ]
  },
  {
   "cell_type": "code",
   "execution_count": 177,
   "metadata": {},
   "outputs": [
    {
     "data": {
      "text/html": [
       "<div>\n",
       "<style scoped>\n",
       "    .dataframe tbody tr th:only-of-type {\n",
       "        vertical-align: middle;\n",
       "    }\n",
       "\n",
       "    .dataframe tbody tr th {\n",
       "        vertical-align: top;\n",
       "    }\n",
       "\n",
       "    .dataframe thead th {\n",
       "        text-align: right;\n",
       "    }\n",
       "</style>\n",
       "<table border=\"1\" class=\"dataframe\">\n",
       "  <thead>\n",
       "    <tr style=\"text-align: right;\">\n",
       "      <th></th>\n",
       "      <th>gender</th>\n",
       "      <th>gpa1</th>\n",
       "      <th>gpa2</th>\n",
       "      <th>gpa3</th>\n",
       "      <th>gpa4</th>\n",
       "      <th>gpa5</th>\n",
       "      <th>gov_0</th>\n",
       "      <th>gov_1</th>\n",
       "      <th>gov_2</th>\n",
       "      <th>gov_3</th>\n",
       "      <th>...</th>\n",
       "      <th>sch_22</th>\n",
       "      <th>sch_23</th>\n",
       "      <th>sch_24</th>\n",
       "      <th>sch_25</th>\n",
       "      <th>sch_26</th>\n",
       "      <th>sch_27</th>\n",
       "      <th>sch_28</th>\n",
       "      <th>sch_29</th>\n",
       "      <th>sch_31</th>\n",
       "      <th>sch_32</th>\n",
       "    </tr>\n",
       "    <tr>\n",
       "      <th>student_no</th>\n",
       "      <th></th>\n",
       "      <th></th>\n",
       "      <th></th>\n",
       "      <th></th>\n",
       "      <th></th>\n",
       "      <th></th>\n",
       "      <th></th>\n",
       "      <th></th>\n",
       "      <th></th>\n",
       "      <th></th>\n",
       "      <th></th>\n",
       "      <th></th>\n",
       "      <th></th>\n",
       "      <th></th>\n",
       "      <th></th>\n",
       "      <th></th>\n",
       "      <th></th>\n",
       "      <th></th>\n",
       "      <th></th>\n",
       "      <th></th>\n",
       "      <th></th>\n",
       "    </tr>\n",
       "  </thead>\n",
       "  <tbody>\n",
       "    <tr>\n",
       "      <th>120172</th>\n",
       "      <td>1</td>\n",
       "      <td>1.132585</td>\n",
       "      <td>0.981089</td>\n",
       "      <td>0.652316</td>\n",
       "      <td>0.866627</td>\n",
       "      <td>0.852339</td>\n",
       "      <td>0</td>\n",
       "      <td>0</td>\n",
       "      <td>0</td>\n",
       "      <td>1</td>\n",
       "      <td>...</td>\n",
       "      <td>0</td>\n",
       "      <td>0</td>\n",
       "      <td>0</td>\n",
       "      <td>0</td>\n",
       "      <td>0</td>\n",
       "      <td>0</td>\n",
       "      <td>0</td>\n",
       "      <td>0</td>\n",
       "      <td>0</td>\n",
       "      <td>0</td>\n",
       "    </tr>\n",
       "    <tr>\n",
       "      <th>120173</th>\n",
       "      <td>1</td>\n",
       "      <td>-0.213424</td>\n",
       "      <td>0.211154</td>\n",
       "      <td>0.547748</td>\n",
       "      <td>0.620259</td>\n",
       "      <td>0.817677</td>\n",
       "      <td>0</td>\n",
       "      <td>0</td>\n",
       "      <td>0</td>\n",
       "      <td>1</td>\n",
       "      <td>...</td>\n",
       "      <td>0</td>\n",
       "      <td>0</td>\n",
       "      <td>0</td>\n",
       "      <td>0</td>\n",
       "      <td>0</td>\n",
       "      <td>0</td>\n",
       "      <td>0</td>\n",
       "      <td>0</td>\n",
       "      <td>0</td>\n",
       "      <td>0</td>\n",
       "    </tr>\n",
       "    <tr>\n",
       "      <th>120174</th>\n",
       "      <td>1</td>\n",
       "      <td>0.312072</td>\n",
       "      <td>0.637865</td>\n",
       "      <td>0.641859</td>\n",
       "      <td>0.353361</td>\n",
       "      <td>0.494168</td>\n",
       "      <td>0</td>\n",
       "      <td>0</td>\n",
       "      <td>0</td>\n",
       "      <td>1</td>\n",
       "      <td>...</td>\n",
       "      <td>0</td>\n",
       "      <td>0</td>\n",
       "      <td>0</td>\n",
       "      <td>0</td>\n",
       "      <td>0</td>\n",
       "      <td>0</td>\n",
       "      <td>0</td>\n",
       "      <td>0</td>\n",
       "      <td>0</td>\n",
       "      <td>0</td>\n",
       "    </tr>\n",
       "    <tr>\n",
       "      <th>120175</th>\n",
       "      <td>1</td>\n",
       "      <td>0.395046</td>\n",
       "      <td>0.517273</td>\n",
       "      <td>0.014452</td>\n",
       "      <td>0.548402</td>\n",
       "      <td>-0.187512</td>\n",
       "      <td>0</td>\n",
       "      <td>0</td>\n",
       "      <td>0</td>\n",
       "      <td>1</td>\n",
       "      <td>...</td>\n",
       "      <td>0</td>\n",
       "      <td>0</td>\n",
       "      <td>0</td>\n",
       "      <td>0</td>\n",
       "      <td>0</td>\n",
       "      <td>0</td>\n",
       "      <td>0</td>\n",
       "      <td>0</td>\n",
       "      <td>0</td>\n",
       "      <td>0</td>\n",
       "    </tr>\n",
       "    <tr>\n",
       "      <th>120177</th>\n",
       "      <td>1</td>\n",
       "      <td>-0.812675</td>\n",
       "      <td>-0.011478</td>\n",
       "      <td>0.014452</td>\n",
       "      <td>0.281504</td>\n",
       "      <td>0.390183</td>\n",
       "      <td>0</td>\n",
       "      <td>0</td>\n",
       "      <td>0</td>\n",
       "      <td>1</td>\n",
       "      <td>...</td>\n",
       "      <td>0</td>\n",
       "      <td>0</td>\n",
       "      <td>0</td>\n",
       "      <td>0</td>\n",
       "      <td>0</td>\n",
       "      <td>0</td>\n",
       "      <td>0</td>\n",
       "      <td>0</td>\n",
       "      <td>0</td>\n",
       "      <td>0</td>\n",
       "    </tr>\n",
       "    <tr>\n",
       "      <th>120178</th>\n",
       "      <td>1</td>\n",
       "      <td>-0.388590</td>\n",
       "      <td>-0.057859</td>\n",
       "      <td>-0.612955</td>\n",
       "      <td>-0.272822</td>\n",
       "      <td>-1.250470</td>\n",
       "      <td>0</td>\n",
       "      <td>0</td>\n",
       "      <td>0</td>\n",
       "      <td>1</td>\n",
       "      <td>...</td>\n",
       "      <td>0</td>\n",
       "      <td>0</td>\n",
       "      <td>0</td>\n",
       "      <td>0</td>\n",
       "      <td>0</td>\n",
       "      <td>0</td>\n",
       "      <td>0</td>\n",
       "      <td>0</td>\n",
       "      <td>0</td>\n",
       "      <td>0</td>\n",
       "    </tr>\n",
       "    <tr>\n",
       "      <th>220171</th>\n",
       "      <td>0</td>\n",
       "      <td>1.363065</td>\n",
       "      <td>1.203720</td>\n",
       "      <td>1.060130</td>\n",
       "      <td>1.010341</td>\n",
       "      <td>0.725246</td>\n",
       "      <td>0</td>\n",
       "      <td>0</td>\n",
       "      <td>0</td>\n",
       "      <td>1</td>\n",
       "      <td>...</td>\n",
       "      <td>0</td>\n",
       "      <td>0</td>\n",
       "      <td>0</td>\n",
       "      <td>0</td>\n",
       "      <td>0</td>\n",
       "      <td>0</td>\n",
       "      <td>0</td>\n",
       "      <td>0</td>\n",
       "      <td>0</td>\n",
       "      <td>0</td>\n",
       "    </tr>\n",
       "    <tr>\n",
       "      <th>220172</th>\n",
       "      <td>0</td>\n",
       "      <td>0.856007</td>\n",
       "      <td>0.999641</td>\n",
       "      <td>0.505921</td>\n",
       "      <td>0.938484</td>\n",
       "      <td>0.216875</td>\n",
       "      <td>0</td>\n",
       "      <td>0</td>\n",
       "      <td>0</td>\n",
       "      <td>1</td>\n",
       "      <td>...</td>\n",
       "      <td>0</td>\n",
       "      <td>0</td>\n",
       "      <td>0</td>\n",
       "      <td>0</td>\n",
       "      <td>0</td>\n",
       "      <td>0</td>\n",
       "      <td>0</td>\n",
       "      <td>0</td>\n",
       "      <td>0</td>\n",
       "      <td>0</td>\n",
       "    </tr>\n",
       "    <tr>\n",
       "      <th>220173</th>\n",
       "      <td>0</td>\n",
       "      <td>0.911323</td>\n",
       "      <td>0.953260</td>\n",
       "      <td>0.882365</td>\n",
       "      <td>1.102729</td>\n",
       "      <td>0.609707</td>\n",
       "      <td>0</td>\n",
       "      <td>0</td>\n",
       "      <td>0</td>\n",
       "      <td>1</td>\n",
       "      <td>...</td>\n",
       "      <td>0</td>\n",
       "      <td>0</td>\n",
       "      <td>0</td>\n",
       "      <td>0</td>\n",
       "      <td>0</td>\n",
       "      <td>0</td>\n",
       "      <td>0</td>\n",
       "      <td>0</td>\n",
       "      <td>0</td>\n",
       "      <td>0</td>\n",
       "    </tr>\n",
       "    <tr>\n",
       "      <th>220174</th>\n",
       "      <td>0</td>\n",
       "      <td>0.736157</td>\n",
       "      <td>1.110957</td>\n",
       "      <td>0.715056</td>\n",
       "      <td>1.082198</td>\n",
       "      <td>1.094971</td>\n",
       "      <td>0</td>\n",
       "      <td>0</td>\n",
       "      <td>0</td>\n",
       "      <td>1</td>\n",
       "      <td>...</td>\n",
       "      <td>0</td>\n",
       "      <td>0</td>\n",
       "      <td>0</td>\n",
       "      <td>0</td>\n",
       "      <td>0</td>\n",
       "      <td>0</td>\n",
       "      <td>0</td>\n",
       "      <td>0</td>\n",
       "      <td>0</td>\n",
       "      <td>0</td>\n",
       "    </tr>\n",
       "  </tbody>\n",
       "</table>\n",
       "<p>10 rows × 36 columns</p>\n",
       "</div>"
      ],
      "text/plain": [
       "            gender      gpa1      gpa2      gpa3      gpa4      gpa5  gov_0  \\\n",
       "student_no                                                                    \n",
       "120172           1  1.132585  0.981089  0.652316  0.866627  0.852339      0   \n",
       "120173           1 -0.213424  0.211154  0.547748  0.620259  0.817677      0   \n",
       "120174           1  0.312072  0.637865  0.641859  0.353361  0.494168      0   \n",
       "120175           1  0.395046  0.517273  0.014452  0.548402 -0.187512      0   \n",
       "120177           1 -0.812675 -0.011478  0.014452  0.281504  0.390183      0   \n",
       "120178           1 -0.388590 -0.057859 -0.612955 -0.272822 -1.250470      0   \n",
       "220171           0  1.363065  1.203720  1.060130  1.010341  0.725246      0   \n",
       "220172           0  0.856007  0.999641  0.505921  0.938484  0.216875      0   \n",
       "220173           0  0.911323  0.953260  0.882365  1.102729  0.609707      0   \n",
       "220174           0  0.736157  1.110957  0.715056  1.082198  1.094971      0   \n",
       "\n",
       "            gov_1  gov_2  gov_3  ...  sch_22  sch_23  sch_24  sch_25  sch_26  \\\n",
       "student_no                       ...                                           \n",
       "120172          0      0      1  ...       0       0       0       0       0   \n",
       "120173          0      0      1  ...       0       0       0       0       0   \n",
       "120174          0      0      1  ...       0       0       0       0       0   \n",
       "120175          0      0      1  ...       0       0       0       0       0   \n",
       "120177          0      0      1  ...       0       0       0       0       0   \n",
       "120178          0      0      1  ...       0       0       0       0       0   \n",
       "220171          0      0      1  ...       0       0       0       0       0   \n",
       "220172          0      0      1  ...       0       0       0       0       0   \n",
       "220173          0      0      1  ...       0       0       0       0       0   \n",
       "220174          0      0      1  ...       0       0       0       0       0   \n",
       "\n",
       "            sch_27  sch_28  sch_29  sch_31  sch_32  \n",
       "student_no                                          \n",
       "120172           0       0       0       0       0  \n",
       "120173           0       0       0       0       0  \n",
       "120174           0       0       0       0       0  \n",
       "120175           0       0       0       0       0  \n",
       "120177           0       0       0       0       0  \n",
       "120178           0       0       0       0       0  \n",
       "220171           0       0       0       0       0  \n",
       "220172           0       0       0       0       0  \n",
       "220173           0       0       0       0       0  \n",
       "220174           0       0       0       0       0  \n",
       "\n",
       "[10 rows x 36 columns]"
      ]
     },
     "execution_count": 177,
     "metadata": {},
     "output_type": "execute_result"
    }
   ],
   "source": [
    "data.iloc[:10,:]"
   ]
  },
  {
   "cell_type": "code",
   "execution_count": null,
   "metadata": {},
   "outputs": [],
   "source": []
  },
  {
   "cell_type": "code",
   "execution_count": null,
   "metadata": {},
   "outputs": [],
   "source": []
  },
  {
   "cell_type": "code",
   "execution_count": null,
   "metadata": {},
   "outputs": [],
   "source": []
  },
  {
   "cell_type": "code",
   "execution_count": 228,
   "metadata": {},
   "outputs": [],
   "source": [
    "weight=data[\"GPA1\"].value_counts().apply(lambda x : 1/(x/y.shape[0]))\n",
    "\n",
    "data[\"weight\"]=data[\"GPA1\"].apply(lambda x : weight[x] )"
   ]
  },
  {
   "cell_type": "code",
   "execution_count": 230,
   "metadata": {},
   "outputs": [
    {
     "data": {
      "text/plain": [
       "3      2.472851\n",
       "4      3.368259\n",
       "5      5.605128\n",
       "2      8.850202\n",
       "1    136.625000\n",
       "Name: GPA1, dtype: float64"
      ]
     },
     "execution_count": 230,
     "metadata": {},
     "output_type": "execute_result"
    }
   ],
   "source": [
    "weight"
   ]
  },
  {
   "cell_type": "code",
   "execution_count": 231,
   "metadata": {},
   "outputs": [
    {
     "data": {
      "text/html": [
       "<div>\n",
       "<style scoped>\n",
       "    .dataframe tbody tr th:only-of-type {\n",
       "        vertical-align: middle;\n",
       "    }\n",
       "\n",
       "    .dataframe tbody tr th {\n",
       "        vertical-align: top;\n",
       "    }\n",
       "\n",
       "    .dataframe thead th {\n",
       "        text-align: right;\n",
       "    }\n",
       "</style>\n",
       "<table border=\"1\" class=\"dataframe\">\n",
       "  <thead>\n",
       "    <tr style=\"text-align: right;\">\n",
       "      <th></th>\n",
       "      <th>STUDENT_NO</th>\n",
       "      <th>GPA1</th>\n",
       "      <th>gender</th>\n",
       "      <th>gpa1</th>\n",
       "      <th>gpa2</th>\n",
       "      <th>gpa3</th>\n",
       "      <th>gpa4</th>\n",
       "      <th>gpa5</th>\n",
       "      <th>gov_0</th>\n",
       "      <th>gov_1</th>\n",
       "      <th>...</th>\n",
       "      <th>sch_19</th>\n",
       "      <th>sch_20</th>\n",
       "      <th>sch_21</th>\n",
       "      <th>sch_22</th>\n",
       "      <th>sch_23</th>\n",
       "      <th>sch_24</th>\n",
       "      <th>sch_25</th>\n",
       "      <th>sch_26</th>\n",
       "      <th>sch_27</th>\n",
       "      <th>weight</th>\n",
       "    </tr>\n",
       "  </thead>\n",
       "  <tbody>\n",
       "    <tr>\n",
       "      <th>0</th>\n",
       "      <td>17152016100</td>\n",
       "      <td>3</td>\n",
       "      <td>1</td>\n",
       "      <td>0.166818</td>\n",
       "      <td>-0.232613</td>\n",
       "      <td>-0.214534</td>\n",
       "      <td>0.094744</td>\n",
       "      <td>-0.337099</td>\n",
       "      <td>0</td>\n",
       "      <td>0</td>\n",
       "      <td>...</td>\n",
       "      <td>0</td>\n",
       "      <td>0</td>\n",
       "      <td>0</td>\n",
       "      <td>0</td>\n",
       "      <td>0</td>\n",
       "      <td>0</td>\n",
       "      <td>0</td>\n",
       "      <td>0</td>\n",
       "      <td>0</td>\n",
       "      <td>2.472851</td>\n",
       "    </tr>\n",
       "    <tr>\n",
       "      <th>1</th>\n",
       "      <td>1715201611</td>\n",
       "      <td>3</td>\n",
       "      <td>1</td>\n",
       "      <td>0.585074</td>\n",
       "      <td>0.582445</td>\n",
       "      <td>0.624367</td>\n",
       "      <td>0.206273</td>\n",
       "      <td>-0.769629</td>\n",
       "      <td>0</td>\n",
       "      <td>0</td>\n",
       "      <td>...</td>\n",
       "      <td>0</td>\n",
       "      <td>0</td>\n",
       "      <td>0</td>\n",
       "      <td>0</td>\n",
       "      <td>0</td>\n",
       "      <td>0</td>\n",
       "      <td>0</td>\n",
       "      <td>0</td>\n",
       "      <td>0</td>\n",
       "      <td>2.472851</td>\n",
       "    </tr>\n",
       "    <tr>\n",
       "      <th>2</th>\n",
       "      <td>17152016110</td>\n",
       "      <td>3</td>\n",
       "      <td>1</td>\n",
       "      <td>-0.739404</td>\n",
       "      <td>-0.010325</td>\n",
       "      <td>-1.040328</td>\n",
       "      <td>-0.030727</td>\n",
       "      <td>-0.376420</td>\n",
       "      <td>0</td>\n",
       "      <td>0</td>\n",
       "      <td>...</td>\n",
       "      <td>0</td>\n",
       "      <td>0</td>\n",
       "      <td>0</td>\n",
       "      <td>0</td>\n",
       "      <td>0</td>\n",
       "      <td>0</td>\n",
       "      <td>0</td>\n",
       "      <td>0</td>\n",
       "      <td>0</td>\n",
       "      <td>2.472851</td>\n",
       "    </tr>\n",
       "    <tr>\n",
       "      <th>3</th>\n",
       "      <td>17152016116</td>\n",
       "      <td>4</td>\n",
       "      <td>1</td>\n",
       "      <td>-0.195671</td>\n",
       "      <td>0.404614</td>\n",
       "      <td>-0.148995</td>\n",
       "      <td>0.387509</td>\n",
       "      <td>0.475532</td>\n",
       "      <td>0</td>\n",
       "      <td>0</td>\n",
       "      <td>...</td>\n",
       "      <td>0</td>\n",
       "      <td>0</td>\n",
       "      <td>0</td>\n",
       "      <td>0</td>\n",
       "      <td>0</td>\n",
       "      <td>0</td>\n",
       "      <td>0</td>\n",
       "      <td>0</td>\n",
       "      <td>0</td>\n",
       "      <td>3.368259</td>\n",
       "    </tr>\n",
       "    <tr>\n",
       "      <th>4</th>\n",
       "      <td>17152016119</td>\n",
       "      <td>4</td>\n",
       "      <td>1</td>\n",
       "      <td>0.585074</td>\n",
       "      <td>0.952926</td>\n",
       "      <td>0.532612</td>\n",
       "      <td>0.903332</td>\n",
       "      <td>0.632815</td>\n",
       "      <td>0</td>\n",
       "      <td>0</td>\n",
       "      <td>...</td>\n",
       "      <td>0</td>\n",
       "      <td>0</td>\n",
       "      <td>0</td>\n",
       "      <td>0</td>\n",
       "      <td>0</td>\n",
       "      <td>0</td>\n",
       "      <td>0</td>\n",
       "      <td>0</td>\n",
       "      <td>0</td>\n",
       "      <td>3.368259</td>\n",
       "    </tr>\n",
       "  </tbody>\n",
       "</table>\n",
       "<p>5 rows × 41 columns</p>\n",
       "</div>"
      ],
      "text/plain": [
       "    STUDENT_NO  GPA1  gender      gpa1      gpa2      gpa3      gpa4  \\\n",
       "0  17152016100     3       1  0.166818 -0.232613 -0.214534  0.094744   \n",
       "1   1715201611     3       1  0.585074  0.582445  0.624367  0.206273   \n",
       "2  17152016110     3       1 -0.739404 -0.010325 -1.040328 -0.030727   \n",
       "3  17152016116     4       1 -0.195671  0.404614 -0.148995  0.387509   \n",
       "4  17152016119     4       1  0.585074  0.952926  0.532612  0.903332   \n",
       "\n",
       "       gpa5  gov_0  gov_1  ...  sch_19  sch_20  sch_21  sch_22  sch_23  \\\n",
       "0 -0.337099      0      0  ...       0       0       0       0       0   \n",
       "1 -0.769629      0      0  ...       0       0       0       0       0   \n",
       "2 -0.376420      0      0  ...       0       0       0       0       0   \n",
       "3  0.475532      0      0  ...       0       0       0       0       0   \n",
       "4  0.632815      0      0  ...       0       0       0       0       0   \n",
       "\n",
       "   sch_24  sch_25  sch_26  sch_27    weight  \n",
       "0       0       0       0       0  2.472851  \n",
       "1       0       0       0       0  2.472851  \n",
       "2       0       0       0       0  2.472851  \n",
       "3       0       0       0       0  3.368259  \n",
       "4       0       0       0       0  3.368259  \n",
       "\n",
       "[5 rows x 41 columns]"
      ]
     },
     "execution_count": 231,
     "metadata": {},
     "output_type": "execute_result"
    }
   ],
   "source": [
    "data.head()"
   ]
  },
  {
   "cell_type": "code",
   "execution_count": null,
   "metadata": {},
   "outputs": [],
   "source": []
  },
  {
   "cell_type": "code",
   "execution_count": null,
   "metadata": {},
   "outputs": [],
   "source": []
  },
  {
   "cell_type": "code",
   "execution_count": null,
   "metadata": {},
   "outputs": [],
   "source": [
    "loaded_model = joblib.load(filename)\n"
   ]
  },
  {
   "cell_type": "code",
   "execution_count": null,
   "metadata": {},
   "outputs": [],
   "source": []
  },
  {
   "cell_type": "code",
   "execution_count": null,
   "metadata": {},
   "outputs": [],
   "source": []
  },
  {
   "cell_type": "code",
   "execution_count": null,
   "metadata": {},
   "outputs": [],
   "source": []
  },
  {
   "cell_type": "code",
   "execution_count": null,
   "metadata": {},
   "outputs": [],
   "source": []
  },
  {
   "cell_type": "code",
   "execution_count": null,
   "metadata": {},
   "outputs": [],
   "source": []
  },
  {
   "cell_type": "code",
   "execution_count": null,
   "metadata": {},
   "outputs": [],
   "source": []
  },
  {
   "cell_type": "code",
   "execution_count": null,
   "metadata": {},
   "outputs": [],
   "source": []
  },
  {
   "cell_type": "code",
   "execution_count": 232,
   "metadata": {},
   "outputs": [],
   "source": [
    "####   Defining   X   and  y\n",
    "\n",
    "X, y = data.drop(\"GPA1\", axis=1), data[\"GPA1\"]"
   ]
  },
  {
   "cell_type": "code",
   "execution_count": null,
   "metadata": {},
   "outputs": [],
   "source": []
  },
  {
   "cell_type": "code",
   "execution_count": null,
   "metadata": {},
   "outputs": [],
   "source": []
  },
  {
   "cell_type": "code",
   "execution_count": null,
   "metadata": {},
   "outputs": [],
   "source": []
  },
  {
   "cell_type": "code",
   "execution_count": null,
   "metadata": {},
   "outputs": [],
   "source": []
  },
  {
   "cell_type": "code",
   "execution_count": null,
   "metadata": {},
   "outputs": [],
   "source": []
  },
  {
   "cell_type": "code",
   "execution_count": 233,
   "metadata": {},
   "outputs": [],
   "source": [
    "X=X.set_index('STUDENT_NO')"
   ]
  },
  {
   "cell_type": "code",
   "execution_count": 234,
   "metadata": {},
   "outputs": [
    {
     "data": {
      "text/html": [
       "<div>\n",
       "<style scoped>\n",
       "    .dataframe tbody tr th:only-of-type {\n",
       "        vertical-align: middle;\n",
       "    }\n",
       "\n",
       "    .dataframe tbody tr th {\n",
       "        vertical-align: top;\n",
       "    }\n",
       "\n",
       "    .dataframe thead th {\n",
       "        text-align: right;\n",
       "    }\n",
       "</style>\n",
       "<table border=\"1\" class=\"dataframe\">\n",
       "  <thead>\n",
       "    <tr style=\"text-align: right;\">\n",
       "      <th></th>\n",
       "      <th>gender</th>\n",
       "      <th>gpa1</th>\n",
       "      <th>gpa2</th>\n",
       "      <th>gpa3</th>\n",
       "      <th>gpa4</th>\n",
       "      <th>gpa5</th>\n",
       "      <th>gov_0</th>\n",
       "      <th>gov_1</th>\n",
       "      <th>gov_2</th>\n",
       "      <th>gov_3</th>\n",
       "      <th>...</th>\n",
       "      <th>sch_19</th>\n",
       "      <th>sch_20</th>\n",
       "      <th>sch_21</th>\n",
       "      <th>sch_22</th>\n",
       "      <th>sch_23</th>\n",
       "      <th>sch_24</th>\n",
       "      <th>sch_25</th>\n",
       "      <th>sch_26</th>\n",
       "      <th>sch_27</th>\n",
       "      <th>weight</th>\n",
       "    </tr>\n",
       "    <tr>\n",
       "      <th>STUDENT_NO</th>\n",
       "      <th></th>\n",
       "      <th></th>\n",
       "      <th></th>\n",
       "      <th></th>\n",
       "      <th></th>\n",
       "      <th></th>\n",
       "      <th></th>\n",
       "      <th></th>\n",
       "      <th></th>\n",
       "      <th></th>\n",
       "      <th></th>\n",
       "      <th></th>\n",
       "      <th></th>\n",
       "      <th></th>\n",
       "      <th></th>\n",
       "      <th></th>\n",
       "      <th></th>\n",
       "      <th></th>\n",
       "      <th></th>\n",
       "      <th></th>\n",
       "      <th></th>\n",
       "    </tr>\n",
       "  </thead>\n",
       "  <tbody>\n",
       "    <tr>\n",
       "      <th>17152016100</th>\n",
       "      <td>1</td>\n",
       "      <td>0.166818</td>\n",
       "      <td>-0.232613</td>\n",
       "      <td>-0.214534</td>\n",
       "      <td>0.094744</td>\n",
       "      <td>-0.337099</td>\n",
       "      <td>0</td>\n",
       "      <td>0</td>\n",
       "      <td>1</td>\n",
       "      <td>0</td>\n",
       "      <td>...</td>\n",
       "      <td>0</td>\n",
       "      <td>0</td>\n",
       "      <td>0</td>\n",
       "      <td>0</td>\n",
       "      <td>0</td>\n",
       "      <td>0</td>\n",
       "      <td>0</td>\n",
       "      <td>0</td>\n",
       "      <td>0</td>\n",
       "      <td>2.472851</td>\n",
       "    </tr>\n",
       "    <tr>\n",
       "      <th>1715201611</th>\n",
       "      <td>1</td>\n",
       "      <td>0.585074</td>\n",
       "      <td>0.582445</td>\n",
       "      <td>0.624367</td>\n",
       "      <td>0.206273</td>\n",
       "      <td>-0.769629</td>\n",
       "      <td>0</td>\n",
       "      <td>0</td>\n",
       "      <td>1</td>\n",
       "      <td>0</td>\n",
       "      <td>...</td>\n",
       "      <td>0</td>\n",
       "      <td>0</td>\n",
       "      <td>0</td>\n",
       "      <td>0</td>\n",
       "      <td>0</td>\n",
       "      <td>0</td>\n",
       "      <td>0</td>\n",
       "      <td>0</td>\n",
       "      <td>0</td>\n",
       "      <td>2.472851</td>\n",
       "    </tr>\n",
       "    <tr>\n",
       "      <th>17152016110</th>\n",
       "      <td>1</td>\n",
       "      <td>-0.739404</td>\n",
       "      <td>-0.010325</td>\n",
       "      <td>-1.040328</td>\n",
       "      <td>-0.030727</td>\n",
       "      <td>-0.376420</td>\n",
       "      <td>0</td>\n",
       "      <td>0</td>\n",
       "      <td>1</td>\n",
       "      <td>0</td>\n",
       "      <td>...</td>\n",
       "      <td>0</td>\n",
       "      <td>0</td>\n",
       "      <td>0</td>\n",
       "      <td>0</td>\n",
       "      <td>0</td>\n",
       "      <td>0</td>\n",
       "      <td>0</td>\n",
       "      <td>0</td>\n",
       "      <td>0</td>\n",
       "      <td>2.472851</td>\n",
       "    </tr>\n",
       "    <tr>\n",
       "      <th>17152016116</th>\n",
       "      <td>1</td>\n",
       "      <td>-0.195671</td>\n",
       "      <td>0.404614</td>\n",
       "      <td>-0.148995</td>\n",
       "      <td>0.387509</td>\n",
       "      <td>0.475532</td>\n",
       "      <td>0</td>\n",
       "      <td>0</td>\n",
       "      <td>0</td>\n",
       "      <td>1</td>\n",
       "      <td>...</td>\n",
       "      <td>0</td>\n",
       "      <td>0</td>\n",
       "      <td>0</td>\n",
       "      <td>0</td>\n",
       "      <td>0</td>\n",
       "      <td>0</td>\n",
       "      <td>0</td>\n",
       "      <td>0</td>\n",
       "      <td>0</td>\n",
       "      <td>3.368259</td>\n",
       "    </tr>\n",
       "    <tr>\n",
       "      <th>17152016119</th>\n",
       "      <td>1</td>\n",
       "      <td>0.585074</td>\n",
       "      <td>0.952926</td>\n",
       "      <td>0.532612</td>\n",
       "      <td>0.903332</td>\n",
       "      <td>0.632815</td>\n",
       "      <td>0</td>\n",
       "      <td>0</td>\n",
       "      <td>1</td>\n",
       "      <td>0</td>\n",
       "      <td>...</td>\n",
       "      <td>0</td>\n",
       "      <td>0</td>\n",
       "      <td>0</td>\n",
       "      <td>0</td>\n",
       "      <td>0</td>\n",
       "      <td>0</td>\n",
       "      <td>0</td>\n",
       "      <td>0</td>\n",
       "      <td>0</td>\n",
       "      <td>3.368259</td>\n",
       "    </tr>\n",
       "    <tr>\n",
       "      <th>...</th>\n",
       "      <td>...</td>\n",
       "      <td>...</td>\n",
       "      <td>...</td>\n",
       "      <td>...</td>\n",
       "      <td>...</td>\n",
       "      <td>...</td>\n",
       "      <td>...</td>\n",
       "      <td>...</td>\n",
       "      <td>...</td>\n",
       "      <td>...</td>\n",
       "      <td>...</td>\n",
       "      <td>...</td>\n",
       "      <td>...</td>\n",
       "      <td>...</td>\n",
       "      <td>...</td>\n",
       "      <td>...</td>\n",
       "      <td>...</td>\n",
       "      <td>...</td>\n",
       "      <td>...</td>\n",
       "      <td>...</td>\n",
       "      <td>...</td>\n",
       "    </tr>\n",
       "    <tr>\n",
       "      <th>2839201666</th>\n",
       "      <td>0</td>\n",
       "      <td>-0.572102</td>\n",
       "      <td>0.389795</td>\n",
       "      <td>0.571936</td>\n",
       "      <td>0.638450</td>\n",
       "      <td>0.239607</td>\n",
       "      <td>0</td>\n",
       "      <td>0</td>\n",
       "      <td>1</td>\n",
       "      <td>0</td>\n",
       "      <td>...</td>\n",
       "      <td>0</td>\n",
       "      <td>0</td>\n",
       "      <td>0</td>\n",
       "      <td>0</td>\n",
       "      <td>0</td>\n",
       "      <td>0</td>\n",
       "      <td>0</td>\n",
       "      <td>0</td>\n",
       "      <td>0</td>\n",
       "      <td>3.368259</td>\n",
       "    </tr>\n",
       "    <tr>\n",
       "      <th>2839201677</th>\n",
       "      <td>0</td>\n",
       "      <td>-2.635499</td>\n",
       "      <td>-1.329238</td>\n",
       "      <td>-2.718132</td>\n",
       "      <td>-1.829138</td>\n",
       "      <td>-1.503618</td>\n",
       "      <td>0</td>\n",
       "      <td>0</td>\n",
       "      <td>1</td>\n",
       "      <td>0</td>\n",
       "      <td>...</td>\n",
       "      <td>0</td>\n",
       "      <td>0</td>\n",
       "      <td>0</td>\n",
       "      <td>0</td>\n",
       "      <td>0</td>\n",
       "      <td>0</td>\n",
       "      <td>0</td>\n",
       "      <td>0</td>\n",
       "      <td>0</td>\n",
       "      <td>8.850202</td>\n",
       "    </tr>\n",
       "    <tr>\n",
       "      <th>2839201685</th>\n",
       "      <td>0</td>\n",
       "      <td>-0.070194</td>\n",
       "      <td>0.167506</td>\n",
       "      <td>-0.922358</td>\n",
       "      <td>-0.741727</td>\n",
       "      <td>-0.245351</td>\n",
       "      <td>0</td>\n",
       "      <td>0</td>\n",
       "      <td>1</td>\n",
       "      <td>0</td>\n",
       "      <td>...</td>\n",
       "      <td>0</td>\n",
       "      <td>0</td>\n",
       "      <td>0</td>\n",
       "      <td>0</td>\n",
       "      <td>0</td>\n",
       "      <td>0</td>\n",
       "      <td>0</td>\n",
       "      <td>0</td>\n",
       "      <td>0</td>\n",
       "      <td>2.472851</td>\n",
       "    </tr>\n",
       "    <tr>\n",
       "      <th>2839201687</th>\n",
       "      <td>0</td>\n",
       "      <td>1.170633</td>\n",
       "      <td>1.293769</td>\n",
       "      <td>0.480181</td>\n",
       "      <td>1.154273</td>\n",
       "      <td>0.894954</td>\n",
       "      <td>0</td>\n",
       "      <td>0</td>\n",
       "      <td>1</td>\n",
       "      <td>0</td>\n",
       "      <td>...</td>\n",
       "      <td>0</td>\n",
       "      <td>0</td>\n",
       "      <td>0</td>\n",
       "      <td>0</td>\n",
       "      <td>0</td>\n",
       "      <td>0</td>\n",
       "      <td>0</td>\n",
       "      <td>0</td>\n",
       "      <td>0</td>\n",
       "      <td>3.368259</td>\n",
       "    </tr>\n",
       "    <tr>\n",
       "      <th>2839201688</th>\n",
       "      <td>0</td>\n",
       "      <td>1.114865</td>\n",
       "      <td>1.308588</td>\n",
       "      <td>0.768554</td>\n",
       "      <td>1.140332</td>\n",
       "      <td>0.698350</td>\n",
       "      <td>0</td>\n",
       "      <td>0</td>\n",
       "      <td>1</td>\n",
       "      <td>0</td>\n",
       "      <td>...</td>\n",
       "      <td>0</td>\n",
       "      <td>0</td>\n",
       "      <td>0</td>\n",
       "      <td>0</td>\n",
       "      <td>0</td>\n",
       "      <td>0</td>\n",
       "      <td>0</td>\n",
       "      <td>0</td>\n",
       "      <td>0</td>\n",
       "      <td>5.605128</td>\n",
       "    </tr>\n",
       "  </tbody>\n",
       "</table>\n",
       "<p>2186 rows × 39 columns</p>\n",
       "</div>"
      ],
      "text/plain": [
       "             gender      gpa1      gpa2      gpa3      gpa4      gpa5  gov_0  \\\n",
       "STUDENT_NO                                                                     \n",
       "17152016100       1  0.166818 -0.232613 -0.214534  0.094744 -0.337099      0   \n",
       "1715201611        1  0.585074  0.582445  0.624367  0.206273 -0.769629      0   \n",
       "17152016110       1 -0.739404 -0.010325 -1.040328 -0.030727 -0.376420      0   \n",
       "17152016116       1 -0.195671  0.404614 -0.148995  0.387509  0.475532      0   \n",
       "17152016119       1  0.585074  0.952926  0.532612  0.903332  0.632815      0   \n",
       "...             ...       ...       ...       ...       ...       ...    ...   \n",
       "2839201666        0 -0.572102  0.389795  0.571936  0.638450  0.239607      0   \n",
       "2839201677        0 -2.635499 -1.329238 -2.718132 -1.829138 -1.503618      0   \n",
       "2839201685        0 -0.070194  0.167506 -0.922358 -0.741727 -0.245351      0   \n",
       "2839201687        0  1.170633  1.293769  0.480181  1.154273  0.894954      0   \n",
       "2839201688        0  1.114865  1.308588  0.768554  1.140332  0.698350      0   \n",
       "\n",
       "             gov_1  gov_2  gov_3  ...  sch_19  sch_20  sch_21  sch_22  sch_23  \\\n",
       "STUDENT_NO                        ...                                           \n",
       "17152016100      0      1      0  ...       0       0       0       0       0   \n",
       "1715201611       0      1      0  ...       0       0       0       0       0   \n",
       "17152016110      0      1      0  ...       0       0       0       0       0   \n",
       "17152016116      0      0      1  ...       0       0       0       0       0   \n",
       "17152016119      0      1      0  ...       0       0       0       0       0   \n",
       "...            ...    ...    ...  ...     ...     ...     ...     ...     ...   \n",
       "2839201666       0      1      0  ...       0       0       0       0       0   \n",
       "2839201677       0      1      0  ...       0       0       0       0       0   \n",
       "2839201685       0      1      0  ...       0       0       0       0       0   \n",
       "2839201687       0      1      0  ...       0       0       0       0       0   \n",
       "2839201688       0      1      0  ...       0       0       0       0       0   \n",
       "\n",
       "             sch_24  sch_25  sch_26  sch_27    weight  \n",
       "STUDENT_NO                                             \n",
       "17152016100       0       0       0       0  2.472851  \n",
       "1715201611        0       0       0       0  2.472851  \n",
       "17152016110       0       0       0       0  2.472851  \n",
       "17152016116       0       0       0       0  3.368259  \n",
       "17152016119       0       0       0       0  3.368259  \n",
       "...             ...     ...     ...     ...       ...  \n",
       "2839201666        0       0       0       0  3.368259  \n",
       "2839201677        0       0       0       0  8.850202  \n",
       "2839201685        0       0       0       0  2.472851  \n",
       "2839201687        0       0       0       0  3.368259  \n",
       "2839201688        0       0       0       0  5.605128  \n",
       "\n",
       "[2186 rows x 39 columns]"
      ]
     },
     "execution_count": 234,
     "metadata": {},
     "output_type": "execute_result"
    }
   ],
   "source": [
    "X"
   ]
  },
  {
   "cell_type": "code",
   "execution_count": 235,
   "metadata": {},
   "outputs": [
    {
     "data": {
      "text/plain": [
       "0       3\n",
       "1       3\n",
       "2       3\n",
       "3       4\n",
       "4       4\n",
       "       ..\n",
       "2181    4\n",
       "2182    2\n",
       "2183    3\n",
       "2184    4\n",
       "2185    5\n",
       "Name: GPA1, Length: 2186, dtype: int64"
      ]
     },
     "execution_count": 235,
     "metadata": {},
     "output_type": "execute_result"
    }
   ],
   "source": [
    "y"
   ]
  },
  {
   "cell_type": "code",
   "execution_count": 236,
   "metadata": {},
   "outputs": [
    {
     "data": {
      "text/plain": [
       "((2186, 39), (2186,))"
      ]
     },
     "execution_count": 236,
     "metadata": {},
     "output_type": "execute_result"
    }
   ],
   "source": [
    "X.shape , y.shape"
   ]
  },
  {
   "cell_type": "code",
   "execution_count": 237,
   "metadata": {},
   "outputs": [],
   "source": [
    "##### Data splitting\n",
    "\n",
    "\n",
    "X_train,X_test,y_train, y_test=train_test_split(X,y , test_size=0.3,random_state=42,stratify = y)\n",
    "X_valid,X_test,y_valid, y_test=train_test_split(X_test,y_test , test_size=0.5,random_state=123)"
   ]
  },
  {
   "cell_type": "code",
   "execution_count": 238,
   "metadata": {},
   "outputs": [
    {
     "data": {
      "text/plain": [
       "((1530, 39), (328, 39), (328, 39))"
      ]
     },
     "execution_count": 238,
     "metadata": {},
     "output_type": "execute_result"
    }
   ],
   "source": [
    "X_train.shape, X_test.shape, X_valid.shape"
   ]
  },
  {
   "cell_type": "code",
   "execution_count": 239,
   "metadata": {},
   "outputs": [],
   "source": [
    "from  xgboost import XGBClassifier\n",
    "from datetime import datetime\n",
    "from sklearn.model_selection import RandomizedSearchCV, GridSearchCV\n",
    "from sklearn.model_selection import StratifiedKFold\n",
    "import numpy as np"
   ]
  },
  {
   "cell_type": "code",
   "execution_count": 240,
   "metadata": {},
   "outputs": [],
   "source": [
    "##### Random search"
   ]
  },
  {
   "cell_type": "code",
   "execution_count": 241,
   "metadata": {},
   "outputs": [],
   "source": [
    "# A parameter grid for XGBoost\n",
    "params = {\n",
    "        'min_child_weight': np.arange(5,10),\n",
    "        'colsample_bytree': [0.5, 0.7, 0.8 ,  1.0],\n",
    "        'max_depth': np.arange(3,8),\n",
    "        #'max_depth': [5,10],\n",
    "        #'reg_alpha' :[0 , 0.5 , 1],\n",
    "        'reg_lambda' : np.arange(1,4, 0.5),\n",
    "        'n_estimators' :[200 , 300 , 500 , 700 , 900 , 1000],\n",
    "        'learning_rate' : np.arange(0.01, 0.52, 0.05), \n",
    "        }"
   ]
  },
  {
   "cell_type": "code",
   "execution_count": 242,
   "metadata": {},
   "outputs": [],
   "source": [
    "xgb = XGBClassifier(objective='multi:softmax')"
   ]
  },
  {
   "cell_type": "code",
   "execution_count": 243,
   "metadata": {},
   "outputs": [
    {
     "name": "stdout",
     "output_type": "stream",
     "text": [
      "Fitting 3 folds for each of 10 candidates, totalling 30 fits\n"
     ]
    },
    {
     "name": "stderr",
     "output_type": "stream",
     "text": [
      "[Parallel(n_jobs=-1)]: Using backend LokyBackend with 4 concurrent workers.\n",
      "[Parallel(n_jobs=-1)]: Done  30 out of  30 | elapsed:   46.3s finished\n"
     ]
    },
    {
     "data": {
      "text/plain": [
       "RandomizedSearchCV(cv=<generator object _BaseKFold.split at 0x00000156BE6E5BC8>,\n",
       "                   error_score=nan,\n",
       "                   estimator=XGBClassifier(base_score=0.5, booster='gbtree',\n",
       "                                           colsample_bylevel=1,\n",
       "                                           colsample_bynode=1,\n",
       "                                           colsample_bytree=1, gamma=0,\n",
       "                                           learning_rate=0.1, max_delta_step=0,\n",
       "                                           max_depth=3, min_child_weight=1,\n",
       "                                           missing=None, n_estimators=100,\n",
       "                                           n_jobs=1, nthread=None,\n",
       "                                           objective='multi:s...\n",
       "                   param_distributions={'colsample_bytree': [0.5, 0.7, 0.8,\n",
       "                                                             1.0],\n",
       "                                        'learning_rate': array([0.01, 0.06, 0.11, 0.16, 0.21, 0.26, 0.31, 0.36, 0.41, 0.46, 0.51]),\n",
       "                                        'max_depth': array([3, 4, 5, 6, 7]),\n",
       "                                        'min_child_weight': array([5, 6, 7, 8, 9]),\n",
       "                                        'n_estimators': [200, 300, 500, 700,\n",
       "                                                         900, 1000],\n",
       "                                        'reg_lambda': array([1. , 1.5, 2. , 2.5, 3. , 3.5])},\n",
       "                   pre_dispatch='2*n_jobs', random_state=1001, refit=True,\n",
       "                   return_train_score=False, scoring='f1_macro', verbose=3)"
      ]
     },
     "execution_count": 243,
     "metadata": {},
     "output_type": "execute_result"
    }
   ],
   "source": [
    "folds=3\n",
    "#param_comb=25\n",
    "\n",
    "skf = StratifiedKFold(n_splits=folds ,shuffle = True, random_state = 1001)\n",
    "\n",
    "random_search = RandomizedSearchCV(xgb, param_distributions=params, scoring='f1_macro', n_jobs=-1, \n",
    "                                   cv=skf.split(X_train,y_train), verbose=3, random_state=1001 )\n",
    "\n",
    "# Here we go\n",
    "#start_time = timer(None) # timing starts from this point for \"start_time\" variable\n",
    "random_search.fit(X_train, y_train)\n",
    "#timer(start_time) # timing ends here for \"start_time\" variable"
   ]
  },
  {
   "cell_type": "code",
   "execution_count": 244,
   "metadata": {},
   "outputs": [
    {
     "name": "stdout",
     "output_type": "stream",
     "text": [
      "\n",
      " All results:\n",
      "{'mean_fit_time': array([ 8.25362913,  2.47904658,  9.14880729,  2.15306783, 11.67864569,\n",
      "       11.40118647,  2.66331808,  3.43600456,  2.81129026,  5.28702307]), 'std_fit_time': array([0.00543936, 0.09700937, 0.01805309, 0.04263669, 0.09361682,\n",
      "       0.21019442, 0.03957576, 0.03892656, 0.00951679, 0.19199822]), 'mean_score_time': array([0.05938292, 0.02129841, 0.05477699, 0.01875758, 0.06071552,\n",
      "       0.06560914, 0.01562635, 0.01562794, 0.03125397, 0.0250903 ]), 'std_score_time': array([1.24808458e-03, 7.06158802e-03, 7.63316554e-03, 4.42744216e-03,\n",
      "       4.72269527e-04, 1.34915179e-02, 2.97360213e-07, 1.76637258e-06,\n",
      "       1.51207428e-06, 4.65134429e-03]), 'param_reg_lambda': masked_array(data=[2.5, 1.5, 1.5, 1.0, 2.0, 2.5, 3.5, 3.5, 1.0, 2.0],\n",
      "             mask=[False, False, False, False, False, False, False, False,\n",
      "                   False, False],\n",
      "       fill_value='?',\n",
      "            dtype=object), 'param_n_estimators': masked_array(data=[700, 200, 700, 200, 1000, 1000, 200, 300, 200, 500],\n",
      "             mask=[False, False, False, False, False, False, False, False,\n",
      "                   False, False],\n",
      "       fill_value='?',\n",
      "            dtype=object), 'param_min_child_weight': masked_array(data=[7, 5, 6, 5, 9, 7, 9, 9, 6, 6],\n",
      "             mask=[False, False, False, False, False, False, False, False,\n",
      "                   False, False],\n",
      "       fill_value='?',\n",
      "            dtype=object), 'param_max_depth': masked_array(data=[7, 3, 6, 7, 5, 4, 6, 7, 5, 6],\n",
      "             mask=[False, False, False, False, False, False, False, False,\n",
      "                   False, False],\n",
      "       fill_value='?',\n",
      "            dtype=object), 'param_learning_rate': masked_array(data=[0.26, 0.21000000000000002, 0.16000000000000003,\n",
      "                   0.31000000000000005, 0.51, 0.31000000000000005, 0.11,\n",
      "                   0.36000000000000004, 0.01, 0.26],\n",
      "             mask=[False, False, False, False, False, False, False, False,\n",
      "                   False, False],\n",
      "       fill_value='?',\n",
      "            dtype=object), 'param_colsample_bytree': masked_array(data=[0.7, 0.7, 1.0, 0.5, 0.8, 0.8, 1.0, 0.8, 0.5, 1.0],\n",
      "             mask=[False, False, False, False, False, False, False, False,\n",
      "                   False, False],\n",
      "       fill_value='?',\n",
      "            dtype=object), 'params': [{'reg_lambda': 2.5, 'n_estimators': 700, 'min_child_weight': 7, 'max_depth': 7, 'learning_rate': 0.26, 'colsample_bytree': 0.7}, {'reg_lambda': 1.5, 'n_estimators': 200, 'min_child_weight': 5, 'max_depth': 3, 'learning_rate': 0.21000000000000002, 'colsample_bytree': 0.7}, {'reg_lambda': 1.5, 'n_estimators': 700, 'min_child_weight': 6, 'max_depth': 6, 'learning_rate': 0.16000000000000003, 'colsample_bytree': 1.0}, {'reg_lambda': 1.0, 'n_estimators': 200, 'min_child_weight': 5, 'max_depth': 7, 'learning_rate': 0.31000000000000005, 'colsample_bytree': 0.5}, {'reg_lambda': 2.0, 'n_estimators': 1000, 'min_child_weight': 9, 'max_depth': 5, 'learning_rate': 0.51, 'colsample_bytree': 0.8}, {'reg_lambda': 2.5, 'n_estimators': 1000, 'min_child_weight': 7, 'max_depth': 4, 'learning_rate': 0.31000000000000005, 'colsample_bytree': 0.8}, {'reg_lambda': 3.5, 'n_estimators': 200, 'min_child_weight': 9, 'max_depth': 6, 'learning_rate': 0.11, 'colsample_bytree': 1.0}, {'reg_lambda': 3.5, 'n_estimators': 300, 'min_child_weight': 9, 'max_depth': 7, 'learning_rate': 0.36000000000000004, 'colsample_bytree': 0.8}, {'reg_lambda': 1.0, 'n_estimators': 200, 'min_child_weight': 6, 'max_depth': 5, 'learning_rate': 0.01, 'colsample_bytree': 0.5}, {'reg_lambda': 2.0, 'n_estimators': 500, 'min_child_weight': 6, 'max_depth': 6, 'learning_rate': 0.26, 'colsample_bytree': 1.0}], 'split0_test_score': array([0.92812435, 0.92988506, 0.92988506, 0.92812435, 0.79495798,\n",
      "       0.92988506, 0.79495798, 0.79495798, 0.95652989, 0.92988506]), 'split1_test_score': array([0.7914553 , 0.87487179, 0.79322034, 0.7914553 , 0.79322034,\n",
      "       0.79322034, 0.79322034, 0.79322034, 0.79322034, 0.79322034]), 'split2_test_score': array([1.        , 1.        , 1.        , 1.        , 0.79333333,\n",
      "       1.        , 0.79333333, 0.79333333, 0.79333333, 1.        ]), 'mean_test_score': array([0.90652655, 0.93491895, 0.9077018 , 0.90652655, 0.79383722,\n",
      "       0.9077018 , 0.79383722, 0.79383722, 0.84769452, 0.9077018 ]), 'std_test_score': array([0.0864969 , 0.05120724, 0.08586241, 0.0864969 , 0.00079384,\n",
      "       0.08586241, 0.00079384, 0.00079384, 0.07695824, 0.08586241]), 'rank_test_score': array([5, 1, 2, 5, 8, 2, 8, 8, 7, 2])}\n",
      "\n",
      " Best estimator:\n",
      "XGBClassifier(base_score=0.5, booster='gbtree', colsample_bylevel=1,\n",
      "              colsample_bynode=1, colsample_bytree=0.7, gamma=0,\n",
      "              learning_rate=0.21000000000000002, max_delta_step=0, max_depth=3,\n",
      "              min_child_weight=5, missing=None, n_estimators=200, n_jobs=1,\n",
      "              nthread=None, objective='multi:softprob', random_state=0,\n",
      "              reg_alpha=0, reg_lambda=1.5, scale_pos_weight=1, seed=None,\n",
      "              silent=None, subsample=1, verbosity=1)\n",
      "\n",
      " Best normalized gini score for 3-fold search with 5 parameter combinations:\n",
      "0.8698379015620397\n",
      "\n",
      " Best hyperparameters:\n",
      "{'reg_lambda': 1.5, 'n_estimators': 200, 'min_child_weight': 5, 'max_depth': 3, 'learning_rate': 0.21000000000000002, 'colsample_bytree': 0.7}\n"
     ]
    }
   ],
   "source": [
    "print('\\n All results:')\n",
    "print(random_search.cv_results_)\n",
    "print('\\n Best estimator:')\n",
    "print(random_search.best_estimator_)\n",
    "print('\\n Best normalized gini score for %d-fold search with %d parameter combinations:' % (3, 5))\n",
    "print(random_search.best_score_ * 2 - 1)\n",
    "print('\\n Best hyperparameters:')\n",
    "print(random_search.best_params_)\n",
    "results = pd.DataFrame(random_search.cv_results_)\n",
    "results.to_csv('xgb-random-grid-search-results-01.csv', index=False)"
   ]
  },
  {
   "cell_type": "code",
   "execution_count": 246,
   "metadata": {},
   "outputs": [],
   "source": [
    "xgb = XGBClassifier( objective='multi:softmax',\n",
    "                    reg_lambda= 1.5, n_estimators= 200, min_child_weight= 5, max_depth= 3,\n",
    "                    learning_rate= 0.21000000000000002, colsample_bytree= 0.7 )"
   ]
  },
  {
   "cell_type": "code",
   "execution_count": 247,
   "metadata": {},
   "outputs": [
    {
     "data": {
      "text/plain": [
       "XGBClassifier(base_score=0.5, booster='gbtree', colsample_bylevel=1,\n",
       "              colsample_bynode=1, colsample_bytree=0.7, gamma=0,\n",
       "              learning_rate=0.21000000000000002, max_delta_step=0, max_depth=3,\n",
       "              min_child_weight=5, missing=None, n_estimators=200, n_jobs=1,\n",
       "              nthread=None, objective='multi:softmax', random_state=0,\n",
       "              reg_alpha=0, reg_lambda=1.5, scale_pos_weight=1, seed=None,\n",
       "              silent=None, subsample=1, verbosity=1)"
      ]
     },
     "execution_count": 247,
     "metadata": {},
     "output_type": "execute_result"
    }
   ],
   "source": [
    "xgb"
   ]
  },
  {
   "cell_type": "code",
   "execution_count": 248,
   "metadata": {},
   "outputs": [
    {
     "name": "stdout",
     "output_type": "stream",
     "text": [
      "[0]\tvalidation_0-merror:0.079085\tvalidation_1-merror:0.121951\n",
      "Multiple eval metrics have been passed: 'validation_1-merror' will be used for early stopping.\n",
      "\n",
      "Will train until validation_1-merror hasn't improved in 15 rounds.\n",
      "[1]\tvalidation_0-merror:0.015033\tvalidation_1-merror:0.042683\n",
      "[2]\tvalidation_0-merror:0.013725\tvalidation_1-merror:0.042683\n",
      "[3]\tvalidation_0-merror:0.004575\tvalidation_1-merror:0.027439\n"
     ]
    },
    {
     "name": "stderr",
     "output_type": "stream",
     "text": [
      "c:\\users\\841201935\\appdata\\local\\programs\\python\\python37\\lib\\site-packages\\xgboost\\core.py:587: FutureWarning: Series.base is deprecated and will be removed in a future version\n",
      "  if getattr(data, 'base', None) is not None and \\\n",
      "c:\\users\\841201935\\appdata\\local\\programs\\python\\python37\\lib\\site-packages\\xgboost\\core.py:588: FutureWarning: Series.base is deprecated and will be removed in a future version\n",
      "  data.base is not None and isinstance(data, np.ndarray) \\\n"
     ]
    },
    {
     "name": "stdout",
     "output_type": "stream",
     "text": [
      "[4]\tvalidation_0-merror:0.002614\tvalidation_1-merror:0.018293\n",
      "[5]\tvalidation_0-merror:0.001961\tvalidation_1-merror:0.021341\n",
      "[6]\tvalidation_0-merror:0.001307\tvalidation_1-merror:0.018293\n",
      "[7]\tvalidation_0-merror:0.001307\tvalidation_1-merror:0.012195\n",
      "[8]\tvalidation_0-merror:0.001307\tvalidation_1-merror:0.012195\n",
      "[9]\tvalidation_0-merror:0\tvalidation_1-merror:0.012195\n",
      "[10]\tvalidation_0-merror:0\tvalidation_1-merror:0.012195\n",
      "[11]\tvalidation_0-merror:0\tvalidation_1-merror:0.006098\n",
      "[12]\tvalidation_0-merror:0\tvalidation_1-merror:0.006098\n",
      "[13]\tvalidation_0-merror:0\tvalidation_1-merror:0.006098\n",
      "[14]\tvalidation_0-merror:0\tvalidation_1-merror:0.006098\n",
      "[15]\tvalidation_0-merror:0\tvalidation_1-merror:0.006098\n",
      "[16]\tvalidation_0-merror:0\tvalidation_1-merror:0.006098\n",
      "[17]\tvalidation_0-merror:0\tvalidation_1-merror:0.003049\n",
      "[18]\tvalidation_0-merror:0\tvalidation_1-merror:0.003049\n",
      "[19]\tvalidation_0-merror:0\tvalidation_1-merror:0.003049\n",
      "[20]\tvalidation_0-merror:0\tvalidation_1-merror:0.003049\n",
      "[21]\tvalidation_0-merror:0\tvalidation_1-merror:0.003049\n",
      "[22]\tvalidation_0-merror:0\tvalidation_1-merror:0.003049\n",
      "[23]\tvalidation_0-merror:0\tvalidation_1-merror:0.003049\n",
      "[24]\tvalidation_0-merror:0\tvalidation_1-merror:0.003049\n",
      "[25]\tvalidation_0-merror:0\tvalidation_1-merror:0.003049\n",
      "[26]\tvalidation_0-merror:0\tvalidation_1-merror:0.003049\n",
      "[27]\tvalidation_0-merror:0\tvalidation_1-merror:0.003049\n",
      "[28]\tvalidation_0-merror:0\tvalidation_1-merror:0.003049\n",
      "[29]\tvalidation_0-merror:0\tvalidation_1-merror:0.003049\n",
      "[30]\tvalidation_0-merror:0\tvalidation_1-merror:0.003049\n",
      "[31]\tvalidation_0-merror:0\tvalidation_1-merror:0.003049\n",
      "[32]\tvalidation_0-merror:0\tvalidation_1-merror:0.003049\n",
      "Stopping. Best iteration:\n",
      "[17]\tvalidation_0-merror:0\tvalidation_1-merror:0.003049\n",
      "\n"
     ]
    },
    {
     "data": {
      "text/plain": [
       "XGBClassifier(base_score=0.5, booster='gbtree', colsample_bylevel=1,\n",
       "              colsample_bynode=1, colsample_bytree=0.7, gamma=0,\n",
       "              learning_rate=0.21000000000000002, max_delta_step=0, max_depth=3,\n",
       "              min_child_weight=5, missing=None, n_estimators=200, n_jobs=1,\n",
       "              nthread=None, objective='multi:softprob', random_state=0,\n",
       "              reg_alpha=0, reg_lambda=1.5, scale_pos_weight=1, seed=None,\n",
       "              silent=None, subsample=1, verbosity=1)"
      ]
     },
     "execution_count": 248,
     "metadata": {},
     "output_type": "execute_result"
    }
   ],
   "source": [
    "\n",
    "xgb.fit(X_train,y_train, eval_set = [(X_train , y_train),(X_valid , y_valid)] ,\n",
    "         sample_weight=X_train[\"weight\"], early_stopping_rounds=15)             "
   ]
  },
  {
   "cell_type": "code",
   "execution_count": 249,
   "metadata": {},
   "outputs": [],
   "source": [
    "eval_result = xgb.evals_result()"
   ]
  },
  {
   "cell_type": "code",
   "execution_count": 250,
   "metadata": {},
   "outputs": [],
   "source": [
    "training_rounds = range(len(eval_result['validation_0']['merror']))"
   ]
  },
  {
   "cell_type": "code",
   "execution_count": 251,
   "metadata": {},
   "outputs": [],
   "source": [
    "%matplotlib inline\n",
    "import matplotlib.pyplot as plt"
   ]
  },
  {
   "cell_type": "code",
   "execution_count": 252,
   "metadata": {},
   "outputs": [
    {
     "data": {
      "text/plain": [
       "<matplotlib.legend.Legend at 0x156bcbe7888>"
      ]
     },
     "execution_count": 252,
     "metadata": {},
     "output_type": "execute_result"
    },
    {
     "data": {
      "image/png": "[encoded data removed]",
      "text/plain": [
       "<Figure size 432x288 with 1 Axes>"
      ]
     },
     "metadata": {
      "needs_background": "light"
     },
     "output_type": "display_data"
    }
   ],
   "source": [
    "plt.scatter(x=training_rounds,y=eval_result['validation_0']['merror'],label='Training Error')\n",
    "plt.scatter(x=training_rounds,y=eval_result['validation_1']['merror'],label='Validation Error')\n",
    "plt.grid(True)\n",
    "plt.xlabel('Iteration')\n",
    "plt.ylabel('Merror')\n",
    "plt.title('Training vx Validation Error')\n",
    "plt.legend()"
   ]
  },
  {
   "cell_type": "code",
   "execution_count": null,
   "metadata": {},
   "outputs": [],
   "source": []
  },
  {
   "cell_type": "code",
   "execution_count": 253,
   "metadata": {},
   "outputs": [],
   "source": [
    "result = xgb.predict(X_test)"
   ]
  },
  {
   "cell_type": "code",
   "execution_count": 254,
   "metadata": {},
   "outputs": [
    {
     "data": {
      "text/plain": [
       "array([3, 4, 3, 5, 4], dtype=int64)"
      ]
     },
     "execution_count": 254,
     "metadata": {},
     "output_type": "execute_result"
    }
   ],
   "source": [
    "result[0:5]"
   ]
  },
  {
   "cell_type": "code",
   "execution_count": 255,
   "metadata": {},
   "outputs": [],
   "source": [
    "confusion_matrix = pd.crosstab(y_test, result)"
   ]
  },
  {
   "cell_type": "code",
   "execution_count": 256,
   "metadata": {
    "collapsed": true
   },
   "outputs": [
    {
     "data": {
      "text/html": [
       "<div>\n",
       "<style scoped>\n",
       "    .dataframe tbody tr th:only-of-type {\n",
       "        vertical-align: middle;\n",
       "    }\n",
       "\n",
       "    .dataframe tbody tr th {\n",
       "        vertical-align: top;\n",
       "    }\n",
       "\n",
       "    .dataframe thead th {\n",
       "        text-align: right;\n",
       "    }\n",
       "</style>\n",
       "<table border=\"1\" class=\"dataframe\">\n",
       "  <thead>\n",
       "    <tr style=\"text-align: right;\">\n",
       "      <th>col_0</th>\n",
       "      <th>1</th>\n",
       "      <th>2</th>\n",
       "      <th>3</th>\n",
       "      <th>4</th>\n",
       "      <th>5</th>\n",
       "    </tr>\n",
       "    <tr>\n",
       "      <th>GPA1</th>\n",
       "      <th></th>\n",
       "      <th></th>\n",
       "      <th></th>\n",
       "      <th></th>\n",
       "      <th></th>\n",
       "    </tr>\n",
       "  </thead>\n",
       "  <tbody>\n",
       "    <tr>\n",
       "      <th>1</th>\n",
       "      <td>1</td>\n",
       "      <td>0</td>\n",
       "      <td>0</td>\n",
       "      <td>0</td>\n",
       "      <td>0</td>\n",
       "    </tr>\n",
       "    <tr>\n",
       "      <th>2</th>\n",
       "      <td>0</td>\n",
       "      <td>35</td>\n",
       "      <td>0</td>\n",
       "      <td>0</td>\n",
       "      <td>0</td>\n",
       "    </tr>\n",
       "    <tr>\n",
       "      <th>3</th>\n",
       "      <td>0</td>\n",
       "      <td>0</td>\n",
       "      <td>141</td>\n",
       "      <td>0</td>\n",
       "      <td>0</td>\n",
       "    </tr>\n",
       "    <tr>\n",
       "      <th>4</th>\n",
       "      <td>0</td>\n",
       "      <td>0</td>\n",
       "      <td>0</td>\n",
       "      <td>95</td>\n",
       "      <td>0</td>\n",
       "    </tr>\n",
       "    <tr>\n",
       "      <th>5</th>\n",
       "      <td>0</td>\n",
       "      <td>0</td>\n",
       "      <td>0</td>\n",
       "      <td>0</td>\n",
       "      <td>56</td>\n",
       "    </tr>\n",
       "  </tbody>\n",
       "</table>\n",
       "</div>"
      ],
      "text/plain": [
       "col_0  1   2    3   4   5\n",
       "GPA1                     \n",
       "1      1   0    0   0   0\n",
       "2      0  35    0   0   0\n",
       "3      0   0  141   0   0\n",
       "4      0   0    0  95   0\n",
       "5      0   0    0   0  56"
      ]
     },
     "execution_count": 256,
     "metadata": {},
     "output_type": "execute_result"
    }
   ],
   "source": [
    "confusion_matrix"
   ]
  },
  {
   "cell_type": "code",
   "execution_count": 259,
   "metadata": {},
   "outputs": [
    {
     "data": {
      "text/html": [
       "<div>\n",
       "<style scoped>\n",
       "    .dataframe tbody tr th:only-of-type {\n",
       "        vertical-align: middle;\n",
       "    }\n",
       "\n",
       "    .dataframe tbody tr th {\n",
       "        vertical-align: top;\n",
       "    }\n",
       "\n",
       "    .dataframe thead th {\n",
       "        text-align: right;\n",
       "    }\n",
       "</style>\n",
       "<table border=\"1\" class=\"dataframe\">\n",
       "  <thead>\n",
       "    <tr style=\"text-align: right;\">\n",
       "      <th></th>\n",
       "      <th>Actual</th>\n",
       "      <th>Predicted</th>\n",
       "    </tr>\n",
       "  </thead>\n",
       "  <tbody>\n",
       "    <tr>\n",
       "      <th>1490</th>\n",
       "      <td>3</td>\n",
       "      <td>3</td>\n",
       "    </tr>\n",
       "    <tr>\n",
       "      <th>2090</th>\n",
       "      <td>4</td>\n",
       "      <td>4</td>\n",
       "    </tr>\n",
       "    <tr>\n",
       "      <th>2165</th>\n",
       "      <td>3</td>\n",
       "      <td>3</td>\n",
       "    </tr>\n",
       "    <tr>\n",
       "      <th>68</th>\n",
       "      <td>5</td>\n",
       "      <td>5</td>\n",
       "    </tr>\n",
       "    <tr>\n",
       "      <th>299</th>\n",
       "      <td>4</td>\n",
       "      <td>4</td>\n",
       "    </tr>\n",
       "    <tr>\n",
       "      <th>...</th>\n",
       "      <td>...</td>\n",
       "      <td>...</td>\n",
       "    </tr>\n",
       "    <tr>\n",
       "      <th>484</th>\n",
       "      <td>3</td>\n",
       "      <td>3</td>\n",
       "    </tr>\n",
       "    <tr>\n",
       "      <th>1102</th>\n",
       "      <td>3</td>\n",
       "      <td>3</td>\n",
       "    </tr>\n",
       "    <tr>\n",
       "      <th>1009</th>\n",
       "      <td>5</td>\n",
       "      <td>5</td>\n",
       "    </tr>\n",
       "    <tr>\n",
       "      <th>1682</th>\n",
       "      <td>5</td>\n",
       "      <td>5</td>\n",
       "    </tr>\n",
       "    <tr>\n",
       "      <th>357</th>\n",
       "      <td>3</td>\n",
       "      <td>3</td>\n",
       "    </tr>\n",
       "  </tbody>\n",
       "</table>\n",
       "<p>328 rows × 2 columns</p>\n",
       "</div>"
      ],
      "text/plain": [
       "      Actual  Predicted\n",
       "1490       3          3\n",
       "2090       4          4\n",
       "2165       3          3\n",
       "68         5          5\n",
       "299        4          4\n",
       "...      ...        ...\n",
       "484        3          3\n",
       "1102       3          3\n",
       "1009       5          5\n",
       "1682       5          5\n",
       "357        3          3\n",
       "\n",
       "[328 rows x 2 columns]"
      ]
     },
     "execution_count": 259,
     "metadata": {},
     "output_type": "execute_result"
    }
   ],
   "source": [
    "pd.DataFrame({\"Actual\":y_test, \"Predicted\":result})"
   ]
  },
  {
   "cell_type": "code",
   "execution_count": 185,
   "metadata": {},
   "outputs": [
    {
     "data": {
      "text/html": [
       "<div>\n",
       "<style scoped>\n",
       "    .dataframe tbody tr th:only-of-type {\n",
       "        vertical-align: middle;\n",
       "    }\n",
       "\n",
       "    .dataframe tbody tr th {\n",
       "        vertical-align: top;\n",
       "    }\n",
       "\n",
       "    .dataframe thead th {\n",
       "        text-align: right;\n",
       "    }\n",
       "</style>\n",
       "<table border=\"1\" class=\"dataframe\">\n",
       "  <thead>\n",
       "    <tr style=\"text-align: right;\">\n",
       "      <th></th>\n",
       "      <th>GPA1</th>\n",
       "      <th>gender</th>\n",
       "      <th>gpa1</th>\n",
       "      <th>gpa2</th>\n",
       "      <th>gpa3</th>\n",
       "      <th>gpa4</th>\n",
       "      <th>gpa5</th>\n",
       "      <th>gov_0.0</th>\n",
       "      <th>gov_1.0</th>\n",
       "      <th>gov_2.0</th>\n",
       "      <th>...</th>\n",
       "      <th>sch_19.0</th>\n",
       "      <th>sch_20.0</th>\n",
       "      <th>sch_21.0</th>\n",
       "      <th>sch_22.0</th>\n",
       "      <th>sch_23.0</th>\n",
       "      <th>sch_24.0</th>\n",
       "      <th>sch_25.0</th>\n",
       "      <th>sch_26.0</th>\n",
       "      <th>sch_27.0</th>\n",
       "      <th>weight</th>\n",
       "    </tr>\n",
       "  </thead>\n",
       "  <tbody>\n",
       "    <tr>\n",
       "      <th>2171</th>\n",
       "      <td>0</td>\n",
       "      <td>0.0</td>\n",
       "      <td>0.362004</td>\n",
       "      <td>-0.039963</td>\n",
       "      <td>-0.044132</td>\n",
       "      <td>0.652390</td>\n",
       "      <td>0.724564</td>\n",
       "      <td>0</td>\n",
       "      <td>0</td>\n",
       "      <td>1</td>\n",
       "      <td>...</td>\n",
       "      <td>0</td>\n",
       "      <td>0</td>\n",
       "      <td>0</td>\n",
       "      <td>0</td>\n",
       "      <td>0</td>\n",
       "      <td>0</td>\n",
       "      <td>0</td>\n",
       "      <td>0</td>\n",
       "      <td>0</td>\n",
       "      <td>3.368259</td>\n",
       "    </tr>\n",
       "    <tr>\n",
       "      <th>2172</th>\n",
       "      <td>0</td>\n",
       "      <td>0.0</td>\n",
       "      <td>0.138934</td>\n",
       "      <td>0.834372</td>\n",
       "      <td>0.545721</td>\n",
       "      <td>0.722096</td>\n",
       "      <td>-0.009425</td>\n",
       "      <td>0</td>\n",
       "      <td>0</td>\n",
       "      <td>1</td>\n",
       "      <td>...</td>\n",
       "      <td>0</td>\n",
       "      <td>0</td>\n",
       "      <td>0</td>\n",
       "      <td>0</td>\n",
       "      <td>0</td>\n",
       "      <td>0</td>\n",
       "      <td>0</td>\n",
       "      <td>0</td>\n",
       "      <td>0</td>\n",
       "      <td>3.368259</td>\n",
       "    </tr>\n",
       "    <tr>\n",
       "      <th>2173</th>\n",
       "      <td>2</td>\n",
       "      <td>0.0</td>\n",
       "      <td>-0.920649</td>\n",
       "      <td>-0.840203</td>\n",
       "      <td>-0.384937</td>\n",
       "      <td>-1.006609</td>\n",
       "      <td>-0.455062</td>\n",
       "      <td>0</td>\n",
       "      <td>0</td>\n",
       "      <td>1</td>\n",
       "      <td>...</td>\n",
       "      <td>0</td>\n",
       "      <td>0</td>\n",
       "      <td>0</td>\n",
       "      <td>0</td>\n",
       "      <td>0</td>\n",
       "      <td>0</td>\n",
       "      <td>0</td>\n",
       "      <td>0</td>\n",
       "      <td>0</td>\n",
       "      <td>2.472851</td>\n",
       "    </tr>\n",
       "    <tr>\n",
       "      <th>2174</th>\n",
       "      <td>3</td>\n",
       "      <td>0.0</td>\n",
       "      <td>-2.035999</td>\n",
       "      <td>-1.388515</td>\n",
       "      <td>-2.455975</td>\n",
       "      <td>-2.135845</td>\n",
       "      <td>-1.228373</td>\n",
       "      <td>1</td>\n",
       "      <td>0</td>\n",
       "      <td>0</td>\n",
       "      <td>...</td>\n",
       "      <td>0</td>\n",
       "      <td>0</td>\n",
       "      <td>0</td>\n",
       "      <td>0</td>\n",
       "      <td>0</td>\n",
       "      <td>0</td>\n",
       "      <td>0</td>\n",
       "      <td>0</td>\n",
       "      <td>0</td>\n",
       "      <td>8.850202</td>\n",
       "    </tr>\n",
       "    <tr>\n",
       "      <th>2175</th>\n",
       "      <td>2</td>\n",
       "      <td>0.0</td>\n",
       "      <td>-0.850940</td>\n",
       "      <td>-0.425264</td>\n",
       "      <td>-0.987897</td>\n",
       "      <td>-1.118138</td>\n",
       "      <td>-0.900699</td>\n",
       "      <td>0</td>\n",
       "      <td>0</td>\n",
       "      <td>1</td>\n",
       "      <td>...</td>\n",
       "      <td>0</td>\n",
       "      <td>0</td>\n",
       "      <td>0</td>\n",
       "      <td>0</td>\n",
       "      <td>0</td>\n",
       "      <td>0</td>\n",
       "      <td>0</td>\n",
       "      <td>0</td>\n",
       "      <td>0</td>\n",
       "      <td>2.472851</td>\n",
       "    </tr>\n",
       "    <tr>\n",
       "      <th>2176</th>\n",
       "      <td>0</td>\n",
       "      <td>0.0</td>\n",
       "      <td>0.320178</td>\n",
       "      <td>1.012203</td>\n",
       "      <td>0.834093</td>\n",
       "      <td>0.624509</td>\n",
       "      <td>0.527959</td>\n",
       "      <td>0</td>\n",
       "      <td>0</td>\n",
       "      <td>1</td>\n",
       "      <td>...</td>\n",
       "      <td>0</td>\n",
       "      <td>0</td>\n",
       "      <td>0</td>\n",
       "      <td>0</td>\n",
       "      <td>0</td>\n",
       "      <td>0</td>\n",
       "      <td>0</td>\n",
       "      <td>0</td>\n",
       "      <td>0</td>\n",
       "      <td>3.368259</td>\n",
       "    </tr>\n",
       "    <tr>\n",
       "      <th>2177</th>\n",
       "      <td>2</td>\n",
       "      <td>0.0</td>\n",
       "      <td>0.348063</td>\n",
       "      <td>-0.158517</td>\n",
       "      <td>-0.529123</td>\n",
       "      <td>-0.490786</td>\n",
       "      <td>-0.376421</td>\n",
       "      <td>0</td>\n",
       "      <td>0</td>\n",
       "      <td>1</td>\n",
       "      <td>...</td>\n",
       "      <td>0</td>\n",
       "      <td>0</td>\n",
       "      <td>0</td>\n",
       "      <td>0</td>\n",
       "      <td>0</td>\n",
       "      <td>0</td>\n",
       "      <td>0</td>\n",
       "      <td>0</td>\n",
       "      <td>0</td>\n",
       "      <td>2.472851</td>\n",
       "    </tr>\n",
       "    <tr>\n",
       "      <th>2178</th>\n",
       "      <td>2</td>\n",
       "      <td>0.0</td>\n",
       "      <td>-0.767287</td>\n",
       "      <td>-0.247433</td>\n",
       "      <td>-0.856819</td>\n",
       "      <td>-1.076314</td>\n",
       "      <td>-0.546810</td>\n",
       "      <td>0</td>\n",
       "      <td>0</td>\n",
       "      <td>1</td>\n",
       "      <td>...</td>\n",
       "      <td>0</td>\n",
       "      <td>0</td>\n",
       "      <td>0</td>\n",
       "      <td>0</td>\n",
       "      <td>0</td>\n",
       "      <td>0</td>\n",
       "      <td>0</td>\n",
       "      <td>0</td>\n",
       "      <td>0</td>\n",
       "      <td>2.472851</td>\n",
       "    </tr>\n",
       "    <tr>\n",
       "      <th>2179</th>\n",
       "      <td>2</td>\n",
       "      <td>0.0</td>\n",
       "      <td>-1.478324</td>\n",
       "      <td>-1.566345</td>\n",
       "      <td>-1.787475</td>\n",
       "      <td>-1.285432</td>\n",
       "      <td>-0.441955</td>\n",
       "      <td>0</td>\n",
       "      <td>0</td>\n",
       "      <td>1</td>\n",
       "      <td>...</td>\n",
       "      <td>0</td>\n",
       "      <td>0</td>\n",
       "      <td>0</td>\n",
       "      <td>0</td>\n",
       "      <td>0</td>\n",
       "      <td>0</td>\n",
       "      <td>0</td>\n",
       "      <td>0</td>\n",
       "      <td>0</td>\n",
       "      <td>2.472851</td>\n",
       "    </tr>\n",
       "    <tr>\n",
       "      <th>2180</th>\n",
       "      <td>1</td>\n",
       "      <td>0.0</td>\n",
       "      <td>1.491296</td>\n",
       "      <td>1.086299</td>\n",
       "      <td>0.073838</td>\n",
       "      <td>1.656156</td>\n",
       "      <td>1.642050</td>\n",
       "      <td>0</td>\n",
       "      <td>0</td>\n",
       "      <td>1</td>\n",
       "      <td>...</td>\n",
       "      <td>0</td>\n",
       "      <td>0</td>\n",
       "      <td>0</td>\n",
       "      <td>0</td>\n",
       "      <td>0</td>\n",
       "      <td>0</td>\n",
       "      <td>0</td>\n",
       "      <td>0</td>\n",
       "      <td>0</td>\n",
       "      <td>5.605128</td>\n",
       "    </tr>\n",
       "    <tr>\n",
       "      <th>2181</th>\n",
       "      <td>0</td>\n",
       "      <td>0.0</td>\n",
       "      <td>-0.572102</td>\n",
       "      <td>0.389795</td>\n",
       "      <td>0.571936</td>\n",
       "      <td>0.638450</td>\n",
       "      <td>0.239607</td>\n",
       "      <td>0</td>\n",
       "      <td>0</td>\n",
       "      <td>1</td>\n",
       "      <td>...</td>\n",
       "      <td>0</td>\n",
       "      <td>0</td>\n",
       "      <td>0</td>\n",
       "      <td>0</td>\n",
       "      <td>0</td>\n",
       "      <td>0</td>\n",
       "      <td>0</td>\n",
       "      <td>0</td>\n",
       "      <td>0</td>\n",
       "      <td>3.368259</td>\n",
       "    </tr>\n",
       "    <tr>\n",
       "      <th>2182</th>\n",
       "      <td>3</td>\n",
       "      <td>0.0</td>\n",
       "      <td>-2.635499</td>\n",
       "      <td>-1.329238</td>\n",
       "      <td>-2.718132</td>\n",
       "      <td>-1.829138</td>\n",
       "      <td>-1.503618</td>\n",
       "      <td>0</td>\n",
       "      <td>0</td>\n",
       "      <td>1</td>\n",
       "      <td>...</td>\n",
       "      <td>0</td>\n",
       "      <td>0</td>\n",
       "      <td>0</td>\n",
       "      <td>0</td>\n",
       "      <td>0</td>\n",
       "      <td>0</td>\n",
       "      <td>0</td>\n",
       "      <td>0</td>\n",
       "      <td>0</td>\n",
       "      <td>8.850202</td>\n",
       "    </tr>\n",
       "    <tr>\n",
       "      <th>2183</th>\n",
       "      <td>2</td>\n",
       "      <td>0.0</td>\n",
       "      <td>-0.070194</td>\n",
       "      <td>0.167506</td>\n",
       "      <td>-0.922358</td>\n",
       "      <td>-0.741727</td>\n",
       "      <td>-0.245351</td>\n",
       "      <td>0</td>\n",
       "      <td>0</td>\n",
       "      <td>1</td>\n",
       "      <td>...</td>\n",
       "      <td>0</td>\n",
       "      <td>0</td>\n",
       "      <td>0</td>\n",
       "      <td>0</td>\n",
       "      <td>0</td>\n",
       "      <td>0</td>\n",
       "      <td>0</td>\n",
       "      <td>0</td>\n",
       "      <td>0</td>\n",
       "      <td>2.472851</td>\n",
       "    </tr>\n",
       "    <tr>\n",
       "      <th>2184</th>\n",
       "      <td>0</td>\n",
       "      <td>0.0</td>\n",
       "      <td>1.170632</td>\n",
       "      <td>1.293769</td>\n",
       "      <td>0.480182</td>\n",
       "      <td>1.154274</td>\n",
       "      <td>0.894954</td>\n",
       "      <td>0</td>\n",
       "      <td>0</td>\n",
       "      <td>1</td>\n",
       "      <td>...</td>\n",
       "      <td>0</td>\n",
       "      <td>0</td>\n",
       "      <td>0</td>\n",
       "      <td>0</td>\n",
       "      <td>0</td>\n",
       "      <td>0</td>\n",
       "      <td>0</td>\n",
       "      <td>0</td>\n",
       "      <td>0</td>\n",
       "      <td>3.368259</td>\n",
       "    </tr>\n",
       "    <tr>\n",
       "      <th>2185</th>\n",
       "      <td>1</td>\n",
       "      <td>0.0</td>\n",
       "      <td>1.114866</td>\n",
       "      <td>1.308588</td>\n",
       "      <td>0.768554</td>\n",
       "      <td>1.140332</td>\n",
       "      <td>0.698350</td>\n",
       "      <td>0</td>\n",
       "      <td>0</td>\n",
       "      <td>1</td>\n",
       "      <td>...</td>\n",
       "      <td>0</td>\n",
       "      <td>0</td>\n",
       "      <td>0</td>\n",
       "      <td>0</td>\n",
       "      <td>0</td>\n",
       "      <td>0</td>\n",
       "      <td>0</td>\n",
       "      <td>0</td>\n",
       "      <td>0</td>\n",
       "      <td>5.605128</td>\n",
       "    </tr>\n",
       "  </tbody>\n",
       "</table>\n",
       "<p>15 rows × 40 columns</p>\n",
       "</div>"
      ],
      "text/plain": [
       "      GPA1  gender      gpa1      gpa2      gpa3      gpa4      gpa5  gov_0.0  \\\n",
       "2171     0     0.0  0.362004 -0.039963 -0.044132  0.652390  0.724564        0   \n",
       "2172     0     0.0  0.138934  0.834372  0.545721  0.722096 -0.009425        0   \n",
       "2173     2     0.0 -0.920649 -0.840203 -0.384937 -1.006609 -0.455062        0   \n",
       "2174     3     0.0 -2.035999 -1.388515 -2.455975 -2.135845 -1.228373        1   \n",
       "2175     2     0.0 -0.850940 -0.425264 -0.987897 -1.118138 -0.900699        0   \n",
       "2176     0     0.0  0.320178  1.012203  0.834093  0.624509  0.527959        0   \n",
       "2177     2     0.0  0.348063 -0.158517 -0.529123 -0.490786 -0.376421        0   \n",
       "2178     2     0.0 -0.767287 -0.247433 -0.856819 -1.076314 -0.546810        0   \n",
       "2179     2     0.0 -1.478324 -1.566345 -1.787475 -1.285432 -0.441955        0   \n",
       "2180     1     0.0  1.491296  1.086299  0.073838  1.656156  1.642050        0   \n",
       "2181     0     0.0 -0.572102  0.389795  0.571936  0.638450  0.239607        0   \n",
       "2182     3     0.0 -2.635499 -1.329238 -2.718132 -1.829138 -1.503618        0   \n",
       "2183     2     0.0 -0.070194  0.167506 -0.922358 -0.741727 -0.245351        0   \n",
       "2184     0     0.0  1.170632  1.293769  0.480182  1.154274  0.894954        0   \n",
       "2185     1     0.0  1.114866  1.308588  0.768554  1.140332  0.698350        0   \n",
       "\n",
       "      gov_1.0  gov_2.0  ...  sch_19.0  sch_20.0  sch_21.0  sch_22.0  sch_23.0  \\\n",
       "2171        0        1  ...         0         0         0         0         0   \n",
       "2172        0        1  ...         0         0         0         0         0   \n",
       "2173        0        1  ...         0         0         0         0         0   \n",
       "2174        0        0  ...         0         0         0         0         0   \n",
       "2175        0        1  ...         0         0         0         0         0   \n",
       "2176        0        1  ...         0         0         0         0         0   \n",
       "2177        0        1  ...         0         0         0         0         0   \n",
       "2178        0        1  ...         0         0         0         0         0   \n",
       "2179        0        1  ...         0         0         0         0         0   \n",
       "2180        0        1  ...         0         0         0         0         0   \n",
       "2181        0        1  ...         0         0         0         0         0   \n",
       "2182        0        1  ...         0         0         0         0         0   \n",
       "2183        0        1  ...         0         0         0         0         0   \n",
       "2184        0        1  ...         0         0         0         0         0   \n",
       "2185        0        1  ...         0         0         0         0         0   \n",
       "\n",
       "      sch_24.0  sch_25.0  sch_26.0  sch_27.0    weight  \n",
       "2171         0         0         0         0  3.368259  \n",
       "2172         0         0         0         0  3.368259  \n",
       "2173         0         0         0         0  2.472851  \n",
       "2174         0         0         0         0  8.850202  \n",
       "2175         0         0         0         0  2.472851  \n",
       "2176         0         0         0         0  3.368259  \n",
       "2177         0         0         0         0  2.472851  \n",
       "2178         0         0         0         0  2.472851  \n",
       "2179         0         0         0         0  2.472851  \n",
       "2180         0         0         0         0  5.605128  \n",
       "2181         0         0         0         0  3.368259  \n",
       "2182         0         0         0         0  8.850202  \n",
       "2183         0         0         0         0  2.472851  \n",
       "2184         0         0         0         0  3.368259  \n",
       "2185         0         0         0         0  5.605128  \n",
       "\n",
       "[15 rows x 40 columns]"
      ]
     },
     "execution_count": 185,
     "metadata": {},
     "output_type": "execute_result"
    }
   ],
   "source": [
    "df[2171:]"
   ]
  },
  {
   "cell_type": "code",
   "execution_count": 381,
   "metadata": {},
   "outputs": [],
   "source": [
    "df_result = xgb.predict(df[2171:].drop(\"GPA1\",axis=1))"
   ]
  },
  {
   "cell_type": "code",
   "execution_count": 382,
   "metadata": {},
   "outputs": [
    {
     "data": {
      "text/html": [
       "<div>\n",
       "<style scoped>\n",
       "    .dataframe tbody tr th:only-of-type {\n",
       "        vertical-align: middle;\n",
       "    }\n",
       "\n",
       "    .dataframe tbody tr th {\n",
       "        vertical-align: top;\n",
       "    }\n",
       "\n",
       "    .dataframe thead th {\n",
       "        text-align: right;\n",
       "    }\n",
       "</style>\n",
       "<table border=\"1\" class=\"dataframe\">\n",
       "  <thead>\n",
       "    <tr style=\"text-align: right;\">\n",
       "      <th>GPA1</th>\n",
       "      <th>0</th>\n",
       "      <th>1</th>\n",
       "      <th>2</th>\n",
       "      <th>3</th>\n",
       "    </tr>\n",
       "    <tr>\n",
       "      <th>row_0</th>\n",
       "      <th></th>\n",
       "      <th></th>\n",
       "      <th></th>\n",
       "      <th></th>\n",
       "    </tr>\n",
       "  </thead>\n",
       "  <tbody>\n",
       "    <tr>\n",
       "      <th>0</th>\n",
       "      <td>5</td>\n",
       "      <td>0</td>\n",
       "      <td>0</td>\n",
       "      <td>0</td>\n",
       "    </tr>\n",
       "    <tr>\n",
       "      <th>1</th>\n",
       "      <td>0</td>\n",
       "      <td>2</td>\n",
       "      <td>0</td>\n",
       "      <td>0</td>\n",
       "    </tr>\n",
       "    <tr>\n",
       "      <th>2</th>\n",
       "      <td>0</td>\n",
       "      <td>0</td>\n",
       "      <td>6</td>\n",
       "      <td>0</td>\n",
       "    </tr>\n",
       "    <tr>\n",
       "      <th>3</th>\n",
       "      <td>0</td>\n",
       "      <td>0</td>\n",
       "      <td>0</td>\n",
       "      <td>2</td>\n",
       "    </tr>\n",
       "  </tbody>\n",
       "</table>\n",
       "</div>"
      ],
      "text/plain": [
       "GPA1   0  1  2  3\n",
       "row_0            \n",
       "0      5  0  0  0\n",
       "1      0  2  0  0\n",
       "2      0  0  6  0\n",
       "3      0  0  0  2"
      ]
     },
     "execution_count": 382,
     "metadata": {},
     "output_type": "execute_result"
    }
   ],
   "source": [
    "pd.crosstab(df_result, df.loc[2171:,\"GPA1\"])"
   ]
  },
  {
   "cell_type": "code",
   "execution_count": 383,
   "metadata": {},
   "outputs": [
    {
     "data": {
      "text/plain": [
       "array([0, 0, 2, 3, 2, 0, 2, 2, 2, 1, 0, 3, 2, 0, 1], dtype=int64)"
      ]
     },
     "execution_count": 383,
     "metadata": {},
     "output_type": "execute_result"
    }
   ],
   "source": [
    "df_result"
   ]
  },
  {
   "cell_type": "code",
   "execution_count": 384,
   "metadata": {},
   "outputs": [
    {
     "data": {
      "text/plain": [
       "array([0, 0, 2, 3, 2, 0, 2, 2, 2, 1, 0, 3, 2, 0, 1], dtype=int64)"
      ]
     },
     "execution_count": 384,
     "metadata": {},
     "output_type": "execute_result"
    }
   ],
   "source": [
    "df.loc[2171:,\"GPA1\"].values"
   ]
  },
  {
   "cell_type": "code",
   "execution_count": 385,
   "metadata": {},
   "outputs": [
    {
     "data": {
      "text/plain": [
       "2    122\n",
       "0     99\n",
       "1     62\n",
       "3     40\n",
       "4      3\n",
       "dtype: int64"
      ]
     },
     "execution_count": 385,
     "metadata": {},
     "output_type": "execute_result"
    }
   ],
   "source": [
    "pd.Series(result).value_counts()"
   ]
  },
  {
   "cell_type": "code",
   "execution_count": null,
   "metadata": {},
   "outputs": [],
   "source": []
  },
  {
   "cell_type": "code",
   "execution_count": null,
   "metadata": {},
   "outputs": [],
   "source": []
  },
  {
   "cell_type": "code",
   "execution_count": null,
   "metadata": {},
   "outputs": [],
   "source": [
    "######  OLD VERSION"
   ]
  },
  {
   "cell_type": "code",
   "execution_count": null,
   "metadata": {},
   "outputs": [],
   "source": []
  },
  {
   "cell_type": "code",
   "execution_count": 546,
   "metadata": {},
   "outputs": [],
   "source": [
    "weight=df[\"GPA1\"].value_counts().apply(lambda x : 1/(x/y.shape[0]))"
   ]
  },
  {
   "cell_type": "code",
   "execution_count": 547,
   "metadata": {},
   "outputs": [],
   "source": [
    "df[\"weight\"]=df[\"GPA1\"].apply(lambda x : out_dict[x] )"
   ]
  },
  {
   "cell_type": "code",
   "execution_count": 548,
   "metadata": {},
   "outputs": [],
   "source": [
    "dfT=df[:2171]"
   ]
  },
  {
   "cell_type": "code",
   "execution_count": 549,
   "metadata": {},
   "outputs": [],
   "source": [
    "X, y = dfT.drop(\"GPA1\", axis=1), dfT[\"GPA1\"]"
   ]
  },
  {
   "cell_type": "code",
   "execution_count": 550,
   "metadata": {},
   "outputs": [],
   "source": [
    "X_train,X_test,y_train, y_test=train_test_split(X,y , test_size=0.3,random_state=123,stratify = y)\n",
    "X_valid,X_test,y_valid, y_test=train_test_split(X_test,y_test , test_size=0.5,random_state=123)"
   ]
  },
  {
   "cell_type": "code",
   "execution_count": null,
   "metadata": {},
   "outputs": [],
   "source": []
  },
  {
   "cell_type": "code",
   "execution_count": null,
   "metadata": {},
   "outputs": [],
   "source": []
  },
  {
   "cell_type": "code",
   "execution_count": 551,
   "metadata": {},
   "outputs": [],
   "source": [
    "#pipe = Pipeline(steps=[(\"XGB\", XGBClassifier(objective = 'multi:softmax', num_class = 5 , metric='confusion_matrix'))])"
   ]
  },
  {
   "cell_type": "code",
   "execution_count": 565,
   "metadata": {},
   "outputs": [],
   "source": [
    "#fit_params = {'XGB__early_stopping_rounds': [5 , 10 , 15 , 20 ,50 , 100,200],\n",
    "              #'XGB__eval_metric': 'merror',\n",
    "              #'XGB__eval_set': [(X_test, y_test)],\n",
    "              #'XGB__verbose': True}\n",
    "\n",
    "xgb_params = {'n_estimators': [5,10,15,20,50,100,200,500],\n",
    "              'eta': [0.01,0.1,0.5,0.9],\n",
    "              'max_depth': [2,5,8,10],\n",
    "              'subsample': [0.3,0.5,0.7,0.9],\n",
    "              'colsample_bytree': [0.2,0.5,0.8,1]\n",
    "              }"
   ]
  },
  {
   "cell_type": "code",
   "execution_count": 567,
   "metadata": {},
   "outputs": [],
   "source": [
    "from sklearn.model_selection import StratifiedKFold\n",
    "skf=StratifiedKFold(n_splits=3, shuffle=True, random_state=1001)\n",
    "grid_search = GridSearchCV(XGBClassifier(objective = 'multi:softmax', num_class = 5 , metric='confusion_matrix'),\n",
    "                          xgb_params,\n",
    "                          scoring='f1_macro',\n",
    "                          cv=skf.split(X_train, y_train),\n",
    "                          n_jobs=-1,\n",
    "                          verbose=3)"
   ]
  },
  {
   "cell_type": "code",
   "execution_count": 568,
   "metadata": {},
   "outputs": [],
   "source": [
    "#grid_search.fit(X_train, y_train, eval_set=[(X_train, y_train), (X_valid, y_valid)])"
   ]
  },
  {
   "cell_type": "code",
   "execution_count": 569,
   "metadata": {},
   "outputs": [
    {
     "name": "stdout",
     "output_type": "stream",
     "text": [
      "Fitting 3 folds for each of 2048 candidates, totalling 6144 fits\n"
     ]
    },
    {
     "name": "stderr",
     "output_type": "stream",
     "text": [
      "[Parallel(n_jobs=-1)]: Using backend LokyBackend with 4 concurrent workers.\n",
      "[Parallel(n_jobs=-1)]: Done  24 tasks      | elapsed:    1.5s\n",
      "[Parallel(n_jobs=-1)]: Done 120 tasks      | elapsed:   21.8s\n",
      "[Parallel(n_jobs=-1)]: Done 280 tasks      | elapsed:  1.1min\n",
      "[Parallel(n_jobs=-1)]: Done 504 tasks      | elapsed:  1.9min\n",
      "[Parallel(n_jobs=-1)]: Done 792 tasks      | elapsed:  3.1min\n",
      "[Parallel(n_jobs=-1)]: Done 1144 tasks      | elapsed:  4.5min\n",
      "[Parallel(n_jobs=-1)]: Done 1560 tasks      | elapsed:  6.0min\n",
      "[Parallel(n_jobs=-1)]: Done 2040 tasks      | elapsed:  8.1min\n",
      "[Parallel(n_jobs=-1)]: Done 2584 tasks      | elapsed: 10.9min\n",
      "[Parallel(n_jobs=-1)]: Done 3192 tasks      | elapsed: 13.6min\n",
      "[Parallel(n_jobs=-1)]: Done 3864 tasks      | elapsed: 16.8min\n",
      "[Parallel(n_jobs=-1)]: Done 4600 tasks      | elapsed: 19.9min\n",
      "[Parallel(n_jobs=-1)]: Done 5400 tasks      | elapsed: 23.4min\n"
     ]
    },
    {
     "name": "stdout",
     "output_type": "stream",
     "text": [
      "[0]\tvalidation_0-merror:0.266623\tvalidation_1-merror:0.306748\n",
      "Multiple eval metrics have been passed: 'validation_1-merror' will be used for early stopping.\n",
      "\n",
      "Will train until validation_1-merror hasn't improved in 50 rounds.\n",
      "[1]\tvalidation_0-merror:0.080316\tvalidation_1-merror:0.070552\n",
      "[2]\tvalidation_0-merror:0.070441\tvalidation_1-merror:0.07362\n"
     ]
    },
    {
     "name": "stderr",
     "output_type": "stream",
     "text": [
      "[Parallel(n_jobs=-1)]: Done 6144 out of 6144 | elapsed: 26.7min finished\n",
      "c:\\users\\841201935\\appdata\\local\\programs\\python\\python37\\lib\\site-packages\\xgboost\\core.py:587: FutureWarning: Series.base is deprecated and will be removed in a future version\n",
      "  if getattr(data, 'base', None) is not None and \\\n",
      "c:\\users\\841201935\\appdata\\local\\programs\\python\\python37\\lib\\site-packages\\xgboost\\core.py:588: FutureWarning: Series.base is deprecated and will be removed in a future version\n",
      "  data.base is not None and isinstance(data, np.ndarray) \\\n"
     ]
    },
    {
     "name": "stdout",
     "output_type": "stream",
     "text": [
      "[3]\tvalidation_0-merror:0.064516\tvalidation_1-merror:0.079755\n",
      "[4]\tvalidation_0-merror:0.069783\tvalidation_1-merror:0.079755\n",
      "[5]\tvalidation_0-merror:0.071758\tvalidation_1-merror:0.079755\n",
      "[6]\tvalidation_0-merror:0.044108\tvalidation_1-merror:0.046012\n",
      "[7]\tvalidation_0-merror:0.021725\tvalidation_1-merror:0.027607\n",
      "[8]\tvalidation_0-merror:0.012508\tvalidation_1-merror:0.015337\n",
      "[9]\tvalidation_0-merror:0.005267\tvalidation_1-merror:0.006135\n"
     ]
    },
    {
     "data": {
      "text/plain": [
       "GridSearchCV(cv=<generator object _BaseKFold.split at 0x0000028AE33EEEC8>,\n",
       "             error_score=nan,\n",
       "             estimator=XGBClassifier(base_score=0.5, booster='gbtree',\n",
       "                                     colsample_bylevel=1, colsample_bynode=1,\n",
       "                                     colsample_bytree=1, gamma=0,\n",
       "                                     learning_rate=0.1, max_delta_step=0,\n",
       "                                     max_depth=3, metric='confusion_matrix',\n",
       "                                     min_child_weight=1, missing=None,\n",
       "                                     n_estimators=100, n_jobs=1, nthread=Non...\n",
       "                                     scale_pos_weight=1, seed=None, silent=None,\n",
       "                                     subsample=1, verbosity=1),\n",
       "             iid='deprecated', n_jobs=-1,\n",
       "             param_grid={'colsample_bytree': [0.2, 0.5, 0.8, 1],\n",
       "                         'eta': [0.01, 0.1, 0.5, 0.9],\n",
       "                         'max_depth': [2, 5, 8, 10],\n",
       "                         'n_estimators': [5, 10, 15, 20, 50, 100, 200, 500],\n",
       "                         'subsample': [0.3, 0.5, 0.7, 0.9]},\n",
       "             pre_dispatch='2*n_jobs', refit=True, return_train_score=False,\n",
       "             scoring='f1_macro', verbose=3)"
      ]
     },
     "execution_count": 569,
     "metadata": {},
     "output_type": "execute_result"
    }
   ],
   "source": [
    "grid_search.fit(X_train,y_train, eval_set = [(X_train , y_train),(X_valid , y_valid)] ,\n",
    "         sample_weight=X_train[\"weight\"], early_stopping_rounds=50)"
   ]
  },
  {
   "cell_type": "code",
   "execution_count": 570,
   "metadata": {},
   "outputs": [
    {
     "name": "stdout",
     "output_type": "stream",
     "text": [
      "{'colsample_bytree': 0.2, 'eta': 0.01, 'max_depth': 2, 'n_estimators': 10, 'subsample': 0.3}\n",
      "1.0\n"
     ]
    }
   ],
   "source": [
    "print (grid_search.best_params_)\n",
    "print (grid_search.best_score_)"
   ]
  },
  {
   "cell_type": "code",
   "execution_count": null,
   "metadata": {},
   "outputs": [],
   "source": [
    "####### Applying best params on XGBOOST "
   ]
  },
  {
   "cell_type": "code",
   "execution_count": 571,
   "metadata": {},
   "outputs": [],
   "source": [
    "params = {'colsample_bytree': 0.2, 'eta': 0.01, 'max_depth': 2, 'n_estimators': 10, 'subsample': 0.3}"
   ]
  },
  {
   "cell_type": "code",
   "execution_count": 572,
   "metadata": {},
   "outputs": [],
   "source": [
    "xgb = XGBClassifier(objective = 'multi:softmax', num_class = 5 , metric='confusion_matrix',\n",
    "                          params = params,\n",
    "                          scoring='f1_score',\n",
    "                          cv=5,\n",
    "                          n_jobs=-1,\n",
    "                          verbose=3)"
   ]
  },
  {
   "cell_type": "code",
   "execution_count": null,
   "metadata": {},
   "outputs": [],
   "source": []
  },
  {
   "cell_type": "code",
   "execution_count": null,
   "metadata": {},
   "outputs": [],
   "source": []
  },
  {
   "cell_type": "code",
   "execution_count": 573,
   "metadata": {},
   "outputs": [
    {
     "data": {
      "text/plain": [
       "XGBClassifier(base_score=0.5, booster='gbtree', colsample_bylevel=1,\n",
       "              colsample_bynode=1, colsample_bytree=1, cv=5, gamma=0,\n",
       "              learning_rate=0.1, max_delta_step=0, max_depth=3,\n",
       "              metric='confusion_matrix', min_child_weight=1, missing=None,\n",
       "              n_estimators=100, n_jobs=-1, nthread=None, num_class=5,\n",
       "              objective='multi:softprob',\n",
       "              params={'colsample_bytree': 0.2, 'eta': 0.01, 'max_depth': 2,\n",
       "                      'n_estimators': 10, 'subsample': 0.3},\n",
       "              random_state=0, reg_alpha=0, reg_lambda=1, scale_pos_weight=1,\n",
       "              scoring='f1_score', seed=None, silent=None, subsample=1,\n",
       "              verbose=3, verbosity=1)"
      ]
     },
     "execution_count": 573,
     "metadata": {},
     "output_type": "execute_result"
    }
   ],
   "source": [
    "xgb.fit(X_train, y_train)"
   ]
  },
  {
   "cell_type": "code",
   "execution_count": 574,
   "metadata": {},
   "outputs": [],
   "source": [
    "predicted = xgb.predict(X_test)"
   ]
  },
  {
   "cell_type": "code",
   "execution_count": 575,
   "metadata": {},
   "outputs": [],
   "source": [
    "from sklearn.metrics import confusion_matrix"
   ]
  },
  {
   "cell_type": "code",
   "execution_count": 576,
   "metadata": {},
   "outputs": [
    {
     "name": "stdout",
     "output_type": "stream",
     "text": [
      "[[ 99   0   0   0   0]\n",
      " [  0  62   0   0   0]\n",
      " [  0   0 122   0   0]\n",
      " [  0   0   0  40   0]\n",
      " [  0   0   0   0   3]]\n"
     ]
    }
   ],
   "source": [
    "matrix = confusion_matrix(y_test, predicted, labels=[0,1,2,3,4])\n",
    "print(matrix)"
   ]
  },
  {
   "cell_type": "code",
   "execution_count": 164,
   "metadata": {},
   "outputs": [
    {
     "data": {
      "text/plain": [
       "array([2, 0, 1, 3, 5, 4], dtype=int64)"
      ]
     },
     "execution_count": 164,
     "metadata": {},
     "output_type": "execute_result"
    }
   ],
   "source": [
    "df.gpa6.unique()"
   ]
  },
  {
   "cell_type": "code",
   "execution_count": 579,
   "metadata": {},
   "outputs": [
    {
     "ename": "TypeError",
     "evalue": "__init__() got an unexpected keyword argument 'objective'",
     "output_type": "error",
     "traceback": [
      "\u001b[1;31m---------------------------------------------------------------------------\u001b[0m",
      "\u001b[1;31mTypeError\u001b[0m                                 Traceback (most recent call last)",
      "\u001b[1;32m<ipython-input-579-af8d3004f054>\u001b[0m in \u001b[0;36m<module>\u001b[1;34m\u001b[0m\n\u001b[0;32m      5\u001b[0m                           \u001b[1;31m#cv = skf.split(X_train, y_train),\u001b[0m\u001b[1;33m\u001b[0m\u001b[1;33m\u001b[0m\u001b[1;33m\u001b[0m\u001b[0m\n\u001b[0;32m      6\u001b[0m                           \u001b[0mn_jobs\u001b[0m\u001b[1;33m=\u001b[0m\u001b[1;33m-\u001b[0m\u001b[1;36m1\u001b[0m\u001b[1;33m,\u001b[0m\u001b[1;33m\u001b[0m\u001b[1;33m\u001b[0m\u001b[0m\n\u001b[1;32m----> 7\u001b[1;33m                           verbose=3)\n\u001b[0m",
      "\u001b[1;31mTypeError\u001b[0m: __init__() got an unexpected keyword argument 'objective'"
     ]
    }
   ],
   "source": [
    "xgb = RandomForestClassifier(objective = 'multi:softmax', num_class = 5 , metric='confusion_matrix',\n",
    "                          params = params,\n",
    "                          scoring='f1_macro',\n",
    "                          cv=5,\n",
    "                          #cv = skf.split(X_train, y_train),\n",
    "                          n_jobs=-1,\n",
    "                          verbose=3)"
   ]
  },
  {
   "cell_type": "code",
   "execution_count": null,
   "metadata": {},
   "outputs": [],
   "source": []
  },
  {
   "cell_type": "code",
   "execution_count": null,
   "metadata": {},
   "outputs": [],
   "source": []
  },
  {
   "cell_type": "code",
   "execution_count": 175,
   "metadata": {},
   "outputs": [],
   "source": [
    "from sklearn import svm\n",
    "from sklearn.ensemble import RandomForestClassifier\n",
    "from sklearn.linear_model import LogisticRegression\n",
    "from sklearn.naive_bayes import GaussianNB\n",
    "from sklearn.naive_bayes import MultinomialNB\n",
    "from sklearn.tree import DecisionTreeClassifier"
   ]
  },
  {
   "cell_type": "code",
   "execution_count": 195,
   "metadata": {},
   "outputs": [],
   "source": [
    "model_params = {\n",
    "    'svm': {\n",
    "        'model': svm.SVC(gamma='auto'),\n",
    "        'params' : {\n",
    "            'C': [1,10,20],\n",
    "            'kernel': ['rbf','linear']\n",
    "        }  \n",
    "    },\n",
    "    'random_forest': {\n",
    "        'model': RandomForestClassifier(),\n",
    "        'params' : {\n",
    "            'n_estimators': [5,10,20,50,100,200,500],\n",
    "            'max_depth': [2,5,8,10],\n",
    "            'max_features' : ['auto', 'sqrt'],\n",
    "            'max_depth' : [3 ,5 , 8,10 , 20 , 50],\n",
    "            'min_samples_split' : [2, 5, 10],\n",
    "            'min_samples_leaf' : [1, 2, 4],\n",
    "            'bootstrap' : [True, False]\n",
    "        }\n",
    "    },\n",
    "    'XGB' : {\n",
    "        'model' : XGBClassifier(objective = 'multi:softmax', num_class = 6 ),\n",
    "        'params': {\n",
    "            'n_estimators': [5,10,20,50,100,200,500],\n",
    "              'learning_rate': [0.01,0.1,0.5,0.9],\n",
    "              'max_depth': [2,5,8,10],\n",
    "              'subsample': [0.3,0.5,0.7,0.9],\n",
    "              'colsample_bytree': [0.2,0.5,0.8,1],\n",
    "               \n",
    "        }\n",
    "    },\n",
    "    'naive_bayes_gaussian': {\n",
    "        'model': GaussianNB(),\n",
    "        'params': {}\n",
    "    },\n",
    "    \n",
    "    'decision_tree': {\n",
    "        'model': DecisionTreeClassifier(),\n",
    "        'params': {\n",
    "            'criterion': ['gini','entropy'],\n",
    "            'max_depth': [2,5,8,10],\n",
    "            'max_features' : ['auto', 'sqrt']\n",
    "            \n",
    "        }\n",
    "    }     \n",
    "}\n"
   ]
  },
  {
   "cell_type": "code",
   "execution_count": 196,
   "metadata": {},
   "outputs": [
    {
     "name": "stdout",
     "output_type": "stream",
     "text": [
      "[[141  11  34   0   0   0]\n",
      " [ 56  75   4   0   0   0]\n",
      " [ 36   0 196  15   0   0]\n",
      " [  0   0  37  33   0   0]\n",
      " [  0   0   0   5   0   0]\n",
      " [  1   1   3   0   0   6]]\n",
      "________________\n",
      "[[136  14  36   0   0   0]\n",
      " [ 41  92   0   0   0   2]\n",
      " [ 31   0 193  23   0   0]\n",
      " [  0   0  33  37   0   0]\n",
      " [  0   0   0   5   0   0]\n",
      " [  0   5   0   0   0   6]]\n",
      "________________\n",
      "[[136  13  37   0   0   0]\n",
      " [ 41  93   0   0   0   1]\n",
      " [ 34   0 193  20   0   0]\n",
      " [  0   0  32  38   0   0]\n",
      " [  0   0   0   5   0   0]\n",
      " [  0   5   0   0   0   6]]\n",
      "________________\n",
      "[[ 96  58  31   1   0   0]\n",
      " [ 32  94   0   0   0   9]\n",
      " [ 29   8 162  48   0   0]\n",
      " [  1   0  17  46   6   0]\n",
      " [  0   0   0   1   4   0]\n",
      " [  1   1   0   0   0   9]]\n",
      "________________\n",
      "[[124  20  42   0   0   0]\n",
      " [ 42  92   1   0   0   0]\n",
      " [ 31   1 187  28   0   0]\n",
      " [  0   0  33  37   0   0]\n",
      " [  0   0   0   5   0   0]\n",
      " [  0   4   0   0   0   7]]\n",
      "________________\n"
     ]
    },
    {
     "data": {
      "text/html": [
       "<div>\n",
       "<style scoped>\n",
       "    .dataframe tbody tr th:only-of-type {\n",
       "        vertical-align: middle;\n",
       "    }\n",
       "\n",
       "    .dataframe tbody tr th {\n",
       "        vertical-align: top;\n",
       "    }\n",
       "\n",
       "    .dataframe thead th {\n",
       "        text-align: right;\n",
       "    }\n",
       "</style>\n",
       "<table border=\"1\" class=\"dataframe\">\n",
       "  <thead>\n",
       "    <tr style=\"text-align: right;\">\n",
       "      <th></th>\n",
       "      <th>model</th>\n",
       "      <th>best_score</th>\n",
       "      <th>best_params</th>\n",
       "    </tr>\n",
       "  </thead>\n",
       "  <tbody>\n",
       "    <tr>\n",
       "      <th>0</th>\n",
       "      <td>svm</td>\n",
       "      <td>0.704717</td>\n",
       "      <td>{'C': 1, 'kernel': 'rbf'}</td>\n",
       "    </tr>\n",
       "    <tr>\n",
       "      <th>1</th>\n",
       "      <td>random_forest</td>\n",
       "      <td>0.736206</td>\n",
       "      <td>{'bootstrap': True, 'max_depth': 5, 'max_featu...</td>\n",
       "    </tr>\n",
       "    <tr>\n",
       "      <th>2</th>\n",
       "      <td>XGB</td>\n",
       "      <td>0.737519</td>\n",
       "      <td>{'colsample_bytree': 0.8, 'learning_rate': 0.5...</td>\n",
       "    </tr>\n",
       "    <tr>\n",
       "      <th>3</th>\n",
       "      <td>naive_bayes_gaussian</td>\n",
       "      <td>0.654204</td>\n",
       "      <td>{}</td>\n",
       "    </tr>\n",
       "    <tr>\n",
       "      <th>4</th>\n",
       "      <td>decision_tree</td>\n",
       "      <td>0.692886</td>\n",
       "      <td>{'criterion': 'gini', 'max_depth': 8, 'max_fea...</td>\n",
       "    </tr>\n",
       "  </tbody>\n",
       "</table>\n",
       "</div>"
      ],
      "text/plain": [
       "                  model  best_score  \\\n",
       "0                   svm    0.704717   \n",
       "1         random_forest    0.736206   \n",
       "2                   XGB    0.737519   \n",
       "3  naive_bayes_gaussian    0.654204   \n",
       "4         decision_tree    0.692886   \n",
       "\n",
       "                                         best_params  \n",
       "0                          {'C': 1, 'kernel': 'rbf'}  \n",
       "1  {'bootstrap': True, 'max_depth': 5, 'max_featu...  \n",
       "2  {'colsample_bytree': 0.8, 'learning_rate': 0.5...  \n",
       "3                                                 {}  \n",
       "4  {'criterion': 'gini', 'max_depth': 8, 'max_fea...  "
      ]
     },
     "execution_count": 196,
     "metadata": {},
     "output_type": "execute_result"
    }
   ],
   "source": [
    "\n",
    "from sklearn.model_selection import GridSearchCV\n",
    "import pandas as pd\n",
    "scores = []\n",
    "\n",
    "for model_name, mp in model_params.items():\n",
    "    clf =  GridSearchCV(mp['model'], mp['params'], cv=5,n_jobs = -1, return_train_score=False)\n",
    "    clf.fit(X_train , y_train)\n",
    "    predicted = clf.predict(X_test)\n",
    "    matrix = confusion_matrix(y_test, predicted, labels=[0,1,2,3,4,5])\n",
    "    print(matrix)\n",
    "    print(\"________________\")\n",
    "    scores.append({\n",
    "        'model': model_name,\n",
    "        'best_score': clf.best_score_,\n",
    "        'best_params': clf.best_params_\n",
    "    })\n",
    "    \n",
    "df = pd.DataFrame(scores,columns=['model','best_score','best_params'])\n",
    "df\n",
    "\n",
    "\n",
    "\n",
    "\n",
    "\n"
   ]
  },
  {
   "cell_type": "code",
   "execution_count": 111,
   "metadata": {},
   "outputs": [
    {
     "ename": "NameError",
     "evalue": "name 'scores' is not defined",
     "output_type": "error",
     "traceback": [
      "\u001b[1;31m---------------------------------------------------------------------------\u001b[0m",
      "\u001b[1;31mNameError\u001b[0m                                 Traceback (most recent call last)",
      "\u001b[1;32m<ipython-input-111-4a4ba72f5465>\u001b[0m in \u001b[0;36m<module>\u001b[1;34m\u001b[0m\n\u001b[1;32m----> 1\u001b[1;33m \u001b[0mscores\u001b[0m\u001b[1;33m.\u001b[0m\u001b[0mbest_params\u001b[0m\u001b[1;33m\u001b[0m\u001b[1;33m\u001b[0m\u001b[0m\n\u001b[0m",
      "\u001b[1;31mNameError\u001b[0m: name 'scores' is not defined"
     ]
    }
   ],
   "source": [
    "scores.best_params"
   ]
  },
  {
   "cell_type": "code",
   "execution_count": null,
   "metadata": {},
   "outputs": [],
   "source": []
  },
  {
   "cell_type": "code",
   "execution_count": null,
   "metadata": {},
   "outputs": [],
   "source": []
  },
  {
   "cell_type": "code",
   "execution_count": 61,
   "metadata": {},
   "outputs": [],
   "source": [
    "xgb = XGBClassifier()"
   ]
  },
  {
   "cell_type": "code",
   "execution_count": 62,
   "metadata": {},
   "outputs": [
    {
     "data": {
      "text/plain": [
       "XGBClassifier(base_score=0.5, booster='gbtree', colsample_bylevel=1,\n",
       "              colsample_bynode=1, colsample_bytree=1, gamma=0,\n",
       "              learning_rate=0.1, max_delta_step=0, max_depth=3,\n",
       "              min_child_weight=1, missing=None, n_estimators=100, n_jobs=1,\n",
       "              nthread=None, objective='multi:softprob', random_state=0,\n",
       "              reg_alpha=0, reg_lambda=1, scale_pos_weight=1, seed=None,\n",
       "              silent=None, subsample=1, verbosity=1)"
      ]
     },
     "execution_count": 62,
     "metadata": {},
     "output_type": "execute_result"
    }
   ],
   "source": [
    "xgb.fit(X_train , y_train)"
   ]
  },
  {
   "cell_type": "code",
   "execution_count": 63,
   "metadata": {},
   "outputs": [],
   "source": [
    "preds = xgb.predict(X_test)"
   ]
  },
  {
   "cell_type": "code",
   "execution_count": 64,
   "metadata": {},
   "outputs": [],
   "source": [
    "from sklearn.metrics import accuracy_score"
   ]
  },
  {
   "cell_type": "code",
   "execution_count": 65,
   "metadata": {},
   "outputs": [
    {
     "name": "stdout",
     "output_type": "stream",
     "text": [
      "0.7293577981651376\n"
     ]
    }
   ],
   "source": [
    "print(accuracy_score(y_test,preds))"
   ]
  },
  {
   "cell_type": "code",
   "execution_count": 66,
   "metadata": {},
   "outputs": [
    {
     "data": {
      "text/plain": [
       "2    0.377676\n",
       "Name: gpa6, dtype: float64"
      ]
     },
     "execution_count": 66,
     "metadata": {},
     "output_type": "execute_result"
    }
   ],
   "source": [
    "y_test.value_counts().head(1)/654"
   ]
  },
  {
   "cell_type": "code",
   "execution_count": 67,
   "metadata": {},
   "outputs": [
    {
     "data": {
      "text/plain": [
       "2    0.377676\n",
       "Name: gpa6, dtype: float64"
      ]
     },
     "execution_count": 67,
     "metadata": {},
     "output_type": "execute_result"
    }
   ],
   "source": [
    "# calculate null accuracy (for multi-class classification problems)\n",
    "y_test.value_counts().head(1) / len(y_test)"
   ]
  },
  {
   "cell_type": "code",
   "execution_count": 68,
   "metadata": {},
   "outputs": [
    {
     "name": "stdout",
     "output_type": "stream",
     "text": [
      "True: [2 0 1 2 1 3 3 0 3 0 0 0 0 0 1 1 2 0 1 0 2 3 0 2 2]\n",
      "Pred: [2 0 1 0 1 3 3 0 3 2 1 0 2 2 1 0 2 0 1 0 0 2 0 2 3]\n"
     ]
    }
   ],
   "source": [
    "# print the first 25 true and predicted responses\n",
    "print('True:', y_test.values[0:25])\n",
    "print('Pred:', preds[0:25])\n"
   ]
  },
  {
   "cell_type": "code",
   "execution_count": 69,
   "metadata": {},
   "outputs": [
    {
     "name": "stdout",
     "output_type": "stream",
     "text": [
      "[[145   8  33   0   0   0]\n",
      " [ 41  91   0   0   0   3]\n",
      " [ 34   0 193  20   0   0]\n",
      " [  0   0  30  40   0   0]\n",
      " [  0   0   0   4   1   0]\n",
      " [  0   4   0   0   0   7]]\n"
     ]
    }
   ],
   "source": [
    "print(metrics.confusion_matrix(y_test, preds))"
   ]
  },
  {
   "cell_type": "code",
   "execution_count": null,
   "metadata": {},
   "outputs": [],
   "source": []
  },
  {
   "cell_type": "code",
   "execution_count": 70,
   "metadata": {},
   "outputs": [],
   "source": [
    "# save confusion matrix and slice into four pieces\n",
    "confusion = metrics.confusion_matrix(y_test,preds)\n",
    "TP = confusion[1, 1]\n",
    "TN = confusion[0, 0]\n",
    "FP = confusion[0, 1]\n",
    "FN = confusion[1, 0]\n"
   ]
  },
  {
   "cell_type": "code",
   "execution_count": 71,
   "metadata": {},
   "outputs": [
    {
     "name": "stdout",
     "output_type": "stream",
     "text": [
      "0.8280701754385965\n",
      "0.7293577981651376\n"
     ]
    }
   ],
   "source": [
    "###### ACCURACY\n",
    "\n",
    "print((TP + TN) / float(TP + TN + FP + FN))\n",
    "print(metrics.accuracy_score(y_test, preds))"
   ]
  },
  {
   "cell_type": "code",
   "execution_count": 72,
   "metadata": {},
   "outputs": [
    {
     "name": "stdout",
     "output_type": "stream",
     "text": [
      "0.17192982456140352\n",
      "0.27064220183486243\n"
     ]
    }
   ],
   "source": [
    "###### CLASSIFICATION ERROR \n",
    "\n",
    "print((FP + FN) / float(TP + TN + FP + FN))\n",
    "print(1 - metrics.accuracy_score(y_test, preds))"
   ]
  },
  {
   "cell_type": "code",
   "execution_count": 73,
   "metadata": {},
   "outputs": [
    {
     "name": "stdout",
     "output_type": "stream",
     "text": [
      "0.6893939393939394\n",
      "0.6071354487596706\n"
     ]
    }
   ],
   "source": [
    "##### SENSETIVITY\n",
    "\n",
    "print(TP / float(TP + FN))\n",
    "print(metrics.recall_score(y_test, preds , average = 'macro'))"
   ]
  },
  {
   "cell_type": "code",
   "execution_count": 74,
   "metadata": {},
   "outputs": [
    {
     "name": "stdout",
     "output_type": "stream",
     "text": [
      "0.9477124183006536\n"
     ]
    }
   ],
   "source": [
    "#### Specificity\n",
    "\n",
    "print(TN / float(TN + FP))"
   ]
  },
  {
   "cell_type": "code",
   "execution_count": 75,
   "metadata": {},
   "outputs": [
    {
     "name": "stdout",
     "output_type": "stream",
     "text": [
      "0.05228758169934641\n"
     ]
    }
   ],
   "source": [
    "##### FP RATE\n",
    "\n",
    "print(FP / float(TN + FP))"
   ]
  },
  {
   "cell_type": "code",
   "execution_count": 76,
   "metadata": {},
   "outputs": [
    {
     "name": "stdout",
     "output_type": "stream",
     "text": [
      "0.9191919191919192\n",
      "0.7702487174536629\n"
     ]
    }
   ],
   "source": [
    "#### Precision\n",
    "\n",
    "print(TP / float(TP + FP))\n",
    "print(metrics.precision_score(y_test, preds, average = 'macro'))"
   ]
  },
  {
   "cell_type": "code",
   "execution_count": null,
   "metadata": {},
   "outputs": [],
   "source": []
  },
  {
   "cell_type": "code",
   "execution_count": 77,
   "metadata": {},
   "outputs": [
    {
     "data": {
      "text/plain": [
       "array([2, 0, 1, 0, 1, 3, 3, 0, 3, 2], dtype=int64)"
      ]
     },
     "execution_count": 77,
     "metadata": {},
     "output_type": "execute_result"
    }
   ],
   "source": [
    "# print the first 10 predicted responses\n",
    "xgb.predict(X_test)[0:10]"
   ]
  },
  {
   "cell_type": "code",
   "execution_count": 78,
   "metadata": {},
   "outputs": [
    {
     "data": {
      "text/plain": [
       "array([[0.01, 0.  , 0.57, 0.41, 0.  , 0.  ],\n",
       "       [0.81, 0.15, 0.04, 0.  , 0.  , 0.  ],\n",
       "       [0.04, 0.92, 0.01, 0.  , 0.  , 0.04],\n",
       "       [0.59, 0.01, 0.4 , 0.  , 0.  , 0.  ],\n",
       "       [0.12, 0.86, 0.01, 0.  , 0.  , 0.01],\n",
       "       [0.  , 0.  , 0.44, 0.54, 0.01, 0.  ],\n",
       "       [0.  , 0.  , 0.29, 0.7 , 0.01, 0.  ],\n",
       "       [0.88, 0.07, 0.04, 0.  , 0.  , 0.  ],\n",
       "       [0.  , 0.  , 0.37, 0.55, 0.07, 0.01],\n",
       "       [0.15, 0.  , 0.81, 0.04, 0.  , 0.  ]], dtype=float32)"
      ]
     },
     "execution_count": 78,
     "metadata": {},
     "output_type": "execute_result"
    }
   ],
   "source": [
    "# print the first 10 predicted probabilities of class membership\n",
    "np.round(xgb.predict_proba(X_test)[0:10, :],2)"
   ]
  },
  {
   "cell_type": "code",
   "execution_count": 79,
   "metadata": {},
   "outputs": [
    {
     "data": {
      "text/plain": [
       "array([0.00806766, 0.8053164 , 0.03659703, 0.58653045, 0.11603163,\n",
       "       0.00188102, 0.00098543, 0.8806298 , 0.00280031, 0.14856404],\n",
       "      dtype=float32)"
      ]
     },
     "execution_count": 79,
     "metadata": {},
     "output_type": "execute_result"
    }
   ],
   "source": [
    "# print the first 10 predicted probabilities for class 0\n",
    "xgb.predict_proba(X_test)[0:10, 0]"
   ]
  },
  {
   "cell_type": "code",
   "execution_count": 89,
   "metadata": {},
   "outputs": [],
   "source": [
    "# store the predicted probabilities for class 0\n",
    "y_pred_prob = xgb.predict_proba(X_test)[:, ]"
   ]
  },
  {
   "cell_type": "code",
   "execution_count": 90,
   "metadata": {},
   "outputs": [],
   "source": [
    "%matplotlib inline\n",
    "import matplotlib.pyplot as plt"
   ]
  },
  {
   "cell_type": "code",
   "execution_count": 91,
   "metadata": {},
   "outputs": [
    {
     "data": {
      "text/plain": [
       "Text(0, 0.5, 'Frequency')"
      ]
     },
     "execution_count": 91,
     "metadata": {},
     "output_type": "execute_result"
    },
    {
     "data": {
      "image/png": "[encoded data removed]",
      "text/plain": [
       "<Figure size 432x288 with 1 Axes>"
      ]
     },
     "metadata": {
      "needs_background": "light"
     },
     "output_type": "display_data"
    }
   ],
   "source": [
    "# histogram of predicted probabilities\n",
    "plt.hist(y_pred_prob, bins=8)\n",
    "plt.xlim(0, 1)\n",
    "plt.title('Histogram of predicted probabilities')\n",
    "plt.xlabel('Predicted probability of gpa6')\n",
    "plt.ylabel('Frequency')"
   ]
  },
  {
   "cell_type": "code",
   "execution_count": 94,
   "metadata": {},
   "outputs": [
    {
     "data": {
      "text/plain": [
       "(654, 6)"
      ]
     },
     "execution_count": 94,
     "metadata": {},
     "output_type": "execute_result"
    }
   ],
   "source": [
    "y_pred_prob.shape"
   ]
  },
  {
   "cell_type": "code",
   "execution_count": 101,
   "metadata": {},
   "outputs": [
    {
     "ename": "ValueError",
     "evalue": "Found array with dim 3. Estimator expected <= 2.",
     "output_type": "error",
     "traceback": [
      "\u001b[1;31m---------------------------------------------------------------------------\u001b[0m",
      "\u001b[1;31mValueError\u001b[0m                                Traceback (most recent call last)",
      "\u001b[1;32m<ipython-input-101-2ff2f4546633>\u001b[0m in \u001b[0;36m<module>\u001b[1;34m\u001b[0m\n\u001b[0;32m      2\u001b[0m \u001b[1;33m\u001b[0m\u001b[0m\n\u001b[0;32m      3\u001b[0m \u001b[1;32mfrom\u001b[0m \u001b[0msklearn\u001b[0m\u001b[1;33m.\u001b[0m\u001b[0mpreprocessing\u001b[0m \u001b[1;32mimport\u001b[0m \u001b[0mbinarize\u001b[0m\u001b[1;33m\u001b[0m\u001b[1;33m\u001b[0m\u001b[0m\n\u001b[1;32m----> 4\u001b[1;33m \u001b[0mpreds\u001b[0m \u001b[1;33m=\u001b[0m \u001b[0mbinarize\u001b[0m\u001b[1;33m(\u001b[0m\u001b[1;33m[\u001b[0m\u001b[0my_pred_prob\u001b[0m\u001b[1;33m]\u001b[0m\u001b[1;33m,\u001b[0m \u001b[1;36m0.1\u001b[0m\u001b[1;33m)\u001b[0m\u001b[1;33m[\u001b[0m\u001b[1;33m:\u001b[0m\u001b[1;33m,\u001b[0m\u001b[1;33m]\u001b[0m\u001b[1;33m\u001b[0m\u001b[1;33m\u001b[0m\u001b[0m\n\u001b[0m",
      "\u001b[1;32mc:\\users\\841201935\\appdata\\local\\programs\\python\\python37\\lib\\site-packages\\sklearn\\preprocessing\\_data.py\u001b[0m in \u001b[0;36mbinarize\u001b[1;34m(X, threshold, copy)\u001b[0m\n\u001b[0;32m   1860\u001b[0m         \u001b[1;33m(\u001b[0m\u001b[0me\u001b[0m\u001b[1;33m.\u001b[0m\u001b[0mg\u001b[0m\u001b[1;33m.\u001b[0m \u001b[1;32mas\u001b[0m \u001b[0mpart\u001b[0m \u001b[0mof\u001b[0m \u001b[0ma\u001b[0m \u001b[0mpreprocessing\u001b[0m \u001b[1;33m:\u001b[0m\u001b[1;32mclass\u001b[0m\u001b[1;33m:\u001b[0m\u001b[0;31m`\u001b[0m\u001b[0msklearn\u001b[0m\u001b[1;33m.\u001b[0m\u001b[0mpipeline\u001b[0m\u001b[1;33m.\u001b[0m\u001b[0mPipeline\u001b[0m\u001b[0;31m`\u001b[0m\u001b[1;33m)\u001b[0m\u001b[1;33m.\u001b[0m\u001b[1;33m\u001b[0m\u001b[1;33m\u001b[0m\u001b[0m\n\u001b[0;32m   1861\u001b[0m     \"\"\"\n\u001b[1;32m-> 1862\u001b[1;33m     \u001b[0mX\u001b[0m \u001b[1;33m=\u001b[0m \u001b[0mcheck_array\u001b[0m\u001b[1;33m(\u001b[0m\u001b[0mX\u001b[0m\u001b[1;33m,\u001b[0m \u001b[0maccept_sparse\u001b[0m\u001b[1;33m=\u001b[0m\u001b[1;33m[\u001b[0m\u001b[1;34m'csr'\u001b[0m\u001b[1;33m,\u001b[0m \u001b[1;34m'csc'\u001b[0m\u001b[1;33m]\u001b[0m\u001b[1;33m,\u001b[0m \u001b[0mcopy\u001b[0m\u001b[1;33m=\u001b[0m\u001b[0mcopy\u001b[0m\u001b[1;33m)\u001b[0m\u001b[1;33m\u001b[0m\u001b[1;33m\u001b[0m\u001b[0m\n\u001b[0m\u001b[0;32m   1863\u001b[0m     \u001b[1;32mif\u001b[0m \u001b[0msparse\u001b[0m\u001b[1;33m.\u001b[0m\u001b[0missparse\u001b[0m\u001b[1;33m(\u001b[0m\u001b[0mX\u001b[0m\u001b[1;33m)\u001b[0m\u001b[1;33m:\u001b[0m\u001b[1;33m\u001b[0m\u001b[1;33m\u001b[0m\u001b[0m\n\u001b[0;32m   1864\u001b[0m         \u001b[1;32mif\u001b[0m \u001b[0mthreshold\u001b[0m \u001b[1;33m<\u001b[0m \u001b[1;36m0\u001b[0m\u001b[1;33m:\u001b[0m\u001b[1;33m\u001b[0m\u001b[1;33m\u001b[0m\u001b[0m\n",
      "\u001b[1;32mc:\\users\\841201935\\appdata\\local\\programs\\python\\python37\\lib\\site-packages\\sklearn\\utils\\validation.py\u001b[0m in \u001b[0;36mcheck_array\u001b[1;34m(array, accept_sparse, accept_large_sparse, dtype, order, copy, force_all_finite, ensure_2d, allow_nd, ensure_min_samples, ensure_min_features, warn_on_dtype, estimator)\u001b[0m\n\u001b[0;32m    572\u001b[0m         \u001b[1;32mif\u001b[0m \u001b[1;32mnot\u001b[0m \u001b[0mallow_nd\u001b[0m \u001b[1;32mand\u001b[0m \u001b[0marray\u001b[0m\u001b[1;33m.\u001b[0m\u001b[0mndim\u001b[0m \u001b[1;33m>=\u001b[0m \u001b[1;36m3\u001b[0m\u001b[1;33m:\u001b[0m\u001b[1;33m\u001b[0m\u001b[1;33m\u001b[0m\u001b[0m\n\u001b[0;32m    573\u001b[0m             raise ValueError(\"Found array with dim %d. %s expected <= 2.\"\n\u001b[1;32m--> 574\u001b[1;33m                              % (array.ndim, estimator_name))\n\u001b[0m\u001b[0;32m    575\u001b[0m \u001b[1;33m\u001b[0m\u001b[0m\n\u001b[0;32m    576\u001b[0m         \u001b[1;32mif\u001b[0m \u001b[0mforce_all_finite\u001b[0m\u001b[1;33m:\u001b[0m\u001b[1;33m\u001b[0m\u001b[1;33m\u001b[0m\u001b[0m\n",
      "\u001b[1;31mValueError\u001b[0m: Found array with dim 3. Estimator expected <= 2."
     ]
    }
   ],
   "source": [
    "######   Decrease the threshold for predicting diabetes in order to increase the sensitivity of the classifier\n",
    "\n",
    "from sklearn.preprocessing import binarize\n",
    "preds = binarize([y_pred_prob], 0.1)[:,]"
   ]
  },
  {
   "cell_type": "code",
   "execution_count": 93,
   "metadata": {},
   "outputs": [
    {
     "data": {
      "text/plain": [
       "array([[8.0676572e-03, 1.6003962e-03, 5.7486200e-01, 4.1080892e-01,\n",
       "        2.7365705e-03, 1.9244908e-03],\n",
       "       [8.0531639e-01, 1.4932638e-01, 4.1271534e-02, 9.2077785e-04,\n",
       "        7.3853129e-04, 2.4263510e-03],\n",
       "       [3.6597028e-02, 9.1895044e-01, 6.4211655e-03, 7.8189780e-04,\n",
       "        6.1580579e-04, 3.6633655e-02],\n",
       "       [5.8653045e-01, 8.7604141e-03, 3.9780465e-01, 4.8522381e-03,\n",
       "        9.5192250e-04, 1.1003368e-03],\n",
       "       [1.1603163e-01, 8.6366004e-01, 9.5596528e-03, 3.0289730e-03,\n",
       "        6.3744484e-04, 7.0822407e-03],\n",
       "       [1.8810213e-03, 4.0963823e-03, 4.3663087e-01, 5.3993434e-01,\n",
       "        1.4975640e-02, 2.4817456e-03],\n",
       "       [9.8542951e-04, 1.2329316e-03, 2.8712246e-01, 7.0116705e-01,\n",
       "        7.3613324e-03, 2.1308511e-03],\n",
       "       [8.8062978e-01, 6.9303282e-02, 4.4728596e-02, 2.7566683e-03,\n",
       "        9.2984695e-04, 1.6517894e-03],\n",
       "       [2.8003124e-03, 1.4796553e-03, 3.6896503e-01, 5.5273074e-01,\n",
       "        6.7449003e-02, 6.5752640e-03],\n",
       "       [1.4856404e-01, 1.9149820e-03, 8.1006575e-01, 3.6810223e-02,\n",
       "        1.0630655e-03, 1.5819921e-03]], dtype=float32)"
      ]
     },
     "execution_count": 93,
     "metadata": {},
     "output_type": "execute_result"
    }
   ],
   "source": [
    "# print the first 10 predicted probabilities\n",
    "y_pred_prob[0:10]"
   ]
  },
  {
   "cell_type": "code",
   "execution_count": 85,
   "metadata": {},
   "outputs": [
    {
     "data": {
      "text/plain": [
       "array([0., 1., 0., 1., 1., 0., 0., 1., 0., 1.], dtype=float32)"
      ]
     },
     "execution_count": 85,
     "metadata": {},
     "output_type": "execute_result"
    }
   ],
   "source": [
    "# print the first 10 predicted classes with the lower threshold\n",
    "preds[0:10]"
   ]
  },
  {
   "cell_type": "code",
   "execution_count": 86,
   "metadata": {},
   "outputs": [
    {
     "name": "stdout",
     "output_type": "stream",
     "text": [
      "[[145   8  33   0   0   0]\n",
      " [ 41  91   0   0   0   3]\n",
      " [ 34   0 193  20   0   0]\n",
      " [  0   0  30  40   0   0]\n",
      " [  0   0   0   4   1   0]\n",
      " [  0   4   0   0   0   7]]\n"
     ]
    }
   ],
   "source": [
    "# previous confusion matrix (default threshold of 0.5)\n",
    "print(confusion)"
   ]
  },
  {
   "cell_type": "code",
   "execution_count": 87,
   "metadata": {},
   "outputs": [
    {
     "name": "stdout",
     "output_type": "stream",
     "text": [
      "[[  7 179   0   0   0   0]\n",
      " [ 56  79   0   0   0   0]\n",
      " [109 138   0   0   0   0]\n",
      " [ 66   4   0   0   0   0]\n",
      " [  5   0   0   0   0   0]\n",
      " [ 11   0   0   0   0   0]]\n"
     ]
    }
   ],
   "source": [
    "# new confusion matrix (threshold of 0.3)\n",
    "#print(metrics.confusion_matrix(y_test, preds))\n",
    "\n",
    "confusion = metrics.confusion_matrix(y_test,preds)\n",
    "TP = confusion[1, 1]\n",
    "TN = confusion[0, 0]\n",
    "FP = confusion[0, 1]\n",
    "FN = confusion[1, 0]\n",
    "\n",
    "print(metrics.confusion_matrix(y_test, preds))"
   ]
  },
  {
   "cell_type": "code",
   "execution_count": 48,
   "metadata": {},
   "outputs": [
    {
     "name": "stdout",
     "output_type": "stream",
     "text": [
      "0.43703703703703706\n",
      "0.09882516925527679\n"
     ]
    }
   ],
   "source": [
    "##### SENSETIVITY   now less !!!!\n",
    "\n",
    "print(TP / float(TP + FN))\n",
    "print(metrics.recall_score(y_test, preds , average = 'macro'))"
   ]
  },
  {
   "cell_type": "code",
   "execution_count": 49,
   "metadata": {},
   "outputs": [
    {
     "name": "stdout",
     "output_type": "stream",
     "text": [
      "0.15591397849462366\n"
     ]
    }
   ],
   "source": [
    "#### Specificity  now less\n",
    "\n",
    "print(TN / float(TN + FP))"
   ]
  },
  {
   "cell_type": "code",
   "execution_count": null,
   "metadata": {},
   "outputs": [],
   "source": []
  },
  {
   "cell_type": "code",
   "execution_count": null,
   "metadata": {},
   "outputs": [],
   "source": []
  },
  {
   "cell_type": "code",
   "execution_count": 7,
   "metadata": {},
   "outputs": [],
   "source": [
    "from sklearn.preprocessing import LabelEncoder"
   ]
  },
  {
   "cell_type": "code",
   "execution_count": 11,
   "metadata": {},
   "outputs": [
    {
     "data": {
      "text/plain": [
       "array(['A', 'A*', 'B', 'C', 'D', 'H'], dtype='<U2')"
      ]
     },
     "execution_count": 11,
     "metadata": {},
     "output_type": "execute_result"
    }
   ],
   "source": [
    "\n",
    "encoder = LabelEncoder()\n",
    "encoder.fit(['D','C','B','A','A*','H'])\n",
    "encoder.classes_"
   ]
  },
  {
   "cell_type": "code",
   "execution_count": 12,
   "metadata": {},
   "outputs": [
    {
     "data": {
      "text/plain": [
       "array([4, 3, 2, 0, 1, 5], dtype=int64)"
      ]
     },
     "execution_count": 12,
     "metadata": {},
     "output_type": "execute_result"
    }
   ],
   "source": [
    "encoder.transform(['D','C','B','A','A*','H'])"
   ]
  },
  {
   "cell_type": "code",
   "execution_count": 13,
   "metadata": {},
   "outputs": [
    {
     "data": {
      "text/plain": [
       "array(['C', 'B', 'A*'], dtype='<U2')"
      ]
     },
     "execution_count": 13,
     "metadata": {},
     "output_type": "execute_result"
    }
   ],
   "source": [
    "encoder.inverse_transform([3,2,1])"
   ]
  },
  {
   "cell_type": "code",
   "execution_count": null,
   "metadata": {},
   "outputs": [],
   "source": []
  }
 ],
 "metadata": {
  "kernelspec": {
   "display_name": "Python 3",
   "language": "python",
   "name": "python3"
  },
  "language_info": {
   "codemirror_mode": {
    "name": "ipython",
    "version": 3
   },
   "file_extension": ".py",
   "mimetype": "text/x-python",
   "name": "python",
   "nbconvert_exporter": "python",
   "pygments_lexer": "ipython3",
   "version": "3.7.1"
  }
 },
 "nbformat": 4,
 "nbformat_minor": 4
}
