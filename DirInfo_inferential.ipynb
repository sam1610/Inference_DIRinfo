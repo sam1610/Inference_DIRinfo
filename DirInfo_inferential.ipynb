{
 "cells": [
  {
   "cell_type": "code",
   "execution_count": 2,
   "metadata": {},
   "outputs": [
    {
     "ename": "ModuleNotFoundError",
     "evalue": "No module named 'xgboost'",
     "output_type": "error",
     "traceback": [
      "\u001b[0;31m---------------------------------------------------------------------------\u001b[0m",
      "\u001b[0;31mModuleNotFoundError\u001b[0m                       Traceback (most recent call last)",
      "\u001b[0;32m<ipython-input-2-5943d1bfe3f1>\u001b[0m in \u001b[0;36m<module>\u001b[0;34m\u001b[0m\n\u001b[0;32m----> 1\u001b[0;31m \u001b[0;32mimport\u001b[0m \u001b[0mxgboost\u001b[0m \u001b[0;32mas\u001b[0m \u001b[0mxgb\u001b[0m\u001b[0;34m\u001b[0m\u001b[0;34m\u001b[0m\u001b[0m\n\u001b[0m",
      "\u001b[0;31mModuleNotFoundError\u001b[0m: No module named 'xgboost'"
     ]
    }
   ],
   "source": [
    "import xgboost as xgb"
   ]
  },
  {
   "cell_type": "code",
   "execution_count": 1,
   "metadata": {},
   "outputs": [
    {
     "ename": "ModuleNotFoundError",
     "evalue": "No module named 'xgboost'",
     "output_type": "error",
     "traceback": [
      "\u001b[0;31m---------------------------------------------------------------------------\u001b[0m",
      "\u001b[0;31mModuleNotFoundError\u001b[0m                       Traceback (most recent call last)",
      "\u001b[0;32m<ipython-input-1-477fa34615c5>\u001b[0m in \u001b[0;36m<module>\u001b[0;34m\u001b[0m\n\u001b[0;32m----> 1\u001b[0;31m \u001b[0;32mfrom\u001b[0m \u001b[0mxgboost\u001b[0m \u001b[0;32mimport\u001b[0m \u001b[0mXGBClassifier\u001b[0m\u001b[0;34m\u001b[0m\u001b[0;34m\u001b[0m\u001b[0m\n\u001b[0m",
      "\u001b[0;31mModuleNotFoundError\u001b[0m: No module named 'xgboost'"
     ]
    }
   ],
   "source": [
    "from xgboost import XGBClassifier"
   ]
  },
  {
   "cell_type": "code",
   "execution_count": 10,
   "metadata": {},
   "outputs": [
    {
     "ename": "ModuleNotFoundError",
     "evalue": "No module named 'sklearn'",
     "output_type": "error",
     "traceback": [
      "\u001b[0;31m---------------------------------------------------------------------------\u001b[0m",
      "\u001b[0;31mModuleNotFoundError\u001b[0m                       Traceback (most recent call last)",
      "\u001b[0;32m<ipython-input-10-f1a7150f6791>\u001b[0m in \u001b[0;36m<module>\u001b[0;34m\u001b[0m\n\u001b[0;32m----> 1\u001b[0;31m \u001b[0;32mfrom\u001b[0m \u001b[0msklearn\u001b[0m\u001b[0;34m.\u001b[0m\u001b[0mpreprocessing\u001b[0m \u001b[0;32mimport\u001b[0m \u001b[0mStandardScaler\u001b[0m\u001b[0;34m,\u001b[0m \u001b[0mOneHotEncoder\u001b[0m\u001b[0;34m,\u001b[0m \u001b[0mLabelEncoder\u001b[0m\u001b[0;34m\u001b[0m\u001b[0;34m\u001b[0m\u001b[0m\n\u001b[0m\u001b[1;32m      2\u001b[0m \u001b[0;32mfrom\u001b[0m \u001b[0msklearn\u001b[0m\u001b[0;34m.\u001b[0m\u001b[0mcompose\u001b[0m \u001b[0;32mimport\u001b[0m \u001b[0mmake_column_transformer\u001b[0m\u001b[0;34m,\u001b[0m \u001b[0mColumnTransformer\u001b[0m\u001b[0;34m,\u001b[0m \u001b[0mTransformedTargetRegressor\u001b[0m\u001b[0;34m,\u001b[0m\u001b[0mmake_column_selector\u001b[0m\u001b[0;34m\u001b[0m\u001b[0;34m\u001b[0m\u001b[0m\n\u001b[1;32m      3\u001b[0m \u001b[0;32mfrom\u001b[0m \u001b[0msklearn\u001b[0m\u001b[0;34m.\u001b[0m\u001b[0mpipeline\u001b[0m \u001b[0;32mimport\u001b[0m \u001b[0mmake_pipeline\u001b[0m\u001b[0;34m\u001b[0m\u001b[0;34m\u001b[0m\u001b[0m\n\u001b[1;32m      4\u001b[0m \u001b[0;32mfrom\u001b[0m \u001b[0msklearn\u001b[0m\u001b[0;34m.\u001b[0m\u001b[0mlinear_model\u001b[0m \u001b[0;32mimport\u001b[0m \u001b[0mSGDClassifier\u001b[0m\u001b[0;34m\u001b[0m\u001b[0;34m\u001b[0m\u001b[0m\n\u001b[1;32m      5\u001b[0m \u001b[0;32mfrom\u001b[0m \u001b[0msklearn\u001b[0m\u001b[0;34m.\u001b[0m\u001b[0mmodel_selection\u001b[0m \u001b[0;32mimport\u001b[0m \u001b[0mGridSearchCV\u001b[0m\u001b[0;34m,\u001b[0m \u001b[0mRandomizedSearchCV\u001b[0m\u001b[0;34m,\u001b[0m \u001b[0mcross_val_score\u001b[0m\u001b[0;34m,\u001b[0m \u001b[0mStratifiedKFold\u001b[0m\u001b[0;34m,\u001b[0m \u001b[0mtrain_test_split\u001b[0m\u001b[0;34m\u001b[0m\u001b[0;34m\u001b[0m\u001b[0m\n",
      "\u001b[0;31mModuleNotFoundError\u001b[0m: No module named 'sklearn'"
     ]
    }
   ],
   "source": [
    "from sklearn.preprocessing import StandardScaler, OneHotEncoder, LabelEncoder\n",
    "from sklearn.compose import make_column_transformer, ColumnTransformer, TransformedTargetRegressor,make_column_selector\n",
    "from sklearn.pipeline import make_pipeline\n",
    "from sklearn.linear_model import SGDClassifier\n",
    "from sklearn.model_selection import GridSearchCV, RandomizedSearchCV, cross_val_score, StratifiedKFold, train_test_split\n",
    "from sklearn.feature_extraction.text import CountVectorizer\n"
   ]
  },
  {
   "cell_type": "code",
   "execution_count": 2,
   "metadata": {},
   "outputs": [],
   "source": [
    "import pandas as pd\n",
    "import numpy as np\n",
    "\n",
    "df_infer=pd.read_csv(\"data/GD_infer.csv\")"
   ]
  },
  {
   "cell_type": "code",
   "execution_count": 3,
   "metadata": {},
   "outputs": [
    {
     "data": {
      "text/html": [
       "<div>\n",
       "<style scoped>\n",
       "    .dataframe tbody tr th:only-of-type {\n",
       "        vertical-align: middle;\n",
       "    }\n",
       "\n",
       "    .dataframe tbody tr th {\n",
       "        vertical-align: top;\n",
       "    }\n",
       "\n",
       "    .dataframe thead th {\n",
       "        text-align: right;\n",
       "    }\n",
       "</style>\n",
       "<table border=\"1\" class=\"dataframe\">\n",
       "  <thead>\n",
       "    <tr style=\"text-align: right;\">\n",
       "      <th></th>\n",
       "      <th>Unnamed: 0</th>\n",
       "      <th>CPR_NO</th>\n",
       "      <th>SCH_NM</th>\n",
       "      <th>PROV_NM</th>\n",
       "      <th>SUBM</th>\n",
       "      <th>Teacher_Gender</th>\n",
       "      <th>ACHIEVEMENTS1</th>\n",
       "      <th>ACHIEVEMENTS2</th>\n",
       "      <th>MIDTERM1</th>\n",
       "      <th>MIDTERM2</th>\n",
       "      <th>FINAL1</th>\n",
       "      <th>FINAL2</th>\n",
       "      <th>TOTAL1</th>\n",
       "      <th>TOTAL2</th>\n",
       "      <th>D_MARK</th>\n",
       "      <th>NAT_MARK</th>\n",
       "      <th>GPA</th>\n",
       "      <th>GPA_class</th>\n",
       "      <th>NAT_class</th>\n",
       "    </tr>\n",
       "  </thead>\n",
       "  <tbody>\n",
       "    <tr>\n",
       "      <th>14944</th>\n",
       "      <td>14954</td>\n",
       "      <td>20516916</td>\n",
       "      <td>مدرسة البسيتين الابتدائية للبنين</td>\n",
       "      <td>Muharaq</td>\n",
       "      <td>Math</td>\n",
       "      <td>M</td>\n",
       "      <td>30.0</td>\n",
       "      <td>30.0</td>\n",
       "      <td>20.0</td>\n",
       "      <td>20.0</td>\n",
       "      <td>40.0</td>\n",
       "      <td>39.0</td>\n",
       "      <td>90.0</td>\n",
       "      <td>89</td>\n",
       "      <td>90</td>\n",
       "      <td>52.9</td>\n",
       "      <td>93.250000</td>\n",
       "      <td>&gt;90</td>\n",
       "      <td>&lt;60</td>\n",
       "    </tr>\n",
       "    <tr>\n",
       "      <th>2858</th>\n",
       "      <td>2859</td>\n",
       "      <td>20516916</td>\n",
       "      <td>مدرسة البسيتين الابتدائية للبنين</td>\n",
       "      <td>Muharaq</td>\n",
       "      <td>Science</td>\n",
       "      <td>M</td>\n",
       "      <td>30.0</td>\n",
       "      <td>30.0</td>\n",
       "      <td>20.0</td>\n",
       "      <td>19.0</td>\n",
       "      <td>41.0</td>\n",
       "      <td>40.0</td>\n",
       "      <td>91.0</td>\n",
       "      <td>89</td>\n",
       "      <td>90</td>\n",
       "      <td>46.1</td>\n",
       "      <td>93.250000</td>\n",
       "      <td>&gt;90</td>\n",
       "      <td>&lt;60</td>\n",
       "    </tr>\n",
       "    <tr>\n",
       "      <th>12670</th>\n",
       "      <td>12679</td>\n",
       "      <td>20709315</td>\n",
       "      <td>مدرسة ابو بكر الصديق الابتدائية للبنين</td>\n",
       "      <td>Cap</td>\n",
       "      <td>Math</td>\n",
       "      <td>M</td>\n",
       "      <td>24.0</td>\n",
       "      <td>23.0</td>\n",
       "      <td>16.0</td>\n",
       "      <td>12.0</td>\n",
       "      <td>40.0</td>\n",
       "      <td>31.5</td>\n",
       "      <td>80.0</td>\n",
       "      <td>67</td>\n",
       "      <td>74</td>\n",
       "      <td>39.9</td>\n",
       "      <td>76.272727</td>\n",
       "      <td>70-80</td>\n",
       "      <td>&lt;60</td>\n",
       "    </tr>\n",
       "    <tr>\n",
       "      <th>584</th>\n",
       "      <td>584</td>\n",
       "      <td>20709315</td>\n",
       "      <td>مدرسة ابو بكر الصديق الابتدائية للبنين</td>\n",
       "      <td>Cap</td>\n",
       "      <td>Science</td>\n",
       "      <td>M</td>\n",
       "      <td>24.0</td>\n",
       "      <td>26.0</td>\n",
       "      <td>14.0</td>\n",
       "      <td>9.0</td>\n",
       "      <td>23.5</td>\n",
       "      <td>12.5</td>\n",
       "      <td>62.0</td>\n",
       "      <td>48</td>\n",
       "      <td>55</td>\n",
       "      <td>44.2</td>\n",
       "      <td>76.272727</td>\n",
       "      <td>70-80</td>\n",
       "      <td>&lt;60</td>\n",
       "    </tr>\n",
       "    <tr>\n",
       "      <th>23918</th>\n",
       "      <td>23936</td>\n",
       "      <td>20819269</td>\n",
       "      <td>مدرسة مريم بنت عمران الابتدائية للبنات</td>\n",
       "      <td>Muharaq</td>\n",
       "      <td>Math</td>\n",
       "      <td>F</td>\n",
       "      <td>30.0</td>\n",
       "      <td>30.0</td>\n",
       "      <td>20.0</td>\n",
       "      <td>19.5</td>\n",
       "      <td>41.5</td>\n",
       "      <td>41.5</td>\n",
       "      <td>92.0</td>\n",
       "      <td>91</td>\n",
       "      <td>92</td>\n",
       "      <td>58.9</td>\n",
       "      <td>95.416667</td>\n",
       "      <td>&gt;90</td>\n",
       "      <td>&lt;60</td>\n",
       "    </tr>\n",
       "  </tbody>\n",
       "</table>\n",
       "</div>"
      ],
      "text/plain": [
       "       Unnamed: 0    CPR_NO                                  SCH_NM  PROV_NM  \\\n",
       "14944       14954  20516916        مدرسة البسيتين الابتدائية للبنين  Muharaq   \n",
       "2858         2859  20516916        مدرسة البسيتين الابتدائية للبنين  Muharaq   \n",
       "12670       12679  20709315  مدرسة ابو بكر الصديق الابتدائية للبنين      Cap   \n",
       "584           584  20709315  مدرسة ابو بكر الصديق الابتدائية للبنين      Cap   \n",
       "23918       23936  20819269  مدرسة مريم بنت عمران الابتدائية للبنات  Muharaq   \n",
       "\n",
       "          SUBM Teacher_Gender  ACHIEVEMENTS1  ACHIEVEMENTS2  MIDTERM1  \\\n",
       "14944     Math              M           30.0           30.0      20.0   \n",
       "2858   Science              M           30.0           30.0      20.0   \n",
       "12670     Math              M           24.0           23.0      16.0   \n",
       "584    Science              M           24.0           26.0      14.0   \n",
       "23918     Math              F           30.0           30.0      20.0   \n",
       "\n",
       "       MIDTERM2  FINAL1  FINAL2  TOTAL1  TOTAL2  D_MARK  NAT_MARK        GPA  \\\n",
       "14944      20.0    40.0    39.0    90.0      89      90      52.9  93.250000   \n",
       "2858       19.0    41.0    40.0    91.0      89      90      46.1  93.250000   \n",
       "12670      12.0    40.0    31.5    80.0      67      74      39.9  76.272727   \n",
       "584         9.0    23.5    12.5    62.0      48      55      44.2  76.272727   \n",
       "23918      19.5    41.5    41.5    92.0      91      92      58.9  95.416667   \n",
       "\n",
       "      GPA_class NAT_class  \n",
       "14944       >90       <60  \n",
       "2858        >90       <60  \n",
       "12670     70-80       <60  \n",
       "584       70-80       <60  \n",
       "23918       >90       <60  "
      ]
     },
     "execution_count": 3,
     "metadata": {},
     "output_type": "execute_result"
    }
   ],
   "source": [
    "df_infer.sort_values(\"CPR_NO\").head()"
   ]
  },
  {
   "cell_type": "code",
   "execution_count": 4,
   "metadata": {},
   "outputs": [],
   "source": [
    "df_infer.set_index('CPR_NO', inplace=True)\n",
    "# df_infer.index=df.CPR_NO\n",
    "# df_infer=df_infer.drop([\"Unnamed: 0\" ], axis=1)"
   ]
  },
  {
   "cell_type": "code",
   "execution_count": 5,
   "metadata": {},
   "outputs": [
    {
     "data": {
      "text/plain": [
       "99"
      ]
     },
     "execution_count": 5,
     "metadata": {},
     "output_type": "execute_result"
    }
   ],
   "source": [
    "df_infer.SCH_NM.nunique()"
   ]
  },
  {
   "cell_type": "code",
   "execution_count": 6,
   "metadata": {},
   "outputs": [],
   "source": [
    "df_infer.drop(['NAT_MARK','GPA','TOTAL1','ACHIEVEMENTS2','MIDTERM2', 'FINAL2', 'TOTAL2', 'D_MARK', 'Unnamed: 0'], axis=1, inplace=True)\n",
    "# y=df_infer['NAT_class']"
   ]
  },
  {
   "cell_type": "code",
   "execution_count": 7,
   "metadata": {},
   "outputs": [
    {
     "data": {
      "text/html": [
       "<div>\n",
       "<style scoped>\n",
       "    .dataframe tbody tr th:only-of-type {\n",
       "        vertical-align: middle;\n",
       "    }\n",
       "\n",
       "    .dataframe tbody tr th {\n",
       "        vertical-align: top;\n",
       "    }\n",
       "\n",
       "    .dataframe thead th {\n",
       "        text-align: right;\n",
       "    }\n",
       "</style>\n",
       "<table border=\"1\" class=\"dataframe\">\n",
       "  <thead>\n",
       "    <tr style=\"text-align: right;\">\n",
       "      <th></th>\n",
       "      <th>SCH_NM</th>\n",
       "      <th>PROV_NM</th>\n",
       "      <th>SUBM</th>\n",
       "      <th>Teacher_Gender</th>\n",
       "      <th>ACHIEVEMENTS1</th>\n",
       "      <th>MIDTERM1</th>\n",
       "      <th>FINAL1</th>\n",
       "      <th>GPA_class</th>\n",
       "      <th>NAT_class</th>\n",
       "    </tr>\n",
       "    <tr>\n",
       "      <th>CPR_NO</th>\n",
       "      <th></th>\n",
       "      <th></th>\n",
       "      <th></th>\n",
       "      <th></th>\n",
       "      <th></th>\n",
       "      <th></th>\n",
       "      <th></th>\n",
       "      <th></th>\n",
       "      <th></th>\n",
       "    </tr>\n",
       "  </thead>\n",
       "  <tbody>\n",
       "    <tr>\n",
       "      <th>70913390</th>\n",
       "      <td>المعهد الديني الجعفري</td>\n",
       "      <td>Cap</td>\n",
       "      <td>Science</td>\n",
       "      <td>M</td>\n",
       "      <td>28.0</td>\n",
       "      <td>17.0</td>\n",
       "      <td>45.0</td>\n",
       "      <td>&gt;90</td>\n",
       "      <td>&lt;60</td>\n",
       "    </tr>\n",
       "    <tr>\n",
       "      <th>71105956</th>\n",
       "      <td>المعهد الديني الجعفري</td>\n",
       "      <td>Cap</td>\n",
       "      <td>Science</td>\n",
       "      <td>M</td>\n",
       "      <td>27.0</td>\n",
       "      <td>14.0</td>\n",
       "      <td>41.5</td>\n",
       "      <td>80-90</td>\n",
       "      <td>&lt;60</td>\n",
       "    </tr>\n",
       "    <tr>\n",
       "      <th>70712190</th>\n",
       "      <td>المعهد الديني الجعفري</td>\n",
       "      <td>Cap</td>\n",
       "      <td>Science</td>\n",
       "      <td>M</td>\n",
       "      <td>27.0</td>\n",
       "      <td>13.0</td>\n",
       "      <td>27.5</td>\n",
       "      <td>80-90</td>\n",
       "      <td>&lt;60</td>\n",
       "    </tr>\n",
       "    <tr>\n",
       "      <th>70207496</th>\n",
       "      <td>المعهد الديني الجعفري</td>\n",
       "      <td>Cap</td>\n",
       "      <td>Science</td>\n",
       "      <td>M</td>\n",
       "      <td>26.0</td>\n",
       "      <td>15.0</td>\n",
       "      <td>44.0</td>\n",
       "      <td>80-90</td>\n",
       "      <td>&lt;60</td>\n",
       "    </tr>\n",
       "    <tr>\n",
       "      <th>70507953</th>\n",
       "      <td>المعهد الديني الجعفري</td>\n",
       "      <td>Cap</td>\n",
       "      <td>Science</td>\n",
       "      <td>M</td>\n",
       "      <td>25.0</td>\n",
       "      <td>14.0</td>\n",
       "      <td>31.5</td>\n",
       "      <td>80-90</td>\n",
       "      <td>&lt;60</td>\n",
       "    </tr>\n",
       "  </tbody>\n",
       "</table>\n",
       "</div>"
      ],
      "text/plain": [
       "                         SCH_NM PROV_NM     SUBM Teacher_Gender  \\\n",
       "CPR_NO                                                            \n",
       "70913390  المعهد الديني الجعفري     Cap  Science              M   \n",
       "71105956  المعهد الديني الجعفري     Cap  Science              M   \n",
       "70712190  المعهد الديني الجعفري     Cap  Science              M   \n",
       "70207496  المعهد الديني الجعفري     Cap  Science              M   \n",
       "70507953  المعهد الديني الجعفري     Cap  Science              M   \n",
       "\n",
       "          ACHIEVEMENTS1  MIDTERM1  FINAL1 GPA_class NAT_class  \n",
       "CPR_NO                                                         \n",
       "70913390           28.0      17.0    45.0       >90       <60  \n",
       "71105956           27.0      14.0    41.5     80-90       <60  \n",
       "70712190           27.0      13.0    27.5     80-90       <60  \n",
       "70207496           26.0      15.0    44.0     80-90       <60  \n",
       "70507953           25.0      14.0    31.5     80-90       <60  "
      ]
     },
     "execution_count": 7,
     "metadata": {},
     "output_type": "execute_result"
    }
   ],
   "source": [
    "df_infer.head()"
   ]
  },
  {
   "cell_type": "code",
   "execution_count": 8,
   "metadata": {},
   "outputs": [
    {
     "data": {
      "text/plain": [
       "Index(['SCH_NM', 'PROV_NM', 'SUBM', 'Teacher_Gender', 'ACHIEVEMENTS1',\n",
       "       'MIDTERM1', 'FINAL1', 'GPA_class', 'NAT_class'],\n",
       "      dtype='object')"
      ]
     },
     "execution_count": 8,
     "metadata": {},
     "output_type": "execute_result"
    }
   ],
   "source": [
    "df_infer.keys()"
   ]
  },
  {
   "cell_type": "code",
   "execution_count": 9,
   "metadata": {},
   "outputs": [],
   "source": [
    "label_encoder = LabelEncoder()\n",
    "\n",
    "for i in ['SCH_NM','SUBM','Teacher_Gender','GPA_class','NAT_class' ]:\n",
    "\n",
    "    df_infer[i] = label_encoder.fit_transform(df_infer[i])"
   ]
  },
  {
   "cell_type": "code",
   "execution_count": 10,
   "metadata": {},
   "outputs": [
    {
     "data": {
      "text/html": [
       "<div>\n",
       "<style scoped>\n",
       "    .dataframe tbody tr th:only-of-type {\n",
       "        vertical-align: middle;\n",
       "    }\n",
       "\n",
       "    .dataframe tbody tr th {\n",
       "        vertical-align: top;\n",
       "    }\n",
       "\n",
       "    .dataframe thead th {\n",
       "        text-align: right;\n",
       "    }\n",
       "</style>\n",
       "<table border=\"1\" class=\"dataframe\">\n",
       "  <thead>\n",
       "    <tr style=\"text-align: right;\">\n",
       "      <th></th>\n",
       "      <th>SCH_NM</th>\n",
       "      <th>PROV_NM</th>\n",
       "      <th>SUBM</th>\n",
       "      <th>Teacher_Gender</th>\n",
       "      <th>ACHIEVEMENTS1</th>\n",
       "      <th>MIDTERM1</th>\n",
       "      <th>FINAL1</th>\n",
       "      <th>GPA_class</th>\n",
       "      <th>NAT_class</th>\n",
       "    </tr>\n",
       "    <tr>\n",
       "      <th>CPR_NO</th>\n",
       "      <th></th>\n",
       "      <th></th>\n",
       "      <th></th>\n",
       "      <th></th>\n",
       "      <th></th>\n",
       "      <th></th>\n",
       "      <th></th>\n",
       "      <th></th>\n",
       "      <th></th>\n",
       "    </tr>\n",
       "  </thead>\n",
       "  <tbody>\n",
       "    <tr>\n",
       "      <th>70913390</th>\n",
       "      <td>0</td>\n",
       "      <td>Cap</td>\n",
       "      <td>1</td>\n",
       "      <td>1</td>\n",
       "      <td>28.0</td>\n",
       "      <td>17.0</td>\n",
       "      <td>45.0</td>\n",
       "      <td>4</td>\n",
       "      <td>3</td>\n",
       "    </tr>\n",
       "    <tr>\n",
       "      <th>71105956</th>\n",
       "      <td>0</td>\n",
       "      <td>Cap</td>\n",
       "      <td>1</td>\n",
       "      <td>1</td>\n",
       "      <td>27.0</td>\n",
       "      <td>14.0</td>\n",
       "      <td>41.5</td>\n",
       "      <td>2</td>\n",
       "      <td>3</td>\n",
       "    </tr>\n",
       "    <tr>\n",
       "      <th>70712190</th>\n",
       "      <td>0</td>\n",
       "      <td>Cap</td>\n",
       "      <td>1</td>\n",
       "      <td>1</td>\n",
       "      <td>27.0</td>\n",
       "      <td>13.0</td>\n",
       "      <td>27.5</td>\n",
       "      <td>2</td>\n",
       "      <td>3</td>\n",
       "    </tr>\n",
       "    <tr>\n",
       "      <th>70207496</th>\n",
       "      <td>0</td>\n",
       "      <td>Cap</td>\n",
       "      <td>1</td>\n",
       "      <td>1</td>\n",
       "      <td>26.0</td>\n",
       "      <td>15.0</td>\n",
       "      <td>44.0</td>\n",
       "      <td>2</td>\n",
       "      <td>3</td>\n",
       "    </tr>\n",
       "    <tr>\n",
       "      <th>70507953</th>\n",
       "      <td>0</td>\n",
       "      <td>Cap</td>\n",
       "      <td>1</td>\n",
       "      <td>1</td>\n",
       "      <td>25.0</td>\n",
       "      <td>14.0</td>\n",
       "      <td>31.5</td>\n",
       "      <td>2</td>\n",
       "      <td>3</td>\n",
       "    </tr>\n",
       "  </tbody>\n",
       "</table>\n",
       "</div>"
      ],
      "text/plain": [
       "          SCH_NM PROV_NM  SUBM  Teacher_Gender  ACHIEVEMENTS1  MIDTERM1  \\\n",
       "CPR_NO                                                                    \n",
       "70913390       0     Cap     1               1           28.0      17.0   \n",
       "71105956       0     Cap     1               1           27.0      14.0   \n",
       "70712190       0     Cap     1               1           27.0      13.0   \n",
       "70207496       0     Cap     1               1           26.0      15.0   \n",
       "70507953       0     Cap     1               1           25.0      14.0   \n",
       "\n",
       "          FINAL1  GPA_class  NAT_class  \n",
       "CPR_NO                                  \n",
       "70913390    45.0          4          3  \n",
       "71105956    41.5          2          3  \n",
       "70712190    27.5          2          3  \n",
       "70207496    44.0          2          3  \n",
       "70507953    31.5          2          3  "
      ]
     },
     "execution_count": 10,
     "metadata": {},
     "output_type": "execute_result"
    }
   ],
   "source": [
    "df_infer.head()"
   ]
  },
  {
   "cell_type": "code",
   "execution_count": 11,
   "metadata": {},
   "outputs": [],
   "source": [
    "df_infer=df_infer[['NAT_class','SCH_NM', 'PROV_NM', 'SUBM', 'Teacher_Gender', 'ACHIEVEMENTS1',\n",
    "       'MIDTERM1', 'FINAL1', 'GPA_class']]"
   ]
  },
  {
   "cell_type": "code",
   "execution_count": 12,
   "metadata": {},
   "outputs": [
    {
     "data": {
      "text/html": [
       "<div>\n",
       "<style scoped>\n",
       "    .dataframe tbody tr th:only-of-type {\n",
       "        vertical-align: middle;\n",
       "    }\n",
       "\n",
       "    .dataframe tbody tr th {\n",
       "        vertical-align: top;\n",
       "    }\n",
       "\n",
       "    .dataframe thead th {\n",
       "        text-align: right;\n",
       "    }\n",
       "</style>\n",
       "<table border=\"1\" class=\"dataframe\">\n",
       "  <thead>\n",
       "    <tr style=\"text-align: right;\">\n",
       "      <th></th>\n",
       "      <th>NAT_class</th>\n",
       "      <th>SCH_NM</th>\n",
       "      <th>PROV_NM</th>\n",
       "      <th>SUBM</th>\n",
       "      <th>Teacher_Gender</th>\n",
       "      <th>ACHIEVEMENTS1</th>\n",
       "      <th>MIDTERM1</th>\n",
       "      <th>FINAL1</th>\n",
       "      <th>GPA_class</th>\n",
       "    </tr>\n",
       "    <tr>\n",
       "      <th>CPR_NO</th>\n",
       "      <th></th>\n",
       "      <th></th>\n",
       "      <th></th>\n",
       "      <th></th>\n",
       "      <th></th>\n",
       "      <th></th>\n",
       "      <th></th>\n",
       "      <th></th>\n",
       "      <th></th>\n",
       "    </tr>\n",
       "  </thead>\n",
       "  <tbody>\n",
       "    <tr>\n",
       "      <th>70913390</th>\n",
       "      <td>3</td>\n",
       "      <td>0</td>\n",
       "      <td>Cap</td>\n",
       "      <td>1</td>\n",
       "      <td>1</td>\n",
       "      <td>28.0</td>\n",
       "      <td>17.0</td>\n",
       "      <td>45.0</td>\n",
       "      <td>4</td>\n",
       "    </tr>\n",
       "    <tr>\n",
       "      <th>71105956</th>\n",
       "      <td>3</td>\n",
       "      <td>0</td>\n",
       "      <td>Cap</td>\n",
       "      <td>1</td>\n",
       "      <td>1</td>\n",
       "      <td>27.0</td>\n",
       "      <td>14.0</td>\n",
       "      <td>41.5</td>\n",
       "      <td>2</td>\n",
       "    </tr>\n",
       "    <tr>\n",
       "      <th>70712190</th>\n",
       "      <td>3</td>\n",
       "      <td>0</td>\n",
       "      <td>Cap</td>\n",
       "      <td>1</td>\n",
       "      <td>1</td>\n",
       "      <td>27.0</td>\n",
       "      <td>13.0</td>\n",
       "      <td>27.5</td>\n",
       "      <td>2</td>\n",
       "    </tr>\n",
       "    <tr>\n",
       "      <th>70207496</th>\n",
       "      <td>3</td>\n",
       "      <td>0</td>\n",
       "      <td>Cap</td>\n",
       "      <td>1</td>\n",
       "      <td>1</td>\n",
       "      <td>26.0</td>\n",
       "      <td>15.0</td>\n",
       "      <td>44.0</td>\n",
       "      <td>2</td>\n",
       "    </tr>\n",
       "    <tr>\n",
       "      <th>70507953</th>\n",
       "      <td>3</td>\n",
       "      <td>0</td>\n",
       "      <td>Cap</td>\n",
       "      <td>1</td>\n",
       "      <td>1</td>\n",
       "      <td>25.0</td>\n",
       "      <td>14.0</td>\n",
       "      <td>31.5</td>\n",
       "      <td>2</td>\n",
       "    </tr>\n",
       "    <tr>\n",
       "      <th>...</th>\n",
       "      <td>...</td>\n",
       "      <td>...</td>\n",
       "      <td>...</td>\n",
       "      <td>...</td>\n",
       "      <td>...</td>\n",
       "      <td>...</td>\n",
       "      <td>...</td>\n",
       "      <td>...</td>\n",
       "      <td>...</td>\n",
       "    </tr>\n",
       "    <tr>\n",
       "      <th>70304602</th>\n",
       "      <td>0</td>\n",
       "      <td>98</td>\n",
       "      <td>South</td>\n",
       "      <td>0</td>\n",
       "      <td>1</td>\n",
       "      <td>30.0</td>\n",
       "      <td>20.0</td>\n",
       "      <td>47.0</td>\n",
       "      <td>4</td>\n",
       "    </tr>\n",
       "    <tr>\n",
       "      <th>71007423</th>\n",
       "      <td>3</td>\n",
       "      <td>98</td>\n",
       "      <td>South</td>\n",
       "      <td>0</td>\n",
       "      <td>1</td>\n",
       "      <td>30.0</td>\n",
       "      <td>17.0</td>\n",
       "      <td>17.0</td>\n",
       "      <td>2</td>\n",
       "    </tr>\n",
       "    <tr>\n",
       "      <th>70402183</th>\n",
       "      <td>3</td>\n",
       "      <td>98</td>\n",
       "      <td>South</td>\n",
       "      <td>0</td>\n",
       "      <td>1</td>\n",
       "      <td>26.0</td>\n",
       "      <td>12.0</td>\n",
       "      <td>24.0</td>\n",
       "      <td>2</td>\n",
       "    </tr>\n",
       "    <tr>\n",
       "      <th>70803196</th>\n",
       "      <td>3</td>\n",
       "      <td>98</td>\n",
       "      <td>South</td>\n",
       "      <td>0</td>\n",
       "      <td>1</td>\n",
       "      <td>28.0</td>\n",
       "      <td>18.0</td>\n",
       "      <td>37.0</td>\n",
       "      <td>2</td>\n",
       "    </tr>\n",
       "    <tr>\n",
       "      <th>70211361</th>\n",
       "      <td>3</td>\n",
       "      <td>98</td>\n",
       "      <td>South</td>\n",
       "      <td>0</td>\n",
       "      <td>1</td>\n",
       "      <td>29.0</td>\n",
       "      <td>14.0</td>\n",
       "      <td>16.0</td>\n",
       "      <td>2</td>\n",
       "    </tr>\n",
       "  </tbody>\n",
       "</table>\n",
       "<p>24172 rows × 9 columns</p>\n",
       "</div>"
      ],
      "text/plain": [
       "          NAT_class  SCH_NM PROV_NM  SUBM  Teacher_Gender  ACHIEVEMENTS1  \\\n",
       "CPR_NO                                                                     \n",
       "70913390          3       0     Cap     1               1           28.0   \n",
       "71105956          3       0     Cap     1               1           27.0   \n",
       "70712190          3       0     Cap     1               1           27.0   \n",
       "70207496          3       0     Cap     1               1           26.0   \n",
       "70507953          3       0     Cap     1               1           25.0   \n",
       "...             ...     ...     ...   ...             ...            ...   \n",
       "70304602          0      98   South     0               1           30.0   \n",
       "71007423          3      98   South     0               1           30.0   \n",
       "70402183          3      98   South     0               1           26.0   \n",
       "70803196          3      98   South     0               1           28.0   \n",
       "70211361          3      98   South     0               1           29.0   \n",
       "\n",
       "          MIDTERM1  FINAL1  GPA_class  \n",
       "CPR_NO                                 \n",
       "70913390      17.0    45.0          4  \n",
       "71105956      14.0    41.5          2  \n",
       "70712190      13.0    27.5          2  \n",
       "70207496      15.0    44.0          2  \n",
       "70507953      14.0    31.5          2  \n",
       "...            ...     ...        ...  \n",
       "70304602      20.0    47.0          4  \n",
       "71007423      17.0    17.0          2  \n",
       "70402183      12.0    24.0          2  \n",
       "70803196      18.0    37.0          2  \n",
       "70211361      14.0    16.0          2  \n",
       "\n",
       "[24172 rows x 9 columns]"
      ]
     },
     "execution_count": 12,
     "metadata": {},
     "output_type": "execute_result"
    }
   ],
   "source": [
    "df_infer"
   ]
  },
  {
   "cell_type": "code",
   "execution_count": null,
   "metadata": {},
   "outputs": [],
   "source": []
  },
  {
   "cell_type": "code",
   "execution_count": null,
   "metadata": {},
   "outputs": [],
   "source": [
    "y=df_infer[\"NAT_class\"]\n",
    "X= df_infer.drop(['GPA_class', 'NAT_class'], axis=1)"
   ]
  },
  {
   "cell_type": "code",
   "execution_count": null,
   "metadata": {},
   "outputs": [],
   "source": [
    "column_trans=make_column_transformer(\n",
    "(OneHotEncoder(), ['PROV_NM', 'SCH_NM']),\n",
    "(StandardScaler(), ['ACHIEVEMENTS1', 'MIDTERM1', 'FINAL1',]),\n",
    "    remainder=\"passthrough\"\n",
    "    \n",
    ")\n",
    "\n"
   ]
  },
  {
   "cell_type": "code",
   "execution_count": null,
   "metadata": {},
   "outputs": [],
   "source": [
    "pipe=make_pipeline( column_trans, \n",
    "                  \n",
    "                  XGBClassifier( objective=\"multi:softmax\", seed=42, silent=True, \n",
    "                               nthread=-1))"
   ]
  },
  {
   "cell_type": "code",
   "execution_count": null,
   "metadata": {},
   "outputs": [],
   "source": [
    "from scipy import stats as st\n",
    "\n",
    "# A parameter grid for XGBoost\n",
    "\n",
    "\n",
    "params_2 = {\n",
    "    'xgbclassifier__n_estimators' :st.randint(100, 1000),\n",
    "    'xgbclassifier__learning_rate' : st.uniform(0.01, 0.6), \n",
    "    'xgbclassifier__colsample_bytree': st.uniform(0.01, 0.9), \n",
    "    'xgbclassifier__max_depth': np.arange(3,8),\n",
    "    'xgbclassifier__min_child_weight':[1,2,3,4],\n",
    "    'xgbclassifier__max_depth':np.arange(3,8)\n",
    "        }"
   ]
  },
  {
   "cell_type": "code",
   "execution_count": null,
   "metadata": {},
   "outputs": [
    {
     "data": {
      "text/plain": [
       "array([3, 4])"
      ]
     },
     "execution_count": 15,
     "metadata": {},
     "output_type": "execute_result"
    }
   ],
   "source": [
    "label_encoder.classes_\n",
    "label_encoder.transform([\"<60\", \">90\"])"
   ]
  },
  {
   "cell_type": "code",
   "execution_count": null,
   "metadata": {},
   "outputs": [],
   "source": [
    "\n",
    "X_train,X_test,y_train, y_test=train_test_split(X,y , test_size=0.3,random_state=42,stratify = y, shuffle=True)\n",
    "X_valid,X_test,y_valid, y_test=train_test_split(X_test,y_test , test_size=0.5,random_state=123)"
   ]
  },
  {
   "cell_type": "code",
   "execution_count": null,
   "metadata": {},
   "outputs": [
    {
     "name": "stdout",
     "output_type": "stream",
     "text": [
      "Fitting 5 folds for each of 10 candidates, totalling 50 fits\n"
     ]
    },
    {
     "name": "stderr",
     "output_type": "stream",
     "text": [
      "/Users/anaconda3/lib/python3.7/site-packages/sklearn/model_selection/_split.py:667: UserWarning: The least populated class in y has only 1 members, which is less than n_splits=5.\n",
      "  % (min_groups, self.n_splits)), UserWarning)\n",
      "[Parallel(n_jobs=-1)]: Using backend LokyBackend with 4 concurrent workers.\n"
     ]
    }
   ],
   "source": [
    "skf = StratifiedKFold(n_splits=5 ,shuffle = True, random_state = 42)\n",
    "\n",
    "random_search = RandomizedSearchCV(pipe, param_distributions=params_2, scoring='f1_macro', n_jobs=-1, \n",
    "                                   cv=skf.split(X_train,y_train), verbose=3, random_state=42 )\n",
    "\n",
    "# Here we go\n",
    "#start_time = timer(None) # timing starts from this point for \"start_time\" variable\n",
    "random_search.fit(X_train, y_train)\n",
    "#timer(start_time) # timing ends here for \"start_time\" variable"
   ]
  },
  {
   "cell_type": "code",
   "execution_count": null,
   "metadata": {},
   "outputs": [],
   "source": [
    "print('\\n All results:')\n",
    "print(random_search.cv_results_)\n",
    "print('\\n Best estimator:')\n",
    "print(random_search.best_estimator_)\n",
    "print('\\n Best normalized gini score for %d-fold search with %d parameter combinations:' % (3, 5))\n",
    "print(random_search.best_score_ * 2 - 1)\n",
    "print('\\n Best hyperparameters:')\n",
    "print(random_search.best_params_)\n",
    "results = pd.DataFrame(random_search.cv_results_)\n",
    "results.to_csv('xgb-random-grid-search-results-01.csv', index=False)"
   ]
  },
  {
   "cell_type": "code",
   "execution_count": null,
   "metadata": {},
   "outputs": [],
   "source": [
    "random_search.best_params_"
   ]
  },
  {
   "cell_type": "code",
   "execution_count": null,
   "metadata": {},
   "outputs": [],
   "source": []
  },
  {
   "cell_type": "code",
   "execution_count": null,
   "metadata": {},
   "outputs": [],
   "source": []
  },
  {
   "cell_type": "markdown",
   "metadata": {},
   "source": [
    "# Data ingestion"
   ]
  },
  {
   "cell_type": "code",
   "execution_count": null,
   "metadata": {},
   "outputs": [],
   "source": [
    "#  Boto3 instanciation \n",
    "s3=Boto3.resource('s3')\n",
    "#  The s3 object\n",
    "key= prefix + \"filename.csv\"\n",
    "\n",
    "#Download the dataset to the notebook instance\n",
    "s3.Bucket(\"bucket\").download_file(key, \"filename.csv\")"
   ]
  },
  {
   "cell_type": "code",
   "execution_count": null,
   "metadata": {},
   "outputs": [],
   "source": [
    "# read dataset\n",
    "df=pd.read_csv(\"filename.csv\")"
   ]
  },
  {
   "cell_type": "code",
   "execution_count": null,
   "metadata": {},
   "outputs": [],
   "source": []
  },
  {
   "cell_type": "markdown",
   "metadata": {},
   "source": [
    "# Data inspection"
   ]
  },
  {
   "cell_type": "code",
   "execution_count": null,
   "metadata": {},
   "outputs": [],
   "source": []
  },
  {
   "cell_type": "code",
   "execution_count": null,
   "metadata": {},
   "outputs": [],
   "source": []
  },
  {
   "cell_type": "code",
   "execution_count": null,
   "metadata": {},
   "outputs": [],
   "source": []
  },
  {
   "cell_type": "code",
   "execution_count": null,
   "metadata": {},
   "outputs": [],
   "source": []
  },
  {
   "cell_type": "markdown",
   "metadata": {},
   "source": [
    "# Data conversion"
   ]
  },
  {
   "cell_type": "code",
   "execution_count": null,
   "metadata": {},
   "outputs": [],
   "source": [
    "import io\n",
    "import os\n",
    "import boto3\n",
    "import numpy as np\n",
    "import sagemaker.amazon.common as smac\n",
    "\n",
    "\n",
    "# vectors = np.array([t.tolist() for t in train_set[0]]).astype('float32')\n",
    "# labels = np.where(np.array([t.tolist() for t in train_set[1]]) == 0, 1, 0).astype('float32')\n",
    "\n",
    "\n",
    "buf = io.BytesIO()\n",
    "smac.write_numpy_to_dense_tensor(buf, train_x.astype(\"float32\"), labels.astype(\"float32\"))\n",
    "buf.seek(0)\n",
    "boto3.resource('s3').Bucket(bucket).Object(prefix+\"/train\"+train_file).upload_fileobj(buf)\n",
    "# boto3.resource('s3').Bucket(bucket).Object(os.path.join(prefix, 'train', key)).upload_fileobj(buf)\n",
    "\n"
   ]
  },
  {
   "cell_type": "markdown",
   "metadata": {},
   "source": [
    "# Upload training data"
   ]
  },
  {
   "cell_type": "code",
   "execution_count": null,
   "metadata": {},
   "outputs": [],
   "source": [
    "import boto3\n",
    "import os\n",
    "\n",
    "key = 'recordio-pb-data'\n",
    "boto3.resource('s3').Bucket(bucket).Object(os.path.join(prefix, 'train', key)).upload_fileobj(buf)\n",
    "s3_train_data = 's3://{}/{}/train/{}'.format(bucket, prefix, key)\n",
    "print(f'uploaded training data location: {s3_train_data}')"
   ]
  },
  {
   "cell_type": "code",
   "execution_count": null,
   "metadata": {},
   "outputs": [],
   "source": []
  },
  {
   "cell_type": "code",
   "execution_count": null,
   "metadata": {},
   "outputs": [],
   "source": []
  },
  {
   "cell_type": "markdown",
   "metadata": {},
   "source": [
    "# Training the linear model"
   ]
  },
  {
   "cell_type": "code",
   "execution_count": null,
   "metadata": {},
   "outputs": [],
   "source": [
    "from sagemker.amazon.amazon_estimator import image_uri\n",
    "container= get_image_uri(boto3.Session().region_name, \"linear-learner\")\n",
    "\n",
    "train_d=f\"s3://{bucket}/{prefix}/train\"\n",
    "valid_d=f\"s3://{bucket}/{prefix}/validation\"\n",
    "s3_output_location=f\"s3://{bucket}/{prefix}/xgboost_model_sdk\"\n"
   ]
  },
  {
   "cell_type": "code",
   "execution_count": null,
   "metadata": {},
   "outputs": [],
   "source": []
  },
  {
   "cell_type": "code",
   "execution_count": null,
   "metadata": {},
   "outputs": [],
   "source": []
  },
  {
   "cell_type": "markdown",
   "metadata": {},
   "source": [
    "# Set up hosting for the model"
   ]
  },
  {
   "cell_type": "code",
   "execution_count": null,
   "metadata": {},
   "outputs": [],
   "source": []
  },
  {
   "cell_type": "markdown",
   "metadata": {},
   "source": [
    "# Validate the model for use"
   ]
  },
  {
   "cell_type": "code",
   "execution_count": null,
   "metadata": {},
   "outputs": [],
   "source": []
  },
  {
   "cell_type": "code",
   "execution_count": null,
   "metadata": {},
   "outputs": [],
   "source": []
  },
  {
   "cell_type": "code",
   "execution_count": null,
   "metadata": {},
   "outputs": [],
   "source": []
  },
  {
   "cell_type": "code",
   "execution_count": null,
   "metadata": {},
   "outputs": [],
   "source": []
  },
  {
   "cell_type": "code",
   "execution_count": null,
   "metadata": {},
   "outputs": [],
   "source": []
  },
  {
   "cell_type": "markdown",
   "metadata": {},
   "source": [
    "# (Optional) Delete the Endpoint"
   ]
  },
  {
   "cell_type": "code",
   "execution_count": null,
   "metadata": {},
   "outputs": [],
   "source": []
  },
  {
   "cell_type": "code",
   "execution_count": null,
   "metadata": {},
   "outputs": [],
   "source": []
  },
  {
   "cell_type": "code",
   "execution_count": null,
   "metadata": {},
   "outputs": [],
   "source": []
  },
  {
   "cell_type": "code",
   "execution_count": null,
   "metadata": {},
   "outputs": [],
   "source": []
  },
  {
   "cell_type": "code",
   "execution_count": null,
   "metadata": {},
   "outputs": [],
   "source": []
  },
  {
   "cell_type": "code",
   "execution_count": null,
   "metadata": {},
   "outputs": [],
   "source": []
  },
  {
   "cell_type": "code",
   "execution_count": null,
   "metadata": {},
   "outputs": [],
   "source": []
  },
  {
   "cell_type": "code",
   "execution_count": null,
   "metadata": {},
   "outputs": [],
   "source": []
  },
  {
   "cell_type": "code",
   "execution_count": 16,
   "metadata": {},
   "outputs": [],
   "source": [
    "# Test "
   ]
  },
  {
   "cell_type": "code",
   "execution_count": 50,
   "metadata": {},
   "outputs": [
    {
     "data": {
      "text/html": [
       "<div>\n",
       "<style scoped>\n",
       "    .dataframe tbody tr th:only-of-type {\n",
       "        vertical-align: middle;\n",
       "    }\n",
       "\n",
       "    .dataframe tbody tr th {\n",
       "        vertical-align: top;\n",
       "    }\n",
       "\n",
       "    .dataframe thead th {\n",
       "        text-align: right;\n",
       "    }\n",
       "</style>\n",
       "<table border=\"1\" class=\"dataframe\">\n",
       "  <thead>\n",
       "    <tr style=\"text-align: right;\">\n",
       "      <th></th>\n",
       "      <th>names</th>\n",
       "      <th>Grade</th>\n",
       "      <th>Teacher</th>\n",
       "      <th>Score</th>\n",
       "      <th>Room</th>\n",
       "      <th>Hobby</th>\n",
       "    </tr>\n",
       "  </thead>\n",
       "  <tbody>\n",
       "    <tr>\n",
       "      <th>0</th>\n",
       "      <td>Al</td>\n",
       "      <td>6</td>\n",
       "      <td>Ogna</td>\n",
       "      <td>A+</td>\n",
       "      <td>Green</td>\n",
       "      <td>Coins</td>\n",
       "    </tr>\n",
       "    <tr>\n",
       "      <th>1</th>\n",
       "      <td>Myke</td>\n",
       "      <td>7</td>\n",
       "      <td>Hayes</td>\n",
       "      <td>A-</td>\n",
       "      <td>Red</td>\n",
       "      <td>Stamps</td>\n",
       "    </tr>\n",
       "    <tr>\n",
       "      <th>2</th>\n",
       "      <td>Lovie</td>\n",
       "      <td>6</td>\n",
       "      <td>Stoltz</td>\n",
       "      <td>B</td>\n",
       "      <td>Blue</td>\n",
       "      <td>Coins</td>\n",
       "    </tr>\n",
       "    <tr>\n",
       "      <th>3</th>\n",
       "      <td>Dash</td>\n",
       "      <td>6</td>\n",
       "      <td>Edens</td>\n",
       "      <td>C</td>\n",
       "      <td>Yellow</td>\n",
       "      <td>Cards</td>\n",
       "    </tr>\n",
       "  </tbody>\n",
       "</table>\n",
       "</div>"
      ],
      "text/plain": [
       "   names  Grade Teacher Score    Room   Hobby\n",
       "0     Al      6    Ogna    A+   Green   Coins\n",
       "1   Myke      7   Hayes    A-     Red  Stamps\n",
       "2  Lovie      6  Stoltz     B    Blue   Coins\n",
       "3   Dash      6   Edens     C  Yellow   Cards"
      ]
     },
     "execution_count": 50,
     "metadata": {},
     "output_type": "execute_result"
    }
   ],
   "source": [
    "import pandas as pd\n",
    "# Write some example data\n",
    "dt = pd.DataFrame({'names':['Al','Myke','Lovie','Dash'], \n",
    "                   'Grade': [6,7,6,6],\n",
    "                   'Teacher':['Ogna','Hayes','Stoltz','Edens'],\n",
    "                   'Score':['A+','A-','B','C'],\n",
    "                   'Room':['Green','Red','Blue','Yellow'],\n",
    "                   'Hobby':['Coins','Stamps','Coins','Cards']})\n",
    "dt.head()"
   ]
  },
  {
   "cell_type": "code",
   "execution_count": 51,
   "metadata": {},
   "outputs": [],
   "source": [
    "# Reset DataFrame with columns in desired order\n",
    "dt = dt[['names','Score','Room','Grade','Teacher','Hobby']]"
   ]
  },
  {
   "cell_type": "code",
   "execution_count": 52,
   "metadata": {},
   "outputs": [
    {
     "data": {
      "text/html": [
       "<div>\n",
       "<style scoped>\n",
       "    .dataframe tbody tr th:only-of-type {\n",
       "        vertical-align: middle;\n",
       "    }\n",
       "\n",
       "    .dataframe tbody tr th {\n",
       "        vertical-align: top;\n",
       "    }\n",
       "\n",
       "    .dataframe thead th {\n",
       "        text-align: right;\n",
       "    }\n",
       "</style>\n",
       "<table border=\"1\" class=\"dataframe\">\n",
       "  <thead>\n",
       "    <tr style=\"text-align: right;\">\n",
       "      <th></th>\n",
       "      <th>names</th>\n",
       "      <th>Score</th>\n",
       "      <th>Room</th>\n",
       "      <th>Grade</th>\n",
       "      <th>Teacher</th>\n",
       "      <th>Hobby</th>\n",
       "    </tr>\n",
       "  </thead>\n",
       "  <tbody>\n",
       "    <tr>\n",
       "      <th>0</th>\n",
       "      <td>Al</td>\n",
       "      <td>A+</td>\n",
       "      <td>Green</td>\n",
       "      <td>6</td>\n",
       "      <td>Ogna</td>\n",
       "      <td>Coins</td>\n",
       "    </tr>\n",
       "    <tr>\n",
       "      <th>1</th>\n",
       "      <td>Myke</td>\n",
       "      <td>A-</td>\n",
       "      <td>Red</td>\n",
       "      <td>7</td>\n",
       "      <td>Hayes</td>\n",
       "      <td>Stamps</td>\n",
       "    </tr>\n",
       "    <tr>\n",
       "      <th>2</th>\n",
       "      <td>Lovie</td>\n",
       "      <td>B</td>\n",
       "      <td>Blue</td>\n",
       "      <td>6</td>\n",
       "      <td>Stoltz</td>\n",
       "      <td>Coins</td>\n",
       "    </tr>\n",
       "    <tr>\n",
       "      <th>3</th>\n",
       "      <td>Dash</td>\n",
       "      <td>C</td>\n",
       "      <td>Yellow</td>\n",
       "      <td>6</td>\n",
       "      <td>Edens</td>\n",
       "      <td>Cards</td>\n",
       "    </tr>\n",
       "  </tbody>\n",
       "</table>\n",
       "</div>"
      ],
      "text/plain": [
       "   names Score    Room  Grade Teacher   Hobby\n",
       "0     Al    A+   Green      6    Ogna   Coins\n",
       "1   Myke    A-     Red      7   Hayes  Stamps\n",
       "2  Lovie     B    Blue      6  Stoltz   Coins\n",
       "3   Dash     C  Yellow      6   Edens   Cards"
      ]
     },
     "execution_count": 52,
     "metadata": {},
     "output_type": "execute_result"
    }
   ],
   "source": [
    "dt.head()"
   ]
  },
  {
   "cell_type": "code",
   "execution_count": 41,
   "metadata": {},
   "outputs": [
    {
     "data": {
      "text/html": [
       "<div>\n",
       "<style scoped>\n",
       "    .dataframe tbody tr th:only-of-type {\n",
       "        vertical-align: middle;\n",
       "    }\n",
       "\n",
       "    .dataframe tbody tr th {\n",
       "        vertical-align: top;\n",
       "    }\n",
       "\n",
       "    .dataframe thead th {\n",
       "        text-align: right;\n",
       "    }\n",
       "</style>\n",
       "<table border=\"1\" class=\"dataframe\">\n",
       "  <thead>\n",
       "    <tr style=\"text-align: right;\">\n",
       "      <th></th>\n",
       "      <th>names</th>\n",
       "      <th>Hobby</th>\n",
       "      <th>Score</th>\n",
       "      <th>Room</th>\n",
       "      <th>Grade</th>\n",
       "      <th>Teacher</th>\n",
       "    </tr>\n",
       "  </thead>\n",
       "  <tbody>\n",
       "    <tr>\n",
       "      <th>0</th>\n",
       "      <td>Al</td>\n",
       "      <td>Coins</td>\n",
       "      <td>A+</td>\n",
       "      <td>Green</td>\n",
       "      <td>6</td>\n",
       "      <td>Ogna</td>\n",
       "    </tr>\n",
       "    <tr>\n",
       "      <th>1</th>\n",
       "      <td>Myke</td>\n",
       "      <td>Stamps</td>\n",
       "      <td>A-</td>\n",
       "      <td>Red</td>\n",
       "      <td>7</td>\n",
       "      <td>Hayes</td>\n",
       "    </tr>\n",
       "    <tr>\n",
       "      <th>2</th>\n",
       "      <td>Lovie</td>\n",
       "      <td>Coins</td>\n",
       "      <td>B</td>\n",
       "      <td>Blue</td>\n",
       "      <td>6</td>\n",
       "      <td>Stoltz</td>\n",
       "    </tr>\n",
       "    <tr>\n",
       "      <th>3</th>\n",
       "      <td>Dash</td>\n",
       "      <td>Cards</td>\n",
       "      <td>C</td>\n",
       "      <td>Yellow</td>\n",
       "      <td>6</td>\n",
       "      <td>Edens</td>\n",
       "    </tr>\n",
       "  </tbody>\n",
       "</table>\n",
       "</div>"
      ],
      "text/plain": [
       "   names   Hobby Score    Room  Grade Teacher\n",
       "0     Al   Coins    A+   Green      6    Ogna\n",
       "1   Myke  Stamps    A-     Red      7   Hayes\n",
       "2  Lovie   Coins     B    Blue      6  Stoltz\n",
       "3   Dash   Cards     C  Yellow      6   Edens"
      ]
     },
     "execution_count": 41,
     "metadata": {},
     "output_type": "execute_result"
    }
   ],
   "source": [
    "dt.drop('Hobby', axis=1, inplace = True)\n",
    "dt.insert(1, 'Hobby', df['Hobby'])\n",
    "dt"
   ]
  },
  {
   "cell_type": "code",
   "execution_count": null,
   "metadata": {},
   "outputs": [],
   "source": []
  }
 ],
 "metadata": {
  "kernelspec": {
   "display_name": "Python 3",
   "language": "python",
   "name": "python3"
  },
  "language_info": {
   "codemirror_mode": {
    "name": "ipython",
    "version": 3
   },
   "file_extension": ".py",
   "mimetype": "text/x-python",
   "name": "python",
   "nbconvert_exporter": "python",
   "pygments_lexer": "ipython3",
   "version": "3.7.5"
  }
 },
 "nbformat": 4,
 "nbformat_minor": 2
}
