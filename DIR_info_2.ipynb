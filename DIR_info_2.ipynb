{
 "cells": [
  {
   "cell_type": "code",
   "execution_count": 63,
   "metadata": {},
   "outputs": [],
   "source": [
    "import numpy as np\n",
    "import pandas as pd\n",
    "import matplotlib.pyplot as plt\n",
    "from sklearn import preprocessing\n",
    "from sklearn.preprocessing import StandardScaler\n",
    "import seaborn as sns\n",
    "import xgboost as xgb\n",
    "from sklearn.metrics import mean_squared_error, auc, accuracy_score, confusion_matrix, mean_squared_error"
   ]
  },
  {
   "cell_type": "code",
   "execution_count": 64,
   "metadata": {},
   "outputs": [
    {
     "data": {
      "text/plain": [
       "'/Users/medamin/_Projets/_DataScience/DirectOfInformaiton_Project'"
      ]
     },
     "execution_count": 64,
     "metadata": {},
     "output_type": "execute_result"
    }
   ],
   "source": [
    "pwd"
   ]
  },
  {
   "cell_type": "code",
   "execution_count": 65,
   "metadata": {},
   "outputs": [],
   "source": [
    "pd.options.display.max_rows =10\n",
    "pd.options.display.max_columns = 500\n",
    "pd.set_option.display_width=1000\n",
    "\n",
    "df=pd.read_excel('data/GD6.xlsx', index_col=None, header=0)"
   ]
  },
  {
   "cell_type": "code",
   "execution_count": 66,
   "metadata": {},
   "outputs": [
    {
     "data": {
      "text/html": [
       "<div>\n",
       "<style scoped>\n",
       "    .dataframe tbody tr th:only-of-type {\n",
       "        vertical-align: middle;\n",
       "    }\n",
       "\n",
       "    .dataframe tbody tr th {\n",
       "        vertical-align: top;\n",
       "    }\n",
       "\n",
       "    .dataframe thead th {\n",
       "        text-align: right;\n",
       "    }\n",
       "</style>\n",
       "<table border=\"1\" class=\"dataframe\">\n",
       "  <thead>\n",
       "    <tr style=\"text-align: right;\">\n",
       "      <th></th>\n",
       "      <th>CPR_NO</th>\n",
       "      <th>NAME</th>\n",
       "      <th>ENAME</th>\n",
       "      <th>SCH_NM</th>\n",
       "      <th>PROV_NM</th>\n",
       "      <th>SUBM</th>\n",
       "      <th>Teacher_Gender</th>\n",
       "      <th>ACHIEVEMENTS1</th>\n",
       "      <th>ACHIEVEMENTS2</th>\n",
       "      <th>MIDTERM1</th>\n",
       "      <th>MIDTERM2</th>\n",
       "      <th>FINAL1</th>\n",
       "      <th>FINAL2</th>\n",
       "      <th>TOTAL1</th>\n",
       "      <th>TOTAL2</th>\n",
       "      <th>D_MARK</th>\n",
       "      <th>NAT_MARK</th>\n",
       "      <th>GPA</th>\n",
       "    </tr>\n",
       "  </thead>\n",
       "  <tbody>\n",
       "    <tr>\n",
       "      <th>24185</th>\n",
       "      <td>70304602</td>\n",
       "      <td>هزاع أحمد يوسف الكعبي</td>\n",
       "      <td>HAZZA AHMED YUSUF ALKAABI</td>\n",
       "      <td>مدرسة وادي السيل الابتدائية الاعدادية للبنين</td>\n",
       "      <td>المحافظة الجنوبية</td>\n",
       "      <td>الرياضيات</td>\n",
       "      <td>مدرسين</td>\n",
       "      <td>30.0</td>\n",
       "      <td>28.0</td>\n",
       "      <td>20.0</td>\n",
       "      <td>18.0</td>\n",
       "      <td>47.0</td>\n",
       "      <td>42.0</td>\n",
       "      <td>97.0</td>\n",
       "      <td>88</td>\n",
       "      <td>93</td>\n",
       "      <td>61.9</td>\n",
       "      <td>94.636364</td>\n",
       "    </tr>\n",
       "    <tr>\n",
       "      <th>24186</th>\n",
       "      <td>71007423</td>\n",
       "      <td>يوسف سعيد عمير السليمان</td>\n",
       "      <td>YOUSIF SAEED OMAIR ALSULAIMAN</td>\n",
       "      <td>مدرسة وادي السيل الابتدائية الاعدادية للبنين</td>\n",
       "      <td>المحافظة الجنوبية</td>\n",
       "      <td>الرياضيات</td>\n",
       "      <td>مدرسين</td>\n",
       "      <td>30.0</td>\n",
       "      <td>25.0</td>\n",
       "      <td>17.0</td>\n",
       "      <td>15.0</td>\n",
       "      <td>17.0</td>\n",
       "      <td>14.5</td>\n",
       "      <td>64.0</td>\n",
       "      <td>55</td>\n",
       "      <td>60</td>\n",
       "      <td>44.5</td>\n",
       "      <td>85.181818</td>\n",
       "    </tr>\n",
       "    <tr>\n",
       "      <th>24187</th>\n",
       "      <td>70402183</td>\n",
       "      <td>يوسف عبدالمنعم علي حسين</td>\n",
       "      <td>YOUSIF ABDULMUNEM ALI HUSAIN</td>\n",
       "      <td>مدرسة وادي السيل الابتدائية الاعدادية للبنين</td>\n",
       "      <td>المحافظة الجنوبية</td>\n",
       "      <td>الرياضيات</td>\n",
       "      <td>مدرسين</td>\n",
       "      <td>26.0</td>\n",
       "      <td>27.0</td>\n",
       "      <td>12.0</td>\n",
       "      <td>17.0</td>\n",
       "      <td>24.0</td>\n",
       "      <td>22.0</td>\n",
       "      <td>62.0</td>\n",
       "      <td>66</td>\n",
       "      <td>64</td>\n",
       "      <td>44.5</td>\n",
       "      <td>82.727273</td>\n",
       "    </tr>\n",
       "    <tr>\n",
       "      <th>24188</th>\n",
       "      <td>70803196</td>\n",
       "      <td>يوسف محمد عبدالله المناعي</td>\n",
       "      <td>YOUSIF MOHAMED ABDULLA ALMANNAEI</td>\n",
       "      <td>مدرسة وادي السيل الابتدائية الاعدادية للبنين</td>\n",
       "      <td>المحافظة الجنوبية</td>\n",
       "      <td>الرياضيات</td>\n",
       "      <td>مدرسين</td>\n",
       "      <td>28.0</td>\n",
       "      <td>28.0</td>\n",
       "      <td>18.0</td>\n",
       "      <td>18.0</td>\n",
       "      <td>37.0</td>\n",
       "      <td>23.5</td>\n",
       "      <td>83.0</td>\n",
       "      <td>70</td>\n",
       "      <td>77</td>\n",
       "      <td>46.3</td>\n",
       "      <td>89.181818</td>\n",
       "    </tr>\n",
       "    <tr>\n",
       "      <th>24189</th>\n",
       "      <td>70211361</td>\n",
       "      <td>يوسف مصطفى محمد عبدالله</td>\n",
       "      <td>YOUSIF MUSTAFA MOHAMMED ABDULLA</td>\n",
       "      <td>مدرسة وادي السيل الابتدائية الاعدادية للبنين</td>\n",
       "      <td>المحافظة الجنوبية</td>\n",
       "      <td>الرياضيات</td>\n",
       "      <td>مدرسين</td>\n",
       "      <td>29.0</td>\n",
       "      <td>27.0</td>\n",
       "      <td>14.0</td>\n",
       "      <td>16.0</td>\n",
       "      <td>16.0</td>\n",
       "      <td>19.5</td>\n",
       "      <td>59.0</td>\n",
       "      <td>63</td>\n",
       "      <td>61</td>\n",
       "      <td>39.0</td>\n",
       "      <td>81.818182</td>\n",
       "    </tr>\n",
       "  </tbody>\n",
       "</table>\n",
       "</div>"
      ],
      "text/plain": [
       "         CPR_NO                        NAME  \\\n",
       "24185  70304602       هزاع أحمد يوسف الكعبي   \n",
       "24186  71007423     يوسف سعيد عمير السليمان   \n",
       "24187  70402183     يوسف عبدالمنعم علي حسين   \n",
       "24188  70803196   يوسف محمد عبدالله المناعي   \n",
       "24189  70211361     يوسف مصطفى محمد عبدالله   \n",
       "\n",
       "                                   ENAME  \\\n",
       "24185          HAZZA AHMED YUSUF ALKAABI   \n",
       "24186      YOUSIF SAEED OMAIR ALSULAIMAN   \n",
       "24187       YOUSIF ABDULMUNEM ALI HUSAIN   \n",
       "24188   YOUSIF MOHAMED ABDULLA ALMANNAEI   \n",
       "24189    YOUSIF MUSTAFA MOHAMMED ABDULLA   \n",
       "\n",
       "                                             SCH_NM            PROV_NM  \\\n",
       "24185  مدرسة وادي السيل الابتدائية الاعدادية للبنين  المحافظة الجنوبية   \n",
       "24186  مدرسة وادي السيل الابتدائية الاعدادية للبنين  المحافظة الجنوبية   \n",
       "24187  مدرسة وادي السيل الابتدائية الاعدادية للبنين  المحافظة الجنوبية   \n",
       "24188  مدرسة وادي السيل الابتدائية الاعدادية للبنين  المحافظة الجنوبية   \n",
       "24189  مدرسة وادي السيل الابتدائية الاعدادية للبنين  المحافظة الجنوبية   \n",
       "\n",
       "            SUBM Teacher_Gender  ACHIEVEMENTS1  ACHIEVEMENTS2  MIDTERM1  \\\n",
       "24185  الرياضيات         مدرسين           30.0           28.0      20.0   \n",
       "24186  الرياضيات         مدرسين           30.0           25.0      17.0   \n",
       "24187  الرياضيات         مدرسين           26.0           27.0      12.0   \n",
       "24188  الرياضيات         مدرسين           28.0           28.0      18.0   \n",
       "24189  الرياضيات         مدرسين           29.0           27.0      14.0   \n",
       "\n",
       "       MIDTERM2  FINAL1  FINAL2  TOTAL1  TOTAL2  D_MARK  NAT_MARK        GPA  \n",
       "24185      18.0    47.0    42.0    97.0      88      93      61.9  94.636364  \n",
       "24186      15.0    17.0    14.5    64.0      55      60      44.5  85.181818  \n",
       "24187      17.0    24.0    22.0    62.0      66      64      44.5  82.727273  \n",
       "24188      18.0    37.0    23.5    83.0      70      77      46.3  89.181818  \n",
       "24189      16.0    16.0    19.5    59.0      63      61      39.0  81.818182  "
      ]
     },
     "execution_count": 66,
     "metadata": {},
     "output_type": "execute_result"
    }
   ],
   "source": [
    "df.tail()"
   ]
  },
  {
   "cell_type": "code",
   "execution_count": 67,
   "metadata": {},
   "outputs": [
    {
     "data": {
      "text/plain": [
       "2"
      ]
     },
     "execution_count": 67,
     "metadata": {},
     "output_type": "execute_result"
    }
   ],
   "source": [
    "len(df.SUBM.unique())"
   ]
  },
  {
   "cell_type": "code",
   "execution_count": 68,
   "metadata": {},
   "outputs": [
    {
     "data": {
      "text/plain": [
       "CPR_NO       0\n",
       "NAME         0\n",
       "ENAME        0\n",
       "SCH_NM       0\n",
       "PROV_NM      0\n",
       "            ..\n",
       "TOTAL1      16\n",
       "TOTAL2       0\n",
       "D_MARK       0\n",
       "NAT_MARK     0\n",
       "GPA          0\n",
       "Length: 18, dtype: int64"
      ]
     },
     "execution_count": 68,
     "metadata": {},
     "output_type": "execute_result"
    }
   ],
   "source": [
    "df.isnull().sum()"
   ]
  },
  {
   "cell_type": "code",
   "execution_count": 69,
   "metadata": {},
   "outputs": [
    {
     "data": {
      "text/plain": [
       "CPR_NO        int64\n",
       "NAME         object\n",
       "ENAME        object\n",
       "SCH_NM       object\n",
       "PROV_NM      object\n",
       "             ...   \n",
       "TOTAL1      float64\n",
       "TOTAL2        int64\n",
       "D_MARK        int64\n",
       "NAT_MARK    float64\n",
       "GPA         float64\n",
       "Length: 18, dtype: object"
      ]
     },
     "execution_count": 69,
     "metadata": {},
     "output_type": "execute_result"
    }
   ],
   "source": [
    "df.dtypes"
   ]
  },
  {
   "cell_type": "code",
   "execution_count": 70,
   "metadata": {},
   "outputs": [
    {
     "data": {
      "text/plain": [
       "Index(['CPR_NO', 'NAME', 'ENAME', 'SCH_NM', 'PROV_NM', 'SUBM',\n",
       "       'Teacher_Gender', 'ACHIEVEMENTS1', 'ACHIEVEMENTS2', 'MIDTERM1',\n",
       "       'MIDTERM2', 'FINAL1', 'FINAL2', 'TOTAL1', 'TOTAL2', 'D_MARK',\n",
       "       'NAT_MARK', 'GPA'],\n",
       "      dtype='object')"
      ]
     },
     "execution_count": 70,
     "metadata": {},
     "output_type": "execute_result"
    }
   ],
   "source": [
    "df.keys()"
   ]
  },
  {
   "cell_type": "code",
   "execution_count": 71,
   "metadata": {},
   "outputs": [
    {
     "data": {
      "image/png": "[encoded data removed]",
      "text/plain": [
       "<Figure size 432x288 with 1 Axes>"
      ]
     },
     "metadata": {
      "needs_background": "light"
     },
     "output_type": "display_data"
    }
   ],
   "source": [
    "plt.hist(df[\"GPA\"], bins=50)\n",
    "plt.show()"
   ]
  },
  {
   "cell_type": "code",
   "execution_count": 72,
   "metadata": {},
   "outputs": [
    {
     "data": {
      "text/plain": [
       "المحافظة الشمالية    8246\n",
       "المحافظة الجنوبية    5936\n",
       "محافظة المحرق        5046\n",
       "محافظة العاصمة       4962\n",
       "Name: PROV_NM, dtype: int64"
      ]
     },
     "execution_count": 72,
     "metadata": {},
     "output_type": "execute_result"
    }
   ],
   "source": [
    "df['PROV_NM'].value_counts()"
   ]
  },
  {
   "cell_type": "code",
   "execution_count": 73,
   "metadata": {},
   "outputs": [
    {
     "data": {
      "image/png": "[encoded data removed]",
      "text/plain": [
       "<Figure size 432x288 with 1 Axes>"
      ]
     },
     "metadata": {
      "needs_background": "light"
     },
     "output_type": "display_data"
    }
   ],
   "source": [
    "# continous=['SCH_NM', 'PROV_NM', 'SUBM',\n",
    "#        'Teacher_Gender' ]\n",
    "# for it in continous:\n",
    "plt.figure()\n",
    "sns.regplot(\"NAT_MARK\", \"GPA\",data=df)\n",
    "plt.show()"
   ]
  },
  {
   "cell_type": "code",
   "execution_count": 74,
   "metadata": {},
   "outputs": [],
   "source": [
    "df=df.drop(['NAME', 'ENAME'], axis=1)"
   ]
  },
  {
   "cell_type": "code",
   "execution_count": 75,
   "metadata": {},
   "outputs": [],
   "source": [
    "df.PROV_NM = df[\"PROV_NM\"].map({'المحافظة الجنوبية':'South', 'المحافظة الشمالية':'North',\\\n",
    "                                'محافظة العاصمة': 'Cap',  \\\n",
    "                                'محافظة المحرق':'Muharaq'})"
   ]
  },
  {
   "cell_type": "code",
   "execution_count": 76,
   "metadata": {},
   "outputs": [],
   "source": [
    "df.SUBM = df[\"SUBM\"].map({'العلوم':'Science',   \n",
    "                          'الرياضيات':'Math'})"
   ]
  },
  {
   "cell_type": "code",
   "execution_count": 77,
   "metadata": {},
   "outputs": [],
   "source": [
    "df.Teacher_Gender = df[\"Teacher_Gender\"].map({'مدرسات':'F', 'مدرسين':'M'})"
   ]
  },
  {
   "cell_type": "code",
   "execution_count": 78,
   "metadata": {},
   "outputs": [
    {
     "data": {
      "text/plain": [
       "['SCH_NM', 'PROV_NM', 'SUBM', 'Teacher_Gender']"
      ]
     },
     "execution_count": 78,
     "metadata": {},
     "output_type": "execute_result"
    }
   ],
   "source": [
    "categoricals=df.dtypes[df.dtypes=='object'].index.tolist()\n",
    "categoricals"
   ]
  },
  {
   "cell_type": "code",
   "execution_count": 79,
   "metadata": {},
   "outputs": [
    {
     "data": {
      "image/png": "[encoded data removed]",
      "text/plain": [
       "<Figure size 720x720 with 1 Axes>"
      ]
     },
     "metadata": {
      "needs_background": "light"
     },
     "output_type": "display_data"
    }
   ],
   "source": [
    "plt.figure( figsize=(10,10))\n",
    "sns.boxplot(\"PROV_NM\", \"GPA\",  data=df, palette=\"Set3\")\n",
    "plt.show()"
   ]
  },
  {
   "cell_type": "code",
   "execution_count": 80,
   "metadata": {},
   "outputs": [
    {
     "data": {
      "image/png": "[encoded data removed]",
      "text/plain": [
       "<Figure size 720x720 with 1 Axes>"
      ]
     },
     "metadata": {
      "needs_background": "light"
     },
     "output_type": "display_data"
    }
   ],
   "source": [
    "plt.figure( figsize=(10,10))\n",
    "ax=sns.boxplot(\"PROV_NM\", \"GPA\",hue=\"Teacher_Gender\",  data=df,  palette=\"Set3\", linewidth=2)"
   ]
  },
  {
   "cell_type": "code",
   "execution_count": 81,
   "metadata": {},
   "outputs": [
    {
     "data": {
      "image/png": "[encoded data removed]",
      "text/plain": [
       "<Figure size 432x288 with 1 Axes>"
      ]
     },
     "metadata": {
      "needs_background": "light"
     },
     "output_type": "display_data"
    }
   ],
   "source": [
    "ax = sns.boxplot(x=\"SUBM\", y=\"NAT_MARK\", data=df)\n",
    "#ax = sns.swarmplot(x=\"SUBM\", y=\"NAT_MARK\", data=df, color=\".25\")"
   ]
  },
  {
   "cell_type": "code",
   "execution_count": 82,
   "metadata": {},
   "outputs": [
    {
     "data": {
      "image/png": "[encoded data removed]",
      "text/plain": [
       "<Figure size 934.18x288 with 2 Axes>"
      ]
     },
     "metadata": {
      "needs_background": "light"
     },
     "output_type": "display_data"
    }
   ],
   "source": [
    "g = sns.catplot(x=\"SUBM\", y=\"GPA\",hue=\"PROV_NM\", col=\"Teacher_Gender\",data=df, kind=\"box\",height=4, aspect=1.5);"
   ]
  },
  {
   "cell_type": "code",
   "execution_count": 83,
   "metadata": {},
   "outputs": [],
   "source": [
    "from scipy import stats\n",
    "all_categoricals=[]\n",
    "binary_categoricals=df.describe(include=\"object\").columns.tolist()\n",
    "binary_categoricals=[ it for it in binary_categoricals if len(df[it].unique())==2 ]"
   ]
  },
  {
   "cell_type": "code",
   "execution_count": 84,
   "metadata": {},
   "outputs": [
    {
     "data": {
      "text/plain": [
       "['SUBM', 'Teacher_Gender']"
      ]
     },
     "execution_count": 84,
     "metadata": {},
     "output_type": "execute_result"
    }
   ],
   "source": [
    "binary_categoricals"
   ]
  },
  {
   "cell_type": "code",
   "execution_count": 85,
   "metadata": {},
   "outputs": [
    {
     "data": {
      "text/plain": [
       "2"
      ]
     },
     "execution_count": 85,
     "metadata": {},
     "output_type": "execute_result"
    }
   ],
   "source": [
    "len(df[\"Teacher_Gender\"].unique())"
   ]
  },
  {
   "cell_type": "code",
   "execution_count": 43,
   "metadata": {},
   "outputs": [
    {
     "name": "stdout",
     "output_type": "stream",
     "text": [
      "Teacher_Gender =>ANOVA resulsts : F=1534.878909486592 , p=0.0\n"
     ]
    }
   ],
   "source": [
    "#for it in binary_categoricals:\n",
    "grouped=df[[\"Teacher_Gender\", \"NAT_MARK\"]].groupby(\"Teacher_Gender\")\n",
    "f_val, p_val=stats.f_oneway(grouped.get_group(\"M\")[\"NAT_MARK\"], grouped.get_group(\"F\")[\"NAT_MARK\"])\n",
    "all_categoricals.append([\"Teacher_Gender\", f_val, p_val])\n",
    "print(\"{} =>ANOVA resulsts : F={} , p={}\".format(\"Teacher_Gender\", f_val, p_val))"
   ]
  },
  {
   "cell_type": "code",
   "execution_count": 44,
   "metadata": {},
   "outputs": [
    {
     "data": {
      "text/plain": [
       "[['Teacher_Gender', 1534.878909486592, 0.0]]"
      ]
     },
     "execution_count": 44,
     "metadata": {},
     "output_type": "execute_result"
    }
   ],
   "source": [
    "all_categoricals"
   ]
  },
  {
   "cell_type": "code",
   "execution_count": 45,
   "metadata": {},
   "outputs": [
    {
     "data": {
      "text/html": [
       "<div>\n",
       "<style scoped>\n",
       "    .dataframe tbody tr th:only-of-type {\n",
       "        vertical-align: middle;\n",
       "    }\n",
       "\n",
       "    .dataframe tbody tr th {\n",
       "        vertical-align: top;\n",
       "    }\n",
       "\n",
       "    .dataframe thead th {\n",
       "        text-align: right;\n",
       "    }\n",
       "</style>\n",
       "<table border=\"1\" class=\"dataframe\">\n",
       "  <thead>\n",
       "    <tr style=\"text-align: right;\">\n",
       "      <th></th>\n",
       "      <th>NAT_MARK</th>\n",
       "    </tr>\n",
       "    <tr>\n",
       "      <th>Teacher_Gender</th>\n",
       "      <th></th>\n",
       "    </tr>\n",
       "  </thead>\n",
       "  <tbody>\n",
       "    <tr>\n",
       "      <th>F</th>\n",
       "      <td>90.0</td>\n",
       "    </tr>\n",
       "    <tr>\n",
       "      <th>M</th>\n",
       "      <td>86.4</td>\n",
       "    </tr>\n",
       "  </tbody>\n",
       "</table>\n",
       "</div>"
      ],
      "text/plain": [
       "                NAT_MARK\n",
       "Teacher_Gender          \n",
       "F                   90.0\n",
       "M                   86.4"
      ]
     },
     "execution_count": 45,
     "metadata": {},
     "output_type": "execute_result"
    }
   ],
   "source": [
    "grouped.max()"
   ]
  },
  {
   "cell_type": "code",
   "execution_count": 46,
   "metadata": {},
   "outputs": [
    {
     "data": {
      "text/html": [
       "<div>\n",
       "<style scoped>\n",
       "    .dataframe tbody tr th:only-of-type {\n",
       "        vertical-align: middle;\n",
       "    }\n",
       "\n",
       "    .dataframe tbody tr th {\n",
       "        vertical-align: top;\n",
       "    }\n",
       "\n",
       "    .dataframe thead th {\n",
       "        text-align: right;\n",
       "    }\n",
       "</style>\n",
       "<table border=\"1\" class=\"dataframe\">\n",
       "  <thead>\n",
       "    <tr style=\"text-align: right;\">\n",
       "      <th></th>\n",
       "      <th>NAT_MARK</th>\n",
       "    </tr>\n",
       "    <tr>\n",
       "      <th>Teacher_Gender</th>\n",
       "      <th></th>\n",
       "    </tr>\n",
       "  </thead>\n",
       "  <tbody>\n",
       "    <tr>\n",
       "      <th>F</th>\n",
       "      <td>0.0</td>\n",
       "    </tr>\n",
       "    <tr>\n",
       "      <th>M</th>\n",
       "      <td>0.0</td>\n",
       "    </tr>\n",
       "  </tbody>\n",
       "</table>\n",
       "</div>"
      ],
      "text/plain": [
       "                NAT_MARK\n",
       "Teacher_Gender          \n",
       "F                    0.0\n",
       "M                    0.0"
      ]
     },
     "execution_count": 46,
     "metadata": {},
     "output_type": "execute_result"
    }
   ],
   "source": [
    "grouped.min()"
   ]
  },
  {
   "cell_type": "code",
   "execution_count": 47,
   "metadata": {},
   "outputs": [
    {
     "name": "stdout",
     "output_type": "stream",
     "text": [
      "SUBM =>ANOVA resulsts : F=48.443548673712506 , p=3.4861513981475274e-12\n"
     ]
    }
   ],
   "source": [
    "grouped=df[[\"SUBM\", \"NAT_MARK\"]].groupby(\"SUBM\")\n",
    "f_val, p_val=stats.f_oneway(grouped.get_group(\"Science\")[\"NAT_MARK\"], grouped.get_group(\"Math\")[\"NAT_MARK\"])\n",
    "all_categoricals.append([\"SUBM\", f_val, p_val])\n",
    "print(\"{} =>ANOVA resulsts : F={} , p={}\".format(\"SUBM\", f_val, p_val))"
   ]
  },
  {
   "cell_type": "code",
   "execution_count": 86,
   "metadata": {},
   "outputs": [
    {
     "data": {
      "image/png": "[encoded data removed]",
      "text/plain": [
       "<Figure size 489.6x489.6 with 4 Axes>"
      ]
     },
     "metadata": {
      "needs_background": "light"
     },
     "output_type": "display_data"
    }
   ],
   "source": [
    "province=df.PROV_NM.value_counts().index\n",
    "g=sns.FacetGrid(df, row=\"PROV_NM\",row_order=province,  height=1.7,  aspect=4)\n",
    "g.map(sns.distplot, \"TOTAL2\", \"TOTAL1\", hist=False, rug=True)\n",
    "plt.show()"
   ]
  },
  {
   "cell_type": "code",
   "execution_count": 87,
   "metadata": {},
   "outputs": [
    {
     "data": {
      "image/png": "[encoded data removed]",
      "text/plain": [
       "<Figure size 432x288 with 1 Axes>"
      ]
     },
     "metadata": {
      "needs_background": "light"
     },
     "output_type": "display_data"
    }
   ],
   "source": [
    "fig = plt.figure()\n",
    "fig.suptitle('Marks by Province', fontsize='x-large', fontweight='bold')\n",
    "fig.subplots_adjust(top=0.87)\n",
    "sns.set_context('paper')\n",
    "sns.barplot(x = 'Teacher_Gender', y = 'GPA', hue = 'PROV_NM', data = df,\n",
    "            palette = 'hls',\n",
    "            order = ['M', 'F'],  \n",
    "            capsize = 0.05,             \n",
    "            saturation = 8,             \n",
    "            errcolor = 'gray', errwidth = 2,  \n",
    "            ci = 'sd'   \n",
    "            )\n",
    "plt.show()"
   ]
  },
  {
   "cell_type": "code",
   "execution_count": 61,
   "metadata": {},
   "outputs": [
    {
     "data": {
      "image/svg+xml": [
       "<?xml version=\"1.0\" encoding=\"UTF-8\" standalone=\"no\"?>\n",
       "<!DOCTYPE svg PUBLIC \"-//W3C//DTD SVG 1.1//EN\"\n",
       " \"http://www.w3.org/Graphics/SVG/1.1/DTD/svg11.dtd\">\n",
       "<!-- Generated by graphviz version 2.43.0 (0)\n",
       " -->\n",
       "<!-- Title: Hello Pages: 1 -->\n",
       "<svg width=\"72pt\" height=\"116pt\"\n",
       " viewBox=\"0.00 0.00 71.99 116.00\" xmlns=\"http://www.w3.org/2000/svg\" xmlns:xlink=\"http://www.w3.org/1999/xlink\">\n",
       "<g id=\"graph0\" class=\"graph\" transform=\"scale(1 1) rotate(0) translate(4 112)\">\n",
       "<title>Hello</title>\n",
       "<polygon fill=\"white\" stroke=\"transparent\" points=\"-4,4 -4,-112 67.99,-112 67.99,4 -4,4\"/>\n",
       "<!-- Hello -->\n",
       "<g id=\"node1\" class=\"node\">\n",
       "<title>Hello</title>\n",
       "<ellipse fill=\"none\" stroke=\"black\" cx=\"32\" cy=\"-90\" rx=\"29.51\" ry=\"18\"/>\n",
       "<text text-anchor=\"middle\" x=\"32\" y=\"-85.8\" font-family=\"Times,serif\" font-size=\"14.00\">Hello</text>\n",
       "</g>\n",
       "<!-- Wolrd -->\n",
       "<g id=\"node2\" class=\"node\">\n",
       "<title>Wolrd</title>\n",
       "<ellipse fill=\"none\" stroke=\"black\" cx=\"32\" cy=\"-18\" rx=\"31.99\" ry=\"18\"/>\n",
       "<text text-anchor=\"middle\" x=\"32\" y=\"-13.8\" font-family=\"Times,serif\" font-size=\"14.00\">Wolrd</text>\n",
       "</g>\n",
       "<!-- Hello&#45;&#45;Wolrd -->\n",
       "<g id=\"edge1\" class=\"edge\">\n",
       "<title>Hello&#45;&#45;Wolrd</title>\n",
       "<path fill=\"none\" stroke=\"black\" d=\"M20.47,-73.12C17.83,-61.66 17.84,-46.26 20.49,-34.82\"/>\n",
       "</g>\n",
       "<!-- Hello&#45;&#45;Wolrd -->\n",
       "<g id=\"edge2\" class=\"edge\">\n",
       "<title>Hello&#45;&#45;Wolrd</title>\n",
       "<path fill=\"none\" stroke=\"black\" d=\"M32,-71.7C32,-60.85 32,-46.92 32,-36.1\"/>\n",
       "</g>\n",
       "<!-- Hello&#45;&#45;Wolrd -->\n",
       "<g id=\"edge3\" class=\"edge\">\n",
       "<title>Hello&#45;&#45;Wolrd</title>\n",
       "<path fill=\"none\" stroke=\"black\" d=\"M43.52,-73.12C46.16,-61.66 46.15,-46.26 43.5,-34.82\"/>\n",
       "</g>\n",
       "</g>\n",
       "</svg>\n"
      ],
      "text/plain": [
       "<graphviz.dot.Graph at 0x1207772e8>"
      ]
     },
     "execution_count": 61,
     "metadata": {},
     "output_type": "execute_result"
    }
   ],
   "source": [
    "from graphviz import Graph\n",
    "h.edge('Hello', 'Wolrd')\n",
    "h"
   ]
  },
  {
   "cell_type": "code",
   "execution_count": 62,
   "metadata": {},
   "outputs": [
    {
     "data": {
      "text/plain": [
       "Index(['CPR_NO', 'SCH_NM', 'PROV_NM', 'SUBM', 'Teacher_Gender',\n",
       "       'ACHIEVEMENTS1', 'ACHIEVEMENTS2', 'MIDTERM1', 'MIDTERM2', 'FINAL1',\n",
       "       'FINAL2', 'TOTAL1', 'TOTAL2', 'D_MARK', 'NAT_MARK', 'GPA'],\n",
       "      dtype='object')"
      ]
     },
     "execution_count": 62,
     "metadata": {},
     "output_type": "execute_result"
    }
   ],
   "source": [
    "df.keys()"
   ]
  },
  {
   "cell_type": "code",
   "execution_count": 100,
   "metadata": {},
   "outputs": [
    {
     "data": {
      "text/plain": [
       "50.0    1652\n",
       "49.0    1077\n",
       "48.0     934\n",
       "40.0     885\n",
       "47.0     863\n",
       "        ... \n",
       "82.0       1\n",
       "3.5        1\n",
       "94.0       1\n",
       "62.0       1\n",
       "2.5        1\n",
       "Name: FINAL1, Length: 106, dtype: int64"
      ]
     },
     "execution_count": 100,
     "metadata": {},
     "output_type": "execute_result"
    }
   ],
   "source": [
    "sch=df.FINAL1.value_counts()\n",
    "sch"
   ]
  },
  {
   "cell_type": "code",
   "execution_count": 101,
   "metadata": {},
   "outputs": [
    {
     "name": "stdout",
     "output_type": "stream",
     "text": [
      " National MARK\n",
      " 0.00       1.00\n",
      "0.10       5.50\n",
      "0.02       1.00\n",
      "0.03       1.00\n",
      "0.04       1.00\n",
      "         ...   \n",
      "0.96     851.80\n",
      "0.97     881.70\n",
      "0.98     929.10\n",
      "0.99    1069.85\n",
      "1.00    1652.00\n",
      "Name: FINAL1, Length: 17, dtype: float64\n"
     ]
    }
   ],
   "source": [
    "quantiles=[0, 0.1, .02, .03, .04, .05, .1, .25, .5, .75, .9,.95, .96,  .97, .98, .99, 1 ]\n",
    "print(\" National MARK\\n\",sch.quantile(quantiles) )"
   ]
  },
  {
   "cell_type": "code",
   "execution_count": 97,
   "metadata": {},
   "outputs": [
    {
     "name": "stderr",
     "output_type": "stream",
     "text": [
      "'c' argument looks like a single numeric RGB or RGBA sequence, which should be avoided as value-mapping will have precedence in case its length matches with 'x' & 'y'.  Please use a 2-D array with a single row if you really want to specify the same RGB or RGBA value for all points.\n"
     ]
    },
    {
     "data": {
      "text/plain": [
       "<matplotlib.axes._subplots.AxesSubplot at 0x119d38828>"
      ]
     },
     "execution_count": 97,
     "metadata": {},
     "output_type": "execute_result"
    },
    {
     "data": {
      "image/png": "[encoded data removed]",
      "text/plain": [
       "<Figure size 432x288 with 1 Axes>"
      ]
     },
     "metadata": {
      "needs_background": "light"
     },
     "output_type": "display_data"
    }
   ],
   "source": [
    "sns.boxenplot(sch.quantile(quantiles))"
   ]
  },
  {
   "cell_type": "code",
   "execution_count": null,
   "metadata": {},
   "outputs": [],
   "source": []
  }
 ],
 "metadata": {
  "kernelspec": {
   "display_name": "Python 3",
   "language": "python",
   "name": "python3"
  },
  "language_info": {
   "codemirror_mode": {
    "name": "ipython",
    "version": 3
   },
   "file_extension": ".py",
   "mimetype": "text/x-python",
   "name": "python",
   "nbconvert_exporter": "python",
   "pygments_lexer": "ipython3",
   "version": "3.7.1"
  }
 },
 "nbformat": 4,
 "nbformat_minor": 2
}
