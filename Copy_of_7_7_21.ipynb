{
  "nbformat": 4,
  "nbformat_minor": 0,
  "metadata": {
    "colab": {
      "name": "Copy of 7-7-21.ipynb",
      "private_outputs": true,
      "provenance": [],
      "collapsed_sections": [
        "3Rmmb_lSRFqK",
        "A9G8SNC1O-fL",
        "sNsHFqK_QWeV",
        "ST9xpUUMoDsv",
        "lT8hkF0GZmi0",
        "xlXC8vTMCYkX",
        "mODye3CkyDIh",
        "rxJumxSTO7S9",
        "f5tBct2XZDWe",
        "riEnovF6Zlby",
        "38vV0zLxkgSz",
        "0CXKXa9h8DwK",
        "QGo9gyGnQ2n1",
        "jBzyAOXftLVP",
        "MKZz_LpKteBw"
      ],
      "include_colab_link": true
    },
    "kernelspec": {
      "display_name": "Python 3",
      "name": "python3"
    },
    "language_info": {
      "name": "python"
    },
    "accelerator": "GPU"
  },
  "cells": [
    {
      "cell_type": "markdown",
      "metadata": {
        "id": "view-in-github",
        "colab_type": "text"
      },
      "source": [
        "<a href=\"https://colab.research.google.com/github/sam1610/Inference_DIRinfo/blob/master/Copy_of_7_7_21.ipynb\" target=\"_parent\"><img src=\"https://colab.research.google.com/assets/colab-badge.svg\" alt=\"Open In Colab\"/></a>"
      ]
    },
    {
      "cell_type": "markdown",
      "metadata": {
        "id": "DRZ6WkE3n1D1"
      },
      "source": [
        "## Environment prepartion & libraries installation"
      ]
    },
    {
      "cell_type": "markdown",
      "metadata": {
        "id": "nENWLZC9DUVb"
      },
      "source": [
        "- Links\n",
        "https://dash.plotly.com/basic-callbacks\n",
        "https://beta.packtpub.com/book/data/9781800568532/6/ch06lvl1sec27/controlling-seasonality-with-fourier-order"
      ]
    },
    {
      "cell_type": "code",
      "metadata": {
        "id": "lxn3DiFRw8c9"
      },
      "source": [
        "! pip  install -U   scikit-learn  random_timestamp ipywidgets plotly"
      ],
      "execution_count": null,
      "outputs": []
    },
    {
      "cell_type": "code",
      "metadata": {
        "id": "aScKKGTjjFYc"
      },
      "source": [
        "import pandas as pd  \n",
        "import numpy as np\n",
        "import random\n",
        "import string\n",
        "from random import randint\n",
        "import matplotlib.pyplot as plt\n",
        "from datetime import timedelta"
      ],
      "execution_count": null,
      "outputs": []
    },
    {
      "cell_type": "code",
      "metadata": {
        "id": "3Re3LKpQ_d4U"
      },
      "source": [
        "import ipywidgets as widgets \n",
        "from ipywidgets import interact\n",
        "from matplotlib.dates import DateFormatter\n",
        "from datetime import timedelta\n",
        "from datetime import datetime\n",
        "from ipywidgets import interact, Dropdown , Layout , Box , Button\n",
        "from ipywidgets import Checkbox"
      ],
      "execution_count": null,
      "outputs": []
    },
    {
      "cell_type": "code",
      "metadata": {
        "id": "a3yeM3mZT9cg"
      },
      "source": [
        "import warnings\n",
        "warnings.filterwarnings('ignore')"
      ],
      "execution_count": null,
      "outputs": []
    },
    {
      "cell_type": "code",
      "metadata": {
        "id": "8AKUPnjLxFB-"
      },
      "source": [
        "from google.colab import drive\n",
        "drive.mount('/content/drive')"
      ],
      "execution_count": null,
      "outputs": []
    },
    {
      "cell_type": "code",
      "metadata": {
        "id": "LCHi1exfxFFX"
      },
      "source": [
        "!ls  /content/drive/MyDrive/portalAnalysis/"
      ],
      "execution_count": null,
      "outputs": []
    },
    {
      "cell_type": "code",
      "metadata": {
        "id": "q6qMX4O9xFI1"
      },
      "source": [
        "cd /content/drive/MyDrive/portalAnalysis/"
      ],
      "execution_count": null,
      "outputs": []
    },
    {
      "cell_type": "markdown",
      "metadata": {
        "id": "a5JYq_glD1YY"
      },
      "source": [
        "#Loading data sets"
      ]
    },
    {
      "cell_type": "markdown",
      "metadata": {
        "id": "U_Iw6VS9P6xk"
      },
      "source": [
        "## Load General-Students-Info.csv   (( df_st ))"
      ]
    },
    {
      "cell_type": "code",
      "metadata": {
        "id": "k95IDTmNP3s7"
      },
      "source": [
        "df_st=pd.read_csv(\"./Data/General_students_info.csv\", index_col=0,converters={'student_ID': lambda x: str(x) , # lambda used to keep zeros to the left of no.s\n",
        "                                                                              'birth_year': lambda x: str(x) ,\n",
        "                                                                              'birth_month': lambda x: str(x)})"
      ],
      "execution_count": null,
      "outputs": []
    },
    {
      "cell_type": "code",
      "metadata": {
        "id": "cd7t_6F-hzhB"
      },
      "source": [
        "df_st.head()"
      ],
      "execution_count": null,
      "outputs": []
    },
    {
      "cell_type": "markdown",
      "metadata": {
        "id": "mK4QZcibRmcQ"
      },
      "source": [
        "## Load Student's Portal Achievments (( df_avt ))"
      ]
    },
    {
      "cell_type": "code",
      "metadata": {
        "id": "xvB0BP_iluGw"
      },
      "source": [
        "df_avt=pd.read_csv(\"./Data/Portal-Achiev-Info.csv\", index_col=0,converters={'student_ID': lambda x: str(x)})"
      ],
      "execution_count": null,
      "outputs": []
    },
    {
      "cell_type": "code",
      "metadata": {
        "id": "qyNDz7bonpL0"
      },
      "source": [
        "df_avt.head()"
      ],
      "execution_count": null,
      "outputs": []
    },
    {
      "cell_type": "markdown",
      "metadata": {
        "id": "i0tyT0HXV6Ph"
      },
      "source": [
        "## Load the dataset that has 5 selected students Info (( dt_st ))"
      ]
    },
    {
      "cell_type": "code",
      "metadata": {
        "id": "wndYEKf-WQtT"
      },
      "source": [
        "dt_st=pd.read_csv(\"./Data/5_selected_students.csv\", index_col=0,converters={'student_ID': lambda x: str(x)})"
      ],
      "execution_count": null,
      "outputs": []
    },
    {
      "cell_type": "code",
      "metadata": {
        "id": "6oBgx45OuBrB"
      },
      "source": [
        "dt_st[\"Act_submit_Time\"]= pd.to_datetime(dt_st.Act_submit_Time)"
      ],
      "execution_count": null,
      "outputs": []
    },
    {
      "cell_type": "code",
      "metadata": {
        "id": "4Y6_s9XI-lQe"
      },
      "source": [
        "dt_st.query(\"Activity_type=='0'\").Act_time.describe().T"
      ],
      "execution_count": null,
      "outputs": []
    },
    {
      "cell_type": "code",
      "metadata": {
        "id": "D7EYONfq_XZF"
      },
      "source": [
        "dt_st[dt_st.Activity_type=='0'][\"Act_time\"]=dt_st.query(\"Activity_type=='0'\").Act_time/60"
      ],
      "execution_count": null,
      "outputs": []
    },
    {
      "cell_type": "code",
      "metadata": {
        "id": "bmyyhLirBhQC"
      },
      "source": [
        "dt_st.sample(10)"
      ],
      "execution_count": null,
      "outputs": []
    },
    {
      "cell_type": "code",
      "metadata": {
        "id": "2OdTJoF8l5VE"
      },
      "source": [
        "dt_st.set_index(\"Act_submit_Time\", inplace=True)"
      ],
      "execution_count": null,
      "outputs": []
    },
    {
      "cell_type": "markdown",
      "metadata": {
        "id": "-Rk_4Bv9WxWb"
      },
      "source": [
        "## Load the dataset that has statistics about students achievments (( df_mg ))"
      ]
    },
    {
      "cell_type": "code",
      "metadata": {
        "id": "WzQiXyxwXhqO"
      },
      "source": [
        "df_mg=pd.read_csv(\"./Data/student_statistics.csv\", index_col=0,converters={'student_ID': lambda x: str(x)})"
      ],
      "execution_count": null,
      "outputs": []
    },
    {
      "cell_type": "code",
      "metadata": {
        "id": "UmnryCkuuRPW"
      },
      "source": [
        "df_mg.head()"
      ],
      "execution_count": null,
      "outputs": []
    },
    {
      "cell_type": "markdown",
      "metadata": {
        "id": "lhXUPyLdvHjb"
      },
      "source": [
        "## Load the predicted data set (( predict_std ))"
      ]
    },
    {
      "cell_type": "code",
      "metadata": {
        "id": "0GET7cGVvTlr"
      },
      "source": [
        "predict_std=pd.read_csv(\"./Data/predicted_data.csv\", index_col=0,converters={'student_ID': lambda x: str(x)})"
      ],
      "execution_count": null,
      "outputs": []
    },
    {
      "cell_type": "code",
      "metadata": {
        "id": "viJ_3Ym5vsu8"
      },
      "source": [
        "predict_std.head()"
      ],
      "execution_count": null,
      "outputs": []
    },
    {
      "cell_type": "markdown",
      "metadata": {
        "id": "S-FamGMRwWdX"
      },
      "source": [
        "## Load Recommend data set (( df_recommend ))"
      ]
    },
    {
      "cell_type": "code",
      "metadata": {
        "id": "8XkG-bV_wjGu"
      },
      "source": [
        "df_recommend=pd.read_csv(\"./Data/recommend.csv\", index_col=0,converters={'student_ID': lambda x: str(x)})"
      ],
      "execution_count": null,
      "outputs": []
    },
    {
      "cell_type": "code",
      "metadata": {
        "id": "EB9kykNmw13h"
      },
      "source": [
        "df_recommend.head()"
      ],
      "execution_count": null,
      "outputs": []
    },
    {
      "cell_type": "code",
      "metadata": {
        "id": "SDIr4qMr_TFu"
      },
      "source": [
        "#  Json  recommendation Initialization\n",
        "modules=[\n",
        "         {\"unit\":\"Data and statistics\", \n",
        "          \"lessons\":[\n",
        "                    {\"LessName\": \"Dot plots & frequency tables\",\n",
        "                    \"lobs\":[\n",
        "                            {\"lobID\": 1, \"lobName\":\"Representing Data\", \"URL\": \"https://www.khanacademy.org/math/cc-sixth-grade-math/cc-6th-data-statistics/dot-plot/v/ways-to-represent-data?modal=1\" },\n",
        "                            {\"lobID\": 2,\"lobName\":\"Frequency Tables & dot plot\", \"URL\": \"https://www.khanacademy.org/math/cc-sixth-grade-math/cc-6th-data-statistics/dot-plot/v/frequency-tables-and-dot-plots?modal=1\"}\n",
        "                          ]\n",
        "                          \n",
        "                    },\n",
        "                    {\"LessName\": \"Statistical questions\",\n",
        "                    \"lobs\":[\n",
        "                            {\"lobID\": 3, \"lobName\":\"Statistical questions\", \"URL\": \"https://www.khanacademy.org/math/cc-sixth-grade-math/cc-6th-data-statistics/cc-6-statistical-questions/v/understanding-statistical-questions?modal=1\"}\n",
        "                          ]\n",
        "                    },\n",
        "                    {\"LessName\": \"Histograms\",\n",
        "                    \"lobs\":[\n",
        "                            {\"lobID\": 4, \"lobName\":\"Creating a histogram\", \"URL\": \"https://www.khanacademy.org/math/cc-sixth-grade-math/cc-6th-data-statistics/histograms/v/histograms-intro?modal=1\"},\n",
        "                            {\"lobID\": 5, \"lobName\":\"Interpreting a histogram\", \"URL\": \"https://www.khanacademy.org/math/cc-sixth-grade-math/cc-6th-data-statistics/histograms/v/interpreting-histograms?modal=1\"}\n",
        "                          ]\n",
        "                    },\n",
        "                    {\"LessName\": \"Mean and median\",\n",
        "                    \"lobs\":[\n",
        "                            \n",
        "                                {\"lobID\": 6, \"lobName\":\"Statistics Intro: Mean, Median & Mode\", \"URL\": \"https://www.khanacademy.org/math/cc-sixth-grade-math/cc-6th-data-statistics/mean-and-median/v/statistics-intro-mean-median-and-mode?modal=1\"}, \n",
        "                                {\"lobID\": 7, \"lobName\":\"Mean, Median & Mode example\", \"URL\": \"https://www.khanacademy.org/math/cc-sixth-grade-math/cc-6th-data-statistics/mean-and-median/v/mean-median-and-mode?modal=1\"},\n",
        "                                {\"lobID\": 8 , \"lobName\":\"Calculating the mean\", \"URL\": \"https://www.khanacademy.org/math/cc-sixth-grade-math/cc-6th-data-statistics/mean-and-median/a/calculating-the-mean?modal=1\"}\n",
        "                                \n",
        "                                \n",
        "                          ]\n",
        "                    },\n",
        "                    {\"LessName\": \"Mean and median challenge problems\",\n",
        "                    \"lobs\":[\n",
        "                             {\"lobID\": 9, \"lobName\": \"Missing value given the mean\", \"URL\": \"https://www.khanacademy.org/math/cc-sixth-grade-math/cc-6th-data-statistics/cc-6th-mean-median-challenge/v/using-mean-to-find-missing-value?modal=1\"},\n",
        "                              {\"lobID\":10 , \"lobName\":\"Mean as the balancing point\" , \"URL\" : \"https://www.khanacademy.org/math/cc-sixth-grade-math/cc-6th-data-statistics/cc-6th-mean-median-challenge/a/mean-as-the-balancing-point?modal=1\"},\n",
        "                              {\"lobID\": 11, \"lobName\":\"Impact on median & mean: Removing an outlier\" , \"URL\" : \"https://www.khanacademy.org/math/cc-sixth-grade-math/cc-6th-data-statistics/cc-6th-mean-median-challenge/v/impact-on-median-and-mean-when-removing-lowest-value-example?modal=1\"},\n",
        "                              {\"lobID\": 12, \"lobName\":\"Impact on median & mean: increasing an outlier\" , \"URL\" : \"https://www.khanacademy.org/math/cc-sixth-grade-math/cc-6th-data-statistics/cc-6th-mean-median-challenge/v/impact-on-median-and-mean-when-increasing-highest-value?modal=1\"},\n",
        "                              {\"lobID\": 13, \"lobName\":\"Median & range puzzlers\" , \"URL\" : \"https://www.khanacademy.org/math/cc-sixth-grade-math/cc-6th-data-statistics/cc-6th-mean-median-challenge/v/median-and-range-puzzle?modal=1\"}\n",
        "                          ]\n",
        "                    },\n",
        "                    {\"LessName\": \"Interquartile range (IQR)\",\n",
        "                    \"lobs\":[\n",
        "                            {\"lobID\": 14, \"lobName\":\"Interquartile range (IQR)\", \"URL\" : \"https://www.khanacademy.org/math/cc-sixth-grade-math/cc-6th-data-statistics/cc-6th/v/calculating-interquartile-range-iqr?modal=1\"}\n",
        "                          ]\n",
        "                    },\n",
        "                    {\"LessName\": \"Box Plots\",\n",
        "                    \"lobs\":[\n",
        "                            {\"lobID\":15  , \"lobName\":\"Reading box plots\", \"URL\" : \"https://www.khanacademy.org/math/cc-sixth-grade-math/cc-6th-data-statistics/cc-6th-box-whisker-plots/v/reading-box-and-whisker-plots?modal=1\"},\n",
        "                             {\"lobID\":16  , \"lobName\":\"Constructing a box plot\", \"URL\" : \"https://www.khanacademy.org/math/cc-sixth-grade-math/cc-6th-data-statistics/cc-6th-box-whisker-plots/v/constructing-a-box-and-whisker-plot?modal=1\"},\n",
        "                             {\"lobID\":17  , \"lobName\":\"Worked example: Creating box plot (odd number of data points)\", \"URL\" : \"https://www.khanacademy.org/math/cc-sixth-grade-math/cc-6th-data-statistics/cc-6th-box-whisker-plots/v/box-and-whisker-plot-exercise-example?modal=1\"},\n",
        "                             {\"lobID\":18  , \"lobName\":\"Worked example: Creating box plot (even number of data points)\", \"URL\" : \"https://www.khanacademy.org/math/cc-sixth-grade-math/cc-6th-data-statistics/cc-6th-box-whisker-plots/v/constructing-a-box-and-whisker-plot?modal=1\"},\n",
        "                             {\"lobID\":19  , \"lobName\":\"Worked example: Interpreting a box plot\", \"URL\" : \"https://www.khanacademy.org/math/cc-sixth-grade-math/cc-6th-data-statistics/cc-6th-box-whisker-plots/v/interpreting-box-plots?modal=1\"}\n",
        "                          ]\n",
        "                    },\n",
        "\n",
        "                    {\"LessName\": \"Mean absolute deviation (MAD)\",\n",
        "                    \"lobs\":[\n",
        "                            { \"lobID\":20 , \"lobName\":\"Mean absolute deviation (MAD)\", \"URL\" : \"https://www.khanacademy.org/math/cc-sixth-grade-math/cc-6th-data-statistics/cc-6-mad/v/mean-absolute-deviation?modal=1\"},\n",
        "                              {\"lobID\":21 , \"lobName\":\"Mean absolute deviation example\", \"URL\" : \"https://www.khanacademy.org/math/cc-sixth-grade-math/cc-6th-data-statistics/cc-6-mad/v/mean-absolute-deviation-example?modal=1\"}\n",
        "                          ]\n",
        "                    },\n",
        "                    {\"LessName\": \"Comparing Data Display\",\n",
        "                    \"lobs\":[\n",
        "                            {\"lobID\":22 , \"lobName\":\"Comparing dot plots, histograms and box plots\", \"URL\" : \"https://www.khanacademy.org/math/cc-sixth-grade-math/cc-6th-data-statistics/cc-7th-compare-data-displays/v/comparing-dot-plots-histograms-and-box-plots?modal=1\"}\n",
        "                          ]\n",
        "                    },\n",
        "                    {\"LessName\": \"Shape of Data Distribution\",\n",
        "                    \"lobs\":[\n",
        "                            {\"lobID\":23 , \"lobName\":\"Shape of distributions\", \"URL\" : \"https://www.khanacademy.org/math/cc-sixth-grade-math/cc-6th-data-statistics/cc-6-shape-of-data/v/shapes-of-distributions?modal=1\"},\n",
        "                              {\"lobID\":24 , \"lobName\":\"Clusters, gaps, peaks & outliers\", \"URL\" : \"https://www.khanacademy.org/math/cc-sixth-grade-math/cc-6th-data-statistics/cc-6-shape-of-data/v/examples-analyzing-clusters-gaps-peaks-and-outliers-for-distributions?modal=1\"}\n",
        "                          ]\n",
        "                    },\n",
        "                    \n",
        "\n",
        "                    \n",
        "                    ],\n",
        "           \n",
        "          \n",
        "          }\n",
        "         ]"
      ],
      "execution_count": null,
      "outputs": []
    },
    {
      "cell_type": "markdown",
      "metadata": {
        "id": "nXRvlYwYEChJ"
      },
      "source": [
        "# Regular sub plots"
      ]
    },
    {
      "cell_type": "markdown",
      "metadata": {
        "id": "LmjVvM_3uoFt"
      },
      "source": [
        "## Graph the selected student's marks , prediction and recommendations\n"
      ]
    },
    {
      "cell_type": "code",
      "metadata": {
        "id": "25_pz9QN_N4e"
      },
      "source": [
        "import ipywidgets as widgets \n",
        "from ipywidgets import interact\n",
        "from matplotlib.dates import DateFormatter\n",
        "from datetime import timedelta"
      ],
      "execution_count": null,
      "outputs": []
    },
    {
      "cell_type": "code",
      "metadata": {
        "id": "Ocx6AF716wv7"
      },
      "source": [
        "from sklearn.feature_extraction.text import CountVectorizer\n",
        "from sklearn.metrics.pairwise import cosine_similarity"
      ],
      "execution_count": null,
      "outputs": []
    },
    {
      "cell_type": "code",
      "metadata": {
        "id": "WCKVnErTndB9"
      },
      "source": [
        "std_d={}\n",
        "for st in  dt_st.student_ID.unique():\n",
        "  std_d[st]=dt_st[dt_st.student_ID==st][\"Course_code\"].unique()"
      ],
      "execution_count": null,
      "outputs": []
    },
    {
      "cell_type": "code",
      "metadata": {
        "id": "c6P_nYcxAt2B"
      },
      "source": [
        "from ipywidgets import interact, Dropdown, Checkbox, DatePicker\n",
        "from IPython.core.display import display, HTML\n",
        "from datetime import date\n",
        "\n",
        "\n",
        "stID = Dropdown(options = std_d.keys())\n",
        "course = Dropdown(options = std_d[stID.value]) # options = std_d[stID.value] is to remove inital error but not that necessary.\n",
        "D1=DatePicker(\n",
        "    description='Pick a start date')\n",
        "D2=DatePicker(\n",
        "    description='Pick a start date')\n",
        "D3=DatePicker(\n",
        "    description='Pick a start date')\n",
        "box = Checkbox(False, description='View Assignments')\n",
        "\n",
        "D1.value=date.today()\n",
        "D2.value=date.today()\n",
        "D3.value=date.today()\n",
        "@interact(st = stID, cs = course, dt=D1, chkbx= box)\n",
        "def print_cs(st, cs, dt, chkbx ):\n",
        "    course.options = std_d[st] # Here is the trick, i.e. update course.options based on st, namely stID.value.\n",
        "    # print(st, cs)\n",
        "    box.description = \" Assignement\"   if chkbx   else \"Quizz\"\n",
        "    dt_st.query(f\"Course_code=='{cs}' & student_ID=='{st}'\")\n",
        "    print(box.value)\n"
      ],
      "execution_count": null,
      "outputs": []
    },
    {
      "cell_type": "code",
      "metadata": {
        "id": "5_r-Ky1AMDDq"
      },
      "source": [
        "def  recommend(st):\n",
        "#  full code for recommendation \n",
        "    \n",
        "\n",
        "# Current Student Actual. learningobjects\n",
        "  df_st_Rec=df_recommend.query(f\"student_ID=='{st}'\").drop_duplicates(subset=[\"lobj_id\"], keep=\"first\")\n",
        "##----Generate Vecrorized DF--------------------\n",
        "  sorted_score=[]\n",
        "  lst_obj=[]\n",
        "\n",
        "  \n",
        "  for lobInd in list(df_st_Rec.index):\n",
        "    df_vectorize= df_recommend[df_recommend.student_ID !=st].append(\n",
        "    {\"student_ID\":st, \"Lesson_des\":df_st_Rec.loc[lobInd,\"Lesson_des\" ],\"lobj_id\":df_st_Rec.loc[lobInd,\"lobj_id\"],\n",
        "     \"lobj_des\":df_st_Rec.loc[lobInd,\"lobj_des\"],\"LearningObj\":df_st_Rec.loc[lobInd,\"LearningObj\"] }, ignore_index=True)  \n",
        "    cs= cosine_similarity(CountVectorizer().fit_transform(df_vectorize.LearningObj))\n",
        "    sorted_score += sorted(list(enumerate(cs[df_vectorize.shape[0]-1])), key=lambda x: x[1], reverse=True)\n",
        "    sorted_score.sort( key=lambda x : x[1] , reverse=True)\n",
        "\n",
        "  for  rec in sorted_score:\n",
        "    lst_obj.append(df_vectorize.loc[rec[0], \"lobj_des\"])\n",
        "    lst_obj=list(dict.fromkeys(lst_obj))\n",
        "        # take  first  5 elements\n",
        "    lst_obj=[  lob   for  lob in  lst_obj  if lob not in df_st_Rec.lobj_des.unique()]\n",
        "\n",
        "  return lst_obj\n",
        "  #return recommend"
      ],
      "execution_count": null,
      "outputs": []
    },
    {
      "cell_type": "code",
      "metadata": {
        "id": "R8sv69IryBdd"
      },
      "source": [
        "std_d"
      ],
      "execution_count": null,
      "outputs": []
    },
    {
      "cell_type": "code",
      "metadata": {
        "id": "0TQx3FD4n61l"
      },
      "source": [
        "recommend(\"080748524S\")"
      ],
      "execution_count": null,
      "outputs": []
    },
    {
      "cell_type": "code",
      "metadata": {
        "id": "2p9uGUPh1lP1"
      },
      "source": [
        "t=dt_st.reset_index().query(\"student_ID=='080748524S'\")[[\"Act_time\",\"Act_mark\"]]\n",
        "sorted([tuple(e) for e in t.to_numpy()], key=lambda x: x[1], reverse=True)\n"
      ],
      "execution_count": null,
      "outputs": []
    },
    {
      "cell_type": "code",
      "metadata": {
        "id": "Uz7rTY91u2nA"
      },
      "source": [
        "def url_lobj(lob):\n",
        "  \n",
        "  for i in modules:\n",
        "    for j in i[\"lessons\"]:\n",
        "      for k in j[\"lobs\"]:\n",
        "        if k[\"lobName\"]==lob:\n",
        "          return  k[\"URL\"]\n"
      ],
      "execution_count": null,
      "outputs": []
    },
    {
      "cell_type": "code",
      "metadata": {
        "id": "7IZNuCi1Oa66"
      },
      "source": [
        "def plot_std_Data11(st, cs, dt, chk):\n",
        "  \n",
        "  dt_plot=dt_st.query(f\"Course_code=='{cs}' & student_ID=='{st}' & Activity_type=='{chk}'\")\n",
        "  # dt_plt=dt_plot.reset_index().query(f\"Act_submit_Time>='{dt}'\")\n",
        "  if (dt_plot.reset_index().query(f\"Act_submit_Time>='{dt}'\").shape[0]>0):\n",
        "\n",
        "    for item in recommend(st):\n",
        "      display(HTML(f\"<a href={url_lobj(item)} target='_blank'>{item}</a>\"))\n",
        "    course.options = std_d[st]\n",
        "    plt.rcParams.update({'font.size': 20})\n",
        "    \n",
        "    \n",
        "    fig,ax=plt.subplots( figsize=(20,7) )\n",
        "    \n",
        "\n",
        "    #  subplots   x, y  :  should be related to the number of Activity_type of current student.\n",
        "    ax1=ax.twinx()\n",
        "\n",
        "    lst_lobj=recommend(st)\n",
        "    plt.subplots_adjust(top = 0.99, bottom=0.01,hspace=0.4)\n",
        "\n",
        "  ######### USED TO PICK DATE FROM CALENDER  #########\n",
        "    # dt_tmp= dt_st.query(\n",
        "    #     f\"student_ID=='{st}' & Course_code=='{cs}'& Activity_type=='{chk}'\")[[\"Act_mark\", \"Activity_id\" ]]\n",
        "    # dt_tmp=dt_tmp.query(f\"Act_submit_Time >= '{dt}'\")\n",
        "    # if dt_tmp.shape[0]>0:\n",
        "    #   course.options = std_d[st]\n",
        "\n",
        "\n",
        "     \n",
        "    ind_xticks=dt_st.query(f\"student_ID=='{st}' & Course_code=='{cs}' & Activity_type=='{chk}' \").index\n",
        "\n",
        "    \n",
        "    ref_q=dt_st.reset_index().query(f\"student_ID=='{st}' & Course_code=='{cs}' & Activity_type=='{chk}' \").Act_submit_Time.max()\n",
        "    x_point=[ref_q, ref_q+ timedelta(days=7)]\n",
        "    y_point=[dt_st.loc[ref_q, \"Act_mark\"], predict_std.reset_index().query(f\"student_ID=='{st}'  & Course_code=='{cs}' & Activity_type=='{chk}' \").last_mark]\n",
        "    ax.plot(x_point , y_point, linestyle='dashed', marker='o',\n",
        "                  markerfacecolor='blue', markersize=12)\n",
        "      \n",
        "\n",
        "    dt_plot.Act_mark.plot( \n",
        "        subplots=True,marker=\"o\",    ax=ax , color=\"brown\")\n",
        "    \n",
        "  \n",
        "    # ax4=ax1.twinx()\n",
        "    dt_plot.Act_time.plot( \n",
        "        subplots=True, marker=\"s\",   ax=ax1 , color=\"green\")\n",
        "\n",
        "    Alabel=\"Assignments Mark\"   if chk  else  \"Quizz Mark \"\n",
        "    Atitle= \" Assignement Mark / Month \"  if chk   else \" Quizz Mark / Month \"\n",
        "\n",
        "    # ---------------------------------------------------------------------\n",
        "    # Set title and labels for axes\n",
        "    ax.set(ylabel= Alabel) \n",
        "    \n",
        "    ax.legend()\n",
        "\n",
        "    Qlabel=\"Assignments Time / minutes\"   if chk  else  \"Quizz Time/ minutes \"\n",
        "    T_title= \" Assignement Marks / Submission Time \"  if chk   else \" Quiz Marks / Submission Time\"\n",
        "\n",
        "    ax1.set(\n",
        "          ylabel=  Qlabel, \n",
        "          title=T_title\n",
        "          )\n",
        "    ax1.grid()\n",
        "    ax1.legend( loc=3)\n",
        "    fig.autofmt_xdate(rotation=90)\n",
        "    plt.show()\n",
        "    \n",
        "  else:\n",
        "    print(\" No records Available\")\n",
        "      # for item in recommend(st):\n",
        "    "
      ],
      "execution_count": null,
      "outputs": []
    },
    {
      "cell_type": "code",
      "metadata": {
        "id": "oZ0_MGPw9ldd"
      },
      "source": [
        "@interact(st = stID, cs = course, dt = D1, chkbx = box)\n",
        "def plot_data( st, cs, dt , chkbx):\n",
        "  #print(((chkbx)+0))\n",
        "  box.description = \" Assignement\"   if chkbx   else \"Quizz\"\n",
        "  # print(predict_std.reset_index().query(f\"Course_code=='{cs}' & student_ID=='{st}'\"))\n",
        "  plot_std_Data11(st, cs, dt , ((chkbx)+0))"
      ],
      "execution_count": null,
      "outputs": []
    },
    {
      "cell_type": "markdown",
      "metadata": {
        "id": "BFOwH4RLDbdP"
      },
      "source": [
        "# Graph using Box plot"
      ]
    },
    {
      "cell_type": "markdown",
      "metadata": {
        "id": "lCHcvXhY_xRl"
      },
      "source": [
        "## Plot mark VS submit_time ( with box plot )"
      ]
    },
    {
      "cell_type": "code",
      "metadata": {
        "id": "650hHQaSFn6b"
      },
      "source": [
        "#Combine Graph\n",
        "\n",
        "def plot_std_Data2(st, cs, dt ,chk):\n",
        "  import seaborn as sns \n",
        "  import matplotlib.pyplot as plt\n",
        "\n",
        "\n",
        "  dt_tmp= dt_st.query(\n",
        "      f\"student_ID=='{st}' & Course_code=='{cs}' & Activity_type=='{chk}'\"\n",
        "      )[[\"Act_mark\", \"Activity_id\" ]]\n",
        "  dt_tmp.sort_index( inplace=True )\n",
        "  pd.to_datetime(dt_tmp.index).strftime('%d-%m-%Y')\n",
        " \n",
        " \n",
        "  if (dt_tmp.reset_index().query(f\"Act_submit_Time>='{dt}'\").shape[0]>0):\n",
        "\n",
        "\n",
        "    fg, ax= plt.subplots( figsize=(20,8))\n",
        "    course.options = std_d[st]\n",
        "\n",
        "\n",
        "  ######### USED TO PICK DATE FROM CALENDER  #########\n",
        "    # dt_tmp= dt_st.query(\n",
        "    #     f\"student_ID=='{st}' & Course_code=='{cs}'& Activity_type=='{chk}'\")[[\"Act_mark\", \"Activity_id\" ]]\n",
        "    # dt_tmp=dt_tmp.query(f\"Act_submit_Time >= '{dt}'\")\n",
        "    # if dt_tmp.shape[0]>0:\n",
        "    #   course.options = std_d[st]\n",
        "\n",
        "\n",
        "    \n",
        "  ######## Predicted value  ###########\n",
        "    #   we suppose that  predict_std is already available\n",
        "    ref_q=dt_st.sort_index().query(\n",
        "        f\"student_ID=='{st}' & Course_code=='{cs}' & Activity_type=='{chk}'\"\n",
        "        ).tail(1).index+timedelta(days=7)\n",
        "    \n",
        "    yq_point=[dt_st.sort_index().query(\n",
        "        f\"student_ID=='{st}' & Course_code=='{cs}' & Activity_type=='{chk}' \"\n",
        "        ).Act_mark.tail(1) \n",
        "    , predict_std.reset_index().query(\n",
        "        f\"student_ID=='{st}'  & Course_code=='{cs}' & Activity_type=='{chk}' \"\n",
        "        ).last_mark]\n",
        "    #print(yq_point)\n",
        "    print(f\"  Predicted Mark: {list(yq_point[1])[0]}\")\n",
        "\n",
        "  ##########################################\n",
        "    df_stAct=pd.DataFrame()\n",
        "\n",
        "    for col, time in zip(\n",
        "        dt_tmp[\"Activity_id\"],dt_tmp.reset_index().Act_submit_Time.unique()\n",
        "        ):\n",
        "      df_bx=pd.DataFrame()\n",
        "      df_bx=df_avt.query(\n",
        "          f\"Activity_id== '{col}' & Activity_type=='{chk}'\"\n",
        "          )[[\"Activity_id\", \"Act_mark\"]]\n",
        "      df_bx[\"Act_submit_Time\"]= pd.to_datetime(time).strftime('%d-%m-%Y')\n",
        "      df_stAct= pd.concat([df_stAct, df_bx ])\n",
        "\n",
        "    sns.boxplot(x=\"Activity_id\" ,  \n",
        "                y= \"Act_mark\", data=df_stAct , ax=ax ,width= 0.3)\n",
        "    \n",
        "    dt_tmp.reset_index().append({\n",
        "        \"Act_submit_Time\":ref_q.strftime('%d-%m-%Y'),\n",
        "        \"Act_mark\":list(yq_point[1])[0]\n",
        "    }, ignore_index=True).Act_mark.plot(ax=ax, color=\"k\", marker='o', linewidth=2, markersize=9) \n",
        "\n",
        "\n",
        "    dt_tmp.reset_index().append({\n",
        "        \"Act_submit_Time\":ref_q.strftime('%d-%m-%Y'),\n",
        "        \"Act_mark\":list(yq_point[1])[0]\n",
        "    }, ignore_index=True).tail(2).Act_mark.plot(ax=ax, color=\"r\",  marker='o',linestyle='dashed' ,linewidth=5, markersize=14) \n",
        "    \n",
        "\n",
        "    graphTitle= \"Student's Assignement mark compared to other students\" if chk  else \" Student's quiz mark compared to other students\" \n",
        "    plt.title(graphTitle , fontsize=20)\n",
        "    plt.xlabel(\"Date\" , fontsize=20)\n",
        "    plt.ylabel(\"Mark\" , fontsize=20)\n",
        "    plt.xticks(rotation=70)\n",
        "    #ax.set_xticklabels(dt_tmp.reset_index().Act_submit_Time.unique())\n",
        "    ax.set_xticklabels(dt_tmp.index.strftime('%d-%m-%Y'))\n",
        "    plt.grid()\n",
        "    plt.show()\n",
        "  else:\n",
        "    print(\"  No records Available\")"
      ],
      "execution_count": null,
      "outputs": []
    },
    {
      "cell_type": "code",
      "metadata": {
        "id": "1rKm1eO7dJ8a"
      },
      "source": [
        "@interact(st = stID, cs = course, dt = D2, chkbx = box)\n",
        "def plot_data2( st, cs, dt , chkbx):\n",
        "  #print(((chkbx)+0))\n",
        "  box.description = \" Assignement\"   if chkbx   else \"Quizz\"\n",
        "  # print(predict_std.reset_index().query(f\"Course_code=='{cs}' & student_ID=='{st}'\"))\n",
        "  plot_std_Data2(st, cs, dt , ((chkbx)+0))"
      ],
      "execution_count": null,
      "outputs": []
    },
    {
      "cell_type": "code",
      "metadata": {
        "id": "_RkmNNuo52pw"
      },
      "source": [
        "######  TRY PLOTLY (2)\n",
        "import plotly.graph_objects as go\n",
        "from plotly.subplots import make_subplots\n",
        "import datetime "
      ],
      "execution_count": null,
      "outputs": []
    },
    {
      "cell_type": "code",
      "metadata": {
        "id": "SWUxMQNqvScT"
      },
      "source": [
        "def plot_std_Data3(st, cs,chk, dt):\n",
        "\n",
        "########## DATA HERE -----------------------\n",
        "  dt_tmp= dt_st.query(\n",
        "      f\"student_ID=='{st}' & Course_code=='{cs}'& Activity_type=='{chk}'\")[[\"Act_mark\", \"Activity_id\" ]]\n",
        "  dt_tmp=dt_tmp.query(f\"Act_submit_Time >= '{dt}'\")\n",
        "  if dt_tmp.shape[0]>0:\n",
        "    course.options = std_d[st]\n",
        "    \n",
        "    dt_tmp.sort_index( inplace=True )\n",
        "    dt_tmp.reset_index(inplace=True)\n",
        "  #  Query only  records  done after  selected Date\n",
        "    \n",
        "  \n",
        "    ref_t= dt_tmp.loc[dt_tmp.shape[0]-1, \"Act_submit_Time\"] + timedelta(days=7)\n",
        "    dt_tmp['Act_submit_Time'] = dt_tmp.Act_submit_Time.apply(lambda x: x.strftime('%d-%m-%Y'))\n",
        "  # dt_tmp[\"Act_submit_Time\"]= dt_tmp.Act_submit_Time.astype(str).str[:-9]\n",
        "  \n",
        "######## Predicted value  ###########\n",
        "  #   we suppose that  predict_std is already available\n",
        "  \n",
        "    yq_point=[dt_st.sort_index().query(\n",
        "      f\"student_ID=='{st}' & Course_code=='{cs}' & Activity_type=='{chk}' \"\n",
        "      ).Act_mark.tail(1) \n",
        "    , predict_std.reset_index().query(\n",
        "       f\"student_ID=='{st}'  & Course_code=='{cs}' & Activity_type=='{chk}' \"\n",
        "       ).last_mark]\n",
        " \n",
        "########################################## \n",
        "    df_stAct=pd.DataFrame()\n",
        "  \n",
        "\n",
        "    for col, time in zip( dt_tmp[\"Activity_id\"],dt_tmp.Act_submit_Time.unique()):\n",
        "      df_bx=pd.DataFrame()\n",
        "      df_bx=df_avt.query(\n",
        "          f\"Activity_id== '{col}' & Activity_type=='{chk}'\"\n",
        "          )[[\"Activity_id\", \"Act_mark\"]]\n",
        "      df_bx[\"Act_submit_Time\"]= pd.to_datetime(time).strftime('%d-%m-%Y')\n",
        "      df_stAct= pd.concat([df_stAct, df_bx ])\n",
        "    \n",
        "  #--------------------------------------------\n",
        "    dt_plot= dt_tmp.append({\n",
        "        # \"Act_submit_Time\":pd.to_datetime(ref_t).strftime('%d-%m-%Y') , #.astype(str).str[:-9],\n",
        "        \"Activity_id\": \"_\",\n",
        "        \"Act_mark\":list(yq_point[1])[0]\n",
        "    }, ignore_index=True)\n",
        "\n",
        "    # print(dt_tmp.Act_submit_Time)\n",
        "    # print(df_stAct)\n",
        "  # dt_plot.set_index(\"Act_submit_Time\", inplace=True, drop=True)\n",
        "    \n",
        "  #_______________________PLOTLY___________________\n",
        "    layout = go.Layout(\n",
        "      autosize=False,\n",
        "      width= 1200 , height= 600 )\n",
        "    fig=go.Figure(layout=layout)\n",
        "\n",
        "    # df_stAct=df_stAct[[\"Act_submit_Time\", \"Act_mark\", \"Activity_id\"]]\n",
        "    fig = go.Figure()\n",
        "    fig.add_trace(\n",
        "        go.Scatter(x=dt_plot.Activity_id ,  y=dt_plot.Act_mark,  \n",
        "                  mode='lines+markers', name=\"تحصيل الطالب\"))\n",
        "    fig.add_trace(\n",
        "        go.Box(\n",
        "            x=df_stAct.Activity_id ,  \n",
        "            y= df_stAct.Act_mark,  name=\"توزيع تحصيل الطلاب\"))\n",
        "\n",
        "    fig.update_layout(hovermode=\"x\" , \n",
        "        # title=\"أداء جميع الطلبة في مادة معينة\",\n",
        "      xaxis_title=\"Submit Time\",\n",
        "      yaxis_title=\"Mark\",\n",
        "    \n",
        "      xaxis = dict(\n",
        "          # tickmode = 'array',\n",
        "          tickvals = np.arange(dt_tmp.shape[0]),\n",
        "          ticktext = dt_tmp.Act_submit_Time\n",
        "      ),\n",
        "\n",
        "\n",
        "      title={\n",
        "          'text': \"أداء جميع الطلبة في مادة معينة\",\n",
        "          'y':0.9,\n",
        "          'x':0.5,\n",
        "          'xanchor': 'center',\n",
        "          'yanchor': 'top'}) \n",
        "    fig.show()\n",
        "  else:\n",
        "    print(\" No records Available\")"
      ],
      "execution_count": null,
      "outputs": []
    },
    {
      "cell_type": "code",
      "metadata": {
        "id": "EEsu3dfG4igQ"
      },
      "source": [
        "@interact(st = stID, cs = course, dt=D3, chkbx = box)\n",
        "def plot_data3( st, cs, dt, chkbx):\n",
        "  box.description = \" Assignement\"   if chkbx   else \"Quizz\"\n",
        "\n",
        "  # print(predict_std.reset_index().query(f\"Course_code=='{cs}' & student_ID=='{st}'\"))\n",
        "  plot_std_Data3(st, cs, ((chkbx)+0), dt)"
      ],
      "execution_count": null,
      "outputs": []
    },
    {
      "cell_type": "code",
      "metadata": {
        "id": "cfObGdupAbTr"
      },
      "source": [
        "###### TRY EXPORTING TO HTML\n",
        "#### Look for the example below\n",
        "\n",
        "https://medium.com/analytics-vidhya/how-to-export-a-plotly-chart-as-html-3b5df568df4a"
      ],
      "execution_count": null,
      "outputs": []
    },
    {
      "cell_type": "code",
      "metadata": {
        "id": "qPmJPQ4YiUer"
      },
      "source": [
        "! pip install plotly\n",
        "df = px.data.iris()"
      ],
      "execution_count": null,
      "outputs": []
    },
    {
      "cell_type": "code",
      "metadata": {
        "id": "ElH31xJRi0Jp"
      },
      "source": [
        "df.head()"
      ],
      "execution_count": null,
      "outputs": []
    },
    {
      "cell_type": "code",
      "metadata": {
        "id": "AMSoV_URih55"
      },
      "source": [
        "import plotly.express as px\n",
        "sepal_plot = px.scatter(data_frame=df, x=df.sepal_length, y=df.sepal_width, color='species', title=\"Iris_sepal\")"
      ],
      "execution_count": null,
      "outputs": []
    },
    {
      "cell_type": "code",
      "metadata": {
        "id": "t1VFT8SfiitC"
      },
      "source": [
        "sepal_plot"
      ],
      "execution_count": null,
      "outputs": []
    },
    {
      "cell_type": "code",
      "metadata": {
        "id": "Ee-UGg9Fiio3"
      },
      "source": [
        "petal_plot = px.scatter(data_frame=df, x=df.petal_length, y=df.petal_width, color='species', title=\"Iris_petal\")"
      ],
      "execution_count": null,
      "outputs": []
    },
    {
      "cell_type": "code",
      "metadata": {
        "id": "kEZuQplgiiih"
      },
      "source": [
        "petal_plot"
      ],
      "execution_count": null,
      "outputs": []
    },
    {
      "cell_type": "code",
      "metadata": {
        "id": "j_H8mtuorxAQ"
      },
      "source": [
        "plotly.offline.plot(petal_plot, filename='Data/pettal.html')"
      ],
      "execution_count": null,
      "outputs": []
    },
    {
      "cell_type": "code",
      "metadata": {
        "id": "5eTGI1w1rw9o"
      },
      "source": [
        ""
      ],
      "execution_count": null,
      "outputs": []
    },
    {
      "cell_type": "code",
      "metadata": {
        "id": "5QUphE8Ht_TT"
      },
      "source": [
        ""
      ],
      "execution_count": null,
      "outputs": []
    },
    {
      "cell_type": "code",
      "metadata": {
        "id": "JesdltZTt_P-"
      },
      "source": [
        ""
      ],
      "execution_count": null,
      "outputs": []
    },
    {
      "cell_type": "code",
      "metadata": {
        "id": "XeS9gEaMt_Ly"
      },
      "source": [
        ""
      ],
      "execution_count": null,
      "outputs": []
    },
    {
      "cell_type": "code",
      "metadata": {
        "id": "Kv9IQCHujj6n"
      },
      "source": [
        "button = widgets.Button(description='My Button')\n"
      ],
      "execution_count": null,
      "outputs": []
    },
    {
      "cell_type": "code",
      "metadata": {
        "id": "lQPV7UvTjj1v"
      },
      "source": [
        "button"
      ],
      "execution_count": null,
      "outputs": []
    },
    {
      "cell_type": "code",
      "metadata": {
        "id": "6Gt8E8uJxSS3"
      },
      "source": [
        "button = widgets.Button(description='My Button' )\n",
        "out = widgets.Output()\n",
        "def on_button_clicked(_):\n",
        "      # \"linking function with output\"\n",
        "      with out:\n",
        "          # what happens when we press the button\n",
        "          #clear_output()\n",
        "       \n",
        "          print('Something happens!')\n",
        "# linking button and function together using a button's method\n",
        "button.on_click(on_button_clicked)\n",
        "# displaying button and its output together\n",
        "widgets.VBox([button,out])"
      ],
      "execution_count": null,
      "outputs": []
    },
    {
      "cell_type": "code",
      "metadata": {
        "id": "o5ZnsrhmuAR-"
      },
      "source": [
        ""
      ],
      "execution_count": null,
      "outputs": []
    },
    {
      "cell_type": "code",
      "metadata": {
        "id": "AVR0mrxLIoW-"
      },
      "source": [
        ""
      ],
      "execution_count": null,
      "outputs": []
    },
    {
      "cell_type": "code",
      "metadata": {
        "id": "-c9ipf2lIoTX"
      },
      "source": [
        ""
      ],
      "execution_count": null,
      "outputs": []
    },
    {
      "cell_type": "code",
      "metadata": {
        "id": "QWM_3SD2IoPj"
      },
      "source": [
        ""
      ],
      "execution_count": null,
      "outputs": []
    },
    {
      "cell_type": "code",
      "metadata": {
        "id": "V0gME6yauACH"
      },
      "source": [
        "#testing adding button and textbox\n",
        "from ipywidgets import widgets as wd\n",
        "from ipywidgets import Layout, Box\n",
        "from IPython.display import display\n",
        "\n",
        "btnLayout = Layout(flex='1 1 auto', width='auto')\n",
        "\n",
        "btns= [\n",
        "    wd.Button(description=\"Add Route\"),\n",
        "    wd.Button(description=\"234\"),\n",
        "    wd.Button(description=\"411\")\n",
        "]\n",
        "\n",
        "box_layout = Layout(display='flex',\n",
        "                    flex_flow='row',\n",
        "                    align_items='stretch')\n",
        "\n",
        "box = Box(children=btns, layout=box_layout)\n",
        "\n",
        "display(box)\n",
        "box.children[1].layout.visibility = 'hidden'\n",
        "box.children[2].layout.visibility = 'hidden'\n",
        "\n",
        "txtArea = wd.Textarea()\n",
        "display(txtArea)\n",
        "\n",
        "def show(b):\n",
        "    box.children[1].layout.visibility = 'visible'\n",
        "    box.children[2].layout.visibility = 'visible'\n",
        "\n",
        "#function intended to append button value/description to textArea\n",
        "def add_text(b):\n",
        "    txtArea.value = b.description + txtArea.value\n",
        "\n",
        "box.children[0].on_click(show)\n",
        "box.children[1].on_click(add_text)\n",
        "box.children[2].on_click(add_text)"
      ],
      "execution_count": null,
      "outputs": []
    },
    {
      "cell_type": "code",
      "metadata": {
        "id": "9B3a5bTXt_98"
      },
      "source": [
        ""
      ],
      "execution_count": null,
      "outputs": []
    },
    {
      "cell_type": "code",
      "metadata": {
        "id": "7bMRlfsWt_5t"
      },
      "source": [
        ""
      ],
      "execution_count": null,
      "outputs": []
    },
    {
      "cell_type": "code",
      "metadata": {
        "id": "4NWT_XGcxSNI"
      },
      "source": [
        "# imports\n",
        "import plotly\n",
        "import plotly.express as px\n",
        "\n",
        "# data\n",
        "df = px.data.gapminder().query(\"continent=='Oceania'\")\n",
        "\n",
        "# plotly express bar chart\n",
        "fig = px.line(df, x=\"year\", y=\"lifeExp\", color='country')\n",
        "\n",
        "# html file\n",
        "plotly.offline.plot(fig, filename='Data/lifeExp.html')"
      ],
      "execution_count": null,
      "outputs": []
    },
    {
      "cell_type": "markdown",
      "metadata": {
        "id": "5OqT2GQ7API0"
      },
      "source": [
        "## Plot submit time Vs other student submitions ( with box plot )"
      ]
    },
    {
      "cell_type": "code",
      "metadata": {
        "id": "dIF1zYWwDQOL"
      },
      "source": [
        ""
      ],
      "execution_count": null,
      "outputs": []
    },
    {
      "cell_type": "markdown",
      "metadata": {
        "id": "1ybef0cqDkUV"
      },
      "source": [
        "## Old stuff"
      ]
    },
    {
      "cell_type": "code",
      "metadata": {
        "id": "pbkHaMOu73xw"
      },
      "source": [
        "##### BELOW ARE TRAILS ONLY #####"
      ],
      "execution_count": null,
      "outputs": []
    },
    {
      "cell_type": "code",
      "metadata": {
        "id": "p-S7D18wWuZt"
      },
      "source": [
        "dt_st.head()"
      ],
      "execution_count": null,
      "outputs": []
    },
    {
      "cell_type": "code",
      "metadata": {
        "id": "2BWzkIMVa99I"
      },
      "source": [
        "df_avt.query(\" student_ID=='090538316S'\").sample()"
      ],
      "execution_count": null,
      "outputs": []
    },
    {
      "cell_type": "code",
      "metadata": {
        "id": "df917lt_viRK"
      },
      "source": [
        "#dt_st=dt_st[\"Act_submit_Time\"]= pd.to_datetime(dt_st.Act_submit_Time)\n",
        "#dt_st.set_index(\"Act_submit_Time\", drop=True, inplace=True)\n",
        "#df_avt.set_index(\"Act_submit_Time\", drop=True, inplace=True)\n",
        "\n",
        "#dt_st.reset_index(inplace=True)"
      ],
      "execution_count": null,
      "outputs": []
    },
    {
      "cell_type": "code",
      "metadata": {
        "id": "Jf84PdOfdN6a"
      },
      "source": [
        "#df_avt.reset_index(inplace=True)"
      ],
      "execution_count": null,
      "outputs": []
    },
    {
      "cell_type": "code",
      "metadata": {
        "id": "S0ml7PM1JOkN"
      },
      "source": [
        "std_d={}\n",
        "for st in  dt_st.student_ID.unique():\n",
        "  std_d[st]=dt_st[dt_st.student_ID==st][\"Course_code\"].unique()"
      ],
      "execution_count": null,
      "outputs": []
    },
    {
      "cell_type": "code",
      "metadata": {
        "id": "naSdZZ1rXWII"
      },
      "source": [
        "stID = Dropdown(options = std_d.keys())\n",
        "course = Dropdown(options = std_d[stID.value])\n",
        "\n",
        "box = Checkbox(False, description= ' View Assignments')"
      ],
      "execution_count": null,
      "outputs": []
    },
    {
      "cell_type": "code",
      "metadata": {
        "id": "B-pL7mUqk-Fw"
      },
      "source": [
        "dt_st.sort_index().query(f\"student_ID=='090538316S' & Course_code=='g5_1' & Activity_type=='0' \")[\"Act_mark\"].tail(1)"
      ],
      "execution_count": null,
      "outputs": []
    },
    {
      "cell_type": "code",
      "metadata": {
        "id": "BSEPpTF2oUeE"
      },
      "source": [
        "predict_std.reset_index().query(f\"student_ID=='090538316S'  & Course_code=='g5_1' & Activity_type=='0' \").last_mark"
      ],
      "execution_count": null,
      "outputs": []
    },
    {
      "cell_type": "code",
      "metadata": {
        "id": "NYPxuM4ao6BB"
      },
      "source": [
        "predict_std.head()"
      ],
      "execution_count": null,
      "outputs": []
    },
    {
      "cell_type": "code",
      "metadata": {
        "id": "303D7mvjkS29"
      },
      "source": [
        "#dt_st.sort_index().query(f\"student_ID=='080860982S' & Course_code=='g5_1' & Activity_type=='0' \").tail(1).index+ timedelta(days=7)\n",
        "a=dt_st.sort_index().query(f\"student_ID=='091123896S' & Course_code=='g5_1' & Activity_type=='0'\").tail(1).index\n",
        "a=pd.to_datetime(a.strftime('%d/%m/%Y'))\n",
        "#a\n",
        "#a+ timedelta(days=7)\n",
        "xq_point=[a, a+ timedelta(days=7)]\n",
        "xq_point\n",
        "#.dt.strftime(\"%d/%m/%y\")"
      ],
      "execution_count": null,
      "outputs": []
    },
    {
      "cell_type": "code",
      "metadata": {
        "id": "k7ivhVI3KuLC"
      },
      "source": [
        "dt_st.sort_index().query(f\"student_ID=='091123896S' & Course_code=='g5_1' & Activity_type=='0' \").Act_mark.tail(1) "
      ],
      "execution_count": null,
      "outputs": []
    },
    {
      "cell_type": "code",
      "metadata": {
        "id": "QpAtY6farfSs"
      },
      "source": [
        "df_avt.info()"
      ],
      "execution_count": null,
      "outputs": []
    },
    {
      "cell_type": "code",
      "metadata": {
        "id": "wehe38L2prQv"
      },
      "source": [
        "\n",
        "fg, ax= plt.subplots( figsize=(10,5))\n",
        "ref_q=dt_st.sort_index().query(f\"student_ID=='091123896S' & Course_code=='g5_1' & Activity_type=='0' \").tail(1).index\n",
        "ref_q=pd.to_datetime(ref_q.strftime('%d-%m-%Y'))\n",
        "xq_point=[ref_q, ref_q+ timedelta(days=7)]\n",
        "yq_point=[dt_st.sort_index().query(f\"student_ID=='091123896S' & Course_code=='g5_1' & Activity_type=='0' \").Act_mark.tail(1) \n",
        " , predict_std.reset_index().query(f\"student_ID=='091123896S'& Course_code=='g5_1' & Activity_type=='0' \").last_mark]\n",
        "ax.plot(xq_point , yq_point, linestyle='dashed', marker='o',markerfacecolor='blue', markersize=12)\n",
        "print(ref_q)"
      ],
      "execution_count": null,
      "outputs": []
    },
    {
      "cell_type": "code",
      "metadata": {
        "id": "ybSlaONsdeSn"
      },
      "source": [
        "predict_std.info()"
      ],
      "execution_count": null,
      "outputs": []
    },
    {
      "cell_type": "code",
      "metadata": {
        "id": "DQ-iWRr4ebah"
      },
      "source": [
        "pd.to_datetime('2020-10-31').strftime('%d-%m-%Y')"
      ],
      "execution_count": null,
      "outputs": []
    },
    {
      "cell_type": "code",
      "metadata": {
        "id": "DzXuL958GUNu"
      },
      "source": [
        "df_avt.head()"
      ],
      "execution_count": null,
      "outputs": []
    },
    {
      "cell_type": "code",
      "metadata": {
        "id": "Fo3yavQTJaos"
      },
      "source": [
        "# dt_st.sort_index().query(\n",
        "#       f\"student_ID=='091123896S' & Course_code=='g5_3' & Activity_type=='0'\"\n",
        "#       ).tail(1).index+timedelta(days=7)\n",
        "dt_tmp= dt_st.query(\n",
        "      f\"student_ID=='091123896S' & Course_code=='g5_3' & Activity_type=='0'\"\n",
        "      )[[\"Act_mark\", \"Activity_id\" ]]\n",
        "dt_tmp.Activity_id.unique()"
      ],
      "execution_count": null,
      "outputs": []
    },
    {
      "cell_type": "code",
      "metadata": {
        "id": "uuNks1fUMRGo"
      },
      "source": [
        "df_avt.query(\n",
        "        f\"Activity_id== 'g5_3-Act_10' & Activity_type=='0'\"\n",
        "        )[[\"Activity_id\", \"Act_mark\"]].info()"
      ],
      "execution_count": null,
      "outputs": []
    },
    {
      "cell_type": "code",
      "metadata": {
        "id": "QPF-a2l9O5ux"
      },
      "source": [
        "dt_tmp.head(20)"
      ],
      "execution_count": null,
      "outputs": []
    },
    {
      "cell_type": "code",
      "metadata": {
        "id": "FeCL0QnOLRCR"
      },
      "source": [
        "    dt_tmp.reset_index().append({\n",
        "      \"Act_submit_Time\":'020-04-01 16:16:39',\n",
        "      \"Act_mark\":3.4\n",
        "  }, ignore_index=True)"
      ],
      "execution_count": null,
      "outputs": []
    },
    {
      "cell_type": "code",
      "metadata": {
        "id": "_nvi39ETOmrk"
      },
      "source": [
        "###### view this link\n",
        "###  https://stackoverflow.com/questions/59214406/plotly-how-to-make-an-unbounded-vertical-line-in-a-subplot"
      ],
      "execution_count": null,
      "outputs": []
    },
    {
      "cell_type": "code",
      "metadata": {
        "id": "L0paPC3uOmou"
      },
      "source": [
        ""
      ],
      "execution_count": null,
      "outputs": []
    },
    {
      "cell_type": "code",
      "metadata": {
        "id": "wqLrYmVkOmlq"
      },
      "source": [
        "! pip install Pillow"
      ],
      "execution_count": null,
      "outputs": []
    },
    {
      "cell_type": "code",
      "metadata": {
        "id": "yOR5cD1eoVqm"
      },
      "source": [
        "from PIL import Image"
      ],
      "execution_count": null,
      "outputs": []
    },
    {
      "cell_type": "code",
      "metadata": {
        "id": "B2qZN_r8I-ZB"
      },
      "source": [
        "#### try 2"
      ],
      "execution_count": null,
      "outputs": []
    },
    {
      "cell_type": "code",
      "metadata": {
        "id": "gBk1KnM-Qj8m"
      },
      "source": [
        "#Combine Graph\n",
        "\n",
        "\n",
        "def plot_std_Data(st, cs, chk):\n",
        "  import seaborn as sns \n",
        "  import matplotlib.pyplot as plt\n",
        "  import plotly.express as px\n",
        "  import plotly.graph_objects as go\n",
        "  \n",
        "\n",
        "\n",
        "\n",
        "\n",
        "  fig, ax= plt.subplots( figsize=(20,8))\n",
        "  course.options = std_d[st]\n",
        "  dt_tmp= dt_st.query(f\"student_ID=='{st}' & Course_code=='{cs}' & Activity_type=='{chk}'\")[[\"Act_mark\", \"Activity_id\" ]]\n",
        "  dt_tmp.sort_index( inplace=True )\n",
        "  pd.to_datetime(dt_tmp.index).strftime('%d-%m-%Y')\n",
        "  \n",
        "\n",
        "\n",
        "\n",
        "######## Predicted value  ###########\n",
        "  #   we suppose that  predict_std is already available\n",
        "  ref_q=dt_st.sort_index().query(f\"student_ID=='{st}' & Course_code=='{cs}' & Activity_type=='{chk}'\").tail(1).index+timedelta(days=7)\n",
        "  \n",
        "  yq_point=[dt_st.sort_index().query(f\"student_ID=='{st}' & Course_code=='{cs}' & Activity_type=='{chk}' \").Act_mark.tail(1) \n",
        "   , predict_std.reset_index().query(f\"student_ID=='{st}'  & Course_code=='{cs}' & Activity_type=='{chk}' \").last_mark]\n",
        "    \n",
        "  print(f\"  Predicted Mark: {list(yq_point[1])[0]}\")\n",
        " \n",
        "#############\n",
        "\n",
        "  df_stAct=pd.DataFrame()\n",
        "\n",
        "  for col, time in zip(dt_tmp[\"Activity_id\"],dt_tmp.reset_index().Act_submit_Time.unique()):\n",
        "    df_bx=pd.DataFrame()\n",
        "    df_bx=df_avt.reset_index().query(f\"Activity_id== '{col}' & Activity_type=='{chk}'\")[[\"Activity_id\", \"Act_mark\"]]\n",
        "    df_bx[\"Act_submit_Time\"]= pd.to_datetime(time).strftime('%d-%m-%Y')\n",
        "    df_stAct= pd.concat([df_stAct, df_bx ])\n",
        "\n",
        "  sns.boxplot(x=\"Act_submit_Time\" ,  y= \"Act_mark\", data=df_stAct , ax=ax ,width= 0.3)\n",
        "  \n",
        "  dt_tmp=dt_tmp.reset_index().append({\n",
        "      \"Act_submit_Time\":ref_q,\n",
        "      \"Act_mark\":list(yq_point[1])[0]\n",
        "  }, ignore_index=True)\n",
        "  \n",
        "  #dt_tmp.Act_mark.plot(ax=ax, color=\"k\",  marker='o', linewidth=2, markersize=9) \n",
        "  dt_tmp.Act_mark.plot(ax=ax, color=\"k\",  marker='o', linewidth=2, markersize=9) \n",
        "\n",
        "\n",
        "# ######## Add image  #########\n",
        "#   im = Image.open('https://drive.google.com/file/d/1ywuuXOM_Qf1BXGPndYZWt-zBwM16W0FG/view?usp=sharing')\n",
        "#   height = im.size[1]\n",
        "\n",
        "#   # We need a float array between 0-1, rather than\n",
        "#   # a uint8 array between 0-255\n",
        "#   im = np.array(im).astype(np.float) / 255\n",
        "\n",
        "#   fig = plt.figure()\n",
        "\n",
        "#   plt.plot(np.arange(10), 4 * np.arange(10))\n",
        "\n",
        "#   # With newer (1.0) versions of matplotlib, you can \n",
        "#   # use the \"zorder\" kwarg to make the image overlay\n",
        "#   # the plot, rather than hide behind it... (e.g. zorder=10)\n",
        "#   fig.figimage(im, 0, fig.bbox.ymax - height)\n",
        "\n",
        "#   # (Saving with the same dpi as the screen default to\n",
        "#   #  avoid displacing the logo image)\n",
        "#   fig.savefig('https://drive.google.com/file/d/1ywuuXOM_Qf1BXGPndYZWt-zBwM16W0FG/view?usp=sharing', dpi=80)\n",
        "\n",
        "#   plt.show()\n",
        "\n",
        "#################   \n",
        "\n",
        "  graphTitle= \"Student's Assignement mark compared to other students\" if chk  else \" Student's quiz mark compared to other students\" \n",
        "  plt.title(graphTitle , fontsize=20)\n",
        "  plt.xlabel(\"Date\" , fontsize=20)\n",
        "  plt.ylabel(\"Mark\" , fontsize=20)\n",
        "  plt.xticks(rotation=45)\n",
        "  plt.grid()\n",
        "  #plt.show()\n",
        "\n"
      ],
      "execution_count": null,
      "outputs": []
    },
    {
      "cell_type": "code",
      "metadata": {
        "id": "gr8Q06XiRBId"
      },
      "source": [
        "@interact(st = stID, cs = course, chkbx = box)\n",
        "def plot_data( st, cs, chkbx):\n",
        "  #print(((chkbx)+0))\n",
        "  \n",
        "  # print(predict_std.reset_index().query(f\"Course_code=='{cs}' & student_ID=='{st}'\"))\n",
        "  plot_std_Data(st, cs, ((chkbx)+0))"
      ],
      "execution_count": null,
      "outputs": []
    },
    {
      "cell_type": "code",
      "metadata": {
        "id": "gr1cQB79uUg-"
      },
      "source": [
        ""
      ],
      "execution_count": null,
      "outputs": []
    },
    {
      "cell_type": "code",
      "metadata": {
        "id": "LZ4SQ-GwuUd2"
      },
      "source": [
        ""
      ],
      "execution_count": null,
      "outputs": []
    },
    {
      "cell_type": "code",
      "metadata": {
        "id": "jTFAdFXXuUXX"
      },
      "source": [
        ""
      ],
      "execution_count": null,
      "outputs": []
    },
    {
      "cell_type": "markdown",
      "metadata": {
        "id": "zZSfOUOxu_ZB"
      },
      "source": [
        "![box-plot-arabic.jpg](data:image/jpeg;base64,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)"
      ]
    },
    {
      "cell_type": "markdown",
      "metadata": {
        "id": "1IQvMDOCrMpm"
      },
      "source": [
        "![box plot.png](data:image/png;base64,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)"
      ]
    },
    {
      "cell_type": "code",
      "metadata": {
        "id": "SP_Ycxj-MPi7"
      },
      "source": [
        ""
      ],
      "execution_count": null,
      "outputs": []
    },
    {
      "cell_type": "markdown",
      "metadata": {
        "id": "TJezCjScysRv"
      },
      "source": [
        "# Data sets creation    "
      ]
    },
    {
      "cell_type": "markdown",
      "metadata": {
        "id": "3Rmmb_lSRFqK"
      },
      "source": [
        "## 1 ) Create Student's General Info. Dataset"
      ]
    },
    {
      "cell_type": "code",
      "metadata": {
        "id": "FC2cVVX7X6Nh"
      },
      "source": [
        "grades={\n",
        "    \"06\":\"9\",\"07\":\"8\",\n",
        "    \"08\":\"7\", \"09\":\"6\", \"10\":\"5\", \"11\":\"4\",\n",
        "    \"12\":\"3\", \"13\":\"2\", \"14\":\"1\"\n",
        "}"
      ],
      "execution_count": null,
      "outputs": []
    },
    {
      "cell_type": "code",
      "metadata": {
        "id": "fQhITeCzpmln"
      },
      "source": [
        "###  الطلبة العينة من 10 مدارس عشوائيًا (500 طالب) ##\n",
        "##### من الصف السادس الى الثالث الاعدادي \n",
        "\n",
        "\n",
        "list_std=[]\n",
        "for i in range(500):\n",
        "  birth_year=random.choice([\"06\", \"07\", \"08\", \"09\",\"10\"]) \n",
        "  student= {\n",
        "  \"student_id\": ''.join(random.choice(string.digits) for _ in range(5)) ,\n",
        "  \"birth_year\": birth_year,\n",
        "  \"birth_month\": random.choice([\"01\", \"02\", \"03\", \"04\", \"05\", \n",
        "                                \"06\", \"07\", \"08\", \"09\",\"10\",\"11\",\"12\"]),\n",
        "  \"school\": random.choice([ \"Sc_\"+str(j) for j in range(10)]),\n",
        "  \"grade\": grades[birth_year],  \n",
        "  \"gender\": random.choice([\"M\", \"F\"]),\n",
        "  \"governorate\": random.choice([\"North\", \"South\", \"Caiptal\", \"Muharraq\"])\n",
        "         } \n",
        "  list_std.append(student)\n",
        "  \n",
        "      \n",
        "df_st=pd.DataFrame(list_std)\n"
      ],
      "execution_count": null,
      "outputs": []
    },
    {
      "cell_type": "code",
      "metadata": {
        "id": "nItBTwFfutF9"
      },
      "source": [
        "#####  Merge student_ID with birth year and month month to get a complete CPR\n",
        "\n",
        "df_st.insert(0, 'student_ID', df_st['birth_year'].astype(str) + df_st['birth_month'].astype(str)+df_st.pop('student_id').astype(str))"
      ],
      "execution_count": null,
      "outputs": []
    },
    {
      "cell_type": "code",
      "metadata": {
        "id": "t1NUnn4H5cti"
      },
      "source": [
        "df_st.head()"
      ],
      "execution_count": null,
      "outputs": []
    },
    {
      "cell_type": "code",
      "metadata": {
        "id": "_fbY1BwOT5EB"
      },
      "source": [
        "for col in df_st.keys():\n",
        "  df_st[col]= df_st[col].astype(str)"
      ],
      "execution_count": null,
      "outputs": []
    },
    {
      "cell_type": "code",
      "metadata": {
        "id": "ZzRCQGjHUhHr"
      },
      "source": [
        "df_st.info()"
      ],
      "execution_count": null,
      "outputs": []
    },
    {
      "cell_type": "code",
      "metadata": {
        "id": "GL2aCjqCxWMN"
      },
      "source": [
        "df_st.to_csv(\"./Data/General_students_info.csv\")"
      ],
      "execution_count": null,
      "outputs": []
    },
    {
      "cell_type": "markdown",
      "metadata": {
        "id": "A9G8SNC1O-fL"
      },
      "source": [
        "## 2 ) Create Students' portal activity Dataset / df_avt"
      ]
    },
    {
      "cell_type": "code",
      "metadata": {
        "id": "bqY7lMv2eDZJ"
      },
      "source": [
        "from random_timestamp import random_timestamp\n",
        "lst=[]\n",
        "for i, k  in zip(df_st.student_ID, df_st.grade):\n",
        "  for j in range (14, int((20*np.random.rand()+8))):\n",
        "    course_id=random.choice([\"g\"+str(k)+\"_\"+str(l) for l in range(1,4)])\n",
        "    ActType=random.choice([\"1\", \"0\" ])\n",
        "    Act_time= [15, 2]  if ActType=='0'  else [4320, 60]\n",
        "    activities= {\n",
        "        \"student_ID\": i ,\n",
        "        \"Course_code\":course_id,  \n",
        "        \"Activity_id\": f\"{course_id}-Act_{int(20*np.random.rand()+1)}\",\n",
        "        \"Activity_type\":ActType,\n",
        "        # \"Act_count\": course_ref[course_id][ActType] , #np.random.randint(5,30),\n",
        "\n",
        "      \"Unit_id\":  random.choice([ \"Un_\"+str(k) for k in range(10)]),\n",
        "      \"Chapter_id\": random.choice([ \"Chp_\"+str(k) for k in range(10)]), \n",
        "      \"Lesson_id\": random.choice([ \"Ls_\"+str(k) for k in range(10)]),\n",
        "      # \"Competence-id\":  random.choice([ \"Cp_\"+str(k) for k in range(10)]), \n",
        "      \"Act_diff\":  int((4*np.random.rand(1)+1)),\n",
        "      \"Act_cp_count\": int((np.random.rand(1)*2+1)), \n",
        "\n",
        "      \"Act_time\": int((Act_time[0]*np.random.rand()+Act_time[1])) , ####### Quizzes from 2 mins to 15 mins // Assign. from 1 hr to 3 days\n",
        "      \"Act_submit_Time\": random_timestamp( year=2020),\n",
        "      #  add  afeature for  late submission\n",
        "      \"Act_mark\": int((1000*np.random.rand()))/100,\n",
        "    }\n",
        "    lst.append(activities)\n",
        "df_avt=pd.DataFrame(lst)"
      ],
      "execution_count": null,
      "outputs": []
    },
    {
      "cell_type": "code",
      "metadata": {
        "id": "vpzA1xt_8PT2"
      },
      "source": [
        "df_avt.drop_duplicates(subset=[\"student_ID\"\t, \t\"Activity_id\"\t, \"Activity_type\"] , keep=\"last\", inplace=True)"
      ],
      "execution_count": null,
      "outputs": []
    },
    {
      "cell_type": "code",
      "metadata": {
        "id": "RNLG8WGlpBjJ"
      },
      "source": [
        "df_avt.sample(10)"
      ],
      "execution_count": null,
      "outputs": []
    },
    {
      "cell_type": "code",
      "metadata": {
        "id": "aVUyJ9MHpx88"
      },
      "source": [
        "df_avt.info()"
      ],
      "execution_count": null,
      "outputs": []
    },
    {
      "cell_type": "code",
      "metadata": {
        "id": "knamQr5-RLYi"
      },
      "source": [
        "df_avt.to_csv(\"./Data/Portal-Achiev-Info.csv\")"
      ],
      "execution_count": null,
      "outputs": []
    },
    {
      "cell_type": "markdown",
      "metadata": {
        "id": "sNsHFqK_QWeV"
      },
      "source": [
        "## 3 ) Generate 5 selected Students Data to graph  / dt_st\n"
      ]
    },
    {
      "cell_type": "code",
      "metadata": {
        "id": "Ufci8h0oeqLP"
      },
      "source": [
        "def dataJson(actType, i , c, act):\n",
        "  Act_time= [15, 2]  if actType=='0'  else [4320, 60]\n",
        "  return {\n",
        "      \n",
        "        \"student_ID\": i ,\n",
        "        \"Course_code\":c,  \n",
        "        \"Activity_id\": act,\n",
        "        \"Activity_type\":actType,\n",
        "          \n",
        "\n",
        "        \"Unit_id\":  random.choice([ \"Un_\"+str(k) for k in range(10)]),\n",
        "        \"Chapter_id\": random.choice([ \"Chp_\"+str(k) for k in range(10)]), \n",
        "        \"Lesson_id\": random.choice([ \"Ls_\"+str(k) for k in range(10)]),\n",
        "        \"Act_diff\":  int((4*np.random.rand(1)+1)),\n",
        "        \"Act_cp_count\": int((np.random.rand(1)*2+1)), \n",
        "\n",
        "        \"Act_time\": int((Act_time[0]*np.random.rand()+Act_time[1])) , ####### from 30 SEC to 15 MIN\n",
        "        \"Act_submit_Time\":random_timestamp( year=2020),  \n",
        "        #  add  a feature for  late submission\n",
        "        \"Act_mark\": int((1000*np.random.rand()))/100,  #  this should be  float32  : 10*np.random.rand()\n",
        "      }"
      ],
      "execution_count": null,
      "outputs": []
    },
    {
      "cell_type": "code",
      "metadata": {
        "id": "5O_-HR8fYAr2"
      },
      "source": [
        "std_course=[['g5_3', 'g5_2', 'g5_1'], ['g9_3', 'g9_1', 'g9_2'],['g6_1', 'g6_3',\n",
        "       'g6_2'], ['g8_1', 'g8_3', 'g8_2'], ['g7_1',  'g7_3', 'g7_2'] ]"
      ],
      "execution_count": null,
      "outputs": []
    },
    {
      "cell_type": "code",
      "metadata": {
        "id": "pGuNtZ1tQa4_"
      },
      "source": [
        "from random_timestamp import random_timestamp\n",
        "lst=[]\n",
        "std_array= df_avt.student_ID.unique()[:5] +\"S\"\n",
        "for i , course in zip(std_array, std_course):# c in df_avt.Course_code.unique():\n",
        "  for c in course:\n",
        "    for j in [f\"{c}-Act_{act}\"  for act in range(10,19)]: #range (1, int((2*np.random.rand()+8))):\n",
        "      lst.append(dataJson(\"0\", i , c, j ))\n",
        "    for j in [f\"{c}-Act_{act}\"  for act in range(1,5)]:\n",
        "      lst.append(dataJson(\"1\", i , c, j ))\n",
        "     \n",
        "dt_st=pd.DataFrame(lst)"
      ],
      "execution_count": null,
      "outputs": []
    },
    {
      "cell_type": "code",
      "metadata": {
        "id": "efOtM0NLgcCJ"
      },
      "source": [
        "for s, c  in  zip(dt_st.student_ID.unique(), std_course[0]):\n",
        "  count=dt_st.query(f\"student_ID=='{s}' & Course_code=='{c}' & Activity_type=='1'\").shape[0]\n",
        "  print(f\"Student:  {s}  has: {count}  records\")"
      ],
      "execution_count": null,
      "outputs": []
    },
    {
      "cell_type": "code",
      "metadata": {
        "id": "d8lYggepqis4"
      },
      "source": [
        "dt_st.sample(5)"
      ],
      "execution_count": null,
      "outputs": []
    },
    {
      "cell_type": "code",
      "metadata": {
        "id": "K0ngg-M_W4QB"
      },
      "source": [
        "dt_st.to_csv(\"./Data/5_selected_students.csv\")  "
      ],
      "execution_count": null,
      "outputs": []
    },
    {
      "cell_type": "markdown",
      "metadata": {
        "id": "6lOSMFYyxO43"
      },
      "source": [
        "## Create Recommendation data set"
      ]
    },
    {
      "cell_type": "code",
      "metadata": {
        "id": "ggVa-ojBogk0"
      },
      "source": [
        "def url_lobj(lob):\n",
        "  \n",
        "  for i in modules:\n",
        "    for j in i[\"lessons\"]:\n",
        "      for k in j[\"lobs\"]:\n",
        "        if k[\"lobName\"]==lob:\n",
        "          return  k[\"URL\"]\n"
      ],
      "execution_count": null,
      "outputs": []
    },
    {
      "cell_type": "code",
      "metadata": {
        "id": "U6yi3DJ-uJmL"
      },
      "source": [
        "url_lobj('Representing Data')"
      ],
      "execution_count": null,
      "outputs": []
    },
    {
      "cell_type": "code",
      "metadata": {
        "id": "DMZORE0FFbff"
      },
      "source": [
        "#  Json  recommendation Initialization\n",
        "modules=[\n",
        "         {\"unit\":\"Data and statistics\", \n",
        "          \"lessons\":[\n",
        "                    {\"LessName\": \"Dot plots & frequency tables\",\n",
        "                    \"lobs\":[\n",
        "                            {\"lobID\": 1, \"lobName\":\"Representing Data\", \"URL\": \"https://www.khanacademy.org/math/cc-sixth-grade-math/cc-6th-data-statistics/dot-plot/v/ways-to-represent-data?modal=1\" },\n",
        "                            {\"lobID\": 2,\"lobName\":\"Frequency Tables & dot plot\", \"URL\": \"https://www.khanacademy.org/math/cc-sixth-grade-math/cc-6th-data-statistics/dot-plot/v/frequency-tables-and-dot-plots?modal=1\"}\n",
        "                          ]\n",
        "                          \n",
        "                    },\n",
        "                    {\"LessName\": \"Statistical questions\",\n",
        "                    \"lobs\":[\n",
        "                            {\"lobID\": 3, \"lobName\":\"Statistical questions\", \"URL\": \"https://www.khanacademy.org/math/cc-sixth-grade-math/cc-6th-data-statistics/cc-6-statistical-questions/v/understanding-statistical-questions?modal=1\"}\n",
        "                          ]\n",
        "                    },\n",
        "                    {\"LessName\": \"Histograms\",\n",
        "                    \"lobs\":[\n",
        "                            {\"lobID\": 4, \"lobName\":\"Creating a histogram\", \"URL\": \"https://www.khanacademy.org/math/cc-sixth-grade-math/cc-6th-data-statistics/histograms/v/histograms-intro?modal=1\"},\n",
        "                            {\"lobID\": 5, \"lobName\":\"Interpreting a histogram\", \"URL\": \"https://www.khanacademy.org/math/cc-sixth-grade-math/cc-6th-data-statistics/histograms/v/interpreting-histograms?modal=1\"}\n",
        "                          ]\n",
        "                    },\n",
        "                    {\"LessName\": \"Mean and median\",\n",
        "                    \"lobs\":[\n",
        "                            \n",
        "                                {\"lobID\": 6, \"lobName\":\"Statistics Intro: Mean, Median & Mode\", \"URL\": \"https://www.khanacademy.org/math/cc-sixth-grade-math/cc-6th-data-statistics/mean-and-median/v/statistics-intro-mean-median-and-mode?modal=1\"}, \n",
        "                                {\"lobID\": 7, \"lobName\":\"Mean, Median & Mode example\", \"URL\": \"https://www.khanacademy.org/math/cc-sixth-grade-math/cc-6th-data-statistics/mean-and-median/v/mean-median-and-mode?modal=1\"},\n",
        "                                {\"lobID\": 8 , \"lobName\":\"Calculating the mean\", \"URL\": \"https://www.khanacademy.org/math/cc-sixth-grade-math/cc-6th-data-statistics/mean-and-median/a/calculating-the-mean?modal=1\"}\n",
        "                                \n",
        "                                \n",
        "                          ]\n",
        "                    },\n",
        "                    {\"LessName\": \"Mean and median challenge problems\",\n",
        "                    \"lobs\":[\n",
        "                             {\"lobID\": 9, \"lobName\": \"Missing value given the mean\", \"URL\": \"https://www.khanacademy.org/math/cc-sixth-grade-math/cc-6th-data-statistics/cc-6th-mean-median-challenge/v/using-mean-to-find-missing-value?modal=1\"},\n",
        "                              {\"lobID\":10 , \"lobName\":\"Mean as the balancing point\" , \"URL\" : \"https://www.khanacademy.org/math/cc-sixth-grade-math/cc-6th-data-statistics/cc-6th-mean-median-challenge/a/mean-as-the-balancing-point?modal=1\"},\n",
        "                              {\"lobID\": 11, \"lobName\":\"Impact on median & mean: Removing an outlier\" , \"URL\" : \"https://www.khanacademy.org/math/cc-sixth-grade-math/cc-6th-data-statistics/cc-6th-mean-median-challenge/v/impact-on-median-and-mean-when-removing-lowest-value-example?modal=1\"},\n",
        "                              {\"lobID\": 12, \"lobName\":\"Impact on median & mean: increasing an outlier\" , \"URL\" : \"https://www.khanacademy.org/math/cc-sixth-grade-math/cc-6th-data-statistics/cc-6th-mean-median-challenge/v/impact-on-median-and-mean-when-increasing-highest-value?modal=1\"},\n",
        "                              {\"lobID\": 13, \"lobName\":\"Median & range puzzlers\" , \"URL\" : \"https://www.khanacademy.org/math/cc-sixth-grade-math/cc-6th-data-statistics/cc-6th-mean-median-challenge/v/median-and-range-puzzle?modal=1\"}\n",
        "                          ]\n",
        "                    },\n",
        "                    {\"LessName\": \"Interquartile range (IQR)\",\n",
        "                    \"lobs\":[\n",
        "                            {\"lobID\": 14, \"lobName\":\"Interquartile range (IQR)\", \"URL\" : \"https://www.khanacademy.org/math/cc-sixth-grade-math/cc-6th-data-statistics/cc-6th/v/calculating-interquartile-range-iqr?modal=1\"}\n",
        "                          ]\n",
        "                    },\n",
        "                    {\"LessName\": \"Box Plots\",\n",
        "                    \"lobs\":[\n",
        "                            {\"lobID\":15  , \"lobName\":\"Reading box plots\", \"URL\" : \"https://www.khanacademy.org/math/cc-sixth-grade-math/cc-6th-data-statistics/cc-6th-box-whisker-plots/v/reading-box-and-whisker-plots?modal=1\"},\n",
        "                             {\"lobID\":16  , \"lobName\":\"Constructing a box plot\", \"URL\" : \"https://www.khanacademy.org/math/cc-sixth-grade-math/cc-6th-data-statistics/cc-6th-box-whisker-plots/v/constructing-a-box-and-whisker-plot?modal=1\"},\n",
        "                             {\"lobID\":17  , \"lobName\":\"Worked example: Creating box plot (odd number of data points)\", \"URL\" : \"https://www.khanacademy.org/math/cc-sixth-grade-math/cc-6th-data-statistics/cc-6th-box-whisker-plots/v/box-and-whisker-plot-exercise-example?modal=1\"},\n",
        "                             {\"lobID\":18  , \"lobName\":\"Worked example: Creating box plot (even number of data points)\", \"URL\" : \"https://www.khanacademy.org/math/cc-sixth-grade-math/cc-6th-data-statistics/cc-6th-box-whisker-plots/v/constructing-a-box-and-whisker-plot?modal=1\"},\n",
        "                             {\"lobID\":19  , \"lobName\":\"Worked example: Interpreting a box plot\", \"URL\" : \"https://www.khanacademy.org/math/cc-sixth-grade-math/cc-6th-data-statistics/cc-6th-box-whisker-plots/v/interpreting-box-plots?modal=1\"}\n",
        "                          ]\n",
        "                    },\n",
        "\n",
        "                    {\"LessName\": \"Mean absolute deviation (MAD)\",\n",
        "                    \"lobs\":[\n",
        "                            { \"lobID\":20 , \"lobName\":\"Mean absolute deviation (MAD)\", \"URL\" : \"https://www.khanacademy.org/math/cc-sixth-grade-math/cc-6th-data-statistics/cc-6-mad/v/mean-absolute-deviation?modal=1\"},\n",
        "                              {\"lobID\":21 , \"lobName\":\"Mean absolute deviation example\", \"URL\" : \"https://www.khanacademy.org/math/cc-sixth-grade-math/cc-6th-data-statistics/cc-6-mad/v/mean-absolute-deviation-example?modal=1\"}\n",
        "                          ]\n",
        "                    },\n",
        "                    {\"LessName\": \"Comparing Data Display\",\n",
        "                    \"lobs\":[\n",
        "                            {\"lobID\":22 , \"lobName\":\"Comparing dot plots, histograms and box plots\", \"URL\" : \"https://www.khanacademy.org/math/cc-sixth-grade-math/cc-6th-data-statistics/cc-7th-compare-data-displays/v/comparing-dot-plots-histograms-and-box-plots?modal=1\"}\n",
        "                          ]\n",
        "                    },\n",
        "                    {\"LessName\": \"Shape of Data Distribution\",\n",
        "                    \"lobs\":[\n",
        "                            {\"lobID\":23 , \"lobName\":\"Shape of distributions\", \"URL\" : \"https://www.khanacademy.org/math/cc-sixth-grade-math/cc-6th-data-statistics/cc-6-shape-of-data/v/shapes-of-distributions?modal=1\"},\n",
        "                              {\"lobID\":24 , \"lobName\":\"Clusters, gaps, peaks & outliers\", \"URL\" : \"https://www.khanacademy.org/math/cc-sixth-grade-math/cc-6th-data-statistics/cc-6-shape-of-data/v/examples-analyzing-clusters-gaps-peaks-and-outliers-for-distributions?modal=1\"}\n",
        "                          ]\n",
        "                    },\n",
        "                    \n",
        "\n",
        "                    \n",
        "                    ],\n",
        "           \n",
        "          \n",
        "          }\n",
        "         ]"
      ],
      "execution_count": null,
      "outputs": []
    },
    {
      "cell_type": "code",
      "metadata": {
        "id": "cSh9vfs8L_Cy"
      },
      "source": [
        "lst=[]\n",
        "\n",
        "md=modules[0][\"lessons\"]\n",
        "\n",
        "for st in  dt_st.student_ID.unique():\n",
        "  for i   in range(int(30*np.random.rand()+8)):\n",
        "    RndLesson= int(len(md)*np.random.rand()-1)\n",
        "    RndLob= int(len(md[RndLesson][\"lobs\"])*np.random.rand())\n",
        "    activities= {\n",
        "        \"student_ID\": st ,\n",
        "        # \"Course_code\":course_id,  \n",
        "        # \"Unit_des\":  random.choice([ \"Un_\"+str(k) for k in range(10)]),\n",
        "        \"Lesson_des\": md[RndLesson][\"LessName\"],\n",
        "\n",
        "        \"lobj_id\": md[RndLesson][\"lobs\"][RndLob][\"lobID\"], \n",
        "        \"lobj_des\": md[RndLesson][\"lobs\"][RndLob][\"lobName\"],  \n",
        "        # \"Subcps\": [ subcp[s]  for   i in range (1, int((len(subcps)*np.random.rand()+2)))] \n",
        "\n",
        "    }\n",
        "    lst.append(activities)\n",
        "df_recommend=pd.DataFrame(lst)"
      ],
      "execution_count": null,
      "outputs": []
    },
    {
      "cell_type": "code",
      "metadata": {
        "id": "efDZXLf3DZnB"
      },
      "source": [
        "df_recommend[\"LearningObj\"]=df_recommend.Lesson_des+\" \"+ df_recommend.lobj_des"
      ],
      "execution_count": null,
      "outputs": []
    },
    {
      "cell_type": "code",
      "metadata": {
        "id": "-UhFWZvjFLc3"
      },
      "source": [
        "df_recommend.to_csv(\"./Data/recommend.csv\")"
      ],
      "execution_count": null,
      "outputs": []
    },
    {
      "cell_type": "markdown",
      "metadata": {
        "id": "ST9xpUUMoDsv"
      },
      "source": [
        "## Data Preparation for prediction"
      ]
    },
    {
      "cell_type": "code",
      "metadata": {
        "id": "Y-KSBAvvyZ3I"
      },
      "source": [
        "df_avt.tail()"
      ],
      "execution_count": null,
      "outputs": []
    },
    {
      "cell_type": "code",
      "metadata": {
        "id": "FB3lAVvqYzhE"
      },
      "source": [
        "dt_st.tail()"
      ],
      "execution_count": null,
      "outputs": []
    },
    {
      "cell_type": "code",
      "metadata": {
        "id": "3GHLS2GhyZ7d"
      },
      "source": [
        "#  Add  5 selected student used  in the Graph Above\n",
        "\n",
        "#df_avt= df_avt.drop(\"Act_submit_Time\", axis=1).reset_index().append( dt_st.reset_index())\n",
        "\n",
        "\n",
        "df_avt= df_avt.append(dt_st.reset_index())"
      ],
      "execution_count": null,
      "outputs": []
    },
    {
      "cell_type": "code",
      "metadata": {
        "id": "b35Utg1IA38W"
      },
      "source": [
        "df_avt.drop([  \"Unit_id\", \"Chapter_id\", \"Lesson_id\"], inplace=True, axis=1)"
      ],
      "execution_count": null,
      "outputs": []
    },
    {
      "cell_type": "code",
      "metadata": {
        "id": "I8Pmaf806Use"
      },
      "source": [
        "df_avt.tail()"
      ],
      "execution_count": null,
      "outputs": []
    },
    {
      "cell_type": "code",
      "metadata": {
        "id": "koC1IzSDNOb_"
      },
      "source": [
        "#  4  dashboard\n",
        "#plt.rcParams.update({'font.size': 12})\n",
        "#df_avt[[\"Act_mark\"]].groupby(pd.Grouper(freq=\"W\")).agg(\"mean\").plot()"
      ],
      "execution_count": null,
      "outputs": []
    },
    {
      "cell_type": "code",
      "metadata": {
        "id": "uV-fWSvauQ5q"
      },
      "source": [
        "df_act_Stat=pd.pivot_table(df_avt, index=[\"Course_code\",\"Activity_type\" ], \n",
        "               values=[\"Act_mark\", \"Act_diff\", \"Act_cp_count\", \"Act_time\" , \"Activity_id\"]   , aggfunc={\n",
        "                   \"Act_mark\":(\"mean\",\"max\", \"count\", \"min\"), \n",
        "                   \"Act_diff\": \"mean\",\n",
        "                   \"Act_cp_count\": \"mean\",\n",
        "                   \"Act_time\": (\"mean\", \"max\", \"min\"),\n",
        "                   \"Activity_id\": lambda x: x.nunique()\n",
        "               }).rename(columns={\n",
        "                   \"Activity_id\" :  \"Activities_Count\"  #  number of activities\n",
        "#                 \"Act_mark\":\"Std_act_m\", \n",
        "#                    \"Act_diff\": \"Std_act_d\",\n",
        "#                    \"Act_cp_count\": \"Std_act_cp\",\n",
        "#                    \"Act_time\": \"Std_act_t\"  \n",
        "\n",
        "               })\n"
      ],
      "execution_count": null,
      "outputs": []
    },
    {
      "cell_type": "code",
      "metadata": {
        "id": "GbrvhAOF8fjo"
      },
      "source": [
        "df_avt.head(10)"
      ],
      "execution_count": null,
      "outputs": []
    },
    {
      "cell_type": "code",
      "metadata": {
        "id": "yejIGY9-9AqA"
      },
      "source": [
        "df_avt.query(f\"student_ID=='090904691'\").groupby([\"Course_code\", \"Activity_type\"]).student_ID.agg(\"count\")"
      ],
      "execution_count": null,
      "outputs": []
    },
    {
      "cell_type": "code",
      "metadata": {
        "id": "Asw9HgSl-p0k"
      },
      "source": [
        "df_avt.groupby([\"Course_code\", \"Activity_type\"]).student_ID.agg(\"count\")"
      ],
      "execution_count": null,
      "outputs": []
    },
    {
      "cell_type": "code",
      "metadata": {
        "id": "SRtfu_aR7YoJ"
      },
      "source": [
        "df_avt[df_avt.Course_code=='g8_1'].groupby(\"Activity_type\").student_ID.agg(\"count\")"
      ],
      "execution_count": null,
      "outputs": []
    },
    {
      "cell_type": "code",
      "metadata": {
        "id": "lJWjtGDt-dLF"
      },
      "source": [
        "df_act_Stat.sample(5)"
      ],
      "execution_count": null,
      "outputs": []
    },
    {
      "cell_type": "code",
      "metadata": {
        "id": "jDfjh-7BW5f7"
      },
      "source": [
        "df_act_Stat.columns=[f\"{i}_{j}\" for  i , j in df_act_Stat.columns]"
      ],
      "execution_count": null,
      "outputs": []
    },
    {
      "cell_type": "code",
      "metadata": {
        "id": "kTDEPIsiutvW"
      },
      "source": [
        "df_avt[(df_avt.Course_code==\"g6_1\")&(df_avt.Activity_type==\"0\")].describe()"
      ],
      "execution_count": null,
      "outputs": []
    },
    {
      "cell_type": "markdown",
      "metadata": {
        "id": "lT8hkF0GZmi0"
      },
      "source": [
        "## Students' Achievement Statistics (( df_std ))  (( df_mg ))"
      ]
    },
    {
      "cell_type": "code",
      "metadata": {
        "id": "NqbdT3ZicJ6B"
      },
      "source": [
        "df_std_Stat=pd.pivot_table(df_avt, index=[\"student_ID\",\"Course_code\",\"Activity_type\" ], \n",
        "               values=[\"Act_mark\", \"Act_diff\", \"Act_cp_count\", \"Act_time\" ]   , aggfunc={\n",
        "                   \"Act_mark\":(\"mean\",\"max\", \"count\", np.std, \"last\"), \n",
        "                   \"Act_diff\": \"mean\",\n",
        "                   \"Act_cp_count\": \"mean\",\n",
        "                   \"Act_time\": (\"mean\", \"max\", np.std)\n",
        "               },  fill_value=0 ).rename(columns={\n",
        "                \"Act_mark\":\"Std_act_m\", \n",
        "                   \"Act_diff\": \"Std_act_d\",\n",
        "                   \"Act_cp_count\": \"Std_act_cp\",\n",
        "                   \"Act_time\": \"Std_act_t\"   \n",
        "\n",
        "               })\n",
        "df_std_Stat.head()"
      ],
      "execution_count": null,
      "outputs": []
    },
    {
      "cell_type": "code",
      "metadata": {
        "id": "whp94LKSWfoY"
      },
      "source": [
        "df_avt.sample()"
      ],
      "execution_count": null,
      "outputs": []
    },
    {
      "cell_type": "code",
      "metadata": {
        "id": "0E65b4Z5zJUw"
      },
      "source": [
        "df_avt[(df_avt.student_ID==\"080607421\")& (df_avt.Course_code==\"g7_3\")]"
      ],
      "execution_count": null,
      "outputs": []
    },
    {
      "cell_type": "code",
      "metadata": {
        "id": "wsIADVEGjvd0"
      },
      "source": [
        "df_std_Stat.columns=[f\"{i}_{j}\" for  i , j in df_std_Stat.columns]"
      ],
      "execution_count": null,
      "outputs": []
    },
    {
      "cell_type": "code",
      "metadata": {
        "id": "Aex8ie9Kf8ID"
      },
      "source": [
        "df_std_Stat.sample(5)"
      ],
      "execution_count": null,
      "outputs": []
    },
    {
      "cell_type": "markdown",
      "metadata": {
        "id": "8HZkUeNRaSam"
      },
      "source": [
        "- Ranking\n",
        "\n",
        "$$\\Large score=\\log(\\frac{\\text{Qz_Max_time}}{\\text{Qz_Avg_tim}}+\\text{Qz_avg_diff*Qz_Avg_cp})*\\frac{\\text{Qz_Avg_mark}^2}{\\text{Qz_Max_mark}}$$"
      ]
    },
    {
      "cell_type": "code",
      "metadata": {
        "id": "gjiNBNDYdoDX"
      },
      "source": [
        "df_std_Stat[\"Act_score\"]=np.log1p( \n",
        "    df_std_Stat.Std_act_t_max/df_std_Stat.Std_act_t_mean +df_std_Stat.Std_act_d_mean* df_std_Stat.Std_act_cp_mean\n",
        ")*df_std_Stat[\"Std_act_m_max\"]**2/df_std_Stat.Std_act_m_mean"
      ],
      "execution_count": null,
      "outputs": []
    },
    {
      "cell_type": "code",
      "metadata": {
        "id": "mesFnowLjNjx"
      },
      "source": [
        "# reset index   for  Students    data\n",
        "df_std_Stat.reset_index(inplace=True)\n",
        "# reset index for   activities data\n",
        "df_act_Stat.reset_index(inplace=True)"
      ],
      "execution_count": null,
      "outputs": []
    },
    {
      "cell_type": "code",
      "metadata": {
        "id": "KyatOXQyV93D"
      },
      "source": [
        "# Merge Data\n",
        "df_mg=df_std_Stat.merge(df_act_Stat,  on=[\"Course_code\", \"Activity_type\"])"
      ],
      "execution_count": null,
      "outputs": []
    },
    {
      "cell_type": "code",
      "metadata": {
        "id": "yAxo1JCUV965"
      },
      "source": [
        "df_mg.query(f\"student_ID=='080554476'\")"
      ],
      "execution_count": null,
      "outputs": []
    },
    {
      "cell_type": "code",
      "metadata": {
        "id": "8jDD_bSkV9-I"
      },
      "source": [
        "df_mg[\"last_mark\"]=df_mg.Std_act_m_last  # put the target at the end of table\n",
        "df_mg.drop(\"Std_act_m_last\", axis=1, inplace=True)  #  drop the last mark feature."
      ],
      "execution_count": null,
      "outputs": []
    },
    {
      "cell_type": "code",
      "metadata": {
        "id": "rCupuFGEV-CF"
      },
      "source": [
        "df_mg.sample(3)"
      ],
      "execution_count": null,
      "outputs": []
    },
    {
      "cell_type": "code",
      "metadata": {
        "id": "nf9rbrTlkdiz"
      },
      "source": [
        "df_mg.info()"
      ],
      "execution_count": null,
      "outputs": []
    },
    {
      "cell_type": "code",
      "metadata": {
        "id": "gVBQnTyDkdxA"
      },
      "source": [
        "df_mg.to_csv(\"./Data/student_statistics.csv\")"
      ],
      "execution_count": null,
      "outputs": []
    },
    {
      "cell_type": "markdown",
      "metadata": {
        "id": "xlXC8vTMCYkX"
      },
      "source": [
        "# Linear Regression & Classification"
      ]
    },
    {
      "cell_type": "markdown",
      "metadata": {
        "id": "mODye3CkyDIh"
      },
      "source": [
        "## Pipeline    SGB Regressor  Mark Prediction \n",
        "![](https://i.ibb.co/xzWVv5H/pipe-Lasso.png)"
      ]
    },
    {
      "cell_type": "code",
      "metadata": {
        "id": "yUDuHE8sWASX"
      },
      "source": [
        "df_mg.set_index(\"student_ID\", inplace=True)"
      ],
      "execution_count": null,
      "outputs": []
    },
    {
      "cell_type": "code",
      "metadata": {
        "id": "JdoiqOidnB7Z"
      },
      "source": [
        "# Split Data\n",
        "\n",
        "X_train=df_mg.drop(dt_st.student_ID.unique(), axis = 0).iloc[:,:-1]\n",
        "y=df_mg.drop(dt_st.student_ID.unique(), axis = 0).iloc[:, -1]"
      ],
      "execution_count": null,
      "outputs": []
    },
    {
      "cell_type": "code",
      "metadata": {
        "id": "3YDFFpVQwrRR"
      },
      "source": [
        "from sklearn.preprocessing import StandardScaler , OneHotEncoder\n",
        "from sklearn.compose import make_column_transformer , make_column_selector  as selector\n",
        "\n",
        "from sklearn.pipeline import make_pipeline\n",
        "  \n",
        "num_pipeline= make_pipeline(\n",
        "     StandardScaler( )    # Rescaling\n",
        ")\n",
        "\n",
        "cat_pipeline= make_pipeline(\n",
        "      \n",
        "     OneHotEncoder(drop=\"if_binary\" , sparse=False ), \n",
        " \n",
        ")"
      ],
      "execution_count": null,
      "outputs": []
    },
    {
      "cell_type": "code",
      "metadata": {
        "id": "upy_I2BowrUj"
      },
      "source": [
        "#  Pipeline structure \n",
        "preprocess= make_column_transformer(\n",
        "     ( num_pipeline,  selector(dtype_include=\"number\") ),  #Numeric feature rescaling\n",
        "     (cat_pipeline, selector(dtype_exclude=\"number\"))  # Categorical features Encoding\n",
        "     )"
      ],
      "execution_count": null,
      "outputs": []
    },
    {
      "cell_type": "code",
      "metadata": {
        "id": "66dCtrfm4uw-"
      },
      "source": [
        "preprocess.fit_transform(X_train).shape"
      ],
      "execution_count": null,
      "outputs": []
    },
    {
      "cell_type": "code",
      "metadata": {
        "id": "ITBU0xv45SXd"
      },
      "source": [
        "preprocess.fit_transform(X_train)[0]"
      ],
      "execution_count": null,
      "outputs": []
    },
    {
      "cell_type": "code",
      "metadata": {
        "id": "Wh8MTnh2keHJ"
      },
      "source": [
        "# pipelline Model\n",
        "\n",
        "from xgboost import XGBRegressor\n",
        "pipe_reg= make_pipeline(\n",
        "    preprocess, \n",
        "    XGBRegressor(objective=\"reg:squarederror\")\n",
        "    )"
      ],
      "execution_count": null,
      "outputs": []
    },
    {
      "cell_type": "code",
      "metadata": {
        "id": "90gB0GMjz4vz"
      },
      "source": [
        "pipe_reg.get_params()"
      ],
      "execution_count": null,
      "outputs": []
    },
    {
      "cell_type": "code",
      "metadata": {
        "id": "CYgTJx9zqPLY"
      },
      "source": [
        "# hyper parameters\n",
        "\n",
        "param_grid={\n",
        "    \"xgbregressor__learning_rate\": [0.01, 0.1],\n",
        "    \"xgbregressor__max_depth\" : [3,5,7, 10] ,\n",
        "    \"xgbregressor__min_child_weight\" :[1,3,5],\n",
        "    \"xgbregressor__subsample\": [0.5, 0.7],\n",
        "    \"xgbregressor__colsample_bytree\": [0.5, 0.7],\n",
        "    \"xgbregressor__n_estimators\": [200, 400, 1000]\n",
        "    \n",
        "}"
      ],
      "execution_count": null,
      "outputs": []
    },
    {
      "cell_type": "code",
      "metadata": {
        "id": "qtr9T1Mt1Fjk"
      },
      "source": [
        "from sklearn.model_selection import RandomizedSearchCV, KFold\n",
        "\n",
        "kf= KFold( n_splits=5, shuffle=True )\n",
        "gs= RandomizedSearchCV( pipe_reg, param_distributions=param_grid,  scoring=\"neg_mean_squared_error\", cv=kf,verbose=3)"
      ],
      "execution_count": null,
      "outputs": []
    },
    {
      "cell_type": "code",
      "metadata": {
        "id": "vg3IQj7I1Fmz"
      },
      "source": [
        "gs.fit(X_train, y)"
      ],
      "execution_count": null,
      "outputs": []
    },
    {
      "cell_type": "code",
      "metadata": {
        "id": "OdqbzrEB40Fz"
      },
      "source": [
        "gs.best_estimator_"
      ],
      "execution_count": null,
      "outputs": []
    },
    {
      "cell_type": "code",
      "metadata": {
        "id": "P_F9X0bV43D6"
      },
      "source": [
        "gs.best_params_"
      ],
      "execution_count": null,
      "outputs": []
    },
    {
      "cell_type": "code",
      "metadata": {
        "id": "_AMYoAz7kHRs"
      },
      "source": [
        "df_mg.loc[dt_st.student_ID.unique(), :].iloc[:, :-1].sample()"
      ],
      "execution_count": null,
      "outputs": []
    },
    {
      "cell_type": "code",
      "metadata": {
        "id": "qJA7ti_e46dz"
      },
      "source": [
        "y_pred=gs.predict(X_train)"
      ],
      "execution_count": null,
      "outputs": []
    },
    {
      "cell_type": "code",
      "metadata": {
        "id": "y2szdzfQ4Nvq"
      },
      "source": [
        "from sklearn import  metrics\n",
        "print(f\"  MAE : { metrics.mean_absolute_error(y, y_pred):.3f}\")\n",
        "print(f\"  MSE : { metrics.mean_squared_error(y, y_pred):.3f}\")\n",
        "print(f\"  RMSE : { np.sqrt(metrics.mean_squared_error(y, y_pred)):.3f}\")\n",
        "print(f\"  R^2 : { metrics.r2_score(y, y_pred):.3f}\")\n",
        "print(f\"  Explained Variance Score : { metrics.mean_absolute_error(y, y_pred):.3f}\")"
      ],
      "execution_count": null,
      "outputs": []
    },
    {
      "cell_type": "code",
      "metadata": {
        "id": "MzIcZBSx4Nyw"
      },
      "source": [
        "# Residual Plot\n",
        "\n",
        "import seaborn as sns\n",
        "_= sns.residplot(x=y, y=y_pred, color=\"green\")"
      ],
      "execution_count": null,
      "outputs": []
    },
    {
      "cell_type": "code",
      "metadata": {
        "id": "FNUwbLkp3U2k"
      },
      "source": [
        "predict_std = df_mg.loc[dt_st.student_ID.unique(), :].iloc[:, :-1]"
      ],
      "execution_count": null,
      "outputs": []
    },
    {
      "cell_type": "code",
      "metadata": {
        "id": "iEh-K9_3Kuyr"
      },
      "source": [
        "gs.predict(predict_std)"
      ],
      "execution_count": null,
      "outputs": []
    },
    {
      "cell_type": "code",
      "metadata": {
        "id": "afM8HMOdsFW8"
      },
      "source": [
        "predict_std[\"last_mark\"]=gs.predict(predict_std)"
      ],
      "execution_count": null,
      "outputs": []
    },
    {
      "cell_type": "code",
      "metadata": {
        "id": "iLkkuL9yCsiQ"
      },
      "source": [
        "predict_std.head()"
      ],
      "execution_count": null,
      "outputs": []
    },
    {
      "cell_type": "code",
      "metadata": {
        "id": "bA6yGCkApkeM"
      },
      "source": [
        "predict_std.to_csv(\"./Data/predicted_data.csv\")"
      ],
      "execution_count": null,
      "outputs": []
    },
    {
      "cell_type": "markdown",
      "metadata": {
        "id": "rxJumxSTO7S9"
      },
      "source": [
        "## Pipeline    SGB Classsifier  Classification  Prediction   ((( ERROR ))\n",
        "![](https://i.ibb.co/xzWVv5H/pipe-Lasso.png)"
      ]
    },
    {
      "cell_type": "code",
      "metadata": {
        "id": "mV9pOkV8O7TD"
      },
      "source": [
        "df_stClass= df_mg.copy()"
      ],
      "execution_count": null,
      "outputs": []
    },
    {
      "cell_type": "code",
      "metadata": {
        "id": "uZhqnK4rO7TE"
      },
      "source": [
        "df_stClass.head()"
      ],
      "execution_count": null,
      "outputs": []
    },
    {
      "cell_type": "markdown",
      "metadata": {
        "id": "rmi-mtp4FWZg"
      },
      "source": [
        "- Ranking\n",
        "\n",
        "$$\\Large score=\\log(\\frac{\\text{Qz_Max_time}}{\\text{Qz_Avg_tim}}+\\text{Qz_avg_diff*Qz_Avg_cp})*\\frac{\\text{Qz_Avg_mark}^2}{\\text{Qz_Max_mark}}$$"
      ]
    },
    {
      "cell_type": "code",
      "metadata": {
        "id": "dpKvikShD_ia"
      },
      "source": [
        "df_stClass.Act_score.describe().T"
      ],
      "execution_count": null,
      "outputs": []
    },
    {
      "cell_type": "code",
      "metadata": {
        "id": "cFs-6fXyGpGB"
      },
      "source": [
        "df_stClass.Act_score.quantile(0.25)"
      ],
      "execution_count": null,
      "outputs": []
    },
    {
      "cell_type": "code",
      "metadata": {
        "id": "BXRNBYkvA4c6"
      },
      "source": [
        "#  feature  Engineering\n",
        "\n",
        "bins = [0, \n",
        "        df_stClass.Act_score.quantile(0.25),\n",
        "        df_stClass.Act_score.quantile(0.5),\n",
        "        df_stClass.Act_score.quantile(0.75), \n",
        "        df_stClass.Act_score.quantile(1)]\n",
        "names = ['D', 'C', 'B', 'A']\n",
        "\n",
        "df_stClass['Score_Class'] = pd.cut(df_stClass.Act_score,\n",
        "                           bins, labels=names)"
      ],
      "execution_count": null,
      "outputs": []
    },
    {
      "cell_type": "code",
      "metadata": {
        "id": "DOVyPfF1I62v"
      },
      "source": [
        "df_stClass.head()\n",
        "\n",
        "#  It's better to add data related to  timestamp feature:  dat, month, dayofteweek, monthOfTheyear ....."
      ],
      "execution_count": null,
      "outputs": []
    },
    {
      "cell_type": "code",
      "metadata": {
        "id": "XJyJk9FnJCvH"
      },
      "source": [
        "df_stClass.drop(\"Act_score\", axis=1, inplace=True)"
      ],
      "execution_count": null,
      "outputs": []
    },
    {
      "cell_type": "code",
      "metadata": {
        "id": "yOJgt_lxO7TF"
      },
      "source": [
        "# Split Data\n",
        "\n",
        "X=df_stClass.iloc[:,:-1]\n",
        "y=df_stClass[\"Score_Class\"]"
      ],
      "execution_count": null,
      "outputs": []
    },
    {
      "cell_type": "code",
      "metadata": {
        "id": "z0HbtSlPO7TG"
      },
      "source": [
        "from sklearn.model_selection import train_test_split\n",
        "\n",
        "X_train, X_test, y_train, y_test=train_test_split(X, y  , test_size=.3,   random_state=42)"
      ],
      "execution_count": null,
      "outputs": []
    },
    {
      "cell_type": "code",
      "metadata": {
        "id": "lkqh27GpO7TG"
      },
      "source": [
        "X_train.shape, X_test.shape"
      ],
      "execution_count": null,
      "outputs": []
    },
    {
      "cell_type": "code",
      "metadata": {
        "id": "uNoAmJ5wO7TH"
      },
      "source": [
        "from sklearn.preprocessing import StandardScaler , OneHotEncoder\n",
        "from sklearn.compose import make_column_transformer , make_column_selector  as selector\n",
        "\n",
        "from sklearn.pipeline import make_pipeline\n",
        "  \n",
        "num_pipeline= make_pipeline(\n",
        "     StandardScaler( )    # Rescaling\n",
        ")\n",
        "\n",
        "cat_pipeline= make_pipeline(\n",
        "      \n",
        "     OneHotEncoder(drop=\"if_binary\" , sparse=False ), \n",
        " \n",
        ")"
      ],
      "execution_count": null,
      "outputs": []
    },
    {
      "cell_type": "code",
      "metadata": {
        "id": "rnWwMgU6O7TH"
      },
      "source": [
        "#  Pipeline structure \n",
        "\n",
        "preprocess= make_column_transformer(\n",
        "     ( num_pipeline,  selector(dtype_include=\"number\") ),  #Numeric feature rescaling\n",
        "     (cat_pipeline, selector(dtype_exclude=\"number\"))  # Categorical features Encoding\n",
        "     )"
      ],
      "execution_count": null,
      "outputs": []
    },
    {
      "cell_type": "code",
      "metadata": {
        "id": "6PTkH0fyO7TH"
      },
      "source": [
        "preprocess.fit_transform(X_train).shape"
      ],
      "execution_count": null,
      "outputs": []
    },
    {
      "cell_type": "code",
      "metadata": {
        "id": "62CITadAO7TI"
      },
      "source": [
        "preprocess.fit_transform(X_train)[0]"
      ],
      "execution_count": null,
      "outputs": []
    },
    {
      "cell_type": "code",
      "metadata": {
        "id": "ygtpwdJSO7TJ"
      },
      "source": [
        "# pipelline Model\n",
        "\n",
        "from xgboost import XGBClassifier\n",
        "pipe_reg= make_pipeline(\n",
        "    preprocess, \n",
        "    XGBClassifier()\n",
        "    )"
      ],
      "execution_count": null,
      "outputs": []
    },
    {
      "cell_type": "code",
      "metadata": {
        "id": "5kqkheEaO7TJ"
      },
      "source": [
        "pipe_reg.get_params()"
      ],
      "execution_count": null,
      "outputs": []
    },
    {
      "cell_type": "code",
      "metadata": {
        "id": "XKjazoy5O7TJ"
      },
      "source": [
        "# hyper parameters\n",
        "\n",
        "param_grid = {\n",
        "    'xgbclassifier__n_estimators': [50, 100, 150, 200],\n",
        "    'xgbclassifier__learning_rate': [0.01, 0.1, 0.2, 0.3],\n",
        "    'xgbclassifier__max_depth': range(3, 5),\n",
        "    'xgbclassifier__colsample_bytree': [i/10.0 for i in range(1, 3)],\n",
        "    'xgbclassifier__gamma': [i/10.0 for i in range(3)],\n",
        "    \n",
        "}"
      ],
      "execution_count": null,
      "outputs": []
    },
    {
      "cell_type": "code",
      "metadata": {
        "id": "LZY_I0agBoED"
      },
      "source": [
        "# AUC and accuracy as score\n",
        "\n",
        "from sklearn.metrics import accuracy_score, make_scorer, f1_score\n",
        "scorer = make_scorer(f1_score, pos_label=\"yes\", average=\"micro\")"
      ],
      "execution_count": null,
      "outputs": []
    },
    {
      "cell_type": "code",
      "metadata": {
        "id": "yvVUlnXRO7TK"
      },
      "source": [
        "from sklearn.model_selection import RandomizedSearchCV, KFold\n",
        "\n",
        "kf= KFold( n_splits=5, shuffle=True )\n",
        "gs= RandomizedSearchCV( pipe_reg, param_distributions=param_grid,  scoring=scorer,  cv=kf,verbose=3)"
      ],
      "execution_count": null,
      "outputs": []
    },
    {
      "cell_type": "code",
      "metadata": {
        "id": "9mu58K1nO7TK"
      },
      "source": [
        "gs.fit(X_train, y_train)"
      ],
      "execution_count": null,
      "outputs": []
    },
    {
      "cell_type": "code",
      "metadata": {
        "id": "WCQsQ6frO7TK"
      },
      "source": [
        "gs.best_estimator_"
      ],
      "execution_count": null,
      "outputs": []
    },
    {
      "cell_type": "code",
      "metadata": {
        "id": "52_M4t9mO7TL"
      },
      "source": [
        "gs.best_params_"
      ],
      "execution_count": null,
      "outputs": []
    },
    {
      "cell_type": "code",
      "metadata": {
        "id": "I-4oLnkiO7TL"
      },
      "source": [
        "X_test.sample()"
      ],
      "execution_count": null,
      "outputs": []
    },
    {
      "cell_type": "code",
      "metadata": {
        "id": "L2xALOuEO7TL"
      },
      "source": [
        "std_Pred=X_test.loc[\"061108800\"]"
      ],
      "execution_count": null,
      "outputs": []
    },
    {
      "cell_type": "code",
      "metadata": {
        "id": "k5I5DVSSO7TM"
      },
      "source": [
        "gs.predict(X_test.loc[\"061108800\"])"
      ],
      "execution_count": null,
      "outputs": []
    },
    {
      "cell_type": "code",
      "metadata": {
        "id": "vHKbm3jiO7TM"
      },
      "source": [
        "std_Pred[\"Predicted_mark\"]=gs.predict(X_test.loc[\"070229174S\"])"
      ],
      "execution_count": null,
      "outputs": []
    },
    {
      "cell_type": "code",
      "metadata": {
        "id": "bRKsloF7O7TN"
      },
      "source": [
        "std_Pred"
      ],
      "execution_count": null,
      "outputs": []
    },
    {
      "cell_type": "code",
      "metadata": {
        "id": "GNl60l11O7TN"
      },
      "source": [
        "y_pred=gs.predict(X_test)"
      ],
      "execution_count": null,
      "outputs": []
    },
    {
      "cell_type": "code",
      "metadata": {
        "id": "JGL5XFCMO7TT"
      },
      "source": [
        "#  Last Mark Comparaison\n",
        "\n",
        "pd.DataFrame({\"Actual Mark\": y_test, \"Predicted Mark\": y_pred}).sample(6)"
      ],
      "execution_count": null,
      "outputs": []
    },
    {
      "cell_type": "code",
      "metadata": {
        "id": "jGIG1Z2CO7TT"
      },
      "source": [
        "X_test[\"predicted_Mark\"]=y_pred"
      ],
      "execution_count": null,
      "outputs": []
    },
    {
      "cell_type": "markdown",
      "metadata": {
        "id": "Z9gewdIt7G0R"
      },
      "source": [
        "# Old stuff"
      ]
    },
    {
      "cell_type": "code",
      "metadata": {
        "id": "fsKai4Co69B4"
      },
      "source": [
        "def plot_std_Data(st, cs,chk,  status=False):\n",
        "  course.options = std_d[st]\n",
        "  plt.rcParams.update({'font.size': 25})\n",
        "  \n",
        "\n",
        "  #  subplots   x, y  :  should be related to the number of Activity_type of current student.\n",
        "\n",
        "  list_rec=recommend( st)\n",
        "\n",
        "\n",
        "  fig, ax=plt.subplots(1, 2, figsize=(10,10) )\n",
        "  plt.subplots_adjust(top = 0.99, bottom=0.01,wspace=0.4, hspace= 0.4)\n",
        "\n",
        "  if status:\n",
        "    ref_q=dt_st.reset_index().query(f\"student_ID=='{st}' & Course_code=='{cs}' & Activity_type=='0' \").Act_submit_Time.max()\n",
        "    xq_point=[ref_q, ref_q+ timedelta(days=7)]\n",
        "    yq_point=[dt_st.loc[ref_q, \"Act_mark\"]       , predict_std.reset_index().query(f\"student_ID=='{st}'  & Course_code=='{cs}' & Activity_type=='0' \").last_mark]\n",
        "    ax[0,1].plot(xq_point , yq_point, linestyle='dashed', marker='o',\n",
        "                 markerfacecolor='blue', markersize=12)\n",
        "    \n",
        "\n",
        "    ref_a=dt_st.reset_index().query(f\"student_ID=='{st}' & Course_code=='{cs}' & Activity_type=='1' \").Act_submit_Time.max()\n",
        "    xa_point=[ref_a, ref_a+ timedelta(days=7)]\n",
        "    ya_point=[dt_st.loc[ref_a, \"Act_mark\"]       , predict_std.reset_index().query(f\"student_ID=='{st}'  & Course_code=='{cs}' & Activity_type=='0' \").last_mark]\n",
        "    ax[0,0].plot(xa_point , ya_point, linestyle='dashed', marker='o',\n",
        "                 markerfacecolor='blue', markersize=12)\n",
        "\n",
        "\n",
        "  dt_st.query(f\"Course_code=='{cs}' & student_ID=='{st}' & Activity_type=='{chk}'\").Act_mark.plot( \n",
        "      subplots=True,marker=\"o\",    ax=ax[0] , color=\"brown\")\n",
        "   \n",
        " \n",
        "  \n",
        "\n",
        "  # dt_st.query(f\"Course_code=='{cs}' & student_ID=='{st}' & Activity_type=='0'\").Act_mark.plot( \n",
        "  #     subplots=True, marker=\"s\",   ax=ax[0,1] , color=\"brown\")\n",
        "\n",
        "  # add time Avg per Activity\n",
        "\n",
        "  # ax4=ax[0].twinx()\n",
        "  dt_st.query(f\"Course_code=='{cs}' & student_ID=='{st}' & Activity_type=='{chk}'\").Act_time.plot( \n",
        "      subplots=True, marker=\"s\",   ax=ax[1] , color=\"green\")\n",
        "\n",
        "\n",
        "\n",
        "  # ax3=ax[1,0].twinx()\n",
        "  # dt_st.query(f\"Course_code=='{cs}' & student_ID=='{st}' & Activity_type=='0'\").Act_time.plot( subplots=True, marker=\"s\",   ax=ax3 , color=\"green\")\n",
        "\n",
        "  Alabel=\"Assignments Mark\"   if chk  else  \"Quizz Mark \"\n",
        "  Atitle= \" Assignement Mark Trend / Month Timeline\"  if chk   else \" Quizz Mark Trend / Month Timeline\"\n",
        "\n",
        "  # ---------------------------------------------------------------------\n",
        "  # Set title and labels for axes\n",
        "  ax[0].set(xlabel=\"Dates\",\n",
        "        ylabel= Alabel,  # \"Assignments Mark\",\n",
        "        title=Atitle ) # Assignement Mark Trend / Month Timeline\")\n",
        "  fig.autofmt_xdate(rotation=45)\n",
        "\n",
        "  ax[0].xaxis.set_major_formatter(DateFormatter(\"%Y-%b\"))\n",
        "  \n",
        "# ----------------------------------------------------------------------\n",
        "  # ax[0,1].set(xlabel=\"Dates\",\n",
        "  #       ylabel=\"Quizzes Marks\",\n",
        "  #       title=\" Quizzes Marks Trend / Month Timeline\")\n",
        "  Qlabel=\"Assignments Time\"   if chk  else  \"Quizz Time \"\n",
        "\n",
        "  ax[1].set(\n",
        "        ylabel=  Qlabel # \"Quizz Mark\"\n",
        "        )\n",
        "  ax[1].grid()\n",
        "  ax[1].legend()\n",
        "  \n",
        "  # ---------------------------------------------------------------------\n",
        "  # ax[1,1].set(ylabel=\"Quizzes Submission time \",\n",
        "  #       title= \"Quizzes Time Submission Trend / Month\")\n",
        "  # # ----------------------------------------------------------------\n",
        "  # ax[1,0].set(xlabel=\"Dates\",\n",
        "  #       ylabel=\"Assignments Subission Time\",\n",
        "  #       title=\"Assignments Time Submission Trend / Month\")\n",
        "\n",
        "  fig.autofmt_xdate(rotation=45)\n",
        "#-----------------------------------------------------------------------\n",
        " \n",
        "  # ax[0].grid()\n",
        "  # ax[0,1].grid()\n",
        "  # ax[1,0].grid()\n",
        "  # ax[1,1].xaxis.set_major_formatter(DateFormatter(\"%Y-%b\"))\n",
        "  ax[0].xaxis.set_major_formatter(DateFormatter(\"%Y-%b\"))\n",
        "\n",
        "  #---------------------------------------\n",
        "  # ax[0].legend()\n",
        "  # ax4.legend()\n",
        "  # ax[0,1].legend()\n",
        "      \n",
        "  plt.show()"
      ],
      "execution_count": null,
      "outputs": []
    },
    {
      "cell_type": "code",
      "metadata": {
        "id": "CPn35aQf4WBw"
      },
      "source": [
        "def plot_std_Data(st, cs, status=False):\n",
        "  course.options = std_d[st]\n",
        "  plt.rcParams.update({'font.size': 25})\n",
        "  \n",
        "\n",
        "  #  subplots   x, y  :  should be related to the number of Activity_type of current student.\n",
        "\n",
        "\n",
        "  fig, ax=plt.subplots(2, 2, figsize=(30,20) )\n",
        "  plt.subplots_adjust(top = 0.99, bottom=0.01,wspace=0.4, hspace= 0.3)\n",
        "\n",
        "  if status:\n",
        "    ref_q=dt_st.reset_index().query(f\"student_ID=='{st}' & Course_code=='{cs}' & Activity_type=='0' \").Act_submit_Time.max()\n",
        "    xq_point=[ref_q, ref_q+ timedelta(days=7)]\n",
        "    yq_point=[dt_st.loc[ref_q, \"Act_mark\"]       , predict_std.reset_index().query(f\"student_ID=='{st}'  & Course_code=='{cs}' & Activity_type=='0' \").last_mark]\n",
        "    ax[1,1].plot(xq_point , yq_point, linestyle='dashed', marker='o',\n",
        "                 markerfacecolor='blue', markersize=12)\n",
        "    # ax[1,1].axvline(x=xq_point, c='red', lw=2, alpha=0.5, ls='--')\n",
        "    \n",
        "\n",
        "    ref_a=dt_st.reset_index().query(f\"student_ID=='{st}' & Course_code=='{cs}' & Activity_type=='1' \").Act_submit_Time.max()\n",
        "    xa_point=[ref_a, ref_a+ timedelta(days=7)]\n",
        "    ya_point=[dt_st.loc[ref_a, \"Act_mark\"]       , predict_std.reset_index().query(f\"student_ID=='{st}'  & Course_code=='{cs}' & Activity_type=='0' \").last_mark]\n",
        "    ax[1,0].plot(xa_point , ya_point, linestyle='dashed', marker='o',\n",
        "                 markerfacecolor='blue', markersize=12)\n",
        "    # ax[1,0].axvline(x=xa_point, c='red', lw=2, alpha=0.5, ls='--')\n",
        "\n",
        "\n",
        "  dt_st.query(f\"Course_code=='{cs}' & student_ID=='{st}' & Activity_type=='1'\").Act_mark.plot( \n",
        "      subplots=True,marker=\"o\",    ax=ax[1,0] , color=\"brown\")\n",
        "   \n",
        "  # dt_st.query(f\"Course_code=='{cs}' & Activity_type=='1'\").Act_mark.plot( \n",
        "  #     subplots=True,marker=\"o\",    ax=ax[0, 0] , color=\"brown\")\n",
        "  \n",
        "  \n",
        "\n",
        "  dt_st.query(f\"Course_code=='{cs}' & student_ID=='{st}' & Activity_type=='0'\").Act_mark.plot( \n",
        "      subplots=True, marker=\"s\",   ax=ax[1,1] , color=\"brown\")\n",
        "\n",
        "  # add time Avg per Activity\n",
        "\n",
        "  ax4=ax[0,1].twinx()\n",
        "  dt_st.query(f\"Course_code=='{cs}' & student_ID=='{st}' & Activity_type=='1'\").Act_time.plot( \n",
        "      subplots=True, marker=\"s\",   ax=ax4 , color=\"green\")\n",
        "\n",
        "\n",
        "\n",
        "  ax3=ax[0,0].twinx()\n",
        "  dt_st.query(f\"Course_code=='{cs}' & student_ID=='{st}' & Activity_type=='0'\").Act_time.plot( subplots=True, marker=\"s\",   ax=ax3 , color=\"green\")\n",
        "\n",
        "  \n",
        "  # ---------------------------------------------------------------------\n",
        "  # Set title and labels for axes\n",
        "  ax[1,0].set(xlabel=\"Dates\",\n",
        "        ylabel=\"Assignments Mark\",\n",
        "        title=\" Assignement Mark Trend / Month Timeline\")\n",
        "  fig.autofmt_xdate(rotation=45)\n",
        "\n",
        "  ax[1,0].xaxis.set_major_formatter(DateFormatter(\"%Y-%b\"))\n",
        "  \n",
        "# ----------------------------------------------------------------------\n",
        "  ax[1,1].set(xlabel=\"Dates\",\n",
        "        ylabel=\"Quizzes Marks\",\n",
        "        title=\" Quizzes Marks Trend / Month Timeline\")\n",
        "  ax4.set(\n",
        "        ylabel=\"Quizz Mark\"\n",
        "        )\n",
        "  ax4.grid()\n",
        "  ax4.legend()\n",
        "  \n",
        "  # ---------------------------------------------------------------------\n",
        "  ax[0,1].set(ylabel=\"Quizzes Submission time \",\n",
        "        title= \"Quizzes Time Submission Trend / Month\")\n",
        "  # ----------------------------------------------------------------\n",
        "  ax[0,0].set(xlabel=\"Dates\",\n",
        "        ylabel=\"Assignments Subission Time\",\n",
        "        title=\"Assignments Time Submission Trend / Month\")\n",
        "\n",
        "  fig.autofmt_xdate(rotation=45)\n",
        "#-----------------------------------------------------------------------\n",
        "  ax[1,0].grid()\n",
        "  ax[1,1].grid()\n",
        "  ax[0,0].grid()\n",
        "  ax[0,1].xaxis.set_major_formatter(DateFormatter(\"%Y-%b\"))\n",
        "  ax[0,0].xaxis.set_major_formatter(DateFormatter(\"%Y-%b\"))\n",
        "\n",
        "  #---------------------------------------\n",
        "  ax[1,0].legend()\n",
        "  ax3.legend()\n",
        "  ax[1,1].legend()\n",
        "      \n",
        "  plt.show()\n",
        "  "
      ],
      "execution_count": null,
      "outputs": []
    },
    {
      "cell_type": "code",
      "metadata": {
        "id": "cIuiybpVJ7Oh"
      },
      "source": [
        "@interact(st = stID, cs = course, chkbx= box)\n",
        "def plot_data( st, cs, chkbx):\n",
        "  print(((chkbx)+0))\n",
        "  \n",
        "  # print(predict_std.reset_index().query(f\"Course_code=='{cs}' & student_ID=='{st}'\"))\n",
        "  plot_std_Data(st, cs, ((chkbx)+0))"
      ],
      "execution_count": null,
      "outputs": []
    },
    {
      "cell_type": "code",
      "metadata": {
        "id": "IerlcN02TTl-"
      },
      "source": [
        "# xs@interact(st = stID, cs = course)\n",
        "# def plot_data( st, cs):xs\n",
        "#   plot_std_Data(st, cs)"
      ],
      "execution_count": null,
      "outputs": []
    },
    {
      "cell_type": "code",
      "metadata": {
        "id": "NxnVyBEQq3uK"
      },
      "source": [
        "@interact(st = stID, cs = course)\n",
        "def plot_data( st, cs):\n",
        "  # print(predict_std.reset_index().query(f\"Course_code=='{cs}' & student_ID=='{st}'\"))\n",
        "  plot_std_Data(st, cs)"
      ],
      "execution_count": null,
      "outputs": []
    },
    {
      "cell_type": "markdown",
      "metadata": {
        "id": "f5tBct2XZDWe"
      },
      "source": [
        "## Compare the selected student's achievments with his colleagues (( box plot ))"
      ]
    },
    {
      "cell_type": "code",
      "metadata": {
        "id": "ambNA7NTw21l"
      },
      "source": [
        "# For the Boxplot plt.boxplot(df_avt.query(\"Activity_id=='g5_3-Act_10'\").Act_mark)"
      ],
      "execution_count": null,
      "outputs": []
    },
    {
      "cell_type": "code",
      "metadata": {
        "id": "d864KxliDd7i"
      },
      "source": [
        "dt_st.sample()"
      ],
      "execution_count": null,
      "outputs": []
    },
    {
      "cell_type": "code",
      "metadata": {
        "id": "8BGUr1VA9PDo"
      },
      "source": [
        "fig, ax=plt.subplots(figsize=(10,10) )\n",
        "ax.plot(\n",
        "    dt_st.reset_index().query(f\"student_ID=='080646195S' & Course_code=='g8_1' & Activity_type=='0' \").Act_submit_Time.max() + timedelta(days=7) , \n",
        "    predict_std.reset_index().query(f\"student_ID=='080646195S'  & Course_code=='g8_1' & Activity_type=='0' \").last_mark\n",
        "       , marker=\"o\" )\n",
        "ax.plot(\n",
        "    dt_st.reset_index().query(f\"student_ID=='080646195S' & Course_code=='g8_1' & Activity_type=='0' \").Act_submit_Time.max() + timedelta(days=14) , \n",
        "    predict_std.reset_index().query(f\"student_ID=='080646195S'  & Course_code=='g8_1' & Activity_type=='0' \").last_mark+1.5\n",
        "       , marker=\"o\" )"
      ],
      "execution_count": null,
      "outputs": []
    },
    {
      "cell_type": "code",
      "metadata": {
        "id": "xvnbeMjcGKsT"
      },
      "source": [
        "ref= dt_st.reset_index().query(f\"student_ID=='101235516S' & Course_code=='g5_3' & Activity_type=='0' \").Act_submit_Time.max()\n",
        "dt_st.loc[ref, \"Act_mark\"]\n"
      ],
      "execution_count": null,
      "outputs": []
    },
    {
      "cell_type": "code",
      "metadata": {
        "id": "4ttZK_dLGvxK"
      },
      "source": [
        "dt_st.reset_index().query(f\"student_ID=='101235516S' & Course_code=='g5_3' & Activity_type=='0' \")"
      ],
      "execution_count": null,
      "outputs": []
    },
    {
      "cell_type": "code",
      "metadata": {
        "id": "KmoeE2qmIuRS"
      },
      "source": [
        "plt.boxplot(df_avt.query(\"Activity_id=='g5_3-Act_12'\")[\"Act_mark\"])"
      ],
      "execution_count": null,
      "outputs": []
    },
    {
      "cell_type": "code",
      "metadata": {
        "id": "QfCYJyt_cyCA"
      },
      "source": [
        "plt.boxplot(df_avt.query(\"student_ID=='090888097S' & Course_code=='g8_1' & Activity_type=='0'\").Act_mark)"
      ],
      "execution_count": null,
      "outputs": []
    },
    {
      "cell_type": "code",
      "metadata": {
        "id": "DfcbUREY2cDU"
      },
      "source": [
        "df_avt.index= df_avt.Act_submit_Time"
      ],
      "execution_count": null,
      "outputs": []
    },
    {
      "cell_type": "markdown",
      "metadata": {
        "id": "riEnovF6Zlby"
      },
      "source": [
        "## Graph all the students achievment in a specific subject"
      ]
    },
    {
      "cell_type": "code",
      "metadata": {
        "id": "sb-TQNS9zFAc"
      },
      "source": [
        "#  Create  the index\n",
        "# df_avt[\"Act_submit_Time\"]= pd.to_datetime(df_avt.Act_submit_Time)\n",
        "df_avt.index=df_avt[\"Act_submit_Time\"]\n",
        "df_avt.sample()"
      ],
      "execution_count": null,
      "outputs": []
    },
    {
      "cell_type": "code",
      "metadata": {
        "id": "CvhqA2fj799L"
      },
      "source": [
        "import plotly.graph_objs as go\n",
        "\n",
        "@interact(sbj=df_avt.Course_code.unique())\n",
        "def plot_subject(sbj):\n",
        "  plt.rcParams.update({'font.size': 25})\n",
        "  x = np.arange(10)\n",
        "  layout = go.Layout(\n",
        "    autosize=False,\n",
        "    width= 1200 , height= 600 )\n",
        "  fig=go.Figure(layout=layout)\n",
        "\n",
        "  fig.add_trace(go.Scatter(      \n",
        "      x=df_avt[(df_avt.Course_code==sbj)&(\n",
        "          df_avt.Activity_type==\"0\")].loc[\"2020-09\":\"2021-09\", \"Act_submit_Time\"].sort_index(), \n",
        "      y=df_avt[(df_avt.Course_code==sbj)&(\n",
        "          df_avt.Activity_type==\"0\")].loc[\"2020-09\":\"2021-09\", \"Act_mark\"].sort_index()\n",
        "      , mode='lines+markers', name=\"Quiz\"))\n",
        "\n",
        "  fig.add_trace(go.Scatter(\n",
        "      x=df_avt[(df_avt.Course_code==sbj)&(\n",
        "          df_avt.Activity_type==\"1\")].loc[\"2020-09\":\"2021-09\", \"Act_submit_Time\"].sort_index(), \n",
        "      y=df_avt[(df_avt.Course_code==sbj)&(\n",
        "          df_avt.Activity_type==\"1\")].loc[\"2020-09\":\"2021-09\", \"Act_mark\"].sort_index()\n",
        "     , mode='lines+markers' ,  name=\"Assignment\"))\n",
        "\n",
        "\n",
        "\n",
        "  \n",
        "  fig.update_layout(hovermode=\"x\" , \n",
        "      # title=\"أداء جميع الطلبة في مادة معينة\",\n",
        "    xaxis_title=\"Submit Time\",\n",
        "    yaxis_title=\"Mark\",\n",
        "    # font=dict(import plotly.graph_objs as go\n",
        "\n",
        "    #     family=\"Courier New, monospace\",\n",
        "    #     size=18,\n",
        "    #     color=\"#7f7f7f\")\n",
        "     title={\n",
        "        'text': \"أداء جميع الطلبة في مادة معينة\",\n",
        "        'y':0.9,\n",
        "        'x':0.5,\n",
        "        'xanchor': 'center',\n",
        "        'yanchor': 'top'}) \n",
        "  fig.show()\n"
      ],
      "execution_count": null,
      "outputs": []
    },
    {
      "cell_type": "markdown",
      "metadata": {
        "id": "38vV0zLxkgSz"
      },
      "source": [
        "## Compare the selected student's Quiz and Assignm. with Average of all students"
      ]
    },
    {
      "cell_type": "code",
      "metadata": {
        "id": "HVU60nESl4cH"
      },
      "source": [
        "df_ActAv=pd.pivot_table(df_avt, index=[\"Course_code\", \"Activity_type\", \"Activity_id\"], \n",
        "               values=[\"Act_diff\", \t\"Act_cp_count\", \t\"Act_time\" , \t\"Act_mark\"] , aggfunc=(\"mean\")).rename(\n",
        "   columns={\n",
        "    \"Act_diff\": \"Act_diff_avg\", \t\n",
        "    \"Act_cp_count\": \"Act_cp_avg\", \t\n",
        "    \"Act_time\" : \"Act_time_avg\" , \t\n",
        "    \"Act_mark\" : \"Act_mark_avg\" \n",
        "   } \n",
        ")"
      ],
      "execution_count": null,
      "outputs": []
    },
    {
      "cell_type": "code",
      "metadata": {
        "id": "bPqBYMoZFIHY"
      },
      "source": [
        "df_ActAv.head()"
      ],
      "execution_count": null,
      "outputs": []
    },
    {
      "cell_type": "code",
      "metadata": {
        "id": "JaQConHkrLZ2"
      },
      "source": [
        "df_ActAv.shape"
      ],
      "execution_count": null,
      "outputs": []
    },
    {
      "cell_type": "code",
      "metadata": {
        "id": "rgyE9emkgyDY"
      },
      "source": [
        "df_avt.loc[\"2020-09\"].head()"
      ],
      "execution_count": null,
      "outputs": []
    },
    {
      "cell_type": "code",
      "metadata": {
        "id": "7QUyR3Bj4xp5"
      },
      "source": [
        "df_avt.groupby([\"student_ID\", \"Activity_type\"]).agg(\"count\").max()"
      ],
      "execution_count": null,
      "outputs": []
    },
    {
      "cell_type": "code",
      "metadata": {
        "id": "cnbhHR126cEn"
      },
      "source": [
        "df_avt[df_avt.student_ID==\"080237875\"].loc[: ,[\"Course_code\", \"Activity_type\" , \"Activity_id\", \"Act_diff\", \t\"Act_cp_count\", \t\"Act_time\"\t,\"Act_mark\"]]"
      ],
      "execution_count": null,
      "outputs": []
    },
    {
      "cell_type": "code",
      "metadata": {
        "id": "1ttA46uHigbZ"
      },
      "source": [
        "df_plt=df_avt[df_avt.student_ID==\"100611764\"].loc[\"2020-4\":\"2021-2\" ,[\"Course_code\", \"Activity_type\" , \"Activity_id\", \"Act_diff\", \t\"Act_cp_count\", \t\"Act_time\"\t,\"Act_mark\"]]"
      ],
      "execution_count": null,
      "outputs": []
    },
    {
      "cell_type": "code",
      "metadata": {
        "id": "nw57VIPVYcWg"
      },
      "source": [
        "df_plt.groupby(\"Course_code\").Activity_id.agg(\"count\")"
      ],
      "execution_count": null,
      "outputs": []
    },
    {
      "cell_type": "code",
      "metadata": {
        "id": "jWCFQ0JQsVaA"
      },
      "source": [
        "df_plt.reset_index(inplace=True)"
      ],
      "execution_count": null,
      "outputs": []
    },
    {
      "cell_type": "code",
      "metadata": {
        "id": "9N6UkyhfiSdJ"
      },
      "source": [
        "df_plt=df_plt.merge( df_ActAv, on=[\"Activity_type\", \"Activity_id\" ])"
      ],
      "execution_count": null,
      "outputs": []
    },
    {
      "cell_type": "code",
      "metadata": {
        "id": "w8_8WpampUuy"
      },
      "source": [
        "df_plt.keys()"
      ],
      "execution_count": null,
      "outputs": []
    },
    {
      "cell_type": "code",
      "metadata": {
        "id": "Vpe522sppPKs"
      },
      "source": [
        "df_plt.set_index(\"Act_submit_Time\", inplace=True)"
      ],
      "execution_count": null,
      "outputs": []
    },
    {
      "cell_type": "code",
      "metadata": {
        "id": "nRUOMSNAr6E0"
      },
      "source": [
        "# this is dataset for a particular Student.\n",
        "df_plt.head()"
      ],
      "execution_count": null,
      "outputs": []
    },
    {
      "cell_type": "code",
      "metadata": {
        "id": "MIY4x-CcyJHn"
      },
      "source": [
        "df_plt[\"Activity_type\"]=df_plt.Activity_type.astype(int)  "
      ],
      "execution_count": null,
      "outputs": []
    },
    {
      "cell_type": "code",
      "metadata": {
        "id": "uvwt7ut-Husi"
      },
      "source": [
        "df_plt[df_plt.Activity_type==0][\"Act_mark\"]"
      ],
      "execution_count": null,
      "outputs": []
    },
    {
      "cell_type": "code",
      "metadata": {
        "id": "urTWLsB5ySr9"
      },
      "source": [
        "df_plt.info()"
      ],
      "execution_count": null,
      "outputs": []
    },
    {
      "cell_type": "code",
      "metadata": {
        "id": "t4WMII75PQu5"
      },
      "source": [
        "df_plt[df_plt.Activity_type==1][\"Act_mark\"]"
      ],
      "execution_count": null,
      "outputs": []
    },
    {
      "cell_type": "code",
      "metadata": {
        "id": "yKylbH4JgWHn"
      },
      "source": [
        "import matplotlib.pyplot as plt\n",
        "from matplotlib.dates import DateFormatter\n",
        "import seaborn as sns"
      ],
      "execution_count": null,
      "outputs": []
    },
    {
      "cell_type": "code",
      "metadata": {
        "id": "M-prVAb6VvY9"
      },
      "source": [
        "plt.rcParams.update({'font.size': 22})\n",
        "fig = plt.figure(figsize=(18,8))\n",
        "ax1 = fig.add_subplot(111)\n",
        "\n",
        "df_plt[df_plt.Activity_type==0][\"Act_mark\"].sort_index().plot( marker=\"o\" , color=\"blue\", label=\"Assignements Mark\", ax=ax1)\n",
        "ax2=ax1.twinx()\n",
        "df_plt[df_plt.Activity_type==0][\"Act_mark_avg\"].sort_index().plot( ax=ax2, marker=\"s\" , color=\"green\", label=\"Average Assignement Marks\" )\n",
        "\n",
        "#plt.legend()\n",
        "ax1.legend()\n",
        "ax2.legend(loc=\"lower right\")\n",
        "ax1.grid()\n",
        "ax2.set_ylabel(\"Assign. Avg. Mark\")\n",
        "ax1.set_ylabel(\"Assign. Mark\")\n",
        "\n",
        "\n",
        "\n",
        "\n",
        "ax1.set(xlabel=\"Dates\",\n",
        "        #ylabel=\"Quizzes Marks\",\n",
        "        title=\"Assign. Mark VS Assign. Avg Mark Timeline\"        )\n",
        "fig.autofmt_xdate(rotation=45)"
      ],
      "execution_count": null,
      "outputs": []
    },
    {
      "cell_type": "code",
      "metadata": {
        "id": "Yd1bmUf1HPwx"
      },
      "source": [
        "#####  TRY TO PLOT IT IN ATRACTIVE WAY"
      ],
      "execution_count": null,
      "outputs": []
    },
    {
      "cell_type": "code",
      "metadata": {
        "id": "OgYDu4wlHQM2"
      },
      "source": [
        "import plotly.graph_objs as go\n",
        "@interact(sbj=df_avt.Course_code.unique())\n",
        "def plot_subject(sbj):\n",
        "  plt.rcParams.update({'font.size': 25})\n",
        "  x = np.arange(10)\n",
        "  layout = go.Layout(\n",
        "    autosize=False,\n",
        "    width= 1200 , height= 600 )\n",
        "  fig=go.Figure(layout=layout)\n",
        "\n",
        "  fig.add_trace(go.Scatter(      \n",
        "      x=df_plt[(df_plt.Course_code==sbj)&(\n",
        "          df_plt.Activity_type==\"0\")].loc[\"2020-09\":\"2021-09\", \"Act_time\"].sort_index(), \n",
        "      y=df_plt[(df_plt.Course_code==sbj)&(\n",
        "          df_plt.Activity_type==\"0\")].loc[\"2020-09\":\"2021-09\", \"Act_mark\"].sort_index()\n",
        "      , mode='lines+markers', name=\"Quiz\"))\n",
        "\n",
        "\n",
        "\n",
        "  # fig.add_trace(go.Scatter(      \n",
        "  #     x=df_plt[(df_plt.Course_code==sbj)&(\n",
        "  #         df_plt.Activity_type==\"1\")].loc[\"2020-09\":\"2021-09\", \"Act_submit_Time\"].sort_index(), \n",
        "  #     y=df_plt[(df_plt.Course_code==sbj)&(\n",
        "  #         df_plt.Activity_type==\"1\")].loc[\"2020-09\":\"2021-09\", \"Act_mark\"].sort_index()\n",
        "  #     , mode='lines+markers', name=\"Assignment\"))\n",
        "\n",
        "\n",
        "\n",
        "\n",
        "  \n",
        "  fig.update_layout(hovermode=\"x\" , \n",
        "      # title=\"أداء جميع الطلبة في مادة معينة\",\n",
        "    xaxis_title=\"Submit Time\",\n",
        "    yaxis_title=\"Mark\",\n",
        "    # font=dict(\n",
        "    #     family=\"Courier New, monospace\",\n",
        "    #     size=18,\n",
        "    #     color=\"#7f7f7f\")\n",
        "     title={\n",
        "        'text': \"أداء جميع الطلبة في مادة معينة\",\n",
        "        'y':0.9,\n",
        "        'x':0.5,\n",
        "        'xanchor': 'center',\n",
        "        'yanchor': 'top'}) \n",
        "  fig.show()\n"
      ],
      "execution_count": null,
      "outputs": []
    },
    {
      "cell_type": "markdown",
      "metadata": {
        "id": "0CXKXa9h8DwK"
      },
      "source": [
        "## Graph the predicted mark of a specific student"
      ]
    },
    {
      "cell_type": "code",
      "metadata": {
        "id": "JnDE5heA4N2C"
      },
      "source": [
        "#  NUmber of Assignments is less then Quizzes\n",
        "@interact(st = stID, cs = course)\n",
        "def plot_data( st, cs):\n",
        "  # print(predict_std.reset_index().query(f\"Course_code=='{cs}' & student_ID=='{st}'\"))\n",
        "  \n",
        "  plot_std_Data(st, cs, True )"
      ],
      "execution_count": null,
      "outputs": []
    },
    {
      "cell_type": "code",
      "metadata": {
        "id": "vY5INdj4pbvr"
      },
      "source": [
        ""
      ],
      "execution_count": null,
      "outputs": []
    },
    {
      "cell_type": "code",
      "metadata": {
        "id": "ofcSDJQn91m3"
      },
      "source": [
        ""
      ],
      "execution_count": null,
      "outputs": []
    },
    {
      "cell_type": "code",
      "metadata": {
        "id": "K4e0DOLC91uw"
      },
      "source": [
        "a=df_avt.Activity_id.unique()"
      ],
      "execution_count": null,
      "outputs": []
    },
    {
      "cell_type": "code",
      "metadata": {
        "id": "FpDUGaPI91yh"
      },
      "source": [
        "b= dt_st[dt_st.student_ID==\"070368745S\"][\"Activity_id\"].unique()"
      ],
      "execution_count": null,
      "outputs": []
    },
    {
      "cell_type": "code",
      "metadata": {
        "id": "IJ64Qb5iG36a"
      },
      "source": [
        "b"
      ],
      "execution_count": null,
      "outputs": []
    },
    {
      "cell_type": "code",
      "metadata": {
        "id": "PNySYt23KKcj"
      },
      "source": [
        "c=df_avt.loc[df_avt['Activity_id'] == b]"
      ],
      "execution_count": null,
      "outputs": []
    },
    {
      "cell_type": "code",
      "metadata": {
        "id": "S9lKyzFM912A"
      },
      "source": [
        "import pandas as pd\n",
        "import numpy as np\n",
        "import matplotlib.pyplot as plt\n",
        "import seaborn as sns\n",
        "\n",
        "dfx=pd.DataFrame({'S':np.random.randint(10,100,9)*10,'C': \n",
        "['X','X','X','Y','Y','Y','Z','Z','Z']})\n",
        "\n",
        "fig,ax=plt.subplots()\n",
        "mx=dfx.groupby('C')['S'].median()\n",
        "sns.boxplot(y='S',x='C',data=dfx,ax=ax)\n",
        "sns.lineplot(y=mx.values,x=mx.index,ax=ax)\n",
        "plt.show()"
      ],
      "execution_count": null,
      "outputs": []
    },
    {
      "cell_type": "code",
      "metadata": {
        "id": "BinehQBV915M"
      },
      "source": [
        ""
      ],
      "execution_count": null,
      "outputs": []
    },
    {
      "cell_type": "code",
      "metadata": {
        "id": "9ftRaEsD918a"
      },
      "source": [
        ""
      ],
      "execution_count": null,
      "outputs": []
    },
    {
      "cell_type": "code",
      "metadata": {
        "id": "6oAvpPkA91_Y"
      },
      "source": [
        ""
      ],
      "execution_count": null,
      "outputs": []
    },
    {
      "cell_type": "markdown",
      "metadata": {
        "id": "85tpcOGfnqOV"
      },
      "source": [
        "## Recommendation \n",
        "\n"
      ]
    },
    {
      "cell_type": "code",
      "metadata": {
        "id": "sLsIHQ_kwE-J"
      },
      "source": [
        "dt_st.head()"
      ],
      "execution_count": null,
      "outputs": []
    },
    {
      "cell_type": "code",
      "metadata": {
        "id": "z1pAKy7UwE1q"
      },
      "source": [
        "target_st = dt_st[[\"student_ID\",\t\"Course_code\",\t\"Activity_id\"]].query(\"student_ID=='100222464S' \")"
      ],
      "execution_count": null,
      "outputs": []
    },
    {
      "cell_type": "code",
      "metadata": {
        "id": "516Vre4EwEtp"
      },
      "source": [
        "target_st.Activity_id.unique()"
      ],
      "execution_count": null,
      "outputs": []
    },
    {
      "cell_type": "code",
      "metadata": {
        "id": "ILchXJZR0NCs"
      },
      "source": [
        "target_st.drop_duplicates(subset=[\"Course_code\"], keep=\"last\", inplace=True)"
      ],
      "execution_count": null,
      "outputs": []
    },
    {
      "cell_type": "code",
      "metadata": {
        "id": "7A5dbm800kDc"
      },
      "source": [
        "target_st"
      ],
      "execution_count": null,
      "outputs": []
    },
    {
      "cell_type": "code",
      "metadata": {
        "id": "vjwueRKb-XV2"
      },
      "source": [
        "def recommend( c, a, q, sb, lob):\n",
        "  return {\n",
        "          #\"student_ID\": i ,\n",
        "          \"Course_code\":c,  \n",
        "          \"Activity_id\": a,\n",
        "                    \n",
        "\n",
        "        \"q_id\": q,\n",
        "        \"subcp_id\":sb, \n",
        "        \"lob_id\": lob,\n",
        "      }"
      ],
      "execution_count": null,
      "outputs": []
    },
    {
      "cell_type": "code",
      "metadata": {
        "id": "q2mNDoaUvwTD"
      },
      "source": [
        "[  f\"{id} the color {col} id encoded  ans {code}\"  for id,  code, col in  zip([1, 2, 3], [\"#0000FF\", \"#ccaaFF\", \"#77aabb\"], [\"Blue\", \"Yellow\", \"Magenta\"])]"
      ],
      "execution_count": null,
      "outputs": []
    },
    {
      "cell_type": "code",
      "metadata": {
        "id": "KXq3cRj50_IM"
      },
      "source": [
        "for  course , act in zip(target_st.Course_code , target_st.Activity_id):\n",
        "  print( course + \" \" +   act)"
      ],
      "execution_count": null,
      "outputs": []
    },
    {
      "cell_type": "code",
      "metadata": {
        "id": "wxE_-qRt2ptf"
      },
      "source": [
        "lst=[]\n",
        "#std_array= dt_st.student_ID\n",
        "std_course= dt_st.query(\"student_ID=='100222464S'\").Course_code.unique()\n",
        "std_act= dt_st.query(\"student_ID=='100222464S'\").Activity_id.unique()\n",
        "\n",
        "for  course , act in zip(target_st.Course_code , target_st.Activity_id):# c in df_avt.Course_code.unique():\n",
        "  for Q in range(int(4*np.random.rand()+2)):\n",
        "      for subcp in range(int(3*np.random.rand()+2)):\n",
        "        for lob  in range(int(6*np.random.rand()+2)):\n",
        "          lst.append(recommend(course, act, f\"Q_{Q}\", f\"subcp_{subcp}\", f\"lob_{lob}\" ))\n",
        "               \n",
        "target_st=pd.DataFrame(lst)"
      ],
      "execution_count": null,
      "outputs": []
    },
    {
      "cell_type": "code",
      "metadata": {
        "id": "ZPi0Z_Tr2pqd"
      },
      "source": [
        "target_st.query(\"Course_code=='g5_2'\").lob_id.sample(5).unique()"
      ],
      "execution_count": null,
      "outputs": []
    },
    {
      "cell_type": "code",
      "metadata": {
        "id": "PZMyqp0o2pmS"
      },
      "source": [
        ""
      ],
      "execution_count": null,
      "outputs": []
    },
    {
      "cell_type": "code",
      "metadata": {
        "id": "jgipE_S22piz"
      },
      "source": [
        ""
      ],
      "execution_count": null,
      "outputs": []
    },
    {
      "cell_type": "code",
      "metadata": {
        "id": "DsMCN0fjfejG"
      },
      "source": [
        ""
      ],
      "execution_count": null,
      "outputs": []
    },
    {
      "cell_type": "code",
      "metadata": {
        "id": "-xziun4AffJ5"
      },
      "source": [
        "def dataJson(c, act):\n",
        "  return {\n",
        "          \"Course_code\":c,  \n",
        "          \"Activity_id\": act,\n",
        "          \n",
        "          \n",
        "\n",
        "        # \"subcp_id\": random.choice([ \"sub_\"+str(k) for k in range(1,4)]), \n",
        "        # \"lob_id\": random.choice([ \"lob_\"+str(k) for k in range(1,50)]),\n",
        "        # \"cp_id\":  random.choice([ \"cp_\"+str(k) for k in range(1,9)])\n",
        "      }"
      ],
      "execution_count": null,
      "outputs": []
    },
    {
      "cell_type": "code",
      "metadata": {
        "id": "akZg9nshfegp"
      },
      "source": [
        ""
      ],
      "execution_count": null,
      "outputs": []
    },
    {
      "cell_type": "code",
      "metadata": {
        "id": "vntvjozRfiLl"
      },
      "source": [
        "from random_timestamp import random_timestamp\n",
        "lst=[]\n",
        "std_course= dt_st.Course_code\n",
        "std_act= dt_st.Activity_id\n",
        "\n",
        "for  course, i in zip(std_course , std_act):# c in df_avt.Course_code.unique():\n",
        "  for n in i:\n",
        "    for j in [f\"q_{act}\"  for act in range(10,19)]: #range (1, int((2*np.random.rand()+8))):\n",
        "      lst.append(data( course , n))\n",
        "    \n",
        "     \n",
        "n=pd.DataFrame(lst)"
      ],
      "execution_count": null,
      "outputs": []
    },
    {
      "cell_type": "code",
      "metadata": {
        "id": "yANmXAOvwD1u"
      },
      "source": [
        "###########    OLD VERSION     #############"
      ],
      "execution_count": null,
      "outputs": []
    },
    {
      "cell_type": "code",
      "metadata": {
        "id": "tNyaEbhixHpP"
      },
      "source": [
        "df_avt.head()"
      ],
      "execution_count": null,
      "outputs": []
    },
    {
      "cell_type": "code",
      "metadata": {
        "id": "4E5ea_sfxPpV"
      },
      "source": [
        "df_avt = df_avt.reset_index()"
      ],
      "execution_count": null,
      "outputs": []
    },
    {
      "cell_type": "code",
      "metadata": {
        "id": "FYApZ4Y-iAXw"
      },
      "source": [
        "df_avt = df_avt.drop(['Act_submit_Time'], axis = 1)"
      ],
      "execution_count": null,
      "outputs": []
    },
    {
      "cell_type": "code",
      "metadata": {
        "id": "Ldxq8iQk4dDp"
      },
      "source": [
        "questions = pd.DataFrame()"
      ],
      "execution_count": null,
      "outputs": []
    },
    {
      "cell_type": "code",
      "metadata": {
        "id": "yFzgyfDKollV"
      },
      "source": [
        "questions[\"Activity_id\"] = df_avt[\"Activity_id\"]\n",
        "questions[\"Activity_type\"] = df_avt[\"Activity_type\"]"
      ],
      "execution_count": null,
      "outputs": []
    },
    {
      "cell_type": "code",
      "metadata": {
        "id": "oMc8ptnrwENV"
      },
      "source": [
        "questions.head()"
      ],
      "execution_count": null,
      "outputs": []
    },
    {
      "cell_type": "code",
      "metadata": {
        "id": "x9EOsg1t58Lb"
      },
      "source": [
        "#questions = questions.reset_index()"
      ],
      "execution_count": null,
      "outputs": []
    },
    {
      "cell_type": "code",
      "metadata": {
        "id": "jwtAKjvi6MHo"
      },
      "source": [
        "#questions = questions.drop(['Act_submit_Time'], axis = 1)"
      ],
      "execution_count": null,
      "outputs": []
    },
    {
      "cell_type": "code",
      "metadata": {
        "id": "9fyRmSU5c38Z"
      },
      "source": [
        "#questions.head()"
      ],
      "execution_count": null,
      "outputs": []
    },
    {
      "cell_type": "code",
      "metadata": {
        "id": "usQSDzApTRYE"
      },
      "source": [
        "#### 1 Activity id shold hold ( from 5 to 10 questions)\n",
        "\n",
        "questions['quest_id'] = np.random.randint(1, 1001, questions.shape[0])\n",
        "#questions['quest_id'] =random.choice( [\"q_\"+str(j) for j in range(1,1001)] , questions.shape[0] )"
      ],
      "execution_count": null,
      "outputs": []
    },
    {
      "cell_type": "code",
      "metadata": {
        "id": "Wz1gscWiTRbp"
      },
      "source": [
        "questions.head()"
      ],
      "execution_count": null,
      "outputs": []
    },
    {
      "cell_type": "code",
      "metadata": {
        "id": "CZPpm6JzTRet"
      },
      "source": [
        "questions.shape"
      ],
      "execution_count": null,
      "outputs": []
    },
    {
      "cell_type": "code",
      "metadata": {
        "id": "cohK8tU0TRi2"
      },
      "source": [
        "cp_for_quest = pd.DataFrame()"
      ],
      "execution_count": null,
      "outputs": []
    },
    {
      "cell_type": "code",
      "metadata": {
        "id": "H6GhFrsGTRkf"
      },
      "source": [
        "cp_for_quest[\"quest_id\"] = questions[\"quest_id\"]"
      ],
      "execution_count": null,
      "outputs": []
    },
    {
      "cell_type": "code",
      "metadata": {
        "id": "G8F01hNzWtl-"
      },
      "source": [
        "cp_for_quest.head()"
      ],
      "execution_count": null,
      "outputs": []
    },
    {
      "cell_type": "code",
      "metadata": {
        "id": "TGYUIqoEWto-"
      },
      "source": [
        "####### 1 question id should hold between ( 1 to 3 sub cps)\n",
        "\n",
        "cp_for_quest['sub_cp_id'] = np.random.randint(1, 4501, cp_for_quest.shape[0])  ##### estimated 4500 sub cp in all subjects"
      ],
      "execution_count": null,
      "outputs": []
    },
    {
      "cell_type": "code",
      "metadata": {
        "id": "G0-kijs0WtsA"
      },
      "source": [
        "cp_for_quest.head()"
      ],
      "execution_count": null,
      "outputs": []
    },
    {
      "cell_type": "code",
      "metadata": {
        "id": "I4cBc5skWtvM"
      },
      "source": [
        "####  1 cp should hold 1 to 3 sub_cps  ( each sub_cp   should match 1 learning object // doc - video .....)\n",
        "\n",
        "sub_cp = pd.DataFrame()"
      ],
      "execution_count": null,
      "outputs": []
    },
    {
      "cell_type": "code",
      "metadata": {
        "id": "At6y-cTsb7Aq"
      },
      "source": [
        "sub_cp['cp_id'] = np.random.randint(1, 1501, cp_for_quest.shape[0])   ##### estimated 1500 cp in all subjects"
      ],
      "execution_count": null,
      "outputs": []
    },
    {
      "cell_type": "code",
      "metadata": {
        "id": "pjRCyzFiWtxk"
      },
      "source": [
        "sub_cp['sub_cp_id'] = cp_for_quest['sub_cp_id'] "
      ],
      "execution_count": null,
      "outputs": []
    },
    {
      "cell_type": "code",
      "metadata": {
        "id": "RsuaGCzDb7G9"
      },
      "source": [
        "sub_cp['lo_id'] = np.random.randint(1, 5001, cp_for_quest.shape[0])  ##### estimated 5000 learning object in all subjects"
      ],
      "execution_count": null,
      "outputs": []
    },
    {
      "cell_type": "code",
      "metadata": {
        "id": "zYnq9H8zb7Dx"
      },
      "source": [
        "sub_cp.head()"
      ],
      "execution_count": null,
      "outputs": []
    },
    {
      "cell_type": "code",
      "metadata": {
        "id": "Y1ujF1wD0IRK"
      },
      "source": [
        ""
      ],
      "execution_count": null,
      "outputs": []
    },
    {
      "cell_type": "markdown",
      "metadata": {
        "id": "XSERu6kPmNk6"
      },
      "source": [
        "### Export to HTML"
      ]
    },
    {
      "cell_type": "markdown",
      "metadata": {
        "id": "QGo9gyGnQ2n1"
      },
      "source": [
        "## Export_graph_to_HTML"
      ]
    },
    {
      "cell_type": "code",
      "metadata": {
        "id": "Xvd5JyHumRPS"
      },
      "source": [
        "import plotly\n",
        "import plotly.graph_objs as go\n",
        "import pandas as pd\n",
        "df = pd.read_csv('https://raw.githubusercontent.com/pcm-dpc/COVID-19/master/dati-andamento-nazionale/dpc-covid19-ita-andamento-nazionale.csv')\n",
        "# Create a trace\n",
        "data = [go.Scatter(\n",
        "    x = df['data'],\n",
        "    y = df['totale_positivi'],\n",
        ")]\n",
        "layout = go.Layout(\n",
        "        xaxis=dict(\n",
        "            title='Data',    \n",
        "        ),\n",
        "        yaxis=dict(\n",
        "            title='Totale positivi',  \n",
        "        )\n",
        "    )\n",
        "fig = go.Figure(data=data, layout=layout)"
      ],
      "execution_count": null,
      "outputs": []
    },
    {
      "cell_type": "code",
      "metadata": {
        "id": "BRU-c4dnmSJ3"
      },
      "source": [
        "fig.show()"
      ],
      "execution_count": null,
      "outputs": []
    },
    {
      "cell_type": "code",
      "metadata": {
        "id": "lq2l3LmmqcuO"
      },
      "source": [
        "plotly.offline.plot(fig,filename='positives.html',config={'displayModeBar': False},auto_open = True)"
      ],
      "execution_count": null,
      "outputs": []
    },
    {
      "cell_type": "code",
      "metadata": {
        "id": "55nt3Bv7qzoF"
      },
      "source": [
        "#webbrowser.open('file://' + os.path.realpath(positives.html))\n",
        "\n",
        "with open('positives.html', 'r') as f:\n",
        "    html_string = f.read()"
      ],
      "execution_count": null,
      "outputs": []
    },
    {
      "cell_type": "markdown",
      "metadata": {
        "id": "qx_b8Wv5RClI"
      },
      "source": [
        "End of Try 1"
      ]
    },
    {
      "cell_type": "code",
      "metadata": {
        "id": "h-qTJ6bsuLiq"
      },
      "source": [
        ""
      ],
      "execution_count": null,
      "outputs": []
    },
    {
      "cell_type": "code",
      "metadata": {
        "id": "SRx6yYX6yNcK"
      },
      "source": [
        ""
      ],
      "execution_count": null,
      "outputs": []
    },
    {
      "cell_type": "code",
      "metadata": {
        "id": "xw2rIroDyNZE"
      },
      "source": [
        ""
      ],
      "execution_count": null,
      "outputs": []
    },
    {
      "cell_type": "code",
      "metadata": {
        "id": "mnidPTrMyNVM"
      },
      "source": [
        ""
      ],
      "execution_count": null,
      "outputs": []
    },
    {
      "cell_type": "markdown",
      "metadata": {
        "id": "77IZ4SCuRH_K"
      },
      "source": [
        "Try 2"
      ]
    },
    {
      "cell_type": "code",
      "metadata": {
        "id": "DQlJS59iyNSB"
      },
      "source": [
        "!pip install plotly\n",
        "!pip install chart_studio"
      ],
      "execution_count": null,
      "outputs": []
    },
    {
      "cell_type": "code",
      "metadata": {
        "id": "CtBmJ-uvyYpt"
      },
      "source": [
        "import plotly.express as px\n",
        "import chart_studio"
      ],
      "execution_count": null,
      "outputs": []
    },
    {
      "cell_type": "code",
      "metadata": {
        "id": "qjl5tgx-2NQd"
      },
      "source": [
        "gapminder = px.data.gapminder()\n",
        "gapminder"
      ],
      "execution_count": null,
      "outputs": []
    },
    {
      "cell_type": "code",
      "metadata": {
        "id": "ComkHHFVyNOI"
      },
      "source": [
        "gapminder = px.data.gapminder()\n",
        "fig = px.scatter(gapminder.query(\"year==2007\"), x=\"gdpPercap\", y=\"lifeExp\", size=\"pop\", color=\"continent\",\n",
        "           hover_name=\"country\", log_x=True, size_max=60)\n",
        "fig.show()"
      ],
      "execution_count": null,
      "outputs": []
    },
    {
      "cell_type": "code",
      "metadata": {
        "id": "arN111bmyO4x"
      },
      "source": [
        "username = 'Eng.aldoseri' # your username\n",
        "api_key = '7MU0wS3Gp1VOF6IqRFiw' # your api key - go to profile > settings > regenerate key\n",
        "chart_studio.tools.set_credentials_file(username=username, api_key=api_key)"
      ],
      "execution_count": null,
      "outputs": []
    },
    {
      "cell_type": "code",
      "metadata": {
        "id": "hmO9sGVD1hTO"
      },
      "source": [
        "import chart_studio.plotly as py\n",
        "py.plot(fig, filename = 'gdp_per_cap', auto_open=True)"
      ],
      "execution_count": null,
      "outputs": []
    },
    {
      "cell_type": "code",
      "metadata": {
        "id": "F5mDlrwl1l-S"
      },
      "source": [
        ""
      ],
      "execution_count": null,
      "outputs": []
    },
    {
      "cell_type": "code",
      "metadata": {
        "id": "gH7510n-2MQD"
      },
      "source": [
        ""
      ],
      "execution_count": null,
      "outputs": []
    },
    {
      "cell_type": "code",
      "metadata": {
        "id": "B61NBljf2NY0"
      },
      "source": [
        "####### implemented to our dataset"
      ],
      "execution_count": null,
      "outputs": []
    },
    {
      "cell_type": "code",
      "metadata": {
        "id": "FdtZdsbg2N5u"
      },
      "source": [
        "#gapminder = px.data.gapminder()\n",
        "fig = px.scatter(dt_st.query(\"student_ID=='080102434S'\"), x=\"Act_submit_Time\", y=\"Act_mark\",  color=\"Course_code\",size=\"Act_mark\",\n",
        "           hover_name=\"Act_mark\")\n",
        "fig.show()"
      ],
      "execution_count": null,
      "outputs": []
    },
    {
      "cell_type": "code",
      "metadata": {
        "id": "fC8TD9oSRxna"
      },
      "source": [
        "username = 'Eng.aldoseri' # your username\n",
        "api_key = '7MU0wS3Gp1VOF6IqRFiw' # your api key - go to profile > settings > regenerate key\n",
        "chart_studio.tools.set_credentials_file(username=username, api_key=api_key)"
      ],
      "execution_count": null,
      "outputs": []
    },
    {
      "cell_type": "code",
      "metadata": {
        "id": "PE6PKJ7hR01y"
      },
      "source": [
        "import chart_studio.plotly as py\n",
        "py.plot(fig, filename = 'gdp_per_cap', auto_open=True)"
      ],
      "execution_count": null,
      "outputs": []
    },
    {
      "cell_type": "markdown",
      "metadata": {
        "id": "qXE7hPBHR2ai"
      },
      "source": [
        "End of Try 2"
      ]
    },
    {
      "cell_type": "code",
      "metadata": {
        "id": "92lp5ijFEejo"
      },
      "source": [
        ""
      ],
      "execution_count": null,
      "outputs": []
    },
    {
      "cell_type": "code",
      "metadata": {
        "id": "MQm0vpXsTKp_"
      },
      "source": [
        ""
      ],
      "execution_count": null,
      "outputs": []
    },
    {
      "cell_type": "code",
      "metadata": {
        "id": "-jTRHdUCTKh0"
      },
      "source": [
        ""
      ],
      "execution_count": null,
      "outputs": []
    },
    {
      "cell_type": "code",
      "metadata": {
        "id": "TgxMNuzFTKdz"
      },
      "source": [
        ""
      ],
      "execution_count": null,
      "outputs": []
    },
    {
      "cell_type": "markdown",
      "metadata": {
        "id": "_8Fy_c-1TLTU"
      },
      "source": [
        "Try 3"
      ]
    },
    {
      "cell_type": "code",
      "metadata": {
        "id": "_9k-UqL_TN7N"
      },
      "source": [
        "import plotly.graph_objs as go\n",
        "import plotly as plotly\n",
        "import plotly.express as px"
      ],
      "execution_count": null,
      "outputs": []
    },
    {
      "cell_type": "code",
      "metadata": {
        "id": "j4Bt7GzdTOrG"
      },
      "source": [
        "data = px.data.gapminder()\n",
        "\n",
        "data_canada = data[data.country == 'Canada']\n",
        "fig = px.bar(data_canada, x='year', y='pop',\n",
        "             hover_data=['lifeExp', 'gdpPercap'], color='lifeExp',\n",
        "             labels={'pop':'population of Canada'}, height=400)"
      ],
      "execution_count": null,
      "outputs": []
    },
    {
      "cell_type": "code",
      "metadata": {
        "id": "vOuth41MTRpT"
      },
      "source": [
        "plotly.offline.plot(fig, filename= \"output_filename\" + \".html\")\n"
      ],
      "execution_count": null,
      "outputs": []
    },
    {
      "cell_type": "code",
      "metadata": {
        "id": "18JuJYa6TU4D"
      },
      "source": [
        ""
      ],
      "execution_count": null,
      "outputs": []
    },
    {
      "cell_type": "code",
      "metadata": {
        "id": "9EfW4DLcYDo7"
      },
      "source": [
        ""
      ],
      "execution_count": null,
      "outputs": []
    },
    {
      "cell_type": "code",
      "metadata": {
        "id": "K1bKOoahYDiW"
      },
      "source": [
        ""
      ],
      "execution_count": null,
      "outputs": []
    },
    {
      "cell_type": "code",
      "metadata": {
        "id": "Sva2QHKIYEvD"
      },
      "source": [
        ""
      ],
      "execution_count": null,
      "outputs": []
    },
    {
      "cell_type": "markdown",
      "metadata": {
        "id": "IW3PsJerS57i"
      },
      "source": [
        "## Dashboard Graph"
      ]
    },
    {
      "cell_type": "markdown",
      "metadata": {
        "id": "jBzyAOXftLVP"
      },
      "source": [
        "## Add radio button to the graph"
      ]
    },
    {
      "cell_type": "code",
      "metadata": {
        "id": "oDzn_7lYDYk9"
      },
      "source": [
        "###### try to add radio button"
      ],
      "execution_count": null,
      "outputs": []
    },
    {
      "cell_type": "code",
      "metadata": {
        "id": "XiS4qPzBklRi"
      },
      "source": [
        "std_d={}\n",
        "for st in  dt_st.student_ID.unique():\n",
        "  std_d[st]=dt_st[dt_st.student_ID==st][\"Course_code\"].unique()"
      ],
      "execution_count": null,
      "outputs": []
    },
    {
      "cell_type": "code",
      "metadata": {
        "id": "cj882ALHkYoo"
      },
      "source": [
        "from ipywidgets import interact, Dropdown, Checkbox\n",
        "\n",
        "stID = Dropdown(options = std_d.keys())\n",
        "course = Dropdown(options = std_d[stID.value]) # options = std_d[stID.value] is to remove inital error but not that necessary.\n",
        "box = Checkbox(False, description='Quizz/Assignment')\n",
        "\n",
        "\n",
        "@interact(st = stID, cs = course, chkbx= box)\n",
        "def print_cs(st, cs,chkbx ):\n",
        "    course.options = std_d[st] # Here is the trick, i.e. update course.options based on st, namely stID.value.\n",
        "    # print(st, cs)\n",
        "    dt_st.query(f\"Course_code=='{cs}' & student_ID=='{st}'\")"
      ],
      "execution_count": null,
      "outputs": []
    },
    {
      "cell_type": "code",
      "metadata": {
        "id": "55w1moH-PNAl"
      },
      "source": [
        "std=\"070327176S\"\n",
        "cs=\"g5_2\"\n",
        "st_type_0= dt_st.query(f\"student_ID=='{std}' & Course_code=='{cs}' & Activity_type=='0'\")\n",
        "st_type_1= dt_st.query(f\"student_ID=='{std}' & Course_code=='{cs}' & Activity_type=='1'\")\n",
        "\n",
        "\n",
        "\n",
        "\n",
        "#### to add radio button\n",
        "\n",
        "\n",
        "def f(actype):\n",
        "    control = actype\n",
        "    if control == 'Quiz': \n",
        "        data=st_type_0\n",
        "        #data.plot()\n",
        "        #plt.show()\n",
        "\n",
        "    elif control== 'Assignment':\n",
        "        data=st_type_1\n",
        "        #data.plot()\n",
        "        #plt.show() \n",
        "    return actype\n",
        "\n",
        "\n",
        "interact(f, actype = widgets.RadioButtons(\n",
        "options=['Quiz', 'Assignment'],\n",
        "description='Choose:',\n",
        "disabled=False))\n",
        "\n",
        "\n",
        "\n",
        "\n",
        "\n",
        "############ end of radio button \n",
        "\n",
        "dt_st.loc[\"Act_submit_Time\"]=dt_st[\"Act_submit_Time\"].astype(str)\n",
        "dt_tmp= dt_st.query(f\"student_ID=='{std}' & Course_code=='{cs}' \")[[\"Act_mark\", \"Activity_id\",\"Act_submit_Time\" ]]\n",
        "dt_tmp[\"Act_submit_Time\"]=pd.to_datetime(dt_tmp.Act_submit_Time, format=\"%Y-%m-%d\")\n",
        "dt_tmp.sort_values(by= \"Act_submit_Time\", inplace=True)\n",
        "# dt_tmp[\"Act_submit_Time\"]= dt_tmp.Act_submit_Time.astype(\"category\")\n",
        "\n",
        "\n",
        "# selected student activities\n",
        "dt_tmp"
      ],
      "execution_count": null,
      "outputs": []
    },
    {
      "cell_type": "code",
      "metadata": {
        "id": "qUHg3bxSPSej"
      },
      "source": [
        "# All Students having the same Activity as ABove\n",
        "df_stAct=pd.DataFrame()\n",
        "\n",
        "avt_type_0= df_avt.query(f\" Activity_id=='{std}' & Activity_type=='0'\")\n",
        "avt_type_1= df_avt.query(f\"Activity_id=='{std}' & Activity_type=='1'\")\n",
        "\n",
        "\n",
        "\n",
        "Mark_type= avt_type_1   if chk  else  avt_type_0\n",
        "Time_type= avt_type_1  if chk   else avt_type_0\n",
        "\n",
        "\n",
        "for col, time in zip(\n",
        "    dt_tmp[\"Activity_id\"],\n",
        "    dt_tmp.Act_submit_Time.unique()):\n",
        "  df_bx=pd.DataFrame()\n",
        "  df_bx=df_avt.query(f\"Activity_id== '{col}' ###### TYPE\")[[\"Activity_id\", \"Act_mark\"]]\n",
        "  df_bx[\"Act_submit_Time\"]= pd.to_datetime(time).strftime(\"%Y-%m-%d\")\n",
        "  df_stAct= pd.concat([\n",
        "                       df_stAct, df_bx\n",
        "  ])\n",
        "df_stAct.sort_values(by=\"Act_submit_Time\", inplace=True)\n",
        "df_stAct[\"Act_submit_Time\"]= df_stAct.Act_submit_Time.astype(\"category\")\n",
        "df_stAct"
      ],
      "execution_count": null,
      "outputs": []
    },
    {
      "cell_type": "code",
      "metadata": {
        "id": "e-9EDlAVPYDH"
      },
      "source": [
        "#Combine Graph\n",
        "import seaborn as sns \n",
        "import matplotlib.pyplot as plt\n",
        "\n",
        "fg, ax= plt.subplots( figsize=(20,8))\n",
        "\n",
        "\n",
        "sns.boxplot(x=\"Activity_id\" ,  y= \"Act_mark\", data=df_stAct , ax=ax ,width= 0.3)\n",
        "sns.lineplot(\n",
        "    x=\"Activity_id\",\n",
        "    y= \"Act_mark\", marker='o',\n",
        "    data=dt_tmp  , ax=ax )\n",
        "ax.set_xticklabels(dt_tmp.Act_submit_Time.unique())\n",
        "plt.title(\"Student's mark compared to other students\" , fontsize=20)\n",
        "plt.xlabel(\"Date\" , fontsize=20)\n",
        "plt.ylabel(\"Mark\" , fontsize=20)\n",
        "plt.xticks(rotation=45)\n",
        "plt.grid()\n",
        "plt.show()\n",
        "\n"
      ],
      "execution_count": null,
      "outputs": []
    },
    {
      "cell_type": "markdown",
      "metadata": {
        "id": "MKZz_LpKteBw"
      },
      "source": [
        "## Add check box to old graph"
      ]
    },
    {
      "cell_type": "code",
      "metadata": {
        "id": "Z3P-9RPygpcg"
      },
      "source": [
        "####  edit old graph "
      ],
      "execution_count": null,
      "outputs": []
    },
    {
      "cell_type": "code",
      "metadata": {
        "id": "LRf5sZgngvRM"
      },
      "source": [
        "import ipywidgets as widgets \n",
        "from ipywidgets import interact\n",
        "from matplotlib.dates import DateFormatter"
      ],
      "execution_count": null,
      "outputs": []
    },
    {
      "cell_type": "code",
      "metadata": {
        "id": "roNc2i6ju8OF"
      },
      "source": [
        "dt_st.info()"
      ],
      "execution_count": null,
      "outputs": []
    },
    {
      "cell_type": "code",
      "metadata": {
        "id": "H4YNpwJJgv4E"
      },
      "source": [
        "std_d={}\n",
        "for st  in (dt_st.student_ID.unique() ):\n",
        "  std_d[st]=dt_st[dt_st.student_ID==st][\"Course_code\"].unique()\n",
        "\n",
        "\n",
        "\n",
        "# dt_tmp= dt_st.query(f\"student_ID=='{std}' & Course_code=='{cs}' & Activity_type=='0'\")[[\"Act_mark\", \"Activity_id\",\"Act_submit_Time\" ]]\n",
        "# dt_tmp[\"Act_submit_Time\"]=pd.to_datetime(dt_tmp.Act_submit_Time, format=\"%Y-%m-%d\")\n",
        "# dt_tmp.sort_values(by= \"Act_submit_Time\", inplace=True)"
      ],
      "execution_count": null,
      "outputs": []
    },
    {
      "cell_type": "code",
      "metadata": {
        "id": "iRbBx9dfusSX"
      },
      "source": [
        "from ipywidgets import interact, Dropdown, Checkbox\n",
        "\n",
        "stID = Dropdown(options = std_d.keys())\n",
        "course = Dropdown(options = std_d[stID.value]) # options = std_d[stID.value] is to remove inital error but not that necessary.\n",
        "box = Checkbox(False, description='View Assignments')\n",
        "\n",
        "\n",
        "@interact(st = stID, cs = course, chkbx= box )\n",
        "def print_cs(st, cs,chkbx ):\n",
        "    course.options = std_d[st] # Here is the trick, i.e. update course.options based on st, namely stID.value.\n",
        "    # print(st, cs)\n",
        "    dt_st.query(f\"Course_code=='{cs}' & student_ID=='{st}'\")\n",
        "\n"
      ],
      "execution_count": null,
      "outputs": []
    },
    {
      "cell_type": "code",
      "metadata": {
        "id": "HFZamQFxuvr5"
      },
      "source": [
        "def plot_std_Data(st, cs, chk ,time_sec , status=False):\n",
        "  course.options = std_d[st]\n",
        "  plt.rcParams.update({'font.size': 25})\n",
        "  \n",
        "\n",
        "  #  subplots   x, y  :  should be related to the number of Activity_type of current student.\n",
        "\n",
        "\n",
        "  fig, ax=plt.subplots(1, 2, figsize=(30,7) )\n",
        "  plt.subplots_adjust(top = 0.99, bottom=0.01,wspace=0.4)\n",
        "\n",
        "\n",
        "\n",
        "##########----------------------------   FOR PREDICTON PURPOSE  ---------------------------------------------------##########\n",
        "  if status:\n",
        "    ref_q=dt_st.reset_index().query(f\"student_ID=='{st}' & Course_code=='{cs}' & Activity_type=='0' \").Act_submit_Time.max()\n",
        "    xq_point=[ref_q, ref_q+ timedelta(days=7)]\n",
        "    yq_point=[dt_st.loc[ref_q, \"Act_mark\"]       , predict_std.reset_index().query(f\"student_ID=='{st}'  & Course_code=='{cs}' & Activity_type=='0' \").last_mark]\n",
        "    ax[0,1].plot(xq_point , yq_point, linestyle='dashed', marker='o',\n",
        "                 markerfacecolor='blue', markersize=12)\n",
        "    \n",
        "\n",
        "    ref_a=dt_st.reset_index().query(f\"student_ID=='{st}' & Course_code=='{cs}' & Activity_type=='1' \").Act_submit_Time.max()\n",
        "    xa_point=[ref_a, ref_a+ timedelta(days=7)]\n",
        "    ya_point=[dt_st.loc[ref_a, \"Act_mark\"]       , predict_std.reset_index().query(f\"student_ID=='{st}'  & Course_code=='{cs}' & Activity_type=='0' \").last_mark]\n",
        "    ax[0,0].plot(xa_point , ya_point, linestyle='dashed', marker='o',\n",
        "                 markerfacecolor='blue', markersize=12)\n",
        "\n",
        "###########-----------------------------------------------------------------------------------------------------##########\n",
        "\n",
        "\n",
        "\n",
        "  dt_st.query(f\"Course_code=='{cs}' & student_ID=='{st}' & Activity_type=='{chk}' & Act_submit_Time=='{time_sec}'\").Act_mark.plot( \n",
        "      subplots=True,marker=\"o\",    ax=ax[0] , color=\"brown\")\n",
        "   \n",
        " \n",
        "  dt_st.query(f\"Course_code=='{cs}' & student_ID=='{st}' & Activity_type=='{chk}' & Act_submit_Time=='{time_sec}'\").Act_time.plot( \n",
        "      subplots=True, marker=\"s\",   ax=ax[1] , color=\"green\")\n",
        "\n",
        "\n",
        "    # ---------------------------------------------------------------------\n",
        "  # Set title and labels for left graph\n",
        "  \n",
        "  left_label=\"Assignments Mark\"   if chk  else  \"Quizz Mark \"\n",
        "  left_title= \" Assignement Mark / Month Timeline\"  if chk   else \" Quiz Mark / Month Timeline\"\n",
        "  \n",
        "\n",
        "  #ax[0].set_xticklabels(dt_st.Act_submit_Time.unique())\n",
        "\n",
        "\n",
        "  ax[0].set(xlabel=time_sec,\n",
        "        ylabel= left_label,  \n",
        "        title=left_title ) \n",
        "  fig.autofmt_xdate(rotation=45)\n",
        "\n",
        "  ax[0].xaxis.set_major_formatter(DateFormatter(\"%Y-%b\"))\n",
        "  ax[0].grid()\n",
        "  ax[0].legend()\n",
        "  ax[0].xaxis.set_major_formatter(DateFormatter(\"%Y-%b\"))\n",
        "\n",
        "\n",
        "# ----------------------------------------------------------------------\n",
        "\n",
        "  # Set title and labels for right graph\n",
        "\n",
        "  right_label=\"Assignments Time\"   if chk  else  \"Quizz Time \"\n",
        "  right_title= \" Assignement Submition Time / Month Timeline\"  if chk   else \" Quiz Submition Time / Month Timeline\"\n",
        " \n",
        "\n",
        "  ax[1].set(\n",
        "        ylabel=  right_label, # \"Quizz Mark\"\n",
        "        title=right_title )\n",
        "  ax[1].grid()\n",
        "  ax[1].legend()\n",
        "  \n",
        "  fig.autofmt_xdate(rotation=45)\n",
        "#-----------------------------------------------------------------------\n",
        "  ax[1].xaxis.set_major_formatter(DateFormatter(\"%Y-%b\"))\n",
        "      \n",
        "  plt.show()"
      ],
      "execution_count": null,
      "outputs": []
    },
    {
      "cell_type": "code",
      "metadata": {
        "id": "4-mwk5l8uzjz"
      },
      "source": [
        "@interact(st = stID, cs = course, chkbx= box)\n",
        "def plot_data( st, cs, chkbx ):\n",
        "  #print(((chkbx)+0))\n",
        "  \n",
        "  # print(predict_std.reset_index().query(f\"Course_code=='{cs}' & student_ID=='{st}'\"))\n",
        "  plot_std_Data(st, cs, ((chkbx)+0))"
      ],
      "execution_count": null,
      "outputs": []
    },
    {
      "cell_type": "code",
      "metadata": {
        "id": "REQTjNV1uns0"
      },
      "source": [
        ""
      ],
      "execution_count": null,
      "outputs": []
    },
    {
      "cell_type": "code",
      "metadata": {
        "id": "4dXsby4HunpQ"
      },
      "source": [
        ""
      ],
      "execution_count": null,
      "outputs": []
    },
    {
      "cell_type": "code",
      "metadata": {
        "id": "8B9MZfj4unlv"
      },
      "source": [
        ""
      ],
      "execution_count": null,
      "outputs": []
    },
    {
      "cell_type": "code",
      "metadata": {
        "id": "yWgd0VTOunhn"
      },
      "source": [
        ""
      ],
      "execution_count": null,
      "outputs": []
    },
    {
      "cell_type": "code",
      "metadata": {
        "id": "KGnBaIUUuna9"
      },
      "source": [
        ""
      ],
      "execution_count": null,
      "outputs": []
    },
    {
      "cell_type": "code",
      "metadata": {
        "id": "Wk4wPOKVuitm"
      },
      "source": [
        "##### TRY 2 CHECK BOXES"
      ],
      "execution_count": null,
      "outputs": []
    },
    {
      "cell_type": "code",
      "metadata": {
        "id": "lyL64zdwhAGw"
      },
      "source": [
        "from ipywidgets import interact, Dropdown, Checkbox\n",
        "\n",
        "stID = Dropdown(options = std_d.keys())\n",
        "course = Dropdown(options = std_d[stID.value]) # options = std_d[stID.value] is to remove inital error but not that necessary.\n",
        "box1 = Checkbox(False, description='Quiz')\n",
        "box2 = Checkbox(False, description='Assignment')\n",
        "\n",
        "\n",
        "@interact(st = stID, cs = course, chkbx1= box1 , chkbx2= box2)\n",
        "def print_cs(st, cs,chkbx1 , chkbx2):\n",
        "    course.options = std_d[st] # Here is the trick, i.e. update course.options based on st, namely stID.value.\n",
        "    # print(st, cs)\n",
        "    dt_st.query(f\"Course_code=='{cs}' & student_ID=='{st}'\")\n",
        "\n"
      ],
      "execution_count": null,
      "outputs": []
    },
    {
      "cell_type": "code",
      "metadata": {
        "id": "Kx_TzlWks7hX"
      },
      "source": [
        ""
      ],
      "execution_count": null,
      "outputs": []
    },
    {
      "cell_type": "code",
      "metadata": {
        "id": "Vx2Ref_6tDON"
      },
      "source": [
        ""
      ],
      "execution_count": null,
      "outputs": []
    },
    {
      "cell_type": "markdown",
      "metadata": {
        "id": "IQCABplLtVG8"
      },
      "source": [
        "## Try examples section"
      ]
    },
    {
      "cell_type": "code",
      "metadata": {
        "id": "se33SJ5oP7Q5"
      },
      "source": [
        "#### Try examples here"
      ],
      "execution_count": null,
      "outputs": []
    },
    {
      "cell_type": "code",
      "metadata": {
        "id": "0txo7YQXP7N0"
      },
      "source": [
        "from ipywidgets import interact\n",
        "import ipywidgets as widgets\n",
        "import numpy as np\n",
        "import pandas as pd\n",
        "import matplotlib.pyplot as plt\n",
        "from IPython.display import display\n",
        "import scipy as sci\n",
        "\n",
        "# I create two dataset\n",
        "x = np.linspace(0, 2*np.pi, 2000)\n",
        "y1=np.sin(2*x)\n",
        "y2=np.sin(4*x)\n",
        "y3=np.sin(8*x)\n",
        "\n",
        "f1=np.exp(-x**2)\n",
        "f2=np.exp(-2*x**2)\n",
        "f3=np.exp(-3*x**2)\n",
        "\n",
        "ms=[y1,y2,y3]\n",
        "mt=[f1,f2,f3]\n",
        "ms=np.transpose(ms)\n",
        "mt=np.transpose(mt)\n",
        "dataset_1=pd.DataFrame(ms)\n",
        "dataset_2=pd.DataFrame(mt)\n",
        "\n",
        "\n",
        "def f(Dataset):\n",
        "    control = Dataset\n",
        "    if control == 'dataset 1': \n",
        "        data=dataset_1\n",
        "        data.plot()\n",
        "        plt.show()\n",
        "\n",
        "    elif control== 'dataset 2':\n",
        "        data=dataset_2\n",
        "        data.plot()\n",
        "        plt.show() \n",
        "    return Dataset\n",
        "\n",
        "\n",
        "interact(f, Dataset = widgets.RadioButtons(\n",
        "options=['dataset 1', 'dataset 2'],\n",
        "description='Switching:',\n",
        "disabled=False))"
      ],
      "execution_count": null,
      "outputs": []
    },
    {
      "cell_type": "code",
      "metadata": {
        "id": "cInAJNP7P8LH"
      },
      "source": [
        ""
      ],
      "execution_count": null,
      "outputs": []
    },
    {
      "cell_type": "code",
      "metadata": {
        "id": "_g-S2-RmgpgN"
      },
      "source": [
        ""
      ],
      "execution_count": null,
      "outputs": []
    },
    {
      "cell_type": "code",
      "metadata": {
        "id": "erYS1ZFTqlMo"
      },
      "source": [
        "from ipywidgets import Layout, Button, Box\n",
        "\n",
        "items_layout = Layout( width='auto')     # override the default width of the button to 'auto' to let the button grow\n",
        "\n",
        "box_layout = Layout(display='flex',\n",
        "                    flex_flow='column',\n",
        "                    align_items='stretch',\n",
        "                    border='solid',\n",
        "                    width='50%')\n",
        "\n",
        "words = ['correct', 'horse', 'battery', 'staple']\n",
        "items = [Button(description=word, layout=items_layout, button_style='danger') for word in words]\n",
        "box = Box(children=items, layout=box_layout)\n",
        "box"
      ],
      "execution_count": null,
      "outputs": []
    },
    {
      "cell_type": "code",
      "metadata": {
        "id": "rGv7FCvjqlGF"
      },
      "source": [
        "from IPython.core.display import display, HTML\n",
        "display(HTML('<a href=\"https://stackoverflow.com/questions/25698448/how-to-embed-html-into-ipython-output\"   target=\"_blank\">Hello, world!</a>'))"
      ],
      "execution_count": null,
      "outputs": []
    },
    {
      "cell_type": "markdown",
      "metadata": {
        "id": "e8cBr36_OXhc"
      },
      "source": [
        ""
      ]
    },
    {
      "cell_type": "code",
      "metadata": {
        "id": "xdZS0k1pqlCj"
      },
      "source": [
        "from IPython.display import IFrame\n",
        "\n",
        "IFrame(src='https://youtu.be/vX8hmygN_v0', width=700, height=600 )"
      ],
      "execution_count": null,
      "outputs": []
    },
    {
      "cell_type": "code",
      "metadata": {
        "id": "_Xr8AWHJqk-J"
      },
      "source": [
        "from IPython.display import YouTubeVideo\n",
        "\n",
        "YouTubeVideo('WSbgixdC9g8', width=800, height=300)"
      ],
      "execution_count": null,
      "outputs": []
    },
    {
      "cell_type": "code",
      "metadata": {
        "id": "-ELKgGchqk60"
      },
      "source": [
        ""
      ],
      "execution_count": null,
      "outputs": []
    }
  ]
}