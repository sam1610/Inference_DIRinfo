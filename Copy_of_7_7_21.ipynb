{
  "nbformat": 4,
  "nbformat_minor": 0,
  "metadata": {
    "colab": {
      "name": "Copy of 7-7-21.ipynb",
      "private_outputs": true,
      "provenance": [],
      "collapsed_sections": [
        "3Rmmb_lSRFqK",
        "A9G8SNC1O-fL",
        "sNsHFqK_QWeV",
        "ST9xpUUMoDsv",
        "lT8hkF0GZmi0",
        "xlXC8vTMCYkX",
        "mODye3CkyDIh",
        "rxJumxSTO7S9",
        "f5tBct2XZDWe",
        "riEnovF6Zlby",
        "38vV0zLxkgSz",
        "0CXKXa9h8DwK",
        "QGo9gyGnQ2n1",
        "jBzyAOXftLVP",
        "MKZz_LpKteBw"
      ],
      "include_colab_link": true
    },
    "kernelspec": {
      "display_name": "Python 3",
      "name": "python3"
    },
    "language_info": {
      "name": "python"
    },
    "accelerator": "GPU"
  },
  "cells": [
    {
      "cell_type": "markdown",
      "metadata": {
        "id": "view-in-github",
        "colab_type": "text"
      },
      "source": [
        "<a href=\"https://colab.research.google.com/github/sam1610/Inference_DIRinfo/blob/master/Copy_of_7_7_21.ipynb\" target=\"_parent\"><img src=\"https://colab.research.google.com/assets/colab-badge.svg\" alt=\"Open In Colab\"/></a>"
      ]
    },
    {
      "cell_type": "markdown",
      "metadata": {
        "id": "DRZ6WkE3n1D1"
      },
      "source": [
        "## Environment prepartion & libraries installation"
      ]
    },
    {
      "cell_type": "markdown",
      "metadata": {
        "id": "nENWLZC9DUVb"
      },
      "source": [
        "- Links\n",
        "https://dash.plotly.com/basic-callbacks\n",
        "https://beta.packtpub.com/book/data/9781800568532/6/ch06lvl1sec27/controlling-seasonality-with-fourier-order"
      ]
    },
    {
      "cell_type": "code",
      "metadata": {
        "id": "lxn3DiFRw8c9"
      },
      "source": [
        "! pip  install -U   scikit-learn  random_timestamp ipywidgets plotly"
      ],
      "execution_count": null,
      "outputs": []
    },
    {
      "cell_type": "code",
      "metadata": {
        "id": "aScKKGTjjFYc"
      },
      "source": [
        "import pandas as pd  \n",
        "import numpy as np\n",
        "import random\n",
        "import string\n",
        "from random import randint\n",
        "import matplotlib.pyplot as plt\n",
        "from datetime import timedelta"
      ],
      "execution_count": null,
      "outputs": []
    },
    {
      "cell_type": "code",
      "metadata": {
        "id": "3Re3LKpQ_d4U"
      },
      "source": [
        "import ipywidgets as widgets \n",
        "from ipywidgets import interact\n",
        "from matplotlib.dates import DateFormatter\n",
        "from datetime import timedelta\n",
        "from datetime import datetime\n",
        "from ipywidgets import interact, Dropdown , Layout , Box , Button\n",
        "from ipywidgets import Checkbox"
      ],
      "execution_count": null,
      "outputs": []
    },
    {
      "cell_type": "code",
      "metadata": {
        "id": "a3yeM3mZT9cg"
      },
      "source": [
        "import warnings\n",
        "warnings.filterwarnings('ignore')"
      ],
      "execution_count": null,
      "outputs": []
    },
    {
      "cell_type": "code",
      "metadata": {
        "id": "8AKUPnjLxFB-"
      },
      "source": [
        "from google.colab import drive\n",
        "drive.mount('/content/drive')"
      ],
      "execution_count": null,
      "outputs": []
    },
    {
      "cell_type": "code",
      "metadata": {
        "id": "LCHi1exfxFFX"
      },
      "source": [
        "!ls  /content/drive/MyDrive/portalAnalysis/"
      ],
      "execution_count": null,
      "outputs": []
    },
    {
      "cell_type": "code",
      "metadata": {
        "id": "q6qMX4O9xFI1"
      },
      "source": [
        "cd /content/drive/MyDrive/portalAnalysis/"
      ],
      "execution_count": null,
      "outputs": []
    },
    {
      "cell_type": "markdown",
      "metadata": {
        "id": "a5JYq_glD1YY"
      },
      "source": [
        "#Loading data sets"
      ]
    },
    {
      "cell_type": "markdown",
      "metadata": {
        "id": "U_Iw6VS9P6xk"
      },
      "source": [
        "## Load General-Students-Info.csv   (( df_st ))"
      ]
    },
    {
      "cell_type": "code",
      "metadata": {
        "id": "k95IDTmNP3s7"
      },
      "source": [
        "df_st=pd.read_csv(\"./Data/General_students_info.csv\", index_col=0,converters={'student_ID': lambda x: str(x) , # lambda used to keep zeros to the left of no.s\n",
        "                                                                              'birth_year': lambda x: str(x) ,\n",
        "                                                                              'birth_month': lambda x: str(x)})"
      ],
      "execution_count": null,
      "outputs": []
    },
    {
      "cell_type": "code",
      "metadata": {
        "id": "cd7t_6F-hzhB"
      },
      "source": [
        "df_st.head()"
      ],
      "execution_count": null,
      "outputs": []
    },
    {
      "cell_type": "markdown",
      "metadata": {
        "id": "mK4QZcibRmcQ"
      },
      "source": [
        "## Load Student's Portal Achievments (( df_avt ))"
      ]
    },
    {
      "cell_type": "code",
      "metadata": {
        "id": "xvB0BP_iluGw"
      },
      "source": [
        "df_avt=pd.read_csv(\"./Data/Portal-Achiev-Info.csv\", index_col=0,converters={'student_ID': lambda x: str(x)})"
      ],
      "execution_count": null,
      "outputs": []
    },
    {
      "cell_type": "code",
      "metadata": {
        "id": "qyNDz7bonpL0"
      },
      "source": [
        "df_avt.head()"
      ],
      "execution_count": null,
      "outputs": []
    },
    {
      "cell_type": "markdown",
      "metadata": {
        "id": "i0tyT0HXV6Ph"
      },
      "source": [
        "## Load the dataset that has 5 selected students Info (( dt_st ))"
      ]
    },
    {
      "cell_type": "code",
      "metadata": {
        "id": "wndYEKf-WQtT"
      },
      "source": [
        "dt_st=pd.read_csv(\"./Data/5_selected_students.csv\", index_col=0,converters={'student_ID': lambda x: str(x)})"
      ],
      "execution_count": null,
      "outputs": []
    },
    {
      "cell_type": "code",
      "metadata": {
        "id": "6oBgx45OuBrB"
      },
      "source": [
        "dt_st[\"Act_submit_Time\"]= pd.to_datetime(dt_st.Act_submit_Time)"
      ],
      "execution_count": null,
      "outputs": []
    },
    {
      "cell_type": "code",
      "metadata": {
        "id": "4Y6_s9XI-lQe"
      },
      "source": [
        "dt_st.query(\"Activity_type=='0'\").Act_time.describe().T"
      ],
      "execution_count": null,
      "outputs": []
    },
    {
      "cell_type": "code",
      "metadata": {
        "id": "D7EYONfq_XZF"
      },
      "source": [
        "dt_st[dt_st.Activity_type=='0'][\"Act_time\"]=dt_st.query(\"Activity_type=='0'\").Act_time/60"
      ],
      "execution_count": null,
      "outputs": []
    },
    {
      "cell_type": "code",
      "metadata": {
        "id": "bmyyhLirBhQC"
      },
      "source": [
        "dt_st.sample(10)"
      ],
      "execution_count": null,
      "outputs": []
    },
    {
      "cell_type": "code",
      "metadata": {
        "id": "2OdTJoF8l5VE"
      },
      "source": [
        "dt_st.set_index(\"Act_submit_Time\", inplace=True)"
      ],
      "execution_count": null,
      "outputs": []
    },
    {
      "cell_type": "markdown",
      "metadata": {
        "id": "-Rk_4Bv9WxWb"
      },
      "source": [
        "## Load the dataset that has statistics about students achievments (( df_mg ))"
      ]
    },
    {
      "cell_type": "code",
      "metadata": {
        "id": "WzQiXyxwXhqO"
      },
      "source": [
        "df_mg=pd.read_csv(\"./Data/student_statistics.csv\", index_col=0,converters={'student_ID': lambda x: str(x)})"
      ],
      "execution_count": null,
      "outputs": []
    },
    {
      "cell_type": "code",
      "metadata": {
        "id": "UmnryCkuuRPW"
      },
      "source": [
        "df_mg.head()"
      ],
      "execution_count": null,
      "outputs": []
    },
    {
      "cell_type": "markdown",
      "metadata": {
        "id": "lhXUPyLdvHjb"
      },
      "source": [
        "## Load the predicted data set (( predict_std ))"
      ]
    },
    {
      "cell_type": "code",
      "metadata": {
        "id": "0GET7cGVvTlr"
      },
      "source": [
        "predict_std=pd.read_csv(\"./Data/predicted_data.csv\", index_col=0,converters={'student_ID': lambda x: str(x)})"
      ],
      "execution_count": null,
      "outputs": []
    },
    {
      "cell_type": "code",
      "metadata": {
        "id": "viJ_3Ym5vsu8"
      },
      "source": [
        "predict_std.head()"
      ],
      "execution_count": null,
      "outputs": []
    },
    {
      "cell_type": "markdown",
      "metadata": {
        "id": "S-FamGMRwWdX"
      },
      "source": [
        "## Load Recommend data set (( df_recommend ))"
      ]
    },
    {
      "cell_type": "code",
      "metadata": {
        "id": "8XkG-bV_wjGu"
      },
      "source": [
        "df_recommend=pd.read_csv(\"./Data/recommend.csv\", index_col=0,converters={'student_ID': lambda x: str(x)})"
      ],
      "execution_count": null,
      "outputs": []
    },
    {
      "cell_type": "code",
      "metadata": {
        "id": "EB9kykNmw13h"
      },
      "source": [
        "df_recommend.head()"
      ],
      "execution_count": null,
      "outputs": []
    },
    {
      "cell_type": "code",
      "metadata": {
        "id": "SDIr4qMr_TFu"
      },
      "source": [
        "#  Json  recommendation Initialization\n",
        "modules=[\n",
        "         {\"unit\":\"Data and statistics\", \n",
        "          \"lessons\":[\n",
        "                    {\"LessName\": \"Dot plots & frequency tables\",\n",
        "                    \"lobs\":[\n",
        "                            {\"lobID\": 1, \"lobName\":\"Representing Data\", \"URL\": \"https://www.khanacademy.org/math/cc-sixth-grade-math/cc-6th-data-statistics/dot-plot/v/ways-to-represent-data?modal=1\" },\n",
        "                            {\"lobID\": 2,\"lobName\":\"Frequency Tables & dot plot\", \"URL\": \"https://www.khanacademy.org/math/cc-sixth-grade-math/cc-6th-data-statistics/dot-plot/v/frequency-tables-and-dot-plots?modal=1\"}\n",
        "                          ]\n",
        "                          \n",
        "                    },\n",
        "                    {\"LessName\": \"Statistical questions\",\n",
        "                    \"lobs\":[\n",
        "                            {\"lobID\": 3, \"lobName\":\"Statistical questions\", \"URL\": \"https://www.khanacademy.org/math/cc-sixth-grade-math/cc-6th-data-statistics/cc-6-statistical-questions/v/understanding-statistical-questions?modal=1\"}\n",
        "                          ]\n",
        "                    },\n",
        "                    {\"LessName\": \"Histograms\",\n",
        "                    \"lobs\":[\n",
        "                            {\"lobID\": 4, \"lobName\":\"Creating a histogram\", \"URL\": \"https://www.khanacademy.org/math/cc-sixth-grade-math/cc-6th-data-statistics/histograms/v/histograms-intro?modal=1\"},\n",
        "                            {\"lobID\": 5, \"lobName\":\"Interpreting a histogram\", \"URL\": \"https://www.khanacademy.org/math/cc-sixth-grade-math/cc-6th-data-statistics/histograms/v/interpreting-histograms?modal=1\"}\n",
        "                          ]\n",
        "                    },\n",
        "                    {\"LessName\": \"Mean and median\",\n",
        "                    \"lobs\":[\n",
        "                            \n",
        "                                {\"lobID\": 6, \"lobName\":\"Statistics Intro: Mean, Median & Mode\", \"URL\": \"https://www.khanacademy.org/math/cc-sixth-grade-math/cc-6th-data-statistics/mean-and-median/v/statistics-intro-mean-median-and-mode?modal=1\"}, \n",
        "                                {\"lobID\": 7, \"lobName\":\"Mean, Median & Mode example\", \"URL\": \"https://www.khanacademy.org/math/cc-sixth-grade-math/cc-6th-data-statistics/mean-and-median/v/mean-median-and-mode?modal=1\"},\n",
        "                                {\"lobID\": 8 , \"lobName\":\"Calculating the mean\", \"URL\": \"https://www.khanacademy.org/math/cc-sixth-grade-math/cc-6th-data-statistics/mean-and-median/a/calculating-the-mean?modal=1\"}\n",
        "                                \n",
        "                                \n",
        "                          ]\n",
        "                    },\n",
        "                    {\"LessName\": \"Mean and median challenge problems\",\n",
        "                    \"lobs\":[\n",
        "                             {\"lobID\": 9, \"lobName\": \"Missing value given the mean\", \"URL\": \"https://www.khanacademy.org/math/cc-sixth-grade-math/cc-6th-data-statistics/cc-6th-mean-median-challenge/v/using-mean-to-find-missing-value?modal=1\"},\n",
        "                              {\"lobID\":10 , \"lobName\":\"Mean as the balancing point\" , \"URL\" : \"https://www.khanacademy.org/math/cc-sixth-grade-math/cc-6th-data-statistics/cc-6th-mean-median-challenge/a/mean-as-the-balancing-point?modal=1\"},\n",
        "                              {\"lobID\": 11, \"lobName\":\"Impact on median & mean: Removing an outlier\" , \"URL\" : \"https://www.khanacademy.org/math/cc-sixth-grade-math/cc-6th-data-statistics/cc-6th-mean-median-challenge/v/impact-on-median-and-mean-when-removing-lowest-value-example?modal=1\"},\n",
        "                              {\"lobID\": 12, \"lobName\":\"Impact on median & mean: increasing an outlier\" , \"URL\" : \"https://www.khanacademy.org/math/cc-sixth-grade-math/cc-6th-data-statistics/cc-6th-mean-median-challenge/v/impact-on-median-and-mean-when-increasing-highest-value?modal=1\"},\n",
        "                              {\"lobID\": 13, \"lobName\":\"Median & range puzzlers\" , \"URL\" : \"https://www.khanacademy.org/math/cc-sixth-grade-math/cc-6th-data-statistics/cc-6th-mean-median-challenge/v/median-and-range-puzzle?modal=1\"}\n",
        "                          ]\n",
        "                    },\n",
        "                    {\"LessName\": \"Interquartile range (IQR)\",\n",
        "                    \"lobs\":[\n",
        "                            {\"lobID\": 14, \"lobName\":\"Interquartile range (IQR)\", \"URL\" : \"https://www.khanacademy.org/math/cc-sixth-grade-math/cc-6th-data-statistics/cc-6th/v/calculating-interquartile-range-iqr?modal=1\"}\n",
        "                          ]\n",
        "                    },\n",
        "                    {\"LessName\": \"Box Plots\",\n",
        "                    \"lobs\":[\n",
        "                            {\"lobID\":15  , \"lobName\":\"Reading box plots\", \"URL\" : \"https://www.khanacademy.org/math/cc-sixth-grade-math/cc-6th-data-statistics/cc-6th-box-whisker-plots/v/reading-box-and-whisker-plots?modal=1\"},\n",
        "                             {\"lobID\":16  , \"lobName\":\"Constructing a box plot\", \"URL\" : \"https://www.khanacademy.org/math/cc-sixth-grade-math/cc-6th-data-statistics/cc-6th-box-whisker-plots/v/constructing-a-box-and-whisker-plot?modal=1\"},\n",
        "                             {\"lobID\":17  , \"lobName\":\"Worked example: Creating box plot (odd number of data points)\", \"URL\" : \"https://www.khanacademy.org/math/cc-sixth-grade-math/cc-6th-data-statistics/cc-6th-box-whisker-plots/v/box-and-whisker-plot-exercise-example?modal=1\"},\n",
        "                             {\"lobID\":18  , \"lobName\":\"Worked example: Creating box plot (even number of data points)\", \"URL\" : \"https://www.khanacademy.org/math/cc-sixth-grade-math/cc-6th-data-statistics/cc-6th-box-whisker-plots/v/constructing-a-box-and-whisker-plot?modal=1\"},\n",
        "                             {\"lobID\":19  , \"lobName\":\"Worked example: Interpreting a box plot\", \"URL\" : \"https://www.khanacademy.org/math/cc-sixth-grade-math/cc-6th-data-statistics/cc-6th-box-whisker-plots/v/interpreting-box-plots?modal=1\"}\n",
        "                          ]\n",
        "                    },\n",
        "\n",
        "                    {\"LessName\": \"Mean absolute deviation (MAD)\",\n",
        "                    \"lobs\":[\n",
        "                            { \"lobID\":20 , \"lobName\":\"Mean absolute deviation (MAD)\", \"URL\" : \"https://www.khanacademy.org/math/cc-sixth-grade-math/cc-6th-data-statistics/cc-6-mad/v/mean-absolute-deviation?modal=1\"},\n",
        "                              {\"lobID\":21 , \"lobName\":\"Mean absolute deviation example\", \"URL\" : \"https://www.khanacademy.org/math/cc-sixth-grade-math/cc-6th-data-statistics/cc-6-mad/v/mean-absolute-deviation-example?modal=1\"}\n",
        "                          ]\n",
        "                    },\n",
        "                    {\"LessName\": \"Comparing Data Display\",\n",
        "                    \"lobs\":[\n",
        "                            {\"lobID\":22 , \"lobName\":\"Comparing dot plots, histograms and box plots\", \"URL\" : \"https://www.khanacademy.org/math/cc-sixth-grade-math/cc-6th-data-statistics/cc-7th-compare-data-displays/v/comparing-dot-plots-histograms-and-box-plots?modal=1\"}\n",
        "                          ]\n",
        "                    },\n",
        "                    {\"LessName\": \"Shape of Data Distribution\",\n",
        "                    \"lobs\":[\n",
        "                            {\"lobID\":23 , \"lobName\":\"Shape of distributions\", \"URL\" : \"https://www.khanacademy.org/math/cc-sixth-grade-math/cc-6th-data-statistics/cc-6-shape-of-data/v/shapes-of-distributions?modal=1\"},\n",
        "                              {\"lobID\":24 , \"lobName\":\"Clusters, gaps, peaks & outliers\", \"URL\" : \"https://www.khanacademy.org/math/cc-sixth-grade-math/cc-6th-data-statistics/cc-6-shape-of-data/v/examples-analyzing-clusters-gaps-peaks-and-outliers-for-distributions?modal=1\"}\n",
        "                          ]\n",
        "                    },\n",
        "                    \n",
        "\n",
        "                    \n",
        "                    ],\n",
        "           \n",
        "          \n",
        "          }\n",
        "         ]"
      ],
      "execution_count": null,
      "outputs": []
    },
    {
      "cell_type": "markdown",
      "metadata": {
        "id": "nXRvlYwYEChJ"
      },
      "source": [
        "# Regular sub plots"
      ]
    },
    {
      "cell_type": "markdown",
      "metadata": {
        "id": "LmjVvM_3uoFt"
      },
      "source": [
        "## Graph the selected student's marks , prediction and recommendations\n"
      ]
    },
    {
      "cell_type": "code",
      "metadata": {
        "id": "25_pz9QN_N4e"
      },
      "source": [
        "import ipywidgets as widgets \n",
        "from ipywidgets import interact\n",
        "from matplotlib.dates import DateFormatter\n",
        "from datetime import timedelta"
      ],
      "execution_count": null,
      "outputs": []
    },
    {
      "cell_type": "code",
      "metadata": {
        "id": "Ocx6AF716wv7"
      },
      "source": [
        "from sklearn.feature_extraction.text import CountVectorizer\n",
        "from sklearn.metrics.pairwise import cosine_similarity"
      ],
      "execution_count": null,
      "outputs": []
    },
    {
      "cell_type": "code",
      "metadata": {
        "id": "WCKVnErTndB9"
      },
      "source": [
        "std_d={}\n",
        "for st in  dt_st.student_ID.unique():\n",
        "  std_d[st]=dt_st[dt_st.student_ID==st][\"Course_code\"].unique()"
      ],
      "execution_count": null,
      "outputs": []
    },
    {
      "cell_type": "code",
      "metadata": {
        "id": "c6P_nYcxAt2B"
      },
      "source": [
        "from ipywidgets import interact, Dropdown, Checkbox, DatePicker\n",
        "from IPython.core.display import display, HTML\n",
        "from datetime import date\n",
        "\n",
        "\n",
        "stID = Dropdown(options = std_d.keys())\n",
        "course = Dropdown(options = std_d[stID.value]) # options = std_d[stID.value] is to remove inital error but not that necessary.\n",
        "D1=DatePicker(\n",
        "    description='Pick a start date')\n",
        "D2=DatePicker(\n",
        "    description='Pick a start date')\n",
        "D3=DatePicker(\n",
        "    description='Pick a start date')\n",
        "box = Checkbox(False, description='View Assignments')\n",
        "\n",
        "D1.value=date.today()\n",
        "D2.value=date.today()\n",
        "D3.value=date.today()\n",
        "@interact(st = stID, cs = course, dt=D1, chkbx= box)\n",
        "def print_cs(st, cs, dt, chkbx ):\n",
        "    course.options = std_d[st] # Here is the trick, i.e. update course.options based on st, namely stID.value.\n",
        "    # print(st, cs)\n",
        "    box.description = \" Assignement\"   if chkbx   else \"Quizz\"\n",
        "    dt_st.query(f\"Course_code=='{cs}' & student_ID=='{st}'\")\n",
        "    print(box.value)\n"
      ],
      "execution_count": null,
      "outputs": []
    },
    {
      "cell_type": "code",
      "metadata": {
        "id": "5_r-Ky1AMDDq"
      },
      "source": [
        "def  recommend(st):\n",
        "#  full code for recommendation \n",
        "    \n",
        "\n",
        "# Current Student Actual. learningobjects\n",
        "  df_st_Rec=df_recommend.query(f\"student_ID=='{st}'\").drop_duplicates(subset=[\"lobj_id\"], keep=\"first\")\n",
        "##----Generate Vecrorized DF--------------------\n",
        "  sorted_score=[]\n",
        "  lst_obj=[]\n",
        "\n",
        "  \n",
        "  for lobInd in list(df_st_Rec.index):\n",
        "    df_vectorize= df_recommend[df_recommend.student_ID !=st].append(\n",
        "    {\"student_ID\":st, \"Lesson_des\":df_st_Rec.loc[lobInd,\"Lesson_des\" ],\"lobj_id\":df_st_Rec.loc[lobInd,\"lobj_id\"],\n",
        "     \"lobj_des\":df_st_Rec.loc[lobInd,\"lobj_des\"],\"LearningObj\":df_st_Rec.loc[lobInd,\"LearningObj\"] }, ignore_index=True)  \n",
        "    cs= cosine_similarity(CountVectorizer().fit_transform(df_vectorize.LearningObj))\n",
        "    sorted_score += sorted(list(enumerate(cs[df_vectorize.shape[0]-1])), key=lambda x: x[1], reverse=True)\n",
        "    sorted_score.sort( key=lambda x : x[1] , reverse=True)\n",
        "\n",
        "  for  rec in sorted_score:\n",
        "    lst_obj.append(df_vectorize.loc[rec[0], \"lobj_des\"])\n",
        "    lst_obj=list(dict.fromkeys(lst_obj))\n",
        "        # take  first  5 elements\n",
        "    lst_obj=[  lob   for  lob in  lst_obj  if lob not in df_st_Rec.lobj_des.unique()]\n",
        "\n",
        "  return lst_obj\n",
        "  #return recommend"
      ],
      "execution_count": null,
      "outputs": []
    },
    {
      "cell_type": "code",
      "metadata": {
        "id": "R8sv69IryBdd"
      },
      "source": [
        "std_d"
      ],
      "execution_count": null,
      "outputs": []
    },
    {
      "cell_type": "code",
      "metadata": {
        "id": "0TQx3FD4n61l"
      },
      "source": [
        "recommend(\"080748524S\")"
      ],
      "execution_count": null,
      "outputs": []
    },
    {
      "cell_type": "code",
      "metadata": {
        "id": "2p9uGUPh1lP1"
      },
      "source": [
        "t=dt_st.reset_index().query(\"student_ID=='080748524S'\")[[\"Act_time\",\"Act_mark\"]]\n",
        "sorted([tuple(e) for e in t.to_numpy()], key=lambda x: x[1], reverse=True)\n"
      ],
      "execution_count": null,
      "outputs": []
    },
    {
      "cell_type": "code",
      "metadata": {
        "id": "Uz7rTY91u2nA"
      },
      "source": [
        "def url_lobj(lob):\n",
        "  \n",
        "  for i in modules:\n",
        "    for j in i[\"lessons\"]:\n",
        "      for k in j[\"lobs\"]:\n",
        "        if k[\"lobName\"]==lob:\n",
        "          return  k[\"URL\"]\n"
      ],
      "execution_count": null,
      "outputs": []
    },
    {
      "cell_type": "code",
      "metadata": {
        "id": "7IZNuCi1Oa66"
      },
      "source": [
        "def plot_std_Data11(st, cs, dt, chk):\n",
        "  \n",
        "  dt_plot=dt_st.query(f\"Course_code=='{cs}' & student_ID=='{st}' & Activity_type=='{chk}'\")\n",
        "  # dt_plt=dt_plot.reset_index().query(f\"Act_submit_Time>='{dt}'\")\n",
        "  if (dt_plot.reset_index().query(f\"Act_submit_Time>='{dt}'\").shape[0]>0):\n",
        "\n",
        "    for item in recommend(st):\n",
        "      display(HTML(f\"<a href={url_lobj(item)} target='_blank'>{item}</a>\"))\n",
        "    course.options = std_d[st]\n",
        "    plt.rcParams.update({'font.size': 20})\n",
        "    \n",
        "    \n",
        "    fig,ax=plt.subplots( figsize=(20,7) )\n",
        "    \n",
        "\n",
        "    #  subplots   x, y  :  should be related to the number of Activity_type of current student.\n",
        "    ax1=ax.twinx()\n",
        "\n",
        "    lst_lobj=recommend(st)\n",
        "    plt.subplots_adjust(top = 0.99, bottom=0.01,hspace=0.4)\n",
        "\n",
        "  ######### USED TO PICK DATE FROM CALENDER  #########\n",
        "    # dt_tmp= dt_st.query(\n",
        "    #     f\"student_ID=='{st}' & Course_code=='{cs}'& Activity_type=='{chk}'\")[[\"Act_mark\", \"Activity_id\" ]]\n",
        "    # dt_tmp=dt_tmp.query(f\"Act_submit_Time >= '{dt}'\")\n",
        "    # if dt_tmp.shape[0]>0:\n",
        "    #   course.options = std_d[st]\n",
        "\n",
        "\n",
        "     \n",
        "    ind_xticks=dt_st.query(f\"student_ID=='{st}' & Course_code=='{cs}' & Activity_type=='{chk}' \").index\n",
        "\n",
        "    \n",
        "    ref_q=dt_st.reset_index().query(f\"student_ID=='{st}' & Course_code=='{cs}' & Activity_type=='{chk}' \").Act_submit_Time.max()\n",
        "    x_point=[ref_q, ref_q+ timedelta(days=7)]\n",
        "    y_point=[dt_st.loc[ref_q, \"Act_mark\"], predict_std.reset_index().query(f\"student_ID=='{st}'  & Course_code=='{cs}' & Activity_type=='{chk}' \").last_mark]\n",
        "    ax.plot(x_point , y_point, linestyle='dashed', marker='o',\n",
        "                  markerfacecolor='blue', markersize=12)\n",
        "      \n",
        "\n",
        "    dt_plot.Act_mark.plot( \n",
        "        subplots=True,marker=\"o\",    ax=ax , color=\"brown\")\n",
        "    \n",
        "  \n",
        "    # ax4=ax1.twinx()\n",
        "    dt_plot.Act_time.plot( \n",
        "        subplots=True, marker=\"s\",   ax=ax1 , color=\"green\")\n",
        "\n",
        "    Alabel=\"Assignments Mark\"   if chk  else  \"Quizz Mark \"\n",
        "    Atitle= \" Assignement Mark / Month \"  if chk   else \" Quizz Mark / Month \"\n",
        "\n",
        "    # ---------------------------------------------------------------------\n",
        "    # Set title and labels for axes\n",
        "    ax.set(ylabel= Alabel) \n",
        "    \n",
        "    ax.legend()\n",
        "\n",
        "    Qlabel=\"Assignments Time / minutes\"   if chk  else  \"Quizz Time/ minutes \"\n",
        "    T_title= \" Assignement Marks / Submission Time \"  if chk   else \" Quiz Marks / Submission Time\"\n",
        "\n",
        "    ax1.set(\n",
        "          ylabel=  Qlabel, \n",
        "          title=T_title\n",
        "          )\n",
        "    ax1.grid()\n",
        "    ax1.legend( loc=3)\n",
        "    fig.autofmt_xdate(rotation=90)\n",
        "    plt.show()\n",
        "    \n",
        "  else:\n",
        "    print(\" No records Available\")\n",
        "      # for item in recommend(st):\n",
        "    "
      ],
      "execution_count": null,
      "outputs": []
    },
    {
      "cell_type": "code",
      "metadata": {
        "id": "oZ0_MGPw9ldd"
      },
      "source": [
        "@interact(st = stID, cs = course, dt = D1, chkbx = box)\n",
        "def plot_data( st, cs, dt , chkbx):\n",
        "  #print(((chkbx)+0))\n",
        "  box.description = \" Assignement\"   if chkbx   else \"Quizz\"\n",
        "  # print(predict_std.reset_index().query(f\"Course_code=='{cs}' & student_ID=='{st}'\"))\n",
        "  plot_std_Data11(st, cs, dt , ((chkbx)+0))"
      ],
      "execution_count": null,
      "outputs": []
    },
    {
      "cell_type": "markdown",
      "metadata": {
        "id": "BFOwH4RLDbdP"
      },
      "source": [
        "# Graph using Box plot"
      ]
    },
    {
      "cell_type": "markdown",
      "metadata": {
        "id": "lCHcvXhY_xRl"
      },
      "source": [
        "## Plot mark VS submit_time ( with box plot )"
      ]
    },
    {
      "cell_type": "code",
      "metadata": {
        "id": "650hHQaSFn6b"
      },
      "source": [
        "#Combine Graph\n",
        "\n",
        "def plot_std_Data2(st, cs, dt ,chk):\n",
        "  import seaborn as sns \n",
        "  import matplotlib.pyplot as plt\n",
        "\n",
        "\n",
        "  dt_tmp= dt_st.query(\n",
        "      f\"student_ID=='{st}' & Course_code=='{cs}' & Activity_type=='{chk}'\"\n",
        "      )[[\"Act_mark\", \"Activity_id\" ]]\n",
        "  dt_tmp.sort_index( inplace=True )\n",
        "  pd.to_datetime(dt_tmp.index).strftime('%d-%m-%Y')\n",
        " \n",
        " \n",
        "  if (dt_tmp.reset_index().query(f\"Act_submit_Time>='{dt}'\").shape[0]>0):\n",
        "\n",
        "\n",
        "    fg, ax= plt.subplots( figsize=(20,8))\n",
        "    course.options = std_d[st]\n",
        "\n",
        "\n",
        "  ######### USED TO PICK DATE FROM CALENDER  #########\n",
        "    # dt_tmp= dt_st.query(\n",
        "    #     f\"student_ID=='{st}' & Course_code=='{cs}'& Activity_type=='{chk}'\")[[\"Act_mark\", \"Activity_id\" ]]\n",
        "    # dt_tmp=dt_tmp.query(f\"Act_submit_Time >= '{dt}'\")\n",
        "    # if dt_tmp.shape[0]>0:\n",
        "    #   course.options = std_d[st]\n",
        "\n",
        "\n",
        "    \n",
        "  ######## Predicted value  ###########\n",
        "    #   we suppose that  predict_std is already available\n",
        "    ref_q=dt_st.sort_index().query(\n",
        "        f\"student_ID=='{st}' & Course_code=='{cs}' & Activity_type=='{chk}'\"\n",
        "        ).tail(1).index+timedelta(days=7)\n",
        "    \n",
        "    yq_point=[dt_st.sort_index().query(\n",
        "        f\"student_ID=='{st}' & Course_code=='{cs}' & Activity_type=='{chk}' \"\n",
        "        ).Act_mark.tail(1) \n",
        "    , predict_std.reset_index().query(\n",
        "        f\"student_ID=='{st}'  & Course_code=='{cs}' & Activity_type=='{chk}' \"\n",
        "        ).last_mark]\n",
        "    #print(yq_point)\n",
        "    print(f\"  Predicted Mark: {list(yq_point[1])[0]}\")\n",
        "\n",
        "  ##########################################\n",
        "    df_stAct=pd.DataFrame()\n",
        "\n",
        "    for col, time in zip(\n",
        "        dt_tmp[\"Activity_id\"],dt_tmp.reset_index().Act_submit_Time.unique()\n",
        "        ):\n",
        "      df_bx=pd.DataFrame()\n",
        "      df_bx=df_avt.query(\n",
        "          f\"Activity_id== '{col}' & Activity_type=='{chk}'\"\n",
        "          )[[\"Activity_id\", \"Act_mark\"]]\n",
        "      df_bx[\"Act_submit_Time\"]= pd.to_datetime(time).strftime('%d-%m-%Y')\n",
        "      df_stAct= pd.concat([df_stAct, df_bx ])\n",
        "\n",
        "    sns.boxplot(x=\"Activity_id\" ,  \n",
        "                y= \"Act_mark\", data=df_stAct , ax=ax ,width= 0.3)\n",
        "    \n",
        "    dt_tmp.reset_index().append({\n",
        "        \"Act_submit_Time\":ref_q.strftime('%d-%m-%Y'),\n",
        "        \"Act_mark\":list(yq_point[1])[0]\n",
        "    }, ignore_index=True).Act_mark.plot(ax=ax, color=\"k\", marker='o', linewidth=2, markersize=9) \n",
        "\n",
        "\n",
        "    dt_tmp.reset_index().append({\n",
        "        \"Act_submit_Time\":ref_q.strftime('%d-%m-%Y'),\n",
        "        \"Act_mark\":list(yq_point[1])[0]\n",
        "    }, ignore_index=True).tail(2).Act_mark.plot(ax=ax, color=\"r\",  marker='o',linestyle='dashed' ,linewidth=5, markersize=14) \n",
        "    \n",
        "\n",
        "    graphTitle= \"Student's Assignement mark compared to other students\" if chk  else \" Student's quiz mark compared to other students\" \n",
        "    plt.title(graphTitle , fontsize=20)\n",
        "    plt.xlabel(\"Date\" , fontsize=20)\n",
        "    plt.ylabel(\"Mark\" , fontsize=20)\n",
        "    plt.xticks(rotation=70)\n",
        "    #ax.set_xticklabels(dt_tmp.reset_index().Act_submit_Time.unique())\n",
        "    ax.set_xticklabels(dt_tmp.index.strftime('%d-%m-%Y'))\n",
        "    plt.grid()\n",
        "    plt.show()\n",
        "  else:\n",
        "    print(\"  No records Available\")"
      ],
      "execution_count": null,
      "outputs": []
    },
    {
      "cell_type": "code",
      "metadata": {
        "id": "1rKm1eO7dJ8a"
      },
      "source": [
        "@interact(st = stID, cs = course, dt = D2, chkbx = box)\n",
        "def plot_data2( st, cs, dt , chkbx):\n",
        "  #print(((chkbx)+0))\n",
        "  box.description = \" Assignement\"   if chkbx   else \"Quizz\"\n",
        "  # print(predict_std.reset_index().query(f\"Course_code=='{cs}' & student_ID=='{st}'\"))\n",
        "  plot_std_Data2(st, cs, dt , ((chkbx)+0))"
      ],
      "execution_count": null,
      "outputs": []
    },
    {
      "cell_type": "code",
      "metadata": {
        "id": "_RkmNNuo52pw"
      },
      "source": [
        "######  TRY PLOTLY (2)\n",
        "import plotly.graph_objects as go\n",
        "from plotly.subplots import make_subplots\n",
        "import datetime "
      ],
      "execution_count": null,
      "outputs": []
    },
    {
      "cell_type": "code",
      "metadata": {
        "id": "SWUxMQNqvScT"
      },
      "source": [
        "def plot_std_Data3(st, cs,chk, dt):\n",
        "\n",
        "########## DATA HERE -----------------------\n",
        "  dt_tmp= dt_st.query(\n",
        "      f\"student_ID=='{st}' & Course_code=='{cs}'& Activity_type=='{chk}'\")[[\"Act_mark\", \"Activity_id\" ]]\n",
        "  dt_tmp=dt_tmp.query(f\"Act_submit_Time >= '{dt}'\")\n",
        "  if dt_tmp.shape[0]>0:\n",
        "    course.options = std_d[st]\n",
        "    \n",
        "    dt_tmp.sort_index( inplace=True )\n",
        "    dt_tmp.reset_index(inplace=True)\n",
        "  #  Query only  records  done after  selected Date\n",
        "    \n",
        "  \n",
        "    ref_t= dt_tmp.loc[dt_tmp.shape[0]-1, \"Act_submit_Time\"] + timedelta(days=7)\n",
        "    dt_tmp['Act_submit_Time'] = dt_tmp.Act_submit_Time.apply(lambda x: x.strftime('%d-%m-%Y'))\n",
        "  # dt_tmp[\"Act_submit_Time\"]= dt_tmp.Act_submit_Time.astype(str).str[:-9]\n",
        "  \n",
        "######## Predicted value  ###########\n",
        "  #   we suppose that  predict_std is already available\n",
        "  \n",
        "    yq_point=[dt_st.sort_index().query(\n",
        "      f\"student_ID=='{st}' & Course_code=='{cs}' & Activity_type=='{chk}' \"\n",
        "      ).Act_mark.tail(1) \n",
        "    , predict_std.reset_index().query(\n",
        "       f\"student_ID=='{st}'  & Course_code=='{cs}' & Activity_type=='{chk}' \"\n",
        "       ).last_mark]\n",
        " \n",
        "########################################## \n",
        "    df_stAct=pd.DataFrame()\n",
        "  \n",
        "\n",
        "    for col, time in zip( dt_tmp[\"Activity_id\"],dt_tmp.Act_submit_Time.unique()):\n",
        "      df_bx=pd.DataFrame()\n",
        "      df_bx=df_avt.query(\n",
        "          f\"Activity_id== '{col}' & Activity_type=='{chk}'\"\n",
        "          )[[\"Activity_id\", \"Act_mark\"]]\n",
        "      df_bx[\"Act_submit_Time\"]= pd.to_datetime(time).strftime('%d-%m-%Y')\n",
        "      df_stAct= pd.concat([df_stAct, df_bx ])\n",
        "    \n",
        "  #--------------------------------------------\n",
        "    dt_plot= dt_tmp.append({\n",
        "        # \"Act_submit_Time\":pd.to_datetime(ref_t).strftime('%d-%m-%Y') , #.astype(str).str[:-9],\n",
        "        \"Activity_id\": \"_\",\n",
        "        \"Act_mark\":list(yq_point[1])[0]\n",
        "    }, ignore_index=True)\n",
        "\n",
        "    # print(dt_tmp.Act_submit_Time)\n",
        "    # print(df_stAct)\n",
        "  # dt_plot.set_index(\"Act_submit_Time\", inplace=True, drop=True)\n",
        "    \n",
        "  #_______________________PLOTLY___________________\n",
        "    layout = go.Layout(\n",
        "      autosize=False,\n",
        "      width= 1200 , height= 600 )\n",
        "    fig=go.Figure(layout=layout)\n",
        "\n",
        "    # df_stAct=df_stAct[[\"Act_submit_Time\", \"Act_mark\", \"Activity_id\"]]\n",
        "    fig = go.Figure()\n",
        "    fig.add_trace(\n",
        "        go.Scatter(x=dt_plot.Activity_id ,  y=dt_plot.Act_mark,  \n",
        "                  mode='lines+markers', name=\"تحصيل الطالب\"))\n",
        "    fig.add_trace(\n",
        "        go.Box(\n",
        "            x=df_stAct.Activity_id ,  \n",
        "            y= df_stAct.Act_mark,  name=\"توزيع تحصيل الطلاب\"))\n",
        "\n",
        "    fig.update_layout(hovermode=\"x\" , \n",
        "        # title=\"أداء جميع الطلبة في مادة معينة\",\n",
        "      xaxis_title=\"Submit Time\",\n",
        "      yaxis_title=\"Mark\",\n",
        "    \n",
        "      xaxis = dict(\n",
        "          # tickmode = 'array',\n",
        "          tickvals = np.arange(dt_tmp.shape[0]),\n",
        "          ticktext = dt_tmp.Act_submit_Time\n",
        "      ),\n",
        "\n",
        "\n",
        "      title={\n",
        "          'text': \"أداء جميع الطلبة في مادة معينة\",\n",
        "          'y':0.9,\n",
        "          'x':0.5,\n",
        "          'xanchor': 'center',\n",
        "          'yanchor': 'top'}) \n",
        "    fig.show()\n",
        "  else:\n",
        "    print(\" No records Available\")"
      ],
      "execution_count": null,
      "outputs": []
    },
    {
      "cell_type": "code",
      "metadata": {
        "id": "EEsu3dfG4igQ"
      },
      "source": [
        "@interact(st = stID, cs = course, dt=D3, chkbx = box)\n",
        "def plot_data3( st, cs, dt, chkbx):\n",
        "  box.description = \" Assignement\"   if chkbx   else \"Quizz\"\n",
        "\n",
        "  # print(predict_std.reset_index().query(f\"Course_code=='{cs}' & student_ID=='{st}'\"))\n",
        "  plot_std_Data3(st, cs, ((chkbx)+0), dt)"
      ],
      "execution_count": null,
      "outputs": []
    },
    {
      "cell_type": "code",
      "metadata": {
        "id": "cfObGdupAbTr"
      },
      "source": [
        "###### TRY EXPORTING TO HTML\n",
        "#### Look for the example below\n",
        "\n",
        "https://medium.com/analytics-vidhya/how-to-export-a-plotly-chart-as-html-3b5df568df4a"
      ],
      "execution_count": null,
      "outputs": []
    },
    {
      "cell_type": "code",
      "metadata": {
        "id": "qPmJPQ4YiUer"
      },
      "source": [
        "! pip install plotly\n",
        "df = px.data.iris()"
      ],
      "execution_count": null,
      "outputs": []
    },
    {
      "cell_type": "code",
      "metadata": {
        "id": "ElH31xJRi0Jp"
      },
      "source": [
        "df.head()"
      ],
      "execution_count": null,
      "outputs": []
    },
    {
      "cell_type": "code",
      "metadata": {
        "id": "AMSoV_URih55"
      },
      "source": [
        "import plotly.express as px\n",
        "sepal_plot = px.scatter(data_frame=df, x=df.sepal_length, y=df.sepal_width, color='species', title=\"Iris_sepal\")"
      ],
      "execution_count": null,
      "outputs": []
    },
    {
      "cell_type": "code",
      "metadata": {
        "id": "t1VFT8SfiitC"
      },
      "source": [
        "sepal_plot"
      ],
      "execution_count": null,
      "outputs": []
    },
    {
      "cell_type": "code",
      "metadata": {
        "id": "Ee-UGg9Fiio3"
      },
      "source": [
        "petal_plot = px.scatter(data_frame=df, x=df.petal_length, y=df.petal_width, color='species', title=\"Iris_petal\")"
      ],
      "execution_count": null,
      "outputs": []
    },
    {
      "cell_type": "code",
      "metadata": {
        "id": "kEZuQplgiiih"
      },
      "source": [
        "petal_plot"
      ],
      "execution_count": null,
      "outputs": []
    },
    {
      "cell_type": "code",
      "metadata": {
        "id": "j_H8mtuorxAQ"
      },
      "source": [
        "plotly.offline.plot(petal_plot, filename='Data/pettal.html')"
      ],
      "execution_count": null,
      "outputs": []
    },
    {
      "cell_type": "code",
      "metadata": {
        "id": "5eTGI1w1rw9o"
      },
      "source": [
        ""
      ],
      "execution_count": null,
      "outputs": []
    },
    {
      "cell_type": "code",
      "metadata": {
        "id": "5QUphE8Ht_TT"
      },
      "source": [
        ""
      ],
      "execution_count": null,
      "outputs": []
    },
    {
      "cell_type": "code",
      "metadata": {
        "id": "JesdltZTt_P-"
      },
      "source": [
        ""
      ],
      "execution_count": null,
      "outputs": []
    },
    {
      "cell_type": "code",
      "metadata": {
        "id": "XeS9gEaMt_Ly"
      },
      "source": [
        ""
      ],
      "execution_count": null,
      "outputs": []
    },
    {
      "cell_type": "code",
      "metadata": {
        "id": "Kv9IQCHujj6n"
      },
      "source": [
        "button = widgets.Button(description='My Button')\n"
      ],
      "execution_count": null,
      "outputs": []
    },
    {
      "cell_type": "code",
      "metadata": {
        "id": "lQPV7UvTjj1v"
      },
      "source": [
        "button"
      ],
      "execution_count": null,
      "outputs": []
    },
    {
      "cell_type": "code",
      "metadata": {
        "id": "6Gt8E8uJxSS3"
      },
      "source": [
        "button = widgets.Button(description='My Button' )\n",
        "out = widgets.Output()\n",
        "def on_button_clicked(_):\n",
        "      # \"linking function with output\"\n",
        "      with out:\n",
        "          # what happens when we press the button\n",
        "          #clear_output()\n",
        "       \n",
        "          print('Something happens!')\n",
        "# linking button and function together using a button's method\n",
        "button.on_click(on_button_clicked)\n",
        "# displaying button and its output together\n",
        "widgets.VBox([button,out])"
      ],
      "execution_count": null,
      "outputs": []
    },
    {
      "cell_type": "code",
      "metadata": {
        "id": "o5ZnsrhmuAR-"
      },
      "source": [
        ""
      ],
      "execution_count": null,
      "outputs": []
    },
    {
      "cell_type": "code",
      "metadata": {
        "id": "AVR0mrxLIoW-"
      },
      "source": [
        ""
      ],
      "execution_count": null,
      "outputs": []
    },
    {
      "cell_type": "code",
      "metadata": {
        "id": "-c9ipf2lIoTX"
      },
      "source": [
        ""
      ],
      "execution_count": null,
      "outputs": []
    },
    {
      "cell_type": "code",
      "metadata": {
        "id": "QWM_3SD2IoPj"
      },
      "source": [
        ""
      ],
      "execution_count": null,
      "outputs": []
    },
    {
      "cell_type": "code",
      "metadata": {
        "id": "V0gME6yauACH"
      },
      "source": [
        "#testing adding button and textbox\n",
        "from ipywidgets import widgets as wd\n",
        "from ipywidgets import Layout, Box\n",
        "from IPython.display import display\n",
        "\n",
        "btnLayout = Layout(flex='1 1 auto', width='auto')\n",
        "\n",
        "btns= [\n",
        "    wd.Button(description=\"Add Route\"),\n",
        "    wd.Button(description=\"234\"),\n",
        "    wd.Button(description=\"411\")\n",
        "]\n",
        "\n",
        "box_layout = Layout(display='flex',\n",
        "                    flex_flow='row',\n",
        "                    align_items='stretch')\n",
        "\n",
        "box = Box(children=btns, layout=box_layout)\n",
        "\n",
        "display(box)\n",
        "box.children[1].layout.visibility = 'hidden'\n",
        "box.children[2].layout.visibility = 'hidden'\n",
        "\n",
        "txtArea = wd.Textarea()\n",
        "display(txtArea)\n",
        "\n",
        "def show(b):\n",
        "    box.children[1].layout.visibility = 'visible'\n",
        "    box.children[2].layout.visibility = 'visible'\n",
        "\n",
        "#function intended to append button value/description to textArea\n",
        "def add_text(b):\n",
        "    txtArea.value = b.description + txtArea.value\n",
        "\n",
        "box.children[0].on_click(show)\n",
        "box.children[1].on_click(add_text)\n",
        "box.children[2].on_click(add_text)"
      ],
      "execution_count": null,
      "outputs": []
    },
    {
      "cell_type": "code",
      "metadata": {
        "id": "9B3a5bTXt_98"
      },
      "source": [
        ""
      ],
      "execution_count": null,
      "outputs": []
    },
    {
      "cell_type": "code",
      "metadata": {
        "id": "7bMRlfsWt_5t"
      },
      "source": [
        ""
      ],
      "execution_count": null,
      "outputs": []
    },
    {
      "cell_type": "code",
      "metadata": {
        "id": "4NWT_XGcxSNI"
      },
      "source": [
        "# imports\n",
        "import plotly\n",
        "import plotly.express as px\n",
        "\n",
        "# data\n",
        "df = px.data.gapminder().query(\"continent=='Oceania'\")\n",
        "\n",
        "# plotly express bar chart\n",
        "fig = px.line(df, x=\"year\", y=\"lifeExp\", color='country')\n",
        "\n",
        "# html file\n",
        "plotly.offline.plot(fig, filename='Data/lifeExp.html')"
      ],
      "execution_count": null,
      "outputs": []
    },
    {
      "cell_type": "markdown",
      "metadata": {
        "id": "5OqT2GQ7API0"
      },
      "source": [
        "## Plot submit time Vs other student submitions ( with box plot )"
      ]
    },
    {
      "cell_type": "code",
      "metadata": {
        "id": "dIF1zYWwDQOL"
      },
      "source": [
        ""
      ],
      "execution_count": null,
      "outputs": []
    },
    {
      "cell_type": "markdown",
      "metadata": {
        "id": "1ybef0cqDkUV"
      },
      "source": [
        "## Old stuff"
      ]
    },
    {
      "cell_type": "code",
      "metadata": {
        "id": "pbkHaMOu73xw"
      },
      "source": [
        "##### BELOW ARE TRAILS ONLY #####"
      ],
      "execution_count": null,
      "outputs": []
    },
    {
      "cell_type": "code",
      "metadata": {
        "id": "p-S7D18wWuZt"
      },
      "source": [
        "dt_st.head()"
      ],
      "execution_count": null,
      "outputs": []
    },
    {
      "cell_type": "code",
      "metadata": {
        "id": "2BWzkIMVa99I"
      },
      "source": [
        "df_avt.query(\" student_ID=='090538316S'\").sample()"
      ],
      "execution_count": null,
      "outputs": []
    },
    {
      "cell_type": "code",
      "metadata": {
        "id": "df917lt_viRK"
      },
      "source": [
        "#dt_st=dt_st[\"Act_submit_Time\"]= pd.to_datetime(dt_st.Act_submit_Time)\n",
        "#dt_st.set_index(\"Act_submit_Time\", drop=True, inplace=True)\n",
        "#df_avt.set_index(\"Act_submit_Time\", drop=True, inplace=True)\n",
        "\n",
        "#dt_st.reset_index(inplace=True)"
      ],
      "execution_count": null,
      "outputs": []
    },
    {
      "cell_type": "code",
      "metadata": {
        "id": "Jf84PdOfdN6a"
      },
      "source": [
        "#df_avt.reset_index(inplace=True)"
      ],
      "execution_count": null,
      "outputs": []
    },
    {
      "cell_type": "code",
      "metadata": {
        "id": "S0ml7PM1JOkN"
      },
      "source": [
        "std_d={}\n",
        "for st in  dt_st.student_ID.unique():\n",
        "  std_d[st]=dt_st[dt_st.student_ID==st][\"Course_code\"].unique()"
      ],
      "execution_count": null,
      "outputs": []
    },
    {
      "cell_type": "code",
      "metadata": {
        "id": "naSdZZ1rXWII"
      },
      "source": [
        "stID = Dropdown(options = std_d.keys())\n",
        "course = Dropdown(options = std_d[stID.value])\n",
        "\n",
        "box = Checkbox(False, description= ' View Assignments')"
      ],
      "execution_count": null,
      "outputs": []
    },
    {
      "cell_type": "code",
      "metadata": {
        "id": "B-pL7mUqk-Fw"
      },
      "source": [
        "dt_st.sort_index().query(f\"student_ID=='090538316S' & Course_code=='g5_1' & Activity_type=='0' \")[\"Act_mark\"].tail(1)"
      ],
      "execution_count": null,
      "outputs": []
    },
    {
      "cell_type": "code",
      "metadata": {
        "id": "BSEPpTF2oUeE"
      },
      "source": [
        "predict_std.reset_index().query(f\"student_ID=='090538316S'  & Course_code=='g5_1' & Activity_type=='0' \").last_mark"
      ],
      "execution_count": null,
      "outputs": []
    },
    {
      "cell_type": "code",
      "metadata": {
        "id": "NYPxuM4ao6BB"
      },
      "source": [
        "predict_std.head()"
      ],
      "execution_count": null,
      "outputs": []
    },
    {
      "cell_type": "code",
      "metadata": {
        "id": "303D7mvjkS29"
      },
      "source": [
        "#dt_st.sort_index().query(f\"student_ID=='080860982S' & Course_code=='g5_1' & Activity_type=='0' \").tail(1).index+ timedelta(days=7)\n",
        "a=dt_st.sort_index().query(f\"student_ID=='091123896S' & Course_code=='g5_1' & Activity_type=='0'\").tail(1).index\n",
        "a=pd.to_datetime(a.strftime('%d/%m/%Y'))\n",
        "#a\n",
        "#a+ timedelta(days=7)\n",
        "xq_point=[a, a+ timedelta(days=7)]\n",
        "xq_point\n",
        "#.dt.strftime(\"%d/%m/%y\")"
      ],
      "execution_count": null,
      "outputs": []
    },
    {
      "cell_type": "code",
      "metadata": {
        "id": "k7ivhVI3KuLC"
      },
      "source": [
        "dt_st.sort_index().query(f\"student_ID=='091123896S' & Course_code=='g5_1' & Activity_type=='0' \").Act_mark.tail(1) "
      ],
      "execution_count": null,
      "outputs": []
    },
    {
      "cell_type": "code",
      "metadata": {
        "id": "QpAtY6farfSs"
      },
      "source": [
        "df_avt.info()"
      ],
      "execution_count": null,
      "outputs": []
    },
    {
      "cell_type": "code",
      "metadata": {
        "id": "wehe38L2prQv"
      },
      "source": [
        "\n",
        "fg, ax= plt.subplots( figsize=(10,5))\n",
        "ref_q=dt_st.sort_index().query(f\"student_ID=='091123896S' & Course_code=='g5_1' & Activity_type=='0' \").tail(1).index\n",
        "ref_q=pd.to_datetime(ref_q.strftime('%d-%m-%Y'))\n",
        "xq_point=[ref_q, ref_q+ timedelta(days=7)]\n",
        "yq_point=[dt_st.sort_index().query(f\"student_ID=='091123896S' & Course_code=='g5_1' & Activity_type=='0' \").Act_mark.tail(1) \n",
        " , predict_std.reset_index().query(f\"student_ID=='091123896S'& Course_code=='g5_1' & Activity_type=='0' \").last_mark]\n",
        "ax.plot(xq_point , yq_point, linestyle='dashed', marker='o',markerfacecolor='blue', markersize=12)\n",
        "print(ref_q)"
      ],
      "execution_count": null,
      "outputs": []
    },
    {
      "cell_type": "code",
      "metadata": {
        "id": "ybSlaONsdeSn"
      },
      "source": [
        "predict_std.info()"
      ],
      "execution_count": null,
      "outputs": []
    },
    {
      "cell_type": "code",
      "metadata": {
        "id": "DQ-iWRr4ebah"
      },
      "source": [
        "pd.to_datetime('2020-10-31').strftime('%d-%m-%Y')"
      ],
      "execution_count": null,
      "outputs": []
    },
    {
      "cell_type": "code",
      "metadata": {
        "id": "DzXuL958GUNu"
      },
      "source": [
        "df_avt.head()"
      ],
      "execution_count": null,
      "outputs": []
    },
    {
      "cell_type": "code",
      "metadata": {
        "id": "Fo3yavQTJaos"
      },
      "source": [
        "# dt_st.sort_index().query(\n",
        "#       f\"student_ID=='091123896S' & Course_code=='g5_3' & Activity_type=='0'\"\n",
        "#       ).tail(1).index+timedelta(days=7)\n",
        "dt_tmp= dt_st.query(\n",
        "      f\"student_ID=='091123896S' & Course_code=='g5_3' & Activity_type=='0'\"\n",
        "      )[[\"Act_mark\", \"Activity_id\" ]]\n",
        "dt_tmp.Activity_id.unique()"
      ],
      "execution_count": null,
      "outputs": []
    },
    {
      "cell_type": "code",
      "metadata": {
        "id": "uuNks1fUMRGo"
      },
      "source": [
        "df_avt.query(\n",
        "        f\"Activity_id== 'g5_3-Act_10' & Activity_type=='0'\"\n",
        "        )[[\"Activity_id\", \"Act_mark\"]].info()"
      ],
      "execution_count": null,
      "outputs": []
    },
    {
      "cell_type": "code",
      "metadata": {
        "id": "QPF-a2l9O5ux"
      },
      "source": [
        "dt_tmp.head(20)"
      ],
      "execution_count": null,
      "outputs": []
    },
    {
      "cell_type": "code",
      "metadata": {
        "id": "FeCL0QnOLRCR"
      },
      "source": [
        "    dt_tmp.reset_index().append({\n",
        "      \"Act_submit_Time\":'020-04-01 16:16:39',\n",
        "      \"Act_mark\":3.4\n",
        "  }, ignore_index=True)"
      ],
      "execution_count": null,
      "outputs": []
    },
    {
      "cell_type": "code",
      "metadata": {
        "id": "_nvi39ETOmrk"
      },
      "source": [
        "###### view this link\n",
        "###  https://stackoverflow.com/questions/59214406/plotly-how-to-make-an-unbounded-vertical-line-in-a-subplot"
      ],
      "execution_count": null,
      "outputs": []
    },
    {
      "cell_type": "code",
      "metadata": {
        "id": "L0paPC3uOmou"
      },
      "source": [
        ""
      ],
      "execution_count": null,
      "outputs": []
    },
    {
      "cell_type": "code",
      "metadata": {
        "id": "wqLrYmVkOmlq"
      },
      "source": [
        "! pip install Pillow"
      ],
      "execution_count": null,
      "outputs": []
    },
    {
      "cell_type": "code",
      "metadata": {
        "id": "yOR5cD1eoVqm"
      },
      "source": [
        "from PIL import Image"
      ],
      "execution_count": null,
      "outputs": []
    },
    {
      "cell_type": "code",
      "metadata": {
        "id": "B2qZN_r8I-ZB"
      },
      "source": [
        "#### try 2"
      ],
      "execution_count": null,
      "outputs": []
    },
    {
      "cell_type": "code",
      "metadata": {
        "id": "gBk1KnM-Qj8m"
      },
      "source": [
        "#Combine Graph\n",
        "\n",
        "\n",
        "def plot_std_Data(st, cs, chk):\n",
        "  import seaborn as sns \n",
        "  import matplotlib.pyplot as plt\n",
        "  import plotly.express as px\n",
        "  import plotly.graph_objects as go\n",
        "  \n",
        "\n",
        "\n",
        "\n",
        "\n",
        "  fig, ax= plt.subplots( figsize=(20,8))\n",
        "  course.options = std_d[st]\n",
        "  dt_tmp= dt_st.query(f\"student_ID=='{st}' & Course_code=='{cs}' & Activity_type=='{chk}'\")[[\"Act_mark\", \"Activity_id\" ]]\n",
        "  dt_tmp.sort_index( inplace=True )\n",
        "  pd.to_datetime(dt_tmp.index).strftime('%d-%m-%Y')\n",
        "  \n",
        "\n",
        "\n",
        "\n",
        "######## Predicted value  ###########\n",
        "  #   we suppose that  predict_std is already available\n",
        "  ref_q=dt_st.sort_index().query(f\"student_ID=='{st}' & Course_code=='{cs}' & Activity_type=='{chk}'\").tail(1).index+timedelta(days=7)\n",
        "  \n",
        "  yq_point=[dt_st.sort_index().query(f\"student_ID=='{st}' & Course_code=='{cs}' & Activity_type=='{chk}' \").Act_mark.tail(1) \n",
        "   , predict_std.reset_index().query(f\"student_ID=='{st}'  & Course_code=='{cs}' & Activity_type=='{chk}' \").last_mark]\n",
        "    \n",
        "  print(f\"  Predicted Mark: {list(yq_point[1])[0]}\")\n",
        " \n",
        "#############\n",
        "\n",
        "  df_stAct=pd.DataFrame()\n",
        "\n",
        "  for col, time in zip(dt_tmp[\"Activity_id\"],dt_tmp.reset_index().Act_submit_Time.unique()):\n",
        "    df_bx=pd.DataFrame()\n",
        "    df_bx=df_avt.reset_index().query(f\"Activity_id== '{col}' & Activity_type=='{chk}'\")[[\"Activity_id\", \"Act_mark\"]]\n",
        "    df_bx[\"Act_submit_Time\"]= pd.to_datetime(time).strftime('%d-%m-%Y')\n",
        "    df_stAct= pd.concat([df_stAct, df_bx ])\n",
        "\n",
        "  sns.boxplot(x=\"Act_submit_Time\" ,  y= \"Act_mark\", data=df_stAct , ax=ax ,width= 0.3)\n",
        "  \n",
        "  dt_tmp=dt_tmp.reset_index().append({\n",
        "      \"Act_submit_Time\":ref_q,\n",
        "      \"Act_mark\":list(yq_point[1])[0]\n",
        "  }, ignore_index=True)\n",
        "  \n",
        "  #dt_tmp.Act_mark.plot(ax=ax, color=\"k\",  marker='o', linewidth=2, markersize=9) \n",
        "  dt_tmp.Act_mark.plot(ax=ax, color=\"k\",  marker='o', linewidth=2, markersize=9) \n",
        "\n",
        "\n",
        "# ######## Add image  #########\n",
        "#   im = Image.open('https://drive.google.com/file/d/1ywuuXOM_Qf1BXGPndYZWt-zBwM16W0FG/view?usp=sharing')\n",
        "#   height = im.size[1]\n",
        "\n",
        "#   # We need a float array between 0-1, rather than\n",
        "#   # a uint8 array between 0-255\n",
        "#   im = np.array(im).astype(np.float) / 255\n",
        "\n",
        "#   fig = plt.figure()\n",
        "\n",
        "#   plt.plot(np.arange(10), 4 * np.arange(10))\n",
        "\n",
        "#   # With newer (1.0) versions of matplotlib, you can \n",
        "#   # use the \"zorder\" kwarg to make the image overlay\n",
        "#   # the plot, rather than hide behind it... (e.g. zorder=10)\n",
        "#   fig.figimage(im, 0, fig.bbox.ymax - height)\n",
        "\n",
        "#   # (Saving with the same dpi as the screen default to\n",
        "#   #  avoid displacing the logo image)\n",
        "#   fig.savefig('https://drive.google.com/file/d/1ywuuXOM_Qf1BXGPndYZWt-zBwM16W0FG/view?usp=sharing', dpi=80)\n",
        "\n",
        "#   plt.show()\n",
        "\n",
        "#################   \n",
        "\n",
        "  graphTitle= \"Student's Assignement mark compared to other students\" if chk  else \" Student's quiz mark compared to other students\" \n",
        "  plt.title(graphTitle , fontsize=20)\n",
        "  plt.xlabel(\"Date\" , fontsize=20)\n",
        "  plt.ylabel(\"Mark\" , fontsize=20)\n",
        "  plt.xticks(rotation=45)\n",
        "  plt.grid()\n",
        "  #plt.show()\n",
        "\n"
      ],
      "execution_count": null,
      "outputs": []
    },
    {
      "cell_type": "code",
      "metadata": {
        "id": "gr8Q06XiRBId"
      },
      "source": [
        "@interact(st = stID, cs = course, chkbx = box)\n",
        "def plot_data( st, cs, chkbx):\n",
        "  #print(((chkbx)+0))\n",
        "  \n",
        "  # print(predict_std.reset_index().query(f\"Course_code=='{cs}' & student_ID=='{st}'\"))\n",
        "  plot_std_Data(st, cs, ((chkbx)+0))"
      ],
      "execution_count": null,
      "outputs": []
    },
    {
      "cell_type": "code",
      "metadata": {
        "id": "gr1cQB79uUg-"
      },
      "source": [
        ""
      ],
      "execution_count": null,
      "outputs": []
    },
    {
      "cell_type": "code",
      "metadata": {
        "id": "LZ4SQ-GwuUd2"
      },
      "source": [
        ""
      ],
      "execution_count": null,
      "outputs": []
    },
    {
      "cell_type": "code",
      "metadata": {
        "id": "jTFAdFXXuUXX"
      },
      "source": [
        ""
      ],
      "execution_count": null,
      "outputs": []
    },
    {
      "cell_type": "code",
      "metadata": {
        "id": "SP_Ycxj-MPi7"
      },
      "source": [
        ""
      ],
      "execution_count": null,
      "outputs": []
    },
    {
      "cell_type": "markdown",
      "metadata": {
        "id": "TJezCjScysRv"
      },
      "source": [
        "# Data sets creation    "
      ]
    },
    {
      "cell_type": "markdown",
      "metadata": {
        "id": "3Rmmb_lSRFqK"
      },
      "source": [
        "## 1 ) Create Student's General Info. Dataset"
      ]
    },
    {
      "cell_type": "code",
      "metadata": {
        "id": "FC2cVVX7X6Nh"
      },
      "source": [
        "grades={\n",
        "    \"06\":\"9\",\"07\":\"8\",\n",
        "    \"08\":\"7\", \"09\":\"6\", \"10\":\"5\", \"11\":\"4\",\n",
        "    \"12\":\"3\", \"13\":\"2\", \"14\":\"1\"\n",
        "}"
      ],
      "execution_count": null,
      "outputs": []
    },
    {
      "cell_type": "code",
      "metadata": {
        "id": "fQhITeCzpmln"
      },
      "source": [
        "###  الطلبة العينة من 10 مدارس عشوائيًا (500 طالب) ##\n",
        "##### من الصف السادس الى الثالث الاعدادي \n",
        "\n",
        "\n",
        "list_std=[]\n",
        "for i in range(500):\n",
        "  birth_year=random.choice([\"06\", \"07\", \"08\", \"09\",\"10\"]) \n",
        "  student= {\n",
        "  \"student_id\": ''.join(random.choice(string.digits) for _ in range(5)) ,\n",
        "  \"birth_year\": birth_year,\n",
        "  \"birth_month\": random.choice([\"01\", \"02\", \"03\", \"04\", \"05\", \n",
        "                                \"06\", \"07\", \"08\", \"09\",\"10\",\"11\",\"12\"]),\n",
        "  \"school\": random.choice([ \"Sc_\"+str(j) for j in range(10)]),\n",
        "  \"grade\": grades[birth_year],  \n",
        "  \"gender\": random.choice([\"M\", \"F\"]),\n",
        "  \"governorate\": random.choice([\"North\", \"South\", \"Caiptal\", \"Muharraq\"])\n",
        "         } \n",
        "  list_std.append(student)\n",
        "  \n",
        "      \n",
        "df_st=pd.DataFrame(list_std)\n"
      ],
      "execution_count": null,
      "outputs": []
    },
    {
      "cell_type": "code",
      "metadata": {
        "id": "nItBTwFfutF9"
      },
      "source": [
        "#####  Merge student_ID with birth year and month month to get a complete CPR\n",
        "\n",
        "df_st.insert(0, 'student_ID', df_st['birth_year'].astype(str) + df_st['birth_month'].astype(str)+df_st.pop('student_id').astype(str))"
      ],
      "execution_count": null,
      "outputs": []
    },
    {
      "cell_type": "code",
      "metadata": {
        "id": "t1NUnn4H5cti"
      },
      "source": [
        "df_st.head()"
      ],
      "execution_count": null,
      "outputs": []
    },
    {
      "cell_type": "code",
      "metadata": {
        "id": "_fbY1BwOT5EB"
      },
      "source": [
        "for col in df_st.keys():\n",
        "  df_st[col]= df_st[col].astype(str)"
      ],
      "execution_count": null,
      "outputs": []
    },
    {
      "cell_type": "code",
      "metadata": {
        "id": "ZzRCQGjHUhHr"
      },
      "source": [
        "df_st.info()"
      ],
      "execution_count": null,
      "outputs": []
    },
    {
      "cell_type": "code",
      "metadata": {
        "id": "GL2aCjqCxWMN"
      },
      "source": [
        "df_st.to_csv(\"./Data/General_students_info.csv\")"
      ],
      "execution_count": null,
      "outputs": []
    },
    {
      "cell_type": "markdown",
      "metadata": {
        "id": "A9G8SNC1O-fL"
      },
      "source": [
        "## 2 ) Create Students' portal activity Dataset / df_avt"
      ]
    },
    {
      "cell_type": "code",
      "metadata": {
        "id": "bqY7lMv2eDZJ"
      },
      "source": [
        "from random_timestamp import random_timestamp\n",
        "lst=[]\n",
        "for i, k  in zip(df_st.student_ID, df_st.grade):\n",
        "  for j in range (14, int((20*np.random.rand()+8))):\n",
        "    course_id=random.choice([\"g\"+str(k)+\"_\"+str(l) for l in range(1,4)])\n",
        "    ActType=random.choice([\"1\", \"0\" ])\n",
        "    Act_time= [15, 2]  if ActType=='0'  else [4320, 60]\n",
        "    activities= {\n",
        "        \"student_ID\": i ,\n",
        "        \"Course_code\":course_id,  \n",
        "        \"Activity_id\": f\"{course_id}-Act_{int(20*np.random.rand()+1)}\",\n",
        "        \"Activity_type\":ActType,\n",
        "        # \"Act_count\": course_ref[course_id][ActType] , #np.random.randint(5,30),\n",
        "\n",
        "      \"Unit_id\":  random.choice([ \"Un_\"+str(k) for k in range(10)]),\n",
        "      \"Chapter_id\": random.choice([ \"Chp_\"+str(k) for k in range(10)]), \n",
        "      \"Lesson_id\": random.choice([ \"Ls_\"+str(k) for k in range(10)]),\n",
        "      # \"Competence-id\":  random.choice([ \"Cp_\"+str(k) for k in range(10)]), \n",
        "      \"Act_diff\":  int((4*np.random.rand(1)+1)),\n",
        "      \"Act_cp_count\": int((np.random.rand(1)*2+1)), \n",
        "\n",
        "      \"Act_time\": int((Act_time[0]*np.random.rand()+Act_time[1])) , ####### Quizzes from 2 mins to 15 mins // Assign. from 1 hr to 3 days\n",
        "      \"Act_submit_Time\": random_timestamp( year=2020),\n",
        "      #  add  afeature for  late submission\n",
        "      \"Act_mark\": int((1000*np.random.rand()))/100,\n",
        "    }\n",
        "    lst.append(activities)\n",
        "df_avt=pd.DataFrame(lst)"
      ],
      "execution_count": null,
      "outputs": []
    },
    {
      "cell_type": "code",
      "metadata": {
        "id": "vpzA1xt_8PT2"
      },
      "source": [
        "df_avt.drop_duplicates(subset=[\"student_ID\"\t, \t\"Activity_id\"\t, \"Activity_type\"] , keep=\"last\", inplace=True)"
      ],
      "execution_count": null,
      "outputs": []
    },
    {
      "cell_type": "code",
      "metadata": {
        "id": "RNLG8WGlpBjJ"
      },
      "source": [
        "df_avt.sample(10)"
      ],
      "execution_count": null,
      "outputs": []
    },
    {
      "cell_type": "code",
      "metadata": {
        "id": "aVUyJ9MHpx88"
      },
      "source": [
        "df_avt.info()"
      ],
      "execution_count": null,
      "outputs": []
    },
    {
      "cell_type": "code",
      "metadata": {
        "id": "knamQr5-RLYi"
      },
      "source": [
        "df_avt.to_csv(\"./Data/Portal-Achiev-Info.csv\")"
      ],
      "execution_count": null,
      "outputs": []
    },
    {
      "cell_type": "markdown",
      "metadata": {
        "id": "sNsHFqK_QWeV"
      },
      "source": [
        "## 3 ) Generate 5 selected Students Data to graph  / dt_st\n"
      ]
    },
    {
      "cell_type": "code",
      "metadata": {
        "id": "Ufci8h0oeqLP"
      },
      "source": [
        "def dataJson(actType, i , c, act):\n",
        "  Act_time= [15, 2]  if actType=='0'  else [4320, 60]\n",
        "  return {\n",
        "      \n",
        "        \"student_ID\": i ,\n",
        "        \"Course_code\":c,  \n",
        "        \"Activity_id\": act,\n",
        "        \"Activity_type\":actType,\n",
        "          \n",
        "\n",
        "        \"Unit_id\":  random.choice([ \"Un_\"+str(k) for k in range(10)]),\n",
        "        \"Chapter_id\": random.choice([ \"Chp_\"+str(k) for k in range(10)]), \n",
        "        \"Lesson_id\": random.choice([ \"Ls_\"+str(k) for k in range(10)]),\n",
        "        \"Act_diff\":  int((4*np.random.rand(1)+1)),\n",
        "        \"Act_cp_count\": int((np.random.rand(1)*2+1)), \n",
        "\n",
        "        \"Act_time\": int((Act_time[0]*np.random.rand()+Act_time[1])) , ####### from 30 SEC to 15 MIN\n",
        "        \"Act_submit_Time\":random_timestamp( year=2020),  \n",
        "        #  add  a feature for  late submission\n",
        "        \"Act_mark\": int((1000*np.random.rand()))/100,  #  this should be  float32  : 10*np.random.rand()\n",
        "      }"
      ],
      "execution_count": null,
      "outputs": []
    },
    {
      "cell_type": "code",
      "metadata": {
        "id": "5O_-HR8fYAr2"
      },
      "source": [
        "std_course=[['g5_3', 'g5_2', 'g5_1'], ['g9_3', 'g9_1', 'g9_2'],['g6_1', 'g6_3',\n",
        "       'g6_2'], ['g8_1', 'g8_3', 'g8_2'], ['g7_1',  'g7_3', 'g7_2'] ]"
      ],
      "execution_count": null,
      "outputs": []
    },
    {
      "cell_type": "code",
      "metadata": {
        "id": "pGuNtZ1tQa4_"
      },
      "source": [
        "from random_timestamp import random_timestamp\n",
        "lst=[]\n",
        "std_array= df_avt.student_ID.unique()[:5] +\"S\"\n",
        "for i , course in zip(std_array, std_course):# c in df_avt.Course_code.unique():\n",
        "  for c in course:\n",
        "    for j in [f\"{c}-Act_{act}\"  for act in range(10,19)]: #range (1, int((2*np.random.rand()+8))):\n",
        "      lst.append(dataJson(\"0\", i , c, j ))\n",
        "    for j in [f\"{c}-Act_{act}\"  for act in range(1,5)]:\n",
        "      lst.append(dataJson(\"1\", i , c, j ))\n",
        "     \n",
        "dt_st=pd.DataFrame(lst)"
      ],
      "execution_count": null,
      "outputs": []
    },
    {
      "cell_type": "code",
      "metadata": {
        "id": "efOtM0NLgcCJ"
      },
      "source": [
        "for s, c  in  zip(dt_st.student_ID.unique(), std_course[0]):\n",
        "  count=dt_st.query(f\"student_ID=='{s}' & Course_code=='{c}' & Activity_type=='1'\").shape[0]\n",
        "  print(f\"Student:  {s}  has: {count}  records\")"
      ],
      "execution_count": null,
      "outputs": []
    },
    {
      "cell_type": "code",
      "metadata": {
        "id": "d8lYggepqis4"
      },
      "source": [
        "dt_st.sample(5)"
      ],
      "execution_count": null,
      "outputs": []
    },
    {
      "cell_type": "code",
      "metadata": {
        "id": "K0ngg-M_W4QB"
      },
      "source": [
        "dt_st.to_csv(\"./Data/5_selected_students.csv\")  "
      ],
      "execution_count": null,
      "outputs": []
    },
    {
      "cell_type": "markdown",
      "metadata": {
        "id": "6lOSMFYyxO43"
      },
      "source": [
        "## Create Recommendation data set"
      ]
    },
    {
      "cell_type": "code",
      "metadata": {
        "id": "ggVa-ojBogk0"
      },
      "source": [
        "def url_lobj(lob):\n",
        "  \n",
        "  for i in modules:\n",
        "    for j in i[\"lessons\"]:\n",
        "      for k in j[\"lobs\"]:\n",
        "        if k[\"lobName\"]==lob:\n",
        "          return  k[\"URL\"]\n"
      ],
      "execution_count": null,
      "outputs": []
    },
    {
      "cell_type": "code",
      "metadata": {
        "id": "U6yi3DJ-uJmL"
      },
      "source": [
        "url_lobj('Representing Data')"
      ],
      "execution_count": null,
      "outputs": []
    },
    {
      "cell_type": "code",
      "metadata": {
        "id": "DMZORE0FFbff"
      },
      "source": [
        "#  Json  recommendation Initialization\n",
        "modules=[\n",
        "         {\"unit\":\"Data and statistics\", \n",
        "          \"lessons\":[\n",
        "                    {\"LessName\": \"Dot plots & frequency tables\",\n",
        "                    \"lobs\":[\n",
        "                            {\"lobID\": 1, \"lobName\":\"Representing Data\", \"URL\": \"https://www.khanacademy.org/math/cc-sixth-grade-math/cc-6th-data-statistics/dot-plot/v/ways-to-represent-data?modal=1\" },\n",
        "                            {\"lobID\": 2,\"lobName\":\"Frequency Tables & dot plot\", \"URL\": \"https://www.khanacademy.org/math/cc-sixth-grade-math/cc-6th-data-statistics/dot-plot/v/frequency-tables-and-dot-plots?modal=1\"}\n",
        "                          ]\n",
        "                          \n",
        "                    },\n",
        "                    {\"LessName\": \"Statistical questions\",\n",
        "                    \"lobs\":[\n",
        "                            {\"lobID\": 3, \"lobName\":\"Statistical questions\", \"URL\": \"https://www.khanacademy.org/math/cc-sixth-grade-math/cc-6th-data-statistics/cc-6-statistical-questions/v/understanding-statistical-questions?modal=1\"}\n",
        "                          ]\n",
        "                    },\n",
        "                    {\"LessName\": \"Histograms\",\n",
        "                    \"lobs\":[\n",
        "                            {\"lobID\": 4, \"lobName\":\"Creating a histogram\", \"URL\": \"https://www.khanacademy.org/math/cc-sixth-grade-math/cc-6th-data-statistics/histograms/v/histograms-intro?modal=1\"},\n",
        "                            {\"lobID\": 5, \"lobName\":\"Interpreting a histogram\", \"URL\": \"https://www.khanacademy.org/math/cc-sixth-grade-math/cc-6th-data-statistics/histograms/v/interpreting-histograms?modal=1\"}\n",
        "                          ]\n",
        "                    },\n",
        "                    {\"LessName\": \"Mean and median\",\n",
        "                    \"lobs\":[\n",
        "                            \n",
        "                                {\"lobID\": 6, \"lobName\":\"Statistics Intro: Mean, Median & Mode\", \"URL\": \"https://www.khanacademy.org/math/cc-sixth-grade-math/cc-6th-data-statistics/mean-and-median/v/statistics-intro-mean-median-and-mode?modal=1\"}, \n",
        "                                {\"lobID\": 7, \"lobName\":\"Mean, Median & Mode example\", \"URL\": \"https://www.khanacademy.org/math/cc-sixth-grade-math/cc-6th-data-statistics/mean-and-median/v/mean-median-and-mode?modal=1\"},\n",
        "                                {\"lobID\": 8 , \"lobName\":\"Calculating the mean\", \"URL\": \"https://www.khanacademy.org/math/cc-sixth-grade-math/cc-6th-data-statistics/mean-and-median/a/calculating-the-mean?modal=1\"}\n",
        "                                \n",
        "                                \n",
        "                          ]\n",
        "                    },\n",
        "                    {\"LessName\": \"Mean and median challenge problems\",\n",
        "                    \"lobs\":[\n",
        "                             {\"lobID\": 9, \"lobName\": \"Missing value given the mean\", \"URL\": \"https://www.khanacademy.org/math/cc-sixth-grade-math/cc-6th-data-statistics/cc-6th-mean-median-challenge/v/using-mean-to-find-missing-value?modal=1\"},\n",
        "                              {\"lobID\":10 , \"lobName\":\"Mean as the balancing point\" , \"URL\" : \"https://www.khanacademy.org/math/cc-sixth-grade-math/cc-6th-data-statistics/cc-6th-mean-median-challenge/a/mean-as-the-balancing-point?modal=1\"},\n",
        "                              {\"lobID\": 11, \"lobName\":\"Impact on median & mean: Removing an outlier\" , \"URL\" : \"https://www.khanacademy.org/math/cc-sixth-grade-math/cc-6th-data-statistics/cc-6th-mean-median-challenge/v/impact-on-median-and-mean-when-removing-lowest-value-example?modal=1\"},\n",
        "                              {\"lobID\": 12, \"lobName\":\"Impact on median & mean: increasing an outlier\" , \"URL\" : \"https://www.khanacademy.org/math/cc-sixth-grade-math/cc-6th-data-statistics/cc-6th-mean-median-challenge/v/impact-on-median-and-mean-when-increasing-highest-value?modal=1\"},\n",
        "                              {\"lobID\": 13, \"lobName\":\"Median & range puzzlers\" , \"URL\" : \"https://www.khanacademy.org/math/cc-sixth-grade-math/cc-6th-data-statistics/cc-6th-mean-median-challenge/v/median-and-range-puzzle?modal=1\"}\n",
        "                          ]\n",
        "                    },\n",
        "                    {\"LessName\": \"Interquartile range (IQR)\",\n",
        "                    \"lobs\":[\n",
        "                            {\"lobID\": 14, \"lobName\":\"Interquartile range (IQR)\", \"URL\" : \"https://www.khanacademy.org/math/cc-sixth-grade-math/cc-6th-data-statistics/cc-6th/v/calculating-interquartile-range-iqr?modal=1\"}\n",
        "                          ]\n",
        "                    },\n",
        "                    {\"LessName\": \"Box Plots\",\n",
        "                    \"lobs\":[\n",
        "                            {\"lobID\":15  , \"lobName\":\"Reading box plots\", \"URL\" : \"https://www.khanacademy.org/math/cc-sixth-grade-math/cc-6th-data-statistics/cc-6th-box-whisker-plots/v/reading-box-and-whisker-plots?modal=1\"},\n",
        "                             {\"lobID\":16  , \"lobName\":\"Constructing a box plot\", \"URL\" : \"https://www.khanacademy.org/math/cc-sixth-grade-math/cc-6th-data-statistics/cc-6th-box-whisker-plots/v/constructing-a-box-and-whisker-plot?modal=1\"},\n",
        "                             {\"lobID\":17  , \"lobName\":\"Worked example: Creating box plot (odd number of data points)\", \"URL\" : \"https://www.khanacademy.org/math/cc-sixth-grade-math/cc-6th-data-statistics/cc-6th-box-whisker-plots/v/box-and-whisker-plot-exercise-example?modal=1\"},\n",
        "                             {\"lobID\":18  , \"lobName\":\"Worked example: Creating box plot (even number of data points)\", \"URL\" : \"https://www.khanacademy.org/math/cc-sixth-grade-math/cc-6th-data-statistics/cc-6th-box-whisker-plots/v/constructing-a-box-and-whisker-plot?modal=1\"},\n",
        "                             {\"lobID\":19  , \"lobName\":\"Worked example: Interpreting a box plot\", \"URL\" : \"https://www.khanacademy.org/math/cc-sixth-grade-math/cc-6th-data-statistics/cc-6th-box-whisker-plots/v/interpreting-box-plots?modal=1\"}\n",
        "                          ]\n",
        "                    },\n",
        "\n",
        "                    {\"LessName\": \"Mean absolute deviation (MAD)\",\n",
        "                    \"lobs\":[\n",
        "                            { \"lobID\":20 , \"lobName\":\"Mean absolute deviation (MAD)\", \"URL\" : \"https://www.khanacademy.org/math/cc-sixth-grade-math/cc-6th-data-statistics/cc-6-mad/v/mean-absolute-deviation?modal=1\"},\n",
        "                              {\"lobID\":21 , \"lobName\":\"Mean absolute deviation example\", \"URL\" : \"https://www.khanacademy.org/math/cc-sixth-grade-math/cc-6th-data-statistics/cc-6-mad/v/mean-absolute-deviation-example?modal=1\"}\n",
        "                          ]\n",
        "                    },\n",
        "                    {\"LessName\": \"Comparing Data Display\",\n",
        "                    \"lobs\":[\n",
        "                            {\"lobID\":22 , \"lobName\":\"Comparing dot plots, histograms and box plots\", \"URL\" : \"https://www.khanacademy.org/math/cc-sixth-grade-math/cc-6th-data-statistics/cc-7th-compare-data-displays/v/comparing-dot-plots-histograms-and-box-plots?modal=1\"}\n",
        "                          ]\n",
        "                    },\n",
        "                    {\"LessName\": \"Shape of Data Distribution\",\n",
        "                    \"lobs\":[\n",
        "                            {\"lobID\":23 , \"lobName\":\"Shape of distributions\", \"URL\" : \"https://www.khanacademy.org/math/cc-sixth-grade-math/cc-6th-data-statistics/cc-6-shape-of-data/v/shapes-of-distributions?modal=1\"},\n",
        "                              {\"lobID\":24 , \"lobName\":\"Clusters, gaps, peaks & outliers\", \"URL\" : \"https://www.khanacademy.org/math/cc-sixth-grade-math/cc-6th-data-statistics/cc-6-shape-of-data/v/examples-analyzing-clusters-gaps-peaks-and-outliers-for-distributions?modal=1\"}\n",
        "                          ]\n",
        "                    },\n",
        "                    \n",
        "\n",
        "                    \n",
        "                    ],\n",
        "           \n",
        "          \n",
        "          }\n",
        "         ]"
      ],
      "execution_count": null,
      "outputs": []
    },
    {
      "cell_type": "code",
      "metadata": {
        "id": "cSh9vfs8L_Cy"
      },
      "source": [
        "lst=[]\n",
        "\n",
        "md=modules[0][\"lessons\"]\n",
        "\n",
        "for st in  dt_st.student_ID.unique():\n",
        "  for i   in range(int(30*np.random.rand()+8)):\n",
        "    RndLesson= int(len(md)*np.random.rand()-1)\n",
        "    RndLob= int(len(md[RndLesson][\"lobs\"])*np.random.rand())\n",
        "    activities= {\n",
        "        \"student_ID\": st ,\n",
        "        # \"Course_code\":course_id,  \n",
        "        # \"Unit_des\":  random.choice([ \"Un_\"+str(k) for k in range(10)]),\n",
        "        \"Lesson_des\": md[RndLesson][\"LessName\"],\n",
        "\n",
        "        \"lobj_id\": md[RndLesson][\"lobs\"][RndLob][\"lobID\"], \n",
        "        \"lobj_des\": md[RndLesson][\"lobs\"][RndLob][\"lobName\"],  \n",
        "        # \"Subcps\": [ subcp[s]  for   i in range (1, int((len(subcps)*np.random.rand()+2)))] \n",
        "\n",
        "    }\n",
        "    lst.append(activities)\n",
        "df_recommend=pd.DataFrame(lst)"
      ],
      "execution_count": null,
      "outputs": []
    },
    {
      "cell_type": "code",
      "metadata": {
        "id": "efDZXLf3DZnB"
      },
      "source": [
        "df_recommend[\"LearningObj\"]=df_recommend.Lesson_des+\" \"+ df_recommend.lobj_des"
      ],
      "execution_count": null,
      "outputs": []
    },
    {
      "cell_type": "code",
      "metadata": {
        "id": "-UhFWZvjFLc3"
      },
      "source": [
        "df_recommend.to_csv(\"./Data/recommend.csv\")"
      ],
      "execution_count": null,
      "outputs": []
    },
    {
      "cell_type": "markdown",
      "metadata": {
        "id": "ST9xpUUMoDsv"
      },
      "source": [
        "## Data Preparation for prediction"
      ]
    },
    {
      "cell_type": "code",
      "metadata": {
        "id": "Y-KSBAvvyZ3I"
      },
      "source": [
        "df_avt.tail()"
      ],
      "execution_count": null,
      "outputs": []
    },
    {
      "cell_type": "code",
      "metadata": {
        "id": "FB3lAVvqYzhE"
      },
      "source": [
        "dt_st.tail()"
      ],
      "execution_count": null,
      "outputs": []
    },
    {
      "cell_type": "code",
      "metadata": {
        "id": "3GHLS2GhyZ7d"
      },
      "source": [
        "#  Add  5 selected student used  in the Graph Above\n",
        "\n",
        "#df_avt= df_avt.drop(\"Act_submit_Time\", axis=1).reset_index().append( dt_st.reset_index())\n",
        "\n",
        "\n",
        "df_avt= df_avt.append(dt_st.reset_index())"
      ],
      "execution_count": null,
      "outputs": []
    },
    {
      "cell_type": "code",
      "metadata": {
        "id": "b35Utg1IA38W"
      },
      "source": [
        "df_avt.drop([  \"Unit_id\", \"Chapter_id\", \"Lesson_id\"], inplace=True, axis=1)"
      ],
      "execution_count": null,
      "outputs": []
    },
    {
      "cell_type": "code",
      "metadata": {
        "id": "I8Pmaf806Use"
      },
      "source": [
        "df_avt.tail()"
      ],
      "execution_count": null,
      "outputs": []
    },
    {
      "cell_type": "code",
      "metadata": {
        "id": "koC1IzSDNOb_"
      },
      "source": [
        "#  4  dashboard\n",
        "#plt.rcParams.update({'font.size': 12})\n",
        "#df_avt[[\"Act_mark\"]].groupby(pd.Grouper(freq=\"W\")).agg(\"mean\").plot()"
      ],
      "execution_count": null,
      "outputs": []
    },
    {
      "cell_type": "code",
      "metadata": {
        "id": "uV-fWSvauQ5q"
      },
      "source": [
        "df_act_Stat=pd.pivot_table(df_avt, index=[\"Course_code\",\"Activity_type\" ], \n",
        "               values=[\"Act_mark\", \"Act_diff\", \"Act_cp_count\", \"Act_time\" , \"Activity_id\"]   , aggfunc={\n",
        "                   \"Act_mark\":(\"mean\",\"max\", \"count\", \"min\"), \n",
        "                   \"Act_diff\": \"mean\",\n",
        "                   \"Act_cp_count\": \"mean\",\n",
        "                   \"Act_time\": (\"mean\", \"max\", \"min\"),\n",
        "                   \"Activity_id\": lambda x: x.nunique()\n",
        "               }).rename(columns={\n",
        "                   \"Activity_id\" :  \"Activities_Count\"  #  number of activities\n",
        "#                 \"Act_mark\":\"Std_act_m\", \n",
        "#                    \"Act_diff\": \"Std_act_d\",\n",
        "#                    \"Act_cp_count\": \"Std_act_cp\",\n",
        "#                    \"Act_time\": \"Std_act_t\"  \n",
        "\n",
        "               })\n"
      ],
      "execution_count": null,
      "outputs": []
    },
    {
      "cell_type": "code",
      "metadata": {
        "id": "GbrvhAOF8fjo"
      },
      "source": [
        "df_avt.head(10)"
      ],
      "execution_count": null,
      "outputs": []
    },
    {
      "cell_type": "code",
      "metadata": {
        "id": "yejIGY9-9AqA"
      },
      "source": [
        "df_avt.query(f\"student_ID=='090904691'\").groupby([\"Course_code\", \"Activity_type\"]).student_ID.agg(\"count\")"
      ],
      "execution_count": null,
      "outputs": []
    },
    {
      "cell_type": "code",
      "metadata": {
        "id": "Asw9HgSl-p0k"
      },
      "source": [
        "df_avt.groupby([\"Course_code\", \"Activity_type\"]).student_ID.agg(\"count\")"
      ],
      "execution_count": null,
      "outputs": []
    },
    {
      "cell_type": "code",
      "metadata": {
        "id": "SRtfu_aR7YoJ"
      },
      "source": [
        "df_avt[df_avt.Course_code=='g8_1'].groupby(\"Activity_type\").student_ID.agg(\"count\")"
      ],
      "execution_count": null,
      "outputs": []
    },
    {
      "cell_type": "code",
      "metadata": {
        "id": "lJWjtGDt-dLF"
      },
      "source": [
        "df_act_Stat.sample(5)"
      ],
      "execution_count": null,
      "outputs": []
    },
    {
      "cell_type": "code",
      "metadata": {
        "id": "jDfjh-7BW5f7"
      },
      "source": [
        "df_act_Stat.columns=[f\"{i}_{j}\" for  i , j in df_act_Stat.columns]"
      ],
      "execution_count": null,
      "outputs": []
    },
    {
      "cell_type": "code",
      "metadata": {
        "id": "kTDEPIsiutvW"
      },
      "source": [
        "df_avt[(df_avt.Course_code==\"g6_1\")&(df_avt.Activity_type==\"0\")].describe()"
      ],
      "execution_count": null,
      "outputs": []
    },
    {
      "cell_type": "markdown",
      "metadata": {
        "id": "lT8hkF0GZmi0"
      },
      "source": [
        "## Students' Achievement Statistics (( df_std ))  (( df_mg ))"
      ]
    },
    {
      "cell_type": "code",
      "metadata": {
        "id": "NqbdT3ZicJ6B"
      },
      "source": [
        "df_std_Stat=pd.pivot_table(df_avt, index=[\"student_ID\",\"Course_code\",\"Activity_type\" ], \n",
        "               values=[\"Act_mark\", \"Act_diff\", \"Act_cp_count\", \"Act_time\" ]   , aggfunc={\n",
        "                   \"Act_mark\":(\"mean\",\"max\", \"count\", np.std, \"last\"), \n",
        "                   \"Act_diff\": \"mean\",\n",
        "                   \"Act_cp_count\": \"mean\",\n",
        "                   \"Act_time\": (\"mean\", \"max\", np.std)\n",
        "               },  fill_value=0 ).rename(columns={\n",
        "                \"Act_mark\":\"Std_act_m\", \n",
        "                   \"Act_diff\": \"Std_act_d\",\n",
        "                   \"Act_cp_count\": \"Std_act_cp\",\n",
        "                   \"Act_time\": \"Std_act_t\"   \n",
        "\n",
        "               })\n",
        "df_std_Stat.head()"
      ],
      "execution_count": null,
      "outputs": []
    },
    {
      "cell_type": "code",
      "metadata": {
        "id": "whp94LKSWfoY"
      },
      "source": [
        "df_avt.sample()"
      ],
      "execution_count": null,
      "outputs": []
    },
    {
      "cell_type": "code",
      "metadata": {
        "id": "0E65b4Z5zJUw"
      },
      "source": [
        "df_avt[(df_avt.student_ID==\"080607421\")& (df_avt.Course_code==\"g7_3\")]"
      ],
      "execution_count": null,
      "outputs": []
    },
    {
      "cell_type": "code",
      "metadata": {
        "id": "wsIADVEGjvd0"
      },
      "source": [
        "df_std_Stat.columns=[f\"{i}_{j}\" for  i , j in df_std_Stat.columns]"
      ],
      "execution_count": null,
      "outputs": []
    },
    {
      "cell_type": "code",
      "metadata": {
        "id": "Aex8ie9Kf8ID"
      },
      "source": [
        "df_std_Stat.sample(5)"
      ],
      "execution_count": null,
      "outputs": []
    },
    {
      "cell_type": "markdown",
      "metadata": {
        "id": "8HZkUeNRaSam"
      },
      "source": [
        "- Ranking\n",
        "\n",
        "$$\\Large score=\\log(\\frac{\\text{Qz_Max_time}}{\\text{Qz_Avg_tim}}+\\text{Qz_avg_diff*Qz_Avg_cp})*\\frac{\\text{Qz_Avg_mark}^2}{\\text{Qz_Max_mark}}$$"
      ]
    },
    {
      "cell_type": "code",
      "metadata": {
        "id": "gjiNBNDYdoDX"
      },
      "source": [
        "df_std_Stat[\"Act_score\"]=np.log1p( \n",
        "    df_std_Stat.Std_act_t_max/df_std_Stat.Std_act_t_mean +df_std_Stat.Std_act_d_mean* df_std_Stat.Std_act_cp_mean\n",
        ")*df_std_Stat[\"Std_act_m_max\"]**2/df_std_Stat.Std_act_m_mean"
      ],
      "execution_count": null,
      "outputs": []
    },
    {
      "cell_type": "code",
      "metadata": {
        "id": "mesFnowLjNjx"
      },
      "source": [
        "# reset index   for  Students    data\n",
        "df_std_Stat.reset_index(inplace=True)\n",
        "# reset index for   activities data\n",
        "df_act_Stat.reset_index(inplace=True)"
      ],
      "execution_count": null,
      "outputs": []
    },
    {
      "cell_type": "code",
      "metadata": {
        "id": "KyatOXQyV93D"
      },
      "source": [
        "# Merge Data\n",
        "df_mg=df_std_Stat.merge(df_act_Stat,  on=[\"Course_code\", \"Activity_type\"])"
      ],
      "execution_count": null,
      "outputs": []
    },
    {
      "cell_type": "code",
      "metadata": {
        "id": "yAxo1JCUV965"
      },
      "source": [
        "df_mg.query(f\"student_ID=='080554476'\")"
      ],
      "execution_count": null,
      "outputs": []
    },
    {
      "cell_type": "code",
      "metadata": {
        "id": "8jDD_bSkV9-I"
      },
      "source": [
        "df_mg[\"last_mark\"]=df_mg.Std_act_m_last  # put the target at the end of table\n",
        "df_mg.drop(\"Std_act_m_last\", axis=1, inplace=True)  #  drop the last mark feature."
      ],
      "execution_count": null,
      "outputs": []
    },
    {
      "cell_type": "code",
      "metadata": {
        "id": "rCupuFGEV-CF"
      },
      "source": [
        "df_mg.sample(3)"
      ],
      "execution_count": null,
      "outputs": []
    },
    {
      "cell_type": "code",
      "metadata": {
        "id": "nf9rbrTlkdiz"
      },
      "source": [
        "df_mg.info()"
      ],
      "execution_count": null,
      "outputs": []
    },
    {
      "cell_type": "code",
      "metadata": {
        "id": "gVBQnTyDkdxA"
      },
      "source": [
        "df_mg.to_csv(\"./Data/student_statistics.csv\")"
      ],
      "execution_count": null,
      "outputs": []
    },
    {
      "cell_type": "markdown",
      "metadata": {
        "id": "xlXC8vTMCYkX"
      },
      "source": [
        "# Linear Regression & Classification"
      ]
    },
    {
      "cell_type": "markdown",
      "metadata": {
        "id": "mODye3CkyDIh"
      },
      "source": [
        "## Pipeline    SGB Regressor  Mark Prediction \n",
        "![](https://i.ibb.co/xzWVv5H/pipe-Lasso.png)"
      ]
    },
    {
      "cell_type": "code",
      "metadata": {
        "id": "yUDuHE8sWASX"
      },
      "source": [
        "df_mg.set_index(\"student_ID\", inplace=True)"
      ],
      "execution_count": null,
      "outputs": []
    },
    {
      "cell_type": "code",
      "metadata": {
        "id": "JdoiqOidnB7Z"
      },
      "source": [
        "# Split Data\n",
        "\n",
        "X_train=df_mg.drop(dt_st.student_ID.unique(), axis = 0).iloc[:,:-1]\n",
        "y=df_mg.drop(dt_st.student_ID.unique(), axis = 0).iloc[:, -1]"
      ],
      "execution_count": null,
      "outputs": []
    },
    {
      "cell_type": "code",
      "metadata": {
        "id": "3YDFFpVQwrRR"
      },
      "source": [
        "from sklearn.preprocessing import StandardScaler , OneHotEncoder\n",
        "from sklearn.compose import make_column_transformer , make_column_selector  as selector\n",
        "\n",
        "from sklearn.pipeline import make_pipeline\n",
        "  \n",
        "num_pipeline= make_pipeline(\n",
        "     StandardScaler( )    # Rescaling\n",
        ")\n",
        "\n",
        "cat_pipeline= make_pipeline(\n",
        "      \n",
        "     OneHotEncoder(drop=\"if_binary\" , sparse=False ), \n",
        " \n",
        ")"
      ],
      "execution_count": null,
      "outputs": []
    },
    {
      "cell_type": "code",
      "metadata": {
        "id": "upy_I2BowrUj"
      },
      "source": [
        "#  Pipeline structure \n",
        "preprocess= make_column_transformer(\n",
        "     ( num_pipeline,  selector(dtype_include=\"number\") ),  #Numeric feature rescaling\n",
        "     (cat_pipeline, selector(dtype_exclude=\"number\"))  # Categorical features Encoding\n",
        "     )"
      ],
      "execution_count": null,
      "outputs": []
    },
    {
      "cell_type": "code",
      "metadata": {
        "id": "66dCtrfm4uw-"
      },
      "source": [
        "preprocess.fit_transform(X_train).shape"
      ],
      "execution_count": null,
      "outputs": []
    },
    {
      "cell_type": "code",
      "metadata": {
        "id": "ITBU0xv45SXd"
      },
      "source": [
        "preprocess.fit_transform(X_train)[0]"
      ],
      "execution_count": null,
      "outputs": []
    },
    {
      "cell_type": "code",
      "metadata": {
        "id": "Wh8MTnh2keHJ"
      },
      "source": [
        "# pipelline Model\n",
        "\n",
        "from xgboost import XGBRegressor\n",
        "pipe_reg= make_pipeline(\n",
        "    preprocess, \n",
        "    XGBRegressor(objective=\"reg:squarederror\")\n",
        "    )"
      ],
      "execution_count": null,
      "outputs": []
    },
    {
      "cell_type": "code",
      "metadata": {
        "id": "90gB0GMjz4vz"
      },
      "source": [
        "pipe_reg.get_params()"
      ],
      "execution_count": null,
      "outputs": []
    },
    {
      "cell_type": "code",
      "metadata": {
        "id": "CYgTJx9zqPLY"
      },
      "source": [
        "# hyper parameters\n",
        "\n",
        "param_grid={\n",
        "    \"xgbregressor__learning_rate\": [0.01, 0.1],\n",
        "    \"xgbregressor__max_depth\" : [3,5,7, 10] ,\n",
        "    \"xgbregressor__min_child_weight\" :[1,3,5],\n",
        "    \"xgbregressor__subsample\": [0.5, 0.7],\n",
        "    \"xgbregressor__colsample_bytree\": [0.5, 0.7],\n",
        "    \"xgbregressor__n_estimators\": [200, 400, 1000]\n",
        "    \n",
        "}"
      ],
      "execution_count": null,
      "outputs": []
    },
    {
      "cell_type": "code",
      "metadata": {
        "id": "qtr9T1Mt1Fjk"
      },
      "source": [
        "from sklearn.model_selection import RandomizedSearchCV, KFold\n",
        "\n",
        "kf= KFold( n_splits=5, shuffle=True )\n",
        "gs= RandomizedSearchCV( pipe_reg, param_distributions=param_grid,  scoring=\"neg_mean_squared_error\", cv=kf,verbose=3)"
      ],
      "execution_count": null,
      "outputs": []
    },
    {
      "cell_type": "code",
      "metadata": {
        "id": "vg3IQj7I1Fmz"
      },
      "source": [
        "gs.fit(X_train, y)"
      ],
      "execution_count": null,
      "outputs": []
    },
    {
      "cell_type": "code",
      "metadata": {
        "id": "OdqbzrEB40Fz"
      },
      "source": [
        "gs.best_estimator_"
      ],
      "execution_count": null,
      "outputs": []
    },
    {
      "cell_type": "code",
      "metadata": {
        "id": "P_F9X0bV43D6"
      },
      "source": [
        "gs.best_params_"
      ],
      "execution_count": null,
      "outputs": []
    },
    {
      "cell_type": "code",
      "metadata": {
        "id": "_AMYoAz7kHRs"
      },
      "source": [
        "df_mg.loc[dt_st.student_ID.unique(), :].iloc[:, :-1].sample()"
      ],
      "execution_count": null,
      "outputs": []
    },
    {
      "cell_type": "code",
      "metadata": {
        "id": "qJA7ti_e46dz"
      },
      "source": [
        "y_pred=gs.predict(X_train)"
      ],
      "execution_count": null,
      "outputs": []
    },
    {
      "cell_type": "code",
      "metadata": {
        "id": "y2szdzfQ4Nvq"
      },
      "source": [
        "from sklearn import  metrics\n",
        "print(f\"  MAE : { metrics.mean_absolute_error(y, y_pred):.3f}\")\n",
        "print(f\"  MSE : { metrics.mean_squared_error(y, y_pred):.3f}\")\n",
        "print(f\"  RMSE : { np.sqrt(metrics.mean_squared_error(y, y_pred)):.3f}\")\n",
        "print(f\"  R^2 : { metrics.r2_score(y, y_pred):.3f}\")\n",
        "print(f\"  Explained Variance Score : { metrics.mean_absolute_error(y, y_pred):.3f}\")"
      ],
      "execution_count": null,
      "outputs": []
    },
    {
      "cell_type": "code",
      "metadata": {
        "id": "MzIcZBSx4Nyw"
      },
      "source": [
        "# Residual Plot\n",
        "\n",
        "import seaborn as sns\n",
        "_= sns.residplot(x=y, y=y_pred, color=\"green\")"
      ],
      "execution_count": null,
      "outputs": []
    },
    {
      "cell_type": "code",
      "metadata": {
        "id": "FNUwbLkp3U2k"
      },
      "source": [
        "predict_std = df_mg.loc[dt_st.student_ID.unique(), :].iloc[:, :-1]"
      ],
      "execution_count": null,
      "outputs": []
    },
    {
      "cell_type": "code",
      "metadata": {
        "id": "iEh-K9_3Kuyr"
      },
      "source": [
        "gs.predict(predict_std)"
      ],
      "execution_count": null,
      "outputs": []
    },
    {
      "cell_type": "code",
      "metadata": {
        "id": "afM8HMOdsFW8"
      },
      "source": [
        "predict_std[\"last_mark\"]=gs.predict(predict_std)"
      ],
      "execution_count": null,
      "outputs": []
    },
    {
      "cell_type": "code",
      "metadata": {
        "id": "iLkkuL9yCsiQ"
      },
      "source": [
        "predict_std.head()"
      ],
      "execution_count": null,
      "outputs": []
    },
    {
      "cell_type": "code",
      "metadata": {
        "id": "bA6yGCkApkeM"
      },
      "source": [
        "predict_std.to_csv(\"./Data/predicted_data.csv\")"
      ],
      "execution_count": null,
      "outputs": []
    },
    {
      "cell_type": "markdown",
      "metadata": {
        "id": "rxJumxSTO7S9"
      },
      "source": [
        "## Pipeline    SGB Classsifier  Classification  Prediction   ((( ERROR ))\n",
        "![](https://i.ibb.co/xzWVv5H/pipe-Lasso.png)"
      ]
    },
    {
      "cell_type": "code",
      "metadata": {
        "id": "mV9pOkV8O7TD"
      },
      "source": [
        "df_stClass= df_mg.copy()"
      ],
      "execution_count": null,
      "outputs": []
    },
    {
      "cell_type": "code",
      "metadata": {
        "id": "uZhqnK4rO7TE"
      },
      "source": [
        "df_stClass.head()"
      ],
      "execution_count": null,
      "outputs": []
    },
    {
      "cell_type": "markdown",
      "metadata": {
        "id": "rmi-mtp4FWZg"
      },
      "source": [
        "- Ranking\n",
        "\n",
        "$$\\Large score=\\log(\\frac{\\text{Qz_Max_time}}{\\text{Qz_Avg_tim}}+\\text{Qz_avg_diff*Qz_Avg_cp})*\\frac{\\text{Qz_Avg_mark}^2}{\\text{Qz_Max_mark}}$$"
      ]
    },
    {
      "cell_type": "code",
      "metadata": {
        "id": "dpKvikShD_ia"
      },
      "source": [
        "df_stClass.Act_score.describe().T"
      ],
      "execution_count": null,
      "outputs": []
    },
    {
      "cell_type": "code",
      "metadata": {
        "id": "cFs-6fXyGpGB"
      },
      "source": [
        "df_stClass.Act_score.quantile(0.25)"
      ],
      "execution_count": null,
      "outputs": []
    },
    {
      "cell_type": "code",
      "metadata": {
        "id": "BXRNBYkvA4c6"
      },
      "source": [
        "#  feature  Engineering\n",
        "\n",
        "bins = [0, \n",
        "        df_stClass.Act_score.quantile(0.25),\n",
        "        df_stClass.Act_score.quantile(0.5),\n",
        "        df_stClass.Act_score.quantile(0.75), \n",
        "        df_stClass.Act_score.quantile(1)]\n",
        "names = ['D', 'C', 'B', 'A']\n",
        "\n",
        "df_stClass['Score_Class'] = pd.cut(df_stClass.Act_score,\n",
        "                           bins, labels=names)"
      ],
      "execution_count": null,
      "outputs": []
    },
    {
      "cell_type": "code",
      "metadata": {
        "id": "DOVyPfF1I62v"
      },
      "source": [
        "df_stClass.head()\n",
        "\n",
        "#  It's better to add data related to  timestamp feature:  dat, month, dayofteweek, monthOfTheyear ....."
      ],
      "execution_count": null,
      "outputs": []
    },
    {
      "cell_type": "code",
      "metadata": {
        "id": "XJyJk9FnJCvH"
      },
      "source": [
        "df_stClass.drop(\"Act_score\", axis=1, inplace=True)"
      ],
      "execution_count": null,
      "outputs": []
    },
    {
      "cell_type": "code",
      "metadata": {
        "id": "yOJgt_lxO7TF"
      },
      "source": [
        "# Split Data\n",
        "\n",
        "X=df_stClass.iloc[:,:-1]\n",
        "y=df_stClass[\"Score_Class\"]"
      ],
      "execution_count": null,
      "outputs": []
    },
    {
      "cell_type": "code",
      "metadata": {
        "id": "z0HbtSlPO7TG"
      },
      "source": [
        "from sklearn.model_selection import train_test_split\n",
        "\n",
        "X_train, X_test, y_train, y_test=train_test_split(X, y  , test_size=.3,   random_state=42)"
      ],
      "execution_count": null,
      "outputs": []
    },
    {
      "cell_type": "code",
      "metadata": {
        "id": "lkqh27GpO7TG"
      },
      "source": [
        "X_train.shape, X_test.shape"
      ],
      "execution_count": null,
      "outputs": []
    },
    {
      "cell_type": "code",
      "metadata": {
        "id": "uNoAmJ5wO7TH"
      },
      "source": [
        "from sklearn.preprocessing import StandardScaler , OneHotEncoder\n",
        "from sklearn.compose import make_column_transformer , make_column_selector  as selector\n",
        "\n",
        "from sklearn.pipeline import make_pipeline\n",
        "  \n",
        "num_pipeline= make_pipeline(\n",
        "     StandardScaler( )    # Rescaling\n",
        ")\n",
        "\n",
        "cat_pipeline= make_pipeline(\n",
        "      \n",
        "     OneHotEncoder(drop=\"if_binary\" , sparse=False ), \n",
        " \n",
        ")"
      ],
      "execution_count": null,
      "outputs": []
    },
    {
      "cell_type": "code",
      "metadata": {
        "id": "rnWwMgU6O7TH"
      },
      "source": [
        "#  Pipeline structure \n",
        "\n",
        "preprocess= make_column_transformer(\n",
        "     ( num_pipeline,  selector(dtype_include=\"number\") ),  #Numeric feature rescaling\n",
        "     (cat_pipeline, selector(dtype_exclude=\"number\"))  # Categorical features Encoding\n",
        "     )"
      ],
      "execution_count": null,
      "outputs": []
    },
    {
      "cell_type": "code",
      "metadata": {
        "id": "6PTkH0fyO7TH"
      },
      "source": [
        "preprocess.fit_transform(X_train).shape"
      ],
      "execution_count": null,
      "outputs": []
    },
    {
      "cell_type": "code",
      "metadata": {
        "id": "62CITadAO7TI"
      },
      "source": [
        "preprocess.fit_transform(X_train)[0]"
      ],
      "execution_count": null,
      "outputs": []
    },
    {
      "cell_type": "code",
      "metadata": {
        "id": "ygtpwdJSO7TJ"
      },
      "source": [
        "# pipelline Model\n",
        "\n",
        "from xgboost import XGBClassifier\n",
        "pipe_reg= make_pipeline(\n",
        "    preprocess, \n",
        "    XGBClassifier()\n",
        "    )"
      ],
      "execution_count": null,
      "outputs": []
    },
    {
      "cell_type": "code",
      "metadata": {
        "id": "5kqkheEaO7TJ"
      },
      "source": [
        "pipe_reg.get_params()"
      ],
      "execution_count": null,
      "outputs": []
    },
    {
      "cell_type": "code",
      "metadata": {
        "id": "XKjazoy5O7TJ"
      },
      "source": [
        "# hyper parameters\n",
        "\n",
        "param_grid = {\n",
        "    'xgbclassifier__n_estimators': [50, 100, 150, 200],\n",
        "    'xgbclassifier__learning_rate': [0.01, 0.1, 0.2, 0.3],\n",
        "    'xgbclassifier__max_depth': range(3, 5),\n",
        "    'xgbclassifier__colsample_bytree': [i/10.0 for i in range(1, 3)],\n",
        "    'xgbclassifier__gamma': [i/10.0 for i in range(3)],\n",
        "    \n",
        "}"
      ],
      "execution_count": null,
      "outputs": []
    },
    {
      "cell_type": "code",
      "metadata": {
        "id": "LZY_I0agBoED"
      },
      "source": [
        "# AUC and accuracy as score\n",
        "\n",
        "from sklearn.metrics import accuracy_score, make_scorer, f1_score\n",
        "scorer = make_scorer(f1_score, pos_label=\"yes\", average=\"micro\")"
      ],
      "execution_count": null,
      "outputs": []
    },
    {
      "cell_type": "code",
      "metadata": {
        "id": "yvVUlnXRO7TK"
      },
      "source": [
        "from sklearn.model_selection import RandomizedSearchCV, KFold\n",
        "\n",
        "kf= KFold( n_splits=5, shuffle=True )\n",
        "gs= RandomizedSearchCV( pipe_reg, param_distributions=param_grid,  scoring=scorer,  cv=kf,verbose=3)"
      ],
      "execution_count": null,
      "outputs": []
    },
    {
      "cell_type": "code",
      "metadata": {
        "id": "9mu58K1nO7TK"
      },
      "source": [
        "gs.fit(X_train, y_train)"
      ],
      "execution_count": null,
      "outputs": []
    },
    {
      "cell_type": "code",
      "metadata": {
        "id": "WCQsQ6frO7TK"
      },
      "source": [
        "gs.best_estimator_"
      ],
      "execution_count": null,
      "outputs": []
    },
    {
      "cell_type": "code",
      "metadata": {
        "id": "52_M4t9mO7TL"
      },
      "source": [
        "gs.best_params_"
      ],
      "execution_count": null,
      "outputs": []
    },
    {
      "cell_type": "code",
      "metadata": {
        "id": "I-4oLnkiO7TL"
      },
      "source": [
        "X_test.sample()"
      ],
      "execution_count": null,
      "outputs": []
    },
    {
      "cell_type": "code",
      "metadata": {
        "id": "L2xALOuEO7TL"
      },
      "source": [
        "std_Pred=X_test.loc[\"061108800\"]"
      ],
      "execution_count": null,
      "outputs": []
    },
    {
      "cell_type": "code",
      "metadata": {
        "id": "k5I5DVSSO7TM"
      },
      "source": [
        "gs.predict(X_test.loc[\"061108800\"])"
      ],
      "execution_count": null,
      "outputs": []
    },
    {
      "cell_type": "code",
      "metadata": {
        "id": "vHKbm3jiO7TM"
      },
      "source": [
        "std_Pred[\"Predicted_mark\"]=gs.predict(X_test.loc[\"070229174S\"])"
      ],
      "execution_count": null,
      "outputs": []
    },
    {
      "cell_type": "code",
      "metadata": {
        "id": "bRKsloF7O7TN"
      },
      "source": [
        "std_Pred"
      ],
      "execution_count": null,
      "outputs": []
    },
    {
      "cell_type": "code",
      "metadata": {
        "id": "GNl60l11O7TN"
      },
      "source": [
        "y_pred=gs.predict(X_test)"
      ],
      "execution_count": null,
      "outputs": []
    },
    {
      "cell_type": "code",
      "metadata": {
        "id": "JGL5XFCMO7TT"
      },
      "source": [
        "#  Last Mark Comparaison\n",
        "\n",
        "pd.DataFrame({\"Actual Mark\": y_test, \"Predicted Mark\": y_pred}).sample(6)"
      ],
      "execution_count": null,
      "outputs": []
    },
    {
      "cell_type": "code",
      "metadata": {
        "id": "jGIG1Z2CO7TT"
      },
      "source": [
        "X_test[\"predicted_Mark\"]=y_pred"
      ],
      "execution_count": null,
      "outputs": []
    },
    {
      "cell_type": "markdown",
      "metadata": {
        "id": "Z9gewdIt7G0R"
      },
      "source": [
        "# Old stuff"
      ]
    },
    {
      "cell_type": "code",
      "metadata": {
        "id": "fsKai4Co69B4"
      },
      "source": [
        "def plot_std_Data(st, cs,chk,  status=False):\n",
        "  course.options = std_d[st]\n",
        "  plt.rcParams.update({'font.size': 25})\n",
        "  \n",
        "\n",
        "  #  subplots   x, y  :  should be related to the number of Activity_type of current student.\n",
        "\n",
        "  list_rec=recommend( st)\n",
        "\n",
        "\n",
        "  fig, ax=plt.subplots(1, 2, figsize=(10,10) )\n",
        "  plt.subplots_adjust(top = 0.99, bottom=0.01,wspace=0.4, hspace= 0.4)\n",
        "\n",
        "  if status:\n",
        "    ref_q=dt_st.reset_index().query(f\"student_ID=='{st}' & Course_code=='{cs}' & Activity_type=='0' \").Act_submit_Time.max()\n",
        "    xq_point=[ref_q, ref_q+ timedelta(days=7)]\n",
        "    yq_point=[dt_st.loc[ref_q, \"Act_mark\"]       , predict_std.reset_index().query(f\"student_ID=='{st}'  & Course_code=='{cs}' & Activity_type=='0' \").last_mark]\n",
        "    ax[0,1].plot(xq_point , yq_point, linestyle='dashed', marker='o',\n",
        "                 markerfacecolor='blue', markersize=12)\n",
        "    \n",
        "\n",
        "    ref_a=dt_st.reset_index().query(f\"student_ID=='{st}' & Course_code=='{cs}' & Activity_type=='1' \").Act_submit_Time.max()\n",
        "    xa_point=[ref_a, ref_a+ timedelta(days=7)]\n",
        "    ya_point=[dt_st.loc[ref_a, \"Act_mark\"]       , predict_std.reset_index().query(f\"student_ID=='{st}'  & Course_code=='{cs}' & Activity_type=='0' \").last_mark]\n",
        "    ax[0,0].plot(xa_point , ya_point, linestyle='dashed', marker='o',\n",
        "                 markerfacecolor='blue', markersize=12)\n",
        "\n",
        "\n",
        "  dt_st.query(f\"Course_code=='{cs}' & student_ID=='{st}' & Activity_type=='{chk}'\").Act_mark.plot( \n",
        "      subplots=True,marker=\"o\",    ax=ax[0] , color=\"brown\")\n",
        "   \n",
        " \n",
        "  \n",
        "\n",
        "  # dt_st.query(f\"Course_code=='{cs}' & student_ID=='{st}' & Activity_type=='0'\").Act_mark.plot( \n",
        "  #     subplots=True, marker=\"s\",   ax=ax[0,1] , color=\"brown\")\n",
        "\n",
        "  # add time Avg per Activity\n",
        "\n",
        "  # ax4=ax[0].twinx()\n",
        "  dt_st.query(f\"Course_code=='{cs}' & student_ID=='{st}' & Activity_type=='{chk}'\").Act_time.plot( \n",
        "      subplots=True, marker=\"s\",   ax=ax[1] , color=\"green\")\n",
        "\n",
        "\n",
        "\n",
        "  # ax3=ax[1,0].twinx()\n",
        "  # dt_st.query(f\"Course_code=='{cs}' & student_ID=='{st}' & Activity_type=='0'\").Act_time.plot( subplots=True, marker=\"s\",   ax=ax3 , color=\"green\")\n",
        "\n",
        "  Alabel=\"Assignments Mark\"   if chk  else  \"Quizz Mark \"\n",
        "  Atitle= \" Assignement Mark Trend / Month Timeline\"  if chk   else \" Quizz Mark Trend / Month Timeline\"\n",
        "\n",
        "  # ---------------------------------------------------------------------\n",
        "  # Set title and labels for axes\n",
        "  ax[0].set(xlabel=\"Dates\",\n",
        "        ylabel= Alabel,  # \"Assignments Mark\",\n",
        "        title=Atitle ) # Assignement Mark Trend / Month Timeline\")\n",
        "  fig.autofmt_xdate(rotation=45)\n",
        "\n",
        "  ax[0].xaxis.set_major_formatter(DateFormatter(\"%Y-%b\"))\n",
        "  \n",
        "# ----------------------------------------------------------------------\n",
        "  # ax[0,1].set(xlabel=\"Dates\",\n",
        "  #       ylabel=\"Quizzes Marks\",\n",
        "  #       title=\" Quizzes Marks Trend / Month Timeline\")\n",
        "  Qlabel=\"Assignments Time\"   if chk  else  \"Quizz Time \"\n",
        "\n",
        "  ax[1].set(\n",
        "        ylabel=  Qlabel # \"Quizz Mark\"\n",
        "        )\n",
        "  ax[1].grid()\n",
        "  ax[1].legend()\n",
        "  \n",
        "  # ---------------------------------------------------------------------\n",
        "  # ax[1,1].set(ylabel=\"Quizzes Submission time \",\n",
        "  #       title= \"Quizzes Time Submission Trend / Month\")\n",
        "  # # ----------------------------------------------------------------\n",
        "  # ax[1,0].set(xlabel=\"Dates\",\n",
        "  #       ylabel=\"Assignments Subission Time\",\n",
        "  #       title=\"Assignments Time Submission Trend / Month\")\n",
        "\n",
        "  fig.autofmt_xdate(rotation=45)\n",
        "#-----------------------------------------------------------------------\n",
        " \n",
        "  # ax[0].grid()\n",
        "  # ax[0,1].grid()\n",
        "  # ax[1,0].grid()\n",
        "  # ax[1,1].xaxis.set_major_formatter(DateFormatter(\"%Y-%b\"))\n",
        "  ax[0].xaxis.set_major_formatter(DateFormatter(\"%Y-%b\"))\n",
        "\n",
        "  #---------------------------------------\n",
        "  # ax[0].legend()\n",
        "  # ax4.legend()\n",
        "  # ax[0,1].legend()\n",
        "      \n",
        "  plt.show()"
      ],
      "execution_count": null,
      "outputs": []
    },
    {
      "cell_type": "code",
      "metadata": {
        "id": "CPn35aQf4WBw"
      },
      "source": [
        "def plot_std_Data(st, cs, status=False):\n",
        "  course.options = std_d[st]\n",
        "  plt.rcParams.update({'font.size': 25})\n",
        "  \n",
        "\n",
        "  #  subplots   x, y  :  should be related to the number of Activity_type of current student.\n",
        "\n",
        "\n",
        "  fig, ax=plt.subplots(2, 2, figsize=(30,20) )\n",
        "  plt.subplots_adjust(top = 0.99, bottom=0.01,wspace=0.4, hspace= 0.3)\n",
        "\n",
        "  if status:\n",
        "    ref_q=dt_st.reset_index().query(f\"student_ID=='{st}' & Course_code=='{cs}' & Activity_type=='0' \").Act_submit_Time.max()\n",
        "    xq_point=[ref_q, ref_q+ timedelta(days=7)]\n",
        "    yq_point=[dt_st.loc[ref_q, \"Act_mark\"]       , predict_std.reset_index().query(f\"student_ID=='{st}'  & Course_code=='{cs}' & Activity_type=='0' \").last_mark]\n",
        "    ax[1,1].plot(xq_point , yq_point, linestyle='dashed', marker='o',\n",
        "                 markerfacecolor='blue', markersize=12)\n",
        "    # ax[1,1].axvline(x=xq_point, c='red', lw=2, alpha=0.5, ls='--')\n",
        "    \n",
        "\n",
        "    ref_a=dt_st.reset_index().query(f\"student_ID=='{st}' & Course_code=='{cs}' & Activity_type=='1' \").Act_submit_Time.max()\n",
        "    xa_point=[ref_a, ref_a+ timedelta(days=7)]\n",
        "    ya_point=[dt_st.loc[ref_a, \"Act_mark\"]       , predict_std.reset_index().query(f\"student_ID=='{st}'  & Course_code=='{cs}' & Activity_type=='0' \").last_mark]\n",
        "    ax[1,0].plot(xa_point , ya_point, linestyle='dashed', marker='o',\n",
        "                 markerfacecolor='blue', markersize=12)\n",
        "    # ax[1,0].axvline(x=xa_point, c='red', lw=2, alpha=0.5, ls='--')\n",
        "\n",
        "\n",
        "  dt_st.query(f\"Course_code=='{cs}' & student_ID=='{st}' & Activity_type=='1'\").Act_mark.plot( \n",
        "      subplots=True,marker=\"o\",    ax=ax[1,0] , color=\"brown\")\n",
        "   \n",
        "  # dt_st.query(f\"Course_code=='{cs}' & Activity_type=='1'\").Act_mark.plot( \n",
        "  #     subplots=True,marker=\"o\",    ax=ax[0, 0] , color=\"brown\")\n",
        "  \n",
        "  \n",
        "\n",
        "  dt_st.query(f\"Course_code=='{cs}' & student_ID=='{st}' & Activity_type=='0'\").Act_mark.plot( \n",
        "      subplots=True, marker=\"s\",   ax=ax[1,1] , color=\"brown\")\n",
        "\n",
        "  # add time Avg per Activity\n",
        "\n",
        "  ax4=ax[0,1].twinx()\n",
        "  dt_st.query(f\"Course_code=='{cs}' & student_ID=='{st}' & Activity_type=='1'\").Act_time.plot( \n",
        "      subplots=True, marker=\"s\",   ax=ax4 , color=\"green\")\n",
        "\n",
        "\n",
        "\n",
        "  ax3=ax[0,0].twinx()\n",
        "  dt_st.query(f\"Course_code=='{cs}' & student_ID=='{st}' & Activity_type=='0'\").Act_time.plot( subplots=True, marker=\"s\",   ax=ax3 , color=\"green\")\n",
        "\n",
        "  \n",
        "  # ---------------------------------------------------------------------\n",
        "  # Set title and labels for axes\n",
        "  ax[1,0].set(xlabel=\"Dates\",\n",
        "        ylabel=\"Assignments Mark\",\n",
        "        title=\" Assignement Mark Trend / Month Timeline\")\n",
        "  fig.autofmt_xdate(rotation=45)\n",
        "\n",
        "  ax[1,0].xaxis.set_major_formatter(DateFormatter(\"%Y-%b\"))\n",
        "  \n",
        "# ----------------------------------------------------------------------\n",
        "  ax[1,1].set(xlabel=\"Dates\",\n",
        "        ylabel=\"Quizzes Marks\",\n",
        "        title=\" Quizzes Marks Trend / Month Timeline\")\n",
        "  ax4.set(\n",
        "        ylabel=\"Quizz Mark\"\n",
        "        )\n",
        "  ax4.grid()\n",
        "  ax4.legend()\n",
        "  \n",
        "  # ---------------------------------------------------------------------\n",
        "  ax[0,1].set(ylabel=\"Quizzes Submission time \",\n",
        "        title= \"Quizzes Time Submission Trend / Month\")\n",
        "  # ----------------------------------------------------------------\n",
        "  ax[0,0].set(xlabel=\"Dates\",\n",
        "        ylabel=\"Assignments Subission Time\",\n",
        "        title=\"Assignments Time Submission Trend / Month\")\n",
        "\n",
        "  fig.autofmt_xdate(rotation=45)\n",
        "#-----------------------------------------------------------------------\n",
        "  ax[1,0].grid()\n",
        "  ax[1,1].grid()\n",
        "  ax[0,0].grid()\n",
        "  ax[0,1].xaxis.set_major_formatter(DateFormatter(\"%Y-%b\"))\n",
        "  ax[0,0].xaxis.set_major_formatter(DateFormatter(\"%Y-%b\"))\n",
        "\n",
        "  #---------------------------------------\n",
        "  ax[1,0].legend()\n",
        "  ax3.legend()\n",
        "  ax[1,1].legend()\n",
        "      \n",
        "  plt.show()\n",
        "  "
      ],
      "execution_count": null,
      "outputs": []
    },
    {
      "cell_type": "code",
      "metadata": {
        "id": "cIuiybpVJ7Oh"
      },
      "source": [
        "@interact(st = stID, cs = course, chkbx= box)\n",
        "def plot_data( st, cs, chkbx):\n",
        "  print(((chkbx)+0))\n",
        "  \n",
        "  # print(predict_std.reset_index().query(f\"Course_code=='{cs}' & student_ID=='{st}'\"))\n",
        "  plot_std_Data(st, cs, ((chkbx)+0))"
      ],
      "execution_count": null,
      "outputs": []
    },
    {
      "cell_type": "code",
      "metadata": {
        "id": "IerlcN02TTl-"
      },
      "source": [
        "# xs@interact(st = stID, cs = course)\n",
        "# def plot_data( st, cs):xs\n",
        "#   plot_std_Data(st, cs)"
      ],
      "execution_count": null,
      "outputs": []
    },
    {
      "cell_type": "code",
      "metadata": {
        "id": "NxnVyBEQq3uK"
      },
      "source": [
        "@interact(st = stID, cs = course)\n",
        "def plot_data( st, cs):\n",
        "  # print(predict_std.reset_index().query(f\"Course_code=='{cs}' & student_ID=='{st}'\"))\n",
        "  plot_std_Data(st, cs)"
      ],
      "execution_count": null,
      "outputs": []
    },
    {
      "cell_type": "markdown",
      "metadata": {
        "id": "f5tBct2XZDWe"
      },
      "source": [
        "## Compare the selected student's achievments with his colleagues (( box plot ))"
      ]
    },
    {
      "cell_type": "code",
      "metadata": {
        "id": "ambNA7NTw21l"
      },
      "source": [
        "# For the Boxplot plt.boxplot(df_avt.query(\"Activity_id=='g5_3-Act_10'\").Act_mark)"
      ],
      "execution_count": null,
      "outputs": []
    },
    {
      "cell_type": "code",
      "metadata": {
        "id": "d864KxliDd7i"
      },
      "source": [
        "dt_st.sample()"
      ],
      "execution_count": null,
      "outputs": []
    },
    {
      "cell_type": "code",
      "metadata": {
        "id": "8BGUr1VA9PDo"
      },
      "source": [
        "fig, ax=plt.subplots(figsize=(10,10) )\n",
        "ax.plot(\n",
        "    dt_st.reset_index().query(f\"student_ID=='080646195S' & Course_code=='g8_1' & Activity_type=='0' \").Act_submit_Time.max() + timedelta(days=7) , \n",
        "    predict_std.reset_index().query(f\"student_ID=='080646195S'  & Course_code=='g8_1' & Activity_type=='0' \").last_mark\n",
        "       , marker=\"o\" )\n",
        "ax.plot(\n",
        "    dt_st.reset_index().query(f\"student_ID=='080646195S' & Course_code=='g8_1' & Activity_type=='0' \").Act_submit_Time.max() + timedelta(days=14) , \n",
        "    predict_std.reset_index().query(f\"student_ID=='080646195S'  & Course_code=='g8_1' & Activity_type=='0' \").last_mark+1.5\n",
        "       , marker=\"o\" )"
      ],
      "execution_count": null,
      "outputs": []
    },
    {
      "cell_type": "code",
      "metadata": {
        "id": "xvnbeMjcGKsT"
      },
      "source": [
        "ref= dt_st.reset_index().query(f\"student_ID=='101235516S' & Course_code=='g5_3' & Activity_type=='0' \").Act_submit_Time.max()\n",
        "dt_st.loc[ref, \"Act_mark\"]\n"
      ],
      "execution_count": null,
      "outputs": []
    },
    {
      "cell_type": "code",
      "metadata": {
        "id": "4ttZK_dLGvxK"
      },
      "source": [
        "dt_st.reset_index().query(f\"student_ID=='101235516S' & Course_code=='g5_3' & Activity_type=='0' \")"
      ],
      "execution_count": null,
      "outputs": []
    },
    {
      "cell_type": "code",
      "metadata": {
        "id": "KmoeE2qmIuRS"
      },
      "source": [
        "plt.boxplot(df_avt.query(\"Activity_id=='g5_3-Act_12'\")[\"Act_mark\"])"
      ],
      "execution_count": null,
      "outputs": []
    },
    {
      "cell_type": "code",
      "metadata": {
        "id": "QfCYJyt_cyCA"
      },
      "source": [
        "plt.boxplot(df_avt.query(\"student_ID=='090888097S' & Course_code=='g8_1' & Activity_type=='0'\").Act_mark)"
      ],
      "execution_count": null,
      "outputs": []
    },
    {
      "cell_type": "code",
      "metadata": {
        "id": "DfcbUREY2cDU"
      },
      "source": [
        "df_avt.index= df_avt.Act_submit_Time"
      ],
      "execution_count": null,
      "outputs": []
    },
    {
      "cell_type": "markdown",
      "metadata": {
        "id": "riEnovF6Zlby"
      },
      "source": [
        "## Graph all the students achievment in a specific subject"
      ]
    },
    {
      "cell_type": "code",
      "metadata": {
        "id": "sb-TQNS9zFAc"
      },
      "source": [
        "#  Create  the index\n",
        "# df_avt[\"Act_submit_Time\"]= pd.to_datetime(df_avt.Act_submit_Time)\n",
        "df_avt.index=df_avt[\"Act_submit_Time\"]\n",
        "df_avt.sample()"
      ],
      "execution_count": null,
      "outputs": []
    },
    {
      "cell_type": "code",
      "metadata": {
        "id": "CvhqA2fj799L"
      },
      "source": [
        "import plotly.graph_objs as go\n",
        "\n",
        "@interact(sbj=df_avt.Course_code.unique())\n",
        "def plot_subject(sbj):\n",
        "  plt.rcParams.update({'font.size': 25})\n",
        "  x = np.arange(10)\n",
        "  layout = go.Layout(\n",
        "    autosize=False,\n",
        "    width= 1200 , height= 600 )\n",
        "  fig=go.Figure(layout=layout)\n",
        "\n",
        "  fig.add_trace(go.Scatter(      \n",
        "      x=df_avt[(df_avt.Course_code==sbj)&(\n",
        "          df_avt.Activity_type==\"0\")].loc[\"2020-09\":\"2021-09\", \"Act_submit_Time\"].sort_index(), \n",
        "      y=df_avt[(df_avt.Course_code==sbj)&(\n",
        "          df_avt.Activity_type==\"0\")].loc[\"2020-09\":\"2021-09\", \"Act_mark\"].sort_index()\n",
        "      , mode='lines+markers', name=\"Quiz\"))\n",
        "\n",
        "  fig.add_trace(go.Scatter(\n",
        "      x=df_avt[(df_avt.Course_code==sbj)&(\n",
        "          df_avt.Activity_type==\"1\")].loc[\"2020-09\":\"2021-09\", \"Act_submit_Time\"].sort_index(), \n",
        "      y=df_avt[(df_avt.Course_code==sbj)&(\n",
        "          df_avt.Activity_type==\"1\")].loc[\"2020-09\":\"2021-09\", \"Act_mark\"].sort_index()\n",
        "     , mode='lines+markers' ,  name=\"Assignment\"))\n",
        "\n",
        "\n",
        "\n",
        "  \n",
        "  fig.update_layout(hovermode=\"x\" , \n",
        "      # title=\"أداء جميع الطلبة في مادة معينة\",\n",
        "    xaxis_title=\"Submit Time\",\n",
        "    yaxis_title=\"Mark\",\n",
        "    # font=dict(import plotly.graph_objs as go\n",
        "\n",
        "    #     family=\"Courier New, monospace\",\n",
        "    #     size=18,\n",
        "    #     color=\"#7f7f7f\")\n",
        "     title={\n",
        "        'text': \"أداء جميع الطلبة في مادة معينة\",\n",
        "        'y':0.9,\n",
        "        'x':0.5,\n",
        "        'xanchor': 'center',\n",
        "        'yanchor': 'top'}) \n",
        "  fig.show()\n"
      ],
      "execution_count": null,
      "outputs": []
    },
    {
      "cell_type": "markdown",
      "metadata": {
        "id": "38vV0zLxkgSz"
      },
      "source": [
        "## Compare the selected student's Quiz and Assignm. with Average of all students"
      ]
    },
    {
      "cell_type": "code",
      "metadata": {
        "id": "HVU60nESl4cH"
      },
      "source": [
        "df_ActAv=pd.pivot_table(df_avt, index=[\"Course_code\", \"Activity_type\", \"Activity_id\"], \n",
        "               values=[\"Act_diff\", \t\"Act_cp_count\", \t\"Act_time\" , \t\"Act_mark\"] , aggfunc=(\"mean\")).rename(\n",
        "   columns={\n",
        "    \"Act_diff\": \"Act_diff_avg\", \t\n",
        "    \"Act_cp_count\": \"Act_cp_avg\", \t\n",
        "    \"Act_time\" : \"Act_time_avg\" , \t\n",
        "    \"Act_mark\" : \"Act_mark_avg\" \n",
        "   } \n",
        ")"
      ],
      "execution_count": null,
      "outputs": []
    },
    {
      "cell_type": "code",
      "metadata": {
        "id": "bPqBYMoZFIHY"
      },
      "source": [
        "df_ActAv.head()"
      ],
      "execution_count": null,
      "outputs": []
    },
    {
      "cell_type": "code",
      "metadata": {
        "id": "JaQConHkrLZ2"
      },
      "source": [
        "df_ActAv.shape"
      ],
      "execution_count": null,
      "outputs": []
    },
    {
      "cell_type": "code",
      "metadata": {
        "id": "rgyE9emkgyDY"
      },
      "source": [
        "df_avt.loc[\"2020-09\"].head()"
      ],
      "execution_count": null,
      "outputs": []
    },
    {
      "cell_type": "code",
      "metadata": {
        "id": "7QUyR3Bj4xp5"
      },
      "source": [
        "df_avt.groupby([\"student_ID\", \"Activity_type\"]).agg(\"count\").max()"
      ],
      "execution_count": null,
      "outputs": []
    },
    {
      "cell_type": "code",
      "metadata": {
        "id": "cnbhHR126cEn"
      },
      "source": [
        "df_avt[df_avt.student_ID==\"080237875\"].loc[: ,[\"Course_code\", \"Activity_type\" , \"Activity_id\", \"Act_diff\", \t\"Act_cp_count\", \t\"Act_time\"\t,\"Act_mark\"]]"
      ],
      "execution_count": null,
      "outputs": []
    },
    {
      "cell_type": "code",
      "metadata": {
        "id": "1ttA46uHigbZ"
      },
      "source": [
        "df_plt=df_avt[df_avt.student_ID==\"100611764\"].loc[\"2020-4\":\"2021-2\" ,[\"Course_code\", \"Activity_type\" , \"Activity_id\", \"Act_diff\", \t\"Act_cp_count\", \t\"Act_time\"\t,\"Act_mark\"]]"
      ],
      "execution_count": null,
      "outputs": []
    },
    {
      "cell_type": "code",
      "metadata": {
        "id": "nw57VIPVYcWg"
      },
      "source": [
        "df_plt.groupby(\"Course_code\").Activity_id.agg(\"count\")"
      ],
      "execution_count": null,
      "outputs": []
    },
    {
      "cell_type": "code",
      "metadata": {
        "id": "jWCFQ0JQsVaA"
      },
      "source": [
        "df_plt.reset_index(inplace=True)"
      ],
      "execution_count": null,
      "outputs": []
    },
    {
      "cell_type": "code",
      "metadata": {
        "id": "9N6UkyhfiSdJ"
      },
      "source": [
        "df_plt=df_plt.merge( df_ActAv, on=[\"Activity_type\", \"Activity_id\" ])"
      ],
      "execution_count": null,
      "outputs": []
    },
    {
      "cell_type": "code",
      "metadata": {
        "id": "w8_8WpampUuy"
      },
      "source": [
        "df_plt.keys()"
      ],
      "execution_count": null,
      "outputs": []
    },
    {
      "cell_type": "code",
      "metadata": {
        "id": "Vpe522sppPKs"
      },
      "source": [
        "df_plt.set_index(\"Act_submit_Time\", inplace=True)"
      ],
      "execution_count": null,
      "outputs": []
    },
    {
      "cell_type": "code",
      "metadata": {
        "id": "nRUOMSNAr6E0"
      },
      "source": [
        "# this is dataset for a particular Student.\n",
        "df_plt.head()"
      ],
      "execution_count": null,
      "outputs": []
    },
    {
      "cell_type": "code",
      "metadata": {
        "id": "MIY4x-CcyJHn"
      },
      "source": [
        "df_plt[\"Activity_type\"]=df_plt.Activity_type.astype(int)  "
      ],
      "execution_count": null,
      "outputs": []
    },
    {
      "cell_type": "code",
      "metadata": {
        "id": "uvwt7ut-Husi"
      },
      "source": [
        "df_plt[df_plt.Activity_type==0][\"Act_mark\"]"
      ],
      "execution_count": null,
      "outputs": []
    },
    {
      "cell_type": "code",
      "metadata": {
        "id": "urTWLsB5ySr9"
      },
      "source": [
        "df_plt.info()"
      ],
      "execution_count": null,
      "outputs": []
    },
    {
      "cell_type": "code",
      "metadata": {
        "id": "t4WMII75PQu5"
      },
      "source": [
        "df_plt[df_plt.Activity_type==1][\"Act_mark\"]"
      ],
      "execution_count": null,
      "outputs": []
    },
    {
      "cell_type": "code",
      "metadata": {
        "id": "yKylbH4JgWHn"
      },
      "source": [
        "import matplotlib.pyplot as plt\n",
        "from matplotlib.dates import DateFormatter\n",
        "import seaborn as sns"
      ],
      "execution_count": null,
      "outputs": []
    },
    {
      "cell_type": "code",
      "metadata": {
        "id": "M-prVAb6VvY9"
      },
      "source": [
        "plt.rcParams.update({'font.size': 22})\n",
        "fig = plt.figure(figsize=(18,8))\n",
        "ax1 = fig.add_subplot(111)\n",
        "\n",
        "df_plt[df_plt.Activity_type==0][\"Act_mark\"].sort_index().plot( marker=\"o\" , color=\"blue\", label=\"Assignements Mark\", ax=ax1)\n",
        "ax2=ax1.twinx()\n",
        "df_plt[df_plt.Activity_type==0][\"Act_mark_avg\"].sort_index().plot( ax=ax2, marker=\"s\" , color=\"green\", label=\"Average Assignement Marks\" )\n",
        "\n",
        "#plt.legend()\n",
        "ax1.legend()\n",
        "ax2.legend(loc=\"lower right\")\n",
        "ax1.grid()\n",
        "ax2.set_ylabel(\"Assign. Avg. Mark\")\n",
        "ax1.set_ylabel(\"Assign. Mark\")\n",
        "\n",
        "\n",
        "\n",
        "\n",
        "ax1.set(xlabel=\"Dates\",\n",
        "        #ylabel=\"Quizzes Marks\",\n",
        "        title=\"Assign. Mark VS Assign. Avg Mark Timeline\"        )\n",
        "fig.autofmt_xdate(rotation=45)"
      ],
      "execution_count": null,
      "outputs": []
    },
    {
      "cell_type": "code",
      "metadata": {
        "id": "Yd1bmUf1HPwx"
      },
      "source": [
        "#####  TRY TO PLOT IT IN ATRACTIVE WAY"
      ],
      "execution_count": null,
      "outputs": []
    },
    {
      "cell_type": "code",
      "metadata": {
        "id": "OgYDu4wlHQM2"
      },
      "source": [
        "import plotly.graph_objs as go\n",
        "@interact(sbj=df_avt.Course_code.unique())\n",
        "def plot_subject(sbj):\n",
        "  plt.rcParams.update({'font.size': 25})\n",
        "  x = np.arange(10)\n",
        "  layout = go.Layout(\n",
        "    autosize=False,\n",
        "    width= 1200 , height= 600 )\n",
        "  fig=go.Figure(layout=layout)\n",
        "\n",
        "  fig.add_trace(go.Scatter(      \n",
        "      x=df_plt[(df_plt.Course_code==sbj)&(\n",
        "          df_plt.Activity_type==\"0\")].loc[\"2020-09\":\"2021-09\", \"Act_time\"].sort_index(), \n",
        "      y=df_plt[(df_plt.Course_code==sbj)&(\n",
        "          df_plt.Activity_type==\"0\")].loc[\"2020-09\":\"2021-09\", \"Act_mark\"].sort_index()\n",
        "      , mode='lines+markers', name=\"Quiz\"))\n",
        "\n",
        "\n",
        "\n",
        "  # fig.add_trace(go.Scatter(      \n",
        "  #     x=df_plt[(df_plt.Course_code==sbj)&(\n",
        "  #         df_plt.Activity_type==\"1\")].loc[\"2020-09\":\"2021-09\", \"Act_submit_Time\"].sort_index(), \n",
        "  #     y=df_plt[(df_plt.Course_code==sbj)&(\n",
        "  #         df_plt.Activity_type==\"1\")].loc[\"2020-09\":\"2021-09\", \"Act_mark\"].sort_index()\n",
        "  #     , mode='lines+markers', name=\"Assignment\"))\n",
        "\n",
        "\n",
        "\n",
        "\n",
        "  \n",
        "  fig.update_layout(hovermode=\"x\" , \n",
        "      # title=\"أداء جميع الطلبة في مادة معينة\",\n",
        "    xaxis_title=\"Submit Time\",\n",
        "    yaxis_title=\"Mark\",\n",
        "    # font=dict(\n",
        "    #     family=\"Courier New, monospace\",\n",
        "    #     size=18,\n",
        "    #     color=\"#7f7f7f\")\n",
        "     title={\n",
        "        'text': \"أداء جميع الطلبة في مادة معينة\",\n",
        "        'y':0.9,\n",
        "        'x':0.5,\n",
        "        'xanchor': 'center',\n",
        "        'yanchor': 'top'}) \n",
        "  fig.show()\n"
      ],
      "execution_count": null,
      "outputs": []
    },
    {
      "cell_type": "markdown",
      "metadata": {
        "id": "0CXKXa9h8DwK"
      },
      "source": [
        "## Graph the predicted mark of a specific student"
      ]
    },
    {
      "cell_type": "code",
      "metadata": {
        "id": "JnDE5heA4N2C"
      },
      "source": [
        "#  NUmber of Assignments is less then Quizzes\n",
        "@interact(st = stID, cs = course)\n",
        "def plot_data( st, cs):\n",
        "  # print(predict_std.reset_index().query(f\"Course_code=='{cs}' & student_ID=='{st}'\"))\n",
        "  \n",
        "  plot_std_Data(st, cs, True )"
      ],
      "execution_count": null,
      "outputs": []
    },
    {
      "cell_type": "code",
      "metadata": {
        "id": "vY5INdj4pbvr"
      },
      "source": [
        ""
      ],
      "execution_count": null,
      "outputs": []
    },
    {
      "cell_type": "code",
      "metadata": {
        "id": "ofcSDJQn91m3"
      },
      "source": [
        ""
      ],
      "execution_count": null,
      "outputs": []
    },
    {
      "cell_type": "code",
      "metadata": {
        "id": "K4e0DOLC91uw"
      },
      "source": [
        "a=df_avt.Activity_id.unique()"
      ],
      "execution_count": null,
      "outputs": []
    },
    {
      "cell_type": "code",
      "metadata": {
        "id": "FpDUGaPI91yh"
      },
      "source": [
        "b= dt_st[dt_st.student_ID==\"070368745S\"][\"Activity_id\"].unique()"
      ],
      "execution_count": null,
      "outputs": []
    },
    {
      "cell_type": "code",
      "metadata": {
        "id": "IJ64Qb5iG36a"
      },
      "source": [
        "b"
      ],
      "execution_count": null,
      "outputs": []
    },
    {
      "cell_type": "code",
      "metadata": {
        "id": "PNySYt23KKcj"
      },
      "source": [
        "c=df_avt.loc[df_avt['Activity_id'] == b]"
      ],
      "execution_count": null,
      "outputs": []
    },
    {
      "cell_type": "code",
      "metadata": {
        "id": "S9lKyzFM912A"
      },
      "source": [
        "import pandas as pd\n",
        "import numpy as np\n",
        "import matplotlib.pyplot as plt\n",
        "import seaborn as sns\n",
        "\n",
        "dfx=pd.DataFrame({'S':np.random.randint(10,100,9)*10,'C': \n",
        "['X','X','X','Y','Y','Y','Z','Z','Z']})\n",
        "\n",
        "fig,ax=plt.subplots()\n",
        "mx=dfx.groupby('C')['S'].median()\n",
        "sns.boxplot(y='S',x='C',data=dfx,ax=ax)\n",
        "sns.lineplot(y=mx.values,x=mx.index,ax=ax)\n",
        "plt.show()"
      ],
      "execution_count": null,
      "outputs": []
    },
    {
      "cell_type": "code",
      "metadata": {
        "id": "BinehQBV915M"
      },
      "source": [
        ""
      ],
      "execution_count": null,
      "outputs": []
    },
    {
      "cell_type": "code",
      "metadata": {
        "id": "9ftRaEsD918a"
      },
      "source": [
        ""
      ],
      "execution_count": null,
      "outputs": []
    },
    {
      "cell_type": "code",
      "metadata": {
        "id": "6oAvpPkA91_Y"
      },
      "source": [
        ""
      ],
      "execution_count": null,
      "outputs": []
    },
    {
      "cell_type": "markdown",
      "metadata": {
        "id": "85tpcOGfnqOV"
      },
      "source": [
        "## Recommendation \n",
        "\n"
      ]
    },
    {
      "cell_type": "code",
      "metadata": {
        "id": "sLsIHQ_kwE-J"
      },
      "source": [
        "dt_st.head()"
      ],
      "execution_count": null,
      "outputs": []
    },
    {
      "cell_type": "code",
      "metadata": {
        "id": "z1pAKy7UwE1q"
      },
      "source": [
        "target_st = dt_st[[\"student_ID\",\t\"Course_code\",\t\"Activity_id\"]].query(\"student_ID=='100222464S' \")"
      ],
      "execution_count": null,
      "outputs": []
    },
    {
      "cell_type": "code",
      "metadata": {
        "id": "516Vre4EwEtp"
      },
      "source": [
        "target_st.Activity_id.unique()"
      ],
      "execution_count": null,
      "outputs": []
    },
    {
      "cell_type": "code",
      "metadata": {
        "id": "ILchXJZR0NCs"
      },
      "source": [
        "target_st.drop_duplicates(subset=[\"Course_code\"], keep=\"last\", inplace=True)"
      ],
      "execution_count": null,
      "outputs": []
    },
    {
      "cell_type": "code",
      "metadata": {
        "id": "7A5dbm800kDc"
      },
      "source": [
        "target_st"
      ],
      "execution_count": null,
      "outputs": []
    },
    {
      "cell_type": "code",
      "metadata": {
        "id": "vjwueRKb-XV2"
      },
      "source": [
        "def recommend( c, a, q, sb, lob):\n",
        "  return {\n",
        "          #\"student_ID\": i ,\n",
        "          \"Course_code\":c,  \n",
        "          \"Activity_id\": a,\n",
        "                    \n",
        "\n",
        "        \"q_id\": q,\n",
        "        \"subcp_id\":sb, \n",
        "        \"lob_id\": lob,\n",
        "      }"
      ],
      "execution_count": null,
      "outputs": []
    },
    {
      "cell_type": "code",
      "metadata": {
        "id": "q2mNDoaUvwTD"
      },
      "source": [
        "[  f\"{id} the color {col} id encoded  ans {code}\"  for id,  code, col in  zip([1, 2, 3], [\"#0000FF\", \"#ccaaFF\", \"#77aabb\"], [\"Blue\", \"Yellow\", \"Magenta\"])]"
      ],
      "execution_count": null,
      "outputs": []
    },
    {
      "cell_type": "code",
      "metadata": {
        "id": "KXq3cRj50_IM"
      },
      "source": [
        "for  course , act in zip(target_st.Course_code , target_st.Activity_id):\n",
        "  print( course + \" \" +   act)"
      ],
      "execution_count": null,
      "outputs": []
    },
    {
      "cell_type": "code",
      "metadata": {
        "id": "wxE_-qRt2ptf"
      },
      "source": [
        "lst=[]\n",
        "#std_array= dt_st.student_ID\n",
        "std_course= dt_st.query(\"student_ID=='100222464S'\").Course_code.unique()\n",
        "std_act= dt_st.query(\"student_ID=='100222464S'\").Activity_id.unique()\n",
        "\n",
        "for  course , act in zip(target_st.Course_code , target_st.Activity_id):# c in df_avt.Course_code.unique():\n",
        "  for Q in range(int(4*np.random.rand()+2)):\n",
        "      for subcp in range(int(3*np.random.rand()+2)):\n",
        "        for lob  in range(int(6*np.random.rand()+2)):\n",
        "          lst.append(recommend(course, act, f\"Q_{Q}\", f\"subcp_{subcp}\", f\"lob_{lob}\" ))\n",
        "               \n",
        "target_st=pd.DataFrame(lst)"
      ],
      "execution_count": null,
      "outputs": []
    },
    {
      "cell_type": "code",
      "metadata": {
        "id": "ZPi0Z_Tr2pqd"
      },
      "source": [
        "target_st.query(\"Course_code=='g5_2'\").lob_id.sample(5).unique()"
      ],
      "execution_count": null,
      "outputs": []
    },
    {
      "cell_type": "code",
      "metadata": {
        "id": "PZMyqp0o2pmS"
      },
      "source": [
        ""
      ],
      "execution_count": null,
      "outputs": []
    },
    {
      "cell_type": "code",
      "metadata": {
        "id": "jgipE_S22piz"
      },
      "source": [
        ""
      ],
      "execution_count": null,
      "outputs": []
    },
    {
      "cell_type": "code",
      "metadata": {
        "id": "DsMCN0fjfejG"
      },
      "source": [
        ""
      ],
      "execution_count": null,
      "outputs": []
    },
    {
      "cell_type": "code",
      "metadata": {
        "id": "-xziun4AffJ5"
      },
      "source": [
        "def dataJson(c, act):\n",
        "  return {\n",
        "          \"Course_code\":c,  \n",
        "          \"Activity_id\": act,\n",
        "          \n",
        "          \n",
        "\n",
        "        # \"subcp_id\": random.choice([ \"sub_\"+str(k) for k in range(1,4)]), \n",
        "        # \"lob_id\": random.choice([ \"lob_\"+str(k) for k in range(1,50)]),\n",
        "        # \"cp_id\":  random.choice([ \"cp_\"+str(k) for k in range(1,9)])\n",
        "      }"
      ],
      "execution_count": null,
      "outputs": []
    },
    {
      "cell_type": "code",
      "metadata": {
        "id": "akZg9nshfegp"
      },
      "source": [
        ""
      ],
      "execution_count": null,
      "outputs": []
    },
    {
      "cell_type": "code",
      "metadata": {
        "id": "vntvjozRfiLl"
      },
      "source": [
        "from random_timestamp import random_timestamp\n",
        "lst=[]\n",
        "std_course= dt_st.Course_code\n",
        "std_act= dt_st.Activity_id\n",
        "\n",
        "for  course, i in zip(std_course , std_act):# c in df_avt.Course_code.unique():\n",
        "  for n in i:\n",
        "    for j in [f\"q_{act}\"  for act in range(10,19)]: #range (1, int((2*np.random.rand()+8))):\n",
        "      lst.append(data( course , n))\n",
        "    \n",
        "     \n",
        "n=pd.DataFrame(lst)"
      ],
      "execution_count": null,
      "outputs": []
    },
    {
      "cell_type": "code",
      "metadata": {
        "id": "yANmXAOvwD1u"
      },
      "source": [
        "###########    OLD VERSION     #############"
      ],
      "execution_count": null,
      "outputs": []
    },
    {
      "cell_type": "code",
      "metadata": {
        "id": "tNyaEbhixHpP"
      },
      "source": [
        "df_avt.head()"
      ],
      "execution_count": null,
      "outputs": []
    },
    {
      "cell_type": "code",
      "metadata": {
        "id": "4E5ea_sfxPpV"
      },
      "source": [
        "df_avt = df_avt.reset_index()"
      ],
      "execution_count": null,
      "outputs": []
    },
    {
      "cell_type": "code",
      "metadata": {
        "id": "FYApZ4Y-iAXw"
      },
      "source": [
        "df_avt = df_avt.drop(['Act_submit_Time'], axis = 1)"
      ],
      "execution_count": null,
      "outputs": []
    },
    {
      "cell_type": "code",
      "metadata": {
        "id": "Ldxq8iQk4dDp"
      },
      "source": [
        "questions = pd.DataFrame()"
      ],
      "execution_count": null,
      "outputs": []
    },
    {
      "cell_type": "code",
      "metadata": {
        "id": "yFzgyfDKollV"
      },
      "source": [
        "questions[\"Activity_id\"] = df_avt[\"Activity_id\"]\n",
        "questions[\"Activity_type\"] = df_avt[\"Activity_type\"]"
      ],
      "execution_count": null,
      "outputs": []
    },
    {
      "cell_type": "code",
      "metadata": {
        "id": "oMc8ptnrwENV"
      },
      "source": [
        "questions.head()"
      ],
      "execution_count": null,
      "outputs": []
    },
    {
      "cell_type": "code",
      "metadata": {
        "id": "x9EOsg1t58Lb"
      },
      "source": [
        "#questions = questions.reset_index()"
      ],
      "execution_count": null,
      "outputs": []
    },
    {
      "cell_type": "code",
      "metadata": {
        "id": "jwtAKjvi6MHo"
      },
      "source": [
        "#questions = questions.drop(['Act_submit_Time'], axis = 1)"
      ],
      "execution_count": null,
      "outputs": []
    },
    {
      "cell_type": "code",
      "metadata": {
        "id": "9fyRmSU5c38Z"
      },
      "source": [
        "#questions.head()"
      ],
      "execution_count": null,
      "outputs": []
    },
    {
      "cell_type": "code",
      "metadata": {
        "id": "usQSDzApTRYE"
      },
      "source": [
        "#### 1 Activity id shold hold ( from 5 to 10 questions)\n",
        "\n",
        "questions['quest_id'] = np.random.randint(1, 1001, questions.shape[0])\n",
        "#questions['quest_id'] =random.choice( [\"q_\"+str(j) for j in range(1,1001)] , questions.shape[0] )"
      ],
      "execution_count": null,
      "outputs": []
    },
    {
      "cell_type": "code",
      "metadata": {
        "id": "Wz1gscWiTRbp"
      },
      "source": [
        "questions.head()"
      ],
      "execution_count": null,
      "outputs": []
    },
    {
      "cell_type": "code",
      "metadata": {
        "id": "CZPpm6JzTRet"
      },
      "source": [
        "questions.shape"
      ],
      "execution_count": null,
      "outputs": []
    },
    {
      "cell_type": "code",
      "metadata": {
        "id": "cohK8tU0TRi2"
      },
      "source": [
        "cp_for_quest = pd.DataFrame()"
      ],
      "execution_count": null,
      "outputs": []
    },
    {
      "cell_type": "code",
      "metadata": {
        "id": "H6GhFrsGTRkf"
      },
      "source": [
        "cp_for_quest[\"quest_id\"] = questions[\"quest_id\"]"
      ],
      "execution_count": null,
      "outputs": []
    },
    {
      "cell_type": "code",
      "metadata": {
        "id": "G8F01hNzWtl-"
      },
      "source": [
        "cp_for_quest.head()"
      ],
      "execution_count": null,
      "outputs": []
    },
    {
      "cell_type": "code",
      "metadata": {
        "id": "TGYUIqoEWto-"
      },
      "source": [
        "####### 1 question id should hold between ( 1 to 3 sub cps)\n",
        "\n",
        "cp_for_quest['sub_cp_id'] = np.random.randint(1, 4501, cp_for_quest.shape[0])  ##### estimated 4500 sub cp in all subjects"
      ],
      "execution_count": null,
      "outputs": []
    },
    {
      "cell_type": "code",
      "metadata": {
        "id": "G0-kijs0WtsA"
      },
      "source": [
        "cp_for_quest.head()"
      ],
      "execution_count": null,
      "outputs": []
    },
    {
      "cell_type": "code",
      "metadata": {
        "id": "I4cBc5skWtvM"
      },
      "source": [
        "####  1 cp should hold 1 to 3 sub_cps  ( each sub_cp   should match 1 learning object // doc - video .....)\n",
        "\n",
        "sub_cp = pd.DataFrame()"
      ],
      "execution_count": null,
      "outputs": []
    },
    {
      "cell_type": "code",
      "metadata": {
        "id": "At6y-cTsb7Aq"
      },
      "source": [
        "sub_cp['cp_id'] = np.random.randint(1, 1501, cp_for_quest.shape[0])   ##### estimated 1500 cp in all subjects"
      ],
      "execution_count": null,
      "outputs": []
    },
    {
      "cell_type": "code",
      "metadata": {
        "id": "pjRCyzFiWtxk"
      },
      "source": [
        "sub_cp['sub_cp_id'] = cp_for_quest['sub_cp_id'] "
      ],
      "execution_count": null,
      "outputs": []
    },
    {
      "cell_type": "code",
      "metadata": {
        "id": "RsuaGCzDb7G9"
      },
      "source": [
        "sub_cp['lo_id'] = np.random.randint(1, 5001, cp_for_quest.shape[0])  ##### estimated 5000 learning object in all subjects"
      ],
      "execution_count": null,
      "outputs": []
    },
    {
      "cell_type": "code",
      "metadata": {
        "id": "zYnq9H8zb7Dx"
      },
      "source": [
        "sub_cp.head()"
      ],
      "execution_count": null,
      "outputs": []
    },
    {
      "cell_type": "code",
      "metadata": {
        "id": "Y1ujF1wD0IRK"
      },
      "source": [
        ""
      ],
      "execution_count": null,
      "outputs": []
    },
    {
      "cell_type": "markdown",
      "metadata": {
        "id": "XSERu6kPmNk6"
      },
      "source": [
        "### Export to HTML"
      ]
    },
    {
      "cell_type": "markdown",
      "metadata": {
        "id": "QGo9gyGnQ2n1"
      },
      "source": [
        "## Export_graph_to_HTML"
      ]
    },
    {
      "cell_type": "code",
      "metadata": {
        "id": "Xvd5JyHumRPS"
      },
      "source": [
        "import plotly\n",
        "import plotly.graph_objs as go\n",
        "import pandas as pd\n",
        "df = pd.read_csv('https://raw.githubusercontent.com/pcm-dpc/COVID-19/master/dati-andamento-nazionale/dpc-covid19-ita-andamento-nazionale.csv')\n",
        "# Create a trace\n",
        "data = [go.Scatter(\n",
        "    x = df['data'],\n",
        "    y = df['totale_positivi'],\n",
        ")]\n",
        "layout = go.Layout(\n",
        "        xaxis=dict(\n",
        "            title='Data',    \n",
        "        ),\n",
        "        yaxis=dict(\n",
        "            title='Totale positivi',  \n",
        "        )\n",
        "    )\n",
        "fig = go.Figure(data=data, layout=layout)"
      ],
      "execution_count": null,
      "outputs": []
    },
    {
      "cell_type": "code",
      "metadata": {
        "id": "BRU-c4dnmSJ3"
      },
      "source": [
        "fig.show()"
      ],
      "execution_count": null,
      "outputs": []
    },
    {
      "cell_type": "code",
      "metadata": {
        "id": "lq2l3LmmqcuO"
      },
      "source": [
        "plotly.offline.plot(fig,filename='positives.html',config={'displayModeBar': False},auto_open = True)"
      ],
      "execution_count": null,
      "outputs": []
    },
    {
      "cell_type": "code",
      "metadata": {
        "id": "55nt3Bv7qzoF"
      },
      "source": [
        "#webbrowser.open('file://' + os.path.realpath(positives.html))\n",
        "\n",
        "with open('positives.html', 'r') as f:\n",
        "    html_string = f.read()"
      ],
      "execution_count": null,
      "outputs": []
    },
    {
      "cell_type": "markdown",
      "metadata": {
        "id": "qx_b8Wv5RClI"
      },
      "source": [
        "End of Try 1"
      ]
    },
    {
      "cell_type": "code",
      "metadata": {
        "id": "h-qTJ6bsuLiq"
      },
      "source": [
        ""
      ],
      "execution_count": null,
      "outputs": []
    },
    {
      "cell_type": "code",
      "metadata": {
        "id": "SRx6yYX6yNcK"
      },
      "source": [
        ""
      ],
      "execution_count": null,
      "outputs": []
    },
    {
      "cell_type": "code",
      "metadata": {
        "id": "xw2rIroDyNZE"
      },
      "source": [
        ""
      ],
      "execution_count": null,
      "outputs": []
    },
    {
      "cell_type": "code",
      "metadata": {
        "id": "mnidPTrMyNVM"
      },
      "source": [
        ""
      ],
      "execution_count": null,
      "outputs": []
    },
    {
      "cell_type": "markdown",
      "metadata": {
        "id": "77IZ4SCuRH_K"
      },
      "source": [
        "Try 2"
      ]
    },
    {
      "cell_type": "code",
      "metadata": {
        "id": "DQlJS59iyNSB"
      },
      "source": [
        "!pip install plotly\n",
        "!pip install chart_studio"
      ],
      "execution_count": null,
      "outputs": []
    },
    {
      "cell_type": "code",
      "metadata": {
        "id": "CtBmJ-uvyYpt"
      },
      "source": [
        "import plotly.express as px\n",
        "import chart_studio"
      ],
      "execution_count": null,
      "outputs": []
    },
    {
      "cell_type": "code",
      "metadata": {
        "id": "qjl5tgx-2NQd"
      },
      "source": [
        "gapminder = px.data.gapminder()\n",
        "gapminder"
      ],
      "execution_count": null,
      "outputs": []
    },
    {
      "cell_type": "code",
      "metadata": {
        "id": "ComkHHFVyNOI"
      },
      "source": [
        "gapminder = px.data.gapminder()\n",
        "fig = px.scatter(gapminder.query(\"year==2007\"), x=\"gdpPercap\", y=\"lifeExp\", size=\"pop\", color=\"continent\",\n",
        "           hover_name=\"country\", log_x=True, size_max=60)\n",
        "fig.show()"
      ],
      "execution_count": null,
      "outputs": []
    },
    {
      "cell_type": "code",
      "metadata": {
        "id": "arN111bmyO4x"
      },
      "source": [
        "username = 'Eng.aldoseri' # your username\n",
        "api_key = '7MU0wS3Gp1VOF6IqRFiw' # your api key - go to profile > settings > regenerate key\n",
        "chart_studio.tools.set_credentials_file(username=username, api_key=api_key)"
      ],
      "execution_count": null,
      "outputs": []
    },
    {
      "cell_type": "code",
      "metadata": {
        "id": "hmO9sGVD1hTO"
      },
      "source": [
        "import chart_studio.plotly as py\n",
        "py.plot(fig, filename = 'gdp_per_cap', auto_open=True)"
      ],
      "execution_count": null,
      "outputs": []
    },
    {
      "cell_type": "code",
      "metadata": {
        "id": "F5mDlrwl1l-S"
      },
      "source": [
        ""
      ],
      "execution_count": null,
      "outputs": []
    },
    {
      "cell_type": "code",
      "metadata": {
        "id": "gH7510n-2MQD"
      },
      "source": [
        ""
      ],
      "execution_count": null,
      "outputs": []
    },
    {
      "cell_type": "code",
      "metadata": {
        "id": "B61NBljf2NY0"
      },
      "source": [
        "####### implemented to our dataset"
      ],
      "execution_count": null,
      "outputs": []
    },
    {
      "cell_type": "code",
      "metadata": {
        "id": "FdtZdsbg2N5u"
      },
      "source": [
        "#gapminder = px.data.gapminder()\n",
        "fig = px.scatter(dt_st.query(\"student_ID=='080102434S'\"), x=\"Act_submit_Time\", y=\"Act_mark\",  color=\"Course_code\",size=\"Act_mark\",\n",
        "           hover_name=\"Act_mark\")\n",
        "fig.show()"
      ],
      "execution_count": null,
      "outputs": []
    },
    {
      "cell_type": "code",
      "metadata": {
        "id": "fC8TD9oSRxna"
      },
      "source": [
        "username = 'Eng.aldoseri' # your username\n",
        "api_key = '7MU0wS3Gp1VOF6IqRFiw' # your api key - go to profile > settings > regenerate key\n",
        "chart_studio.tools.set_credentials_file(username=username, api_key=api_key)"
      ],
      "execution_count": null,
      "outputs": []
    },
    {
      "cell_type": "code",
      "metadata": {
        "id": "PE6PKJ7hR01y"
      },
      "source": [
        "import chart_studio.plotly as py\n",
        "py.plot(fig, filename = 'gdp_per_cap', auto_open=True)"
      ],
      "execution_count": null,
      "outputs": []
    },
    {
      "cell_type": "markdown",
      "metadata": {
        "id": "qXE7hPBHR2ai"
      },
      "source": [
        "End of Try 2"
      ]
    },
    {
      "cell_type": "code",
      "metadata": {
        "id": "92lp5ijFEejo"
      },
      "source": [
        ""
      ],
      "execution_count": null,
      "outputs": []
    },
    {
      "cell_type": "code",
      "metadata": {
        "id": "MQm0vpXsTKp_"
      },
      "source": [
        ""
      ],
      "execution_count": null,
      "outputs": []
    },
    {
      "cell_type": "code",
      "metadata": {
        "id": "-jTRHdUCTKh0"
      },
      "source": [
        ""
      ],
      "execution_count": null,
      "outputs": []
    },
    {
      "cell_type": "code",
      "metadata": {
        "id": "TgxMNuzFTKdz"
      },
      "source": [
        ""
      ],
      "execution_count": null,
      "outputs": []
    },
    {
      "cell_type": "markdown",
      "metadata": {
        "id": "_8Fy_c-1TLTU"
      },
      "source": [
        "Try 3"
      ]
    },
    {
      "cell_type": "code",
      "metadata": {
        "id": "_9k-UqL_TN7N"
      },
      "source": [
        "import plotly.graph_objs as go\n",
        "import plotly as plotly\n",
        "import plotly.express as px"
      ],
      "execution_count": null,
      "outputs": []
    },
    {
      "cell_type": "code",
      "metadata": {
        "id": "j4Bt7GzdTOrG"
      },
      "source": [
        "data = px.data.gapminder()\n",
        "\n",
        "data_canada = data[data.country == 'Canada']\n",
        "fig = px.bar(data_canada, x='year', y='pop',\n",
        "             hover_data=['lifeExp', 'gdpPercap'], color='lifeExp',\n",
        "             labels={'pop':'population of Canada'}, height=400)"
      ],
      "execution_count": null,
      "outputs": []
    },
    {
      "cell_type": "code",
      "metadata": {
        "id": "vOuth41MTRpT"
      },
      "source": [
        "plotly.offline.plot(fig, filename= \"output_filename\" + \".html\")\n"
      ],
      "execution_count": null,
      "outputs": []
    },
    {
      "cell_type": "code",
      "metadata": {
        "id": "18JuJYa6TU4D"
      },
      "source": [
        ""
      ],
      "execution_count": null,
      "outputs": []
    },
    {
      "cell_type": "code",
      "metadata": {
        "id": "9EfW4DLcYDo7"
      },
      "source": [
        ""
      ],
      "execution_count": null,
      "outputs": []
    },
    {
      "cell_type": "code",
      "metadata": {
        "id": "K1bKOoahYDiW"
      },
      "source": [
        ""
      ],
      "execution_count": null,
      "outputs": []
    },
    {
      "cell_type": "code",
      "metadata": {
        "id": "Sva2QHKIYEvD"
      },
      "source": [
        ""
      ],
      "execution_count": null,
      "outputs": []
    },
    {
      "cell_type": "markdown",
      "metadata": {
        "id": "IW3PsJerS57i"
      },
      "source": [
        "## Dashboard Graph"
      ]
    },
    {
      "cell_type": "markdown",
      "metadata": {
        "id": "jBzyAOXftLVP"
      },
      "source": [
        "## Add radio button to the graph"
      ]
    },
    {
      "cell_type": "code",
      "metadata": {
        "id": "oDzn_7lYDYk9"
      },
      "source": [
        "###### try to add radio button"
      ],
      "execution_count": null,
      "outputs": []
    },
    {
      "cell_type": "code",
      "metadata": {
        "id": "XiS4qPzBklRi"
      },
      "source": [
        "std_d={}\n",
        "for st in  dt_st.student_ID.unique():\n",
        "  std_d[st]=dt_st[dt_st.student_ID==st][\"Course_code\"].unique()"
      ],
      "execution_count": null,
      "outputs": []
    },
    {
      "cell_type": "code",
      "metadata": {
        "id": "cj882ALHkYoo"
      },
      "source": [
        "from ipywidgets import interact, Dropdown, Checkbox\n",
        "\n",
        "stID = Dropdown(options = std_d.keys())\n",
        "course = Dropdown(options = std_d[stID.value]) # options = std_d[stID.value] is to remove inital error but not that necessary.\n",
        "box = Checkbox(False, description='Quizz/Assignment')\n",
        "\n",
        "\n",
        "@interact(st = stID, cs = course, chkbx= box)\n",
        "def print_cs(st, cs,chkbx ):\n",
        "    course.options = std_d[st] # Here is the trick, i.e. update course.options based on st, namely stID.value.\n",
        "    # print(st, cs)\n",
        "    dt_st.query(f\"Course_code=='{cs}' & student_ID=='{st}'\")"
      ],
      "execution_count": null,
      "outputs": []
    },
    {
      "cell_type": "code",
      "metadata": {
        "id": "55w1moH-PNAl"
      },
      "source": [
        "std=\"070327176S\"\n",
        "cs=\"g5_2\"\n",
        "st_type_0= dt_st.query(f\"student_ID=='{std}' & Course_code=='{cs}' & Activity_type=='0'\")\n",
        "st_type_1= dt_st.query(f\"student_ID=='{std}' & Course_code=='{cs}' & Activity_type=='1'\")\n",
        "\n",
        "\n",
        "\n",
        "\n",
        "#### to add radio button\n",
        "\n",
        "\n",
        "def f(actype):\n",
        "    control = actype\n",
        "    if control == 'Quiz': \n",
        "        data=st_type_0\n",
        "        #data.plot()\n",
        "        #plt.show()\n",
        "\n",
        "    elif control== 'Assignment':\n",
        "        data=st_type_1\n",
        "        #data.plot()\n",
        "        #plt.show() \n",
        "    return actype\n",
        "\n",
        "\n",
        "interact(f, actype = widgets.RadioButtons(\n",
        "options=['Quiz', 'Assignment'],\n",
        "description='Choose:',\n",
        "disabled=False))\n",
        "\n",
        "\n",
        "\n",
        "\n",
        "\n",
        "############ end of radio button \n",
        "\n",
        "dt_st.loc[\"Act_submit_Time\"]=dt_st[\"Act_submit_Time\"].astype(str)\n",
        "dt_tmp= dt_st.query(f\"student_ID=='{std}' & Course_code=='{cs}' \")[[\"Act_mark\", \"Activity_id\",\"Act_submit_Time\" ]]\n",
        "dt_tmp[\"Act_submit_Time\"]=pd.to_datetime(dt_tmp.Act_submit_Time, format=\"%Y-%m-%d\")\n",
        "dt_tmp.sort_values(by= \"Act_submit_Time\", inplace=True)\n",
        "# dt_tmp[\"Act_submit_Time\"]= dt_tmp.Act_submit_Time.astype(\"category\")\n",
        "\n",
        "\n",
        "# selected student activities\n",
        "dt_tmp"
      ],
      "execution_count": null,
      "outputs": []
    },
    {
      "cell_type": "code",
      "metadata": {
        "id": "qUHg3bxSPSej"
      },
      "source": [
        "# All Students having the same Activity as ABove\n",
        "df_stAct=pd.DataFrame()\n",
        "\n",
        "avt_type_0= df_avt.query(f\" Activity_id=='{std}' & Activity_type=='0'\")\n",
        "avt_type_1= df_avt.query(f\"Activity_id=='{std}' & Activity_type=='1'\")\n",
        "\n",
        "\n",
        "\n",
        "Mark_type= avt_type_1   if chk  else  avt_type_0\n",
        "Time_type= avt_type_1  if chk   else avt_type_0\n",
        "\n",
        "\n",
        "for col, time in zip(\n",
        "    dt_tmp[\"Activity_id\"],\n",
        "    dt_tmp.Act_submit_Time.unique()):\n",
        "  df_bx=pd.DataFrame()\n",
        "  df_bx=df_avt.query(f\"Activity_id== '{col}' ###### TYPE\")[[\"Activity_id\", \"Act_mark\"]]\n",
        "  df_bx[\"Act_submit_Time\"]= pd.to_datetime(time).strftime(\"%Y-%m-%d\")\n",
        "  df_stAct= pd.concat([\n",
        "                       df_stAct, df_bx\n",
        "  ])\n",
        "df_stAct.sort_values(by=\"Act_submit_Time\", inplace=True)\n",
        "df_stAct[\"Act_submit_Time\"]= df_stAct.Act_submit_Time.astype(\"category\")\n",
        "df_stAct"
      ],
      "execution_count": null,
      "outputs": []
    },
    {
      "cell_type": "code",
      "metadata": {
        "id": "e-9EDlAVPYDH"
      },
      "source": [
        "#Combine Graph\n",
        "import seaborn as sns \n",
        "import matplotlib.pyplot as plt\n",
        "\n",
        "fg, ax= plt.subplots( figsize=(20,8))\n",
        "\n",
        "\n",
        "sns.boxplot(x=\"Activity_id\" ,  y= \"Act_mark\", data=df_stAct , ax=ax ,width= 0.3)\n",
        "sns.lineplot(\n",
        "    x=\"Activity_id\",\n",
        "    y= \"Act_mark\", marker='o',\n",
        "    data=dt_tmp  , ax=ax )\n",
        "ax.set_xticklabels(dt_tmp.Act_submit_Time.unique())\n",
        "plt.title(\"Student's mark compared to other students\" , fontsize=20)\n",
        "plt.xlabel(\"Date\" , fontsize=20)\n",
        "plt.ylabel(\"Mark\" , fontsize=20)\n",
        "plt.xticks(rotation=45)\n",
        "plt.grid()\n",
        "plt.show()\n",
        "\n"
      ],
      "execution_count": null,
      "outputs": []
    },
    {
      "cell_type": "markdown",
      "metadata": {
        "id": "MKZz_LpKteBw"
      },
      "source": [
        "## Add check box to old graph"
      ]
    },
    {
      "cell_type": "code",
      "metadata": {
        "id": "Z3P-9RPygpcg"
      },
      "source": [
        "####  edit old graph "
      ],
      "execution_count": null,
      "outputs": []
    },
    {
      "cell_type": "code",
      "metadata": {
        "id": "LRf5sZgngvRM"
      },
      "source": [
        "import ipywidgets as widgets \n",
        "from ipywidgets import interact\n",
        "from matplotlib.dates import DateFormatter"
      ],
      "execution_count": null,
      "outputs": []
    },
    {
      "cell_type": "code",
      "metadata": {
        "id": "roNc2i6ju8OF"
      },
      "source": [
        "dt_st.info()"
      ],
      "execution_count": null,
      "outputs": []
    },
    {
      "cell_type": "code",
      "metadata": {
        "id": "H4YNpwJJgv4E"
      },
      "source": [
        "std_d={}\n",
        "for st  in (dt_st.student_ID.unique() ):\n",
        "  std_d[st]=dt_st[dt_st.student_ID==st][\"Course_code\"].unique()\n",
        "\n",
        "\n",
        "\n",
        "# dt_tmp= dt_st.query(f\"student_ID=='{std}' & Course_code=='{cs}' & Activity_type=='0'\")[[\"Act_mark\", \"Activity_id\",\"Act_submit_Time\" ]]\n",
        "# dt_tmp[\"Act_submit_Time\"]=pd.to_datetime(dt_tmp.Act_submit_Time, format=\"%Y-%m-%d\")\n",
        "# dt_tmp.sort_values(by= \"Act_submit_Time\", inplace=True)"
      ],
      "execution_count": null,
      "outputs": []
    },
    {
      "cell_type": "code",
      "metadata": {
        "id": "iRbBx9dfusSX"
      },
      "source": [
        "from ipywidgets import interact, Dropdown, Checkbox\n",
        "\n",
        "stID = Dropdown(options = std_d.keys())\n",
        "course = Dropdown(options = std_d[stID.value]) # options = std_d[stID.value] is to remove inital error but not that necessary.\n",
        "box = Checkbox(False, description='View Assignments')\n",
        "\n",
        "\n",
        "@interact(st = stID, cs = course, chkbx= box )\n",
        "def print_cs(st, cs,chkbx ):\n",
        "    course.options = std_d[st] # Here is the trick, i.e. update course.options based on st, namely stID.value.\n",
        "    # print(st, cs)\n",
        "    dt_st.query(f\"Course_code=='{cs}' & student_ID=='{st}'\")\n",
        "\n"
      ],
      "execution_count": null,
      "outputs": []
    },
    {
      "cell_type": "code",
      "metadata": {
        "id": "HFZamQFxuvr5"
      },
      "source": [
        "def plot_std_Data(st, cs, chk ,time_sec , status=False):\n",
        "  course.options = std_d[st]\n",
        "  plt.rcParams.update({'font.size': 25})\n",
        "  \n",
        "\n",
        "  #  subplots   x, y  :  should be related to the number of Activity_type of current student.\n",
        "\n",
        "\n",
        "  fig, ax=plt.subplots(1, 2, figsize=(30,7) )\n",
        "  plt.subplots_adjust(top = 0.99, bottom=0.01,wspace=0.4)\n",
        "\n",
        "\n",
        "\n",
        "##########----------------------------   FOR PREDICTON PURPOSE  ---------------------------------------------------##########\n",
        "  if status:\n",
        "    ref_q=dt_st.reset_index().query(f\"student_ID=='{st}' & Course_code=='{cs}' & Activity_type=='0' \").Act_submit_Time.max()\n",
        "    xq_point=[ref_q, ref_q+ timedelta(days=7)]\n",
        "    yq_point=[dt_st.loc[ref_q, \"Act_mark\"]       , predict_std.reset_index().query(f\"student_ID=='{st}'  & Course_code=='{cs}' & Activity_type=='0' \").last_mark]\n",
        "    ax[0,1].plot(xq_point , yq_point, linestyle='dashed', marker='o',\n",
        "                 markerfacecolor='blue', markersize=12)\n",
        "    \n",
        "\n",
        "    ref_a=dt_st.reset_index().query(f\"student_ID=='{st}' & Course_code=='{cs}' & Activity_type=='1' \").Act_submit_Time.max()\n",
        "    xa_point=[ref_a, ref_a+ timedelta(days=7)]\n",
        "    ya_point=[dt_st.loc[ref_a, \"Act_mark\"]       , predict_std.reset_index().query(f\"student_ID=='{st}'  & Course_code=='{cs}' & Activity_type=='0' \").last_mark]\n",
        "    ax[0,0].plot(xa_point , ya_point, linestyle='dashed', marker='o',\n",
        "                 markerfacecolor='blue', markersize=12)\n",
        "\n",
        "###########-----------------------------------------------------------------------------------------------------##########\n",
        "\n",
        "\n",
        "\n",
        "  dt_st.query(f\"Course_code=='{cs}' & student_ID=='{st}' & Activity_type=='{chk}' & Act_submit_Time=='{time_sec}'\").Act_mark.plot( \n",
        "      subplots=True,marker=\"o\",    ax=ax[0] , color=\"brown\")\n",
        "   \n",
        " \n",
        "  dt_st.query(f\"Course_code=='{cs}' & student_ID=='{st}' & Activity_type=='{chk}' & Act_submit_Time=='{time_sec}'\").Act_time.plot( \n",
        "      subplots=True, marker=\"s\",   ax=ax[1] , color=\"green\")\n",
        "\n",
        "\n",
        "    # ---------------------------------------------------------------------\n",
        "  # Set title and labels for left graph\n",
        "  \n",
        "  left_label=\"Assignments Mark\"   if chk  else  \"Quizz Mark \"\n",
        "  left_title= \" Assignement Mark / Month Timeline\"  if chk   else \" Quiz Mark / Month Timeline\"\n",
        "  \n",
        "\n",
        "  #ax[0].set_xticklabels(dt_st.Act_submit_Time.unique())\n",
        "\n",
        "\n",
        "  ax[0].set(xlabel=time_sec,\n",
        "        ylabel= left_label,  \n",
        "        title=left_title ) \n",
        "  fig.autofmt_xdate(rotation=45)\n",
        "\n",
        "  ax[0].xaxis.set_major_formatter(DateFormatter(\"%Y-%b\"))\n",
        "  ax[0].grid()\n",
        "  ax[0].legend()\n",
        "  ax[0].xaxis.set_major_formatter(DateFormatter(\"%Y-%b\"))\n",
        "\n",
        "\n",
        "# ----------------------------------------------------------------------\n",
        "\n",
        "  # Set title and labels for right graph\n",
        "\n",
        "  right_label=\"Assignments Time\"   if chk  else  \"Quizz Time \"\n",
        "  right_title= \" Assignement Submition Time / Month Timeline\"  if chk   else \" Quiz Submition Time / Month Timeline\"\n",
        " \n",
        "\n",
        "  ax[1].set(\n",
        "        ylabel=  right_label, # \"Quizz Mark\"\n",
        "        title=right_title )\n",
        "  ax[1].grid()\n",
        "  ax[1].legend()\n",
        "  \n",
        "  fig.autofmt_xdate(rotation=45)\n",
        "#-----------------------------------------------------------------------\n",
        "  ax[1].xaxis.set_major_formatter(DateFormatter(\"%Y-%b\"))\n",
        "      \n",
        "  plt.show()"
      ],
      "execution_count": null,
      "outputs": []
    },
    {
      "cell_type": "code",
      "metadata": {
        "id": "4-mwk5l8uzjz"
      },
      "source": [
        "@interact(st = stID, cs = course, chkbx= box)\n",
        "def plot_data( st, cs, chkbx ):\n",
        "  #print(((chkbx)+0))\n",
        "  \n",
        "  # print(predict_std.reset_index().query(f\"Course_code=='{cs}' & student_ID=='{st}'\"))\n",
        "  plot_std_Data(st, cs, ((chkbx)+0))"
      ],
      "execution_count": null,
      "outputs": []
    },
    {
      "cell_type": "code",
      "metadata": {
        "id": "REQTjNV1uns0"
      },
      "source": [
        ""
      ],
      "execution_count": null,
      "outputs": []
    },
    {
      "cell_type": "code",
      "metadata": {
        "id": "4dXsby4HunpQ"
      },
      "source": [
        ""
      ],
      "execution_count": null,
      "outputs": []
    },
    {
      "cell_type": "code",
      "metadata": {
        "id": "8B9MZfj4unlv"
      },
      "source": [
        ""
      ],
      "execution_count": null,
      "outputs": []
    },
    {
      "cell_type": "code",
      "metadata": {
        "id": "yWgd0VTOunhn"
      },
      "source": [
        ""
      ],
      "execution_count": null,
      "outputs": []
    },
    {
      "cell_type": "code",
      "metadata": {
        "id": "KGnBaIUUuna9"
      },
      "source": [
        ""
      ],
      "execution_count": null,
      "outputs": []
    },
    {
      "cell_type": "code",
      "metadata": {
        "id": "Wk4wPOKVuitm"
      },
      "source": [
        "##### TRY 2 CHECK BOXES"
      ],
      "execution_count": null,
      "outputs": []
    },
    {
      "cell_type": "code",
      "metadata": {
        "id": "lyL64zdwhAGw"
      },
      "source": [
        "from ipywidgets import interact, Dropdown, Checkbox\n",
        "\n",
        "stID = Dropdown(options = std_d.keys())\n",
        "course = Dropdown(options = std_d[stID.value]) # options = std_d[stID.value] is to remove inital error but not that necessary.\n",
        "box1 = Checkbox(False, description='Quiz')\n",
        "box2 = Checkbox(False, description='Assignment')\n",
        "\n",
        "\n",
        "@interact(st = stID, cs = course, chkbx1= box1 , chkbx2= box2)\n",
        "def print_cs(st, cs,chkbx1 , chkbx2):\n",
        "    course.options = std_d[st] # Here is the trick, i.e. update course.options based on st, namely stID.value.\n",
        "    # print(st, cs)\n",
        "    dt_st.query(f\"Course_code=='{cs}' & student_ID=='{st}'\")\n",
        "\n"
      ],
      "execution_count": null,
      "outputs": []
    },
    {
      "cell_type": "code",
      "metadata": {
        "id": "Kx_TzlWks7hX"
      },
      "source": [
        ""
      ],
      "execution_count": null,
      "outputs": []
    },
    {
      "cell_type": "code",
      "metadata": {
        "id": "Vx2Ref_6tDON"
      },
      "source": [
        ""
      ],
      "execution_count": null,
      "outputs": []
    },
    {
      "cell_type": "markdown",
      "metadata": {
        "id": "IQCABplLtVG8"
      },
      "source": [
        "## Try examples section"
      ]
    },
    {
      "cell_type": "code",
      "metadata": {
        "id": "se33SJ5oP7Q5"
      },
      "source": [
        "#### Try examples here"
      ],
      "execution_count": null,
      "outputs": []
    },
    {
      "cell_type": "code",
      "metadata": {
        "id": "0txo7YQXP7N0"
      },
      "source": [
        "from ipywidgets import interact\n",
        "import ipywidgets as widgets\n",
        "import numpy as np\n",
        "import pandas as pd\n",
        "import matplotlib.pyplot as plt\n",
        "from IPython.display import display\n",
        "import scipy as sci\n",
        "\n",
        "# I create two dataset\n",
        "x = np.linspace(0, 2*np.pi, 2000)\n",
        "y1=np.sin(2*x)\n",
        "y2=np.sin(4*x)\n",
        "y3=np.sin(8*x)\n",
        "\n",
        "f1=np.exp(-x**2)\n",
        "f2=np.exp(-2*x**2)\n",
        "f3=np.exp(-3*x**2)\n",
        "\n",
        "ms=[y1,y2,y3]\n",
        "mt=[f1,f2,f3]\n",
        "ms=np.transpose(ms)\n",
        "mt=np.transpose(mt)\n",
        "dataset_1=pd.DataFrame(ms)\n",
        "dataset_2=pd.DataFrame(mt)\n",
        "\n",
        "\n",
        "def f(Dataset):\n",
        "    control = Dataset\n",
        "    if control == 'dataset 1': \n",
        "        data=dataset_1\n",
        "        data.plot()\n",
        "        plt.show()\n",
        "\n",
        "    elif control== 'dataset 2':\n",
        "        data=dataset_2\n",
        "        data.plot()\n",
        "        plt.show() \n",
        "    return Dataset\n",
        "\n",
        "\n",
        "interact(f, Dataset = widgets.RadioButtons(\n",
        "options=['dataset 1', 'dataset 2'],\n",
        "description='Switching:',\n",
        "disabled=False))"
      ],
      "execution_count": null,
      "outputs": []
    },
    {
      "cell_type": "code",
      "metadata": {
        "id": "cInAJNP7P8LH"
      },
      "source": [
        ""
      ],
      "execution_count": null,
      "outputs": []
    },
    {
      "cell_type": "code",
      "metadata": {
        "id": "_g-S2-RmgpgN"
      },
      "source": [
        ""
      ],
      "execution_count": null,
      "outputs": []
    },
    {
      "cell_type": "code",
      "metadata": {
        "id": "erYS1ZFTqlMo"
      },
      "source": [
        "from ipywidgets import Layout, Button, Box\n",
        "\n",
        "items_layout = Layout( width='auto')     # override the default width of the button to 'auto' to let the button grow\n",
        "\n",
        "box_layout = Layout(display='flex',\n",
        "                    flex_flow='column',\n",
        "                    align_items='stretch',\n",
        "                    border='solid',\n",
        "                    width='50%')\n",
        "\n",
        "words = ['correct', 'horse', 'battery', 'staple']\n",
        "items = [Button(description=word, layout=items_layout, button_style='danger') for word in words]\n",
        "box = Box(children=items, layout=box_layout)\n",
        "box"
      ],
      "execution_count": null,
      "outputs": []
    },
    {
      "cell_type": "code",
      "metadata": {
        "id": "rGv7FCvjqlGF"
      },
      "source": [
        "from IPython.core.display import display, HTML\n",
        "display(HTML('<a href=\"https://stackoverflow.com/questions/25698448/how-to-embed-html-into-ipython-output\"   target=\"_blank\">Hello, world!</a>'))"
      ],
      "execution_count": null,
      "outputs": []
    },
    {
      "cell_type": "markdown",
      "metadata": {
        "id": "e8cBr36_OXhc"
      },
      "source": [
        ""
      ]
    },
    {
      "cell_type": "code",
      "metadata": {
        "id": "xdZS0k1pqlCj"
      },
      "source": [
        "from IPython.display import IFrame\n",
        "\n",
        "IFrame(src='https://youtu.be/vX8hmygN_v0', width=700, height=600 )"
      ],
      "execution_count": null,
      "outputs": []
    },
    {
      "cell_type": "code",
      "metadata": {
        "id": "_Xr8AWHJqk-J"
      },
      "source": [
        "from IPython.display import YouTubeVideo\n",
        "\n",
        "YouTubeVideo('WSbgixdC9g8', width=800, height=300)"
      ],
      "execution_count": null,
      "outputs": []
    },
    {
      "cell_type": "code",
      "metadata": {
        "id": "-ELKgGchqk60"
      },
      "source": [
        ""
      ],
      "execution_count": null,
      "outputs": []
    }
  ]
}